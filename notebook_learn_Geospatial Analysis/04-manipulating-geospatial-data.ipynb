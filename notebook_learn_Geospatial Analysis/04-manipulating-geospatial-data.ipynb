{
 "cells": [
  {
   "cell_type": "markdown",
   "id": "f8c0cb7e",
   "metadata": {
    "papermill": {
     "duration": 0.011716,
     "end_time": "2024-01-16T04:49:29.517592",
     "exception": false,
     "start_time": "2024-01-16T04:49:29.505876",
     "status": "completed"
    },
    "tags": []
   },
   "source": [
    "**This notebook is an exercise in the [Geospatial Analysis](https://www.kaggle.com/learn/geospatial-analysis) course.  You can reference the tutorial at [this link](https://www.kaggle.com/alexisbcook/manipulating-geospatial-data).**\n",
    "\n",
    "---\n"
   ]
  },
  {
   "cell_type": "markdown",
   "id": "b19035f7",
   "metadata": {
    "papermill": {
     "duration": 0.011011,
     "end_time": "2024-01-16T04:49:29.540048",
     "exception": false,
     "start_time": "2024-01-16T04:49:29.529037",
     "status": "completed"
    },
    "tags": []
   },
   "source": [
    "# Introduction\n",
    "\n",
    "You are a Starbucks big data analyst ([that’s a real job!](https://www.forbes.com/sites/bernardmarr/2018/05/28/starbucks-using-big-data-analytics-and-artificial-intelligence-to-boost-performance/#130c7d765cdc)) looking to find the next store into a [Starbucks Reserve Roastery](https://www.businessinsider.com/starbucks-reserve-roastery-compared-regular-starbucks-2018-12#also-on-the-first-floor-was-the-main-coffee-bar-five-hourglass-like-units-hold-the-freshly-roasted-coffee-beans-that-are-used-in-each-order-the-selection-rotates-seasonally-5).  These roasteries are much larger than a typical Starbucks store and have several additional features, including various food and wine options, along with upscale lounge areas.  You'll investigate the demographics of various counties in the state of California, to determine potentially suitable locations.\n",
    "\n",
    "あなたはスターバックスのビッグデータアナリスト（[これが本当の仕事だ！](https://www.forbes.com/sites/bernardmarr/2018/05/28/starbucks-using-big-data-analytics-and-artificial-intelligence-to-boost-performance/#130c7d765cdc)）で、次の店舗を[スターバックス リザーブ ロースタリー](https://www.businessinsider.com/starbucks-reserve-roastery-compared-regular-starbucks-2018-12#also-on-the-first-floor-was-the-main-coffee-bar-five-hourglass-like-units-hold-the-freshly-roasted-coffee-beans-that-are-used-in-each-order-the-selection-rotates-seasonally-5)にしようと探している。 これらのロースターは、典型的なスターバックスの店舗よりもはるかに大きく、高級なラウンジエリアとともに、様々な食べ物やワインのオプションなど、いくつかの追加機能を備えています。 カリフォルニア州の様々な郡の人口統計を調査し、適切な場所の可能性を判断する。\n",
    "\n",
    "<center>\n",
    "<img src=\"https://storage.googleapis.com/kaggle-media/learn/images/BIyE6kR.png\" width=\"450\"><br/><br/>\n",
    "</center>\n",
    "\n",
    "Before you get started, run the code cell below to set everything up.\n",
    "始める前に、以下のコード・セルを実行してすべてをセットアップしてください。"
   ]
  },
  {
   "cell_type": "code",
   "execution_count": 1,
   "id": "a166e761",
   "metadata": {
    "execution": {
     "iopub.execute_input": "2024-01-16T04:49:29.564916Z",
     "iopub.status.busy": "2024-01-16T04:49:29.564221Z",
     "iopub.status.idle": "2024-01-16T04:49:31.891983Z",
     "shell.execute_reply": "2024-01-16T04:49:31.890720Z"
    },
    "papermill": {
     "duration": 2.34332,
     "end_time": "2024-01-16T04:49:31.894608",
     "exception": false,
     "start_time": "2024-01-16T04:49:29.551288",
     "status": "completed"
    },
    "tags": []
   },
   "outputs": [],
   "source": [
    "import math\n",
    "import pandas as pd\n",
    "import geopandas as gpd\n",
    "#from geopy.geocoders import Nominatim            # What you'd normally run\n",
    "from learntools.geospatial.tools import Nominatim # Just for this exercise\n",
    "\n",
    "import folium \n",
    "from folium import Marker\n",
    "from folium.plugins import MarkerCluster\n",
    "\n",
    "from learntools.core import binder\n",
    "binder.bind(globals())\n",
    "from learntools.geospatial.ex4 import *"
   ]
  },
  {
   "cell_type": "markdown",
   "id": "71c7e28b",
   "metadata": {
    "papermill": {
     "duration": 0.011051,
     "end_time": "2024-01-16T04:49:31.917338",
     "exception": false,
     "start_time": "2024-01-16T04:49:31.906287",
     "status": "completed"
    },
    "tags": []
   },
   "source": [
    "You'll use the `embed_map()` function from the previous exercise to visualize your maps.\n",
    "\n",
    "マップを視覚化するには、前の練習で使った `embed_map()` 関数を使います。"
   ]
  },
  {
   "cell_type": "code",
   "execution_count": 2,
   "id": "0a5b91af",
   "metadata": {
    "execution": {
     "iopub.execute_input": "2024-01-16T04:49:31.942939Z",
     "iopub.status.busy": "2024-01-16T04:49:31.942528Z",
     "iopub.status.idle": "2024-01-16T04:49:31.948803Z",
     "shell.execute_reply": "2024-01-16T04:49:31.947601Z"
    },
    "papermill": {
     "duration": 0.021782,
     "end_time": "2024-01-16T04:49:31.951509",
     "exception": false,
     "start_time": "2024-01-16T04:49:31.929727",
     "status": "completed"
    },
    "tags": []
   },
   "outputs": [],
   "source": [
    "def embed_map(m, file_name):\n",
    "    from IPython.display import IFrame\n",
    "    m.save(file_name)\n",
    "    return IFrame(file_name, width='100%', height='500px')"
   ]
  },
  {
   "cell_type": "markdown",
   "id": "0b2d5329",
   "metadata": {
    "papermill": {
     "duration": 0.01142,
     "end_time": "2024-01-16T04:49:31.974352",
     "exception": false,
     "start_time": "2024-01-16T04:49:31.962932",
     "status": "completed"
    },
    "tags": []
   },
   "source": [
    "# Exercises\n",
    "\n",
    "### 1) Geocode the missing locations.\n",
    "\n",
    "Run the next code cell to create a DataFrame `starbucks` containing Starbucks locations in the state of California.\n",
    "\n",
    "# 練習問題\n",
    "\n",
    "### 1) 足りない場所をジオコーディングする。\n",
    "\n",
    "次のコードセルを実行して、カリフォルニア州のスターバックスの場所を含む DataFrame `starbucks` を作成する。"
   ]
  },
  {
   "cell_type": "code",
   "execution_count": 3,
   "id": "a6b93dac",
   "metadata": {
    "execution": {
     "iopub.execute_input": "2024-01-16T04:49:32.000359Z",
     "iopub.status.busy": "2024-01-16T04:49:31.999948Z",
     "iopub.status.idle": "2024-01-16T04:49:32.032430Z",
     "shell.execute_reply": "2024-01-16T04:49:32.031077Z"
    },
    "papermill": {
     "duration": 0.048754,
     "end_time": "2024-01-16T04:49:32.035055",
     "exception": false,
     "start_time": "2024-01-16T04:49:31.986301",
     "status": "completed"
    },
    "tags": []
   },
   "outputs": [
    {
     "data": {
      "text/html": [
       "<div>\n",
       "<style scoped>\n",
       "    .dataframe tbody tr th:only-of-type {\n",
       "        vertical-align: middle;\n",
       "    }\n",
       "\n",
       "    .dataframe tbody tr th {\n",
       "        vertical-align: top;\n",
       "    }\n",
       "\n",
       "    .dataframe thead th {\n",
       "        text-align: right;\n",
       "    }\n",
       "</style>\n",
       "<table border=\"1\" class=\"dataframe\">\n",
       "  <thead>\n",
       "    <tr style=\"text-align: right;\">\n",
       "      <th></th>\n",
       "      <th>Store Number</th>\n",
       "      <th>Store Name</th>\n",
       "      <th>Address</th>\n",
       "      <th>City</th>\n",
       "      <th>Longitude</th>\n",
       "      <th>Latitude</th>\n",
       "    </tr>\n",
       "  </thead>\n",
       "  <tbody>\n",
       "    <tr>\n",
       "      <th>0</th>\n",
       "      <td>10429-100710</td>\n",
       "      <td>Palmdale &amp; Hwy 395</td>\n",
       "      <td>14136 US Hwy 395 Adelanto CA</td>\n",
       "      <td>Adelanto</td>\n",
       "      <td>-117.40</td>\n",
       "      <td>34.51</td>\n",
       "    </tr>\n",
       "    <tr>\n",
       "      <th>1</th>\n",
       "      <td>635-352</td>\n",
       "      <td>Kanan &amp; Thousand Oaks</td>\n",
       "      <td>5827 Kanan Road Agoura CA</td>\n",
       "      <td>Agoura</td>\n",
       "      <td>-118.76</td>\n",
       "      <td>34.16</td>\n",
       "    </tr>\n",
       "    <tr>\n",
       "      <th>2</th>\n",
       "      <td>74510-27669</td>\n",
       "      <td>Vons-Agoura Hills #2001</td>\n",
       "      <td>5671 Kanan Rd. Agoura Hills CA</td>\n",
       "      <td>Agoura Hills</td>\n",
       "      <td>-118.76</td>\n",
       "      <td>34.15</td>\n",
       "    </tr>\n",
       "    <tr>\n",
       "      <th>3</th>\n",
       "      <td>29839-255026</td>\n",
       "      <td>Target Anaheim T-0677</td>\n",
       "      <td>8148 E SANTA ANA CANYON ROAD AHAHEIM CA</td>\n",
       "      <td>AHAHEIM</td>\n",
       "      <td>-117.75</td>\n",
       "      <td>33.87</td>\n",
       "    </tr>\n",
       "    <tr>\n",
       "      <th>4</th>\n",
       "      <td>23463-230284</td>\n",
       "      <td>Safeway - Alameda 3281</td>\n",
       "      <td>2600 5th Street Alameda CA</td>\n",
       "      <td>Alameda</td>\n",
       "      <td>-122.28</td>\n",
       "      <td>37.79</td>\n",
       "    </tr>\n",
       "  </tbody>\n",
       "</table>\n",
       "</div>"
      ],
      "text/plain": [
       "   Store Number               Store Name  \\\n",
       "0  10429-100710       Palmdale & Hwy 395   \n",
       "1       635-352    Kanan & Thousand Oaks   \n",
       "2   74510-27669  Vons-Agoura Hills #2001   \n",
       "3  29839-255026    Target Anaheim T-0677   \n",
       "4  23463-230284   Safeway - Alameda 3281   \n",
       "\n",
       "                                   Address          City  Longitude  Latitude  \n",
       "0             14136 US Hwy 395 Adelanto CA      Adelanto    -117.40     34.51  \n",
       "1                5827 Kanan Road Agoura CA        Agoura    -118.76     34.16  \n",
       "2           5671 Kanan Rd. Agoura Hills CA  Agoura Hills    -118.76     34.15  \n",
       "3  8148 E SANTA ANA CANYON ROAD AHAHEIM CA       AHAHEIM    -117.75     33.87  \n",
       "4               2600 5th Street Alameda CA       Alameda    -122.28     37.79  "
      ]
     },
     "execution_count": 3,
     "metadata": {},
     "output_type": "execute_result"
    }
   ],
   "source": [
    "# Load and preview Starbucks locations in California\n",
    "starbucks = pd.read_csv(\"../input/geospatial-learn-course-data/starbucks_locations.csv\")\n",
    "starbucks.head()"
   ]
  },
  {
   "cell_type": "markdown",
   "id": "4fff4d54",
   "metadata": {
    "papermill": {
     "duration": 0.01119,
     "end_time": "2024-01-16T04:49:32.058153",
     "exception": false,
     "start_time": "2024-01-16T04:49:32.046963",
     "status": "completed"
    },
    "tags": []
   },
   "source": [
    "Most of the stores have known (latitude, longitude) locations.  But, all of the locations in the city of Berkeley are missing.\n",
    "\n",
    "ほとんどの店は（緯度、経度）位置がわかっている。 しかし、バークレー市内にある店舗がすべて見つからない。"
   ]
  },
  {
   "cell_type": "code",
   "execution_count": 4,
   "id": "a6977413",
   "metadata": {
    "execution": {
     "iopub.execute_input": "2024-01-16T04:49:32.083757Z",
     "iopub.status.busy": "2024-01-16T04:49:32.083015Z",
     "iopub.status.idle": "2024-01-16T04:49:32.102564Z",
     "shell.execute_reply": "2024-01-16T04:49:32.100990Z"
    },
    "papermill": {
     "duration": 0.035789,
     "end_time": "2024-01-16T04:49:32.105733",
     "exception": false,
     "start_time": "2024-01-16T04:49:32.069944",
     "status": "completed"
    },
    "tags": []
   },
   "outputs": [
    {
     "name": "stdout",
     "output_type": "stream",
     "text": [
      "Store Number    0\n",
      "Store Name      0\n",
      "Address         0\n",
      "City            0\n",
      "Longitude       5\n",
      "Latitude        5\n",
      "dtype: int64\n"
     ]
    },
    {
     "data": {
      "text/html": [
       "<div>\n",
       "<style scoped>\n",
       "    .dataframe tbody tr th:only-of-type {\n",
       "        vertical-align: middle;\n",
       "    }\n",
       "\n",
       "    .dataframe tbody tr th {\n",
       "        vertical-align: top;\n",
       "    }\n",
       "\n",
       "    .dataframe thead th {\n",
       "        text-align: right;\n",
       "    }\n",
       "</style>\n",
       "<table border=\"1\" class=\"dataframe\">\n",
       "  <thead>\n",
       "    <tr style=\"text-align: right;\">\n",
       "      <th></th>\n",
       "      <th>Store Number</th>\n",
       "      <th>Store Name</th>\n",
       "      <th>Address</th>\n",
       "      <th>City</th>\n",
       "      <th>Longitude</th>\n",
       "      <th>Latitude</th>\n",
       "    </tr>\n",
       "  </thead>\n",
       "  <tbody>\n",
       "    <tr>\n",
       "      <th>153</th>\n",
       "      <td>5406-945</td>\n",
       "      <td>2224 Shattuck - Berkeley</td>\n",
       "      <td>2224 Shattuck Avenue Berkeley CA</td>\n",
       "      <td>Berkeley</td>\n",
       "      <td>NaN</td>\n",
       "      <td>NaN</td>\n",
       "    </tr>\n",
       "    <tr>\n",
       "      <th>154</th>\n",
       "      <td>570-512</td>\n",
       "      <td>Solano Ave</td>\n",
       "      <td>1799 Solano Avenue Berkeley CA</td>\n",
       "      <td>Berkeley</td>\n",
       "      <td>NaN</td>\n",
       "      <td>NaN</td>\n",
       "    </tr>\n",
       "    <tr>\n",
       "      <th>155</th>\n",
       "      <td>17877-164526</td>\n",
       "      <td>Safeway - Berkeley #691</td>\n",
       "      <td>1444 Shattuck Place Berkeley CA</td>\n",
       "      <td>Berkeley</td>\n",
       "      <td>NaN</td>\n",
       "      <td>NaN</td>\n",
       "    </tr>\n",
       "    <tr>\n",
       "      <th>156</th>\n",
       "      <td>19864-202264</td>\n",
       "      <td>Telegraph &amp; Ashby</td>\n",
       "      <td>3001 Telegraph Avenue Berkeley CA</td>\n",
       "      <td>Berkeley</td>\n",
       "      <td>NaN</td>\n",
       "      <td>NaN</td>\n",
       "    </tr>\n",
       "    <tr>\n",
       "      <th>157</th>\n",
       "      <td>9217-9253</td>\n",
       "      <td>2128 Oxford St.</td>\n",
       "      <td>2128 Oxford Street Berkeley CA</td>\n",
       "      <td>Berkeley</td>\n",
       "      <td>NaN</td>\n",
       "      <td>NaN</td>\n",
       "    </tr>\n",
       "  </tbody>\n",
       "</table>\n",
       "</div>"
      ],
      "text/plain": [
       "     Store Number                Store Name  \\\n",
       "153      5406-945  2224 Shattuck - Berkeley   \n",
       "154       570-512                Solano Ave   \n",
       "155  17877-164526   Safeway - Berkeley #691   \n",
       "156  19864-202264         Telegraph & Ashby   \n",
       "157     9217-9253           2128 Oxford St.   \n",
       "\n",
       "                               Address      City  Longitude  Latitude  \n",
       "153   2224 Shattuck Avenue Berkeley CA  Berkeley        NaN       NaN  \n",
       "154     1799 Solano Avenue Berkeley CA  Berkeley        NaN       NaN  \n",
       "155    1444 Shattuck Place Berkeley CA  Berkeley        NaN       NaN  \n",
       "156  3001 Telegraph Avenue Berkeley CA  Berkeley        NaN       NaN  \n",
       "157     2128 Oxford Street Berkeley CA  Berkeley        NaN       NaN  "
      ]
     },
     "execution_count": 4,
     "metadata": {},
     "output_type": "execute_result"
    }
   ],
   "source": [
    "# How many rows in each column have missing values?\n",
    "print(starbucks.isnull().sum())\n",
    "\n",
    "# View rows with missing locations\n",
    "rows_with_missing = starbucks[starbucks[\"City\"]==\"Berkeley\"]\n",
    "rows_with_missing"
   ]
  },
  {
   "cell_type": "markdown",
   "id": "44731163",
   "metadata": {
    "papermill": {
     "duration": 0.012675,
     "end_time": "2024-01-16T04:49:32.130641",
     "exception": false,
     "start_time": "2024-01-16T04:49:32.117966",
     "status": "completed"
    },
    "tags": []
   },
   "source": [
    "Use the code cell below to fill in these values with the Nominatim geocoder.\n",
    "\n",
    "Note that in the tutorial, we used `Nominatim()` (from `geopy.geocoders`) to geocode values, and this is what you can use in your own projects outside of this course.  \n",
    "\n",
    "In this exercise, you will use a slightly different function `Nominatim()` (from `learntools.geospatial.tools`).  This function was imported at the top of the notebook and works identically to the function from GeoPandas.\n",
    "\n",
    "So, in other words, as long as: \n",
    "- you don't change the import statements at the top of the notebook, and \n",
    "- you call the geocoding function as `geocode()` in the code cell below, \n",
    "\n",
    "your code will work as intended!\n",
    "\n",
    "以下のコードセルを使って、Nominatim ジオコーダーでこれらの値を埋めてください。\n",
    "\n",
    "チュートリアルでは、値をジオコーディングするために `Nominatim()` (`geopy.geocoders` から) を使いました。 \n",
    "\n",
    "この演習では、少し異なる関数 `Nominatim()` (`learntools.geospatial.tools` から) を使用します。 この関数はノートブックの一番上にインポートされ、GeoPandas の関数と同じように動作します。\n",
    "\n",
    "つまり、インポート文を変更しない限りは \n",
    "- ノートブックの先頭にあるimport文を変更せず \n",
    "- 以下のコードセルでジオコーディング関数を `geocode()` として呼び出す、 \n",
    "\n",
    "あなたのコードは意図したとおりに動作します！"
   ]
  },
  {
   "cell_type": "code",
   "execution_count": 5,
   "id": "f7f2a809",
   "metadata": {
    "execution": {
     "iopub.execute_input": "2024-01-16T04:49:32.156841Z",
     "iopub.status.busy": "2024-01-16T04:49:32.156400Z",
     "iopub.status.idle": "2024-01-16T04:49:32.242954Z",
     "shell.execute_reply": "2024-01-16T04:49:32.242077Z"
    },
    "papermill": {
     "duration": 0.101934,
     "end_time": "2024-01-16T04:49:32.244924",
     "exception": false,
     "start_time": "2024-01-16T04:49:32.142990",
     "status": "completed"
    },
    "tags": []
   },
   "outputs": [
    {
     "data": {
      "application/javascript": [
       "parent.postMessage({\"jupyterEvent\": \"custom.exercise_interaction\", \"data\": {\"outcomeType\": 1, \"valueTowardsCompletion\": 0.2, \"interactionType\": 1, \"questionType\": 2, \"questionId\": \"1_Q1\", \"learnToolsVersion\": \"0.3.4\", \"failureMessage\": \"\", \"exceptionClass\": \"\", \"trace\": \"\"}}, \"*\")"
      ],
      "text/plain": [
       "<IPython.core.display.Javascript object>"
      ]
     },
     "metadata": {},
     "output_type": "display_data"
    },
    {
     "data": {
      "text/markdown": [
       "<span style=\"color:#33cc33\">Correct</span>"
      ],
      "text/plain": [
       "Correct"
      ]
     },
     "metadata": {},
     "output_type": "display_data"
    }
   ],
   "source": [
    "# Create the geocoder\n",
    "geolocator = Nominatim(user_agent=\"kaggle_learn\")\n",
    "\n",
    "# Your code here\n",
    "def my_geocoder(row):\n",
    "    point = geolocator.geocode(row).point\n",
    "    return pd.Series({'Latitude': point.latitude, 'Longitude': point.longitude})\n",
    "\n",
    "berkeley_locations = rows_with_missing.apply(lambda x: my_geocoder(x['Address']), axis=1)\n",
    "starbucks.update(berkeley_locations)\n",
    "\n",
    "# Check your answer\n",
    "q_1.check()"
   ]
  },
  {
   "cell_type": "code",
   "execution_count": 6,
   "id": "240cf188",
   "metadata": {
    "execution": {
     "iopub.execute_input": "2024-01-16T04:49:32.272700Z",
     "iopub.status.busy": "2024-01-16T04:49:32.272115Z",
     "iopub.status.idle": "2024-01-16T04:49:32.281124Z",
     "shell.execute_reply": "2024-01-16T04:49:32.280008Z"
    },
    "papermill": {
     "duration": 0.025391,
     "end_time": "2024-01-16T04:49:32.283733",
     "exception": false,
     "start_time": "2024-01-16T04:49:32.258342",
     "status": "completed"
    },
    "tags": []
   },
   "outputs": [
    {
     "data": {
      "application/javascript": [
       "parent.postMessage({\"jupyterEvent\": \"custom.exercise_interaction\", \"data\": {\"interactionType\": 3, \"questionType\": 2, \"questionId\": \"1_Q1\", \"learnToolsVersion\": \"0.3.4\", \"valueTowardsCompletion\": 0.0, \"failureMessage\": \"\", \"exceptionClass\": \"\", \"trace\": \"\", \"outcomeType\": 4}}, \"*\")"
      ],
      "text/plain": [
       "<IPython.core.display.Javascript object>"
      ]
     },
     "metadata": {},
     "output_type": "display_data"
    },
    {
     "data": {
      "text/markdown": [
       "<span style=\"color:#33cc99\">Solution:</span> \n",
       "```python\n",
       "def my_geocoder(row):\n",
       "    point = geolocator.geocode(row).point\n",
       "    return pd.Series({'Latitude': point.latitude, 'Longitude': point.longitude})\n",
       "\n",
       "berkeley_locations = rows_with_missing.apply(lambda x: my_geocoder(x['Address']), axis=1)\n",
       "starbucks.update(berkeley_locations)\n",
       "\n",
       "```"
      ],
      "text/plain": [
       "Solution: \n",
       "```python\n",
       "def my_geocoder(row):\n",
       "    point = geolocator.geocode(row).point\n",
       "    return pd.Series({'Latitude': point.latitude, 'Longitude': point.longitude})\n",
       "\n",
       "berkeley_locations = rows_with_missing.apply(lambda x: my_geocoder(x['Address']), axis=1)\n",
       "starbucks.update(berkeley_locations)\n",
       "\n",
       "```"
      ]
     },
     "metadata": {},
     "output_type": "display_data"
    }
   ],
   "source": [
    "# Line below will give you solution code\n",
    "q_1.solution()"
   ]
  },
  {
   "cell_type": "markdown",
   "id": "e39be725",
   "metadata": {
    "papermill": {
     "duration": 0.012279,
     "end_time": "2024-01-16T04:49:32.308626",
     "exception": false,
     "start_time": "2024-01-16T04:49:32.296347",
     "status": "completed"
    },
    "tags": []
   },
   "source": [
    "### 2) View Berkeley locations.\n",
    "\n",
    "Let's take a look at the locations you just found.  Visualize the (latitude, longitude) locations in Berkeley in the OpenStreetMap style. \n",
    "\n",
    "### 2) バークレーのロケーションを見る\n",
    "\n",
    "今見つけた場所を見てみましょう。 OpenStreetMapスタイルでバークレーの（緯度、経度）位置を可視化してみましょう。"
   ]
  },
  {
   "cell_type": "code",
   "execution_count": 7,
   "id": "d2a69f7a",
   "metadata": {
    "execution": {
     "iopub.execute_input": "2024-01-16T04:49:32.336593Z",
     "iopub.status.busy": "2024-01-16T04:49:32.335776Z",
     "iopub.status.idle": "2024-01-16T04:49:32.359821Z",
     "shell.execute_reply": "2024-01-16T04:49:32.358534Z"
    },
    "papermill": {
     "duration": 0.040759,
     "end_time": "2024-01-16T04:49:32.362332",
     "exception": false,
     "start_time": "2024-01-16T04:49:32.321573",
     "status": "completed"
    },
    "tags": []
   },
   "outputs": [
    {
     "data": {
      "text/html": [
       "\n",
       "        <iframe\n",
       "            width=\"100%\"\n",
       "            height=\"500px\"\n",
       "            src=\"q_2.html\"\n",
       "            frameborder=\"0\"\n",
       "            allowfullscreen\n",
       "            \n",
       "        ></iframe>\n",
       "        "
      ],
      "text/plain": [
       "<IPython.lib.display.IFrame at 0x782e44bc9a20>"
      ]
     },
     "execution_count": 7,
     "metadata": {},
     "output_type": "execute_result"
    }
   ],
   "source": [
    "# Create a base map\n",
    "m_2 = folium.Map(location=[37.88,-122.26], zoom_start=13)\n",
    "\n",
    "# Your code here: Add a marker for each Berkeley location\n",
    "for idx, row in starbucks[starbucks[\"City\"]=='Berkeley'].iterrows():\n",
    "    Marker([row['Latitude'], row['Longitude']]).add_to(m_2)\n",
    "\n",
    "# Uncomment to see a hint\n",
    "#q_2.a.hint()\n",
    "\n",
    "# Show the map\n",
    "embed_map(m_2, 'q_2.html')"
   ]
  },
  {
   "cell_type": "code",
   "execution_count": 8,
   "id": "bc10b672",
   "metadata": {
    "execution": {
     "iopub.execute_input": "2024-01-16T04:49:32.390211Z",
     "iopub.status.busy": "2024-01-16T04:49:32.389788Z",
     "iopub.status.idle": "2024-01-16T04:49:32.403350Z",
     "shell.execute_reply": "2024-01-16T04:49:32.402119Z"
    },
    "papermill": {
     "duration": 0.030635,
     "end_time": "2024-01-16T04:49:32.405918",
     "exception": false,
     "start_time": "2024-01-16T04:49:32.375283",
     "status": "completed"
    },
    "tags": []
   },
   "outputs": [
    {
     "data": {
      "application/javascript": [
       "parent.postMessage({\"jupyterEvent\": \"custom.exercise_interaction\", \"data\": {\"outcomeType\": 1, \"valueTowardsCompletion\": 0.2, \"interactionType\": 1, \"questionType\": 2, \"questionId\": \"2.1_Q2P\", \"learnToolsVersion\": \"0.3.4\", \"failureMessage\": \"\", \"exceptionClass\": \"\", \"trace\": \"\"}}, \"*\")"
      ],
      "text/plain": [
       "<IPython.core.display.Javascript object>"
      ]
     },
     "metadata": {},
     "output_type": "display_data"
    },
    {
     "data": {
      "text/markdown": [
       "<span style=\"color:#33cc33\">Thank you for creating a map!</span>"
      ],
      "text/plain": [
       "Thank you for creating a map!"
      ]
     },
     "metadata": {},
     "output_type": "display_data"
    },
    {
     "data": {
      "application/javascript": [
       "parent.postMessage({\"jupyterEvent\": \"custom.exercise_interaction\", \"data\": {\"interactionType\": 3, \"questionType\": 2, \"questionId\": \"2.1_Q2P\", \"learnToolsVersion\": \"0.3.4\", \"valueTowardsCompletion\": 0.0, \"failureMessage\": \"\", \"exceptionClass\": \"\", \"trace\": \"\", \"outcomeType\": 4}}, \"*\")"
      ],
      "text/plain": [
       "<IPython.core.display.Javascript object>"
      ]
     },
     "metadata": {},
     "output_type": "display_data"
    },
    {
     "data": {
      "text/markdown": [
       "<span style=\"color:#33cc99\">Solution:</span> \n",
       "```python\n",
       "# Add a marker for each Berkeley location\n",
       "for idx, row in starbucks[starbucks[\"City\"]=='Berkeley'].iterrows():\n",
       "    Marker([row['Latitude'], row['Longitude']]).add_to(m_2)\n",
       "\n",
       "```"
      ],
      "text/plain": [
       "Solution: \n",
       "```python\n",
       "# Add a marker for each Berkeley location\n",
       "for idx, row in starbucks[starbucks[\"City\"]=='Berkeley'].iterrows():\n",
       "    Marker([row['Latitude'], row['Longitude']]).add_to(m_2)\n",
       "\n",
       "```"
      ]
     },
     "metadata": {},
     "output_type": "display_data"
    }
   ],
   "source": [
    "# Get credit for your work after you have created a map\n",
    "q_2.a.check()\n",
    "\n",
    "# Uncomment to see our solution (your code may look different!)\n",
    "q_2.a.solution()"
   ]
  },
  {
   "cell_type": "markdown",
   "id": "3a133740",
   "metadata": {
    "papermill": {
     "duration": 0.013205,
     "end_time": "2024-01-16T04:49:32.433553",
     "exception": false,
     "start_time": "2024-01-16T04:49:32.420348",
     "status": "completed"
    },
    "tags": []
   },
   "source": [
    "Considering only the five locations in Berkeley, how many of the (latitude, longitude) locations seem potentially correct (are located in the correct city)?\n",
    "\n",
    "バークレーにある5つの場所だけを考えた場合、（緯度、経度）場所のうちいくつが正しい（正しい都市にある）可能性があると思われますか？"
   ]
  },
  {
   "cell_type": "code",
   "execution_count": 9,
   "id": "e2b20a2a",
   "metadata": {
    "execution": {
     "iopub.execute_input": "2024-01-16T04:49:32.464136Z",
     "iopub.status.busy": "2024-01-16T04:49:32.463411Z",
     "iopub.status.idle": "2024-01-16T04:49:32.473382Z",
     "shell.execute_reply": "2024-01-16T04:49:32.471957Z"
    },
    "papermill": {
     "duration": 0.02774,
     "end_time": "2024-01-16T04:49:32.475822",
     "exception": false,
     "start_time": "2024-01-16T04:49:32.448082",
     "status": "completed"
    },
    "tags": []
   },
   "outputs": [
    {
     "data": {
      "application/javascript": [
       "parent.postMessage({\"jupyterEvent\": \"custom.exercise_interaction\", \"data\": {\"interactionType\": 3, \"questionType\": 4, \"questionId\": \"2.2_Q2T\", \"learnToolsVersion\": \"0.3.4\", \"valueTowardsCompletion\": 0.0, \"failureMessage\": \"\", \"exceptionClass\": \"\", \"trace\": \"\", \"outcomeType\": 4}}, \"*\")"
      ],
      "text/plain": [
       "<IPython.core.display.Javascript object>"
      ]
     },
     "metadata": {},
     "output_type": "display_data"
    },
    {
     "data": {
      "text/markdown": [
       "<span style=\"color:#33cc99\">Solution:</span> All five locations appear to be correct!"
      ],
      "text/plain": [
       "Solution: All five locations appear to be correct!"
      ]
     },
     "metadata": {},
     "output_type": "display_data"
    }
   ],
   "source": [
    "# View the solution (Run this code cell to receive credit!)\n",
    "q_2.b.solution()"
   ]
  },
  {
   "cell_type": "markdown",
   "id": "ce670e4f",
   "metadata": {
    "papermill": {
     "duration": 0.014235,
     "end_time": "2024-01-16T04:49:32.503970",
     "exception": false,
     "start_time": "2024-01-16T04:49:32.489735",
     "status": "completed"
    },
    "tags": []
   },
   "source": [
    "### 3) Consolidate your data.\n",
    "\n",
    "Run the code below to load a GeoDataFrame `CA_counties` containing the name, area (in square kilometers), and a unique id (in the \"GEOID\" column) for each county in the state of California.  The \"geometry\" column contains a polygon with county boundaries.\n",
    "\n",
    "### 3) データを統合する。\n",
    "\n",
    "以下のコードを実行して、カリフォルニア州の各郡の名前、面積（平方キロメートル）、一意な ID （\"GEOID\" 列）を含む GeoDataFrame `CA_counties` をロードする。 geometry \"カラムには、郡の境界を示す多角形が格納される。"
   ]
  },
  {
   "cell_type": "code",
   "execution_count": 10,
   "id": "c120b9fc",
   "metadata": {
    "execution": {
     "iopub.execute_input": "2024-01-16T04:49:32.533606Z",
     "iopub.status.busy": "2024-01-16T04:49:32.533216Z",
     "iopub.status.idle": "2024-01-16T04:49:32.799065Z",
     "shell.execute_reply": "2024-01-16T04:49:32.798188Z"
    },
    "papermill": {
     "duration": 0.283247,
     "end_time": "2024-01-16T04:49:32.801278",
     "exception": false,
     "start_time": "2024-01-16T04:49:32.518031",
     "status": "completed"
    },
    "tags": []
   },
   "outputs": [
    {
     "name": "stderr",
     "output_type": "stream",
     "text": [
      "/opt/conda/lib/python3.10/site-packages/pyproj/crs/crs.py:141: FutureWarning: '+init=<authority>:<code>' syntax is deprecated. '<authority>:<code>' is the preferred initialization method. When making the change, be mindful of axis order changes: https://pyproj4.github.io/pyproj/stable/gotchas.html#axis-order-changes-in-proj-6\n",
      "  in_crs_string = _prepare_from_proj_string(in_crs_string)\n"
     ]
    },
    {
     "data": {
      "text/html": [
       "<div>\n",
       "<style scoped>\n",
       "    .dataframe tbody tr th:only-of-type {\n",
       "        vertical-align: middle;\n",
       "    }\n",
       "\n",
       "    .dataframe tbody tr th {\n",
       "        vertical-align: top;\n",
       "    }\n",
       "\n",
       "    .dataframe thead th {\n",
       "        text-align: right;\n",
       "    }\n",
       "</style>\n",
       "<table border=\"1\" class=\"dataframe\">\n",
       "  <thead>\n",
       "    <tr style=\"text-align: right;\">\n",
       "      <th></th>\n",
       "      <th>GEOID</th>\n",
       "      <th>name</th>\n",
       "      <th>area_sqkm</th>\n",
       "      <th>geometry</th>\n",
       "    </tr>\n",
       "  </thead>\n",
       "  <tbody>\n",
       "    <tr>\n",
       "      <th>0</th>\n",
       "      <td>6091</td>\n",
       "      <td>Sierra County</td>\n",
       "      <td>2491.995494</td>\n",
       "      <td>POLYGON ((-120.65560 39.69357, -120.65554 39.6...</td>\n",
       "    </tr>\n",
       "    <tr>\n",
       "      <th>1</th>\n",
       "      <td>6067</td>\n",
       "      <td>Sacramento County</td>\n",
       "      <td>2575.258262</td>\n",
       "      <td>POLYGON ((-121.18858 38.71431, -121.18732 38.7...</td>\n",
       "    </tr>\n",
       "    <tr>\n",
       "      <th>2</th>\n",
       "      <td>6083</td>\n",
       "      <td>Santa Barbara County</td>\n",
       "      <td>9813.817958</td>\n",
       "      <td>MULTIPOLYGON (((-120.58191 34.09856, -120.5822...</td>\n",
       "    </tr>\n",
       "    <tr>\n",
       "      <th>3</th>\n",
       "      <td>6009</td>\n",
       "      <td>Calaveras County</td>\n",
       "      <td>2685.626726</td>\n",
       "      <td>POLYGON ((-120.63095 38.34111, -120.63058 38.3...</td>\n",
       "    </tr>\n",
       "    <tr>\n",
       "      <th>4</th>\n",
       "      <td>6111</td>\n",
       "      <td>Ventura County</td>\n",
       "      <td>5719.321379</td>\n",
       "      <td>MULTIPOLYGON (((-119.63631 33.27304, -119.6360...</td>\n",
       "    </tr>\n",
       "  </tbody>\n",
       "</table>\n",
       "</div>"
      ],
      "text/plain": [
       "   GEOID                  name    area_sqkm  \\\n",
       "0   6091         Sierra County  2491.995494   \n",
       "1   6067     Sacramento County  2575.258262   \n",
       "2   6083  Santa Barbara County  9813.817958   \n",
       "3   6009      Calaveras County  2685.626726   \n",
       "4   6111        Ventura County  5719.321379   \n",
       "\n",
       "                                            geometry  \n",
       "0  POLYGON ((-120.65560 39.69357, -120.65554 39.6...  \n",
       "1  POLYGON ((-121.18858 38.71431, -121.18732 38.7...  \n",
       "2  MULTIPOLYGON (((-120.58191 34.09856, -120.5822...  \n",
       "3  POLYGON ((-120.63095 38.34111, -120.63058 38.3...  \n",
       "4  MULTIPOLYGON (((-119.63631 33.27304, -119.6360...  "
      ]
     },
     "execution_count": 10,
     "metadata": {},
     "output_type": "execute_result"
    }
   ],
   "source": [
    "CA_counties = gpd.read_file(\"../input/geospatial-learn-course-data/CA_county_boundaries/CA_county_boundaries/CA_county_boundaries.shp\")\n",
    "CA_counties.crs = {'init': 'epsg:4326'}\n",
    "CA_counties.head()"
   ]
  },
  {
   "cell_type": "markdown",
   "id": "79ead86e",
   "metadata": {
    "papermill": {
     "duration": 0.014088,
     "end_time": "2024-01-16T04:49:32.829655",
     "exception": false,
     "start_time": "2024-01-16T04:49:32.815567",
     "status": "completed"
    },
    "tags": []
   },
   "source": [
    "Next, we create three DataFrames:\n",
    "- `CA_pop` contains an estimate of the population of each county.\n",
    "- `CA_high_earners` contains the number of households with an income of at least $150,000 per year.\n",
    "- `CA_median_age` contains the median age for each county.\n",
    "\n",
    "次に、3つのDataFrameを作成する：\n",
    "- CA_pop` には各郡の推定人口が格納されている。\n",
    "- CA_high_earners`には、年収 15 万ドル以上の世帯数を格納する。\n",
    "- CA_median_age` には各郡の年齢の中央値が格納される。"
   ]
  },
  {
   "cell_type": "code",
   "execution_count": 11,
   "id": "9511035b",
   "metadata": {
    "execution": {
     "iopub.execute_input": "2024-01-16T04:49:32.860594Z",
     "iopub.status.busy": "2024-01-16T04:49:32.859582Z",
     "iopub.status.idle": "2024-01-16T04:49:32.873748Z",
     "shell.execute_reply": "2024-01-16T04:49:32.872733Z"
    },
    "papermill": {
     "duration": 0.032319,
     "end_time": "2024-01-16T04:49:32.876422",
     "exception": false,
     "start_time": "2024-01-16T04:49:32.844103",
     "status": "completed"
    },
    "tags": []
   },
   "outputs": [],
   "source": [
    "CA_pop = pd.read_csv(\"../input/geospatial-learn-course-data/CA_county_population.csv\", index_col=\"GEOID\")\n",
    "CA_high_earners = pd.read_csv(\"../input/geospatial-learn-course-data/CA_county_high_earners.csv\", index_col=\"GEOID\")\n",
    "CA_median_age = pd.read_csv(\"../input/geospatial-learn-course-data/CA_county_median_age.csv\", index_col=\"GEOID\")"
   ]
  },
  {
   "cell_type": "markdown",
   "id": "a3f0caac",
   "metadata": {
    "papermill": {
     "duration": 0.01421,
     "end_time": "2024-01-16T04:49:32.906684",
     "exception": false,
     "start_time": "2024-01-16T04:49:32.892474",
     "status": "completed"
    },
    "tags": []
   },
   "source": [
    "Use the next code cell to join the `CA_counties` GeoDataFrame with `CA_pop`, `CA_high_earners`, and `CA_median_age`.\n",
    "\n",
    "Name the resultant GeoDataFrame `CA_stats`, and make sure it has 8 columns: \"GEOID\", \"name\", \"area_sqkm\", \"geometry\", \"population\", \"high_earners\", and \"median_age\".  \n",
    "\n",
    "次のコードセルを使用して、`CA_counties` GeoDataFrame と `CA_pop`、`CA_high_earners`、`CA_median_age` を結合します。\n",
    "\n",
    "結果の GeoDataFrame に `CA_stats` という名前を付け、8 つのカラムを持つようにする： 「GEOID\"、\"name\"、\"area_sqkm\"、\"geometry\"、\"opulation\"、\"high_earners\"、\"median_age \"である。 "
   ]
  },
  {
   "cell_type": "code",
   "execution_count": 12,
   "id": "5ed59389",
   "metadata": {
    "execution": {
     "iopub.execute_input": "2024-01-16T04:49:32.937931Z",
     "iopub.status.busy": "2024-01-16T04:49:32.937166Z",
     "iopub.status.idle": "2024-01-16T04:49:33.116955Z",
     "shell.execute_reply": "2024-01-16T04:49:33.115954Z"
    },
    "papermill": {
     "duration": 0.198139,
     "end_time": "2024-01-16T04:49:33.119502",
     "exception": false,
     "start_time": "2024-01-16T04:49:32.921363",
     "status": "completed"
    },
    "tags": []
   },
   "outputs": [
    {
     "data": {
      "application/javascript": [
       "parent.postMessage({\"jupyterEvent\": \"custom.exercise_interaction\", \"data\": {\"outcomeType\": 1, \"valueTowardsCompletion\": 0.2, \"interactionType\": 1, \"questionType\": 2, \"questionId\": \"3_Q3\", \"learnToolsVersion\": \"0.3.4\", \"failureMessage\": \"\", \"exceptionClass\": \"\", \"trace\": \"\"}}, \"*\")"
      ],
      "text/plain": [
       "<IPython.core.display.Javascript object>"
      ]
     },
     "metadata": {},
     "output_type": "display_data"
    },
    {
     "data": {
      "text/markdown": [
       "<span style=\"color:#33cc33\">Correct</span>"
      ],
      "text/plain": [
       "Correct"
      ]
     },
     "metadata": {},
     "output_type": "display_data"
    }
   ],
   "source": [
    "# Your code here\n",
    "cols_to_add = CA_pop.join([CA_high_earners, CA_median_age]).reset_index()\n",
    "CA_stats = CA_counties.merge(cols_to_add, on=\"GEOID\")\n",
    "\n",
    "# Check your answer\n",
    "q_3.check()"
   ]
  },
  {
   "cell_type": "code",
   "execution_count": 13,
   "id": "61eb7a92",
   "metadata": {
    "execution": {
     "iopub.execute_input": "2024-01-16T04:49:33.212787Z",
     "iopub.status.busy": "2024-01-16T04:49:33.212164Z",
     "iopub.status.idle": "2024-01-16T04:49:33.221707Z",
     "shell.execute_reply": "2024-01-16T04:49:33.220437Z"
    },
    "papermill": {
     "duration": 0.028153,
     "end_time": "2024-01-16T04:49:33.224311",
     "exception": false,
     "start_time": "2024-01-16T04:49:33.196158",
     "status": "completed"
    },
    "tags": []
   },
   "outputs": [
    {
     "data": {
      "application/javascript": [
       "parent.postMessage({\"jupyterEvent\": \"custom.exercise_interaction\", \"data\": {\"interactionType\": 3, \"questionType\": 2, \"questionId\": \"3_Q3\", \"learnToolsVersion\": \"0.3.4\", \"valueTowardsCompletion\": 0.0, \"failureMessage\": \"\", \"exceptionClass\": \"\", \"trace\": \"\", \"outcomeType\": 4}}, \"*\")"
      ],
      "text/plain": [
       "<IPython.core.display.Javascript object>"
      ]
     },
     "metadata": {},
     "output_type": "display_data"
    },
    {
     "data": {
      "text/markdown": [
       "<span style=\"color:#33cc99\">Solution:</span> \n",
       "```python\n",
       "cols_to_add = CA_pop.join([CA_high_earners, CA_median_age]).reset_index()\n",
       "CA_stats = CA_counties.merge(cols_to_add, on=\"GEOID\")\n",
       "\n",
       "```"
      ],
      "text/plain": [
       "Solution: \n",
       "```python\n",
       "cols_to_add = CA_pop.join([CA_high_earners, CA_median_age]).reset_index()\n",
       "CA_stats = CA_counties.merge(cols_to_add, on=\"GEOID\")\n",
       "\n",
       "```"
      ]
     },
     "metadata": {},
     "output_type": "display_data"
    }
   ],
   "source": [
    "# Lines below will give you a hint or solution code\n",
    "#q_3.hint()\n",
    "q_3.solution()"
   ]
  },
  {
   "cell_type": "markdown",
   "id": "f2ce4dec",
   "metadata": {
    "papermill": {
     "duration": 0.014893,
     "end_time": "2024-01-16T04:49:33.254990",
     "exception": false,
     "start_time": "2024-01-16T04:49:33.240097",
     "status": "completed"
    },
    "tags": []
   },
   "source": [
    "Now that we have all of the data in one place, it's much easier to calculate statistics that use a combination of columns.  Run the next code cell to create a \"density\" column with the population density.\n",
    "\n",
    "これですべてのデータが一箇所に集まったので、列の組み合わせを使った統計の計算がより簡単になった。 次のコード・セルを実行して、人口密度の「密度」列を作成する。"
   ]
  },
  {
   "cell_type": "code",
   "execution_count": 14,
   "id": "28efdf7a",
   "metadata": {
    "execution": {
     "iopub.execute_input": "2024-01-16T04:49:33.287545Z",
     "iopub.status.busy": "2024-01-16T04:49:33.287159Z",
     "iopub.status.idle": "2024-01-16T04:49:33.293900Z",
     "shell.execute_reply": "2024-01-16T04:49:33.292668Z"
    },
    "papermill": {
     "duration": 0.025912,
     "end_time": "2024-01-16T04:49:33.296300",
     "exception": false,
     "start_time": "2024-01-16T04:49:33.270388",
     "status": "completed"
    },
    "tags": []
   },
   "outputs": [],
   "source": [
    "CA_stats[\"density\"] = CA_stats[\"population\"] / CA_stats[\"area_sqkm\"]"
   ]
  },
  {
   "cell_type": "markdown",
   "id": "c825d2d4",
   "metadata": {
    "papermill": {
     "duration": 0.015213,
     "end_time": "2024-01-16T04:49:33.326691",
     "exception": false,
     "start_time": "2024-01-16T04:49:33.311478",
     "status": "completed"
    },
    "tags": []
   },
   "source": [
    "### 4) Which counties look promising?\n",
    "\n",
    "Collapsing all of the information into a single GeoDataFrame also makes it much easier to select counties that meet specific criteria.\n",
    "\n",
    "Use the next code cell to create a GeoDataFrame `sel_counties` that contains a subset of the rows (and all of the columns) from the `CA_stats` GeoDataFrame.  In particular, you should select counties where:\n",
    "- there are at least 100,000 households making \\$150,000 per year,\n",
    "- the median age is less than 38.5, and\n",
    "- the density of inhabitants is at least 285 (per square kilometer).\n",
    "\n",
    "Additionally, selected counties should satisfy at least one of the following criteria:\n",
    "- there are at least 500,000 households making \\$150,000 per year,\n",
    "- the median age is less than 35.5, or\n",
    "- the density of inhabitants is at least 1400 (per square kilometer).\n",
    "\n",
    "### 4) どの郡が有望か？\n",
    "\n",
    "すべての情報を 1 つの GeoDataFrame にまとめることで、特定の条件を満たす郡を選択することも非常に簡単になります。\n",
    "\n",
    "次のコードセルを使って、`CA_stats` GeoDataFrame の行のサブセット（およびすべての列）を含む GeoDataFrame `sel_counties` を作成します。 特に、以下のような郡を選択する必要がある：\n",
    "- 年間所得が 15 万ドル以上の世帯が 10 万世帯以上ある、\n",
    "- 年齢の中央値が 38.5 歳未満である。\n",
    "- 住民密度が少なくとも285（1平方キロメートルあたり）である。\n",
    "\n",
    "さらに、選ばれた県は、以下の基準のうち少なくとも1つを満たす必要がある：\n",
    "- 年収15万ドルの世帯が50万世帯以上ある、\n",
    "- 年齢中央値が35.5歳未満である。\n",
    "- 人口密度が1400人以上（1平方キロメートルあたり）。"
   ]
  },
  {
   "cell_type": "code",
   "execution_count": 15,
   "id": "8eb15e32",
   "metadata": {
    "execution": {
     "iopub.execute_input": "2024-01-16T04:49:33.359687Z",
     "iopub.status.busy": "2024-01-16T04:49:33.358340Z",
     "iopub.status.idle": "2024-01-16T04:49:33.378252Z",
     "shell.execute_reply": "2024-01-16T04:49:33.377147Z"
    },
    "papermill": {
     "duration": 0.038944,
     "end_time": "2024-01-16T04:49:33.380739",
     "exception": false,
     "start_time": "2024-01-16T04:49:33.341795",
     "status": "completed"
    },
    "tags": []
   },
   "outputs": [
    {
     "data": {
      "application/javascript": [
       "parent.postMessage({\"jupyterEvent\": \"custom.exercise_interaction\", \"data\": {\"outcomeType\": 1, \"valueTowardsCompletion\": 0.2, \"interactionType\": 1, \"questionType\": 2, \"questionId\": \"4_Q4\", \"learnToolsVersion\": \"0.3.4\", \"failureMessage\": \"\", \"exceptionClass\": \"\", \"trace\": \"\"}}, \"*\")"
      ],
      "text/plain": [
       "<IPython.core.display.Javascript object>"
      ]
     },
     "metadata": {},
     "output_type": "display_data"
    },
    {
     "data": {
      "text/markdown": [
       "<span style=\"color:#33cc33\">Correct</span>"
      ],
      "text/plain": [
       "Correct"
      ]
     },
     "metadata": {},
     "output_type": "display_data"
    }
   ],
   "source": [
    "# Your code here\n",
    "sel_counties = CA_stats[((CA_stats.high_earners > 100000) &\n",
    "                         (CA_stats.median_age < 38.5) &\n",
    "                         (CA_stats.density > 285) &\n",
    "                         ((CA_stats.median_age < 35.5) |\n",
    "                         (CA_stats.density > 1400) |\n",
    "                         (CA_stats.high_earners > 500000)))]\n",
    "\n",
    "# Check your answer\n",
    "q_4.check()"
   ]
  },
  {
   "cell_type": "code",
   "execution_count": 16,
   "id": "456f7172",
   "metadata": {
    "execution": {
     "iopub.execute_input": "2024-01-16T04:49:33.414598Z",
     "iopub.status.busy": "2024-01-16T04:49:33.413556Z",
     "iopub.status.idle": "2024-01-16T04:49:33.423380Z",
     "shell.execute_reply": "2024-01-16T04:49:33.422287Z"
    },
    "papermill": {
     "duration": 0.029912,
     "end_time": "2024-01-16T04:49:33.425973",
     "exception": false,
     "start_time": "2024-01-16T04:49:33.396061",
     "status": "completed"
    },
    "tags": []
   },
   "outputs": [
    {
     "data": {
      "application/javascript": [
       "parent.postMessage({\"jupyterEvent\": \"custom.exercise_interaction\", \"data\": {\"interactionType\": 3, \"questionType\": 2, \"questionId\": \"4_Q4\", \"learnToolsVersion\": \"0.3.4\", \"valueTowardsCompletion\": 0.0, \"failureMessage\": \"\", \"exceptionClass\": \"\", \"trace\": \"\", \"outcomeType\": 4}}, \"*\")"
      ],
      "text/plain": [
       "<IPython.core.display.Javascript object>"
      ]
     },
     "metadata": {},
     "output_type": "display_data"
    },
    {
     "data": {
      "text/markdown": [
       "<span style=\"color:#33cc99\">Solution:</span> \n",
       "```python\n",
       "sel_counties = CA_stats[((CA_stats.high_earners > 100000) &\n",
       "                         (CA_stats.median_age < 38.5) &\n",
       "                         (CA_stats.density > 285) &\n",
       "                         ((CA_stats.median_age < 35.5) |\n",
       "                         (CA_stats.density > 1400) |\n",
       "                         (CA_stats.high_earners > 500000)))]\n",
       "\n",
       "```"
      ],
      "text/plain": [
       "Solution: \n",
       "```python\n",
       "sel_counties = CA_stats[((CA_stats.high_earners > 100000) &\n",
       "                         (CA_stats.median_age < 38.5) &\n",
       "                         (CA_stats.density > 285) &\n",
       "                         ((CA_stats.median_age < 35.5) |\n",
       "                         (CA_stats.density > 1400) |\n",
       "                         (CA_stats.high_earners > 500000)))]\n",
       "\n",
       "```"
      ]
     },
     "metadata": {},
     "output_type": "display_data"
    }
   ],
   "source": [
    "# Lines below will give you a hint or solution code\n",
    "#q_4.hint()\n",
    "q_4.solution()"
   ]
  },
  {
   "cell_type": "markdown",
   "id": "1e9065e6",
   "metadata": {
    "papermill": {
     "duration": 0.015465,
     "end_time": "2024-01-16T04:49:33.457553",
     "exception": false,
     "start_time": "2024-01-16T04:49:33.442088",
     "status": "completed"
    },
    "tags": []
   },
   "source": [
    "### 5) How many stores did you identify?\n",
    "\n",
    "When looking for the next Starbucks Reserve Roastery location, you'd like to consider all of the stores within the counties that you selected.  So, how many stores are within the selected counties?\n",
    "\n",
    "To prepare to answer this question, run the next code cell to create a GeoDataFrame `starbucks_gdf` with all of the starbucks locations.\n",
    "\n",
    "### 5）何店舗を特定しましたか？\n",
    "\n",
    "次のスターバックス リザーブ ロースタリー店舗を探す場合、選択した郡内のすべての店舗を考慮したいと思います。 では、選択した郡内にいくつの店舗があるでしょうか？\n",
    "\n",
    "この質問に答える準備として、次のコードセルを実行して、スターバックスの全店舗を含む GeoDataFrame `starbucks_gdf` を作成します。"
   ]
  },
  {
   "cell_type": "code",
   "execution_count": 17,
   "id": "681bb866",
   "metadata": {
    "execution": {
     "iopub.execute_input": "2024-01-16T04:49:33.491040Z",
     "iopub.status.busy": "2024-01-16T04:49:33.490613Z",
     "iopub.status.idle": "2024-01-16T04:49:33.647335Z",
     "shell.execute_reply": "2024-01-16T04:49:33.645896Z"
    },
    "papermill": {
     "duration": 0.176388,
     "end_time": "2024-01-16T04:49:33.649705",
     "exception": false,
     "start_time": "2024-01-16T04:49:33.473317",
     "status": "completed"
    },
    "tags": []
   },
   "outputs": [
    {
     "name": "stderr",
     "output_type": "stream",
     "text": [
      "/opt/conda/lib/python3.10/site-packages/pyproj/crs/crs.py:141: FutureWarning: '+init=<authority>:<code>' syntax is deprecated. '<authority>:<code>' is the preferred initialization method. When making the change, be mindful of axis order changes: https://pyproj4.github.io/pyproj/stable/gotchas.html#axis-order-changes-in-proj-6\n",
      "  in_crs_string = _prepare_from_proj_string(in_crs_string)\n"
     ]
    }
   ],
   "source": [
    "starbucks_gdf = gpd.GeoDataFrame(starbucks, geometry=gpd.points_from_xy(starbucks.Longitude, starbucks.Latitude))\n",
    "starbucks_gdf.crs = {'init': 'epsg:4326'}"
   ]
  },
  {
   "cell_type": "markdown",
   "id": "4be23abe",
   "metadata": {
    "papermill": {
     "duration": 0.015408,
     "end_time": "2024-01-16T04:49:33.680908",
     "exception": false,
     "start_time": "2024-01-16T04:49:33.665500",
     "status": "completed"
    },
    "tags": []
   },
   "source": [
    "So, how many stores are in the counties you selected?\n",
    "では、あなたが選んだ県には何店舗あるのですか？"
   ]
  },
  {
   "cell_type": "code",
   "execution_count": 18,
   "id": "4a96173d",
   "metadata": {
    "execution": {
     "iopub.execute_input": "2024-01-16T04:49:33.714058Z",
     "iopub.status.busy": "2024-01-16T04:49:33.713657Z",
     "iopub.status.idle": "2024-01-16T04:49:34.075448Z",
     "shell.execute_reply": "2024-01-16T04:49:34.073968Z"
    },
    "papermill": {
     "duration": 0.38211,
     "end_time": "2024-01-16T04:49:34.078694",
     "exception": false,
     "start_time": "2024-01-16T04:49:33.696584",
     "status": "completed"
    },
    "tags": []
   },
   "outputs": [
    {
     "name": "stdout",
     "output_type": "stream",
     "text": [
      "1043\n"
     ]
    },
    {
     "data": {
      "application/javascript": [
       "parent.postMessage({\"jupyterEvent\": \"custom.exercise_interaction\", \"data\": {\"outcomeType\": 1, \"valueTowardsCompletion\": 0.2, \"interactionType\": 1, \"questionType\": 2, \"questionId\": \"5_Q5\", \"learnToolsVersion\": \"0.3.4\", \"failureMessage\": \"\", \"exceptionClass\": \"\", \"trace\": \"\"}}, \"*\")"
      ],
      "text/plain": [
       "<IPython.core.display.Javascript object>"
      ]
     },
     "metadata": {},
     "output_type": "display_data"
    },
    {
     "data": {
      "text/markdown": [
       "<span style=\"color:#33cc33\">Correct</span>"
      ],
      "text/plain": [
       "Correct"
      ]
     },
     "metadata": {},
     "output_type": "display_data"
    }
   ],
   "source": [
    "# Fill in your answer\n",
    "locations_of_interest = gpd.sjoin(starbucks_gdf, sel_counties)\n",
    "num_stores = len(locations_of_interest)\n",
    "print(num_stores)\n",
    "\n",
    "# Check your answer\n",
    "q_5.check()"
   ]
  },
  {
   "cell_type": "code",
   "execution_count": 19,
   "id": "6ebdcb9e",
   "metadata": {
    "execution": {
     "iopub.execute_input": "2024-01-16T04:49:34.120213Z",
     "iopub.status.busy": "2024-01-16T04:49:34.119674Z",
     "iopub.status.idle": "2024-01-16T04:49:34.129486Z",
     "shell.execute_reply": "2024-01-16T04:49:34.128405Z"
    },
    "papermill": {
     "duration": 0.030938,
     "end_time": "2024-01-16T04:49:34.131901",
     "exception": false,
     "start_time": "2024-01-16T04:49:34.100963",
     "status": "completed"
    },
    "tags": []
   },
   "outputs": [
    {
     "data": {
      "application/javascript": [
       "parent.postMessage({\"jupyterEvent\": \"custom.exercise_interaction\", \"data\": {\"interactionType\": 3, \"questionType\": 2, \"questionId\": \"5_Q5\", \"learnToolsVersion\": \"0.3.4\", \"valueTowardsCompletion\": 0.0, \"failureMessage\": \"\", \"exceptionClass\": \"\", \"trace\": \"\", \"outcomeType\": 4}}, \"*\")"
      ],
      "text/plain": [
       "<IPython.core.display.Javascript object>"
      ]
     },
     "metadata": {},
     "output_type": "display_data"
    },
    {
     "data": {
      "text/markdown": [
       "<span style=\"color:#33cc99\">Solution:</span> \n",
       "```python\n",
       "locations_of_interest = gpd.sjoin(starbucks_gdf, sel_counties)\n",
       "num_stores = len(locations_of_interest)\n",
       "\n",
       "```"
      ],
      "text/plain": [
       "Solution: \n",
       "```python\n",
       "locations_of_interest = gpd.sjoin(starbucks_gdf, sel_counties)\n",
       "num_stores = len(locations_of_interest)\n",
       "\n",
       "```"
      ]
     },
     "metadata": {},
     "output_type": "display_data"
    }
   ],
   "source": [
    "# Lines below will give you a hint or solution code\n",
    "#q_5.hint()\n",
    "q_5.solution()"
   ]
  },
  {
   "cell_type": "markdown",
   "id": "a7370404",
   "metadata": {
    "papermill": {
     "duration": 0.020233,
     "end_time": "2024-01-16T04:49:34.169369",
     "exception": false,
     "start_time": "2024-01-16T04:49:34.149136",
     "status": "completed"
    },
    "tags": []
   },
   "source": [
    "### 6) Visualize the store locations.\n",
    "\n",
    "Create a map that shows the locations of the stores that you identified in the previous question.\n",
    "\n",
    "### 6) 店舗の位置を視覚化する。\n",
    "\n",
    "前問で確認した店舗の位置を地図にする。"
   ]
  },
  {
   "cell_type": "code",
   "execution_count": 20,
   "id": "60724365",
   "metadata": {
    "execution": {
     "iopub.execute_input": "2024-01-16T04:49:34.207157Z",
     "iopub.status.busy": "2024-01-16T04:49:34.206361Z",
     "iopub.status.idle": "2024-01-16T04:49:35.360430Z",
     "shell.execute_reply": "2024-01-16T04:49:35.359257Z"
    },
    "papermill": {
     "duration": 1.175361,
     "end_time": "2024-01-16T04:49:35.362890",
     "exception": false,
     "start_time": "2024-01-16T04:49:34.187529",
     "status": "completed"
    },
    "tags": []
   },
   "outputs": [
    {
     "data": {
      "text/html": [
       "\n",
       "        <iframe\n",
       "            width=\"100%\"\n",
       "            height=\"500px\"\n",
       "            src=\"q_6.html\"\n",
       "            frameborder=\"0\"\n",
       "            allowfullscreen\n",
       "            \n",
       "        ></iframe>\n",
       "        "
      ],
      "text/plain": [
       "<IPython.lib.display.IFrame at 0x782e446e27d0>"
      ]
     },
     "execution_count": 20,
     "metadata": {},
     "output_type": "execute_result"
    }
   ],
   "source": [
    "# Create a base map\n",
    "m_6 = folium.Map(location=[37,-120], zoom_start=6)\n",
    "\n",
    "# Your code here: show selected store locations\n",
    "mc = MarkerCluster()\n",
    "\n",
    "locations_of_interest = gpd.sjoin(starbucks_gdf, sel_counties)\n",
    "for idx, row in locations_of_interest.iterrows():\n",
    "    if not math.isnan(row['Longitude']) and not math.isnan(row['Latitude']):\n",
    "        mc.add_child(folium.Marker([row['Latitude'], row['Longitude']]))\n",
    "\n",
    "m_6.add_child(mc)\n",
    "\n",
    "# Uncomment to see a hint\n",
    "#q_6.hint()\n",
    "\n",
    "# Show the map\n",
    "embed_map(m_6, 'q_6.html')"
   ]
  },
  {
   "cell_type": "code",
   "execution_count": 21,
   "id": "3e4b182f",
   "metadata": {
    "execution": {
     "iopub.execute_input": "2024-01-16T04:49:35.399646Z",
     "iopub.status.busy": "2024-01-16T04:49:35.398942Z",
     "iopub.status.idle": "2024-01-16T04:49:35.413038Z",
     "shell.execute_reply": "2024-01-16T04:49:35.411738Z"
    },
    "papermill": {
     "duration": 0.035411,
     "end_time": "2024-01-16T04:49:35.415289",
     "exception": false,
     "start_time": "2024-01-16T04:49:35.379878",
     "status": "completed"
    },
    "tags": []
   },
   "outputs": [
    {
     "data": {
      "application/javascript": [
       "parent.postMessage({\"jupyterEvent\": \"custom.exercise_interaction\", \"data\": {\"outcomeType\": 1, \"valueTowardsCompletion\": 0.2, \"interactionType\": 1, \"questionType\": 2, \"questionId\": \"6_Q6\", \"learnToolsVersion\": \"0.3.4\", \"failureMessage\": \"\", \"exceptionClass\": \"\", \"trace\": \"\"}}, \"*\")"
      ],
      "text/plain": [
       "<IPython.core.display.Javascript object>"
      ]
     },
     "metadata": {},
     "output_type": "display_data"
    },
    {
     "data": {
      "text/markdown": [
       "<span style=\"color:#33cc33\">Thank you for creating a map!</span>"
      ],
      "text/plain": [
       "Thank you for creating a map!"
      ]
     },
     "metadata": {},
     "output_type": "display_data"
    },
    {
     "data": {
      "application/javascript": [
       "parent.postMessage({\"jupyterEvent\": \"custom.exercise_interaction\", \"data\": {\"interactionType\": 3, \"questionType\": 2, \"questionId\": \"6_Q6\", \"learnToolsVersion\": \"0.3.4\", \"valueTowardsCompletion\": 0.0, \"failureMessage\": \"\", \"exceptionClass\": \"\", \"trace\": \"\", \"outcomeType\": 4}}, \"*\")"
      ],
      "text/plain": [
       "<IPython.core.display.Javascript object>"
      ]
     },
     "metadata": {},
     "output_type": "display_data"
    },
    {
     "data": {
      "text/markdown": [
       "<span style=\"color:#33cc99\">Solution:</span> \n",
       "```python\n",
       "# Show selected store locations\n",
       "mc = MarkerCluster()\n",
       "\n",
       "locations_of_interest = gpd.sjoin(starbucks_gdf, sel_counties)\n",
       "for idx, row in locations_of_interest.iterrows():\n",
       "    if not math.isnan(row['Longitude']) and not math.isnan(row['Latitude']):\n",
       "        mc.add_child(folium.Marker([row['Latitude'], row['Longitude']]))\n",
       "        \n",
       "m_6.add_child(mc)\n",
       "\n",
       "```"
      ],
      "text/plain": [
       "Solution: \n",
       "```python\n",
       "# Show selected store locations\n",
       "mc = MarkerCluster()\n",
       "\n",
       "locations_of_interest = gpd.sjoin(starbucks_gdf, sel_counties)\n",
       "for idx, row in locations_of_interest.iterrows():\n",
       "    if not math.isnan(row['Longitude']) and not math.isnan(row['Latitude']):\n",
       "        mc.add_child(folium.Marker([row['Latitude'], row['Longitude']]))\n",
       "        \n",
       "m_6.add_child(mc)\n",
       "\n",
       "```"
      ]
     },
     "metadata": {},
     "output_type": "display_data"
    }
   ],
   "source": [
    "# Get credit for your work after you have created a map\n",
    "q_6.check()\n",
    "\n",
    "# Uncomment to see our solution (your code may look different!)\n",
    "q_6.solution()"
   ]
  },
  {
   "cell_type": "markdown",
   "id": "72c023aa",
   "metadata": {
    "papermill": {
     "duration": 0.017262,
     "end_time": "2024-01-16T04:49:35.450926",
     "exception": false,
     "start_time": "2024-01-16T04:49:35.433664",
     "status": "completed"
    },
    "tags": []
   },
   "source": [
    "# Keep going\n",
    "\n",
    "Learn about how **[proximity analysis](https://www.kaggle.com/alexisbcook/proximity-analysis)** can help you to understand the relationships between points on a map."
   ]
  },
  {
   "cell_type": "markdown",
   "id": "5868cfd5",
   "metadata": {
    "papermill": {
     "duration": 0.017752,
     "end_time": "2024-01-16T04:49:35.486535",
     "exception": false,
     "start_time": "2024-01-16T04:49:35.468783",
     "status": "completed"
    },
    "tags": []
   },
   "source": [
    "---\n",
    "\n",
    "\n",
    "\n",
    "\n",
    "*Have questions or comments? Visit the [course discussion forum](https://www.kaggle.com/learn/geospatial-analysis/discussion) to chat with other learners.*"
   ]
  }
 ],
 "metadata": {
  "kaggle": {
   "accelerator": "none",
   "dataSources": [
    {
     "datasetId": 348259,
     "sourceId": 695175,
     "sourceType": "datasetVersion"
    },
    {
     "datasetId": 116573,
     "sourceId": 3551030,
     "sourceType": "datasetVersion"
    }
   ],
   "isGpuEnabled": false,
   "isInternetEnabled": false,
   "language": "python",
   "sourceType": "notebook"
  },
  "kernelspec": {
   "display_name": "Python 3",
   "language": "python",
   "name": "python3"
  },
  "language_info": {
   "codemirror_mode": {
    "name": "ipython",
    "version": 3
   },
   "file_extension": ".py",
   "mimetype": "text/x-python",
   "name": "python",
   "nbconvert_exporter": "python",
   "pygments_lexer": "ipython3",
   "version": "3.10.12"
  },
  "papermill": {
   "default_parameters": {},
   "duration": 10.230824,
   "end_time": "2024-01-16T04:49:36.225954",
   "environment_variables": {},
   "exception": null,
   "input_path": "__notebook__.ipynb",
   "output_path": "__notebook__.ipynb",
   "parameters": {},
   "start_time": "2024-01-16T04:49:25.995130",
   "version": "2.4.0"
  }
 },
 "nbformat": 4,
 "nbformat_minor": 5
}
