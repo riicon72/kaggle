{
 "cells": [
  {
   "cell_type": "markdown",
   "id": "720a7679",
   "metadata": {
    "papermill": {
     "duration": 0.002668,
     "end_time": "2024-03-20T07:53:37.639869",
     "exception": false,
     "start_time": "2024-03-20T07:53:37.637201",
     "status": "completed"
    },
    "tags": []
   },
   "source": [
    "<a id=\"1\"></a>\n",
    "# <p style=\"background-image: url(https://i.postimg.cc/XNRWVtpC/publicdomainq-0062147.jpg);font-family:camtasia;font-size:120%;color:Black;text-align:center;border-radius:15px 50px; padding:7px\"> Merge files into a single PDF</p>"
   ]
  },
  {
   "cell_type": "markdown",
   "id": "5eb0b8fb",
   "metadata": {
    "papermill": {
     "duration": 0.001723,
     "end_time": "2024-03-20T07:53:37.643879",
     "exception": false,
     "start_time": "2024-03-20T07:53:37.642156",
     "status": "completed"
    },
    "tags": []
   },
   "source": [
    "<p><center style=\"color:#b22222; font-family:Cormorant Garamond; font-size:30px;\">Please use Jupyter notebook📖</center></p>\n",
    "<p><center style=\"color:#b22222; font-family:Cormorant Garamond; font-size:30px;\">It's very easy so please give it a try.</center></p>"
   ]
  },
  {
   "cell_type": "markdown",
   "id": "45b393c5",
   "metadata": {
    "papermill": {
     "duration": 0.00164,
     "end_time": "2024-03-20T07:53:37.647382",
     "exception": false,
     "start_time": "2024-03-20T07:53:37.645742",
     "status": "completed"
    },
    "tags": []
   },
   "source": [
    "![](https://i.postimg.cc/X7GnnPCm/2024-03-20-16-35-08.png)"
   ]
  },
  {
   "cell_type": "markdown",
   "id": "f9e6ac3f",
   "metadata": {
    "execution": {
     "iopub.execute_input": "2024-03-20T07:13:51.133757Z",
     "iopub.status.busy": "2024-03-20T07:13:51.133330Z",
     "iopub.status.idle": "2024-03-20T07:13:51.142314Z",
     "shell.execute_reply": "2024-03-20T07:13:51.140767Z",
     "shell.execute_reply.started": "2024-03-20T07:13:51.133728Z"
    },
    "papermill": {
     "duration": 0.001565,
     "end_time": "2024-03-20T07:53:37.650709",
     "exception": false,
     "start_time": "2024-03-20T07:53:37.649144",
     "status": "completed"
    },
    "tags": []
   },
   "source": [
    "import fitz<br>\n",
    "import pathlib<br>\n",
    "import os<br>\n",
    "\n",
    "curdir = os.getcwd()<br>\n",
    "files = list(pathlib.Path(curdir).glob('*.pdf'))<br>\n",
    "sfiles = sorted(files)<br>\n",
    "doc = fitz.open()<br>\n",
    "\n",
    "for file in sfiles:<br>\n",
    "    infile = fitz.open(file)<br>\n",
    "\n",
    "    doc_lastPage = len(doc)\n",
    "    infile_lastPage = len(infile)\n",
    "    doc.insertPDF(infile, from_page=0, to_page=infile_lastPage, start_at=doc_lastPage, rotate=0)\n",
    "    infile.close()\n",
    "\n",
    "filename = 'pdf_3.pdf'<br>\n",
    "doc.save(filename)<br>"
   ]
  }
 ],
 "metadata": {
  "kaggle": {
   "accelerator": "none",
   "dataSources": [
    {
     "datasetId": 4634164,
     "sourceId": 7892784,
     "sourceType": "datasetVersion"
    }
   ],
   "dockerImageVersionId": 30664,
   "isGpuEnabled": false,
   "isInternetEnabled": true,
   "language": "python",
   "sourceType": "notebook"
  },
  "kernelspec": {
   "display_name": "Python 3",
   "language": "python",
   "name": "python3"
  },
  "language_info": {
   "codemirror_mode": {
    "name": "ipython",
    "version": 3
   },
   "file_extension": ".py",
   "mimetype": "text/x-python",
   "name": "python",
   "nbconvert_exporter": "python",
   "pygments_lexer": "ipython3",
   "version": "3.10.13"
  },
  "papermill": {
   "default_parameters": {},
   "duration": 3.236701,
   "end_time": "2024-03-20T07:53:38.078109",
   "environment_variables": {},
   "exception": null,
   "input_path": "__notebook__.ipynb",
   "output_path": "__notebook__.ipynb",
   "parameters": {},
   "start_time": "2024-03-20T07:53:34.841408",
   "version": "2.5.0"
  }
 },
 "nbformat": 4,
 "nbformat_minor": 5
}
