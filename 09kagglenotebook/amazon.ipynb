{
 "cells": [
  {
   "cell_type": "code",
   "execution_count": 1,
   "id": "64f59179",
   "metadata": {
    "execution": {
     "iopub.execute_input": "2024-09-16T05:22:24.884339Z",
     "iopub.status.busy": "2024-09-16T05:22:24.883910Z",
     "iopub.status.idle": "2024-09-16T05:22:26.838103Z",
     "shell.execute_reply": "2024-09-16T05:22:26.836832Z"
    },
    "papermill": {
     "duration": 1.961549,
     "end_time": "2024-09-16T05:22:26.840696",
     "exception": false,
     "start_time": "2024-09-16T05:22:24.879147",
     "status": "completed"
    },
    "tags": []
   },
   "outputs": [],
   "source": [
    "import pandas as pd\n",
    "import numpy as np\n",
    "import matplotlib.pyplot as plt\n",
    "import seaborn as sns\n",
    "import plotly.graph_objects as go\n",
    "import seaborn as sns"
   ]
  },
  {
   "cell_type": "code",
   "execution_count": 2,
   "id": "24977df5",
   "metadata": {
    "execution": {
     "iopub.execute_input": "2024-09-16T05:22:26.847755Z",
     "iopub.status.busy": "2024-09-16T05:22:26.847231Z",
     "iopub.status.idle": "2024-09-16T05:22:26.910805Z",
     "shell.execute_reply": "2024-09-16T05:22:26.909619Z"
    },
    "papermill": {
     "duration": 0.069678,
     "end_time": "2024-09-16T05:22:26.913106",
     "exception": false,
     "start_time": "2024-09-16T05:22:26.843428",
     "status": "completed"
    },
    "tags": []
   },
   "outputs": [
    {
     "name": "stdout",
     "output_type": "stream",
     "text": [
      "-----------\n",
      "<class 'pandas.core.frame.DataFrame'>\n",
      "RangeIndex: 88 entries, 0 to 87\n",
      "Data columns (total 4 columns):\n",
      " #   Column       Non-Null Count  Dtype \n",
      "---  ------       --------------  ----- \n",
      " 0   index        88 non-null     int64 \n",
      " 1   image_link   88 non-null     object\n",
      " 2   group_id     88 non-null     int64 \n",
      " 3   entity_name  88 non-null     object\n",
      "dtypes: int64(2), object(2)\n",
      "memory usage: 2.9+ KB\n",
      "-----------\n"
     ]
    },
    {
     "data": {
      "text/html": [
       "<div>\n",
       "<style scoped>\n",
       "    .dataframe tbody tr th:only-of-type {\n",
       "        vertical-align: middle;\n",
       "    }\n",
       "\n",
       "    .dataframe tbody tr th {\n",
       "        vertical-align: top;\n",
       "    }\n",
       "\n",
       "    .dataframe thead th {\n",
       "        text-align: right;\n",
       "    }\n",
       "</style>\n",
       "<table border=\"1\" class=\"dataframe\">\n",
       "  <thead>\n",
       "    <tr style=\"text-align: right;\">\n",
       "      <th></th>\n",
       "      <th>index</th>\n",
       "      <th>image_link</th>\n",
       "      <th>group_id</th>\n",
       "      <th>entity_name</th>\n",
       "    </tr>\n",
       "  </thead>\n",
       "  <tbody>\n",
       "    <tr>\n",
       "      <th>0</th>\n",
       "      <td>0</td>\n",
       "      <td>https://m.media-amazon.com/images/I/41-NCxNuBx...</td>\n",
       "      <td>658003</td>\n",
       "      <td>width</td>\n",
       "    </tr>\n",
       "    <tr>\n",
       "      <th>1</th>\n",
       "      <td>1</td>\n",
       "      <td>https://m.media-amazon.com/images/I/41-NCxNuBx...</td>\n",
       "      <td>658003</td>\n",
       "      <td>depth</td>\n",
       "    </tr>\n",
       "    <tr>\n",
       "      <th>2</th>\n",
       "      <td>2</td>\n",
       "      <td>https://m.media-amazon.com/images/I/417NJrPEk+...</td>\n",
       "      <td>939426</td>\n",
       "      <td>maximum_weight_recommendation</td>\n",
       "    </tr>\n",
       "    <tr>\n",
       "      <th>3</th>\n",
       "      <td>3</td>\n",
       "      <td>https://m.media-amazon.com/images/I/417SThj+Sr...</td>\n",
       "      <td>276700</td>\n",
       "      <td>voltage</td>\n",
       "    </tr>\n",
       "    <tr>\n",
       "      <th>4</th>\n",
       "      <td>4</td>\n",
       "      <td>https://m.media-amazon.com/images/I/417SThj+Sr...</td>\n",
       "      <td>276700</td>\n",
       "      <td>wattage</td>\n",
       "    </tr>\n",
       "  </tbody>\n",
       "</table>\n",
       "</div>"
      ],
      "text/plain": [
       "   index                                         image_link  group_id  \\\n",
       "0      0  https://m.media-amazon.com/images/I/41-NCxNuBx...    658003   \n",
       "1      1  https://m.media-amazon.com/images/I/41-NCxNuBx...    658003   \n",
       "2      2  https://m.media-amazon.com/images/I/417NJrPEk+...    939426   \n",
       "3      3  https://m.media-amazon.com/images/I/417SThj+Sr...    276700   \n",
       "4      4  https://m.media-amazon.com/images/I/417SThj+Sr...    276700   \n",
       "\n",
       "                     entity_name  \n",
       "0                          width  \n",
       "1                          depth  \n",
       "2  maximum_weight_recommendation  \n",
       "3                        voltage  \n",
       "4                        wattage  "
      ]
     },
     "execution_count": 2,
     "metadata": {},
     "output_type": "execute_result"
    }
   ],
   "source": [
    "sample_test = pd.read_csv('/kaggle/input/amazon-ml-challenge/student_resource 3/dataset/sample_test.csv')\n",
    "print('-----------')\n",
    "sample_test.info()\n",
    "print('-----------')\n",
    "sample_test.isnull().sum()\n",
    "sample_test.head(5)"
   ]
  },
  {
   "cell_type": "code",
   "execution_count": 3,
   "id": "12b201d3",
   "metadata": {
    "execution": {
     "iopub.execute_input": "2024-09-16T05:22:26.920188Z",
     "iopub.status.busy": "2024-09-16T05:22:26.919748Z",
     "iopub.status.idle": "2024-09-16T05:22:27.698655Z",
     "shell.execute_reply": "2024-09-16T05:22:27.697392Z"
    },
    "papermill": {
     "duration": 0.785795,
     "end_time": "2024-09-16T05:22:27.701705",
     "exception": false,
     "start_time": "2024-09-16T05:22:26.915910",
     "status": "completed"
    },
    "tags": []
   },
   "outputs": [
    {
     "name": "stdout",
     "output_type": "stream",
     "text": [
      "-----------\n",
      "<class 'pandas.core.frame.DataFrame'>\n",
      "RangeIndex: 263859 entries, 0 to 263858\n",
      "Data columns (total 4 columns):\n",
      " #   Column        Non-Null Count   Dtype \n",
      "---  ------        --------------   ----- \n",
      " 0   image_link    263859 non-null  object\n",
      " 1   group_id      263859 non-null  int64 \n",
      " 2   entity_name   263859 non-null  object\n",
      " 3   entity_value  263859 non-null  object\n",
      "dtypes: int64(1), object(3)\n",
      "memory usage: 8.1+ MB\n",
      "-----------\n"
     ]
    },
    {
     "data": {
      "text/html": [
       "<div>\n",
       "<style scoped>\n",
       "    .dataframe tbody tr th:only-of-type {\n",
       "        vertical-align: middle;\n",
       "    }\n",
       "\n",
       "    .dataframe tbody tr th {\n",
       "        vertical-align: top;\n",
       "    }\n",
       "\n",
       "    .dataframe thead th {\n",
       "        text-align: right;\n",
       "    }\n",
       "</style>\n",
       "<table border=\"1\" class=\"dataframe\">\n",
       "  <thead>\n",
       "    <tr style=\"text-align: right;\">\n",
       "      <th></th>\n",
       "      <th>image_link</th>\n",
       "      <th>group_id</th>\n",
       "      <th>entity_name</th>\n",
       "      <th>entity_value</th>\n",
       "    </tr>\n",
       "  </thead>\n",
       "  <tbody>\n",
       "    <tr>\n",
       "      <th>0</th>\n",
       "      <td>https://m.media-amazon.com/images/I/61I9XdN6OF...</td>\n",
       "      <td>748919</td>\n",
       "      <td>item_weight</td>\n",
       "      <td>500.0 gram</td>\n",
       "    </tr>\n",
       "    <tr>\n",
       "      <th>1</th>\n",
       "      <td>https://m.media-amazon.com/images/I/71gSRbyXmo...</td>\n",
       "      <td>916768</td>\n",
       "      <td>item_volume</td>\n",
       "      <td>1.0 cup</td>\n",
       "    </tr>\n",
       "    <tr>\n",
       "      <th>2</th>\n",
       "      <td>https://m.media-amazon.com/images/I/61BZ4zrjZX...</td>\n",
       "      <td>459516</td>\n",
       "      <td>item_weight</td>\n",
       "      <td>0.709 gram</td>\n",
       "    </tr>\n",
       "    <tr>\n",
       "      <th>3</th>\n",
       "      <td>https://m.media-amazon.com/images/I/612mrlqiI4...</td>\n",
       "      <td>459516</td>\n",
       "      <td>item_weight</td>\n",
       "      <td>0.709 gram</td>\n",
       "    </tr>\n",
       "    <tr>\n",
       "      <th>4</th>\n",
       "      <td>https://m.media-amazon.com/images/I/617Tl40LOX...</td>\n",
       "      <td>731432</td>\n",
       "      <td>item_weight</td>\n",
       "      <td>1400 milligram</td>\n",
       "    </tr>\n",
       "  </tbody>\n",
       "</table>\n",
       "</div>"
      ],
      "text/plain": [
       "                                          image_link  group_id  entity_name  \\\n",
       "0  https://m.media-amazon.com/images/I/61I9XdN6OF...    748919  item_weight   \n",
       "1  https://m.media-amazon.com/images/I/71gSRbyXmo...    916768  item_volume   \n",
       "2  https://m.media-amazon.com/images/I/61BZ4zrjZX...    459516  item_weight   \n",
       "3  https://m.media-amazon.com/images/I/612mrlqiI4...    459516  item_weight   \n",
       "4  https://m.media-amazon.com/images/I/617Tl40LOX...    731432  item_weight   \n",
       "\n",
       "     entity_value  \n",
       "0      500.0 gram  \n",
       "1         1.0 cup  \n",
       "2      0.709 gram  \n",
       "3      0.709 gram  \n",
       "4  1400 milligram  "
      ]
     },
     "execution_count": 3,
     "metadata": {},
     "output_type": "execute_result"
    }
   ],
   "source": [
    "train = pd.read_csv('/kaggle/input/amazon-ml-challenge/student_resource 3/dataset/train.csv')\n",
    "print('-----------')\n",
    "train.info()\n",
    "print('-----------')\n",
    "train.isnull().sum()\n",
    "train.head(5)"
   ]
  },
  {
   "cell_type": "code",
   "execution_count": 4,
   "id": "7124d654",
   "metadata": {
    "execution": {
     "iopub.execute_input": "2024-09-16T05:22:27.713126Z",
     "iopub.status.busy": "2024-09-16T05:22:27.712058Z",
     "iopub.status.idle": "2024-09-16T05:22:27.717341Z",
     "shell.execute_reply": "2024-09-16T05:22:27.716244Z"
    },
    "papermill": {
     "duration": 0.013621,
     "end_time": "2024-09-16T05:22:27.719858",
     "exception": false,
     "start_time": "2024-09-16T05:22:27.706237",
     "status": "completed"
    },
    "tags": []
   },
   "outputs": [],
   "source": [
    "df = train"
   ]
  },
  {
   "cell_type": "code",
   "execution_count": 5,
   "id": "6268c786",
   "metadata": {
    "execution": {
     "iopub.execute_input": "2024-09-16T05:22:27.728744Z",
     "iopub.status.busy": "2024-09-16T05:22:27.727632Z",
     "iopub.status.idle": "2024-09-16T05:22:28.092168Z",
     "shell.execute_reply": "2024-09-16T05:22:28.091014Z"
    },
    "papermill": {
     "duration": 0.372543,
     "end_time": "2024-09-16T05:22:28.095610",
     "exception": false,
     "start_time": "2024-09-16T05:22:27.723067",
     "status": "completed"
    },
    "tags": []
   },
   "outputs": [
    {
     "data": {
      "image/png": "[encoded data removed]",
      "text/plain": [
       "<Figure size 640x480 with 1 Axes>"
      ]
     },
     "metadata": {},
     "output_type": "display_data"
    }
   ],
   "source": [
    "import seaborn as sns\n",
    "import matplotlib.pyplot as plt\n",
    "import pandas as pd\n",
    "\n",
    "# entity_nameのカウントを取得し、大きい順にソート\n",
    "entity_counts = df['entity_name'].value_counts().reset_index()\n",
    "entity_counts.columns = ['entity_name', 'count']\n",
    "\n",
    "# カウントを大きい順に並べてプロット\n",
    "sns.barplot(x='entity_name', y='count', data=entity_counts, order=entity_counts['entity_name'])\n",
    "plt.title('Distribution of Entity Names (Sorted by Count)')\n",
    "plt.xticks(rotation=45)\n",
    "plt.show()"
   ]
  },
  {
   "cell_type": "code",
   "execution_count": null,
   "id": "738d85e9",
   "metadata": {
    "papermill": {
     "duration": 0.003531,
     "end_time": "2024-09-16T05:22:28.103097",
     "exception": false,
     "start_time": "2024-09-16T05:22:28.099566",
     "status": "completed"
    },
    "tags": []
   },
   "outputs": [],
   "source": []
  }
 ],
 "metadata": {
  "kaggle": {
   "accelerator": "none",
   "dataSources": [
    {
     "datasetId": 5690179,
     "sourceId": 9383238,
     "sourceType": "datasetVersion"
    }
   ],
   "dockerImageVersionId": 30761,
   "isGpuEnabled": false,
   "isInternetEnabled": true,
   "language": "python",
   "sourceType": "notebook"
  },
  "kernelspec": {
   "display_name": "Python 3",
   "language": "python",
   "name": "python3"
  },
  "language_info": {
   "codemirror_mode": {
    "name": "ipython",
    "version": 3
   },
   "file_extension": ".py",
   "mimetype": "text/x-python",
   "name": "python",
   "nbconvert_exporter": "python",
   "pygments_lexer": "ipython3",
   "version": "3.10.14"
  },
  "papermill": {
   "default_parameters": {},
   "duration": 6.469366,
   "end_time": "2024-09-16T05:22:28.728743",
   "environment_variables": {},
   "exception": null,
   "input_path": "__notebook__.ipynb",
   "output_path": "__notebook__.ipynb",
   "parameters": {},
   "start_time": "2024-09-16T05:22:22.259377",
   "version": "2.6.0"
  }
 },
 "nbformat": 4,
 "nbformat_minor": 5
}
