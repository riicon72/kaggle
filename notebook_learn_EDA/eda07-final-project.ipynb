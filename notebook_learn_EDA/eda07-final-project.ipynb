{
 "cells": [
  {
   "cell_type": "markdown",
   "id": "49c30a96",
   "metadata": {
    "papermill": {
     "duration": 0.005143,
     "end_time": "2023-11-10T14:32:12.925321",
     "exception": false,
     "start_time": "2023-11-10T14:32:12.920178",
     "status": "completed"
    },
    "tags": []
   },
   "source": [
    "**This notebook is an exercise in the [Data Visualization](https://www.kaggle.com/learn/data-visualization) course.  You can reference the tutorial at [this link](https://www.kaggle.com/alexisbcook/final-project).**\n",
    "\n",
    "---\n"
   ]
  },
  {
   "cell_type": "markdown",
   "id": "4ca451c0",
   "metadata": {
    "papermill": {
     "duration": 0.003768,
     "end_time": "2023-11-10T14:32:12.933904",
     "exception": false,
     "start_time": "2023-11-10T14:32:12.930136",
     "status": "completed"
    },
    "tags": []
   },
   "source": [
    "日本人向けに日本語訳を入れました。 言い回しが間違っていたらすみません。 お役に立てれば幸いです"
   ]
  },
  {
   "cell_type": "markdown",
   "id": "affa38a9",
   "metadata": {
    "papermill": {
     "duration": 0.003746,
     "end_time": "2023-11-10T14:32:12.941716",
     "exception": false,
     "start_time": "2023-11-10T14:32:12.937970",
     "status": "completed"
    },
    "tags": []
   },
   "source": [
    "Now it's time for you to demonstrate your new skills with a project of your own!\n",
    "さて、いよいよ自分のプロジェクトで新しいスキルを発揮するときが来た！\n",
    "\n",
    "In this exercise, you will work with a dataset of your choosing.  Once you've selected a dataset, you'll design and create your own plot to tell interesting stories behind the data!\n",
    "この演習では、あなたが選んだデータセットを使います。データセットを選択したら、データの背後にある興味深いストーリーを伝えるために、独自のプロットをデザインして作成します！\n",
    "\n",
    "## Setup\n",
    "\n",
    "Run the next cell to import and configure the Python libraries that you need to complete the exercise.\n",
    "次のセルを実行して、演習を完了するために必要な Python ライブラリをインポートして設定します。"
   ]
  },
  {
   "cell_type": "code",
   "execution_count": 1,
   "id": "39162cba",
   "metadata": {
    "execution": {
     "iopub.execute_input": "2023-11-10T14:32:12.952602Z",
     "iopub.status.busy": "2023-11-10T14:32:12.951708Z",
     "iopub.status.idle": "2023-11-10T14:32:14.692954Z",
     "shell.execute_reply": "2023-11-10T14:32:14.690027Z"
    },
    "papermill": {
     "duration": 1.751028,
     "end_time": "2023-11-10T14:32:14.696706",
     "exception": false,
     "start_time": "2023-11-10T14:32:12.945678",
     "status": "completed"
    },
    "tags": []
   },
   "outputs": [
    {
     "name": "stdout",
     "output_type": "stream",
     "text": [
      "Setup Complete\n"
     ]
    }
   ],
   "source": [
    "import pandas as pd\n",
    "pd.plotting.register_matplotlib_converters()\n",
    "import matplotlib.pyplot as plt\n",
    "%matplotlib inline\n",
    "import seaborn as sns\n",
    "print(\"Setup Complete\")"
   ]
  },
  {
   "cell_type": "code",
   "execution_count": 2,
   "id": "1450921e",
   "metadata": {
    "execution": {
     "iopub.execute_input": "2023-11-10T14:32:14.708767Z",
     "iopub.status.busy": "2023-11-10T14:32:14.708066Z",
     "iopub.status.idle": "2023-11-10T14:32:14.835484Z",
     "shell.execute_reply": "2023-11-10T14:32:14.833853Z"
    },
    "papermill": {
     "duration": 0.136477,
     "end_time": "2023-11-10T14:32:14.838114",
     "exception": false,
     "start_time": "2023-11-10T14:32:14.701637",
     "status": "completed"
    },
    "tags": []
   },
   "outputs": [
    {
     "name": "stdout",
     "output_type": "stream",
     "text": [
      "Setup Complete\n"
     ]
    }
   ],
   "source": [
    "# Set up code checking\n",
    "from learntools.core import binder\n",
    "binder.bind(globals())\n",
    "from learntools.data_viz_to_coder.ex7 import *\n",
    "print(\"Setup Complete\")"
   ]
  },
  {
   "cell_type": "markdown",
   "id": "e376ad5b",
   "metadata": {
    "papermill": {
     "duration": 0.003898,
     "end_time": "2023-11-10T14:32:14.846398",
     "exception": false,
     "start_time": "2023-11-10T14:32:14.842500",
     "status": "completed"
    },
    "tags": []
   },
   "source": [
    "## Step 1: Attach a dataset to the notebook　　　--ノートブックにデータセットを添付する\n",
    "\n",
    "Begin by selecting a CSV dataset from [Kaggle Datasets](https://www.kaggle.com/datasets).  If you're unsure how to do this, please revisit the instructions in the previous tutorial.\n",
    "Kaggle Datasets](https://www.kaggle.com/datasets)からCSVデータセットを選択することから始めましょう。 もしこの方法がわからない場合は、前回のチュートリアルの説明をもう一度見てください。\n",
    "\n",
    "Once you have selected a dataset, click on the **[+ Add data]** option in the top right corner.  This will generate a pop-up window that you can use to search for your chosen dataset.  \n",
    "データセットを選択したら、右上の **[+ Add data]** オプションをクリックします。 するとポップアップ・ウィンドウが表示され、選択したデータセットを検索することができます。 \n",
    "\n",
    "![ex6_search_dataset](https://storage.googleapis.com/kaggle-media/learn/images/cIIWPUS.png)\n",
    "\n",
    "Once you have found the dataset, click on the **[Add]** button to attach it to the notebook.  You can check that it was successful by looking at the **Data** dropdown menu to the right of the notebook -- look for an **input** folder containing a subfolder that matches the name of the dataset.\n",
    "データセットが見つかったら、**[Add]**ボタンをクリックしてノートブックに添付する。 ノートブックの右側にある **Data** ドロップダウンメニューで、データセットの名前と一致するサブフォルダを含む **input** フォルダがあるかどうか確認できます。\n",
    "\n",
    "<center>\n",
    "<img src=\"https://storage.googleapis.com/kaggle-media/learn/images/nMYc1Nu.png\" width=30%><br/>\n",
    "</center>\n",
    "\n",
    "You can click on the carat to the left of the name of the dataset to double-check that it contains a CSV file.  For instance, the image below shows that the example dataset contains two CSV files: (1) **dc-wikia-data.csv**, and (2) **marvel-wikia-data.csv**.\n",
    "データセット名の左側にあるカラットをクリックすると、そのデータセットにCSVファイルが含まれていることを再確認できる。 例えば、下の画像は、例のデータセットに2つのCSVファイル：(1) **dc-wikia-data.csv**、(2) **marvel-wikia-data.csv**が含まれていることを示しています。\n",
    "\n",
    "<center>\n",
    "<img src=\"https://storage.googleapis.com/kaggle-media/learn/images/B4sJkVA.png\" width=30%><br/>\n",
    "</center>\n",
    "\n",
    "Once you've uploaded a dataset with a CSV file, run the code cell below **without changes** to receive credit for your work!\n",
    "CSVファイルでデータセットをアップロードしたら、以下のコードセルを**変更なしで**実行し、あなたの仕事のクレジットを受け取ってください！"
   ]
  },
  {
   "cell_type": "code",
   "execution_count": 3,
   "id": "1e4b8137",
   "metadata": {
    "execution": {
     "iopub.execute_input": "2023-11-10T14:32:14.856031Z",
     "iopub.status.busy": "2023-11-10T14:32:14.855687Z",
     "iopub.status.idle": "2023-11-10T14:32:14.874932Z",
     "shell.execute_reply": "2023-11-10T14:32:14.873943Z"
    },
    "papermill": {
     "duration": 0.026686,
     "end_time": "2023-11-10T14:32:14.877051",
     "exception": false,
     "start_time": "2023-11-10T14:32:14.850365",
     "status": "completed"
    },
    "tags": []
   },
   "outputs": [
    {
     "data": {
      "application/javascript": [
       "parent.postMessage({\"jupyterEvent\": \"custom.exercise_interaction\", \"data\": {\"outcomeType\": 1, \"valueTowardsCompletion\": 0.25, \"interactionType\": 1, \"questionType\": 2, \"questionId\": \"1_AttachData\", \"learnToolsVersion\": \"0.3.4\", \"failureMessage\": \"\", \"exceptionClass\": \"\", \"trace\": \"\"}}, \"*\")"
      ],
      "text/plain": [
       "<IPython.core.display.Javascript object>"
      ]
     },
     "metadata": {},
     "output_type": "display_data"
    },
    {
     "data": {
      "text/markdown": [
       "<span style=\"color:#33cc33\">Correct:</span> \n",
       "\n"
      ],
      "text/plain": [
       "Correct: \n"
      ]
     },
     "metadata": {},
     "output_type": "display_data"
    }
   ],
   "source": [
    "# Check for a dataset with a CSV file\n",
    "step_1.check()"
   ]
  },
  {
   "cell_type": "markdown",
   "id": "3e94383b",
   "metadata": {
    "papermill": {
     "duration": 0.004315,
     "end_time": "2023-11-10T14:32:14.885829",
     "exception": false,
     "start_time": "2023-11-10T14:32:14.881514",
     "status": "completed"
    },
    "tags": []
   },
   "source": [
    "## Step 2: Specify the filepath　　--ステップ2：ファイルパスの指定\n",
    "\n",
    "Now that the dataset is attached to the notebook, you can find its filepath.  To do this, begin by clicking on the CSV file you'd like to use.  This will open the CSV file in a tab below the notebook.  You can find the filepath towards the top of this new tab.  \n",
    "データセットがノートブックに添付されたので、そのファイルパスを指定します。 そのためには、まず使用したいCSVファイルをクリックしてください。 そうすると、ノートブックの下のタブにCSVファイルが開きます。 ファイルパスは、この新しいタブの上部にあります。 \n",
    "\n",
    "![ex6_filepath](https://storage.googleapis.com/kaggle-media/learn/images/fgXQV47.png)\n",
    "\n",
    "After you find the filepath corresponding to your dataset, fill it in as the value for `my_filepath` in the code cell below, and run the code cell to check that you've provided a valid filepath.  For instance, in the case of this example dataset, we would set\n",
    "データセットに対応するファイルパスが見つかったら、それを下のコードセルに `my_filepath` の値として記入する。 例えば、この例のデータセットの場合、次のように設定する。\n",
    "```\n",
    "my_filepath = \"../input/fivethirtyeight-comic-characters-dataset/dc-wikia-data.csv\"\n",
    "```  \n",
    "Note that **you must enclose the filepath in quotation marks**; otherwise, the code will return an error.\n",
    "\n",
    "Once you've entered the filepath, you can close the tab below the notebook by clicking on the **[X]** at the top of the tab.\n",
    "\n",
    "ファイルパスを引用符**で囲む必要があることに注意してください。\n",
    "\n",
    "ファイルパスを入力したら、タブ上部の**[X]**をクリックしてノートブックの下のタブを閉じます。"
   ]
  },
  {
   "cell_type": "code",
   "execution_count": 4,
   "id": "9fda4651",
   "metadata": {
    "execution": {
     "iopub.execute_input": "2023-11-10T14:32:14.896982Z",
     "iopub.status.busy": "2023-11-10T14:32:14.896515Z",
     "iopub.status.idle": "2023-11-10T14:32:14.905418Z",
     "shell.execute_reply": "2023-11-10T14:32:14.904285Z"
    },
    "papermill": {
     "duration": 0.017084,
     "end_time": "2023-11-10T14:32:14.907367",
     "exception": false,
     "start_time": "2023-11-10T14:32:14.890283",
     "status": "completed"
    },
    "tags": []
   },
   "outputs": [
    {
     "data": {
      "application/javascript": [
       "parent.postMessage({\"jupyterEvent\": \"custom.exercise_interaction\", \"data\": {\"outcomeType\": 1, \"valueTowardsCompletion\": 0.25, \"interactionType\": 1, \"questionType\": 2, \"questionId\": \"2_Filepath\", \"learnToolsVersion\": \"0.3.4\", \"failureMessage\": \"\", \"exceptionClass\": \"\", \"trace\": \"\"}}, \"*\")"
      ],
      "text/plain": [
       "<IPython.core.display.Javascript object>"
      ]
     },
     "metadata": {},
     "output_type": "display_data"
    },
    {
     "data": {
      "text/markdown": [
       "<span style=\"color:#33cc33\">Correct:</span> \n",
       "\n"
      ],
      "text/plain": [
       "Correct: \n"
      ]
     },
     "metadata": {},
     "output_type": "display_data"
    }
   ],
   "source": [
    "# Fill in the line below: Specify the path of the CSV file to read\n",
    "my_filepath = '/kaggle/input/japannumber-of-visitors-to-japan/Number of foreign visitors to Japan by month_ .csv'\n",
    "# # Check for a valid filepath to a CSV file in a dataset\n",
    "step_2.check()"
   ]
  },
  {
   "cell_type": "markdown",
   "id": "0ff1e8ba",
   "metadata": {
    "papermill": {
     "duration": 0.004457,
     "end_time": "2023-11-10T14:32:14.916517",
     "exception": false,
     "start_time": "2023-11-10T14:32:14.912060",
     "status": "completed"
    },
    "tags": []
   },
   "source": [
    "## Step 3: Load the data  --データロード\n",
    "\n",
    "Use the next code cell to load your data file into `my_data`.  Use the filepath that you specified in the previous step.\n",
    "次のコードセルを使って、データファイルを `my_data` にロードする。 前のステップで指定したファイルパスを使用してください。"
   ]
  },
  {
   "cell_type": "code",
   "execution_count": 5,
   "id": "7a45dffa",
   "metadata": {
    "execution": {
     "iopub.execute_input": "2023-11-10T14:32:14.928225Z",
     "iopub.status.busy": "2023-11-10T14:32:14.927741Z",
     "iopub.status.idle": "2023-11-10T14:32:14.972525Z",
     "shell.execute_reply": "2023-11-10T14:32:14.971421Z"
    },
    "papermill": {
     "duration": 0.053451,
     "end_time": "2023-11-10T14:32:14.974627",
     "exception": false,
     "start_time": "2023-11-10T14:32:14.921176",
     "status": "completed"
    },
    "tags": []
   },
   "outputs": [
    {
     "data": {
      "application/javascript": [
       "parent.postMessage({\"jupyterEvent\": \"custom.exercise_interaction\", \"data\": {\"outcomeType\": 1, \"valueTowardsCompletion\": 0.25, \"interactionType\": 1, \"questionType\": 2, \"questionId\": \"3_LoadData\", \"learnToolsVersion\": \"0.3.4\", \"failureMessage\": \"\", \"exceptionClass\": \"\", \"trace\": \"\"}}, \"*\")"
      ],
      "text/plain": [
       "<IPython.core.display.Javascript object>"
      ]
     },
     "metadata": {},
     "output_type": "display_data"
    },
    {
     "data": {
      "text/markdown": [
       "<span style=\"color:#33cc33\">Correct:</span> \n",
       "\n"
      ],
      "text/plain": [
       "Correct: \n"
      ]
     },
     "metadata": {},
     "output_type": "display_data"
    }
   ],
   "source": [
    "# Fill in the line below: Read the file into a variable my_data\n",
    "my_data = pd.read_csv(my_filepath )\n",
    "\n",
    "# Check that a dataset has been uploaded into my_data\n",
    "step_3.check()"
   ]
  },
  {
   "cell_type": "markdown",
   "id": "da0efd3e",
   "metadata": {
    "papermill": {
     "duration": 0.004773,
     "end_time": "2023-11-10T14:32:14.984323",
     "exception": false,
     "start_time": "2023-11-10T14:32:14.979550",
     "status": "completed"
    },
    "tags": []
   },
   "source": [
    "**_After the code cell above is marked correct_**, run the code cell below without changes to view the first five rows of the data."
   ]
  },
  {
   "cell_type": "code",
   "execution_count": 6,
   "id": "b2073c24",
   "metadata": {
    "execution": {
     "iopub.execute_input": "2023-11-10T14:32:14.996969Z",
     "iopub.status.busy": "2023-11-10T14:32:14.996322Z",
     "iopub.status.idle": "2023-11-10T14:32:15.022023Z",
     "shell.execute_reply": "2023-11-10T14:32:15.020896Z"
    },
    "papermill": {
     "duration": 0.034761,
     "end_time": "2023-11-10T14:32:15.024257",
     "exception": false,
     "start_time": "2023-11-10T14:32:14.989496",
     "status": "completed"
    },
    "tags": []
   },
   "outputs": [
    {
     "data": {
      "text/html": [
       "<div>\n",
       "<style scoped>\n",
       "    .dataframe tbody tr th:only-of-type {\n",
       "        vertical-align: middle;\n",
       "    }\n",
       "\n",
       "    .dataframe tbody tr th {\n",
       "        vertical-align: top;\n",
       "    }\n",
       "\n",
       "    .dataframe thead th {\n",
       "        text-align: right;\n",
       "    }\n",
       "</style>\n",
       "<table border=\"1\" class=\"dataframe\">\n",
       "  <thead>\n",
       "    <tr style=\"text-align: right;\">\n",
       "      <th></th>\n",
       "      <th>Country/Area</th>\n",
       "      <th>Month</th>\n",
       "      <th>Year</th>\n",
       "      <th>Visitor</th>\n",
       "    </tr>\n",
       "  </thead>\n",
       "  <tbody>\n",
       "    <tr>\n",
       "      <th>0</th>\n",
       "      <td>Afghanistan</td>\n",
       "      <td>Jan.</td>\n",
       "      <td>2017</td>\n",
       "      <td>233</td>\n",
       "    </tr>\n",
       "    <tr>\n",
       "      <th>1</th>\n",
       "      <td>Afghanistan</td>\n",
       "      <td>Feb.</td>\n",
       "      <td>2017</td>\n",
       "      <td>196</td>\n",
       "    </tr>\n",
       "    <tr>\n",
       "      <th>2</th>\n",
       "      <td>Afghanistan</td>\n",
       "      <td>Mar.</td>\n",
       "      <td>2017</td>\n",
       "      <td>192</td>\n",
       "    </tr>\n",
       "    <tr>\n",
       "      <th>3</th>\n",
       "      <td>Afghanistan</td>\n",
       "      <td>Apr.</td>\n",
       "      <td>2017</td>\n",
       "      <td>259</td>\n",
       "    </tr>\n",
       "    <tr>\n",
       "      <th>4</th>\n",
       "      <td>Afghanistan</td>\n",
       "      <td>May</td>\n",
       "      <td>2017</td>\n",
       "      <td>228</td>\n",
       "    </tr>\n",
       "  </tbody>\n",
       "</table>\n",
       "</div>"
      ],
      "text/plain": [
       "  Country/Area Month   Year  Visitor\n",
       "0  Afghanistan   Jan.  2017      233\n",
       "1  Afghanistan   Feb.  2017      196\n",
       "2  Afghanistan   Mar.  2017      192\n",
       "3  Afghanistan   Apr.  2017      259\n",
       "4  Afghanistan    May  2017      228"
      ]
     },
     "execution_count": 6,
     "metadata": {},
     "output_type": "execute_result"
    }
   ],
   "source": [
    "# Print the first five rows of the data\n",
    "my_data.head()"
   ]
  },
  {
   "cell_type": "markdown",
   "id": "6b004f55",
   "metadata": {
    "papermill": {
     "duration": 0.004977,
     "end_time": "2023-11-10T14:32:15.034482",
     "exception": false,
     "start_time": "2023-11-10T14:32:15.029505",
     "status": "completed"
    },
    "tags": []
   },
   "source": [
    "## Step 4: Visualize the data   --可視化データ\n",
    "\n",
    "Use the next code cell to create a figure that tells a story behind your dataset.  You can use any chart type (_line chart, bar chart, heatmap, etc_) of your choosing!\n",
    "\n",
    "次のコードセルを使って、データセットの背後にあるストーリーを伝える図を作成してください。 グラフの種類（折れ線グラフ、棒グラフ、ヒートマップなど）は自由です！"
   ]
  },
  {
   "cell_type": "code",
   "execution_count": 7,
   "id": "919f294b",
   "metadata": {
    "execution": {
     "iopub.execute_input": "2023-11-10T14:32:15.047564Z",
     "iopub.status.busy": "2023-11-10T14:32:15.046669Z",
     "iopub.status.idle": "2023-11-10T14:32:15.900687Z",
     "shell.execute_reply": "2023-11-10T14:32:15.899821Z"
    },
    "papermill": {
     "duration": 0.86504,
     "end_time": "2023-11-10T14:32:15.904723",
     "exception": false,
     "start_time": "2023-11-10T14:32:15.039683",
     "status": "completed"
    },
    "tags": []
   },
   "outputs": [
    {
     "data": {
      "application/javascript": [
       "parent.postMessage({\"jupyterEvent\": \"custom.exercise_interaction\", \"data\": {\"outcomeType\": 1, \"valueTowardsCompletion\": 0.25, \"interactionType\": 1, \"questionType\": 2, \"questionId\": \"1_AttachData\", \"learnToolsVersion\": \"0.3.4\", \"failureMessage\": \"\", \"exceptionClass\": \"\", \"trace\": \"\"}}, \"*\")"
      ],
      "text/plain": [
       "<IPython.core.display.Javascript object>"
      ]
     },
     "metadata": {},
     "output_type": "display_data"
    },
    {
     "data": {
      "text/markdown": [
       "<span style=\"color:#33cc33\">Correct:</span> \n",
       "\n"
      ],
      "text/plain": [
       "Correct: \n"
      ]
     },
     "metadata": {},
     "output_type": "display_data"
    },
    {
     "data": {
      "application/javascript": [
       "parent.postMessage({\"jupyterEvent\": \"custom.exercise_interaction\", \"data\": {\"outcomeType\": 1, \"valueTowardsCompletion\": 0.25, \"interactionType\": 1, \"questionType\": 2, \"questionId\": \"4_CreatePlot\", \"learnToolsVersion\": \"0.3.4\", \"failureMessage\": \"\", \"exceptionClass\": \"\", \"trace\": \"\"}}, \"*\")"
      ],
      "text/plain": [
       "<IPython.core.display.Javascript object>"
      ]
     },
     "metadata": {},
     "output_type": "display_data"
    },
    {
     "data": {
      "text/markdown": [
       "<span style=\"color:#33cc33\">Correct:</span> \n",
       "\n"
      ],
      "text/plain": [
       "Correct: \n"
      ]
     },
     "metadata": {},
     "output_type": "display_data"
    },
    {
     "data": {
      "image/png": "[encoded data removed]",
      "text/plain": [
       "<Figure size 1500x500 with 1 Axes>"
      ]
     },
     "metadata": {},
     "output_type": "display_data"
    }
   ],
   "source": [
    "# Create a plot\n",
    "df_y = my_data.set_index('Year')\n",
    "df_y\n",
    "plt.figure(figsize=(15,5)) \n",
    "plt.xticks(rotation=90) \n",
    "sns.lineplot(data=df_y)\n",
    "\n",
    "# Mark the exercise complete after the code cell is run\n",
    "step_1.check()\n",
    "\n",
    "# Check that a figure appears below\n",
    "step_4.check()"
   ]
  },
  {
   "cell_type": "markdown",
   "id": "6c93f044",
   "metadata": {
    "papermill": {
     "duration": 0.007066,
     "end_time": "2023-11-10T14:32:15.919173",
     "exception": false,
     "start_time": "2023-11-10T14:32:15.912107",
     "status": "completed"
    },
    "tags": []
   },
   "source": [
    "## Keep going\n",
    "\n",
    "Learn how to use your skills after completing the micro-course to create data visualizations in a **[final tutorial](https://www.kaggle.com/alexisbcook/creating-your-own-notebooks)**."
   ]
  },
  {
   "cell_type": "markdown",
   "id": "36662446",
   "metadata": {
    "papermill": {
     "duration": 0.008378,
     "end_time": "2023-11-10T14:32:15.935344",
     "exception": false,
     "start_time": "2023-11-10T14:32:15.926966",
     "status": "completed"
    },
    "tags": []
   },
   "source": [
    "---\n",
    "\n",
    "\n",
    "\n",
    "\n",
    "*Have questions or comments? Visit the [course discussion forum](https://www.kaggle.com/learn/data-visualization/discussion) to chat with other learners.*"
   ]
  }
 ],
 "metadata": {
  "kernelspec": {
   "display_name": "Python 3",
   "language": "python",
   "name": "python3"
  },
  "language_info": {
   "codemirror_mode": {
    "name": "ipython",
    "version": 3
   },
   "file_extension": ".py",
   "mimetype": "text/x-python",
   "name": "python",
   "nbconvert_exporter": "python",
   "pygments_lexer": "ipython3",
   "version": "3.10.12"
  },
  "papermill": {
   "default_parameters": {},
   "duration": 6.881189,
   "end_time": "2023-11-10T14:32:16.766208",
   "environment_variables": {},
   "exception": null,
   "input_path": "__notebook__.ipynb",
   "output_path": "__notebook__.ipynb",
   "parameters": {},
   "start_time": "2023-11-10T14:32:09.885019",
   "version": "2.4.0"
  }
 },
 "nbformat": 4,
 "nbformat_minor": 5
}
