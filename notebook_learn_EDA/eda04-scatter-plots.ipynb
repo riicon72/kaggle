{
 "cells": [
  {
   "cell_type": "markdown",
   "id": "f255a01f",
   "metadata": {
    "papermill": {
     "duration": 0.012897,
     "end_time": "2023-11-07T08:37:42.046567",
     "exception": false,
     "start_time": "2023-11-07T08:37:42.033670",
     "status": "completed"
    },
    "tags": []
   },
   "source": [
    "**This notebook is an exercise in the [Data Visualization](https://www.kaggle.com/learn/data-visualization) course.  You can reference the tutorial at [this link](https://www.kaggle.com/alexisbcook/scatter-plots).**\n",
    "\n",
    "---\n"
   ]
  },
  {
   "cell_type": "markdown",
   "id": "2bc18c54",
   "metadata": {
    "papermill": {
     "duration": 0.013321,
     "end_time": "2023-11-07T08:37:42.072425",
     "exception": false,
     "start_time": "2023-11-07T08:37:42.059104",
     "status": "completed"
    },
    "tags": []
   },
   "source": [
    "日本人向けに日本語訳を入れました。 言い回しが間違っていたらすみません。 お役に立てれば幸いです"
   ]
  },
  {
   "cell_type": "markdown",
   "id": "015cf9be",
   "metadata": {
    "papermill": {
     "duration": 0.012616,
     "end_time": "2023-11-07T08:37:42.098974",
     "exception": false,
     "start_time": "2023-11-07T08:37:42.086358",
     "status": "completed"
    },
    "tags": []
   },
   "source": [
    "In this exercise, you will use your new knowledge to propose a solution to a real-world scenario.  To succeed, you will need to import data into Python, answer questions using the data, and generate **scatter plots** to understand patterns in the data.\n",
    "\n",
    "この演習では、新しい知識を使用して、現実世界のシナリオに対する解決策を提案します。 成功するには、データを Python にインポートし、そのデータを使用して質問に答え、散布図を生成してデータのパターンを理解する必要があります。\n",
    "\n",
    "## Scenario　　--シナリオ\n",
    "\n",
    "You work for a major candy producer, and your goal is to write a report that your company can use to guide the design of its next product.  Soon after starting your research, you stumble across this [very interesting dataset](https://fivethirtyeight.com/features/the-ultimate-halloween-candy-power-ranking/) containing results from a fun survey to crowdsource favorite candies.\n",
    "あなたは大手のキャンディーメーカーで働いており、あなたの目標は、会社が次の製品の設計の指針として使用できるレポートを書くことです。 調査を開始してすぐに、お気に入りのキャンディーをクラウドソーシングするための楽しいアンケートの結果になる。\n",
    "\n",
    "## Setup　　--設定\n",
    "\n",
    "Run the next cell to import and configure the Python libraries that you need to complete the exercise.\n",
    "\n",
    "次のセルを実行して、演習を完了するために必要な Python ライブラリをインポートして構成します。"
   ]
  },
  {
   "cell_type": "code",
   "execution_count": 1,
   "id": "7c1d48eb",
   "metadata": {
    "execution": {
     "iopub.execute_input": "2023-11-07T08:37:42.128957Z",
     "iopub.status.busy": "2023-11-07T08:37:42.128496Z",
     "iopub.status.idle": "2023-11-07T08:37:44.381455Z",
     "shell.execute_reply": "2023-11-07T08:37:44.380251Z"
    },
    "papermill": {
     "duration": 2.272553,
     "end_time": "2023-11-07T08:37:44.384522",
     "exception": false,
     "start_time": "2023-11-07T08:37:42.111969",
     "status": "completed"
    },
    "tags": []
   },
   "outputs": [
    {
     "name": "stdout",
     "output_type": "stream",
     "text": [
      "Setup Complete\n"
     ]
    }
   ],
   "source": [
    "import pandas as pd\n",
    "pd.plotting.register_matplotlib_converters()\n",
    "import matplotlib.pyplot as plt\n",
    "%matplotlib inline\n",
    "import seaborn as sns\n",
    "print(\"Setup Complete\")"
   ]
  },
  {
   "cell_type": "markdown",
   "id": "e6835b13",
   "metadata": {
    "papermill": {
     "duration": 0.012543,
     "end_time": "2023-11-07T08:37:44.410302",
     "exception": false,
     "start_time": "2023-11-07T08:37:44.397759",
     "status": "completed"
    },
    "tags": []
   },
   "source": [
    "The questions below will give you feedback on your work. Run the following cell to set up our feedback system."
   ]
  },
  {
   "cell_type": "code",
   "execution_count": 2,
   "id": "8a644425",
   "metadata": {
    "execution": {
     "iopub.execute_input": "2023-11-07T08:37:44.437929Z",
     "iopub.status.busy": "2023-11-07T08:37:44.437366Z",
     "iopub.status.idle": "2023-11-07T08:37:44.519958Z",
     "shell.execute_reply": "2023-11-07T08:37:44.518793Z"
    },
    "papermill": {
     "duration": 0.099505,
     "end_time": "2023-11-07T08:37:44.522812",
     "exception": false,
     "start_time": "2023-11-07T08:37:44.423307",
     "status": "completed"
    },
    "tags": []
   },
   "outputs": [
    {
     "name": "stdout",
     "output_type": "stream",
     "text": [
      "Setup Complete\n"
     ]
    }
   ],
   "source": [
    "import os\n",
    "if not os.path.exists(\"../input/candy.csv\"):\n",
    "    os.symlink(\"../input/data-for-datavis/candy.csv\", \"../input/candy.csv\") \n",
    "from learntools.core import binder\n",
    "binder.bind(globals())\n",
    "from learntools.data_viz_to_coder.ex4 import *\n",
    "print(\"Setup Complete\")"
   ]
  },
  {
   "cell_type": "markdown",
   "id": "d9f47cb3",
   "metadata": {
    "papermill": {
     "duration": 0.012262,
     "end_time": "2023-11-07T08:37:44.548092",
     "exception": false,
     "start_time": "2023-11-07T08:37:44.535830",
     "status": "completed"
    },
    "tags": []
   },
   "source": [
    "## Step 1: Load the Data　　--データ取得\n",
    "\n",
    "Read the candy data file into `candy_data`.  Use the `\"id\"` column to label the rows.\n",
    "キャンディデータファイルを`candy_data`に読み込みます。 `\"id\"` 列を使用して行にラベルを付けます。"
   ]
  },
  {
   "cell_type": "code",
   "execution_count": 3,
   "id": "ccf67a18",
   "metadata": {
    "execution": {
     "iopub.execute_input": "2023-11-07T08:37:44.575054Z",
     "iopub.status.busy": "2023-11-07T08:37:44.574604Z",
     "iopub.status.idle": "2023-11-07T08:37:44.596489Z",
     "shell.execute_reply": "2023-11-07T08:37:44.595217Z"
    },
    "papermill": {
     "duration": 0.038576,
     "end_time": "2023-11-07T08:37:44.599240",
     "exception": false,
     "start_time": "2023-11-07T08:37:44.560664",
     "status": "completed"
    },
    "tags": []
   },
   "outputs": [
    {
     "data": {
      "application/javascript": [
       "parent.postMessage({\"jupyterEvent\": \"custom.exercise_interaction\", \"data\": {\"outcomeType\": 1, \"valueTowardsCompletion\": 0.3333333333333333, \"interactionType\": 1, \"questionType\": 1, \"questionId\": \"1_LoadData\", \"learnToolsVersion\": \"0.3.4\", \"failureMessage\": \"\", \"exceptionClass\": \"\", \"trace\": \"\"}}, \"*\")"
      ],
      "text/plain": [
       "<IPython.core.display.Javascript object>"
      ]
     },
     "metadata": {},
     "output_type": "display_data"
    },
    {
     "data": {
      "text/markdown": [
       "<span style=\"color:#33cc33\">Correct</span>"
      ],
      "text/plain": [
       "Correct"
      ]
     },
     "metadata": {},
     "output_type": "display_data"
    }
   ],
   "source": [
    "candy_filepath = \"../input/candy.csv\"\n",
    "\n",
    "# Fill in the line below to read the file into a variable candy_data\n",
    "candy_data = pd.read_csv(candy_filepath, index_col=\"id\")\n",
    "\n",
    "# Run the line below with no changes to check that you've loaded the data correctly\n",
    "step_1.check()"
   ]
  },
  {
   "cell_type": "code",
   "execution_count": 4,
   "id": "c21102c2",
   "metadata": {
    "execution": {
     "iopub.execute_input": "2023-11-07T08:37:44.627342Z",
     "iopub.status.busy": "2023-11-07T08:37:44.626909Z",
     "iopub.status.idle": "2023-11-07T08:37:44.641449Z",
     "shell.execute_reply": "2023-11-07T08:37:44.640312Z"
    },
    "papermill": {
     "duration": 0.031379,
     "end_time": "2023-11-07T08:37:44.643825",
     "exception": false,
     "start_time": "2023-11-07T08:37:44.612446",
     "status": "completed"
    },
    "tags": []
   },
   "outputs": [
    {
     "data": {
      "application/javascript": [
       "parent.postMessage({\"jupyterEvent\": \"custom.exercise_interaction\", \"data\": {\"interactionType\": 2, \"questionType\": 1, \"questionId\": \"1_LoadData\", \"learnToolsVersion\": \"0.3.4\", \"valueTowardsCompletion\": 0.0, \"failureMessage\": \"\", \"exceptionClass\": \"\", \"trace\": \"\", \"outcomeType\": 4}}, \"*\")"
      ],
      "text/plain": [
       "<IPython.core.display.Javascript object>"
      ]
     },
     "metadata": {},
     "output_type": "display_data"
    },
    {
     "data": {
      "text/markdown": [
       "<span style=\"color:#3366cc\">Hint:</span> Use `pd.read_csv`, and follow it with **two** pieces of text that are enclosed in parentheses and separated by commas.  (1) The filepath for the dataset is provided in `candy_filepath`.  (2) Use the `\"id\"` column to label the rows."
      ],
      "text/plain": [
       "Hint: Use `pd.read_csv`, and follow it with **two** pieces of text that are enclosed in parentheses and separated by commas.  (1) The filepath for the dataset is provided in `candy_filepath`.  (2) Use the `\"id\"` column to label the rows."
      ]
     },
     "metadata": {},
     "output_type": "display_data"
    },
    {
     "data": {
      "application/javascript": [
       "parent.postMessage({\"jupyterEvent\": \"custom.exercise_interaction\", \"data\": {\"interactionType\": 3, \"questionType\": 1, \"questionId\": \"1_LoadData\", \"learnToolsVersion\": \"0.3.4\", \"valueTowardsCompletion\": 0.0, \"failureMessage\": \"\", \"exceptionClass\": \"\", \"trace\": \"\", \"outcomeType\": 4}}, \"*\")"
      ],
      "text/plain": [
       "<IPython.core.display.Javascript object>"
      ]
     },
     "metadata": {},
     "output_type": "display_data"
    },
    {
     "data": {
      "text/markdown": [
       "<span style=\"color:#33cc99\">Solution:</span> \n",
       "```python\n",
       "candy_data = pd.read_csv(candy_filepath, index_col=\"id\")\n",
       "```"
      ],
      "text/plain": [
       "Solution: \n",
       "```python\n",
       "candy_data = pd.read_csv(candy_filepath, index_col=\"id\")\n",
       "```"
      ]
     },
     "metadata": {},
     "output_type": "display_data"
    }
   ],
   "source": [
    "# Lines below will give you a hint or solution code\n",
    "step_1.hint()\n",
    "# ヒント: pd.read_csv を使用し、その後に括弧で囲みカンマで区切った 2 つのテキストを続けます。 (1) データセットのファイルパスは、candy_filepath に指定されます。 (2) 「id」列を使用して行にラベルを付けます。\n",
    "step_1.solution()"
   ]
  },
  {
   "cell_type": "markdown",
   "id": "20178095",
   "metadata": {
    "papermill": {
     "duration": 0.013273,
     "end_time": "2023-11-07T08:37:44.670772",
     "exception": false,
     "start_time": "2023-11-07T08:37:44.657499",
     "status": "completed"
    },
    "tags": []
   },
   "source": [
    "## Step 2: Review the data  --データ確認\n",
    "\n",
    "Use a Python command to print the first five rows of the data.\n",
    "Python コマンドを使用して、データの最初の 5 行を出力します。"
   ]
  },
  {
   "cell_type": "code",
   "execution_count": 5,
   "id": "d1509c66",
   "metadata": {
    "execution": {
     "iopub.execute_input": "2023-11-07T08:37:44.700009Z",
     "iopub.status.busy": "2023-11-07T08:37:44.699615Z",
     "iopub.status.idle": "2023-11-07T08:37:44.722383Z",
     "shell.execute_reply": "2023-11-07T08:37:44.721517Z"
    },
    "papermill": {
     "duration": 0.040437,
     "end_time": "2023-11-07T08:37:44.724933",
     "exception": false,
     "start_time": "2023-11-07T08:37:44.684496",
     "status": "completed"
    },
    "tags": []
   },
   "outputs": [
    {
     "data": {
      "text/html": [
       "<div>\n",
       "<style scoped>\n",
       "    .dataframe tbody tr th:only-of-type {\n",
       "        vertical-align: middle;\n",
       "    }\n",
       "\n",
       "    .dataframe tbody tr th {\n",
       "        vertical-align: top;\n",
       "    }\n",
       "\n",
       "    .dataframe thead th {\n",
       "        text-align: right;\n",
       "    }\n",
       "</style>\n",
       "<table border=\"1\" class=\"dataframe\">\n",
       "  <thead>\n",
       "    <tr style=\"text-align: right;\">\n",
       "      <th></th>\n",
       "      <th>competitorname</th>\n",
       "      <th>chocolate</th>\n",
       "      <th>fruity</th>\n",
       "      <th>caramel</th>\n",
       "      <th>peanutyalmondy</th>\n",
       "      <th>nougat</th>\n",
       "      <th>crispedricewafer</th>\n",
       "      <th>hard</th>\n",
       "      <th>bar</th>\n",
       "      <th>pluribus</th>\n",
       "      <th>sugarpercent</th>\n",
       "      <th>pricepercent</th>\n",
       "      <th>winpercent</th>\n",
       "    </tr>\n",
       "    <tr>\n",
       "      <th>id</th>\n",
       "      <th></th>\n",
       "      <th></th>\n",
       "      <th></th>\n",
       "      <th></th>\n",
       "      <th></th>\n",
       "      <th></th>\n",
       "      <th></th>\n",
       "      <th></th>\n",
       "      <th></th>\n",
       "      <th></th>\n",
       "      <th></th>\n",
       "      <th></th>\n",
       "      <th></th>\n",
       "    </tr>\n",
       "  </thead>\n",
       "  <tbody>\n",
       "    <tr>\n",
       "      <th>0</th>\n",
       "      <td>100 Grand</td>\n",
       "      <td>Yes</td>\n",
       "      <td>No</td>\n",
       "      <td>Yes</td>\n",
       "      <td>No</td>\n",
       "      <td>No</td>\n",
       "      <td>Yes</td>\n",
       "      <td>No</td>\n",
       "      <td>Yes</td>\n",
       "      <td>No</td>\n",
       "      <td>0.732</td>\n",
       "      <td>0.860</td>\n",
       "      <td>66.971725</td>\n",
       "    </tr>\n",
       "    <tr>\n",
       "      <th>1</th>\n",
       "      <td>3 Musketeers</td>\n",
       "      <td>Yes</td>\n",
       "      <td>No</td>\n",
       "      <td>No</td>\n",
       "      <td>No</td>\n",
       "      <td>Yes</td>\n",
       "      <td>No</td>\n",
       "      <td>No</td>\n",
       "      <td>Yes</td>\n",
       "      <td>No</td>\n",
       "      <td>0.604</td>\n",
       "      <td>0.511</td>\n",
       "      <td>67.602936</td>\n",
       "    </tr>\n",
       "    <tr>\n",
       "      <th>2</th>\n",
       "      <td>Air Heads</td>\n",
       "      <td>No</td>\n",
       "      <td>Yes</td>\n",
       "      <td>No</td>\n",
       "      <td>No</td>\n",
       "      <td>No</td>\n",
       "      <td>No</td>\n",
       "      <td>No</td>\n",
       "      <td>No</td>\n",
       "      <td>No</td>\n",
       "      <td>0.906</td>\n",
       "      <td>0.511</td>\n",
       "      <td>52.341465</td>\n",
       "    </tr>\n",
       "    <tr>\n",
       "      <th>3</th>\n",
       "      <td>Almond Joy</td>\n",
       "      <td>Yes</td>\n",
       "      <td>No</td>\n",
       "      <td>No</td>\n",
       "      <td>Yes</td>\n",
       "      <td>No</td>\n",
       "      <td>No</td>\n",
       "      <td>No</td>\n",
       "      <td>Yes</td>\n",
       "      <td>No</td>\n",
       "      <td>0.465</td>\n",
       "      <td>0.767</td>\n",
       "      <td>50.347546</td>\n",
       "    </tr>\n",
       "    <tr>\n",
       "      <th>4</th>\n",
       "      <td>Baby Ruth</td>\n",
       "      <td>Yes</td>\n",
       "      <td>No</td>\n",
       "      <td>Yes</td>\n",
       "      <td>Yes</td>\n",
       "      <td>Yes</td>\n",
       "      <td>No</td>\n",
       "      <td>No</td>\n",
       "      <td>Yes</td>\n",
       "      <td>No</td>\n",
       "      <td>0.604</td>\n",
       "      <td>0.767</td>\n",
       "      <td>56.914547</td>\n",
       "    </tr>\n",
       "  </tbody>\n",
       "</table>\n",
       "</div>"
      ],
      "text/plain": [
       "   competitorname chocolate fruity caramel peanutyalmondy nougat  \\\n",
       "id                                                                 \n",
       "0       100 Grand       Yes     No     Yes             No     No   \n",
       "1    3 Musketeers       Yes     No      No             No    Yes   \n",
       "2       Air Heads        No    Yes      No             No     No   \n",
       "3      Almond Joy       Yes     No      No            Yes     No   \n",
       "4       Baby Ruth       Yes     No     Yes            Yes    Yes   \n",
       "\n",
       "   crispedricewafer hard  bar pluribus  sugarpercent  pricepercent  winpercent  \n",
       "id                                                                              \n",
       "0               Yes   No  Yes       No         0.732         0.860   66.971725  \n",
       "1                No   No  Yes       No         0.604         0.511   67.602936  \n",
       "2                No   No   No       No         0.906         0.511   52.341465  \n",
       "3                No   No  Yes       No         0.465         0.767   50.347546  \n",
       "4                No   No  Yes       No         0.604         0.767   56.914547  "
      ]
     },
     "execution_count": 5,
     "metadata": {},
     "output_type": "execute_result"
    }
   ],
   "source": [
    "# Print the first five rows of the data\n",
    "candy_data.head()"
   ]
  },
  {
   "cell_type": "markdown",
   "id": "8dbeb419",
   "metadata": {
    "papermill": {
     "duration": 0.014463,
     "end_time": "2023-11-07T08:37:44.753742",
     "exception": false,
     "start_time": "2023-11-07T08:37:44.739279",
     "status": "completed"
    },
    "tags": []
   },
   "source": [
    "The dataset contains 83 rows, where each corresponds to a different candy bar.  There are 13 columns:\n",
    "データセットには 83 行が含まれており、それぞれが異なるキャンディー バーに対応しています。 13 列があります。\n",
    "\n",
    "- `'competitorname'` contains the name of the candy bar. \n",
    "「competitorname」にはキャンディーバーの名前が含まれます。\n",
    "- the next **9** columns (from `'chocolate'` to `'pluribus'`) describe the candy.  For instance, rows with chocolate candies have `\"Yes\"` in the `'chocolate'` column (and candies without chocolate have `\"No\"` in the same column).\n",
    "次の 9 列 (「チョコレート」から「プルリバス」まで) でキャンディーについて説明します。 たとえば、チョコレート キャンディーが含まれる行の「チョコレート」列には「はい」が表示されます (チョコレートのないキャンディーは同じ列に「いいえ」となります)。\n",
    "- `'sugarpercent'` provides some indication of the amount of sugar, where higher values signify higher sugar content.\n",
    "「sugarpercent」は砂糖の量を示すもので、値が高いほど砂糖の含有量が高くなります。\n",
    "- `'pricepercent'` shows the price per unit, relative to the other candies in the dataset.\n",
    "「pricepercent」は、データセット内の他のキャンディーとの相対的な単位あたりの価格を示します。\n",
    "- `'winpercent'` is calculated from the survey results; higher values indicate that the candy was more popular with survey respondents.\n",
    "「winpercent」は調査結果から計算されます。 値が高いほど、そのキャンディーが調査回答者の間でより人気があることを示します。"
   ]
  },
  {
   "cell_type": "code",
   "execution_count": 6,
   "id": "c2d31352",
   "metadata": {
    "execution": {
     "iopub.execute_input": "2023-11-07T08:37:44.783745Z",
     "iopub.status.busy": "2023-11-07T08:37:44.783339Z",
     "iopub.status.idle": "2023-11-07T08:37:44.793256Z",
     "shell.execute_reply": "2023-11-07T08:37:44.791982Z"
    },
    "papermill": {
     "duration": 0.027905,
     "end_time": "2023-11-07T08:37:44.795616",
     "exception": false,
     "start_time": "2023-11-07T08:37:44.767711",
     "status": "completed"
    },
    "tags": []
   },
   "outputs": [
    {
     "data": {
      "application/javascript": [
       "parent.postMessage({\"jupyterEvent\": \"custom.exercise_interaction\", \"data\": {\"outcomeType\": 1, \"valueTowardsCompletion\": 0.3333333333333333, \"interactionType\": 1, \"questionType\": 1, \"questionId\": \"2_ReviewData\", \"learnToolsVersion\": \"0.3.4\", \"failureMessage\": \"\", \"exceptionClass\": \"\", \"trace\": \"\"}}, \"*\")"
      ],
      "text/plain": [
       "<IPython.core.display.Javascript object>"
      ]
     },
     "metadata": {},
     "output_type": "display_data"
    },
    {
     "data": {
      "text/markdown": [
       "<span style=\"color:#33cc33\">Correct</span>"
      ],
      "text/plain": [
       "Correct"
      ]
     },
     "metadata": {},
     "output_type": "display_data"
    }
   ],
   "source": [
    "# Fill in the line below: Which candy was more popular with survey respondents:\n",
    "# '3 Musketeers' or 'Almond Joy'?   '3 Musketeers' か 'Almond Joy'どちらが人気か？\n",
    "more_popular = '3 Musketeers'\n",
    "\n",
    "# Fill in the line below: Which candy has higher sugar content: 'Air Heads'\n",
    "# or 'Baby Ruth'? 'Air Heads'or 'Baby Ruthどちらが砂糖を多く使っているか\n",
    "more_sugar = 'Air Heads'\n",
    "\n",
    "# Check your answers\n",
    "step_2.check()"
   ]
  },
  {
   "cell_type": "code",
   "execution_count": 7,
   "id": "ac90289e",
   "metadata": {
    "execution": {
     "iopub.execute_input": "2023-11-07T08:37:44.828204Z",
     "iopub.status.busy": "2023-11-07T08:37:44.827085Z",
     "iopub.status.idle": "2023-11-07T08:37:44.840356Z",
     "shell.execute_reply": "2023-11-07T08:37:44.839520Z"
    },
    "papermill": {
     "duration": 0.031815,
     "end_time": "2023-11-07T08:37:44.842556",
     "exception": false,
     "start_time": "2023-11-07T08:37:44.810741",
     "status": "completed"
    },
    "tags": []
   },
   "outputs": [
    {
     "data": {
      "application/javascript": [
       "parent.postMessage({\"jupyterEvent\": \"custom.exercise_interaction\", \"data\": {\"interactionType\": 2, \"questionType\": 1, \"questionId\": \"2_ReviewData\", \"learnToolsVersion\": \"0.3.4\", \"valueTowardsCompletion\": 0.0, \"failureMessage\": \"\", \"exceptionClass\": \"\", \"trace\": \"\", \"outcomeType\": 4}}, \"*\")"
      ],
      "text/plain": [
       "<IPython.core.display.Javascript object>"
      ]
     },
     "metadata": {},
     "output_type": "display_data"
    },
    {
     "data": {
      "text/markdown": [
       "<span style=\"color:#3366cc\">Hint:</span> Use the `head()` command to print the first 5 rows. **After printing the first 5 rows**, each row corresponds to a different candy. The `'winpercent'` column indicates the popularity of the candy. The `'sugarpercent'` column has the amount of sugar in the candy."
      ],
      "text/plain": [
       "Hint: Use the `head()` command to print the first 5 rows. **After printing the first 5 rows**, each row corresponds to a different candy. The `'winpercent'` column indicates the popularity of the candy. The `'sugarpercent'` column has the amount of sugar in the candy."
      ]
     },
     "metadata": {},
     "output_type": "display_data"
    },
    {
     "data": {
      "application/javascript": [
       "parent.postMessage({\"jupyterEvent\": \"custom.exercise_interaction\", \"data\": {\"interactionType\": 3, \"questionType\": 1, \"questionId\": \"2_ReviewData\", \"learnToolsVersion\": \"0.3.4\", \"valueTowardsCompletion\": 0.0, \"failureMessage\": \"\", \"exceptionClass\": \"\", \"trace\": \"\", \"outcomeType\": 4}}, \"*\")"
      ],
      "text/plain": [
       "<IPython.core.display.Javascript object>"
      ]
     },
     "metadata": {},
     "output_type": "display_data"
    },
    {
     "data": {
      "text/markdown": [
       "<span style=\"color:#33cc99\">Solution:</span> \n",
       "```python\n",
       "# Print the first five rows of the data\n",
       "candy_data.head()\n",
       "# Which candy was more popular with survey respondents:\n",
       "# '3 Musketeers' or 'Almond Joy'?\n",
       "more_popular = '3 Musketeers'\n",
       "# Which candy has higher sugar content: 'Air Heads'\n",
       "# or 'Baby Ruth'?\n",
       "more_sugar = 'Air Heads'\n",
       "\n",
       "```"
      ],
      "text/plain": [
       "Solution: \n",
       "```python\n",
       "# Print the first five rows of the data\n",
       "candy_data.head()\n",
       "# Which candy was more popular with survey respondents:\n",
       "# '3 Musketeers' or 'Almond Joy'?\n",
       "more_popular = '3 Musketeers'\n",
       "# Which candy has higher sugar content: 'Air Heads'\n",
       "# or 'Baby Ruth'?\n",
       "more_sugar = 'Air Heads'\n",
       "\n",
       "```"
      ]
     },
     "metadata": {},
     "output_type": "display_data"
    }
   ],
   "source": [
    "# Lines below will give you a hint or solution code\n",
    "step_2.hint()\n",
    "step_2.solution()"
   ]
  },
  {
   "cell_type": "markdown",
   "id": "e00137ba",
   "metadata": {
    "papermill": {
     "duration": 0.014274,
     "end_time": "2023-11-07T08:37:44.871674",
     "exception": false,
     "start_time": "2023-11-07T08:37:44.857400",
     "status": "completed"
    },
    "tags": []
   },
   "source": [
    "## Step 3: The role of sugar　　砂糖について\n",
    "\n",
    "Do people tend to prefer candies with higher sugar content? \n",
    "人々は糖分が多いキャンディーを好む傾向があるのでしょうか?\n",
    "\n",
    "#### Part A\n",
    "\n",
    "Create a scatter plot that shows the relationship between `'sugarpercent'` (on the horizontal x-axis) and `'winpercent'` (on the vertical y-axis).  _Don't add a regression line just yet -- you'll do that in the next step!_\n",
    "`'sugarpercent'` (水平 x 軸) と `'winpercent'` (垂直 y 軸) の関係を示す散布図を作成します。 _まだ回帰直線を追加しないでください。これは次のステップで行います!_"
   ]
  },
  {
   "cell_type": "code",
   "execution_count": 8,
   "id": "28f0dc53",
   "metadata": {
    "execution": {
     "iopub.execute_input": "2023-11-07T08:37:44.903373Z",
     "iopub.status.busy": "2023-11-07T08:37:44.902673Z",
     "iopub.status.idle": "2023-11-07T08:37:45.253470Z",
     "shell.execute_reply": "2023-11-07T08:37:45.252270Z"
    },
    "papermill": {
     "duration": 0.370209,
     "end_time": "2023-11-07T08:37:45.256566",
     "exception": false,
     "start_time": "2023-11-07T08:37:44.886357",
     "status": "completed"
    },
    "tags": []
   },
   "outputs": [
    {
     "data": {
      "application/javascript": [
       "parent.postMessage({\"jupyterEvent\": \"custom.exercise_interaction\", \"data\": {\"outcomeType\": 1, \"valueTowardsCompletion\": 0.3333333333333333, \"interactionType\": 1, \"questionType\": 2, \"questionId\": \"3.1_PlotBlueScatter\", \"learnToolsVersion\": \"0.3.4\", \"failureMessage\": \"\", \"exceptionClass\": \"\", \"trace\": \"\"}}, \"*\")"
      ],
      "text/plain": [
       "<IPython.core.display.Javascript object>"
      ]
     },
     "metadata": {},
     "output_type": "display_data"
    },
    {
     "data": {
      "text/markdown": [
       "<span style=\"color:#33cc33\">Correct</span>"
      ],
      "text/plain": [
       "Correct"
      ]
     },
     "metadata": {},
     "output_type": "display_data"
    },
    {
     "data": {
      "image/png": "[encoded data removed]",
      "text/plain": [
       "<Figure size 640x480 with 1 Axes>"
      ]
     },
     "metadata": {},
     "output_type": "display_data"
    }
   ],
   "source": [
    "# Scatter plot showing the relationship between 'sugarpercent' and 'winpercent'　　「sugarpercent」と「winpercent」の関係を示す散布図\n",
    "sns.scatterplot(x=candy_data['sugarpercent'], y=candy_data['winpercent'])\n",
    "\n",
    "# Check your answer\n",
    "step_3.a.check()"
   ]
  },
  {
   "cell_type": "code",
   "execution_count": 9,
   "id": "2f49a9e3",
   "metadata": {
    "execution": {
     "iopub.execute_input": "2023-11-07T08:37:45.290988Z",
     "iopub.status.busy": "2023-11-07T08:37:45.289624Z",
     "iopub.status.idle": "2023-11-07T08:37:45.610420Z",
     "shell.execute_reply": "2023-11-07T08:37:45.609308Z"
    },
    "papermill": {
     "duration": 0.340559,
     "end_time": "2023-11-07T08:37:45.613078",
     "exception": false,
     "start_time": "2023-11-07T08:37:45.272519",
     "status": "completed"
    },
    "tags": []
   },
   "outputs": [
    {
     "data": {
      "application/javascript": [
       "parent.postMessage({\"jupyterEvent\": \"custom.exercise_interaction\", \"data\": {\"interactionType\": 2, \"questionType\": 2, \"questionId\": \"3.1_PlotBlueScatter\", \"learnToolsVersion\": \"0.3.4\", \"valueTowardsCompletion\": 0.0, \"failureMessage\": \"\", \"exceptionClass\": \"\", \"trace\": \"\", \"outcomeType\": 4}}, \"*\")"
      ],
      "text/plain": [
       "<IPython.core.display.Javascript object>"
      ]
     },
     "metadata": {},
     "output_type": "display_data"
    },
    {
     "data": {
      "text/markdown": [
       "<span style=\"color:#3366cc\">Hint:</span> Use `sns.scatterplot`, and set the variables for the x-axis and y-axis by using `x=` and `y=`, respectively."
      ],
      "text/plain": [
       "Hint: Use `sns.scatterplot`, and set the variables for the x-axis and y-axis by using `x=` and `y=`, respectively."
      ]
     },
     "metadata": {},
     "output_type": "display_data"
    },
    {
     "data": {
      "application/javascript": [
       "parent.postMessage({\"jupyterEvent\": \"custom.exercise_interaction\", \"data\": {\"interactionType\": 3, \"questionType\": 2, \"questionId\": \"3.1_PlotBlueScatter\", \"learnToolsVersion\": \"0.3.4\", \"valueTowardsCompletion\": 0.0, \"failureMessage\": \"\", \"exceptionClass\": \"\", \"trace\": \"\", \"outcomeType\": 4}}, \"*\")"
      ],
      "text/plain": [
       "<IPython.core.display.Javascript object>"
      ]
     },
     "metadata": {},
     "output_type": "display_data"
    },
    {
     "data": {
      "text/markdown": [
       "<span style=\"color:#33cc99\">Solution:</span> \n",
       "```python\n",
       "# Scatter plot showing the relationship between 'sugarpercent' and 'winpercent'\n",
       "sns.scatterplot(x=candy_data['sugarpercent'], y=candy_data['winpercent'])\n",
       "\n",
       "```"
      ],
      "text/plain": [
       "Solution: \n",
       "```python\n",
       "# Scatter plot showing the relationship between 'sugarpercent' and 'winpercent'\n",
       "sns.scatterplot(x=candy_data['sugarpercent'], y=candy_data['winpercent'])\n",
       "\n",
       "```"
      ]
     },
     "metadata": {},
     "output_type": "display_data"
    },
    {
     "data": {
      "image/png": "[encoded data removed]",
      "text/plain": [
       "<Figure size 640x480 with 1 Axes>"
      ]
     },
     "metadata": {},
     "output_type": "display_data"
    }
   ],
   "source": [
    "# Lines below will give you a hint or solution code\n",
    "step_3.a.hint()\n",
    "step_3.a.solution_plot()"
   ]
  },
  {
   "cell_type": "markdown",
   "id": "d09f3f71",
   "metadata": {
    "papermill": {
     "duration": 0.016605,
     "end_time": "2023-11-07T08:37:45.646645",
     "exception": false,
     "start_time": "2023-11-07T08:37:45.630040",
     "status": "completed"
    },
    "tags": []
   },
   "source": [
    "#### Part B\n",
    "\n",
    "Does the scatter plot show a **strong** correlation between the two variables?  If so, are candies with more sugar relatively more or less popular with the survey respondents?\n",
    "散布図は 2 つの変数間に **強い**相関関係を示していますか? もしそうなら、砂糖を多く含むキャンディーは、調査回答者の間で相対的に多かれ少なかれ人気があるのでしょうか?"
   ]
  },
  {
   "cell_type": "code",
   "execution_count": 10,
   "id": "cca71c6f",
   "metadata": {
    "execution": {
     "iopub.execute_input": "2023-11-07T08:37:45.682016Z",
     "iopub.status.busy": "2023-11-07T08:37:45.681563Z",
     "iopub.status.idle": "2023-11-07T08:37:45.686714Z",
     "shell.execute_reply": "2023-11-07T08:37:45.685566Z"
    },
    "papermill": {
     "duration": 0.026142,
     "end_time": "2023-11-07T08:37:45.689493",
     "exception": false,
     "start_time": "2023-11-07T08:37:45.663351",
     "status": "completed"
    },
    "tags": []
   },
   "outputs": [],
   "source": [
    "#step_3.b.hint()"
   ]
  },
  {
   "cell_type": "code",
   "execution_count": 11,
   "id": "0d165c80",
   "metadata": {
    "execution": {
     "iopub.execute_input": "2023-11-07T08:37:45.726405Z",
     "iopub.status.busy": "2023-11-07T08:37:45.725974Z",
     "iopub.status.idle": "2023-11-07T08:37:45.736255Z",
     "shell.execute_reply": "2023-11-07T08:37:45.734989Z"
    },
    "papermill": {
     "duration": 0.031931,
     "end_time": "2023-11-07T08:37:45.738697",
     "exception": false,
     "start_time": "2023-11-07T08:37:45.706766",
     "status": "completed"
    },
    "tags": []
   },
   "outputs": [
    {
     "data": {
      "application/javascript": [
       "parent.postMessage({\"jupyterEvent\": \"custom.exercise_interaction\", \"data\": {\"interactionType\": 3, \"questionType\": 4, \"questionId\": \"3.2_ThinkBlueScatter\", \"learnToolsVersion\": \"0.3.4\", \"valueTowardsCompletion\": 0.0, \"failureMessage\": \"\", \"exceptionClass\": \"\", \"trace\": \"\", \"outcomeType\": 4}}, \"*\")"
      ],
      "text/plain": [
       "<IPython.core.display.Javascript object>"
      ]
     },
     "metadata": {},
     "output_type": "display_data"
    },
    {
     "data": {
      "text/markdown": [
       "<span style=\"color:#33cc99\">Solution:</span> The scatter plot does not show a strong correlation between the two variables. Since there is no clear relationship between the two variables, this tells us that sugar content does not play a strong role in candy popularity."
      ],
      "text/plain": [
       "Solution: The scatter plot does not show a strong correlation between the two variables. Since there is no clear relationship between the two variables, this tells us that sugar content does not play a strong role in candy popularity."
      ]
     },
     "metadata": {},
     "output_type": "display_data"
    }
   ],
   "source": [
    "# Check your answer (Run this code cell to receive credit!)\n",
    "step_3.b.solution()\n",
    "\n",
    "# 解決策: 散布図には 2 つの変数間の強い相関関係が示されていません。 2 つの変数の間には明確な関係がないため、砂糖含有量がキャンディーの人気に強い役割を果たしていないことがわかります。"
   ]
  },
  {
   "cell_type": "markdown",
   "id": "39bd56af",
   "metadata": {
    "papermill": {
     "duration": 0.017052,
     "end_time": "2023-11-07T08:37:45.856884",
     "exception": false,
     "start_time": "2023-11-07T08:37:45.839832",
     "status": "completed"
    },
    "tags": []
   },
   "source": [
    "## Step 4: Take a closer look　　観察\n",
    "\n",
    "#### Part A\n",
    "\n",
    "Create the same scatter plot you created in **Step 3**, but now with a regression line!\n",
    "　　　　　　　　　　　　　　　　　　　　　　　　　　　　　　　　　　　　　　　　　　　　　　　　　　　　　　　　　　　**ステップ 3** で作成したのと同じ散布図を作成しますが、今度は回帰直線を使用します。"
   ]
  },
  {
   "cell_type": "code",
   "execution_count": 12,
   "id": "9709a71f",
   "metadata": {
    "execution": {
     "iopub.execute_input": "2023-11-07T08:37:45.893569Z",
     "iopub.status.busy": "2023-11-07T08:37:45.893101Z",
     "iopub.status.idle": "2023-11-07T08:37:46.324218Z",
     "shell.execute_reply": "2023-11-07T08:37:46.323003Z"
    },
    "papermill": {
     "duration": 0.452351,
     "end_time": "2023-11-07T08:37:46.326697",
     "exception": false,
     "start_time": "2023-11-07T08:37:45.874346",
     "status": "completed"
    },
    "tags": []
   },
   "outputs": [
    {
     "data": {
      "application/javascript": [
       "parent.postMessage({\"jupyterEvent\": \"custom.exercise_interaction\", \"data\": {\"outcomeType\": 1, \"valueTowardsCompletion\": 0.3333333333333333, \"interactionType\": 1, \"questionType\": 2, \"questionId\": \"4.1_PlotBlueReg\", \"learnToolsVersion\": \"0.3.4\", \"failureMessage\": \"\", \"exceptionClass\": \"\", \"trace\": \"\"}}, \"*\")"
      ],
      "text/plain": [
       "<IPython.core.display.Javascript object>"
      ]
     },
     "metadata": {},
     "output_type": "display_data"
    },
    {
     "data": {
      "text/markdown": [
       "<span style=\"color:#33cc33\">Correct</span>"
      ],
      "text/plain": [
       "Correct"
      ]
     },
     "metadata": {},
     "output_type": "display_data"
    },
    {
     "data": {
      "image/png": "[encoded data removed]",
      "text/plain": [
       "<Figure size 640x480 with 1 Axes>"
      ]
     },
     "metadata": {},
     "output_type": "display_data"
    }
   ],
   "source": [
    "# Scatter plot w/ regression line showing the relationship between 'sugarpercent' and 'winpercent'\n",
    "sns.regplot(x=candy_data['sugarpercent'], y=candy_data['winpercent']) \n",
    "\n",
    "# Check your answer\n",
    "step_4.a.check()"
   ]
  },
  {
   "cell_type": "code",
   "execution_count": 13,
   "id": "712037b0",
   "metadata": {
    "execution": {
     "iopub.execute_input": "2023-11-07T08:37:46.366539Z",
     "iopub.status.busy": "2023-11-07T08:37:46.365715Z",
     "iopub.status.idle": "2023-11-07T08:37:46.793696Z",
     "shell.execute_reply": "2023-11-07T08:37:46.792531Z"
    },
    "papermill": {
     "duration": 0.450716,
     "end_time": "2023-11-07T08:37:46.796230",
     "exception": false,
     "start_time": "2023-11-07T08:37:46.345514",
     "status": "completed"
    },
    "tags": []
   },
   "outputs": [
    {
     "data": {
      "application/javascript": [
       "parent.postMessage({\"jupyterEvent\": \"custom.exercise_interaction\", \"data\": {\"interactionType\": 2, \"questionType\": 2, \"questionId\": \"4.1_PlotBlueReg\", \"learnToolsVersion\": \"0.3.4\", \"valueTowardsCompletion\": 0.0, \"failureMessage\": \"\", \"exceptionClass\": \"\", \"trace\": \"\", \"outcomeType\": 4}}, \"*\")"
      ],
      "text/plain": [
       "<IPython.core.display.Javascript object>"
      ]
     },
     "metadata": {},
     "output_type": "display_data"
    },
    {
     "data": {
      "text/markdown": [
       "<span style=\"color:#3366cc\">Hint:</span> Use `sns.regplot`, and set the variables for the x-axis and y-axis by using `x=` and `y=`, respectively."
      ],
      "text/plain": [
       "Hint: Use `sns.regplot`, and set the variables for the x-axis and y-axis by using `x=` and `y=`, respectively."
      ]
     },
     "metadata": {},
     "output_type": "display_data"
    },
    {
     "data": {
      "application/javascript": [
       "parent.postMessage({\"jupyterEvent\": \"custom.exercise_interaction\", \"data\": {\"interactionType\": 3, \"questionType\": 2, \"questionId\": \"4.1_PlotBlueReg\", \"learnToolsVersion\": \"0.3.4\", \"valueTowardsCompletion\": 0.0, \"failureMessage\": \"\", \"exceptionClass\": \"\", \"trace\": \"\", \"outcomeType\": 4}}, \"*\")"
      ],
      "text/plain": [
       "<IPython.core.display.Javascript object>"
      ]
     },
     "metadata": {},
     "output_type": "display_data"
    },
    {
     "data": {
      "text/markdown": [
       "<span style=\"color:#33cc99\">Solution:</span> \n",
       "```python\n",
       "# Scatter plot w/ regression line showing the relationship between 'sugarpercent' and 'winpercent'\n",
       "sns.regplot(x=candy_data['sugarpercent'], y=candy_data['winpercent'])\n",
       "\n",
       "```"
      ],
      "text/plain": [
       "Solution: \n",
       "```python\n",
       "# Scatter plot w/ regression line showing the relationship between 'sugarpercent' and 'winpercent'\n",
       "sns.regplot(x=candy_data['sugarpercent'], y=candy_data['winpercent'])\n",
       "\n",
       "```"
      ]
     },
     "metadata": {},
     "output_type": "display_data"
    },
    {
     "data": {
      "image/png": "[encoded data removed]",
      "text/plain": [
       "<Figure size 640x480 with 1 Axes>"
      ]
     },
     "metadata": {},
     "output_type": "display_data"
    }
   ],
   "source": [
    "# Lines below will give you a hint or solution code\n",
    "step_4.a.hint()\n",
    "# ヒント: sns.regplot を使用し、x= と y= をそれぞれ使用して x 軸と y 軸の変数を設定します。\n",
    "step_4.a.solution_plot()"
   ]
  },
  {
   "cell_type": "markdown",
   "id": "7e02318a",
   "metadata": {
    "papermill": {
     "duration": 0.019694,
     "end_time": "2023-11-07T08:37:46.835750",
     "exception": false,
     "start_time": "2023-11-07T08:37:46.816056",
     "status": "completed"
    },
    "tags": []
   },
   "source": [
    "#### Part B\n",
    "\n",
    "According to the plot above, is there a **slight** correlation between `'winpercent'` and `'sugarpercent'`?  What does this tell you about the candy that people tend to prefer?\n",
    "\n",
    "上記のプロットによると、「winpercent」と「sugarpercent」の間には**わずか**の相関関係がありますか? このことから、人々が好む傾向にあるキャンディーについて何がわかりますか?"
   ]
  },
  {
   "cell_type": "code",
   "execution_count": 14,
   "id": "842b90ec",
   "metadata": {
    "execution": {
     "iopub.execute_input": "2023-11-07T08:37:46.878079Z",
     "iopub.status.busy": "2023-11-07T08:37:46.877314Z",
     "iopub.status.idle": "2023-11-07T08:37:46.881709Z",
     "shell.execute_reply": "2023-11-07T08:37:46.880683Z"
    },
    "papermill": {
     "duration": 0.028814,
     "end_time": "2023-11-07T08:37:46.884361",
     "exception": false,
     "start_time": "2023-11-07T08:37:46.855547",
     "status": "completed"
    },
    "tags": []
   },
   "outputs": [],
   "source": [
    "#step_4.b.hint()"
   ]
  },
  {
   "cell_type": "code",
   "execution_count": 15,
   "id": "c9874604",
   "metadata": {
    "execution": {
     "iopub.execute_input": "2023-11-07T08:37:46.925943Z",
     "iopub.status.busy": "2023-11-07T08:37:46.925497Z",
     "iopub.status.idle": "2023-11-07T08:37:46.935745Z",
     "shell.execute_reply": "2023-11-07T08:37:46.934572Z"
    },
    "papermill": {
     "duration": 0.033818,
     "end_time": "2023-11-07T08:37:46.938065",
     "exception": false,
     "start_time": "2023-11-07T08:37:46.904247",
     "status": "completed"
    },
    "tags": []
   },
   "outputs": [
    {
     "data": {
      "application/javascript": [
       "parent.postMessage({\"jupyterEvent\": \"custom.exercise_interaction\", \"data\": {\"interactionType\": 3, \"questionType\": 4, \"questionId\": \"4.2_ThinkBlueReg\", \"learnToolsVersion\": \"0.3.4\", \"valueTowardsCompletion\": 0.0, \"failureMessage\": \"\", \"exceptionClass\": \"\", \"trace\": \"\", \"outcomeType\": 4}}, \"*\")"
      ],
      "text/plain": [
       "<IPython.core.display.Javascript object>"
      ]
     },
     "metadata": {},
     "output_type": "display_data"
    },
    {
     "data": {
      "text/markdown": [
       "<span style=\"color:#33cc99\">Solution:</span> Since the regression line has a slightly positive slope, this tells us that there is a slightly positive correlation between `'winpercent'` and `'sugarpercent'`. Thus, people have a slight preference for candies containing relatively more sugar."
      ],
      "text/plain": [
       "Solution: Since the regression line has a slightly positive slope, this tells us that there is a slightly positive correlation between `'winpercent'` and `'sugarpercent'`. Thus, people have a slight preference for candies containing relatively more sugar."
      ]
     },
     "metadata": {},
     "output_type": "display_data"
    }
   ],
   "source": [
    "# Check your answer (Run this code cell to receive credit!)\n",
    "step_4.b.solution()\n",
    "# 解決策: 回帰直線はわずかに正の傾きを持っているため、「winpercent」と「sugarpercent」の間にわずかに正の相関関係があることがわかります。 したがって、人々は比較的多くの砂糖を含むキャンディーをわずかに好みます。"
   ]
  },
  {
   "cell_type": "markdown",
   "id": "5f3c6287",
   "metadata": {
    "papermill": {
     "duration": 0.019912,
     "end_time": "2023-11-07T08:37:46.978321",
     "exception": false,
     "start_time": "2023-11-07T08:37:46.958409",
     "status": "completed"
    },
    "tags": []
   },
   "source": [
    "## Step 5: Chocolate!　チョコレート\n",
    "\n",
    "In the code cell below, create a scatter plot to show the relationship between `'pricepercent'` (on the horizontal x-axis) and `'winpercent'` (on the vertical y-axis). Use the `'chocolate'` column to color-code the points.  _Don't add any regression lines just yet -- you'll do that in the next step!_\n",
    "以下のコード セルで、散布図を作成して、`pricepercent'` (水平 x 軸) と `'winpercent'` (垂直 y 軸) の関係を示します。 「チョコレート」列を使用してポイントを色分けします。 _まだ回帰直線を追加しないでください。これは次のステップで行います!_"
   ]
  },
  {
   "cell_type": "code",
   "execution_count": 16,
   "id": "630cf01b",
   "metadata": {
    "execution": {
     "iopub.execute_input": "2023-11-07T08:37:47.022364Z",
     "iopub.status.busy": "2023-11-07T08:37:47.021888Z",
     "iopub.status.idle": "2023-11-07T08:37:47.450377Z",
     "shell.execute_reply": "2023-11-07T08:37:47.449042Z"
    },
    "papermill": {
     "duration": 0.454716,
     "end_time": "2023-11-07T08:37:47.453444",
     "exception": false,
     "start_time": "2023-11-07T08:37:46.998728",
     "status": "completed"
    },
    "tags": []
   },
   "outputs": [
    {
     "data": {
      "application/javascript": [
       "parent.postMessage({\"jupyterEvent\": \"custom.exercise_interaction\", \"data\": {\"outcomeType\": 1, \"valueTowardsCompletion\": 0.3333333333333333, \"interactionType\": 1, \"questionType\": 2, \"questionId\": \"5_ColorScatter\", \"learnToolsVersion\": \"0.3.4\", \"failureMessage\": \"\", \"exceptionClass\": \"\", \"trace\": \"\"}}, \"*\")"
      ],
      "text/plain": [
       "<IPython.core.display.Javascript object>"
      ]
     },
     "metadata": {},
     "output_type": "display_data"
    },
    {
     "data": {
      "text/markdown": [
       "<span style=\"color:#33cc33\">Correct</span>"
      ],
      "text/plain": [
       "Correct"
      ]
     },
     "metadata": {},
     "output_type": "display_data"
    },
    {
     "data": {
      "image/png": "[encoded data removed]",
      "text/plain": [
       "<Figure size 640x480 with 1 Axes>"
      ]
     },
     "metadata": {},
     "output_type": "display_data"
    }
   ],
   "source": [
    "# Scatter plot showing the relationship between 'pricepercent', 'winpercent', and 'chocolate'\n",
    "sns.scatterplot(x=candy_data['pricepercent'], y=candy_data['winpercent'], hue=candy_data['chocolate'])\n",
    "\n",
    "# Check your answer\n",
    "step_5.check()"
   ]
  },
  {
   "cell_type": "code",
   "execution_count": 17,
   "id": "e413358d",
   "metadata": {
    "execution": {
     "iopub.execute_input": "2023-11-07T08:37:47.506598Z",
     "iopub.status.busy": "2023-11-07T08:37:47.506066Z",
     "iopub.status.idle": "2023-11-07T08:37:47.944461Z",
     "shell.execute_reply": "2023-11-07T08:37:47.943226Z"
    },
    "papermill": {
     "duration": 0.469254,
     "end_time": "2023-11-07T08:37:47.947304",
     "exception": false,
     "start_time": "2023-11-07T08:37:47.478050",
     "status": "completed"
    },
    "tags": []
   },
   "outputs": [
    {
     "data": {
      "application/javascript": [
       "parent.postMessage({\"jupyterEvent\": \"custom.exercise_interaction\", \"data\": {\"interactionType\": 2, \"questionType\": 2, \"questionId\": \"5_ColorScatter\", \"learnToolsVersion\": \"0.3.4\", \"valueTowardsCompletion\": 0.0, \"failureMessage\": \"\", \"exceptionClass\": \"\", \"trace\": \"\", \"outcomeType\": 4}}, \"*\")"
      ],
      "text/plain": [
       "<IPython.core.display.Javascript object>"
      ]
     },
     "metadata": {},
     "output_type": "display_data"
    },
    {
     "data": {
      "text/markdown": [
       "<span style=\"color:#3366cc\">Hint:</span> Use `sns.scatterplot`, and set the variables for the x-axis, y-axis, and color of the points by using `x=`, `y=`, and `hue=`, respectively."
      ],
      "text/plain": [
       "Hint: Use `sns.scatterplot`, and set the variables for the x-axis, y-axis, and color of the points by using `x=`, `y=`, and `hue=`, respectively."
      ]
     },
     "metadata": {},
     "output_type": "display_data"
    },
    {
     "data": {
      "application/javascript": [
       "parent.postMessage({\"jupyterEvent\": \"custom.exercise_interaction\", \"data\": {\"interactionType\": 3, \"questionType\": 2, \"questionId\": \"5_ColorScatter\", \"learnToolsVersion\": \"0.3.4\", \"valueTowardsCompletion\": 0.0, \"failureMessage\": \"\", \"exceptionClass\": \"\", \"trace\": \"\", \"outcomeType\": 4}}, \"*\")"
      ],
      "text/plain": [
       "<IPython.core.display.Javascript object>"
      ]
     },
     "metadata": {},
     "output_type": "display_data"
    },
    {
     "data": {
      "text/markdown": [
       "<span style=\"color:#33cc99\">Solution:</span> \n",
       "```python\n",
       "# Scatter plot showing the relationship between 'pricepercent', 'winpercent', and 'chocolate'\n",
       "sns.scatterplot(x=candy_data['pricepercent'], y=candy_data['winpercent'], hue=candy_data['chocolate'])\n",
       "\n",
       "```"
      ],
      "text/plain": [
       "Solution: \n",
       "```python\n",
       "# Scatter plot showing the relationship between 'pricepercent', 'winpercent', and 'chocolate'\n",
       "sns.scatterplot(x=candy_data['pricepercent'], y=candy_data['winpercent'], hue=candy_data['chocolate'])\n",
       "\n",
       "```"
      ]
     },
     "metadata": {},
     "output_type": "display_data"
    },
    {
     "data": {
      "image/png": "[encoded data removed]",
      "text/plain": [
       "<Figure size 640x480 with 1 Axes>"
      ]
     },
     "metadata": {},
     "output_type": "display_data"
    }
   ],
   "source": [
    "# Lines below will give you a hint or solution code\n",
    "step_5.hint()\n",
    "# ヒント: sns.scatterplot を使用し、x=、y=、hue= をそれぞれ使用して、点の x 軸、y 軸、および色の変数を設定します。\n",
    "step_5.solution_plot()"
   ]
  },
  {
   "cell_type": "markdown",
   "id": "fdba6b07",
   "metadata": {
    "papermill": {
     "duration": 0.023023,
     "end_time": "2023-11-07T08:37:47.993005",
     "exception": false,
     "start_time": "2023-11-07T08:37:47.969982",
     "status": "completed"
    },
    "tags": []
   },
   "source": [
    "Can you see any interesting patterns in the scatter plot?  We'll investigate this plot further  by adding regression lines in the next step!\n",
    "散布図に興味深いパターンがあることがわかりますか? 次のステップで回帰直線を追加して、このプロットをさらに調査します。\n",
    "\n",
    "## Step 6: Investigate chocolate　　チョコレートを調査\n",
    "\n",
    "#### Part A\n",
    "\n",
    "Create the same scatter plot you created in **Step 5**, but now with two regression lines, corresponding to (1) chocolate candies and (2) candies without chocolate.\n",
    "**ステップ 5** で作成したのと同じ散布図を作成しますが、(1) チョコレート キャンディーと (2) チョコレートなしのキャンディーに対応する 2 つの回帰直線を作成します。"
   ]
  },
  {
   "cell_type": "code",
   "execution_count": 18,
   "id": "d225bb82",
   "metadata": {
    "execution": {
     "iopub.execute_input": "2023-11-07T08:37:48.041793Z",
     "iopub.status.busy": "2023-11-07T08:37:48.041367Z",
     "iopub.status.idle": "2023-11-07T08:37:48.944058Z",
     "shell.execute_reply": "2023-11-07T08:37:48.942687Z"
    },
    "papermill": {
     "duration": 0.929863,
     "end_time": "2023-11-07T08:37:48.946807",
     "exception": false,
     "start_time": "2023-11-07T08:37:48.016944",
     "status": "completed"
    },
    "tags": []
   },
   "outputs": [
    {
     "data": {
      "application/javascript": [
       "parent.postMessage({\"jupyterEvent\": \"custom.exercise_interaction\", \"data\": {\"outcomeType\": 1, \"valueTowardsCompletion\": 0.3333333333333333, \"interactionType\": 1, \"questionType\": 2, \"questionId\": \"6.1_PlotColorReg\", \"learnToolsVersion\": \"0.3.4\", \"failureMessage\": \"\", \"exceptionClass\": \"\", \"trace\": \"\"}}, \"*\")"
      ],
      "text/plain": [
       "<IPython.core.display.Javascript object>"
      ]
     },
     "metadata": {},
     "output_type": "display_data"
    },
    {
     "data": {
      "text/markdown": [
       "<span style=\"color:#33cc33\">Correct</span>"
      ],
      "text/plain": [
       "Correct"
      ]
     },
     "metadata": {},
     "output_type": "display_data"
    },
    {
     "data": {
      "image/png": "[encoded data removed]",
      "text/plain": [
       "<Figure size 578.611x500 with 1 Axes>"
      ]
     },
     "metadata": {},
     "output_type": "display_data"
    }
   ],
   "source": [
    "# Color-coded scatter plot w/ regression lines\n",
    "sns.lmplot(x=\"pricepercent\", y=\"winpercent\", hue=\"chocolate\", data=candy_data) # Your code here\n",
    "\n",
    "# Check your answer\n",
    "step_6.a.check()"
   ]
  },
  {
   "cell_type": "code",
   "execution_count": 19,
   "id": "efb4242e",
   "metadata": {
    "execution": {
     "iopub.execute_input": "2023-11-07T08:37:48.997335Z",
     "iopub.status.busy": "2023-11-07T08:37:48.996830Z",
     "iopub.status.idle": "2023-11-07T08:37:49.817332Z",
     "shell.execute_reply": "2023-11-07T08:37:49.816276Z"
    },
    "papermill": {
     "duration": 0.849183,
     "end_time": "2023-11-07T08:37:49.819899",
     "exception": false,
     "start_time": "2023-11-07T08:37:48.970716",
     "status": "completed"
    },
    "tags": []
   },
   "outputs": [
    {
     "data": {
      "application/javascript": [
       "parent.postMessage({\"jupyterEvent\": \"custom.exercise_interaction\", \"data\": {\"interactionType\": 2, \"questionType\": 2, \"questionId\": \"6.1_PlotColorReg\", \"learnToolsVersion\": \"0.3.4\", \"valueTowardsCompletion\": 0.0, \"failureMessage\": \"\", \"exceptionClass\": \"\", \"trace\": \"\", \"outcomeType\": 4}}, \"*\")"
      ],
      "text/plain": [
       "<IPython.core.display.Javascript object>"
      ]
     },
     "metadata": {},
     "output_type": "display_data"
    },
    {
     "data": {
      "text/markdown": [
       "<span style=\"color:#3366cc\">Hint:</span> Use `sns.lmplot`, and set the variables for the x-axis, y-axis, color of the points, and the dataset by using `x=`, `y=`, `hue=`, and `data=`, respectively."
      ],
      "text/plain": [
       "Hint: Use `sns.lmplot`, and set the variables for the x-axis, y-axis, color of the points, and the dataset by using `x=`, `y=`, `hue=`, and `data=`, respectively."
      ]
     },
     "metadata": {},
     "output_type": "display_data"
    },
    {
     "data": {
      "application/javascript": [
       "parent.postMessage({\"jupyterEvent\": \"custom.exercise_interaction\", \"data\": {\"interactionType\": 3, \"questionType\": 2, \"questionId\": \"6.1_PlotColorReg\", \"learnToolsVersion\": \"0.3.4\", \"valueTowardsCompletion\": 0.0, \"failureMessage\": \"\", \"exceptionClass\": \"\", \"trace\": \"\", \"outcomeType\": 4}}, \"*\")"
      ],
      "text/plain": [
       "<IPython.core.display.Javascript object>"
      ]
     },
     "metadata": {},
     "output_type": "display_data"
    },
    {
     "data": {
      "text/markdown": [
       "<span style=\"color:#33cc99\">Solution:</span> \n",
       "```python\n",
       "# Color-coded scatter plot w/ regression lines\n",
       "sns.lmplot(x=\"pricepercent\", y=\"winpercent\", hue=\"chocolate\", data=candy_data)\n",
       "\n",
       "```"
      ],
      "text/plain": [
       "Solution: \n",
       "```python\n",
       "# Color-coded scatter plot w/ regression lines\n",
       "sns.lmplot(x=\"pricepercent\", y=\"winpercent\", hue=\"chocolate\", data=candy_data)\n",
       "\n",
       "```"
      ]
     },
     "metadata": {},
     "output_type": "display_data"
    },
    {
     "data": {
      "image/png": "[encoded data removed]",
      "text/plain": [
       "<Figure size 578.611x500 with 1 Axes>"
      ]
     },
     "metadata": {},
     "output_type": "display_data"
    }
   ],
   "source": [
    "# Lines below will give you a hint or solution code\n",
    "step_6.a.hint()\n",
    "step_6.a.solution_plot()"
   ]
  },
  {
   "cell_type": "markdown",
   "id": "93830f21",
   "metadata": {
    "papermill": {
     "duration": 0.024785,
     "end_time": "2023-11-07T08:37:49.870148",
     "exception": false,
     "start_time": "2023-11-07T08:37:49.845363",
     "status": "completed"
    },
    "tags": []
   },
   "source": [
    "#### Part B\n",
    "\n",
    "Using the regression lines, what conclusions can you draw about the effects of chocolate and price on candy popularity?\n",
    "回帰直線を使用すると、チョコレートと価格がキャンディーの人気に与える影響についてどのような結論を導くことができますか?"
   ]
  },
  {
   "cell_type": "code",
   "execution_count": 20,
   "id": "d611b046",
   "metadata": {
    "execution": {
     "iopub.execute_input": "2023-11-07T08:37:49.922702Z",
     "iopub.status.busy": "2023-11-07T08:37:49.921861Z",
     "iopub.status.idle": "2023-11-07T08:37:49.927420Z",
     "shell.execute_reply": "2023-11-07T08:37:49.926187Z"
    },
    "papermill": {
     "duration": 0.034564,
     "end_time": "2023-11-07T08:37:49.929875",
     "exception": false,
     "start_time": "2023-11-07T08:37:49.895311",
     "status": "completed"
    },
    "tags": []
   },
   "outputs": [],
   "source": [
    "#step_6.b.hint()"
   ]
  },
  {
   "cell_type": "code",
   "execution_count": 21,
   "id": "1169ee65",
   "metadata": {
    "execution": {
     "iopub.execute_input": "2023-11-07T08:37:49.982785Z",
     "iopub.status.busy": "2023-11-07T08:37:49.981924Z",
     "iopub.status.idle": "2023-11-07T08:37:49.991707Z",
     "shell.execute_reply": "2023-11-07T08:37:49.990654Z"
    },
    "papermill": {
     "duration": 0.038772,
     "end_time": "2023-11-07T08:37:49.993925",
     "exception": false,
     "start_time": "2023-11-07T08:37:49.955153",
     "status": "completed"
    },
    "tags": []
   },
   "outputs": [
    {
     "data": {
      "application/javascript": [
       "parent.postMessage({\"jupyterEvent\": \"custom.exercise_interaction\", \"data\": {\"interactionType\": 3, \"questionType\": 4, \"questionId\": \"6.2_ThinkColorReg\", \"learnToolsVersion\": \"0.3.4\", \"valueTowardsCompletion\": 0.0, \"failureMessage\": \"\", \"exceptionClass\": \"\", \"trace\": \"\", \"outcomeType\": 4}}, \"*\")"
      ],
      "text/plain": [
       "<IPython.core.display.Javascript object>"
      ]
     },
     "metadata": {},
     "output_type": "display_data"
    },
    {
     "data": {
      "text/markdown": [
       "<span style=\"color:#33cc99\">Solution:</span> We'll begin with the regression line for chocolate candies. Since this line has a slightly positive slope, we can say that more expensive chocolate candies tend to be more popular (than relatively cheaper chocolate candies).  Likewise, since the regression line for candies without chocolate has a negative slope, we can say that if candies don't contain chocolate, they tend to be more popular when they are cheaper.  One important note, however, is that the dataset is quite small -- so we shouldn't invest too much trust in these patterns!  To inspire more confidence in the results, we should add more candies to the dataset."
      ],
      "text/plain": [
       "Solution: We'll begin with the regression line for chocolate candies. Since this line has a slightly positive slope, we can say that more expensive chocolate candies tend to be more popular (than relatively cheaper chocolate candies).  Likewise, since the regression line for candies without chocolate has a negative slope, we can say that if candies don't contain chocolate, they tend to be more popular when they are cheaper.  One important note, however, is that the dataset is quite small -- so we shouldn't invest too much trust in these patterns!  To inspire more confidence in the results, we should add more candies to the dataset."
      ]
     },
     "metadata": {},
     "output_type": "display_data"
    }
   ],
   "source": [
    "# Check your answer (Run this code cell to receive credit!)\n",
    "step_6.b.solution()\n",
    "# 解決策: チョコレート キャンディーの回帰直線から始めます。 この線はわずかに正の傾きを持っているため、高価なチョコレート キャンディの方が (比較的安価なチョコレート キャンディよりも) 人気が高い傾向にあると言えます。 同様に、チョコレートを含まないキャンディーの回帰直線は負の傾きを持っているため、チョコレートが含まれていないキャンディーは、価格が安いほど人気が高くなる傾向があると言えます。 ただし、重要な注意点の 1 つは、データセットが非常に小さいということです。したがって、これらのパターンをあまり信頼すべきではありません。 結果に対する信頼性を高めるには、データセットにさらにキャンディーを追加する必要があります。"
   ]
  },
  {
   "cell_type": "markdown",
   "id": "7dea54ff",
   "metadata": {
    "papermill": {
     "duration": 0.025436,
     "end_time": "2023-11-07T08:37:50.045075",
     "exception": false,
     "start_time": "2023-11-07T08:37:50.019639",
     "status": "completed"
    },
    "tags": []
   },
   "source": [
    "## Step 7: Everybody loves chocolate.　みんなチョコレートが大好きです。\n",
    "\n",
    "#### Part A\n",
    "\n",
    "Create a categorical scatter plot to highlight the relationship between `'chocolate'` and `'winpercent'`.  Put `'chocolate'` on the (horizontal) x-axis, and `'winpercent'` on the (vertical) y-axis.\n",
    "カテゴリ散布図を作成して、「chocolate」と「winpercent」の関係を強調表示します。 (水平) X 軸に「チョコレート」を配置し、(垂直) Y 軸に「winpercent」を配置します。"
   ]
  },
  {
   "cell_type": "code",
   "execution_count": 22,
   "id": "bef199b8",
   "metadata": {
    "execution": {
     "iopub.execute_input": "2023-11-07T08:37:50.099150Z",
     "iopub.status.busy": "2023-11-07T08:37:50.098351Z",
     "iopub.status.idle": "2023-11-07T08:37:50.444475Z",
     "shell.execute_reply": "2023-11-07T08:37:50.443269Z"
    },
    "papermill": {
     "duration": 0.376104,
     "end_time": "2023-11-07T08:37:50.447017",
     "exception": false,
     "start_time": "2023-11-07T08:37:50.070913",
     "status": "completed"
    },
    "tags": []
   },
   "outputs": [
    {
     "data": {
      "application/javascript": [
       "parent.postMessage({\"jupyterEvent\": \"custom.exercise_interaction\", \"data\": {\"outcomeType\": 1, \"valueTowardsCompletion\": 0.3333333333333333, \"interactionType\": 1, \"questionType\": 2, \"questionId\": \"7.1_PlotSwarm\", \"learnToolsVersion\": \"0.3.4\", \"failureMessage\": \"\", \"exceptionClass\": \"\", \"trace\": \"\"}}, \"*\")"
      ],
      "text/plain": [
       "<IPython.core.display.Javascript object>"
      ]
     },
     "metadata": {},
     "output_type": "display_data"
    },
    {
     "data": {
      "text/markdown": [
       "<span style=\"color:#33cc33\">Correct</span>"
      ],
      "text/plain": [
       "Correct"
      ]
     },
     "metadata": {},
     "output_type": "display_data"
    },
    {
     "data": {
      "image/png": "[encoded data removed]",
      "text/plain": [
       "<Figure size 640x480 with 1 Axes>"
      ]
     },
     "metadata": {},
     "output_type": "display_data"
    }
   ],
   "source": [
    "# Scatter plot showing the relationship between 'chocolate' and 'winpercent'　'chocolate' と 'winpercent' の関係を示す散布図\n",
    "sns.swarmplot(x=candy_data['chocolate'], y=candy_data['winpercent']) # Your code here\n",
    "\n",
    "# Check your answer\n",
    "step_7.a.check()"
   ]
  },
  {
   "cell_type": "code",
   "execution_count": 23,
   "id": "4b630451",
   "metadata": {
    "execution": {
     "iopub.execute_input": "2023-11-07T08:37:50.503775Z",
     "iopub.status.busy": "2023-11-07T08:37:50.502339Z",
     "iopub.status.idle": "2023-11-07T08:37:50.839804Z",
     "shell.execute_reply": "2023-11-07T08:37:50.838618Z"
    },
    "papermill": {
     "duration": 0.36865,
     "end_time": "2023-11-07T08:37:50.842577",
     "exception": false,
     "start_time": "2023-11-07T08:37:50.473927",
     "status": "completed"
    },
    "tags": []
   },
   "outputs": [
    {
     "data": {
      "application/javascript": [
       "parent.postMessage({\"jupyterEvent\": \"custom.exercise_interaction\", \"data\": {\"interactionType\": 2, \"questionType\": 2, \"questionId\": \"7.1_PlotSwarm\", \"learnToolsVersion\": \"0.3.4\", \"valueTowardsCompletion\": 0.0, \"failureMessage\": \"\", \"exceptionClass\": \"\", \"trace\": \"\", \"outcomeType\": 4}}, \"*\")"
      ],
      "text/plain": [
       "<IPython.core.display.Javascript object>"
      ]
     },
     "metadata": {},
     "output_type": "display_data"
    },
    {
     "data": {
      "text/markdown": [
       "<span style=\"color:#3366cc\">Hint:</span> Use `sns.swarmplot`, and set the variables for the x-axis and y-axis by using `x=` and `y=`, respectively."
      ],
      "text/plain": [
       "Hint: Use `sns.swarmplot`, and set the variables for the x-axis and y-axis by using `x=` and `y=`, respectively."
      ]
     },
     "metadata": {},
     "output_type": "display_data"
    },
    {
     "data": {
      "application/javascript": [
       "parent.postMessage({\"jupyterEvent\": \"custom.exercise_interaction\", \"data\": {\"interactionType\": 3, \"questionType\": 2, \"questionId\": \"7.1_PlotSwarm\", \"learnToolsVersion\": \"0.3.4\", \"valueTowardsCompletion\": 0.0, \"failureMessage\": \"\", \"exceptionClass\": \"\", \"trace\": \"\", \"outcomeType\": 4}}, \"*\")"
      ],
      "text/plain": [
       "<IPython.core.display.Javascript object>"
      ]
     },
     "metadata": {},
     "output_type": "display_data"
    },
    {
     "data": {
      "text/markdown": [
       "<span style=\"color:#33cc99\">Solution:</span> \n",
       "```python\n",
       "# Scatter plot showing the relationship between 'chocolate' and 'winpercent'\n",
       "sns.swarmplot(x=candy_data['chocolate'], y=candy_data['winpercent'])\n",
       "\n",
       "```"
      ],
      "text/plain": [
       "Solution: \n",
       "```python\n",
       "# Scatter plot showing the relationship between 'chocolate' and 'winpercent'\n",
       "sns.swarmplot(x=candy_data['chocolate'], y=candy_data['winpercent'])\n",
       "\n",
       "```"
      ]
     },
     "metadata": {},
     "output_type": "display_data"
    },
    {
     "data": {
      "image/png": "[encoded data removed]",
      "text/plain": [
       "<Figure size 640x480 with 1 Axes>"
      ]
     },
     "metadata": {},
     "output_type": "display_data"
    }
   ],
   "source": [
    "# Lines below will give you a hint or solution code\n",
    "step_7.a.hint()\n",
    "# ヒント: sns.swarmplot を使用し、x= と y= をそれぞれ使用して x 軸と y 軸の変数を設定します。\n",
    "step_7.a.solution_plot()"
   ]
  },
  {
   "cell_type": "markdown",
   "id": "0d7e5ae9",
   "metadata": {
    "papermill": {
     "duration": 0.028168,
     "end_time": "2023-11-07T08:37:50.899428",
     "exception": false,
     "start_time": "2023-11-07T08:37:50.871260",
     "status": "completed"
    },
    "tags": []
   },
   "source": [
    "#### Part B\n",
    "\n",
    "You decide to dedicate a section of your report to the fact that chocolate candies tend to be more popular than candies without chocolate.  Which plot is more appropriate to tell this story: the plot from **Step 6**, or the plot from **Step 7**?\n",
    "あなたは、チョコレート キャンディーがチョコレートを含まないキャンディーよりも人気がある傾向があるという事実についてレポートのセクションを捧げることにしました。 このストーリーを伝えるには、**ステップ 6** のプロットと **ステップ 7** のプロットのどちらがより適切ですか?"
   ]
  },
  {
   "cell_type": "code",
   "execution_count": 24,
   "id": "27b6ab51",
   "metadata": {
    "execution": {
     "iopub.execute_input": "2023-11-07T08:37:50.959340Z",
     "iopub.status.busy": "2023-11-07T08:37:50.957641Z",
     "iopub.status.idle": "2023-11-07T08:37:50.964034Z",
     "shell.execute_reply": "2023-11-07T08:37:50.963103Z"
    },
    "papermill": {
     "duration": 0.03913,
     "end_time": "2023-11-07T08:37:50.966641",
     "exception": false,
     "start_time": "2023-11-07T08:37:50.927511",
     "status": "completed"
    },
    "tags": []
   },
   "outputs": [],
   "source": [
    "#step_7.b.hint()"
   ]
  },
  {
   "cell_type": "code",
   "execution_count": 25,
   "id": "a6ad2ad0",
   "metadata": {
    "execution": {
     "iopub.execute_input": "2023-11-07T08:37:51.024544Z",
     "iopub.status.busy": "2023-11-07T08:37:51.023332Z",
     "iopub.status.idle": "2023-11-07T08:37:51.033863Z",
     "shell.execute_reply": "2023-11-07T08:37:51.032637Z"
    },
    "papermill": {
     "duration": 0.042179,
     "end_time": "2023-11-07T08:37:51.036281",
     "exception": false,
     "start_time": "2023-11-07T08:37:50.994102",
     "status": "completed"
    },
    "tags": []
   },
   "outputs": [
    {
     "data": {
      "application/javascript": [
       "parent.postMessage({\"jupyterEvent\": \"custom.exercise_interaction\", \"data\": {\"interactionType\": 3, \"questionType\": 4, \"questionId\": \"7.2_ThinkSwarm\", \"learnToolsVersion\": \"0.3.4\", \"valueTowardsCompletion\": 0.0, \"failureMessage\": \"\", \"exceptionClass\": \"\", \"trace\": \"\", \"outcomeType\": 4}}, \"*\")"
      ],
      "text/plain": [
       "<IPython.core.display.Javascript object>"
      ]
     },
     "metadata": {},
     "output_type": "display_data"
    },
    {
     "data": {
      "text/markdown": [
       "<span style=\"color:#33cc99\">Solution:</span> In this case, the categorical scatter plot from **Step 7** is the more appropriate plot. While both plots tell the desired story, the plot from **Step 6** conveys far more information that could distract from the main point."
      ],
      "text/plain": [
       "Solution: In this case, the categorical scatter plot from **Step 7** is the more appropriate plot. While both plots tell the desired story, the plot from **Step 6** conveys far more information that could distract from the main point."
      ]
     },
     "metadata": {},
     "output_type": "display_data"
    }
   ],
   "source": [
    "# Check your answer (Run this code cell to receive credit!)\n",
    "step_7.b.solution()\n",
    "# 解決策: この場合、ステップ 7 のカテゴリ散布図がより適切なプロットです。 どちらのプロットも目的のストーリーを伝えていますが、ステップ 6 のプロットは、要点から注意をそらす可能性のあるはるかに多くの情報を伝えています。"
   ]
  },
  {
   "cell_type": "markdown",
   "id": "d932dfc4",
   "metadata": {
    "papermill": {
     "duration": 0.028269,
     "end_time": "2023-11-07T08:37:51.092273",
     "exception": false,
     "start_time": "2023-11-07T08:37:51.064004",
     "status": "completed"
    },
    "tags": []
   },
   "source": [
    "## Keep going\n",
    "\n",
    "Explore **[histograms and density plots](https://www.kaggle.com/alexisbcook/distributions)**."
   ]
  },
  {
   "cell_type": "markdown",
   "id": "87c6af9f",
   "metadata": {
    "papermill": {
     "duration": 0.028826,
     "end_time": "2023-11-07T08:37:51.151239",
     "exception": false,
     "start_time": "2023-11-07T08:37:51.122413",
     "status": "completed"
    },
    "tags": []
   },
   "source": [
    "---\n",
    "\n",
    "\n",
    "\n",
    "\n",
    "*Have questions or comments? Visit the [course discussion forum](https://www.kaggle.com/learn/data-visualization/discussion) to chat with other learners.*"
   ]
  }
 ],
 "metadata": {
  "kernelspec": {
   "display_name": "Python 3",
   "language": "python",
   "name": "python3"
  },
  "language_info": {
   "codemirror_mode": {
    "name": "ipython",
    "version": 3
   },
   "file_extension": ".py",
   "mimetype": "text/x-python",
   "name": "python",
   "nbconvert_exporter": "python",
   "pygments_lexer": "ipython3",
   "version": "3.10.12"
  },
  "papermill": {
   "default_parameters": {},
   "duration": 13.919182,
   "end_time": "2023-11-07T08:37:51.903507",
   "environment_variables": {},
   "exception": null,
   "input_path": "__notebook__.ipynb",
   "output_path": "__notebook__.ipynb",
   "parameters": {},
   "start_time": "2023-11-07T08:37:37.984325",
   "version": "2.4.0"
  }
 },
 "nbformat": 4,
 "nbformat_minor": 5
}
