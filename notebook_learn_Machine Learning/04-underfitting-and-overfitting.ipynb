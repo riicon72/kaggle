{
 "cells": [
  {
   "cell_type": "markdown",
   "id": "f8a9a26e",
   "metadata": {
    "papermill": {
     "duration": 0.004227,
     "end_time": "2023-12-04T10:50:05.834708",
     "exception": false,
     "start_time": "2023-12-04T10:50:05.830481",
     "status": "completed"
    },
    "tags": []
   },
   "source": [
    "\n",
    "日本人向けに日本語訳を入れました。 言い回しが間違っていたらすみません。 お役に立てれば幸いです"
   ]
  },
  {
   "cell_type": "markdown",
   "id": "b6860ec2",
   "metadata": {
    "papermill": {
     "duration": 0.003103,
     "end_time": "2023-12-04T10:50:05.843940",
     "exception": false,
     "start_time": "2023-12-04T10:50:05.840837",
     "status": "completed"
    },
    "tags": []
   },
   "source": [
    "\n",
    "## Recap\n",
    "\n",
    "So far, you have loaded your data and reviewed it with the following code. Run this cell to set up your coding environment where the previous step left off.\n",
    "\n",
    "まとめ\n",
    "\n",
    "ここまでで、あなたはデータをロードし、それを以下のコードでレビューした。このセルを実行して、前のステップの続きからコーディング環境をセットアップしてください。"
   ]
  },
  {
   "cell_type": "code",
   "execution_count": 1,
   "id": "627c3179",
   "metadata": {
    "execution": {
     "iopub.execute_input": "2023-12-04T10:50:05.852462Z",
     "iopub.status.busy": "2023-12-04T10:50:05.851842Z",
     "iopub.status.idle": "2023-12-04T10:50:08.117078Z",
     "shell.execute_reply": "2023-12-04T10:50:08.115338Z"
    },
    "papermill": {
     "duration": 2.272934,
     "end_time": "2023-12-04T10:50:08.120045",
     "exception": false,
     "start_time": "2023-12-04T10:50:05.847111",
     "status": "completed"
    },
    "tags": []
   },
   "outputs": [
    {
     "name": "stdout",
     "output_type": "stream",
     "text": [
      "Validation MAE: 29,653\n",
      "\n",
      "Setup complete\n"
     ]
    }
   ],
   "source": [
    "# Code you have previously used to load data\n",
    "import pandas as pd\n",
    "from sklearn.metrics import mean_absolute_error\n",
    "from sklearn.model_selection import train_test_split\n",
    "from sklearn.tree import DecisionTreeRegressor\n",
    "\n",
    "\n",
    "\n",
    "# Path of the file to read\n",
    "iowa_file_path = '../input/home-data-for-ml-course/train.csv'\n",
    "\n",
    "home_data = pd.read_csv(iowa_file_path)\n",
    "# Create target object and call it y\n",
    "y = home_data.SalePrice\n",
    "# Create X\n",
    "features = ['LotArea', 'YearBuilt', '1stFlrSF', '2ndFlrSF', 'FullBath', 'BedroomAbvGr', 'TotRmsAbvGrd']\n",
    "X = home_data[features]\n",
    "\n",
    "# Split into validation and training data\n",
    "train_X, val_X, train_y, val_y = train_test_split(X, y, random_state=1)\n",
    "\n",
    "# Specify Model\n",
    "iowa_model = DecisionTreeRegressor(random_state=1)\n",
    "# Fit Model\n",
    "iowa_model.fit(train_X, train_y)\n",
    "\n",
    "# Make validation predictions and calculate mean absolute error\n",
    "val_predictions = iowa_model.predict(val_X)\n",
    "val_mae = mean_absolute_error(val_predictions, val_y)\n",
    "print(\"Validation MAE: {:,.0f}\".format(val_mae))\n",
    "\n",
    "# Set up code checking\n",
    "from learntools.core import binder\n",
    "binder.bind(globals())\n",
    "from learntools.machine_learning.ex5 import *\n",
    "print(\"\\nSetup complete\")"
   ]
  },
  {
   "cell_type": "markdown",
   "id": "19d18bf6",
   "metadata": {
    "papermill": {
     "duration": 0.003427,
     "end_time": "2023-12-04T10:50:08.127173",
     "exception": false,
     "start_time": "2023-12-04T10:50:08.123746",
     "status": "completed"
    },
    "tags": []
   },
   "source": [
    "# Exercises\n",
    "You could write the function `get_mae` yourself. For now, we'll supply it. This is the same function you read about in the previous lesson. Just run the cell below.\n",
    "\n",
    "get_mae`関数は自分で書くこともできる。今のところ、それを提供しよう。これは前のレッスンで読んだのと同じ関数です。下のセルを実行してください。"
   ]
  },
  {
   "cell_type": "code",
   "execution_count": 2,
   "id": "dab2714f",
   "metadata": {
    "execution": {
     "iopub.execute_input": "2023-12-04T10:50:08.135599Z",
     "iopub.status.busy": "2023-12-04T10:50:08.135188Z",
     "iopub.status.idle": "2023-12-04T10:50:08.143114Z",
     "shell.execute_reply": "2023-12-04T10:50:08.140749Z"
    },
    "papermill": {
     "duration": 0.015436,
     "end_time": "2023-12-04T10:50:08.145868",
     "exception": false,
     "start_time": "2023-12-04T10:50:08.130432",
     "status": "completed"
    },
    "tags": []
   },
   "outputs": [],
   "source": [
    "def get_mae(max_leaf_nodes, train_X, val_X, train_y, val_y):\n",
    "    model = DecisionTreeRegressor(max_leaf_nodes=max_leaf_nodes, random_state=0)\n",
    "    model.fit(train_X, train_y)\n",
    "    preds_val = model.predict(val_X)\n",
    "    mae = mean_absolute_error(val_y, preds_val)\n",
    "    return(mae)"
   ]
  },
  {
   "cell_type": "markdown",
   "id": "cf64a003",
   "metadata": {
    "papermill": {
     "duration": 0.002943,
     "end_time": "2023-12-04T10:50:08.152405",
     "exception": false,
     "start_time": "2023-12-04T10:50:08.149462",
     "status": "completed"
    },
    "tags": []
   },
   "source": [
    "## Step 1: Compare Different Tree Sizes\n",
    "## ステップ1：異なるツリーのサイズを比較する\n",
    "\n",
    "\n",
    "Write a loop that tries the following values for *max_leaf_nodes* from a set of possible values.\n",
    "\n",
    "Call the *get_mae* function on each value of max_leaf_nodes. Store the output in some way that allows you to select the value of `max_leaf_nodes` that gives the most accurate model on your data.\n",
    "\n",
    "max_leaf_nodes*について、可能な値の集合から以下の値を試すループを書く。\n",
    "\n",
    "各 max_leaf_nodes の値に対して *get_mae* 関数を呼び出す。データに対して最も正確なモデルを与える `max_leaf_nodes` の値を選択できるように、何らかの方法で出力を保存する。"
   ]
  },
  {
   "cell_type": "code",
   "execution_count": 3,
   "id": "b6d2f819",
   "metadata": {
    "execution": {
     "iopub.execute_input": "2023-12-04T10:50:08.160665Z",
     "iopub.status.busy": "2023-12-04T10:50:08.160269Z",
     "iopub.status.idle": "2023-12-04T10:50:08.211266Z",
     "shell.execute_reply": "2023-12-04T10:50:08.210283Z"
    },
    "papermill": {
     "duration": 0.05783,
     "end_time": "2023-12-04T10:50:08.213543",
     "exception": false,
     "start_time": "2023-12-04T10:50:08.155713",
     "status": "completed"
    },
    "tags": []
   },
   "outputs": [
    {
     "data": {
      "application/javascript": [
       "parent.postMessage({\"jupyterEvent\": \"custom.exercise_interaction\", \"data\": {\"outcomeType\": 1, \"valueTowardsCompletion\": 0.5, \"interactionType\": 1, \"questionType\": 1, \"questionId\": \"1_BestTreeSize\", \"learnToolsVersion\": \"0.3.4\", \"failureMessage\": \"\", \"exceptionClass\": \"\", \"trace\": \"\"}}, \"*\")"
      ],
      "text/plain": [
       "<IPython.core.display.Javascript object>"
      ]
     },
     "metadata": {},
     "output_type": "display_data"
    },
    {
     "data": {
      "text/markdown": [
       "<span style=\"color:#33cc33\">Correct</span>"
      ],
      "text/plain": [
       "Correct"
      ]
     },
     "metadata": {},
     "output_type": "display_data"
    }
   ],
   "source": [
    "candidate_max_leaf_nodes = [5, 25, 50, 100, 250, 500]\n",
    "# Write loop to find the ideal tree size from candidate_max_leaf_nodes\n",
    "scores = {leaf_size: get_mae(leaf_size, train_X, val_X, train_y, val_y) for leaf_size in candidate_max_leaf_nodes}\n",
    "\n",
    "# Store the best value of max_leaf_nodes (it will be either 5, 25, 50, 100, 250 or 500)\n",
    "best_tree_size = min(scores, key=scores.get)\n",
    "\n",
    "# Check your answer\n",
    "step_1.check()"
   ]
  },
  {
   "cell_type": "code",
   "execution_count": 4,
   "id": "8e8f0339",
   "metadata": {
    "execution": {
     "iopub.execute_input": "2023-12-04T10:50:08.222258Z",
     "iopub.status.busy": "2023-12-04T10:50:08.221841Z",
     "iopub.status.idle": "2023-12-04T10:50:08.235950Z",
     "shell.execute_reply": "2023-12-04T10:50:08.234223Z"
    },
    "papermill": {
     "duration": 0.021751,
     "end_time": "2023-12-04T10:50:08.238969",
     "exception": false,
     "start_time": "2023-12-04T10:50:08.217218",
     "status": "completed"
    },
    "tags": []
   },
   "outputs": [
    {
     "data": {
      "application/javascript": [
       "parent.postMessage({\"jupyterEvent\": \"custom.exercise_interaction\", \"data\": {\"interactionType\": 2, \"questionType\": 1, \"questionId\": \"1_BestTreeSize\", \"learnToolsVersion\": \"0.3.4\", \"valueTowardsCompletion\": 0.0, \"failureMessage\": \"\", \"exceptionClass\": \"\", \"trace\": \"\", \"outcomeType\": 4}}, \"*\")"
      ],
      "text/plain": [
       "<IPython.core.display.Javascript object>"
      ]
     },
     "metadata": {},
     "output_type": "display_data"
    },
    {
     "data": {
      "text/markdown": [
       "<span style=\"color:#3366cc\">Hint:</span> You will call get_mae in the loop. You'll need to map the names of your data structure to the names in get_mae"
      ],
      "text/plain": [
       "Hint: You will call get_mae in the loop. You'll need to map the names of your data structure to the names in get_mae"
      ]
     },
     "metadata": {},
     "output_type": "display_data"
    },
    {
     "data": {
      "application/javascript": [
       "parent.postMessage({\"jupyterEvent\": \"custom.exercise_interaction\", \"data\": {\"interactionType\": 3, \"questionType\": 1, \"questionId\": \"1_BestTreeSize\", \"learnToolsVersion\": \"0.3.4\", \"valueTowardsCompletion\": 0.0, \"failureMessage\": \"\", \"exceptionClass\": \"\", \"trace\": \"\", \"outcomeType\": 4}}, \"*\")"
      ],
      "text/plain": [
       "<IPython.core.display.Javascript object>"
      ]
     },
     "metadata": {},
     "output_type": "display_data"
    },
    {
     "data": {
      "text/markdown": [
       "<span style=\"color:#33cc99\">Solution:</span> \n",
       "```python\n",
       "# Here is a short solution with a dict comprehension.\n",
       "# The lesson gives an example of how to do this with an explicit loop.\n",
       "scores = {leaf_size: get_mae(leaf_size, train_X, val_X, train_y, val_y) for leaf_size in candidate_max_leaf_nodes}\n",
       "best_tree_size = min(scores, key=scores.get)\n",
       "\n",
       "```"
      ],
      "text/plain": [
       "Solution: \n",
       "```python\n",
       "# Here is a short solution with a dict comprehension.\n",
       "# The lesson gives an example of how to do this with an explicit loop.\n",
       "scores = {leaf_size: get_mae(leaf_size, train_X, val_X, train_y, val_y) for leaf_size in candidate_max_leaf_nodes}\n",
       "best_tree_size = min(scores, key=scores.get)\n",
       "\n",
       "```"
      ]
     },
     "metadata": {},
     "output_type": "display_data"
    }
   ],
   "source": [
    "# The lines below will show you a hint or the solution.\n",
    "step_1.hint() \n",
    "step_1.solution()"
   ]
  },
  {
   "cell_type": "markdown",
   "id": "535c8eda",
   "metadata": {
    "papermill": {
     "duration": 0.003799,
     "end_time": "2023-12-04T10:50:08.247329",
     "exception": false,
     "start_time": "2023-12-04T10:50:08.243530",
     "status": "completed"
    },
    "tags": []
   },
   "source": [
    "## Step 2: Fit Model Using All Data\n",
    "## ステップ2：すべてのデータを使ってモデルを当てはめる\n",
    "\n",
    "\n",
    "You know the best tree size. If you were going to deploy this model in practice, you would make it even more accurate by using all of the data and keeping that tree size.  That is, you don't need to hold out the validation data now that you've made all your modeling decisions.\n",
    "\n",
    "あなたは最適な木のサイズを知っている。このモデルを実際に展開するのであれば、すべてのデータを使って、そのツリーサイズを維持することで、さらに精度を上げることができます。 つまり、すべてのモデリングを決定した今、検証データを保留する必要はないのです。"
   ]
  },
  {
   "cell_type": "code",
   "execution_count": 5,
   "id": "fd9a2958",
   "metadata": {
    "execution": {
     "iopub.execute_input": "2023-12-04T10:50:08.257316Z",
     "iopub.status.busy": "2023-12-04T10:50:08.256877Z",
     "iopub.status.idle": "2023-12-04T10:50:08.277910Z",
     "shell.execute_reply": "2023-12-04T10:50:08.276650Z"
    },
    "papermill": {
     "duration": 0.029568,
     "end_time": "2023-12-04T10:50:08.280932",
     "exception": false,
     "start_time": "2023-12-04T10:50:08.251364",
     "status": "completed"
    },
    "tags": []
   },
   "outputs": [
    {
     "data": {
      "application/javascript": [
       "parent.postMessage({\"jupyterEvent\": \"custom.exercise_interaction\", \"data\": {\"outcomeType\": 1, \"valueTowardsCompletion\": 0.5, \"interactionType\": 1, \"questionType\": 2, \"questionId\": \"2_FitModelWithAllData\", \"learnToolsVersion\": \"0.3.4\", \"failureMessage\": \"\", \"exceptionClass\": \"\", \"trace\": \"\"}}, \"*\")"
      ],
      "text/plain": [
       "<IPython.core.display.Javascript object>"
      ]
     },
     "metadata": {},
     "output_type": "display_data"
    },
    {
     "data": {
      "text/markdown": [
       "<span style=\"color:#33cc33\">Correct</span>"
      ],
      "text/plain": [
       "Correct"
      ]
     },
     "metadata": {},
     "output_type": "display_data"
    }
   ],
   "source": [
    "# Fill in argument to make optimal size and uncomment\n",
    "final_model = DecisionTreeRegressor(max_leaf_nodes=best_tree_size, random_state=1)\n",
    "\n",
    "# fit the final model and uncomment the next two lines\n",
    "final_model.fit(X, y)\n",
    "\n",
    "# Check your answer\n",
    "step_2.check()"
   ]
  },
  {
   "cell_type": "code",
   "execution_count": 6,
   "id": "a9cfda91",
   "metadata": {
    "execution": {
     "iopub.execute_input": "2023-12-04T10:50:08.292281Z",
     "iopub.status.busy": "2023-12-04T10:50:08.291841Z",
     "iopub.status.idle": "2023-12-04T10:50:08.309393Z",
     "shell.execute_reply": "2023-12-04T10:50:08.307477Z"
    },
    "papermill": {
     "duration": 0.026921,
     "end_time": "2023-12-04T10:50:08.312499",
     "exception": false,
     "start_time": "2023-12-04T10:50:08.285578",
     "status": "completed"
    },
    "tags": []
   },
   "outputs": [
    {
     "data": {
      "application/javascript": [
       "parent.postMessage({\"jupyterEvent\": \"custom.exercise_interaction\", \"data\": {\"interactionType\": 2, \"questionType\": 2, \"questionId\": \"2_FitModelWithAllData\", \"learnToolsVersion\": \"0.3.4\", \"valueTowardsCompletion\": 0.0, \"failureMessage\": \"\", \"exceptionClass\": \"\", \"trace\": \"\", \"outcomeType\": 4}}, \"*\")"
      ],
      "text/plain": [
       "<IPython.core.display.Javascript object>"
      ]
     },
     "metadata": {},
     "output_type": "display_data"
    },
    {
     "data": {
      "text/markdown": [
       "<span style=\"color:#3366cc\">Hint:</span> Fit with the ideal value of max_leaf_nodes. In the fit step, use all of the data in the dataset"
      ],
      "text/plain": [
       "Hint: Fit with the ideal value of max_leaf_nodes. In the fit step, use all of the data in the dataset"
      ]
     },
     "metadata": {},
     "output_type": "display_data"
    },
    {
     "data": {
      "application/javascript": [
       "parent.postMessage({\"jupyterEvent\": \"custom.exercise_interaction\", \"data\": {\"interactionType\": 3, \"questionType\": 2, \"questionId\": \"2_FitModelWithAllData\", \"learnToolsVersion\": \"0.3.4\", \"valueTowardsCompletion\": 0.0, \"failureMessage\": \"\", \"exceptionClass\": \"\", \"trace\": \"\", \"outcomeType\": 4}}, \"*\")"
      ],
      "text/plain": [
       "<IPython.core.display.Javascript object>"
      ]
     },
     "metadata": {},
     "output_type": "display_data"
    },
    {
     "data": {
      "text/markdown": [
       "<span style=\"color:#33cc99\">Solution:</span> \n",
       "```python\n",
       "# Fit the model with best_tree_size. Fill in argument to make optimal size\n",
       "final_model = DecisionTreeRegressor(max_leaf_nodes=best_tree_size, random_state=1)\n",
       "\n",
       "# fit the final model\n",
       "final_model.fit(X, y)\n",
       "```"
      ],
      "text/plain": [
       "Solution: \n",
       "```python\n",
       "# Fit the model with best_tree_size. Fill in argument to make optimal size\n",
       "final_model = DecisionTreeRegressor(max_leaf_nodes=best_tree_size, random_state=1)\n",
       "\n",
       "# fit the final model\n",
       "final_model.fit(X, y)\n",
       "```"
      ]
     },
     "metadata": {},
     "output_type": "display_data"
    }
   ],
   "source": [
    "step_2.hint()\n",
    "step_2.solution()"
   ]
  },
  {
   "cell_type": "markdown",
   "id": "ed43dd3e",
   "metadata": {
    "papermill": {
     "duration": 0.004565,
     "end_time": "2023-12-04T10:50:08.322306",
     "exception": false,
     "start_time": "2023-12-04T10:50:08.317741",
     "status": "completed"
    },
    "tags": []
   },
   "source": [
    "You've tuned this model and improved your results. But we are still using Decision Tree models, which are not very sophisticated by modern machine learning standards. In the next step you will learn to use Random Forests to improve your models even more.\n",
    "\n",
    "\n",
    "あなたはこのモデルをチューニングし、結果を改善した。しかし、我々はまだ決定木モデルを使用しており、現代の機械学習の基準からするとあまり洗練されていません。次のステップでは、ランダムフォレストを使ってモデルをさらに改善する方法を学びます。\n",
    "\n",
    "\n",
    "# Keep Going\n",
    "\n",
    "You are ready for **[Random Forests](https://www.kaggle.com/dansbecker/random-forests).**\n"
   ]
  },
  {
   "cell_type": "markdown",
   "id": "60c2a164",
   "metadata": {
    "papermill": {
     "duration": 0.004401,
     "end_time": "2023-12-04T10:50:08.331837",
     "exception": false,
     "start_time": "2023-12-04T10:50:08.327436",
     "status": "completed"
    },
    "tags": []
   },
   "source": [
    "---\n",
    "\n",
    "\n",
    "\n",
    "\n",
    "*Have questions or comments? Visit the [course discussion forum](https://www.kaggle.com/learn/intro-to-machine-learning/discussion) to chat with other learners.*"
   ]
  }
 ],
 "metadata": {
  "kaggle": {
   "accelerator": "none",
   "dataSources": [
    {
     "databundleVersionId": 111096,
     "sourceId": 10211,
     "sourceType": "competition"
    },
    {
     "datasetId": 11167,
     "sourceId": 15520,
     "sourceType": "datasetVersion"
    },
    {
     "datasetId": 2709,
     "sourceId": 38454,
     "sourceType": "datasetVersion"
    }
   ],
   "isGpuEnabled": false,
   "isInternetEnabled": false,
   "language": "python",
   "sourceType": "notebook"
  },
  "kernelspec": {
   "display_name": "Python 3",
   "language": "python",
   "name": "python3"
  },
  "language_info": {
   "codemirror_mode": {
    "name": "ipython",
    "version": 3
   },
   "file_extension": ".py",
   "mimetype": "text/x-python",
   "name": "python",
   "nbconvert_exporter": "python",
   "pygments_lexer": "ipython3",
   "version": "3.10.12"
  },
  "papermill": {
   "default_parameters": {},
   "duration": 6.042656,
   "end_time": "2023-12-04T10:50:09.059463",
   "environment_variables": {},
   "exception": null,
   "input_path": "__notebook__.ipynb",
   "output_path": "__notebook__.ipynb",
   "parameters": {},
   "start_time": "2023-12-04T10:50:03.016807",
   "version": "2.4.0"
  }
 },
 "nbformat": 4,
 "nbformat_minor": 5
}
