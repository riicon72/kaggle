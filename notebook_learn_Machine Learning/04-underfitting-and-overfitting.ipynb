{
 "cells": [
  {
   "cell_type": "markdown",
   "id": "085be78c",
   "metadata": {
    "papermill": {
     "duration": 0.003733,
     "end_time": "2023-12-02T10:22:34.174123",
     "exception": false,
     "start_time": "2023-12-02T10:22:34.170390",
     "status": "completed"
    },
    "tags": []
   },
   "source": [
    "\n",
    "日本人向けに日本語訳を入れました。 言い回しが間違っていたらすみません。 お役に立てれば幸いです"
   ]
  },
  {
   "cell_type": "markdown",
   "id": "df324bbe",
   "metadata": {
    "papermill": {
     "duration": 0.002823,
     "end_time": "2023-12-02T10:22:34.182238",
     "exception": false,
     "start_time": "2023-12-02T10:22:34.179415",
     "status": "completed"
    },
    "tags": []
   },
   "source": [
    "\n",
    "## Recap\n",
    "\n",
    "So far, you have loaded your data and reviewed it with the following code. Run this cell to set up your coding environment where the previous step left off.\n",
    "\n",
    "まとめ\n",
    "\n",
    "ここまでで、あなたはデータをロードし、それを以下のコードでレビューした。このセルを実行して、前のステップの続きからコーディング環境をセットアップしてください。"
   ]
  },
  {
   "cell_type": "code",
   "execution_count": 1,
   "id": "2aa4aeab",
   "metadata": {
    "execution": {
     "iopub.execute_input": "2023-12-02T10:22:34.190525Z",
     "iopub.status.busy": "2023-12-02T10:22:34.189946Z",
     "iopub.status.idle": "2023-12-02T10:22:36.230836Z",
     "shell.execute_reply": "2023-12-02T10:22:36.229565Z"
    },
    "papermill": {
     "duration": 2.048208,
     "end_time": "2023-12-02T10:22:36.233455",
     "exception": false,
     "start_time": "2023-12-02T10:22:34.185247",
     "status": "completed"
    },
    "tags": []
   },
   "outputs": [
    {
     "name": "stdout",
     "output_type": "stream",
     "text": [
      "Validation MAE: 29,653\n",
      "\n",
      "Setup complete\n"
     ]
    }
   ],
   "source": [
    "# Code you have previously used to load data\n",
    "import pandas as pd\n",
    "from sklearn.metrics import mean_absolute_error\n",
    "from sklearn.model_selection import train_test_split\n",
    "from sklearn.tree import DecisionTreeRegressor\n",
    "\n",
    "\n",
    "\n",
    "# Path of the file to read\n",
    "iowa_file_path = '../input/home-data-for-ml-course/train.csv'\n",
    "\n",
    "home_data = pd.read_csv(iowa_file_path)\n",
    "# Create target object and call it y\n",
    "y = home_data.SalePrice\n",
    "# Create X\n",
    "features = ['LotArea', 'YearBuilt', '1stFlrSF', '2ndFlrSF', 'FullBath', 'BedroomAbvGr', 'TotRmsAbvGrd']\n",
    "X = home_data[features]\n",
    "\n",
    "# Split into validation and training data\n",
    "train_X, val_X, train_y, val_y = train_test_split(X, y, random_state=1)\n",
    "\n",
    "# Specify Model\n",
    "iowa_model = DecisionTreeRegressor(random_state=1)\n",
    "# Fit Model\n",
    "iowa_model.fit(train_X, train_y)\n",
    "\n",
    "# Make validation predictions and calculate mean absolute error\n",
    "val_predictions = iowa_model.predict(val_X)\n",
    "val_mae = mean_absolute_error(val_predictions, val_y)\n",
    "print(\"Validation MAE: {:,.0f}\".format(val_mae))\n",
    "\n",
    "# Set up code checking\n",
    "from learntools.core import binder\n",
    "binder.bind(globals())\n",
    "from learntools.machine_learning.ex5 import *\n",
    "print(\"\\nSetup complete\")"
   ]
  },
  {
   "cell_type": "markdown",
   "id": "bee0dd78",
   "metadata": {
    "papermill": {
     "duration": 0.002987,
     "end_time": "2023-12-02T10:22:36.239939",
     "exception": false,
     "start_time": "2023-12-02T10:22:36.236952",
     "status": "completed"
    },
    "tags": []
   },
   "source": [
    "# Exercises\n",
    "You could write the function `get_mae` yourself. For now, we'll supply it. This is the same function you read about in the previous lesson. Just run the cell below.\n",
    "\n",
    "get_mae`関数は自分で書くこともできる。今のところ、それを提供しよう。これは前のレッスンで読んだのと同じ関数です。下のセルを実行してください。"
   ]
  },
  {
   "cell_type": "code",
   "execution_count": 2,
   "id": "4c56b909",
   "metadata": {
    "execution": {
     "iopub.execute_input": "2023-12-02T10:22:36.247884Z",
     "iopub.status.busy": "2023-12-02T10:22:36.247522Z",
     "iopub.status.idle": "2023-12-02T10:22:36.253331Z",
     "shell.execute_reply": "2023-12-02T10:22:36.251922Z"
    },
    "papermill": {
     "duration": 0.012773,
     "end_time": "2023-12-02T10:22:36.255832",
     "exception": false,
     "start_time": "2023-12-02T10:22:36.243059",
     "status": "completed"
    },
    "tags": []
   },
   "outputs": [],
   "source": [
    "def get_mae(max_leaf_nodes, train_X, val_X, train_y, val_y):\n",
    "    model = DecisionTreeRegressor(max_leaf_nodes=max_leaf_nodes, random_state=0)\n",
    "    model.fit(train_X, train_y)\n",
    "    preds_val = model.predict(val_X)\n",
    "    mae = mean_absolute_error(val_y, preds_val)\n",
    "    return(mae)"
   ]
  },
  {
   "cell_type": "markdown",
   "id": "aa8a78ba",
   "metadata": {
    "papermill": {
     "duration": 0.002987,
     "end_time": "2023-12-02T10:22:36.262309",
     "exception": false,
     "start_time": "2023-12-02T10:22:36.259322",
     "status": "completed"
    },
    "tags": []
   },
   "source": [
    "## Step 1: Compare Different Tree Sizes\n",
    "## ステップ1：異なるツリーのサイズを比較する\n",
    "\n",
    "\n",
    "Write a loop that tries the following values for *max_leaf_nodes* from a set of possible values.\n",
    "\n",
    "Call the *get_mae* function on each value of max_leaf_nodes. Store the output in some way that allows you to select the value of `max_leaf_nodes` that gives the most accurate model on your data.\n",
    "\n",
    "max_leaf_nodes*について、可能な値の集合から以下の値を試すループを書く。\n",
    "\n",
    "各 max_leaf_nodes の値に対して *get_mae* 関数を呼び出す。データに対して最も正確なモデルを与える `max_leaf_nodes` の値を選択できるように、何らかの方法で出力を保存する。"
   ]
  },
  {
   "cell_type": "code",
   "execution_count": 3,
   "id": "ccfeeb93",
   "metadata": {
    "execution": {
     "iopub.execute_input": "2023-12-02T10:22:36.271146Z",
     "iopub.status.busy": "2023-12-02T10:22:36.270206Z",
     "iopub.status.idle": "2023-12-02T10:22:36.315656Z",
     "shell.execute_reply": "2023-12-02T10:22:36.313855Z"
    },
    "papermill": {
     "duration": 0.052575,
     "end_time": "2023-12-02T10:22:36.318188",
     "exception": false,
     "start_time": "2023-12-02T10:22:36.265613",
     "status": "completed"
    },
    "tags": []
   },
   "outputs": [
    {
     "data": {
      "application/javascript": [
       "parent.postMessage({\"jupyterEvent\": \"custom.exercise_interaction\", \"data\": {\"outcomeType\": 1, \"valueTowardsCompletion\": 0.5, \"interactionType\": 1, \"questionType\": 1, \"questionId\": \"1_BestTreeSize\", \"learnToolsVersion\": \"0.3.4\", \"failureMessage\": \"\", \"exceptionClass\": \"\", \"trace\": \"\"}}, \"*\")"
      ],
      "text/plain": [
       "<IPython.core.display.Javascript object>"
      ]
     },
     "metadata": {},
     "output_type": "display_data"
    },
    {
     "data": {
      "text/markdown": [
       "<span style=\"color:#33cc33\">Correct</span>"
      ],
      "text/plain": [
       "Correct"
      ]
     },
     "metadata": {},
     "output_type": "display_data"
    }
   ],
   "source": [
    "candidate_max_leaf_nodes = [5, 25, 50, 100, 250, 500]\n",
    "# Write loop to find the ideal tree size from candidate_max_leaf_nodes\n",
    "scores = {leaf_size: get_mae(leaf_size, train_X, val_X, train_y, val_y) for leaf_size in candidate_max_leaf_nodes}\n",
    "\n",
    "# Store the best value of max_leaf_nodes (it will be either 5, 25, 50, 100, 250 or 500)\n",
    "best_tree_size = min(scores, key=scores.get)\n",
    "\n",
    "# Check your answer\n",
    "step_1.check()"
   ]
  },
  {
   "cell_type": "code",
   "execution_count": 4,
   "id": "8eb41627",
   "metadata": {
    "execution": {
     "iopub.execute_input": "2023-12-02T10:22:36.328752Z",
     "iopub.status.busy": "2023-12-02T10:22:36.328377Z",
     "iopub.status.idle": "2023-12-02T10:22:36.342347Z",
     "shell.execute_reply": "2023-12-02T10:22:36.340785Z"
    },
    "papermill": {
     "duration": 0.021397,
     "end_time": "2023-12-02T10:22:36.345065",
     "exception": false,
     "start_time": "2023-12-02T10:22:36.323668",
     "status": "completed"
    },
    "tags": []
   },
   "outputs": [
    {
     "data": {
      "application/javascript": [
       "parent.postMessage({\"jupyterEvent\": \"custom.exercise_interaction\", \"data\": {\"interactionType\": 2, \"questionType\": 1, \"questionId\": \"1_BestTreeSize\", \"learnToolsVersion\": \"0.3.4\", \"valueTowardsCompletion\": 0.0, \"failureMessage\": \"\", \"exceptionClass\": \"\", \"trace\": \"\", \"outcomeType\": 4}}, \"*\")"
      ],
      "text/plain": [
       "<IPython.core.display.Javascript object>"
      ]
     },
     "metadata": {},
     "output_type": "display_data"
    },
    {
     "data": {
      "text/markdown": [
       "<span style=\"color:#3366cc\">Hint:</span> You will call get_mae in the loop. You'll need to map the names of your data structure to the names in get_mae"
      ],
      "text/plain": [
       "Hint: You will call get_mae in the loop. You'll need to map the names of your data structure to the names in get_mae"
      ]
     },
     "metadata": {},
     "output_type": "display_data"
    },
    {
     "data": {
      "application/javascript": [
       "parent.postMessage({\"jupyterEvent\": \"custom.exercise_interaction\", \"data\": {\"interactionType\": 3, \"questionType\": 1, \"questionId\": \"1_BestTreeSize\", \"learnToolsVersion\": \"0.3.4\", \"valueTowardsCompletion\": 0.0, \"failureMessage\": \"\", \"exceptionClass\": \"\", \"trace\": \"\", \"outcomeType\": 4}}, \"*\")"
      ],
      "text/plain": [
       "<IPython.core.display.Javascript object>"
      ]
     },
     "metadata": {},
     "output_type": "display_data"
    },
    {
     "data": {
      "text/markdown": [
       "<span style=\"color:#33cc99\">Solution:</span> \n",
       "```python\n",
       "# Here is a short solution with a dict comprehension.\n",
       "# The lesson gives an example of how to do this with an explicit loop.\n",
       "scores = {leaf_size: get_mae(leaf_size, train_X, val_X, train_y, val_y) for leaf_size in candidate_max_leaf_nodes}\n",
       "best_tree_size = min(scores, key=scores.get)\n",
       "\n",
       "```"
      ],
      "text/plain": [
       "Solution: \n",
       "```python\n",
       "# Here is a short solution with a dict comprehension.\n",
       "# The lesson gives an example of how to do this with an explicit loop.\n",
       "scores = {leaf_size: get_mae(leaf_size, train_X, val_X, train_y, val_y) for leaf_size in candidate_max_leaf_nodes}\n",
       "best_tree_size = min(scores, key=scores.get)\n",
       "\n",
       "```"
      ]
     },
     "metadata": {},
     "output_type": "display_data"
    }
   ],
   "source": [
    "# The lines below will show you a hint or the solution.\n",
    "step_1.hint() \n",
    "step_1.solution()"
   ]
  },
  {
   "cell_type": "markdown",
   "id": "610f6caf",
   "metadata": {
    "papermill": {
     "duration": 0.003594,
     "end_time": "2023-12-02T10:22:36.352960",
     "exception": false,
     "start_time": "2023-12-02T10:22:36.349366",
     "status": "completed"
    },
    "tags": []
   },
   "source": [
    "## Step 2: Fit Model Using All Data\n",
    "## ステップ2：すべてのデータを使ってモデルを当てはめる\n",
    "\n",
    "\n",
    "You know the best tree size. If you were going to deploy this model in practice, you would make it even more accurate by using all of the data and keeping that tree size.  That is, you don't need to hold out the validation data now that you've made all your modeling decisions.\n",
    "\n",
    "あなたは最適な木のサイズを知っている。このモデルを実際に展開するのであれば、すべてのデータを使って、そのツリーサイズを維持することで、さらに精度を上げることができます。 つまり、すべてのモデリングを決定した今、検証データを保留する必要はないのです。"
   ]
  },
  {
   "cell_type": "code",
   "execution_count": 5,
   "id": "f5e850d0",
   "metadata": {
    "execution": {
     "iopub.execute_input": "2023-12-02T10:22:36.362409Z",
     "iopub.status.busy": "2023-12-02T10:22:36.362019Z",
     "iopub.status.idle": "2023-12-02T10:22:36.380180Z",
     "shell.execute_reply": "2023-12-02T10:22:36.378569Z"
    },
    "papermill": {
     "duration": 0.026025,
     "end_time": "2023-12-02T10:22:36.382878",
     "exception": false,
     "start_time": "2023-12-02T10:22:36.356853",
     "status": "completed"
    },
    "tags": []
   },
   "outputs": [
    {
     "data": {
      "application/javascript": [
       "parent.postMessage({\"jupyterEvent\": \"custom.exercise_interaction\", \"data\": {\"outcomeType\": 1, \"valueTowardsCompletion\": 0.5, \"interactionType\": 1, \"questionType\": 2, \"questionId\": \"2_FitModelWithAllData\", \"learnToolsVersion\": \"0.3.4\", \"failureMessage\": \"\", \"exceptionClass\": \"\", \"trace\": \"\"}}, \"*\")"
      ],
      "text/plain": [
       "<IPython.core.display.Javascript object>"
      ]
     },
     "metadata": {},
     "output_type": "display_data"
    },
    {
     "data": {
      "text/markdown": [
       "<span style=\"color:#33cc33\">Correct</span>"
      ],
      "text/plain": [
       "Correct"
      ]
     },
     "metadata": {},
     "output_type": "display_data"
    }
   ],
   "source": [
    "# Fill in argument to make optimal size and uncomment\n",
    "final_model = DecisionTreeRegressor(max_leaf_nodes=best_tree_size, random_state=1)\n",
    "\n",
    "# fit the final model and uncomment the next two lines\n",
    "final_model.fit(X, y)\n",
    "\n",
    "# Check your answer\n",
    "step_2.check()"
   ]
  },
  {
   "cell_type": "code",
   "execution_count": 6,
   "id": "41119424",
   "metadata": {
    "execution": {
     "iopub.execute_input": "2023-12-02T10:22:36.393272Z",
     "iopub.status.busy": "2023-12-02T10:22:36.392891Z",
     "iopub.status.idle": "2023-12-02T10:22:36.407183Z",
     "shell.execute_reply": "2023-12-02T10:22:36.405536Z"
    },
    "papermill": {
     "duration": 0.022479,
     "end_time": "2023-12-02T10:22:36.409935",
     "exception": false,
     "start_time": "2023-12-02T10:22:36.387456",
     "status": "completed"
    },
    "tags": []
   },
   "outputs": [
    {
     "data": {
      "application/javascript": [
       "parent.postMessage({\"jupyterEvent\": \"custom.exercise_interaction\", \"data\": {\"interactionType\": 2, \"questionType\": 2, \"questionId\": \"2_FitModelWithAllData\", \"learnToolsVersion\": \"0.3.4\", \"valueTowardsCompletion\": 0.0, \"failureMessage\": \"\", \"exceptionClass\": \"\", \"trace\": \"\", \"outcomeType\": 4}}, \"*\")"
      ],
      "text/plain": [
       "<IPython.core.display.Javascript object>"
      ]
     },
     "metadata": {},
     "output_type": "display_data"
    },
    {
     "data": {
      "text/markdown": [
       "<span style=\"color:#3366cc\">Hint:</span> Fit with the ideal value of max_leaf_nodes. In the fit step, use all of the data in the dataset"
      ],
      "text/plain": [
       "Hint: Fit with the ideal value of max_leaf_nodes. In the fit step, use all of the data in the dataset"
      ]
     },
     "metadata": {},
     "output_type": "display_data"
    },
    {
     "data": {
      "application/javascript": [
       "parent.postMessage({\"jupyterEvent\": \"custom.exercise_interaction\", \"data\": {\"interactionType\": 3, \"questionType\": 2, \"questionId\": \"2_FitModelWithAllData\", \"learnToolsVersion\": \"0.3.4\", \"valueTowardsCompletion\": 0.0, \"failureMessage\": \"\", \"exceptionClass\": \"\", \"trace\": \"\", \"outcomeType\": 4}}, \"*\")"
      ],
      "text/plain": [
       "<IPython.core.display.Javascript object>"
      ]
     },
     "metadata": {},
     "output_type": "display_data"
    },
    {
     "data": {
      "text/markdown": [
       "<span style=\"color:#33cc99\">Solution:</span> \n",
       "```python\n",
       "# Fit the model with best_tree_size. Fill in argument to make optimal size\n",
       "final_model = DecisionTreeRegressor(max_leaf_nodes=best_tree_size, random_state=1)\n",
       "\n",
       "# fit the final model\n",
       "final_model.fit(X, y)\n",
       "```"
      ],
      "text/plain": [
       "Solution: \n",
       "```python\n",
       "# Fit the model with best_tree_size. Fill in argument to make optimal size\n",
       "final_model = DecisionTreeRegressor(max_leaf_nodes=best_tree_size, random_state=1)\n",
       "\n",
       "# fit the final model\n",
       "final_model.fit(X, y)\n",
       "```"
      ]
     },
     "metadata": {},
     "output_type": "display_data"
    }
   ],
   "source": [
    "step_2.hint()\n",
    "step_2.solution()"
   ]
  },
  {
   "cell_type": "markdown",
   "id": "d96d2767",
   "metadata": {
    "papermill": {
     "duration": 0.004483,
     "end_time": "2023-12-02T10:22:36.419202",
     "exception": false,
     "start_time": "2023-12-02T10:22:36.414719",
     "status": "completed"
    },
    "tags": []
   },
   "source": [
    "You've tuned this model and improved your results. But we are still using Decision Tree models, which are not very sophisticated by modern machine learning standards. In the next step you will learn to use Random Forests to improve your models even more.\n",
    "\n",
    "\n",
    "あなたはこのモデルをチューニングし、結果を改善した。しかし、我々はまだ決定木モデルを使用しており、現代の機械学習の基準からするとあまり洗練されていません。次のステップでは、ランダムフォレストを使ってモデルをさらに改善する方法を学びます。\n",
    "\n",
    "\n",
    "# Keep Going\n",
    "\n",
    "You are ready for **[Random Forests](https://www.kaggle.com/dansbecker/random-forests).**\n"
   ]
  },
  {
   "cell_type": "markdown",
   "id": "d9671d13",
   "metadata": {
    "papermill": {
     "duration": 0.004416,
     "end_time": "2023-12-02T10:22:36.428248",
     "exception": false,
     "start_time": "2023-12-02T10:22:36.423832",
     "status": "completed"
    },
    "tags": []
   },
   "source": [
    "---\n",
    "\n",
    "\n",
    "\n",
    "\n",
    "*Have questions or comments? Visit the [course discussion forum](https://www.kaggle.com/learn/intro-to-machine-learning/discussion) to chat with other learners.*"
   ]
  }
 ],
 "metadata": {
  "kaggle": {
   "accelerator": "none",
   "dataSources": [
    {
     "databundleVersionId": 111096,
     "sourceId": 10211,
     "sourceType": "competition"
    },
    {
     "datasetId": 11167,
     "sourceId": 15520,
     "sourceType": "datasetVersion"
    },
    {
     "datasetId": 2709,
     "sourceId": 38454,
     "sourceType": "datasetVersion"
    }
   ],
   "isGpuEnabled": false,
   "isInternetEnabled": false,
   "language": "python",
   "sourceType": "notebook"
  },
  "kernelspec": {
   "display_name": "Python 3",
   "language": "python",
   "name": "python3"
  },
  "language_info": {
   "codemirror_mode": {
    "name": "ipython",
    "version": 3
   },
   "file_extension": ".py",
   "mimetype": "text/x-python",
   "name": "python",
   "nbconvert_exporter": "python",
   "pygments_lexer": "ipython3",
   "version": "3.10.12"
  },
  "papermill": {
   "default_parameters": {},
   "duration": 5.625904,
   "end_time": "2023-12-02T10:22:37.056290",
   "environment_variables": {},
   "exception": null,
   "input_path": "__notebook__.ipynb",
   "output_path": "__notebook__.ipynb",
   "parameters": {},
   "start_time": "2023-12-02T10:22:31.430386",
   "version": "2.4.0"
  }
 },
 "nbformat": 4,
 "nbformat_minor": 5
}
