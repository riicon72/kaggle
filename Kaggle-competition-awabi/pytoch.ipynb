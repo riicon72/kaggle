{
 "cells": [
  {
   "cell_type": "code",
   "execution_count": 1,
   "id": "54c37374",
   "metadata": {
    "execution": {
     "iopub.execute_input": "2024-04-07T12:00:56.448179Z",
     "iopub.status.busy": "2024-04-07T12:00:56.447747Z",
     "iopub.status.idle": "2024-04-07T12:01:04.384781Z",
     "shell.execute_reply": "2024-04-07T12:01:04.383300Z"
    },
    "papermill": {
     "duration": 7.951952,
     "end_time": "2024-04-07T12:01:04.388263",
     "exception": false,
     "start_time": "2024-04-07T12:00:56.436311",
     "status": "completed"
    },
    "tags": []
   },
   "outputs": [],
   "source": [
    "import os\n",
    "import warnings\n",
    "import numpy as np\n",
    "import pandas as pd\n",
    "import seaborn as sns\n",
    "import matplotlib.pyplot as plt\n",
    "\n",
    "from tqdm.notebook import tqdm\n",
    "from collections import Counter\n",
    "\n",
    "import torch\n",
    "import torch.nn as nn\n",
    "from torch.utils.data import DataLoader, Dataset\n",
    "from torch.optim import RMSprop, Adam\n",
    "from sklearn.datasets import make_classification\n",
    "from sklearn.model_selection import train_test_split\n",
    "from sklearn.preprocessing import LabelEncoder"
   ]
  },
  {
   "cell_type": "code",
   "execution_count": 2,
   "id": "a5737104",
   "metadata": {
    "execution": {
     "iopub.execute_input": "2024-04-07T12:01:04.410284Z",
     "iopub.status.busy": "2024-04-07T12:01:04.408946Z",
     "iopub.status.idle": "2024-04-07T12:01:04.813720Z",
     "shell.execute_reply": "2024-04-07T12:01:04.812373Z"
    },
    "papermill": {
     "duration": 0.418655,
     "end_time": "2024-04-07T12:01:04.816483",
     "exception": false,
     "start_time": "2024-04-07T12:01:04.397828",
     "status": "completed"
    },
    "tags": []
   },
   "outputs": [
    {
     "data": {
      "text/html": [
       "<div>\n",
       "<style scoped>\n",
       "    .dataframe tbody tr th:only-of-type {\n",
       "        vertical-align: middle;\n",
       "    }\n",
       "\n",
       "    .dataframe tbody tr th {\n",
       "        vertical-align: top;\n",
       "    }\n",
       "\n",
       "    .dataframe thead th {\n",
       "        text-align: right;\n",
       "    }\n",
       "</style>\n",
       "<table border=\"1\" class=\"dataframe\">\n",
       "  <thead>\n",
       "    <tr style=\"text-align: right;\">\n",
       "      <th></th>\n",
       "      <th>id</th>\n",
       "      <th>Sex</th>\n",
       "      <th>Length</th>\n",
       "      <th>Diameter</th>\n",
       "      <th>Height</th>\n",
       "      <th>Whole weight</th>\n",
       "      <th>Whole weight.1</th>\n",
       "      <th>Whole weight.2</th>\n",
       "      <th>Shell weight</th>\n",
       "      <th>Rings</th>\n",
       "    </tr>\n",
       "  </thead>\n",
       "  <tbody>\n",
       "    <tr>\n",
       "      <th>0</th>\n",
       "      <td>0</td>\n",
       "      <td>F</td>\n",
       "      <td>0.550</td>\n",
       "      <td>0.430</td>\n",
       "      <td>0.150</td>\n",
       "      <td>0.7715</td>\n",
       "      <td>0.3285</td>\n",
       "      <td>0.1465</td>\n",
       "      <td>0.2400</td>\n",
       "      <td>11</td>\n",
       "    </tr>\n",
       "    <tr>\n",
       "      <th>1</th>\n",
       "      <td>1</td>\n",
       "      <td>F</td>\n",
       "      <td>0.630</td>\n",
       "      <td>0.490</td>\n",
       "      <td>0.145</td>\n",
       "      <td>1.1300</td>\n",
       "      <td>0.4580</td>\n",
       "      <td>0.2765</td>\n",
       "      <td>0.3200</td>\n",
       "      <td>11</td>\n",
       "    </tr>\n",
       "    <tr>\n",
       "      <th>2</th>\n",
       "      <td>2</td>\n",
       "      <td>I</td>\n",
       "      <td>0.160</td>\n",
       "      <td>0.110</td>\n",
       "      <td>0.025</td>\n",
       "      <td>0.0210</td>\n",
       "      <td>0.0055</td>\n",
       "      <td>0.0030</td>\n",
       "      <td>0.0050</td>\n",
       "      <td>6</td>\n",
       "    </tr>\n",
       "    <tr>\n",
       "      <th>3</th>\n",
       "      <td>3</td>\n",
       "      <td>M</td>\n",
       "      <td>0.595</td>\n",
       "      <td>0.475</td>\n",
       "      <td>0.150</td>\n",
       "      <td>0.9145</td>\n",
       "      <td>0.3755</td>\n",
       "      <td>0.2055</td>\n",
       "      <td>0.2500</td>\n",
       "      <td>10</td>\n",
       "    </tr>\n",
       "    <tr>\n",
       "      <th>4</th>\n",
       "      <td>4</td>\n",
       "      <td>I</td>\n",
       "      <td>0.555</td>\n",
       "      <td>0.425</td>\n",
       "      <td>0.130</td>\n",
       "      <td>0.7820</td>\n",
       "      <td>0.3695</td>\n",
       "      <td>0.1600</td>\n",
       "      <td>0.1975</td>\n",
       "      <td>9</td>\n",
       "    </tr>\n",
       "  </tbody>\n",
       "</table>\n",
       "</div>"
      ],
      "text/plain": [
       "   id Sex  Length  Diameter  Height  Whole weight  Whole weight.1  \\\n",
       "0   0   F   0.550     0.430   0.150        0.7715          0.3285   \n",
       "1   1   F   0.630     0.490   0.145        1.1300          0.4580   \n",
       "2   2   I   0.160     0.110   0.025        0.0210          0.0055   \n",
       "3   3   M   0.595     0.475   0.150        0.9145          0.3755   \n",
       "4   4   I   0.555     0.425   0.130        0.7820          0.3695   \n",
       "\n",
       "   Whole weight.2  Shell weight  Rings  \n",
       "0          0.1465        0.2400     11  \n",
       "1          0.2765        0.3200     11  \n",
       "2          0.0030        0.0050      6  \n",
       "3          0.2055        0.2500     10  \n",
       "4          0.1600        0.1975      9  "
      ]
     },
     "metadata": {},
     "output_type": "display_data"
    },
    {
     "data": {
      "text/html": [
       "<div>\n",
       "<style scoped>\n",
       "    .dataframe tbody tr th:only-of-type {\n",
       "        vertical-align: middle;\n",
       "    }\n",
       "\n",
       "    .dataframe tbody tr th {\n",
       "        vertical-align: top;\n",
       "    }\n",
       "\n",
       "    .dataframe thead th {\n",
       "        text-align: right;\n",
       "    }\n",
       "</style>\n",
       "<table border=\"1\" class=\"dataframe\">\n",
       "  <thead>\n",
       "    <tr style=\"text-align: right;\">\n",
       "      <th></th>\n",
       "      <th>id</th>\n",
       "      <th>Sex</th>\n",
       "      <th>Length</th>\n",
       "      <th>Diameter</th>\n",
       "      <th>Height</th>\n",
       "      <th>Whole weight</th>\n",
       "      <th>Whole weight.1</th>\n",
       "      <th>Whole weight.2</th>\n",
       "      <th>Shell weight</th>\n",
       "    </tr>\n",
       "  </thead>\n",
       "  <tbody>\n",
       "    <tr>\n",
       "      <th>0</th>\n",
       "      <td>90615</td>\n",
       "      <td>M</td>\n",
       "      <td>0.645</td>\n",
       "      <td>0.475</td>\n",
       "      <td>0.155</td>\n",
       "      <td>1.2380</td>\n",
       "      <td>0.6185</td>\n",
       "      <td>0.3125</td>\n",
       "      <td>0.3005</td>\n",
       "    </tr>\n",
       "    <tr>\n",
       "      <th>1</th>\n",
       "      <td>90616</td>\n",
       "      <td>M</td>\n",
       "      <td>0.580</td>\n",
       "      <td>0.460</td>\n",
       "      <td>0.160</td>\n",
       "      <td>0.9830</td>\n",
       "      <td>0.4785</td>\n",
       "      <td>0.2195</td>\n",
       "      <td>0.2750</td>\n",
       "    </tr>\n",
       "    <tr>\n",
       "      <th>2</th>\n",
       "      <td>90617</td>\n",
       "      <td>M</td>\n",
       "      <td>0.560</td>\n",
       "      <td>0.420</td>\n",
       "      <td>0.140</td>\n",
       "      <td>0.8395</td>\n",
       "      <td>0.3525</td>\n",
       "      <td>0.1845</td>\n",
       "      <td>0.2405</td>\n",
       "    </tr>\n",
       "    <tr>\n",
       "      <th>3</th>\n",
       "      <td>90618</td>\n",
       "      <td>M</td>\n",
       "      <td>0.570</td>\n",
       "      <td>0.490</td>\n",
       "      <td>0.145</td>\n",
       "      <td>0.8740</td>\n",
       "      <td>0.3525</td>\n",
       "      <td>0.1865</td>\n",
       "      <td>0.2350</td>\n",
       "    </tr>\n",
       "    <tr>\n",
       "      <th>4</th>\n",
       "      <td>90619</td>\n",
       "      <td>I</td>\n",
       "      <td>0.415</td>\n",
       "      <td>0.325</td>\n",
       "      <td>0.110</td>\n",
       "      <td>0.3580</td>\n",
       "      <td>0.1575</td>\n",
       "      <td>0.0670</td>\n",
       "      <td>0.1050</td>\n",
       "    </tr>\n",
       "  </tbody>\n",
       "</table>\n",
       "</div>"
      ],
      "text/plain": [
       "      id Sex  Length  Diameter  Height  Whole weight  Whole weight.1  \\\n",
       "0  90615   M   0.645     0.475   0.155        1.2380          0.6185   \n",
       "1  90616   M   0.580     0.460   0.160        0.9830          0.4785   \n",
       "2  90617   M   0.560     0.420   0.140        0.8395          0.3525   \n",
       "3  90618   M   0.570     0.490   0.145        0.8740          0.3525   \n",
       "4  90619   I   0.415     0.325   0.110        0.3580          0.1575   \n",
       "\n",
       "   Whole weight.2  Shell weight  \n",
       "0          0.3125        0.3005  \n",
       "1          0.2195        0.2750  \n",
       "2          0.1845        0.2405  \n",
       "3          0.1865        0.2350  \n",
       "4          0.0670        0.1050  "
      ]
     },
     "metadata": {},
     "output_type": "display_data"
    }
   ],
   "source": [
    "df_train = pd.read_csv('/kaggle/input/playground-series-s4e4/train.csv')\n",
    "df_test_１= pd.read_csv('/kaggle/input/playground-series-s4e4/test.csv')\n",
    "display(df_train.head())\n",
    "display(df_test_１.head())"
   ]
  },
  {
   "cell_type": "code",
   "execution_count": 3,
   "id": "00293ad1",
   "metadata": {
    "execution": {
     "iopub.execute_input": "2024-04-07T12:01:04.838702Z",
     "iopub.status.busy": "2024-04-07T12:01:04.837505Z",
     "iopub.status.idle": "2024-04-07T12:01:04.868340Z",
     "shell.execute_reply": "2024-04-07T12:01:04.866995Z"
    },
    "papermill": {
     "duration": 0.045223,
     "end_time": "2024-04-07T12:01:04.871351",
     "exception": false,
     "start_time": "2024-04-07T12:01:04.826128",
     "status": "completed"
    },
    "tags": []
   },
   "outputs": [
    {
     "data": {
      "text/plain": [
       "Sex\n",
       "I    33093\n",
       "M    31027\n",
       "F    26495\n",
       "Name: count, dtype: int64"
      ]
     },
     "execution_count": 3,
     "metadata": {},
     "output_type": "execute_result"
    }
   ],
   "source": [
    "df_train[\"Sex\"].value_counts()"
   ]
  },
  {
   "cell_type": "code",
   "execution_count": 4,
   "id": "7d7d9e41",
   "metadata": {
    "execution": {
     "iopub.execute_input": "2024-04-07T12:01:04.894252Z",
     "iopub.status.busy": "2024-04-07T12:01:04.892762Z",
     "iopub.status.idle": "2024-04-07T12:01:04.926333Z",
     "shell.execute_reply": "2024-04-07T12:01:04.924834Z"
    },
    "papermill": {
     "duration": 0.048029,
     "end_time": "2024-04-07T12:01:04.929298",
     "exception": false,
     "start_time": "2024-04-07T12:01:04.881269",
     "status": "completed"
    },
    "tags": []
   },
   "outputs": [
    {
     "data": {
      "text/html": [
       "<div>\n",
       "<style scoped>\n",
       "    .dataframe tbody tr th:only-of-type {\n",
       "        vertical-align: middle;\n",
       "    }\n",
       "\n",
       "    .dataframe tbody tr th {\n",
       "        vertical-align: top;\n",
       "    }\n",
       "\n",
       "    .dataframe thead th {\n",
       "        text-align: right;\n",
       "    }\n",
       "</style>\n",
       "<table border=\"1\" class=\"dataframe\">\n",
       "  <thead>\n",
       "    <tr style=\"text-align: right;\">\n",
       "      <th></th>\n",
       "      <th>id</th>\n",
       "      <th>Sex</th>\n",
       "      <th>Length</th>\n",
       "      <th>Diameter</th>\n",
       "      <th>Height</th>\n",
       "      <th>Whole weight</th>\n",
       "      <th>Whole weight.1</th>\n",
       "      <th>Whole weight.2</th>\n",
       "      <th>Shell weight</th>\n",
       "      <th>Rings</th>\n",
       "    </tr>\n",
       "  </thead>\n",
       "  <tbody>\n",
       "    <tr>\n",
       "      <th>0</th>\n",
       "      <td>0</td>\n",
       "      <td>2</td>\n",
       "      <td>0.550</td>\n",
       "      <td>0.430</td>\n",
       "      <td>0.150</td>\n",
       "      <td>0.7715</td>\n",
       "      <td>0.3285</td>\n",
       "      <td>0.1465</td>\n",
       "      <td>0.2400</td>\n",
       "      <td>11</td>\n",
       "    </tr>\n",
       "    <tr>\n",
       "      <th>1</th>\n",
       "      <td>1</td>\n",
       "      <td>2</td>\n",
       "      <td>0.630</td>\n",
       "      <td>0.490</td>\n",
       "      <td>0.145</td>\n",
       "      <td>1.1300</td>\n",
       "      <td>0.4580</td>\n",
       "      <td>0.2765</td>\n",
       "      <td>0.3200</td>\n",
       "      <td>11</td>\n",
       "    </tr>\n",
       "    <tr>\n",
       "      <th>2</th>\n",
       "      <td>2</td>\n",
       "      <td>0</td>\n",
       "      <td>0.160</td>\n",
       "      <td>0.110</td>\n",
       "      <td>0.025</td>\n",
       "      <td>0.0210</td>\n",
       "      <td>0.0055</td>\n",
       "      <td>0.0030</td>\n",
       "      <td>0.0050</td>\n",
       "      <td>6</td>\n",
       "    </tr>\n",
       "    <tr>\n",
       "      <th>3</th>\n",
       "      <td>3</td>\n",
       "      <td>1</td>\n",
       "      <td>0.595</td>\n",
       "      <td>0.475</td>\n",
       "      <td>0.150</td>\n",
       "      <td>0.9145</td>\n",
       "      <td>0.3755</td>\n",
       "      <td>0.2055</td>\n",
       "      <td>0.2500</td>\n",
       "      <td>10</td>\n",
       "    </tr>\n",
       "    <tr>\n",
       "      <th>4</th>\n",
       "      <td>4</td>\n",
       "      <td>0</td>\n",
       "      <td>0.555</td>\n",
       "      <td>0.425</td>\n",
       "      <td>0.130</td>\n",
       "      <td>0.7820</td>\n",
       "      <td>0.3695</td>\n",
       "      <td>0.1600</td>\n",
       "      <td>0.1975</td>\n",
       "      <td>9</td>\n",
       "    </tr>\n",
       "  </tbody>\n",
       "</table>\n",
       "</div>"
      ],
      "text/plain": [
       "   id  Sex  Length  Diameter  Height  Whole weight  Whole weight.1  \\\n",
       "0   0    2   0.550     0.430   0.150        0.7715          0.3285   \n",
       "1   1    2   0.630     0.490   0.145        1.1300          0.4580   \n",
       "2   2    0   0.160     0.110   0.025        0.0210          0.0055   \n",
       "3   3    1   0.595     0.475   0.150        0.9145          0.3755   \n",
       "4   4    0   0.555     0.425   0.130        0.7820          0.3695   \n",
       "\n",
       "   Whole weight.2  Shell weight  Rings  \n",
       "0          0.1465        0.2400     11  \n",
       "1          0.2765        0.3200     11  \n",
       "2          0.0030        0.0050      6  \n",
       "3          0.2055        0.2500     10  \n",
       "4          0.1600        0.1975      9  "
      ]
     },
     "execution_count": 4,
     "metadata": {},
     "output_type": "execute_result"
    }
   ],
   "source": [
    "df_train['Sex'] = df_train['Sex'].map({\n",
    "    'I': 0,\n",
    "    'M': 1,\n",
    "    'F': 2,\n",
    "})\n",
    "df_train.head()"
   ]
  },
  {
   "cell_type": "code",
   "execution_count": 5,
   "id": "69984eca",
   "metadata": {
    "execution": {
     "iopub.execute_input": "2024-04-07T12:01:04.953500Z",
     "iopub.status.busy": "2024-04-07T12:01:04.953054Z",
     "iopub.status.idle": "2024-04-07T12:01:04.962513Z",
     "shell.execute_reply": "2024-04-07T12:01:04.960885Z"
    },
    "papermill": {
     "duration": 0.025741,
     "end_time": "2024-04-07T12:01:04.965796",
     "exception": false,
     "start_time": "2024-04-07T12:01:04.940055",
     "status": "completed"
    },
    "tags": []
   },
   "outputs": [
    {
     "data": {
      "text/plain": [
       "30"
      ]
     },
     "execution_count": 5,
     "metadata": {},
     "output_type": "execute_result"
    }
   ],
   "source": [
    "# pyToch\n",
    "# df_train['Rings'].nunique()\n",
    "N_CLASSES = 30\n",
    "N_CLASSES"
   ]
  },
  {
   "cell_type": "code",
   "execution_count": 6,
   "id": "3a6199ef",
   "metadata": {
    "execution": {
     "iopub.execute_input": "2024-04-07T12:01:04.987711Z",
     "iopub.status.busy": "2024-04-07T12:01:04.987318Z",
     "iopub.status.idle": "2024-04-07T12:01:04.996269Z",
     "shell.execute_reply": "2024-04-07T12:01:04.994789Z"
    },
    "papermill": {
     "duration": 0.02362,
     "end_time": "2024-04-07T12:01:04.999570",
     "exception": false,
     "start_time": "2024-04-07T12:01:04.975950",
     "status": "completed"
    },
    "tags": []
   },
   "outputs": [],
   "source": [
    "torch.manual_seed(13)\n",
    "np.random.seed(13)"
   ]
  },
  {
   "cell_type": "code",
   "execution_count": 7,
   "id": "efbc0250",
   "metadata": {
    "execution": {
     "iopub.execute_input": "2024-04-07T12:01:05.023674Z",
     "iopub.status.busy": "2024-04-07T12:01:05.023214Z",
     "iopub.status.idle": "2024-04-07T12:01:05.038792Z",
     "shell.execute_reply": "2024-04-07T12:01:05.037099Z"
    },
    "papermill": {
     "duration": 0.030266,
     "end_time": "2024-04-07T12:01:05.041817",
     "exception": false,
     "start_time": "2024-04-07T12:01:05.011551",
     "status": "completed"
    },
    "tags": []
   },
   "outputs": [],
   "source": [
    "EPOCHS = 10000\n",
    "BATCH_SIZE = 32\n",
    "LEARNING_RATE = 0.1\n",
    "NUM_FEATURES = len(df_train.drop(['id', 'Rings'], axis=1).columns)\n"
   ]
  },
  {
   "cell_type": "code",
   "execution_count": 8,
   "id": "e3ff7490",
   "metadata": {
    "execution": {
     "iopub.execute_input": "2024-04-07T12:01:05.065085Z",
     "iopub.status.busy": "2024-04-07T12:01:05.064594Z",
     "iopub.status.idle": "2024-04-07T12:01:05.096721Z",
     "shell.execute_reply": "2024-04-07T12:01:05.095129Z"
    },
    "papermill": {
     "duration": 0.048438,
     "end_time": "2024-04-07T12:01:05.100105",
     "exception": false,
     "start_time": "2024-04-07T12:01:05.051667",
     "status": "completed"
    },
    "tags": []
   },
   "outputs": [],
   "source": [
    "X = df_train.drop(['id', 'Rings'], axis=1).values\n",
    "y = df_train['Rings'].values\n",
    "\n",
    "X_train, X_test, y_train, y_test = train_test_split(\n",
    "    X,y,test_size=0.4,shuffle=True)"
   ]
  },
  {
   "cell_type": "code",
   "execution_count": 9,
   "id": "5c5d71b1",
   "metadata": {
    "execution": {
     "iopub.execute_input": "2024-04-07T12:01:05.123867Z",
     "iopub.status.busy": "2024-04-07T12:01:05.123445Z",
     "iopub.status.idle": "2024-04-07T12:01:05.130711Z",
     "shell.execute_reply": "2024-04-07T12:01:05.129144Z"
    },
    "papermill": {
     "duration": 0.021982,
     "end_time": "2024-04-07T12:01:05.133868",
     "exception": false,
     "start_time": "2024-04-07T12:01:05.111886",
     "status": "completed"
    },
    "tags": []
   },
   "outputs": [
    {
     "name": "stdout",
     "output_type": "stream",
     "text": [
      "cpu\n"
     ]
    }
   ],
   "source": [
    "device = torch.device(\"cuda:0\" if torch.cuda.is_available() else \"cpu\")\n",
    "print(device)"
   ]
  },
  {
   "cell_type": "code",
   "execution_count": 10,
   "id": "da1a7c07",
   "metadata": {
    "execution": {
     "iopub.execute_input": "2024-04-07T12:01:05.156511Z",
     "iopub.status.busy": "2024-04-07T12:01:05.156116Z",
     "iopub.status.idle": "2024-04-07T12:01:05.200863Z",
     "shell.execute_reply": "2024-04-07T12:01:05.199359Z"
    },
    "papermill": {
     "duration": 0.059879,
     "end_time": "2024-04-07T12:01:05.204149",
     "exception": false,
     "start_time": "2024-04-07T12:01:05.144270",
     "status": "completed"
    },
    "tags": []
   },
   "outputs": [],
   "source": [
    "# Converting From Numpy Array To Torch Tensor\n",
    "X_train = torch.FloatTensor(X_train).to(device)\n",
    "X_test = torch.FloatTensor(X_test).to(device)\n",
    "y_train = torch.LongTensor(y_train).to(device)\n",
    "y_test = torch.LongTensor(y_test).to(device)"
   ]
  },
  {
   "cell_type": "code",
   "execution_count": 11,
   "id": "850028fe",
   "metadata": {
    "execution": {
     "iopub.execute_input": "2024-04-07T12:01:05.230112Z",
     "iopub.status.busy": "2024-04-07T12:01:05.228757Z",
     "iopub.status.idle": "2024-04-07T12:01:05.241864Z",
     "shell.execute_reply": "2024-04-07T12:01:05.240352Z"
    },
    "papermill": {
     "duration": 0.029342,
     "end_time": "2024-04-07T12:01:05.244755",
     "exception": false,
     "start_time": "2024-04-07T12:01:05.215413",
     "status": "completed"
    },
    "tags": []
   },
   "outputs": [],
   "source": [
    "class MulticlassClassification(nn.Module):\n",
    "    def __init__(self, num_feature, num_class):\n",
    "        super(MulticlassClassification, self).__init__()\n",
    "        \n",
    "        self.layer_1 = nn.Linear(num_feature, 512)\n",
    "        self.layer_2 = nn.Linear(512, 128)\n",
    "        self.layer_3 = nn.Linear(128, 64)\n",
    "        self.layer_out = nn.Linear(64, num_class) \n",
    "        \n",
    "        self.relu = nn.ReLU()\n",
    "        self.dropout = nn.Dropout(p=0.5)\n",
    "        self.batchnorm1 = nn.BatchNorm1d(512)\n",
    "        self.batchnorm2 = nn.BatchNorm1d(128)\n",
    "        self.batchnorm3 = nn.BatchNorm1d(64)\n",
    "        \n",
    "    def forward(self, x):\n",
    "        x = self.layer_1(x)\n",
    "        x = self.batchnorm1(x)\n",
    "        x = self.relu(x)\n",
    "        \n",
    "        x = self.layer_2(x)\n",
    "        x = self.batchnorm2(x)\n",
    "        x = self.relu(x)\n",
    "        x = self.dropout(x)\n",
    "        \n",
    "        x = self.layer_3(x)\n",
    "        x = self.batchnorm3(x)\n",
    "        x = self.relu(x)\n",
    "        x = self.dropout(x)\n",
    "        \n",
    "        x = self.layer_out(x)\n",
    "        \n",
    "        return x"
   ]
  },
  {
   "cell_type": "code",
   "execution_count": 12,
   "id": "caadc7e2",
   "metadata": {
    "execution": {
     "iopub.execute_input": "2024-04-07T12:01:05.268004Z",
     "iopub.status.busy": "2024-04-07T12:01:05.267497Z",
     "iopub.status.idle": "2024-04-07T12:01:08.984207Z",
     "shell.execute_reply": "2024-04-07T12:01:08.982660Z"
    },
    "papermill": {
     "duration": 3.732617,
     "end_time": "2024-04-07T12:01:08.987558",
     "exception": false,
     "start_time": "2024-04-07T12:01:05.254941",
     "status": "completed"
    },
    "tags": []
   },
   "outputs": [
    {
     "name": "stdout",
     "output_type": "stream",
     "text": [
      "MulticlassClassification(\n",
      "  (layer_1): Linear(in_features=8, out_features=512, bias=True)\n",
      "  (layer_2): Linear(in_features=512, out_features=128, bias=True)\n",
      "  (layer_3): Linear(in_features=128, out_features=64, bias=True)\n",
      "  (layer_out): Linear(in_features=64, out_features=30, bias=True)\n",
      "  (relu): ReLU()\n",
      "  (dropout): Dropout(p=0.5, inplace=False)\n",
      "  (batchnorm1): BatchNorm1d(512, eps=1e-05, momentum=0.1, affine=True, track_running_stats=True)\n",
      "  (batchnorm2): BatchNorm1d(128, eps=1e-05, momentum=0.1, affine=True, track_running_stats=True)\n",
      "  (batchnorm3): BatchNorm1d(64, eps=1e-05, momentum=0.1, affine=True, track_running_stats=True)\n",
      ")\n"
     ]
    }
   ],
   "source": [
    "model = MulticlassClassification(num_feature = NUM_FEATURES, num_class=N_CLASSES)\n",
    "model.to(device)\n",
    "\n",
    "criterion = nn.CrossEntropyLoss()\n",
    "optimizer = Adam(model.parameters(), lr=LEARNING_RATE)\n",
    "print(model)"
   ]
  },
  {
   "cell_type": "code",
   "execution_count": 13,
   "id": "54d8ce61",
   "metadata": {
    "execution": {
     "iopub.execute_input": "2024-04-07T12:01:09.012022Z",
     "iopub.status.busy": "2024-04-07T12:01:09.011282Z",
     "iopub.status.idle": "2024-04-07T12:01:09.022200Z",
     "shell.execute_reply": "2024-04-07T12:01:09.020506Z"
    },
    "papermill": {
     "duration": 0.0272,
     "end_time": "2024-04-07T12:01:09.024914",
     "exception": false,
     "start_time": "2024-04-07T12:01:08.997714",
     "status": "completed"
    },
    "tags": []
   },
   "outputs": [],
   "source": [
    "def train_network(model, optimizer, criterion, X_train, y_train, X_test, y_test, num_epochs, train_losses, test_losses):\n",
    "    print(\"Begin training.\")\n",
    "\n",
    "    for epoch in range(num_epochs):\n",
    "        optimizer.zero_grad()\n",
    "        output_train = model(X_train.to(device))\n",
    "        loss_train = criterion(output_train, y_train.to(device))\n",
    "        loss_train.backward()\n",
    "        optimizer.step()\n",
    "\n",
    "        output_test = model(X_test)\n",
    "        loss_test = criterion(output_test, y_test)\n",
    "\n",
    "        train_losses[epoch] = loss_train.item()\n",
    "        test_losses[epoch] = loss_test.item()\n",
    "\n",
    "        if (epoch + 1) % 50 == 0:\n",
    "            print(f\"Epoch {epoch+1}/{num_epochs}, Train Loss: {loss_train.item():.4f}, Test Loss: {loss_test.item():.4f}\")"
   ]
  },
  {
   "cell_type": "code",
   "execution_count": 14,
   "id": "0cfdcf26",
   "metadata": {
    "execution": {
     "iopub.execute_input": "2024-04-07T12:01:09.048531Z",
     "iopub.status.busy": "2024-04-07T12:01:09.048082Z",
     "iopub.status.idle": "2024-04-07T12:01:09.054864Z",
     "shell.execute_reply": "2024-04-07T12:01:09.053518Z"
    },
    "papermill": {
     "duration": 0.022344,
     "end_time": "2024-04-07T12:01:09.057678",
     "exception": false,
     "start_time": "2024-04-07T12:01:09.035334",
     "status": "completed"
    },
    "tags": []
   },
   "outputs": [],
   "source": [
    "train_losses = np.zeros(EPOCHS)\n",
    "test_losses  = np.zeros(EPOCHS)"
   ]
  },
  {
   "cell_type": "code",
   "execution_count": 15,
   "id": "f8867691",
   "metadata": {
    "execution": {
     "iopub.execute_input": "2024-04-07T12:01:09.081032Z",
     "iopub.status.busy": "2024-04-07T12:01:09.080480Z",
     "iopub.status.idle": "2024-04-07T12:01:09.090234Z",
     "shell.execute_reply": "2024-04-07T12:01:09.088414Z"
    },
    "papermill": {
     "duration": 0.024524,
     "end_time": "2024-04-07T12:01:09.093122",
     "exception": false,
     "start_time": "2024-04-07T12:01:09.068598",
     "status": "completed"
    },
    "tags": []
   },
   "outputs": [
    {
     "name": "stdout",
     "output_type": "stream",
     "text": [
      "Unique count: 28\n"
     ]
    }
   ],
   "source": [
    "unique_count = len(np.unique(y_train))\n",
    "print(\"Unique count:\", unique_count)"
   ]
  },
  {
   "cell_type": "code",
   "execution_count": 16,
   "id": "06f57f4c",
   "metadata": {
    "execution": {
     "iopub.execute_input": "2024-04-07T12:01:09.117334Z",
     "iopub.status.busy": "2024-04-07T12:01:09.116748Z",
     "iopub.status.idle": "2024-04-07T15:02:43.129484Z",
     "shell.execute_reply": "2024-04-07T15:02:43.128112Z"
    },
    "papermill": {
     "duration": 10894.057891,
     "end_time": "2024-04-07T15:02:43.161331",
     "exception": false,
     "start_time": "2024-04-07T12:01:09.103440",
     "status": "completed"
    },
    "tags": []
   },
   "outputs": [
    {
     "name": "stdout",
     "output_type": "stream",
     "text": [
      "Begin training.\n",
      "Epoch 50/10000, Train Loss: 1.7893, Test Loss: 1.7937\n",
      "Epoch 100/10000, Train Loss: 1.7669, Test Loss: 1.7765\n",
      "Epoch 150/10000, Train Loss: 1.7573, Test Loss: 1.7600\n",
      "Epoch 200/10000, Train Loss: 1.7535, Test Loss: 1.7618\n",
      "Epoch 250/10000, Train Loss: 1.7495, Test Loss: 1.7543\n",
      "Epoch 300/10000, Train Loss: 1.7388, Test Loss: 1.7533\n",
      "Epoch 350/10000, Train Loss: 1.7395, Test Loss: 1.7530\n",
      "Epoch 400/10000, Train Loss: 1.7357, Test Loss: 1.7516\n",
      "Epoch 450/10000, Train Loss: 1.7364, Test Loss: 1.7507\n",
      "Epoch 500/10000, Train Loss: 1.7338, Test Loss: 1.7506\n",
      "Epoch 550/10000, Train Loss: 1.7332, Test Loss: 1.7524\n",
      "Epoch 600/10000, Train Loss: 1.7272, Test Loss: 1.7528\n",
      "Epoch 650/10000, Train Loss: 1.7245, Test Loss: 1.7469\n",
      "Epoch 700/10000, Train Loss: 1.7254, Test Loss: 1.7501\n",
      "Epoch 750/10000, Train Loss: 1.7225, Test Loss: 1.7486\n",
      "Epoch 800/10000, Train Loss: 1.7216, Test Loss: 1.7536\n",
      "Epoch 850/10000, Train Loss: 1.7202, Test Loss: 1.7552\n",
      "Epoch 900/10000, Train Loss: 1.7169, Test Loss: 1.7473\n",
      "Epoch 950/10000, Train Loss: 1.7162, Test Loss: 1.7496\n",
      "Epoch 1000/10000, Train Loss: 1.7233, Test Loss: 1.7572\n",
      "Epoch 1050/10000, Train Loss: 1.7117, Test Loss: 1.7515\n",
      "Epoch 1100/10000, Train Loss: 1.7143, Test Loss: 1.7547\n",
      "Epoch 1150/10000, Train Loss: 1.7135, Test Loss: 1.7524\n",
      "Epoch 1200/10000, Train Loss: 1.7114, Test Loss: 1.7525\n",
      "Epoch 1250/10000, Train Loss: 1.7087, Test Loss: 1.7563\n",
      "Epoch 1300/10000, Train Loss: 1.7075, Test Loss: 1.7501\n",
      "Epoch 1350/10000, Train Loss: 1.7085, Test Loss: 1.7587\n",
      "Epoch 1400/10000, Train Loss: 1.7036, Test Loss: 1.7561\n",
      "Epoch 1450/10000, Train Loss: 1.7234, Test Loss: 1.7576\n",
      "Epoch 1500/10000, Train Loss: 1.7049, Test Loss: 1.7562\n",
      "Epoch 1550/10000, Train Loss: 1.7040, Test Loss: 1.7555\n",
      "Epoch 1600/10000, Train Loss: 1.7029, Test Loss: 1.7583\n",
      "Epoch 1650/10000, Train Loss: 1.6986, Test Loss: 1.7575\n",
      "Epoch 1700/10000, Train Loss: 1.6999, Test Loss: 1.7633\n",
      "Epoch 1750/10000, Train Loss: 1.7054, Test Loss: 1.7654\n",
      "Epoch 1800/10000, Train Loss: 1.6969, Test Loss: 1.7607\n",
      "Epoch 1850/10000, Train Loss: 1.7014, Test Loss: 1.7629\n",
      "Epoch 1900/10000, Train Loss: 1.6973, Test Loss: 1.7659\n",
      "Epoch 1950/10000, Train Loss: 1.6966, Test Loss: 1.7597\n",
      "Epoch 2000/10000, Train Loss: 1.7054, Test Loss: 1.7621\n",
      "Epoch 2050/10000, Train Loss: 1.6961, Test Loss: 1.7600\n",
      "Epoch 2100/10000, Train Loss: 1.6952, Test Loss: 1.7667\n",
      "Epoch 2150/10000, Train Loss: 1.6926, Test Loss: 1.7729\n",
      "Epoch 2200/10000, Train Loss: 1.6971, Test Loss: 1.7729\n",
      "Epoch 2250/10000, Train Loss: 1.6924, Test Loss: 1.7702\n",
      "Epoch 2300/10000, Train Loss: 1.7032, Test Loss: 1.7730\n",
      "Epoch 2350/10000, Train Loss: 1.6905, Test Loss: 1.7685\n",
      "Epoch 2400/10000, Train Loss: 1.6917, Test Loss: 1.7739\n",
      "Epoch 2450/10000, Train Loss: 1.6925, Test Loss: 1.7754\n",
      "Epoch 2500/10000, Train Loss: 1.6908, Test Loss: 1.7765\n",
      "Epoch 2550/10000, Train Loss: 1.6889, Test Loss: 1.7830\n",
      "Epoch 2600/10000, Train Loss: 1.6913, Test Loss: 1.7767\n",
      "Epoch 2650/10000, Train Loss: 1.6876, Test Loss: 1.7775\n",
      "Epoch 2700/10000, Train Loss: 1.6886, Test Loss: 1.7760\n",
      "Epoch 2750/10000, Train Loss: 1.6837, Test Loss: 1.7792\n",
      "Epoch 2800/10000, Train Loss: 1.6906, Test Loss: 1.7717\n",
      "Epoch 2850/10000, Train Loss: 1.6911, Test Loss: 1.7816\n",
      "Epoch 2900/10000, Train Loss: 1.6818, Test Loss: 1.7952\n",
      "Epoch 2950/10000, Train Loss: 1.6836, Test Loss: 1.7885\n",
      "Epoch 3000/10000, Train Loss: 1.6784, Test Loss: 1.7822\n",
      "Epoch 3050/10000, Train Loss: 1.6847, Test Loss: 1.7891\n",
      "Epoch 3100/10000, Train Loss: 1.6787, Test Loss: 1.7921\n",
      "Epoch 3150/10000, Train Loss: 1.6786, Test Loss: 1.7896\n",
      "Epoch 3200/10000, Train Loss: 1.6760, Test Loss: 1.7892\n",
      "Epoch 3250/10000, Train Loss: 1.6897, Test Loss: 1.7839\n",
      "Epoch 3300/10000, Train Loss: 1.6780, Test Loss: 1.8009\n",
      "Epoch 3350/10000, Train Loss: 1.6783, Test Loss: 1.8022\n",
      "Epoch 3400/10000, Train Loss: 1.6837, Test Loss: 1.7931\n",
      "Epoch 3450/10000, Train Loss: 1.6741, Test Loss: 1.8023\n",
      "Epoch 3500/10000, Train Loss: 1.6832, Test Loss: 1.8017\n",
      "Epoch 3550/10000, Train Loss: 1.6716, Test Loss: 1.8040\n",
      "Epoch 3600/10000, Train Loss: 1.6762, Test Loss: 1.8000\n",
      "Epoch 3650/10000, Train Loss: 1.6702, Test Loss: 1.8014\n",
      "Epoch 3700/10000, Train Loss: 1.6734, Test Loss: 1.7934\n",
      "Epoch 3750/10000, Train Loss: 1.6696, Test Loss: 1.7996\n",
      "Epoch 3800/10000, Train Loss: 1.6687, Test Loss: 1.8049\n",
      "Epoch 3850/10000, Train Loss: 1.6725, Test Loss: 1.8007\n",
      "Epoch 3900/10000, Train Loss: 1.6736, Test Loss: 1.8098\n",
      "Epoch 3950/10000, Train Loss: 1.6741, Test Loss: 1.8086\n",
      "Epoch 4000/10000, Train Loss: 1.6681, Test Loss: 1.8057\n",
      "Epoch 4050/10000, Train Loss: 1.6725, Test Loss: 1.8121\n",
      "Epoch 4100/10000, Train Loss: 1.6666, Test Loss: 1.8197\n",
      "Epoch 4150/10000, Train Loss: 1.6721, Test Loss: 1.8157\n",
      "Epoch 4200/10000, Train Loss: 1.6650, Test Loss: 1.8162\n",
      "Epoch 4250/10000, Train Loss: 1.6651, Test Loss: 1.8134\n",
      "Epoch 4300/10000, Train Loss: 1.6640, Test Loss: 1.8171\n",
      "Epoch 4350/10000, Train Loss: 1.6599, Test Loss: 1.8144\n",
      "Epoch 4400/10000, Train Loss: 1.6614, Test Loss: 1.8127\n",
      "Epoch 4450/10000, Train Loss: 1.6589, Test Loss: 1.8192\n",
      "Epoch 4500/10000, Train Loss: 1.6622, Test Loss: 1.8241\n",
      "Epoch 4550/10000, Train Loss: 1.6614, Test Loss: 1.8246\n",
      "Epoch 4600/10000, Train Loss: 1.6636, Test Loss: 1.8271\n",
      "Epoch 4650/10000, Train Loss: 1.6642, Test Loss: 1.8245\n",
      "Epoch 4700/10000, Train Loss: 1.6621, Test Loss: 1.8291\n",
      "Epoch 4750/10000, Train Loss: 1.6630, Test Loss: 1.8333\n",
      "Epoch 4800/10000, Train Loss: 1.6611, Test Loss: 1.8293\n",
      "Epoch 4850/10000, Train Loss: 1.6595, Test Loss: 1.8336\n",
      "Epoch 4900/10000, Train Loss: 1.6598, Test Loss: 1.8299\n",
      "Epoch 4950/10000, Train Loss: 1.6692, Test Loss: 1.8376\n",
      "Epoch 5000/10000, Train Loss: 1.6565, Test Loss: 1.8303\n",
      "Epoch 5050/10000, Train Loss: 1.6552, Test Loss: 1.8304\n",
      "Epoch 5100/10000, Train Loss: 1.6541, Test Loss: 1.8229\n",
      "Epoch 5150/10000, Train Loss: 1.6618, Test Loss: 1.8338\n",
      "Epoch 5200/10000, Train Loss: 1.6584, Test Loss: 1.8314\n",
      "Epoch 5250/10000, Train Loss: 1.6578, Test Loss: 1.8315\n",
      "Epoch 5300/10000, Train Loss: 1.6543, Test Loss: 1.8344\n",
      "Epoch 5350/10000, Train Loss: 1.6538, Test Loss: 1.8399\n",
      "Epoch 5400/10000, Train Loss: 1.6524, Test Loss: 1.8332\n",
      "Epoch 5450/10000, Train Loss: 1.6503, Test Loss: 1.8455\n",
      "Epoch 5500/10000, Train Loss: 1.6568, Test Loss: 1.8546\n",
      "Epoch 5550/10000, Train Loss: 1.6524, Test Loss: 1.8640\n",
      "Epoch 5600/10000, Train Loss: 1.6578, Test Loss: 1.8524\n",
      "Epoch 5650/10000, Train Loss: 1.6516, Test Loss: 1.8435\n",
      "Epoch 5700/10000, Train Loss: 1.6515, Test Loss: 1.8452\n",
      "Epoch 5750/10000, Train Loss: 1.6570, Test Loss: 1.8661\n",
      "Epoch 5800/10000, Train Loss: 1.6464, Test Loss: 1.8508\n",
      "Epoch 5850/10000, Train Loss: 1.6546, Test Loss: 1.8471\n",
      "Epoch 5900/10000, Train Loss: 1.6543, Test Loss: 1.8532\n",
      "Epoch 5950/10000, Train Loss: 1.6453, Test Loss: 1.8566\n",
      "Epoch 6000/10000, Train Loss: 1.6546, Test Loss: 1.8808\n",
      "Epoch 6050/10000, Train Loss: 1.6547, Test Loss: 1.8566\n",
      "Epoch 6100/10000, Train Loss: 1.6478, Test Loss: 1.8573\n",
      "Epoch 6150/10000, Train Loss: 1.6556, Test Loss: 1.8438\n",
      "Epoch 6200/10000, Train Loss: 1.6506, Test Loss: 1.8466\n",
      "Epoch 6250/10000, Train Loss: 1.6455, Test Loss: 1.8613\n",
      "Epoch 6300/10000, Train Loss: 1.6414, Test Loss: 1.8650\n",
      "Epoch 6350/10000, Train Loss: 1.6522, Test Loss: 1.8706\n",
      "Epoch 6400/10000, Train Loss: 1.6510, Test Loss: 1.8607\n",
      "Epoch 6450/10000, Train Loss: 1.6540, Test Loss: 1.8699\n",
      "Epoch 6500/10000, Train Loss: 1.6614, Test Loss: 1.8581\n",
      "Epoch 6550/10000, Train Loss: 1.6477, Test Loss: 1.8653\n",
      "Epoch 6600/10000, Train Loss: 1.6467, Test Loss: 1.8712\n",
      "Epoch 6650/10000, Train Loss: 1.6427, Test Loss: 1.8661\n",
      "Epoch 6700/10000, Train Loss: 1.6448, Test Loss: 1.8801\n",
      "Epoch 6750/10000, Train Loss: 1.6446, Test Loss: 1.8839\n",
      "Epoch 6800/10000, Train Loss: 1.6593, Test Loss: 1.8815\n",
      "Epoch 6850/10000, Train Loss: 1.6466, Test Loss: 1.8648\n",
      "Epoch 6900/10000, Train Loss: 1.6595, Test Loss: 1.8874\n",
      "Epoch 6950/10000, Train Loss: 1.6402, Test Loss: 1.8860\n",
      "Epoch 7000/10000, Train Loss: 1.6410, Test Loss: 1.9105\n",
      "Epoch 7050/10000, Train Loss: 1.6473, Test Loss: 1.8716\n",
      "Epoch 7100/10000, Train Loss: 1.6513, Test Loss: 1.8930\n",
      "Epoch 7150/10000, Train Loss: 1.6436, Test Loss: 1.8853\n",
      "Epoch 7200/10000, Train Loss: 1.6425, Test Loss: 1.8884\n",
      "Epoch 7250/10000, Train Loss: 1.6428, Test Loss: 1.8754\n",
      "Epoch 7300/10000, Train Loss: 1.6389, Test Loss: 1.8966\n",
      "Epoch 7350/10000, Train Loss: 1.6462, Test Loss: 1.8738\n",
      "Epoch 7400/10000, Train Loss: 1.6505, Test Loss: 1.8716\n",
      "Epoch 7450/10000, Train Loss: 1.6403, Test Loss: 1.8769\n",
      "Epoch 7500/10000, Train Loss: 1.6420, Test Loss: 1.8909\n",
      "Epoch 7550/10000, Train Loss: 1.6370, Test Loss: 1.8857\n",
      "Epoch 7600/10000, Train Loss: 1.6400, Test Loss: 1.8935\n",
      "Epoch 7650/10000, Train Loss: 1.6429, Test Loss: 1.8970\n",
      "Epoch 7700/10000, Train Loss: 1.6418, Test Loss: 1.9005\n",
      "Epoch 7750/10000, Train Loss: 1.6348, Test Loss: 1.8852\n",
      "Epoch 7800/10000, Train Loss: 1.6356, Test Loss: 1.9028\n",
      "Epoch 7850/10000, Train Loss: 1.6532, Test Loss: 1.8969\n",
      "Epoch 7900/10000, Train Loss: 1.6356, Test Loss: 1.8986\n",
      "Epoch 7950/10000, Train Loss: 1.6442, Test Loss: 1.9199\n",
      "Epoch 8000/10000, Train Loss: 1.6395, Test Loss: 1.8947\n",
      "Epoch 8050/10000, Train Loss: 1.6344, Test Loss: 1.9021\n",
      "Epoch 8100/10000, Train Loss: 1.6494, Test Loss: 1.8965\n",
      "Epoch 8150/10000, Train Loss: 1.6373, Test Loss: 1.9097\n",
      "Epoch 8200/10000, Train Loss: 1.6438, Test Loss: 1.9041\n",
      "Epoch 8250/10000, Train Loss: 1.6456, Test Loss: 1.8849\n",
      "Epoch 8300/10000, Train Loss: 1.6437, Test Loss: 1.8805\n",
      "Epoch 8350/10000, Train Loss: 1.6435, Test Loss: 1.9184\n",
      "Epoch 8400/10000, Train Loss: 1.6340, Test Loss: 1.9324\n",
      "Epoch 8450/10000, Train Loss: 1.6402, Test Loss: 1.9159\n",
      "Epoch 8500/10000, Train Loss: 1.6453, Test Loss: 1.8858\n",
      "Epoch 8550/10000, Train Loss: 1.6346, Test Loss: 1.9145\n",
      "Epoch 8600/10000, Train Loss: 1.6368, Test Loss: 1.9130\n",
      "Epoch 8650/10000, Train Loss: 1.6370, Test Loss: 1.9053\n",
      "Epoch 8700/10000, Train Loss: 1.6367, Test Loss: 1.9118\n",
      "Epoch 8750/10000, Train Loss: 1.6470, Test Loss: 1.9066\n",
      "Epoch 8800/10000, Train Loss: 1.6314, Test Loss: 1.9275\n",
      "Epoch 8850/10000, Train Loss: 1.6392, Test Loss: 1.9294\n",
      "Epoch 8900/10000, Train Loss: 1.6346, Test Loss: 1.8986\n",
      "Epoch 8950/10000, Train Loss: 1.6327, Test Loss: 1.9215\n",
      "Epoch 9000/10000, Train Loss: 1.6334, Test Loss: 1.9292\n",
      "Epoch 9050/10000, Train Loss: 1.6395, Test Loss: 1.8992\n",
      "Epoch 9100/10000, Train Loss: 1.6326, Test Loss: 1.9092\n",
      "Epoch 9150/10000, Train Loss: 1.6351, Test Loss: 1.9245\n",
      "Epoch 9200/10000, Train Loss: 1.6388, Test Loss: 1.9235\n",
      "Epoch 9250/10000, Train Loss: 1.6374, Test Loss: 1.9339\n",
      "Epoch 9300/10000, Train Loss: 1.6432, Test Loss: 1.9213\n",
      "Epoch 9350/10000, Train Loss: 1.6291, Test Loss: 1.9312\n",
      "Epoch 9400/10000, Train Loss: 1.6333, Test Loss: 1.9330\n",
      "Epoch 9450/10000, Train Loss: 1.6422, Test Loss: 1.9014\n",
      "Epoch 9500/10000, Train Loss: 1.6315, Test Loss: 1.9317\n",
      "Epoch 9550/10000, Train Loss: 1.6445, Test Loss: 1.9307\n",
      "Epoch 9600/10000, Train Loss: 1.6350, Test Loss: 1.9039\n",
      "Epoch 9650/10000, Train Loss: 1.6362, Test Loss: 1.9354\n",
      "Epoch 9700/10000, Train Loss: 1.6291, Test Loss: 1.9064\n",
      "Epoch 9750/10000, Train Loss: 1.6374, Test Loss: 1.9244\n",
      "Epoch 9800/10000, Train Loss: 1.6305, Test Loss: 1.9230\n",
      "Epoch 9850/10000, Train Loss: 1.6292, Test Loss: 1.9295\n",
      "Epoch 9900/10000, Train Loss: 1.6303, Test Loss: 1.9275\n",
      "Epoch 9950/10000, Train Loss: 1.6349, Test Loss: 1.9332\n",
      "Epoch 10000/10000, Train Loss: 1.6299, Test Loss: 1.9526\n"
     ]
    }
   ],
   "source": [
    "train_network(model, optimizer, criterion, X_train, y_train, X_test, y_test, EPOCHS, train_losses, test_losses)"
   ]
  },
  {
   "cell_type": "code",
   "execution_count": 17,
   "id": "6f4ce889",
   "metadata": {
    "execution": {
     "iopub.execute_input": "2024-04-07T15:02:43.224013Z",
     "iopub.status.busy": "2024-04-07T15:02:43.223555Z",
     "iopub.status.idle": "2024-04-07T15:02:43.593243Z",
     "shell.execute_reply": "2024-04-07T15:02:43.591532Z"
    },
    "papermill": {
     "duration": 0.405,
     "end_time": "2024-04-07T15:02:43.596833",
     "exception": false,
     "start_time": "2024-04-07T15:02:43.191833",
     "status": "completed"
    },
    "tags": []
   },
   "outputs": [
    {
     "data": {
      "image/png": "[encoded data removed]",
      "text/plain": [
       "<Figure size 500x400 with 1 Axes>"
      ]
     },
     "metadata": {},
     "output_type": "display_data"
    }
   ],
   "source": [
    "plt.figure(figsize=(5, 4))\n",
    "plt.plot(train_losses, label='train loss')\n",
    "plt.plot(test_losses, label='test loss')\n",
    "plt.legend()\n",
    "plt.show()"
   ]
  },
  {
   "cell_type": "code",
   "execution_count": 18,
   "id": "a5f2dd8e",
   "metadata": {
    "execution": {
     "iopub.execute_input": "2024-04-07T15:02:43.660071Z",
     "iopub.status.busy": "2024-04-07T15:02:43.659610Z",
     "iopub.status.idle": "2024-04-07T15:02:44.067322Z",
     "shell.execute_reply": "2024-04-07T15:02:44.066219Z"
    },
    "papermill": {
     "duration": 0.442043,
     "end_time": "2024-04-07T15:02:44.070718",
     "exception": false,
     "start_time": "2024-04-07T15:02:43.628675",
     "status": "completed"
    },
    "tags": []
   },
   "outputs": [],
   "source": [
    "predictions_train = []\n",
    "predictions_test =  []\n",
    "with torch.no_grad():\n",
    "    predictions_train = model(X_train).to(device)\n",
    "    predictions_test = model(X_test).to(device)"
   ]
  },
  {
   "cell_type": "code",
   "execution_count": 19,
   "id": "7e7515d2",
   "metadata": {
    "execution": {
     "iopub.execute_input": "2024-04-07T15:02:44.135105Z",
     "iopub.status.busy": "2024-04-07T15:02:44.134647Z",
     "iopub.status.idle": "2024-04-07T15:02:44.143206Z",
     "shell.execute_reply": "2024-04-07T15:02:44.141611Z"
    },
    "papermill": {
     "duration": 0.043448,
     "end_time": "2024-04-07T15:02:44.145907",
     "exception": false,
     "start_time": "2024-04-07T15:02:44.102459",
     "status": "completed"
    },
    "tags": []
   },
   "outputs": [],
   "source": [
    "def get_accuracy_multiclass(pred_arr,original_arr):\n",
    "    if len(pred_arr) != len(original_arr):\n",
    "        return False\n",
    "    pred_arr = pred_arr.cpu().numpy()\n",
    "    original_arr = original_arr.cpu().numpy()\n",
    "    final_pred = []\n",
    "    for i in range(len(pred_arr)):\n",
    "        final_pred.append(np.argmax(pred_arr[i]))\n",
    "    final_pred = np.array(final_pred)\n",
    "    count = 0\n",
    "    for i in range(len(original_arr)):\n",
    "        if final_pred[i] == original_arr[i]:\n",
    "            count+=1\n",
    "    return count/len(final_pred)"
   ]
  },
  {
   "cell_type": "code",
   "execution_count": 20,
   "id": "d8d87661",
   "metadata": {
    "execution": {
     "iopub.execute_input": "2024-04-07T15:02:44.210825Z",
     "iopub.status.busy": "2024-04-07T15:02:44.210029Z",
     "iopub.status.idle": "2024-04-07T15:02:44.621633Z",
     "shell.execute_reply": "2024-04-07T15:02:44.620139Z"
    },
    "papermill": {
     "duration": 0.447775,
     "end_time": "2024-04-07T15:02:44.624657",
     "exception": false,
     "start_time": "2024-04-07T15:02:44.176882",
     "status": "completed"
    },
    "tags": []
   },
   "outputs": [
    {
     "name": "stdout",
     "output_type": "stream",
     "text": [
      "Training Accuracy: 38.081\n",
      "Test Accuracy: 34.244\n"
     ]
    }
   ],
   "source": [
    "train_acc = get_accuracy_multiclass(predictions_train, y_train)\n",
    "test_acc  = get_accuracy_multiclass(predictions_test, y_test)\n",
    "\n",
    "print(f\"Training Accuracy: {round(train_acc*100,3)}\")\n",
    "print(f\"Test Accuracy: {round(test_acc*100,3)}\")"
   ]
  },
  {
   "cell_type": "code",
   "execution_count": 21,
   "id": "efac8c2b",
   "metadata": {
    "execution": {
     "iopub.execute_input": "2024-04-07T15:02:44.688039Z",
     "iopub.status.busy": "2024-04-07T15:02:44.687584Z",
     "iopub.status.idle": "2024-04-07T15:02:44.694345Z",
     "shell.execute_reply": "2024-04-07T15:02:44.693094Z"
    },
    "papermill": {
     "duration": 0.041464,
     "end_time": "2024-04-07T15:02:44.696815",
     "exception": false,
     "start_time": "2024-04-07T15:02:44.655351",
     "status": "completed"
    },
    "tags": []
   },
   "outputs": [],
   "source": [
    "df_test = df_test_１.copy()"
   ]
  },
  {
   "cell_type": "code",
   "execution_count": 22,
   "id": "53dfa1b5",
   "metadata": {
    "execution": {
     "iopub.execute_input": "2024-04-07T15:02:44.760031Z",
     "iopub.status.busy": "2024-04-07T15:02:44.758908Z",
     "iopub.status.idle": "2024-04-07T15:02:44.770891Z",
     "shell.execute_reply": "2024-04-07T15:02:44.770034Z"
    },
    "papermill": {
     "duration": 0.046736,
     "end_time": "2024-04-07T15:02:44.773866",
     "exception": false,
     "start_time": "2024-04-07T15:02:44.727130",
     "status": "completed"
    },
    "tags": []
   },
   "outputs": [],
   "source": [
    "df_test['Sex'] = df_test['Sex'].map({\n",
    "    'I': 0,\n",
    "    'M': 1,\n",
    "    'F': 2,\n",
    "})"
   ]
  },
  {
   "cell_type": "code",
   "execution_count": 23,
   "id": "c41d5463",
   "metadata": {
    "execution": {
     "iopub.execute_input": "2024-04-07T15:02:44.838962Z",
     "iopub.status.busy": "2024-04-07T15:02:44.838132Z",
     "iopub.status.idle": "2024-04-07T15:02:44.850050Z",
     "shell.execute_reply": "2024-04-07T15:02:44.848578Z"
    },
    "papermill": {
     "duration": 0.047349,
     "end_time": "2024-04-07T15:02:44.853393",
     "exception": false,
     "start_time": "2024-04-07T15:02:44.806044",
     "status": "completed"
    },
    "tags": []
   },
   "outputs": [],
   "source": [
    "test_features = df_test.drop(['id'], axis=1).values\n",
    "test_features = torch.FloatTensor(test_features).to(device)"
   ]
  },
  {
   "cell_type": "code",
   "execution_count": 24,
   "id": "1bf4e8e5",
   "metadata": {
    "execution": {
     "iopub.execute_input": "2024-04-07T15:02:44.921486Z",
     "iopub.status.busy": "2024-04-07T15:02:44.921030Z",
     "iopub.status.idle": "2024-04-07T15:02:45.274941Z",
     "shell.execute_reply": "2024-04-07T15:02:45.273549Z"
    },
    "papermill": {
     "duration": 0.390336,
     "end_time": "2024-04-07T15:02:45.278533",
     "exception": false,
     "start_time": "2024-04-07T15:02:44.888197",
     "status": "completed"
    },
    "tags": []
   },
   "outputs": [],
   "source": [
    "predictions_final = model(test_features).to(device)"
   ]
  },
  {
   "cell_type": "code",
   "execution_count": 25,
   "id": "b2295654",
   "metadata": {
    "execution": {
     "iopub.execute_input": "2024-04-07T15:02:45.343665Z",
     "iopub.status.busy": "2024-04-07T15:02:45.342678Z",
     "iopub.status.idle": "2024-04-07T15:02:45.362701Z",
     "shell.execute_reply": "2024-04-07T15:02:45.361002Z"
    },
    "papermill": {
     "duration": 0.055196,
     "end_time": "2024-04-07T15:02:45.365932",
     "exception": false,
     "start_time": "2024-04-07T15:02:45.310736",
     "status": "completed"
    },
    "tags": []
   },
   "outputs": [],
   "source": [
    "predicted_classes = torch.argmax(predictions_final, dim=1).cpu()"
   ]
  },
  {
   "cell_type": "code",
   "execution_count": 26,
   "id": "ae717688",
   "metadata": {
    "execution": {
     "iopub.execute_input": "2024-04-07T15:02:45.431944Z",
     "iopub.status.busy": "2024-04-07T15:02:45.431504Z",
     "iopub.status.idle": "2024-04-07T15:02:45.449307Z",
     "shell.execute_reply": "2024-04-07T15:02:45.448427Z"
    },
    "papermill": {
     "duration": 0.052599,
     "end_time": "2024-04-07T15:02:45.451798",
     "exception": false,
     "start_time": "2024-04-07T15:02:45.399199",
     "status": "completed"
    },
    "tags": []
   },
   "outputs": [
    {
     "data": {
      "text/html": [
       "<div>\n",
       "<style scoped>\n",
       "    .dataframe tbody tr th:only-of-type {\n",
       "        vertical-align: middle;\n",
       "    }\n",
       "\n",
       "    .dataframe tbody tr th {\n",
       "        vertical-align: top;\n",
       "    }\n",
       "\n",
       "    .dataframe thead th {\n",
       "        text-align: right;\n",
       "    }\n",
       "</style>\n",
       "<table border=\"1\" class=\"dataframe\">\n",
       "  <thead>\n",
       "    <tr style=\"text-align: right;\">\n",
       "      <th></th>\n",
       "      <th>id</th>\n",
       "      <th>NObeyesdad</th>\n",
       "    </tr>\n",
       "  </thead>\n",
       "  <tbody>\n",
       "    <tr>\n",
       "      <th>0</th>\n",
       "      <td>90615</td>\n",
       "      <td>9</td>\n",
       "    </tr>\n",
       "    <tr>\n",
       "      <th>1</th>\n",
       "      <td>90616</td>\n",
       "      <td>9</td>\n",
       "    </tr>\n",
       "    <tr>\n",
       "      <th>2</th>\n",
       "      <td>90617</td>\n",
       "      <td>9</td>\n",
       "    </tr>\n",
       "    <tr>\n",
       "      <th>3</th>\n",
       "      <td>90618</td>\n",
       "      <td>9</td>\n",
       "    </tr>\n",
       "    <tr>\n",
       "      <th>4</th>\n",
       "      <td>90619</td>\n",
       "      <td>7</td>\n",
       "    </tr>\n",
       "  </tbody>\n",
       "</table>\n",
       "</div>"
      ],
      "text/plain": [
       "      id  NObeyesdad\n",
       "0  90615           9\n",
       "1  90616           9\n",
       "2  90617           9\n",
       "3  90618           9\n",
       "4  90619           7"
      ]
     },
     "execution_count": 26,
     "metadata": {},
     "output_type": "execute_result"
    }
   ],
   "source": [
    "final_output = pd.concat([pd.DataFrame(df_test['id']), pd.DataFrame(predicted_classes)], axis=1)\n",
    "final_output.rename(columns={0: 'NObeyesdad'}, inplace=True)\n",
    "\n",
    "final_output.head()"
   ]
  },
  {
   "cell_type": "code",
   "execution_count": 27,
   "id": "45afdb2d",
   "metadata": {
    "execution": {
     "iopub.execute_input": "2024-04-07T15:02:45.517530Z",
     "iopub.status.busy": "2024-04-07T15:02:45.517122Z",
     "iopub.status.idle": "2024-04-07T15:02:45.613338Z",
     "shell.execute_reply": "2024-04-07T15:02:45.611864Z"
    },
    "papermill": {
     "duration": 0.132474,
     "end_time": "2024-04-07T15:02:45.616580",
     "exception": false,
     "start_time": "2024-04-07T15:02:45.484106",
     "status": "completed"
    },
    "tags": []
   },
   "outputs": [],
   "source": [
    "final_output.to_csv('submission.csv', index=False)"
   ]
  }
 ],
 "metadata": {
  "kaggle": {
   "accelerator": "none",
   "dataSources": [
    {
     "databundleVersionId": 8096274,
     "sourceId": 72489,
     "sourceType": "competition"
    }
   ],
   "dockerImageVersionId": 30673,
   "isGpuEnabled": false,
   "isInternetEnabled": true,
   "language": "python",
   "sourceType": "notebook"
  },
  "kernelspec": {
   "display_name": "Python 3",
   "language": "python",
   "name": "python3"
  },
  "language_info": {
   "codemirror_mode": {
    "name": "ipython",
    "version": 3
   },
   "file_extension": ".py",
   "mimetype": "text/x-python",
   "name": "python",
   "nbconvert_exporter": "python",
   "pygments_lexer": "ipython3",
   "version": "3.10.13"
  },
  "papermill": {
   "default_parameters": {},
   "duration": 10914.746016,
   "end_time": "2024-04-07T15:02:47.809908",
   "environment_variables": {},
   "exception": null,
   "input_path": "__notebook__.ipynb",
   "output_path": "__notebook__.ipynb",
   "parameters": {},
   "start_time": "2024-04-07T12:00:53.063892",
   "version": "2.5.0"
  }
 },
 "nbformat": 4,
 "nbformat_minor": 5
}
