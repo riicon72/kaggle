{
 "cells": [
  {
   "cell_type": "markdown",
   "id": "87c6e76a",
   "metadata": {
    "papermill": {
     "duration": 0.007981,
     "end_time": "2023-11-12T13:50:11.015242",
     "exception": false,
     "start_time": "2023-11-12T13:50:11.007261",
     "status": "completed"
    },
    "tags": []
   },
   "source": [
    "**This notebook is an exercise in the [Intro to Programming](https://www.kaggle.com/learn/intro-to-programming) course.  You can reference the tutorial at [this link](https://www.kaggle.com/alexisbcook/arithmetic-and-variables).**\n",
    "\n",
    "---\n"
   ]
  },
  {
   "cell_type": "markdown",
   "id": "d33be79b",
   "metadata": {
    "papermill": {
     "duration": 0.007125,
     "end_time": "2023-11-12T13:50:11.030196",
     "exception": false,
     "start_time": "2023-11-12T13:50:11.023071",
     "status": "completed"
    },
    "tags": []
   },
   "source": [
    "日本人向けに日本語訳を入れました。 言い回しが間違っていたらすみません。 お役に立てれば幸いです"
   ]
  },
  {
   "cell_type": "markdown",
   "id": "22cb21ef",
   "metadata": {
    "papermill": {
     "duration": 0.007025,
     "end_time": "2023-11-12T13:50:11.044671",
     "exception": false,
     "start_time": "2023-11-12T13:50:11.037646",
     "status": "completed"
    },
    "tags": []
   },
   "source": [
    "This exercise will get you started with running your own code.  \n",
    "\n",
    "# Set up the notebook\n",
    "\n",
    "To begin, run the code in the next cell.\n",
    "まず、次のセルのコードを実行します。\n",
    "- コードセル内をクリックして開始します。\n",
    "- Begin by clicking inside the code cell.\n",
    "- コード セルの左側に表示される三角形 (「再生ボタン」の形) をクリックします。\n",
    "- Click on the triangle (in the shape of a \"Play button\") that appears to the left of the code cell.\n",
    "- コードが正常に実行されると、セルの下に「Setup Complete」という出力が表示されます。\n",
    "- If your code was run sucessfully, you will see `Setup Complete` as output below the cell.\n",
    "\n",
    "Instead of clicking on the triangle, you can also run code by pressing Shift + Enter on your keyboard.  Try this now!  Nothing bad will happen if you run the code more than once.\n",
    "三角形をクリックする代わりに、キーボードの Shift + Enter を押してコードを実行することもできます。今すぐ試してみてください!コードを複数回実行しても、何も悪いことは起こりません。\n",
    "Mazu,-ji no seru no "
   ]
  },
  {
   "cell_type": "code",
   "execution_count": 1,
   "id": "17649e22",
   "metadata": {
    "execution": {
     "iopub.execute_input": "2023-11-12T13:50:11.061603Z",
     "iopub.status.busy": "2023-11-12T13:50:11.060846Z",
     "iopub.status.idle": "2023-11-12T13:50:11.508162Z",
     "shell.execute_reply": "2023-11-12T13:50:11.506528Z"
    },
    "papermill": {
     "duration": 0.458722,
     "end_time": "2023-11-12T13:50:11.510696",
     "exception": false,
     "start_time": "2023-11-12T13:50:11.051974",
     "status": "completed"
    },
    "tags": []
   },
   "outputs": [
    {
     "name": "stdout",
     "output_type": "stream",
     "text": [
      "Setup complete.\n"
     ]
    }
   ],
   "source": [
    "# Set up the exercise\n",
    "from learntools.core import binder\n",
    "binder.bind(globals())\n",
    "from learntools.intro_to_programming.ex1 import *\n",
    "print('Setup complete.')"
   ]
  },
  {
   "cell_type": "markdown",
   "id": "847b15af",
   "metadata": {
    "papermill": {
     "duration": 0.007851,
     "end_time": "2023-11-12T13:50:11.526111",
     "exception": false,
     "start_time": "2023-11-12T13:50:11.518260",
     "status": "completed"
    },
    "tags": []
   },
   "source": [
    "The code above sets up the notebook so that it can check your answers in this exercise.  You should never modify this code.  (Otherwise, the notebook won't be able to verify that you have successfully completed the exercise.)\n",
    "上記のコードは、この演習の答えを確認できるようにノートブックを設定します。このコードは決して変更しないでください。 (そうしないと、演習が正常に完了したことをノートブックで確認できなくなります。)\n",
    "\n",
    "After finishing all of the questions below, you'll see the exercise marked as complete on the [course page](http://www.kaggle.com/learn/intro-to-programming).  Once you complete all of the lessons, you'll get a course completion certificate!\n",
    "以下の質問をすべて完了すると、[コース ページ](http://www.kaggle.com/learn/intro-to-programming) で演習が完了としてマークされます。すべてのレッスンを完了すると、コース修了証明書が発行されます。\n",
    "\n",
    "# Question 1\n",
    "\n",
    "Next, you will run some code from the tutorial, so you can see how it works for yourself.  Run the next code cell without changes.\n",
    "次に、チュートリアルのコードを実行して、それがどのように機能するかを自分で確認できます。変更を加えずに次のコードセルを実行します。"
   ]
  },
  {
   "cell_type": "code",
   "execution_count": 2,
   "id": "429d8025",
   "metadata": {
    "execution": {
     "iopub.execute_input": "2023-11-12T13:50:11.542843Z",
     "iopub.status.busy": "2023-11-12T13:50:11.542274Z",
     "iopub.status.idle": "2023-11-12T13:50:11.553199Z",
     "shell.execute_reply": "2023-11-12T13:50:11.552004Z"
    },
    "papermill": {
     "duration": 0.021771,
     "end_time": "2023-11-12T13:50:11.555332",
     "exception": false,
     "start_time": "2023-11-12T13:50:11.533561",
     "status": "completed"
    },
    "tags": []
   },
   "outputs": [
    {
     "name": "stdout",
     "output_type": "stream",
     "text": [
      "Hello, world!\n"
     ]
    },
    {
     "data": {
      "application/javascript": [
       "parent.postMessage({\"jupyterEvent\": \"custom.exercise_interaction\", \"data\": {\"outcomeType\": 1, \"valueTowardsCompletion\": 0.2, \"interactionType\": 1, \"questionType\": 2, \"questionId\": \"1_RunHelloWorld\", \"learnToolsVersion\": \"0.3.4\", \"failureMessage\": \"\", \"exceptionClass\": \"\", \"trace\": \"\"}}, \"*\")"
      ],
      "text/plain": [
       "<IPython.core.display.Javascript object>"
      ]
     },
     "metadata": {},
     "output_type": "display_data"
    },
    {
     "data": {
      "text/markdown": [
       "<span style=\"color:#33cc33\">If you see 'Hello, world!' above, You have successfully printed a message, and you're ready to move on to the next question.</span>"
      ],
      "text/plain": [
       "If you see 'Hello, world!' above, You have successfully printed a message, and you're ready to move on to the next question."
      ]
     },
     "metadata": {},
     "output_type": "display_data"
    }
   ],
   "source": [
    "print(\"Hello, world!\")\n",
    "\n",
    "# DO NOT REMOVE: Mark this question as completed\n",
    "q1.check()"
   ]
  },
  {
   "cell_type": "markdown",
   "id": "1409da3b",
   "metadata": {
    "papermill": {
     "duration": 0.007865,
     "end_time": "2023-11-12T13:50:11.571260",
     "exception": false,
     "start_time": "2023-11-12T13:50:11.563395",
     "status": "completed"
    },
    "tags": []
   },
   "source": [
    "You just ran code to print `Hello world!`, which you should see in the output above.\n",
    "「Hello world!」を出力するコードを実行したところです。これは上記の出力に表示されるはずです。\n",
    "\n",
    "The second line of code (`q1.check()`) checks your answer.  You should never modify this checking code; if you remove it, you won't get credit for completing the problem.\n",
    "コードの 2 行目 (`q1.check()`) は、答えをチェックします。このチェック コードは決して変更しないでください。これを削除すると、問題を完了したことに対する評価が得られなくなります。\n",
    "# Question 2\n",
    "\n",
    "Now, you will print another message of your choosing.  To do this, change `print(\"Your message here!\")` to use a different message.  For instance, you might like to change it to something like:\n",
    "ここで、選択した別のメッセージを印刷します。これを行うには、`print(\"Your message here!\")` を変更して別のメッセージを使用します。たとえば、次のように変更するとよいでしょう。\n",
    "- `print(\"Good morning!\")`\n",
    "- `print(\"I am learning how to code :D\")`\n",
    "\n",
    "Or, you might like to see what happens if you write something like `print(\"3+4\")`.  Does it return 7, or does it just think of `\"3+4\"` as just another message?\n",
    "あるいは、`print(\"3+4\")` のようなものを書いた場合に何が起こるかを見てみたいかもしれません。 7 を返すのでしょうか、それとも `\"3+4\"` を単なるメッセージとみなしているのでしょうか?\n",
    "\n",
    "Make sure that your message is enclosed in quotation marks (`\"`), and the message itself does not use quotation marks. For instance, this will throw an error: `print(\"She said \"great job\" and gave me a high-five!\")` because the message contains quotation marks.  If you decide to take the Python course after completing this course, you will learn more about how to avoid this error in [Lesson 6](https://www.kaggle.com/colinmorris/strings-and-dictionaries).\n",
    "メッセージが引用符 (`\"`) で囲まれていること、およびメッセージ自体が引用符を使用していないことを確認してください。たとえば、これはエラーをスローします: `print(\"彼女は「素晴らしい仕事だった」と言い、私に高い評価を与えてくれました-five!\")` メッセージに引用符が含まれているためです。このコースを完了した後に Python コースを受講する場合は、[レッスン 6](https://www.kaggle. com/colinmorris/strings-and-dictionaries)。\n",
    "Feel free to try out multiple messages!"
   ]
  },
  {
   "cell_type": "code",
   "execution_count": 3,
   "id": "5661a791",
   "metadata": {
    "execution": {
     "iopub.execute_input": "2023-11-12T13:50:11.589086Z",
     "iopub.status.busy": "2023-11-12T13:50:11.588638Z",
     "iopub.status.idle": "2023-11-12T13:50:11.598982Z",
     "shell.execute_reply": "2023-11-12T13:50:11.597927Z"
    },
    "papermill": {
     "duration": 0.022011,
     "end_time": "2023-11-12T13:50:11.601274",
     "exception": false,
     "start_time": "2023-11-12T13:50:11.579263",
     "status": "completed"
    },
    "tags": []
   },
   "outputs": [
    {
     "name": "stdout",
     "output_type": "stream",
     "text": [
      "Your message here!\n"
     ]
    },
    {
     "data": {
      "application/javascript": [
       "parent.postMessage({\"jupyterEvent\": \"custom.exercise_interaction\", \"data\": {\"outcomeType\": 1, \"valueTowardsCompletion\": 0.2, \"interactionType\": 1, \"questionType\": 2, \"questionId\": \"2_PrintAnotherMsg\", \"learnToolsVersion\": \"0.3.4\", \"failureMessage\": \"\", \"exceptionClass\": \"\", \"trace\": \"\"}}, \"*\")"
      ],
      "text/plain": [
       "<IPython.core.display.Javascript object>"
      ]
     },
     "metadata": {},
     "output_type": "display_data"
    },
    {
     "data": {
      "text/markdown": [
       "<span style=\"color:#33cc33\">Once you have printed your own message, you're ready to move on to the next question.</span>"
      ],
      "text/plain": [
       "Once you have printed your own message, you're ready to move on to the next question."
      ]
     },
     "metadata": {},
     "output_type": "display_data"
    }
   ],
   "source": [
    "# TODO: Change the message\n",
    "print(\"Your message here!\")\n",
    "\n",
    "# DO NOT REMOVE: Mark this question as completed \n",
    "q2.check()"
   ]
  },
  {
   "cell_type": "markdown",
   "id": "76c1054c",
   "metadata": {
    "papermill": {
     "duration": 0.008841,
     "end_time": "2023-11-12T13:50:11.618647",
     "exception": false,
     "start_time": "2023-11-12T13:50:11.609806",
     "status": "completed"
    },
    "tags": []
   },
   "source": [
    "# Question 3\n",
    "\n",
    "As you learned in the tutorial, a comment in Python has a pound sign (`#`) in front of it, which tells Python to ignore the text after it.\n",
    "チュートリアルで学んだように、Python のコメントの前にはポンド記号 (`#`) があり、これは Python にその後のテキストを無視するように指示します。\n",
    "\n",
    "Putting a pound sign in front of a line of code will make Python ignore that code.  For instance, this line would be ignored by Python, and nothing would appear in the output:\n",
    "コード行の前にシャープ記号を置くと、Python はそのコードを無視します。たとえば、次の行は Python によって無視され、出力には何も表示されません。\n",
    "```python\n",
    "#print(1+2)\n",
    "```\n",
    "Removing the pound sign will make it so that you can run the code again. When we remove the pound sign in front of a line of code, we call this **uncommenting**.\n",
    "シャープ記号を削除すると、コードを再度実行できるようになります。コード行の前にあるシャープ記号を削除することを、**コメント解除**と呼びます。\n",
    "\n",
    "In this problem, you will uncomment two lines in the code cell below and view the output:\n",
    "\n",
    "この問題では、以下のコード セル内の 2 行のコメントを解除し、出力を表示します。\n",
    "- Remove the `#` in front of `q3.hint()`.  To avoid errors, do NOT remove the `#` in front of `# Uncomment to view hint`.  \n",
    "- Next, remove the `#` in front of `q3.solution()`.\n",
    "- `q3.hint()` の前の `#` を削除します。エラーを避けるため、「# ヒントを表示するにはコメントを解除してください」の前にある「#」を削除しないでください。\n",
    "- 次に、`q3.solution()` の前の `#` を削除します。\n",
    "\n",
    "As in the previous questions, do not change the final line of code that marks your work as completed.\n",
    "前の質問と同様に、作業が完了したことを示すコードの最終行は変更しないでください。\n"
   ]
  },
  {
   "cell_type": "code",
   "execution_count": 4,
   "id": "fa353551",
   "metadata": {
    "execution": {
     "iopub.execute_input": "2023-11-12T13:50:11.638372Z",
     "iopub.status.busy": "2023-11-12T13:50:11.637959Z",
     "iopub.status.idle": "2023-11-12T13:50:11.653785Z",
     "shell.execute_reply": "2023-11-12T13:50:11.652958Z"
    },
    "papermill": {
     "duration": 0.027934,
     "end_time": "2023-11-12T13:50:11.655989",
     "exception": false,
     "start_time": "2023-11-12T13:50:11.628055",
     "status": "completed"
    },
    "tags": []
   },
   "outputs": [
    {
     "data": {
      "application/javascript": [
       "parent.postMessage({\"jupyterEvent\": \"custom.exercise_interaction\", \"data\": {\"interactionType\": 2, \"questionType\": 2, \"questionId\": \"3_LearnCheckingCode\", \"learnToolsVersion\": \"0.3.4\", \"valueTowardsCompletion\": 0.0, \"failureMessage\": \"\", \"exceptionClass\": \"\", \"trace\": \"\", \"outcomeType\": 4}}, \"*\")"
      ],
      "text/plain": [
       "<IPython.core.display.Javascript object>"
      ]
     },
     "metadata": {},
     "output_type": "display_data"
    },
    {
     "data": {
      "text/markdown": [
       "<span style=\"color:#3366cc\">Hint:</span> If you're ever stuck on a question, it's a good idea to look at the hint before viewing the solution."
      ],
      "text/plain": [
       "Hint: If you're ever stuck on a question, it's a good idea to look at the hint before viewing the solution."
      ]
     },
     "metadata": {},
     "output_type": "display_data"
    },
    {
     "data": {
      "application/javascript": [
       "parent.postMessage({\"jupyterEvent\": \"custom.exercise_interaction\", \"data\": {\"interactionType\": 3, \"questionType\": 2, \"questionId\": \"3_LearnCheckingCode\", \"learnToolsVersion\": \"0.3.4\", \"valueTowardsCompletion\": 0.0, \"failureMessage\": \"\", \"exceptionClass\": \"\", \"trace\": \"\", \"outcomeType\": 4}}, \"*\")"
      ],
      "text/plain": [
       "<IPython.core.display.Javascript object>"
      ]
     },
     "metadata": {},
     "output_type": "display_data"
    },
    {
     "data": {
      "text/markdown": [
       "<span style=\"color:#33cc99\">Solution:</span> If you're still stuck on a question after viewing the hint and re-reading the tutorial, you can view the solution.  You can also view the solution after you have successfully submitted your own answer, to check if the official solution is any different (there may be more than one right answer!)."
      ],
      "text/plain": [
       "Solution: If you're still stuck on a question after viewing the hint and re-reading the tutorial, you can view the solution.  You can also view the solution after you have successfully submitted your own answer, to check if the official solution is any different (there may be more than one right answer!)."
      ]
     },
     "metadata": {},
     "output_type": "display_data"
    },
    {
     "data": {
      "application/javascript": [
       "parent.postMessage({\"jupyterEvent\": \"custom.exercise_interaction\", \"data\": {\"outcomeType\": 1, \"valueTowardsCompletion\": 0.2, \"interactionType\": 1, \"questionType\": 2, \"questionId\": \"3_LearnCheckingCode\", \"learnToolsVersion\": \"0.3.4\", \"failureMessage\": \"\", \"exceptionClass\": \"\", \"trace\": \"\"}}, \"*\")"
      ],
      "text/plain": [
       "<IPython.core.display.Javascript object>"
      ]
     },
     "metadata": {},
     "output_type": "display_data"
    },
    {
     "data": {
      "text/markdown": [
       "<span style=\"color:#33cc33\">Once you have printed the hint and the solution, you're ready to move on to the next question.</span>"
      ],
      "text/plain": [
       "Once you have printed the hint and the solution, you're ready to move on to the next question."
      ]
     },
     "metadata": {},
     "output_type": "display_data"
    }
   ],
   "source": [
    "# Uncomment to get a hint\n",
    "\n",
    "q3.hint()\n",
    "\n",
    "# Uncomment to view solution\n",
    "q3.solution()\n",
    "# 解決策: ヒントを表示してチュートリアルを読み直した後も質問が解決しない場合は、解決策を表示できます。自分の回答を正常に送信した後、そのソリューションを表示して、公式のソリューションが異なっているかどうかを確認することもできます (正解は複数ある可能性があります)。\n",
    "\n",
    "# DO NOT REMOVE: Check your answer\n",
    "q3.check()"
   ]
  },
  {
   "cell_type": "markdown",
   "id": "7fb7258b",
   "metadata": {
    "papermill": {
     "duration": 0.009414,
     "end_time": "2023-11-12T13:50:11.674878",
     "exception": false,
     "start_time": "2023-11-12T13:50:11.665464",
     "status": "completed"
    },
    "tags": []
   },
   "source": [
    "In the next question, and in most of the exercises in this course, you will have the option to uncomment to view hints and solutions.  Once you feel comfortable with uncommenting, continue to the next question.\n",
    "次の質問とこのコースのほとんどの演習では、コメントを解除してヒントと解決策を表示するオプションがあります。コメントを解除することに慣れたら、次の質問に進みます。\n"
   ]
  },
  {
   "cell_type": "markdown",
   "id": "df6ab224",
   "metadata": {
    "papermill": {
     "duration": 0.009061,
     "end_time": "2023-11-12T13:50:11.693409",
     "exception": false,
     "start_time": "2023-11-12T13:50:11.684348",
     "status": "completed"
    },
    "tags": []
   },
   "source": [
    "# Question 4\n",
    "\n",
    "In the tutorial, you defined several variables to calculate the total number of seconds in a year.  Run the next code cell to do the calculation here.\n",
    "このチュートリアルでは、1 年の合計秒数を計算するためにいくつかの変数を定義しました。次のコード セルを実行して、ここで計算を行います。"
   ]
  },
  {
   "cell_type": "code",
   "execution_count": 5,
   "id": "336ee867",
   "metadata": {
    "execution": {
     "iopub.execute_input": "2023-11-12T13:50:11.714133Z",
     "iopub.status.busy": "2023-11-12T13:50:11.713762Z",
     "iopub.status.idle": "2023-11-12T13:50:11.719030Z",
     "shell.execute_reply": "2023-11-12T13:50:11.718225Z"
    },
    "papermill": {
     "duration": 0.019168,
     "end_time": "2023-11-12T13:50:11.721978",
     "exception": false,
     "start_time": "2023-11-12T13:50:11.702810",
     "status": "completed"
    },
    "tags": []
   },
   "outputs": [
    {
     "name": "stdout",
     "output_type": "stream",
     "text": [
      "126144000\n"
     ]
    }
   ],
   "source": [
    "# Create variables\n",
    "num_years = 4\n",
    "days_per_year = 365 \n",
    "hours_per_day = 24\n",
    "mins_per_hour = 60\n",
    "secs_per_min = 60\n",
    "\n",
    "# Calculate number of seconds in four years\n",
    "total_secs = secs_per_min * mins_per_hour * hours_per_day * days_per_year * num_years\n",
    "print(total_secs)"
   ]
  },
  {
   "cell_type": "markdown",
   "id": "20bda861",
   "metadata": {
    "papermill": {
     "duration": 0.009495,
     "end_time": "2023-11-12T13:50:11.741079",
     "exception": false,
     "start_time": "2023-11-12T13:50:11.731584",
     "status": "completed"
    },
    "tags": []
   },
   "source": [
    "Use the next code cell to:\n",
    "- Define a variable `births_per_min` and set it to 250.  (There are on average 250 babies born each minute.)\n",
    "- 変数 Births_per_min を定義し、250 に設定します (毎分平均 250 人の赤ちゃんが生まれます)。\n",
    "- Define a variable `births_per_day` that contains the average number of babies born each day.  (To set the value of this variable, you should use `births_per_min` and some of the variables from the previous code cell.)\n",
    "- 毎日生まれる赤ちゃんの平均数を含む変数births_per_dayを定義します。 (この変数の値を設定するには、births_per_min と前のコード セルの変数の一部を使用する必要があります。)\n",
    "Remember you can always get a hint if you need it!"
   ]
  },
  {
   "cell_type": "code",
   "execution_count": 6,
   "id": "bb04e06e",
   "metadata": {
    "execution": {
     "iopub.execute_input": "2023-11-12T13:50:11.763492Z",
     "iopub.status.busy": "2023-11-12T13:50:11.762906Z",
     "iopub.status.idle": "2023-11-12T13:50:11.770757Z",
     "shell.execute_reply": "2023-11-12T13:50:11.769983Z"
    },
    "papermill": {
     "duration": 0.021672,
     "end_time": "2023-11-12T13:50:11.772945",
     "exception": false,
     "start_time": "2023-11-12T13:50:11.751273",
     "status": "completed"
    },
    "tags": []
   },
   "outputs": [
    {
     "data": {
      "application/javascript": [
       "parent.postMessage({\"jupyterEvent\": \"custom.exercise_interaction\", \"data\": {\"outcomeType\": 1, \"valueTowardsCompletion\": 0.2, \"interactionType\": 1, \"questionType\": 1, \"questionId\": \"4_BirthsPerYear\", \"learnToolsVersion\": \"0.3.4\", \"failureMessage\": \"\", \"exceptionClass\": \"\", \"trace\": \"\"}}, \"*\")"
      ],
      "text/plain": [
       "<IPython.core.display.Javascript object>"
      ]
     },
     "metadata": {},
     "output_type": "display_data"
    },
    {
     "data": {
      "text/markdown": [
       "<span style=\"color:#33cc33\">Correct</span>"
      ],
      "text/plain": [
       "Correct"
      ]
     },
     "metadata": {},
     "output_type": "display_data"
    }
   ],
   "source": [
    "# TODO: Set the value of the births_per_min variable  \n",
    "# TODO: Births_per_min 変数の値を設定する\n",
    "births_per_min = 250\n",
    "\n",
    "# TODO: Set the value of the births_per_day variable\n",
    "# TODO: Births_per_day 変数の値を設定する\n",
    "births_per_day = births_per_min * mins_per_hour * hours_per_day\n",
    "\n",
    "# DO NOT REMOVE: Check your answer\n",
    "q4.check()"
   ]
  },
  {
   "cell_type": "code",
   "execution_count": 7,
   "id": "81e8f31d",
   "metadata": {
    "execution": {
     "iopub.execute_input": "2023-11-12T13:50:11.795322Z",
     "iopub.status.busy": "2023-11-12T13:50:11.794616Z",
     "iopub.status.idle": "2023-11-12T13:50:11.805547Z",
     "shell.execute_reply": "2023-11-12T13:50:11.804718Z"
    },
    "papermill": {
     "duration": 0.024883,
     "end_time": "2023-11-12T13:50:11.807822",
     "exception": false,
     "start_time": "2023-11-12T13:50:11.782939",
     "status": "completed"
    },
    "tags": []
   },
   "outputs": [
    {
     "data": {
      "application/javascript": [
       "parent.postMessage({\"jupyterEvent\": \"custom.exercise_interaction\", \"data\": {\"interactionType\": 2, \"questionType\": 1, \"questionId\": \"4_BirthsPerYear\", \"learnToolsVersion\": \"0.3.4\", \"valueTowardsCompletion\": 0.0, \"failureMessage\": \"\", \"exceptionClass\": \"\", \"trace\": \"\", \"outcomeType\": 4}}, \"*\")"
      ],
      "text/plain": [
       "<IPython.core.display.Javascript object>"
      ]
     },
     "metadata": {},
     "output_type": "display_data"
    },
    {
     "data": {
      "text/markdown": [
       "<span style=\"color:#3366cc\">Hint:</span> How can you use the variables to calculate the number of minutes in one day?  Once you have that, you need only multiply that number by the number of births per minute."
      ],
      "text/plain": [
       "Hint: How can you use the variables to calculate the number of minutes in one day?  Once you have that, you need only multiply that number by the number of births per minute."
      ]
     },
     "metadata": {},
     "output_type": "display_data"
    },
    {
     "data": {
      "application/javascript": [
       "parent.postMessage({\"jupyterEvent\": \"custom.exercise_interaction\", \"data\": {\"interactionType\": 3, \"questionType\": 1, \"questionId\": \"4_BirthsPerYear\", \"learnToolsVersion\": \"0.3.4\", \"valueTowardsCompletion\": 0.0, \"failureMessage\": \"\", \"exceptionClass\": \"\", \"trace\": \"\", \"outcomeType\": 4}}, \"*\")"
      ],
      "text/plain": [
       "<IPython.core.display.Javascript object>"
      ]
     },
     "metadata": {},
     "output_type": "display_data"
    },
    {
     "data": {
      "text/markdown": [
       "<span style=\"color:#33cc99\">Solution:</span> \n",
       "```python\n",
       "# Set the value of the births_per_min variable\n",
       "births_per_min = 250\n",
       "\n",
       "# Set the value of the births_per_day variable\n",
       "births_per_day = births_per_min * mins_per_hour * hours_per_day\n",
       "\n",
       "```"
      ],
      "text/plain": [
       "Solution: \n",
       "```python\n",
       "# Set the value of the births_per_min variable\n",
       "births_per_min = 250\n",
       "\n",
       "# Set the value of the births_per_day variable\n",
       "births_per_day = births_per_min * mins_per_hour * hours_per_day\n",
       "\n",
       "```"
      ]
     },
     "metadata": {},
     "output_type": "display_data"
    }
   ],
   "source": [
    "# Uncomment to get a hint\n",
    "q4.hint()\n",
    "\n",
    "# Uncomment to view solution\n",
    "q4.solution()"
   ]
  },
  {
   "cell_type": "markdown",
   "id": "036fc080",
   "metadata": {
    "papermill": {
     "duration": 0.010416,
     "end_time": "2023-11-12T13:50:11.828911",
     "exception": false,
     "start_time": "2023-11-12T13:50:11.818495",
     "status": "completed"
    },
    "tags": []
   },
   "source": [
    "# 🌶️ Question 5\n",
    "\n",
    "(Questions marked with a 🌶️ will be a little bit more challenging than the others!  Remember you can always get a hint or view the solution.)\n",
    "(🌶️ のマークが付いている質問は、他の質問よりも少し難しいです。いつでもヒントを入手したり、解決策を表示したりできることを忘れないでください。)\n",
    "\n",
    "The [Titanic competition](https://www.kaggle.com/c/titanic) is Kaggle's most famous data science competition. In this competition, participants are challenged to build a machine learning model that can predict whether or not passengers survived the Titanic shipwreck, based on information like age, sex, family size, and ticket number.\n",
    "[タイタニック コンペティション](https://www.kaggle.com/c/titanic) は、Kaggle で最も有名なデータ サイエンス コンペティションです。このコンテストでは、参加者は、年齢、性別、家族構成、チケット番号などの情報に基づいて、タイタニック号の難破で乗客が生き残ったかどうかを予測できる機械学習モデルの構築に挑戦します。\n",
    "\n",
    "Run the next code cell without changes to load and preview the titanic data.\n",
    "変更を加えずに次のコード セルを実行して、タイタニック データをロードしてプレビューします。\n",
    "\n",
    "Don't worry about the details of the code for now - the end result is just that the all of the titanic data has been loaded in a variable named `titanic_data`.  (In order to learn how to write this code yourself, you can take the [Python course](https://www.kaggle.com/learn/python) and then the [Pandas course](https://www.kaggle.com/learn/pandas).)\n",
    "今のところコードの詳細については心配する必要はありません。最終的な結果は、すべてのタイタニック データが `titanic_data` という名前の変数にロードされたことだけです。 (このコードを自分で書く方法を学ぶには、[Python コース](https://www.kaggle.com/learn/python) を受講してから、[Pandas コース](https://www.kaggle) を受講してください。 .com/learn/pandas)。)"
   ]
  },
  {
   "cell_type": "code",
   "execution_count": 8,
   "id": "70042b5d",
   "metadata": {
    "execution": {
     "iopub.execute_input": "2023-11-12T13:50:11.851966Z",
     "iopub.status.busy": "2023-11-12T13:50:11.851265Z",
     "iopub.status.idle": "2023-11-12T13:50:11.900356Z",
     "shell.execute_reply": "2023-11-12T13:50:11.898998Z"
    },
    "papermill": {
     "duration": 0.063799,
     "end_time": "2023-11-12T13:50:11.903112",
     "exception": false,
     "start_time": "2023-11-12T13:50:11.839313",
     "status": "completed"
    },
    "tags": []
   },
   "outputs": [
    {
     "data": {
      "text/html": [
       "<div>\n",
       "<style scoped>\n",
       "    .dataframe tbody tr th:only-of-type {\n",
       "        vertical-align: middle;\n",
       "    }\n",
       "\n",
       "    .dataframe tbody tr th {\n",
       "        vertical-align: top;\n",
       "    }\n",
       "\n",
       "    .dataframe thead th {\n",
       "        text-align: right;\n",
       "    }\n",
       "</style>\n",
       "<table border=\"1\" class=\"dataframe\">\n",
       "  <thead>\n",
       "    <tr style=\"text-align: right;\">\n",
       "      <th></th>\n",
       "      <th>PassengerId</th>\n",
       "      <th>Survived</th>\n",
       "      <th>Pclass</th>\n",
       "      <th>Name</th>\n",
       "      <th>Sex</th>\n",
       "      <th>Age</th>\n",
       "      <th>SibSp</th>\n",
       "      <th>Parch</th>\n",
       "      <th>Ticket</th>\n",
       "      <th>Fare</th>\n",
       "      <th>Cabin</th>\n",
       "      <th>Embarked</th>\n",
       "    </tr>\n",
       "  </thead>\n",
       "  <tbody>\n",
       "    <tr>\n",
       "      <th>0</th>\n",
       "      <td>1</td>\n",
       "      <td>0</td>\n",
       "      <td>3</td>\n",
       "      <td>Braund, Mr. Owen Harris</td>\n",
       "      <td>male</td>\n",
       "      <td>22.0</td>\n",
       "      <td>1</td>\n",
       "      <td>0</td>\n",
       "      <td>A/5 21171</td>\n",
       "      <td>7.2500</td>\n",
       "      <td>NaN</td>\n",
       "      <td>S</td>\n",
       "    </tr>\n",
       "    <tr>\n",
       "      <th>1</th>\n",
       "      <td>2</td>\n",
       "      <td>1</td>\n",
       "      <td>1</td>\n",
       "      <td>Cumings, Mrs. John Bradley (Florence Briggs Th...</td>\n",
       "      <td>female</td>\n",
       "      <td>38.0</td>\n",
       "      <td>1</td>\n",
       "      <td>0</td>\n",
       "      <td>PC 17599</td>\n",
       "      <td>71.2833</td>\n",
       "      <td>C85</td>\n",
       "      <td>C</td>\n",
       "    </tr>\n",
       "    <tr>\n",
       "      <th>2</th>\n",
       "      <td>3</td>\n",
       "      <td>1</td>\n",
       "      <td>3</td>\n",
       "      <td>Heikkinen, Miss. Laina</td>\n",
       "      <td>female</td>\n",
       "      <td>26.0</td>\n",
       "      <td>0</td>\n",
       "      <td>0</td>\n",
       "      <td>STON/O2. 3101282</td>\n",
       "      <td>7.9250</td>\n",
       "      <td>NaN</td>\n",
       "      <td>S</td>\n",
       "    </tr>\n",
       "    <tr>\n",
       "      <th>3</th>\n",
       "      <td>4</td>\n",
       "      <td>1</td>\n",
       "      <td>1</td>\n",
       "      <td>Futrelle, Mrs. Jacques Heath (Lily May Peel)</td>\n",
       "      <td>female</td>\n",
       "      <td>35.0</td>\n",
       "      <td>1</td>\n",
       "      <td>0</td>\n",
       "      <td>113803</td>\n",
       "      <td>53.1000</td>\n",
       "      <td>C123</td>\n",
       "      <td>S</td>\n",
       "    </tr>\n",
       "    <tr>\n",
       "      <th>4</th>\n",
       "      <td>5</td>\n",
       "      <td>0</td>\n",
       "      <td>3</td>\n",
       "      <td>Allen, Mr. William Henry</td>\n",
       "      <td>male</td>\n",
       "      <td>35.0</td>\n",
       "      <td>0</td>\n",
       "      <td>0</td>\n",
       "      <td>373450</td>\n",
       "      <td>8.0500</td>\n",
       "      <td>NaN</td>\n",
       "      <td>S</td>\n",
       "    </tr>\n",
       "  </tbody>\n",
       "</table>\n",
       "</div>"
      ],
      "text/plain": [
       "   PassengerId  Survived  Pclass  \\\n",
       "0            1         0       3   \n",
       "1            2         1       1   \n",
       "2            3         1       3   \n",
       "3            4         1       1   \n",
       "4            5         0       3   \n",
       "\n",
       "                                                Name     Sex   Age  SibSp  \\\n",
       "0                            Braund, Mr. Owen Harris    male  22.0      1   \n",
       "1  Cumings, Mrs. John Bradley (Florence Briggs Th...  female  38.0      1   \n",
       "2                             Heikkinen, Miss. Laina  female  26.0      0   \n",
       "3       Futrelle, Mrs. Jacques Heath (Lily May Peel)  female  35.0      1   \n",
       "4                           Allen, Mr. William Henry    male  35.0      0   \n",
       "\n",
       "   Parch            Ticket     Fare Cabin Embarked  \n",
       "0      0         A/5 21171   7.2500   NaN        S  \n",
       "1      0          PC 17599  71.2833   C85        C  \n",
       "2      0  STON/O2. 3101282   7.9250   NaN        S  \n",
       "3      0            113803  53.1000  C123        S  \n",
       "4      0            373450   8.0500   NaN        S  "
      ]
     },
     "execution_count": 8,
     "metadata": {},
     "output_type": "execute_result"
    }
   ],
   "source": [
    "# Load the data from the titanic competition\n",
    "import pandas as pd\n",
    "titanic_data = pd.read_csv(\"../input/titanic/train.csv\")\n",
    "\n",
    "# Show the first five rows of the data\n",
    "titanic_data.head()"
   ]
  },
  {
   "cell_type": "markdown",
   "id": "9005cab3",
   "metadata": {
    "papermill": {
     "duration": 0.0107,
     "end_time": "2023-11-12T13:50:11.925012",
     "exception": false,
     "start_time": "2023-11-12T13:50:11.914312",
     "status": "completed"
    },
    "tags": []
   },
   "source": [
    "The data has a different row for each passenger.  \n",
    "\n",
    "The next code cell defines and prints the values of three variables:  \n",
    "- `total` = total number of passengers who boarded the ship\n",
    "- `survived` = number of passengers who survived the shipwreck\n",
    "- `minors` = number of passengers under 18 years of age\n",
    "次のコード セルは、3 つの変数の値を定義して出力します。\n",
    "- `total` = 船に乗船した乗客の総数\n",
    "- `survived` = 難破船から生き残った乗客の数\n",
    "- 「未成年者」 = 18 歳未満の乗客の数\n",
    "\n",
    "Run the code cell without changes.  (Don't worry about the details of how these variables are calculated for now.  You can learn more about how to calculate these values in the [Pandas course](https://www.kaggle.com/learn/pandas).)\n",
    "コードセルを変更せずに実行します。 (今のところ、これらの変数の計算方法の詳細については心配する必要はありません。これらの値の計算方法について詳しくは、[Pandas コース](https://www.kaggle.com/learn/pandas) で学習できます。)"
   ]
  },
  {
   "cell_type": "code",
   "execution_count": 9,
   "id": "8bf8913a",
   "metadata": {
    "execution": {
     "iopub.execute_input": "2023-11-12T13:50:11.948361Z",
     "iopub.status.busy": "2023-11-12T13:50:11.947953Z",
     "iopub.status.idle": "2023-11-12T13:50:11.957317Z",
     "shell.execute_reply": "2023-11-12T13:50:11.955700Z"
    },
    "papermill": {
     "duration": 0.023696,
     "end_time": "2023-11-12T13:50:11.959528",
     "exception": false,
     "start_time": "2023-11-12T13:50:11.935832",
     "status": "completed"
    },
    "tags": []
   },
   "outputs": [
    {
     "name": "stdout",
     "output_type": "stream",
     "text": [
      "891\n",
      "342\n",
      "113\n"
     ]
    }
   ],
   "source": [
    "# Number of total passengers\n",
    "total = len(titanic_data)\n",
    "print(total)\n",
    "\n",
    "# Number of passengers who survived\n",
    "survived = (titanic_data.Survived == 1).sum()\n",
    "print(survived)\n",
    "\n",
    "# Number of passengers under 18\n",
    "minors = (titanic_data.Age < 18).sum()\n",
    "print(minors)"
   ]
  },
  {
   "cell_type": "markdown",
   "id": "f593eb49",
   "metadata": {
    "papermill": {
     "duration": 0.010675,
     "end_time": "2023-11-12T13:50:11.981649",
     "exception": false,
     "start_time": "2023-11-12T13:50:11.970974",
     "status": "completed"
    },
    "tags": []
   },
   "source": [
    "So, \n",
    "- `total = 891` (there were 891 passengers on board the Titanic),\n",
    "- `survived = 342` (342 passengers survived), and \n",
    "- `minors = 113` (113 passengers were under the age of 18).\n",
    "\n",
    "In the code cell below, replace the underlines (`____`) with code to calculate the values for two more variables:\n",
    "- `survived_fraction` should be set to the fraction of passengers who survived the Titanic disaster.\n",
    "- `minors_fraction` should be the fraction of passengers who were minors (under the age of 18).\n",
    "以下のコード セルで、下線 (____) を、さらに 2 つの変数の値を計算するコードに置き換えます。\n",
    "- `survived_fraction` は、タイタニック号の惨事で生き残った乗客の割合に設定する必要があります。\n",
    "- `minors_fraction` は、未成年者 (18 歳未満) だった乗客の割合である必要があります。\n",
    "\n",
    "For each variable, your answer should be a number between 0 and 1.  \n",
    "\n",
    "If you need a hint or want to view the solution, you can skip to the next code cell and uncomment the appropriate lines of code (`q5.hint()` and `q5.solution()`).\n",
    "\n",
    "ヒントが必要な場合、または解決策を表示したい場合は、次のコード セルにスキップして、コードの適切な行 (`q5.hint()` および `q5.solution()`) のコメントを解除できます。"
   ]
  },
  {
   "cell_type": "code",
   "execution_count": 10,
   "id": "3c4eefbe",
   "metadata": {
    "execution": {
     "iopub.execute_input": "2023-11-12T13:50:12.005767Z",
     "iopub.status.busy": "2023-11-12T13:50:12.005305Z",
     "iopub.status.idle": "2023-11-12T13:50:12.016015Z",
     "shell.execute_reply": "2023-11-12T13:50:12.014907Z"
    },
    "papermill": {
     "duration": 0.026087,
     "end_time": "2023-11-12T13:50:12.018659",
     "exception": false,
     "start_time": "2023-11-12T13:50:11.992572",
     "status": "completed"
    },
    "tags": []
   },
   "outputs": [
    {
     "name": "stdout",
     "output_type": "stream",
     "text": [
      "0.3838383838383838\n",
      "0.12682379349046016\n"
     ]
    },
    {
     "data": {
      "application/javascript": [
       "parent.postMessage({\"jupyterEvent\": \"custom.exercise_interaction\", \"data\": {\"outcomeType\": 1, \"valueTowardsCompletion\": 0.2, \"interactionType\": 1, \"questionType\": 1, \"questionId\": \"5_BonusTitanic\", \"learnToolsVersion\": \"0.3.4\", \"failureMessage\": \"\", \"exceptionClass\": \"\", \"trace\": \"\"}}, \"*\")"
      ],
      "text/plain": [
       "<IPython.core.display.Javascript object>"
      ]
     },
     "metadata": {},
     "output_type": "display_data"
    },
    {
     "data": {
      "text/markdown": [
       "<span style=\"color:#33cc33\">Correct</span>"
      ],
      "text/plain": [
       "Correct"
      ]
     },
     "metadata": {},
     "output_type": "display_data"
    }
   ],
   "source": [
    "# TODO: Fill in the value of the survived_fraction variable Survival_fraction 変数の値を入力します\n",
    "survived_fraction = survived/total\n",
    "\n",
    "# Print the value of the variable  変数の値を出力します\n",
    "print(survived_fraction)\n",
    "\n",
    "# TODO: Fill in the value of the minors_fraction variable  minors_fraction変数の値を入力します。\n",
    "minors_fraction = minors/total \n",
    "\n",
    "# Print the value of the variable 変数の値を出力します\n",
    "print(minors_fraction)\n",
    "\n",
    "# DO NOT REMOVE: Check your answer\n",
    "q5.check()"
   ]
  },
  {
   "cell_type": "code",
   "execution_count": 11,
   "id": "6754d59d",
   "metadata": {
    "execution": {
     "iopub.execute_input": "2023-11-12T13:50:12.044199Z",
     "iopub.status.busy": "2023-11-12T13:50:12.043070Z",
     "iopub.status.idle": "2023-11-12T13:50:12.055488Z",
     "shell.execute_reply": "2023-11-12T13:50:12.054760Z"
    },
    "papermill": {
     "duration": 0.027403,
     "end_time": "2023-11-12T13:50:12.057594",
     "exception": false,
     "start_time": "2023-11-12T13:50:12.030191",
     "status": "completed"
    },
    "tags": []
   },
   "outputs": [
    {
     "data": {
      "application/javascript": [
       "parent.postMessage({\"jupyterEvent\": \"custom.exercise_interaction\", \"data\": {\"interactionType\": 2, \"questionType\": 1, \"questionId\": \"5_BonusTitanic\", \"learnToolsVersion\": \"0.3.4\", \"valueTowardsCompletion\": 0.0, \"failureMessage\": \"\", \"exceptionClass\": \"\", \"trace\": \"\", \"outcomeType\": 4}}, \"*\")"
      ],
      "text/plain": [
       "<IPython.core.display.Javascript object>"
      ]
     },
     "metadata": {},
     "output_type": "display_data"
    },
    {
     "data": {
      "text/markdown": [
       "<span style=\"color:#3366cc\">Hint:</span> To get the fraction of people who survived the titanic, you need to divide the number of survivors by the total number of people.  Remember the variables that you can use to answer this question: `survived`, `total`, and `minors`."
      ],
      "text/plain": [
       "Hint: To get the fraction of people who survived the titanic, you need to divide the number of survivors by the total number of people.  Remember the variables that you can use to answer this question: `survived`, `total`, and `minors`."
      ]
     },
     "metadata": {},
     "output_type": "display_data"
    },
    {
     "data": {
      "application/javascript": [
       "parent.postMessage({\"jupyterEvent\": \"custom.exercise_interaction\", \"data\": {\"interactionType\": 3, \"questionType\": 1, \"questionId\": \"5_BonusTitanic\", \"learnToolsVersion\": \"0.3.4\", \"valueTowardsCompletion\": 0.0, \"failureMessage\": \"\", \"exceptionClass\": \"\", \"trace\": \"\", \"outcomeType\": 4}}, \"*\")"
      ],
      "text/plain": [
       "<IPython.core.display.Javascript object>"
      ]
     },
     "metadata": {},
     "output_type": "display_data"
    },
    {
     "data": {
      "text/markdown": [
       "<span style=\"color:#33cc99\">Solution:</span> \n",
       "```python\n",
       "# Fill in the value of the survived_fraction variable \n",
       "survived_fraction = survived/total\n",
       "\n",
       "# Print the value of the survived_fraction variable\n",
       "print(survived_fraction)\n",
       "\n",
       "# Fill in the value of the minors_fraction variable\n",
       "minors_fraction = minors/total \n",
       "\n",
       "# Print the value of the minors_fraction variable\n",
       "print(minors_fraction)\n",
       "\n",
       "```"
      ],
      "text/plain": [
       "Solution: \n",
       "```python\n",
       "# Fill in the value of the survived_fraction variable \n",
       "survived_fraction = survived/total\n",
       "\n",
       "# Print the value of the survived_fraction variable\n",
       "print(survived_fraction)\n",
       "\n",
       "# Fill in the value of the minors_fraction variable\n",
       "minors_fraction = minors/total \n",
       "\n",
       "# Print the value of the minors_fraction variable\n",
       "print(minors_fraction)\n",
       "\n",
       "```"
      ]
     },
     "metadata": {},
     "output_type": "display_data"
    }
   ],
   "source": [
    "# Uncomment to receive a hint\n",
    "q5.hint()\n",
    "\n",
    "# Uncomment to view the solution\n",
    "q5.solution()"
   ]
  },
  {
   "cell_type": "markdown",
   "id": "2df615b3",
   "metadata": {
    "papermill": {
     "duration": 0.012125,
     "end_time": "2023-11-12T13:50:12.082342",
     "exception": false,
     "start_time": "2023-11-12T13:50:12.070217",
     "status": "completed"
    },
    "tags": []
   },
   "source": [
    "# Bonus Exercise\n",
    "\n",
    "As an **optional** next step, you're encouraged to make a submission to the Titanic competition.  \n",
    "> To do this, follow the instructions in the **[notebook here](https://www.kaggle.com/alexisbcook/titanic-tutorial)**.  \n",
    "\n",
    "The notebook is beginner-friendly and does not assume you have any experience with coding.  At the same time, you'll learn how to author your own notebooks on Kaggle, and it gives you a great idea of what you'll be able to do if you continue to learn data science!\n",
    "\n",
    "# Keep going\n",
    "\n",
    "Congratulations!  You have just finished the first exercise in the Intro to Programming course!  \n",
    "\n",
    "You are now ready to learn how to **[organize your code with functions](https://www.kaggle.com/alexisbcook/functions)**."
   ]
  },
  {
   "cell_type": "markdown",
   "id": "75303255",
   "metadata": {
    "papermill": {
     "duration": 0.01269,
     "end_time": "2023-11-12T13:50:12.107305",
     "exception": false,
     "start_time": "2023-11-12T13:50:12.094615",
     "status": "completed"
    },
    "tags": []
   },
   "source": [
    "---\n",
    "\n",
    "\n",
    "\n",
    "\n",
    "*Have questions or comments? Visit the [course discussion forum](https://www.kaggle.com/learn/intro-to-programming/discussion) to chat with other learners.*"
   ]
  }
 ],
 "metadata": {
  "kernelspec": {
   "display_name": "Python 3",
   "language": "python",
   "name": "python3"
  },
  "language_info": {
   "codemirror_mode": {
    "name": "ipython",
    "version": 3
   },
   "file_extension": ".py",
   "mimetype": "text/x-python",
   "name": "python",
   "nbconvert_exporter": "python",
   "pygments_lexer": "ipython3",
   "version": "3.10.12"
  },
  "papermill": {
   "default_parameters": {},
   "duration": 5.011895,
   "end_time": "2023-11-12T13:50:12.539657",
   "environment_variables": {},
   "exception": null,
   "input_path": "__notebook__.ipynb",
   "output_path": "__notebook__.ipynb",
   "parameters": {},
   "start_time": "2023-11-12T13:50:07.527762",
   "version": "2.4.0"
  }
 },
 "nbformat": 4,
 "nbformat_minor": 5
}
