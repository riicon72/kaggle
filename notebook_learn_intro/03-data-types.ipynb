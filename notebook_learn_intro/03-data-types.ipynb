{
 "cells": [
  {
   "cell_type": "markdown",
   "id": "f535650e",
   "metadata": {
    "papermill": {
     "duration": 0.009623,
     "end_time": "2023-11-14T07:19:16.617136",
     "exception": false,
     "start_time": "2023-11-14T07:19:16.607513",
     "status": "completed"
    },
    "tags": []
   },
   "source": [
    "日本人向けに日本語訳を入れました。 言い回しが間違っていたらすみません。 お役に立てれば幸いです"
   ]
  },
  {
   "cell_type": "markdown",
   "id": "d054ec57",
   "metadata": {
    "papermill": {
     "duration": 0.008278,
     "end_time": "2023-11-14T07:19:16.634422",
     "exception": false,
     "start_time": "2023-11-14T07:19:16.626144",
     "status": "completed"
    },
    "tags": []
   },
   "source": [
    "In the tutorial, you learned about four different data types: floats, integers, strings, and booleans.  In this exercise, you'll experiment with them.\n",
    "このチュートリアルでは、浮動小数点数、整数、文字列、ブール値の 4 つの異なるデータ型について学習しました。 この演習では、それらを試してみましょう。\n",
    "\n",
    "# Set up the notebook　　--ノートブックをセットする\n",
    "\n",
    "Run the next code cell without changes to set up the notebook.\n",
    "変更を加えずに次のコード セルを実行して、ノートブックをセットアップします。"
   ]
  },
  {
   "cell_type": "code",
   "execution_count": 1,
   "id": "ec4b50ae",
   "metadata": {
    "execution": {
     "iopub.execute_input": "2023-11-14T07:19:16.653990Z",
     "iopub.status.busy": "2023-11-14T07:19:16.653452Z",
     "iopub.status.idle": "2023-11-14T07:19:17.125789Z",
     "shell.execute_reply": "2023-11-14T07:19:17.124625Z"
    },
    "papermill": {
     "duration": 0.485084,
     "end_time": "2023-11-14T07:19:17.128461",
     "exception": false,
     "start_time": "2023-11-14T07:19:16.643377",
     "status": "completed"
    },
    "tags": []
   },
   "outputs": [
    {
     "name": "stdout",
     "output_type": "stream",
     "text": [
      "Setup complete.\n"
     ]
    }
   ],
   "source": [
    "# Set up the exercise\n",
    "from learntools.core import binder\n",
    "binder.bind(globals())\n",
    "from learntools.intro_to_programming.ex3 import *\n",
    "print('Setup complete.')"
   ]
  },
  {
   "cell_type": "markdown",
   "id": "8fccb4a6",
   "metadata": {
    "papermill": {
     "duration": 0.008322,
     "end_time": "2023-11-14T07:19:17.145461",
     "exception": false,
     "start_time": "2023-11-14T07:19:17.137139",
     "status": "completed"
    },
    "tags": []
   },
   "source": [
    "# Question 1\n",
    "\n",
    "You have seen how to convert a float to an integer with the `int` function.  Try this out yourself by running the code cell below.\n",
    "`int` 関数を使用して浮動小数点を整数に変換する方法を説明しました。 以下のコードセルを実行して、これを自分で試してみてください。"
   ]
  },
  {
   "cell_type": "code",
   "execution_count": 2,
   "id": "863dacc7",
   "metadata": {
    "execution": {
     "iopub.execute_input": "2023-11-14T07:19:17.165370Z",
     "iopub.status.busy": "2023-11-14T07:19:17.164569Z",
     "iopub.status.idle": "2023-11-14T07:19:17.171441Z",
     "shell.execute_reply": "2023-11-14T07:19:17.169876Z"
    },
    "papermill": {
     "duration": 0.01971,
     "end_time": "2023-11-14T07:19:17.173717",
     "exception": false,
     "start_time": "2023-11-14T07:19:17.154007",
     "status": "completed"
    },
    "tags": []
   },
   "outputs": [
    {
     "name": "stdout",
     "output_type": "stream",
     "text": [
      "1.2\n",
      "<class 'float'>\n",
      "1\n",
      "<class 'int'>\n"
     ]
    }
   ],
   "source": [
    "# Define a float\n",
    "y = 1.2\n",
    "print(y)\n",
    "print(type(y))\n",
    "\n",
    "# Convert float to integer with the int function\n",
    "z = int(y)\n",
    "print(z)\n",
    "print(type(z))\n",
    "\n",
    "# この場合、使用している浮動小数点数には小数点以下の数字がありません。\n",
    "\n",
    "# しかし、小数部分を含む浮動小数点数を整数に変換しようとするとどうなるでしょうか?\n",
    "# int 関数の結果は、正の数と負の数でどのように変化しますか?\n",
    "# 次のコード セルを使用して、これらの質問を調べて答えます。 コード行を自由に追加または削除してください。これはあなたのワークスペースです。"
   ]
  },
  {
   "cell_type": "markdown",
   "id": "e6af2aee",
   "metadata": {
    "papermill": {
     "duration": 0.008273,
     "end_time": "2023-11-14T07:19:17.190535",
     "exception": false,
     "start_time": "2023-11-14T07:19:17.182262",
     "status": "completed"
    },
    "tags": []
   },
   "source": [
    "In this case, the float you are using has no numbers after the decimal.  \n",
    "- But what happens when you try to convert a float with a fractional part to an integer?  \n",
    "- How does the outcome of the `int` function change for positive and negative numbers?\n",
    "\n",
    "Use the next code cell to investigate and answer these questions.  Feel free to add or remove any lines of code -- it is your workspace!"
   ]
  },
  {
   "cell_type": "code",
   "execution_count": 3,
   "id": "21c232df",
   "metadata": {
    "execution": {
     "iopub.execute_input": "2023-11-14T07:19:17.209598Z",
     "iopub.status.busy": "2023-11-14T07:19:17.209151Z",
     "iopub.status.idle": "2023-11-14T07:19:17.215335Z",
     "shell.execute_reply": "2023-11-14T07:19:17.214129Z"
    },
    "papermill": {
     "duration": 0.018775,
     "end_time": "2023-11-14T07:19:17.217861",
     "exception": false,
     "start_time": "2023-11-14T07:19:17.199086",
     "status": "completed"
    },
    "tags": []
   },
   "outputs": [
    {
     "name": "stdout",
     "output_type": "stream",
     "text": [
      "1\n",
      "1\n",
      "-3\n",
      "-2\n"
     ]
    }
   ],
   "source": [
    "# Uncomment and run this code to get started!\n",
    "print(int(1.2321))\n",
    "print(int(1.747))\n",
    "print(int(-3.94535))\n",
    "print(int(-2.19774))"
   ]
  },
  {
   "cell_type": "markdown",
   "id": "3981eeb5",
   "metadata": {
    "papermill": {
     "duration": 0.009992,
     "end_time": "2023-11-14T07:19:17.236533",
     "exception": false,
     "start_time": "2023-11-14T07:19:17.226541",
     "status": "completed"
    },
    "tags": []
   },
   "source": [
    "Once you have an answer, run the code cell below to see the solution.  Viewing the solution will give you credit for answering the problem."
   ]
  },
  {
   "cell_type": "code",
   "execution_count": 4,
   "id": "6f797b60",
   "metadata": {
    "execution": {
     "iopub.execute_input": "2023-11-14T07:19:17.256771Z",
     "iopub.status.busy": "2023-11-14T07:19:17.256334Z",
     "iopub.status.idle": "2023-11-14T07:19:17.267407Z",
     "shell.execute_reply": "2023-11-14T07:19:17.266135Z"
    },
    "papermill": {
     "duration": 0.024146,
     "end_time": "2023-11-14T07:19:17.269934",
     "exception": false,
     "start_time": "2023-11-14T07:19:17.245788",
     "status": "completed"
    },
    "tags": []
   },
   "outputs": [
    {
     "data": {
      "application/javascript": [
       "parent.postMessage({\"jupyterEvent\": \"custom.exercise_interaction\", \"data\": {\"outcomeType\": 1, \"valueTowardsCompletion\": 0.2, \"interactionType\": 1, \"questionType\": 4, \"questionId\": \"1_FloatToInt\", \"learnToolsVersion\": \"0.3.4\", \"failureMessage\": \"\", \"exceptionClass\": \"\", \"trace\": \"\"}}, \"*\")"
      ],
      "text/plain": [
       "<IPython.core.display.Javascript object>"
      ]
     },
     "metadata": {},
     "output_type": "display_data"
    },
    {
     "data": {
      "text/markdown": [
       "<span style=\"color:#33cc33\">Correct:</span> \n",
       "\n",
       "Negative floats are always rounded UP to the closest integer (for instance, both -1.1 and -1.9 are rounded up to -1). Positive floats are always rounded DOWN to the closest integer (for instance, 2.1 and 2.9 are rounded down to 2)."
      ],
      "text/plain": [
       "Correct: \n",
       "\n",
       "Negative floats are always rounded UP to the closest integer (for instance, both -1.1 and -1.9 are rounded up to -1). Positive floats are always rounded DOWN to the closest integer (for instance, 2.1 and 2.9 are rounded down to 2)."
      ]
     },
     "metadata": {},
     "output_type": "display_data"
    }
   ],
   "source": [
    "# Check your answer (Run this code cell to receive credit!)\n",
    "q1.check()\n",
    "# 負の浮動小数点は常に最も近い整数に切り上げられます (たとえば、-1.1 と -1.9 は両方とも -1 に切り上げられます)。 正の浮動小数点は常に最も近い整数に切り捨てられます (たとえば、2.1 と 2.9 は 2 に切り捨てられます)。"
   ]
  },
  {
   "cell_type": "markdown",
   "id": "fb0f92d6",
   "metadata": {
    "papermill": {
     "duration": 0.009261,
     "end_time": "2023-11-14T07:19:17.288381",
     "exception": false,
     "start_time": "2023-11-14T07:19:17.279120",
     "status": "completed"
    },
    "tags": []
   },
   "source": [
    "# Question 2\n",
    "\n",
    "In the tutorial, you learned about booleans (which can take a value of `True` or `False`), in addition to integers, floats, and strings.  For this question, your goal is to determine what happens when you multiply a boolean by any of these data types.  Specifically, \n",
    "このチュートリアルでは、整数、浮動小数点、文字列に加えて、ブール値 (「True」または「False」の値を取ることができます) について学びました。 この質問の目標は、ブール値にこれらのデータ型のいずれかを乗算すると何が起こるかを判断することです。 具体的には、\n",
    "- What happens when you multiply an integer or float by `True`?  What happens when you multiply them by `False`?  How does the answer change if the numbers are positive or negative?\n",
    "- 整数または浮動小数点に「True」を掛けるとどうなりますか? これらに「False」を掛けるとどうなるでしょうか? 数値が正または負の場合、答えはどう変わりますか?\n",
    "- What happens when you multiply a string by `True`?  By `False`?\n",
    "- 文字列に「True」を掛けるとどうなりますか? False`?\n",
    "\n",
    "Use the next code cell for your investigation. "
   ]
  },
  {
   "cell_type": "code",
   "execution_count": 5,
   "id": "46af7917",
   "metadata": {
    "execution": {
     "iopub.execute_input": "2023-11-14T07:19:17.308694Z",
     "iopub.status.busy": "2023-11-14T07:19:17.308250Z",
     "iopub.status.idle": "2023-11-14T07:19:17.314855Z",
     "shell.execute_reply": "2023-11-14T07:19:17.313709Z"
    },
    "papermill": {
     "duration": 0.020266,
     "end_time": "2023-11-14T07:19:17.317773",
     "exception": false,
     "start_time": "2023-11-14T07:19:17.297507",
     "status": "completed"
    },
    "tags": []
   },
   "outputs": [
    {
     "name": "stdout",
     "output_type": "stream",
     "text": [
      "3\n",
      "-3.1\n",
      "<class 'str'>\n",
      "0\n"
     ]
    }
   ],
   "source": [
    "# Uncomment and run this code to get started!\n",
    "print(3 * True)\n",
    "print(-3.1 * True)\n",
    "print(type(\"abc\" * False))\n",
    "print(len(\"abc\" * False))"
   ]
  },
  {
   "cell_type": "markdown",
   "id": "aacb3049",
   "metadata": {
    "papermill": {
     "duration": 0.008941,
     "end_time": "2023-11-14T07:19:17.336502",
     "exception": false,
     "start_time": "2023-11-14T07:19:17.327561",
     "status": "completed"
    },
    "tags": []
   },
   "source": [
    "Once you have an answer, run the code cell below to see the solution.  Viewing the solution will give you credit for answering the problem."
   ]
  },
  {
   "cell_type": "code",
   "execution_count": 6,
   "id": "007a7915",
   "metadata": {
    "execution": {
     "iopub.execute_input": "2023-11-14T07:19:17.357653Z",
     "iopub.status.busy": "2023-11-14T07:19:17.357196Z",
     "iopub.status.idle": "2023-11-14T07:19:17.367002Z",
     "shell.execute_reply": "2023-11-14T07:19:17.366116Z"
    },
    "papermill": {
     "duration": 0.022948,
     "end_time": "2023-11-14T07:19:17.369339",
     "exception": false,
     "start_time": "2023-11-14T07:19:17.346391",
     "status": "completed"
    },
    "tags": []
   },
   "outputs": [
    {
     "data": {
      "application/javascript": [
       "parent.postMessage({\"jupyterEvent\": \"custom.exercise_interaction\", \"data\": {\"outcomeType\": 1, \"valueTowardsCompletion\": 0.2, \"interactionType\": 1, \"questionType\": 4, \"questionId\": \"2_MultiplyBooleans\", \"learnToolsVersion\": \"0.3.4\", \"failureMessage\": \"\", \"exceptionClass\": \"\", \"trace\": \"\"}}, \"*\")"
      ],
      "text/plain": [
       "<IPython.core.display.Javascript object>"
      ]
     },
     "metadata": {},
     "output_type": "display_data"
    },
    {
     "data": {
      "text/markdown": [
       "<span style=\"color:#33cc33\">Correct:</span> \n",
       "\n",
       "When you multiple an integer or float by a boolean with value `True`, it just returns that same integer or float (and is equivalent to multiplying by 1).  If you multiply an integer or float by a boolean with value `False`, it always returns 0.  This is true for both positive and negative numbers.  If you multiply a string by a boolean with value `True`, it just returns that same string.  And if you multiply a string by a boolean with value `False`, it returns an empty string (or a string with length zero)."
      ],
      "text/plain": [
       "Correct: \n",
       "\n",
       "When you multiple an integer or float by a boolean with value `True`, it just returns that same integer or float (and is equivalent to multiplying by 1).  If you multiply an integer or float by a boolean with value `False`, it always returns 0.  This is true for both positive and negative numbers.  If you multiply a string by a boolean with value `True`, it just returns that same string.  And if you multiply a string by a boolean with value `False`, it returns an empty string (or a string with length zero)."
      ]
     },
     "metadata": {},
     "output_type": "display_data"
    }
   ],
   "source": [
    "# Check your answer (Run this code cell to receive credit!)\n",
    "q2.check()\n",
    "# 整数または浮動小数点に値 True のブール値を乗算すると、同じ整数または浮動小数点が返されます (1 を乗算するのと同じです)。 整数または浮動小数点数に値 False のブール値を乗算すると、常に 0 が返されます。これは、正の数値と負の数値の両方に当てはまります。 文字列に値 True のブール値を乗算すると、同じ文字列が返されます。 また、文字列に値 False のブール値を乗算すると、空の文字列 (または長さ 0 の文字列) が返されます。"
   ]
  },
  {
   "cell_type": "markdown",
   "id": "ea63c51d",
   "metadata": {
    "papermill": {
     "duration": 0.009278,
     "end_time": "2023-11-14T07:19:17.388476",
     "exception": false,
     "start_time": "2023-11-14T07:19:17.379198",
     "status": "completed"
    },
    "tags": []
   },
   "source": [
    "# Question 3\n",
    "\n",
    "In this question, you will build off your work from the previous exercise to write a function that estimates the value of a house.\n",
    "この質問では、前の演習の作業を発展させて、家の価値を推定する関数を作成します。\n",
    "\n",
    "Use the next code cell to create a function `get_expected_cost` that takes as input three variables:\n",
    "- `beds` - number of bedrooms (data type float)\n",
    "- `baths` - number of bathrooms (data type float)\n",
    "- `has_basement` - whether or not the house has a basement (data type boolean)\n",
    "次のコード セルを使用して、3 つの変数を入力として受け取る関数 `get_expected_cost` を作成します。\n",
    "- `beds` - 寝室の数 (データ型 float)\n",
    "- `baths` - バスルームの数 (データ型 float)\n",
    "- `has_basement` - 家に地下室があるかどうか (データ型はブール値)\n",
    "\n",
    "It should return the expected cost of a house with those characteristics. Assume that:\n",
    "- the expected cost for a house with 0 bedrooms and 0 bathrooms, and no basement is 80000, \n",
    "- each bedroom adds 30000 to the expected cost,\n",
    "- each bathroom adds 10000 to the expected cost, and\n",
    "- a basement adds 40000 to the expected cost.\n",
    "これらの特性を持つ住宅の予想コストを返す必要があります。 と仮定する：\n",
    "- ベッドルーム 0、バスルーム 0、地下室なしの家の予想費用は 80,000 です。\n",
    "- 各寝室の予想費用に 30,000 ドルが追加されます。\n",
    "- 各バスルームの予想コストに 10000 が追加されます。\n",
    "- 地下室の場合、予想コストに 40000 が追加されます。\n",
    "\n",
    "For instance,\n",
    "- a house with 1 bedroom, 1 bathroom, and no basement has an expected cost of 80000 + 30000 + 10000 = 120000.  This value will be calculated with `get_expected_cost(1, 1, False)`.\n",
    "- a house with 2 bedrooms, 1 bathroom, and a basement has an expected cost of 80000 + 2*30000 + 10000 + 40000 = 190000.  This value will be calculated with `get_expected_cost(2, 1, True)`.\n",
    "\n",
    "Remember you can always get a hint by uncommenting `q3.hint()` in the code cell following the next!\n",
    "例えば、\n",
    "- ベッドルーム 1 室、バスルーム 1 室、地下室のない家の予想コストは 80000 + 30000 + 10000 = 120000 です。この値は `get_expected_cost(1, 1, False)` で計算されます。\n",
    "- ベッドルーム 2 室、バスルーム 1 室、地下室のある家の予想コストは 80000 + 2*30000 + 10000 + 40000 = 190000 です。この値は `get_expected_cost(2, 1, True)` で計算されます。\n",
    "\n",
    "次のコードセルにある `q3.hint()` のコメントを解除すると、いつでもヒントを取得できることを覚えておいてください。"
   ]
  },
  {
   "cell_type": "code",
   "execution_count": 7,
   "id": "43d3cf5e",
   "metadata": {
    "execution": {
     "iopub.execute_input": "2023-11-14T07:19:17.409981Z",
     "iopub.status.busy": "2023-11-14T07:19:17.408945Z",
     "iopub.status.idle": "2023-11-14T07:19:17.418850Z",
     "shell.execute_reply": "2023-11-14T07:19:17.417962Z"
    },
    "papermill": {
     "duration": 0.023035,
     "end_time": "2023-11-14T07:19:17.421114",
     "exception": false,
     "start_time": "2023-11-14T07:19:17.398079",
     "status": "completed"
    },
    "tags": []
   },
   "outputs": [
    {
     "data": {
      "application/javascript": [
       "parent.postMessage({\"jupyterEvent\": \"custom.exercise_interaction\", \"data\": {\"outcomeType\": 1, \"valueTowardsCompletion\": 0.2, \"interactionType\": 1, \"questionType\": 2, \"questionId\": \"3_EstimateHouseValueBool\", \"learnToolsVersion\": \"0.3.4\", \"failureMessage\": \"\", \"exceptionClass\": \"\", \"trace\": \"\"}}, \"*\")"
      ],
      "text/plain": [
       "<IPython.core.display.Javascript object>"
      ]
     },
     "metadata": {},
     "output_type": "display_data"
    },
    {
     "data": {
      "text/markdown": [
       "<span style=\"color:#33cc33\">Correct</span>"
      ],
      "text/plain": [
       "Correct"
      ]
     },
     "metadata": {},
     "output_type": "display_data"
    }
   ],
   "source": [
    "# TODO: Complete the function\n",
    "def get_expected_cost(beds, baths, has_basement):\n",
    "    value = 80000 + 30000 * beds + 10000 * baths + 40000 * has_basement\n",
    "    return value\n",
    "\n",
    "# Check your answer \n",
    "q3.check()"
   ]
  },
  {
   "cell_type": "code",
   "execution_count": 8,
   "id": "7b0fbc63",
   "metadata": {
    "execution": {
     "iopub.execute_input": "2023-11-14T07:19:17.442994Z",
     "iopub.status.busy": "2023-11-14T07:19:17.442529Z",
     "iopub.status.idle": "2023-11-14T07:19:17.455877Z",
     "shell.execute_reply": "2023-11-14T07:19:17.454726Z"
    },
    "papermill": {
     "duration": 0.027372,
     "end_time": "2023-11-14T07:19:17.458490",
     "exception": false,
     "start_time": "2023-11-14T07:19:17.431118",
     "status": "completed"
    },
    "tags": []
   },
   "outputs": [
    {
     "data": {
      "application/javascript": [
       "parent.postMessage({\"jupyterEvent\": \"custom.exercise_interaction\", \"data\": {\"interactionType\": 2, \"questionType\": 2, \"questionId\": \"3_EstimateHouseValueBool\", \"learnToolsVersion\": \"0.3.4\", \"valueTowardsCompletion\": 0.0, \"failureMessage\": \"\", \"exceptionClass\": \"\", \"trace\": \"\", \"outcomeType\": 4}}, \"*\")"
      ],
      "text/plain": [
       "<IPython.core.display.Javascript object>"
      ]
     },
     "metadata": {},
     "output_type": "display_data"
    },
    {
     "data": {
      "text/markdown": [
       "<span style=\"color:#3366cc\">Hint:</span> The variable `has_basement` is either `True` or `False`.  What happens when you multiply it by 40000 (the value of a basement)?  Refer to the previous question if you are unsure."
      ],
      "text/plain": [
       "Hint: The variable `has_basement` is either `True` or `False`.  What happens when you multiply it by 40000 (the value of a basement)?  Refer to the previous question if you are unsure."
      ]
     },
     "metadata": {},
     "output_type": "display_data"
    },
    {
     "data": {
      "application/javascript": [
       "parent.postMessage({\"jupyterEvent\": \"custom.exercise_interaction\", \"data\": {\"interactionType\": 3, \"questionType\": 2, \"questionId\": \"3_EstimateHouseValueBool\", \"learnToolsVersion\": \"0.3.4\", \"valueTowardsCompletion\": 0.0, \"failureMessage\": \"\", \"exceptionClass\": \"\", \"trace\": \"\", \"outcomeType\": 4}}, \"*\")"
      ],
      "text/plain": [
       "<IPython.core.display.Javascript object>"
      ]
     },
     "metadata": {},
     "output_type": "display_data"
    },
    {
     "data": {
      "text/markdown": [
       "<span style=\"color:#33cc99\">Solution:</span> \n",
       "```python\n",
       "def get_expected_cost(beds, baths, has_basement):\n",
       "    value = 80000 + 30000 * beds + 10000 * baths + 40000 * has_basement\n",
       "    return value\n",
       "\n",
       "```"
      ],
      "text/plain": [
       "Solution: \n",
       "```python\n",
       "def get_expected_cost(beds, baths, has_basement):\n",
       "    value = 80000 + 30000 * beds + 10000 * baths + 40000 * has_basement\n",
       "    return value\n",
       "\n",
       "```"
      ]
     },
     "metadata": {},
     "output_type": "display_data"
    }
   ],
   "source": [
    "# Uncomment to see a hint\n",
    "q3.hint()\n",
    "\n",
    "# Uncomment to view the solution\n",
    "q3.solution()"
   ]
  },
  {
   "cell_type": "markdown",
   "id": "3d7e2237",
   "metadata": {
    "papermill": {
     "duration": 0.010668,
     "end_time": "2023-11-14T07:19:17.479864",
     "exception": false,
     "start_time": "2023-11-14T07:19:17.469196",
     "status": "completed"
    },
    "tags": []
   },
   "source": [
    "# Question 4\n",
    "\n",
    "We'll continue our study of boolean arithmetic.  For this question, your task is to provide a description of what happpens when you add booleans. \n",
    "ブール演算の勉強を続けていきます。 この質問の場合、あなたの仕事は、ブール値を追加すると何が起こるかを説明することです。\n",
    "\n",
    "Use the next code cell for your investigation.  Feel free to add or remove any lines of code - use it as your workspace!\n",
    "調査には次のコード セルを使用してください。 コード行を自由に追加または削除して、ワークスペースとして使用してください。"
   ]
  },
  {
   "cell_type": "code",
   "execution_count": 9,
   "id": "7562e4b7",
   "metadata": {
    "execution": {
     "iopub.execute_input": "2023-11-14T07:19:17.503432Z",
     "iopub.status.busy": "2023-11-14T07:19:17.502977Z",
     "iopub.status.idle": "2023-11-14T07:19:17.510039Z",
     "shell.execute_reply": "2023-11-14T07:19:17.508815Z"
    },
    "papermill": {
     "duration": 0.022235,
     "end_time": "2023-11-14T07:19:17.512854",
     "exception": false,
     "start_time": "2023-11-14T07:19:17.490619",
     "status": "completed"
    },
    "tags": []
   },
   "outputs": [
    {
     "name": "stdout",
     "output_type": "stream",
     "text": [
      "0\n",
      "1\n",
      "1\n",
      "2\n",
      "3\n"
     ]
    }
   ],
   "source": [
    "print(False + False)\n",
    "print(True + False)\n",
    "print(False + True)\n",
    "print(True + True)\n",
    "print(False + True + True + True)"
   ]
  },
  {
   "cell_type": "code",
   "execution_count": 10,
   "id": "ba59e780",
   "metadata": {
    "execution": {
     "iopub.execute_input": "2023-11-14T07:19:17.536185Z",
     "iopub.status.busy": "2023-11-14T07:19:17.535783Z",
     "iopub.status.idle": "2023-11-14T07:19:17.545328Z",
     "shell.execute_reply": "2023-11-14T07:19:17.544114Z"
    },
    "papermill": {
     "duration": 0.024119,
     "end_time": "2023-11-14T07:19:17.547848",
     "exception": false,
     "start_time": "2023-11-14T07:19:17.523729",
     "status": "completed"
    },
    "tags": []
   },
   "outputs": [
    {
     "data": {
      "application/javascript": [
       "parent.postMessage({\"jupyterEvent\": \"custom.exercise_interaction\", \"data\": {\"outcomeType\": 1, \"valueTowardsCompletion\": 0.2, \"interactionType\": 1, \"questionType\": 4, \"questionId\": \"4_AddingBooleans\", \"learnToolsVersion\": \"0.3.4\", \"failureMessage\": \"\", \"exceptionClass\": \"\", \"trace\": \"\"}}, \"*\")"
      ],
      "text/plain": [
       "<IPython.core.display.Javascript object>"
      ]
     },
     "metadata": {},
     "output_type": "display_data"
    },
    {
     "data": {
      "text/markdown": [
       "<span style=\"color:#33cc33\">Correct:</span> \n",
       "\n",
       "When you add booleans, adding `False` is equivalent to adding 0, and adding `True` is equivalent to adding 1."
      ],
      "text/plain": [
       "Correct: \n",
       "\n",
       "When you add booleans, adding `False` is equivalent to adding 0, and adding `True` is equivalent to adding 1."
      ]
     },
     "metadata": {},
     "output_type": "display_data"
    }
   ],
   "source": [
    "# Check your answer (Run this code cell to receive credit!)\n",
    "q4.check()"
   ]
  },
  {
   "cell_type": "markdown",
   "id": "24d1d349",
   "metadata": {
    "papermill": {
     "duration": 0.010737,
     "end_time": "2023-11-14T07:19:17.570311",
     "exception": false,
     "start_time": "2023-11-14T07:19:17.559574",
     "status": "completed"
    },
    "tags": []
   },
   "source": [
    "# 🌶️ Question 5\n",
    "\n",
    "You own an online shop where you sell rings with custom engravings.  You offer both gold plated and solid gold rings.\n",
    "あなたは、カスタム彫刻を施したリングを販売するオンライン ショップを経営しています。 ゴールドメッキリングと純金リングの両方を提供しています。\n",
    "\n",
    "- Gold plated rings have a base cost of \\\\$50, and you charge \\\\$7 per engraved unit.  \n",
    "- Solid gold rings have a base cost of \\\\$100, and you charge \\\\$10 per engraved unit.\n",
    "- Spaces and punctuation are counted as engraved units.\n",
    "- ゴールドメッキリングの基本料金は \\\\$50 で、彫刻単位ごとに \\\\$7 かかります。\n",
    "- 純金リングの基本価格は \\\\$100 で、彫刻単位ごとに \\\\$10 かかります。\n",
    "- スペースと句読点も彫刻単位としてカウントされます。\n",
    "\n",
    "Write a function `cost_of_project()` that takes two arguments:\n",
    "- `engraving` - a Python string with the text of the engraving\n",
    "- `solid_gold` - a Boolean that indicates whether the ring is solid gold\n",
    "2 つの引数を取る関数 `cost_of_project()` を作成します。\n",
    "- `engraving` - 彫刻のテキストを含む Python 文字列\n",
    "- `solid_gold` - リングが純金かどうかを示すブール値\n",
    "\n",
    "It should return the cost of the project.  This question should be fairly challenging, and you may need a hint."
   ]
  },
  {
   "cell_type": "code",
   "execution_count": 11,
   "id": "ae9580e5",
   "metadata": {
    "execution": {
     "iopub.execute_input": "2023-11-14T07:19:17.595556Z",
     "iopub.status.busy": "2023-11-14T07:19:17.595117Z",
     "iopub.status.idle": "2023-11-14T07:19:17.605496Z",
     "shell.execute_reply": "2023-11-14T07:19:17.604421Z"
    },
    "papermill": {
     "duration": 0.026656,
     "end_time": "2023-11-14T07:19:17.607963",
     "exception": false,
     "start_time": "2023-11-14T07:19:17.581307",
     "status": "completed"
    },
    "tags": []
   },
   "outputs": [
    {
     "data": {
      "application/javascript": [
       "parent.postMessage({\"jupyterEvent\": \"custom.exercise_interaction\", \"data\": {\"outcomeType\": 1, \"valueTowardsCompletion\": 0.2, \"interactionType\": 1, \"questionType\": 2, \"questionId\": \"5_CustomEngravings\", \"learnToolsVersion\": \"0.3.4\", \"failureMessage\": \"\", \"exceptionClass\": \"\", \"trace\": \"\"}}, \"*\")"
      ],
      "text/plain": [
       "<IPython.core.display.Javascript object>"
      ]
     },
     "metadata": {},
     "output_type": "display_data"
    },
    {
     "data": {
      "text/markdown": [
       "<span style=\"color:#33cc33\">Correct</span>"
      ],
      "text/plain": [
       "Correct"
      ]
     },
     "metadata": {},
     "output_type": "display_data"
    }
   ],
   "source": [
    "def cost_of_project(engraving, solid_gold):\n",
    "    cost =  solid_gold * (100 + 10 * len(engraving)) + (not solid_gold) * (50 + 7 * len(engraving))\n",
    "    return cost\n",
    "\n",
    "# Check your answer\n",
    "q5.check()"
   ]
  },
  {
   "cell_type": "code",
   "execution_count": 12,
   "id": "508c00ac",
   "metadata": {
    "execution": {
     "iopub.execute_input": "2023-11-14T07:19:17.633365Z",
     "iopub.status.busy": "2023-11-14T07:19:17.632937Z",
     "iopub.status.idle": "2023-11-14T07:19:17.646480Z",
     "shell.execute_reply": "2023-11-14T07:19:17.645185Z"
    },
    "papermill": {
     "duration": 0.028746,
     "end_time": "2023-11-14T07:19:17.648993",
     "exception": false,
     "start_time": "2023-11-14T07:19:17.620247",
     "status": "completed"
    },
    "tags": []
   },
   "outputs": [
    {
     "data": {
      "application/javascript": [
       "parent.postMessage({\"jupyterEvent\": \"custom.exercise_interaction\", \"data\": {\"interactionType\": 2, \"questionType\": 2, \"questionId\": \"5_CustomEngravings\", \"learnToolsVersion\": \"0.3.4\", \"valueTowardsCompletion\": 0.0, \"failureMessage\": \"\", \"exceptionClass\": \"\", \"trace\": \"\", \"outcomeType\": 4}}, \"*\")"
      ],
      "text/plain": [
       "<IPython.core.display.Javascript object>"
      ]
     },
     "metadata": {},
     "output_type": "display_data"
    },
    {
     "data": {
      "text/markdown": [
       "<span style=\"color:#3366cc\">Hint:</span> There are two options - either the project uses solid gold or does not.  With this in mind, you can structure your solution like this: `cost = solid_gold * ____ + (not solid_gold) * ____`.  You need to figure out how to fill in the blanks. Also, remember that:\n",
       "- If `solid_gold = True`, then `(not solid_gold) = False`, and if `solid_gold = False`, then `(not solid_gold) = True`.\n",
       "- Multiplying an integer by `True` is equivalent to multiplying it by 1, and multiplying an integer by `False` is equivalent to multiplying it by 0."
      ],
      "text/plain": [
       "Hint: There are two options - either the project uses solid gold or does not.  With this in mind, you can structure your solution like this: `cost = solid_gold * ____ + (not solid_gold) * ____`.  You need to figure out how to fill in the blanks. Also, remember that:\n",
       "- If `solid_gold = True`, then `(not solid_gold) = False`, and if `solid_gold = False`, then `(not solid_gold) = True`.\n",
       "- Multiplying an integer by `True` is equivalent to multiplying it by 1, and multiplying an integer by `False` is equivalent to multiplying it by 0."
      ]
     },
     "metadata": {},
     "output_type": "display_data"
    },
    {
     "data": {
      "application/javascript": [
       "parent.postMessage({\"jupyterEvent\": \"custom.exercise_interaction\", \"data\": {\"interactionType\": 3, \"questionType\": 2, \"questionId\": \"5_CustomEngravings\", \"learnToolsVersion\": \"0.3.4\", \"valueTowardsCompletion\": 0.0, \"failureMessage\": \"\", \"exceptionClass\": \"\", \"trace\": \"\", \"outcomeType\": 4}}, \"*\")"
      ],
      "text/plain": [
       "<IPython.core.display.Javascript object>"
      ]
     },
     "metadata": {},
     "output_type": "display_data"
    },
    {
     "data": {
      "text/markdown": [
       "<span style=\"color:#33cc99\">Solution:</span> \n",
       "```python\n",
       "def cost_of_project(engraving, solid_gold):\n",
       "    cost = solid_gold * (100 + 10 * len(engraving)) + (not solid_gold) * (50 + 7 * len(engraving))\n",
       "    return cost\n",
       "\n",
       "```"
      ],
      "text/plain": [
       "Solution: \n",
       "```python\n",
       "def cost_of_project(engraving, solid_gold):\n",
       "    cost = solid_gold * (100 + 10 * len(engraving)) + (not solid_gold) * (50 + 7 * len(engraving))\n",
       "    return cost\n",
       "\n",
       "```"
      ]
     },
     "metadata": {},
     "output_type": "display_data"
    }
   ],
   "source": [
    "# Uncomment to see a hint\n",
    "q5.hint()\n",
    "\n",
    "# Uncomment to view the solution\n",
    "q5.solution()"
   ]
  },
  {
   "cell_type": "markdown",
   "id": "c82fae11",
   "metadata": {
    "papermill": {
     "duration": 0.012041,
     "end_time": "2023-11-14T07:19:17.673062",
     "exception": false,
     "start_time": "2023-11-14T07:19:17.661021",
     "status": "completed"
    },
    "tags": []
   },
   "source": [
    "Run the next code cell to calculate the cost of engraving `Charlie+Denver` on a solid gold ring.\n",
    "次のコード セルを実行して、純金のリングに「Charlie+Denver」を彫刻するコストを計算します。"
   ]
  },
  {
   "cell_type": "code",
   "execution_count": 13,
   "id": "ffb2e46e",
   "metadata": {
    "execution": {
     "iopub.execute_input": "2023-11-14T07:19:17.699175Z",
     "iopub.status.busy": "2023-11-14T07:19:17.698759Z",
     "iopub.status.idle": "2023-11-14T07:19:17.703883Z",
     "shell.execute_reply": "2023-11-14T07:19:17.702707Z"
    },
    "papermill": {
     "duration": 0.022142,
     "end_time": "2023-11-14T07:19:17.707283",
     "exception": false,
     "start_time": "2023-11-14T07:19:17.685141",
     "status": "completed"
    },
    "tags": []
   },
   "outputs": [
    {
     "name": "stdout",
     "output_type": "stream",
     "text": [
      "240\n"
     ]
    }
   ],
   "source": [
    "project_one = cost_of_project(\"Charlie+Denver\", True)\n",
    "print(project_one)"
   ]
  },
  {
   "cell_type": "markdown",
   "id": "68aaa2d8",
   "metadata": {
    "papermill": {
     "duration": 0.012024,
     "end_time": "2023-11-14T07:19:17.731618",
     "exception": false,
     "start_time": "2023-11-14T07:19:17.719594",
     "status": "completed"
    },
    "tags": []
   },
   "source": [
    "Use the next code cell to calculate the cost of engraving `08/10/2000` on a gold plated ring."
   ]
  },
  {
   "cell_type": "code",
   "execution_count": 14,
   "id": "8adf66d0",
   "metadata": {
    "execution": {
     "iopub.execute_input": "2023-11-14T07:19:17.757938Z",
     "iopub.status.busy": "2023-11-14T07:19:17.757543Z",
     "iopub.status.idle": "2023-11-14T07:19:17.763748Z",
     "shell.execute_reply": "2023-11-14T07:19:17.762406Z"
    },
    "papermill": {
     "duration": 0.02288,
     "end_time": "2023-11-14T07:19:17.766659",
     "exception": false,
     "start_time": "2023-11-14T07:19:17.743779",
     "status": "completed"
    },
    "tags": []
   },
   "outputs": [
    {
     "name": "stdout",
     "output_type": "stream",
     "text": [
      "120\n"
     ]
    }
   ],
   "source": [
    "project_two = cost_of_project(\"08/10/2000\", False)\n",
    "print(project_two)"
   ]
  },
  {
   "cell_type": "markdown",
   "id": "e9f6478a",
   "metadata": {
    "papermill": {
     "duration": 0.011901,
     "end_time": "2023-11-14T07:19:17.790734",
     "exception": false,
     "start_time": "2023-11-14T07:19:17.778833",
     "status": "completed"
    },
    "tags": []
   },
   "source": [
    "# Keep going\n",
    "\n",
    "Continue to the next lesson to **[learn about conditions and conditional statements](https://www.kaggle.com/alexisbcook/conditions-and-conditional-statements)**."
   ]
  },
  {
   "cell_type": "markdown",
   "id": "bd9ff39f",
   "metadata": {
    "papermill": {
     "duration": 0.011875,
     "end_time": "2023-11-14T07:19:17.814845",
     "exception": false,
     "start_time": "2023-11-14T07:19:17.802970",
     "status": "completed"
    },
    "tags": []
   },
   "source": [
    "---\n",
    "\n",
    "\n",
    "\n",
    "\n",
    "*Have questions or comments? Visit the [course discussion forum](https://www.kaggle.com/learn/intro-to-programming/discussion) to chat with other learners.*"
   ]
  }
 ],
 "metadata": {
  "kernelspec": {
   "display_name": "Python 3",
   "language": "python",
   "name": "python3"
  },
  "language_info": {
   "codemirror_mode": {
    "name": "ipython",
    "version": 3
   },
   "file_extension": ".py",
   "mimetype": "text/x-python",
   "name": "python",
   "nbconvert_exporter": "python",
   "pygments_lexer": "ipython3",
   "version": "3.10.12"
  },
  "papermill": {
   "default_parameters": {},
   "duration": 7.560117,
   "end_time": "2023-11-14T07:19:20.547732",
   "environment_variables": {},
   "exception": null,
   "input_path": "__notebook__.ipynb",
   "output_path": "__notebook__.ipynb",
   "parameters": {},
   "start_time": "2023-11-14T07:19:12.987615",
   "version": "2.4.0"
  }
 },
 "nbformat": 4,
 "nbformat_minor": 5
}
