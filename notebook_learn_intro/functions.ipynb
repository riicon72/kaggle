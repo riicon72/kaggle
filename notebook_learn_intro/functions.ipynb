{
 "cells": [
  {
   "cell_type": "markdown",
   "id": "be28883b",
   "metadata": {
    "papermill": {
     "duration": 0.008959,
     "end_time": "2023-11-14T07:10:37.601831",
     "exception": false,
     "start_time": "2023-11-14T07:10:37.592872",
     "status": "completed"
    },
    "tags": []
   },
   "source": [
    "日本人向けに日本語訳を入れました。 言い回しが間違っていたらすみません。 お役に立てれば幸いです"
   ]
  },
  {
   "cell_type": "markdown",
   "id": "552bd0fb",
   "metadata": {
    "papermill": {
     "duration": 0.007886,
     "end_time": "2023-11-14T07:10:37.618205",
     "exception": false,
     "start_time": "2023-11-14T07:10:37.610319",
     "status": "completed"
    },
    "tags": []
   },
   "source": [
    "In the tutorial, you learned about functions. In this exercise, you'll write some of your own!\n",
    "チュートリアルでは関数について学びました。この演習では、あなた自身の関数をいくつか書いてみましょう！\n",
    "\n",
    "# Set up the notebook\n",
    "\n",
    "Run the next code cell without changes to set up the notebook.\n",
    "次のコード・セルを変更なしで実行し、ノートブックをセットアップする。"
   ]
  },
  {
   "cell_type": "code",
   "execution_count": 1,
   "id": "4c688235",
   "metadata": {
    "execution": {
     "iopub.execute_input": "2023-11-14T07:10:37.639290Z",
     "iopub.status.busy": "2023-11-14T07:10:37.638508Z",
     "iopub.status.idle": "2023-11-14T07:10:38.164172Z",
     "shell.execute_reply": "2023-11-14T07:10:38.162524Z"
    },
    "papermill": {
     "duration": 0.539578,
     "end_time": "2023-11-14T07:10:38.167181",
     "exception": false,
     "start_time": "2023-11-14T07:10:37.627603",
     "status": "completed"
    },
    "tags": []
   },
   "outputs": [
    {
     "name": "stdout",
     "output_type": "stream",
     "text": [
      "Setup complete.\n"
     ]
    }
   ],
   "source": [
    "# Set up the exercise\n",
    "import math\n",
    "from learntools.core import binder\n",
    "binder.bind(globals())\n",
    "from learntools.intro_to_programming.ex2 import *\n",
    "print('Setup complete.')"
   ]
  },
  {
   "cell_type": "markdown",
   "id": "292907af",
   "metadata": {
    "papermill": {
     "duration": 0.008269,
     "end_time": "2023-11-14T07:10:38.184086",
     "exception": false,
     "start_time": "2023-11-14T07:10:38.175817",
     "status": "completed"
    },
    "tags": []
   },
   "source": [
    "# Question 1\n",
    "\n",
    "In the [House Prices - Advanced Regression Techniques competition](https://www.kaggle.com/c/house-prices-advanced-regression-techniques/overview), you need to use information like the number of bedrooms and bathrooms to predict the price of a house.  Inspired by this competition, you'll write your own function to do this.\n",
    "House Prices - Advanced Regression Techniques competition](https://www.kaggle.com/c/house-prices-advanced-regression-techniques/overview)では、ベッドルームやバスルームの数などの情報を使って、家の価格を予測する必要があります。 このコンペティションに触発されて、あなたはこれを行う独自の関数を書きます。\n",
    "\n",
    "In the next code cell, create a function `get_expected_cost()` that has two arguments:\n",
    "次のコードセルで、2つの引数を持つ関数 `get_expected_cost()` を作成する：\n",
    "- `beds` - number of bedrooms \n",
    "- `baths` - number of bathrooms\n",
    "- beds` - ベッドルームの数 \n",
    "- baths` - バスルームの数\n",
    "\n",
    "\n",
    "It should return the expected cost of a house with that number of bedrooms and bathrooms.  Assume that:\n",
    "その数のベッドルームとバスルームを持つ家の予想コストを返す必要がある。 と仮定する：\n",
    "- the expected cost for a house with 0 bedrooms and 0 bathrooms is `80000`.  - 寝室0、バスルーム0の家の期待コストは`80000`である。 \n",
    "- each bedroom adds `30000` to the expected cost\n",
    "- 寝室は1室につき30000`追加される。\n",
    "- each bathroom adds `10000` to the expected cost.\n",
    "- バスルームは1つにつき10000`追加される。\n",
    "For instance, \n",
    "- a house with 1 bedroom and 1 bathroom has an expected cost of `120000`, \n",
    "- 寝室が1つ、バスルームが1つある家の予想コストは`120000`であり、寝室が2つ、バスルームが1つある家の予想コストは`150000`である。\n",
    "- a house with 2 bedrooms and 1 bathroom has an expected cost of `150000`.\n",
    "- ベッドルームが2つ、バスルームが1つある家の予想コストは`150000`である。"
   ]
  },
  {
   "cell_type": "code",
   "execution_count": 2,
   "id": "3b79e3d6",
   "metadata": {
    "execution": {
     "iopub.execute_input": "2023-11-14T07:10:38.203919Z",
     "iopub.status.busy": "2023-11-14T07:10:38.202889Z",
     "iopub.status.idle": "2023-11-14T07:10:38.215395Z",
     "shell.execute_reply": "2023-11-14T07:10:38.214040Z"
    },
    "papermill": {
     "duration": 0.025512,
     "end_time": "2023-11-14T07:10:38.218170",
     "exception": false,
     "start_time": "2023-11-14T07:10:38.192658",
     "status": "completed"
    },
    "tags": []
   },
   "outputs": [
    {
     "data": {
      "application/javascript": [
       "parent.postMessage({\"jupyterEvent\": \"custom.exercise_interaction\", \"data\": {\"outcomeType\": 1, \"valueTowardsCompletion\": 0.2, \"interactionType\": 1, \"questionType\": 2, \"questionId\": \"1_GetExpectedCost\", \"learnToolsVersion\": \"0.3.4\", \"failureMessage\": \"\", \"exceptionClass\": \"\", \"trace\": \"\"}}, \"*\")"
      ],
      "text/plain": [
       "<IPython.core.display.Javascript object>"
      ]
     },
     "metadata": {},
     "output_type": "display_data"
    },
    {
     "data": {
      "text/markdown": [
       "<span style=\"color:#33cc33\">Correct</span>"
      ],
      "text/plain": [
       "Correct"
      ]
     },
     "metadata": {},
     "output_type": "display_data"
    }
   ],
   "source": [
    "# TODO: Complete the function\n",
    "def get_expected_cost(beds, baths):\n",
    "    value = 80000 + 30000 * beds + 10000 * baths\n",
    "    return value\n",
    "\n",
    "# Check your answer \n",
    "q1.check()"
   ]
  },
  {
   "cell_type": "code",
   "execution_count": 3,
   "id": "1d476ed1",
   "metadata": {
    "execution": {
     "iopub.execute_input": "2023-11-14T07:10:38.239517Z",
     "iopub.status.busy": "2023-11-14T07:10:38.239062Z",
     "iopub.status.idle": "2023-11-14T07:10:38.254308Z",
     "shell.execute_reply": "2023-11-14T07:10:38.252905Z"
    },
    "papermill": {
     "duration": 0.029078,
     "end_time": "2023-11-14T07:10:38.257217",
     "exception": false,
     "start_time": "2023-11-14T07:10:38.228139",
     "status": "completed"
    },
    "tags": []
   },
   "outputs": [
    {
     "data": {
      "application/javascript": [
       "parent.postMessage({\"jupyterEvent\": \"custom.exercise_interaction\", \"data\": {\"interactionType\": 2, \"questionType\": 2, \"questionId\": \"1_GetExpectedCost\", \"learnToolsVersion\": \"0.3.4\", \"valueTowardsCompletion\": 0.0, \"failureMessage\": \"\", \"exceptionClass\": \"\", \"trace\": \"\", \"outcomeType\": 4}}, \"*\")"
      ],
      "text/plain": [
       "<IPython.core.display.Javascript object>"
      ]
     },
     "metadata": {},
     "output_type": "display_data"
    },
    {
     "data": {
      "text/markdown": [
       "<span style=\"color:#3366cc\">Hint:</span> The value should be the base cost (`80000`), plus the total cost of the bedrooms (`30000 * beds`), plus the total cost of the bathrooms (`10000 * baths`)."
      ],
      "text/plain": [
       "Hint: The value should be the base cost (`80000`), plus the total cost of the bedrooms (`30000 * beds`), plus the total cost of the bathrooms (`10000 * baths`)."
      ]
     },
     "metadata": {},
     "output_type": "display_data"
    },
    {
     "data": {
      "application/javascript": [
       "parent.postMessage({\"jupyterEvent\": \"custom.exercise_interaction\", \"data\": {\"interactionType\": 3, \"questionType\": 2, \"questionId\": \"1_GetExpectedCost\", \"learnToolsVersion\": \"0.3.4\", \"valueTowardsCompletion\": 0.0, \"failureMessage\": \"\", \"exceptionClass\": \"\", \"trace\": \"\", \"outcomeType\": 4}}, \"*\")"
      ],
      "text/plain": [
       "<IPython.core.display.Javascript object>"
      ]
     },
     "metadata": {},
     "output_type": "display_data"
    },
    {
     "data": {
      "text/markdown": [
       "<span style=\"color:#33cc99\">Solution:</span> \n",
       "```python\n",
       "\n",
       "def get_expected_cost(beds, baths):\n",
       "    value = 80000 + 30000 * beds + 10000 * baths\n",
       "    return value\n",
       "\n",
       "```"
      ],
      "text/plain": [
       "Solution: \n",
       "```python\n",
       "\n",
       "def get_expected_cost(beds, baths):\n",
       "    value = 80000 + 30000 * beds + 10000 * baths\n",
       "    return value\n",
       "\n",
       "```"
      ]
     },
     "metadata": {},
     "output_type": "display_data"
    }
   ],
   "source": [
    "# Uncomment to see a hint\n",
    "q1.hint()\n",
    "# ヒント：値は基本料金（80000）、寝室の合計料金（30000 * ベッド）、バスルームの合計料金（10000 * バスタブ）とする。\n",
    "# Uncomment to view the solution\n",
    "q1.solution()"
   ]
  },
  {
   "cell_type": "markdown",
   "id": "3a5167cc",
   "metadata": {
    "papermill": {
     "duration": 0.009525,
     "end_time": "2023-11-14T07:10:38.277078",
     "exception": false,
     "start_time": "2023-11-14T07:10:38.267553",
     "status": "completed"
    },
    "tags": []
   },
   "source": [
    "# Question 2\n",
    "\n",
    "You are thinking about buying a home and want to get an idea of how much you will spend, based on the number of bedrooms and bathrooms.  You are trying to decide between four different options:\n",
    "あなたは住宅購入を考えており、寝室とバスルームの数に基づいて、どのくらいの費用がかかるか見当をつけたいと考えています。 あなたは4つの異なる選択肢の中から決めようとしています：\n",
    "- Option 1: house with two bedrooms and three bathrooms\n",
    "- Option 2: house with three bedrooms and two bathrooms\n",
    "- Option 3: house with three bedrooms and three bathrooms\n",
    "- Option 4: house with three bedrooms and four bathrooms\n",
    "- オプション1：2ベッドルーム、3バスルームの家\n",
    "- オプション2：3ベッドルームと2バスルームの家\n",
    "- オプション3：3ベッドルームと3バスルームの家\n",
    "- オプション4：3ベッドルーム、4バスルームの家\n",
    "Use the `get_expected_cost()` function you defined in question 1 to set `option_1`, `option_2`, `option_3`, and `option_4` to the expected cost of each option.\n",
    "問題1で定義した `get_expected_cost()` 関数を使用して、`option_1`, `option_2`, `option_3`, `option_4` を各オプションの期待コストに設定する。"
   ]
  },
  {
   "cell_type": "code",
   "execution_count": 4,
   "id": "058c072c",
   "metadata": {
    "execution": {
     "iopub.execute_input": "2023-11-14T07:10:38.299363Z",
     "iopub.status.busy": "2023-11-14T07:10:38.298934Z",
     "iopub.status.idle": "2023-11-14T07:10:38.312823Z",
     "shell.execute_reply": "2023-11-14T07:10:38.311310Z"
    },
    "papermill": {
     "duration": 0.029176,
     "end_time": "2023-11-14T07:10:38.316286",
     "exception": false,
     "start_time": "2023-11-14T07:10:38.287110",
     "status": "completed"
    },
    "tags": []
   },
   "outputs": [
    {
     "name": "stdout",
     "output_type": "stream",
     "text": [
      "170000\n",
      "190000\n",
      "200000\n",
      "210000\n"
     ]
    },
    {
     "data": {
      "application/javascript": [
       "parent.postMessage({\"jupyterEvent\": \"custom.exercise_interaction\", \"data\": {\"outcomeType\": 1, \"valueTowardsCompletion\": 0.2, \"interactionType\": 1, \"questionType\": 1, \"questionId\": \"2_RunGetExpectedCost\", \"learnToolsVersion\": \"0.3.4\", \"failureMessage\": \"\", \"exceptionClass\": \"\", \"trace\": \"\"}}, \"*\")"
      ],
      "text/plain": [
       "<IPython.core.display.Javascript object>"
      ]
     },
     "metadata": {},
     "output_type": "display_data"
    },
    {
     "data": {
      "text/markdown": [
       "<span style=\"color:#33cc33\">Correct</span>"
      ],
      "text/plain": [
       "Correct"
      ]
     },
     "metadata": {},
     "output_type": "display_data"
    }
   ],
   "source": [
    "# TODO: Use the get_expected_cost function to fill in each value\n",
    "option_one = get_expected_cost(2, 3)\n",
    "option_two = get_expected_cost(3, 2)\n",
    "option_three = get_expected_cost(3, 3)\n",
    "option_four = get_expected_cost(3, 4)\n",
    "\n",
    "print(option_one)\n",
    "print(option_two)\n",
    "print(option_three)\n",
    "print(option_four)\n",
    "\n",
    "# Check your answer\n",
    "q2.check()"
   ]
  },
  {
   "cell_type": "code",
   "execution_count": 5,
   "id": "d43a0ed4",
   "metadata": {
    "execution": {
     "iopub.execute_input": "2023-11-14T07:10:38.340794Z",
     "iopub.status.busy": "2023-11-14T07:10:38.340034Z",
     "iopub.status.idle": "2023-11-14T07:10:38.351868Z",
     "shell.execute_reply": "2023-11-14T07:10:38.351062Z"
    },
    "papermill": {
     "duration": 0.026497,
     "end_time": "2023-11-14T07:10:38.354162",
     "exception": false,
     "start_time": "2023-11-14T07:10:38.327665",
     "status": "completed"
    },
    "tags": []
   },
   "outputs": [
    {
     "data": {
      "application/javascript": [
       "parent.postMessage({\"jupyterEvent\": \"custom.exercise_interaction\", \"data\": {\"interactionType\": 2, \"questionType\": 1, \"questionId\": \"2_RunGetExpectedCost\", \"learnToolsVersion\": \"0.3.4\", \"valueTowardsCompletion\": 0.0, \"failureMessage\": \"\", \"exceptionClass\": \"\", \"trace\": \"\", \"outcomeType\": 4}}, \"*\")"
      ],
      "text/plain": [
       "<IPython.core.display.Javascript object>"
      ]
     },
     "metadata": {},
     "output_type": "display_data"
    },
    {
     "data": {
      "text/markdown": [
       "<span style=\"color:#3366cc\">Hint:</span> If `option_five` needed to have the expected cost of a house with five bedrooms and three bathrooms, we would write `option_five = get_expected_cost(5, 3)`."
      ],
      "text/plain": [
       "Hint: If `option_five` needed to have the expected cost of a house with five bedrooms and three bathrooms, we would write `option_five = get_expected_cost(5, 3)`."
      ]
     },
     "metadata": {},
     "output_type": "display_data"
    },
    {
     "data": {
      "application/javascript": [
       "parent.postMessage({\"jupyterEvent\": \"custom.exercise_interaction\", \"data\": {\"interactionType\": 3, \"questionType\": 1, \"questionId\": \"2_RunGetExpectedCost\", \"learnToolsVersion\": \"0.3.4\", \"valueTowardsCompletion\": 0.0, \"failureMessage\": \"\", \"exceptionClass\": \"\", \"trace\": \"\", \"outcomeType\": 4}}, \"*\")"
      ],
      "text/plain": [
       "<IPython.core.display.Javascript object>"
      ]
     },
     "metadata": {},
     "output_type": "display_data"
    },
    {
     "data": {
      "text/markdown": [
       "<span style=\"color:#33cc99\">Solution:</span> \n",
       "```python\n",
       "# Use the get_expected_cost function to fill in each value\n",
       "option_one = get_expected_cost(2, 3)\n",
       "option_two = get_expected_cost(3, 2)\n",
       "option_three = get_expected_cost(3, 3)\n",
       "option_four = get_expected_cost(3, 4)\n",
       "\n",
       "```"
      ],
      "text/plain": [
       "Solution: \n",
       "```python\n",
       "# Use the get_expected_cost function to fill in each value\n",
       "option_one = get_expected_cost(2, 3)\n",
       "option_two = get_expected_cost(3, 2)\n",
       "option_three = get_expected_cost(3, 3)\n",
       "option_four = get_expected_cost(3, 4)\n",
       "\n",
       "```"
      ]
     },
     "metadata": {},
     "output_type": "display_data"
    }
   ],
   "source": [
    "# Uncomment to see a hint\n",
    "q2.hint()\n",
    "# ヒント：もしoption_fiveが寝室が5つ、バスルームが3つある家の期待コストを知りたいなら、option_five = get_expected_cost(5, 3)と書く。\n",
    "# Uncomment to view the solution\n",
    "q2.solution()"
   ]
  },
  {
   "cell_type": "markdown",
   "id": "f943d8d7",
   "metadata": {
    "papermill": {
     "duration": 0.010207,
     "end_time": "2023-11-14T07:10:38.375516",
     "exception": false,
     "start_time": "2023-11-14T07:10:38.365309",
     "status": "completed"
    },
    "tags": []
   },
   "source": [
    "# Question 3\n",
    "\n",
    "You're a home decorator, and you'd like to use Python to streamline some of your work.  Specifically, you're creating a tool that you intend to use to calculate the cost of painting a room.\n",
    "あなたはインテリアデザイナーで、Pythonを使って仕事の一部を効率化したいと考えています。 具体的には、部屋のペンキ塗りの費用を計算するツールを作ろうとしています。\n",
    "\n",
    "As a first step, define a function `get_cost()` that takes as input:\n",
    "- `sqft_walls` = total square feet of walls to be painted\n",
    "- `sqft_ceiling` = square feet of ceiling to be painted\n",
    "- `sqft_per_gallon` = number of square feet that you can cover with one gallon of paint\n",
    "- `cost_per_gallon` = cost (in dollars) of one gallon of paint\n",
    "最初のステップとして、関数 `get_cost()` を定義する：\n",
    "- sqft_walls` = 塗装する壁の合計平方フィート\n",
    "- sqft_ceiling` = 塗装する天井の平方フィート\n",
    "- `sqft_per_gallon` = 1ガロンのペンキで塗れる平方フィートの数\n",
    "- cost_per_gallon` = 1ガロンのペンキの値段（ドル）。\n",
    "\n",
    "It should return the cost (in dollars) of putting one coat of paint on all walls and the ceiling.  Assume you can buy the exact amount of paint that you need, so you can buy partial gallons (e.g., if you need 7.523 gallons, you can buy that exact amount, instead of needing to buy 8 gallons and waste some paint).  Do not round your answer.\n",
    "すべての壁と天井にペンキを1回塗るのにかかる費用（ドル）を返してくれるはずです。 必要な量のペンキを正確に購入できると仮定し、部分的にガロンを購入することができます（例えば、7.523ガロンが必要な場合、8ガロンを購入する必要があり、いくつかの塗料を無駄にする代わりに、正確な量を購入することができます）。 答えは丸めないでください。"
   ]
  },
  {
   "cell_type": "code",
   "execution_count": 6,
   "id": "a24adaac",
   "metadata": {
    "execution": {
     "iopub.execute_input": "2023-11-14T07:10:38.399040Z",
     "iopub.status.busy": "2023-11-14T07:10:38.398213Z",
     "iopub.status.idle": "2023-11-14T07:10:38.408522Z",
     "shell.execute_reply": "2023-11-14T07:10:38.407320Z"
    },
    "papermill": {
     "duration": 0.024992,
     "end_time": "2023-11-14T07:10:38.411207",
     "exception": false,
     "start_time": "2023-11-14T07:10:38.386215",
     "status": "completed"
    },
    "tags": []
   },
   "outputs": [
    {
     "data": {
      "application/javascript": [
       "parent.postMessage({\"jupyterEvent\": \"custom.exercise_interaction\", \"data\": {\"outcomeType\": 1, \"valueTowardsCompletion\": 0.2, \"interactionType\": 1, \"questionType\": 2, \"questionId\": \"3_GetCostPaint\", \"learnToolsVersion\": \"0.3.4\", \"failureMessage\": \"\", \"exceptionClass\": \"\", \"trace\": \"\"}}, \"*\")"
      ],
      "text/plain": [
       "<IPython.core.display.Javascript object>"
      ]
     },
     "metadata": {},
     "output_type": "display_data"
    },
    {
     "data": {
      "text/markdown": [
       "<span style=\"color:#33cc33\">Correct</span>"
      ],
      "text/plain": [
       "Correct"
      ]
     },
     "metadata": {},
     "output_type": "display_data"
    }
   ],
   "source": [
    "# TODO: Finish defining the function\n",
    "def get_cost(sqft_walls, sqft_ceiling, sqft_per_gallon, cost_per_gallon):\n",
    "    total_sqft = sqft_walls + sqft_ceiling\n",
    "    gallons_needed = total_sqft / sqft_per_gallon\n",
    "    cost = cost_per_gallon * gallons_needed\n",
    "    \n",
    "    return cost\n",
    "\n",
    "# Check your answer\n",
    "q3.check()"
   ]
  },
  {
   "cell_type": "code",
   "execution_count": 7,
   "id": "18756a4c",
   "metadata": {
    "execution": {
     "iopub.execute_input": "2023-11-14T07:10:38.436442Z",
     "iopub.status.busy": "2023-11-14T07:10:38.435984Z",
     "iopub.status.idle": "2023-11-14T07:10:38.451345Z",
     "shell.execute_reply": "2023-11-14T07:10:38.450006Z"
    },
    "papermill": {
     "duration": 0.031044,
     "end_time": "2023-11-14T07:10:38.453880",
     "exception": false,
     "start_time": "2023-11-14T07:10:38.422836",
     "status": "completed"
    },
    "tags": []
   },
   "outputs": [
    {
     "data": {
      "application/javascript": [
       "parent.postMessage({\"jupyterEvent\": \"custom.exercise_interaction\", \"data\": {\"interactionType\": 2, \"questionType\": 2, \"questionId\": \"3_GetCostPaint\", \"learnToolsVersion\": \"0.3.4\", \"valueTowardsCompletion\": 0.0, \"failureMessage\": \"\", \"exceptionClass\": \"\", \"trace\": \"\", \"outcomeType\": 4}}, \"*\")"
      ],
      "text/plain": [
       "<IPython.core.display.Javascript object>"
      ]
     },
     "metadata": {},
     "output_type": "display_data"
    },
    {
     "data": {
      "text/markdown": [
       "<span style=\"color:#3366cc\">Hint:</span> Begin by calculating the total number of square feet that need to be painted. Then, based on that, figure out how many gallons you need.  Then, once you know how many gallons you need, you can calculate the total cost of the project."
      ],
      "text/plain": [
       "Hint: Begin by calculating the total number of square feet that need to be painted. Then, based on that, figure out how many gallons you need.  Then, once you know how many gallons you need, you can calculate the total cost of the project."
      ]
     },
     "metadata": {},
     "output_type": "display_data"
    },
    {
     "data": {
      "application/javascript": [
       "parent.postMessage({\"jupyterEvent\": \"custom.exercise_interaction\", \"data\": {\"interactionType\": 3, \"questionType\": 2, \"questionId\": \"3_GetCostPaint\", \"learnToolsVersion\": \"0.3.4\", \"valueTowardsCompletion\": 0.0, \"failureMessage\": \"\", \"exceptionClass\": \"\", \"trace\": \"\", \"outcomeType\": 4}}, \"*\")"
      ],
      "text/plain": [
       "<IPython.core.display.Javascript object>"
      ]
     },
     "metadata": {},
     "output_type": "display_data"
    },
    {
     "data": {
      "text/markdown": [
       "<span style=\"color:#33cc99\">Solution:</span> \n",
       "```python\n",
       "\n",
       "def get_cost(sqft_walls, sqft_ceiling, sqft_per_gallon, cost_per_gallon):\n",
       "    total_sqft = sqft_walls + sqft_ceiling\n",
       "    gallons_needed = total_sqft / sqft_per_gallon\n",
       "    cost = cost_per_gallon * gallons_needed\n",
       "    return cost\n",
       "\n",
       "```"
      ],
      "text/plain": [
       "Solution: \n",
       "```python\n",
       "\n",
       "def get_cost(sqft_walls, sqft_ceiling, sqft_per_gallon, cost_per_gallon):\n",
       "    total_sqft = sqft_walls + sqft_ceiling\n",
       "    gallons_needed = total_sqft / sqft_per_gallon\n",
       "    cost = cost_per_gallon * gallons_needed\n",
       "    return cost\n",
       "\n",
       "```"
      ]
     },
     "metadata": {},
     "output_type": "display_data"
    }
   ],
   "source": [
    "# Uncomment to see a hint\n",
    "q3.hint()\n",
    "# ヒント：まず、塗装が必要な総面積を計算します。次に、それに基づいて、何ガロン必要かを計算します。そして、必要なガロン数がわかったら、プロジェクトの総コストを計算します。\n",
    "\n",
    "# Uncomment to view the solution\n",
    "q3.solution()"
   ]
  },
  {
   "cell_type": "markdown",
   "id": "5c6d956e",
   "metadata": {
    "papermill": {
     "duration": 0.011576,
     "end_time": "2023-11-14T07:10:38.477759",
     "exception": false,
     "start_time": "2023-11-14T07:10:38.466183",
     "status": "completed"
    },
    "tags": []
   },
   "source": [
    "# Question 4\n",
    "\n",
    "Use the `get_cost()` function you defined in Question 3 to calculate the cost of applying one coat of paint to a room with:\n",
    "- 432 square feet of walls, and\n",
    "- 144 square feet of ceiling.\n",
    "質問3で定義した `get_cost()` 関数を使って、ある部屋にペンキを1回塗るのにかかる費用を計算しなさい：\n",
    "- 432平方フィートの壁と\n",
    "- 144平方フィートの天井。\n",
    "\n",
    "Assume that one gallon of paint covers 400 square feet and costs $15.  As in Question 3, assume you can buy partial gallons of paint.  Do not round your answer.\n",
    "1ガロンのペンキは400平方フィートをカバーし、15ドルであると仮定します。 質問3と同様に、部分的に1ガロンのペンキを買うことができると仮定します。 答えは丸めないでください。"
   ]
  },
  {
   "cell_type": "code",
   "execution_count": 8,
   "id": "0eef8b67",
   "metadata": {
    "execution": {
     "iopub.execute_input": "2023-11-14T07:10:38.504247Z",
     "iopub.status.busy": "2023-11-14T07:10:38.503101Z",
     "iopub.status.idle": "2023-11-14T07:10:38.512240Z",
     "shell.execute_reply": "2023-11-14T07:10:38.511306Z"
    },
    "papermill": {
     "duration": 0.024808,
     "end_time": "2023-11-14T07:10:38.514344",
     "exception": false,
     "start_time": "2023-11-14T07:10:38.489536",
     "status": "completed"
    },
    "tags": []
   },
   "outputs": [
    {
     "data": {
      "application/javascript": [
       "parent.postMessage({\"jupyterEvent\": \"custom.exercise_interaction\", \"data\": {\"outcomeType\": 1, \"valueTowardsCompletion\": 0.2, \"interactionType\": 1, \"questionType\": 1, \"questionId\": \"4_GetCostPaintExample\", \"learnToolsVersion\": \"0.3.4\", \"failureMessage\": \"\", \"exceptionClass\": \"\", \"trace\": \"\"}}, \"*\")"
      ],
      "text/plain": [
       "<IPython.core.display.Javascript object>"
      ]
     },
     "metadata": {},
     "output_type": "display_data"
    },
    {
     "data": {
      "text/markdown": [
       "<span style=\"color:#33cc33\">Correct</span>"
      ],
      "text/plain": [
       "Correct"
      ]
     },
     "metadata": {},
     "output_type": "display_data"
    }
   ],
   "source": [
    "# TODO: Set the project_cost variable to the cost of the project\n",
    "project_cost = get_cost(432, 144, 400, 15) \n",
    "\n",
    "# Check your answer\n",
    "q4.check()"
   ]
  },
  {
   "cell_type": "code",
   "execution_count": 9,
   "id": "b8fff31f",
   "metadata": {
    "execution": {
     "iopub.execute_input": "2023-11-14T07:10:38.542326Z",
     "iopub.status.busy": "2023-11-14T07:10:38.541866Z",
     "iopub.status.idle": "2023-11-14T07:10:38.557636Z",
     "shell.execute_reply": "2023-11-14T07:10:38.555954Z"
    },
    "papermill": {
     "duration": 0.033271,
     "end_time": "2023-11-14T07:10:38.560683",
     "exception": false,
     "start_time": "2023-11-14T07:10:38.527412",
     "status": "completed"
    },
    "tags": []
   },
   "outputs": [
    {
     "data": {
      "application/javascript": [
       "parent.postMessage({\"jupyterEvent\": \"custom.exercise_interaction\", \"data\": {\"interactionType\": 2, \"questionType\": 1, \"questionId\": \"4_GetCostPaintExample\", \"learnToolsVersion\": \"0.3.4\", \"valueTowardsCompletion\": 0.0, \"failureMessage\": \"\", \"exceptionClass\": \"\", \"trace\": \"\", \"outcomeType\": 4}}, \"*\")"
      ],
      "text/plain": [
       "<IPython.core.display.Javascript object>"
      ]
     },
     "metadata": {},
     "output_type": "display_data"
    },
    {
     "data": {
      "text/markdown": [
       "<span style=\"color:#3366cc\">Hint:</span> If we needed to instead calculate the cost of applying one coat of paint to a room with 800 square feet of walls and 160 square feet of ceiling, and one gallon of paint covered 300 square feet and cost $10, we would set `project_cost = get_cost(800, 160, 300, 10)`."
      ],
      "text/plain": [
       "Hint: If we needed to instead calculate the cost of applying one coat of paint to a room with 800 square feet of walls and 160 square feet of ceiling, and one gallon of paint covered 300 square feet and cost $10, we would set `project_cost = get_cost(800, 160, 300, 10)`."
      ]
     },
     "metadata": {},
     "output_type": "display_data"
    },
    {
     "data": {
      "application/javascript": [
       "parent.postMessage({\"jupyterEvent\": \"custom.exercise_interaction\", \"data\": {\"interactionType\": 3, \"questionType\": 1, \"questionId\": \"4_GetCostPaintExample\", \"learnToolsVersion\": \"0.3.4\", \"valueTowardsCompletion\": 0.0, \"failureMessage\": \"\", \"exceptionClass\": \"\", \"trace\": \"\", \"outcomeType\": 4}}, \"*\")"
      ],
      "text/plain": [
       "<IPython.core.display.Javascript object>"
      ]
     },
     "metadata": {},
     "output_type": "display_data"
    },
    {
     "data": {
      "text/markdown": [
       "<span style=\"color:#33cc99\">Solution:</span> \n",
       "```python\n",
       "# Set the project_cost variable to the cost of the project\n",
       "project_cost = get_cost(432, 144, 400, 15) \n",
       "\n",
       "```"
      ],
      "text/plain": [
       "Solution: \n",
       "```python\n",
       "# Set the project_cost variable to the cost of the project\n",
       "project_cost = get_cost(432, 144, 400, 15) \n",
       "\n",
       "```"
      ]
     },
     "metadata": {},
     "output_type": "display_data"
    }
   ],
   "source": [
    "# Uncomment to see a hint\n",
    "q4.hint()\n",
    "# ヒント：壁が800平方フィート、天井が160平方フィートの部屋にペンキを1回塗るのにかかる費用を計算する代わりに、1ガロンのペンキで300平方フィート塗るのにかかる費用を10ドルとする必要がある場合、project_cost = get_cost(800, 160, 300, 10)と設定する。\n",
    "# Uncomment to view the solution\n",
    "q4.solution()"
   ]
  },
  {
   "cell_type": "markdown",
   "id": "fcf8932a",
   "metadata": {
    "papermill": {
     "duration": 0.012314,
     "end_time": "2023-11-14T07:10:38.585817",
     "exception": false,
     "start_time": "2023-11-14T07:10:38.573503",
     "status": "completed"
    },
    "tags": []
   },
   "source": [
    "# 🌶️ Question 5\n",
    "\n",
    "Now say you can no longer buy fractions of a gallon.  (For instance, if you need 4.3 gallons to do a project, then you have to buy 5 gallons of paint.)\n",
    "ガロンの端数が買えなくなったとしよう。 (例えば、あるプロジェクトに4.3ガロン必要なら、5ガロンのペンキを買わなければならない）。\n",
    "\n",
    "\n",
    "With this new scenario, you will create a new function `get_actual_cost` that uses the same inputs and calculates the cost of your project.\n",
    "この新しいシナリオでは、同じ入力を使ってプロジェクトのコストを計算する新しい関数 `get_actual_cost` を作成します。\n",
    "\n",
    "\n",
    "\n",
    "One function that you'll need to use to do this is `math.ceil()`.  We demonstrate usage of this function in the code cell below.  It takes as a number as input and rounds the number up to the nearest integer.  \n",
    "そのために必要な関数の一つが `math.ceil()` である。 この関数の使い方を下のコードで説明しよう。 この関数は数値を入力として受け取り、その数値を最も近い整数に丸めます。\n",
    "\n",
    "\n",
    "\n",
    "Run the next code cell to test this function for yourself.  Feel free to change the value of `test_value` and make sure `math.ceil()` returns the number you expect.\n",
    "次のコードセルを実行して、この関数を自分でテストしてみよう。 自由に `test_value` の値を変更して、`math.ceil()` が期待通りの数値を返すことを確認してください。"
   ]
  },
  {
   "cell_type": "code",
   "execution_count": 10,
   "id": "9dd47e7c",
   "metadata": {
    "execution": {
     "iopub.execute_input": "2023-11-14T07:10:38.613937Z",
     "iopub.status.busy": "2023-11-14T07:10:38.613489Z",
     "iopub.status.idle": "2023-11-14T07:10:38.620550Z",
     "shell.execute_reply": "2023-11-14T07:10:38.618951Z"
    },
    "papermill": {
     "duration": 0.024865,
     "end_time": "2023-11-14T07:10:38.624048",
     "exception": false,
     "start_time": "2023-11-14T07:10:38.599183",
     "status": "completed"
    },
    "tags": []
   },
   "outputs": [
    {
     "name": "stdout",
     "output_type": "stream",
     "text": [
      "3\n"
     ]
    }
   ],
   "source": [
    "test_value = 2.17\n",
    "\n",
    "rounded_value = math.ceil(test_value)\n",
    "print(rounded_value)"
   ]
  },
  {
   "cell_type": "markdown",
   "id": "d63b4a84",
   "metadata": {
    "papermill": {
     "duration": 0.013686,
     "end_time": "2023-11-14T07:10:38.650712",
     "exception": false,
     "start_time": "2023-11-14T07:10:38.637026",
     "status": "completed"
    },
    "tags": []
   },
   "source": [
    "Use the next code cell to define the function `get_actual_cost()`.  You'll need to use the `math.ceil()` function to do this.\n",
    "次のコードセルで関数 `get_actual_cost()` を定義します。 そのためには `math.ceil()` 関数を使う必要がある。\n",
    "\n",
    "When answering this question, note that it's completely valid to define a function that makes use of another function.  For instance, we can define a function `round_up_and_divide_by_three` that makes use of the `math.ceil` function:\n",
    "この質問に答えるとき、他の関数を利用する関数を定義することは完全に有効であることに注意してください。 例えば、関数 `math.ceil` を利用する関数 `round_up_and_divide_by_three` を定義することができます：\n",
    "```\n",
    "def round_up_and_divide_by_three(num):\n",
    "    new_value = math.ceil(num)\n",
    "    final_value = new_value / 3\n",
    "    return final_value\n",
    "```"
   ]
  },
  {
   "cell_type": "code",
   "execution_count": 11,
   "id": "5a4df1e7",
   "metadata": {
    "execution": {
     "iopub.execute_input": "2023-11-14T07:10:38.678477Z",
     "iopub.status.busy": "2023-11-14T07:10:38.678022Z",
     "iopub.status.idle": "2023-11-14T07:10:38.690377Z",
     "shell.execute_reply": "2023-11-14T07:10:38.688948Z"
    },
    "papermill": {
     "duration": 0.029439,
     "end_time": "2023-11-14T07:10:38.693170",
     "exception": false,
     "start_time": "2023-11-14T07:10:38.663731",
     "status": "completed"
    },
    "tags": []
   },
   "outputs": [
    {
     "data": {
      "application/javascript": [
       "parent.postMessage({\"jupyterEvent\": \"custom.exercise_interaction\", \"data\": {\"outcomeType\": 1, \"valueTowardsCompletion\": 0.2, \"interactionType\": 1, \"questionType\": 2, \"questionId\": \"5_NoMoreFractions\", \"learnToolsVersion\": \"0.3.4\", \"failureMessage\": \"\", \"exceptionClass\": \"\", \"trace\": \"\"}}, \"*\")"
      ],
      "text/plain": [
       "<IPython.core.display.Javascript object>"
      ]
     },
     "metadata": {},
     "output_type": "display_data"
    },
    {
     "data": {
      "text/markdown": [
       "<span style=\"color:#33cc33\">Correct</span>"
      ],
      "text/plain": [
       "Correct"
      ]
     },
     "metadata": {},
     "output_type": "display_data"
    }
   ],
   "source": [
    "def get_actual_cost(sqft_walls, sqft_ceiling, sqft_per_gallon, cost_per_gallon):\n",
    "    total_sqft = sqft_walls + sqft_ceiling\n",
    "    gallons_needed = total_sqft / sqft_per_gallon\n",
    "    gallons_to_buy = math.ceil(gallons_needed)\n",
    "    cost = cost_per_gallon * gallons_to_buy\n",
    "    return cost\n",
    "\n",
    "# Check your answer\n",
    "q5.check()"
   ]
  },
  {
   "cell_type": "code",
   "execution_count": 12,
   "id": "9b034447",
   "metadata": {
    "execution": {
     "iopub.execute_input": "2023-11-14T07:10:38.723530Z",
     "iopub.status.busy": "2023-11-14T07:10:38.722918Z",
     "iopub.status.idle": "2023-11-14T07:10:38.744131Z",
     "shell.execute_reply": "2023-11-14T07:10:38.742928Z"
    },
    "papermill": {
     "duration": 0.040609,
     "end_time": "2023-11-14T07:10:38.748374",
     "exception": false,
     "start_time": "2023-11-14T07:10:38.707765",
     "status": "completed"
    },
    "tags": []
   },
   "outputs": [
    {
     "data": {
      "application/javascript": [
       "parent.postMessage({\"jupyterEvent\": \"custom.exercise_interaction\", \"data\": {\"interactionType\": 2, \"questionType\": 2, \"questionId\": \"5_NoMoreFractions\", \"learnToolsVersion\": \"0.3.4\", \"valueTowardsCompletion\": 0.0, \"failureMessage\": \"\", \"exceptionClass\": \"\", \"trace\": \"\", \"outcomeType\": 4}}, \"*\")"
      ],
      "text/plain": [
       "<IPython.core.display.Javascript object>"
      ]
     },
     "metadata": {},
     "output_type": "display_data"
    },
    {
     "data": {
      "text/markdown": [
       "<span style=\"color:#3366cc\">Hint:</span> Begin with the `get_cost()` function as a starting point.  The only change you need to make is to add `math.ceil()` to round up the number of gallons that need to be purchased. Can you figure out where to add it to the function?"
      ],
      "text/plain": [
       "Hint: Begin with the `get_cost()` function as a starting point.  The only change you need to make is to add `math.ceil()` to round up the number of gallons that need to be purchased. Can you figure out where to add it to the function?"
      ]
     },
     "metadata": {},
     "output_type": "display_data"
    },
    {
     "data": {
      "application/javascript": [
       "parent.postMessage({\"jupyterEvent\": \"custom.exercise_interaction\", \"data\": {\"interactionType\": 3, \"questionType\": 2, \"questionId\": \"5_NoMoreFractions\", \"learnToolsVersion\": \"0.3.4\", \"valueTowardsCompletion\": 0.0, \"failureMessage\": \"\", \"exceptionClass\": \"\", \"trace\": \"\", \"outcomeType\": 4}}, \"*\")"
      ],
      "text/plain": [
       "<IPython.core.display.Javascript object>"
      ]
     },
     "metadata": {},
     "output_type": "display_data"
    },
    {
     "data": {
      "text/markdown": [
       "<span style=\"color:#33cc99\">Solution:</span> \n",
       "```python\n",
       "def get_actual_cost(sqft_walls, sqft_ceiling, sqft_per_gallon, cost_per_gallon):\n",
       "    total_sqft = sqft_walls + sqft_ceiling\n",
       "    gallons_needed = total_sqft / sqft_per_gallon\n",
       "    gallons_to_buy = math.ceil(gallons_needed)\n",
       "    cost = cost_per_gallon * gallons_to_buy\n",
       "    return cost\n",
       "\n",
       "```"
      ],
      "text/plain": [
       "Solution: \n",
       "```python\n",
       "def get_actual_cost(sqft_walls, sqft_ceiling, sqft_per_gallon, cost_per_gallon):\n",
       "    total_sqft = sqft_walls + sqft_ceiling\n",
       "    gallons_needed = total_sqft / sqft_per_gallon\n",
       "    gallons_to_buy = math.ceil(gallons_needed)\n",
       "    cost = cost_per_gallon * gallons_to_buy\n",
       "    return cost\n",
       "\n",
       "```"
      ]
     },
     "metadata": {},
     "output_type": "display_data"
    }
   ],
   "source": [
    "# Uncomment to see a hint\n",
    "q5.hint()\n",
    "# ヒント：まずget_cost()関数から始める。必要な変更は、購入するガロン数を切り上げるために math.ceil() を追加することだけです。この関数のどこに追加するかわかりますか？\n",
    "# Uncomment to view the solution\n",
    "q5.solution()"
   ]
  },
  {
   "cell_type": "markdown",
   "id": "6409bd7c",
   "metadata": {
    "papermill": {
     "duration": 0.017365,
     "end_time": "2023-11-14T07:10:38.784778",
     "exception": false,
     "start_time": "2023-11-14T07:10:38.767413",
     "status": "completed"
    },
    "tags": []
   },
   "source": [
    "Once your function is verified as correct, run the next code cell to calculate the updated cost of your project."
   ]
  },
  {
   "cell_type": "code",
   "execution_count": 13,
   "id": "a6f722ef",
   "metadata": {
    "execution": {
     "iopub.execute_input": "2023-11-14T07:10:38.820042Z",
     "iopub.status.busy": "2023-11-14T07:10:38.819618Z",
     "iopub.status.idle": "2023-11-14T07:10:38.828836Z",
     "shell.execute_reply": "2023-11-14T07:10:38.827592Z"
    },
    "papermill": {
     "duration": 0.033432,
     "end_time": "2023-11-14T07:10:38.833085",
     "exception": false,
     "start_time": "2023-11-14T07:10:38.799653",
     "status": "completed"
    },
    "tags": []
   },
   "outputs": [
    {
     "data": {
      "text/plain": [
       "30"
      ]
     },
     "execution_count": 13,
     "metadata": {},
     "output_type": "execute_result"
    }
   ],
   "source": [
    "get_actual_cost(432, 144, 400, 15) "
   ]
  },
  {
   "cell_type": "markdown",
   "id": "f6640b3c",
   "metadata": {
    "papermill": {
     "duration": 0.014005,
     "end_time": "2023-11-14T07:10:38.861715",
     "exception": false,
     "start_time": "2023-11-14T07:10:38.847710",
     "status": "completed"
    },
    "tags": []
   },
   "source": [
    "Say you're working with a slightly larger room.  Run the next code cell to calculate the cost of the project."
   ]
  },
  {
   "cell_type": "code",
   "execution_count": 14,
   "id": "51261f0c",
   "metadata": {
    "execution": {
     "iopub.execute_input": "2023-11-14T07:10:38.893682Z",
     "iopub.status.busy": "2023-11-14T07:10:38.892791Z",
     "iopub.status.idle": "2023-11-14T07:10:38.900654Z",
     "shell.execute_reply": "2023-11-14T07:10:38.899579Z"
    },
    "papermill": {
     "duration": 0.026786,
     "end_time": "2023-11-14T07:10:38.903340",
     "exception": false,
     "start_time": "2023-11-14T07:10:38.876554",
     "status": "completed"
    },
    "tags": []
   },
   "outputs": [
    {
     "data": {
      "text/plain": [
       "45"
      ]
     },
     "execution_count": 14,
     "metadata": {},
     "output_type": "execute_result"
    }
   ],
   "source": [
    "get_actual_cost(594, 288, 400, 15) "
   ]
  },
  {
   "cell_type": "markdown",
   "id": "1dcf050b",
   "metadata": {
    "papermill": {
     "duration": 0.014503,
     "end_time": "2023-11-14T07:10:38.932914",
     "exception": false,
     "start_time": "2023-11-14T07:10:38.918411",
     "status": "completed"
    },
    "tags": []
   },
   "source": [
    "# Keep going\n",
    "\n",
    "Continue to learn about **[data types](https://www.kaggle.com/alexisbcook/data-types)**."
   ]
  },
  {
   "cell_type": "markdown",
   "id": "b23e9412",
   "metadata": {
    "papermill": {
     "duration": 0.018176,
     "end_time": "2023-11-14T07:10:38.965888",
     "exception": false,
     "start_time": "2023-11-14T07:10:38.947712",
     "status": "completed"
    },
    "tags": []
   },
   "source": [
    "---\n",
    "\n",
    "\n",
    "\n",
    "\n",
    "*Have questions or comments? Visit the [course discussion forum](https://www.kaggle.com/learn/intro-to-programming/discussion) to chat with other learners.*"
   ]
  }
 ],
 "metadata": {
  "kernelspec": {
   "display_name": "Python 3",
   "language": "python",
   "name": "python3"
  },
  "language_info": {
   "codemirror_mode": {
    "name": "ipython",
    "version": 3
   },
   "file_extension": ".py",
   "mimetype": "text/x-python",
   "name": "python",
   "nbconvert_exporter": "python",
   "pygments_lexer": "ipython3",
   "version": "3.10.12"
  },
  "papermill": {
   "default_parameters": {},
   "duration": 5.908397,
   "end_time": "2023-11-14T07:10:39.707193",
   "environment_variables": {},
   "exception": null,
   "input_path": "__notebook__.ipynb",
   "output_path": "__notebook__.ipynb",
   "parameters": {},
   "start_time": "2023-11-14T07:10:33.798796",
   "version": "2.4.0"
  }
 },
 "nbformat": 4,
 "nbformat_minor": 5
}
