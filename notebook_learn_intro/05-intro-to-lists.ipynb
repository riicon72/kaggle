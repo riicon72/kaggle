{
 "cells": [
  {
   "cell_type": "markdown",
   "id": "08e4c6d5",
   "metadata": {
    "papermill": {
     "duration": 0.01118,
     "end_time": "2023-11-16T13:37:32.965577",
     "exception": false,
     "start_time": "2023-11-16T13:37:32.954397",
     "status": "completed"
    },
    "tags": []
   },
   "source": [
    "日本人向けに日本語訳を入れました。 言い回しが間違っていたらすみません。 お役に立てれば幸いです"
   ]
  },
  {
   "cell_type": "markdown",
   "id": "50211b24",
   "metadata": {
    "papermill": {
     "duration": 0.007437,
     "end_time": "2023-11-16T13:37:32.981119",
     "exception": false,
     "start_time": "2023-11-16T13:37:32.973682",
     "status": "completed"
    },
    "tags": []
   },
   "source": [
    "In the tutorial, you learned about four different data types: floats, integers, strings, and booleans.  In this exercise, you'll experiment with them.\n",
    "このチュートリアルでは、浮動小数点数、整数、文字列、ブール値の 4 つの異なるデータ型について学習しました。 この演習では、それらを試してみましょう。\n",
    "\n",
    "# Set up the notebook　　--ノートブックをセットする\n",
    "\n",
    "Run the next code cell without changes to set up the notebook.\n",
    "変更を加えずに次のコード セルを実行して、ノートブックをセットアップします。"
   ]
  },
  {
   "cell_type": "code",
   "execution_count": 1,
   "id": "cfa905e0",
   "metadata": {
    "execution": {
     "iopub.execute_input": "2023-11-16T13:37:32.999675Z",
     "iopub.status.busy": "2023-11-16T13:37:32.998603Z",
     "iopub.status.idle": "2023-11-16T13:37:33.957698Z",
     "shell.execute_reply": "2023-11-16T13:37:33.956285Z"
    },
    "papermill": {
     "duration": 0.971928,
     "end_time": "2023-11-16T13:37:33.960851",
     "exception": false,
     "start_time": "2023-11-16T13:37:32.988923",
     "status": "completed"
    },
    "tags": []
   },
   "outputs": [
    {
     "name": "stdout",
     "output_type": "stream",
     "text": [
      "Setup complete.\n"
     ]
    }
   ],
   "source": [
    "from learntools.core import binder\n",
    "binder.bind(globals())\n",
    "from learntools.intro_to_programming.ex5 import *\n",
    "print('Setup complete.')"
   ]
  },
  {
   "cell_type": "markdown",
   "id": "f3f62160",
   "metadata": {
    "papermill": {
     "duration": 0.007679,
     "end_time": "2023-11-16T13:37:33.976720",
     "exception": false,
     "start_time": "2023-11-16T13:37:33.969041",
     "status": "completed"
    },
    "tags": []
   },
   "source": [
    "# Question 1\n",
    "\n",
    "You own a restaurant with five food dishes, organized in the Python list `menu` below.  One day, you decide to:\n",
    "- remove bean soup (`'bean soup'`) from the menu, and\n",
    "- add roasted beet salad (`'roasted beet salad'`) to the menu.\n",
    "\n",
    "あなたは5つの料理を持つレストランを経営している。 ある日、あなたは\n",
    "- メニューから豆のスープ(`'bean soup'`)を削除する。\n",
    "- ローストビートサラダ (`'roasted beet salad'`) をメニューに追加する。\n",
    "\n",
    "\n",
    "Implement this change to the list below.  While completing this task, \n",
    "- do not change the line that creates the `menu` list.  \n",
    "- your answer should use `.remove()` and `.append()`.  \n",
    "\n",
    "\n",
    "この変更を以下のリストに追加する。 このタスクを完了する間 \n",
    "- menu`リストを作成する行は変更しないでください。 \n",
    "- 答えは `.remove()` と `.append()` を使ってください。 \n"
   ]
  },
  {
   "cell_type": "code",
   "execution_count": 2,
   "id": "8eb7c912",
   "metadata": {
    "execution": {
     "iopub.execute_input": "2023-11-16T13:37:33.994774Z",
     "iopub.status.busy": "2023-11-16T13:37:33.994067Z",
     "iopub.status.idle": "2023-11-16T13:37:34.006984Z",
     "shell.execute_reply": "2023-11-16T13:37:34.005734Z"
    },
    "papermill": {
     "duration": 0.024869,
     "end_time": "2023-11-16T13:37:34.009351",
     "exception": false,
     "start_time": "2023-11-16T13:37:33.984482",
     "status": "completed"
    },
    "tags": []
   },
   "outputs": [
    {
     "data": {
      "application/javascript": [
       "parent.postMessage({\"jupyterEvent\": \"custom.exercise_interaction\", \"data\": {\"outcomeType\": 2, \"failureMessage\": \"These item(s) should be removed from `menu`: ['bean soup']\", \"interactionType\": 1, \"questionType\": 2, \"questionId\": \"1_FoodMenu\", \"learnToolsVersion\": \"0.3.4\", \"valueTowardsCompletion\": 0.0, \"exceptionClass\": \"\", \"trace\": \"\"}}, \"*\")"
      ],
      "text/plain": [
       "<IPython.core.display.Javascript object>"
      ]
     },
     "metadata": {},
     "output_type": "display_data"
    },
    {
     "data": {
      "text/markdown": [
       "<span style=\"color:#cc3333\">Incorrect:</span> These item(s) should be removed from `menu`: ['bean soup']"
      ],
      "text/plain": [
       "Incorrect: These item(s) should be removed from `menu`: ['bean soup']"
      ]
     },
     "metadata": {},
     "output_type": "display_data"
    }
   ],
   "source": [
    "# Do not change: Initial menu for your restaurant\n",
    "menu = ['stewed meat with onions', 'bean soup', 'risotto with trout and shrimp',\n",
    "       'fish soup with cream and onion', 'gyro']\n",
    "\n",
    "# TODO: remove 'bean soup', and add 'roasted beet salad' to the end of the menu\n",
    "____\n",
    "\n",
    "# Do not change: Check your answer\n",
    "q1.check()"
   ]
  },
  {
   "cell_type": "code",
   "execution_count": 3,
   "id": "277bab62",
   "metadata": {
    "execution": {
     "iopub.execute_input": "2023-11-16T13:37:34.027997Z",
     "iopub.status.busy": "2023-11-16T13:37:34.027538Z",
     "iopub.status.idle": "2023-11-16T13:37:34.040959Z",
     "shell.execute_reply": "2023-11-16T13:37:34.039839Z"
    },
    "papermill": {
     "duration": 0.026107,
     "end_time": "2023-11-16T13:37:34.043821",
     "exception": false,
     "start_time": "2023-11-16T13:37:34.017714",
     "status": "completed"
    },
    "tags": []
   },
   "outputs": [
    {
     "data": {
      "application/javascript": [
       "parent.postMessage({\"jupyterEvent\": \"custom.exercise_interaction\", \"data\": {\"interactionType\": 2, \"questionType\": 2, \"questionId\": \"1_FoodMenu\", \"learnToolsVersion\": \"0.3.4\", \"valueTowardsCompletion\": 0.0, \"failureMessage\": \"\", \"exceptionClass\": \"\", \"trace\": \"\", \"outcomeType\": 4}}, \"*\")"
      ],
      "text/plain": [
       "<IPython.core.display.Javascript object>"
      ]
     },
     "metadata": {},
     "output_type": "display_data"
    },
    {
     "data": {
      "text/markdown": [
       "<span style=\"color:#3366cc\">Hint:</span> Here is the original line of code that created the menu: `menu = ['stewed meat with onions', 'bean soup', 'risotto with trout and shrimp', 'fish soup with cream and onion', 'gyro']`.  Use `.append()` to add an item, and use `.remove()` to remove an item."
      ],
      "text/plain": [
       "Hint: Here is the original line of code that created the menu: `menu = ['stewed meat with onions', 'bean soup', 'risotto with trout and shrimp', 'fish soup with cream and onion', 'gyro']`.  Use `.append()` to add an item, and use `.remove()` to remove an item."
      ]
     },
     "metadata": {},
     "output_type": "display_data"
    },
    {
     "data": {
      "application/javascript": [
       "parent.postMessage({\"jupyterEvent\": \"custom.exercise_interaction\", \"data\": {\"interactionType\": 3, \"questionType\": 2, \"questionId\": \"1_FoodMenu\", \"learnToolsVersion\": \"0.3.4\", \"valueTowardsCompletion\": 0.0, \"failureMessage\": \"\", \"exceptionClass\": \"\", \"trace\": \"\", \"outcomeType\": 4}}, \"*\")"
      ],
      "text/plain": [
       "<IPython.core.display.Javascript object>"
      ]
     },
     "metadata": {},
     "output_type": "display_data"
    },
    {
     "data": {
      "text/markdown": [
       "<span style=\"color:#33cc99\">Solution:</span> \n",
       "```python\n",
       "# Do not change: Initial menu for your restaurant\n",
       "menu = ['stewed meat with onions', 'bean soup', 'risotto with trout and shrimp',\n",
       "       'fish soup with cream and onion', 'gyro']\n",
       "\n",
       "# Remove 'bean soup', and add 'roasted beet salad' to the end of the menu\n",
       "menu.remove('bean soup')\n",
       "menu.append('roasted beet salad')\n",
       "\n",
       "```"
      ],
      "text/plain": [
       "Solution: \n",
       "```python\n",
       "# Do not change: Initial menu for your restaurant\n",
       "menu = ['stewed meat with onions', 'bean soup', 'risotto with trout and shrimp',\n",
       "       'fish soup with cream and onion', 'gyro']\n",
       "\n",
       "# Remove 'bean soup', and add 'roasted beet salad' to the end of the menu\n",
       "menu.remove('bean soup')\n",
       "menu.append('roasted beet salad')\n",
       "\n",
       "```"
      ]
     },
     "metadata": {},
     "output_type": "display_data"
    }
   ],
   "source": [
    "# Uncomment to see a hint\n",
    "q1.hint()\n",
    "\n",
    "# Uncomment to see the solution\n",
    "q1.solution()"
   ]
  },
  {
   "cell_type": "markdown",
   "id": "5707fc8e",
   "metadata": {
    "papermill": {
     "duration": 0.008771,
     "end_time": "2023-11-16T13:37:34.061672",
     "exception": false,
     "start_time": "2023-11-16T13:37:34.052901",
     "status": "completed"
    },
    "tags": []
   },
   "source": [
    "# Question 2\n",
    "\n",
    "The list `num_customers` contains the number of customers who came into your restaurant every day over the last month (which lasted thirty days).  Fill in values for each of the following:\n",
    "- `avg_first_seven` - average number of customers who visited in the first seven days\n",
    "- `avg_last_seven` - average number of customers who visited in the last seven days\n",
    "- `max_month` - number of customers on the day that got the most customers in the last month\n",
    "- `min_month` - number of customers on the day that got the least customers in the last month\n",
    "\n",
    "num_customers`というリストには、先月(30日間)にあなたのレストランに毎日来店したお客さんの数が格納されています。 以下のそれぞれの値を記入してください：\n",
    "- avg_first_seven` - 最初の7日間に来店した客の平均数。\n",
    "- avg_last_seven` - 最近7日間に来店した顧客の平均数。\n",
    "- `max_month` - 直近1ヶ月で最も多くの顧客を獲得した日の顧客数\n",
    "- min_month` - 先月で最も来店客が少なかった日の来店客数\n",
    "\n",
    "\n",
    "Answer this question by writing code.  For instance, if you have to find the minimum value in a list, use `min()` instead of scanning for the smallest value and directly filling in a number.\n",
    "\n",
    "\n",
    "この質問にはコードを書いて答えよう。 例えば、リストの最小値を求める場合、最小値をスキャンして直接数値を入力するのではなく、 `min()` を使用する。"
   ]
  },
  {
   "cell_type": "code",
   "execution_count": 4,
   "id": "958ba71e",
   "metadata": {
    "execution": {
     "iopub.execute_input": "2023-11-16T13:37:34.082364Z",
     "iopub.status.busy": "2023-11-16T13:37:34.081401Z",
     "iopub.status.idle": "2023-11-16T13:37:34.093770Z",
     "shell.execute_reply": "2023-11-16T13:37:34.092612Z"
    },
    "papermill": {
     "duration": 0.025707,
     "end_time": "2023-11-16T13:37:34.096289",
     "exception": false,
     "start_time": "2023-11-16T13:37:34.070582",
     "status": "completed"
    },
    "tags": []
   },
   "outputs": [
    {
     "data": {
      "application/javascript": [
       "parent.postMessage({\"jupyterEvent\": \"custom.exercise_interaction\", \"data\": {\"outcomeType\": 4, \"interactionType\": 1, \"questionType\": 1, \"questionId\": \"2_NumCustomers\", \"learnToolsVersion\": \"0.3.4\", \"valueTowardsCompletion\": 0.0, \"failureMessage\": \"\", \"exceptionClass\": \"\", \"trace\": \"\"}}, \"*\")"
      ],
      "text/plain": [
       "<IPython.core.display.Javascript object>"
      ]
     },
     "metadata": {},
     "output_type": "display_data"
    },
    {
     "data": {
      "text/markdown": [
       "<span style=\"color:#ccaa33\">Check:</span> When you've updated the starter code, `check()` will tell you whether your code is correct. You need to update the code that creates variables `avg_first_seven`, `avg_last_seven`, `max_month`, `min_month`"
      ],
      "text/plain": [
       "Check: When you've updated the starter code, `check()` will tell you whether your code is correct. You need to update the code that creates variables `avg_first_seven`, `avg_last_seven`, `max_month`, `min_month`"
      ]
     },
     "metadata": {},
     "output_type": "display_data"
    }
   ],
   "source": [
    "# Do not change: Number of customers each day for the last month\n",
    "num_customers = [137, 147, 135, 128, 170, 174, 165, 146, 126, 159,\n",
    "                 141, 148, 132, 147, 168, 153, 170, 161, 148, 152,\n",
    "                 141, 151, 131, 149, 164, 163, 143, 143, 166, 171]\n",
    "\n",
    "# TODO: Fill in values for the variables below\n",
    "avg_first_seven = ____ \n",
    "avg_last_seven = ____ \n",
    "max_month = ____\n",
    "min_month = ____\n",
    "\n",
    "# Do not change: Check your answer\n",
    "q2.check()"
   ]
  },
  {
   "cell_type": "code",
   "execution_count": 5,
   "id": "9da99160",
   "metadata": {
    "execution": {
     "iopub.execute_input": "2023-11-16T13:37:34.118058Z",
     "iopub.status.busy": "2023-11-16T13:37:34.117560Z",
     "iopub.status.idle": "2023-11-16T13:37:34.121965Z",
     "shell.execute_reply": "2023-11-16T13:37:34.120985Z"
    },
    "papermill": {
     "duration": 0.018338,
     "end_time": "2023-11-16T13:37:34.124321",
     "exception": false,
     "start_time": "2023-11-16T13:37:34.105983",
     "status": "completed"
    },
    "tags": []
   },
   "outputs": [],
   "source": [
    "# Uncomment to see a hint\n",
    "#q2.hint()\n",
    "\n",
    "# Uncomment to see the solution\n",
    "#q2.solution()"
   ]
  },
  {
   "cell_type": "markdown",
   "id": "ebaedeed",
   "metadata": {
    "papermill": {
     "duration": 0.009187,
     "end_time": "2023-11-16T13:37:34.143301",
     "exception": false,
     "start_time": "2023-11-16T13:37:34.134114",
     "status": "completed"
    },
    "tags": []
   },
   "source": [
    "# Question 3\n",
    "\n",
    "In the tutorial, we gave an example of a Python string with information that was better as a list.\n",
    "\n",
    "チュートリアルでは、Pythonの文字列がリストとしてより良い情報を持つ例を示しました。"
   ]
  },
  {
   "cell_type": "code",
   "execution_count": 6,
   "id": "7e8da482",
   "metadata": {
    "execution": {
     "iopub.execute_input": "2023-11-16T13:37:34.167308Z",
     "iopub.status.busy": "2023-11-16T13:37:34.165858Z",
     "iopub.status.idle": "2023-11-16T13:37:34.171991Z",
     "shell.execute_reply": "2023-11-16T13:37:34.170834Z"
    },
    "papermill": {
     "duration": 0.020556,
     "end_time": "2023-11-16T13:37:34.174491",
     "exception": false,
     "start_time": "2023-11-16T13:37:34.153935",
     "status": "completed"
    },
    "tags": []
   },
   "outputs": [],
   "source": [
    "flowers = \"pink primrose,hard-leaved pocket orchid,canterbury bells,sweet pea,english marigold,tiger lily,moon orchid,bird of paradise,monkshood,globe thistle\""
   ]
  },
  {
   "cell_type": "markdown",
   "id": "7fb17f51",
   "metadata": {
    "papermill": {
     "duration": 0.009401,
     "end_time": "2023-11-16T13:37:34.193894",
     "exception": false,
     "start_time": "2023-11-16T13:37:34.184493",
     "status": "completed"
    },
    "tags": []
   },
   "source": [
    "You can actually use Python to quickly turn this string into a list with `.split()`.  In the parentheses, we need to provide the character should be used to mark the end of one list item and the beginning of another, and enclose it in quotation marks.  In this case, that character is a comma.\n",
    "\n",
    "Pythonを使えば、この文字列を `.split()`.  括弧の中で、あるリスト項目の終わりと別のリスト項目の始まりを示す文字を指定し、それを引用符で囲む必要があります。 この場合、その文字はカンマである。"
   ]
  },
  {
   "cell_type": "code",
   "execution_count": 7,
   "id": "2637d158",
   "metadata": {
    "execution": {
     "iopub.execute_input": "2023-11-16T13:37:34.215547Z",
     "iopub.status.busy": "2023-11-16T13:37:34.215028Z",
     "iopub.status.idle": "2023-11-16T13:37:34.221497Z",
     "shell.execute_reply": "2023-11-16T13:37:34.220227Z"
    },
    "papermill": {
     "duration": 0.020684,
     "end_time": "2023-11-16T13:37:34.224215",
     "exception": false,
     "start_time": "2023-11-16T13:37:34.203531",
     "status": "completed"
    },
    "tags": []
   },
   "outputs": [
    {
     "name": "stdout",
     "output_type": "stream",
     "text": [
      "['pink primrose', 'hard-leaved pocket orchid', 'canterbury bells', 'sweet pea', 'english marigold', 'tiger lily', 'moon orchid', 'bird of paradise', 'monkshood', 'globe thistle']\n"
     ]
    }
   ],
   "source": [
    " print(flowers.split(\",\"))"
   ]
  },
  {
   "cell_type": "markdown",
   "id": "b96e84f6",
   "metadata": {
    "papermill": {
     "duration": 0.00933,
     "end_time": "2023-11-16T13:37:34.243380",
     "exception": false,
     "start_time": "2023-11-16T13:37:34.234050",
     "status": "completed"
    },
    "tags": []
   },
   "source": [
    "Now it is your turn to try this out!  Create two Python lists:\n",
    "- `letters` should be a Python list where each entry is an uppercase letter of the English alphabet.  For instance, the first two entries should be `\"A\"` and `\"B\"`, and the final two entries should be `\"Y\"` and `\"Z\"`.  Use the string `alphabet` to create this list.\n",
    "- `address` should be a Python list where each row in `address` is a different item in the list.  Currently, each row in `address` is separated by a comma. \n",
    "\n",
    "\n",
    "今度はあなたがこれを試す番だ！ Pythonのリストを2つ作る：\n",
    "- letters`はPythonのリストで、各エントリーは英語のアルファベットの大文字でなければなりません。 例えば、最初の2つのエントリは `\"A\"` と `\"B\"` で、最後の2つのエントリは `\"Y\"` と `\"Z\"` とします。 このリストを作成するには文字列 `alphabet` を使用する。\n",
    "- address` は Python のリストでなければならない。 現在、 `address` の各行はカンマで区切られている。"
   ]
  },
  {
   "cell_type": "code",
   "execution_count": 8,
   "id": "b387c28c",
   "metadata": {
    "execution": {
     "iopub.execute_input": "2023-11-16T13:37:34.264992Z",
     "iopub.status.busy": "2023-11-16T13:37:34.264411Z",
     "iopub.status.idle": "2023-11-16T13:37:34.274680Z",
     "shell.execute_reply": "2023-11-16T13:37:34.273569Z"
    },
    "papermill": {
     "duration": 0.02433,
     "end_time": "2023-11-16T13:37:34.277329",
     "exception": false,
     "start_time": "2023-11-16T13:37:34.252999",
     "status": "completed"
    },
    "tags": []
   },
   "outputs": [
    {
     "data": {
      "application/javascript": [
       "parent.postMessage({\"jupyterEvent\": \"custom.exercise_interaction\", \"data\": {\"outcomeType\": 4, \"interactionType\": 1, \"questionType\": 1, \"questionId\": \"3_SplitString\", \"learnToolsVersion\": \"0.3.4\", \"valueTowardsCompletion\": 0.0, \"failureMessage\": \"\", \"exceptionClass\": \"\", \"trace\": \"\"}}, \"*\")"
      ],
      "text/plain": [
       "<IPython.core.display.Javascript object>"
      ]
     },
     "metadata": {},
     "output_type": "display_data"
    },
    {
     "data": {
      "text/markdown": [
       "<span style=\"color:#ccaa33\">Check:</span> When you've updated the starter code, `check()` will tell you whether your code is correct. You need to update the code that creates variables `letters`, `formatted_address`"
      ],
      "text/plain": [
       "Check: When you've updated the starter code, `check()` will tell you whether your code is correct. You need to update the code that creates variables `letters`, `formatted_address`"
      ]
     },
     "metadata": {},
     "output_type": "display_data"
    }
   ],
   "source": [
    "# DO not change: Define two Python strings\n",
    "alphabet = \"A.B.C.D.E.F.G.H.I.J.K.L.M.N.O.P.Q.R.S.T.U.V.W.X.Y.Z\"\n",
    "address = \"Mr. H. Potter,The cupboard under the Stairs,4 Privet Drive,Little Whinging,Surrey\"\n",
    "\n",
    "# TODO: Convert strings into Python lists\n",
    "letters = ____\n",
    "formatted_address = ____\n",
    "\n",
    "# Do not change: Check your answer\n",
    "q3.check()"
   ]
  },
  {
   "cell_type": "code",
   "execution_count": 9,
   "id": "57528b98",
   "metadata": {
    "execution": {
     "iopub.execute_input": "2023-11-16T13:37:34.299692Z",
     "iopub.status.busy": "2023-11-16T13:37:34.299229Z",
     "iopub.status.idle": "2023-11-16T13:37:34.304556Z",
     "shell.execute_reply": "2023-11-16T13:37:34.303335Z"
    },
    "papermill": {
     "duration": 0.019623,
     "end_time": "2023-11-16T13:37:34.307057",
     "exception": false,
     "start_time": "2023-11-16T13:37:34.287434",
     "status": "completed"
    },
    "tags": []
   },
   "outputs": [],
   "source": [
    "# Uncomment to see a hint\n",
    "#q3.hint()\n",
    "\n",
    "# Uncomment to see the solution\n",
    "#q3.solution()"
   ]
  },
  {
   "cell_type": "markdown",
   "id": "f5185586",
   "metadata": {
    "papermill": {
     "duration": 0.010551,
     "end_time": "2023-11-16T13:37:34.328477",
     "exception": false,
     "start_time": "2023-11-16T13:37:34.317926",
     "status": "completed"
    },
    "tags": []
   },
   "source": [
    "# Question 4\n",
    "\n",
    "In the Python course, you'll learn all about **list comprehensions**, which allow you to create a list based on the values in another list.  In this question, you'll get a brief preview of how they work.\n",
    "\n",
    "Say we're working with the list below.\n",
    "\n",
    "Pythonコースでは、**リスト内包**について学びます。 この問題では、リスト内包がどのように動作するかを簡単に説明します。\n",
    "\n",
    "以下のリストを扱うとします。"
   ]
  },
  {
   "cell_type": "code",
   "execution_count": 10,
   "id": "4c8d33bc",
   "metadata": {
    "execution": {
     "iopub.execute_input": "2023-11-16T13:37:34.351915Z",
     "iopub.status.busy": "2023-11-16T13:37:34.351430Z",
     "iopub.status.idle": "2023-11-16T13:37:34.357441Z",
     "shell.execute_reply": "2023-11-16T13:37:34.356135Z"
    },
    "papermill": {
     "duration": 0.020593,
     "end_time": "2023-11-16T13:37:34.359843",
     "exception": false,
     "start_time": "2023-11-16T13:37:34.339250",
     "status": "completed"
    },
    "tags": []
   },
   "outputs": [],
   "source": [
    "test_ratings = [1, 2, 3, 4, 5]"
   ]
  },
  {
   "cell_type": "markdown",
   "id": "52136b5a",
   "metadata": {
    "papermill": {
     "duration": 0.010118,
     "end_time": "2023-11-16T13:37:34.380462",
     "exception": false,
     "start_time": "2023-11-16T13:37:34.370344",
     "status": "completed"
    },
    "tags": []
   },
   "source": [
    "Then we can use this list (`test_ratings`) to create a new list (`test_liked`) where each item has been turned into a boolean, depending on whether or not the item is greater than or equal to four.\n",
    "\n",
    "そして、このリスト（`test_ratings`）を使って、各項目が4以上かどうかによってブール値に変換された新しいリスト（`test_liked`）を作成することができる。"
   ]
  },
  {
   "cell_type": "code",
   "execution_count": 11,
   "id": "51da6c45",
   "metadata": {
    "execution": {
     "iopub.execute_input": "2023-11-16T13:37:34.403697Z",
     "iopub.status.busy": "2023-11-16T13:37:34.402756Z",
     "iopub.status.idle": "2023-11-16T13:37:34.408366Z",
     "shell.execute_reply": "2023-11-16T13:37:34.407571Z"
    },
    "papermill": {
     "duration": 0.020552,
     "end_time": "2023-11-16T13:37:34.411360",
     "exception": false,
     "start_time": "2023-11-16T13:37:34.390808",
     "status": "completed"
    },
    "tags": []
   },
   "outputs": [
    {
     "name": "stdout",
     "output_type": "stream",
     "text": [
      "[False, False, False, True, True]\n"
     ]
    }
   ],
   "source": [
    "test_liked = [i>=4 for i in test_ratings]\n",
    "print(test_liked)"
   ]
  },
  {
   "cell_type": "markdown",
   "id": "525c8670",
   "metadata": {
    "papermill": {
     "duration": 0.010053,
     "end_time": "2023-11-16T13:37:34.432018",
     "exception": false,
     "start_time": "2023-11-16T13:37:34.421965",
     "status": "completed"
    },
    "tags": []
   },
   "source": [
    "In this question, you'll use this list comprehension to define a function `percentage_liked()` that takes one argument as input:\n",
    "- `ratings`: list of ratings that people gave to a movie, where each rating is a number between 1-5, inclusive\n",
    "\n",
    "この問題では、このリスト内包を使って、1つの引数を入力とする関数 `percentage_liked()` を定義します：\n",
    "- ratings`: 人々が映画につけた評価のリスト。\n",
    "\n",
    "We say someone liked the movie, if they gave a rating of either 4 or 5.  Your function should return the percentage of people who liked the movie.\n",
    "\n",
    "ここで、各評価は1〜5の数字で、1〜5を含みます。誰かが映画を気に入ったというのは、その人が4か5の評価をした場合です。 この関数は、その映画を気に入った人の割合を返す必要があります。\n",
    "\n",
    "For instance, if we supply a value of `[1, 2, 3, 4, 5, 4, 5, 1]`, then 50% (4/8) of the people liked the movie, and the function should return `0.5`.\n",
    "\n",
    "例えば、`[1, 2, 3, 4, 5, 4, 5, 1]`という値を与えると、50%(4/8)の人が映画を気に入ったことになり、関数は`0.5`を返す必要があります。\n",
    "\n",
    "Part of the function has already been completed for you.  You need only use `list_liked` to calculate `percentage_liked`.\n",
    "\n",
    "関数の一部はすでに完成している。 list_liked`を使って `percentage_liked` を計算するだけです。"
   ]
  },
  {
   "cell_type": "code",
   "execution_count": 12,
   "id": "8506f8a4",
   "metadata": {
    "execution": {
     "iopub.execute_input": "2023-11-16T13:37:34.454962Z",
     "iopub.status.busy": "2023-11-16T13:37:34.454479Z",
     "iopub.status.idle": "2023-11-16T13:37:34.463987Z",
     "shell.execute_reply": "2023-11-16T13:37:34.462930Z"
    },
    "papermill": {
     "duration": 0.024645,
     "end_time": "2023-11-16T13:37:34.466884",
     "exception": false,
     "start_time": "2023-11-16T13:37:34.442239",
     "status": "completed"
    },
    "tags": []
   },
   "outputs": [
    {
     "data": {
      "application/javascript": [
       "parent.postMessage({\"jupyterEvent\": \"custom.exercise_interaction\", \"data\": {\"outcomeType\": 2, \"failureMessage\": \"Expected return value of `0.5` given `ratings=[1, 2, 3, 4, 5, 4, 5, 1]`, but got `<learntools.core.constants.PlaceholderValue object at 0x791ab6573b50>` instead.\", \"interactionType\": 1, \"questionType\": 2, \"questionId\": \"4_PercentageLiked\", \"learnToolsVersion\": \"0.3.4\", \"valueTowardsCompletion\": 0.0, \"exceptionClass\": \"\", \"trace\": \"\"}}, \"*\")"
      ],
      "text/plain": [
       "<IPython.core.display.Javascript object>"
      ]
     },
     "metadata": {},
     "output_type": "display_data"
    },
    {
     "data": {
      "text/markdown": [
       "<span style=\"color:#cc3333\">Incorrect:</span> Expected return value of `0.5` given `ratings=[1, 2, 3, 4, 5, 4, 5, 1]`, but got `<learntools.core.constants.PlaceholderValue object at 0x791ab6573b50>` instead."
      ],
      "text/plain": [
       "Incorrect: Expected return value of `0.5` given `ratings=[1, 2, 3, 4, 5, 4, 5, 1]`, but got `<learntools.core.constants.PlaceholderValue object at 0x791ab6573b50>` instead."
      ]
     },
     "metadata": {},
     "output_type": "display_data"
    }
   ],
   "source": [
    "\n",
    "def percentage_liked(ratings):\n",
    "    list_liked = [i>=4 for i in ratings]\n",
    "    # TODO: Complete the function\n",
    "    percentage_liked = ____\n",
    "    return percentage_liked\n",
    "\n",
    "# Do not change: should return 0.5\n",
    "percentage_liked([1, 2, 3, 4, 5, 4, 5, 1])\n",
    "\n",
    "# Do not change: Check your answer\n",
    "q4.check()"
   ]
  },
  {
   "cell_type": "code",
   "execution_count": 13,
   "id": "99f60256",
   "metadata": {
    "execution": {
     "iopub.execute_input": "2023-11-16T13:37:34.490970Z",
     "iopub.status.busy": "2023-11-16T13:37:34.490478Z",
     "iopub.status.idle": "2023-11-16T13:37:34.495752Z",
     "shell.execute_reply": "2023-11-16T13:37:34.494582Z"
    },
    "papermill": {
     "duration": 0.020148,
     "end_time": "2023-11-16T13:37:34.498050",
     "exception": false,
     "start_time": "2023-11-16T13:37:34.477902",
     "status": "completed"
    },
    "tags": []
   },
   "outputs": [],
   "source": [
    "# Uncomment to see a hint\n",
    "#q4.hint()\n",
    "\n",
    "# Uncomment to see the solution\n",
    "#q4.solution()"
   ]
  },
  {
   "cell_type": "markdown",
   "id": "8822aecd",
   "metadata": {
    "papermill": {
     "duration": 0.010721,
     "end_time": "2023-11-16T13:37:34.519678",
     "exception": false,
     "start_time": "2023-11-16T13:37:34.508957",
     "status": "completed"
    },
    "tags": []
   },
   "source": [
    "# 🌶️ Question 5\n",
    " \n",
    "Say you're doing analytics for a website.  You need to write a function that returns the percentage growth in the total number of users relative to a specified number of years ago.\n",
    "\n",
    "あるウェブサイトの分析をしているとする。 あなたは、指定した年数前との相対的なユーザー総数の伸び率を返す関数を書く必要があります。\n",
    "\n",
    "\n",
    "Your function `percentage_growth()` should take two arguments as input:\n",
    "- `num_users` = Python list with the total number of users each year.  So `num_users[0]` is the total number of users in the first year, `num_users[1]` is the total number of users in the second year, and so on.  The final entry in the list gives the total number of users in the most recently completed year.\n",
    "- `yrs_ago` = number of years to go back in time when calculating the growth percentage\n",
    "\n",
    "関数 `percentage_growth()` は2つの引数を入力として受け取ります：\n",
    "- num_users` = Python のリストで、各年の総ユーザー数を表す。 つまり、`num_users[0]`は1年目の総ユーザー数、`num_users[1]`は2年目の総ユーザー数、といった具合です。 リストの最後のエントリーは、最近終了した年のユーザー数の合計である。\n",
    "- yrs_ago` = 成長率を計算する際に過去に遡る年数\n",
    "\n",
    "For instance, say `num_users = [920344, 1043553, 1204334, 1458996, 1503323, 1593432, 1623463, 1843064, 1930992, 2001078]`.\n",
    "- if `yrs_ago = 1`, we want the function to return a value of about `0.036`. This corresponds to a percentage growth of approximately 3.6%, calculated as (2001078 - 1930992)/1930992.\n",
    "- if `years_ago = 7`, we would want to return approximately `0.66`.  This corresponds to a percentage growth of approximately 66%, calculated as (2001078 - 1204334)/1204334.\n",
    "\n",
    "例えば、`num_users = [920344, 1043553, 1204334, 1458996, 1503323, 1593432, 1623463, 1843064, 1930992, 2001078]`とする。\n",
    "- もし`yrs_ago = 1`なら、この関数は約`0.036`の値を返したい。これは約3.6%の成長率に相当し、(2001078 - 1930992)/1930992として計算される。\n",
    "- years_ago = 7` の場合、約 `0.66` を返したい。 これは、(2001078 - 1204334)/1204334 として計算される約 66% の成長率に相当します。\n",
    "\n",
    "Your coworker sent you a draft of a function, but it doesn't seem to be doing the correct calculation.  Can you figure out what has gone wrong and make the needed changes?\n",
    "\n",
    "あなたの同僚が関数の草稿を送ってきましたが、正しい計算をしていないようです。 何が間違っているのか理解し、必要な変更を加えることができますか？"
   ]
  },
  {
   "cell_type": "code",
   "execution_count": 14,
   "id": "156a2318",
   "metadata": {
    "execution": {
     "iopub.execute_input": "2023-11-16T13:37:34.544144Z",
     "iopub.status.busy": "2023-11-16T13:37:34.543677Z",
     "iopub.status.idle": "2023-11-16T13:37:34.556389Z",
     "shell.execute_reply": "2023-11-16T13:37:34.555288Z"
    },
    "papermill": {
     "duration": 0.028929,
     "end_time": "2023-11-16T13:37:34.559771",
     "exception": false,
     "start_time": "2023-11-16T13:37:34.530842",
     "status": "completed"
    },
    "tags": []
   },
   "outputs": [
    {
     "name": "stdout",
     "output_type": "stream",
     "text": [
      "0.0\n",
      "0.2807272117129434\n"
     ]
    },
    {
     "data": {
      "application/javascript": [
       "parent.postMessage({\"jupyterEvent\": \"custom.exercise_interaction\", \"data\": {\"outcomeType\": 2, \"failureMessage\": \"Expected return value of `0.03629533421163837` given `num_users=[920344, 1043553, 1204334, 1458996, 1503323, 1593432, 1623463, 1843064, 1930992, 2001078]`, `yrs_ago=1`, but got `0.0` instead.\", \"interactionType\": 1, \"questionType\": 2, \"questionId\": \"5_WebsiteAnalytics\", \"learnToolsVersion\": \"0.3.4\", \"valueTowardsCompletion\": 0.0, \"exceptionClass\": \"\", \"trace\": \"\"}}, \"*\")"
      ],
      "text/plain": [
       "<IPython.core.display.Javascript object>"
      ]
     },
     "metadata": {},
     "output_type": "display_data"
    },
    {
     "data": {
      "text/markdown": [
       "<span style=\"color:#cc3333\">Incorrect:</span> Expected return value of `0.03629533421163837` given `num_users=[920344, 1043553, 1204334, 1458996, 1503323, 1593432, 1623463, 1843064, 1930992, 2001078]`, `yrs_ago=1`, but got `0.0` instead."
      ],
      "text/plain": [
       "Incorrect: Expected return value of `0.03629533421163837` given `num_users=[920344, 1043553, 1204334, 1458996, 1503323, 1593432, 1623463, 1843064, 1930992, 2001078]`, `yrs_ago=1`, but got `0.0` instead."
      ]
     },
     "metadata": {},
     "output_type": "display_data"
    }
   ],
   "source": [
    "# TODO: Edit the function\n",
    "def percentage_growth(num_users, yrs_ago):\n",
    "    growth = (num_users[len(num_users)-1] - num_users[len(num_users)-yrs_ago])/num_users[len(num_users)-2]\n",
    "    return growth\n",
    "\n",
    "# Do not change: Variable for calculating some test examples\n",
    "num_users_test = [920344, 1043553, 1204334, 1458996, 1503323, 1593432, 1623463, 1843064, 1930992, 2001078]\n",
    "\n",
    "# Do not change: Should return .036\n",
    "print(percentage_growth(num_users_test, 1))\n",
    "\n",
    "# Do not change: Should return 0.66\n",
    "print(percentage_growth(num_users_test, 7))\n",
    "\n",
    "# Do not change: Check your answer\n",
    "q5.check()"
   ]
  },
  {
   "cell_type": "code",
   "execution_count": 15,
   "id": "c4c54f97",
   "metadata": {
    "execution": {
     "iopub.execute_input": "2023-11-16T13:37:34.585026Z",
     "iopub.status.busy": "2023-11-16T13:37:34.584247Z",
     "iopub.status.idle": "2023-11-16T13:37:34.588960Z",
     "shell.execute_reply": "2023-11-16T13:37:34.587882Z"
    },
    "papermill": {
     "duration": 0.020178,
     "end_time": "2023-11-16T13:37:34.591372",
     "exception": false,
     "start_time": "2023-11-16T13:37:34.571194",
     "status": "completed"
    },
    "tags": []
   },
   "outputs": [],
   "source": [
    "# Uncomment to see a hint\n",
    "#q5.hint()\n",
    "\n",
    "# Uncomment to see the solution\n",
    "#q5.solution()"
   ]
  },
  {
   "cell_type": "markdown",
   "id": "555b70fd",
   "metadata": {
    "papermill": {
     "duration": 0.01118,
     "end_time": "2023-11-16T13:37:34.614212",
     "exception": false,
     "start_time": "2023-11-16T13:37:34.603032",
     "status": "completed"
    },
    "tags": []
   },
   "source": [
    "# Congratulations!\n",
    "\n",
    "Congratulations for finishing the Intro to Programming course!  You should be proud of your very first steps with learning programming.  As next steps, we recommend taking:\n",
    "- the **[Python course](http://www.kaggle.com/learn/python)**, and \n",
    "- the **[Intro to Machine Learning course](https://www.kaggle.com/learn/intro-to-machine-learning)**."
   ]
  },
  {
   "cell_type": "markdown",
   "id": "2a2f7d9e",
   "metadata": {
    "papermill": {
     "duration": 0.010999,
     "end_time": "2023-11-16T13:37:34.636444",
     "exception": false,
     "start_time": "2023-11-16T13:37:34.625445",
     "status": "completed"
    },
    "tags": []
   },
   "source": [
    "---\n",
    "\n",
    "\n",
    "\n",
    "\n",
    "*Have questions or comments? Visit the [course discussion forum](https://www.kaggle.com/learn/intro-to-programming/discussion) to chat with other learners.*"
   ]
  }
 ],
 "metadata": {
  "kaggle": {
   "accelerator": "none",
   "dataSources": [],
   "dockerImageVersionId": 30587,
   "isGpuEnabled": false,
   "isInternetEnabled": false,
   "language": "python",
   "sourceType": "notebook"
  },
  "kernelspec": {
   "display_name": "Python 3",
   "language": "python",
   "name": "python3"
  },
  "language_info": {
   "codemirror_mode": {
    "name": "ipython",
    "version": 3
   },
   "file_extension": ".py",
   "mimetype": "text/x-python",
   "name": "python",
   "nbconvert_exporter": "python",
   "pygments_lexer": "ipython3",
   "version": "3.10.12"
  },
  "papermill": {
   "default_parameters": {},
   "duration": 7.119258,
   "end_time": "2023-11-16T13:37:35.272458",
   "environment_variables": {},
   "exception": null,
   "input_path": "__notebook__.ipynb",
   "output_path": "__notebook__.ipynb",
   "parameters": {},
   "start_time": "2023-11-16T13:37:28.153200",
   "version": "2.4.0"
  }
 },
 "nbformat": 4,
 "nbformat_minor": 5
}
