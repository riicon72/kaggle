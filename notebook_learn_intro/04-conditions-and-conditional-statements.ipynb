{
 "cells": [
  {
   "cell_type": "markdown",
   "id": "43b53e71",
   "metadata": {
    "papermill": {
     "duration": 0.010449,
     "end_time": "2023-11-15T08:39:45.124873",
     "exception": false,
     "start_time": "2023-11-15T08:39:45.114424",
     "status": "completed"
    },
    "tags": []
   },
   "source": [
    "日本人向けに日本語訳を入れました。 言い回しが間違っていたらすみません。 お役に立てれば幸いです"
   ]
  },
  {
   "cell_type": "markdown",
   "id": "bd9e6cba",
   "metadata": {
    "papermill": {
     "duration": 0.009465,
     "end_time": "2023-11-15T08:39:45.144378",
     "exception": false,
     "start_time": "2023-11-15T08:39:45.134913",
     "status": "completed"
    },
    "tags": []
   },
   "source": [
    "In the tutorial, you learned about four different data types: floats, integers, strings, and booleans.  In this exercise, you'll experiment with them.\n",
    "このチュートリアルでは、浮動小数点数、整数、文字列、ブール値の 4 つの異なるデータ型について学習しました。 この演習では、それらを試してみましょう。\n",
    "\n",
    "# Set up the notebook　　--ノートブックをセットする\n",
    "\n",
    "Run the next code cell without changes to set up the notebook.\n",
    "変更を加えずに次のコード セルを実行して、ノートブックをセットアップします。"
   ]
  },
  {
   "cell_type": "code",
   "execution_count": 1,
   "id": "0cc8e792",
   "metadata": {
    "execution": {
     "iopub.execute_input": "2023-11-15T08:39:45.166279Z",
     "iopub.status.busy": "2023-11-15T08:39:45.165713Z",
     "iopub.status.idle": "2023-11-15T08:39:45.699579Z",
     "shell.execute_reply": "2023-11-15T08:39:45.697715Z"
    },
    "papermill": {
     "duration": 0.548601,
     "end_time": "2023-11-15T08:39:45.702775",
     "exception": false,
     "start_time": "2023-11-15T08:39:45.154174",
     "status": "completed"
    },
    "tags": []
   },
   "outputs": [
    {
     "name": "stdout",
     "output_type": "stream",
     "text": [
      "Setup complete.\n"
     ]
    }
   ],
   "source": [
    "from learntools.core import binder\n",
    "binder.bind(globals())\n",
    "from learntools.intro_to_programming.ex4 import *\n",
    "print('Setup complete.')"
   ]
  },
  {
   "cell_type": "markdown",
   "id": "5bbcd7a9",
   "metadata": {
    "papermill": {
     "duration": 0.00991,
     "end_time": "2023-11-15T08:39:45.722949",
     "exception": false,
     "start_time": "2023-11-15T08:39:45.713039",
     "status": "completed"
    },
    "tags": []
   },
   "source": [
    "# Question 1\n",
    "\n",
    "You work at a college admissions office.  When inspecting a dataset of college applicants, you notice that some students have represented their grades with letters (`\"A\"`, `\"B\"`, `\"C\"`, `\"D\"`, `\"F\"`), whereas others have represented their grades with a number between 0 and 100.\n",
    "\n",
    "あなたは大学の入学事務局で働いています。 大学受験者のデータセットを検査すると、一部の学生が自分の成績を文字 (「A」`、「B」`、「C」`、「D」`、「F」`) で表していることに気づきました。 , 一方、0から100までの数字で成績を表している人もいます。\n",
    "\n",
    "You realize that for consistency, all of the grades should be formatted in the same way, and you decide to format them all as letters.  For the conversion, you decide to assign:\n",
    "- `\"A\"` - any grade 90-100, inclusive\n",
    "- `\"B\"` - any grade 80-89, inclusive\n",
    "- `\"C\"` - any grade 70-79, inclusive\n",
    "- `\"D\"` - any grade 60-69, inclusive\n",
    "- `\"F\"` - any grade <60\n",
    "一貫性を保つために、すべての成績を同じ方法で書式設定する必要があることに気づき、すべてを文字として書式設定することにしました。 変換のために、次のものを割り当てることにします。\n",
    "- `「A」` - グレード 90 ～ 100 (両端を含む)\n",
    "- `\"B\"` - グレード 80 ～ 89 のいずれか（両端を含む）\n",
    "- `\"C\"` - グレード 70 ～ 79 (両端を含む)\n",
    "- `「D」` - グレード 60 ～ 69 のいずれか（両端を含む）\n",
    "- `\"F\"` - 任意のグレード <60\n",
    "\n",
    "Write a function `get_grade()` that takes as input:\n",
    "- `score` - an integer 0-100 corresponding to a numerical grade\n",
    "入力として受け取る関数 `get_grade()` を作成します。\n",
    "- `score` - 数値的な成績に対応する 0 ～ 100 の整数\n",
    "\n",
    "It should return a Python string with the letter grade that it corresponds to.  For instance,\n",
    "- A score of 85 corresponds to a B grade.  In other words, `get_grade(85)` should return `\"B\"`.\n",
    "- A score of 49 corresponds to an F grade.  In other words, `get_grade(49)` should return `\"F\"`.\n",
    "対応する文字グレードを含む Python 文字列を返す必要があります。 例えば、\n",
    "- スコア 85 は B グレードに相当します。 言い換えれば、`get_grade(85)` は `\"B\"` を返す必要があります。\n",
    "- スコア 49 は F グレードに相当します。 言い換えれば、`get_grade(49)` は `\"F\"` を返す必要があります。\n",
    "\n",
    "Make sure that when supplying the grade that is returned by the function, it is enclosed in quotes.  (For instance, if you want to return `\"A\"`, you should write `return \"A\"` and not `return A`.)\n",
    "関数によって返されるグレードを指定するときは、必ず引用符で囲んでください。 (たとえば、「A」を返したい場合は、「return A」ではなく、「return \"A\"」と書く必要があります。)"
   ]
  },
  {
   "cell_type": "code",
   "execution_count": 2,
   "id": "fd7695c5",
   "metadata": {
    "execution": {
     "iopub.execute_input": "2023-11-15T08:39:45.745858Z",
     "iopub.status.busy": "2023-11-15T08:39:45.745141Z",
     "iopub.status.idle": "2023-11-15T08:39:45.758538Z",
     "shell.execute_reply": "2023-11-15T08:39:45.757345Z"
    },
    "papermill": {
     "duration": 0.027855,
     "end_time": "2023-11-15T08:39:45.761029",
     "exception": false,
     "start_time": "2023-11-15T08:39:45.733174",
     "status": "completed"
    },
    "tags": []
   },
   "outputs": [
    {
     "data": {
      "application/javascript": [
       "parent.postMessage({\"jupyterEvent\": \"custom.exercise_interaction\", \"data\": {\"outcomeType\": 1, \"valueTowardsCompletion\": 0.2, \"interactionType\": 1, \"questionType\": 2, \"questionId\": \"1_GetGrade\", \"learnToolsVersion\": \"0.3.4\", \"failureMessage\": \"\", \"exceptionClass\": \"\", \"trace\": \"\"}}, \"*\")"
      ],
      "text/plain": [
       "<IPython.core.display.Javascript object>"
      ]
     },
     "metadata": {},
     "output_type": "display_data"
    },
    {
     "data": {
      "text/markdown": [
       "<span style=\"color:#33cc33\">Correct</span>"
      ],
      "text/plain": [
       "Correct"
      ]
     },
     "metadata": {},
     "output_type": "display_data"
    }
   ],
   "source": [
    "# TODO: Edit the function to return the correct grade for different scores\n",
    "def get_grade(score):\n",
    "    if score >= 90:\n",
    "        grade = \"A\"\n",
    "    elif score >= 80:\n",
    "        grade = \"B\"\n",
    "    elif score >= 70:\n",
    "        grade = \"C\"\n",
    "    elif score >= 60:\n",
    "        grade = \"D\"\n",
    "    else:\n",
    "        grade = \"F\"\n",
    "    return grade\n",
    "    \n",
    "# Check your answer\n",
    "q1.check()"
   ]
  },
  {
   "cell_type": "code",
   "execution_count": 3,
   "id": "f981b6bc",
   "metadata": {
    "execution": {
     "iopub.execute_input": "2023-11-15T08:39:45.785162Z",
     "iopub.status.busy": "2023-11-15T08:39:45.784330Z",
     "iopub.status.idle": "2023-11-15T08:39:45.797536Z",
     "shell.execute_reply": "2023-11-15T08:39:45.796234Z"
    },
    "papermill": {
     "duration": 0.028131,
     "end_time": "2023-11-15T08:39:45.799911",
     "exception": false,
     "start_time": "2023-11-15T08:39:45.771780",
     "status": "completed"
    },
    "tags": []
   },
   "outputs": [
    {
     "data": {
      "application/javascript": [
       "parent.postMessage({\"jupyterEvent\": \"custom.exercise_interaction\", \"data\": {\"interactionType\": 2, \"questionType\": 2, \"questionId\": \"1_GetGrade\", \"learnToolsVersion\": \"0.3.4\", \"valueTowardsCompletion\": 0.0, \"failureMessage\": \"\", \"exceptionClass\": \"\", \"trace\": \"\", \"outcomeType\": 4}}, \"*\")"
      ],
      "text/plain": [
       "<IPython.core.display.Javascript object>"
      ]
     },
     "metadata": {},
     "output_type": "display_data"
    },
    {
     "data": {
      "text/markdown": [
       "<span style=\"color:#3366cc\">Hint:</span> `\"A\"` should only be returned if `score >= 90`.  Otherwise, if the score is between 80 and 89 (inclusive), or 70 and 79 (inclusive), 60 and 69 (inclusive), or less than 60, a different score should be returned.  Make sure that your function always returns one of: `\"A\"`, `\"B\"`, `\"C\"`, `\"D\"`, or `\"F\"`."
      ],
      "text/plain": [
       "Hint: `\"A\"` should only be returned if `score >= 90`.  Otherwise, if the score is between 80 and 89 (inclusive), or 70 and 79 (inclusive), 60 and 69 (inclusive), or less than 60, a different score should be returned.  Make sure that your function always returns one of: `\"A\"`, `\"B\"`, `\"C\"`, `\"D\"`, or `\"F\"`."
      ]
     },
     "metadata": {},
     "output_type": "display_data"
    },
    {
     "data": {
      "application/javascript": [
       "parent.postMessage({\"jupyterEvent\": \"custom.exercise_interaction\", \"data\": {\"interactionType\": 3, \"questionType\": 2, \"questionId\": \"1_GetGrade\", \"learnToolsVersion\": \"0.3.4\", \"valueTowardsCompletion\": 0.0, \"failureMessage\": \"\", \"exceptionClass\": \"\", \"trace\": \"\", \"outcomeType\": 4}}, \"*\")"
      ],
      "text/plain": [
       "<IPython.core.display.Javascript object>"
      ]
     },
     "metadata": {},
     "output_type": "display_data"
    },
    {
     "data": {
      "text/markdown": [
       "<span style=\"color:#33cc99\">Solution:</span> \n",
       "```python\n",
       "def get_grade(score):\n",
       "    if score >= 90:\n",
       "        grade = \"A\"\n",
       "    elif score >= 80:\n",
       "        grade = \"B\"\n",
       "    elif score >= 70:\n",
       "        grade = \"C\"\n",
       "    elif score >= 60:\n",
       "        grade = \"D\"\n",
       "    else:\n",
       "        grade = \"F\"\n",
       "    return grade\n",
       "\n",
       "```"
      ],
      "text/plain": [
       "Solution: \n",
       "```python\n",
       "def get_grade(score):\n",
       "    if score >= 90:\n",
       "        grade = \"A\"\n",
       "    elif score >= 80:\n",
       "        grade = \"B\"\n",
       "    elif score >= 70:\n",
       "        grade = \"C\"\n",
       "    elif score >= 60:\n",
       "        grade = \"D\"\n",
       "    else:\n",
       "        grade = \"F\"\n",
       "    return grade\n",
       "\n",
       "```"
      ]
     },
     "metadata": {},
     "output_type": "display_data"
    }
   ],
   "source": [
    "# Uncomment to see a hint\n",
    "q1.hint()\n",
    "\n",
    "# Uncomment to see the solution\n",
    "q1.solution()"
   ]
  },
  {
   "cell_type": "markdown",
   "id": "60783755",
   "metadata": {
    "papermill": {
     "duration": 0.010823,
     "end_time": "2023-11-15T08:39:45.821797",
     "exception": false,
     "start_time": "2023-11-15T08:39:45.810974",
     "status": "completed"
    },
    "tags": []
   },
   "source": [
    "# Question 2\n",
    "\n",
    "In the exercise for the previous lesson, you wrote a function `cost_of_project()` that estimated the price of rings for an online shop that sells rings with custom engravings.  This function did not use conditional statements.  In this exercise, you will rewrite the function to use conditional statements.  Recall that the online shop has the following price structure:\n",
    "前のレッスンの演習では、カスタム彫刻を施した指輪を販売するオンライン ショップの指輪の価格を見積もる関数 `cost_of_project()` を作成しました。 この関数は条件文を使用しませんでした。 この演習では、条件ステートメントを使用するように関数を書き直します。 オンライン ショップの価格体系は次のとおりです。\n",
    "- Gold plated rings have a base cost of \\\\$50, and you charge \\\\$7 per engraved unit.  \n",
    "- Solid gold rings have a base cost of \\\\$100, and you charge \\\\$10 per engraved unit.\n",
    "- Spaces and punctuation are counted as engraved units.\n",
    "- ゴールドメッキリングの基本料金は \\\\$50 で、彫刻単位ごとに \\\\$7 かかります。\n",
    "- 純金リングの基本価格は \\\\$100 で、彫刻単位ごとに \\\\$10 かかります。\n",
    "- スペースと句読点も彫刻単位としてカウントされます。\n",
    "\n",
    "Your function `cost_of_project()` takes two arguments:\n",
    "- `engraving` - a Python string with the text of the engraving\n",
    "- `solid_gold` - a Boolean that indicates whether the ring is solid gold\n",
    "\n",
    "It should return the cost of the project.  \n",
    "\n",
    "The function has been partially completed for you, and you need to fill in the blanks to complete the function.\n",
    "関数 `cost_of_project()` は 2 つの引数を取ります。\n",
    "- `engraving` - 彫刻のテキストを含む Python 文字列\n",
    "- `solid_gold` - リングが純金かどうかを示すブール値\n",
    "\n",
    "プロジェクトのコストを返す必要があります。\n",
    "\n",
    "機能は部分的に完了しています。機能を完了するには空白を埋める必要があります。"
   ]
  },
  {
   "cell_type": "code",
   "execution_count": 4,
   "id": "50027296",
   "metadata": {
    "execution": {
     "iopub.execute_input": "2023-11-15T08:39:45.846706Z",
     "iopub.status.busy": "2023-11-15T08:39:45.845425Z",
     "iopub.status.idle": "2023-11-15T08:39:45.858406Z",
     "shell.execute_reply": "2023-11-15T08:39:45.857253Z"
    },
    "papermill": {
     "duration": 0.028256,
     "end_time": "2023-11-15T08:39:45.861242",
     "exception": false,
     "start_time": "2023-11-15T08:39:45.832986",
     "status": "completed"
    },
    "tags": []
   },
   "outputs": [
    {
     "data": {
      "application/javascript": [
       "parent.postMessage({\"jupyterEvent\": \"custom.exercise_interaction\", \"data\": {\"outcomeType\": 1, \"valueTowardsCompletion\": 0.2, \"interactionType\": 1, \"questionType\": 2, \"questionId\": \"2_CostProjectPartDeux\", \"learnToolsVersion\": \"0.3.4\", \"failureMessage\": \"\", \"exceptionClass\": \"\", \"trace\": \"\"}}, \"*\")"
      ],
      "text/plain": [
       "<IPython.core.display.Javascript object>"
      ]
     },
     "metadata": {},
     "output_type": "display_data"
    },
    {
     "data": {
      "text/markdown": [
       "<span style=\"color:#33cc33\">Correct</span>"
      ],
      "text/plain": [
       "Correct"
      ]
     },
     "metadata": {},
     "output_type": "display_data"
    }
   ],
   "source": [
    "def cost_of_project(engraving, solid_gold):\n",
    "    num_units = len(engraving)\n",
    "    if solid_gold == True:\n",
    "        cost = 100 + 10 * num_units\n",
    "    else:\n",
    "        cost = 50 + 7 * num_units\n",
    "    return cost\n",
    "\n",
    "# option 2 \n",
    "def cost_of_project(engraving, solid_gold):\n",
    "    if solid_gold == True:\n",
    "        cost = 100 + 10 * len(engraving)\n",
    "    else:\n",
    "        cost = 50 + 7 * len(engraving)\n",
    "    return cost\n",
    "\n",
    "# Check your answer\n",
    "q2.check()"
   ]
  },
  {
   "cell_type": "code",
   "execution_count": 5,
   "id": "52ef08ae",
   "metadata": {
    "execution": {
     "iopub.execute_input": "2023-11-15T08:39:45.886712Z",
     "iopub.status.busy": "2023-11-15T08:39:45.886220Z",
     "iopub.status.idle": "2023-11-15T08:39:45.901354Z",
     "shell.execute_reply": "2023-11-15T08:39:45.900306Z"
    },
    "papermill": {
     "duration": 0.031317,
     "end_time": "2023-11-15T08:39:45.904049",
     "exception": false,
     "start_time": "2023-11-15T08:39:45.872732",
     "status": "completed"
    },
    "tags": []
   },
   "outputs": [
    {
     "data": {
      "application/javascript": [
       "parent.postMessage({\"jupyterEvent\": \"custom.exercise_interaction\", \"data\": {\"interactionType\": 2, \"questionType\": 2, \"questionId\": \"2_CostProjectPartDeux\", \"learnToolsVersion\": \"0.3.4\", \"valueTowardsCompletion\": 0.0, \"failureMessage\": \"\", \"exceptionClass\": \"\", \"trace\": \"\", \"outcomeType\": 4}}, \"*\")"
      ],
      "text/plain": [
       "<IPython.core.display.Javascript object>"
      ]
     },
     "metadata": {},
     "output_type": "display_data"
    },
    {
     "data": {
      "text/markdown": [
       "<span style=\"color:#3366cc\">Hint:</span> If `solid_gold = True`, then the cost of the ring is \\$100 (base cost), plus \\$10 times the length of the engraving.  You can get the length of the engraving with `len(engraving)`.  Otherwise, if `solid_gold = False`, then the cost of the ring is \\$50 (base cost), plus \\$7 times the length of the engraving."
      ],
      "text/plain": [
       "Hint: If `solid_gold = True`, then the cost of the ring is \\$100 (base cost), plus \\$10 times the length of the engraving.  You can get the length of the engraving with `len(engraving)`.  Otherwise, if `solid_gold = False`, then the cost of the ring is \\$50 (base cost), plus \\$7 times the length of the engraving."
      ]
     },
     "metadata": {},
     "output_type": "display_data"
    },
    {
     "data": {
      "application/javascript": [
       "parent.postMessage({\"jupyterEvent\": \"custom.exercise_interaction\", \"data\": {\"interactionType\": 3, \"questionType\": 2, \"questionId\": \"2_CostProjectPartDeux\", \"learnToolsVersion\": \"0.3.4\", \"valueTowardsCompletion\": 0.0, \"failureMessage\": \"\", \"exceptionClass\": \"\", \"trace\": \"\", \"outcomeType\": 4}}, \"*\")"
      ],
      "text/plain": [
       "<IPython.core.display.Javascript object>"
      ]
     },
     "metadata": {},
     "output_type": "display_data"
    },
    {
     "data": {
      "text/markdown": [
       "<span style=\"color:#33cc99\">Solution:</span> \n",
       "```python\n",
       "# option 1\n",
       "def cost_of_project(engraving, solid_gold):\n",
       "    num_units = len(engraving)\n",
       "    if solid_gold == True:\n",
       "        cost = 100 + 10 * num_units\n",
       "    else:\n",
       "        cost = 50 + 7 * num_units\n",
       "    return cost\n",
       "    \n",
       "# option 2 \n",
       "def cost_of_project(engraving, solid_gold):\n",
       "    if solid_gold == True:\n",
       "        cost = 100 + 10 * len(engraving)\n",
       "    else:\n",
       "        cost = 50 + 7 * len(engraving)\n",
       "    return cost\n",
       "\n",
       "```"
      ],
      "text/plain": [
       "Solution: \n",
       "```python\n",
       "# option 1\n",
       "def cost_of_project(engraving, solid_gold):\n",
       "    num_units = len(engraving)\n",
       "    if solid_gold == True:\n",
       "        cost = 100 + 10 * num_units\n",
       "    else:\n",
       "        cost = 50 + 7 * num_units\n",
       "    return cost\n",
       "    \n",
       "# option 2 \n",
       "def cost_of_project(engraving, solid_gold):\n",
       "    if solid_gold == True:\n",
       "        cost = 100 + 10 * len(engraving)\n",
       "    else:\n",
       "        cost = 50 + 7 * len(engraving)\n",
       "    return cost\n",
       "\n",
       "```"
      ]
     },
     "metadata": {},
     "output_type": "display_data"
    }
   ],
   "source": [
    "# Uncomment to see a hint\n",
    "q2.hint()\n",
    "# ヒント: Solid_gold = True の場合、リングのコストは 100(𝑏𝑎𝑠𝑒𝑐𝑜𝑠𝑡),𝑝𝑙𝑢𝑠\n",
    "#   彫刻の長さの10倍。 彫刻の長さはlen(彫刻)で取得できます。 それ以外の場合、solid_gold = False の場合、リングのコストは 50(𝑏𝑎𝑠𝑒𝑐𝑜𝑠𝑡),𝑝𝑙𝑢𝑠\n",
    "#   彫刻の長さの7倍。\n",
    "\n",
    "# Uncomment to see the solution\n",
    "q2.solution()"
   ]
  },
  {
   "cell_type": "markdown",
   "id": "a31609a6",
   "metadata": {
    "papermill": {
     "duration": 0.012353,
     "end_time": "2023-11-15T08:39:45.928718",
     "exception": false,
     "start_time": "2023-11-15T08:39:45.916365",
     "status": "completed"
    },
    "tags": []
   },
   "source": [
    "# Question 3\n",
    "\n",
    "You are a programmer at a water agency.  Recently, you have been tasked to write a function `get_water_bill()` that takes as input:\n",
    "- `num_gallons` = the number of gallons of water that a customer used that month.  (This will always be an integer with no decimal part.)\n",
    "\n",
    "It should output the water bill.  \n",
    "あなたは水道局のプログラマーです。 最近、あなたは入力として受け取る関数 `get_water_bill()` を書くように命じられました。\n",
    "- `num_gallons` = 顧客がその月に使用した水のガロン数。 (これは常に小数部分のない整数になります。)\n",
    "\n",
    "水道料金が出力されるはずです。\n",
    "\n",
    "The water agency uses this pricing structure:\n",
    "<table style=\"width: 100%;\">\n",
    "<tbody>\n",
    "<tr><th><b>Tier</b></th><th><b>Amount in gallons</b></th><th><b>Price per 1000 gallons</b></th></tr>\n",
    "<tr>\n",
    "<td>Tier 1</td>\n",
    "<td>0 - 8,000</td>\n",
    "<td>\\$5</td>\n",
    "</tr>\n",
    "<tr>\n",
    "<td>Tier 2</td>\n",
    "<td>8,001 - 22,000</td>\n",
    "<td>\\$6</td>\n",
    "</tr>\n",
    "<tr>\n",
    "<td>Tier 3</td>\n",
    "<td>22,001 - 30,000</td>\n",
    "<td>\\$7</td>\n",
    "</tr>\n",
    "<tr>\n",
    "<td>Tier 4</td>\n",
    "<td>30,001+</td>\n",
    "<td>\\$10</td>\n",
    "</tr>\n",
    "</tbody>\n",
    "</table>\n",
    "\n",
    "For example: \n",
    "- Someone who uses 10,000 gallons of water in a month is placed in Tier 2, and needs to pay a water bill of \\\\$6 * 10 = \\\\$60.  In other words, `get_water_bill(10000)` should return `60.0`.\n",
    "- Someone who uses 25,000 gallons of water in a month is placed in Tier 3, and needs to pay a water bill of \\\\$7 * 25 = \\\\$175.  In other words, `get_water_bill(25000)` should return `175.0`.\n",
    "\n",
    "**Do not round your answer.**  So, your answer might return fractions of a penny.\n",
    "\n",
    "例えば：\n",
    "- 1 か月に 10,000 ガロンの水を使用する人は Tier 2 に分類され、\\\\$6 * 10 = \\\\$60 の水道料金を支払う必要があります。 言い換えれば、`get_water_bill(10000)` は `60.0` を返すはずです。\n",
    "- 1 か月に 25,000 ガロンの水を使用する人は Tier 3 に分類され、\\\\$7 * 25 = \\\\$175 の水道料金を支払う必要があります。 言い換えれば、`get_water_bill(25000)` は `175.0` を返すはずです。\n",
    "\n",
    "**答えを四捨五入しないでください。** そのため、答えは 1 ペニーの端数を返す可能性があります。"
   ]
  },
  {
   "cell_type": "code",
   "execution_count": 6,
   "id": "6da53e64",
   "metadata": {
    "execution": {
     "iopub.execute_input": "2023-11-15T08:39:45.957591Z",
     "iopub.status.busy": "2023-11-15T08:39:45.956811Z",
     "iopub.status.idle": "2023-11-15T08:39:45.970034Z",
     "shell.execute_reply": "2023-11-15T08:39:45.968717Z"
    },
    "papermill": {
     "duration": 0.030013,
     "end_time": "2023-11-15T08:39:45.972781",
     "exception": false,
     "start_time": "2023-11-15T08:39:45.942768",
     "status": "completed"
    },
    "tags": []
   },
   "outputs": [
    {
     "data": {
      "application/javascript": [
       "parent.postMessage({\"jupyterEvent\": \"custom.exercise_interaction\", \"data\": {\"outcomeType\": 1, \"valueTowardsCompletion\": 0.2, \"interactionType\": 1, \"questionType\": 2, \"questionId\": \"3_GetWaterBill\", \"learnToolsVersion\": \"0.3.4\", \"failureMessage\": \"\", \"exceptionClass\": \"\", \"trace\": \"\"}}, \"*\")"
      ],
      "text/plain": [
       "<IPython.core.display.Javascript object>"
      ]
     },
     "metadata": {},
     "output_type": "display_data"
    },
    {
     "data": {
      "text/markdown": [
       "<span style=\"color:#33cc33\">Correct</span>"
      ],
      "text/plain": [
       "Correct"
      ]
     },
     "metadata": {},
     "output_type": "display_data"
    }
   ],
   "source": [
    "# TODO: Edit the function to return the correct bill for different\n",
    "# values of num_gallons\n",
    "def get_water_bill(num_gallons):\n",
    "    if num_gallons <= 8000:\n",
    "        bill = 5 * num_gallons / 1000\n",
    "    elif num_gallons <= 22000:\n",
    "        bill = 6 * num_gallons / 1000\n",
    "    elif num_gallons <= 30000:\n",
    "        bill = 7 * num_gallons / 1000\n",
    "    else:\n",
    "        bill = 10 * num_gallons / 1000\n",
    "    return bill\n",
    "\n",
    "# Check your answer\n",
    "q3.check()"
   ]
  },
  {
   "cell_type": "code",
   "execution_count": 7,
   "id": "7c84e233",
   "metadata": {
    "execution": {
     "iopub.execute_input": "2023-11-15T08:39:45.999919Z",
     "iopub.status.busy": "2023-11-15T08:39:45.999394Z",
     "iopub.status.idle": "2023-11-15T08:39:46.014703Z",
     "shell.execute_reply": "2023-11-15T08:39:46.013391Z"
    },
    "papermill": {
     "duration": 0.032042,
     "end_time": "2023-11-15T08:39:46.017402",
     "exception": false,
     "start_time": "2023-11-15T08:39:45.985360",
     "status": "completed"
    },
    "tags": []
   },
   "outputs": [
    {
     "data": {
      "application/javascript": [
       "parent.postMessage({\"jupyterEvent\": \"custom.exercise_interaction\", \"data\": {\"interactionType\": 2, \"questionType\": 2, \"questionId\": \"3_GetWaterBill\", \"learnToolsVersion\": \"0.3.4\", \"valueTowardsCompletion\": 0.0, \"failureMessage\": \"\", \"exceptionClass\": \"\", \"trace\": \"\", \"outcomeType\": 4}}, \"*\")"
      ],
      "text/plain": [
       "<IPython.core.display.Javascript object>"
      ]
     },
     "metadata": {},
     "output_type": "display_data"
    },
    {
     "data": {
      "text/markdown": [
       "<span style=\"color:#3366cc\">Hint:</span> \n",
       "Your solution should look something like:\n",
       "```python\n",
       "def get_water_bill(num_gallons):\n",
       "    if num_gallons <= 8000:\n",
       "        bill = ____ \n",
       "    elif num_gallons <= 22000:\n",
       "        bill = ____ \n",
       "    elif num_gallons <= 30000:\n",
       "        bill = ____\n",
       "    else:\n",
       "        bill = ____ \n",
       "    return bill\n",
       "```\n"
      ],
      "text/plain": [
       "Hint: \n",
       "Your solution should look something like:\n",
       "```python\n",
       "def get_water_bill(num_gallons):\n",
       "    if num_gallons <= 8000:\n",
       "        bill = ____ \n",
       "    elif num_gallons <= 22000:\n",
       "        bill = ____ \n",
       "    elif num_gallons <= 30000:\n",
       "        bill = ____\n",
       "    else:\n",
       "        bill = ____ \n",
       "    return bill\n",
       "```"
      ]
     },
     "metadata": {},
     "output_type": "display_data"
    },
    {
     "data": {
      "application/javascript": [
       "parent.postMessage({\"jupyterEvent\": \"custom.exercise_interaction\", \"data\": {\"interactionType\": 3, \"questionType\": 2, \"questionId\": \"3_GetWaterBill\", \"learnToolsVersion\": \"0.3.4\", \"valueTowardsCompletion\": 0.0, \"failureMessage\": \"\", \"exceptionClass\": \"\", \"trace\": \"\", \"outcomeType\": 4}}, \"*\")"
      ],
      "text/plain": [
       "<IPython.core.display.Javascript object>"
      ]
     },
     "metadata": {},
     "output_type": "display_data"
    },
    {
     "data": {
      "text/markdown": [
       "<span style=\"color:#33cc99\">Solution:</span> \n",
       "```python\n",
       "def get_water_bill(num_gallons):\n",
       "    if num_gallons <= 8000:\n",
       "        bill = 5 * num_gallons / 1000\n",
       "    elif num_gallons <= 22000:\n",
       "        bill = 6 * num_gallons / 1000\n",
       "    elif num_gallons <= 30000:\n",
       "        bill = 7 * num_gallons / 1000\n",
       "    else:\n",
       "        bill = 10 * num_gallons / 1000\n",
       "    return bill\n",
       "\n",
       "```"
      ],
      "text/plain": [
       "Solution: \n",
       "```python\n",
       "def get_water_bill(num_gallons):\n",
       "    if num_gallons <= 8000:\n",
       "        bill = 5 * num_gallons / 1000\n",
       "    elif num_gallons <= 22000:\n",
       "        bill = 6 * num_gallons / 1000\n",
       "    elif num_gallons <= 30000:\n",
       "        bill = 7 * num_gallons / 1000\n",
       "    else:\n",
       "        bill = 10 * num_gallons / 1000\n",
       "    return bill\n",
       "\n",
       "```"
      ]
     },
     "metadata": {},
     "output_type": "display_data"
    }
   ],
   "source": [
    "# Uncomment to see a hint\n",
    "q3.hint()\n",
    "\n",
    "# Uncomment to see the solution\n",
    "q3.solution()"
   ]
  },
  {
   "cell_type": "markdown",
   "id": "73b6b358",
   "metadata": {
    "papermill": {
     "duration": 0.012719,
     "end_time": "2023-11-15T08:39:46.043504",
     "exception": false,
     "start_time": "2023-11-15T08:39:46.030785",
     "status": "completed"
    },
    "tags": []
   },
   "source": [
    "# Question 4\n",
    "\n",
    "You work for a company that provides data services.  For \\\\$100/month, your company provides 15 gigabytes (GB) of data.  Then, any additional data is billed at \\\\$0.10/MB (or \\\\$100/GB, since 1,000 MB are in 1 GB).\n",
    "\n",
    "Use the next code cell to write a function `get_phone_bill()` that takes as input:\n",
    "- `gb` = number of GB that the customer used in a month\n",
    "\n",
    "It should return the customer's total phone bill.\n",
    "あなたはデータ サービスを提供する会社に勤めています。 あなたの会社は、月額 \\\\$100 で 15 ギガバイト (GB) のデータを提供します。 その後、追加のデータには \\\\$0.10/MB (または \\\\$100/GB、1,000 MB は 1 GB に含まれる) で請求されます。\n",
    "\n",
    "次のコード セルを使用して、入力として受け取る関数 `get_phone_bill()` を作成します。\n",
    "- `gb` = 顧客が 1 か月に使用した GB 数\n",
    "\n",
    "For instance:\n",
    "- A customer who uses 10 GB of data in one month is billed only \\\\$100, since the usage stayed under 15 GB.  In other words, `get_phone_bill(10)` should return `100`.\n",
    "- A customer who uses 15.1 GB (or 15 GB + 100 MB) of data in one month has gone over by .1 GB, so they must pay \\\\$100 (cost of plan), plus \\\\$0.10 * 100 = \\\\$10, for a total bill of \\\\$110.  In other words, `get_phone_bill(15.1)` should return `110`.\n",
    "\n",
    "Do not round your answer.\n",
    "顧客の電話料金総額が返されるはずです。\n",
    "\n",
    "例えば：\n",
    "- 1 か月に 10 GB のデータを使用した顧客には、使用量が 15 GB 未満にとどまったため、\\\\$100 のみ請求されます。 言い換えれば、`get_phone_bill(10)` は `100` を返す必要があります。\n",
    "- 1 か月に 15.1 GB (または 15 GB + 100 MB) のデータを使用する顧客は、0.1 GB を超過したため、\\\\$100 (プランのコスト) に \\\\$0.10 * 100 = \\\\ を支払う必要があります。 10 ドル、合計請求額は \\\\$110 です。 言い換えれば、`get_phone_bill(15.1)` は `110` を返す必要があります。\n",
    "\n",
    "答えを四捨五入しないでください。"
   ]
  },
  {
   "cell_type": "code",
   "execution_count": 8,
   "id": "59403c38",
   "metadata": {
    "execution": {
     "iopub.execute_input": "2023-11-15T08:39:46.072682Z",
     "iopub.status.busy": "2023-11-15T08:39:46.072160Z",
     "iopub.status.idle": "2023-11-15T08:39:46.083587Z",
     "shell.execute_reply": "2023-11-15T08:39:46.082295Z"
    },
    "papermill": {
     "duration": 0.029499,
     "end_time": "2023-11-15T08:39:46.086209",
     "exception": false,
     "start_time": "2023-11-15T08:39:46.056710",
     "status": "completed"
    },
    "tags": []
   },
   "outputs": [
    {
     "data": {
      "application/javascript": [
       "parent.postMessage({\"jupyterEvent\": \"custom.exercise_interaction\", \"data\": {\"outcomeType\": 1, \"valueTowardsCompletion\": 0.2, \"interactionType\": 1, \"questionType\": 2, \"questionId\": \"4_GetPhoneBill\", \"learnToolsVersion\": \"0.3.4\", \"failureMessage\": \"\", \"exceptionClass\": \"\", \"trace\": \"\"}}, \"*\")"
      ],
      "text/plain": [
       "<IPython.core.display.Javascript object>"
      ]
     },
     "metadata": {},
     "output_type": "display_data"
    },
    {
     "data": {
      "text/markdown": [
       "<span style=\"color:#33cc33\">Correct</span>"
      ],
      "text/plain": [
       "Correct"
      ]
     },
     "metadata": {},
     "output_type": "display_data"
    }
   ],
   "source": [
    "# TODO: Edit the function to return the correct bill for different\n",
    "# values of GB\n",
    "def get_phone_bill(gb):\n",
    "    if gb <= 15:\n",
    "        bill = 100\n",
    "    else:\n",
    "        bill = 100 + (gb - 15) * 100\n",
    "    return bill\n",
    "\n",
    "# Check your answer\n",
    "q4.check()"
   ]
  },
  {
   "cell_type": "code",
   "execution_count": 9,
   "id": "abbffcc7",
   "metadata": {
    "execution": {
     "iopub.execute_input": "2023-11-15T08:39:46.115990Z",
     "iopub.status.busy": "2023-11-15T08:39:46.115516Z",
     "iopub.status.idle": "2023-11-15T08:39:46.129835Z",
     "shell.execute_reply": "2023-11-15T08:39:46.128605Z"
    },
    "papermill": {
     "duration": 0.032781,
     "end_time": "2023-11-15T08:39:46.132512",
     "exception": false,
     "start_time": "2023-11-15T08:39:46.099731",
     "status": "completed"
    },
    "tags": []
   },
   "outputs": [
    {
     "data": {
      "application/javascript": [
       "parent.postMessage({\"jupyterEvent\": \"custom.exercise_interaction\", \"data\": {\"interactionType\": 2, \"questionType\": 2, \"questionId\": \"4_GetPhoneBill\", \"learnToolsVersion\": \"0.3.4\", \"valueTowardsCompletion\": 0.0, \"failureMessage\": \"\", \"exceptionClass\": \"\", \"trace\": \"\", \"outcomeType\": 4}}, \"*\")"
      ],
      "text/plain": [
       "<IPython.core.display.Javascript object>"
      ]
     },
     "metadata": {},
     "output_type": "display_data"
    },
    {
     "data": {
      "text/markdown": [
       "<span style=\"color:#3366cc\">Hint:</span> \n",
       "Your solution should look something like:\n",
       "```python\n",
       "def get_phone_bill(gb):\n",
       "    if gb <= 15:\n",
       "        bill = ____\n",
       "    else:\n",
       "        bill = 100 + ____\n",
       "    return bill\n",
       "```\n"
      ],
      "text/plain": [
       "Hint: \n",
       "Your solution should look something like:\n",
       "```python\n",
       "def get_phone_bill(gb):\n",
       "    if gb <= 15:\n",
       "        bill = ____\n",
       "    else:\n",
       "        bill = 100 + ____\n",
       "    return bill\n",
       "```"
      ]
     },
     "metadata": {},
     "output_type": "display_data"
    },
    {
     "data": {
      "application/javascript": [
       "parent.postMessage({\"jupyterEvent\": \"custom.exercise_interaction\", \"data\": {\"interactionType\": 3, \"questionType\": 2, \"questionId\": \"4_GetPhoneBill\", \"learnToolsVersion\": \"0.3.4\", \"valueTowardsCompletion\": 0.0, \"failureMessage\": \"\", \"exceptionClass\": \"\", \"trace\": \"\", \"outcomeType\": 4}}, \"*\")"
      ],
      "text/plain": [
       "<IPython.core.display.Javascript object>"
      ]
     },
     "metadata": {},
     "output_type": "display_data"
    },
    {
     "data": {
      "text/markdown": [
       "<span style=\"color:#33cc99\">Solution:</span> \n",
       "```python\n",
       "def get_phone_bill(gb):\n",
       "    if gb <= 15:\n",
       "        bill = 100\n",
       "    else:\n",
       "        bill = 100 + (gb - 15) * 100\n",
       "    return bill\n",
       "\n",
       "```"
      ],
      "text/plain": [
       "Solution: \n",
       "```python\n",
       "def get_phone_bill(gb):\n",
       "    if gb <= 15:\n",
       "        bill = 100\n",
       "    else:\n",
       "        bill = 100 + (gb - 15) * 100\n",
       "    return bill\n",
       "\n",
       "```"
      ]
     },
     "metadata": {},
     "output_type": "display_data"
    }
   ],
   "source": [
    "# Uncomment to see a hint\n",
    "q4.hint()\n",
    "\n",
    "# Uncomment to see the solution\n",
    "q4.solution()"
   ]
  },
  {
   "cell_type": "markdown",
   "id": "97ed0613",
   "metadata": {
    "papermill": {
     "duration": 0.013927,
     "end_time": "2023-11-15T08:39:46.160566",
     "exception": false,
     "start_time": "2023-11-15T08:39:46.146639",
     "status": "completed"
    },
    "tags": []
   },
   "source": [
    "# 🌶️ Question 5\n",
    "\n",
    "In Mexico, foods and beverages that are high in saturated fat, trans fat, sugar, sodium, and/or calories appear with warning labels that are designed to help consumers make healthy food choices.\n",
    "\n",
    "For instance, the [box of cookies](https://world.openfoodfacts.org/product/7501000673209/florentinas-gamesa) in the image below appears with two labels (in the upper right corner):\n",
    "- EXCESO CALORÍAS (in English, EXCESS CALORIES)\n",
    "- EXCESO AZÚCARES (in English, EXCESS SUGAR)\n",
    "メキシコでは、飽和脂肪、トランス脂肪、砂糖、ナトリウム、カロリーを多く含む食品や飲料には、消費者が健康的な食品を選択できるようにするための警告ラベルが貼られています。\n",
    "\n",
    "たとえば、以下の画像の [クッキーの箱](https://world.openfoodfacts.org/product/7501000673209/florentinas-gamesa) には 2 つのラベル (右上隅) が表示されます。\n",
    "- EXCESO CALORÍAS (英語で、EXCESS CALORIES)\n",
    "- EXCESO AZÚCARES（英語、EXCESS SUGAR）\n",
    "\n",
    "<center><img src=\"https://storage.googleapis.com/kaggle-media/learn/images/VXYKHnM.png\" alt=\"drawing\" width=\"500\"/></center>\n",
    "\n",
    "In this question, you'll work with a function `get_labels()` that takes the nutritional details about a food item and prints the needed warning labels.  This function takes several inputs:\n",
    "- `food_type` = one of `\"solid\"` or `\"liquid\"`\n",
    "- `serving_size` = size of one serving (if solid, in grams; if liquid, in milliliters)\n",
    "- `calories_per_serving` = calories in one serving\n",
    "- `saturated_fat_g` = grams of saturated fat in one serving\n",
    "- `trans_fat_g` = grams of trans fat in one serving\n",
    "- `sodium_mg` = mg of sodium in one serving\n",
    "- `sugars_g` = grams of sugar in one serving\n",
    "\n",
    "Note that some of the code here should feel unfamiliar to you, since we have not shared the details of how some of the functions like `excess_sugar()` or `excess_saturated_fat()` work.  But at a high level, these are functions that return a value of `True` if the food is deemed to have an excess of sugar or saturated fat, respectively.  These functions are used within the `get_labels()` function, and whenever there is an excess (of sugar or saturated fat, but also of trans fat, sodium, or calories), it prints the corresponding label.\n",
    "この質問では、食品の栄養詳細を取得し、必要な警告ラベルを出力する関数 `get_labels()` を使用します。 この関数はいくつかの入力を受け取ります。\n",
    "- `food_type` = `\"solid\"` または `\"liquid\"` のいずれか\n",
    "- `serving_size` = 1 回分のサイズ (固体の場合はグラム単位、液体の場合はミリリットル単位)\n",
    "- `kcal_per_serving` = 1 回分のカロリー\n",
    "- `saturated_fat_g` = 1 回分の飽和脂肪のグラム数\n",
    "- `trans_fat_g` = 1回分のトランス脂肪のグラム数\n",
    "- `sodium_mg` = 1回分のナトリウムのmg\n",
    "- `sugars_g` = 1回分の砂糖のグラム数\n",
    "\n",
    "`excess_sugar()` や `excess_saturated_fat()` などの一部の関数がどのように動作するかの詳細を共有していないため、ここにあるコードの一部は馴染みのないものであることに注意してください。 しかし、高いレベルでは、これらは、食品に過剰な砂糖または飽和脂肪がそれぞれ含まれているとみなされる場合に「True」の値を返す関数です。 これらの関数は `get_labels()` 関数内で使用され、過剰 (砂糖または飽和脂肪だけでなく、トランス脂肪、ナトリウム、またはカロリーも) がある場合は常に、対応するラベルを出力します。"
   ]
  },
  {
   "cell_type": "code",
   "execution_count": 10,
   "id": "0be6d2bc",
   "metadata": {
    "execution": {
     "iopub.execute_input": "2023-11-15T08:39:46.191225Z",
     "iopub.status.busy": "2023-11-15T08:39:46.190741Z",
     "iopub.status.idle": "2023-11-15T08:39:46.200914Z",
     "shell.execute_reply": "2023-11-15T08:39:46.199671Z"
    },
    "papermill": {
     "duration": 0.029149,
     "end_time": "2023-11-15T08:39:46.203810",
     "exception": false,
     "start_time": "2023-11-15T08:39:46.174661",
     "status": "completed"
    },
    "tags": []
   },
   "outputs": [],
   "source": [
    "# import functions needed to make get_labels work\n",
    "from learntools.intro_to_programming.ex4q5 import excess_sugar, excess_saturated_fat, excess_trans_fat, excess_sodium, excess_calories\n",
    "\n",
    "def get_labels(food_type, serving_size, calories_per_serving, saturated_fat_g, trans_fat_g, sodium_mg, sugars_g):\n",
    "    # Print messages based on findings\n",
    "    if excess_sugar(sugars_g, calories_per_serving) == True:\n",
    "        print(\"EXCESO AZÚCARES / EXCESS SUGAR\")\n",
    "    if excess_saturated_fat(saturated_fat_g, calories_per_serving) == True:\n",
    "        print(\"EXCESO GRASAS SATURADAS / EXCESS SATURATED FAT\")\n",
    "    if excess_trans_fat(trans_fat_g, calories_per_serving) == True:\n",
    "        print(\"EXCESO GRASAS TRANS / EXCESS TRANS FAT\")\n",
    "    if excess_sodium(calories_per_serving, sodium_mg) == True:\n",
    "        print(\"EXCESO SODIO / EXCESS SODIUM\")\n",
    "    if excess_calories(food_type, calories_per_serving, serving_size) == True:\n",
    "        print(\"EXCESO CALORÍAS / EXCESS CALORIES\")"
   ]
  },
  {
   "cell_type": "markdown",
   "id": "2734a33c",
   "metadata": {
    "papermill": {
     "duration": 0.013825,
     "end_time": "2023-11-15T08:39:46.231919",
     "exception": false,
     "start_time": "2023-11-15T08:39:46.218094",
     "status": "completed"
    },
    "tags": []
   },
   "source": [
    "The next code cell demonstrates how to use `get_labels()` to get the warning labels that the food item should contain.  We begin with [bologna](https://world.openfoodfacts.org/product/4099100179378/bologna).  Here is [an image](https://storage.googleapis.com/kaggle-media/learn/images/Cfcx72e.png) with all of the nutritional information.  Note that for this food,\n",
    "- `food_type = \"solid\"` (because bologna is a solid and not a liquid)\n",
    "- `serving_size = 32` (the serving size is 32 grams)\n",
    "- `calories_per_serving = 110` (there are 110 calories per serving)\n",
    "- `saturated_fat_g = 2.5` (there are 2.5 grams of saturated fat per serving)\n",
    "- `trans_fat_g = 0` (there are 0 grams of trans fat per serving)\n",
    "- `sodium_mg = 400` (there are 400 mg of sodium per serving)\n",
    "- `sugars_g = 1` (the nutrition facts say <1g, but we will round it up to 1 gram per serving to be safe)\n",
    "\n",
    "By supplying all of these values to the function, we can print the warning labels.\n",
    "\n",
    "次のコードセルは、「get_labels()」を使用して食品に含まれる警告ラベルを取得する方法を示しています。 まず [ボローニャ](https://world.openfoodfacts.org/product/4099100179378/bologna) から始めます。 すべての栄養情報を記載した[画像](https://storage.googleapis.com/kaggle-media/learn/images/Cfcx72e.png)をご覧ください。 なお、この食べ物に関しては、\n",
    "- `food_type = \"solid\"` (ボローニャは液体ではなく固体であるため)\n",
    "- `serving_size = 32` (1食分のサイズは32グラムです)\n",
    "- `kcal_per_serving = 110` (1 食分あたり 110 カロリーあります)\n",
    "- `saturated_fat_g = 2.5` (1 食分あたり 2.5 グラムの飽和脂肪が含まれます)\n",
    "- `trans_fat_g = 0` (1食分あたりのトランス脂肪は0グラムです)\n",
    "- `sodium_mg = 400` (1食分あたり400 mgのナトリウムが含まれます)\n",
    "- `sugars_g = 1` (栄養成分表示は <1g ですが、安全のため 1 食分あたり 1 グラムに切り上げます)\n",
    "\n",
    "これらの値をすべて関数に指定すると、警告ラベルを印刷できます。"
   ]
  },
  {
   "cell_type": "code",
   "execution_count": 11,
   "id": "c51ca8a2",
   "metadata": {
    "execution": {
     "iopub.execute_input": "2023-11-15T08:39:46.262558Z",
     "iopub.status.busy": "2023-11-15T08:39:46.262065Z",
     "iopub.status.idle": "2023-11-15T08:39:46.268258Z",
     "shell.execute_reply": "2023-11-15T08:39:46.267031Z"
    },
    "papermill": {
     "duration": 0.025282,
     "end_time": "2023-11-15T08:39:46.271336",
     "exception": false,
     "start_time": "2023-11-15T08:39:46.246054",
     "status": "completed"
    },
    "tags": []
   },
   "outputs": [
    {
     "name": "stdout",
     "output_type": "stream",
     "text": [
      "EXCESO GRASAS SATURADAS / EXCESS SATURATED FAT\n",
      "EXCESO SODIO / EXCESS SODIUM\n",
      "EXCESO CALORÍAS / EXCESS CALORIES\n"
     ]
    }
   ],
   "source": [
    "# bologna https://world.openfoodfacts.org/product/4099100179378/bologna\n",
    "get_labels(\"solid\", 32, 110, 2.5, 0, 400, 1)"
   ]
  },
  {
   "cell_type": "markdown",
   "id": "f455ae8e",
   "metadata": {
    "papermill": {
     "duration": 0.013836,
     "end_time": "2023-11-15T08:39:46.299447",
     "exception": false,
     "start_time": "2023-11-15T08:39:46.285611",
     "status": "completed"
    },
    "tags": []
   },
   "source": [
    "This bologna has three labels, printed in the output above.\n",
    "\n",
    "For the rest of this question, you will use the same `get_labels()` function to determine the labels for more foods.  This question is designed to help you get practice with feeling comfortable with code that other people have written, and where you don't have time to review every single line of code before interacting with it.  For instance, when you take the [Intro to Machine Learning course](http://www.kaggle.com/learn/intro-to-machine-learning), you'll work with a Python package called \"scikit-learn\", which is a large collection of code that you'll learn how to run without reviewing all of the code in detail (as it would take too long, and you can trust that it was implemented correctly).\n",
    "\n",
    "In general, as you continue coding in Python, you will often be running code that other people have written.  This is common practice for advanced programmers.\n",
    "\n",
    "In the next code cell, fill in the values for [this cereal](https://world.openfoodfacts.org/product/7501008023624/zucaritas-kellogg-s).  Here is [an image](https://storage.googleapis.com/kaggle-media/learn/images/MUxzHVU.png) with all of the nutritional information.\n",
    "\n",
    "**Note**: running the line of code below as-is will return an error.  You have to fill in the nutritional values first.\n",
    "\n",
    "このボローニャには 3 つのラベルがあり、上記の出力に印刷されています。\n",
    "\n",
    "この質問の残りの部分では、同じ `get_labels()` 関数を使用して、さらに多くの食品のラベルを決定します。 この質問は、他の人が書いたコードに慣れていて、コードを操作する前にコードを 1 行ずつ確認する時間がない場合に、練習できるように設計されています。 たとえば、[機械学習入門コース](http://www.kaggle.com/learn/intro-to-machine-learning) を受講すると、「scikit-learn」という Python パッケージを使用することになります。 これはコードの大規模なコレクションであり、すべてのコードを詳細にレビューすることなく実行方法を学習できます (時間がかかりすぎるため、正しく実装されていると信頼できます)。\n",
    "\n",
    "一般に、Python でコーディングを続けると、他の人が書いたコードを実行することがよくあります。 これは上級プログラマにとっては一般的な方法です。\n",
    "\n",
    "次のコード セルに、[このシリアル](https://world.openfoodfacts.org/product/7501008023624/zucaritas-kellogg-s) の値を入力します。 すべての栄養情報を記載した[画像](https://storage.googleapis.com/kaggle-media/learn/images/MUxzHVU.png)をご覧ください。\n",
    "\n",
    "**注意**: 以下のコード行をそのまま実行すると、エラーが返されます。 最初に栄養価を入力する必要があります。"
   ]
  },
  {
   "cell_type": "code",
   "execution_count": 12,
   "id": "96172d73",
   "metadata": {
    "execution": {
     "iopub.execute_input": "2023-11-15T08:39:46.331653Z",
     "iopub.status.busy": "2023-11-15T08:39:46.331141Z",
     "iopub.status.idle": "2023-11-15T08:39:46.336136Z",
     "shell.execute_reply": "2023-11-15T08:39:46.334821Z"
    },
    "papermill": {
     "duration": 0.023635,
     "end_time": "2023-11-15T08:39:46.338627",
     "exception": false,
     "start_time": "2023-11-15T08:39:46.314992",
     "status": "completed"
    },
    "tags": []
   },
   "outputs": [],
   "source": [
    "# zucaritas cereal https://world.openfoodfacts.org/product/7501008023624/zucaritas-kellogg-s\n",
    "# TODO: Uncomment the line below, fill in the values, and run the function\n",
    "#get_labels()"
   ]
  },
  {
   "cell_type": "markdown",
   "id": "5146b26b",
   "metadata": {
    "papermill": {
     "duration": 0.013946,
     "end_time": "2023-11-15T08:39:46.366842",
     "exception": false,
     "start_time": "2023-11-15T08:39:46.352896",
     "status": "completed"
    },
    "tags": []
   },
   "source": [
    "Next, try [these mozzarella sticks](https://world-es.openfoodfacts.org/producto/0062325540104/mozzarella-cheese-sticks).  Here is [an image](https://storage.googleapis.com/kaggle-media/learn/images/rcdB7VH.png) with all of the nutritional information."
   ]
  },
  {
   "cell_type": "code",
   "execution_count": 13,
   "id": "816dc2bc",
   "metadata": {
    "execution": {
     "iopub.execute_input": "2023-11-15T08:39:46.398531Z",
     "iopub.status.busy": "2023-11-15T08:39:46.397253Z",
     "iopub.status.idle": "2023-11-15T08:39:46.403069Z",
     "shell.execute_reply": "2023-11-15T08:39:46.401794Z"
    },
    "papermill": {
     "duration": 0.02502,
     "end_time": "2023-11-15T08:39:46.406234",
     "exception": false,
     "start_time": "2023-11-15T08:39:46.381214",
     "status": "completed"
    },
    "tags": []
   },
   "outputs": [],
   "source": [
    "# mozzarella sticks https://world-es.openfoodfacts.org/producto/0062325540104/mozzarella-cheese-sticks\n",
    "# TODO: Uncomment the line below, fill in the values, and run the function\n",
    "#get_labels()"
   ]
  },
  {
   "cell_type": "markdown",
   "id": "64516772",
   "metadata": {
    "papermill": {
     "duration": 0.014026,
     "end_time": "2023-11-15T08:39:46.434791",
     "exception": false,
     "start_time": "2023-11-15T08:39:46.420765",
     "status": "completed"
    },
    "tags": []
   },
   "source": [
    "Feel free to skip to the end of the notebook now and run `q5.check()` to complete the exercise.  If you want to try more foods, \n",
    "- try [these cookies](https://world.openfoodfacts.org/product/0069700118545/biscuits-au-sucre-pretraches).  Here is [an image](https://storage.googleapis.com/kaggle-media/learn/images/2Bc271o.png) with all of the nutritional information.\n",
    "- try [this soda](https://world-es.openfoodfacts.org/producto/0078000113464/orange-soda-sunkist).  Here is [an image](https://storage.googleapis.com/kaggle-media/learn/images/RsBYa8E.png) with all of the nutritional information.\n",
    "\n",
    "Use the two code cells below for this.\n",
    "\n",
    "自由にノートブックの最後までスキップして、`q5.check()` を実行して演習を完了してください。 もっと色々な料理を試してみたい方は、\n",
    "- [これらのクッキー](https://world.openfoodfacts.org/product/0069700118545/biscuits-au-sucre-pretraches) を試してください。 すべての栄養情報を記載した[画像](https://storage.googleapis.com/kaggle-media/learn/images/2Bc271o.png)をご覧ください。\n",
    "- [このソーダ](https://world-es.openfoodfacts.org/producto/0078000113464/orange-soda-sunkist) をお試しください。 すべての栄養情報を記載した[画像](https://storage.googleapis.com/kaggle-media/learn/images/RsBYa8E.png)をご覧ください。\n",
    "\n",
    "これには、以下の 2 つのコード セルを使用します。"
   ]
  },
  {
   "cell_type": "code",
   "execution_count": 14,
   "id": "b7a76a75",
   "metadata": {
    "execution": {
     "iopub.execute_input": "2023-11-15T08:39:46.466271Z",
     "iopub.status.busy": "2023-11-15T08:39:46.465796Z",
     "iopub.status.idle": "2023-11-15T08:39:46.470750Z",
     "shell.execute_reply": "2023-11-15T08:39:46.469338Z"
    },
    "papermill": {
     "duration": 0.024302,
     "end_time": "2023-11-15T08:39:46.473545",
     "exception": false,
     "start_time": "2023-11-15T08:39:46.449243",
     "status": "completed"
    },
    "tags": []
   },
   "outputs": [],
   "source": [
    "# pillsbury cookies https://world.openfoodfacts.org/product/0069700118545/biscuits-au-sucre-pretraches\n",
    "# TODO: Uncomment the line below, fill in the values, and run the function\n",
    "#get_labels()"
   ]
  },
  {
   "cell_type": "code",
   "execution_count": 15,
   "id": "4455dcd1",
   "metadata": {
    "execution": {
     "iopub.execute_input": "2023-11-15T08:39:46.505558Z",
     "iopub.status.busy": "2023-11-15T08:39:46.504995Z",
     "iopub.status.idle": "2023-11-15T08:39:46.509847Z",
     "shell.execute_reply": "2023-11-15T08:39:46.508806Z"
    },
    "papermill": {
     "duration": 0.023665,
     "end_time": "2023-11-15T08:39:46.512181",
     "exception": false,
     "start_time": "2023-11-15T08:39:46.488516",
     "status": "completed"
    },
    "tags": []
   },
   "outputs": [],
   "source": [
    "# sunkist orange soda https://world-es.openfoodfacts.org/producto/0078000113464/orange-soda-sunkist\n",
    "# TODO: Uncomment the line below, fill in the values, and run the function\n",
    "#get_labels()"
   ]
  },
  {
   "cell_type": "markdown",
   "id": "2138aa14",
   "metadata": {
    "papermill": {
     "duration": 0.114339,
     "end_time": "2023-11-15T08:39:46.641056",
     "exception": false,
     "start_time": "2023-11-15T08:39:46.526717",
     "status": "completed"
    },
    "tags": []
   },
   "source": [
    "Once you have finished investigating the food items in this question, run the final code cell to get credit for completing this problem."
   ]
  },
  {
   "cell_type": "code",
   "execution_count": 16,
   "id": "babcfcb2",
   "metadata": {
    "execution": {
     "iopub.execute_input": "2023-11-15T08:39:46.674401Z",
     "iopub.status.busy": "2023-11-15T08:39:46.673893Z",
     "iopub.status.idle": "2023-11-15T08:39:46.684692Z",
     "shell.execute_reply": "2023-11-15T08:39:46.683288Z"
    },
    "papermill": {
     "duration": 0.030547,
     "end_time": "2023-11-15T08:39:46.687490",
     "exception": false,
     "start_time": "2023-11-15T08:39:46.656943",
     "status": "completed"
    },
    "tags": []
   },
   "outputs": [
    {
     "data": {
      "application/javascript": [
       "parent.postMessage({\"jupyterEvent\": \"custom.exercise_interaction\", \"data\": {\"outcomeType\": 1, \"valueTowardsCompletion\": 0.2, \"interactionType\": 1, \"questionType\": 2, \"questionId\": \"5_GetLabels\", \"learnToolsVersion\": \"0.3.4\", \"failureMessage\": \"\", \"exceptionClass\": \"\", \"trace\": \"\"}}, \"*\")"
      ],
      "text/plain": [
       "<IPython.core.display.Javascript object>"
      ]
     },
     "metadata": {},
     "output_type": "display_data"
    },
    {
     "data": {
      "text/markdown": [
       "<span style=\"color:#33cc33\">Once you have determined the labels for all of the food items, you're ready to move on to the next lesson!</span>"
      ],
      "text/plain": [
       "Once you have determined the labels for all of the food items, you're ready to move on to the next lesson!"
      ]
     },
     "metadata": {},
     "output_type": "display_data"
    }
   ],
   "source": [
    "# Get credit for completing the problem\n",
    "q5.check()"
   ]
  },
  {
   "cell_type": "markdown",
   "id": "e14adccb",
   "metadata": {
    "papermill": {
     "duration": 0.015544,
     "end_time": "2023-11-15T08:39:46.718336",
     "exception": false,
     "start_time": "2023-11-15T08:39:46.702792",
     "status": "completed"
    },
    "tags": []
   },
   "source": [
    "# Keep going\n",
    "\n",
    "Continue to the next lesson to **[learn about Python lists](https://www.kaggle.com/alexisbcook/intro-to-lists)**."
   ]
  },
  {
   "cell_type": "markdown",
   "id": "b589e917",
   "metadata": {
    "papermill": {
     "duration": 0.015327,
     "end_time": "2023-11-15T08:39:46.749196",
     "exception": false,
     "start_time": "2023-11-15T08:39:46.733869",
     "status": "completed"
    },
    "tags": []
   },
   "source": [
    "---\n",
    "\n",
    "\n",
    "\n",
    "\n",
    "*Have questions or comments? Visit the [course discussion forum](https://www.kaggle.com/learn/intro-to-programming/discussion) to chat with other learners.*"
   ]
  }
 ],
 "metadata": {
  "kaggle": {
   "accelerator": "none",
   "dataSources": [],
   "isGpuEnabled": false,
   "isInternetEnabled": true,
   "language": "python",
   "sourceType": "notebook"
  },
  "kernelspec": {
   "display_name": "Python 3",
   "language": "python",
   "name": "python3"
  },
  "language_info": {
   "codemirror_mode": {
    "name": "ipython",
    "version": 3
   },
   "file_extension": ".py",
   "mimetype": "text/x-python",
   "name": "python",
   "nbconvert_exporter": "python",
   "pygments_lexer": "ipython3",
   "version": "3.10.12"
  },
  "papermill": {
   "default_parameters": {},
   "duration": 6.134074,
   "end_time": "2023-11-15T08:39:47.490308",
   "environment_variables": {},
   "exception": null,
   "input_path": "__notebook__.ipynb",
   "output_path": "__notebook__.ipynb",
   "parameters": {},
   "start_time": "2023-11-15T08:39:41.356234",
   "version": "2.4.0"
  }
 },
 "nbformat": 4,
 "nbformat_minor": 5
}
