{
 "cells": [
  {
   "cell_type": "code",
   "execution_count": 1,
   "id": "665a69aa",
   "metadata": {
    "_cell_guid": "b1076dfc-b9ad-4769-8c92-a6c4dae69d19",
    "_kg_hide-input": true,
    "_kg_hide-output": true,
    "_uuid": "8f2839f25d086af736a60e9eeb907d3b93b6e0e5",
    "execution": {
     "iopub.execute_input": "2024-02-06T12:52:05.568923Z",
     "iopub.status.busy": "2024-02-06T12:52:05.568110Z",
     "iopub.status.idle": "2024-02-06T12:52:07.674795Z",
     "shell.execute_reply": "2024-02-06T12:52:07.673658Z"
    },
    "papermill": {
     "duration": 2.133507,
     "end_time": "2024-02-06T12:52:07.677211",
     "exception": false,
     "start_time": "2024-02-06T12:52:05.543704",
     "status": "completed"
    },
    "tags": []
   },
   "outputs": [
    {
     "name": "stdout",
     "output_type": "stream",
     "text": [
      "/kaggle/input/playground-series-s4e2/sample_submission.csv\n",
      "/kaggle/input/playground-series-s4e2/train.csv\n",
      "/kaggle/input/playground-series-s4e2/test.csv\n"
     ]
    }
   ],
   "source": [
    "import matplotlib.pyplot as plt\n",
    "import numpy as np\n",
    "import pandas as pd\n",
    "\n",
    "from sklearn.preprocessing import LabelEncoder\n",
    "\n",
    "\n",
    "import os\n",
    "for dirname, _, filenames in os.walk('/kaggle/input'):\n",
    "    for filename in filenames:\n",
    "        print(os.path.join(dirname, filename))"
   ]
  },
  {
   "cell_type": "code",
   "execution_count": 2,
   "id": "ecc128fd",
   "metadata": {
    "_kg_hide-input": true,
    "execution": {
     "iopub.execute_input": "2024-02-06T12:52:07.725438Z",
     "iopub.status.busy": "2024-02-06T12:52:07.724967Z",
     "iopub.status.idle": "2024-02-06T12:52:07.733201Z",
     "shell.execute_reply": "2024-02-06T12:52:07.732355Z"
    },
    "papermill": {
     "duration": 0.033764,
     "end_time": "2024-02-06T12:52:07.735345",
     "exception": false,
     "start_time": "2024-02-06T12:52:07.701581",
     "status": "completed"
    },
    "tags": []
   },
   "outputs": [
    {
     "data": {
      "text/html": [
       "\n",
       "<style>\n",
       ".mid {color: #000000; \n",
       "font-size: 14px; \n",
       "font-stretch: ultra-expanded;\n",
       "padding: 24px; \n",
       "background-color: #f9f9f9; \n",
       "line-height: 22px; \n",
       "box-shadow: 20px 0px #96c93b;\n",
       "}\n",
       "\n",
       ".starter {\n",
       "color: #000000; \n",
       "font-size: 14px; \n",
       "font-stretch: ultra-expanded; \n",
       "padding: 24px; \n",
       "background-color: #f9f9f9; \n",
       "line-height: 22px; \n",
       "box-shadow: 20px -10px #ff9797;\n",
       "}\n",
       "\n",
       ".header2 {\n",
       "color: #000000; \n",
       "font-size: 20px; \n",
       "font-stretch: ultra-expanded; \n",
       "padding: 24px; \n",
       "line-height: 22px; \n",
       "box-shadow: 20px -10px #96c93b;\n",
       "}\n",
       "\n",
       ".footer {\n",
       "color: #000000; \n",
       "font-size: 14px; \n",
       "font-stretch: ultra-expanded; \n",
       "padding: 24px; \n",
       "background-color: #f9f9f9; \n",
       "line-height: 22px; \n",
       "box-shadow: -16px 16px #96c93b\n",
       "}\n",
       "\n",
       "</style>\n"
      ],
      "text/plain": [
       "<IPython.core.display.HTML object>"
      ]
     },
     "execution_count": 2,
     "metadata": {},
     "output_type": "execute_result"
    }
   ],
   "source": [
    "from IPython.display import display, HTML\n",
    "\n",
    "HTML(\"\"\"\n",
    "<style>\n",
    ".mid {color: #000000; \n",
    "font-size: 14px; \n",
    "font-stretch: ultra-expanded;\n",
    "padding: 24px; \n",
    "background-color: #f9f9f9; \n",
    "line-height: 22px; \n",
    "box-shadow: 20px 0px #96c93b;\n",
    "}\n",
    "\n",
    ".starter {\n",
    "color: #000000; \n",
    "font-size: 14px; \n",
    "font-stretch: ultra-expanded; \n",
    "padding: 24px; \n",
    "background-color: #f9f9f9; \n",
    "line-height: 22px; \n",
    "box-shadow: 20px -10px #ff9797;\n",
    "}\n",
    "\n",
    ".header2 {\n",
    "color: #000000; \n",
    "font-size: 20px; \n",
    "font-stretch: ultra-expanded; \n",
    "padding: 24px; \n",
    "line-height: 22px; \n",
    "box-shadow: 20px -10px #96c93b;\n",
    "}\n",
    "\n",
    ".footer {\n",
    "color: #000000; \n",
    "font-size: 14px; \n",
    "font-stretch: ultra-expanded; \n",
    "padding: 24px; \n",
    "background-color: #f9f9f9; \n",
    "line-height: 22px; \n",
    "box-shadow: -16px 16px #96c93b\n",
    "}\n",
    "\n",
    "</style>\n",
    "\"\"\")"
   ]
  },
  {
   "cell_type": "markdown",
   "id": "eca853ed",
   "metadata": {
    "papermill": {
     "duration": 0.022575,
     "end_time": "2024-02-06T12:52:07.780432",
     "exception": false,
     "start_time": "2024-02-06T12:52:07.757857",
     "status": "completed"
    },
    "tags": []
   },
   "source": [
    "<div style=\"text-align: center;\"><img src=\"https://i.imgur.com/ByXfpAC.png\">\n",
    "\n",
    "<div style=\"color: #000000; font-size: 55px; font-family: Georgia; padding: 24px; font-stretch: expanded; background-color: #ffffff; line-height: 50px; border-radius: 10px 100px / 120px; text-align: center; border: 0px dotted black;\">Obesity Risk Prediction</div>"
   ]
  },
  {
   "cell_type": "markdown",
   "id": "931fdcf2",
   "metadata": {
    "papermill": {
     "duration": 0.023462,
     "end_time": "2024-02-06T12:52:07.827633",
     "exception": false,
     "start_time": "2024-02-06T12:52:07.804171",
     "status": "completed"
    },
    "tags": []
   },
   "source": [
    "# <b><span style='color: #96c93b'>1 |</span> First Look</b>"
   ]
  },
  {
   "cell_type": "code",
   "execution_count": 3,
   "id": "f64c908b",
   "metadata": {
    "execution": {
     "iopub.execute_input": "2024-02-06T12:52:07.877553Z",
     "iopub.status.busy": "2024-02-06T12:52:07.877184Z",
     "iopub.status.idle": "2024-02-06T12:52:08.090186Z",
     "shell.execute_reply": "2024-02-06T12:52:08.089101Z"
    },
    "papermill": {
     "duration": 0.240582,
     "end_time": "2024-02-06T12:52:08.092258",
     "exception": false,
     "start_time": "2024-02-06T12:52:07.851676",
     "status": "completed"
    },
    "tags": []
   },
   "outputs": [
    {
     "data": {
      "text/html": [
       "<div>\n",
       "<style scoped>\n",
       "    .dataframe tbody tr th:only-of-type {\n",
       "        vertical-align: middle;\n",
       "    }\n",
       "\n",
       "    .dataframe tbody tr th {\n",
       "        vertical-align: top;\n",
       "    }\n",
       "\n",
       "    .dataframe thead th {\n",
       "        text-align: right;\n",
       "    }\n",
       "</style>\n",
       "<table border=\"1\" class=\"dataframe\">\n",
       "  <thead>\n",
       "    <tr style=\"text-align: right;\">\n",
       "      <th></th>\n",
       "      <th>id</th>\n",
       "      <th>Gender</th>\n",
       "      <th>Age</th>\n",
       "      <th>Height</th>\n",
       "      <th>Weight</th>\n",
       "      <th>family_history_with_overweight</th>\n",
       "      <th>FAVC</th>\n",
       "      <th>FCVC</th>\n",
       "      <th>NCP</th>\n",
       "      <th>CAEC</th>\n",
       "      <th>SMOKE</th>\n",
       "      <th>CH2O</th>\n",
       "      <th>SCC</th>\n",
       "      <th>FAF</th>\n",
       "      <th>TUE</th>\n",
       "      <th>CALC</th>\n",
       "      <th>MTRANS</th>\n",
       "      <th>NObeyesdad</th>\n",
       "    </tr>\n",
       "  </thead>\n",
       "  <tbody>\n",
       "    <tr>\n",
       "      <th>0</th>\n",
       "      <td>0</td>\n",
       "      <td>Male</td>\n",
       "      <td>24.443011</td>\n",
       "      <td>1.699998</td>\n",
       "      <td>81.669950</td>\n",
       "      <td>yes</td>\n",
       "      <td>yes</td>\n",
       "      <td>2.000000</td>\n",
       "      <td>2.983297</td>\n",
       "      <td>Sometimes</td>\n",
       "      <td>no</td>\n",
       "      <td>2.763573</td>\n",
       "      <td>no</td>\n",
       "      <td>0.000000</td>\n",
       "      <td>0.976473</td>\n",
       "      <td>Sometimes</td>\n",
       "      <td>Public_Transportation</td>\n",
       "      <td>Overweight_Level_II</td>\n",
       "    </tr>\n",
       "    <tr>\n",
       "      <th>1</th>\n",
       "      <td>1</td>\n",
       "      <td>Female</td>\n",
       "      <td>18.000000</td>\n",
       "      <td>1.560000</td>\n",
       "      <td>57.000000</td>\n",
       "      <td>yes</td>\n",
       "      <td>yes</td>\n",
       "      <td>2.000000</td>\n",
       "      <td>3.000000</td>\n",
       "      <td>Frequently</td>\n",
       "      <td>no</td>\n",
       "      <td>2.000000</td>\n",
       "      <td>no</td>\n",
       "      <td>1.000000</td>\n",
       "      <td>1.000000</td>\n",
       "      <td>no</td>\n",
       "      <td>Automobile</td>\n",
       "      <td>Normal_Weight</td>\n",
       "    </tr>\n",
       "    <tr>\n",
       "      <th>2</th>\n",
       "      <td>2</td>\n",
       "      <td>Female</td>\n",
       "      <td>18.000000</td>\n",
       "      <td>1.711460</td>\n",
       "      <td>50.165754</td>\n",
       "      <td>yes</td>\n",
       "      <td>yes</td>\n",
       "      <td>1.880534</td>\n",
       "      <td>1.411685</td>\n",
       "      <td>Sometimes</td>\n",
       "      <td>no</td>\n",
       "      <td>1.910378</td>\n",
       "      <td>no</td>\n",
       "      <td>0.866045</td>\n",
       "      <td>1.673584</td>\n",
       "      <td>no</td>\n",
       "      <td>Public_Transportation</td>\n",
       "      <td>Insufficient_Weight</td>\n",
       "    </tr>\n",
       "    <tr>\n",
       "      <th>3</th>\n",
       "      <td>3</td>\n",
       "      <td>Female</td>\n",
       "      <td>20.952737</td>\n",
       "      <td>1.710730</td>\n",
       "      <td>131.274851</td>\n",
       "      <td>yes</td>\n",
       "      <td>yes</td>\n",
       "      <td>3.000000</td>\n",
       "      <td>3.000000</td>\n",
       "      <td>Sometimes</td>\n",
       "      <td>no</td>\n",
       "      <td>1.674061</td>\n",
       "      <td>no</td>\n",
       "      <td>1.467863</td>\n",
       "      <td>0.780199</td>\n",
       "      <td>Sometimes</td>\n",
       "      <td>Public_Transportation</td>\n",
       "      <td>Obesity_Type_III</td>\n",
       "    </tr>\n",
       "    <tr>\n",
       "      <th>4</th>\n",
       "      <td>4</td>\n",
       "      <td>Male</td>\n",
       "      <td>31.641081</td>\n",
       "      <td>1.914186</td>\n",
       "      <td>93.798055</td>\n",
       "      <td>yes</td>\n",
       "      <td>yes</td>\n",
       "      <td>2.679664</td>\n",
       "      <td>1.971472</td>\n",
       "      <td>Sometimes</td>\n",
       "      <td>no</td>\n",
       "      <td>1.979848</td>\n",
       "      <td>no</td>\n",
       "      <td>1.967973</td>\n",
       "      <td>0.931721</td>\n",
       "      <td>Sometimes</td>\n",
       "      <td>Public_Transportation</td>\n",
       "      <td>Overweight_Level_II</td>\n",
       "    </tr>\n",
       "  </tbody>\n",
       "</table>\n",
       "</div>"
      ],
      "text/plain": [
       "   id  Gender        Age    Height      Weight family_history_with_overweight  \\\n",
       "0   0    Male  24.443011  1.699998   81.669950                            yes   \n",
       "1   1  Female  18.000000  1.560000   57.000000                            yes   \n",
       "2   2  Female  18.000000  1.711460   50.165754                            yes   \n",
       "3   3  Female  20.952737  1.710730  131.274851                            yes   \n",
       "4   4    Male  31.641081  1.914186   93.798055                            yes   \n",
       "\n",
       "  FAVC      FCVC       NCP        CAEC SMOKE      CH2O SCC       FAF  \\\n",
       "0  yes  2.000000  2.983297   Sometimes    no  2.763573  no  0.000000   \n",
       "1  yes  2.000000  3.000000  Frequently    no  2.000000  no  1.000000   \n",
       "2  yes  1.880534  1.411685   Sometimes    no  1.910378  no  0.866045   \n",
       "3  yes  3.000000  3.000000   Sometimes    no  1.674061  no  1.467863   \n",
       "4  yes  2.679664  1.971472   Sometimes    no  1.979848  no  1.967973   \n",
       "\n",
       "        TUE       CALC                 MTRANS           NObeyesdad  \n",
       "0  0.976473  Sometimes  Public_Transportation  Overweight_Level_II  \n",
       "1  1.000000         no             Automobile        Normal_Weight  \n",
       "2  1.673584         no  Public_Transportation  Insufficient_Weight  \n",
       "3  0.780199  Sometimes  Public_Transportation     Obesity_Type_III  \n",
       "4  0.931721  Sometimes  Public_Transportation  Overweight_Level_II  "
      ]
     },
     "metadata": {},
     "output_type": "display_data"
    },
    {
     "data": {
      "text/html": [
       "<div>\n",
       "<style scoped>\n",
       "    .dataframe tbody tr th:only-of-type {\n",
       "        vertical-align: middle;\n",
       "    }\n",
       "\n",
       "    .dataframe tbody tr th {\n",
       "        vertical-align: top;\n",
       "    }\n",
       "\n",
       "    .dataframe thead th {\n",
       "        text-align: right;\n",
       "    }\n",
       "</style>\n",
       "<table border=\"1\" class=\"dataframe\">\n",
       "  <thead>\n",
       "    <tr style=\"text-align: right;\">\n",
       "      <th></th>\n",
       "      <th>id</th>\n",
       "      <th>Gender</th>\n",
       "      <th>Age</th>\n",
       "      <th>Height</th>\n",
       "      <th>Weight</th>\n",
       "      <th>family_history_with_overweight</th>\n",
       "      <th>FAVC</th>\n",
       "      <th>FCVC</th>\n",
       "      <th>NCP</th>\n",
       "      <th>CAEC</th>\n",
       "      <th>SMOKE</th>\n",
       "      <th>CH2O</th>\n",
       "      <th>SCC</th>\n",
       "      <th>FAF</th>\n",
       "      <th>TUE</th>\n",
       "      <th>CALC</th>\n",
       "      <th>MTRANS</th>\n",
       "    </tr>\n",
       "  </thead>\n",
       "  <tbody>\n",
       "    <tr>\n",
       "      <th>0</th>\n",
       "      <td>20758</td>\n",
       "      <td>Male</td>\n",
       "      <td>26.899886</td>\n",
       "      <td>1.848294</td>\n",
       "      <td>120.644178</td>\n",
       "      <td>yes</td>\n",
       "      <td>yes</td>\n",
       "      <td>2.938616</td>\n",
       "      <td>3.000000</td>\n",
       "      <td>Sometimes</td>\n",
       "      <td>no</td>\n",
       "      <td>2.825629</td>\n",
       "      <td>no</td>\n",
       "      <td>0.855400</td>\n",
       "      <td>0.000000</td>\n",
       "      <td>Sometimes</td>\n",
       "      <td>Public_Transportation</td>\n",
       "    </tr>\n",
       "    <tr>\n",
       "      <th>1</th>\n",
       "      <td>20759</td>\n",
       "      <td>Female</td>\n",
       "      <td>21.000000</td>\n",
       "      <td>1.600000</td>\n",
       "      <td>66.000000</td>\n",
       "      <td>yes</td>\n",
       "      <td>yes</td>\n",
       "      <td>2.000000</td>\n",
       "      <td>1.000000</td>\n",
       "      <td>Sometimes</td>\n",
       "      <td>no</td>\n",
       "      <td>3.000000</td>\n",
       "      <td>no</td>\n",
       "      <td>1.000000</td>\n",
       "      <td>0.000000</td>\n",
       "      <td>Sometimes</td>\n",
       "      <td>Public_Transportation</td>\n",
       "    </tr>\n",
       "    <tr>\n",
       "      <th>2</th>\n",
       "      <td>20760</td>\n",
       "      <td>Female</td>\n",
       "      <td>26.000000</td>\n",
       "      <td>1.643355</td>\n",
       "      <td>111.600553</td>\n",
       "      <td>yes</td>\n",
       "      <td>yes</td>\n",
       "      <td>3.000000</td>\n",
       "      <td>3.000000</td>\n",
       "      <td>Sometimes</td>\n",
       "      <td>no</td>\n",
       "      <td>2.621877</td>\n",
       "      <td>no</td>\n",
       "      <td>0.000000</td>\n",
       "      <td>0.250502</td>\n",
       "      <td>Sometimes</td>\n",
       "      <td>Public_Transportation</td>\n",
       "    </tr>\n",
       "    <tr>\n",
       "      <th>3</th>\n",
       "      <td>20761</td>\n",
       "      <td>Male</td>\n",
       "      <td>20.979254</td>\n",
       "      <td>1.553127</td>\n",
       "      <td>103.669116</td>\n",
       "      <td>yes</td>\n",
       "      <td>yes</td>\n",
       "      <td>2.000000</td>\n",
       "      <td>2.977909</td>\n",
       "      <td>Sometimes</td>\n",
       "      <td>no</td>\n",
       "      <td>2.786417</td>\n",
       "      <td>no</td>\n",
       "      <td>0.094851</td>\n",
       "      <td>0.000000</td>\n",
       "      <td>Sometimes</td>\n",
       "      <td>Public_Transportation</td>\n",
       "    </tr>\n",
       "    <tr>\n",
       "      <th>4</th>\n",
       "      <td>20762</td>\n",
       "      <td>Female</td>\n",
       "      <td>26.000000</td>\n",
       "      <td>1.627396</td>\n",
       "      <td>104.835346</td>\n",
       "      <td>yes</td>\n",
       "      <td>yes</td>\n",
       "      <td>3.000000</td>\n",
       "      <td>3.000000</td>\n",
       "      <td>Sometimes</td>\n",
       "      <td>no</td>\n",
       "      <td>2.653531</td>\n",
       "      <td>no</td>\n",
       "      <td>0.000000</td>\n",
       "      <td>0.741069</td>\n",
       "      <td>Sometimes</td>\n",
       "      <td>Public_Transportation</td>\n",
       "    </tr>\n",
       "  </tbody>\n",
       "</table>\n",
       "</div>"
      ],
      "text/plain": [
       "      id  Gender        Age    Height      Weight  \\\n",
       "0  20758    Male  26.899886  1.848294  120.644178   \n",
       "1  20759  Female  21.000000  1.600000   66.000000   \n",
       "2  20760  Female  26.000000  1.643355  111.600553   \n",
       "3  20761    Male  20.979254  1.553127  103.669116   \n",
       "4  20762  Female  26.000000  1.627396  104.835346   \n",
       "\n",
       "  family_history_with_overweight FAVC      FCVC       NCP       CAEC SMOKE  \\\n",
       "0                            yes  yes  2.938616  3.000000  Sometimes    no   \n",
       "1                            yes  yes  2.000000  1.000000  Sometimes    no   \n",
       "2                            yes  yes  3.000000  3.000000  Sometimes    no   \n",
       "3                            yes  yes  2.000000  2.977909  Sometimes    no   \n",
       "4                            yes  yes  3.000000  3.000000  Sometimes    no   \n",
       "\n",
       "       CH2O SCC       FAF       TUE       CALC                 MTRANS  \n",
       "0  2.825629  no  0.855400  0.000000  Sometimes  Public_Transportation  \n",
       "1  3.000000  no  1.000000  0.000000  Sometimes  Public_Transportation  \n",
       "2  2.621877  no  0.000000  0.250502  Sometimes  Public_Transportation  \n",
       "3  2.786417  no  0.094851  0.000000  Sometimes  Public_Transportation  \n",
       "4  2.653531  no  0.000000  0.741069  Sometimes  Public_Transportation  "
      ]
     },
     "metadata": {},
     "output_type": "display_data"
    }
   ],
   "source": [
    "df_train = pd.read_csv('/kaggle/input/playground-series-s4e2/train.csv')\n",
    "df_test = pd.read_csv('/kaggle/input/playground-series-s4e2/test.csv')\n",
    "\n",
    "display(df_train.head())\n",
    "display(df_test.head())"
   ]
  },
  {
   "cell_type": "markdown",
   "id": "4ed4230d",
   "metadata": {
    "papermill": {
     "duration": 0.023783,
     "end_time": "2024-02-06T12:52:08.141845",
     "exception": false,
     "start_time": "2024-02-06T12:52:08.118062",
     "status": "completed"
    },
    "tags": []
   },
   "source": [
    "<div class=\"starter\">Let's dive into this dataset and explore the potential it holds for predicting obesity risk.<BR><BR>\n",
    "\n",
    "The dataset comprises 17 features, ranging from personal information like age and weight to lifestyle habits like physical activity and technology usage. The target variable, NObeyesdad, represents the categorized obesity risk level for each individual.</div>"
   ]
  },
  {
   "cell_type": "markdown",
   "id": "ff75d97b",
   "metadata": {
    "papermill": {
     "duration": 0.022907,
     "end_time": "2024-02-06T12:52:08.188361",
     "exception": false,
     "start_time": "2024-02-06T12:52:08.165454",
     "status": "completed"
    },
    "tags": []
   },
   "source": [
    "<div class=\"mid\"><span style=\"text-shadow: 0px 0px 5px #ff9797, 0px 0px 10px #ff9797, 0px 0px 10px #ff9797,\n",
    "    0px 0px 20px #ff9797;\"><b>Exploring the Features</b></span>\n",
    "\n",
    "<ul>\n",
    "  <li><b>id</b>: A unique identifier for each individual</li>\n",
    "  <li><b>Gender</b>: Indicates whether the individual is male or female</li>\n",
    "  <li><b>Age</b>: The age of the individual</li>\n",
    "  <li><b>Height</b>: The height of the individual in centimeters</li>\n",
    "  <li><b>Weight</b>: The weight of the individual in kilograms</li>\n",
    "  <li><b>family_history_with_overweight</b>: Indicates whether the individual has a family history of obesity</li>\n",
    "  <li><b>FAVC</b>: Frequency of consumption of high caloric food</li>\n",
    "  <li><b>FCVC</b>: Frequency of consumption of vegetables</li>\n",
    "  <li><b>NCP</b>: Number of main meals</li>\n",
    "  <li><b>CAEC</b>: Consumption of food between meals</li>\n",
    "  <li><b>SMOKE</b>: Smoking status</li>\n",
    "  <li><b>CH2O</b>: Consumption of water daily</li>\n",
    "  <li><b>SCC</b>: Calories consumption monitoring</li>\n",
    "  <li><b>FAF</b>: Physical activity frequency</li>\n",
    "  <li><b>TUE</b>: Time using technology devices</li>\n",
    "  <li><b>CALC</b>: Consumption of alcohol</li>\n",
    "  <li><b>MTRANS</b>: Transportation used</li>\n",
    "</ul></div>"
   ]
  },
  {
   "cell_type": "markdown",
   "id": "683b2f37",
   "metadata": {
    "papermill": {
     "duration": 0.023162,
     "end_time": "2024-02-06T12:52:08.234701",
     "exception": false,
     "start_time": "2024-02-06T12:52:08.211539",
     "status": "completed"
    },
    "tags": []
   },
   "source": [
    "<div class=\"mid\"><span style=\"text-shadow: 0px 0px 5px #96c93b, 0px 0px 10px #96c93b, 0px 0px 10px #96c93b,\n",
    "    0px 0px 20px #96c93b;\"><b>Potential for Feature Engineering</b></span><BR><BR>\n",
    "\n",
    "The dataset provides a wealth of information for exploring the relationship between various factors and obesity risk. Here are some potential features we can engineer:\n",
    "\n",
    "&bull; <b>BMI (Body Mass Index)</b>: Calculate BMI by dividing weight (kg) by height squared (m²).\n",
    "\n",
    "&bull; <b>Dietary diversity</b>: Instead of just having two separate variables for high caloric food and veggies, create a single variable that represents the relative frequency of consumption of these two types of food. This could be done by calculating the ratio of high-caloric food consumption to vegetable consumption. Another suggestion of the feature name: \"Balanced diet index\".\n",
    "    \n",
    "&bull; <b>Total number of meals</b>: Instead of just having two separate variables for the number of main meals and the consumption of food between meals, create a single variable that represents the overall eating pattern of the individual. This could be done by calculating the total number of meals and snacks that the individual consumes per day.\n",
    "\n",
    "&bull; <b>Physical Activity Index</b>: Combine physical activity frequency and transportation to assess overall physical activity levels. We can include Time using technology here, as well.\n",
    "    \n",
    "&bull; <b>Physical Activity Level (PAL)</b> - from Wikipedia, it's used to express a person's daily physical activity as a number, and is used to estimate a person's total energy expenditure (TEE). In combination with the basal metabolic rate (BMR), it can be used to compute the amount of food energy a person needs to consume in order to maintain a particular lifestyle. Formula for PAL is TEE in a 24-hour period, divided by BMR. There are few columns we can use to estimate both the TEE and BMR. \n",
    "\n",
    "<BR><BR>\n",
    "Also, there are some features we can make groups from:<BR><BR>\n",
    "&bull; <b>Age Category</b>: group individuals into different age categories (e.g., 18-24, 25-34, 35-44, etc.)\n",
    "\n",
    "&bull; <b>Height Category</b> to group individuals into different height categories (e.g., short, medium, tall)\n",
    "\n",
    "\n",
    "By incorporating these engineered features, we can potentially enhance the predictive power of our models and better understand the underlying factors contributing to obesity."
   ]
  },
  {
   "cell_type": "markdown",
   "id": "7eaedd4e",
   "metadata": {
    "papermill": {
     "duration": 0.022619,
     "end_time": "2024-02-06T12:52:08.280453",
     "exception": false,
     "start_time": "2024-02-06T12:52:08.257834",
     "status": "completed"
    },
    "tags": []
   },
   "source": [
    "# <b><span style='color: #96c93b'>2 |</span> Data Preparation and Cleaning</b>\n",
    "\n"
   ]
  },
  {
   "cell_type": "markdown",
   "id": "b300fa17",
   "metadata": {
    "papermill": {
     "duration": 0.023876,
     "end_time": "2024-02-06T12:52:08.327591",
     "exception": false,
     "start_time": "2024-02-06T12:52:08.303715",
     "status": "completed"
    },
    "tags": []
   },
   "source": [
    "<div class=\"header2\"><span style=\"\"><b>2.1 | Missing values</b></span></div>"
   ]
  },
  {
   "cell_type": "code",
   "execution_count": 4,
   "id": "63e86b93",
   "metadata": {
    "execution": {
     "iopub.execute_input": "2024-02-06T12:52:08.416768Z",
     "iopub.status.busy": "2024-02-06T12:52:08.416382Z",
     "iopub.status.idle": "2024-02-06T12:52:08.454628Z",
     "shell.execute_reply": "2024-02-06T12:52:08.453543Z"
    },
    "papermill": {
     "duration": 0.105248,
     "end_time": "2024-02-06T12:52:08.457047",
     "exception": false,
     "start_time": "2024-02-06T12:52:08.351799",
     "status": "completed"
    },
    "tags": []
   },
   "outputs": [
    {
     "name": "stdout",
     "output_type": "stream",
     "text": [
      "Train: \n",
      "id                                0\n",
      "Gender                            0\n",
      "Age                               0\n",
      "Height                            0\n",
      "Weight                            0\n",
      "family_history_with_overweight    0\n",
      "FAVC                              0\n",
      "FCVC                              0\n",
      "NCP                               0\n",
      "CAEC                              0\n",
      "SMOKE                             0\n",
      "CH2O                              0\n",
      "SCC                               0\n",
      "FAF                               0\n",
      "TUE                               0\n",
      "CALC                              0\n",
      "MTRANS                            0\n",
      "NObeyesdad                        0\n",
      "dtype: int64\n",
      "\n",
      "\n",
      "Test: \n",
      "id                                0\n",
      "Gender                            0\n",
      "Age                               0\n",
      "Height                            0\n",
      "Weight                            0\n",
      "family_history_with_overweight    0\n",
      "FAVC                              0\n",
      "FCVC                              0\n",
      "NCP                               0\n",
      "CAEC                              0\n",
      "SMOKE                             0\n",
      "CH2O                              0\n",
      "SCC                               0\n",
      "FAF                               0\n",
      "TUE                               0\n",
      "CALC                              0\n",
      "MTRANS                            0\n",
      "dtype: int64\n"
     ]
    }
   ],
   "source": [
    "print('Train: ')\n",
    "print(df_train.isnull().sum())\n",
    "print('\\n')\n",
    "print('Test: ')\n",
    "print(df_test.isnull().sum())"
   ]
  },
  {
   "cell_type": "markdown",
   "id": "1d2295ee",
   "metadata": {
    "papermill": {
     "duration": 0.023343,
     "end_time": "2024-02-06T12:52:08.506303",
     "exception": false,
     "start_time": "2024-02-06T12:52:08.482960",
     "status": "completed"
    },
    "tags": []
   },
   "source": [
    "<div class=\"footer\">✅ There are no missing values in the dataset.</div>"
   ]
  },
  {
   "cell_type": "markdown",
   "id": "c1d2952b",
   "metadata": {
    "papermill": {
     "duration": 0.023526,
     "end_time": "2024-02-06T12:52:08.554248",
     "exception": false,
     "start_time": "2024-02-06T12:52:08.530722",
     "status": "completed"
    },
    "tags": []
   },
   "source": [
    "<div class=\"header2\"><span style=\"\"><b>2.2 | Outliers</b></span></div>"
   ]
  },
  {
   "cell_type": "code",
   "execution_count": 5,
   "id": "77b1613f",
   "metadata": {
    "execution": {
     "iopub.execute_input": "2024-02-06T12:52:08.603327Z",
     "iopub.status.busy": "2024-02-06T12:52:08.602986Z",
     "iopub.status.idle": "2024-02-06T12:52:09.804283Z",
     "shell.execute_reply": "2024-02-06T12:52:09.803304Z"
    },
    "papermill": {
     "duration": 1.228602,
     "end_time": "2024-02-06T12:52:09.806717",
     "exception": false,
     "start_time": "2024-02-06T12:52:08.578115",
     "status": "completed"
    },
    "tags": []
   },
   "outputs": [
    {
     "data": {
      "image/png": "[encoded data removed]",
      "text/plain": [
       "<Figure size 600x200 with 1 Axes>"
      ]
     },
     "metadata": {},
     "output_type": "display_data"
    },
    {
     "data": {
      "image/png": "[encoded data removed]",
      "text/plain": [
       "<Figure size 600x200 with 1 Axes>"
      ]
     },
     "metadata": {},
     "output_type": "display_data"
    },
    {
     "data": {
      "image/png": "[encoded data removed]",
      "text/plain": [
       "<Figure size 600x200 with 1 Axes>"
      ]
     },
     "metadata": {},
     "output_type": "display_data"
    },
    {
     "data": {
      "image/png": "[encoded data removed]",
      "text/plain": [
       "<Figure size 600x200 with 1 Axes>"
      ]
     },
     "metadata": {},
     "output_type": "display_data"
    },
    {
     "data": {
      "image/png": "[encoded data removed]",
      "text/plain": [
       "<Figure size 600x200 with 1 Axes>"
      ]
     },
     "metadata": {},
     "output_type": "display_data"
    },
    {
     "data": {
      "image/png": "[encoded data removed]",
      "text/plain": [
       "<Figure size 600x200 with 1 Axes>"
      ]
     },
     "metadata": {},
     "output_type": "display_data"
    },
    {
     "data": {
      "image/png": "[encoded data removed]",
      "text/plain": [
       "<Figure size 600x200 with 1 Axes>"
      ]
     },
     "metadata": {},
     "output_type": "display_data"
    },
    {
     "data": {
      "image/png": "[encoded data removed]",
      "text/plain": [
       "<Figure size 600x200 with 1 Axes>"
      ]
     },
     "metadata": {},
     "output_type": "display_data"
    }
   ],
   "source": [
    "# Filter numerical features\n",
    "numerical_columns = df_train.select_dtypes(include=['float64', 'int64'])\n",
    "\n",
    "# Create box plots for each feature\n",
    "for idx, col in enumerate(numerical_columns.columns[1:]):\n",
    "    plt.figure(figsize=(6, 2))\n",
    "    plt.boxplot(df_train[col], vert=False)\n",
    "    plt.title(col)\n",
    "#     plt.xlabel('Value')\n",
    "    plt.ylabel(col)\n",
    "    plt.show()"
   ]
  },
  {
   "cell_type": "markdown",
   "id": "d7d9947b",
   "metadata": {
    "papermill": {
     "duration": 0.027984,
     "end_time": "2024-02-06T12:52:09.863547",
     "exception": false,
     "start_time": "2024-02-06T12:52:09.835563",
     "status": "completed"
    },
    "tags": []
   },
   "source": [
    "<div class=\"mid\">\n",
    "\n",
    "📌 We can see that the majority of numerical features is free of outliers.<BR>\n",
    "    📌 Most outliers are in the <code>Age</code> feature. Further analysis is needed.<BR>\n",
    "    📌 Something weird is happening in the <code>NCP</code> feature. Further analysis is needed.<BR>\n",
    "    📌 <code>Height</code> has an outlier but I think we can leave it.\n",
    "\n",
    "</div>"
   ]
  },
  {
   "cell_type": "markdown",
   "id": "1225ee08",
   "metadata": {
    "papermill": {
     "duration": 0.027988,
     "end_time": "2024-02-06T12:52:09.920270",
     "exception": false,
     "start_time": "2024-02-06T12:52:09.892282",
     "status": "completed"
    },
    "tags": []
   },
   "source": [
    "<div class=\"mid\" style=\"border-top: 2px dotted black;\"><span style=\"text-shadow: 0px 0px 5px #96c93b, 0px 0px 10px #96c93b, 0px 0px 10px #96c93b,\n",
    "    0px 0px 20px #96c93b;\"><b>Age distribution</b></span><BR><BR>\n",
    "\n",
    "As spotted above, <code>Age</code> distribution analysis is needed.<BR>\n",
    "As we see in the boxplot, the median age is around 23, with the middle 50% of data ranging from around 20 to 26.<BR>\n",
    "The distribution of age appears to be right skewed, meaning there are more younger individuals than older individuals.<BR>\n",
    "There are many outliers on the older end of the distribution, starting from 35. This means we don't have a lot of older people in this dataset.</div>"
   ]
  },
  {
   "cell_type": "code",
   "execution_count": 6,
   "id": "69765726",
   "metadata": {
    "execution": {
     "iopub.execute_input": "2024-02-06T12:52:09.977526Z",
     "iopub.status.busy": "2024-02-06T12:52:09.977035Z",
     "iopub.status.idle": "2024-02-06T12:52:10.243364Z",
     "shell.execute_reply": "2024-02-06T12:52:10.242247Z"
    },
    "papermill": {
     "duration": 0.296937,
     "end_time": "2024-02-06T12:52:10.245571",
     "exception": false,
     "start_time": "2024-02-06T12:52:09.948634",
     "status": "completed"
    },
    "tags": []
   },
   "outputs": [
    {
     "data": {
      "text/plain": [
       "count    20758.000000\n",
       "mean        23.841804\n",
       "std          5.688072\n",
       "min         14.000000\n",
       "25%         20.000000\n",
       "50%         22.815416\n",
       "75%         26.000000\n",
       "max         61.000000\n",
       "Name: Age, dtype: float64"
      ]
     },
     "metadata": {},
     "output_type": "display_data"
    },
    {
     "name": "stdout",
     "output_type": "stream",
     "text": [
      "Age\n",
      "18.000000    0.092302\n",
      "26.000000    0.087003\n",
      "21.000000    0.079150\n",
      "23.000000    0.057905\n",
      "19.000000    0.042682\n",
      "               ...   \n",
      "18.868167    0.000048\n",
      "29.483056    0.000048\n",
      "19.726948    0.000048\n",
      "38.392569    0.000048\n",
      "17.288205    0.000048\n",
      "Name: proportion, Length: 1703, dtype: float64\n"
     ]
    },
    {
     "data": {
      "image/png": "[encoded data removed]",
      "text/plain": [
       "<Figure size 640x480 with 1 Axes>"
      ]
     },
     "metadata": {},
     "output_type": "display_data"
    }
   ],
   "source": [
    "plt.hist(df_train.Age, bins=20);\n",
    "\n",
    "display(df_train.Age.describe())\n",
    "print(df_train.Age.value_counts(normalize=True))"
   ]
  },
  {
   "cell_type": "code",
   "execution_count": 7,
   "id": "fb57a20a",
   "metadata": {
    "execution": {
     "iopub.execute_input": "2024-02-06T12:52:10.311369Z",
     "iopub.status.busy": "2024-02-06T12:52:10.310833Z",
     "iopub.status.idle": "2024-02-06T12:52:10.322780Z",
     "shell.execute_reply": "2024-02-06T12:52:10.321922Z"
    },
    "papermill": {
     "duration": 0.052261,
     "end_time": "2024-02-06T12:52:10.326078",
     "exception": false,
     "start_time": "2024-02-06T12:52:10.273817",
     "status": "completed"
    },
    "tags": []
   },
   "outputs": [],
   "source": [
    "# Helper function\n",
    "def check_outliers(column, dataframe):\n",
    "    Q1 = dataframe[column].quantile(0.25)\n",
    "    Q3 = dataframe[column].quantile(0.75)\n",
    "    IQR = Q3 - Q1\n",
    "    lower_bound = Q1 - 1.5 * IQR\n",
    "    upper_bound = Q3 + 1.5 * IQR\n",
    "\n",
    "    outliers = dataframe[~((dataframe[column] >= lower_bound) & (dataframe[column] <= upper_bound))]\n",
    "\n",
    "    # Analyze outlier characteristics\n",
    "    print('Summary statistics for outliers of ' + column + '\\n')\n",
    "    display(outliers.describe())\n",
    "\n",
    "    # Visualize outlier distribution\n",
    "    plt.figure(figsize=(8, 6))\n",
    "    plt.hist(outliers[column])\n",
    "    plt.title(\"Distribution of Outliers in \" + column)\n",
    "    plt.show()"
   ]
  },
  {
   "cell_type": "code",
   "execution_count": 8,
   "id": "6b9f62cf",
   "metadata": {
    "execution": {
     "iopub.execute_input": "2024-02-06T12:52:10.397714Z",
     "iopub.status.busy": "2024-02-06T12:52:10.397333Z",
     "iopub.status.idle": "2024-02-06T12:52:10.659262Z",
     "shell.execute_reply": "2024-02-06T12:52:10.658252Z"
    },
    "papermill": {
     "duration": 0.297711,
     "end_time": "2024-02-06T12:52:10.661771",
     "exception": false,
     "start_time": "2024-02-06T12:52:10.364060",
     "status": "completed"
    },
    "tags": []
   },
   "outputs": [
    {
     "name": "stdout",
     "output_type": "stream",
     "text": [
      "Summary statistics for outliers of Age\n",
      "\n"
     ]
    },
    {
     "data": {
      "text/html": [
       "<div>\n",
       "<style scoped>\n",
       "    .dataframe tbody tr th:only-of-type {\n",
       "        vertical-align: middle;\n",
       "    }\n",
       "\n",
       "    .dataframe tbody tr th {\n",
       "        vertical-align: top;\n",
       "    }\n",
       "\n",
       "    .dataframe thead th {\n",
       "        text-align: right;\n",
       "    }\n",
       "</style>\n",
       "<table border=\"1\" class=\"dataframe\">\n",
       "  <thead>\n",
       "    <tr style=\"text-align: right;\">\n",
       "      <th></th>\n",
       "      <th>id</th>\n",
       "      <th>Age</th>\n",
       "      <th>Height</th>\n",
       "      <th>Weight</th>\n",
       "      <th>FCVC</th>\n",
       "      <th>NCP</th>\n",
       "      <th>CH2O</th>\n",
       "      <th>FAF</th>\n",
       "      <th>TUE</th>\n",
       "    </tr>\n",
       "  </thead>\n",
       "  <tbody>\n",
       "    <tr>\n",
       "      <th>count</th>\n",
       "      <td>1074.000000</td>\n",
       "      <td>1074.000000</td>\n",
       "      <td>1074.000000</td>\n",
       "      <td>1074.000000</td>\n",
       "      <td>1074.000000</td>\n",
       "      <td>1074.000000</td>\n",
       "      <td>1074.000000</td>\n",
       "      <td>1074.000000</td>\n",
       "      <td>1074.000000</td>\n",
       "    </tr>\n",
       "    <tr>\n",
       "      <th>mean</th>\n",
       "      <td>10339.790503</td>\n",
       "      <td>40.129769</td>\n",
       "      <td>1.648013</td>\n",
       "      <td>85.624993</td>\n",
       "      <td>2.293739</td>\n",
       "      <td>2.637243</td>\n",
       "      <td>1.785384</td>\n",
       "      <td>0.714547</td>\n",
       "      <td>0.152276</td>\n",
       "    </tr>\n",
       "    <tr>\n",
       "      <th>std</th>\n",
       "      <td>6064.654905</td>\n",
       "      <td>4.524898</td>\n",
       "      <td>0.094154</td>\n",
       "      <td>16.206182</td>\n",
       "      <td>0.415608</td>\n",
       "      <td>0.711822</td>\n",
       "      <td>0.590902</td>\n",
       "      <td>0.826168</td>\n",
       "      <td>0.404536</td>\n",
       "    </tr>\n",
       "    <tr>\n",
       "      <th>min</th>\n",
       "      <td>25.000000</td>\n",
       "      <td>35.125401</td>\n",
       "      <td>1.450000</td>\n",
       "      <td>45.000000</td>\n",
       "      <td>1.000000</td>\n",
       "      <td>1.000000</td>\n",
       "      <td>1.000000</td>\n",
       "      <td>0.000000</td>\n",
       "      <td>0.000000</td>\n",
       "    </tr>\n",
       "    <tr>\n",
       "      <th>25%</th>\n",
       "      <td>5117.250000</td>\n",
       "      <td>37.638102</td>\n",
       "      <td>1.560000</td>\n",
       "      <td>77.550345</td>\n",
       "      <td>2.000000</td>\n",
       "      <td>2.812283</td>\n",
       "      <td>1.063621</td>\n",
       "      <td>0.000000</td>\n",
       "      <td>0.000000</td>\n",
       "    </tr>\n",
       "    <tr>\n",
       "      <th>50%</th>\n",
       "      <td>10080.000000</td>\n",
       "      <td>38.702213</td>\n",
       "      <td>1.650000</td>\n",
       "      <td>80.000000</td>\n",
       "      <td>2.000000</td>\n",
       "      <td>3.000000</td>\n",
       "      <td>1.972016</td>\n",
       "      <td>0.591068</td>\n",
       "      <td>0.000000</td>\n",
       "    </tr>\n",
       "    <tr>\n",
       "      <th>75%</th>\n",
       "      <td>15728.250000</td>\n",
       "      <td>40.967653</td>\n",
       "      <td>1.749080</td>\n",
       "      <td>90.000000</td>\n",
       "      <td>2.733913</td>\n",
       "      <td>3.000000</td>\n",
       "      <td>2.000000</td>\n",
       "      <td>1.000000</td>\n",
       "      <td>0.000000</td>\n",
       "    </tr>\n",
       "    <tr>\n",
       "      <th>max</th>\n",
       "      <td>20752.000000</td>\n",
       "      <td>61.000000</td>\n",
       "      <td>1.910000</td>\n",
       "      <td>121.889803</td>\n",
       "      <td>3.000000</td>\n",
       "      <td>4.000000</td>\n",
       "      <td>3.000000</td>\n",
       "      <td>3.000000</td>\n",
       "      <td>2.000000</td>\n",
       "    </tr>\n",
       "  </tbody>\n",
       "</table>\n",
       "</div>"
      ],
      "text/plain": [
       "                 id          Age       Height       Weight         FCVC  \\\n",
       "count   1074.000000  1074.000000  1074.000000  1074.000000  1074.000000   \n",
       "mean   10339.790503    40.129769     1.648013    85.624993     2.293739   \n",
       "std     6064.654905     4.524898     0.094154    16.206182     0.415608   \n",
       "min       25.000000    35.125401     1.450000    45.000000     1.000000   \n",
       "25%     5117.250000    37.638102     1.560000    77.550345     2.000000   \n",
       "50%    10080.000000    38.702213     1.650000    80.000000     2.000000   \n",
       "75%    15728.250000    40.967653     1.749080    90.000000     2.733913   \n",
       "max    20752.000000    61.000000     1.910000   121.889803     3.000000   \n",
       "\n",
       "               NCP         CH2O          FAF          TUE  \n",
       "count  1074.000000  1074.000000  1074.000000  1074.000000  \n",
       "mean      2.637243     1.785384     0.714547     0.152276  \n",
       "std       0.711822     0.590902     0.826168     0.404536  \n",
       "min       1.000000     1.000000     0.000000     0.000000  \n",
       "25%       2.812283     1.063621     0.000000     0.000000  \n",
       "50%       3.000000     1.972016     0.591068     0.000000  \n",
       "75%       3.000000     2.000000     1.000000     0.000000  \n",
       "max       4.000000     3.000000     3.000000     2.000000  "
      ]
     },
     "metadata": {},
     "output_type": "display_data"
    },
    {
     "data": {
      "image/png": "[encoded data removed]",
      "text/plain": [
       "<Figure size 800x600 with 1 Axes>"
      ]
     },
     "metadata": {},
     "output_type": "display_data"
    }
   ],
   "source": [
    "check_outliers('Age', df_train)"
   ]
  },
  {
   "cell_type": "markdown",
   "id": "a9c93a46",
   "metadata": {
    "execution": {
     "iopub.execute_input": "2024-02-01T14:54:51.290468Z",
     "iopub.status.busy": "2024-02-01T14:54:51.289984Z",
     "iopub.status.idle": "2024-02-01T14:54:51.307435Z",
     "shell.execute_reply": "2024-02-01T14:54:51.305851Z",
     "shell.execute_reply.started": "2024-02-01T14:54:51.290435Z"
    },
    "papermill": {
     "duration": 0.02956,
     "end_time": "2024-02-06T12:52:10.722283",
     "exception": false,
     "start_time": "2024-02-06T12:52:10.692723",
     "status": "completed"
    },
    "tags": []
   },
   "source": [
    "<div class=\"mid\">📌 There are too many outliers in the <code>Age</code> feature to delete them. Besides, it would make our model entirely dedicated to young people and that is not the objective of this competition.</div>"
   ]
  },
  {
   "cell_type": "markdown",
   "id": "4590b40e",
   "metadata": {
    "papermill": {
     "duration": 0.028959,
     "end_time": "2024-02-06T12:52:10.780627",
     "exception": false,
     "start_time": "2024-02-06T12:52:10.751668",
     "status": "completed"
    },
    "tags": []
   },
   "source": [
    "<div class=\"mid\">💡 Another thing I noticed is how some <code>Age</code> values are fractions, see for example people younger than 18:</div>"
   ]
  },
  {
   "cell_type": "code",
   "execution_count": 9,
   "id": "57a47cae",
   "metadata": {
    "execution": {
     "iopub.execute_input": "2024-02-06T12:52:10.841378Z",
     "iopub.status.busy": "2024-02-06T12:52:10.840590Z",
     "iopub.status.idle": "2024-02-06T12:52:10.850893Z",
     "shell.execute_reply": "2024-02-06T12:52:10.849863Z"
    },
    "papermill": {
     "duration": 0.043565,
     "end_time": "2024-02-06T12:52:10.853406",
     "exception": false,
     "start_time": "2024-02-06T12:52:10.809841",
     "status": "completed"
    },
    "tags": []
   },
   "outputs": [
    {
     "data": {
      "text/plain": [
       "Age\n",
       "17.000000    516\n",
       "16.000000    109\n",
       "16.306870     25\n",
       "17.065445     17\n",
       "17.673900     15\n",
       "            ... \n",
       "17.684891      1\n",
       "17.504873      1\n",
       "17.082867      1\n",
       "16.441786      1\n",
       "17.288205      1\n",
       "Name: count, Length: 92, dtype: int64"
      ]
     },
     "execution_count": 9,
     "metadata": {},
     "output_type": "execute_result"
    }
   ],
   "source": [
    "df_train.Age[df_train.Age < 18].value_counts()"
   ]
  },
  {
   "cell_type": "markdown",
   "id": "90b24ff5",
   "metadata": {
    "papermill": {
     "duration": 0.035683,
     "end_time": "2024-02-06T12:52:10.921098",
     "exception": false,
     "start_time": "2024-02-06T12:52:10.885415",
     "status": "completed"
    },
    "tags": []
   },
   "source": [
    "<div class=\"footer\">📌 <code>Age</code> values with decimal points should probably be rounded off. This might not be needed if I create Age categories.</div>"
   ]
  },
  {
   "cell_type": "markdown",
   "id": "97417714",
   "metadata": {
    "papermill": {
     "duration": 0.029463,
     "end_time": "2024-02-06T12:52:10.980198",
     "exception": false,
     "start_time": "2024-02-06T12:52:10.950735",
     "status": "completed"
    },
    "tags": []
   },
   "source": [
    "<div class=\"starter\" style=\"border-top: 2px dotted black;\"><span style=\"text-shadow: 0px 0px 5px #96c93b, 0px 0px 10px #96c93b, 0px 0px 10px #96c93b,\n",
    "    0px 0px 20px #96c93b;\"><b>NCP (Number of main meals) distribution</b></span><BR><BR>\n",
    "\n",
    "As spotted above, <code>NCP</code> distribution analysis is needed. Let's look at the plots:</div>"
   ]
  },
  {
   "cell_type": "code",
   "execution_count": 10,
   "id": "45d42427",
   "metadata": {
    "execution": {
     "iopub.execute_input": "2024-02-06T12:52:11.037716Z",
     "iopub.status.busy": "2024-02-06T12:52:11.036922Z",
     "iopub.status.idle": "2024-02-06T12:52:11.260850Z",
     "shell.execute_reply": "2024-02-06T12:52:11.259624Z"
    },
    "papermill": {
     "duration": 0.254932,
     "end_time": "2024-02-06T12:52:11.263014",
     "exception": false,
     "start_time": "2024-02-06T12:52:11.008082",
     "status": "completed"
    },
    "tags": []
   },
   "outputs": [
    {
     "data": {
      "image/png": "[encoded data removed]",
      "text/plain": [
       "<Figure size 4500x200 with 1 Axes>"
      ]
     },
     "metadata": {},
     "output_type": "display_data"
    },
    {
     "data": {
      "text/plain": [
       "count    20758.000000\n",
       "mean         2.761332\n",
       "std          0.705375\n",
       "min          1.000000\n",
       "25%          3.000000\n",
       "50%          3.000000\n",
       "75%          3.000000\n",
       "max          4.000000\n",
       "Name: NCP, dtype: float64"
      ]
     },
     "metadata": {},
     "output_type": "display_data"
    },
    {
     "name": "stdout",
     "output_type": "stream",
     "text": [
      "NCP\n",
      "3.000000    0.708450\n",
      "1.000000    0.095192\n",
      "4.000000    0.034445\n",
      "2.993623    0.001879\n",
      "2.695396    0.001204\n",
      "              ...   \n",
      "1.739880    0.000048\n",
      "2.101841    0.000048\n",
      "1.788602    0.000048\n",
      "2.752815    0.000048\n",
      "1.890682    0.000048\n",
      "Name: proportion, Length: 689, dtype: float64\n"
     ]
    }
   ],
   "source": [
    "plt.figure(figsize=(45, 2))\n",
    "plt.boxplot(df_train.NCP, vert=False)\n",
    "plt.title('Boxplot of NCP (Number of main meals)')\n",
    "plt.xlabel('Value')\n",
    "plt.ylabel(col)\n",
    "plt.show()\n",
    "\n",
    "display(df_train.NCP.describe())\n",
    "print(df_train.NCP.value_counts(normalize=True))"
   ]
  },
  {
   "cell_type": "code",
   "execution_count": 11,
   "id": "2f959304",
   "metadata": {
    "execution": {
     "iopub.execute_input": "2024-02-06T12:52:11.322074Z",
     "iopub.status.busy": "2024-02-06T12:52:11.321742Z",
     "iopub.status.idle": "2024-02-06T12:52:11.571597Z",
     "shell.execute_reply": "2024-02-06T12:52:11.570588Z"
    },
    "papermill": {
     "duration": 0.281488,
     "end_time": "2024-02-06T12:52:11.573729",
     "exception": false,
     "start_time": "2024-02-06T12:52:11.292241",
     "status": "completed"
    },
    "tags": []
   },
   "outputs": [
    {
     "data": {
      "image/png": "[encoded data removed]",
      "text/plain": [
       "<Figure size 640x480 with 1 Axes>"
      ]
     },
     "metadata": {},
     "output_type": "display_data"
    }
   ],
   "source": [
    "plt.hist(df_train.NCP, bins=20);"
   ]
  },
  {
   "cell_type": "markdown",
   "id": "4d8a5354",
   "metadata": {
    "execution": {
     "iopub.execute_input": "2024-02-02T15:09:26.428361Z",
     "iopub.status.busy": "2024-02-02T15:09:26.427846Z",
     "iopub.status.idle": "2024-02-02T15:09:26.759708Z",
     "shell.execute_reply": "2024-02-02T15:09:26.756884Z",
     "shell.execute_reply.started": "2024-02-02T15:09:26.428318Z"
    },
    "papermill": {
     "duration": 0.028215,
     "end_time": "2024-02-06T12:52:11.631412",
     "exception": false,
     "start_time": "2024-02-06T12:52:11.603197",
     "status": "completed"
    },
    "tags": []
   },
   "source": [
    "<div class=\"mid\">The issue with the distribution of NCP is again, the numbers are not whole. It's odd to eat for example 1 and a half meals a day and I'm curious if this was provided by this health survey takers. I think I need to do two things - 1️⃣ round the decimal points and 2️⃣ check if it looks the same in the original dataset.</div>"
   ]
  },
  {
   "cell_type": "code",
   "execution_count": 12,
   "id": "454b0592",
   "metadata": {
    "execution": {
     "iopub.execute_input": "2024-02-06T12:52:11.691196Z",
     "iopub.status.busy": "2024-02-06T12:52:11.690821Z",
     "iopub.status.idle": "2024-02-06T12:52:11.697042Z",
     "shell.execute_reply": "2024-02-06T12:52:11.696139Z"
    },
    "papermill": {
     "duration": 0.038562,
     "end_time": "2024-02-06T12:52:11.699183",
     "exception": false,
     "start_time": "2024-02-06T12:52:11.660621",
     "status": "completed"
    },
    "tags": []
   },
   "outputs": [],
   "source": [
    "# Filter categorical features\n",
    "categorical_columns = df_train.select_dtypes(include=['object'])"
   ]
  },
  {
   "cell_type": "code",
   "execution_count": 13,
   "id": "c4a1ce85",
   "metadata": {
    "execution": {
     "iopub.execute_input": "2024-02-06T12:52:11.760224Z",
     "iopub.status.busy": "2024-02-06T12:52:11.759919Z",
     "iopub.status.idle": "2024-02-06T12:52:13.276123Z",
     "shell.execute_reply": "2024-02-06T12:52:13.275153Z"
    },
    "papermill": {
     "duration": 1.548797,
     "end_time": "2024-02-06T12:52:13.278531",
     "exception": false,
     "start_time": "2024-02-06T12:52:11.729734",
     "status": "completed"
    },
    "tags": []
   },
   "outputs": [
    {
     "data": {
      "image/png": "[encoded data removed]",
      "text/plain": [
       "<Figure size 600x200 with 1 Axes>"
      ]
     },
     "metadata": {},
     "output_type": "display_data"
    },
    {
     "data": {
      "image/png": "[encoded data removed]",
      "text/plain": [
       "<Figure size 600x200 with 1 Axes>"
      ]
     },
     "metadata": {},
     "output_type": "display_data"
    },
    {
     "data": {
      "image/png": "[encoded data removed]",
      "text/plain": [
       "<Figure size 600x200 with 1 Axes>"
      ]
     },
     "metadata": {},
     "output_type": "display_data"
    },
    {
     "data": {
      "image/png": "[encoded data removed]",
      "text/plain": [
       "<Figure size 600x200 with 1 Axes>"
      ]
     },
     "metadata": {},
     "output_type": "display_data"
    },
    {
     "data": {
      "image/png": "[encoded data removed]",
      "text/plain": [
       "<Figure size 600x200 with 1 Axes>"
      ]
     },
     "metadata": {},
     "output_type": "display_data"
    },
    {
     "data": {
      "image/png": "[encoded data removed]",
      "text/plain": [
       "<Figure size 600x200 with 1 Axes>"
      ]
     },
     "metadata": {},
     "output_type": "display_data"
    },
    {
     "data": {
      "image/png": "[encoded data removed]",
      "text/plain": [
       "<Figure size 600x200 with 1 Axes>"
      ]
     },
     "metadata": {},
     "output_type": "display_data"
    },
    {
     "data": {
      "image/png": "[encoded data removed]",
      "text/plain": [
       "<Figure size 600x200 with 1 Axes>"
      ]
     },
     "metadata": {},
     "output_type": "display_data"
    },
    {
     "data": {
      "image/png": "[encoded data removed]",
      "text/plain": [
       "<Figure size 600x200 with 1 Axes>"
      ]
     },
     "metadata": {},
     "output_type": "display_data"
    }
   ],
   "source": [
    "# Create box plots for each feature\n",
    "for idx, col in enumerate(categorical_columns.columns):\n",
    "    plt.figure(figsize=(6, 2))\n",
    "    df_train[col].value_counts().plot.bar()\n",
    "    plt.title(col)\n",
    "#     plt.xlabel('Value')\n",
    "    plt.ylabel(col)\n",
    "    plt.show()"
   ]
  },
  {
   "cell_type": "markdown",
   "id": "f4446b44",
   "metadata": {
    "papermill": {
     "duration": 0.031717,
     "end_time": "2024-02-06T12:52:13.342327",
     "exception": false,
     "start_time": "2024-02-06T12:52:13.310610",
     "status": "completed"
    },
    "tags": []
   },
   "source": [
    "<div class=\"green\">I don't think there are any outliers within categorical features that needs to be taken care of.</div>"
   ]
  },
  {
   "cell_type": "markdown",
   "id": "2bb33b24",
   "metadata": {
    "papermill": {
     "duration": 0.033753,
     "end_time": "2024-02-06T12:52:13.407785",
     "exception": false,
     "start_time": "2024-02-06T12:52:13.374032",
     "status": "completed"
    },
    "tags": []
   },
   "source": [
    "<div class=\"header2\"><span style=\"\"><b>2.3 | Encode categorical features</b></span><BR><BR>"
   ]
  },
  {
   "cell_type": "markdown",
   "id": "aec72f12",
   "metadata": {
    "papermill": {
     "duration": 0.03192,
     "end_time": "2024-02-06T12:52:13.472177",
     "exception": false,
     "start_time": "2024-02-06T12:52:13.440257",
     "status": "completed"
    },
    "tags": []
   },
   "source": [
    "<div class=\"mid\">\n",
    "    As we've seen from the previous plot, we have in total 9 categorical features, including the target. Out of these, 5 features are binary - simple yes/no answers and Male/Female values for Gender.<BR>\n",
    "    I will start with the binary yes/no features, simply mapping <code>yes</code> to <code>1</code> and <code>no</code> to <code>0</code>.\n",
    "</div>"
   ]
  },
  {
   "cell_type": "code",
   "execution_count": 14,
   "id": "347e2936",
   "metadata": {
    "execution": {
     "iopub.execute_input": "2024-02-06T12:52:13.537105Z",
     "iopub.status.busy": "2024-02-06T12:52:13.536745Z",
     "iopub.status.idle": "2024-02-06T12:52:13.561462Z",
     "shell.execute_reply": "2024-02-06T12:52:13.560546Z"
    },
    "papermill": {
     "duration": 0.059754,
     "end_time": "2024-02-06T12:52:13.563532",
     "exception": false,
     "start_time": "2024-02-06T12:52:13.503778",
     "status": "completed"
    },
    "tags": []
   },
   "outputs": [
    {
     "data": {
      "text/html": [
       "<div>\n",
       "<style scoped>\n",
       "    .dataframe tbody tr th:only-of-type {\n",
       "        vertical-align: middle;\n",
       "    }\n",
       "\n",
       "    .dataframe tbody tr th {\n",
       "        vertical-align: top;\n",
       "    }\n",
       "\n",
       "    .dataframe thead th {\n",
       "        text-align: right;\n",
       "    }\n",
       "</style>\n",
       "<table border=\"1\" class=\"dataframe\">\n",
       "  <thead>\n",
       "    <tr style=\"text-align: right;\">\n",
       "      <th></th>\n",
       "      <th>family_history_with_overweight</th>\n",
       "      <th>FAVC</th>\n",
       "      <th>SMOKE</th>\n",
       "      <th>SCC</th>\n",
       "    </tr>\n",
       "  </thead>\n",
       "  <tbody>\n",
       "    <tr>\n",
       "      <th>0</th>\n",
       "      <td>1</td>\n",
       "      <td>1</td>\n",
       "      <td>0</td>\n",
       "      <td>0</td>\n",
       "    </tr>\n",
       "    <tr>\n",
       "      <th>1</th>\n",
       "      <td>1</td>\n",
       "      <td>1</td>\n",
       "      <td>0</td>\n",
       "      <td>0</td>\n",
       "    </tr>\n",
       "    <tr>\n",
       "      <th>2</th>\n",
       "      <td>1</td>\n",
       "      <td>1</td>\n",
       "      <td>0</td>\n",
       "      <td>0</td>\n",
       "    </tr>\n",
       "    <tr>\n",
       "      <th>3</th>\n",
       "      <td>1</td>\n",
       "      <td>1</td>\n",
       "      <td>0</td>\n",
       "      <td>0</td>\n",
       "    </tr>\n",
       "    <tr>\n",
       "      <th>4</th>\n",
       "      <td>1</td>\n",
       "      <td>1</td>\n",
       "      <td>0</td>\n",
       "      <td>0</td>\n",
       "    </tr>\n",
       "  </tbody>\n",
       "</table>\n",
       "</div>"
      ],
      "text/plain": [
       "   family_history_with_overweight  FAVC  SMOKE  SCC\n",
       "0                               1     1      0    0\n",
       "1                               1     1      0    0\n",
       "2                               1     1      0    0\n",
       "3                               1     1      0    0\n",
       "4                               1     1      0    0"
      ]
     },
     "execution_count": 14,
     "metadata": {},
     "output_type": "execute_result"
    }
   ],
   "source": [
    "binary_cols = ['family_history_with_overweight', 'FAVC', 'SMOKE', 'SCC']\n",
    "\n",
    "for col in binary_cols:\n",
    "    df_train[col] = df_train[col].map({'yes': 1, 'no': 0})\n",
    "    \n",
    "df_train[binary_cols].head()"
   ]
  },
  {
   "cell_type": "markdown",
   "id": "8651ac19",
   "metadata": {
    "papermill": {
     "duration": 0.031779,
     "end_time": "2024-02-06T12:52:13.627455",
     "exception": false,
     "start_time": "2024-02-06T12:52:13.595676",
     "status": "completed"
    },
    "tags": []
   },
   "source": [
    "<div class=\"mid\">\n",
    "   Next, let's do a Ranking Transformation which is possible in features CAEC and CALC. Both have values that can be put in order, as in \"no\" is lower than \"sometimes\", \"frequently\" is higher than \"sometimes\" etc.\n",
    "</div>"
   ]
  },
  {
   "cell_type": "code",
   "execution_count": 15,
   "id": "a3fcda91",
   "metadata": {
    "execution": {
     "iopub.execute_input": "2024-02-06T12:52:13.693843Z",
     "iopub.status.busy": "2024-02-06T12:52:13.693102Z",
     "iopub.status.idle": "2024-02-06T12:52:13.711272Z",
     "shell.execute_reply": "2024-02-06T12:52:13.710221Z"
    },
    "papermill": {
     "duration": 0.053931,
     "end_time": "2024-02-06T12:52:13.713395",
     "exception": false,
     "start_time": "2024-02-06T12:52:13.659464",
     "status": "completed"
    },
    "tags": []
   },
   "outputs": [
    {
     "data": {
      "text/html": [
       "<div>\n",
       "<style scoped>\n",
       "    .dataframe tbody tr th:only-of-type {\n",
       "        vertical-align: middle;\n",
       "    }\n",
       "\n",
       "    .dataframe tbody tr th {\n",
       "        vertical-align: top;\n",
       "    }\n",
       "\n",
       "    .dataframe thead th {\n",
       "        text-align: right;\n",
       "    }\n",
       "</style>\n",
       "<table border=\"1\" class=\"dataframe\">\n",
       "  <thead>\n",
       "    <tr style=\"text-align: right;\">\n",
       "      <th></th>\n",
       "      <th>CAEC</th>\n",
       "      <th>CALC</th>\n",
       "    </tr>\n",
       "  </thead>\n",
       "  <tbody>\n",
       "    <tr>\n",
       "      <th>0</th>\n",
       "      <td>1</td>\n",
       "      <td>1</td>\n",
       "    </tr>\n",
       "    <tr>\n",
       "      <th>1</th>\n",
       "      <td>2</td>\n",
       "      <td>0</td>\n",
       "    </tr>\n",
       "    <tr>\n",
       "      <th>2</th>\n",
       "      <td>1</td>\n",
       "      <td>0</td>\n",
       "    </tr>\n",
       "    <tr>\n",
       "      <th>3</th>\n",
       "      <td>1</td>\n",
       "      <td>1</td>\n",
       "    </tr>\n",
       "    <tr>\n",
       "      <th>4</th>\n",
       "      <td>1</td>\n",
       "      <td>1</td>\n",
       "    </tr>\n",
       "  </tbody>\n",
       "</table>\n",
       "</div>"
      ],
      "text/plain": [
       "   CAEC  CALC\n",
       "0     1     1\n",
       "1     2     0\n",
       "2     1     0\n",
       "3     1     1\n",
       "4     1     1"
      ]
     },
     "execution_count": 15,
     "metadata": {},
     "output_type": "execute_result"
    }
   ],
   "source": [
    "df_train['CAEC'] = df_train['CAEC'].map({\n",
    "    'no': 0,\n",
    "    'Always': 3,\n",
    "    'Frequently': 2,\n",
    "    'Sometimes': 1\n",
    "})\n",
    "\n",
    "df_train['CALC'] = df_train['CALC'].map({\n",
    "    'no': 0,\n",
    "    'Frequently': 2,\n",
    "    'Sometimes': 1\n",
    "})\n",
    "\n",
    "df_train[['CAEC', 'CALC']].head()"
   ]
  },
  {
   "cell_type": "markdown",
   "id": "44be9dd6",
   "metadata": {
    "execution": {
     "iopub.execute_input": "2024-02-03T08:26:09.999244Z",
     "iopub.status.busy": "2024-02-03T08:26:09.998844Z",
     "iopub.status.idle": "2024-02-03T08:26:10.007563Z",
     "shell.execute_reply": "2024-02-03T08:26:10.005772Z",
     "shell.execute_reply.started": "2024-02-03T08:26:09.9992Z"
    },
    "papermill": {
     "duration": 0.03289,
     "end_time": "2024-02-06T12:52:13.780913",
     "exception": false,
     "start_time": "2024-02-06T12:52:13.748023",
     "status": "completed"
    },
    "tags": []
   },
   "source": [
    "<div class=\"mid\">\n",
    "    As for the <code>Gender</code> feature, I will use one-hot encoding but leave only male presence/absense so the category will be \"Is_Female\". \n",
    "</div>"
   ]
  },
  {
   "cell_type": "code",
   "execution_count": 16,
   "id": "bd12ce98",
   "metadata": {
    "execution": {
     "iopub.execute_input": "2024-02-06T12:52:13.848556Z",
     "iopub.status.busy": "2024-02-06T12:52:13.847854Z",
     "iopub.status.idle": "2024-02-06T12:52:13.887570Z",
     "shell.execute_reply": "2024-02-06T12:52:13.886490Z"
    },
    "papermill": {
     "duration": 0.07616,
     "end_time": "2024-02-06T12:52:13.889726",
     "exception": false,
     "start_time": "2024-02-06T12:52:13.813566",
     "status": "completed"
    },
    "tags": []
   },
   "outputs": [
    {
     "data": {
      "text/html": [
       "<div>\n",
       "<style scoped>\n",
       "    .dataframe tbody tr th:only-of-type {\n",
       "        vertical-align: middle;\n",
       "    }\n",
       "\n",
       "    .dataframe tbody tr th {\n",
       "        vertical-align: top;\n",
       "    }\n",
       "\n",
       "    .dataframe thead th {\n",
       "        text-align: right;\n",
       "    }\n",
       "</style>\n",
       "<table border=\"1\" class=\"dataframe\">\n",
       "  <thead>\n",
       "    <tr style=\"text-align: right;\">\n",
       "      <th></th>\n",
       "      <th>id</th>\n",
       "      <th>Age</th>\n",
       "      <th>Height</th>\n",
       "      <th>Weight</th>\n",
       "      <th>family_history_with_overweight</th>\n",
       "      <th>FAVC</th>\n",
       "      <th>FCVC</th>\n",
       "      <th>NCP</th>\n",
       "      <th>CAEC</th>\n",
       "      <th>SMOKE</th>\n",
       "      <th>CH2O</th>\n",
       "      <th>SCC</th>\n",
       "      <th>FAF</th>\n",
       "      <th>TUE</th>\n",
       "      <th>CALC</th>\n",
       "      <th>MTRANS</th>\n",
       "      <th>NObeyesdad</th>\n",
       "      <th>Is_Female</th>\n",
       "    </tr>\n",
       "  </thead>\n",
       "  <tbody>\n",
       "    <tr>\n",
       "      <th>0</th>\n",
       "      <td>0</td>\n",
       "      <td>24.443011</td>\n",
       "      <td>1.699998</td>\n",
       "      <td>81.669950</td>\n",
       "      <td>1</td>\n",
       "      <td>1</td>\n",
       "      <td>2.000000</td>\n",
       "      <td>2.983297</td>\n",
       "      <td>1</td>\n",
       "      <td>0</td>\n",
       "      <td>2.763573</td>\n",
       "      <td>0</td>\n",
       "      <td>0.000000</td>\n",
       "      <td>0.976473</td>\n",
       "      <td>1</td>\n",
       "      <td>Public_Transportation</td>\n",
       "      <td>Overweight_Level_II</td>\n",
       "      <td>0</td>\n",
       "    </tr>\n",
       "    <tr>\n",
       "      <th>1</th>\n",
       "      <td>1</td>\n",
       "      <td>18.000000</td>\n",
       "      <td>1.560000</td>\n",
       "      <td>57.000000</td>\n",
       "      <td>1</td>\n",
       "      <td>1</td>\n",
       "      <td>2.000000</td>\n",
       "      <td>3.000000</td>\n",
       "      <td>2</td>\n",
       "      <td>0</td>\n",
       "      <td>2.000000</td>\n",
       "      <td>0</td>\n",
       "      <td>1.000000</td>\n",
       "      <td>1.000000</td>\n",
       "      <td>0</td>\n",
       "      <td>Automobile</td>\n",
       "      <td>Normal_Weight</td>\n",
       "      <td>1</td>\n",
       "    </tr>\n",
       "    <tr>\n",
       "      <th>2</th>\n",
       "      <td>2</td>\n",
       "      <td>18.000000</td>\n",
       "      <td>1.711460</td>\n",
       "      <td>50.165754</td>\n",
       "      <td>1</td>\n",
       "      <td>1</td>\n",
       "      <td>1.880534</td>\n",
       "      <td>1.411685</td>\n",
       "      <td>1</td>\n",
       "      <td>0</td>\n",
       "      <td>1.910378</td>\n",
       "      <td>0</td>\n",
       "      <td>0.866045</td>\n",
       "      <td>1.673584</td>\n",
       "      <td>0</td>\n",
       "      <td>Public_Transportation</td>\n",
       "      <td>Insufficient_Weight</td>\n",
       "      <td>1</td>\n",
       "    </tr>\n",
       "    <tr>\n",
       "      <th>3</th>\n",
       "      <td>3</td>\n",
       "      <td>20.952737</td>\n",
       "      <td>1.710730</td>\n",
       "      <td>131.274851</td>\n",
       "      <td>1</td>\n",
       "      <td>1</td>\n",
       "      <td>3.000000</td>\n",
       "      <td>3.000000</td>\n",
       "      <td>1</td>\n",
       "      <td>0</td>\n",
       "      <td>1.674061</td>\n",
       "      <td>0</td>\n",
       "      <td>1.467863</td>\n",
       "      <td>0.780199</td>\n",
       "      <td>1</td>\n",
       "      <td>Public_Transportation</td>\n",
       "      <td>Obesity_Type_III</td>\n",
       "      <td>1</td>\n",
       "    </tr>\n",
       "    <tr>\n",
       "      <th>4</th>\n",
       "      <td>4</td>\n",
       "      <td>31.641081</td>\n",
       "      <td>1.914186</td>\n",
       "      <td>93.798055</td>\n",
       "      <td>1</td>\n",
       "      <td>1</td>\n",
       "      <td>2.679664</td>\n",
       "      <td>1.971472</td>\n",
       "      <td>1</td>\n",
       "      <td>0</td>\n",
       "      <td>1.979848</td>\n",
       "      <td>0</td>\n",
       "      <td>1.967973</td>\n",
       "      <td>0.931721</td>\n",
       "      <td>1</td>\n",
       "      <td>Public_Transportation</td>\n",
       "      <td>Overweight_Level_II</td>\n",
       "      <td>0</td>\n",
       "    </tr>\n",
       "  </tbody>\n",
       "</table>\n",
       "</div>"
      ],
      "text/plain": [
       "   id        Age    Height      Weight  family_history_with_overweight  FAVC  \\\n",
       "0   0  24.443011  1.699998   81.669950                               1     1   \n",
       "1   1  18.000000  1.560000   57.000000                               1     1   \n",
       "2   2  18.000000  1.711460   50.165754                               1     1   \n",
       "3   3  20.952737  1.710730  131.274851                               1     1   \n",
       "4   4  31.641081  1.914186   93.798055                               1     1   \n",
       "\n",
       "       FCVC       NCP  CAEC  SMOKE      CH2O  SCC       FAF       TUE  CALC  \\\n",
       "0  2.000000  2.983297     1      0  2.763573    0  0.000000  0.976473     1   \n",
       "1  2.000000  3.000000     2      0  2.000000    0  1.000000  1.000000     0   \n",
       "2  1.880534  1.411685     1      0  1.910378    0  0.866045  1.673584     0   \n",
       "3  3.000000  3.000000     1      0  1.674061    0  1.467863  0.780199     1   \n",
       "4  2.679664  1.971472     1      0  1.979848    0  1.967973  0.931721     1   \n",
       "\n",
       "                  MTRANS           NObeyesdad  Is_Female  \n",
       "0  Public_Transportation  Overweight_Level_II          0  \n",
       "1             Automobile        Normal_Weight          1  \n",
       "2  Public_Transportation  Insufficient_Weight          1  \n",
       "3  Public_Transportation     Obesity_Type_III          1  \n",
       "4  Public_Transportation  Overweight_Level_II          0  "
      ]
     },
     "execution_count": 16,
     "metadata": {},
     "output_type": "execute_result"
    }
   ],
   "source": [
    "df_train = pd.get_dummies(df_train, columns=['Gender'], prefix='Is', dtype='int64')\n",
    "df_train.drop(columns=['Is_Male'], inplace=True)\n",
    "df_train.head()"
   ]
  },
  {
   "cell_type": "markdown",
   "id": "02c12212",
   "metadata": {
    "execution": {
     "iopub.execute_input": "2024-02-02T16:40:00.121026Z",
     "iopub.status.busy": "2024-02-02T16:40:00.1205Z",
     "iopub.status.idle": "2024-02-02T16:40:00.136237Z",
     "shell.execute_reply": "2024-02-02T16:40:00.13504Z",
     "shell.execute_reply.started": "2024-02-02T16:40:00.12099Z"
    },
    "papermill": {
     "duration": 0.031729,
     "end_time": "2024-02-06T12:52:13.954938",
     "exception": false,
     "start_time": "2024-02-06T12:52:13.923209",
     "status": "completed"
    },
    "tags": []
   },
   "source": [
    "<div class=\"mid\">\n",
    "The MTRANS (Transportation used daily) is the tricky one out of categorical features. It might look like ordinal feature but how can we say what should have a higher rank: when a person rides a car, a motorbike or takes public transport? Since this competition emphasizes health, and we know regular movement significantly boosts it, we need a way to capture the movement associated with each transport choice. <BR><BR>\n",
    "    Therefore, I will group given values to three groups based on the estimated level of physical activity involved:<BR><BR>\n",
    "\n",
    "&bull; High Movement (2): This category encompasses bike and walking, as these modes directly contribute to daily activity through sustained physical effort.<BR>\n",
    "&bull; Medium Movement (1): This category includes public transport (bus, train, etc.). I was hesitant about making it a middle category but while not as physically demanding, it almost always involves some movement like walking to stations and I think we can all agree that it involves more movement than getting to your car.<BR>\n",
    "&bull; Low Movement (0): This category groups car and motorbike. These options generally require minimal physical exertion, contributing the least to daily movement.\n",
    "</div>"
   ]
  },
  {
   "cell_type": "code",
   "execution_count": 17,
   "id": "12bc798f",
   "metadata": {
    "execution": {
     "iopub.execute_input": "2024-02-06T12:52:14.020787Z",
     "iopub.status.busy": "2024-02-06T12:52:14.020426Z",
     "iopub.status.idle": "2024-02-06T12:52:14.048190Z",
     "shell.execute_reply": "2024-02-06T12:52:14.047088Z"
    },
    "papermill": {
     "duration": 0.064337,
     "end_time": "2024-02-06T12:52:14.051159",
     "exception": false,
     "start_time": "2024-02-06T12:52:13.986822",
     "status": "completed"
    },
    "tags": []
   },
   "outputs": [
    {
     "name": "stdout",
     "output_type": "stream",
     "text": [
      "MTRANS\n",
      "1    16687\n",
      "0     3572\n",
      "2      499\n",
      "Name: count, dtype: int64\n"
     ]
    },
    {
     "data": {
      "text/html": [
       "<div>\n",
       "<style scoped>\n",
       "    .dataframe tbody tr th:only-of-type {\n",
       "        vertical-align: middle;\n",
       "    }\n",
       "\n",
       "    .dataframe tbody tr th {\n",
       "        vertical-align: top;\n",
       "    }\n",
       "\n",
       "    .dataframe thead th {\n",
       "        text-align: right;\n",
       "    }\n",
       "</style>\n",
       "<table border=\"1\" class=\"dataframe\">\n",
       "  <thead>\n",
       "    <tr style=\"text-align: right;\">\n",
       "      <th></th>\n",
       "      <th>id</th>\n",
       "      <th>Age</th>\n",
       "      <th>Height</th>\n",
       "      <th>Weight</th>\n",
       "      <th>family_history_with_overweight</th>\n",
       "      <th>FAVC</th>\n",
       "      <th>FCVC</th>\n",
       "      <th>NCP</th>\n",
       "      <th>CAEC</th>\n",
       "      <th>SMOKE</th>\n",
       "      <th>CH2O</th>\n",
       "      <th>SCC</th>\n",
       "      <th>FAF</th>\n",
       "      <th>TUE</th>\n",
       "      <th>CALC</th>\n",
       "      <th>MTRANS</th>\n",
       "      <th>NObeyesdad</th>\n",
       "      <th>Is_Female</th>\n",
       "    </tr>\n",
       "  </thead>\n",
       "  <tbody>\n",
       "    <tr>\n",
       "      <th>0</th>\n",
       "      <td>0</td>\n",
       "      <td>24.443011</td>\n",
       "      <td>1.699998</td>\n",
       "      <td>81.669950</td>\n",
       "      <td>1</td>\n",
       "      <td>1</td>\n",
       "      <td>2.000000</td>\n",
       "      <td>2.983297</td>\n",
       "      <td>1</td>\n",
       "      <td>0</td>\n",
       "      <td>2.763573</td>\n",
       "      <td>0</td>\n",
       "      <td>0.000000</td>\n",
       "      <td>0.976473</td>\n",
       "      <td>1</td>\n",
       "      <td>1</td>\n",
       "      <td>Overweight_Level_II</td>\n",
       "      <td>0</td>\n",
       "    </tr>\n",
       "    <tr>\n",
       "      <th>1</th>\n",
       "      <td>1</td>\n",
       "      <td>18.000000</td>\n",
       "      <td>1.560000</td>\n",
       "      <td>57.000000</td>\n",
       "      <td>1</td>\n",
       "      <td>1</td>\n",
       "      <td>2.000000</td>\n",
       "      <td>3.000000</td>\n",
       "      <td>2</td>\n",
       "      <td>0</td>\n",
       "      <td>2.000000</td>\n",
       "      <td>0</td>\n",
       "      <td>1.000000</td>\n",
       "      <td>1.000000</td>\n",
       "      <td>0</td>\n",
       "      <td>0</td>\n",
       "      <td>Normal_Weight</td>\n",
       "      <td>1</td>\n",
       "    </tr>\n",
       "    <tr>\n",
       "      <th>2</th>\n",
       "      <td>2</td>\n",
       "      <td>18.000000</td>\n",
       "      <td>1.711460</td>\n",
       "      <td>50.165754</td>\n",
       "      <td>1</td>\n",
       "      <td>1</td>\n",
       "      <td>1.880534</td>\n",
       "      <td>1.411685</td>\n",
       "      <td>1</td>\n",
       "      <td>0</td>\n",
       "      <td>1.910378</td>\n",
       "      <td>0</td>\n",
       "      <td>0.866045</td>\n",
       "      <td>1.673584</td>\n",
       "      <td>0</td>\n",
       "      <td>1</td>\n",
       "      <td>Insufficient_Weight</td>\n",
       "      <td>1</td>\n",
       "    </tr>\n",
       "    <tr>\n",
       "      <th>3</th>\n",
       "      <td>3</td>\n",
       "      <td>20.952737</td>\n",
       "      <td>1.710730</td>\n",
       "      <td>131.274851</td>\n",
       "      <td>1</td>\n",
       "      <td>1</td>\n",
       "      <td>3.000000</td>\n",
       "      <td>3.000000</td>\n",
       "      <td>1</td>\n",
       "      <td>0</td>\n",
       "      <td>1.674061</td>\n",
       "      <td>0</td>\n",
       "      <td>1.467863</td>\n",
       "      <td>0.780199</td>\n",
       "      <td>1</td>\n",
       "      <td>1</td>\n",
       "      <td>Obesity_Type_III</td>\n",
       "      <td>1</td>\n",
       "    </tr>\n",
       "    <tr>\n",
       "      <th>4</th>\n",
       "      <td>4</td>\n",
       "      <td>31.641081</td>\n",
       "      <td>1.914186</td>\n",
       "      <td>93.798055</td>\n",
       "      <td>1</td>\n",
       "      <td>1</td>\n",
       "      <td>2.679664</td>\n",
       "      <td>1.971472</td>\n",
       "      <td>1</td>\n",
       "      <td>0</td>\n",
       "      <td>1.979848</td>\n",
       "      <td>0</td>\n",
       "      <td>1.967973</td>\n",
       "      <td>0.931721</td>\n",
       "      <td>1</td>\n",
       "      <td>1</td>\n",
       "      <td>Overweight_Level_II</td>\n",
       "      <td>0</td>\n",
       "    </tr>\n",
       "  </tbody>\n",
       "</table>\n",
       "</div>"
      ],
      "text/plain": [
       "   id        Age    Height      Weight  family_history_with_overweight  FAVC  \\\n",
       "0   0  24.443011  1.699998   81.669950                               1     1   \n",
       "1   1  18.000000  1.560000   57.000000                               1     1   \n",
       "2   2  18.000000  1.711460   50.165754                               1     1   \n",
       "3   3  20.952737  1.710730  131.274851                               1     1   \n",
       "4   4  31.641081  1.914186   93.798055                               1     1   \n",
       "\n",
       "       FCVC       NCP  CAEC  SMOKE      CH2O  SCC       FAF       TUE  CALC  \\\n",
       "0  2.000000  2.983297     1      0  2.763573    0  0.000000  0.976473     1   \n",
       "1  2.000000  3.000000     2      0  2.000000    0  1.000000  1.000000     0   \n",
       "2  1.880534  1.411685     1      0  1.910378    0  0.866045  1.673584     0   \n",
       "3  3.000000  3.000000     1      0  1.674061    0  1.467863  0.780199     1   \n",
       "4  2.679664  1.971472     1      0  1.979848    0  1.967973  0.931721     1   \n",
       "\n",
       "   MTRANS           NObeyesdad  Is_Female  \n",
       "0       1  Overweight_Level_II          0  \n",
       "1       0        Normal_Weight          1  \n",
       "2       1  Insufficient_Weight          1  \n",
       "3       1     Obesity_Type_III          1  \n",
       "4       1  Overweight_Level_II          0  "
      ]
     },
     "execution_count": 17,
     "metadata": {},
     "output_type": "execute_result"
    }
   ],
   "source": [
    "transport_mapping = {\n",
    "    'Bike': 2,\n",
    "    'Walking': 2,\n",
    "    'Public_Transportation': 1,\n",
    "    'Automobile': 0,\n",
    "    'Motorbike': 0,\n",
    "}\n",
    "\n",
    "df_train['MTRANS'] = df_train['MTRANS'].map(transport_mapping)\n",
    "\n",
    "# Check the results\n",
    "print(df_train['MTRANS'].value_counts())\n",
    "df_train.head()\n"
   ]
  },
  {
   "cell_type": "markdown",
   "id": "49966736",
   "metadata": {
    "execution": {
     "iopub.execute_input": "2024-02-02T17:09:25.952689Z",
     "iopub.status.busy": "2024-02-02T17:09:25.951957Z",
     "iopub.status.idle": "2024-02-02T17:09:25.95971Z",
     "shell.execute_reply": "2024-02-02T17:09:25.958214Z",
     "shell.execute_reply.started": "2024-02-02T17:09:25.952626Z"
    },
    "papermill": {
     "duration": 0.035128,
     "end_time": "2024-02-06T12:52:14.122547",
     "exception": false,
     "start_time": "2024-02-06T12:52:14.087419",
     "status": "completed"
    },
    "tags": []
   },
   "source": [
    "<div class=\"mid\">\n",
    "Last but not least, the target values will be handled using Label Encoding.\n",
    "</div>"
   ]
  },
  {
   "cell_type": "code",
   "execution_count": 18,
   "id": "8c8bbed5",
   "metadata": {
    "execution": {
     "iopub.execute_input": "2024-02-06T12:52:14.194120Z",
     "iopub.status.busy": "2024-02-06T12:52:14.193739Z",
     "iopub.status.idle": "2024-02-06T12:52:14.203639Z",
     "shell.execute_reply": "2024-02-06T12:52:14.202778Z"
    },
    "papermill": {
     "duration": 0.048199,
     "end_time": "2024-02-06T12:52:14.206008",
     "exception": false,
     "start_time": "2024-02-06T12:52:14.157809",
     "status": "completed"
    },
    "tags": []
   },
   "outputs": [],
   "source": [
    "target_mapping = {\n",
    "    'Insufficient_Weight': 0,\n",
    "    'Normal_Weight': 1,\n",
    "    'Overweight_Level_I': 2,\n",
    "    'Overweight_Level_II': 3,\n",
    "    'Obesity_Type_I': 4,\n",
    "    'Obesity_Type_II': 5,\n",
    "    'Obesity_Type_III': 6\n",
    "}\n",
    "\n",
    "le = LabelEncoder()\n",
    "df_train['NObeyesdad'] = le.fit_transform(df_train['NObeyesdad'].map(target_mapping))"
   ]
  },
  {
   "cell_type": "markdown",
   "id": "cad1548b",
   "metadata": {
    "papermill": {
     "duration": 0.03233,
     "end_time": "2024-02-06T12:52:14.274758",
     "exception": false,
     "start_time": "2024-02-06T12:52:14.242428",
     "status": "completed"
    },
    "tags": []
   },
   "source": [
    "<div class=\"header2\"><span style=\"\"><b>2.4 | Age and NCP odd values</b></span></div>\n",
    "\n"
   ]
  },
  {
   "cell_type": "markdown",
   "id": "9cf3e24a",
   "metadata": {
    "papermill": {
     "duration": 0.032619,
     "end_time": "2024-02-06T12:52:14.340079",
     "exception": false,
     "start_time": "2024-02-06T12:52:14.307460",
     "status": "completed"
    },
    "tags": []
   },
   "source": [
    "\n",
    "<div class=\"mid\">\n",
    "In this paragraph I will further explore the oddity of decimal numbers in values of Age and NCP (Number of meals per day).\n",
    "I will start by rounding off values of Age and checking how the distribution will look then.\n",
    "</div>"
   ]
  },
  {
   "cell_type": "code",
   "execution_count": 19,
   "id": "e30f4ad6",
   "metadata": {
    "execution": {
     "iopub.execute_input": "2024-02-06T12:52:14.409516Z",
     "iopub.status.busy": "2024-02-06T12:52:14.408605Z",
     "iopub.status.idle": "2024-02-06T12:52:14.414512Z",
     "shell.execute_reply": "2024-02-06T12:52:14.413604Z"
    },
    "papermill": {
     "duration": 0.043183,
     "end_time": "2024-02-06T12:52:14.416613",
     "exception": false,
     "start_time": "2024-02-06T12:52:14.373430",
     "status": "completed"
    },
    "tags": []
   },
   "outputs": [],
   "source": [
    "df_train['Age_rounded'] = df_train['Age'].round()"
   ]
  },
  {
   "cell_type": "code",
   "execution_count": 20,
   "id": "3ba11082",
   "metadata": {
    "execution": {
     "iopub.execute_input": "2024-02-06T12:52:14.484385Z",
     "iopub.status.busy": "2024-02-06T12:52:14.484027Z",
     "iopub.status.idle": "2024-02-06T12:52:15.267501Z",
     "shell.execute_reply": "2024-02-06T12:52:15.266548Z"
    },
    "papermill": {
     "duration": 0.820384,
     "end_time": "2024-02-06T12:52:15.270091",
     "exception": false,
     "start_time": "2024-02-06T12:52:14.449707",
     "status": "completed"
    },
    "tags": []
   },
   "outputs": [
    {
     "data": {
      "image/png": "[encoded data removed]",
      "text/plain": [
       "<Figure size 1200x400 with 4 Axes>"
      ]
     },
     "metadata": {},
     "output_type": "display_data"
    }
   ],
   "source": [
    "# Comparison plots of Age rounded and original\n",
    "plt.figure(figsize=(12, 4))\n",
    "\n",
    "# First row, first column: Boxplot for rounded age\n",
    "plt.subplot(2, 2, 1)\n",
    "plt.boxplot(df_train['Age_rounded'], vert=False)\n",
    "plt.title('Boxplot of Age (rounded)')\n",
    "\n",
    "# First row, second column: Boxplot for original age\n",
    "plt.subplot(2, 2, 2)\n",
    "plt.boxplot(df_train['Age'], vert=False)\n",
    "plt.title('Boxplot of Age (original)')\n",
    "\n",
    "# Second row, first column: Histogram for rounded age\n",
    "plt.subplot(2, 2, 3)\n",
    "plt.hist(df_train['Age_rounded'], bins=20)\n",
    "plt.xlabel('Age (Rounded)')\n",
    "plt.ylabel('Frequency')\n",
    "plt.title('Histogram of Age (rounded)')\n",
    "\n",
    "# Second row, second column: Histogram for original age\n",
    "plt.subplot(2, 2, 4)\n",
    "plt.hist(df_train['Age'], bins=20)\n",
    "plt.xlabel('Age (Original)')\n",
    "plt.ylabel('Frequency')\n",
    "plt.title('Histogram of Age (original)')\n",
    "\n",
    "# Adjust spacing between subplots\n",
    "plt.tight_layout()\n",
    "\n",
    "plt.show()"
   ]
  },
  {
   "cell_type": "code",
   "execution_count": 21,
   "id": "3e483b48",
   "metadata": {
    "execution": {
     "iopub.execute_input": "2024-02-06T12:52:15.342358Z",
     "iopub.status.busy": "2024-02-06T12:52:15.341947Z",
     "iopub.status.idle": "2024-02-06T12:52:16.116988Z",
     "shell.execute_reply": "2024-02-06T12:52:16.115971Z"
    },
    "papermill": {
     "duration": 0.813428,
     "end_time": "2024-02-06T12:52:16.119348",
     "exception": false,
     "start_time": "2024-02-06T12:52:15.305920",
     "status": "completed"
    },
    "tags": []
   },
   "outputs": [
    {
     "data": {
      "image/png": "[encoded data removed]",
      "text/plain": [
       "<Figure size 1200x400 with 4 Axes>"
      ]
     },
     "metadata": {},
     "output_type": "display_data"
    }
   ],
   "source": [
    "df_train['NCP_rounded'] = df_train['NCP'].round()\n",
    "\n",
    "# Comparison plots of Age rounded and original\n",
    "plt.figure(figsize=(12, 4))\n",
    "\n",
    "# First row, first column: Boxplot for rounded age\n",
    "plt.subplot(2, 2, 1)\n",
    "plt.boxplot(df_train['NCP_rounded'], vert=False)\n",
    "plt.title('Boxplot of NCP (rounded)')\n",
    "\n",
    "# First row, second column: Boxplot for original age\n",
    "plt.subplot(2, 2, 2)\n",
    "plt.boxplot(df_train['NCP'], vert=False)\n",
    "plt.title('Boxplot of NCP (original)')\n",
    "\n",
    "# Second row, first column: Histogram for rounded age\n",
    "plt.subplot(2, 2, 3)\n",
    "plt.hist(df_train['NCP_rounded'], bins=20)\n",
    "plt.xlabel('NCP (Rounded)')\n",
    "plt.ylabel('Frequency')\n",
    "plt.title('Histogram of NCP (rounded)')\n",
    "\n",
    "# Second row, second column: Histogram for original age\n",
    "plt.subplot(2, 2, 4)\n",
    "plt.hist(df_train['NCP'], bins=20)\n",
    "plt.xlabel('NCP (Original)')\n",
    "plt.ylabel('Frequency')\n",
    "plt.title('Histogram of NCP (original)')\n",
    "\n",
    "# Adjust spacing between subplots\n",
    "plt.tight_layout()\n",
    "\n",
    "plt.show()"
   ]
  },
  {
   "cell_type": "markdown",
   "id": "e5f8f41d",
   "metadata": {
    "papermill": {
     "duration": 0.036626,
     "end_time": "2024-02-06T12:52:16.193437",
     "exception": false,
     "start_time": "2024-02-06T12:52:16.156811",
     "status": "completed"
    },
    "tags": []
   },
   "source": [
    "<div class=\"footer\">\n",
    "In summary, I don't think there is a need to leave the rounded values for Age and NCP. The distributions are almost the same, the boxplots are just more readable. Discarding the original decimal points can potentially remove valuable information. The analysis was needed but I will now remove the newly created columns.</div>"
   ]
  },
  {
   "cell_type": "code",
   "execution_count": 22,
   "id": "40d040e8",
   "metadata": {
    "execution": {
     "iopub.execute_input": "2024-02-06T12:52:16.264534Z",
     "iopub.status.busy": "2024-02-06T12:52:16.264135Z",
     "iopub.status.idle": "2024-02-06T12:52:16.271032Z",
     "shell.execute_reply": "2024-02-06T12:52:16.270046Z"
    },
    "papermill": {
     "duration": 0.045969,
     "end_time": "2024-02-06T12:52:16.273155",
     "exception": false,
     "start_time": "2024-02-06T12:52:16.227186",
     "status": "completed"
    },
    "tags": []
   },
   "outputs": [],
   "source": [
    "df_train.drop(columns=['NCP_rounded', 'Age_rounded'], inplace=True)"
   ]
  },
  {
   "cell_type": "markdown",
   "id": "71006077",
   "metadata": {
    "papermill": {
     "duration": 0.034664,
     "end_time": "2024-02-06T12:52:16.343083",
     "exception": false,
     "start_time": "2024-02-06T12:52:16.308419",
     "status": "completed"
    },
    "tags": []
   },
   "source": [
    "# <b><span style='color: #96c93b'>3 |</span> Feature Engineering</b>"
   ]
  },
  {
   "cell_type": "markdown",
   "id": "0e1ea4d5",
   "metadata": {
    "papermill": {
     "duration": 0.035652,
     "end_time": "2024-02-06T12:52:16.415021",
     "exception": false,
     "start_time": "2024-02-06T12:52:16.379369",
     "status": "completed"
    },
    "tags": []
   },
   "source": [
    "<div class=\"header2\"><span style=\"\"><b>3.1 | BMI</b></span></div>"
   ]
  },
  {
   "cell_type": "code",
   "execution_count": 23,
   "id": "4b0a046d",
   "metadata": {
    "execution": {
     "iopub.execute_input": "2024-02-06T12:52:16.485903Z",
     "iopub.status.busy": "2024-02-06T12:52:16.485524Z",
     "iopub.status.idle": "2024-02-06T12:52:16.498861Z",
     "shell.execute_reply": "2024-02-06T12:52:16.497928Z"
    },
    "papermill": {
     "duration": 0.05123,
     "end_time": "2024-02-06T12:52:16.501035",
     "exception": false,
     "start_time": "2024-02-06T12:52:16.449805",
     "status": "completed"
    },
    "tags": []
   },
   "outputs": [
    {
     "data": {
      "text/html": [
       "<div>\n",
       "<style scoped>\n",
       "    .dataframe tbody tr th:only-of-type {\n",
       "        vertical-align: middle;\n",
       "    }\n",
       "\n",
       "    .dataframe tbody tr th {\n",
       "        vertical-align: top;\n",
       "    }\n",
       "\n",
       "    .dataframe thead th {\n",
       "        text-align: right;\n",
       "    }\n",
       "</style>\n",
       "<table border=\"1\" class=\"dataframe\">\n",
       "  <thead>\n",
       "    <tr style=\"text-align: right;\">\n",
       "      <th></th>\n",
       "      <th>Weight</th>\n",
       "      <th>Height</th>\n",
       "      <th>BMI</th>\n",
       "    </tr>\n",
       "  </thead>\n",
       "  <tbody>\n",
       "    <tr>\n",
       "      <th>0</th>\n",
       "      <td>81.669950</td>\n",
       "      <td>1.699998</td>\n",
       "      <td>28.259565</td>\n",
       "    </tr>\n",
       "    <tr>\n",
       "      <th>1</th>\n",
       "      <td>57.000000</td>\n",
       "      <td>1.560000</td>\n",
       "      <td>23.422091</td>\n",
       "    </tr>\n",
       "    <tr>\n",
       "      <th>2</th>\n",
       "      <td>50.165754</td>\n",
       "      <td>1.711460</td>\n",
       "      <td>17.126706</td>\n",
       "    </tr>\n",
       "    <tr>\n",
       "      <th>3</th>\n",
       "      <td>131.274851</td>\n",
       "      <td>1.710730</td>\n",
       "      <td>44.855798</td>\n",
       "    </tr>\n",
       "    <tr>\n",
       "      <th>4</th>\n",
       "      <td>93.798055</td>\n",
       "      <td>1.914186</td>\n",
       "      <td>25.599151</td>\n",
       "    </tr>\n",
       "  </tbody>\n",
       "</table>\n",
       "</div>"
      ],
      "text/plain": [
       "       Weight    Height        BMI\n",
       "0   81.669950  1.699998  28.259565\n",
       "1   57.000000  1.560000  23.422091\n",
       "2   50.165754  1.711460  17.126706\n",
       "3  131.274851  1.710730  44.855798\n",
       "4   93.798055  1.914186  25.599151"
      ]
     },
     "execution_count": 23,
     "metadata": {},
     "output_type": "execute_result"
    }
   ],
   "source": [
    "df_train['BMI'] = df_train['Weight'] / df_train['Height']**2\n",
    "\n",
    "df_train[['Weight', 'Height', 'BMI']].head()"
   ]
  },
  {
   "cell_type": "markdown",
   "id": "f9d1e17a",
   "metadata": {
    "papermill": {
     "duration": 0.034679,
     "end_time": "2024-02-06T12:52:16.573533",
     "exception": false,
     "start_time": "2024-02-06T12:52:16.538854",
     "status": "completed"
    },
    "tags": []
   },
   "source": [
    "<div class=\"header2\"><span style=\"\"><b>3.2 | Dietary diversity</b></span></div>"
   ]
  },
  {
   "cell_type": "code",
   "execution_count": 24,
   "id": "e8f06770",
   "metadata": {
    "execution": {
     "iopub.execute_input": "2024-02-06T12:52:16.648008Z",
     "iopub.status.busy": "2024-02-06T12:52:16.647604Z",
     "iopub.status.idle": "2024-02-06T12:52:16.653841Z",
     "shell.execute_reply": "2024-02-06T12:52:16.653109Z"
    },
    "papermill": {
     "duration": 0.045214,
     "end_time": "2024-02-06T12:52:16.655941",
     "exception": false,
     "start_time": "2024-02-06T12:52:16.610727",
     "status": "completed"
    },
    "tags": []
   },
   "outputs": [],
   "source": [
    "df_train['Dietary_diversity'] = df_train['FAVC'] + 2 * df_train['FCVC']"
   ]
  },
  {
   "cell_type": "markdown",
   "id": "aadfaf8d",
   "metadata": {
    "papermill": {
     "duration": 0.034023,
     "end_time": "2024-02-06T12:52:16.724559",
     "exception": false,
     "start_time": "2024-02-06T12:52:16.690536",
     "status": "completed"
    },
    "tags": []
   },
   "source": [
    "<div class=\"mid\">Here, I am calculating Dietary_diversity as sum of FAVC and FCVC but giving FCVC a weight of 2 to emphasize the role of vegetables in balanced diet.</div>"
   ]
  },
  {
   "cell_type": "code",
   "execution_count": 25,
   "id": "8577d42a",
   "metadata": {
    "execution": {
     "iopub.execute_input": "2024-02-06T12:52:16.793326Z",
     "iopub.status.busy": "2024-02-06T12:52:16.792617Z",
     "iopub.status.idle": "2024-02-06T12:52:17.026240Z",
     "shell.execute_reply": "2024-02-06T12:52:17.025332Z"
    },
    "papermill": {
     "duration": 0.270202,
     "end_time": "2024-02-06T12:52:17.028382",
     "exception": false,
     "start_time": "2024-02-06T12:52:16.758180",
     "status": "completed"
    },
    "tags": []
   },
   "outputs": [
    {
     "data": {
      "image/png": "[encoded data removed]",
      "text/plain": [
       "<Figure size 640x480 with 1 Axes>"
      ]
     },
     "metadata": {},
     "output_type": "display_data"
    }
   ],
   "source": [
    "plt.hist(df_train['Dietary_diversity'], bins=20);"
   ]
  },
  {
   "cell_type": "markdown",
   "id": "545d3e04",
   "metadata": {
    "papermill": {
     "duration": 0.036445,
     "end_time": "2024-02-06T12:52:17.102045",
     "exception": false,
     "start_time": "2024-02-06T12:52:17.065600",
     "status": "completed"
    },
    "tags": []
   },
   "source": [
    "<div class=\"header2\"><span style=\"\"><b>3.3 | Total number of meals</b></span></div>"
   ]
  },
  {
   "cell_type": "code",
   "execution_count": 26,
   "id": "fbc6d839",
   "metadata": {
    "execution": {
     "iopub.execute_input": "2024-02-06T12:52:17.177719Z",
     "iopub.status.busy": "2024-02-06T12:52:17.177091Z",
     "iopub.status.idle": "2024-02-06T12:52:17.182627Z",
     "shell.execute_reply": "2024-02-06T12:52:17.181698Z"
    },
    "papermill": {
     "duration": 0.044706,
     "end_time": "2024-02-06T12:52:17.184654",
     "exception": false,
     "start_time": "2024-02-06T12:52:17.139948",
     "status": "completed"
    },
    "tags": []
   },
   "outputs": [],
   "source": [
    "df_train['total_meals'] = df_train['NCP'] + df_train['CAEC']"
   ]
  },
  {
   "cell_type": "code",
   "execution_count": 27,
   "id": "b8955320",
   "metadata": {
    "execution": {
     "iopub.execute_input": "2024-02-06T12:52:17.258108Z",
     "iopub.status.busy": "2024-02-06T12:52:17.257287Z",
     "iopub.status.idle": "2024-02-06T12:52:17.483320Z",
     "shell.execute_reply": "2024-02-06T12:52:17.482325Z"
    },
    "papermill": {
     "duration": 0.264463,
     "end_time": "2024-02-06T12:52:17.485739",
     "exception": false,
     "start_time": "2024-02-06T12:52:17.221276",
     "status": "completed"
    },
    "tags": []
   },
   "outputs": [
    {
     "data": {
      "image/png": "[encoded data removed]",
      "text/plain": [
       "<Figure size 640x480 with 1 Axes>"
      ]
     },
     "metadata": {},
     "output_type": "display_data"
    }
   ],
   "source": [
    "plt.hist(df_train['total_meals'], bins=20);"
   ]
  },
  {
   "cell_type": "markdown",
   "id": "0b2cf869",
   "metadata": {
    "papermill": {
     "duration": 0.03387,
     "end_time": "2024-02-06T12:52:17.555278",
     "exception": false,
     "start_time": "2024-02-06T12:52:17.521408",
     "status": "completed"
    },
    "tags": []
   },
   "source": [
    "<div class=\"header2\"><span style=\"\"><b>3.4 | Physical Activity Index</b></span></div>"
   ]
  },
  {
   "cell_type": "markdown",
   "id": "cd8ede3d",
   "metadata": {
    "papermill": {
     "duration": 0.03429,
     "end_time": "2024-02-06T12:52:17.624215",
     "exception": false,
     "start_time": "2024-02-06T12:52:17.589925",
     "status": "completed"
    },
    "tags": []
   },
   "source": [
    "<div class=\"mid\">For this feature, I will use FAF (Frequency of physical activity, varies from 0 to 3) and the value of MTRANS. I multiply FAF value by 2.</div>"
   ]
  },
  {
   "cell_type": "code",
   "execution_count": 28,
   "id": "c10745ac",
   "metadata": {
    "execution": {
     "iopub.execute_input": "2024-02-06T12:52:17.695097Z",
     "iopub.status.busy": "2024-02-06T12:52:17.694747Z",
     "iopub.status.idle": "2024-02-06T12:52:17.924004Z",
     "shell.execute_reply": "2024-02-06T12:52:17.922949Z"
    },
    "papermill": {
     "duration": 0.268299,
     "end_time": "2024-02-06T12:52:17.926353",
     "exception": false,
     "start_time": "2024-02-06T12:52:17.658054",
     "status": "completed"
    },
    "tags": []
   },
   "outputs": [
    {
     "data": {
      "image/png": "[encoded data removed]",
      "text/plain": [
       "<Figure size 640x480 with 1 Axes>"
      ]
     },
     "metadata": {},
     "output_type": "display_data"
    }
   ],
   "source": [
    "df_train['PAI'] = df_train['FAF'] * 2 + df_train['MTRANS']\n",
    "\n",
    "plt.hist(df_train['PAI'], bins=20);"
   ]
  },
  {
   "cell_type": "markdown",
   "id": "1435ebd5",
   "metadata": {
    "papermill": {
     "duration": 0.034044,
     "end_time": "2024-02-06T12:52:17.997443",
     "exception": false,
     "start_time": "2024-02-06T12:52:17.963399",
     "status": "completed"
    },
    "tags": []
   },
   "source": [
    "<div class=\"header2\"><span style=\"\"><b>3.5 | BMR</b></span></div>"
   ]
  },
  {
   "cell_type": "markdown",
   "id": "4164eb6e",
   "metadata": {
    "papermill": {
     "duration": 0.036565,
     "end_time": "2024-02-06T12:52:18.069031",
     "exception": false,
     "start_time": "2024-02-06T12:52:18.032466",
     "status": "completed"
    },
    "tags": []
   },
   "source": [
    "<div class=\"mid\">BMR, Basal Metabolic Rate, is calculated using individuals age, gender, height and weight and activity level. I will use the revised Harris–Benedict equation which is calculated differently for women and men:\n",
    "<BR><BR>\n",
    "&bull; Male: (88.4 + 13.4 x weight in kilograms) + (4.8 x height in centimeters) – (5.68 x age)<BR>\n",
    "&bull; Female: (447.6 + 9.25 x weight in kilograms) + (3.10 x height in centimeters) – (4.33 x age)\n",
    "    \n",
    "<BR>The result is an estimated amount of energy in kcal required to maintain the body's basic metabolic activity (without additional activity, so sufficient only for the functioning of the vital organs).\n",
    "</div>"
   ]
  },
  {
   "cell_type": "code",
   "execution_count": 29,
   "id": "d79a631a",
   "metadata": {
    "execution": {
     "iopub.execute_input": "2024-02-06T12:52:18.144225Z",
     "iopub.status.busy": "2024-02-06T12:52:18.143593Z",
     "iopub.status.idle": "2024-02-06T12:52:18.729777Z",
     "shell.execute_reply": "2024-02-06T12:52:18.728315Z"
    },
    "papermill": {
     "duration": 0.626582,
     "end_time": "2024-02-06T12:52:18.731965",
     "exception": false,
     "start_time": "2024-02-06T12:52:18.105383",
     "status": "completed"
    },
    "tags": []
   },
   "outputs": [
    {
     "name": "stdout",
     "output_type": "stream",
     "text": [
      "       Weight    Height        Age  Is_Female          BMR\n",
      "0   81.669950  1.699998  24.443011          0  1859.940068\n",
      "1   57.000000  1.560000  18.000000          1  1380.510000\n",
      "2   50.165754  1.711460  18.000000          1  1364.245825\n",
      "3  131.274851  1.710730  20.952737          1  2101.493321\n",
      "4   93.798055  1.914186  31.641081          0  2084.381877\n"
     ]
    }
   ],
   "source": [
    "def calculate_bmr(weight, height, age, is_female):\n",
    "  \"\"\"\n",
    "  Calculates the BMR based on the revised Harris-Benedict equation.\n",
    "\n",
    "  Args:\n",
    "    weight: Weight in kilograms.\n",
    "    height: Height in centimeters.\n",
    "    age: Age in years.\n",
    "    is_female: 1 if female, 0 if male.\n",
    "\n",
    "  Returns:\n",
    "    The BMR value.\n",
    "  \"\"\"\n",
    "  if is_female:\n",
    "    return (447.6 + 9.25 * weight) + (3.10 * height * 100) - 4.33 * age\n",
    "  else:\n",
    "    return (88.4 + 13.4 * weight) + (4.8 * height * 100) - 5.68 * age\n",
    "\n",
    "df_train['BMR'] = df_train.apply(\n",
    "    lambda row: calculate_bmr(row['Weight'], row['Height'], row['Age'], row['Is_Female']), axis=1\n",
    ")\n",
    "\n",
    "# Check the results\n",
    "print(df_train[['Weight', 'Height', 'Age', 'Is_Female', 'BMR']].head())"
   ]
  },
  {
   "cell_type": "code",
   "execution_count": 30,
   "id": "2bea0b12",
   "metadata": {
    "execution": {
     "iopub.execute_input": "2024-02-06T12:52:18.805542Z",
     "iopub.status.busy": "2024-02-06T12:52:18.804740Z",
     "iopub.status.idle": "2024-02-06T12:52:18.828922Z",
     "shell.execute_reply": "2024-02-06T12:52:18.828069Z"
    },
    "papermill": {
     "duration": 0.062851,
     "end_time": "2024-02-06T12:52:18.830896",
     "exception": false,
     "start_time": "2024-02-06T12:52:18.768045",
     "status": "completed"
    },
    "tags": []
   },
   "outputs": [
    {
     "data": {
      "text/html": [
       "<div>\n",
       "<style scoped>\n",
       "    .dataframe tbody tr th:only-of-type {\n",
       "        vertical-align: middle;\n",
       "    }\n",
       "\n",
       "    .dataframe tbody tr th {\n",
       "        vertical-align: top;\n",
       "    }\n",
       "\n",
       "    .dataframe thead th {\n",
       "        text-align: right;\n",
       "    }\n",
       "</style>\n",
       "<table border=\"1\" class=\"dataframe\">\n",
       "  <thead>\n",
       "    <tr style=\"text-align: right;\">\n",
       "      <th></th>\n",
       "      <th>id</th>\n",
       "      <th>Age</th>\n",
       "      <th>Height</th>\n",
       "      <th>Weight</th>\n",
       "      <th>family_history_with_overweight</th>\n",
       "      <th>FAVC</th>\n",
       "      <th>FCVC</th>\n",
       "      <th>NCP</th>\n",
       "      <th>CAEC</th>\n",
       "      <th>SMOKE</th>\n",
       "      <th>...</th>\n",
       "      <th>TUE</th>\n",
       "      <th>CALC</th>\n",
       "      <th>MTRANS</th>\n",
       "      <th>NObeyesdad</th>\n",
       "      <th>Is_Female</th>\n",
       "      <th>BMI</th>\n",
       "      <th>Dietary_diversity</th>\n",
       "      <th>total_meals</th>\n",
       "      <th>PAI</th>\n",
       "      <th>BMR</th>\n",
       "    </tr>\n",
       "  </thead>\n",
       "  <tbody>\n",
       "    <tr>\n",
       "      <th>0</th>\n",
       "      <td>0</td>\n",
       "      <td>24.443011</td>\n",
       "      <td>1.699998</td>\n",
       "      <td>81.669950</td>\n",
       "      <td>1</td>\n",
       "      <td>1</td>\n",
       "      <td>2.000000</td>\n",
       "      <td>2.983297</td>\n",
       "      <td>1</td>\n",
       "      <td>0</td>\n",
       "      <td>...</td>\n",
       "      <td>0.976473</td>\n",
       "      <td>1</td>\n",
       "      <td>1</td>\n",
       "      <td>3</td>\n",
       "      <td>0</td>\n",
       "      <td>28.259565</td>\n",
       "      <td>5.000000</td>\n",
       "      <td>3.983297</td>\n",
       "      <td>1.000000</td>\n",
       "      <td>1859.940068</td>\n",
       "    </tr>\n",
       "    <tr>\n",
       "      <th>1</th>\n",
       "      <td>1</td>\n",
       "      <td>18.000000</td>\n",
       "      <td>1.560000</td>\n",
       "      <td>57.000000</td>\n",
       "      <td>1</td>\n",
       "      <td>1</td>\n",
       "      <td>2.000000</td>\n",
       "      <td>3.000000</td>\n",
       "      <td>2</td>\n",
       "      <td>0</td>\n",
       "      <td>...</td>\n",
       "      <td>1.000000</td>\n",
       "      <td>0</td>\n",
       "      <td>0</td>\n",
       "      <td>1</td>\n",
       "      <td>1</td>\n",
       "      <td>23.422091</td>\n",
       "      <td>5.000000</td>\n",
       "      <td>5.000000</td>\n",
       "      <td>2.000000</td>\n",
       "      <td>1380.510000</td>\n",
       "    </tr>\n",
       "    <tr>\n",
       "      <th>2</th>\n",
       "      <td>2</td>\n",
       "      <td>18.000000</td>\n",
       "      <td>1.711460</td>\n",
       "      <td>50.165754</td>\n",
       "      <td>1</td>\n",
       "      <td>1</td>\n",
       "      <td>1.880534</td>\n",
       "      <td>1.411685</td>\n",
       "      <td>1</td>\n",
       "      <td>0</td>\n",
       "      <td>...</td>\n",
       "      <td>1.673584</td>\n",
       "      <td>0</td>\n",
       "      <td>1</td>\n",
       "      <td>0</td>\n",
       "      <td>1</td>\n",
       "      <td>17.126706</td>\n",
       "      <td>4.761068</td>\n",
       "      <td>2.411685</td>\n",
       "      <td>2.732090</td>\n",
       "      <td>1364.245825</td>\n",
       "    </tr>\n",
       "    <tr>\n",
       "      <th>3</th>\n",
       "      <td>3</td>\n",
       "      <td>20.952737</td>\n",
       "      <td>1.710730</td>\n",
       "      <td>131.274851</td>\n",
       "      <td>1</td>\n",
       "      <td>1</td>\n",
       "      <td>3.000000</td>\n",
       "      <td>3.000000</td>\n",
       "      <td>1</td>\n",
       "      <td>0</td>\n",
       "      <td>...</td>\n",
       "      <td>0.780199</td>\n",
       "      <td>1</td>\n",
       "      <td>1</td>\n",
       "      <td>6</td>\n",
       "      <td>1</td>\n",
       "      <td>44.855798</td>\n",
       "      <td>7.000000</td>\n",
       "      <td>4.000000</td>\n",
       "      <td>3.935726</td>\n",
       "      <td>2101.493321</td>\n",
       "    </tr>\n",
       "    <tr>\n",
       "      <th>4</th>\n",
       "      <td>4</td>\n",
       "      <td>31.641081</td>\n",
       "      <td>1.914186</td>\n",
       "      <td>93.798055</td>\n",
       "      <td>1</td>\n",
       "      <td>1</td>\n",
       "      <td>2.679664</td>\n",
       "      <td>1.971472</td>\n",
       "      <td>1</td>\n",
       "      <td>0</td>\n",
       "      <td>...</td>\n",
       "      <td>0.931721</td>\n",
       "      <td>1</td>\n",
       "      <td>1</td>\n",
       "      <td>3</td>\n",
       "      <td>0</td>\n",
       "      <td>25.599151</td>\n",
       "      <td>6.359328</td>\n",
       "      <td>2.971472</td>\n",
       "      <td>4.935946</td>\n",
       "      <td>2084.381877</td>\n",
       "    </tr>\n",
       "  </tbody>\n",
       "</table>\n",
       "<p>5 rows × 23 columns</p>\n",
       "</div>"
      ],
      "text/plain": [
       "   id        Age    Height      Weight  family_history_with_overweight  FAVC  \\\n",
       "0   0  24.443011  1.699998   81.669950                               1     1   \n",
       "1   1  18.000000  1.560000   57.000000                               1     1   \n",
       "2   2  18.000000  1.711460   50.165754                               1     1   \n",
       "3   3  20.952737  1.710730  131.274851                               1     1   \n",
       "4   4  31.641081  1.914186   93.798055                               1     1   \n",
       "\n",
       "       FCVC       NCP  CAEC  SMOKE  ...       TUE  CALC  MTRANS  NObeyesdad  \\\n",
       "0  2.000000  2.983297     1      0  ...  0.976473     1       1           3   \n",
       "1  2.000000  3.000000     2      0  ...  1.000000     0       0           1   \n",
       "2  1.880534  1.411685     1      0  ...  1.673584     0       1           0   \n",
       "3  3.000000  3.000000     1      0  ...  0.780199     1       1           6   \n",
       "4  2.679664  1.971472     1      0  ...  0.931721     1       1           3   \n",
       "\n",
       "   Is_Female        BMI  Dietary_diversity  total_meals       PAI          BMR  \n",
       "0          0  28.259565           5.000000     3.983297  1.000000  1859.940068  \n",
       "1          1  23.422091           5.000000     5.000000  2.000000  1380.510000  \n",
       "2          1  17.126706           4.761068     2.411685  2.732090  1364.245825  \n",
       "3          1  44.855798           7.000000     4.000000  3.935726  2101.493321  \n",
       "4          0  25.599151           6.359328     2.971472  4.935946  2084.381877  \n",
       "\n",
       "[5 rows x 23 columns]"
      ]
     },
     "execution_count": 30,
     "metadata": {},
     "output_type": "execute_result"
    }
   ],
   "source": [
    "df_train.head()"
   ]
  },
  {
   "cell_type": "markdown",
   "id": "c38d1932",
   "metadata": {
    "papermill": {
     "duration": 0.035011,
     "end_time": "2024-02-06T12:52:18.901819",
     "exception": false,
     "start_time": "2024-02-06T12:52:18.866808",
     "status": "completed"
    },
    "tags": []
   },
   "source": [
    "<div class=\"footer\">At this point, I'm not sure if the additional features like Total Energy Expenditure or Physical Activity Level are needed. Let's see if the model finds these features sufficient."
   ]
  },
  {
   "cell_type": "markdown",
   "id": "ce6f04a7",
   "metadata": {
    "execution": {
     "iopub.execute_input": "2024-02-03T08:47:51.518332Z",
     "iopub.status.busy": "2024-02-03T08:47:51.517921Z",
     "iopub.status.idle": "2024-02-03T08:47:51.530204Z",
     "shell.execute_reply": "2024-02-03T08:47:51.528403Z",
     "shell.execute_reply.started": "2024-02-03T08:47:51.518301Z"
    },
    "papermill": {
     "duration": 0.038461,
     "end_time": "2024-02-06T12:52:18.977547",
     "exception": false,
     "start_time": "2024-02-06T12:52:18.939086",
     "status": "completed"
    },
    "tags": []
   },
   "source": [
    "# <b><span style='color: #96c93b'>4 |</span> Model Training</b>"
   ]
  },
  {
   "cell_type": "code",
   "execution_count": 31,
   "id": "bf8f05bd",
   "metadata": {
    "execution": {
     "iopub.execute_input": "2024-02-06T12:52:19.055987Z",
     "iopub.status.busy": "2024-02-06T12:52:19.055633Z",
     "iopub.status.idle": "2024-02-06T12:52:23.811752Z",
     "shell.execute_reply": "2024-02-06T12:52:23.810825Z"
    },
    "papermill": {
     "duration": 4.798373,
     "end_time": "2024-02-06T12:52:23.814218",
     "exception": false,
     "start_time": "2024-02-06T12:52:19.015845",
     "status": "completed"
    },
    "tags": []
   },
   "outputs": [],
   "source": [
    "import torch\n",
    "import torch.nn as nn\n",
    "from torch.utils.data import DataLoader, Dataset\n",
    "from torch.optim import RMSprop, Adam\n",
    "from sklearn.datasets import make_classification\n",
    "from sklearn.model_selection import train_test_split\n"
   ]
  },
  {
   "cell_type": "code",
   "execution_count": 32,
   "id": "acaa7c93",
   "metadata": {
    "execution": {
     "iopub.execute_input": "2024-02-06T12:52:23.891756Z",
     "iopub.status.busy": "2024-02-06T12:52:23.891254Z",
     "iopub.status.idle": "2024-02-06T12:52:23.900025Z",
     "shell.execute_reply": "2024-02-06T12:52:23.899033Z"
    },
    "papermill": {
     "duration": 0.050135,
     "end_time": "2024-02-06T12:52:23.902546",
     "exception": false,
     "start_time": "2024-02-06T12:52:23.852411",
     "status": "completed"
    },
    "tags": []
   },
   "outputs": [
    {
     "data": {
      "text/plain": [
       "7"
      ]
     },
     "execution_count": 32,
     "metadata": {},
     "output_type": "execute_result"
    }
   ],
   "source": [
    "N_CLASSES = df_train['NObeyesdad'].nunique()\n",
    "N_CLASSES"
   ]
  },
  {
   "cell_type": "code",
   "execution_count": 33,
   "id": "20aff971",
   "metadata": {
    "execution": {
     "iopub.execute_input": "2024-02-06T12:52:23.983991Z",
     "iopub.status.busy": "2024-02-06T12:52:23.983647Z",
     "iopub.status.idle": "2024-02-06T12:52:23.990704Z",
     "shell.execute_reply": "2024-02-06T12:52:23.989887Z"
    },
    "papermill": {
     "duration": 0.048981,
     "end_time": "2024-02-06T12:52:23.992920",
     "exception": false,
     "start_time": "2024-02-06T12:52:23.943939",
     "status": "completed"
    },
    "tags": []
   },
   "outputs": [],
   "source": [
    "# Set random seed\n",
    "torch.manual_seed(13)\n",
    "np.random.seed(13)"
   ]
  },
  {
   "cell_type": "code",
   "execution_count": 34,
   "id": "72d73af1",
   "metadata": {
    "execution": {
     "iopub.execute_input": "2024-02-06T12:52:24.070426Z",
     "iopub.status.busy": "2024-02-06T12:52:24.070072Z",
     "iopub.status.idle": "2024-02-06T12:52:24.079643Z",
     "shell.execute_reply": "2024-02-06T12:52:24.078839Z"
    },
    "papermill": {
     "duration": 0.050413,
     "end_time": "2024-02-06T12:52:24.081736",
     "exception": false,
     "start_time": "2024-02-06T12:52:24.031323",
     "status": "completed"
    },
    "tags": []
   },
   "outputs": [],
   "source": [
    "EPOCHS = 1000\n",
    "\n",
    "BATCH_SIZE = 16\n",
    "LEARNING_RATE = 0.0007\n",
    "NUM_FEATURES = len(df_train.drop(['id', 'NObeyesdad'], axis=1).columns)"
   ]
  },
  {
   "cell_type": "code",
   "execution_count": 35,
   "id": "21cadb64",
   "metadata": {
    "execution": {
     "iopub.execute_input": "2024-02-06T12:52:24.160702Z",
     "iopub.status.busy": "2024-02-06T12:52:24.160382Z",
     "iopub.status.idle": "2024-02-06T12:52:24.174091Z",
     "shell.execute_reply": "2024-02-06T12:52:24.173311Z"
    },
    "papermill": {
     "duration": 0.055291,
     "end_time": "2024-02-06T12:52:24.176488",
     "exception": false,
     "start_time": "2024-02-06T12:52:24.121197",
     "status": "completed"
    },
    "tags": []
   },
   "outputs": [],
   "source": [
    "# Create training and test sets\n",
    "X = df_train.drop(['id', 'NObeyesdad'], axis=1).values\n",
    "y = df_train['NObeyesdad'].values\n",
    "X_train, X_test, y_train, y_test = train_test_split(\n",
    "    X, y, test_size=0.1, random_state=13)"
   ]
  },
  {
   "cell_type": "code",
   "execution_count": 36,
   "id": "274125be",
   "metadata": {
    "execution": {
     "iopub.execute_input": "2024-02-06T12:52:24.250432Z",
     "iopub.status.busy": "2024-02-06T12:52:24.249848Z",
     "iopub.status.idle": "2024-02-06T12:52:24.339152Z",
     "shell.execute_reply": "2024-02-06T12:52:24.338202Z"
    },
    "papermill": {
     "duration": 0.129007,
     "end_time": "2024-02-06T12:52:24.341684",
     "exception": false,
     "start_time": "2024-02-06T12:52:24.212677",
     "status": "completed"
    },
    "tags": []
   },
   "outputs": [
    {
     "name": "stdout",
     "output_type": "stream",
     "text": [
      "cuda:0\n"
     ]
    }
   ],
   "source": [
    "device = torch.device(\"cuda:0\" if torch.cuda.is_available() else \"cpu\")\n",
    "print(device)"
   ]
  },
  {
   "cell_type": "code",
   "execution_count": 37,
   "id": "531e8d99",
   "metadata": {
    "execution": {
     "iopub.execute_input": "2024-02-06T12:52:24.416741Z",
     "iopub.status.busy": "2024-02-06T12:52:24.416420Z",
     "iopub.status.idle": "2024-02-06T12:52:24.644598Z",
     "shell.execute_reply": "2024-02-06T12:52:24.643717Z"
    },
    "papermill": {
     "duration": 0.26806,
     "end_time": "2024-02-06T12:52:24.647167",
     "exception": false,
     "start_time": "2024-02-06T12:52:24.379107",
     "status": "completed"
    },
    "tags": []
   },
   "outputs": [],
   "source": [
    "# Converting From Numpy Array To Torch Tensor\n",
    "X_train = torch.FloatTensor(X_train).to(device)\n",
    "X_test = torch.FloatTensor(X_test).to(device)\n",
    "y_train = torch.LongTensor(y_train).to(device)\n",
    "y_test = torch.LongTensor(y_test).to(device)"
   ]
  },
  {
   "cell_type": "code",
   "execution_count": 38,
   "id": "f12e82b3",
   "metadata": {
    "execution": {
     "iopub.execute_input": "2024-02-06T12:52:24.724031Z",
     "iopub.status.busy": "2024-02-06T12:52:24.723657Z",
     "iopub.status.idle": "2024-02-06T12:52:24.733653Z",
     "shell.execute_reply": "2024-02-06T12:52:24.732754Z"
    },
    "papermill": {
     "duration": 0.049861,
     "end_time": "2024-02-06T12:52:24.735883",
     "exception": false,
     "start_time": "2024-02-06T12:52:24.686022",
     "status": "completed"
    },
    "tags": []
   },
   "outputs": [],
   "source": [
    "class MulticlassClassification(nn.Module):\n",
    "    def __init__(self, num_feature, num_class):\n",
    "        super(MulticlassClassification, self).__init__()\n",
    "        \n",
    "        self.layer_1 = nn.Linear(num_feature, 512)\n",
    "        self.layer_2 = nn.Linear(512, 128)\n",
    "        self.layer_3 = nn.Linear(128, 64)\n",
    "        self.layer_out = nn.Linear(64, num_class) \n",
    "        \n",
    "        self.relu = nn.ReLU()\n",
    "        self.dropout = nn.Dropout(p=0.2)\n",
    "        self.batchnorm1 = nn.BatchNorm1d(512)\n",
    "        self.batchnorm2 = nn.BatchNorm1d(128)\n",
    "        self.batchnorm3 = nn.BatchNorm1d(64)\n",
    "        \n",
    "    def forward(self, x):\n",
    "        x = self.layer_1(x)\n",
    "        x = self.batchnorm1(x)\n",
    "        x = self.relu(x)\n",
    "        \n",
    "        x = self.layer_2(x)\n",
    "        x = self.batchnorm2(x)\n",
    "        x = self.relu(x)\n",
    "        x = self.dropout(x)\n",
    "        \n",
    "        x = self.layer_3(x)\n",
    "        x = self.batchnorm3(x)\n",
    "        x = self.relu(x)\n",
    "        x = self.dropout(x)\n",
    "        \n",
    "        x = self.layer_out(x)\n",
    "        \n",
    "        return x"
   ]
  },
  {
   "cell_type": "code",
   "execution_count": 39,
   "id": "8a99d0b9",
   "metadata": {
    "execution": {
     "iopub.execute_input": "2024-02-06T12:52:24.808944Z",
     "iopub.status.busy": "2024-02-06T12:52:24.808649Z",
     "iopub.status.idle": "2024-02-06T12:52:27.678152Z",
     "shell.execute_reply": "2024-02-06T12:52:27.676922Z"
    },
    "papermill": {
     "duration": 2.90878,
     "end_time": "2024-02-06T12:52:27.680485",
     "exception": false,
     "start_time": "2024-02-06T12:52:24.771705",
     "status": "completed"
    },
    "tags": []
   },
   "outputs": [
    {
     "name": "stdout",
     "output_type": "stream",
     "text": [
      "MulticlassClassification(\n",
      "  (layer_1): Linear(in_features=21, out_features=512, bias=True)\n",
      "  (layer_2): Linear(in_features=512, out_features=128, bias=True)\n",
      "  (layer_3): Linear(in_features=128, out_features=64, bias=True)\n",
      "  (layer_out): Linear(in_features=64, out_features=7, bias=True)\n",
      "  (relu): ReLU()\n",
      "  (dropout): Dropout(p=0.2, inplace=False)\n",
      "  (batchnorm1): BatchNorm1d(512, eps=1e-05, momentum=0.1, affine=True, track_running_stats=True)\n",
      "  (batchnorm2): BatchNorm1d(128, eps=1e-05, momentum=0.1, affine=True, track_running_stats=True)\n",
      "  (batchnorm3): BatchNorm1d(64, eps=1e-05, momentum=0.1, affine=True, track_running_stats=True)\n",
      ")\n"
     ]
    }
   ],
   "source": [
    "model = MulticlassClassification(num_feature = NUM_FEATURES, num_class=N_CLASSES)\n",
    "model.to(device)\n",
    "\n",
    "criterion = nn.CrossEntropyLoss()\n",
    "optimizer = Adam(model.parameters(), lr=LEARNING_RATE)\n",
    "print(model)"
   ]
  },
  {
   "cell_type": "code",
   "execution_count": 40,
   "id": "a588c1b6",
   "metadata": {
    "execution": {
     "iopub.execute_input": "2024-02-06T12:52:27.754966Z",
     "iopub.status.busy": "2024-02-06T12:52:27.754174Z",
     "iopub.status.idle": "2024-02-06T12:52:27.761952Z",
     "shell.execute_reply": "2024-02-06T12:52:27.761061Z"
    },
    "papermill": {
     "duration": 0.046966,
     "end_time": "2024-02-06T12:52:27.763961",
     "exception": false,
     "start_time": "2024-02-06T12:52:27.716995",
     "status": "completed"
    },
    "tags": []
   },
   "outputs": [],
   "source": [
    "def train_network(model, optimizer, criterion, X_train, y_train, X_test, y_test, num_epochs, train_losses, test_losses):\n",
    "    print(\"Begin training.\")\n",
    "    for epoch in range(num_epochs):\n",
    "        # clear out the gradients from the last step loss.backward()\n",
    "        optimizer.zero_grad()\n",
    "        \n",
    "        # forward feed\n",
    "        output_train = model(X_train.to(device))\n",
    "\n",
    "        # calculate the loss\n",
    "        loss_train = criterion(output_train, y_train.to(device))\n",
    "        \n",
    "        # backward propagation: calculate gradients\n",
    "        loss_train.backward()\n",
    "\n",
    "        # update the weights\n",
    "        optimizer.step()\n",
    "\n",
    "        output_test = model(X_test)\n",
    "        loss_test = criterion(output_test, y_test)\n",
    "\n",
    "        train_losses[epoch] = loss_train.item()\n",
    "        test_losses[epoch] = loss_test.item()\n",
    "\n",
    "        if (epoch + 1) % 50 == 0:\n",
    "            print(f\"Epoch {epoch+1}/{num_epochs}, Train Loss: {loss_train.item():.4f}, Test Loss: {loss_test.item():.4f}\")"
   ]
  },
  {
   "cell_type": "code",
   "execution_count": 41,
   "id": "8796b0d6",
   "metadata": {
    "execution": {
     "iopub.execute_input": "2024-02-06T12:52:27.837866Z",
     "iopub.status.busy": "2024-02-06T12:52:27.837501Z",
     "iopub.status.idle": "2024-02-06T12:52:27.841880Z",
     "shell.execute_reply": "2024-02-06T12:52:27.841000Z"
    },
    "papermill": {
     "duration": 0.043741,
     "end_time": "2024-02-06T12:52:27.843840",
     "exception": false,
     "start_time": "2024-02-06T12:52:27.800099",
     "status": "completed"
    },
    "tags": []
   },
   "outputs": [],
   "source": [
    "train_losses = np.zeros(EPOCHS)\n",
    "test_losses  = np.zeros(EPOCHS)"
   ]
  },
  {
   "cell_type": "code",
   "execution_count": 42,
   "id": "8eaa4068",
   "metadata": {
    "execution": {
     "iopub.execute_input": "2024-02-06T12:52:27.917360Z",
     "iopub.status.busy": "2024-02-06T12:52:27.917038Z",
     "iopub.status.idle": "2024-02-06T12:52:35.704741Z",
     "shell.execute_reply": "2024-02-06T12:52:35.703785Z"
    },
    "papermill": {
     "duration": 7.827796,
     "end_time": "2024-02-06T12:52:35.706998",
     "exception": false,
     "start_time": "2024-02-06T12:52:27.879202",
     "status": "completed"
    },
    "tags": []
   },
   "outputs": [
    {
     "name": "stdout",
     "output_type": "stream",
     "text": [
      "Begin training.\n",
      "Epoch 50/1000, Train Loss: 0.7574, Test Loss: 0.7639\n",
      "Epoch 100/1000, Train Loss: 0.4964, Test Loss: 0.5135\n",
      "Epoch 150/1000, Train Loss: 0.4163, Test Loss: 0.4339\n",
      "Epoch 200/1000, Train Loss: 0.3804, Test Loss: 0.4001\n",
      "Epoch 250/1000, Train Loss: 0.3593, Test Loss: 0.4105\n",
      "Epoch 300/1000, Train Loss: 0.3479, Test Loss: 0.3836\n",
      "Epoch 350/1000, Train Loss: 0.3372, Test Loss: 0.3794\n",
      "Epoch 400/1000, Train Loss: 0.3270, Test Loss: 0.3856\n",
      "Epoch 450/1000, Train Loss: 0.3171, Test Loss: 0.3980\n",
      "Epoch 500/1000, Train Loss: 0.3168, Test Loss: 0.3856\n",
      "Epoch 550/1000, Train Loss: 0.3038, Test Loss: 0.3824\n",
      "Epoch 600/1000, Train Loss: 0.3000, Test Loss: 0.3811\n",
      "Epoch 650/1000, Train Loss: 0.2935, Test Loss: 0.3836\n",
      "Epoch 700/1000, Train Loss: 0.2879, Test Loss: 0.3878\n",
      "Epoch 750/1000, Train Loss: 0.2795, Test Loss: 0.4055\n",
      "Epoch 800/1000, Train Loss: 0.2746, Test Loss: 0.4131\n",
      "Epoch 850/1000, Train Loss: 0.2706, Test Loss: 0.3936\n",
      "Epoch 900/1000, Train Loss: 0.2698, Test Loss: 0.3997\n",
      "Epoch 950/1000, Train Loss: 0.2597, Test Loss: 0.3968\n",
      "Epoch 1000/1000, Train Loss: 0.2491, Test Loss: 0.4126\n"
     ]
    }
   ],
   "source": [
    "train_network(model, optimizer, criterion, X_train, y_train, X_test, y_test, EPOCHS, train_losses, test_losses)"
   ]
  },
  {
   "cell_type": "code",
   "execution_count": 43,
   "id": "5838c6f3",
   "metadata": {
    "execution": {
     "iopub.execute_input": "2024-02-06T12:52:35.786416Z",
     "iopub.status.busy": "2024-02-06T12:52:35.785568Z",
     "iopub.status.idle": "2024-02-06T12:52:36.002248Z",
     "shell.execute_reply": "2024-02-06T12:52:36.001304Z"
    },
    "papermill": {
     "duration": 0.258501,
     "end_time": "2024-02-06T12:52:36.004371",
     "exception": false,
     "start_time": "2024-02-06T12:52:35.745870",
     "status": "completed"
    },
    "tags": []
   },
   "outputs": [
    {
     "data": {
      "image/png": "[encoded data removed]",
      "text/plain": [
       "<Figure size 500x400 with 1 Axes>"
      ]
     },
     "metadata": {},
     "output_type": "display_data"
    }
   ],
   "source": [
    "plt.figure(figsize=(5, 4))\n",
    "plt.plot(train_losses, label='train loss')\n",
    "plt.plot(test_losses, label='test loss')\n",
    "plt.legend()\n",
    "plt.show()"
   ]
  },
  {
   "cell_type": "code",
   "execution_count": 44,
   "id": "52e25d36",
   "metadata": {
    "execution": {
     "iopub.execute_input": "2024-02-06T12:52:36.087103Z",
     "iopub.status.busy": "2024-02-06T12:52:36.086709Z",
     "iopub.status.idle": "2024-02-06T12:52:36.094569Z",
     "shell.execute_reply": "2024-02-06T12:52:36.093764Z"
    },
    "papermill": {
     "duration": 0.053467,
     "end_time": "2024-02-06T12:52:36.096795",
     "exception": false,
     "start_time": "2024-02-06T12:52:36.043328",
     "status": "completed"
    },
    "tags": []
   },
   "outputs": [],
   "source": [
    "predictions_train = []\n",
    "predictions_test =  []\n",
    "with torch.no_grad():\n",
    "    predictions_train = model(X_train).to(device)\n",
    "    predictions_test = model(X_test).to(device)"
   ]
  },
  {
   "cell_type": "code",
   "execution_count": 45,
   "id": "881b700f",
   "metadata": {
    "execution": {
     "iopub.execute_input": "2024-02-06T12:52:36.180355Z",
     "iopub.status.busy": "2024-02-06T12:52:36.179404Z",
     "iopub.status.idle": "2024-02-06T12:52:36.186929Z",
     "shell.execute_reply": "2024-02-06T12:52:36.185919Z"
    },
    "papermill": {
     "duration": 0.050158,
     "end_time": "2024-02-06T12:52:36.189065",
     "exception": false,
     "start_time": "2024-02-06T12:52:36.138907",
     "status": "completed"
    },
    "tags": []
   },
   "outputs": [],
   "source": [
    "def get_accuracy_multiclass(pred_arr,original_arr):\n",
    "    if len(pred_arr) != len(original_arr):\n",
    "        return False\n",
    "    pred_arr = pred_arr.cpu().numpy()\n",
    "    original_arr = original_arr.cpu().numpy()\n",
    "    final_pred = []\n",
    "    # we will get something like this in the pred_arr [32.1680,12.9350,-58.4877]\n",
    "    # so will be taking the index of that argument which has the highest value here 32.1680 which corresponds to 0th index\n",
    "    for i in range(len(pred_arr)):\n",
    "        final_pred.append(np.argmax(pred_arr[i]))\n",
    "    final_pred = np.array(final_pred)\n",
    "    count = 0\n",
    "    #here we are doing a simple comparison between the predicted_arr and the original_arr to get the final accuracy\n",
    "    for i in range(len(original_arr)):\n",
    "        if final_pred[i] == original_arr[i]:\n",
    "            count+=1\n",
    "    return count/len(final_pred)"
   ]
  },
  {
   "cell_type": "code",
   "execution_count": 46,
   "id": "8dcc05db",
   "metadata": {
    "execution": {
     "iopub.execute_input": "2024-02-06T12:52:36.267882Z",
     "iopub.status.busy": "2024-02-06T12:52:36.267153Z",
     "iopub.status.idle": "2024-02-06T12:52:36.365423Z",
     "shell.execute_reply": "2024-02-06T12:52:36.364346Z"
    },
    "papermill": {
     "duration": 0.140123,
     "end_time": "2024-02-06T12:52:36.367762",
     "exception": false,
     "start_time": "2024-02-06T12:52:36.227639",
     "status": "completed"
    },
    "tags": []
   },
   "outputs": [
    {
     "name": "stdout",
     "output_type": "stream",
     "text": [
      "Training Accuracy: 91.618\n",
      "Test Accuracy: 87.524\n"
     ]
    }
   ],
   "source": [
    "train_acc = get_accuracy_multiclass(predictions_train, y_train)\n",
    "test_acc  = get_accuracy_multiclass(predictions_test, y_test)\n",
    "\n",
    "print(f\"Training Accuracy: {round(train_acc*100,3)}\")\n",
    "print(f\"Test Accuracy: {round(test_acc*100,3)}\")"
   ]
  },
  {
   "cell_type": "markdown",
   "id": "b3453fbe",
   "metadata": {
    "papermill": {
     "duration": 0.038811,
     "end_time": "2024-02-06T12:52:36.447874",
     "exception": false,
     "start_time": "2024-02-06T12:52:36.409063",
     "status": "completed"
    },
    "tags": []
   },
   "source": [
    "# Predictions on TEST DF"
   ]
  },
  {
   "cell_type": "code",
   "execution_count": 47,
   "id": "be5418dd",
   "metadata": {
    "execution": {
     "iopub.execute_input": "2024-02-06T12:52:36.529241Z",
     "iopub.status.busy": "2024-02-06T12:52:36.528559Z",
     "iopub.status.idle": "2024-02-06T12:52:36.538577Z",
     "shell.execute_reply": "2024-02-06T12:52:36.537566Z"
    },
    "papermill": {
     "duration": 0.053407,
     "end_time": "2024-02-06T12:52:36.540778",
     "exception": false,
     "start_time": "2024-02-06T12:52:36.487371",
     "status": "completed"
    },
    "tags": []
   },
   "outputs": [],
   "source": [
    "def transform_test():\n",
    "    global df_test\n",
    "    \n",
    "    # Categorical encoding\n",
    "    for col in binary_cols:\n",
    "        df_test[col] = df_test[col].map({'yes': 1, 'no': 0})\n",
    "    df_test['CAEC'] = df_test['CAEC'].map({\n",
    "    'no': 0,\n",
    "    'Always': 3,\n",
    "    'Frequently': 2,\n",
    "    'Sometimes': 1\n",
    "})\n",
    "    # there is an additional category in CALC on TEST\n",
    "    # not present in the TRAIN DF\n",
    "    # we need to include it in the mapper\n",
    "    df_test['CALC'] = df_test['CALC'].map({\n",
    "        'no': 0,\n",
    "        'Frequently': 2,\n",
    "        'Sometimes': 1,\n",
    "        'Always': 3\n",
    "})\n",
    "    df_test = pd.get_dummies(df_test, columns=['Gender'], prefix='Is', dtype='int64')\n",
    "    df_test.drop(columns=['Is_Male'], inplace=True)\n",
    "    df_test['MTRANS'] = df_test['MTRANS'].map(transport_mapping)\n",
    "\n",
    "    # Feature Engineering\n",
    "    df_test['BMI'] = df_test['Weight'] / df_test['Height']**2\n",
    "    df_test['Dietary_diversity'] = df_test['FAVC'] + 2 * df_test['FCVC']\n",
    "    df_test['total_meals'] = df_test['NCP'] + df_test['CAEC']\n",
    "    df_test['PAI'] = df_test['FAF'] * 2 + df_test['MTRANS']\n",
    "    df_test['BMR'] = df_test.apply(lambda row: calculate_bmr(row['Weight'], row['Height'], row['Age'], row['Is_Female']), axis=1)\n",
    "    \n",
    "\n",
    "    "
   ]
  },
  {
   "cell_type": "code",
   "execution_count": 48,
   "id": "c0de3bf4",
   "metadata": {
    "execution": {
     "iopub.execute_input": "2024-02-06T12:52:36.618609Z",
     "iopub.status.busy": "2024-02-06T12:52:36.618273Z",
     "iopub.status.idle": "2024-02-06T12:52:37.017596Z",
     "shell.execute_reply": "2024-02-06T12:52:37.016769Z"
    },
    "papermill": {
     "duration": 0.440363,
     "end_time": "2024-02-06T12:52:37.019851",
     "exception": false,
     "start_time": "2024-02-06T12:52:36.579488",
     "status": "completed"
    },
    "tags": []
   },
   "outputs": [],
   "source": [
    "transform_test()"
   ]
  },
  {
   "cell_type": "code",
   "execution_count": 49,
   "id": "8731ac2a",
   "metadata": {
    "execution": {
     "iopub.execute_input": "2024-02-06T12:52:37.100607Z",
     "iopub.status.busy": "2024-02-06T12:52:37.099949Z",
     "iopub.status.idle": "2024-02-06T12:52:37.108268Z",
     "shell.execute_reply": "2024-02-06T12:52:37.107445Z"
    },
    "papermill": {
     "duration": 0.05116,
     "end_time": "2024-02-06T12:52:37.110297",
     "exception": false,
     "start_time": "2024-02-06T12:52:37.059137",
     "status": "completed"
    },
    "tags": []
   },
   "outputs": [],
   "source": [
    "test_features = df_test.drop(['id'], axis=1).values\n",
    "test_features = torch.FloatTensor(test_features).to(device)"
   ]
  },
  {
   "cell_type": "code",
   "execution_count": 50,
   "id": "f0cc7247",
   "metadata": {
    "execution": {
     "iopub.execute_input": "2024-02-06T12:52:37.192972Z",
     "iopub.status.busy": "2024-02-06T12:52:37.192279Z",
     "iopub.status.idle": "2024-02-06T12:52:37.198303Z",
     "shell.execute_reply": "2024-02-06T12:52:37.197341Z"
    },
    "papermill": {
     "duration": 0.049527,
     "end_time": "2024-02-06T12:52:37.200444",
     "exception": false,
     "start_time": "2024-02-06T12:52:37.150917",
     "status": "completed"
    },
    "tags": []
   },
   "outputs": [],
   "source": [
    "predictions_final = model(test_features).to(device)"
   ]
  },
  {
   "cell_type": "code",
   "execution_count": 51,
   "id": "e2c66d40",
   "metadata": {
    "execution": {
     "iopub.execute_input": "2024-02-06T12:52:37.280455Z",
     "iopub.status.busy": "2024-02-06T12:52:37.280134Z",
     "iopub.status.idle": "2024-02-06T12:52:37.301328Z",
     "shell.execute_reply": "2024-02-06T12:52:37.300416Z"
    },
    "papermill": {
     "duration": 0.063812,
     "end_time": "2024-02-06T12:52:37.303483",
     "exception": false,
     "start_time": "2024-02-06T12:52:37.239671",
     "status": "completed"
    },
    "tags": []
   },
   "outputs": [],
   "source": [
    "predicted_classes = torch.argmax(predictions_final, dim=1).cpu()"
   ]
  },
  {
   "cell_type": "code",
   "execution_count": 52,
   "id": "dbd9e205",
   "metadata": {
    "execution": {
     "iopub.execute_input": "2024-02-06T12:52:37.382081Z",
     "iopub.status.busy": "2024-02-06T12:52:37.381781Z",
     "iopub.status.idle": "2024-02-06T12:52:37.395091Z",
     "shell.execute_reply": "2024-02-06T12:52:37.394195Z"
    },
    "papermill": {
     "duration": 0.055198,
     "end_time": "2024-02-06T12:52:37.397145",
     "exception": false,
     "start_time": "2024-02-06T12:52:37.341947",
     "status": "completed"
    },
    "tags": []
   },
   "outputs": [
    {
     "data": {
      "text/html": [
       "<div>\n",
       "<style scoped>\n",
       "    .dataframe tbody tr th:only-of-type {\n",
       "        vertical-align: middle;\n",
       "    }\n",
       "\n",
       "    .dataframe tbody tr th {\n",
       "        vertical-align: top;\n",
       "    }\n",
       "\n",
       "    .dataframe thead th {\n",
       "        text-align: right;\n",
       "    }\n",
       "</style>\n",
       "<table border=\"1\" class=\"dataframe\">\n",
       "  <thead>\n",
       "    <tr style=\"text-align: right;\">\n",
       "      <th></th>\n",
       "      <th>id</th>\n",
       "      <th>NObeyesdad</th>\n",
       "    </tr>\n",
       "  </thead>\n",
       "  <tbody>\n",
       "    <tr>\n",
       "      <th>0</th>\n",
       "      <td>20758</td>\n",
       "      <td>5</td>\n",
       "    </tr>\n",
       "    <tr>\n",
       "      <th>1</th>\n",
       "      <td>20759</td>\n",
       "      <td>2</td>\n",
       "    </tr>\n",
       "    <tr>\n",
       "      <th>2</th>\n",
       "      <td>20760</td>\n",
       "      <td>6</td>\n",
       "    </tr>\n",
       "    <tr>\n",
       "      <th>3</th>\n",
       "      <td>20761</td>\n",
       "      <td>4</td>\n",
       "    </tr>\n",
       "    <tr>\n",
       "      <th>4</th>\n",
       "      <td>20762</td>\n",
       "      <td>6</td>\n",
       "    </tr>\n",
       "  </tbody>\n",
       "</table>\n",
       "</div>"
      ],
      "text/plain": [
       "      id  NObeyesdad\n",
       "0  20758           5\n",
       "1  20759           2\n",
       "2  20760           6\n",
       "3  20761           4\n",
       "4  20762           6"
      ]
     },
     "execution_count": 52,
     "metadata": {},
     "output_type": "execute_result"
    }
   ],
   "source": [
    "final_output = pd.concat([pd.DataFrame(df_test['id']), pd.DataFrame(predicted_classes)], axis=1)\n",
    "final_output.rename(columns={0: 'NObeyesdad'}, inplace=True)\n",
    "\n",
    "final_output.head()"
   ]
  },
  {
   "cell_type": "code",
   "execution_count": 53,
   "id": "674757f8",
   "metadata": {
    "execution": {
     "iopub.execute_input": "2024-02-06T12:52:37.476751Z",
     "iopub.status.busy": "2024-02-06T12:52:37.476445Z",
     "iopub.status.idle": "2024-02-06T12:52:37.482664Z",
     "shell.execute_reply": "2024-02-06T12:52:37.481832Z"
    },
    "papermill": {
     "duration": 0.048804,
     "end_time": "2024-02-06T12:52:37.484743",
     "exception": false,
     "start_time": "2024-02-06T12:52:37.435939",
     "status": "completed"
    },
    "tags": []
   },
   "outputs": [
    {
     "data": {
      "text/plain": [
       "{0: 'Insufficient_Weight',\n",
       " 1: 'Normal_Weight',\n",
       " 2: 'Overweight_Level_I',\n",
       " 3: 'Overweight_Level_II',\n",
       " 4: 'Obesity_Type_I',\n",
       " 5: 'Obesity_Type_II',\n",
       " 6: 'Obesity_Type_III'}"
      ]
     },
     "execution_count": 53,
     "metadata": {},
     "output_type": "execute_result"
    }
   ],
   "source": [
    "target_mapping_rev = {target_mapping[k] : k for k in target_mapping}\n",
    "target_mapping_rev"
   ]
  },
  {
   "cell_type": "code",
   "execution_count": 54,
   "id": "2a2b2826",
   "metadata": {
    "execution": {
     "iopub.execute_input": "2024-02-06T12:52:37.563898Z",
     "iopub.status.busy": "2024-02-06T12:52:37.563097Z",
     "iopub.status.idle": "2024-02-06T12:52:37.568956Z",
     "shell.execute_reply": "2024-02-06T12:52:37.568071Z"
    },
    "papermill": {
     "duration": 0.046982,
     "end_time": "2024-02-06T12:52:37.570974",
     "exception": false,
     "start_time": "2024-02-06T12:52:37.523992",
     "status": "completed"
    },
    "tags": []
   },
   "outputs": [],
   "source": [
    "final_output['NObeyesdad'] = final_output['NObeyesdad'].map(target_mapping_rev)"
   ]
  },
  {
   "cell_type": "code",
   "execution_count": 55,
   "id": "ae7d92b3",
   "metadata": {
    "execution": {
     "iopub.execute_input": "2024-02-06T12:52:37.649014Z",
     "iopub.status.busy": "2024-02-06T12:52:37.648687Z",
     "iopub.status.idle": "2024-02-06T12:52:37.659460Z",
     "shell.execute_reply": "2024-02-06T12:52:37.658479Z"
    },
    "papermill": {
     "duration": 0.051915,
     "end_time": "2024-02-06T12:52:37.661672",
     "exception": false,
     "start_time": "2024-02-06T12:52:37.609757",
     "status": "completed"
    },
    "tags": []
   },
   "outputs": [
    {
     "data": {
      "text/html": [
       "<div>\n",
       "<style scoped>\n",
       "    .dataframe tbody tr th:only-of-type {\n",
       "        vertical-align: middle;\n",
       "    }\n",
       "\n",
       "    .dataframe tbody tr th {\n",
       "        vertical-align: top;\n",
       "    }\n",
       "\n",
       "    .dataframe thead th {\n",
       "        text-align: right;\n",
       "    }\n",
       "</style>\n",
       "<table border=\"1\" class=\"dataframe\">\n",
       "  <thead>\n",
       "    <tr style=\"text-align: right;\">\n",
       "      <th></th>\n",
       "      <th>id</th>\n",
       "      <th>NObeyesdad</th>\n",
       "    </tr>\n",
       "  </thead>\n",
       "  <tbody>\n",
       "    <tr>\n",
       "      <th>0</th>\n",
       "      <td>20758</td>\n",
       "      <td>Obesity_Type_II</td>\n",
       "    </tr>\n",
       "    <tr>\n",
       "      <th>1</th>\n",
       "      <td>20759</td>\n",
       "      <td>Overweight_Level_I</td>\n",
       "    </tr>\n",
       "    <tr>\n",
       "      <th>2</th>\n",
       "      <td>20760</td>\n",
       "      <td>Obesity_Type_III</td>\n",
       "    </tr>\n",
       "    <tr>\n",
       "      <th>3</th>\n",
       "      <td>20761</td>\n",
       "      <td>Obesity_Type_I</td>\n",
       "    </tr>\n",
       "    <tr>\n",
       "      <th>4</th>\n",
       "      <td>20762</td>\n",
       "      <td>Obesity_Type_III</td>\n",
       "    </tr>\n",
       "    <tr>\n",
       "      <th>...</th>\n",
       "      <td>...</td>\n",
       "      <td>...</td>\n",
       "    </tr>\n",
       "    <tr>\n",
       "      <th>13835</th>\n",
       "      <td>34593</td>\n",
       "      <td>Overweight_Level_II</td>\n",
       "    </tr>\n",
       "    <tr>\n",
       "      <th>13836</th>\n",
       "      <td>34594</td>\n",
       "      <td>Overweight_Level_I</td>\n",
       "    </tr>\n",
       "    <tr>\n",
       "      <th>13837</th>\n",
       "      <td>34595</td>\n",
       "      <td>Insufficient_Weight</td>\n",
       "    </tr>\n",
       "    <tr>\n",
       "      <th>13838</th>\n",
       "      <td>34596</td>\n",
       "      <td>Normal_Weight</td>\n",
       "    </tr>\n",
       "    <tr>\n",
       "      <th>13839</th>\n",
       "      <td>34597</td>\n",
       "      <td>Obesity_Type_II</td>\n",
       "    </tr>\n",
       "  </tbody>\n",
       "</table>\n",
       "<p>13840 rows × 2 columns</p>\n",
       "</div>"
      ],
      "text/plain": [
       "          id           NObeyesdad\n",
       "0      20758      Obesity_Type_II\n",
       "1      20759   Overweight_Level_I\n",
       "2      20760     Obesity_Type_III\n",
       "3      20761       Obesity_Type_I\n",
       "4      20762     Obesity_Type_III\n",
       "...      ...                  ...\n",
       "13835  34593  Overweight_Level_II\n",
       "13836  34594   Overweight_Level_I\n",
       "13837  34595  Insufficient_Weight\n",
       "13838  34596        Normal_Weight\n",
       "13839  34597      Obesity_Type_II\n",
       "\n",
       "[13840 rows x 2 columns]"
      ]
     },
     "execution_count": 55,
     "metadata": {},
     "output_type": "execute_result"
    }
   ],
   "source": [
    "final_output"
   ]
  },
  {
   "cell_type": "code",
   "execution_count": 56,
   "id": "b5941b69",
   "metadata": {
    "execution": {
     "iopub.execute_input": "2024-02-06T12:52:37.742151Z",
     "iopub.status.busy": "2024-02-06T12:52:37.741849Z",
     "iopub.status.idle": "2024-02-06T12:52:37.774481Z",
     "shell.execute_reply": "2024-02-06T12:52:37.773578Z"
    },
    "papermill": {
     "duration": 0.075674,
     "end_time": "2024-02-06T12:52:37.776681",
     "exception": false,
     "start_time": "2024-02-06T12:52:37.701007",
     "status": "completed"
    },
    "tags": []
   },
   "outputs": [],
   "source": [
    "final_output.to_csv('submission.csv', index=False)"
   ]
  },
  {
   "cell_type": "code",
   "execution_count": null,
   "id": "c543d742",
   "metadata": {
    "papermill": {
     "duration": 0.039307,
     "end_time": "2024-02-06T12:52:37.855328",
     "exception": false,
     "start_time": "2024-02-06T12:52:37.816021",
     "status": "completed"
    },
    "tags": []
   },
   "outputs": [],
   "source": []
  }
 ],
 "metadata": {
  "kaggle": {
   "accelerator": "nvidiaTeslaT4",
   "dataSources": [
    {
     "databundleVersionId": 7609535,
     "sourceId": 68479,
     "sourceType": "competition"
    }
   ],
   "dockerImageVersionId": 30648,
   "isGpuEnabled": true,
   "isInternetEnabled": true,
   "language": "python",
   "sourceType": "notebook"
  },
  "kernelspec": {
   "display_name": "Python 3",
   "language": "python",
   "name": "python3"
  },
  "language_info": {
   "codemirror_mode": {
    "name": "ipython",
    "version": 3
   },
   "file_extension": ".py",
   "mimetype": "text/x-python",
   "name": "python",
   "nbconvert_exporter": "python",
   "pygments_lexer": "ipython3",
   "version": "3.10.13"
  },
  "papermill": {
   "default_parameters": {},
   "duration": 37.235082,
   "end_time": "2024-02-06T12:52:39.717940",
   "environment_variables": {},
   "exception": null,
   "input_path": "__notebook__.ipynb",
   "output_path": "__notebook__.ipynb",
   "parameters": {},
   "start_time": "2024-02-06T12:52:02.482858",
   "version": "2.5.0"
  }
 },
 "nbformat": 4,
 "nbformat_minor": 5
}
