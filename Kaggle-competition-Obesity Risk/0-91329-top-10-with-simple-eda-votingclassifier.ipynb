{
 "cells": [
  {
   "cell_type": "code",
   "execution_count": 1,
   "id": "2145a3ac",
   "metadata": {
    "_cell_guid": "b1076dfc-b9ad-4769-8c92-a6c4dae69d19",
    "_uuid": "8f2839f25d086af736a60e9eeb907d3b93b6e0e5",
    "execution": {
     "iopub.execute_input": "2024-02-24T09:46:42.115337Z",
     "iopub.status.busy": "2024-02-24T09:46:42.114910Z",
     "iopub.status.idle": "2024-02-24T09:46:43.177631Z",
     "shell.execute_reply": "2024-02-24T09:46:43.176195Z"
    },
    "papermill": {
     "duration": 1.079725,
     "end_time": "2024-02-24T09:46:43.181026",
     "exception": false,
     "start_time": "2024-02-24T09:46:42.101301",
     "status": "completed"
    },
    "tags": []
   },
   "outputs": [],
   "source": [
    "import numpy as np\n",
    "import matplotlib.pyplot as plt\n",
    "import pandas as pd\n"
   ]
  },
  {
   "cell_type": "markdown",
   "id": "2be76387",
   "metadata": {
    "papermill": {
     "duration": 0.012112,
     "end_time": "2024-02-24T09:46:43.205597",
     "exception": false,
     "start_time": "2024-02-24T09:46:43.193485",
     "status": "completed"
    },
    "tags": []
   },
   "source": [
    "# Introduction\n",
    "In this Notebook we show how to build a multiclass classifier, by:\n",
    "- applying simple pre-processing steps\n",
    "- trying different baseline algorithms\n",
    "- optimizing the hyperparameters of XGBoost\n",
    "\n",
    "In the pre-processing steps, we convert the non numerical features using the LabelEncoding for most of the columns, i.e. for the columns that have only two possible values or more than two sortable values.\n",
    "The only column that has not these characteristics is the MTRANS, where we apply the one-hot encoding.\n",
    "\n",
    "Then we do some data exploration, analzying the correlation between numerical features and labels, the distribution of train and test data, the distribution of labels, etc...\n",
    "\n",
    "Then we train 4 different baseline classifier: RandomForest, GradientBoosting, LightGBM and XGBoost.\n",
    "XGBoost shows the best performance, so we decide to optimize its hyperparameters by using the framework Optuna.\n",
    "\n",
    "Finally we perform the predictios in two ways:\n",
    "- using all the training data\n",
    "- using 5-fold stratified splitting and computing the average predicted probabilities out of 5"
   ]
  },
  {
   "cell_type": "markdown",
   "id": "8215b745",
   "metadata": {
    "papermill": {
     "duration": 0.012095,
     "end_time": "2024-02-24T09:46:43.229085",
     "exception": false,
     "start_time": "2024-02-24T09:46:43.216990",
     "status": "completed"
    },
    "tags": []
   },
   "source": [
    "# 1. Import data\n",
    "We import the data and we create two subsets:\n",
    "- one with numerical data\n",
    "- one with categorical data"
   ]
  },
  {
   "cell_type": "code",
   "execution_count": 2,
   "id": "b1dd2246",
   "metadata": {
    "execution": {
     "iopub.execute_input": "2024-02-24T09:46:43.256382Z",
     "iopub.status.busy": "2024-02-24T09:46:43.255457Z",
     "iopub.status.idle": "2024-02-24T09:46:43.411069Z",
     "shell.execute_reply": "2024-02-24T09:46:43.409363Z"
    },
    "papermill": {
     "duration": 0.173496,
     "end_time": "2024-02-24T09:46:43.414188",
     "exception": false,
     "start_time": "2024-02-24T09:46:43.240692",
     "status": "completed"
    },
    "tags": []
   },
   "outputs": [
    {
     "data": {
      "text/html": [
       "<div>\n",
       "<style scoped>\n",
       "    .dataframe tbody tr th:only-of-type {\n",
       "        vertical-align: middle;\n",
       "    }\n",
       "\n",
       "    .dataframe tbody tr th {\n",
       "        vertical-align: top;\n",
       "    }\n",
       "\n",
       "    .dataframe thead th {\n",
       "        text-align: right;\n",
       "    }\n",
       "</style>\n",
       "<table border=\"1\" class=\"dataframe\">\n",
       "  <thead>\n",
       "    <tr style=\"text-align: right;\">\n",
       "      <th></th>\n",
       "      <th>Gender</th>\n",
       "      <th>Age</th>\n",
       "      <th>Height</th>\n",
       "      <th>Weight</th>\n",
       "      <th>family_history_with_overweight</th>\n",
       "      <th>FAVC</th>\n",
       "      <th>FCVC</th>\n",
       "      <th>NCP</th>\n",
       "      <th>CAEC</th>\n",
       "      <th>SMOKE</th>\n",
       "      <th>CH2O</th>\n",
       "      <th>SCC</th>\n",
       "      <th>FAF</th>\n",
       "      <th>TUE</th>\n",
       "      <th>CALC</th>\n",
       "      <th>MTRANS</th>\n",
       "      <th>NObeyesdad</th>\n",
       "    </tr>\n",
       "    <tr>\n",
       "      <th>id</th>\n",
       "      <th></th>\n",
       "      <th></th>\n",
       "      <th></th>\n",
       "      <th></th>\n",
       "      <th></th>\n",
       "      <th></th>\n",
       "      <th></th>\n",
       "      <th></th>\n",
       "      <th></th>\n",
       "      <th></th>\n",
       "      <th></th>\n",
       "      <th></th>\n",
       "      <th></th>\n",
       "      <th></th>\n",
       "      <th></th>\n",
       "      <th></th>\n",
       "      <th></th>\n",
       "    </tr>\n",
       "  </thead>\n",
       "  <tbody>\n",
       "    <tr>\n",
       "      <th>0</th>\n",
       "      <td>Male</td>\n",
       "      <td>24.443011</td>\n",
       "      <td>1.699998</td>\n",
       "      <td>81.669950</td>\n",
       "      <td>yes</td>\n",
       "      <td>yes</td>\n",
       "      <td>2.000000</td>\n",
       "      <td>2.983297</td>\n",
       "      <td>Sometimes</td>\n",
       "      <td>no</td>\n",
       "      <td>2.763573</td>\n",
       "      <td>no</td>\n",
       "      <td>0.000000</td>\n",
       "      <td>0.976473</td>\n",
       "      <td>Sometimes</td>\n",
       "      <td>Public_Transportation</td>\n",
       "      <td>Overweight_Level_II</td>\n",
       "    </tr>\n",
       "    <tr>\n",
       "      <th>1</th>\n",
       "      <td>Female</td>\n",
       "      <td>18.000000</td>\n",
       "      <td>1.560000</td>\n",
       "      <td>57.000000</td>\n",
       "      <td>yes</td>\n",
       "      <td>yes</td>\n",
       "      <td>2.000000</td>\n",
       "      <td>3.000000</td>\n",
       "      <td>Frequently</td>\n",
       "      <td>no</td>\n",
       "      <td>2.000000</td>\n",
       "      <td>no</td>\n",
       "      <td>1.000000</td>\n",
       "      <td>1.000000</td>\n",
       "      <td>no</td>\n",
       "      <td>Automobile</td>\n",
       "      <td>Normal_Weight</td>\n",
       "    </tr>\n",
       "    <tr>\n",
       "      <th>2</th>\n",
       "      <td>Female</td>\n",
       "      <td>18.000000</td>\n",
       "      <td>1.711460</td>\n",
       "      <td>50.165754</td>\n",
       "      <td>yes</td>\n",
       "      <td>yes</td>\n",
       "      <td>1.880534</td>\n",
       "      <td>1.411685</td>\n",
       "      <td>Sometimes</td>\n",
       "      <td>no</td>\n",
       "      <td>1.910378</td>\n",
       "      <td>no</td>\n",
       "      <td>0.866045</td>\n",
       "      <td>1.673584</td>\n",
       "      <td>no</td>\n",
       "      <td>Public_Transportation</td>\n",
       "      <td>Insufficient_Weight</td>\n",
       "    </tr>\n",
       "    <tr>\n",
       "      <th>3</th>\n",
       "      <td>Female</td>\n",
       "      <td>20.952737</td>\n",
       "      <td>1.710730</td>\n",
       "      <td>131.274851</td>\n",
       "      <td>yes</td>\n",
       "      <td>yes</td>\n",
       "      <td>3.000000</td>\n",
       "      <td>3.000000</td>\n",
       "      <td>Sometimes</td>\n",
       "      <td>no</td>\n",
       "      <td>1.674061</td>\n",
       "      <td>no</td>\n",
       "      <td>1.467863</td>\n",
       "      <td>0.780199</td>\n",
       "      <td>Sometimes</td>\n",
       "      <td>Public_Transportation</td>\n",
       "      <td>Obesity_Type_III</td>\n",
       "    </tr>\n",
       "    <tr>\n",
       "      <th>4</th>\n",
       "      <td>Male</td>\n",
       "      <td>31.641081</td>\n",
       "      <td>1.914186</td>\n",
       "      <td>93.798055</td>\n",
       "      <td>yes</td>\n",
       "      <td>yes</td>\n",
       "      <td>2.679664</td>\n",
       "      <td>1.971472</td>\n",
       "      <td>Sometimes</td>\n",
       "      <td>no</td>\n",
       "      <td>1.979848</td>\n",
       "      <td>no</td>\n",
       "      <td>1.967973</td>\n",
       "      <td>0.931721</td>\n",
       "      <td>Sometimes</td>\n",
       "      <td>Public_Transportation</td>\n",
       "      <td>Overweight_Level_II</td>\n",
       "    </tr>\n",
       "  </tbody>\n",
       "</table>\n",
       "</div>"
      ],
      "text/plain": [
       "    Gender        Age    Height      Weight family_history_with_overweight  \\\n",
       "id                                                                           \n",
       "0     Male  24.443011  1.699998   81.669950                            yes   \n",
       "1   Female  18.000000  1.560000   57.000000                            yes   \n",
       "2   Female  18.000000  1.711460   50.165754                            yes   \n",
       "3   Female  20.952737  1.710730  131.274851                            yes   \n",
       "4     Male  31.641081  1.914186   93.798055                            yes   \n",
       "\n",
       "   FAVC      FCVC       NCP        CAEC SMOKE      CH2O SCC       FAF  \\\n",
       "id                                                                      \n",
       "0   yes  2.000000  2.983297   Sometimes    no  2.763573  no  0.000000   \n",
       "1   yes  2.000000  3.000000  Frequently    no  2.000000  no  1.000000   \n",
       "2   yes  1.880534  1.411685   Sometimes    no  1.910378  no  0.866045   \n",
       "3   yes  3.000000  3.000000   Sometimes    no  1.674061  no  1.467863   \n",
       "4   yes  2.679664  1.971472   Sometimes    no  1.979848  no  1.967973   \n",
       "\n",
       "         TUE       CALC                 MTRANS           NObeyesdad  \n",
       "id                                                                   \n",
       "0   0.976473  Sometimes  Public_Transportation  Overweight_Level_II  \n",
       "1   1.000000         no             Automobile        Normal_Weight  \n",
       "2   1.673584         no  Public_Transportation  Insufficient_Weight  \n",
       "3   0.780199  Sometimes  Public_Transportation     Obesity_Type_III  \n",
       "4   0.931721  Sometimes  Public_Transportation  Overweight_Level_II  "
      ]
     },
     "execution_count": 2,
     "metadata": {},
     "output_type": "execute_result"
    }
   ],
   "source": [
    "df = pd.read_csv('/kaggle/input/playground-series-s4e2/train.csv', index_col=0)\n",
    "\n",
    "df.head()"
   ]
  },
  {
   "cell_type": "code",
   "execution_count": 3,
   "id": "751f5020",
   "metadata": {
    "execution": {
     "iopub.execute_input": "2024-02-24T09:46:43.442100Z",
     "iopub.status.busy": "2024-02-24T09:46:43.440646Z",
     "iopub.status.idle": "2024-02-24T09:46:43.481080Z",
     "shell.execute_reply": "2024-02-24T09:46:43.479569Z"
    },
    "papermill": {
     "duration": 0.057142,
     "end_time": "2024-02-24T09:46:43.484121",
     "exception": false,
     "start_time": "2024-02-24T09:46:43.426979",
     "status": "completed"
    },
    "tags": []
   },
   "outputs": [
    {
     "data": {
      "text/html": [
       "<div>\n",
       "<style scoped>\n",
       "    .dataframe tbody tr th:only-of-type {\n",
       "        vertical-align: middle;\n",
       "    }\n",
       "\n",
       "    .dataframe tbody tr th {\n",
       "        vertical-align: top;\n",
       "    }\n",
       "\n",
       "    .dataframe thead th {\n",
       "        text-align: right;\n",
       "    }\n",
       "</style>\n",
       "<table border=\"1\" class=\"dataframe\">\n",
       "  <thead>\n",
       "    <tr style=\"text-align: right;\">\n",
       "      <th></th>\n",
       "      <th>Gender</th>\n",
       "      <th>Age</th>\n",
       "      <th>Height</th>\n",
       "      <th>Weight</th>\n",
       "      <th>family_history_with_overweight</th>\n",
       "      <th>FAVC</th>\n",
       "      <th>FCVC</th>\n",
       "      <th>NCP</th>\n",
       "      <th>CAEC</th>\n",
       "      <th>SMOKE</th>\n",
       "      <th>CH2O</th>\n",
       "      <th>SCC</th>\n",
       "      <th>FAF</th>\n",
       "      <th>TUE</th>\n",
       "      <th>CALC</th>\n",
       "      <th>MTRANS</th>\n",
       "      <th>BMI</th>\n",
       "    </tr>\n",
       "    <tr>\n",
       "      <th>id</th>\n",
       "      <th></th>\n",
       "      <th></th>\n",
       "      <th></th>\n",
       "      <th></th>\n",
       "      <th></th>\n",
       "      <th></th>\n",
       "      <th></th>\n",
       "      <th></th>\n",
       "      <th></th>\n",
       "      <th></th>\n",
       "      <th></th>\n",
       "      <th></th>\n",
       "      <th></th>\n",
       "      <th></th>\n",
       "      <th></th>\n",
       "      <th></th>\n",
       "      <th></th>\n",
       "    </tr>\n",
       "  </thead>\n",
       "  <tbody>\n",
       "    <tr>\n",
       "      <th>0</th>\n",
       "      <td>Male</td>\n",
       "      <td>24.443011</td>\n",
       "      <td>1.699998</td>\n",
       "      <td>81.669950</td>\n",
       "      <td>yes</td>\n",
       "      <td>yes</td>\n",
       "      <td>2.000000</td>\n",
       "      <td>2.983297</td>\n",
       "      <td>Sometimes</td>\n",
       "      <td>no</td>\n",
       "      <td>2.763573</td>\n",
       "      <td>no</td>\n",
       "      <td>0.000000</td>\n",
       "      <td>0.976473</td>\n",
       "      <td>Sometimes</td>\n",
       "      <td>Public_Transportation</td>\n",
       "      <td>28.259565</td>\n",
       "    </tr>\n",
       "    <tr>\n",
       "      <th>1</th>\n",
       "      <td>Female</td>\n",
       "      <td>18.000000</td>\n",
       "      <td>1.560000</td>\n",
       "      <td>57.000000</td>\n",
       "      <td>yes</td>\n",
       "      <td>yes</td>\n",
       "      <td>2.000000</td>\n",
       "      <td>3.000000</td>\n",
       "      <td>Frequently</td>\n",
       "      <td>no</td>\n",
       "      <td>2.000000</td>\n",
       "      <td>no</td>\n",
       "      <td>1.000000</td>\n",
       "      <td>1.000000</td>\n",
       "      <td>no</td>\n",
       "      <td>Automobile</td>\n",
       "      <td>23.422091</td>\n",
       "    </tr>\n",
       "    <tr>\n",
       "      <th>2</th>\n",
       "      <td>Female</td>\n",
       "      <td>18.000000</td>\n",
       "      <td>1.711460</td>\n",
       "      <td>50.165754</td>\n",
       "      <td>yes</td>\n",
       "      <td>yes</td>\n",
       "      <td>1.880534</td>\n",
       "      <td>1.411685</td>\n",
       "      <td>Sometimes</td>\n",
       "      <td>no</td>\n",
       "      <td>1.910378</td>\n",
       "      <td>no</td>\n",
       "      <td>0.866045</td>\n",
       "      <td>1.673584</td>\n",
       "      <td>no</td>\n",
       "      <td>Public_Transportation</td>\n",
       "      <td>17.126706</td>\n",
       "    </tr>\n",
       "    <tr>\n",
       "      <th>3</th>\n",
       "      <td>Female</td>\n",
       "      <td>20.952737</td>\n",
       "      <td>1.710730</td>\n",
       "      <td>131.274851</td>\n",
       "      <td>yes</td>\n",
       "      <td>yes</td>\n",
       "      <td>3.000000</td>\n",
       "      <td>3.000000</td>\n",
       "      <td>Sometimes</td>\n",
       "      <td>no</td>\n",
       "      <td>1.674061</td>\n",
       "      <td>no</td>\n",
       "      <td>1.467863</td>\n",
       "      <td>0.780199</td>\n",
       "      <td>Sometimes</td>\n",
       "      <td>Public_Transportation</td>\n",
       "      <td>44.855798</td>\n",
       "    </tr>\n",
       "    <tr>\n",
       "      <th>4</th>\n",
       "      <td>Male</td>\n",
       "      <td>31.641081</td>\n",
       "      <td>1.914186</td>\n",
       "      <td>93.798055</td>\n",
       "      <td>yes</td>\n",
       "      <td>yes</td>\n",
       "      <td>2.679664</td>\n",
       "      <td>1.971472</td>\n",
       "      <td>Sometimes</td>\n",
       "      <td>no</td>\n",
       "      <td>1.979848</td>\n",
       "      <td>no</td>\n",
       "      <td>1.967973</td>\n",
       "      <td>0.931721</td>\n",
       "      <td>Sometimes</td>\n",
       "      <td>Public_Transportation</td>\n",
       "      <td>25.599151</td>\n",
       "    </tr>\n",
       "    <tr>\n",
       "      <th>...</th>\n",
       "      <td>...</td>\n",
       "      <td>...</td>\n",
       "      <td>...</td>\n",
       "      <td>...</td>\n",
       "      <td>...</td>\n",
       "      <td>...</td>\n",
       "      <td>...</td>\n",
       "      <td>...</td>\n",
       "      <td>...</td>\n",
       "      <td>...</td>\n",
       "      <td>...</td>\n",
       "      <td>...</td>\n",
       "      <td>...</td>\n",
       "      <td>...</td>\n",
       "      <td>...</td>\n",
       "      <td>...</td>\n",
       "      <td>...</td>\n",
       "    </tr>\n",
       "    <tr>\n",
       "      <th>20753</th>\n",
       "      <td>Male</td>\n",
       "      <td>25.137087</td>\n",
       "      <td>1.766626</td>\n",
       "      <td>114.187096</td>\n",
       "      <td>yes</td>\n",
       "      <td>yes</td>\n",
       "      <td>2.919584</td>\n",
       "      <td>3.000000</td>\n",
       "      <td>Sometimes</td>\n",
       "      <td>no</td>\n",
       "      <td>2.151809</td>\n",
       "      <td>no</td>\n",
       "      <td>1.330519</td>\n",
       "      <td>0.196680</td>\n",
       "      <td>Sometimes</td>\n",
       "      <td>Public_Transportation</td>\n",
       "      <td>36.587084</td>\n",
       "    </tr>\n",
       "    <tr>\n",
       "      <th>20754</th>\n",
       "      <td>Male</td>\n",
       "      <td>18.000000</td>\n",
       "      <td>1.710000</td>\n",
       "      <td>50.000000</td>\n",
       "      <td>no</td>\n",
       "      <td>yes</td>\n",
       "      <td>3.000000</td>\n",
       "      <td>4.000000</td>\n",
       "      <td>Frequently</td>\n",
       "      <td>no</td>\n",
       "      <td>1.000000</td>\n",
       "      <td>no</td>\n",
       "      <td>2.000000</td>\n",
       "      <td>1.000000</td>\n",
       "      <td>Sometimes</td>\n",
       "      <td>Public_Transportation</td>\n",
       "      <td>17.099278</td>\n",
       "    </tr>\n",
       "    <tr>\n",
       "      <th>20755</th>\n",
       "      <td>Male</td>\n",
       "      <td>20.101026</td>\n",
       "      <td>1.819557</td>\n",
       "      <td>105.580491</td>\n",
       "      <td>yes</td>\n",
       "      <td>yes</td>\n",
       "      <td>2.407817</td>\n",
       "      <td>3.000000</td>\n",
       "      <td>Sometimes</td>\n",
       "      <td>no</td>\n",
       "      <td>2.000000</td>\n",
       "      <td>no</td>\n",
       "      <td>1.158040</td>\n",
       "      <td>1.198439</td>\n",
       "      <td>no</td>\n",
       "      <td>Public_Transportation</td>\n",
       "      <td>31.889841</td>\n",
       "    </tr>\n",
       "    <tr>\n",
       "      <th>20756</th>\n",
       "      <td>Male</td>\n",
       "      <td>33.852953</td>\n",
       "      <td>1.700000</td>\n",
       "      <td>83.520113</td>\n",
       "      <td>yes</td>\n",
       "      <td>yes</td>\n",
       "      <td>2.671238</td>\n",
       "      <td>1.971472</td>\n",
       "      <td>Sometimes</td>\n",
       "      <td>no</td>\n",
       "      <td>2.144838</td>\n",
       "      <td>no</td>\n",
       "      <td>0.000000</td>\n",
       "      <td>0.973834</td>\n",
       "      <td>no</td>\n",
       "      <td>Automobile</td>\n",
       "      <td>28.899693</td>\n",
       "    </tr>\n",
       "    <tr>\n",
       "      <th>20757</th>\n",
       "      <td>Male</td>\n",
       "      <td>26.680376</td>\n",
       "      <td>1.816547</td>\n",
       "      <td>118.134898</td>\n",
       "      <td>yes</td>\n",
       "      <td>yes</td>\n",
       "      <td>3.000000</td>\n",
       "      <td>3.000000</td>\n",
       "      <td>Sometimes</td>\n",
       "      <td>no</td>\n",
       "      <td>2.003563</td>\n",
       "      <td>no</td>\n",
       "      <td>0.684487</td>\n",
       "      <td>0.713823</td>\n",
       "      <td>Sometimes</td>\n",
       "      <td>Public_Transportation</td>\n",
       "      <td>35.800157</td>\n",
       "    </tr>\n",
       "  </tbody>\n",
       "</table>\n",
       "<p>20758 rows × 17 columns</p>\n",
       "</div>"
      ],
      "text/plain": [
       "       Gender        Age    Height      Weight family_history_with_overweight  \\\n",
       "id                                                                              \n",
       "0        Male  24.443011  1.699998   81.669950                            yes   \n",
       "1      Female  18.000000  1.560000   57.000000                            yes   \n",
       "2      Female  18.000000  1.711460   50.165754                            yes   \n",
       "3      Female  20.952737  1.710730  131.274851                            yes   \n",
       "4        Male  31.641081  1.914186   93.798055                            yes   \n",
       "...       ...        ...       ...         ...                            ...   \n",
       "20753    Male  25.137087  1.766626  114.187096                            yes   \n",
       "20754    Male  18.000000  1.710000   50.000000                             no   \n",
       "20755    Male  20.101026  1.819557  105.580491                            yes   \n",
       "20756    Male  33.852953  1.700000   83.520113                            yes   \n",
       "20757    Male  26.680376  1.816547  118.134898                            yes   \n",
       "\n",
       "      FAVC      FCVC       NCP        CAEC SMOKE      CH2O SCC       FAF  \\\n",
       "id                                                                         \n",
       "0      yes  2.000000  2.983297   Sometimes    no  2.763573  no  0.000000   \n",
       "1      yes  2.000000  3.000000  Frequently    no  2.000000  no  1.000000   \n",
       "2      yes  1.880534  1.411685   Sometimes    no  1.910378  no  0.866045   \n",
       "3      yes  3.000000  3.000000   Sometimes    no  1.674061  no  1.467863   \n",
       "4      yes  2.679664  1.971472   Sometimes    no  1.979848  no  1.967973   \n",
       "...    ...       ...       ...         ...   ...       ...  ..       ...   \n",
       "20753  yes  2.919584  3.000000   Sometimes    no  2.151809  no  1.330519   \n",
       "20754  yes  3.000000  4.000000  Frequently    no  1.000000  no  2.000000   \n",
       "20755  yes  2.407817  3.000000   Sometimes    no  2.000000  no  1.158040   \n",
       "20756  yes  2.671238  1.971472   Sometimes    no  2.144838  no  0.000000   \n",
       "20757  yes  3.000000  3.000000   Sometimes    no  2.003563  no  0.684487   \n",
       "\n",
       "            TUE       CALC                 MTRANS        BMI  \n",
       "id                                                            \n",
       "0      0.976473  Sometimes  Public_Transportation  28.259565  \n",
       "1      1.000000         no             Automobile  23.422091  \n",
       "2      1.673584         no  Public_Transportation  17.126706  \n",
       "3      0.780199  Sometimes  Public_Transportation  44.855798  \n",
       "4      0.931721  Sometimes  Public_Transportation  25.599151  \n",
       "...         ...        ...                    ...        ...  \n",
       "20753  0.196680  Sometimes  Public_Transportation  36.587084  \n",
       "20754  1.000000  Sometimes  Public_Transportation  17.099278  \n",
       "20755  1.198439         no  Public_Transportation  31.889841  \n",
       "20756  0.973834         no             Automobile  28.899693  \n",
       "20757  0.713823  Sometimes  Public_Transportation  35.800157  \n",
       "\n",
       "[20758 rows x 17 columns]"
      ]
     },
     "execution_count": 3,
     "metadata": {},
     "output_type": "execute_result"
    }
   ],
   "source": [
    "#add data[BMI]\n",
    "df['BMI'] = df['Weight'] / (df['Height'] ** 2)\n",
    "\n",
    "features = df.drop('NObeyesdad', axis=1)\n",
    "labels = pd.DataFrame(df['NObeyesdad'])\n",
    "\n",
    "features"
   ]
  },
  {
   "cell_type": "markdown",
   "id": "c980e15e",
   "metadata": {
    "papermill": {
     "duration": 0.012469,
     "end_time": "2024-02-24T09:46:43.510385",
     "exception": false,
     "start_time": "2024-02-24T09:46:43.497916",
     "status": "completed"
    },
    "tags": []
   },
   "source": [
    "# 2. Data exploration and pre-processing "
   ]
  },
  {
   "cell_type": "markdown",
   "id": "65d9ba53",
   "metadata": {
    "papermill": {
     "duration": 0.012396,
     "end_time": "2024-02-24T09:46:43.535175",
     "exception": false,
     "start_time": "2024-02-24T09:46:43.522779",
     "status": "completed"
    },
    "tags": []
   },
   "source": [
    "### Numerical DataFrame"
   ]
  },
  {
   "cell_type": "code",
   "execution_count": 4,
   "id": "63759a8e",
   "metadata": {
    "execution": {
     "iopub.execute_input": "2024-02-24T09:46:43.563613Z",
     "iopub.status.busy": "2024-02-24T09:46:43.563150Z",
     "iopub.status.idle": "2024-02-24T09:46:43.586922Z",
     "shell.execute_reply": "2024-02-24T09:46:43.585544Z"
    },
    "papermill": {
     "duration": 0.041441,
     "end_time": "2024-02-24T09:46:43.589890",
     "exception": false,
     "start_time": "2024-02-24T09:46:43.548449",
     "status": "completed"
    },
    "tags": []
   },
   "outputs": [
    {
     "data": {
      "text/html": [
       "<div>\n",
       "<style scoped>\n",
       "    .dataframe tbody tr th:only-of-type {\n",
       "        vertical-align: middle;\n",
       "    }\n",
       "\n",
       "    .dataframe tbody tr th {\n",
       "        vertical-align: top;\n",
       "    }\n",
       "\n",
       "    .dataframe thead th {\n",
       "        text-align: right;\n",
       "    }\n",
       "</style>\n",
       "<table border=\"1\" class=\"dataframe\">\n",
       "  <thead>\n",
       "    <tr style=\"text-align: right;\">\n",
       "      <th></th>\n",
       "      <th>Age</th>\n",
       "      <th>Height</th>\n",
       "      <th>Weight</th>\n",
       "      <th>FCVC</th>\n",
       "      <th>NCP</th>\n",
       "      <th>CH2O</th>\n",
       "      <th>FAF</th>\n",
       "      <th>TUE</th>\n",
       "      <th>BMI</th>\n",
       "    </tr>\n",
       "    <tr>\n",
       "      <th>id</th>\n",
       "      <th></th>\n",
       "      <th></th>\n",
       "      <th></th>\n",
       "      <th></th>\n",
       "      <th></th>\n",
       "      <th></th>\n",
       "      <th></th>\n",
       "      <th></th>\n",
       "      <th></th>\n",
       "    </tr>\n",
       "  </thead>\n",
       "  <tbody>\n",
       "    <tr>\n",
       "      <th>0</th>\n",
       "      <td>24.443011</td>\n",
       "      <td>1.699998</td>\n",
       "      <td>81.669950</td>\n",
       "      <td>2.000000</td>\n",
       "      <td>2.983297</td>\n",
       "      <td>2.763573</td>\n",
       "      <td>0.000000</td>\n",
       "      <td>0.976473</td>\n",
       "      <td>28.259565</td>\n",
       "    </tr>\n",
       "    <tr>\n",
       "      <th>1</th>\n",
       "      <td>18.000000</td>\n",
       "      <td>1.560000</td>\n",
       "      <td>57.000000</td>\n",
       "      <td>2.000000</td>\n",
       "      <td>3.000000</td>\n",
       "      <td>2.000000</td>\n",
       "      <td>1.000000</td>\n",
       "      <td>1.000000</td>\n",
       "      <td>23.422091</td>\n",
       "    </tr>\n",
       "    <tr>\n",
       "      <th>2</th>\n",
       "      <td>18.000000</td>\n",
       "      <td>1.711460</td>\n",
       "      <td>50.165754</td>\n",
       "      <td>1.880534</td>\n",
       "      <td>1.411685</td>\n",
       "      <td>1.910378</td>\n",
       "      <td>0.866045</td>\n",
       "      <td>1.673584</td>\n",
       "      <td>17.126706</td>\n",
       "    </tr>\n",
       "    <tr>\n",
       "      <th>3</th>\n",
       "      <td>20.952737</td>\n",
       "      <td>1.710730</td>\n",
       "      <td>131.274851</td>\n",
       "      <td>3.000000</td>\n",
       "      <td>3.000000</td>\n",
       "      <td>1.674061</td>\n",
       "      <td>1.467863</td>\n",
       "      <td>0.780199</td>\n",
       "      <td>44.855798</td>\n",
       "    </tr>\n",
       "    <tr>\n",
       "      <th>4</th>\n",
       "      <td>31.641081</td>\n",
       "      <td>1.914186</td>\n",
       "      <td>93.798055</td>\n",
       "      <td>2.679664</td>\n",
       "      <td>1.971472</td>\n",
       "      <td>1.979848</td>\n",
       "      <td>1.967973</td>\n",
       "      <td>0.931721</td>\n",
       "      <td>25.599151</td>\n",
       "    </tr>\n",
       "    <tr>\n",
       "      <th>...</th>\n",
       "      <td>...</td>\n",
       "      <td>...</td>\n",
       "      <td>...</td>\n",
       "      <td>...</td>\n",
       "      <td>...</td>\n",
       "      <td>...</td>\n",
       "      <td>...</td>\n",
       "      <td>...</td>\n",
       "      <td>...</td>\n",
       "    </tr>\n",
       "    <tr>\n",
       "      <th>20753</th>\n",
       "      <td>25.137087</td>\n",
       "      <td>1.766626</td>\n",
       "      <td>114.187096</td>\n",
       "      <td>2.919584</td>\n",
       "      <td>3.000000</td>\n",
       "      <td>2.151809</td>\n",
       "      <td>1.330519</td>\n",
       "      <td>0.196680</td>\n",
       "      <td>36.587084</td>\n",
       "    </tr>\n",
       "    <tr>\n",
       "      <th>20754</th>\n",
       "      <td>18.000000</td>\n",
       "      <td>1.710000</td>\n",
       "      <td>50.000000</td>\n",
       "      <td>3.000000</td>\n",
       "      <td>4.000000</td>\n",
       "      <td>1.000000</td>\n",
       "      <td>2.000000</td>\n",
       "      <td>1.000000</td>\n",
       "      <td>17.099278</td>\n",
       "    </tr>\n",
       "    <tr>\n",
       "      <th>20755</th>\n",
       "      <td>20.101026</td>\n",
       "      <td>1.819557</td>\n",
       "      <td>105.580491</td>\n",
       "      <td>2.407817</td>\n",
       "      <td>3.000000</td>\n",
       "      <td>2.000000</td>\n",
       "      <td>1.158040</td>\n",
       "      <td>1.198439</td>\n",
       "      <td>31.889841</td>\n",
       "    </tr>\n",
       "    <tr>\n",
       "      <th>20756</th>\n",
       "      <td>33.852953</td>\n",
       "      <td>1.700000</td>\n",
       "      <td>83.520113</td>\n",
       "      <td>2.671238</td>\n",
       "      <td>1.971472</td>\n",
       "      <td>2.144838</td>\n",
       "      <td>0.000000</td>\n",
       "      <td>0.973834</td>\n",
       "      <td>28.899693</td>\n",
       "    </tr>\n",
       "    <tr>\n",
       "      <th>20757</th>\n",
       "      <td>26.680376</td>\n",
       "      <td>1.816547</td>\n",
       "      <td>118.134898</td>\n",
       "      <td>3.000000</td>\n",
       "      <td>3.000000</td>\n",
       "      <td>2.003563</td>\n",
       "      <td>0.684487</td>\n",
       "      <td>0.713823</td>\n",
       "      <td>35.800157</td>\n",
       "    </tr>\n",
       "  </tbody>\n",
       "</table>\n",
       "<p>20758 rows × 9 columns</p>\n",
       "</div>"
      ],
      "text/plain": [
       "             Age    Height      Weight      FCVC       NCP      CH2O  \\\n",
       "id                                                                     \n",
       "0      24.443011  1.699998   81.669950  2.000000  2.983297  2.763573   \n",
       "1      18.000000  1.560000   57.000000  2.000000  3.000000  2.000000   \n",
       "2      18.000000  1.711460   50.165754  1.880534  1.411685  1.910378   \n",
       "3      20.952737  1.710730  131.274851  3.000000  3.000000  1.674061   \n",
       "4      31.641081  1.914186   93.798055  2.679664  1.971472  1.979848   \n",
       "...          ...       ...         ...       ...       ...       ...   \n",
       "20753  25.137087  1.766626  114.187096  2.919584  3.000000  2.151809   \n",
       "20754  18.000000  1.710000   50.000000  3.000000  4.000000  1.000000   \n",
       "20755  20.101026  1.819557  105.580491  2.407817  3.000000  2.000000   \n",
       "20756  33.852953  1.700000   83.520113  2.671238  1.971472  2.144838   \n",
       "20757  26.680376  1.816547  118.134898  3.000000  3.000000  2.003563   \n",
       "\n",
       "            FAF       TUE        BMI  \n",
       "id                                    \n",
       "0      0.000000  0.976473  28.259565  \n",
       "1      1.000000  1.000000  23.422091  \n",
       "2      0.866045  1.673584  17.126706  \n",
       "3      1.467863  0.780199  44.855798  \n",
       "4      1.967973  0.931721  25.599151  \n",
       "...         ...       ...        ...  \n",
       "20753  1.330519  0.196680  36.587084  \n",
       "20754  2.000000  1.000000  17.099278  \n",
       "20755  1.158040  1.198439  31.889841  \n",
       "20756  0.000000  0.973834  28.899693  \n",
       "20757  0.684487  0.713823  35.800157  \n",
       "\n",
       "[20758 rows x 9 columns]"
      ]
     },
     "execution_count": 4,
     "metadata": {},
     "output_type": "execute_result"
    }
   ],
   "source": [
    "mask_numeric = features.dtypes == float\n",
    "df_numerical = features.loc[:, mask_numeric]\n",
    "\n",
    "df_numerical"
   ]
  },
  {
   "cell_type": "code",
   "execution_count": 5,
   "id": "5cb20d2b",
   "metadata": {
    "execution": {
     "iopub.execute_input": "2024-02-24T09:46:43.620101Z",
     "iopub.status.busy": "2024-02-24T09:46:43.619602Z",
     "iopub.status.idle": "2024-02-24T09:46:45.932195Z",
     "shell.execute_reply": "2024-02-24T09:46:45.930744Z"
    },
    "papermill": {
     "duration": 2.330631,
     "end_time": "2024-02-24T09:46:45.935134",
     "exception": false,
     "start_time": "2024-02-24T09:46:43.604503",
     "status": "completed"
    },
    "tags": []
   },
   "outputs": [
    {
     "data": {
      "image/png": "[encoded data removed]",
      "text/plain": [
       "<Figure size 1000x500 with 2 Axes>"
      ]
     },
     "metadata": {},
     "output_type": "display_data"
    }
   ],
   "source": [
    "corr_numerical = df_numerical.corr()\n",
    "\n",
    "import seaborn as sns\n",
    "\n",
    "plt.figure(figsize=(10, 5))\n",
    "sns.heatmap(corr_numerical, annot=True, cmap=\"OrRd\", fmt='.3f', cbar=True, vmin=-1, vmax=1)\n",
    "plt.show()"
   ]
  },
  {
   "cell_type": "markdown",
   "id": "031e065f",
   "metadata": {
    "papermill": {
     "duration": 0.013935,
     "end_time": "2024-02-24T09:46:45.963541",
     "exception": false,
     "start_time": "2024-02-24T09:46:45.949606",
     "status": "completed"
    },
    "tags": []
   },
   "source": [
    "### Categorical DataFrame"
   ]
  },
  {
   "cell_type": "code",
   "execution_count": 6,
   "id": "cf5d9c68",
   "metadata": {
    "execution": {
     "iopub.execute_input": "2024-02-24T09:46:45.997654Z",
     "iopub.status.busy": "2024-02-24T09:46:45.996394Z",
     "iopub.status.idle": "2024-02-24T09:46:46.031056Z",
     "shell.execute_reply": "2024-02-24T09:46:46.029758Z"
    },
    "papermill": {
     "duration": 0.054377,
     "end_time": "2024-02-24T09:46:46.034287",
     "exception": false,
     "start_time": "2024-02-24T09:46:45.979910",
     "status": "completed"
    },
    "tags": []
   },
   "outputs": [
    {
     "name": "stdout",
     "output_type": "stream",
     "text": [
      "Gender\n",
      "Female    10422\n",
      "Male      10336\n",
      "Name: count, dtype: int64\n",
      "family_history_with_overweight\n",
      "yes    17014\n",
      "no      3744\n",
      "Name: count, dtype: int64\n",
      "FAVC\n",
      "yes    18982\n",
      "no      1776\n",
      "Name: count, dtype: int64\n",
      "CAEC\n",
      "Sometimes     17529\n",
      "Frequently     2472\n",
      "Always          478\n",
      "no              279\n",
      "Name: count, dtype: int64\n",
      "SMOKE\n",
      "no     20513\n",
      "yes      245\n",
      "Name: count, dtype: int64\n",
      "SCC\n",
      "no     20071\n",
      "yes      687\n",
      "Name: count, dtype: int64\n",
      "CALC\n",
      "Sometimes     15066\n",
      "no             5163\n",
      "Frequently      529\n",
      "Name: count, dtype: int64\n",
      "MTRANS\n",
      "Public_Transportation    16687\n",
      "Automobile                3534\n",
      "Walking                    467\n",
      "Motorbike                   38\n",
      "Bike                        32\n",
      "Name: count, dtype: int64\n"
     ]
    }
   ],
   "source": [
    "mask_categorical = features.dtypes != float\n",
    "df_categorical = features.loc[:, mask_categorical]\n",
    "\n",
    "for i in range(df_categorical.shape[1]):\n",
    "    print(df_categorical.iloc[:, i].value_counts())"
   ]
  },
  {
   "cell_type": "code",
   "execution_count": 7,
   "id": "9f41f29f",
   "metadata": {
    "execution": {
     "iopub.execute_input": "2024-02-24T09:46:46.071230Z",
     "iopub.status.busy": "2024-02-24T09:46:46.070421Z",
     "iopub.status.idle": "2024-02-24T09:46:46.135237Z",
     "shell.execute_reply": "2024-02-24T09:46:46.132839Z"
    },
    "papermill": {
     "duration": 0.087989,
     "end_time": "2024-02-24T09:46:46.138447",
     "exception": false,
     "start_time": "2024-02-24T09:46:46.050458",
     "status": "completed"
    },
    "tags": []
   },
   "outputs": [
    {
     "data": {
      "text/html": [
       "<div>\n",
       "<style scoped>\n",
       "    .dataframe tbody tr th:only-of-type {\n",
       "        vertical-align: middle;\n",
       "    }\n",
       "\n",
       "    .dataframe tbody tr th {\n",
       "        vertical-align: top;\n",
       "    }\n",
       "\n",
       "    .dataframe thead th {\n",
       "        text-align: right;\n",
       "    }\n",
       "</style>\n",
       "<table border=\"1\" class=\"dataframe\">\n",
       "  <thead>\n",
       "    <tr style=\"text-align: right;\">\n",
       "      <th></th>\n",
       "      <th>Gender</th>\n",
       "      <th>family_history_with_overweight</th>\n",
       "      <th>FAVC</th>\n",
       "      <th>CAEC</th>\n",
       "      <th>SMOKE</th>\n",
       "      <th>SCC</th>\n",
       "      <th>CALC</th>\n",
       "      <th>Automobile</th>\n",
       "      <th>Bike</th>\n",
       "      <th>Motorbike</th>\n",
       "      <th>Public_Transportation</th>\n",
       "    </tr>\n",
       "    <tr>\n",
       "      <th>id</th>\n",
       "      <th></th>\n",
       "      <th></th>\n",
       "      <th></th>\n",
       "      <th></th>\n",
       "      <th></th>\n",
       "      <th></th>\n",
       "      <th></th>\n",
       "      <th></th>\n",
       "      <th></th>\n",
       "      <th></th>\n",
       "      <th></th>\n",
       "    </tr>\n",
       "  </thead>\n",
       "  <tbody>\n",
       "    <tr>\n",
       "      <th>0</th>\n",
       "      <td>0</td>\n",
       "      <td>1</td>\n",
       "      <td>1</td>\n",
       "      <td>1</td>\n",
       "      <td>0</td>\n",
       "      <td>0</td>\n",
       "      <td>1</td>\n",
       "      <td>0</td>\n",
       "      <td>0</td>\n",
       "      <td>0</td>\n",
       "      <td>1</td>\n",
       "    </tr>\n",
       "    <tr>\n",
       "      <th>1</th>\n",
       "      <td>1</td>\n",
       "      <td>1</td>\n",
       "      <td>1</td>\n",
       "      <td>2</td>\n",
       "      <td>0</td>\n",
       "      <td>0</td>\n",
       "      <td>0</td>\n",
       "      <td>1</td>\n",
       "      <td>0</td>\n",
       "      <td>0</td>\n",
       "      <td>0</td>\n",
       "    </tr>\n",
       "    <tr>\n",
       "      <th>2</th>\n",
       "      <td>1</td>\n",
       "      <td>1</td>\n",
       "      <td>1</td>\n",
       "      <td>1</td>\n",
       "      <td>0</td>\n",
       "      <td>0</td>\n",
       "      <td>0</td>\n",
       "      <td>0</td>\n",
       "      <td>0</td>\n",
       "      <td>0</td>\n",
       "      <td>1</td>\n",
       "    </tr>\n",
       "    <tr>\n",
       "      <th>3</th>\n",
       "      <td>1</td>\n",
       "      <td>1</td>\n",
       "      <td>1</td>\n",
       "      <td>1</td>\n",
       "      <td>0</td>\n",
       "      <td>0</td>\n",
       "      <td>1</td>\n",
       "      <td>0</td>\n",
       "      <td>0</td>\n",
       "      <td>0</td>\n",
       "      <td>1</td>\n",
       "    </tr>\n",
       "    <tr>\n",
       "      <th>4</th>\n",
       "      <td>0</td>\n",
       "      <td>1</td>\n",
       "      <td>1</td>\n",
       "      <td>1</td>\n",
       "      <td>0</td>\n",
       "      <td>0</td>\n",
       "      <td>1</td>\n",
       "      <td>0</td>\n",
       "      <td>0</td>\n",
       "      <td>0</td>\n",
       "      <td>1</td>\n",
       "    </tr>\n",
       "    <tr>\n",
       "      <th>...</th>\n",
       "      <td>...</td>\n",
       "      <td>...</td>\n",
       "      <td>...</td>\n",
       "      <td>...</td>\n",
       "      <td>...</td>\n",
       "      <td>...</td>\n",
       "      <td>...</td>\n",
       "      <td>...</td>\n",
       "      <td>...</td>\n",
       "      <td>...</td>\n",
       "      <td>...</td>\n",
       "    </tr>\n",
       "    <tr>\n",
       "      <th>20753</th>\n",
       "      <td>0</td>\n",
       "      <td>1</td>\n",
       "      <td>1</td>\n",
       "      <td>1</td>\n",
       "      <td>0</td>\n",
       "      <td>0</td>\n",
       "      <td>1</td>\n",
       "      <td>0</td>\n",
       "      <td>0</td>\n",
       "      <td>0</td>\n",
       "      <td>1</td>\n",
       "    </tr>\n",
       "    <tr>\n",
       "      <th>20754</th>\n",
       "      <td>0</td>\n",
       "      <td>0</td>\n",
       "      <td>1</td>\n",
       "      <td>2</td>\n",
       "      <td>0</td>\n",
       "      <td>0</td>\n",
       "      <td>1</td>\n",
       "      <td>0</td>\n",
       "      <td>0</td>\n",
       "      <td>0</td>\n",
       "      <td>1</td>\n",
       "    </tr>\n",
       "    <tr>\n",
       "      <th>20755</th>\n",
       "      <td>0</td>\n",
       "      <td>1</td>\n",
       "      <td>1</td>\n",
       "      <td>1</td>\n",
       "      <td>0</td>\n",
       "      <td>0</td>\n",
       "      <td>0</td>\n",
       "      <td>0</td>\n",
       "      <td>0</td>\n",
       "      <td>0</td>\n",
       "      <td>1</td>\n",
       "    </tr>\n",
       "    <tr>\n",
       "      <th>20756</th>\n",
       "      <td>0</td>\n",
       "      <td>1</td>\n",
       "      <td>1</td>\n",
       "      <td>1</td>\n",
       "      <td>0</td>\n",
       "      <td>0</td>\n",
       "      <td>0</td>\n",
       "      <td>1</td>\n",
       "      <td>0</td>\n",
       "      <td>0</td>\n",
       "      <td>0</td>\n",
       "    </tr>\n",
       "    <tr>\n",
       "      <th>20757</th>\n",
       "      <td>0</td>\n",
       "      <td>1</td>\n",
       "      <td>1</td>\n",
       "      <td>1</td>\n",
       "      <td>0</td>\n",
       "      <td>0</td>\n",
       "      <td>1</td>\n",
       "      <td>0</td>\n",
       "      <td>0</td>\n",
       "      <td>0</td>\n",
       "      <td>1</td>\n",
       "    </tr>\n",
       "  </tbody>\n",
       "</table>\n",
       "<p>20758 rows × 11 columns</p>\n",
       "</div>"
      ],
      "text/plain": [
       "       Gender  family_history_with_overweight  FAVC  CAEC  SMOKE  SCC  CALC  \\\n",
       "id                                                                            \n",
       "0           0                               1     1     1      0    0     1   \n",
       "1           1                               1     1     2      0    0     0   \n",
       "2           1                               1     1     1      0    0     0   \n",
       "3           1                               1     1     1      0    0     1   \n",
       "4           0                               1     1     1      0    0     1   \n",
       "...       ...                             ...   ...   ...    ...  ...   ...   \n",
       "20753       0                               1     1     1      0    0     1   \n",
       "20754       0                               0     1     2      0    0     1   \n",
       "20755       0                               1     1     1      0    0     0   \n",
       "20756       0                               1     1     1      0    0     0   \n",
       "20757       0                               1     1     1      0    0     1   \n",
       "\n",
       "       Automobile  Bike  Motorbike  Public_Transportation  \n",
       "id                                                         \n",
       "0               0     0          0                      1  \n",
       "1               1     0          0                      0  \n",
       "2               0     0          0                      1  \n",
       "3               0     0          0                      1  \n",
       "4               0     0          0                      1  \n",
       "...           ...   ...        ...                    ...  \n",
       "20753           0     0          0                      1  \n",
       "20754           0     0          0                      1  \n",
       "20755           0     0          0                      1  \n",
       "20756           1     0          0                      0  \n",
       "20757           0     0          0                      1  \n",
       "\n",
       "[20758 rows x 11 columns]"
      ]
     },
     "execution_count": 7,
     "metadata": {},
     "output_type": "execute_result"
    }
   ],
   "source": [
    "df_encoded = df_categorical.copy(deep=True)\n",
    "\n",
    "# label encoding\n",
    "df_encoded['Gender'] = df_categorical['Gender'].map({'Male':0, 'Female':1})\n",
    "df_encoded['family_history_with_overweight'] = df_categorical['family_history_with_overweight'].map({'no':0, 'yes':1})\n",
    "df_encoded['FAVC'] = df_categorical['FAVC'].map({'no':0, 'yes':1})\n",
    "df_encoded['CAEC'] = df_categorical['CAEC'].map({'no':0, 'Sometimes':1, 'Frequently':2, 'Always':3})\n",
    "df_encoded['SMOKE'] = df_categorical['SMOKE'].map({'no':0, 'yes':1})\n",
    "df_encoded['SCC'] = df_categorical['SCC'].map({'no':0, 'yes':1})\n",
    "df_encoded['CALC'] = df_categorical['CALC'].map({'no':0, 'Sometimes':1, 'Frequently':2, 'Always':3})\n",
    "\n",
    "\n",
    "df_onehot = pd.get_dummies(df_categorical['MTRANS']).astype(int)\n",
    "df_encoded.drop('MTRANS', axis=1, inplace=True)\n",
    "\n",
    "\n",
    "# concatenate\n",
    "# one feature of df_encoded is redundant; we can remove it\n",
    "df_encoded = pd.concat([df_encoded, df_onehot.iloc[:, 0:-1]], axis=1)\n",
    "\n",
    "df_encoded"
   ]
  },
  {
   "cell_type": "markdown",
   "id": "24b49a9f",
   "metadata": {
    "papermill": {
     "duration": 0.016915,
     "end_time": "2024-02-24T09:46:46.172844",
     "exception": false,
     "start_time": "2024-02-24T09:46:46.155929",
     "status": "completed"
    },
    "tags": []
   },
   "source": [
    "### Concatenate all features together"
   ]
  },
  {
   "cell_type": "code",
   "execution_count": 8,
   "id": "d74c343a",
   "metadata": {
    "execution": {
     "iopub.execute_input": "2024-02-24T09:46:46.207457Z",
     "iopub.status.busy": "2024-02-24T09:46:46.207007Z",
     "iopub.status.idle": "2024-02-24T09:46:46.241519Z",
     "shell.execute_reply": "2024-02-24T09:46:46.240221Z"
    },
    "papermill": {
     "duration": 0.055455,
     "end_time": "2024-02-24T09:46:46.244204",
     "exception": false,
     "start_time": "2024-02-24T09:46:46.188749",
     "status": "completed"
    },
    "tags": []
   },
   "outputs": [
    {
     "data": {
      "text/html": [
       "<div>\n",
       "<style scoped>\n",
       "    .dataframe tbody tr th:only-of-type {\n",
       "        vertical-align: middle;\n",
       "    }\n",
       "\n",
       "    .dataframe tbody tr th {\n",
       "        vertical-align: top;\n",
       "    }\n",
       "\n",
       "    .dataframe thead th {\n",
       "        text-align: right;\n",
       "    }\n",
       "</style>\n",
       "<table border=\"1\" class=\"dataframe\">\n",
       "  <thead>\n",
       "    <tr style=\"text-align: right;\">\n",
       "      <th></th>\n",
       "      <th>Age</th>\n",
       "      <th>Height</th>\n",
       "      <th>Weight</th>\n",
       "      <th>FCVC</th>\n",
       "      <th>NCP</th>\n",
       "      <th>CH2O</th>\n",
       "      <th>FAF</th>\n",
       "      <th>TUE</th>\n",
       "      <th>BMI</th>\n",
       "      <th>Gender</th>\n",
       "      <th>family_history_with_overweight</th>\n",
       "      <th>FAVC</th>\n",
       "      <th>CAEC</th>\n",
       "      <th>SMOKE</th>\n",
       "      <th>SCC</th>\n",
       "      <th>CALC</th>\n",
       "      <th>Automobile</th>\n",
       "      <th>Bike</th>\n",
       "      <th>Motorbike</th>\n",
       "      <th>Public_Transportation</th>\n",
       "    </tr>\n",
       "    <tr>\n",
       "      <th>id</th>\n",
       "      <th></th>\n",
       "      <th></th>\n",
       "      <th></th>\n",
       "      <th></th>\n",
       "      <th></th>\n",
       "      <th></th>\n",
       "      <th></th>\n",
       "      <th></th>\n",
       "      <th></th>\n",
       "      <th></th>\n",
       "      <th></th>\n",
       "      <th></th>\n",
       "      <th></th>\n",
       "      <th></th>\n",
       "      <th></th>\n",
       "      <th></th>\n",
       "      <th></th>\n",
       "      <th></th>\n",
       "      <th></th>\n",
       "      <th></th>\n",
       "    </tr>\n",
       "  </thead>\n",
       "  <tbody>\n",
       "    <tr>\n",
       "      <th>0</th>\n",
       "      <td>24.443011</td>\n",
       "      <td>1.699998</td>\n",
       "      <td>81.669950</td>\n",
       "      <td>2.000000</td>\n",
       "      <td>2.983297</td>\n",
       "      <td>2.763573</td>\n",
       "      <td>0.000000</td>\n",
       "      <td>0.976473</td>\n",
       "      <td>28.259565</td>\n",
       "      <td>0</td>\n",
       "      <td>1</td>\n",
       "      <td>1</td>\n",
       "      <td>1</td>\n",
       "      <td>0</td>\n",
       "      <td>0</td>\n",
       "      <td>1</td>\n",
       "      <td>0</td>\n",
       "      <td>0</td>\n",
       "      <td>0</td>\n",
       "      <td>1</td>\n",
       "    </tr>\n",
       "    <tr>\n",
       "      <th>1</th>\n",
       "      <td>18.000000</td>\n",
       "      <td>1.560000</td>\n",
       "      <td>57.000000</td>\n",
       "      <td>2.000000</td>\n",
       "      <td>3.000000</td>\n",
       "      <td>2.000000</td>\n",
       "      <td>1.000000</td>\n",
       "      <td>1.000000</td>\n",
       "      <td>23.422091</td>\n",
       "      <td>1</td>\n",
       "      <td>1</td>\n",
       "      <td>1</td>\n",
       "      <td>2</td>\n",
       "      <td>0</td>\n",
       "      <td>0</td>\n",
       "      <td>0</td>\n",
       "      <td>1</td>\n",
       "      <td>0</td>\n",
       "      <td>0</td>\n",
       "      <td>0</td>\n",
       "    </tr>\n",
       "    <tr>\n",
       "      <th>2</th>\n",
       "      <td>18.000000</td>\n",
       "      <td>1.711460</td>\n",
       "      <td>50.165754</td>\n",
       "      <td>1.880534</td>\n",
       "      <td>1.411685</td>\n",
       "      <td>1.910378</td>\n",
       "      <td>0.866045</td>\n",
       "      <td>1.673584</td>\n",
       "      <td>17.126706</td>\n",
       "      <td>1</td>\n",
       "      <td>1</td>\n",
       "      <td>1</td>\n",
       "      <td>1</td>\n",
       "      <td>0</td>\n",
       "      <td>0</td>\n",
       "      <td>0</td>\n",
       "      <td>0</td>\n",
       "      <td>0</td>\n",
       "      <td>0</td>\n",
       "      <td>1</td>\n",
       "    </tr>\n",
       "    <tr>\n",
       "      <th>3</th>\n",
       "      <td>20.952737</td>\n",
       "      <td>1.710730</td>\n",
       "      <td>131.274851</td>\n",
       "      <td>3.000000</td>\n",
       "      <td>3.000000</td>\n",
       "      <td>1.674061</td>\n",
       "      <td>1.467863</td>\n",
       "      <td>0.780199</td>\n",
       "      <td>44.855798</td>\n",
       "      <td>1</td>\n",
       "      <td>1</td>\n",
       "      <td>1</td>\n",
       "      <td>1</td>\n",
       "      <td>0</td>\n",
       "      <td>0</td>\n",
       "      <td>1</td>\n",
       "      <td>0</td>\n",
       "      <td>0</td>\n",
       "      <td>0</td>\n",
       "      <td>1</td>\n",
       "    </tr>\n",
       "    <tr>\n",
       "      <th>4</th>\n",
       "      <td>31.641081</td>\n",
       "      <td>1.914186</td>\n",
       "      <td>93.798055</td>\n",
       "      <td>2.679664</td>\n",
       "      <td>1.971472</td>\n",
       "      <td>1.979848</td>\n",
       "      <td>1.967973</td>\n",
       "      <td>0.931721</td>\n",
       "      <td>25.599151</td>\n",
       "      <td>0</td>\n",
       "      <td>1</td>\n",
       "      <td>1</td>\n",
       "      <td>1</td>\n",
       "      <td>0</td>\n",
       "      <td>0</td>\n",
       "      <td>1</td>\n",
       "      <td>0</td>\n",
       "      <td>0</td>\n",
       "      <td>0</td>\n",
       "      <td>1</td>\n",
       "    </tr>\n",
       "    <tr>\n",
       "      <th>...</th>\n",
       "      <td>...</td>\n",
       "      <td>...</td>\n",
       "      <td>...</td>\n",
       "      <td>...</td>\n",
       "      <td>...</td>\n",
       "      <td>...</td>\n",
       "      <td>...</td>\n",
       "      <td>...</td>\n",
       "      <td>...</td>\n",
       "      <td>...</td>\n",
       "      <td>...</td>\n",
       "      <td>...</td>\n",
       "      <td>...</td>\n",
       "      <td>...</td>\n",
       "      <td>...</td>\n",
       "      <td>...</td>\n",
       "      <td>...</td>\n",
       "      <td>...</td>\n",
       "      <td>...</td>\n",
       "      <td>...</td>\n",
       "    </tr>\n",
       "    <tr>\n",
       "      <th>20753</th>\n",
       "      <td>25.137087</td>\n",
       "      <td>1.766626</td>\n",
       "      <td>114.187096</td>\n",
       "      <td>2.919584</td>\n",
       "      <td>3.000000</td>\n",
       "      <td>2.151809</td>\n",
       "      <td>1.330519</td>\n",
       "      <td>0.196680</td>\n",
       "      <td>36.587084</td>\n",
       "      <td>0</td>\n",
       "      <td>1</td>\n",
       "      <td>1</td>\n",
       "      <td>1</td>\n",
       "      <td>0</td>\n",
       "      <td>0</td>\n",
       "      <td>1</td>\n",
       "      <td>0</td>\n",
       "      <td>0</td>\n",
       "      <td>0</td>\n",
       "      <td>1</td>\n",
       "    </tr>\n",
       "    <tr>\n",
       "      <th>20754</th>\n",
       "      <td>18.000000</td>\n",
       "      <td>1.710000</td>\n",
       "      <td>50.000000</td>\n",
       "      <td>3.000000</td>\n",
       "      <td>4.000000</td>\n",
       "      <td>1.000000</td>\n",
       "      <td>2.000000</td>\n",
       "      <td>1.000000</td>\n",
       "      <td>17.099278</td>\n",
       "      <td>0</td>\n",
       "      <td>0</td>\n",
       "      <td>1</td>\n",
       "      <td>2</td>\n",
       "      <td>0</td>\n",
       "      <td>0</td>\n",
       "      <td>1</td>\n",
       "      <td>0</td>\n",
       "      <td>0</td>\n",
       "      <td>0</td>\n",
       "      <td>1</td>\n",
       "    </tr>\n",
       "    <tr>\n",
       "      <th>20755</th>\n",
       "      <td>20.101026</td>\n",
       "      <td>1.819557</td>\n",
       "      <td>105.580491</td>\n",
       "      <td>2.407817</td>\n",
       "      <td>3.000000</td>\n",
       "      <td>2.000000</td>\n",
       "      <td>1.158040</td>\n",
       "      <td>1.198439</td>\n",
       "      <td>31.889841</td>\n",
       "      <td>0</td>\n",
       "      <td>1</td>\n",
       "      <td>1</td>\n",
       "      <td>1</td>\n",
       "      <td>0</td>\n",
       "      <td>0</td>\n",
       "      <td>0</td>\n",
       "      <td>0</td>\n",
       "      <td>0</td>\n",
       "      <td>0</td>\n",
       "      <td>1</td>\n",
       "    </tr>\n",
       "    <tr>\n",
       "      <th>20756</th>\n",
       "      <td>33.852953</td>\n",
       "      <td>1.700000</td>\n",
       "      <td>83.520113</td>\n",
       "      <td>2.671238</td>\n",
       "      <td>1.971472</td>\n",
       "      <td>2.144838</td>\n",
       "      <td>0.000000</td>\n",
       "      <td>0.973834</td>\n",
       "      <td>28.899693</td>\n",
       "      <td>0</td>\n",
       "      <td>1</td>\n",
       "      <td>1</td>\n",
       "      <td>1</td>\n",
       "      <td>0</td>\n",
       "      <td>0</td>\n",
       "      <td>0</td>\n",
       "      <td>1</td>\n",
       "      <td>0</td>\n",
       "      <td>0</td>\n",
       "      <td>0</td>\n",
       "    </tr>\n",
       "    <tr>\n",
       "      <th>20757</th>\n",
       "      <td>26.680376</td>\n",
       "      <td>1.816547</td>\n",
       "      <td>118.134898</td>\n",
       "      <td>3.000000</td>\n",
       "      <td>3.000000</td>\n",
       "      <td>2.003563</td>\n",
       "      <td>0.684487</td>\n",
       "      <td>0.713823</td>\n",
       "      <td>35.800157</td>\n",
       "      <td>0</td>\n",
       "      <td>1</td>\n",
       "      <td>1</td>\n",
       "      <td>1</td>\n",
       "      <td>0</td>\n",
       "      <td>0</td>\n",
       "      <td>1</td>\n",
       "      <td>0</td>\n",
       "      <td>0</td>\n",
       "      <td>0</td>\n",
       "      <td>1</td>\n",
       "    </tr>\n",
       "  </tbody>\n",
       "</table>\n",
       "<p>20758 rows × 20 columns</p>\n",
       "</div>"
      ],
      "text/plain": [
       "             Age    Height      Weight      FCVC       NCP      CH2O  \\\n",
       "id                                                                     \n",
       "0      24.443011  1.699998   81.669950  2.000000  2.983297  2.763573   \n",
       "1      18.000000  1.560000   57.000000  2.000000  3.000000  2.000000   \n",
       "2      18.000000  1.711460   50.165754  1.880534  1.411685  1.910378   \n",
       "3      20.952737  1.710730  131.274851  3.000000  3.000000  1.674061   \n",
       "4      31.641081  1.914186   93.798055  2.679664  1.971472  1.979848   \n",
       "...          ...       ...         ...       ...       ...       ...   \n",
       "20753  25.137087  1.766626  114.187096  2.919584  3.000000  2.151809   \n",
       "20754  18.000000  1.710000   50.000000  3.000000  4.000000  1.000000   \n",
       "20755  20.101026  1.819557  105.580491  2.407817  3.000000  2.000000   \n",
       "20756  33.852953  1.700000   83.520113  2.671238  1.971472  2.144838   \n",
       "20757  26.680376  1.816547  118.134898  3.000000  3.000000  2.003563   \n",
       "\n",
       "            FAF       TUE        BMI  Gender  family_history_with_overweight  \\\n",
       "id                                                                             \n",
       "0      0.000000  0.976473  28.259565       0                               1   \n",
       "1      1.000000  1.000000  23.422091       1                               1   \n",
       "2      0.866045  1.673584  17.126706       1                               1   \n",
       "3      1.467863  0.780199  44.855798       1                               1   \n",
       "4      1.967973  0.931721  25.599151       0                               1   \n",
       "...         ...       ...        ...     ...                             ...   \n",
       "20753  1.330519  0.196680  36.587084       0                               1   \n",
       "20754  2.000000  1.000000  17.099278       0                               0   \n",
       "20755  1.158040  1.198439  31.889841       0                               1   \n",
       "20756  0.000000  0.973834  28.899693       0                               1   \n",
       "20757  0.684487  0.713823  35.800157       0                               1   \n",
       "\n",
       "       FAVC  CAEC  SMOKE  SCC  CALC  Automobile  Bike  Motorbike  \\\n",
       "id                                                                 \n",
       "0         1     1      0    0     1           0     0          0   \n",
       "1         1     2      0    0     0           1     0          0   \n",
       "2         1     1      0    0     0           0     0          0   \n",
       "3         1     1      0    0     1           0     0          0   \n",
       "4         1     1      0    0     1           0     0          0   \n",
       "...     ...   ...    ...  ...   ...         ...   ...        ...   \n",
       "20753     1     1      0    0     1           0     0          0   \n",
       "20754     1     2      0    0     1           0     0          0   \n",
       "20755     1     1      0    0     0           0     0          0   \n",
       "20756     1     1      0    0     0           1     0          0   \n",
       "20757     1     1      0    0     1           0     0          0   \n",
       "\n",
       "       Public_Transportation  \n",
       "id                            \n",
       "0                          1  \n",
       "1                          0  \n",
       "2                          1  \n",
       "3                          1  \n",
       "4                          1  \n",
       "...                      ...  \n",
       "20753                      1  \n",
       "20754                      1  \n",
       "20755                      1  \n",
       "20756                      0  \n",
       "20757                      1  \n",
       "\n",
       "[20758 rows x 20 columns]"
      ]
     },
     "execution_count": 8,
     "metadata": {},
     "output_type": "execute_result"
    }
   ],
   "source": [
    "df_all_features = pd.concat([df_numerical, df_encoded], axis=1)\n",
    "\n",
    "df_all_features"
   ]
  },
  {
   "cell_type": "markdown",
   "id": "4e17d4c8",
   "metadata": {
    "papermill": {
     "duration": 0.015609,
     "end_time": "2024-02-24T09:46:46.274655",
     "exception": false,
     "start_time": "2024-02-24T09:46:46.259046",
     "status": "completed"
    },
    "tags": []
   },
   "source": [
    "### Define a pre-processing pipeline\n",
    "\n",
    "Let us summarize all the previous steps into a function, called `apply_preprocessing`"
   ]
  },
  {
   "cell_type": "code",
   "execution_count": 9,
   "id": "4a67bec0",
   "metadata": {
    "execution": {
     "iopub.execute_input": "2024-02-24T09:46:46.308683Z",
     "iopub.status.busy": "2024-02-24T09:46:46.308222Z",
     "iopub.status.idle": "2024-02-24T09:46:46.319180Z",
     "shell.execute_reply": "2024-02-24T09:46:46.317831Z"
    },
    "papermill": {
     "duration": 0.030513,
     "end_time": "2024-02-24T09:46:46.322011",
     "exception": false,
     "start_time": "2024-02-24T09:46:46.291498",
     "status": "completed"
    },
    "tags": []
   },
   "outputs": [],
   "source": [
    "def apply_preprocessing(data):\n",
    "    features = data.copy(deep=True)\n",
    "    \n",
    "    # numerical dataframe\n",
    "    mask_numeric = features.dtypes == float\n",
    "    df_numerical = features.loc[:, mask_numeric]\n",
    "    \n",
    "    # categorical dataframe\n",
    "    mask_categorical = features.dtypes != float\n",
    "    df_categorical = features.loc[:, mask_categorical]\n",
    "    \n",
    "    \n",
    "    # label encoding\n",
    "    df_encoded = df_categorical.copy(deep=True)\n",
    "    df_encoded['Gender'] = df_categorical['Gender'].map({'Male':0, 'Female':1})\n",
    "    df_encoded['family_history_with_overweight'] = df_categorical['family_history_with_overweight'].map({'no':0, 'yes':1})\n",
    "    df_encoded['FAVC'] = df_categorical['FAVC'].map({'no':0, 'yes':1})\n",
    "    df_encoded['CAEC'] = df_categorical['CAEC'].map({'no':0, 'Sometimes':1, 'Frequently':2, 'Always':3})\n",
    "    df_encoded['SMOKE'] = df_categorical['SMOKE'].map({'no':0, 'yes':1})\n",
    "    df_encoded['SCC'] = df_categorical['SCC'].map({'no':0, 'yes':1})\n",
    "    df_encoded['CALC'] = df_categorical['CALC'].map({'no':0, 'Sometimes':1, 'Frequently':2, 'Always':3})\n",
    "\n",
    "    \n",
    "    # one-hot encoding\n",
    "    df_onehot = pd.get_dummies(df_categorical['MTRANS']).astype(int)\n",
    "    df_encoded.drop('MTRANS', axis=1, inplace=True)\n",
    "\n",
    "    # concatenate\n",
    "    # one feature of df_encoded is redundant; we can remove it\n",
    "    df_encoded = pd.concat([df_encoded, df_onehot.iloc[:, 0:-1]], axis=1)\n",
    "    \n",
    "    df_all_features = pd.concat([df_numerical, df_encoded], axis=1)\n",
    "    \n",
    "    return df_all_features"
   ]
  },
  {
   "cell_type": "markdown",
   "id": "f49ae930",
   "metadata": {
    "papermill": {
     "duration": 0.01457,
     "end_time": "2024-02-24T09:46:46.353286",
     "exception": false,
     "start_time": "2024-02-24T09:46:46.338716",
     "status": "completed"
    },
    "tags": []
   },
   "source": [
    "### Compare train and test dataset\n",
    "The train dataset is that one that we will use to train the model. It has labels.\n",
    "\n",
    "The test dataset will be used to make predictions and submit them to the competition."
   ]
  },
  {
   "cell_type": "code",
   "execution_count": 10,
   "id": "9a059b41",
   "metadata": {
    "execution": {
     "iopub.execute_input": "2024-02-24T09:46:46.385152Z",
     "iopub.status.busy": "2024-02-24T09:46:46.384687Z",
     "iopub.status.idle": "2024-02-24T09:46:46.482940Z",
     "shell.execute_reply": "2024-02-24T09:46:46.480786Z"
    },
    "papermill": {
     "duration": 0.117584,
     "end_time": "2024-02-24T09:46:46.485798",
     "exception": false,
     "start_time": "2024-02-24T09:46:46.368214",
     "status": "completed"
    },
    "tags": []
   },
   "outputs": [
    {
     "name": "stdout",
     "output_type": "stream",
     "text": [
      "Train columns Index(['Age', 'Height', 'Weight', 'FCVC', 'NCP', 'CH2O', 'FAF', 'TUE', 'BMI',\n",
      "       'Gender', 'family_history_with_overweight', 'FAVC', 'CAEC', 'SMOKE',\n",
      "       'SCC', 'CALC', 'Automobile', 'Bike', 'Motorbike',\n",
      "       'Public_Transportation'],\n",
      "      dtype='object')\n",
      "Test columns Index(['Age', 'Height', 'Weight', 'FCVC', 'NCP', 'CH2O', 'FAF', 'TUE', 'BMI',\n",
      "       'Gender', 'family_history_with_overweight', 'FAVC', 'CAEC', 'SMOKE',\n",
      "       'SCC', 'CALC', 'Automobile', 'Bike', 'Motorbike',\n",
      "       'Public_Transportation'],\n",
      "      dtype='object')\n"
     ]
    }
   ],
   "source": [
    "df_test = pd.read_csv('/kaggle/input/playground-series-s4e2/test.csv', index_col=0)\n",
    "\n",
    "#add data[BMI]\n",
    "df_test['BMI'] = df_test['Weight'] / (df_test['Height'] ** 2)\n",
    "\n",
    "df_test = apply_preprocessing(df_test)\n",
    "\n",
    "df_test \n",
    "print('Train columns', df_all_features.columns)\n",
    "print('Test columns', df_test.columns)\n",
    "\n",
    "assert all(df_test.columns ==  df_all_features.columns), \"Columns in train and test dataset must be the same\""
   ]
  },
  {
   "cell_type": "code",
   "execution_count": 11,
   "id": "22ee4d54",
   "metadata": {
    "execution": {
     "iopub.execute_input": "2024-02-24T09:46:46.518937Z",
     "iopub.status.busy": "2024-02-24T09:46:46.518073Z",
     "iopub.status.idle": "2024-02-24T09:46:52.909971Z",
     "shell.execute_reply": "2024-02-24T09:46:52.908767Z"
    },
    "papermill": {
     "duration": 6.41366,
     "end_time": "2024-02-24T09:46:52.914935",
     "exception": false,
     "start_time": "2024-02-24T09:46:46.501275",
     "status": "completed"
    },
    "tags": []
   },
   "outputs": [
    {
     "name": "stderr",
     "output_type": "stream",
     "text": [
      "/tmp/ipykernel_18/2909093292.py:1: MatplotlibDeprecationWarning: The seaborn styles shipped by Matplotlib are deprecated since 3.6, as they no longer correspond to the styles shipped by seaborn. However, they will remain available as 'seaborn-v0_8-<style>'. Alternatively, directly use the seaborn API instead.\n",
      "  plt.style.use('seaborn-dark')\n"
     ]
    },
    {
     "data": {
      "image/png": "[encoded data removed]",
      "text/plain": [
       "<Figure size 2000x1500 with 20 Axes>"
      ]
     },
     "metadata": {},
     "output_type": "display_data"
    }
   ],
   "source": [
    "plt.style.use('seaborn-dark')\n",
    "\n",
    "plt.figure(figsize=(20, 15))\n",
    "\n",
    "for i in range(df_all_features.shape[1]):\n",
    "    plt.subplot(5, 4, i+1)\n",
    "    plt.hist(df_all_features.iloc[:, i], bins=20, label='train')\n",
    "    plt.hist(df_test.iloc[:, i], bins=20,\n",
    "             alpha=1, label='test', color='C3')\n",
    "    plt.title(df_all_features.columns[i])\n",
    "    plt.grid()\n",
    "    plt.legend()\n",
    "plt.tight_layout()\n",
    "plt.show()"
   ]
  },
  {
   "cell_type": "markdown",
   "id": "40468a6c",
   "metadata": {
    "papermill": {
     "duration": 0.017706,
     "end_time": "2024-02-24T09:46:52.950663",
     "exception": false,
     "start_time": "2024-02-24T09:46:52.932957",
     "status": "completed"
    },
    "tags": []
   },
   "source": [
    "### Labels"
   ]
  },
  {
   "cell_type": "code",
   "execution_count": 12,
   "id": "e98bfa22",
   "metadata": {
    "execution": {
     "iopub.execute_input": "2024-02-24T09:46:52.989086Z",
     "iopub.status.busy": "2024-02-24T09:46:52.988283Z",
     "iopub.status.idle": "2024-02-24T09:46:52.997984Z",
     "shell.execute_reply": "2024-02-24T09:46:52.996779Z"
    },
    "papermill": {
     "duration": 0.031795,
     "end_time": "2024-02-24T09:46:53.000442",
     "exception": false,
     "start_time": "2024-02-24T09:46:52.968647",
     "status": "completed"
    },
    "tags": []
   },
   "outputs": [
    {
     "data": {
      "text/plain": [
       "array(['Overweight_Level_II', 'Normal_Weight', 'Insufficient_Weight',\n",
       "       'Obesity_Type_III', 'Obesity_Type_II', 'Overweight_Level_I',\n",
       "       'Obesity_Type_I'], dtype=object)"
      ]
     },
     "execution_count": 12,
     "metadata": {},
     "output_type": "execute_result"
    }
   ],
   "source": [
    "labels['NObeyesdad'].unique()"
   ]
  },
  {
   "cell_type": "code",
   "execution_count": 13,
   "id": "2959f215",
   "metadata": {
    "execution": {
     "iopub.execute_input": "2024-02-24T09:46:53.040480Z",
     "iopub.status.busy": "2024-02-24T09:46:53.039666Z",
     "iopub.status.idle": "2024-02-24T09:46:53.055654Z",
     "shell.execute_reply": "2024-02-24T09:46:53.054409Z"
    },
    "papermill": {
     "duration": 0.040059,
     "end_time": "2024-02-24T09:46:53.059065",
     "exception": false,
     "start_time": "2024-02-24T09:46:53.019006",
     "status": "completed"
    },
    "tags": []
   },
   "outputs": [
    {
     "data": {
      "text/html": [
       "<div>\n",
       "<style scoped>\n",
       "    .dataframe tbody tr th:only-of-type {\n",
       "        vertical-align: middle;\n",
       "    }\n",
       "\n",
       "    .dataframe tbody tr th {\n",
       "        vertical-align: top;\n",
       "    }\n",
       "\n",
       "    .dataframe thead th {\n",
       "        text-align: right;\n",
       "    }\n",
       "</style>\n",
       "<table border=\"1\" class=\"dataframe\">\n",
       "  <thead>\n",
       "    <tr style=\"text-align: right;\">\n",
       "      <th></th>\n",
       "      <th>NObeyesdad</th>\n",
       "    </tr>\n",
       "    <tr>\n",
       "      <th>id</th>\n",
       "      <th></th>\n",
       "    </tr>\n",
       "  </thead>\n",
       "  <tbody>\n",
       "    <tr>\n",
       "      <th>0</th>\n",
       "      <td>3</td>\n",
       "    </tr>\n",
       "    <tr>\n",
       "      <th>1</th>\n",
       "      <td>1</td>\n",
       "    </tr>\n",
       "    <tr>\n",
       "      <th>2</th>\n",
       "      <td>0</td>\n",
       "    </tr>\n",
       "    <tr>\n",
       "      <th>3</th>\n",
       "      <td>6</td>\n",
       "    </tr>\n",
       "    <tr>\n",
       "      <th>4</th>\n",
       "      <td>3</td>\n",
       "    </tr>\n",
       "    <tr>\n",
       "      <th>...</th>\n",
       "      <td>...</td>\n",
       "    </tr>\n",
       "    <tr>\n",
       "      <th>20753</th>\n",
       "      <td>5</td>\n",
       "    </tr>\n",
       "    <tr>\n",
       "      <th>20754</th>\n",
       "      <td>0</td>\n",
       "    </tr>\n",
       "    <tr>\n",
       "      <th>20755</th>\n",
       "      <td>5</td>\n",
       "    </tr>\n",
       "    <tr>\n",
       "      <th>20756</th>\n",
       "      <td>3</td>\n",
       "    </tr>\n",
       "    <tr>\n",
       "      <th>20757</th>\n",
       "      <td>5</td>\n",
       "    </tr>\n",
       "  </tbody>\n",
       "</table>\n",
       "<p>20758 rows × 1 columns</p>\n",
       "</div>"
      ],
      "text/plain": [
       "       NObeyesdad\n",
       "id               \n",
       "0               3\n",
       "1               1\n",
       "2               0\n",
       "3               6\n",
       "4               3\n",
       "...           ...\n",
       "20753           5\n",
       "20754           0\n",
       "20755           5\n",
       "20756           3\n",
       "20757           5\n",
       "\n",
       "[20758 rows x 1 columns]"
      ]
     },
     "execution_count": 13,
     "metadata": {},
     "output_type": "execute_result"
    }
   ],
   "source": [
    "labels_encoded = labels.copy(deep=True)\n",
    "\n",
    "dict_conversion = {'Insufficient_Weight':0,\n",
    "                   'Normal_Weight':1,\n",
    "                   'Overweight_Level_I':2,\n",
    "                   'Overweight_Level_II':3,\n",
    "                   'Obesity_Type_I':4,\n",
    "                   'Obesity_Type_II':5,\n",
    "                   'Obesity_Type_III':6}\n",
    "\n",
    "labels_encoded['NObeyesdad'] = labels_encoded['NObeyesdad'].map(dict_conversion)\n",
    "labels_encoded"
   ]
  },
  {
   "cell_type": "code",
   "execution_count": 14,
   "id": "c21909f3",
   "metadata": {
    "execution": {
     "iopub.execute_input": "2024-02-24T09:46:53.182578Z",
     "iopub.status.busy": "2024-02-24T09:46:53.181744Z",
     "iopub.status.idle": "2024-02-24T09:46:53.192608Z",
     "shell.execute_reply": "2024-02-24T09:46:53.191437Z"
    },
    "papermill": {
     "duration": 0.033547,
     "end_time": "2024-02-24T09:46:53.195086",
     "exception": false,
     "start_time": "2024-02-24T09:46:53.161539",
     "status": "completed"
    },
    "tags": []
   },
   "outputs": [
    {
     "data": {
      "text/plain": [
       "NObeyesdad\n",
       "6             4046\n",
       "5             3248\n",
       "1             3082\n",
       "4             2910\n",
       "0             2523\n",
       "3             2522\n",
       "2             2427\n",
       "Name: count, dtype: int64"
      ]
     },
     "execution_count": 14,
     "metadata": {},
     "output_type": "execute_result"
    }
   ],
   "source": [
    "labels_encoded.value_counts()"
   ]
  },
  {
   "cell_type": "code",
   "execution_count": 15,
   "id": "edc052cc",
   "metadata": {
    "execution": {
     "iopub.execute_input": "2024-02-24T09:46:53.234450Z",
     "iopub.status.busy": "2024-02-24T09:46:53.233612Z",
     "iopub.status.idle": "2024-02-24T09:46:53.441849Z",
     "shell.execute_reply": "2024-02-24T09:46:53.440696Z"
    },
    "papermill": {
     "duration": 0.231934,
     "end_time": "2024-02-24T09:46:53.445518",
     "exception": false,
     "start_time": "2024-02-24T09:46:53.213584",
     "status": "completed"
    },
    "tags": []
   },
   "outputs": [
    {
     "name": "stderr",
     "output_type": "stream",
     "text": [
      "/tmp/ipykernel_18/341045427.py:1: MatplotlibDeprecationWarning: The seaborn styles shipped by Matplotlib are deprecated since 3.6, as they no longer correspond to the styles shipped by seaborn. However, they will remain available as 'seaborn-v0_8-<style>'. Alternatively, directly use the seaborn API instead.\n",
      "  plt.style.use('seaborn-dark')\n"
     ]
    },
    {
     "data": {
      "image/png": "[encoded data removed]",
      "text/plain": [
       "<Figure size 1000x600 with 1 Axes>"
      ]
     },
     "metadata": {},
     "output_type": "display_data"
    }
   ],
   "source": [
    "plt.style.use('seaborn-dark')\n",
    "\n",
    "plt.figure(figsize=(10, 6))\n",
    "plt.hist(labels_encoded, bins=np.arange(0, 8)-0.25, width=0.5, align='mid')\n",
    "plt.grid()\n",
    "plt.xticks(np.arange(0, 6.1),\n",
    "           ['Insufficient', 'Normal', 'Overweight I', 'Overweight II', 'Obesity I', 'Obesity II', 'Obesity III'],\n",
    "           rotation=90)\n",
    "plt.ylabel('Frequency')\n",
    "plt.show()"
   ]
  },
  {
   "cell_type": "markdown",
   "id": "38c9588f",
   "metadata": {
    "papermill": {
     "duration": 0.018978,
     "end_time": "2024-02-24T09:46:53.483616",
     "exception": false,
     "start_time": "2024-02-24T09:46:53.464638",
     "status": "completed"
    },
    "tags": []
   },
   "source": [
    "# 3. Prepare data for machine learning"
   ]
  },
  {
   "cell_type": "code",
   "execution_count": 16,
   "id": "7b02f3a2",
   "metadata": {
    "execution": {
     "iopub.execute_input": "2024-02-24T09:46:53.524775Z",
     "iopub.status.busy": "2024-02-24T09:46:53.523933Z",
     "iopub.status.idle": "2024-02-24T09:46:53.847096Z",
     "shell.execute_reply": "2024-02-24T09:46:53.846010Z"
    },
    "papermill": {
     "duration": 0.34698,
     "end_time": "2024-02-24T09:46:53.849841",
     "exception": false,
     "start_time": "2024-02-24T09:46:53.502861",
     "status": "completed"
    },
    "tags": []
   },
   "outputs": [
    {
     "name": "stdout",
     "output_type": "stream",
     "text": [
      "Number of samples 20758\n",
      "Number of featires 20\n"
     ]
    }
   ],
   "source": [
    "X = df_all_features\n",
    "y = np.ravel(labels_encoded)\n",
    "\n",
    "# compare train and test data\n",
    "X_test = df_test\n",
    "assert all(X_test.columns == X.columns), \"Columns of training and test data must be the same\"\n",
    "\n",
    "print('Number of samples', len(X))\n",
    "print('Number of featires', X.shape[1])\n",
    "\n",
    "from sklearn.model_selection import train_test_split\n",
    "\n",
    "X_train, X_validation, y_train, y_validation = train_test_split(X, y,\n",
    "                                                                test_size=0.2, \n",
    "                                                                random_state=42,\n",
    "                                                                stratify=y)"
   ]
  },
  {
   "cell_type": "markdown",
   "id": "e158d67d",
   "metadata": {
    "papermill": {
     "duration": 0.020814,
     "end_time": "2024-02-24T09:46:53.891871",
     "exception": false,
     "start_time": "2024-02-24T09:46:53.871057",
     "status": "completed"
    },
    "tags": []
   },
   "source": [
    "# 4. Fit the data with baseline models"
   ]
  },
  {
   "cell_type": "code",
   "execution_count": 17,
   "id": "c63ab40d",
   "metadata": {
    "execution": {
     "iopub.execute_input": "2024-02-24T09:46:53.932929Z",
     "iopub.status.busy": "2024-02-24T09:46:53.932073Z",
     "iopub.status.idle": "2024-02-24T09:46:53.938893Z",
     "shell.execute_reply": "2024-02-24T09:46:53.937782Z"
    },
    "papermill": {
     "duration": 0.030151,
     "end_time": "2024-02-24T09:46:53.941242",
     "exception": false,
     "start_time": "2024-02-24T09:46:53.911091",
     "status": "completed"
    },
    "tags": []
   },
   "outputs": [
    {
     "data": {
      "text/plain": [
       "\"\\nfrom sklearn.utils.class_weight import compute_class_weight\\n\\n# calculate class weights based on the training data\\nclass_weights = compute_class_weight('balanced', \\n                                     classes=np.unique(y),\\n                                     y=y)\\n\\nclass_weights = dict(zip(np.unique(y), class_weights))\\nclass_weights\\n\""
      ]
     },
     "execution_count": 17,
     "metadata": {},
     "output_type": "execute_result"
    }
   ],
   "source": [
    "'''\n",
    "from sklearn.utils.class_weight import compute_class_weight\n",
    "\n",
    "# calculate class weights based on the training data\n",
    "class_weights = compute_class_weight('balanced', \n",
    "                                     classes=np.unique(y),\n",
    "                                     y=y)\n",
    "\n",
    "class_weights = dict(zip(np.unique(y), class_weights))\n",
    "class_weights\n",
    "'''"
   ]
  },
  {
   "cell_type": "code",
   "execution_count": 18,
   "id": "6c1d8fad",
   "metadata": {
    "execution": {
     "iopub.execute_input": "2024-02-24T09:46:53.982159Z",
     "iopub.status.busy": "2024-02-24T09:46:53.981322Z",
     "iopub.status.idle": "2024-02-24T09:47:31.873730Z",
     "shell.execute_reply": "2024-02-24T09:47:31.872464Z"
    },
    "papermill": {
     "duration": 37.916572,
     "end_time": "2024-02-24T09:47:31.877142",
     "exception": false,
     "start_time": "2024-02-24T09:46:53.960570",
     "status": "completed"
    },
    "tags": []
   },
   "outputs": [
    {
     "name": "stdout",
     "output_type": "stream",
     "text": [
      "[LightGBM] [Info] Auto-choosing row-wise multi-threading, the overhead of testing was 0.005526 seconds.\n",
      "You can set `force_row_wise=true` to remove the overhead.\n",
      "And if memory is not enough, you can set `force_col_wise=true`.\n",
      "[LightGBM] [Info] Total Bins 2302\n",
      "[LightGBM] [Info] Number of data points in the train set: 16606, number of used features: 20\n",
      "[LightGBM] [Info] Start training from score -1.945910\n",
      "[LightGBM] [Info] Start training from score -1.945910\n",
      "[LightGBM] [Info] Start training from score -1.945910\n",
      "[LightGBM] [Info] Start training from score -1.945910\n",
      "[LightGBM] [Info] Start training from score -1.945910\n",
      "[LightGBM] [Info] Start training from score -1.945910\n",
      "[LightGBM] [Info] Start training from score -1.945910\n"
     ]
    },
    {
     "data": {
      "text/html": [
       "<style>#sk-container-id-1 {color: black;background-color: white;}#sk-container-id-1 pre{padding: 0;}#sk-container-id-1 div.sk-toggleable {background-color: white;}#sk-container-id-1 label.sk-toggleable__label {cursor: pointer;display: block;width: 100%;margin-bottom: 0;padding: 0.3em;box-sizing: border-box;text-align: center;}#sk-container-id-1 label.sk-toggleable__label-arrow:before {content: \"▸\";float: left;margin-right: 0.25em;color: #696969;}#sk-container-id-1 label.sk-toggleable__label-arrow:hover:before {color: black;}#sk-container-id-1 div.sk-estimator:hover label.sk-toggleable__label-arrow:before {color: black;}#sk-container-id-1 div.sk-toggleable__content {max-height: 0;max-width: 0;overflow: hidden;text-align: left;background-color: #f0f8ff;}#sk-container-id-1 div.sk-toggleable__content pre {margin: 0.2em;color: black;border-radius: 0.25em;background-color: #f0f8ff;}#sk-container-id-1 input.sk-toggleable__control:checked~div.sk-toggleable__content {max-height: 200px;max-width: 100%;overflow: auto;}#sk-container-id-1 input.sk-toggleable__control:checked~label.sk-toggleable__label-arrow:before {content: \"▾\";}#sk-container-id-1 div.sk-estimator input.sk-toggleable__control:checked~label.sk-toggleable__label {background-color: #d4ebff;}#sk-container-id-1 div.sk-label input.sk-toggleable__control:checked~label.sk-toggleable__label {background-color: #d4ebff;}#sk-container-id-1 input.sk-hidden--visually {border: 0;clip: rect(1px 1px 1px 1px);clip: rect(1px, 1px, 1px, 1px);height: 1px;margin: -1px;overflow: hidden;padding: 0;position: absolute;width: 1px;}#sk-container-id-1 div.sk-estimator {font-family: monospace;background-color: #f0f8ff;border: 1px dotted black;border-radius: 0.25em;box-sizing: border-box;margin-bottom: 0.5em;}#sk-container-id-1 div.sk-estimator:hover {background-color: #d4ebff;}#sk-container-id-1 div.sk-parallel-item::after {content: \"\";width: 100%;border-bottom: 1px solid gray;flex-grow: 1;}#sk-container-id-1 div.sk-label:hover label.sk-toggleable__label {background-color: #d4ebff;}#sk-container-id-1 div.sk-serial::before {content: \"\";position: absolute;border-left: 1px solid gray;box-sizing: border-box;top: 0;bottom: 0;left: 50%;z-index: 0;}#sk-container-id-1 div.sk-serial {display: flex;flex-direction: column;align-items: center;background-color: white;padding-right: 0.2em;padding-left: 0.2em;position: relative;}#sk-container-id-1 div.sk-item {position: relative;z-index: 1;}#sk-container-id-1 div.sk-parallel {display: flex;align-items: stretch;justify-content: center;background-color: white;position: relative;}#sk-container-id-1 div.sk-item::before, #sk-container-id-1 div.sk-parallel-item::before {content: \"\";position: absolute;border-left: 1px solid gray;box-sizing: border-box;top: 0;bottom: 0;left: 50%;z-index: -1;}#sk-container-id-1 div.sk-parallel-item {display: flex;flex-direction: column;z-index: 1;position: relative;background-color: white;}#sk-container-id-1 div.sk-parallel-item:first-child::after {align-self: flex-end;width: 50%;}#sk-container-id-1 div.sk-parallel-item:last-child::after {align-self: flex-start;width: 50%;}#sk-container-id-1 div.sk-parallel-item:only-child::after {width: 0;}#sk-container-id-1 div.sk-dashed-wrapped {border: 1px dashed gray;margin: 0 0.4em 0.5em 0.4em;box-sizing: border-box;padding-bottom: 0.4em;background-color: white;}#sk-container-id-1 div.sk-label label {font-family: monospace;font-weight: bold;display: inline-block;line-height: 1.2em;}#sk-container-id-1 div.sk-label-container {text-align: center;}#sk-container-id-1 div.sk-container {/* jupyter's `normalize.less` sets `[hidden] { display: none; }` but bootstrap.min.css set `[hidden] { display: none !important; }` so we also need the `!important` here to be able to override the default hidden behavior on the sphinx rendered scikit-learn.org. See: https://github.com/scikit-learn/scikit-learn/issues/21755 */display: inline-block !important;position: relative;}#sk-container-id-1 div.sk-text-repr-fallback {display: none;}</style><div id=\"sk-container-id-1\" class=\"sk-top-container\"><div class=\"sk-text-repr-fallback\"><pre>XGBClassifier(base_score=None, booster=None, callbacks=None,\n",
       "              colsample_bylevel=None, colsample_bynode=None,\n",
       "              colsample_bytree=None, device=None, early_stopping_rounds=None,\n",
       "              enable_categorical=False, eval_metric=None, feature_types=None,\n",
       "              gamma=None, grow_policy=None, importance_type=None,\n",
       "              interaction_constraints=None, learning_rate=None, max_bin=None,\n",
       "              max_cat_threshold=None, max_cat_to_onehot=None,\n",
       "              max_delta_step=None, max_depth=None, max_leaves=None,\n",
       "              min_child_weight=None, missing=nan, monotone_constraints=None,\n",
       "              multi_strategy=None, n_estimators=None, n_jobs=None,\n",
       "              num_parallel_tree=None, objective=&#x27;multi:softprob&#x27;, ...)</pre><b>In a Jupyter environment, please rerun this cell to show the HTML representation or trust the notebook. <br />On GitHub, the HTML representation is unable to render, please try loading this page with nbviewer.org.</b></div><div class=\"sk-container\" hidden><div class=\"sk-item\"><div class=\"sk-estimator sk-toggleable\"><input class=\"sk-toggleable__control sk-hidden--visually\" id=\"sk-estimator-id-1\" type=\"checkbox\" checked><label for=\"sk-estimator-id-1\" class=\"sk-toggleable__label sk-toggleable__label-arrow\">XGBClassifier</label><div class=\"sk-toggleable__content\"><pre>XGBClassifier(base_score=None, booster=None, callbacks=None,\n",
       "              colsample_bylevel=None, colsample_bynode=None,\n",
       "              colsample_bytree=None, device=None, early_stopping_rounds=None,\n",
       "              enable_categorical=False, eval_metric=None, feature_types=None,\n",
       "              gamma=None, grow_policy=None, importance_type=None,\n",
       "              interaction_constraints=None, learning_rate=None, max_bin=None,\n",
       "              max_cat_threshold=None, max_cat_to_onehot=None,\n",
       "              max_delta_step=None, max_depth=None, max_leaves=None,\n",
       "              min_child_weight=None, missing=nan, monotone_constraints=None,\n",
       "              multi_strategy=None, n_estimators=None, n_jobs=None,\n",
       "              num_parallel_tree=None, objective=&#x27;multi:softprob&#x27;, ...)</pre></div></div></div></div></div>"
      ],
      "text/plain": [
       "XGBClassifier(base_score=None, booster=None, callbacks=None,\n",
       "              colsample_bylevel=None, colsample_bynode=None,\n",
       "              colsample_bytree=None, device=None, early_stopping_rounds=None,\n",
       "              enable_categorical=False, eval_metric=None, feature_types=None,\n",
       "              gamma=None, grow_policy=None, importance_type=None,\n",
       "              interaction_constraints=None, learning_rate=None, max_bin=None,\n",
       "              max_cat_threshold=None, max_cat_to_onehot=None,\n",
       "              max_delta_step=None, max_depth=None, max_leaves=None,\n",
       "              min_child_weight=None, missing=nan, monotone_constraints=None,\n",
       "              multi_strategy=None, n_estimators=None, n_jobs=None,\n",
       "              num_parallel_tree=None, objective='multi:softprob', ...)"
      ]
     },
     "execution_count": 18,
     "metadata": {},
     "output_type": "execute_result"
    }
   ],
   "source": [
    "from lightgbm import LGBMClassifier\n",
    "from sklearn.ensemble import GradientBoostingClassifier, RandomForestClassifier\n",
    "from catboost import CatBoostClassifier, Pool\n",
    "from xgboost import XGBClassifier\n",
    "\n",
    "clf1 = GradientBoostingClassifier()\n",
    "clf2 = RandomForestClassifier(class_weight='balanced')\n",
    "clf3 = LGBMClassifier(class_weight='balanced')\n",
    "clf4 = XGBClassifier()\n",
    "\n",
    "clf1.fit(X_train, y_train)\n",
    "clf2.fit(X_train, y_train)\n",
    "clf3.fit(X_train, y_train)\n",
    "clf4.fit(X_train, y_train)"
   ]
  },
  {
   "cell_type": "code",
   "execution_count": 19,
   "id": "f910105d",
   "metadata": {
    "execution": {
     "iopub.execute_input": "2024-02-24T09:47:31.918642Z",
     "iopub.status.busy": "2024-02-24T09:47:31.918134Z",
     "iopub.status.idle": "2024-02-24T09:47:31.925994Z",
     "shell.execute_reply": "2024-02-24T09:47:31.924474Z"
    },
    "papermill": {
     "duration": 0.03108,
     "end_time": "2024-02-24T09:47:31.928169",
     "exception": false,
     "start_time": "2024-02-24T09:47:31.897089",
     "status": "completed"
    },
    "tags": []
   },
   "outputs": [],
   "source": [
    "def evaluate_model(clf):\n",
    "    y_pred_train = clf.predict(X_train)\n",
    "    y_pred_test = clf.predict(X_validation)\n",
    "    train_score = np.mean(y_pred_train == y_train)\n",
    "    validation_score = np.mean(y_pred_test == y_validation)\n",
    "\n",
    "    print('Train score', round(train_score, 3))\n",
    "    print('Test score', round(validation_score, 3))\n",
    "    \n",
    "    if train_score - validation_score > 0.05:\n",
    "        print('Overfitting detected')\n",
    "        \n",
    "    print('===========================')"
   ]
  },
  {
   "cell_type": "code",
   "execution_count": 20,
   "id": "91b3bc64",
   "metadata": {
    "execution": {
     "iopub.execute_input": "2024-02-24T09:47:31.969090Z",
     "iopub.status.busy": "2024-02-24T09:47:31.968552Z",
     "iopub.status.idle": "2024-02-24T09:47:34.141691Z",
     "shell.execute_reply": "2024-02-24T09:47:34.140648Z"
    },
    "papermill": {
     "duration": 2.196402,
     "end_time": "2024-02-24T09:47:34.143889",
     "exception": false,
     "start_time": "2024-02-24T09:47:31.947487",
     "status": "completed"
    },
    "tags": []
   },
   "outputs": [
    {
     "name": "stdout",
     "output_type": "stream",
     "text": [
      "Random Forest\n",
      "Train score 1.0\n",
      "Test score 0.897\n",
      "Overfitting detected\n",
      "===========================\n",
      "LightGBM\n",
      "Train score 0.983\n",
      "Test score 0.9\n",
      "Overfitting detected\n",
      "===========================\n",
      "Gradient Boosting\n",
      "Train score 0.921\n",
      "Test score 0.898\n",
      "===========================\n",
      "XGBoost\n",
      "Train score 0.99\n",
      "Test score 0.9\n",
      "Overfitting detected\n",
      "===========================\n"
     ]
    }
   ],
   "source": [
    "print('Random Forest')\n",
    "evaluate_model(clf2)\n",
    "\n",
    "print('LightGBM')\n",
    "evaluate_model(clf3)\n",
    "\n",
    "print('Gradient Boosting')\n",
    "evaluate_model(clf1)\n",
    "\n",
    "print('XGBoost')\n",
    "evaluate_model(clf4)"
   ]
  },
  {
   "cell_type": "markdown",
   "id": "615f56fe",
   "metadata": {
    "papermill": {
     "duration": 0.019646,
     "end_time": "2024-02-24T09:47:34.183977",
     "exception": false,
     "start_time": "2024-02-24T09:47:34.164331",
     "status": "completed"
    },
    "tags": []
   },
   "source": [
    "# 5. Hyperparameter tuning\n",
    "We fine-tune the XGBoost Classifier defined in the previous section, using the optimizer framework called `Optuna`."
   ]
  },
  {
   "cell_type": "code",
   "execution_count": 21,
   "id": "b71783fe",
   "metadata": {
    "execution": {
     "iopub.execute_input": "2024-02-24T09:47:34.226363Z",
     "iopub.status.busy": "2024-02-24T09:47:34.225904Z",
     "iopub.status.idle": "2024-02-24T09:47:35.633712Z",
     "shell.execute_reply": "2024-02-24T09:47:35.632423Z"
    },
    "papermill": {
     "duration": 1.43251,
     "end_time": "2024-02-24T09:47:35.636563",
     "exception": false,
     "start_time": "2024-02-24T09:47:34.204053",
     "status": "completed"
    },
    "tags": []
   },
   "outputs": [],
   "source": [
    "import optuna\n",
    "from sklearn.model_selection import cross_validate\n",
    "\n",
    "def objective(trial):\n",
    "    max_depth = trial.suggest_int('max_depth', 4, 10)\n",
    "    n_estimators = trial.suggest_int('n_estimators', 500, 2000)\n",
    "    gamma = trial.suggest_float('gamma', 0, 1)\n",
    "    reg_alpha = trial.suggest_float('reg_alpha', 0, 1)\n",
    "    reg_lambda = trial.suggest_float('reg_lambda', 0, 1)\n",
    "    min_child_weight = trial.suggest_int('min_child_weight', 0, 10)\n",
    "    subsample = trial.suggest_float('subsample', 0, 1)\n",
    "    colsample_bytree = trial.suggest_float('colsample_bytree', 0, 1)\n",
    "    learning_rate = trial.suggest_float('learning_rate', 0, 1)\n",
    "    \n",
    "    print('Training the model with', X.shape[1], 'features')\n",
    "    \n",
    "    # XGBoost\n",
    "    params = {'n_estimators': n_estimators,\n",
    "              'learning_rate': learning_rate,\n",
    "              'gamma': gamma,\n",
    "              'reg_alpha': reg_alpha,\n",
    "              'reg_lambda': reg_lambda,\n",
    "              'max_depth': max_depth,\n",
    "              'min_child_weight': min_child_weight,\n",
    "              'subsample': subsample,\n",
    "              'colsample_bytree': colsample_bytree,\n",
    "              'eval_metric':'mlogloss'}\n",
    "        \n",
    "    clf = XGBClassifier(**params)\n",
    "    \n",
    "\n",
    "    # LightGBM\n",
    "    params = {'learning_rate': learning_rate,\n",
    "              'n_estimators': n_estimators,\n",
    "              'max_depth': max_depth,\n",
    "              'lambda_l1': reg_alpha,\n",
    "              'lambda_l2': reg_lambda,\n",
    "              'colsample_bytree': colsample_bytree, \n",
    "              'subsample': subsample,    \n",
    "              'min_child_samples': min_child_weight,\n",
    "              'class_weight': 'balanced'}\n",
    "    \n",
    "    clf = LGBMClassifier(**params, verbose = -1, verbosity = -1)\n",
    "\n",
    "    \n",
    "    cv_results = cross_validate(clf, X, y, cv=5, scoring='accuracy')\n",
    "    \n",
    "    validation_score = np.mean(cv_results['test_score'])\n",
    "    \n",
    "    return validation_score"
   ]
  },
  {
   "cell_type": "code",
   "execution_count": 22,
   "id": "93d7ba1d",
   "metadata": {
    "execution": {
     "iopub.execute_input": "2024-02-24T09:47:35.680764Z",
     "iopub.status.busy": "2024-02-24T09:47:35.680306Z",
     "iopub.status.idle": "2024-02-24T09:56:19.197279Z",
     "shell.execute_reply": "2024-02-24T09:56:19.195859Z"
    },
    "papermill": {
     "duration": 523.564376,
     "end_time": "2024-02-24T09:56:19.221522",
     "exception": false,
     "start_time": "2024-02-24T09:47:35.657146",
     "status": "completed"
    },
    "tags": []
   },
   "outputs": [
    {
     "name": "stderr",
     "output_type": "stream",
     "text": [
      "[I 2024-02-24 09:47:35,682] A new study created in memory with name: no-name-c397b2b3-0b17-474d-bb23-71fec9422892\n"
     ]
    },
    {
     "name": "stdout",
     "output_type": "stream",
     "text": [
      "Training the model with 20 features\n"
     ]
    },
    {
     "name": "stderr",
     "output_type": "stream",
     "text": [
      "[I 2024-02-24 09:48:48,103] Trial 0 finished with value: 0.9013394757351225 and parameters: {'max_depth': 10, 'n_estimators': 1612, 'gamma': 0.03183949148402199, 'reg_alpha': 0.4945561778025118, 'reg_lambda': 0.5563915552084351, 'min_child_weight': 6, 'subsample': 0.007534007327964276, 'colsample_bytree': 0.1665441880408799, 'learning_rate': 0.34332307068233947}. Best is trial 0 with value: 0.9013394757351225.\n"
     ]
    },
    {
     "name": "stdout",
     "output_type": "stream",
     "text": [
      "Training the model with 20 features\n"
     ]
    },
    {
     "name": "stderr",
     "output_type": "stream",
     "text": [
      "[I 2024-02-24 09:50:05,753] Trial 1 finished with value: 0.8921863431937611 and parameters: {'max_depth': 9, 'n_estimators': 1436, 'gamma': 0.7877351707708489, 'reg_alpha': 0.28130286171397634, 'reg_lambda': 0.6068760343140535, 'min_child_weight': 6, 'subsample': 0.700232575301356, 'colsample_bytree': 0.3892636025557389, 'learning_rate': 0.9408734699641826}. Best is trial 0 with value: 0.9013394757351225.\n"
     ]
    },
    {
     "name": "stdout",
     "output_type": "stream",
     "text": [
      "Training the model with 20 features\n"
     ]
    },
    {
     "name": "stderr",
     "output_type": "stream",
     "text": [
      "[I 2024-02-24 09:53:10,248] Trial 2 finished with value: 0.9048561202839439 and parameters: {'max_depth': 7, 'n_estimators': 1442, 'gamma': 0.34708160151891143, 'reg_alpha': 0.6063756287753649, 'reg_lambda': 0.09281144842950151, 'min_child_weight': 5, 'subsample': 0.46590123918411175, 'colsample_bytree': 0.6799737929141072, 'learning_rate': 0.02488853314763917}. Best is trial 2 with value: 0.9048561202839439.\n"
     ]
    },
    {
     "name": "stdout",
     "output_type": "stream",
     "text": [
      "Training the model with 20 features\n"
     ]
    },
    {
     "name": "stderr",
     "output_type": "stream",
     "text": [
      "[I 2024-02-24 09:54:24,951] Trial 3 finished with value: 0.8960399657625968 and parameters: {'max_depth': 6, 'n_estimators': 1508, 'gamma': 0.6794778440213602, 'reg_alpha': 0.9343769003194734, 'reg_lambda': 0.6184972128708922, 'min_child_weight': 6, 'subsample': 0.47237509496297925, 'colsample_bytree': 0.355585593080761, 'learning_rate': 0.8577219939904898}. Best is trial 2 with value: 0.9048561202839439.\n"
     ]
    },
    {
     "name": "stdout",
     "output_type": "stream",
     "text": [
      "Training the model with 20 features\n"
     ]
    },
    {
     "name": "stderr",
     "output_type": "stream",
     "text": [
      "[I 2024-02-24 09:56:19,192] Trial 4 finished with value: 0.9077947881723141 and parameters: {'max_depth': 9, 'n_estimators': 894, 'gamma': 0.8399655278606185, 'reg_alpha': 0.7205211689688814, 'reg_lambda': 0.59449422165266, 'min_child_weight': 1, 'subsample': 0.3782161167185849, 'colsample_bytree': 0.41539971983927415, 'learning_rate': 0.03493806408135669}. Best is trial 4 with value: 0.9077947881723141.\n"
     ]
    }
   ],
   "source": [
    "# Uncomment this section if you want to do hyperparameter tuning\n",
    "\n",
    "study = optuna.create_study(direction=\"maximize\")\n",
    "study.optimize(objective, n_trials=5)"
   ]
  },
  {
   "cell_type": "code",
   "execution_count": 23,
   "id": "53683afe",
   "metadata": {
    "execution": {
     "iopub.execute_input": "2024-02-24T09:56:19.268707Z",
     "iopub.status.busy": "2024-02-24T09:56:19.267769Z",
     "iopub.status.idle": "2024-02-24T09:56:19.295929Z",
     "shell.execute_reply": "2024-02-24T09:56:19.294599Z"
    },
    "papermill": {
     "duration": 0.054786,
     "end_time": "2024-02-24T09:56:19.298763",
     "exception": false,
     "start_time": "2024-02-24T09:56:19.243977",
     "status": "completed"
    },
    "tags": []
   },
   "outputs": [
    {
     "data": {
      "text/html": [
       "<div>\n",
       "<style scoped>\n",
       "    .dataframe tbody tr th:only-of-type {\n",
       "        vertical-align: middle;\n",
       "    }\n",
       "\n",
       "    .dataframe tbody tr th {\n",
       "        vertical-align: top;\n",
       "    }\n",
       "\n",
       "    .dataframe thead th {\n",
       "        text-align: right;\n",
       "    }\n",
       "</style>\n",
       "<table border=\"1\" class=\"dataframe\">\n",
       "  <thead>\n",
       "    <tr style=\"text-align: right;\">\n",
       "      <th></th>\n",
       "      <th>number</th>\n",
       "      <th>value</th>\n",
       "      <th>datetime_start</th>\n",
       "      <th>datetime_complete</th>\n",
       "      <th>duration</th>\n",
       "      <th>params_colsample_bytree</th>\n",
       "      <th>params_gamma</th>\n",
       "      <th>params_learning_rate</th>\n",
       "      <th>params_max_depth</th>\n",
       "      <th>params_min_child_weight</th>\n",
       "      <th>params_n_estimators</th>\n",
       "      <th>params_reg_alpha</th>\n",
       "      <th>params_reg_lambda</th>\n",
       "      <th>params_subsample</th>\n",
       "      <th>state</th>\n",
       "    </tr>\n",
       "  </thead>\n",
       "  <tbody>\n",
       "    <tr>\n",
       "      <th>4</th>\n",
       "      <td>4</td>\n",
       "      <td>0.907795</td>\n",
       "      <td>2024-02-24 09:54:24.953077</td>\n",
       "      <td>2024-02-24 09:56:19.191163</td>\n",
       "      <td>0 days 00:01:54.238086</td>\n",
       "      <td>0.415400</td>\n",
       "      <td>0.839966</td>\n",
       "      <td>0.034938</td>\n",
       "      <td>9</td>\n",
       "      <td>1</td>\n",
       "      <td>894</td>\n",
       "      <td>0.720521</td>\n",
       "      <td>0.594494</td>\n",
       "      <td>0.378216</td>\n",
       "      <td>COMPLETE</td>\n",
       "    </tr>\n",
       "    <tr>\n",
       "      <th>2</th>\n",
       "      <td>2</td>\n",
       "      <td>0.904856</td>\n",
       "      <td>2024-02-24 09:50:05.754676</td>\n",
       "      <td>2024-02-24 09:53:10.247611</td>\n",
       "      <td>0 days 00:03:04.492935</td>\n",
       "      <td>0.679974</td>\n",
       "      <td>0.347082</td>\n",
       "      <td>0.024889</td>\n",
       "      <td>7</td>\n",
       "      <td>5</td>\n",
       "      <td>1442</td>\n",
       "      <td>0.606376</td>\n",
       "      <td>0.092811</td>\n",
       "      <td>0.465901</td>\n",
       "      <td>COMPLETE</td>\n",
       "    </tr>\n",
       "    <tr>\n",
       "      <th>0</th>\n",
       "      <td>0</td>\n",
       "      <td>0.901339</td>\n",
       "      <td>2024-02-24 09:47:35.685262</td>\n",
       "      <td>2024-02-24 09:48:48.103116</td>\n",
       "      <td>0 days 00:01:12.417854</td>\n",
       "      <td>0.166544</td>\n",
       "      <td>0.031839</td>\n",
       "      <td>0.343323</td>\n",
       "      <td>10</td>\n",
       "      <td>6</td>\n",
       "      <td>1612</td>\n",
       "      <td>0.494556</td>\n",
       "      <td>0.556392</td>\n",
       "      <td>0.007534</td>\n",
       "      <td>COMPLETE</td>\n",
       "    </tr>\n",
       "    <tr>\n",
       "      <th>3</th>\n",
       "      <td>3</td>\n",
       "      <td>0.896040</td>\n",
       "      <td>2024-02-24 09:53:10.249578</td>\n",
       "      <td>2024-02-24 09:54:24.951022</td>\n",
       "      <td>0 days 00:01:14.701444</td>\n",
       "      <td>0.355586</td>\n",
       "      <td>0.679478</td>\n",
       "      <td>0.857722</td>\n",
       "      <td>6</td>\n",
       "      <td>6</td>\n",
       "      <td>1508</td>\n",
       "      <td>0.934377</td>\n",
       "      <td>0.618497</td>\n",
       "      <td>0.472375</td>\n",
       "      <td>COMPLETE</td>\n",
       "    </tr>\n",
       "    <tr>\n",
       "      <th>1</th>\n",
       "      <td>1</td>\n",
       "      <td>0.892186</td>\n",
       "      <td>2024-02-24 09:48:48.105073</td>\n",
       "      <td>2024-02-24 09:50:05.752800</td>\n",
       "      <td>0 days 00:01:17.647727</td>\n",
       "      <td>0.389264</td>\n",
       "      <td>0.787735</td>\n",
       "      <td>0.940873</td>\n",
       "      <td>9</td>\n",
       "      <td>6</td>\n",
       "      <td>1436</td>\n",
       "      <td>0.281303</td>\n",
       "      <td>0.606876</td>\n",
       "      <td>0.700233</td>\n",
       "      <td>COMPLETE</td>\n",
       "    </tr>\n",
       "  </tbody>\n",
       "</table>\n",
       "</div>"
      ],
      "text/plain": [
       "   number     value             datetime_start          datetime_complete  \\\n",
       "4       4  0.907795 2024-02-24 09:54:24.953077 2024-02-24 09:56:19.191163   \n",
       "2       2  0.904856 2024-02-24 09:50:05.754676 2024-02-24 09:53:10.247611   \n",
       "0       0  0.901339 2024-02-24 09:47:35.685262 2024-02-24 09:48:48.103116   \n",
       "3       3  0.896040 2024-02-24 09:53:10.249578 2024-02-24 09:54:24.951022   \n",
       "1       1  0.892186 2024-02-24 09:48:48.105073 2024-02-24 09:50:05.752800   \n",
       "\n",
       "                duration  params_colsample_bytree  params_gamma  \\\n",
       "4 0 days 00:01:54.238086                 0.415400      0.839966   \n",
       "2 0 days 00:03:04.492935                 0.679974      0.347082   \n",
       "0 0 days 00:01:12.417854                 0.166544      0.031839   \n",
       "3 0 days 00:01:14.701444                 0.355586      0.679478   \n",
       "1 0 days 00:01:17.647727                 0.389264      0.787735   \n",
       "\n",
       "   params_learning_rate  params_max_depth  params_min_child_weight  \\\n",
       "4              0.034938                 9                        1   \n",
       "2              0.024889                 7                        5   \n",
       "0              0.343323                10                        6   \n",
       "3              0.857722                 6                        6   \n",
       "1              0.940873                 9                        6   \n",
       "\n",
       "   params_n_estimators  params_reg_alpha  params_reg_lambda  params_subsample  \\\n",
       "4                  894          0.720521           0.594494          0.378216   \n",
       "2                 1442          0.606376           0.092811          0.465901   \n",
       "0                 1612          0.494556           0.556392          0.007534   \n",
       "3                 1508          0.934377           0.618497          0.472375   \n",
       "1                 1436          0.281303           0.606876          0.700233   \n",
       "\n",
       "      state  \n",
       "4  COMPLETE  \n",
       "2  COMPLETE  \n",
       "0  COMPLETE  \n",
       "3  COMPLETE  \n",
       "1  COMPLETE  "
      ]
     },
     "execution_count": 23,
     "metadata": {},
     "output_type": "execute_result"
    }
   ],
   "source": [
    "df_study = study.trials_dataframe()\n",
    "df_study = df_study.sort_values(by='value', ascending=False)\n",
    "\n",
    "df_study.head()"
   ]
  },
  {
   "cell_type": "code",
   "execution_count": 24,
   "id": "f5f60dce",
   "metadata": {
    "execution": {
     "iopub.execute_input": "2024-02-24T09:56:19.347487Z",
     "iopub.status.busy": "2024-02-24T09:56:19.347053Z",
     "iopub.status.idle": "2024-02-24T09:56:19.353221Z",
     "shell.execute_reply": "2024-02-24T09:56:19.352216Z"
    },
    "papermill": {
     "duration": 0.033256,
     "end_time": "2024-02-24T09:56:19.355612",
     "exception": false,
     "start_time": "2024-02-24T09:56:19.322356",
     "status": "completed"
    },
    "tags": []
   },
   "outputs": [],
   "source": [
    "# best_params_XGB = study.best_params\n",
    "\n",
    "# Best parameters for XGBoost obtained after Optuna optimization\n",
    "\n",
    "best_params_XGB ={'max_depth': 6,\n",
    "                  'n_estimators': 793,\n",
    "                  'gamma': 0.13219040111589608,\n",
    "                  'reg_alpha': 0.8979926035174041, \n",
    "                  'reg_lambda': 0.6057946358089595, \n",
    "                  'min_child_weight': 3, \n",
    "                  'subsample': 0.9840737574073746, \n",
    "                  'colsample_bytree': 0.4381221700983686, \n",
    "                  'learning_rate': 0.6044163952699279}\n",
    "\n",
    "# best_params_XGB = {'max_depth': 10, \n",
    "#                    'n_estimators': 1224, \n",
    "#                    'gamma': 0.8323134488556143, \n",
    "#                    'reg_alpha': 0.9211957174104992, \n",
    "#                    'reg_lambda': 0.8522905506401445, \n",
    "#                    'min_child_weight': 4, \n",
    "#                    'subsample': 0.9232723357974977, \n",
    "#                    'colsample_bytree': 0.4785000546841373, \n",
    "#                    'learning_rate': 0.06435693511798936}\n",
    "\n",
    "# print(best_params_XGB)"
   ]
  },
  {
   "cell_type": "markdown",
   "id": "0d73718f",
   "metadata": {
    "papermill": {
     "duration": 0.023674,
     "end_time": "2024-02-24T09:56:19.401993",
     "exception": false,
     "start_time": "2024-02-24T09:56:19.378319",
     "status": "completed"
    },
    "tags": []
   },
   "source": [
    "Also hyperparameters for LightGBM Classifier have been optimized. In case you want to test it, please uncomment the following cell."
   ]
  },
  {
   "cell_type": "code",
   "execution_count": 25,
   "id": "efee44bf",
   "metadata": {
    "execution": {
     "iopub.execute_input": "2024-02-24T09:56:19.449773Z",
     "iopub.status.busy": "2024-02-24T09:56:19.449285Z",
     "iopub.status.idle": "2024-02-24T09:56:19.456206Z",
     "shell.execute_reply": "2024-02-24T09:56:19.454838Z"
    },
    "papermill": {
     "duration": 0.033923,
     "end_time": "2024-02-24T09:56:19.458956",
     "exception": false,
     "start_time": "2024-02-24T09:56:19.425033",
     "status": "completed"
    },
    "tags": []
   },
   "outputs": [],
   "source": [
    "# # Best parameters for LightGBM obtained after Optuna optimization\n",
    "# best_params_LGBM = study.best_params\n",
    "\n",
    "best_params_LGBM = {'max_depth': 6, \n",
    "                    'n_estimators': 1750, \n",
    "                    'gamma': 0.8245358709544012,\n",
    "                    'reg_alpha': 0.8050274884780146, \n",
    "                    'reg_lambda': 0.6103556795215724, \n",
    "                    'min_child_weight': 1, \n",
    "                    'subsample': 0.11501180422050117, \n",
    "                    'colsample_bytree': 0.40581015124472175,\n",
    "                    'learning_rate': 0.40942579679657387}\n",
    "\n",
    "# best_params_LGBM = {'max_depth': 5, \n",
    "#                     'n_estimators': 1086, \n",
    "#                     'gamma': 0.21718199012686834, \n",
    "#                     'lambda_l1': 0.9770735787707583, \n",
    "#                     'lambda_l2': 0.8576215710818857, \n",
    "#                     'min_child_samples': 4, \n",
    "#                     'subsample': 0.9343204270146038, \n",
    "#                     'colsample_bytree': 0.6782348565590313, \n",
    "#                     'learning_rate': 0.014669435683414833}\n",
    "\n",
    "# print(best_params_LGBM)"
   ]
  },
  {
   "cell_type": "markdown",
   "id": "4f8f4f56",
   "metadata": {
    "papermill": {
     "duration": 0.023277,
     "end_time": "2024-02-24T09:56:19.505066",
     "exception": false,
     "start_time": "2024-02-24T09:56:19.481789",
     "status": "completed"
    },
    "tags": []
   },
   "source": [
    "# 6. Train the best model and export the results"
   ]
  },
  {
   "cell_type": "code",
   "execution_count": 26,
   "id": "32a8e158",
   "metadata": {
    "execution": {
     "iopub.execute_input": "2024-02-24T09:56:19.552380Z",
     "iopub.status.busy": "2024-02-24T09:56:19.551773Z",
     "iopub.status.idle": "2024-02-24T09:56:37.458925Z",
     "shell.execute_reply": "2024-02-24T09:56:37.457649Z"
    },
    "papermill": {
     "duration": 17.933494,
     "end_time": "2024-02-24T09:56:37.461880",
     "exception": false,
     "start_time": "2024-02-24T09:56:19.528386",
     "status": "completed"
    },
    "tags": []
   },
   "outputs": [],
   "source": [
    "# train the best model\n",
    "\n",
    "clf = XGBClassifier(**best_params_XGB)\n",
    "\n",
    "#clf = LGBMClassifier(**best_params_LGBM, verbose = -1, verbosity = -1)\n",
    "\n",
    "clf.fit(X, y)\n",
    "\n",
    "\n",
    "predictions = clf.predict(X_test)"
   ]
  },
  {
   "cell_type": "code",
   "execution_count": 27,
   "id": "d72a0d6f",
   "metadata": {
    "execution": {
     "iopub.execute_input": "2024-02-24T09:56:37.508820Z",
     "iopub.status.busy": "2024-02-24T09:56:37.508351Z",
     "iopub.status.idle": "2024-02-24T09:56:37.562701Z",
     "shell.execute_reply": "2024-02-24T09:56:37.561485Z"
    },
    "papermill": {
     "duration": 0.081251,
     "end_time": "2024-02-24T09:56:37.565498",
     "exception": false,
     "start_time": "2024-02-24T09:56:37.484247",
     "status": "completed"
    },
    "tags": []
   },
   "outputs": [],
   "source": [
    "reverse_dict_conversion = dict(zip(dict_conversion.values(), dict_conversion.keys()))\n",
    "\n",
    "df_submission = pd.read_csv('/kaggle/input/playground-series-s4e2/sample_submission.csv')\n",
    "\n",
    "df_submission['NObeyesdad'] = predictions\n",
    "df_submission['NObeyesdad'] = df_submission['NObeyesdad'].map(reverse_dict_conversion)\n",
    "\n",
    "df_submission.to_csv('submission.csv', index=False)"
   ]
  },
  {
   "cell_type": "code",
   "execution_count": 28,
   "id": "c9a87b37",
   "metadata": {
    "execution": {
     "iopub.execute_input": "2024-02-24T09:56:37.611935Z",
     "iopub.status.busy": "2024-02-24T09:56:37.611492Z",
     "iopub.status.idle": "2024-02-24T09:56:37.962078Z",
     "shell.execute_reply": "2024-02-24T09:56:37.960766Z"
    },
    "papermill": {
     "duration": 0.37729,
     "end_time": "2024-02-24T09:56:37.964547",
     "exception": false,
     "start_time": "2024-02-24T09:56:37.587257",
     "status": "completed"
    },
    "tags": []
   },
   "outputs": [
    {
     "data": {
      "image/png": "[encoded data removed]",
      "text/plain": [
       "<Figure size 640x480 with 1 Axes>"
      ]
     },
     "metadata": {},
     "output_type": "display_data"
    }
   ],
   "source": [
    "df_features = pd.DataFrame(clf.feature_importances_, index=X.columns, columns=['Feature importances'])\n",
    "df_features = df_features.sort_values('Feature importances')\n",
    "\n",
    "df_features.plot(kind='barh')\n",
    "plt.grid()\n",
    "plt.xlabel('Feature importance')\n",
    "plt.show()"
   ]
  },
  {
   "cell_type": "markdown",
   "id": "a51763d3",
   "metadata": {
    "papermill": {
     "duration": 0.02457,
     "end_time": "2024-02-24T09:56:38.012918",
     "exception": false,
     "start_time": "2024-02-24T09:56:37.988348",
     "status": "completed"
    },
    "tags": []
   },
   "source": [
    "# 7. Try to improve accuracy using cross validation\n",
    "In this section we use a tuned XGBoost together with cross-validation.\n",
    "We make 5 predictions for each sample and then we compute the average probability to assign the label."
   ]
  },
  {
   "cell_type": "code",
   "execution_count": 29,
   "id": "052ebbb3",
   "metadata": {
    "execution": {
     "iopub.execute_input": "2024-02-24T09:56:38.065359Z",
     "iopub.status.busy": "2024-02-24T09:56:38.064916Z",
     "iopub.status.idle": "2024-02-24T09:56:38.076673Z",
     "shell.execute_reply": "2024-02-24T09:56:38.075465Z"
    },
    "papermill": {
     "duration": 0.040013,
     "end_time": "2024-02-24T09:56:38.079026",
     "exception": false,
     "start_time": "2024-02-24T09:56:38.039013",
     "status": "completed"
    },
    "tags": []
   },
   "outputs": [],
   "source": [
    "from sklearn.model_selection import StratifiedKFold\n",
    "from sklearn.metrics import accuracy_score\n",
    "\n",
    "def train_evaluate_model(X, y, X_test):\n",
    "    # use Stratified KFold\n",
    "    skf = StratifiedKFold(n_splits=5, shuffle=True, random_state=42)\n",
    "    skf.get_n_splits(X, y)\n",
    "\n",
    "    scores = []\n",
    "    predictions = []\n",
    "    clfs = []\n",
    "\n",
    "    for i, (train_index, val_index) in enumerate(skf.split(X, y)):\n",
    "        print('Fitting with k-fold', i+1, 'out of', len(train_index))\n",
    "        X_train = np.array(X)[train_index, :]\n",
    "        y_train = np.array(y)[train_index]\n",
    "        X_val = np.array(X)[val_index, :]\n",
    "        y_val = np.array(y)[val_index]\n",
    "        \n",
    "        print('Training on', len(X_train), 'samples')\n",
    "        print('Evaluating on', len(X_val), 'samples')\n",
    "        \n",
    "        clf = XGBClassifier(**best_params_XGB)\n",
    "        clf.fit(X=X_train, y=y_train, \n",
    "                eval_set=[(X_train, y_train), (X_val, y_val)],\n",
    "                early_stopping_rounds=10,\n",
    "                verbose=50)\n",
    "        \n",
    "        #clf = LGBMClassifier(**best_params_LGBM, verbose = -1, verbosity = -1)\n",
    "        #clf.fit(X_train, y_train, eval_set=[(X_train, y_train), (X_val, y_val)])\n",
    "        \n",
    "        y_pred_val = clf.predict(X_val)\n",
    "\n",
    "        new_score = accuracy_score(y_val, y_pred_val)\n",
    "        print('validation score is', new_score)\n",
    "        scores.append(new_score)\n",
    "\n",
    "        # store predictions\n",
    "        y_pred_test_proba = clf.predict_proba(X_test)\n",
    "        predictions.append(y_pred_test_proba)\n",
    "        print('Round', i+1, 'Predictions stored successfully')\n",
    "        \n",
    "        clfs.append(clf)\n",
    "        \n",
    "    return scores, np.array(predictions), clfs"
   ]
  },
  {
   "cell_type": "code",
   "execution_count": 30,
   "id": "78cb15fd",
   "metadata": {
    "execution": {
     "iopub.execute_input": "2024-02-24T09:56:38.129561Z",
     "iopub.status.busy": "2024-02-24T09:56:38.129154Z",
     "iopub.status.idle": "2024-02-24T09:56:46.806842Z",
     "shell.execute_reply": "2024-02-24T09:56:46.805102Z"
    },
    "papermill": {
     "duration": 8.704725,
     "end_time": "2024-02-24T09:56:46.809524",
     "exception": false,
     "start_time": "2024-02-24T09:56:38.104799",
     "status": "completed"
    },
    "tags": []
   },
   "outputs": [
    {
     "name": "stdout",
     "output_type": "stream",
     "text": [
      "Fitting with k-fold 1 out of 16606\n",
      "Training on 16606 samples\n",
      "Evaluating on 4152 samples\n",
      "[0]\tvalidation_0-mlogloss:1.00645\tvalidation_1-mlogloss:1.01773\n"
     ]
    },
    {
     "name": "stderr",
     "output_type": "stream",
     "text": [
      "/opt/conda/lib/python3.10/site-packages/xgboost/sklearn.py:889: UserWarning: `early_stopping_rounds` in `fit` method is deprecated for better compatibility with scikit-learn, use `early_stopping_rounds` in constructor or`set_params` instead.\n",
      "  warnings.warn(\n"
     ]
    },
    {
     "name": "stdout",
     "output_type": "stream",
     "text": [
      "[38]\tvalidation_0-mlogloss:0.13716\tvalidation_1-mlogloss:0.26084\n",
      "validation score is 0.9137764932562621\n",
      "Round 1 Predictions stored successfully\n",
      "Fitting with k-fold 2 out of 16606\n",
      "Training on 16606 samples\n",
      "Evaluating on 4152 samples\n",
      "[0]\tvalidation_0-mlogloss:1.00288\tvalidation_1-mlogloss:1.02717\n"
     ]
    },
    {
     "name": "stderr",
     "output_type": "stream",
     "text": [
      "/opt/conda/lib/python3.10/site-packages/xgboost/sklearn.py:889: UserWarning: `early_stopping_rounds` in `fit` method is deprecated for better compatibility with scikit-learn, use `early_stopping_rounds` in constructor or`set_params` instead.\n",
      "  warnings.warn(\n"
     ]
    },
    {
     "name": "stdout",
     "output_type": "stream",
     "text": [
      "[42]\tvalidation_0-mlogloss:0.12829\tvalidation_1-mlogloss:0.29185\n",
      "validation score is 0.9039017341040463\n",
      "Round 2 Predictions stored successfully\n",
      "Fitting with k-fold 3 out of 16606\n",
      "Training on 16606 samples\n",
      "Evaluating on 4152 samples\n",
      "[0]\tvalidation_0-mlogloss:1.00910\tvalidation_1-mlogloss:1.01697\n"
     ]
    },
    {
     "name": "stderr",
     "output_type": "stream",
     "text": [
      "/opt/conda/lib/python3.10/site-packages/xgboost/sklearn.py:889: UserWarning: `early_stopping_rounds` in `fit` method is deprecated for better compatibility with scikit-learn, use `early_stopping_rounds` in constructor or`set_params` instead.\n",
      "  warnings.warn(\n"
     ]
    },
    {
     "name": "stdout",
     "output_type": "stream",
     "text": [
      "[38]\tvalidation_0-mlogloss:0.13822\tvalidation_1-mlogloss:0.26265\n",
      "validation score is 0.9092003853564548\n",
      "Round 3 Predictions stored successfully\n",
      "Fitting with k-fold 4 out of 16607\n",
      "Training on 16607 samples\n",
      "Evaluating on 4151 samples\n",
      "[0]\tvalidation_0-mlogloss:1.00823\tvalidation_1-mlogloss:1.02633\n"
     ]
    },
    {
     "name": "stderr",
     "output_type": "stream",
     "text": [
      "/opt/conda/lib/python3.10/site-packages/xgboost/sklearn.py:889: UserWarning: `early_stopping_rounds` in `fit` method is deprecated for better compatibility with scikit-learn, use `early_stopping_rounds` in constructor or`set_params` instead.\n",
      "  warnings.warn(\n"
     ]
    },
    {
     "name": "stdout",
     "output_type": "stream",
     "text": [
      "[38]\tvalidation_0-mlogloss:0.13326\tvalidation_1-mlogloss:0.28737\n",
      "validation score is 0.9017104312213924\n",
      "Round 4 Predictions stored successfully\n",
      "Fitting with k-fold 5 out of 16607\n",
      "Training on 16607 samples\n",
      "Evaluating on 4151 samples\n",
      "[0]\tvalidation_0-mlogloss:1.00698\tvalidation_1-mlogloss:1.02809\n"
     ]
    },
    {
     "name": "stderr",
     "output_type": "stream",
     "text": [
      "/opt/conda/lib/python3.10/site-packages/xgboost/sklearn.py:889: UserWarning: `early_stopping_rounds` in `fit` method is deprecated for better compatibility with scikit-learn, use `early_stopping_rounds` in constructor or`set_params` instead.\n",
      "  warnings.warn(\n"
     ]
    },
    {
     "name": "stdout",
     "output_type": "stream",
     "text": [
      "[45]\tvalidation_0-mlogloss:0.12683\tvalidation_1-mlogloss:0.27946\n",
      "validation score is 0.9038785834738617\n",
      "Round 5 Predictions stored successfully\n"
     ]
    }
   ],
   "source": [
    "scores, predictions, clfs = train_evaluate_model(X, y, X_test)"
   ]
  },
  {
   "cell_type": "code",
   "execution_count": 31,
   "id": "4c64becc",
   "metadata": {
    "execution": {
     "iopub.execute_input": "2024-02-24T09:56:46.862886Z",
     "iopub.status.busy": "2024-02-24T09:56:46.862463Z",
     "iopub.status.idle": "2024-02-24T09:56:46.868585Z",
     "shell.execute_reply": "2024-02-24T09:56:46.867250Z"
    },
    "papermill": {
     "duration": 0.03537,
     "end_time": "2024-02-24T09:56:46.871484",
     "exception": false,
     "start_time": "2024-02-24T09:56:46.836114",
     "status": "completed"
    },
    "tags": []
   },
   "outputs": [
    {
     "name": "stdout",
     "output_type": "stream",
     "text": [
      "Average evaluation score =  0.9064935254824034\n"
     ]
    }
   ],
   "source": [
    "print('Average evaluation score = ', np.mean(scores))"
   ]
  },
  {
   "cell_type": "code",
   "execution_count": 32,
   "id": "951e5dfa",
   "metadata": {
    "execution": {
     "iopub.execute_input": "2024-02-24T09:56:46.922505Z",
     "iopub.status.busy": "2024-02-24T09:56:46.922036Z",
     "iopub.status.idle": "2024-02-24T09:56:46.931324Z",
     "shell.execute_reply": "2024-02-24T09:56:46.930037Z"
    },
    "papermill": {
     "duration": 0.037967,
     "end_time": "2024-02-24T09:56:46.933717",
     "exception": false,
     "start_time": "2024-02-24T09:56:46.895750",
     "status": "completed"
    },
    "tags": []
   },
   "outputs": [
    {
     "data": {
      "text/plain": [
       "array([5, 2, 6, ..., 0, 1, 5])"
      ]
     },
     "execution_count": 32,
     "metadata": {},
     "output_type": "execute_result"
    }
   ],
   "source": [
    "y_test_pred = np.mean(predictions, axis=0)\n",
    "y_test_pred = np.argmax(y_test_pred, axis=1)\n",
    "\n",
    "y_test_pred"
   ]
  },
  {
   "cell_type": "code",
   "execution_count": 33,
   "id": "7a14894c",
   "metadata": {
    "execution": {
     "iopub.execute_input": "2024-02-24T09:56:46.985594Z",
     "iopub.status.busy": "2024-02-24T09:56:46.985134Z",
     "iopub.status.idle": "2024-02-24T09:56:46.994497Z",
     "shell.execute_reply": "2024-02-24T09:56:46.993272Z"
    },
    "papermill": {
     "duration": 0.040169,
     "end_time": "2024-02-24T09:56:46.998101",
     "exception": false,
     "start_time": "2024-02-24T09:56:46.957932",
     "status": "completed"
    },
    "tags": []
   },
   "outputs": [],
   "source": [
    "df_submission['NObeyesdad'] = y_test_pred\n",
    "df_submission['NObeyesdad'] = df_submission['NObeyesdad'].map(reverse_dict_conversion)\n",
    "\n",
    "#df_submission.to_csv('submission.csv', index=False)"
   ]
  },
  {
   "cell_type": "markdown",
   "id": "264b5157",
   "metadata": {
    "papermill": {
     "duration": 0.023838,
     "end_time": "2024-02-24T09:56:47.045958",
     "exception": false,
     "start_time": "2024-02-24T09:56:47.022120",
     "status": "completed"
    },
    "tags": []
   },
   "source": [
    "### Explore results of one of the model previously trained"
   ]
  },
  {
   "cell_type": "code",
   "execution_count": 34,
   "id": "f62a239d",
   "metadata": {
    "execution": {
     "iopub.execute_input": "2024-02-24T09:56:47.100200Z",
     "iopub.status.busy": "2024-02-24T09:56:47.099807Z",
     "iopub.status.idle": "2024-02-24T09:56:47.378534Z",
     "shell.execute_reply": "2024-02-24T09:56:47.376772Z"
    },
    "papermill": {
     "duration": 0.309685,
     "end_time": "2024-02-24T09:56:47.382377",
     "exception": false,
     "start_time": "2024-02-24T09:56:47.072692",
     "status": "completed"
    },
    "tags": []
   },
   "outputs": [
    {
     "data": {
      "image/png": "[encoded data removed]",
      "text/plain": [
       "<Figure size 640x480 with 1 Axes>"
      ]
     },
     "metadata": {},
     "output_type": "display_data"
    }
   ],
   "source": [
    "# this section works only for XGBoost\n",
    "\n",
    "results = clfs[0].evals_result()\n",
    "\n",
    "train_loss = results['validation_0']['mlogloss']\n",
    "validation_loss = results['validation_1']['mlogloss']\n",
    "epochs_grid = np.arange(1, len(train_loss)+1)\n",
    "\n",
    "plt.plot(epochs_grid, train_loss, label='Training')\n",
    "plt.plot(epochs_grid, validation_loss, label='Validation')\n",
    "plt.legend()\n",
    "plt.ylabel('loss')\n",
    "plt.xlabel('Epochs')\n",
    "plt.grid()"
   ]
  },
  {
   "cell_type": "markdown",
   "id": "2ddf35ca",
   "metadata": {
    "papermill": {
     "duration": 0.028049,
     "end_time": "2024-02-24T09:56:47.438156",
     "exception": false,
     "start_time": "2024-02-24T09:56:47.410107",
     "status": "completed"
    },
    "tags": []
   },
   "source": [
    "# 8. Try to improve accuracy using cross validation\n",
    "In this section we try to improve the accuracy using a voting classifier, consisting of the 3 following algorithms:\n",
    "- GradientBoosting Classifier\n",
    "- XGBoost\n",
    "- LigthGBM"
   ]
  },
  {
   "cell_type": "code",
   "execution_count": 35,
   "id": "cfb39973",
   "metadata": {
    "execution": {
     "iopub.execute_input": "2024-02-24T09:56:47.491957Z",
     "iopub.status.busy": "2024-02-24T09:56:47.491493Z",
     "iopub.status.idle": "2024-02-24T09:58:01.123989Z",
     "shell.execute_reply": "2024-02-24T09:58:01.122318Z"
    },
    "papermill": {
     "duration": 73.690364,
     "end_time": "2024-02-24T09:58:01.154779",
     "exception": false,
     "start_time": "2024-02-24T09:56:47.464415",
     "status": "completed"
    },
    "tags": []
   },
   "outputs": [
    {
     "data": {
      "text/html": [
       "<style>#sk-container-id-2 {color: black;background-color: white;}#sk-container-id-2 pre{padding: 0;}#sk-container-id-2 div.sk-toggleable {background-color: white;}#sk-container-id-2 label.sk-toggleable__label {cursor: pointer;display: block;width: 100%;margin-bottom: 0;padding: 0.3em;box-sizing: border-box;text-align: center;}#sk-container-id-2 label.sk-toggleable__label-arrow:before {content: \"▸\";float: left;margin-right: 0.25em;color: #696969;}#sk-container-id-2 label.sk-toggleable__label-arrow:hover:before {color: black;}#sk-container-id-2 div.sk-estimator:hover label.sk-toggleable__label-arrow:before {color: black;}#sk-container-id-2 div.sk-toggleable__content {max-height: 0;max-width: 0;overflow: hidden;text-align: left;background-color: #f0f8ff;}#sk-container-id-2 div.sk-toggleable__content pre {margin: 0.2em;color: black;border-radius: 0.25em;background-color: #f0f8ff;}#sk-container-id-2 input.sk-toggleable__control:checked~div.sk-toggleable__content {max-height: 200px;max-width: 100%;overflow: auto;}#sk-container-id-2 input.sk-toggleable__control:checked~label.sk-toggleable__label-arrow:before {content: \"▾\";}#sk-container-id-2 div.sk-estimator input.sk-toggleable__control:checked~label.sk-toggleable__label {background-color: #d4ebff;}#sk-container-id-2 div.sk-label input.sk-toggleable__control:checked~label.sk-toggleable__label {background-color: #d4ebff;}#sk-container-id-2 input.sk-hidden--visually {border: 0;clip: rect(1px 1px 1px 1px);clip: rect(1px, 1px, 1px, 1px);height: 1px;margin: -1px;overflow: hidden;padding: 0;position: absolute;width: 1px;}#sk-container-id-2 div.sk-estimator {font-family: monospace;background-color: #f0f8ff;border: 1px dotted black;border-radius: 0.25em;box-sizing: border-box;margin-bottom: 0.5em;}#sk-container-id-2 div.sk-estimator:hover {background-color: #d4ebff;}#sk-container-id-2 div.sk-parallel-item::after {content: \"\";width: 100%;border-bottom: 1px solid gray;flex-grow: 1;}#sk-container-id-2 div.sk-label:hover label.sk-toggleable__label {background-color: #d4ebff;}#sk-container-id-2 div.sk-serial::before {content: \"\";position: absolute;border-left: 1px solid gray;box-sizing: border-box;top: 0;bottom: 0;left: 50%;z-index: 0;}#sk-container-id-2 div.sk-serial {display: flex;flex-direction: column;align-items: center;background-color: white;padding-right: 0.2em;padding-left: 0.2em;position: relative;}#sk-container-id-2 div.sk-item {position: relative;z-index: 1;}#sk-container-id-2 div.sk-parallel {display: flex;align-items: stretch;justify-content: center;background-color: white;position: relative;}#sk-container-id-2 div.sk-item::before, #sk-container-id-2 div.sk-parallel-item::before {content: \"\";position: absolute;border-left: 1px solid gray;box-sizing: border-box;top: 0;bottom: 0;left: 50%;z-index: -1;}#sk-container-id-2 div.sk-parallel-item {display: flex;flex-direction: column;z-index: 1;position: relative;background-color: white;}#sk-container-id-2 div.sk-parallel-item:first-child::after {align-self: flex-end;width: 50%;}#sk-container-id-2 div.sk-parallel-item:last-child::after {align-self: flex-start;width: 50%;}#sk-container-id-2 div.sk-parallel-item:only-child::after {width: 0;}#sk-container-id-2 div.sk-dashed-wrapped {border: 1px dashed gray;margin: 0 0.4em 0.5em 0.4em;box-sizing: border-box;padding-bottom: 0.4em;background-color: white;}#sk-container-id-2 div.sk-label label {font-family: monospace;font-weight: bold;display: inline-block;line-height: 1.2em;}#sk-container-id-2 div.sk-label-container {text-align: center;}#sk-container-id-2 div.sk-container {/* jupyter's `normalize.less` sets `[hidden] { display: none; }` but bootstrap.min.css set `[hidden] { display: none !important; }` so we also need the `!important` here to be able to override the default hidden behavior on the sphinx rendered scikit-learn.org. See: https://github.com/scikit-learn/scikit-learn/issues/21755 */display: inline-block !important;position: relative;}#sk-container-id-2 div.sk-text-repr-fallback {display: none;}</style><div id=\"sk-container-id-2\" class=\"sk-top-container\"><div class=\"sk-text-repr-fallback\"><pre>VotingClassifier(estimators=[(&#x27;lgbm&#x27;,\n",
       "                              LGBMClassifier(colsample_bytree=0.40581015124472175,\n",
       "                                             gamma=0.8245358709544012,\n",
       "                                             learning_rate=0.40942579679657387,\n",
       "                                             max_depth=6, min_child_weight=1,\n",
       "                                             n_estimators=1750,\n",
       "                                             reg_alpha=0.8050274884780146,\n",
       "                                             reg_lambda=0.6103556795215724,\n",
       "                                             subsample=0.11501180422050117,\n",
       "                                             verbose=-1, verbosity=-1)),\n",
       "                             (&#x27;xgb&#x27;,\n",
       "                              XGBClassifier(base_score=None, b...\n",
       "                                            interaction_constraints=None,\n",
       "                                            learning_rate=0.6044163952699279,\n",
       "                                            max_bin=None,\n",
       "                                            max_cat_threshold=None,\n",
       "                                            max_cat_to_onehot=None,\n",
       "                                            max_delta_step=None, max_depth=6,\n",
       "                                            max_leaves=None, min_child_weight=3,\n",
       "                                            missing=nan,\n",
       "                                            monotone_constraints=None,\n",
       "                                            multi_strategy=None,\n",
       "                                            n_estimators=793, n_jobs=None,\n",
       "                                            num_parallel_tree=None,\n",
       "                                            random_state=None, ...)),\n",
       "                             (&#x27;gb&#x27;, GradientBoostingClassifier())],\n",
       "                 voting=&#x27;soft&#x27;)</pre><b>In a Jupyter environment, please rerun this cell to show the HTML representation or trust the notebook. <br />On GitHub, the HTML representation is unable to render, please try loading this page with nbviewer.org.</b></div><div class=\"sk-container\" hidden><div class=\"sk-item sk-dashed-wrapped\"><div class=\"sk-label-container\"><div class=\"sk-label sk-toggleable\"><input class=\"sk-toggleable__control sk-hidden--visually\" id=\"sk-estimator-id-2\" type=\"checkbox\" ><label for=\"sk-estimator-id-2\" class=\"sk-toggleable__label sk-toggleable__label-arrow\">VotingClassifier</label><div class=\"sk-toggleable__content\"><pre>VotingClassifier(estimators=[(&#x27;lgbm&#x27;,\n",
       "                              LGBMClassifier(colsample_bytree=0.40581015124472175,\n",
       "                                             gamma=0.8245358709544012,\n",
       "                                             learning_rate=0.40942579679657387,\n",
       "                                             max_depth=6, min_child_weight=1,\n",
       "                                             n_estimators=1750,\n",
       "                                             reg_alpha=0.8050274884780146,\n",
       "                                             reg_lambda=0.6103556795215724,\n",
       "                                             subsample=0.11501180422050117,\n",
       "                                             verbose=-1, verbosity=-1)),\n",
       "                             (&#x27;xgb&#x27;,\n",
       "                              XGBClassifier(base_score=None, b...\n",
       "                                            interaction_constraints=None,\n",
       "                                            learning_rate=0.6044163952699279,\n",
       "                                            max_bin=None,\n",
       "                                            max_cat_threshold=None,\n",
       "                                            max_cat_to_onehot=None,\n",
       "                                            max_delta_step=None, max_depth=6,\n",
       "                                            max_leaves=None, min_child_weight=3,\n",
       "                                            missing=nan,\n",
       "                                            monotone_constraints=None,\n",
       "                                            multi_strategy=None,\n",
       "                                            n_estimators=793, n_jobs=None,\n",
       "                                            num_parallel_tree=None,\n",
       "                                            random_state=None, ...)),\n",
       "                             (&#x27;gb&#x27;, GradientBoostingClassifier())],\n",
       "                 voting=&#x27;soft&#x27;)</pre></div></div></div><div class=\"sk-parallel\"><div class=\"sk-parallel-item\"><div class=\"sk-item\"><div class=\"sk-label-container\"><div class=\"sk-label sk-toggleable\"><label>lgbm</label></div></div><div class=\"sk-serial\"><div class=\"sk-item\"><div class=\"sk-estimator sk-toggleable\"><input class=\"sk-toggleable__control sk-hidden--visually\" id=\"sk-estimator-id-3\" type=\"checkbox\" ><label for=\"sk-estimator-id-3\" class=\"sk-toggleable__label sk-toggleable__label-arrow\">LGBMClassifier</label><div class=\"sk-toggleable__content\"><pre>LGBMClassifier(colsample_bytree=0.40581015124472175, gamma=0.8245358709544012,\n",
       "               learning_rate=0.40942579679657387, max_depth=6,\n",
       "               min_child_weight=1, n_estimators=1750,\n",
       "               reg_alpha=0.8050274884780146, reg_lambda=0.6103556795215724,\n",
       "               subsample=0.11501180422050117, verbose=-1, verbosity=-1)</pre></div></div></div></div></div></div><div class=\"sk-parallel-item\"><div class=\"sk-item\"><div class=\"sk-label-container\"><div class=\"sk-label sk-toggleable\"><label>xgb</label></div></div><div class=\"sk-serial\"><div class=\"sk-item\"><div class=\"sk-estimator sk-toggleable\"><input class=\"sk-toggleable__control sk-hidden--visually\" id=\"sk-estimator-id-4\" type=\"checkbox\" ><label for=\"sk-estimator-id-4\" class=\"sk-toggleable__label sk-toggleable__label-arrow\">XGBClassifier</label><div class=\"sk-toggleable__content\"><pre>XGBClassifier(base_score=None, booster=None, callbacks=None,\n",
       "              colsample_bylevel=None, colsample_bynode=None,\n",
       "              colsample_bytree=0.4381221700983686, device=None,\n",
       "              early_stopping_rounds=None, enable_categorical=False,\n",
       "              eval_metric=None, feature_types=None, gamma=0.13219040111589608,\n",
       "              grow_policy=None, importance_type=None,\n",
       "              interaction_constraints=None, learning_rate=0.6044163952699279,\n",
       "              max_bin=None, max_cat_threshold=None, max_cat_to_onehot=None,\n",
       "              max_delta_step=None, max_depth=6, max_leaves=None,\n",
       "              min_child_weight=3, missing=nan, monotone_constraints=None,\n",
       "              multi_strategy=None, n_estimators=793, n_jobs=None,\n",
       "              num_parallel_tree=None, random_state=None, ...)</pre></div></div></div></div></div></div><div class=\"sk-parallel-item\"><div class=\"sk-item\"><div class=\"sk-label-container\"><div class=\"sk-label sk-toggleable\"><label>gb</label></div></div><div class=\"sk-serial\"><div class=\"sk-item\"><div class=\"sk-estimator sk-toggleable\"><input class=\"sk-toggleable__control sk-hidden--visually\" id=\"sk-estimator-id-5\" type=\"checkbox\" ><label for=\"sk-estimator-id-5\" class=\"sk-toggleable__label sk-toggleable__label-arrow\">GradientBoostingClassifier</label><div class=\"sk-toggleable__content\"><pre>GradientBoostingClassifier()</pre></div></div></div></div></div></div></div></div></div></div>"
      ],
      "text/plain": [
       "VotingClassifier(estimators=[('lgbm',\n",
       "                              LGBMClassifier(colsample_bytree=0.40581015124472175,\n",
       "                                             gamma=0.8245358709544012,\n",
       "                                             learning_rate=0.40942579679657387,\n",
       "                                             max_depth=6, min_child_weight=1,\n",
       "                                             n_estimators=1750,\n",
       "                                             reg_alpha=0.8050274884780146,\n",
       "                                             reg_lambda=0.6103556795215724,\n",
       "                                             subsample=0.11501180422050117,\n",
       "                                             verbose=-1, verbosity=-1)),\n",
       "                             ('xgb',\n",
       "                              XGBClassifier(base_score=None, b...\n",
       "                                            interaction_constraints=None,\n",
       "                                            learning_rate=0.6044163952699279,\n",
       "                                            max_bin=None,\n",
       "                                            max_cat_threshold=None,\n",
       "                                            max_cat_to_onehot=None,\n",
       "                                            max_delta_step=None, max_depth=6,\n",
       "                                            max_leaves=None, min_child_weight=3,\n",
       "                                            missing=nan,\n",
       "                                            monotone_constraints=None,\n",
       "                                            multi_strategy=None,\n",
       "                                            n_estimators=793, n_jobs=None,\n",
       "                                            num_parallel_tree=None,\n",
       "                                            random_state=None, ...)),\n",
       "                             ('gb', GradientBoostingClassifier())],\n",
       "                 voting='soft')"
      ]
     },
     "execution_count": 35,
     "metadata": {},
     "output_type": "execute_result"
    }
   ],
   "source": [
    "from sklearn.ensemble import VotingClassifier\n",
    "\n",
    "clf_lgbm = LGBMClassifier(**best_params_LGBM, verbose = -1, verbosity = -1)\n",
    "clf_xgb = XGBClassifier(**best_params_XGB)\n",
    "clf_gb = GradientBoostingClassifier()\n",
    "\n",
    "voting_clf = VotingClassifier(estimators=[('lgbm', clf_lgbm), ('xgb', clf_xgb), ('gb', clf_gb)], \n",
    "                              voting='soft')\n",
    "\n",
    "voting_clf.fit(X, y)"
   ]
  },
  {
   "cell_type": "code",
   "execution_count": 36,
   "id": "845e647b",
   "metadata": {
    "execution": {
     "iopub.execute_input": "2024-02-24T09:58:01.212364Z",
     "iopub.status.busy": "2024-02-24T09:58:01.211666Z",
     "iopub.status.idle": "2024-02-24T09:58:03.855138Z",
     "shell.execute_reply": "2024-02-24T09:58:03.854080Z"
    },
    "papermill": {
     "duration": 2.675244,
     "end_time": "2024-02-24T09:58:03.857776",
     "exception": false,
     "start_time": "2024-02-24T09:58:01.182532",
     "status": "completed"
    },
    "tags": []
   },
   "outputs": [],
   "source": [
    "df_submission['NObeyesdad'] = voting_clf.predict(X_test)\n",
    "df_submission['NObeyesdad'] = df_submission['NObeyesdad'].map(reverse_dict_conversion)\n",
    "\n",
    "df_submission\n",
    "\n",
    "df_submission.to_csv('submission.csv', index=False)"
   ]
  },
  {
   "cell_type": "code",
   "execution_count": null,
   "id": "e83cd0be",
   "metadata": {
    "papermill": {
     "duration": 0.036749,
     "end_time": "2024-02-24T09:58:03.926715",
     "exception": false,
     "start_time": "2024-02-24T09:58:03.889966",
     "status": "completed"
    },
    "tags": []
   },
   "outputs": [],
   "source": []
  }
 ],
 "metadata": {
  "kaggle": {
   "accelerator": "none",
   "dataSources": [
    {
     "databundleVersionId": 7609535,
     "sourceId": 68479,
     "sourceType": "competition"
    }
   ],
   "dockerImageVersionId": 30646,
   "isGpuEnabled": false,
   "isInternetEnabled": true,
   "language": "python",
   "sourceType": "notebook"
  },
  "kernelspec": {
   "display_name": "Python 3",
   "language": "python",
   "name": "python3"
  },
  "language_info": {
   "codemirror_mode": {
    "name": "ipython",
    "version": 3
   },
   "file_extension": ".py",
   "mimetype": "text/x-python",
   "name": "python",
   "nbconvert_exporter": "python",
   "pygments_lexer": "ipython3",
   "version": "3.10.13"
  },
  "papermill": {
   "default_parameters": {},
   "duration": 686.573199,
   "end_time": "2024-02-24T09:58:05.484514",
   "environment_variables": {},
   "exception": null,
   "input_path": "__notebook__.ipynb",
   "output_path": "__notebook__.ipynb",
   "parameters": {},
   "start_time": "2024-02-24T09:46:38.911315",
   "version": "2.5.0"
  }
 },
 "nbformat": 4,
 "nbformat_minor": 5
}
