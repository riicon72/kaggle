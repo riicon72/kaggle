{
 "cells": [
  {
   "cell_type": "markdown",
   "id": "a5cd1d42",
   "metadata": {
    "papermill": {
     "duration": 0.009065,
     "end_time": "2024-01-04T07:17:23.563474",
     "exception": false,
     "start_time": "2024-01-04T07:17:23.554409",
     "status": "completed"
    },
    "tags": []
   },
   "source": [
    "**This notebook is an exercise in the [Python](https://www.kaggle.com/learn/python) course.  You can reference the tutorial at [this link](https://www.kaggle.com/colinmorris/loops-and-list-comprehensions).**\n",
    "\n",
    "---\n"
   ]
  },
  {
   "cell_type": "markdown",
   "id": "e270ad67",
   "metadata": {
    "papermill": {
     "duration": 0.007667,
     "end_time": "2024-01-04T07:17:23.580051",
     "exception": false,
     "start_time": "2024-01-04T07:17:23.572384",
     "status": "completed"
    },
    "tags": []
   },
   "source": [
    "With all you've learned, you can start writing much more interesting programs. See if you can solve the problems below.\n",
    "\n",
    "As always, run the setup code below before working on the questions.\n",
    "\n",
    "学んだことがすべてあれば、もっと面白いプログラムを書き始めることができる。以下の問題を解いてみよう。\n",
    "\n",
    "いつものように、問題を解く前に下のセットアップコードを実行してください。"
   ]
  },
  {
   "cell_type": "code",
   "execution_count": 1,
   "id": "1a5925bf",
   "metadata": {
    "execution": {
     "iopub.execute_input": "2024-01-04T07:17:23.598564Z",
     "iopub.status.busy": "2024-01-04T07:17:23.597949Z",
     "iopub.status.idle": "2024-01-04T07:17:24.119045Z",
     "shell.execute_reply": "2024-01-04T07:17:24.117753Z"
    },
    "papermill": {
     "duration": 0.534869,
     "end_time": "2024-01-04T07:17:24.122671",
     "exception": false,
     "start_time": "2024-01-04T07:17:23.587802",
     "status": "completed"
    },
    "tags": []
   },
   "outputs": [
    {
     "name": "stdout",
     "output_type": "stream",
     "text": [
      "Setup complete.\n"
     ]
    }
   ],
   "source": [
    "from learntools.core import binder; binder.bind(globals())\n",
    "from learntools.python.ex5 import *\n",
    "print('Setup complete.')"
   ]
  },
  {
   "cell_type": "markdown",
   "id": "27b9a1f4",
   "metadata": {
    "papermill": {
     "duration": 0.007869,
     "end_time": "2024-01-04T07:17:24.139075",
     "exception": false,
     "start_time": "2024-01-04T07:17:24.131206",
     "status": "completed"
    },
    "tags": []
   },
   "source": [
    "# 1.\n",
    "\n",
    "Have you ever felt debugging involved a bit of luck? The following program has a bug. Try to identify the bug and fix it.\n",
    "\n",
    "# 1.\n",
    "\n",
    "デバッグにはちょっとした運が必要だと感じたことはないだろうか。次のプログラムにはバグがあります。そのバグを特定し、修正してみてください。"
   ]
  },
  {
   "cell_type": "code",
   "execution_count": 2,
   "id": "955f8646",
   "metadata": {
    "execution": {
     "iopub.execute_input": "2024-01-04T07:17:24.157052Z",
     "iopub.status.busy": "2024-01-04T07:17:24.156522Z",
     "iopub.status.idle": "2024-01-04T07:17:24.163383Z",
     "shell.execute_reply": "2024-01-04T07:17:24.161953Z"
    },
    "papermill": {
     "duration": 0.019105,
     "end_time": "2024-01-04T07:17:24.166112",
     "exception": false,
     "start_time": "2024-01-04T07:17:24.147007",
     "status": "completed"
    },
    "tags": []
   },
   "outputs": [],
   "source": [
    "def has_lucky_number(nums):\n",
    "    \"\"\"Return whether the given list of numbers is lucky. A lucky list contains\n",
    "    at least one number divisible by 7.\n",
    "    \"\"\"\n",
    "    for num in nums:\n",
    "        if num % 7 == 0:\n",
    "            return True\n",
    "        else:\n",
    "            return False"
   ]
  },
  {
   "cell_type": "markdown",
   "id": "d2b41c38",
   "metadata": {
    "papermill": {
     "duration": 0.007414,
     "end_time": "2024-01-04T07:17:24.181365",
     "exception": false,
     "start_time": "2024-01-04T07:17:24.173951",
     "status": "completed"
    },
    "tags": []
   },
   "source": [
    "Try to identify the bug and fix it in the cell below:\n",
    "\n",
    "バグを特定し、下のセルに修正してみてください："
   ]
  },
  {
   "cell_type": "code",
   "execution_count": 3,
   "id": "fd47b68c",
   "metadata": {
    "execution": {
     "iopub.execute_input": "2024-01-04T07:17:24.199273Z",
     "iopub.status.busy": "2024-01-04T07:17:24.198896Z",
     "iopub.status.idle": "2024-01-04T07:17:24.211398Z",
     "shell.execute_reply": "2024-01-04T07:17:24.210174Z"
    },
    "papermill": {
     "duration": 0.024857,
     "end_time": "2024-01-04T07:17:24.214138",
     "exception": false,
     "start_time": "2024-01-04T07:17:24.189281",
     "status": "completed"
    },
    "tags": []
   },
   "outputs": [
    {
     "data": {
      "application/javascript": [
       "parent.postMessage({\"jupyterEvent\": \"custom.exercise_interaction\", \"data\": {\"outcomeType\": 1, \"valueTowardsCompletion\": 0.25, \"interactionType\": 1, \"questionType\": 2, \"questionId\": \"1_EarlyExitDebugging\", \"learnToolsVersion\": \"0.3.4\", \"failureMessage\": \"\", \"exceptionClass\": \"\", \"trace\": \"\"}}, \"*\")"
      ],
      "text/plain": [
       "<IPython.core.display.Javascript object>"
      ]
     },
     "metadata": {},
     "output_type": "display_data"
    },
    {
     "data": {
      "text/markdown": [
       "<span style=\"color:#33cc33\">Correct:</span> \n",
       "\n",
       "Remember that `return` causes a function to exit immediately. So our original implementation always ran for just one iteration. We can only return `False` if we've looked at every element of the list (and confirmed that none of them are lucky). Though we can return early if the answer is `True`:\n",
       "\n",
       "```python\n",
       "def has_lucky_number(nums):\n",
       "    for num in nums:\n",
       "        if num % 7 == 0:\n",
       "            return True\n",
       "    # We've exhausted the list without finding a lucky number\n",
       "    return False\n",
       "```\n",
       "\n",
       "Here's a one-line version using a list comprehension with Python's `any` function (you can read about what it does by calling `help(any)`):\n",
       "\n",
       "```python\n",
       "def has_lucky_number(nums):\n",
       "    return any([num % 7 == 0 for num in nums])\n",
       "```\n"
      ],
      "text/plain": [
       "Correct: \n",
       "\n",
       "Remember that `return` causes a function to exit immediately. So our original implementation always ran for just one iteration. We can only return `False` if we've looked at every element of the list (and confirmed that none of them are lucky). Though we can return early if the answer is `True`:\n",
       "\n",
       "```python\n",
       "def has_lucky_number(nums):\n",
       "    for num in nums:\n",
       "        if num % 7 == 0:\n",
       "            return True\n",
       "    # We've exhausted the list without finding a lucky number\n",
       "    return False\n",
       "```\n",
       "\n",
       "Here's a one-line version using a list comprehension with Python's `any` function (you can read about what it does by calling `help(any)`):\n",
       "\n",
       "```python\n",
       "def has_lucky_number(nums):\n",
       "    return any([num % 7 == 0 for num in nums])\n",
       "```"
      ]
     },
     "metadata": {},
     "output_type": "display_data"
    }
   ],
   "source": [
    "def has_lucky_number(nums):\n",
    "    return any([num % 7 == 0 for num in nums])\n",
    "\n",
    "# Check your answer\n",
    "q1.check()"
   ]
  },
  {
   "cell_type": "code",
   "execution_count": 4,
   "id": "6b5cedbc",
   "metadata": {
    "execution": {
     "iopub.execute_input": "2024-01-04T07:17:24.232860Z",
     "iopub.status.busy": "2024-01-04T07:17:24.232435Z",
     "iopub.status.idle": "2024-01-04T07:17:24.241509Z",
     "shell.execute_reply": "2024-01-04T07:17:24.240045Z"
    },
    "papermill": {
     "duration": 0.021515,
     "end_time": "2024-01-04T07:17:24.243981",
     "exception": false,
     "start_time": "2024-01-04T07:17:24.222466",
     "status": "completed"
    },
    "tags": []
   },
   "outputs": [
    {
     "data": {
      "application/javascript": [
       "parent.postMessage({\"jupyterEvent\": \"custom.exercise_interaction\", \"data\": {\"interactionType\": 3, \"questionType\": 2, \"questionId\": \"1_EarlyExitDebugging\", \"learnToolsVersion\": \"0.3.4\", \"valueTowardsCompletion\": 0.0, \"failureMessage\": \"\", \"exceptionClass\": \"\", \"trace\": \"\", \"outcomeType\": 4}}, \"*\")"
      ],
      "text/plain": [
       "<IPython.core.display.Javascript object>"
      ]
     },
     "metadata": {},
     "output_type": "display_data"
    },
    {
     "data": {
      "text/markdown": [
       "<span style=\"color:#33cc99\">Solution:</span> Remember that `return` causes a function to exit immediately. So our original implementation always ran for just one iteration. We can only return `False` if we've looked at every element of the list (and confirmed that none of them are lucky). Though we can return early if the answer is `True`:\n",
       "\n",
       "```python\n",
       "def has_lucky_number(nums):\n",
       "    for num in nums:\n",
       "        if num % 7 == 0:\n",
       "            return True\n",
       "    # We've exhausted the list without finding a lucky number\n",
       "    return False\n",
       "```\n",
       "\n",
       "Here's a one-line version using a list comprehension with Python's `any` function (you can read about what it does by calling `help(any)`):\n",
       "\n",
       "```python\n",
       "def has_lucky_number(nums):\n",
       "    return any([num % 7 == 0 for num in nums])\n",
       "```\n"
      ],
      "text/plain": [
       "Solution: Remember that `return` causes a function to exit immediately. So our original implementation always ran for just one iteration. We can only return `False` if we've looked at every element of the list (and confirmed that none of them are lucky). Though we can return early if the answer is `True`:\n",
       "\n",
       "```python\n",
       "def has_lucky_number(nums):\n",
       "    for num in nums:\n",
       "        if num % 7 == 0:\n",
       "            return True\n",
       "    # We've exhausted the list without finding a lucky number\n",
       "    return False\n",
       "```\n",
       "\n",
       "Here's a one-line version using a list comprehension with Python's `any` function (you can read about what it does by calling `help(any)`):\n",
       "\n",
       "```python\n",
       "def has_lucky_number(nums):\n",
       "    return any([num % 7 == 0 for num in nums])\n",
       "```"
      ]
     },
     "metadata": {},
     "output_type": "display_data"
    }
   ],
   "source": [
    "#q1.hint()\n",
    "q1.solution()"
   ]
  },
  {
   "cell_type": "markdown",
   "id": "6f2103c8",
   "metadata": {
    "papermill": {
     "duration": 0.008801,
     "end_time": "2024-01-04T07:17:24.261352",
     "exception": false,
     "start_time": "2024-01-04T07:17:24.252551",
     "status": "completed"
    },
    "tags": []
   },
   "source": [
    "# 2.\n",
    "Look at the Python expression below. What do you think we'll get when we run it? When you've made your prediction, uncomment the code and run the cell to see if you were right.\n",
    "\n",
    "# 2.\n",
    "下のPython式を見てください。これを実行するとどうなると思いますか？あなたの予想が当たったら、コードのコメントを外してセルを実行し、あなたの予想が正しかったかどうか確かめてください。"
   ]
  },
  {
   "cell_type": "code",
   "execution_count": 5,
   "id": "369edd64",
   "metadata": {
    "execution": {
     "iopub.execute_input": "2024-01-04T07:17:24.281077Z",
     "iopub.status.busy": "2024-01-04T07:17:24.280649Z",
     "iopub.status.idle": "2024-01-04T07:17:24.285915Z",
     "shell.execute_reply": "2024-01-04T07:17:24.284714Z"
    },
    "papermill": {
     "duration": 0.018431,
     "end_time": "2024-01-04T07:17:24.288677",
     "exception": false,
     "start_time": "2024-01-04T07:17:24.270246",
     "status": "completed"
    },
    "tags": []
   },
   "outputs": [],
   "source": [
    "#[1, 2, 3, 4] > 2"
   ]
  },
  {
   "cell_type": "markdown",
   "id": "ae199a91",
   "metadata": {
    "papermill": {
     "duration": 0.008767,
     "end_time": "2024-01-04T07:17:24.306158",
     "exception": false,
     "start_time": "2024-01-04T07:17:24.297391",
     "status": "completed"
    },
    "tags": []
   },
   "source": [
    "R and Python have some libraries (like numpy and pandas) compare each element of the list to 2 (i.e. do an 'element-wise' comparison) and give us a list of booleans like `[False, False, True, True]`. \n",
    "\n",
    "Implement a function that reproduces this behaviour, returning a list of booleans corresponding to whether the corresponding element is greater than n.\n",
    "\n",
    "RやPythonには（numpyやpandasのように）リストの各要素を2と比較して（つまり「要素ごとの」比較をして）、`[False, False, True, True]`のようなブール値のリストを返すライブラリがあります。\n",
    "\n",
    "この振る舞いを再現する関数を実装して、対応する要素がnより大きいかどうかに対応するブール値のリストを返してください。"
   ]
  },
  {
   "cell_type": "code",
   "execution_count": 6,
   "id": "d52465ad",
   "metadata": {
    "execution": {
     "iopub.execute_input": "2024-01-04T07:17:24.326101Z",
     "iopub.status.busy": "2024-01-04T07:17:24.325694Z",
     "iopub.status.idle": "2024-01-04T07:17:24.335026Z",
     "shell.execute_reply": "2024-01-04T07:17:24.334193Z"
    },
    "papermill": {
     "duration": 0.022314,
     "end_time": "2024-01-04T07:17:24.337123",
     "exception": false,
     "start_time": "2024-01-04T07:17:24.314809",
     "status": "completed"
    },
    "tags": []
   },
   "outputs": [
    {
     "data": {
      "application/javascript": [
       "parent.postMessage({\"jupyterEvent\": \"custom.exercise_interaction\", \"data\": {\"outcomeType\": 1, \"valueTowardsCompletion\": 0.25, \"interactionType\": 1, \"questionType\": 2, \"questionId\": \"2_ElementWiseComparison\", \"learnToolsVersion\": \"0.3.4\", \"failureMessage\": \"\", \"exceptionClass\": \"\", \"trace\": \"\"}}, \"*\")"
      ],
      "text/plain": [
       "<IPython.core.display.Javascript object>"
      ]
     },
     "metadata": {},
     "output_type": "display_data"
    },
    {
     "data": {
      "text/markdown": [
       "<span style=\"color:#33cc33\">Correct:</span> \n",
       "\n",
       "Here's one solution:\n",
       "```python\n",
       "def elementwise_greater_than(L, thresh):\n",
       "    res = []\n",
       "    for ele in L:\n",
       "        res.append(ele > thresh)\n",
       "    return res\n",
       "```\n",
       "\n",
       "And here's the list comprehension version:\n",
       "```python\n",
       "def elementwise_greater_than(L, thresh):\n",
       "    return [ele > thresh for ele in L]\n",
       "```\n"
      ],
      "text/plain": [
       "Correct: \n",
       "\n",
       "Here's one solution:\n",
       "```python\n",
       "def elementwise_greater_than(L, thresh):\n",
       "    res = []\n",
       "    for ele in L:\n",
       "        res.append(ele > thresh)\n",
       "    return res\n",
       "```\n",
       "\n",
       "And here's the list comprehension version:\n",
       "```python\n",
       "def elementwise_greater_than(L, thresh):\n",
       "    return [ele > thresh for ele in L]\n",
       "```"
      ]
     },
     "metadata": {},
     "output_type": "display_data"
    }
   ],
   "source": [
    "def elementwise_greater_than(L, thresh):\n",
    "    return [ele > thresh for ele in L]\n",
    "\n",
    "# Check your answer\n",
    "q2.check()"
   ]
  },
  {
   "cell_type": "code",
   "execution_count": 7,
   "id": "79675ecc",
   "metadata": {
    "execution": {
     "iopub.execute_input": "2024-01-04T07:17:24.357443Z",
     "iopub.status.busy": "2024-01-04T07:17:24.357020Z",
     "iopub.status.idle": "2024-01-04T07:17:24.366829Z",
     "shell.execute_reply": "2024-01-04T07:17:24.365622Z"
    },
    "papermill": {
     "duration": 0.023539,
     "end_time": "2024-01-04T07:17:24.369680",
     "exception": false,
     "start_time": "2024-01-04T07:17:24.346141",
     "status": "completed"
    },
    "tags": []
   },
   "outputs": [
    {
     "data": {
      "application/javascript": [
       "parent.postMessage({\"jupyterEvent\": \"custom.exercise_interaction\", \"data\": {\"interactionType\": 3, \"questionType\": 2, \"questionId\": \"2_ElementWiseComparison\", \"learnToolsVersion\": \"0.3.4\", \"valueTowardsCompletion\": 0.0, \"failureMessage\": \"\", \"exceptionClass\": \"\", \"trace\": \"\", \"outcomeType\": 4}}, \"*\")"
      ],
      "text/plain": [
       "<IPython.core.display.Javascript object>"
      ]
     },
     "metadata": {},
     "output_type": "display_data"
    },
    {
     "data": {
      "text/markdown": [
       "<span style=\"color:#33cc99\">Solution:</span> Here's one solution:\n",
       "```python\n",
       "def elementwise_greater_than(L, thresh):\n",
       "    res = []\n",
       "    for ele in L:\n",
       "        res.append(ele > thresh)\n",
       "    return res\n",
       "```\n",
       "\n",
       "And here's the list comprehension version:\n",
       "```python\n",
       "def elementwise_greater_than(L, thresh):\n",
       "    return [ele > thresh for ele in L]\n",
       "```\n"
      ],
      "text/plain": [
       "Solution: Here's one solution:\n",
       "```python\n",
       "def elementwise_greater_than(L, thresh):\n",
       "    res = []\n",
       "    for ele in L:\n",
       "        res.append(ele > thresh)\n",
       "    return res\n",
       "```\n",
       "\n",
       "And here's the list comprehension version:\n",
       "```python\n",
       "def elementwise_greater_than(L, thresh):\n",
       "    return [ele > thresh for ele in L]\n",
       "```"
      ]
     },
     "metadata": {},
     "output_type": "display_data"
    }
   ],
   "source": [
    "q2.solution()"
   ]
  },
  {
   "cell_type": "markdown",
   "id": "ab5f69b4",
   "metadata": {
    "papermill": {
     "duration": 0.009688,
     "end_time": "2024-01-04T07:17:24.389502",
     "exception": false,
     "start_time": "2024-01-04T07:17:24.379814",
     "status": "completed"
    },
    "tags": []
   },
   "source": [
    "# 3.\n",
    "\n",
    "Complete the body of the function below according to its docstring.\n",
    "\n",
    "# 3.\n",
    "\n",
    "以下の関数本体をdocstringに従って完成させなさい。"
   ]
  },
  {
   "cell_type": "code",
   "execution_count": 8,
   "id": "ad417933",
   "metadata": {
    "execution": {
     "iopub.execute_input": "2024-01-04T07:17:24.410217Z",
     "iopub.status.busy": "2024-01-04T07:17:24.409759Z",
     "iopub.status.idle": "2024-01-04T07:17:24.420201Z",
     "shell.execute_reply": "2024-01-04T07:17:24.419121Z"
    },
    "papermill": {
     "duration": 0.023715,
     "end_time": "2024-01-04T07:17:24.422716",
     "exception": false,
     "start_time": "2024-01-04T07:17:24.399001",
     "status": "completed"
    },
    "tags": []
   },
   "outputs": [
    {
     "data": {
      "application/javascript": [
       "parent.postMessage({\"jupyterEvent\": \"custom.exercise_interaction\", \"data\": {\"outcomeType\": 1, \"valueTowardsCompletion\": 0.25, \"interactionType\": 1, \"questionType\": 2, \"questionId\": \"3_BoringMenu\", \"learnToolsVersion\": \"0.3.4\", \"failureMessage\": \"\", \"exceptionClass\": \"\", \"trace\": \"\"}}, \"*\")"
      ],
      "text/plain": [
       "<IPython.core.display.Javascript object>"
      ]
     },
     "metadata": {},
     "output_type": "display_data"
    },
    {
     "data": {
      "text/markdown": [
       "<span style=\"color:#33cc33\">Correct:</span> \n",
       "\n",
       "\n",
       "\n",
       "```python\n",
       "def menu_is_boring(meals):\n",
       "    # Iterate over all indices of the list, except the last one\n",
       "    for i in range(len(meals)-1):\n",
       "        if meals[i] == meals[i+1]:\n",
       "            return True\n",
       "    return False\n",
       "```\n",
       "\n",
       "The key to our solution is the call to `range`. `range(len(meals))` would give us all the indices of `meals`. If we had used that range, the last iteration of the loop would be comparing the last element to the element after it, which is... `IndexError`! `range(len(meals)-1)` gives us all the indices except the index of the last element.\n",
       "\n",
       "But don't we need to check if `meals` is empty? Turns out that `range(0) == range(-1)` - they're both empty. So if `meals` has length 0 or 1, we just won't do any iterations of our for loop.\n"
      ],
      "text/plain": [
       "Correct: \n",
       "\n",
       "\n",
       "\n",
       "```python\n",
       "def menu_is_boring(meals):\n",
       "    # Iterate over all indices of the list, except the last one\n",
       "    for i in range(len(meals)-1):\n",
       "        if meals[i] == meals[i+1]:\n",
       "            return True\n",
       "    return False\n",
       "```\n",
       "\n",
       "The key to our solution is the call to `range`. `range(len(meals))` would give us all the indices of `meals`. If we had used that range, the last iteration of the loop would be comparing the last element to the element after it, which is... `IndexError`! `range(len(meals)-1)` gives us all the indices except the index of the last element.\n",
       "\n",
       "But don't we need to check if `meals` is empty? Turns out that `range(0) == range(-1)` - they're both empty. So if `meals` has length 0 or 1, we just won't do any iterations of our for loop."
      ]
     },
     "metadata": {},
     "output_type": "display_data"
    }
   ],
   "source": [
    "def menu_is_boring(meals):\n",
    "    # Iterate over all indices of the list, except the last one\n",
    "    for i in range(len(meals)-1):\n",
    "        if meals[i] == meals[i+1]:\n",
    "            return True\n",
    "    return False\n",
    "\n",
    "# Check your answer\n",
    "q3.check()"
   ]
  },
  {
   "cell_type": "code",
   "execution_count": 9,
   "id": "80a45a25",
   "metadata": {
    "execution": {
     "iopub.execute_input": "2024-01-04T07:17:24.445104Z",
     "iopub.status.busy": "2024-01-04T07:17:24.444715Z",
     "iopub.status.idle": "2024-01-04T07:17:24.454891Z",
     "shell.execute_reply": "2024-01-04T07:17:24.453541Z"
    },
    "papermill": {
     "duration": 0.02508,
     "end_time": "2024-01-04T07:17:24.457934",
     "exception": false,
     "start_time": "2024-01-04T07:17:24.432854",
     "status": "completed"
    },
    "tags": []
   },
   "outputs": [
    {
     "data": {
      "application/javascript": [
       "parent.postMessage({\"jupyterEvent\": \"custom.exercise_interaction\", \"data\": {\"interactionType\": 3, \"questionType\": 2, \"questionId\": \"3_BoringMenu\", \"learnToolsVersion\": \"0.3.4\", \"valueTowardsCompletion\": 0.0, \"failureMessage\": \"\", \"exceptionClass\": \"\", \"trace\": \"\", \"outcomeType\": 4}}, \"*\")"
      ],
      "text/plain": [
       "<IPython.core.display.Javascript object>"
      ]
     },
     "metadata": {},
     "output_type": "display_data"
    },
    {
     "data": {
      "text/markdown": [
       "<span style=\"color:#33cc99\">Solution:</span> \n",
       "\n",
       "```python\n",
       "def menu_is_boring(meals):\n",
       "    # Iterate over all indices of the list, except the last one\n",
       "    for i in range(len(meals)-1):\n",
       "        if meals[i] == meals[i+1]:\n",
       "            return True\n",
       "    return False\n",
       "```\n",
       "\n",
       "The key to our solution is the call to `range`. `range(len(meals))` would give us all the indices of `meals`. If we had used that range, the last iteration of the loop would be comparing the last element to the element after it, which is... `IndexError`! `range(len(meals)-1)` gives us all the indices except the index of the last element.\n",
       "\n",
       "But don't we need to check if `meals` is empty? Turns out that `range(0) == range(-1)` - they're both empty. So if `meals` has length 0 or 1, we just won't do any iterations of our for loop.\n"
      ],
      "text/plain": [
       "Solution: \n",
       "\n",
       "```python\n",
       "def menu_is_boring(meals):\n",
       "    # Iterate over all indices of the list, except the last one\n",
       "    for i in range(len(meals)-1):\n",
       "        if meals[i] == meals[i+1]:\n",
       "            return True\n",
       "    return False\n",
       "```\n",
       "\n",
       "The key to our solution is the call to `range`. `range(len(meals))` would give us all the indices of `meals`. If we had used that range, the last iteration of the loop would be comparing the last element to the element after it, which is... `IndexError`! `range(len(meals)-1)` gives us all the indices except the index of the last element.\n",
       "\n",
       "But don't we need to check if `meals` is empty? Turns out that `range(0) == range(-1)` - they're both empty. So if `meals` has length 0 or 1, we just won't do any iterations of our for loop."
      ]
     },
     "metadata": {},
     "output_type": "display_data"
    }
   ],
   "source": [
    "#q3.hint()\n",
    "q3.solution()"
   ]
  },
  {
   "cell_type": "markdown",
   "id": "300e8e69",
   "metadata": {
    "papermill": {
     "duration": 0.009388,
     "end_time": "2024-01-04T07:17:24.477587",
     "exception": false,
     "start_time": "2024-01-04T07:17:24.468199",
     "status": "completed"
    },
    "tags": []
   },
   "source": [
    "# 4. <span title=\"A bit spicy\" style=\"color: darkgreen \">🌶️</span>\n",
    "\n",
    "Next to the Blackjack table, the Python Challenge Casino has a slot machine. You can get a result from the slot machine by calling `play_slot_machine()`. The number it returns is your winnings in dollars. Usually it returns 0.  But sometimes you'll get lucky and get a big payday. Try running it below:\n",
    "\n",
    "ブラックジャックテーブルの隣にはスロットマシンがあります。play_slot_machine()`を呼び出すことで、スロットマシンから結果を得ることができます。スロットマシンの結果は `play_slot_machine()` で得られます。通常は0を返しますが、運が良ければ大金が手に入ることもあります。下記を実行してみてください："
   ]
  },
  {
   "cell_type": "code",
   "execution_count": 10,
   "id": "8565308f",
   "metadata": {
    "execution": {
     "iopub.execute_input": "2024-01-04T07:17:24.498995Z",
     "iopub.status.busy": "2024-01-04T07:17:24.498589Z",
     "iopub.status.idle": "2024-01-04T07:17:24.506365Z",
     "shell.execute_reply": "2024-01-04T07:17:24.505028Z"
    },
    "papermill": {
     "duration": 0.021525,
     "end_time": "2024-01-04T07:17:24.508766",
     "exception": false,
     "start_time": "2024-01-04T07:17:24.487241",
     "status": "completed"
    },
    "tags": []
   },
   "outputs": [
    {
     "data": {
      "text/plain": [
       "0"
      ]
     },
     "execution_count": 10,
     "metadata": {},
     "output_type": "execute_result"
    }
   ],
   "source": [
    "play_slot_machine()"
   ]
  },
  {
   "cell_type": "markdown",
   "id": "0947e295",
   "metadata": {
    "papermill": {
     "duration": 0.009886,
     "end_time": "2024-01-04T07:17:24.528916",
     "exception": false,
     "start_time": "2024-01-04T07:17:24.519030",
     "status": "completed"
    },
    "tags": []
   },
   "source": [
    "By the way, did we mention that each play costs $1? Don't worry, we'll send you the bill later.\n",
    "\n",
    "On average, how much money can you expect to gain (or lose) every time you play the machine?  The casino keeps it a secret, but you can estimate the average value of each pull using a technique called the **Monte Carlo method**. To estimate the average outcome, we simulate the scenario many times, and return the average result.\n",
    "\n",
    "Complete the following function to calculate the average value per play of the slot machine.\n",
    "\n",
    "ところで、1プレー1ドルって言ったっけ？ご心配なく、後で請求書をお送りします。\n",
    "\n",
    "平均して、マシンをプレイするたびにどれくらいのお金を得る（または失う）ことが期待できるのでしょうか？ カジノはそれを秘密にしているが，**モンテカルロ法**と呼ばれるテクニックを使えば，1回の引きの平均値を見積もることができる．平均結果を推定するには，シナリオを何度もシミュレートし，平均結果を返す．\n",
    "\n",
    "以下の関数を完成させて、スロットマシンの1プレイあたりの平均値を計算してください。"
   ]
  },
  {
   "cell_type": "code",
   "execution_count": 11,
   "id": "77d4ab9c",
   "metadata": {
    "execution": {
     "iopub.execute_input": "2024-01-04T07:17:24.550982Z",
     "iopub.status.busy": "2024-01-04T07:17:24.550469Z",
     "iopub.status.idle": "2024-01-04T07:17:29.645987Z",
     "shell.execute_reply": "2024-01-04T07:17:29.644072Z"
    },
    "papermill": {
     "duration": 5.110303,
     "end_time": "2024-01-04T07:17:29.649033",
     "exception": false,
     "start_time": "2024-01-04T07:17:24.538730",
     "status": "completed"
    },
    "tags": []
   },
   "outputs": [
    {
     "data": {
      "text/plain": [
       "0.0289155"
      ]
     },
     "execution_count": 11,
     "metadata": {},
     "output_type": "execute_result"
    }
   ],
   "source": [
    "def estimate_average_slot_payout(n_runs):\n",
    "    # Play slot machine n_runs times, calculate payout of each\n",
    "    payouts = [play_slot_machine()-1 for i in range(n_runs)]\n",
    "    # Calculate the average value\n",
    "    avg_payout = sum(payouts) / n_runs\n",
    "    return avg_payout\n",
    "\n",
    "estimate_average_slot_payout(10000000)"
   ]
  },
  {
   "cell_type": "markdown",
   "id": "22a38e9f",
   "metadata": {
    "papermill": {
     "duration": 0.011474,
     "end_time": "2024-01-04T07:17:29.672178",
     "exception": false,
     "start_time": "2024-01-04T07:17:29.660704",
     "status": "completed"
    },
    "tags": []
   },
   "source": [
    "When you think you know the expected value per spin, run the code cell below to view the solution and get credit for answering the question."
   ]
  },
  {
   "cell_type": "code",
   "execution_count": 12,
   "id": "cf865ef7",
   "metadata": {
    "execution": {
     "iopub.execute_input": "2024-01-04T07:17:29.699327Z",
     "iopub.status.busy": "2024-01-04T07:17:29.697984Z",
     "iopub.status.idle": "2024-01-04T07:17:29.708438Z",
     "shell.execute_reply": "2024-01-04T07:17:29.707077Z"
    },
    "papermill": {
     "duration": 0.026906,
     "end_time": "2024-01-04T07:17:29.711570",
     "exception": false,
     "start_time": "2024-01-04T07:17:29.684664",
     "status": "completed"
    },
    "tags": []
   },
   "outputs": [
    {
     "data": {
      "application/javascript": [
       "parent.postMessage({\"jupyterEvent\": \"custom.exercise_interaction\", \"data\": {\"interactionType\": 3, \"questionType\": 4, \"questionId\": \"4_ExpectedSlotsPayout\", \"learnToolsVersion\": \"0.3.4\", \"valueTowardsCompletion\": 0.0, \"failureMessage\": \"\", \"exceptionClass\": \"\", \"trace\": \"\", \"outcomeType\": 4}}, \"*\")"
      ],
      "text/plain": [
       "<IPython.core.display.Javascript object>"
      ]
     },
     "metadata": {},
     "output_type": "display_data"
    },
    {
     "data": {
      "text/markdown": [
       "<span style=\"color:#33cc99\">Solution:</span> \n",
       "    \n",
       "The exact expected value of one pull of the slot machine is 0.025 - i.e. a little more than 2 cents.  See?  Not every game in the Python Challenge Casino is rigged against the player!\n",
       "\n",
       "In order to get this answer, you'll need to implement the `estimate_average_slot_payout(n_runs)` function to simulate pulling the slot machine `n_runs` times.  It should return the payout averaged over those `n_runs`.\n",
       "\n",
       "Then, once the function is defined, in order to estimate the average slot payout, we need only call the function.\n",
       "\n",
       "Because of the high variance of the outcome (there are some very rare high payout results that significantly affect the average) you might need to run your function with a very high value of `n_runs` to get a stable answer close to the true expectation.  For instance, you might use a value for `n_runs` of 1000000.\n",
       "\n",
       "Here's an example for how the function could look:\n",
       "```python\n",
       "def estimate_average_slot_payout(n_runs):\n",
       "    # Play slot machine n_runs times, calculate payout of each\n",
       "    payouts = [play_slot_machine()-1 for i in range(n_runs)]\n",
       "    # Calculate the average value\n",
       "    avg_payout = sum(payouts) / n_runs\n",
       "    return avg_payout\n",
       "    \n",
       "estimate_average_slot_payout(10000000)\n",
       "\n",
       "```\n",
       "\n",
       "This should return an answer close to 0.025!\n",
       "            \n"
      ],
      "text/plain": [
       "Solution: \n",
       "    \n",
       "The exact expected value of one pull of the slot machine is 0.025 - i.e. a little more than 2 cents.  See?  Not every game in the Python Challenge Casino is rigged against the player!\n",
       "\n",
       "In order to get this answer, you'll need to implement the `estimate_average_slot_payout(n_runs)` function to simulate pulling the slot machine `n_runs` times.  It should return the payout averaged over those `n_runs`.\n",
       "\n",
       "Then, once the function is defined, in order to estimate the average slot payout, we need only call the function.\n",
       "\n",
       "Because of the high variance of the outcome (there are some very rare high payout results that significantly affect the average) you might need to run your function with a very high value of `n_runs` to get a stable answer close to the true expectation.  For instance, you might use a value for `n_runs` of 1000000.\n",
       "\n",
       "Here's an example for how the function could look:\n",
       "```python\n",
       "def estimate_average_slot_payout(n_runs):\n",
       "    # Play slot machine n_runs times, calculate payout of each\n",
       "    payouts = [play_slot_machine()-1 for i in range(n_runs)]\n",
       "    # Calculate the average value\n",
       "    avg_payout = sum(payouts) / n_runs\n",
       "    return avg_payout\n",
       "    \n",
       "estimate_average_slot_payout(10000000)\n",
       "\n",
       "```\n",
       "\n",
       "This should return an answer close to 0.025!\n",
       "            "
      ]
     },
     "metadata": {},
     "output_type": "display_data"
    }
   ],
   "source": [
    "# Check your answer (Run this code cell to receive credit!)\n",
    "q4.solution()"
   ]
  },
  {
   "cell_type": "markdown",
   "id": "bd8d850d",
   "metadata": {
    "papermill": {
     "duration": 0.0117,
     "end_time": "2024-01-04T07:17:29.735219",
     "exception": false,
     "start_time": "2024-01-04T07:17:29.723519",
     "status": "completed"
    },
    "tags": []
   },
   "source": [
    "# Keep Going\n",
    "\n",
    "Many programmers report that dictionaries are their favorite data structure. You'll get to **[learn about them](https://www.kaggle.com/colinmorris/strings-and-dictionaries)** (as well as strings) in the next lesson."
   ]
  },
  {
   "cell_type": "markdown",
   "id": "e0930170",
   "metadata": {
    "papermill": {
     "duration": 0.012336,
     "end_time": "2024-01-04T07:17:29.760083",
     "exception": false,
     "start_time": "2024-01-04T07:17:29.747747",
     "status": "completed"
    },
    "tags": []
   },
   "source": [
    "---\n",
    "\n",
    "\n",
    "\n",
    "\n",
    "*Have questions or comments? Visit the [course discussion forum](https://www.kaggle.com/learn/python/discussion) to chat with other learners.*"
   ]
  }
 ],
 "metadata": {
  "kaggle": {
   "accelerator": "none",
   "dataSources": [],
   "isGpuEnabled": false,
   "isInternetEnabled": false,
   "language": "python",
   "sourceType": "notebook"
  },
  "kernelspec": {
   "display_name": "Python 3",
   "language": "python",
   "name": "python3"
  },
  "language_info": {
   "codemirror_mode": {
    "name": "ipython",
    "version": 3
   },
   "file_extension": ".py",
   "mimetype": "text/x-python",
   "name": "python",
   "nbconvert_exporter": "python",
   "pygments_lexer": "ipython3",
   "version": "3.10.12"
  },
  "learntools_metadata": {
   "lesson_index": 4,
   "type": "exercise"
  },
  "papermill": {
   "default_parameters": {},
   "duration": 10.598849,
   "end_time": "2024-01-04T07:17:30.296837",
   "environment_variables": {},
   "exception": null,
   "input_path": "__notebook__.ipynb",
   "output_path": "__notebook__.ipynb",
   "parameters": {},
   "start_time": "2024-01-04T07:17:19.697988",
   "version": "2.4.0"
  }
 },
 "nbformat": 4,
 "nbformat_minor": 5
}
