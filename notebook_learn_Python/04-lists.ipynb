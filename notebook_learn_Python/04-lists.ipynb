{
 "cells": [
  {
   "cell_type": "markdown",
   "id": "4890d5b6",
   "metadata": {
    "papermill": {
     "duration": 0.007265,
     "end_time": "2024-01-03T00:44:57.119113",
     "exception": false,
     "start_time": "2024-01-03T00:44:57.111848",
     "status": "completed"
    },
    "tags": []
   },
   "source": [
    "**This notebook is an exercise in the [Python](https://www.kaggle.com/learn/python) course.  You can reference the tutorial at [this link](https://www.kaggle.com/colinmorris/lists).**\n",
    "\n",
    "---\n"
   ]
  },
  {
   "cell_type": "markdown",
   "id": "71bc5cfb",
   "metadata": {
    "papermill": {
     "duration": 0.006233,
     "end_time": "2024-01-03T00:44:57.132111",
     "exception": false,
     "start_time": "2024-01-03T00:44:57.125878",
     "status": "completed"
    },
    "tags": []
   },
   "source": [
    "Things get more interesting with lists. You'll apply your new knowledge to solve the questions below. Remember to run the following cell first.\n",
    "\n",
    "リストがあればもっと面白くなります。以下の問題を解くために、新しい知識を応用してください。最初に次のセルを実行することを忘れないでください。"
   ]
  },
  {
   "cell_type": "code",
   "execution_count": 1,
   "id": "ee7300c4",
   "metadata": {
    "execution": {
     "iopub.execute_input": "2024-01-03T00:44:57.147351Z",
     "iopub.status.busy": "2024-01-03T00:44:57.146663Z",
     "iopub.status.idle": "2024-01-03T00:44:57.611910Z",
     "shell.execute_reply": "2024-01-03T00:44:57.610365Z"
    },
    "papermill": {
     "duration": 0.475884,
     "end_time": "2024-01-03T00:44:57.614680",
     "exception": false,
     "start_time": "2024-01-03T00:44:57.138796",
     "status": "completed"
    },
    "tags": []
   },
   "outputs": [
    {
     "name": "stdout",
     "output_type": "stream",
     "text": [
      "Setup complete.\n"
     ]
    }
   ],
   "source": [
    "from learntools.core import binder; binder.bind(globals())\n",
    "from learntools.python.ex4 import *\n",
    "print('Setup complete.')"
   ]
  },
  {
   "cell_type": "markdown",
   "id": "eeed68e1",
   "metadata": {
    "papermill": {
     "duration": 0.006411,
     "end_time": "2024-01-03T00:44:57.628176",
     "exception": false,
     "start_time": "2024-01-03T00:44:57.621765",
     "status": "completed"
    },
    "tags": []
   },
   "source": [
    "# 1.\n",
    "\n",
    "Complete the function below according to its docstring.\n",
    "\n",
    "# 1.\n",
    "\n",
    "以下の関数をdocstringに従って完成させなさい。"
   ]
  },
  {
   "cell_type": "code",
   "execution_count": 2,
   "id": "c9b9f7a7",
   "metadata": {
    "execution": {
     "iopub.execute_input": "2024-01-03T00:44:57.644596Z",
     "iopub.status.busy": "2024-01-03T00:44:57.643780Z",
     "iopub.status.idle": "2024-01-03T00:44:57.653652Z",
     "shell.execute_reply": "2024-01-03T00:44:57.652698Z"
    },
    "papermill": {
     "duration": 0.020359,
     "end_time": "2024-01-03T00:44:57.655827",
     "exception": false,
     "start_time": "2024-01-03T00:44:57.635468",
     "status": "completed"
    },
    "tags": []
   },
   "outputs": [
    {
     "data": {
      "application/javascript": [
       "parent.postMessage({\"jupyterEvent\": \"custom.exercise_interaction\", \"data\": {\"outcomeType\": 1, \"valueTowardsCompletion\": 0.2, \"interactionType\": 1, \"questionType\": 2, \"questionId\": \"1_SelectSecondItem\", \"learnToolsVersion\": \"0.3.4\", \"failureMessage\": \"\", \"exceptionClass\": \"\", \"trace\": \"\"}}, \"*\")"
      ],
      "text/plain": [
       "<IPython.core.display.Javascript object>"
      ]
     },
     "metadata": {},
     "output_type": "display_data"
    },
    {
     "data": {
      "text/markdown": [
       "<span style=\"color:#33cc33\">Correct</span>"
      ],
      "text/plain": [
       "Correct"
      ]
     },
     "metadata": {},
     "output_type": "display_data"
    }
   ],
   "source": [
    "def select_second(L):\n",
    "    if len(L) < 2:\n",
    "        return None\n",
    "    return L[1]\n",
    "    pass\n",
    "\n",
    "# Check your answer\n",
    "q1.check()"
   ]
  },
  {
   "cell_type": "code",
   "execution_count": 3,
   "id": "0c451961",
   "metadata": {
    "execution": {
     "iopub.execute_input": "2024-01-03T00:44:57.671636Z",
     "iopub.status.busy": "2024-01-03T00:44:57.671206Z",
     "iopub.status.idle": "2024-01-03T00:44:57.679571Z",
     "shell.execute_reply": "2024-01-03T00:44:57.678518Z"
    },
    "papermill": {
     "duration": 0.01934,
     "end_time": "2024-01-03T00:44:57.682068",
     "exception": false,
     "start_time": "2024-01-03T00:44:57.662728",
     "status": "completed"
    },
    "tags": []
   },
   "outputs": [
    {
     "data": {
      "application/javascript": [
       "parent.postMessage({\"jupyterEvent\": \"custom.exercise_interaction\", \"data\": {\"interactionType\": 3, \"questionType\": 2, \"questionId\": \"1_SelectSecondItem\", \"learnToolsVersion\": \"0.3.4\", \"valueTowardsCompletion\": 0.0, \"failureMessage\": \"\", \"exceptionClass\": \"\", \"trace\": \"\", \"outcomeType\": 4}}, \"*\")"
      ],
      "text/plain": [
       "<IPython.core.display.Javascript object>"
      ]
     },
     "metadata": {},
     "output_type": "display_data"
    },
    {
     "data": {
      "text/markdown": [
       "<span style=\"color:#33cc99\">Solution:</span> \n",
       "```python\n",
       "def select_second(L):\n",
       "    if len(L) < 2:\n",
       "        return None\n",
       "    return L[1]\n",
       "```"
      ],
      "text/plain": [
       "Solution: \n",
       "```python\n",
       "def select_second(L):\n",
       "    if len(L) < 2:\n",
       "        return None\n",
       "    return L[1]\n",
       "```"
      ]
     },
     "metadata": {},
     "output_type": "display_data"
    }
   ],
   "source": [
    "#q1.hint()\n",
    "q1.solution()"
   ]
  },
  {
   "cell_type": "markdown",
   "id": "989198f0",
   "metadata": {
    "papermill": {
     "duration": 0.007113,
     "end_time": "2024-01-03T00:44:57.696586",
     "exception": false,
     "start_time": "2024-01-03T00:44:57.689473",
     "status": "completed"
    },
    "tags": []
   },
   "source": [
    "# 2.\n",
    "\n",
    "You are analyzing sports teams.  Members of each team are stored in a list. The Coach is the first name in the list, the captain is the second name in the list, and other players are listed after that. \n",
    "These lists are stored in another list, which starts with the best team and proceeds through the list to the worst team last.  Complete the function below to select the **captain** of the worst team.\n",
    "\n",
    "# 2.\n",
    "\n",
    "あなたはスポーツチームを分析している。 各チームのメンバーはリストに格納されている。コーチがリストの最初の名前であり、キャプテンがリストの2番目の名前であり、その他の選手がその後にリストされている。\n",
    "これらのリストは別のリストに格納され、最高のチームから始まり、リストを通して最悪のチームまで最後に進みます。 ワーストチームの**キャプテン**を選択するために、以下の関数を完成させてください。"
   ]
  },
  {
   "cell_type": "code",
   "execution_count": 4,
   "id": "5254af76",
   "metadata": {
    "execution": {
     "iopub.execute_input": "2024-01-03T00:44:57.714441Z",
     "iopub.status.busy": "2024-01-03T00:44:57.713718Z",
     "iopub.status.idle": "2024-01-03T00:44:57.723531Z",
     "shell.execute_reply": "2024-01-03T00:44:57.722380Z"
    },
    "papermill": {
     "duration": 0.02208,
     "end_time": "2024-01-03T00:44:57.726157",
     "exception": false,
     "start_time": "2024-01-03T00:44:57.704077",
     "status": "completed"
    },
    "tags": []
   },
   "outputs": [
    {
     "data": {
      "application/javascript": [
       "parent.postMessage({\"jupyterEvent\": \"custom.exercise_interaction\", \"data\": {\"outcomeType\": 1, \"valueTowardsCompletion\": 0.2, \"interactionType\": 1, \"questionType\": 2, \"questionId\": \"2_LosingTeamCaptain\", \"learnToolsVersion\": \"0.3.4\", \"failureMessage\": \"\", \"exceptionClass\": \"\", \"trace\": \"\"}}, \"*\")"
      ],
      "text/plain": [
       "<IPython.core.display.Javascript object>"
      ]
     },
     "metadata": {},
     "output_type": "display_data"
    },
    {
     "data": {
      "text/markdown": [
       "<span style=\"color:#33cc33\">Correct</span>"
      ],
      "text/plain": [
       "Correct"
      ]
     },
     "metadata": {},
     "output_type": "display_data"
    }
   ],
   "source": [
    "def losing_team_captain(teams):\n",
    "    return teams[-1][1]\n",
    "    pass\n",
    "\n",
    "# Check your answer\n",
    "q2.check()"
   ]
  },
  {
   "cell_type": "code",
   "execution_count": 5,
   "id": "76611e7a",
   "metadata": {
    "execution": {
     "iopub.execute_input": "2024-01-03T00:44:57.744447Z",
     "iopub.status.busy": "2024-01-03T00:44:57.743995Z",
     "iopub.status.idle": "2024-01-03T00:44:57.752784Z",
     "shell.execute_reply": "2024-01-03T00:44:57.751685Z"
    },
    "papermill": {
     "duration": 0.020701,
     "end_time": "2024-01-03T00:44:57.755019",
     "exception": false,
     "start_time": "2024-01-03T00:44:57.734318",
     "status": "completed"
    },
    "tags": []
   },
   "outputs": [
    {
     "data": {
      "application/javascript": [
       "parent.postMessage({\"jupyterEvent\": \"custom.exercise_interaction\", \"data\": {\"interactionType\": 3, \"questionType\": 2, \"questionId\": \"2_LosingTeamCaptain\", \"learnToolsVersion\": \"0.3.4\", \"valueTowardsCompletion\": 0.0, \"failureMessage\": \"\", \"exceptionClass\": \"\", \"trace\": \"\", \"outcomeType\": 4}}, \"*\")"
      ],
      "text/plain": [
       "<IPython.core.display.Javascript object>"
      ]
     },
     "metadata": {},
     "output_type": "display_data"
    },
    {
     "data": {
      "text/markdown": [
       "<span style=\"color:#33cc99\">Solution:</span> \n",
       "```python\n",
       "def losing_team_captain(teams):\n",
       "    return teams[-1][1]\n",
       "```"
      ],
      "text/plain": [
       "Solution: \n",
       "```python\n",
       "def losing_team_captain(teams):\n",
       "    return teams[-1][1]\n",
       "```"
      ]
     },
     "metadata": {},
     "output_type": "display_data"
    }
   ],
   "source": [
    "#q2.hint()\n",
    "q2.solution()"
   ]
  },
  {
   "cell_type": "markdown",
   "id": "7b528ccc",
   "metadata": {
    "papermill": {
     "duration": 0.007682,
     "end_time": "2024-01-03T00:44:57.770723",
     "exception": false,
     "start_time": "2024-01-03T00:44:57.763041",
     "status": "completed"
    },
    "tags": []
   },
   "source": [
    "# 3.\n",
    "\n",
    "The next iteration of Mario Kart will feature an extra-infuriating new item, the *Purple Shell*. When used, it warps the last place racer into first place and the first place racer into last place. Complete the function below to implement the Purple Shell's effect.\n",
    "\n",
    "# 3.\n",
    "\n",
    "マリオカートの次回作では、さらに腹立たしい新アイテム「紫の貝殻」が登場する。使用すると、最下位のレーサーは1位に、1位のレーサーは最下位にワープします。以下の関数を完成させると、パープルシェルの効果が発動します。"
   ]
  },
  {
   "cell_type": "code",
   "execution_count": 6,
   "id": "29fc6747",
   "metadata": {
    "execution": {
     "iopub.execute_input": "2024-01-03T00:44:57.788539Z",
     "iopub.status.busy": "2024-01-03T00:44:57.788074Z",
     "iopub.status.idle": "2024-01-03T00:44:57.797886Z",
     "shell.execute_reply": "2024-01-03T00:44:57.796842Z"
    },
    "papermill": {
     "duration": 0.021421,
     "end_time": "2024-01-03T00:44:57.800029",
     "exception": false,
     "start_time": "2024-01-03T00:44:57.778608",
     "status": "completed"
    },
    "tags": []
   },
   "outputs": [
    {
     "data": {
      "application/javascript": [
       "parent.postMessage({\"jupyterEvent\": \"custom.exercise_interaction\", \"data\": {\"outcomeType\": 1, \"valueTowardsCompletion\": 0.2, \"interactionType\": 1, \"questionType\": 2, \"questionId\": \"3_PurpleShell\", \"learnToolsVersion\": \"0.3.4\", \"failureMessage\": \"\", \"exceptionClass\": \"\", \"trace\": \"\"}}, \"*\")"
      ],
      "text/plain": [
       "<IPython.core.display.Javascript object>"
      ]
     },
     "metadata": {},
     "output_type": "display_data"
    },
    {
     "data": {
      "text/markdown": [
       "<span style=\"color:#33cc33\">Correct</span>"
      ],
      "text/plain": [
       "Correct"
      ]
     },
     "metadata": {},
     "output_type": "display_data"
    }
   ],
   "source": [
    "def purple_shell(racers):\n",
    "    \n",
    "    temp = racers[0]\n",
    "    racers[0] = racers[-1]\n",
    "    racers[-1] = temp\n",
    "    pass\n",
    "\n",
    "# Check your answer\n",
    "q3.check()"
   ]
  },
  {
   "cell_type": "code",
   "execution_count": 7,
   "id": "efb90e0a",
   "metadata": {
    "execution": {
     "iopub.execute_input": "2024-01-03T00:44:57.818642Z",
     "iopub.status.busy": "2024-01-03T00:44:57.818235Z",
     "iopub.status.idle": "2024-01-03T00:44:57.826658Z",
     "shell.execute_reply": "2024-01-03T00:44:57.825781Z"
    },
    "papermill": {
     "duration": 0.020436,
     "end_time": "2024-01-03T00:44:57.828679",
     "exception": false,
     "start_time": "2024-01-03T00:44:57.808243",
     "status": "completed"
    },
    "tags": []
   },
   "outputs": [
    {
     "data": {
      "application/javascript": [
       "parent.postMessage({\"jupyterEvent\": \"custom.exercise_interaction\", \"data\": {\"interactionType\": 3, \"questionType\": 2, \"questionId\": \"3_PurpleShell\", \"learnToolsVersion\": \"0.3.4\", \"valueTowardsCompletion\": 0.0, \"failureMessage\": \"\", \"exceptionClass\": \"\", \"trace\": \"\", \"outcomeType\": 4}}, \"*\")"
      ],
      "text/plain": [
       "<IPython.core.display.Javascript object>"
      ]
     },
     "metadata": {},
     "output_type": "display_data"
    },
    {
     "data": {
      "text/markdown": [
       "<span style=\"color:#33cc99\">Solution:</span> \n",
       "```python\n",
       "def purple_shell(racers):\n",
       "    # One slick way to do the swap is x[0], x[-1] = x[-1], x[0].\n",
       "    temp = racers[0]\n",
       "    racers[0] = racers[-1]\n",
       "    racers[-1] = temp\n",
       "```"
      ],
      "text/plain": [
       "Solution: \n",
       "```python\n",
       "def purple_shell(racers):\n",
       "    # One slick way to do the swap is x[0], x[-1] = x[-1], x[0].\n",
       "    temp = racers[0]\n",
       "    racers[0] = racers[-1]\n",
       "    racers[-1] = temp\n",
       "```"
      ]
     },
     "metadata": {},
     "output_type": "display_data"
    }
   ],
   "source": [
    "#q3.hint()\n",
    "q3.solution()"
   ]
  },
  {
   "cell_type": "markdown",
   "id": "abf0dbbc",
   "metadata": {
    "papermill": {
     "duration": 0.008389,
     "end_time": "2024-01-03T00:44:57.845702",
     "exception": false,
     "start_time": "2024-01-03T00:44:57.837313",
     "status": "completed"
    },
    "tags": []
   },
   "source": [
    "# 4.\n",
    "\n",
    "What are the lengths of the following lists? Fill in the variable `lengths` with your predictions. (Try to make a prediction for each list *without* just calling `len()` on it.)\n",
    "\n",
    "# 4.\n",
    "\n",
    "次のリストの長さは？変数 `lengths` をあなたの予想で埋めてください。(それぞれのリストについて、単に `len()` を呼び出すことなく* 予測を行うようにしてください)。"
   ]
  },
  {
   "cell_type": "code",
   "execution_count": 8,
   "id": "df82a0c0",
   "metadata": {
    "execution": {
     "iopub.execute_input": "2024-01-03T00:44:57.864413Z",
     "iopub.status.busy": "2024-01-03T00:44:57.864010Z",
     "iopub.status.idle": "2024-01-03T00:44:57.874226Z",
     "shell.execute_reply": "2024-01-03T00:44:57.873085Z"
    },
    "papermill": {
     "duration": 0.022244,
     "end_time": "2024-01-03T00:44:57.876451",
     "exception": false,
     "start_time": "2024-01-03T00:44:57.854207",
     "status": "completed"
    },
    "tags": []
   },
   "outputs": [
    {
     "data": {
      "application/javascript": [
       "parent.postMessage({\"jupyterEvent\": \"custom.exercise_interaction\", \"data\": {\"outcomeType\": 1, \"valueTowardsCompletion\": 0.2, \"interactionType\": 1, \"questionType\": 1, \"questionId\": \"4_UnderstandLen\", \"learnToolsVersion\": \"0.3.4\", \"failureMessage\": \"\", \"exceptionClass\": \"\", \"trace\": \"\"}}, \"*\")"
      ],
      "text/plain": [
       "<IPython.core.display.Javascript object>"
      ]
     },
     "metadata": {},
     "output_type": "display_data"
    },
    {
     "data": {
      "text/markdown": [
       "<span style=\"color:#33cc33\">Correct:</span> \n",
       "\n",
       "\n",
       "- a: There are three items in this list. Nothing tricky yet.\n",
       "- b: The list `[2, 3]` counts as a single item. It has one item before it. So we have 2 items in the list\n",
       "- c: The empty list has 0 items\n",
       "- d: The expression is the same as the list `[2, 3]`, which has length 2."
      ],
      "text/plain": [
       "Correct: \n",
       "\n",
       "\n",
       "- a: There are three items in this list. Nothing tricky yet.\n",
       "- b: The list `[2, 3]` counts as a single item. It has one item before it. So we have 2 items in the list\n",
       "- c: The empty list has 0 items\n",
       "- d: The expression is the same as the list `[2, 3]`, which has length 2."
      ]
     },
     "metadata": {},
     "output_type": "display_data"
    }
   ],
   "source": [
    "a = [1, 2, 3]\n",
    "b = [1, [2, 3]]\n",
    "c = []\n",
    "d = [1, 2, 3][1:]\n",
    "\n",
    "# Put your predictions in the list below. Lengths should contain 4 numbers, the\n",
    "# first being the length of a, the second being the length of b and so on.\n",
    "lengths = [3,2,0,2]\n",
    "\n",
    "\n",
    "# Check your answer\n",
    "q4.check()"
   ]
  },
  {
   "cell_type": "code",
   "execution_count": 9,
   "id": "08aa985f",
   "metadata": {
    "execution": {
     "iopub.execute_input": "2024-01-03T00:44:57.896663Z",
     "iopub.status.busy": "2024-01-03T00:44:57.896002Z",
     "iopub.status.idle": "2024-01-03T00:44:57.904411Z",
     "shell.execute_reply": "2024-01-03T00:44:57.903121Z"
    },
    "papermill": {
     "duration": 0.021259,
     "end_time": "2024-01-03T00:44:57.906497",
     "exception": false,
     "start_time": "2024-01-03T00:44:57.885238",
     "status": "completed"
    },
    "tags": []
   },
   "outputs": [
    {
     "data": {
      "application/javascript": [
       "parent.postMessage({\"jupyterEvent\": \"custom.exercise_interaction\", \"data\": {\"interactionType\": 3, \"questionType\": 1, \"questionId\": \"4_UnderstandLen\", \"learnToolsVersion\": \"0.3.4\", \"valueTowardsCompletion\": 0.0, \"failureMessage\": \"\", \"exceptionClass\": \"\", \"trace\": \"\", \"outcomeType\": 4}}, \"*\")"
      ],
      "text/plain": [
       "<IPython.core.display.Javascript object>"
      ]
     },
     "metadata": {},
     "output_type": "display_data"
    },
    {
     "data": {
      "text/markdown": [
       "<span style=\"color:#33cc99\">Solution:</span> \n",
       "- a: There are three items in this list. Nothing tricky yet.\n",
       "- b: The list `[2, 3]` counts as a single item. It has one item before it. So we have 2 items in the list\n",
       "- c: The empty list has 0 items\n",
       "- d: The expression is the same as the list `[2, 3]`, which has length 2."
      ],
      "text/plain": [
       "Solution: \n",
       "- a: There are three items in this list. Nothing tricky yet.\n",
       "- b: The list `[2, 3]` counts as a single item. It has one item before it. So we have 2 items in the list\n",
       "- c: The empty list has 0 items\n",
       "- d: The expression is the same as the list `[2, 3]`, which has length 2."
      ]
     },
     "metadata": {},
     "output_type": "display_data"
    }
   ],
   "source": [
    "# line below provides some explanation\n",
    "q4.solution()"
   ]
  },
  {
   "cell_type": "markdown",
   "id": "2f006461",
   "metadata": {
    "papermill": {
     "duration": 0.008957,
     "end_time": "2024-01-03T00:44:57.924913",
     "exception": false,
     "start_time": "2024-01-03T00:44:57.915956",
     "status": "completed"
    },
    "tags": []
   },
   "source": [
    "# 5. <span title=\"A bit spicy\" style=\"color: darkgreen \">🌶️</span>\n",
    "\n",
    "We're using lists to record people who attended our party and what order they arrived in. For example, the following list represents a party with 7 guests, in which Adela showed up first and Ford was the last to arrive:\n",
    "\n",
    "    party_attendees = ['Adela', 'Fleda', 'Owen', 'May', 'Mona', 'Gilbert', 'Ford']\n",
    "\n",
    "A guest is considered 'fashionably late' if they arrived after at least half of the party's guests. However, they must not be the very last guest (that's taking it too far). In the above example, Mona and Gilbert are the only guests who were fashionably late.\n",
    "\n",
    "Complete the function below which takes a list of party attendees as well as a person, and tells us whether that person is fashionably late.\n",
    "\n",
    "リストを使って、パーティーに参加した人とその順番を記録しています。例えば、以下のリストは7人のゲストが参加したパーティーを表し、アデラが最初に現れ、フォードが最後に到着しました：\n",
    "\n",
    "    party_attendees = ['Adela', 'Fleda', 'Owen', 'May', 'Mona', 'Gilbert', 'Ford'].\n",
    "\n",
    "ゲストがパーティーのゲストの少なくとも半分より後に到着した場合、そのゲストは「ファッショナブルな遅刻」とみなされます。ただし、最後のゲストであってはならない（それは行き過ぎである）。上の例では、MonaとGilbertだけがおしゃれ遅刻したゲストです。\n",
    "\n",
    "パーティの出席者のリストと人物を受け取り、その人物がファッショナブルに遅刻したかどうかを教えてくれる以下の関数を完成させなさい。"
   ]
  },
  {
   "cell_type": "code",
   "execution_count": 10,
   "id": "7d06b3df",
   "metadata": {
    "execution": {
     "iopub.execute_input": "2024-01-03T00:44:57.945588Z",
     "iopub.status.busy": "2024-01-03T00:44:57.944692Z",
     "iopub.status.idle": "2024-01-03T00:44:57.954967Z",
     "shell.execute_reply": "2024-01-03T00:44:57.953925Z"
    },
    "papermill": {
     "duration": 0.023133,
     "end_time": "2024-01-03T00:44:57.957242",
     "exception": false,
     "start_time": "2024-01-03T00:44:57.934109",
     "status": "completed"
    },
    "tags": []
   },
   "outputs": [
    {
     "data": {
      "application/javascript": [
       "parent.postMessage({\"jupyterEvent\": \"custom.exercise_interaction\", \"data\": {\"outcomeType\": 1, \"valueTowardsCompletion\": 0.2, \"interactionType\": 1, \"questionType\": 2, \"questionId\": \"5_FashionablyLate\", \"learnToolsVersion\": \"0.3.4\", \"failureMessage\": \"\", \"exceptionClass\": \"\", \"trace\": \"\"}}, \"*\")"
      ],
      "text/plain": [
       "<IPython.core.display.Javascript object>"
      ]
     },
     "metadata": {},
     "output_type": "display_data"
    },
    {
     "data": {
      "text/markdown": [
       "<span style=\"color:#33cc33\">Correct</span>"
      ],
      "text/plain": [
       "Correct"
      ]
     },
     "metadata": {},
     "output_type": "display_data"
    }
   ],
   "source": [
    "def fashionably_late(arrivals, name):\n",
    "    order = arrivals.index(name)\n",
    "    return order >= len(arrivals) / 2 and order != len(arrivals) - 1\n",
    "    pass\n",
    "\n",
    "# Check your answer\n",
    "q5.check()"
   ]
  },
  {
   "cell_type": "code",
   "execution_count": 11,
   "id": "4aaf30b7",
   "metadata": {
    "execution": {
     "iopub.execute_input": "2024-01-03T00:44:57.978833Z",
     "iopub.status.busy": "2024-01-03T00:44:57.978169Z",
     "iopub.status.idle": "2024-01-03T00:44:57.989060Z",
     "shell.execute_reply": "2024-01-03T00:44:57.987382Z"
    },
    "papermill": {
     "duration": 0.024536,
     "end_time": "2024-01-03T00:44:57.991521",
     "exception": false,
     "start_time": "2024-01-03T00:44:57.966985",
     "status": "completed"
    },
    "tags": []
   },
   "outputs": [
    {
     "data": {
      "application/javascript": [
       "parent.postMessage({\"jupyterEvent\": \"custom.exercise_interaction\", \"data\": {\"interactionType\": 3, \"questionType\": 2, \"questionId\": \"5_FashionablyLate\", \"learnToolsVersion\": \"0.3.4\", \"valueTowardsCompletion\": 0.0, \"failureMessage\": \"\", \"exceptionClass\": \"\", \"trace\": \"\", \"outcomeType\": 4}}, \"*\")"
      ],
      "text/plain": [
       "<IPython.core.display.Javascript object>"
      ]
     },
     "metadata": {},
     "output_type": "display_data"
    },
    {
     "data": {
      "text/markdown": [
       "<span style=\"color:#33cc99\">Solution:</span> \n",
       "```python\n",
       "def fashionably_late(arrivals, name):\n",
       "    order = arrivals.index(name)\n",
       "    return order >= len(arrivals) / 2 and order != len(arrivals) - 1\n",
       "```"
      ],
      "text/plain": [
       "Solution: \n",
       "```python\n",
       "def fashionably_late(arrivals, name):\n",
       "    order = arrivals.index(name)\n",
       "    return order >= len(arrivals) / 2 and order != len(arrivals) - 1\n",
       "```"
      ]
     },
     "metadata": {},
     "output_type": "display_data"
    }
   ],
   "source": [
    "#q5.hint()\n",
    "q5.solution()"
   ]
  },
  {
   "cell_type": "markdown",
   "id": "6581ea99",
   "metadata": {
    "papermill": {
     "duration": 0.009925,
     "end_time": "2024-01-03T00:44:58.011766",
     "exception": false,
     "start_time": "2024-01-03T00:44:58.001841",
     "status": "completed"
    },
    "tags": []
   },
   "source": [
    "# Keep Going\n",
    "\n",
    "That's it for lists and tuples! Now you have the baseline knowledge to **[learn about loops](https://www.kaggle.com/colinmorris/loops-and-list-comprehensions)**, which is where lists and tuples get really interesting. "
   ]
  },
  {
   "cell_type": "markdown",
   "id": "e32c34f4",
   "metadata": {
    "papermill": {
     "duration": 0.010264,
     "end_time": "2024-01-03T00:44:58.032186",
     "exception": false,
     "start_time": "2024-01-03T00:44:58.021922",
     "status": "completed"
    },
    "tags": []
   },
   "source": [
    "---\n",
    "\n",
    "\n",
    "\n",
    "\n",
    "*Have questions or comments? Visit the [course discussion forum](https://www.kaggle.com/learn/python/discussion) to chat with other learners.*"
   ]
  }
 ],
 "metadata": {
  "kaggle": {
   "accelerator": "none",
   "dataSources": [],
   "isGpuEnabled": false,
   "isInternetEnabled": false,
   "language": "python",
   "sourceType": "notebook"
  },
  "kernelspec": {
   "display_name": "Python 3",
   "language": "python",
   "name": "python3"
  },
  "language_info": {
   "codemirror_mode": {
    "name": "ipython",
    "version": 3
   },
   "file_extension": ".py",
   "mimetype": "text/x-python",
   "name": "python",
   "nbconvert_exporter": "python",
   "pygments_lexer": "ipython3",
   "version": "3.10.12"
  },
  "learntools_metadata": {
   "lesson_index": 3,
   "type": "exercise"
  },
  "papermill": {
   "default_parameters": {},
   "duration": 4.911785,
   "end_time": "2024-01-03T00:44:58.565517",
   "environment_variables": {},
   "exception": null,
   "input_path": "__notebook__.ipynb",
   "output_path": "__notebook__.ipynb",
   "parameters": {},
   "start_time": "2024-01-03T00:44:53.653732",
   "version": "2.4.0"
  }
 },
 "nbformat": 4,
 "nbformat_minor": 5
}
