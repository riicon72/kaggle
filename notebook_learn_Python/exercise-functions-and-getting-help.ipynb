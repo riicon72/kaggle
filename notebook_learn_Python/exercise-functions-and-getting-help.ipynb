{
 "cells": [
  {
   "cell_type": "markdown",
   "id": "b89976c7",
   "metadata": {
    "papermill": {
     "duration": 0.007618,
     "end_time": "2024-01-01T12:42:47.122097",
     "exception": false,
     "start_time": "2024-01-01T12:42:47.114479",
     "status": "completed"
    },
    "tags": []
   },
   "source": [
    "**This notebook is an exercise in the [Python](https://www.kaggle.com/learn/python) course.  You can reference the tutorial at [this link](https://www.kaggle.com/colinmorris/functions-and-getting-help).**\n",
    "\n",
    "---\n"
   ]
  },
  {
   "cell_type": "markdown",
   "id": "b6b87c73",
   "metadata": {
    "papermill": {
     "duration": 0.007316,
     "end_time": "2024-01-01T12:42:47.137205",
     "exception": false,
     "start_time": "2024-01-01T12:42:47.129889",
     "status": "completed"
    },
    "tags": []
   },
   "source": [
    "Functions are powerful. Try writing some yourself.\n",
    "\n",
    "As before, don't forget to run the setup code below before jumping into question 1.\n",
    "\n",
    "関数は強力だ。自分でいくつか書いてみてください。\n",
    "\n",
    "前回と同様、問題1に入る前に以下のセットアップコードを実行することを忘れないでください。}"
   ]
  },
  {
   "cell_type": "code",
   "execution_count": 1,
   "id": "c183c28b",
   "metadata": {
    "_kg_hide-input": true,
    "_kg_hide-output": true,
    "execution": {
     "iopub.execute_input": "2024-01-01T12:42:47.154959Z",
     "iopub.status.busy": "2024-01-01T12:42:47.154285Z",
     "iopub.status.idle": "2024-01-01T12:42:47.725410Z",
     "shell.execute_reply": "2024-01-01T12:42:47.724000Z"
    },
    "papermill": {
     "duration": 0.583829,
     "end_time": "2024-01-01T12:42:47.728309",
     "exception": false,
     "start_time": "2024-01-01T12:42:47.144480",
     "status": "completed"
    },
    "tags": []
   },
   "outputs": [
    {
     "name": "stdout",
     "output_type": "stream",
     "text": [
      "Setup complete.\n"
     ]
    }
   ],
   "source": [
    "# SETUP. You don't need to worry for now about what this code does or how it works.\n",
    "from learntools.core import binder; binder.bind(globals())\n",
    "from learntools.python.ex2 import *\n",
    "print('Setup complete.')"
   ]
  },
  {
   "cell_type": "markdown",
   "id": "e6db05a7",
   "metadata": {
    "papermill": {
     "duration": 0.006938,
     "end_time": "2024-01-01T12:42:47.742690",
     "exception": false,
     "start_time": "2024-01-01T12:42:47.735752",
     "status": "completed"
    },
    "tags": []
   },
   "source": [
    "# 1.\n",
    "\n",
    "Complete the body of the following function according to its docstring.\n",
    "\n",
    "HINT: Python has a built-in function `round`.\n",
    "\n",
    "\n",
    "# 1.\n",
    "\n",
    "docstring に従って以下の関数本体を完成させなさい。\n",
    "\n",
    "ヒント：Pythonには組み込み関数 `round` がある。"
   ]
  },
  {
   "cell_type": "code",
   "execution_count": 2,
   "id": "1274ed32",
   "metadata": {
    "execution": {
     "iopub.execute_input": "2024-01-01T12:42:47.760811Z",
     "iopub.status.busy": "2024-01-01T12:42:47.759063Z",
     "iopub.status.idle": "2024-01-01T12:42:47.771275Z",
     "shell.execute_reply": "2024-01-01T12:42:47.770161Z"
    },
    "papermill": {
     "duration": 0.023764,
     "end_time": "2024-01-01T12:42:47.773887",
     "exception": false,
     "start_time": "2024-01-01T12:42:47.750123",
     "status": "completed"
    },
    "tags": []
   },
   "outputs": [
    {
     "data": {
      "application/javascript": [
       "parent.postMessage({\"jupyterEvent\": \"custom.exercise_interaction\", \"data\": {\"outcomeType\": 1, \"valueTowardsCompletion\": 0.16666666666666666, \"interactionType\": 1, \"questionType\": 2, \"questionId\": \"1_RoundFunctionProblem\", \"learnToolsVersion\": \"0.3.4\", \"failureMessage\": \"\", \"exceptionClass\": \"\", \"trace\": \"\"}}, \"*\")"
      ],
      "text/plain": [
       "<IPython.core.display.Javascript object>"
      ]
     },
     "metadata": {},
     "output_type": "display_data"
    },
    {
     "data": {
      "text/markdown": [
       "<span style=\"color:#33cc33\">Correct</span>"
      ],
      "text/plain": [
       "Correct"
      ]
     },
     "metadata": {},
     "output_type": "display_data"
    }
   ],
   "source": [
    "def round_to_two_places(num):\n",
    "    \"\"\"Return the given number rounded to two decimal places. \n",
    "    return round(num, 2)\n",
    "    >>> \n",
    "    3.14\n",
    "    \"\"\"\n",
    "    return round(num, 2)\n",
    "    # Replace this body with your own code.\n",
    "    # (\"pass\" is a keyword that does literally nothing. We used it as a placeholder\n",
    "    # because after we begin a code block, Python requires at least one line of code)\n",
    "    pass\n",
    "\n",
    "\n",
    "\n",
    "\n",
    "# Check your answer\n",
    "q1.check()"
   ]
  },
  {
   "cell_type": "code",
   "execution_count": 3,
   "id": "caca31a2",
   "metadata": {
    "execution": {
     "iopub.execute_input": "2024-01-01T12:42:47.791855Z",
     "iopub.status.busy": "2024-01-01T12:42:47.791442Z",
     "iopub.status.idle": "2024-01-01T12:42:47.800882Z",
     "shell.execute_reply": "2024-01-01T12:42:47.799656Z"
    },
    "papermill": {
     "duration": 0.022853,
     "end_time": "2024-01-01T12:42:47.804317",
     "exception": false,
     "start_time": "2024-01-01T12:42:47.781464",
     "status": "completed"
    },
    "tags": []
   },
   "outputs": [
    {
     "data": {
      "application/javascript": [
       "parent.postMessage({\"jupyterEvent\": \"custom.exercise_interaction\", \"data\": {\"interactionType\": 3, \"questionType\": 2, \"questionId\": \"1_RoundFunctionProblem\", \"learnToolsVersion\": \"0.3.4\", \"valueTowardsCompletion\": 0.0, \"failureMessage\": \"\", \"exceptionClass\": \"\", \"trace\": \"\", \"outcomeType\": 4}}, \"*\")"
      ],
      "text/plain": [
       "<IPython.core.display.Javascript object>"
      ]
     },
     "metadata": {},
     "output_type": "display_data"
    },
    {
     "data": {
      "text/markdown": [
       "<span style=\"color:#33cc99\">Solution:</span> \n",
       "```python\n",
       "return round(num, 2)\n",
       "```"
      ],
      "text/plain": [
       "Solution: \n",
       "```python\n",
       "return round(num, 2)\n",
       "```"
      ]
     },
     "metadata": {},
     "output_type": "display_data"
    }
   ],
   "source": [
    "# Uncomment the following for a hint\n",
    "#q1.hint()\n",
    "# Or uncomment the following to peek at the solution\n",
    "q1.solution()"
   ]
  },
  {
   "cell_type": "markdown",
   "id": "d18cf6a6",
   "metadata": {
    "papermill": {
     "duration": 0.00778,
     "end_time": "2024-01-01T12:42:47.820611",
     "exception": false,
     "start_time": "2024-01-01T12:42:47.812831",
     "status": "completed"
    },
    "tags": []
   },
   "source": [
    "# 2.\n",
    "The help for `round` says that `ndigits` (the second argument) may be negative.\n",
    "What do you think will happen when it is? Try some examples in the following cell.\n",
    "\n",
    "# 2.\n",
    "round`のヘルプによると、`ndigits`（第二引数）は負になる可能性がある。\n",
    "その場合どうなると思いますか？次のセルでいくつかの例を試してみてください。"
   ]
  },
  {
   "cell_type": "code",
   "execution_count": 4,
   "id": "106b738c",
   "metadata": {
    "execution": {
     "iopub.execute_input": "2024-01-01T12:42:47.839321Z",
     "iopub.status.busy": "2024-01-01T12:42:47.838502Z",
     "iopub.status.idle": "2024-01-01T12:42:47.843505Z",
     "shell.execute_reply": "2024-01-01T12:42:47.841975Z"
    },
    "papermill": {
     "duration": 0.0179,
     "end_time": "2024-01-01T12:42:47.846341",
     "exception": false,
     "start_time": "2024-01-01T12:42:47.828441",
     "status": "completed"
    },
    "tags": []
   },
   "outputs": [],
   "source": [
    "# Put your test code here"
   ]
  },
  {
   "cell_type": "markdown",
   "id": "d0c392aa",
   "metadata": {
    "papermill": {
     "duration": 0.007305,
     "end_time": "2024-01-01T12:42:47.861270",
     "exception": false,
     "start_time": "2024-01-01T12:42:47.853965",
     "status": "completed"
    },
    "tags": []
   },
   "source": [
    "Can you think of a case where this would be useful?  Once you're ready, run the code cell below to see the answer and to receive credit for completing the problem."
   ]
  },
  {
   "cell_type": "code",
   "execution_count": 5,
   "id": "88db274d",
   "metadata": {
    "execution": {
     "iopub.execute_input": "2024-01-01T12:42:47.879071Z",
     "iopub.status.busy": "2024-01-01T12:42:47.878520Z",
     "iopub.status.idle": "2024-01-01T12:42:47.889147Z",
     "shell.execute_reply": "2024-01-01T12:42:47.887808Z"
    },
    "papermill": {
     "duration": 0.022744,
     "end_time": "2024-01-01T12:42:47.891842",
     "exception": false,
     "start_time": "2024-01-01T12:42:47.869098",
     "status": "completed"
    },
    "tags": []
   },
   "outputs": [
    {
     "data": {
      "application/javascript": [
       "parent.postMessage({\"jupyterEvent\": \"custom.exercise_interaction\", \"data\": {\"interactionType\": 3, \"questionType\": 4, \"questionId\": \"2_RoundNdigitsProblem\", \"learnToolsVersion\": \"0.3.4\", \"valueTowardsCompletion\": 0.0, \"failureMessage\": \"\", \"exceptionClass\": \"\", \"trace\": \"\", \"outcomeType\": 4}}, \"*\")"
      ],
      "text/plain": [
       "<IPython.core.display.Javascript object>"
      ]
     },
     "metadata": {},
     "output_type": "display_data"
    },
    {
     "data": {
      "text/markdown": [
       "<span style=\"color:#33cc99\">Solution:</span> As you've seen, `ndigits=-1` rounds to the nearest 10, `ndigits=-2` rounds to the nearest 100 and so on. Where might this be useful? Suppose we're dealing with large numbers:\n",
       "\n",
       "> The area of Finland is 338,424 km²  \n",
       "> The area of Greenland is 2,166,086 km²\n",
       "\n",
       "We probably don't care whether it's really 338,424, or 338,425, or 338,177. All those digits of accuracy are just distracting. We can chop them off by calling `round()` with `ndigits=-3`:\n",
       "\n",
       "> The area of Finland is 338,000 km²  \n",
       "> The area of Greenland is 2,166,000 km²\n",
       "\n",
       "(We'll talk about how we would get the commas later when we talk about string formatting :))\n"
      ],
      "text/plain": [
       "Solution: As you've seen, `ndigits=-1` rounds to the nearest 10, `ndigits=-2` rounds to the nearest 100 and so on. Where might this be useful? Suppose we're dealing with large numbers:\n",
       "\n",
       "> The area of Finland is 338,424 km²  \n",
       "> The area of Greenland is 2,166,086 km²\n",
       "\n",
       "We probably don't care whether it's really 338,424, or 338,425, or 338,177. All those digits of accuracy are just distracting. We can chop them off by calling `round()` with `ndigits=-3`:\n",
       "\n",
       "> The area of Finland is 338,000 km²  \n",
       "> The area of Greenland is 2,166,000 km²\n",
       "\n",
       "(We'll talk about how we would get the commas later when we talk about string formatting :))"
      ]
     },
     "metadata": {},
     "output_type": "display_data"
    }
   ],
   "source": [
    "# Check your answer (Run this code cell to receive credit!)\n",
    "q2.solution()"
   ]
  },
  {
   "cell_type": "markdown",
   "id": "ac5c8dd0",
   "metadata": {
    "papermill": {
     "duration": 0.007885,
     "end_time": "2024-01-01T12:42:47.908357",
     "exception": false,
     "start_time": "2024-01-01T12:42:47.900472",
     "status": "completed"
    },
    "tags": []
   },
   "source": [
    "解答 おわかりのように、ndigits=-1 は 10 の位を四捨五入し、ndigits=-2 は 100 の位を四捨五入する。これはどのような場面で役に立つだろうか？大きな数を扱っているとしよう：\n",
    "\n",
    "フィンランドの面積は338,424 km² である。\n",
    "グリーンランドの面積は2,166,086 km² です。\n",
    "\n",
    "それが本当に338,424km²なのか、338,425km²なのか、338,177km²なのか、私たちはおそらく気にしない。桁の精度は邪魔なだけだ。ndigits=-3でround()を呼び出すことで、桁数を減らすことができる：\n",
    "\n",
    "フィンランドの面積は338,000km²である。\n",
    "グリーンランドの面積は2,166,000 km² です。\n",
    "\n",
    "(どのようにカンマを取るかについては、後で文字列のフォーマットについて話すときに話そう :))"
   ]
  },
  {
   "cell_type": "markdown",
   "id": "6af48511",
   "metadata": {
    "papermill": {
     "duration": 0.007696,
     "end_time": "2024-01-01T12:42:47.924388",
     "exception": false,
     "start_time": "2024-01-01T12:42:47.916692",
     "status": "completed"
    },
    "tags": []
   },
   "source": [
    "# 3.\n",
    "\n",
    "In the previous exercise, the candy-sharing friends Alice, Bob and Carol tried to split candies evenly. For the sake of their friendship, any candies left over would be smashed. For example, if they collectively bring home 91 candies, they'll take 30 each and smash 1.\n",
    "\n",
    "Below is a simple function that will calculate the number of candies to smash for *any* number of total candies.\n",
    "\n",
    "Modify it so that it optionally takes a second argument representing the number of friends the candies are being split between. If no second argument is provided, it should assume 3 friends, as before.\n",
    "\n",
    "Update the docstring to reflect this new behaviour.\n",
    "\n",
    "# 3.\n",
    "\n",
    "前の練習では、キャンディーを分け合う友人アリス、ボブ、キャロルは、キャンディーを均等に分けようとした。友情のために、残ったキャンディーは潰してしまう。例えば、91個のキャンディを持って帰ったら、30個ずつ取って、1個をつぶす。\n",
    "\n",
    "以下は、キャンディーの総数が*任意の*数である場合に、粉砕するキャンディーの数を計算する簡単な関数である。\n",
    "\n",
    "この関数を修正して、キャンディを分ける友達の数を表す第二引数を取るようにする。第2引数が与えられない場合は、以前と同様に3人の友達と仮定する。\n",
    "\n",
    "この新しい動作を反映するようにdocstringを更新してください。"
   ]
  },
  {
   "cell_type": "code",
   "execution_count": 6,
   "id": "001aac76",
   "metadata": {
    "execution": {
     "iopub.execute_input": "2024-01-01T12:42:47.943100Z",
     "iopub.status.busy": "2024-01-01T12:42:47.942659Z",
     "iopub.status.idle": "2024-01-01T12:42:47.953155Z",
     "shell.execute_reply": "2024-01-01T12:42:47.951993Z"
    },
    "papermill": {
     "duration": 0.022694,
     "end_time": "2024-01-01T12:42:47.955561",
     "exception": false,
     "start_time": "2024-01-01T12:42:47.932867",
     "status": "completed"
    },
    "tags": []
   },
   "outputs": [
    {
     "data": {
      "application/javascript": [
       "parent.postMessage({\"jupyterEvent\": \"custom.exercise_interaction\", \"data\": {\"outcomeType\": 1, \"valueTowardsCompletion\": 0.16666666666666666, \"interactionType\": 1, \"questionType\": 2, \"questionId\": \"3_CandySmashingFunctionProblem\", \"learnToolsVersion\": \"0.3.4\", \"failureMessage\": \"\", \"exceptionClass\": \"\", \"trace\": \"\"}}, \"*\")"
      ],
      "text/plain": [
       "<IPython.core.display.Javascript object>"
      ]
     },
     "metadata": {},
     "output_type": "display_data"
    },
    {
     "data": {
      "text/markdown": [
       "<span style=\"color:#33cc33\">Correct</span>"
      ],
      "text/plain": [
       "Correct"
      ]
     },
     "metadata": {},
     "output_type": "display_data"
    }
   ],
   "source": [
    "\n",
    "\n",
    "def to_smash(total_candies):\n",
    "    \"\"\"Return the number of leftover candies that must be smashed after distributing\n",
    "    the given number of candies evenly between 3 friends.\n",
    "    \n",
    "    >>> to_smash(91)\n",
    "    1\n",
    "    \"\"\"\n",
    "    return total_candies % 3\n",
    "\n",
    "def to_smash(total_candies, n_friends=3):\n",
    "    return total_candies % n_friends\n",
    "\n",
    "# Check your answer\n",
    "q3.check()"
   ]
  },
  {
   "cell_type": "code",
   "execution_count": 7,
   "id": "aef07c4b",
   "metadata": {
    "execution": {
     "iopub.execute_input": "2024-01-01T12:42:47.975124Z",
     "iopub.status.busy": "2024-01-01T12:42:47.974719Z",
     "iopub.status.idle": "2024-01-01T12:42:47.980413Z",
     "shell.execute_reply": "2024-01-01T12:42:47.979139Z"
    },
    "papermill": {
     "duration": 0.019005,
     "end_time": "2024-01-01T12:42:47.983064",
     "exception": false,
     "start_time": "2024-01-01T12:42:47.964059",
     "status": "completed"
    },
    "tags": []
   },
   "outputs": [],
   "source": [
    "#q3.hint()"
   ]
  },
  {
   "cell_type": "code",
   "execution_count": 8,
   "id": "148da1a4",
   "metadata": {
    "execution": {
     "iopub.execute_input": "2024-01-01T12:42:48.003354Z",
     "iopub.status.busy": "2024-01-01T12:42:48.002907Z",
     "iopub.status.idle": "2024-01-01T12:42:48.013947Z",
     "shell.execute_reply": "2024-01-01T12:42:48.012301Z"
    },
    "papermill": {
     "duration": 0.025353,
     "end_time": "2024-01-01T12:42:48.016835",
     "exception": false,
     "start_time": "2024-01-01T12:42:47.991482",
     "status": "completed"
    },
    "tags": []
   },
   "outputs": [
    {
     "data": {
      "application/javascript": [
       "parent.postMessage({\"jupyterEvent\": \"custom.exercise_interaction\", \"data\": {\"interactionType\": 3, \"questionType\": 2, \"questionId\": \"3_CandySmashingFunctionProblem\", \"learnToolsVersion\": \"0.3.4\", \"valueTowardsCompletion\": 0.0, \"failureMessage\": \"\", \"exceptionClass\": \"\", \"trace\": \"\", \"outcomeType\": 4}}, \"*\")"
      ],
      "text/plain": [
       "<IPython.core.display.Javascript object>"
      ]
     },
     "metadata": {},
     "output_type": "display_data"
    },
    {
     "data": {
      "text/markdown": [
       "<span style=\"color:#33cc99\">Solution:</span> \n",
       "```python\n",
       "def to_smash(total_candies, n_friends=3):\n",
       "    return total_candies % n_friends\n",
       "```"
      ],
      "text/plain": [
       "Solution: \n",
       "```python\n",
       "def to_smash(total_candies, n_friends=3):\n",
       "    return total_candies % n_friends\n",
       "```"
      ]
     },
     "metadata": {},
     "output_type": "display_data"
    }
   ],
   "source": [
    "q3.solution()"
   ]
  },
  {
   "cell_type": "markdown",
   "id": "fdedc7b9",
   "metadata": {
    "papermill": {
     "duration": 0.008337,
     "end_time": "2024-01-01T12:42:48.034329",
     "exception": false,
     "start_time": "2024-01-01T12:42:48.025992",
     "status": "completed"
    },
    "tags": []
   },
   "source": [
    "# 4. (Optional)\n",
    "\n",
    "It may not be fun, but reading and understanding error messages will be an important part of your Python career.\n",
    "\n",
    "Each code cell below contains some commented buggy code. For each cell...\n",
    "\n",
    "1. Read the code and predict what you think will happen when it's run.\n",
    "2. Then uncomment the code and run it to see what happens. (**Tip**: In the kernel editor, you can highlight several lines and press `ctrl`+`/` to toggle commenting.)\n",
    "3. Fix the code (so that it accomplishes its intended purpose without throwing an exception)\n",
    "\n",
    "楽しくはないかもしれませんが、エラーメッセージを読んで理解することはあなたのPythonキャリアにとって重要な部分となるでしょう。\n",
    "\n",
    "以下の各コードセルには、コメントされたバグのあるコードが含まれています。それぞれのセルについて...\n",
    "\n",
    "1. コードを読んで、それが実行されたときに何が起こると思うか予想しなさい。\n",
    "2. 次に、コードのコメントを外して実行し、何が起こるか見てください。(**ヒント**： カーネルエディターでは、いくつかの行をハイライトし、`ctrl`+`/` を押すとコメントを切り替えることができます)。\n",
    "3. コードを修正する（例外を投げずに本来の目的を達成できるように）。\n",
    "\n",
    "<!-- TODO: should this be autochecked? Delta is probably pretty small. -->"
   ]
  },
  {
   "cell_type": "code",
   "execution_count": 9,
   "id": "38d9e1e2",
   "metadata": {
    "execution": {
     "iopub.execute_input": "2024-01-01T12:42:48.054028Z",
     "iopub.status.busy": "2024-01-01T12:42:48.053570Z",
     "iopub.status.idle": "2024-01-01T12:42:48.062469Z",
     "shell.execute_reply": "2024-01-01T12:42:48.060812Z"
    },
    "papermill": {
     "duration": 0.022074,
     "end_time": "2024-01-01T12:42:48.065421",
     "exception": false,
     "start_time": "2024-01-01T12:42:48.043347",
     "status": "completed"
    },
    "tags": []
   },
   "outputs": [
    {
     "data": {
      "text/plain": [
       "10.0"
      ]
     },
     "execution_count": 9,
     "metadata": {},
     "output_type": "execute_result"
    }
   ],
   "source": [
    "round_to_two_places(9.9999)"
   ]
  },
  {
   "cell_type": "code",
   "execution_count": 10,
   "id": "41766d0d",
   "metadata": {
    "execution": {
     "iopub.execute_input": "2024-01-01T12:42:48.086441Z",
     "iopub.status.busy": "2024-01-01T12:42:48.086009Z",
     "iopub.status.idle": "2024-01-01T12:42:48.091882Z",
     "shell.execute_reply": "2024-01-01T12:42:48.090629Z"
    },
    "papermill": {
     "duration": 0.019919,
     "end_time": "2024-01-01T12:42:48.094744",
     "exception": false,
     "start_time": "2024-01-01T12:42:48.074825",
     "status": "completed"
    },
    "tags": []
   },
   "outputs": [],
   "source": [
    "x = -10\n",
    "y = 5\n",
    "# Which of the two variables above has the smallest absolute value?\n",
    "def least_difference(x,y):\n",
    "    diff1 = abs(x)\n",
    "    diff2 = abs(y)\n",
    "    return min(diff1, diff2)"
   ]
  },
  {
   "cell_type": "code",
   "execution_count": 11,
   "id": "d7e55c2d",
   "metadata": {
    "execution": {
     "iopub.execute_input": "2024-01-01T12:42:48.115644Z",
     "iopub.status.busy": "2024-01-01T12:42:48.115168Z",
     "iopub.status.idle": "2024-01-01T12:42:48.121136Z",
     "shell.execute_reply": "2024-01-01T12:42:48.119760Z"
    },
    "papermill": {
     "duration": 0.019597,
     "end_time": "2024-01-01T12:42:48.123617",
     "exception": false,
     "start_time": "2024-01-01T12:42:48.104020",
     "status": "completed"
    },
    "tags": []
   },
   "outputs": [],
   "source": [
    "def mult_by_five(x):\n",
    "    return 5 * x\n",
    "\n",
    "def call(fn, arg):\n",
    "    \"\"\"Call fn on arg\"\"\"\n",
    "    return fn(arg)\n"
   ]
  },
  {
   "cell_type": "markdown",
   "id": "c26cd67e",
   "metadata": {
    "papermill": {
     "duration": 0.008934,
     "end_time": "2024-01-01T12:42:48.141879",
     "exception": false,
     "start_time": "2024-01-01T12:42:48.132945",
     "status": "completed"
    },
    "tags": []
   },
   "source": [
    "# Keep Going\n",
    "\n",
    "Nice job with the code. Next up, you'll learn about *conditionals*, which you'll need to **[write interesting programs](https://www.kaggle.com/colinmorris/booleans-and-conditionals)**. "
   ]
  },
  {
   "cell_type": "markdown",
   "id": "59abcde1",
   "metadata": {
    "papermill": {
     "duration": 0.008629,
     "end_time": "2024-01-01T12:42:48.160107",
     "exception": false,
     "start_time": "2024-01-01T12:42:48.151478",
     "status": "completed"
    },
    "tags": []
   },
   "source": [
    "---\n",
    "\n",
    "\n",
    "\n",
    "\n",
    "*Have questions or comments? Visit the [course discussion forum](https://www.kaggle.com/learn/python/discussion) to chat with other learners.*"
   ]
  }
 ],
 "metadata": {
  "kaggle": {
   "accelerator": "none",
   "dataSources": [],
   "isGpuEnabled": false,
   "isInternetEnabled": false,
   "language": "python",
   "sourceType": "notebook"
  },
  "kernelspec": {
   "display_name": "Python 3",
   "language": "python",
   "name": "python3"
  },
  "language_info": {
   "codemirror_mode": {
    "name": "ipython",
    "version": 3
   },
   "file_extension": ".py",
   "mimetype": "text/x-python",
   "name": "python",
   "nbconvert_exporter": "python",
   "pygments_lexer": "ipython3",
   "version": "3.10.12"
  },
  "learntools_metadata": {
   "lesson_index": 1,
   "type": "exercise"
  },
  "papermill": {
   "default_parameters": {},
   "duration": 5.592075,
   "end_time": "2024-01-01T12:42:48.893354",
   "environment_variables": {},
   "exception": null,
   "input_path": "__notebook__.ipynb",
   "output_path": "__notebook__.ipynb",
   "parameters": {},
   "start_time": "2024-01-01T12:42:43.301279",
   "version": "2.4.0"
  }
 },
 "nbformat": 4,
 "nbformat_minor": 5
}
