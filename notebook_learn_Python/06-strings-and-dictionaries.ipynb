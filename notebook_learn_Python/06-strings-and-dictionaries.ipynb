{
 "cells": [
  {
   "cell_type": "markdown",
   "id": "eeb9df1d",
   "metadata": {
    "papermill": {
     "duration": 0.00801,
     "end_time": "2024-01-05T11:16:09.591155",
     "exception": false,
     "start_time": "2024-01-05T11:16:09.583145",
     "status": "completed"
    },
    "tags": []
   },
   "source": [
    "**This notebook is an exercise in the [Python](https://www.kaggle.com/learn/python) course.  You can reference the tutorial at [this link](https://www.kaggle.com/colinmorris/strings-and-dictionaries).**\n",
    "\n",
    "---\n"
   ]
  },
  {
   "cell_type": "markdown",
   "id": "0e92bde4",
   "metadata": {
    "papermill": {
     "duration": 0.007007,
     "end_time": "2024-01-05T11:16:09.605695",
     "exception": false,
     "start_time": "2024-01-05T11:16:09.598688",
     "status": "completed"
    },
    "tags": []
   },
   "source": [
    "You are almost done with the course. Nice job!\n",
    "\n",
    "We have a couple more interesting problems for you before you go. \n",
    "\n",
    "As always, run the setup code below before working on the questions.\n",
    "\n",
    "もうすぐコースが終わるね。よくやった！\n",
    "\n",
    "お帰りになる前に、もう少し面白い問題があります。\n",
    "\n",
    "いつものように、問題に取り組む前に下のセットアップコードを実行してください。"
   ]
  },
  {
   "cell_type": "code",
   "execution_count": 1,
   "id": "2f5ec4b5",
   "metadata": {
    "execution": {
     "iopub.execute_input": "2024-01-05T11:16:09.622734Z",
     "iopub.status.busy": "2024-01-05T11:16:09.622324Z",
     "iopub.status.idle": "2024-01-05T11:16:10.116775Z",
     "shell.execute_reply": "2024-01-05T11:16:10.115313Z"
    },
    "papermill": {
     "duration": 0.506399,
     "end_time": "2024-01-05T11:16:10.119751",
     "exception": false,
     "start_time": "2024-01-05T11:16:09.613352",
     "status": "completed"
    },
    "tags": []
   },
   "outputs": [
    {
     "name": "stdout",
     "output_type": "stream",
     "text": [
      "Setup complete.\n"
     ]
    }
   ],
   "source": [
    "from learntools.core import binder; binder.bind(globals())\n",
    "from learntools.python.ex6 import *\n",
    "print('Setup complete.')"
   ]
  },
  {
   "cell_type": "markdown",
   "id": "5726a003",
   "metadata": {
    "papermill": {
     "duration": 0.007658,
     "end_time": "2024-01-05T11:16:10.135300",
     "exception": false,
     "start_time": "2024-01-05T11:16:10.127642",
     "status": "completed"
    },
    "tags": []
   },
   "source": [
    "Let's start with a string lightning round to warm up. What are the lengths of the strings below?\n",
    "\n",
    "For each of the five strings below, predict what `len()` would return when passed that string. Use the variable `length` to record your answer, then run the cell to check whether you were right.  \n",
    "\n",
    "まずはウォーミングアップとして、ストリングス・ライトニング・ラウンドから始めよう。以下の文字列の長さはいくつでしょう？\n",
    "\n",
    "下の5つの文字列それぞれについて、その文字列を渡されたときに `len()` が返す値を予想しなさい。変数 `length` を使って答えを記録し、セルを実行して正解かどうかを確認しよう。 \n",
    "# 0a."
   ]
  },
  {
   "cell_type": "code",
   "execution_count": 2,
   "id": "9545e637",
   "metadata": {
    "execution": {
     "iopub.execute_input": "2024-01-05T11:16:10.153194Z",
     "iopub.status.busy": "2024-01-05T11:16:10.152689Z",
     "iopub.status.idle": "2024-01-05T11:16:10.163239Z",
     "shell.execute_reply": "2024-01-05T11:16:10.162034Z"
    },
    "papermill": {
     "duration": 0.022329,
     "end_time": "2024-01-05T11:16:10.165562",
     "exception": false,
     "start_time": "2024-01-05T11:16:10.143233",
     "status": "completed"
    },
    "tags": []
   },
   "outputs": [
    {
     "data": {
      "application/javascript": [
       "parent.postMessage({\"jupyterEvent\": \"custom.exercise_interaction\", \"data\": {\"outcomeType\": 1, \"valueTowardsCompletion\": 0.3333333333333333, \"interactionType\": 1, \"questionType\": 1, \"questionId\": \"0.1_ZA\", \"learnToolsVersion\": \"0.3.4\", \"failureMessage\": \"\", \"exceptionClass\": \"\", \"trace\": \"\"}}, \"*\")"
      ],
      "text/plain": [
       "<IPython.core.display.Javascript object>"
      ]
     },
     "metadata": {},
     "output_type": "display_data"
    },
    {
     "data": {
      "text/markdown": [
       "<span style=\"color:#33cc33\">Correct:</span> \n",
       "\n",
       "The empty string has length zero. Note that the empty string is also the only string that Python considers as False when converting to boolean."
      ],
      "text/plain": [
       "Correct: \n",
       "\n",
       "The empty string has length zero. Note that the empty string is also the only string that Python considers as False when converting to boolean."
      ]
     },
     "metadata": {},
     "output_type": "display_data"
    }
   ],
   "source": [
    "a = \"\"\n",
    "length = 0\n",
    "q0.a.check()"
   ]
  },
  {
   "cell_type": "markdown",
   "id": "b2337c37",
   "metadata": {
    "papermill": {
     "duration": 0.007698,
     "end_time": "2024-01-05T11:16:10.181370",
     "exception": false,
     "start_time": "2024-01-05T11:16:10.173672",
     "status": "completed"
    },
    "tags": []
   },
   "source": [
    "# 0b."
   ]
  },
  {
   "cell_type": "code",
   "execution_count": 3,
   "id": "0497cd08",
   "metadata": {
    "execution": {
     "iopub.execute_input": "2024-01-05T11:16:10.200195Z",
     "iopub.status.busy": "2024-01-05T11:16:10.199500Z",
     "iopub.status.idle": "2024-01-05T11:16:10.207469Z",
     "shell.execute_reply": "2024-01-05T11:16:10.206498Z"
    },
    "papermill": {
     "duration": 0.020085,
     "end_time": "2024-01-05T11:16:10.209711",
     "exception": false,
     "start_time": "2024-01-05T11:16:10.189626",
     "status": "completed"
    },
    "tags": []
   },
   "outputs": [
    {
     "data": {
      "application/javascript": [
       "parent.postMessage({\"jupyterEvent\": \"custom.exercise_interaction\", \"data\": {\"outcomeType\": 1, \"valueTowardsCompletion\": 0.3333333333333333, \"interactionType\": 1, \"questionType\": 1, \"questionId\": \"0.2_ZB\", \"learnToolsVersion\": \"0.3.4\", \"failureMessage\": \"\", \"exceptionClass\": \"\", \"trace\": \"\"}}, \"*\")"
      ],
      "text/plain": [
       "<IPython.core.display.Javascript object>"
      ]
     },
     "metadata": {},
     "output_type": "display_data"
    },
    {
     "data": {
      "text/markdown": [
       "<span style=\"color:#33cc33\">Correct:</span> \n",
       "\n",
       "Keep in mind Python includes spaces (and punctuation) when counting string length."
      ],
      "text/plain": [
       "Correct: \n",
       "\n",
       "Keep in mind Python includes spaces (and punctuation) when counting string length."
      ]
     },
     "metadata": {},
     "output_type": "display_data"
    }
   ],
   "source": [
    "b = \"it's ok\"\n",
    "len(b)\n",
    "length = 7 \n",
    "q0.b.check()"
   ]
  },
  {
   "cell_type": "markdown",
   "id": "d23f5e7a",
   "metadata": {
    "papermill": {
     "duration": 0.00793,
     "end_time": "2024-01-05T11:16:10.225865",
     "exception": false,
     "start_time": "2024-01-05T11:16:10.217935",
     "status": "completed"
    },
    "tags": []
   },
   "source": [
    "# 0c."
   ]
  },
  {
   "cell_type": "code",
   "execution_count": 4,
   "id": "e3d5d914",
   "metadata": {
    "execution": {
     "iopub.execute_input": "2024-01-05T11:16:10.244217Z",
     "iopub.status.busy": "2024-01-05T11:16:10.243775Z",
     "iopub.status.idle": "2024-01-05T11:16:10.253183Z",
     "shell.execute_reply": "2024-01-05T11:16:10.251482Z"
    },
    "papermill": {
     "duration": 0.021688,
     "end_time": "2024-01-05T11:16:10.255831",
     "exception": false,
     "start_time": "2024-01-05T11:16:10.234143",
     "status": "completed"
    },
    "tags": []
   },
   "outputs": [
    {
     "data": {
      "application/javascript": [
       "parent.postMessage({\"jupyterEvent\": \"custom.exercise_interaction\", \"data\": {\"outcomeType\": 1, \"valueTowardsCompletion\": 0.3333333333333333, \"interactionType\": 1, \"questionType\": 1, \"questionId\": \"0.3_ZC\", \"learnToolsVersion\": \"0.3.4\", \"failureMessage\": \"\", \"exceptionClass\": \"\", \"trace\": \"\"}}, \"*\")"
      ],
      "text/plain": [
       "<IPython.core.display.Javascript object>"
      ]
     },
     "metadata": {},
     "output_type": "display_data"
    },
    {
     "data": {
      "text/markdown": [
       "<span style=\"color:#33cc33\">Correct:</span> \n",
       "\n",
       "Even though we use different syntax to create it, the string `c` is identical to `b`. In particular, note that the backslash is not part of the string, so it doesn't contribute to its length."
      ],
      "text/plain": [
       "Correct: \n",
       "\n",
       "Even though we use different syntax to create it, the string `c` is identical to `b`. In particular, note that the backslash is not part of the string, so it doesn't contribute to its length."
      ]
     },
     "metadata": {},
     "output_type": "display_data"
    }
   ],
   "source": [
    "c = 'it\\'s ok'\n",
    "length = 7 \n",
    "q0.c.check()"
   ]
  },
  {
   "cell_type": "markdown",
   "id": "e5b99bdb",
   "metadata": {
    "papermill": {
     "duration": 0.008293,
     "end_time": "2024-01-05T11:16:10.272842",
     "exception": false,
     "start_time": "2024-01-05T11:16:10.264549",
     "status": "completed"
    },
    "tags": []
   },
   "source": [
    "# 0d."
   ]
  },
  {
   "cell_type": "code",
   "execution_count": 5,
   "id": "8063cf7f",
   "metadata": {
    "execution": {
     "iopub.execute_input": "2024-01-05T11:16:10.291649Z",
     "iopub.status.busy": "2024-01-05T11:16:10.291170Z",
     "iopub.status.idle": "2024-01-05T11:16:10.301648Z",
     "shell.execute_reply": "2024-01-05T11:16:10.300551Z"
    },
    "papermill": {
     "duration": 0.022638,
     "end_time": "2024-01-05T11:16:10.304021",
     "exception": false,
     "start_time": "2024-01-05T11:16:10.281383",
     "status": "completed"
    },
    "tags": []
   },
   "outputs": [
    {
     "data": {
      "application/javascript": [
       "parent.postMessage({\"jupyterEvent\": \"custom.exercise_interaction\", \"data\": {\"outcomeType\": 1, \"valueTowardsCompletion\": 0.3333333333333333, \"interactionType\": 1, \"questionType\": 1, \"questionId\": \"0.4_ZD\", \"learnToolsVersion\": \"0.3.4\", \"failureMessage\": \"\", \"exceptionClass\": \"\", \"trace\": \"\"}}, \"*\")"
      ],
      "text/plain": [
       "<IPython.core.display.Javascript object>"
      ]
     },
     "metadata": {},
     "output_type": "display_data"
    },
    {
     "data": {
      "text/markdown": [
       "<span style=\"color:#33cc33\">Correct:</span> \n",
       "\n",
       "The fact that this string was created using triple-quote syntax doesn't make any difference in terms of its content or length. This string is exactly the same as `'hey'`."
      ],
      "text/plain": [
       "Correct: \n",
       "\n",
       "The fact that this string was created using triple-quote syntax doesn't make any difference in terms of its content or length. This string is exactly the same as `'hey'`."
      ]
     },
     "metadata": {},
     "output_type": "display_data"
    }
   ],
   "source": [
    "d = \"\"\"hey\"\"\"\n",
    "length = 3\n",
    "q0.d.check()"
   ]
  },
  {
   "cell_type": "markdown",
   "id": "27be9607",
   "metadata": {
    "papermill": {
     "duration": 0.009438,
     "end_time": "2024-01-05T11:16:10.322328",
     "exception": false,
     "start_time": "2024-01-05T11:16:10.312890",
     "status": "completed"
    },
    "tags": []
   },
   "source": [
    "# 0e."
   ]
  },
  {
   "cell_type": "code",
   "execution_count": 6,
   "id": "fd499def",
   "metadata": {
    "execution": {
     "iopub.execute_input": "2024-01-05T11:16:10.344001Z",
     "iopub.status.busy": "2024-01-05T11:16:10.343108Z",
     "iopub.status.idle": "2024-01-05T11:16:10.353165Z",
     "shell.execute_reply": "2024-01-05T11:16:10.352017Z"
    },
    "papermill": {
     "duration": 0.0242,
     "end_time": "2024-01-05T11:16:10.355383",
     "exception": false,
     "start_time": "2024-01-05T11:16:10.331183",
     "status": "completed"
    },
    "tags": []
   },
   "outputs": [
    {
     "data": {
      "application/javascript": [
       "parent.postMessage({\"jupyterEvent\": \"custom.exercise_interaction\", \"data\": {\"outcomeType\": 1, \"valueTowardsCompletion\": 0.3333333333333333, \"interactionType\": 1, \"questionType\": 1, \"questionId\": \"0.5_ZE\", \"learnToolsVersion\": \"0.3.4\", \"failureMessage\": \"\", \"exceptionClass\": \"\", \"trace\": \"\"}}, \"*\")"
      ],
      "text/plain": [
       "<IPython.core.display.Javascript object>"
      ]
     },
     "metadata": {},
     "output_type": "display_data"
    },
    {
     "data": {
      "text/markdown": [
       "<span style=\"color:#33cc33\">Correct:</span> \n",
       "\n",
       "The newline character is just a single character! (Even though we represent it to Python using a combination of two characters.)"
      ],
      "text/plain": [
       "Correct: \n",
       "\n",
       "The newline character is just a single character! (Even though we represent it to Python using a combination of two characters.)"
      ]
     },
     "metadata": {},
     "output_type": "display_data"
    }
   ],
   "source": [
    "e = '\\n'\n",
    "length = 1\n",
    "q0.e.check()"
   ]
  },
  {
   "cell_type": "markdown",
   "id": "86bcd262",
   "metadata": {
    "papermill": {
     "duration": 0.009965,
     "end_time": "2024-01-05T11:16:10.374630",
     "exception": false,
     "start_time": "2024-01-05T11:16:10.364665",
     "status": "completed"
    },
    "tags": []
   },
   "source": [
    "# 1.\n",
    "\n",
    "There is a saying that \"Data scientists spend 80% of their time cleaning data, and 20% of their time complaining about cleaning data.\" Let's see if you can write a function to help clean US zip code data. Given a string, it should return whether or not that string represents a valid zip code. For our purposes, a valid zip code is any string consisting of exactly 5 digits.\n",
    "\n",
    "HINT: `str` has a method that will be useful here. Use `help(str)` to review a list of string methods.\n",
    "\n",
    "データ・サイエンティストは80％の時間をデータのクリーニングに費やし、20％の時間をデータのクリーニングについて不平を言うことに費やす \"という言葉がある。アメリカの郵便番号データをきれいにする関数を書いてみよう。文字列が与えられたら、その文字列が有効な郵便番号かどうかを返さなければならない。ここでいう有効な郵便番号とは、正確に5桁の数字からなる文字列のことである。\n",
    "\n",
    "ヒント: `str` にはここで役立つメソッドがある。文字列のメソッドのリストを見るには `help(str)` を使う。"
   ]
  },
  {
   "cell_type": "code",
   "execution_count": 7,
   "id": "d52241de",
   "metadata": {
    "execution": {
     "iopub.execute_input": "2024-01-05T11:16:10.398098Z",
     "iopub.status.busy": "2024-01-05T11:16:10.397446Z",
     "iopub.status.idle": "2024-01-05T11:16:10.408528Z",
     "shell.execute_reply": "2024-01-05T11:16:10.407360Z"
    },
    "papermill": {
     "duration": 0.025538,
     "end_time": "2024-01-05T11:16:10.411140",
     "exception": false,
     "start_time": "2024-01-05T11:16:10.385602",
     "status": "completed"
    },
    "tags": []
   },
   "outputs": [
    {
     "data": {
      "application/javascript": [
       "parent.postMessage({\"jupyterEvent\": \"custom.exercise_interaction\", \"data\": {\"outcomeType\": 1, \"valueTowardsCompletion\": 0.3333333333333333, \"interactionType\": 1, \"questionType\": 2, \"questionId\": \"1_ZipValidator\", \"learnToolsVersion\": \"0.3.4\", \"failureMessage\": \"\", \"exceptionClass\": \"\", \"trace\": \"\"}}, \"*\")"
      ],
      "text/plain": [
       "<IPython.core.display.Javascript object>"
      ]
     },
     "metadata": {},
     "output_type": "display_data"
    },
    {
     "data": {
      "text/markdown": [
       "<span style=\"color:#33cc33\">Correct</span>"
      ],
      "text/plain": [
       "Correct"
      ]
     },
     "metadata": {},
     "output_type": "display_data"
    }
   ],
   "source": [
    "def is_valid_zip(zip_code):\n",
    "    return len(zip_code) == 5 and zip_code.isdigit()\n",
    "    pass\n",
    "\n",
    "# Check your answer\n",
    "q1.check()"
   ]
  },
  {
   "cell_type": "code",
   "execution_count": 8,
   "id": "d11c83d5",
   "metadata": {
    "execution": {
     "iopub.execute_input": "2024-01-05T11:16:10.433810Z",
     "iopub.status.busy": "2024-01-05T11:16:10.433309Z",
     "iopub.status.idle": "2024-01-05T11:16:10.443135Z",
     "shell.execute_reply": "2024-01-05T11:16:10.441975Z"
    },
    "papermill": {
     "duration": 0.024622,
     "end_time": "2024-01-05T11:16:10.445583",
     "exception": false,
     "start_time": "2024-01-05T11:16:10.420961",
     "status": "completed"
    },
    "tags": []
   },
   "outputs": [
    {
     "data": {
      "application/javascript": [
       "parent.postMessage({\"jupyterEvent\": \"custom.exercise_interaction\", \"data\": {\"interactionType\": 3, \"questionType\": 2, \"questionId\": \"1_ZipValidator\", \"learnToolsVersion\": \"0.3.4\", \"valueTowardsCompletion\": 0.0, \"failureMessage\": \"\", \"exceptionClass\": \"\", \"trace\": \"\", \"outcomeType\": 4}}, \"*\")"
      ],
      "text/plain": [
       "<IPython.core.display.Javascript object>"
      ]
     },
     "metadata": {},
     "output_type": "display_data"
    },
    {
     "data": {
      "text/markdown": [
       "<span style=\"color:#33cc99\">Solution:</span> \n",
       "```python\n",
       "def is_valid_zip(zip_code):\n",
       "    return len(zip_code) == 5 and zip_code.isdigit()\n",
       "```"
      ],
      "text/plain": [
       "Solution: \n",
       "```python\n",
       "def is_valid_zip(zip_code):\n",
       "    return len(zip_code) == 5 and zip_code.isdigit()\n",
       "```"
      ]
     },
     "metadata": {},
     "output_type": "display_data"
    }
   ],
   "source": [
    "#q1.hint()\n",
    "q1.solution()"
   ]
  },
  {
   "cell_type": "markdown",
   "id": "7a4e6de8",
   "metadata": {
    "papermill": {
     "duration": 0.010332,
     "end_time": "2024-01-05T11:16:10.466769",
     "exception": false,
     "start_time": "2024-01-05T11:16:10.456437",
     "status": "completed"
    },
    "tags": []
   },
   "source": [
    "# 2.\n",
    "\n",
    "A researcher has gathered thousands of news articles. But she wants to focus her attention on articles including a specific word. Complete the function below to help her filter her list of articles.\n",
    "\n",
    "Your function should meet the following criteria:\n",
    "\n",
    "- Do not include documents where the keyword string shows up only as a part of a larger word. For example, if she were looking for the keyword “closed”, you would not include the string “enclosed.” \n",
    "- She does not want you to distinguish upper case from lower case letters. So the phrase “Closed the case.” would be included when the keyword is “closed”\n",
    "- Do not let periods or commas affect what is matched. “It is closed.” would be included when the keyword is “closed”. But you can assume there are no other types of punctuation.\n",
    "\n",
    "# 2.\n",
    "\n",
    "ある研究者が何千ものニュース記事を集めた。しかし、彼女は特定の単語を含む記事に注目したい。彼女が記事のリストをフィルタリングするのを助けるために、以下の関数を完成させなさい。\n",
    "\n",
    "あなたの関数は以下の条件を満たすべきである：\n",
    "\n",
    "- キーワード文字列がより大きな単語の一部としてのみ表示される文書を含めない。例えば、彼女が \"closed \"というキーワードを探していた場合、\"enclosed \"という文字列は含めない。\n",
    "- 彼女は、大文字と小文字を区別してほしくないのです。したがって、キーワードが \"closed \"の場合は、\"Closed the case. \"というフレーズが含まれることになる。\n",
    "- ピリオドやカンマをマッチする内容に影響させない。キーワードが \"closed \"の場合は、\"It is closed. \"が含まれる。しかし、それ以外の句読点はないと考えてよい。"
   ]
  },
  {
   "cell_type": "code",
   "execution_count": 9,
   "id": "013d0e4a",
   "metadata": {
    "execution": {
     "iopub.execute_input": "2024-01-05T11:16:10.489603Z",
     "iopub.status.busy": "2024-01-05T11:16:10.489190Z",
     "iopub.status.idle": "2024-01-05T11:16:10.502386Z",
     "shell.execute_reply": "2024-01-05T11:16:10.501410Z"
    },
    "papermill": {
     "duration": 0.027314,
     "end_time": "2024-01-05T11:16:10.504739",
     "exception": false,
     "start_time": "2024-01-05T11:16:10.477425",
     "status": "completed"
    },
    "tags": []
   },
   "outputs": [
    {
     "data": {
      "application/javascript": [
       "parent.postMessage({\"jupyterEvent\": \"custom.exercise_interaction\", \"data\": {\"outcomeType\": 1, \"valueTowardsCompletion\": 0.3333333333333333, \"interactionType\": 1, \"questionType\": 2, \"questionId\": \"2_WordSearch\", \"learnToolsVersion\": \"0.3.4\", \"failureMessage\": \"\", \"exceptionClass\": \"\", \"trace\": \"\"}}, \"*\")"
      ],
      "text/plain": [
       "<IPython.core.display.Javascript object>"
      ]
     },
     "metadata": {},
     "output_type": "display_data"
    },
    {
     "data": {
      "text/markdown": [
       "<span style=\"color:#33cc33\">Correct</span>"
      ],
      "text/plain": [
       "Correct"
      ]
     },
     "metadata": {},
     "output_type": "display_data"
    }
   ],
   "source": [
    "def word_search(doc_list, keyword):\n",
    "    # list to hold the indices of matching documents\n",
    "    indices = [] \n",
    "    # Iterate through the indices (i) and elements (doc) of documents\n",
    "    for i, doc in enumerate(doc_list):\n",
    "        # Split the string doc into a list of words (according to whitespace)\n",
    "        tokens = doc.split()\n",
    "        # Make a transformed list where we 'normalize' each word to facilitate matching.\n",
    "        # Periods and commas are removed from the end of each word, and it's set to all lowercase.\n",
    "        normalized = [token.rstrip('.,').lower() for token in tokens]\n",
    "        # Is there a match? If so, update the list of matching indices.\n",
    "        if keyword.lower() in normalized:\n",
    "            indices.append(i)\n",
    "    return indices\n",
    "\n",
    "# Check your answer\n",
    "q2.check()"
   ]
  },
  {
   "cell_type": "code",
   "execution_count": 10,
   "id": "868a0d3b",
   "metadata": {
    "execution": {
     "iopub.execute_input": "2024-01-05T11:16:10.528614Z",
     "iopub.status.busy": "2024-01-05T11:16:10.528194Z",
     "iopub.status.idle": "2024-01-05T11:16:10.535423Z",
     "shell.execute_reply": "2024-01-05T11:16:10.534525Z"
    },
    "papermill": {
     "duration": 0.021993,
     "end_time": "2024-01-05T11:16:10.537528",
     "exception": false,
     "start_time": "2024-01-05T11:16:10.515535",
     "status": "completed"
    },
    "tags": []
   },
   "outputs": [
    {
     "data": {
      "application/javascript": [
       "parent.postMessage({\"jupyterEvent\": \"custom.exercise_interaction\", \"data\": {\"interactionType\": 3, \"questionType\": 2, \"questionId\": \"2_WordSearch\", \"learnToolsVersion\": \"0.3.4\", \"valueTowardsCompletion\": 0.0, \"failureMessage\": \"\", \"exceptionClass\": \"\", \"trace\": \"\", \"outcomeType\": 4}}, \"*\")"
      ],
      "text/plain": [
       "<IPython.core.display.Javascript object>"
      ]
     },
     "metadata": {},
     "output_type": "display_data"
    },
    {
     "data": {
      "text/markdown": [
       "<span style=\"color:#33cc99\">Solution:</span> \n",
       "```python\n",
       "def word_search(doc_list, keyword):\n",
       "    # list to hold the indices of matching documents\n",
       "    indices = [] \n",
       "    # Iterate through the indices (i) and elements (doc) of documents\n",
       "    for i, doc in enumerate(doc_list):\n",
       "        # Split the string doc into a list of words (according to whitespace)\n",
       "        tokens = doc.split()\n",
       "        # Make a transformed list where we 'normalize' each word to facilitate matching.\n",
       "        # Periods and commas are removed from the end of each word, and it's set to all lowercase.\n",
       "        normalized = [token.rstrip('.,').lower() for token in tokens]\n",
       "        # Is there a match? If so, update the list of matching indices.\n",
       "        if keyword.lower() in normalized:\n",
       "            indices.append(i)\n",
       "    return indices\n",
       "```"
      ],
      "text/plain": [
       "Solution: \n",
       "```python\n",
       "def word_search(doc_list, keyword):\n",
       "    # list to hold the indices of matching documents\n",
       "    indices = [] \n",
       "    # Iterate through the indices (i) and elements (doc) of documents\n",
       "    for i, doc in enumerate(doc_list):\n",
       "        # Split the string doc into a list of words (according to whitespace)\n",
       "        tokens = doc.split()\n",
       "        # Make a transformed list where we 'normalize' each word to facilitate matching.\n",
       "        # Periods and commas are removed from the end of each word, and it's set to all lowercase.\n",
       "        normalized = [token.rstrip('.,').lower() for token in tokens]\n",
       "        # Is there a match? If so, update the list of matching indices.\n",
       "        if keyword.lower() in normalized:\n",
       "            indices.append(i)\n",
       "    return indices\n",
       "```"
      ]
     },
     "metadata": {},
     "output_type": "display_data"
    }
   ],
   "source": [
    "#q2.hint()\n",
    "q2.solution()"
   ]
  },
  {
   "cell_type": "markdown",
   "id": "6db5ee31",
   "metadata": {
    "papermill": {
     "duration": 0.01092,
     "end_time": "2024-01-05T11:16:10.559651",
     "exception": false,
     "start_time": "2024-01-05T11:16:10.548731",
     "status": "completed"
    },
    "tags": []
   },
   "source": [
    "# 3.\n",
    "\n",
    "Now the researcher wants to supply multiple keywords to search for. Complete the function below to help her.\n",
    "\n",
    "(You're encouraged to use the `word_search` function you just wrote when implementing this function. Reusing code in this way makes your programs more robust and readable - and it saves typing!)\n",
    "\n",
    "# 3.\n",
    "\n",
    "今、研究者は検索するキーワードを複数指定したいと考えている。以下の関数を完成させてください。\n",
    "\n",
    "(この関数を実装する際には、先ほど書いた `word_search` 関数を使うことをお勧めします。このようにコードを再利用することで、プログラムがより堅牢で読みやすくなり、タイピングの手間が省けます！)"
   ]
  },
  {
   "cell_type": "code",
   "execution_count": 11,
   "id": "4ec6f06b",
   "metadata": {
    "execution": {
     "iopub.execute_input": "2024-01-05T11:16:10.587047Z",
     "iopub.status.busy": "2024-01-05T11:16:10.586398Z",
     "iopub.status.idle": "2024-01-05T11:16:10.596092Z",
     "shell.execute_reply": "2024-01-05T11:16:10.594988Z"
    },
    "papermill": {
     "duration": 0.027426,
     "end_time": "2024-01-05T11:16:10.598701",
     "exception": false,
     "start_time": "2024-01-05T11:16:10.571275",
     "status": "completed"
    },
    "tags": []
   },
   "outputs": [
    {
     "data": {
      "application/javascript": [
       "parent.postMessage({\"jupyterEvent\": \"custom.exercise_interaction\", \"data\": {\"outcomeType\": 1, \"valueTowardsCompletion\": 0.3333333333333333, \"interactionType\": 1, \"questionType\": 2, \"questionId\": \"3_MultiWordSearch\", \"learnToolsVersion\": \"0.3.4\", \"failureMessage\": \"\", \"exceptionClass\": \"\", \"trace\": \"\"}}, \"*\")"
      ],
      "text/plain": [
       "<IPython.core.display.Javascript object>"
      ]
     },
     "metadata": {},
     "output_type": "display_data"
    },
    {
     "data": {
      "text/markdown": [
       "<span style=\"color:#33cc33\">Correct</span>"
      ],
      "text/plain": [
       "Correct"
      ]
     },
     "metadata": {},
     "output_type": "display_data"
    }
   ],
   "source": [
    "def multi_word_search(documents, keywords):\n",
    "    keyword_to_indices = {}\n",
    "    for keyword in keywords:\n",
    "        keyword_to_indices[keyword] = word_search(documents, keyword)\n",
    "    return keyword_to_indices\n",
    "\n",
    "# Check your answer\n",
    "q3.check()"
   ]
  },
  {
   "cell_type": "code",
   "execution_count": 12,
   "id": "4db6f38e",
   "metadata": {
    "execution": {
     "iopub.execute_input": "2024-01-05T11:16:10.623127Z",
     "iopub.status.busy": "2024-01-05T11:16:10.622721Z",
     "iopub.status.idle": "2024-01-05T11:16:10.631878Z",
     "shell.execute_reply": "2024-01-05T11:16:10.630698Z"
    },
    "papermill": {
     "duration": 0.024016,
     "end_time": "2024-01-05T11:16:10.634118",
     "exception": false,
     "start_time": "2024-01-05T11:16:10.610102",
     "status": "completed"
    },
    "tags": []
   },
   "outputs": [
    {
     "data": {
      "application/javascript": [
       "parent.postMessage({\"jupyterEvent\": \"custom.exercise_interaction\", \"data\": {\"interactionType\": 3, \"questionType\": 2, \"questionId\": \"3_MultiWordSearch\", \"learnToolsVersion\": \"0.3.4\", \"valueTowardsCompletion\": 0.0, \"failureMessage\": \"\", \"exceptionClass\": \"\", \"trace\": \"\", \"outcomeType\": 4}}, \"*\")"
      ],
      "text/plain": [
       "<IPython.core.display.Javascript object>"
      ]
     },
     "metadata": {},
     "output_type": "display_data"
    },
    {
     "data": {
      "text/markdown": [
       "<span style=\"color:#33cc99\">Solution:</span> \n",
       "```python\n",
       "def multi_word_search(documents, keywords):\n",
       "    keyword_to_indices = {}\n",
       "    for keyword in keywords:\n",
       "        keyword_to_indices[keyword] = word_search(documents, keyword)\n",
       "    return keyword_to_indices\n",
       "```"
      ],
      "text/plain": [
       "Solution: \n",
       "```python\n",
       "def multi_word_search(documents, keywords):\n",
       "    keyword_to_indices = {}\n",
       "    for keyword in keywords:\n",
       "        keyword_to_indices[keyword] = word_search(documents, keyword)\n",
       "    return keyword_to_indices\n",
       "```"
      ]
     },
     "metadata": {},
     "output_type": "display_data"
    }
   ],
   "source": [
    "q3.solution()"
   ]
  },
  {
   "cell_type": "markdown",
   "id": "99ef574e",
   "metadata": {
    "papermill": {
     "duration": 0.011194,
     "end_time": "2024-01-05T11:16:10.656687",
     "exception": false,
     "start_time": "2024-01-05T11:16:10.645493",
     "status": "completed"
    },
    "tags": []
   },
   "source": [
    "# Keep Going\n",
    "\n",
    "You've learned a lot. But even the best programmers rely heavily on \"libraries\" of code from other programmers. You'll learn about that in **[the last lesson](https://www.kaggle.com/colinmorris/working-with-external-libraries)**.\n"
   ]
  },
  {
   "cell_type": "markdown",
   "id": "3f754b0a",
   "metadata": {
    "papermill": {
     "duration": 0.012837,
     "end_time": "2024-01-05T11:16:10.680815",
     "exception": false,
     "start_time": "2024-01-05T11:16:10.667978",
     "status": "completed"
    },
    "tags": []
   },
   "source": [
    "---\n",
    "\n",
    "\n",
    "\n",
    "\n",
    "*Have questions or comments? Visit the [course discussion forum](https://www.kaggle.com/learn/python/discussion) to chat with other learners.*"
   ]
  }
 ],
 "metadata": {
  "kaggle": {
   "accelerator": "none",
   "dataSources": [],
   "isGpuEnabled": false,
   "isInternetEnabled": false,
   "language": "python",
   "sourceType": "notebook"
  },
  "kernelspec": {
   "display_name": "Python 3",
   "language": "python",
   "name": "python3"
  },
  "language_info": {
   "codemirror_mode": {
    "name": "ipython",
    "version": 3
   },
   "file_extension": ".py",
   "mimetype": "text/x-python",
   "name": "python",
   "nbconvert_exporter": "python",
   "pygments_lexer": "ipython3",
   "version": "3.10.12"
  },
  "learntools_metadata": {
   "lesson_index": 5,
   "type": "exercise"
  },
  "papermill": {
   "default_parameters": {},
   "duration": 5.138403,
   "end_time": "2024-01-05T11:16:11.213931",
   "environment_variables": {},
   "exception": null,
   "input_path": "__notebook__.ipynb",
   "output_path": "__notebook__.ipynb",
   "parameters": {},
   "start_time": "2024-01-05T11:16:06.075528",
   "version": "2.4.0"
  }
 },
 "nbformat": 4,
 "nbformat_minor": 5
}
