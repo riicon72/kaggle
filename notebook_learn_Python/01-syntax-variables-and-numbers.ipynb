{
 "cells": [
  {
   "cell_type": "markdown",
   "id": "65b8e05b",
   "metadata": {
    "papermill": {
     "duration": 0.007546,
     "end_time": "2024-01-01T12:48:04.277447",
     "exception": false,
     "start_time": "2024-01-01T12:48:04.269901",
     "status": "completed"
    },
    "tags": []
   },
   "source": [
    "**This notebook is an exercise in the [Python](https://www.kaggle.com/learn/python) course.  You can reference the tutorial at [this link](https://www.kaggle.com/colinmorris/hello-python).**\n",
    "\n",
    "---\n"
   ]
  },
  {
   "cell_type": "markdown",
   "id": "68c746f8",
   "metadata": {
    "papermill": {
     "duration": 0.007081,
     "end_time": "2024-01-01T12:48:04.292199",
     "exception": false,
     "start_time": "2024-01-01T12:48:04.285118",
     "status": "completed"
    },
    "tags": []
   },
   "source": [
    "Welcome to your first set of Python coding problems.  If this is your first time using Kaggle Notebooks, welcome! \n",
    "\n",
    "Notebooks are composed of blocks (called \"cells\") of text and code. Each of these is editable, though you'll mainly be editing the code cells to answer some questions.\n",
    "\n",
    "To get started, try running the code cell below (by pressing the ► button, or clicking on the cell and pressing ctrl+enter on your keyboard).\n",
    "\n",
    "初めてのPythonコーディング問題集へようこそ。 Kaggleノートブックを使うのが初めてなら、ようこそ！\n",
    "\n",
    "ノートブックはテキストとコードのブロック（「セル」と呼ばれます）で構成されています。これらのブロックはそれぞれ編集可能ですが、主に問題に答えるためにコードセルを編集することになります。\n",
    "\n",
    "まずは、以下のコードセルを実行してみてください（►ボタンを押すか、セルをクリックしてキーボードのctrl+enterを押してください）。"
   ]
  },
  {
   "cell_type": "code",
   "execution_count": 1,
   "id": "5a66d9f1",
   "metadata": {
    "execution": {
     "iopub.execute_input": "2024-01-01T12:48:04.308243Z",
     "iopub.status.busy": "2024-01-01T12:48:04.307407Z",
     "iopub.status.idle": "2024-01-01T12:48:04.319383Z",
     "shell.execute_reply": "2024-01-01T12:48:04.318248Z"
    },
    "papermill": {
     "duration": 0.022463,
     "end_time": "2024-01-01T12:48:04.321736",
     "exception": false,
     "start_time": "2024-01-01T12:48:04.299273",
     "status": "completed"
    },
    "tags": []
   },
   "outputs": [
    {
     "name": "stdout",
     "output_type": "stream",
     "text": [
      "You've successfully run some Python code\n",
      "Congratulations!\n"
     ]
    }
   ],
   "source": [
    "print(\"You've successfully run some Python code\")\n",
    "print(\"Congratulations!\")"
   ]
  },
  {
   "cell_type": "markdown",
   "id": "4669427a",
   "metadata": {
    "papermill": {
     "duration": 0.007463,
     "end_time": "2024-01-01T12:48:04.336584",
     "exception": false,
     "start_time": "2024-01-01T12:48:04.329121",
     "status": "completed"
    },
    "tags": []
   },
   "source": [
    "Try adding another line of code in the cell above and re-running it. \n",
    "\n",
    "Now let's get a little fancier:  Add a new code cell by clicking on an existing code cell, hitting the escape key, and then hitting the `a` or `b` key.  The `a` key will add a cell above the current cell, and `b` adds a cell below.\n",
    "\n",
    "Great! Now you know how to use Notebooks.\n",
    "\n",
    "Each hands-on exercise starts by setting up our feedback and code checking mechanism. Run the code cell below to do that. Then you'll be ready to move on to question 0.\n",
    "\n",
    "上のセルにもう1行コードを追加して、再実行してみてください。\n",
    "\n",
    "では、もう少しマニアックなことをしてみよう：  既存のコードセルをクリックし、エスケープキーを押した後、`a` または `b` キーを押すことで新しいコードセルを追加することができます。 a`キーは現在のセルの上にセルを追加し、`b`キーはその下にセルを追加します。\n",
    "\n",
    "すばらしい！これでノートブックの使い方がわかりました。\n",
    "\n",
    "各実習はフィードバックとコードチェックの仕組みを設定することから始まります。そのために下のコードセルを実行してください。そうすれば問題0に進む準備ができます。"
   ]
  },
  {
   "cell_type": "code",
   "execution_count": 2,
   "id": "39a169fd",
   "metadata": {
    "_kg_hide-input": true,
    "_kg_hide-output": true,
    "execution": {
     "iopub.execute_input": "2024-01-01T12:48:04.353344Z",
     "iopub.status.busy": "2024-01-01T12:48:04.352452Z",
     "iopub.status.idle": "2024-01-01T12:48:04.808804Z",
     "shell.execute_reply": "2024-01-01T12:48:04.807132Z"
    },
    "papermill": {
     "duration": 0.467623,
     "end_time": "2024-01-01T12:48:04.811341",
     "exception": false,
     "start_time": "2024-01-01T12:48:04.343718",
     "status": "completed"
    },
    "tags": []
   },
   "outputs": [
    {
     "name": "stdout",
     "output_type": "stream",
     "text": [
      "Setup complete! You're ready to start question 0.\n"
     ]
    }
   ],
   "source": [
    "from learntools.core import binder; binder.bind(globals())\n",
    "from learntools.python.ex1 import *\n",
    "print(\"Setup complete! You're ready to start question 0.\")"
   ]
  },
  {
   "cell_type": "markdown",
   "id": "d2d5ec55",
   "metadata": {
    "papermill": {
     "duration": 0.007995,
     "end_time": "2024-01-01T12:48:04.826663",
     "exception": false,
     "start_time": "2024-01-01T12:48:04.818668",
     "status": "completed"
    },
    "tags": []
   },
   "source": [
    "# 0.\n",
    "\n",
    "*This is a silly question intended as an introduction to the format we use for hands-on exercises throughout all Kaggle courses.*\n",
    "\n",
    "**What is your favorite color? **\n",
    "\n",
    "To complete this question, create a variable called `color` in the cell below with an appropriate value. The function call `q0.check()` (which we've already provided in the cell below) will check your answer.\n",
    "\n",
    "# 0.\n",
    "\n",
    "*これは、Kaggleの全コースで実践的な演習に使用する形式の紹介として意図された愚かな質問です。\n",
    "\n",
    "**好きな色は何ですか？**\n",
    "\n",
    "この問題を解くには、下のセルに `color` という変数を適切な値で作成します。関数 `q0.check()` (下のセルに既に用意されています) があなたの答えをチェックします。"
   ]
  },
  {
   "cell_type": "code",
   "execution_count": 3,
   "id": "25e4aff9",
   "metadata": {
    "execution": {
     "iopub.execute_input": "2024-01-01T12:48:04.844240Z",
     "iopub.status.busy": "2024-01-01T12:48:04.843597Z",
     "iopub.status.idle": "2024-01-01T12:48:04.854917Z",
     "shell.execute_reply": "2024-01-01T12:48:04.853813Z"
    },
    "papermill": {
     "duration": 0.022597,
     "end_time": "2024-01-01T12:48:04.857299",
     "exception": false,
     "start_time": "2024-01-01T12:48:04.834702",
     "status": "completed"
    },
    "tags": []
   },
   "outputs": [
    {
     "data": {
      "application/javascript": [
       "parent.postMessage({\"jupyterEvent\": \"custom.exercise_interaction\", \"data\": {\"outcomeType\": 1, \"valueTowardsCompletion\": 0.25, \"interactionType\": 1, \"questionType\": 2, \"questionId\": \"0_ExerciseFormatTutorial\", \"learnToolsVersion\": \"0.3.4\", \"failureMessage\": \"\", \"exceptionClass\": \"\", \"trace\": \"\"}}, \"*\")"
      ],
      "text/plain": [
       "<IPython.core.display.Javascript object>"
      ]
     },
     "metadata": {},
     "output_type": "display_data"
    },
    {
     "data": {
      "text/markdown": [
       "<span style=\"color:#33cc33\">Correct:</span> What?! You got it right without needing a hint or anything? Drats. Well hey, you should still continue to the next step to get some practice asking for a hint and checking solutions. (Even though you obviously don't need any help here.)"
      ],
      "text/plain": [
       "Correct: What?! You got it right without needing a hint or anything? Drats. Well hey, you should still continue to the next step to get some practice asking for a hint and checking solutions. (Even though you obviously don't need any help here.)"
      ]
     },
     "metadata": {},
     "output_type": "display_data"
    }
   ],
   "source": [
    "# create a variable called color with an appropriate value on the line below\n",
    "# (Remember, strings in Python must be enclosed in 'single' or \"double\" quotes)\n",
    "color = \"blue\"\n",
    "\n",
    "# Check your answer\n",
    "q0.check()"
   ]
  },
  {
   "cell_type": "markdown",
   "id": "08bfdb5a",
   "metadata": {
    "papermill": {
     "duration": 0.006739,
     "end_time": "2024-01-01T12:48:04.871031",
     "exception": false,
     "start_time": "2024-01-01T12:48:04.864292",
     "status": "completed"
    },
    "tags": []
   },
   "source": [
    "Didn't get the right answer? How do you not even know your own favorite color?!\n",
    "\n",
    "Delete the `#` in the line below to make one of the lines run. You can choose between getting a hint or the full answer by choosing which line to remove the `#` from. \n",
    "\n",
    "Removing the `#` is called uncommenting, because it changes that line from a \"comment\" which Python doesn't run to code, which Python does run.\n",
    "\n",
    "正解できなかった？どうして自分の好きな色も知らないの？\n",
    "\n",
    "下の行の`#`を消すと、行が1つ実行されます。どの行から `#` を削除するかを選択することで、ヒントを得るか完全な答えを得るかを選ぶことができます。\n",
    "\n",
    "その行はPythonが実行しない \"コメント \"からPythonが実行する \"コード \"に変わるからです。"
   ]
  },
  {
   "cell_type": "code",
   "execution_count": 4,
   "id": "5ab37623",
   "metadata": {
    "execution": {
     "iopub.execute_input": "2024-01-01T12:48:04.887618Z",
     "iopub.status.busy": "2024-01-01T12:48:04.886713Z",
     "iopub.status.idle": "2024-01-01T12:48:04.899936Z",
     "shell.execute_reply": "2024-01-01T12:48:04.898982Z"
    },
    "papermill": {
     "duration": 0.024011,
     "end_time": "2024-01-01T12:48:04.902186",
     "exception": false,
     "start_time": "2024-01-01T12:48:04.878175",
     "status": "completed"
    },
    "tags": []
   },
   "outputs": [
    {
     "data": {
      "application/javascript": [
       "parent.postMessage({\"jupyterEvent\": \"custom.exercise_interaction\", \"data\": {\"interactionType\": 2, \"questionType\": 2, \"questionId\": \"0_ExerciseFormatTutorial\", \"learnToolsVersion\": \"0.3.4\", \"valueTowardsCompletion\": 0.0, \"failureMessage\": \"\", \"exceptionClass\": \"\", \"trace\": \"\", \"outcomeType\": 4}}, \"*\")"
      ],
      "text/plain": [
       "<IPython.core.display.Javascript object>"
      ]
     },
     "metadata": {},
     "output_type": "display_data"
    },
    {
     "data": {
      "text/markdown": [
       "<span style=\"color:#3366cc\">Hint:</span> Your favorite color rhymes with *glue*."
      ],
      "text/plain": [
       "Hint: Your favorite color rhymes with *glue*."
      ]
     },
     "metadata": {},
     "output_type": "display_data"
    },
    {
     "data": {
      "application/javascript": [
       "parent.postMessage({\"jupyterEvent\": \"custom.exercise_interaction\", \"data\": {\"interactionType\": 3, \"questionType\": 2, \"questionId\": \"0_ExerciseFormatTutorial\", \"learnToolsVersion\": \"0.3.4\", \"valueTowardsCompletion\": 0.0, \"failureMessage\": \"\", \"exceptionClass\": \"\", \"trace\": \"\", \"outcomeType\": 4}}, \"*\")"
      ],
      "text/plain": [
       "<IPython.core.display.Javascript object>"
      ]
     },
     "metadata": {},
     "output_type": "display_data"
    },
    {
     "data": {
      "text/markdown": [
       "<span style=\"color:#33cc99\">Solution:</span> \n",
       "```python\n",
       "color = \"blue\"\n",
       "```"
      ],
      "text/plain": [
       "Solution: \n",
       "```python\n",
       "color = \"blue\"\n",
       "```"
      ]
     },
     "metadata": {},
     "output_type": "display_data"
    }
   ],
   "source": [
    "q0.hint()\n",
    "q0.solution()"
   ]
  },
  {
   "cell_type": "markdown",
   "id": "901199d2",
   "metadata": {
    "papermill": {
     "duration": 0.008133,
     "end_time": "2024-01-01T12:48:04.917641",
     "exception": false,
     "start_time": "2024-01-01T12:48:04.909508",
     "status": "completed"
    },
    "tags": []
   },
   "source": [
    "The upcoming questions work the same way. The only thing that will change are the question numbers. For the next question, you'll call `q1.check()`, `q1.hint()`, `q1.solution()`, for question 2, you'll call `q2.check()`, and so on.\n",
    "\n",
    "これからの問題も同じように出題されます。変わるのは問題番号だけです。次の問題では、`q1.check()`、`q1.hint()`、`q1.solution()`、第2問では、`q2.check()`、、、と呼びます。"
   ]
  },
  {
   "cell_type": "markdown",
   "id": "ba9d38d5",
   "metadata": {
    "papermill": {
     "duration": 0.007776,
     "end_time": "2024-01-01T12:48:04.933338",
     "exception": false,
     "start_time": "2024-01-01T12:48:04.925562",
     "status": "completed"
    },
    "tags": []
   },
   "source": [
    "<hr/>\n",
    "\n",
    "# 1.\n",
    "\n",
    "Complete the code below. In case it's helpful, here is the table of available arithmetic operations:\n",
    "\n",
    "以下のコードを完成させてください。参考までに、利用可能な算術演算の表を以下に示す：\n",
    "\n",
    "\n",
    "\n",
    "| Operator     | Name           | Description                                            |\n",
    "|--------------|----------------|--------------------------------------------------------|\n",
    "| ``a + b``    | Addition       | Sum of ``a`` and ``b``                                 |\n",
    "| ``a - b``    | Subtraction    | Difference of ``a`` and ``b``                          |\n",
    "| ``a * b``    | Multiplication | Product of ``a`` and ``b``                             |\n",
    "| ``a / b``    | True division  | Quotient of ``a`` and ``b``                            |\n",
    "| ``a // b``   | Floor division | Quotient of ``a`` and ``b``, removing fractional parts |\n",
    "| ``a % b``    | Modulus        | Integer remainder after division of ``a`` by ``b``     |\n",
    "| ``a ** b``   | Exponentiation | ``a`` raised to the power of ``b``                     |\n",
    "| ``-a``       | Negation       | The negative of ``a``                                  |\n",
    "\n",
    "<span style=\"display:none\"></span>\n"
   ]
  },
  {
   "cell_type": "code",
   "execution_count": 5,
   "id": "06805110",
   "metadata": {
    "execution": {
     "iopub.execute_input": "2024-01-01T12:48:04.953513Z",
     "iopub.status.busy": "2024-01-01T12:48:04.953132Z",
     "iopub.status.idle": "2024-01-01T12:48:04.962152Z",
     "shell.execute_reply": "2024-01-01T12:48:04.961024Z"
    },
    "papermill": {
     "duration": 0.020685,
     "end_time": "2024-01-01T12:48:04.964530",
     "exception": false,
     "start_time": "2024-01-01T12:48:04.943845",
     "status": "completed"
    },
    "tags": []
   },
   "outputs": [
    {
     "data": {
      "application/javascript": [
       "parent.postMessage({\"jupyterEvent\": \"custom.exercise_interaction\", \"data\": {\"outcomeType\": 1, \"valueTowardsCompletion\": 0.25, \"interactionType\": 1, \"questionType\": 1, \"questionId\": \"1_CircleArea\", \"learnToolsVersion\": \"0.3.4\", \"failureMessage\": \"\", \"exceptionClass\": \"\", \"trace\": \"\"}}, \"*\")"
      ],
      "text/plain": [
       "<IPython.core.display.Javascript object>"
      ]
     },
     "metadata": {},
     "output_type": "display_data"
    },
    {
     "data": {
      "text/markdown": [
       "<span style=\"color:#33cc33\">Correct</span>"
      ],
      "text/plain": [
       "Correct"
      ]
     },
     "metadata": {},
     "output_type": "display_data"
    }
   ],
   "source": [
    "pi = 3.14159 # approximate\n",
    "diameter = 3\n",
    "\n",
    "radius = diameter / 2\n",
    "area = pi * radius ** 2\n",
    "# Check your answer\n",
    "q1.check()"
   ]
  },
  {
   "cell_type": "code",
   "execution_count": 6,
   "id": "c6162e3b",
   "metadata": {
    "execution": {
     "iopub.execute_input": "2024-01-01T12:48:04.982414Z",
     "iopub.status.busy": "2024-01-01T12:48:04.982039Z",
     "iopub.status.idle": "2024-01-01T12:48:04.995617Z",
     "shell.execute_reply": "2024-01-01T12:48:04.994122Z"
    },
    "papermill": {
     "duration": 0.025874,
     "end_time": "2024-01-01T12:48:04.998516",
     "exception": false,
     "start_time": "2024-01-01T12:48:04.972642",
     "status": "completed"
    },
    "tags": []
   },
   "outputs": [
    {
     "data": {
      "application/javascript": [
       "parent.postMessage({\"jupyterEvent\": \"custom.exercise_interaction\", \"data\": {\"interactionType\": 2, \"questionType\": 1, \"questionId\": \"1_CircleArea\", \"learnToolsVersion\": \"0.3.4\", \"valueTowardsCompletion\": 0.0, \"failureMessage\": \"\", \"exceptionClass\": \"\", \"trace\": \"\", \"outcomeType\": 4}}, \"*\")"
      ],
      "text/plain": [
       "<IPython.core.display.Javascript object>"
      ]
     },
     "metadata": {},
     "output_type": "display_data"
    },
    {
     "data": {
      "text/markdown": [
       "<span style=\"color:#3366cc\">Hint:</span> The syntax to raise a to the b'th power is `a ** b`"
      ],
      "text/plain": [
       "Hint: The syntax to raise a to the b'th power is `a ** b`"
      ]
     },
     "metadata": {},
     "output_type": "display_data"
    },
    {
     "data": {
      "application/javascript": [
       "parent.postMessage({\"jupyterEvent\": \"custom.exercise_interaction\", \"data\": {\"interactionType\": 3, \"questionType\": 1, \"questionId\": \"1_CircleArea\", \"learnToolsVersion\": \"0.3.4\", \"valueTowardsCompletion\": 0.0, \"failureMessage\": \"\", \"exceptionClass\": \"\", \"trace\": \"\", \"outcomeType\": 4}}, \"*\")"
      ],
      "text/plain": [
       "<IPython.core.display.Javascript object>"
      ]
     },
     "metadata": {},
     "output_type": "display_data"
    },
    {
     "data": {
      "text/markdown": [
       "<span style=\"color:#33cc99\">Solution:</span> \n",
       "```python\n",
       "radius = diameter / 2\n",
       "area = pi * radius ** 2\n",
       "```"
      ],
      "text/plain": [
       "Solution: \n",
       "```python\n",
       "radius = diameter / 2\n",
       "area = pi * radius ** 2\n",
       "```"
      ]
     },
     "metadata": {},
     "output_type": "display_data"
    }
   ],
   "source": [
    "# Uncomment and run the lines below if you need help.\n",
    "q1.hint()\n",
    "q1.solution()"
   ]
  },
  {
   "cell_type": "markdown",
   "id": "355a1489",
   "metadata": {
    "papermill": {
     "duration": 0.007795,
     "end_time": "2024-01-01T12:48:05.014510",
     "exception": false,
     "start_time": "2024-01-01T12:48:05.006715",
     "status": "completed"
    },
    "tags": []
   },
   "source": [
    "<hr/>\n",
    "\n",
    "# 2.\n",
    "\n",
    "Add code to the following cell to swap variables `a` and `b` (so that `a` refers to the object previously referred to by `b` and vice versa).\n",
    "\n",
    "以下のセルに、変数 `a` と `b` を入れ替えるコードを追加する（`a` が以前 `b` によって参照されていたオブジェクトを参照するように、またその逆も同様）。"
   ]
  },
  {
   "cell_type": "code",
   "execution_count": 7,
   "id": "72316fb3",
   "metadata": {
    "execution": {
     "iopub.execute_input": "2024-01-01T12:48:05.033935Z",
     "iopub.status.busy": "2024-01-01T12:48:05.032736Z",
     "iopub.status.idle": "2024-01-01T12:48:05.042718Z",
     "shell.execute_reply": "2024-01-01T12:48:05.041636Z"
    },
    "papermill": {
     "duration": 0.021755,
     "end_time": "2024-01-01T12:48:05.045079",
     "exception": false,
     "start_time": "2024-01-01T12:48:05.023324",
     "status": "completed"
    },
    "tags": []
   },
   "outputs": [
    {
     "data": {
      "application/javascript": [
       "parent.postMessage({\"jupyterEvent\": \"custom.exercise_interaction\", \"data\": {\"outcomeType\": 1, \"valueTowardsCompletion\": 0.25, \"interactionType\": 1, \"questionType\": 2, \"questionId\": \"2_VariableSwap\", \"learnToolsVersion\": \"0.3.4\", \"failureMessage\": \"\", \"exceptionClass\": \"\", \"trace\": \"\"}}, \"*\")"
      ],
      "text/plain": [
       "<IPython.core.display.Javascript object>"
      ]
     },
     "metadata": {},
     "output_type": "display_data"
    },
    {
     "data": {
      "text/markdown": [
       "<span style=\"color:#33cc33\">Correct:</span> \n",
       "\n",
       "The most straightforward solution is to use a third variable to temporarily store one of the old values. e.g.:\n",
       "\n",
       "    tmp = a\n",
       "    a = b\n",
       "    b = tmp\n",
       "\n",
       "If you've read lots of Python code, you might have seen the following trick to swap two variables in one line:\n",
       "\n",
       "    a, b = b, a\n",
       "\n",
       "We'll demystify this bit of Python magic later when we talk about *tuples*."
      ],
      "text/plain": [
       "Correct: \n",
       "\n",
       "The most straightforward solution is to use a third variable to temporarily store one of the old values. e.g.:\n",
       "\n",
       "    tmp = a\n",
       "    a = b\n",
       "    b = tmp\n",
       "\n",
       "If you've read lots of Python code, you might have seen the following trick to swap two variables in one line:\n",
       "\n",
       "    a, b = b, a\n",
       "\n",
       "We'll demystify this bit of Python magic later when we talk about *tuples*."
      ]
     },
     "metadata": {},
     "output_type": "display_data"
    }
   ],
   "source": [
    "########### Setup code - don't touch this part ######################\n",
    "# If you're curious, these are examples of lists. We'll talk about \n",
    "# them in depth a few lessons from now. For now, just know that they're\n",
    "# yet another type of Python object, like int or float.\n",
    "a = [1, 2, 3]\n",
    "b = [3, 2, 1]\n",
    "q2.store_original_ids()\n",
    "######################################################################\n",
    "\n",
    "# Your code goes here. Swap the values to which a and b refer.\n",
    "# If you get stuck, you can always uncomment one or both of the lines in\n",
    "# the next cell for a hint, or to peek at the solution.\n",
    "tmp = a\n",
    "a = b\n",
    "b = tmp\n",
    "######################################################################\n",
    "\n",
    "# Check your answer\n",
    "q2.check()"
   ]
  },
  {
   "cell_type": "code",
   "execution_count": 8,
   "id": "936f918f",
   "metadata": {
    "execution": {
     "iopub.execute_input": "2024-01-01T12:48:05.064748Z",
     "iopub.status.busy": "2024-01-01T12:48:05.063504Z",
     "iopub.status.idle": "2024-01-01T12:48:05.068102Z",
     "shell.execute_reply": "2024-01-01T12:48:05.067281Z"
    },
    "papermill": {
     "duration": 0.0164,
     "end_time": "2024-01-01T12:48:05.070130",
     "exception": false,
     "start_time": "2024-01-01T12:48:05.053730",
     "status": "completed"
    },
    "tags": []
   },
   "outputs": [],
   "source": [
    "#q2.hint()"
   ]
  },
  {
   "cell_type": "code",
   "execution_count": 9,
   "id": "1a649579",
   "metadata": {
    "execution": {
     "iopub.execute_input": "2024-01-01T12:48:05.090744Z",
     "iopub.status.busy": "2024-01-01T12:48:05.090149Z",
     "iopub.status.idle": "2024-01-01T12:48:05.097557Z",
     "shell.execute_reply": "2024-01-01T12:48:05.096523Z"
    },
    "papermill": {
     "duration": 0.021192,
     "end_time": "2024-01-01T12:48:05.099831",
     "exception": false,
     "start_time": "2024-01-01T12:48:05.078639",
     "status": "completed"
    },
    "tags": []
   },
   "outputs": [
    {
     "data": {
      "application/javascript": [
       "parent.postMessage({\"jupyterEvent\": \"custom.exercise_interaction\", \"data\": {\"interactionType\": 3, \"questionType\": 2, \"questionId\": \"2_VariableSwap\", \"learnToolsVersion\": \"0.3.4\", \"valueTowardsCompletion\": 0.0, \"failureMessage\": \"\", \"exceptionClass\": \"\", \"trace\": \"\", \"outcomeType\": 4}}, \"*\")"
      ],
      "text/plain": [
       "<IPython.core.display.Javascript object>"
      ]
     },
     "metadata": {},
     "output_type": "display_data"
    },
    {
     "data": {
      "text/markdown": [
       "<span style=\"color:#33cc99\">Solution:</span> The most straightforward solution is to use a third variable to temporarily store one of the old values. e.g.:\n",
       "\n",
       "    tmp = a\n",
       "    a = b\n",
       "    b = tmp\n",
       "\n",
       "If you've read lots of Python code, you might have seen the following trick to swap two variables in one line:\n",
       "\n",
       "    a, b = b, a\n",
       "\n",
       "We'll demystify this bit of Python magic later when we talk about *tuples*."
      ],
      "text/plain": [
       "Solution: The most straightforward solution is to use a third variable to temporarily store one of the old values. e.g.:\n",
       "\n",
       "    tmp = a\n",
       "    a = b\n",
       "    b = tmp\n",
       "\n",
       "If you've read lots of Python code, you might have seen the following trick to swap two variables in one line:\n",
       "\n",
       "    a, b = b, a\n",
       "\n",
       "We'll demystify this bit of Python magic later when we talk about *tuples*."
      ]
     },
     "metadata": {},
     "output_type": "display_data"
    }
   ],
   "source": [
    "q2.solution()"
   ]
  },
  {
   "cell_type": "markdown",
   "id": "e39416d6",
   "metadata": {
    "papermill": {
     "duration": 0.008733,
     "end_time": "2024-01-01T12:48:05.118925",
     "exception": false,
     "start_time": "2024-01-01T12:48:05.110192",
     "status": "completed"
    },
    "tags": []
   },
   "source": [
    "<hr/>\n",
    "\n",
    "# 3a.\n",
    "\n",
    "Add parentheses to the following expression so that it evaluates to 1.\n",
    "\n",
    "以下の式に括弧を追加し、それが1と評価されるようにする。"
   ]
  },
  {
   "cell_type": "code",
   "execution_count": 10,
   "id": "c86eeae4",
   "metadata": {
    "execution": {
     "iopub.execute_input": "2024-01-01T12:48:05.139959Z",
     "iopub.status.busy": "2024-01-01T12:48:05.139577Z",
     "iopub.status.idle": "2024-01-01T12:48:05.147108Z",
     "shell.execute_reply": "2024-01-01T12:48:05.145290Z"
    },
    "papermill": {
     "duration": 0.020942,
     "end_time": "2024-01-01T12:48:05.149599",
     "exception": false,
     "start_time": "2024-01-01T12:48:05.128657",
     "status": "completed"
    },
    "tags": []
   },
   "outputs": [
    {
     "data": {
      "text/plain": [
       "4"
      ]
     },
     "execution_count": 10,
     "metadata": {},
     "output_type": "execute_result"
    }
   ],
   "source": [
    "5 - 3 // 2"
   ]
  },
  {
   "cell_type": "code",
   "execution_count": 11,
   "id": "9d5b67e5",
   "metadata": {
    "execution": {
     "iopub.execute_input": "2024-01-01T12:48:05.171048Z",
     "iopub.status.busy": "2024-01-01T12:48:05.170519Z",
     "iopub.status.idle": "2024-01-01T12:48:05.175417Z",
     "shell.execute_reply": "2024-01-01T12:48:05.174384Z"
    },
    "papermill": {
     "duration": 0.018667,
     "end_time": "2024-01-01T12:48:05.177668",
     "exception": false,
     "start_time": "2024-01-01T12:48:05.159001",
     "status": "completed"
    },
    "tags": []
   },
   "outputs": [],
   "source": [
    "#q3.a.hint()"
   ]
  },
  {
   "cell_type": "code",
   "execution_count": 12,
   "id": "c2a329c9",
   "metadata": {
    "execution": {
     "iopub.execute_input": "2024-01-01T12:48:05.198276Z",
     "iopub.status.busy": "2024-01-01T12:48:05.197162Z",
     "iopub.status.idle": "2024-01-01T12:48:05.208177Z",
     "shell.execute_reply": "2024-01-01T12:48:05.206984Z"
    },
    "papermill": {
     "duration": 0.024426,
     "end_time": "2024-01-01T12:48:05.211102",
     "exception": false,
     "start_time": "2024-01-01T12:48:05.186676",
     "status": "completed"
    },
    "tags": []
   },
   "outputs": [
    {
     "data": {
      "application/javascript": [
       "parent.postMessage({\"jupyterEvent\": \"custom.exercise_interaction\", \"data\": {\"interactionType\": 3, \"questionType\": 4, \"questionId\": \"3.1_ArithmeticParensEasy\", \"learnToolsVersion\": \"0.3.4\", \"valueTowardsCompletion\": 0.0, \"failureMessage\": \"\", \"exceptionClass\": \"\", \"trace\": \"\", \"outcomeType\": 4}}, \"*\")"
      ],
      "text/plain": [
       "<IPython.core.display.Javascript object>"
      ]
     },
     "metadata": {},
     "output_type": "display_data"
    },
    {
     "data": {
      "text/markdown": [
       "<span style=\"color:#33cc99\">Solution:</span> \n",
       "```python\n",
       "(5 - 3) // 2\n",
       "```"
      ],
      "text/plain": [
       "Solution: \n",
       "```python\n",
       "(5 - 3) // 2\n",
       "```"
      ]
     },
     "metadata": {},
     "output_type": "display_data"
    }
   ],
   "source": [
    "# Check your answer (Run this code cell to receive credit!)\n",
    "q3.a.solution()"
   ]
  },
  {
   "cell_type": "markdown",
   "id": "167fee3a",
   "metadata": {
    "papermill": {
     "duration": 0.008932,
     "end_time": "2024-01-01T12:48:05.229524",
     "exception": false,
     "start_time": "2024-01-01T12:48:05.220592",
     "status": "completed"
    },
    "tags": []
   },
   "source": [
    "# 3b.  <span title=\"A bit spicy\" style=\"color: darkgreen \">🌶️</span>\n",
    "\n",
    "<small>Questions, like this one, marked a spicy pepper are a bit harder.</small>\n",
    "\n",
    "Add parentheses to the following expression so that it evaluates to 0.\n",
    "\n",
    "この質問のように、スパイシーな唐辛子をマークするのは少し難しい。\n",
    "以下の式に括弧を追加し、0と評価されるようにする。"
   ]
  },
  {
   "cell_type": "code",
   "execution_count": 13,
   "id": "81248ea6",
   "metadata": {
    "execution": {
     "iopub.execute_input": "2024-01-01T12:48:05.252385Z",
     "iopub.status.busy": "2024-01-01T12:48:05.250994Z",
     "iopub.status.idle": "2024-01-01T12:48:05.258909Z",
     "shell.execute_reply": "2024-01-01T12:48:05.257652Z"
    },
    "papermill": {
     "duration": 0.021684,
     "end_time": "2024-01-01T12:48:05.261509",
     "exception": false,
     "start_time": "2024-01-01T12:48:05.239825",
     "status": "completed"
    },
    "tags": []
   },
   "outputs": [
    {
     "data": {
      "text/plain": [
       "2"
      ]
     },
     "execution_count": 13,
     "metadata": {},
     "output_type": "execute_result"
    }
   ],
   "source": [
    "8 - 3 * 2 - 1 + 1"
   ]
  },
  {
   "cell_type": "code",
   "execution_count": 14,
   "id": "5b088afe",
   "metadata": {
    "execution": {
     "iopub.execute_input": "2024-01-01T12:48:05.283918Z",
     "iopub.status.busy": "2024-01-01T12:48:05.283266Z",
     "iopub.status.idle": "2024-01-01T12:48:05.287871Z",
     "shell.execute_reply": "2024-01-01T12:48:05.286359Z"
    },
    "papermill": {
     "duration": 0.018475,
     "end_time": "2024-01-01T12:48:05.290622",
     "exception": false,
     "start_time": "2024-01-01T12:48:05.272147",
     "status": "completed"
    },
    "tags": []
   },
   "outputs": [],
   "source": [
    "#q3.b.hint()"
   ]
  },
  {
   "cell_type": "code",
   "execution_count": 15,
   "id": "4dd4bffb",
   "metadata": {
    "execution": {
     "iopub.execute_input": "2024-01-01T12:48:05.312640Z",
     "iopub.status.busy": "2024-01-01T12:48:05.312246Z",
     "iopub.status.idle": "2024-01-01T12:48:05.322255Z",
     "shell.execute_reply": "2024-01-01T12:48:05.320990Z"
    },
    "papermill": {
     "duration": 0.025074,
     "end_time": "2024-01-01T12:48:05.325608",
     "exception": false,
     "start_time": "2024-01-01T12:48:05.300534",
     "status": "completed"
    },
    "tags": []
   },
   "outputs": [
    {
     "data": {
      "application/javascript": [
       "parent.postMessage({\"jupyterEvent\": \"custom.exercise_interaction\", \"data\": {\"interactionType\": 3, \"questionType\": 4, \"questionId\": \"3.2_ArithmeticParensHard\", \"learnToolsVersion\": \"0.3.4\", \"valueTowardsCompletion\": 0.0, \"failureMessage\": \"\", \"exceptionClass\": \"\", \"trace\": \"\", \"outcomeType\": 4}}, \"*\")"
      ],
      "text/plain": [
       "<IPython.core.display.Javascript object>"
      ]
     },
     "metadata": {},
     "output_type": "display_data"
    },
    {
     "data": {
      "text/markdown": [
       "<span style=\"color:#33cc99\">Solution:</span> `(8 - 3) * (2 - (1 + 1))` is one solution. There may be others."
      ],
      "text/plain": [
       "Solution: `(8 - 3) * (2 - (1 + 1))` is one solution. There may be others."
      ]
     },
     "metadata": {},
     "output_type": "display_data"
    }
   ],
   "source": [
    "# Check your answer (Run this code cell to receive credit!)\n",
    "q3.b.solution()"
   ]
  },
  {
   "cell_type": "markdown",
   "id": "061f00fa",
   "metadata": {
    "papermill": {
     "duration": 0.009389,
     "end_time": "2024-01-01T12:48:05.345383",
     "exception": false,
     "start_time": "2024-01-01T12:48:05.335994",
     "status": "completed"
    },
    "tags": []
   },
   "source": [
    "<hr/>\n",
    "\n",
    "# 4. \n",
    "Alice, Bob and Carol have agreed to pool their Halloween candy and split it evenly among themselves.\n",
    "For the sake of their friendship, any candies left over will be smashed. For example, if they collectively\n",
    "bring home 91 candies, they'll take 30 each and smash 1.\n",
    "\n",
    "Write an arithmetic expression below to calculate how many candies they must smash for a given haul.\n",
    "\n",
    "# 4. \n",
    "アリス、ボブ、キャロルの3人は、ハロウィーンのお菓子をプールして、均等に分けることに合意した。\n",
    "彼らの友情のために、残ったキャンディーはつぶされる。例えば\n",
    "91個のキャンディを持って帰ったら、30個ずつ持って1個をつぶす。\n",
    "\n",
    "与えられた量に対して何個のキャンディを砕かなければならないかを計算する算術式を以下に書きなさい。"
   ]
  },
  {
   "cell_type": "code",
   "execution_count": 16,
   "id": "f88c88d9",
   "metadata": {
    "execution": {
     "iopub.execute_input": "2024-01-01T12:48:05.367420Z",
     "iopub.status.busy": "2024-01-01T12:48:05.367053Z",
     "iopub.status.idle": "2024-01-01T12:48:05.377410Z",
     "shell.execute_reply": "2024-01-01T12:48:05.376025Z"
    },
    "papermill": {
     "duration": 0.024343,
     "end_time": "2024-01-01T12:48:05.379799",
     "exception": false,
     "start_time": "2024-01-01T12:48:05.355456",
     "status": "completed"
    },
    "tags": []
   },
   "outputs": [
    {
     "data": {
      "application/javascript": [
       "parent.postMessage({\"jupyterEvent\": \"custom.exercise_interaction\", \"data\": {\"outcomeType\": 4, \"interactionType\": 1, \"questionType\": 1, \"questionId\": \"4_CandySplitting\", \"learnToolsVersion\": \"0.3.4\", \"valueTowardsCompletion\": 0.0, \"failureMessage\": \"\", \"exceptionClass\": \"\", \"trace\": \"\"}}, \"*\")"
      ],
      "text/plain": [
       "<IPython.core.display.Javascript object>"
      ]
     },
     "metadata": {},
     "output_type": "display_data"
    },
    {
     "data": {
      "text/markdown": [
       "<span style=\"color:#ccaa33\">Check:</span> When you've updated the starter code, `check()` will tell you whether your code is correct. You need to update the code that creates variable `to_smash`"
      ],
      "text/plain": [
       "Check: When you've updated the starter code, `check()` will tell you whether your code is correct. You need to update the code that creates variable `to_smash`"
      ]
     },
     "metadata": {},
     "output_type": "display_data"
    }
   ],
   "source": [
    "# Variables representing the number of candies collected by alice, bob, and carol\n",
    "alice_candies = 121\n",
    "bob_candies = 77\n",
    "carol_candies = 109\n",
    "\n",
    "# Your code goes here! Replace the right-hand side of this assignment with an expression\n",
    "# involving alice_candies, bob_candies, and carol_candies\n",
    "to_smash = -1\n",
    "\n",
    "# Check your answer\n",
    "q4.check()"
   ]
  },
  {
   "cell_type": "code",
   "execution_count": 17,
   "id": "aa925b18",
   "metadata": {
    "execution": {
     "iopub.execute_input": "2024-01-01T12:48:05.401335Z",
     "iopub.status.busy": "2024-01-01T12:48:05.400939Z",
     "iopub.status.idle": "2024-01-01T12:48:05.405271Z",
     "shell.execute_reply": "2024-01-01T12:48:05.404293Z"
    },
    "papermill": {
     "duration": 0.017885,
     "end_time": "2024-01-01T12:48:05.407479",
     "exception": false,
     "start_time": "2024-01-01T12:48:05.389594",
     "status": "completed"
    },
    "tags": []
   },
   "outputs": [],
   "source": [
    "#q4.hint()\n",
    "#q4.solution()"
   ]
  },
  {
   "cell_type": "markdown",
   "id": "b1373f72",
   "metadata": {
    "papermill": {
     "duration": 0.00994,
     "end_time": "2024-01-01T12:48:05.428216",
     "exception": false,
     "start_time": "2024-01-01T12:48:05.418276",
     "status": "completed"
    },
    "tags": []
   },
   "source": [
    "# Keep Going\n",
    "\n",
    "Next up, you'll **[learn to write new functions and understand functions others write](https://www.kaggle.com/colinmorris/functions-and-getting-help)**. This will make you at least 10 times more productive as a Python programmer. "
   ]
  },
  {
   "cell_type": "markdown",
   "id": "d508e9ba",
   "metadata": {
    "papermill": {
     "duration": 0.009727,
     "end_time": "2024-01-01T12:48:05.508235",
     "exception": false,
     "start_time": "2024-01-01T12:48:05.498508",
     "status": "completed"
    },
    "tags": []
   },
   "source": [
    "---\n",
    "\n",
    "\n",
    "\n",
    "\n",
    "*Have questions or comments? Visit the [course discussion forum](https://www.kaggle.com/learn/python/discussion) to chat with other learners.*"
   ]
  }
 ],
 "metadata": {
  "kaggle": {
   "accelerator": "none",
   "dataSources": [],
   "isGpuEnabled": false,
   "isInternetEnabled": false,
   "language": "python",
   "sourceType": "notebook"
  },
  "kernelspec": {
   "display_name": "Python 3",
   "language": "python",
   "name": "python3"
  },
  "language_info": {
   "codemirror_mode": {
    "name": "ipython",
    "version": 3
   },
   "file_extension": ".py",
   "mimetype": "text/x-python",
   "name": "python",
   "nbconvert_exporter": "python",
   "pygments_lexer": "ipython3",
   "version": "3.10.12"
  },
  "learntools_metadata": {
   "lesson_index": 0,
   "type": "exercise"
  },
  "papermill": {
   "default_parameters": {},
   "duration": 4.958856,
   "end_time": "2024-01-01T12:48:06.040899",
   "environment_variables": {},
   "exception": null,
   "input_path": "__notebook__.ipynb",
   "output_path": "__notebook__.ipynb",
   "parameters": {},
   "start_time": "2024-01-01T12:48:01.082043",
   "version": "2.4.0"
  }
 },
 "nbformat": 4,
 "nbformat_minor": 5
}
