{
 "cells": [
  {
   "cell_type": "markdown",
   "id": "7ab13d83",
   "metadata": {
    "papermill": {
     "duration": 0.006001,
     "end_time": "2023-12-31T12:53:45.827334",
     "exception": false,
     "start_time": "2023-12-31T12:53:45.821333",
     "status": "completed"
    },
    "tags": []
   },
   "source": [
    "**This notebook is an exercise in the [Python](https://www.kaggle.com/learn/python) course.  You can reference the tutorial at [this link](https://www.kaggle.com/colinmorris/hello-python).**\n",
    "\n",
    "---\n"
   ]
  },
  {
   "cell_type": "markdown",
   "id": "3d4951a7",
   "metadata": {
    "papermill": {
     "duration": 0.006573,
     "end_time": "2023-12-31T12:53:45.839696",
     "exception": false,
     "start_time": "2023-12-31T12:53:45.833123",
     "status": "completed"
    },
    "tags": []
   },
   "source": [
    "Welcome to your first set of Python coding problems.  If this is your first time using Kaggle Notebooks, welcome! \n",
    "\n",
    "Notebooks are composed of blocks (called \"cells\") of text and code. Each of these is editable, though you'll mainly be editing the code cells to answer some questions.\n",
    "\n",
    "To get started, try running the code cell below (by pressing the ► button, or clicking on the cell and pressing ctrl+enter on your keyboard).\n",
    "\n",
    "初めてのPythonコーディング問題集へようこそ。 Kaggleノートブックを使うのが初めてなら、ようこそ！\n",
    "\n",
    "ノートブックはテキストとコードのブロック（「セル」と呼ばれます）で構成されています。これらのブロックはそれぞれ編集可能ですが、主に問題に答えるためにコードセルを編集することになります。\n",
    "\n",
    "まずは、以下のコードセルを実行してみてください（►ボタンを押すか、セルをクリックしてキーボードのctrl+enterを押してください）。"
   ]
  },
  {
   "cell_type": "code",
   "execution_count": 1,
   "id": "112166ea",
   "metadata": {
    "execution": {
     "iopub.execute_input": "2023-12-31T12:53:45.852940Z",
     "iopub.status.busy": "2023-12-31T12:53:45.852405Z",
     "iopub.status.idle": "2023-12-31T12:53:45.862319Z",
     "shell.execute_reply": "2023-12-31T12:53:45.861281Z"
    },
    "papermill": {
     "duration": 0.018878,
     "end_time": "2023-12-31T12:53:45.864297",
     "exception": false,
     "start_time": "2023-12-31T12:53:45.845419",
     "status": "completed"
    },
    "tags": []
   },
   "outputs": [
    {
     "name": "stdout",
     "output_type": "stream",
     "text": [
      "You've successfully run some Python code\n",
      "Congratulations!\n"
     ]
    }
   ],
   "source": [
    "print(\"You've successfully run some Python code\")\n",
    "print(\"Congratulations!\")"
   ]
  },
  {
   "cell_type": "markdown",
   "id": "81a9855d",
   "metadata": {
    "papermill": {
     "duration": 0.005366,
     "end_time": "2023-12-31T12:53:45.875649",
     "exception": false,
     "start_time": "2023-12-31T12:53:45.870283",
     "status": "completed"
    },
    "tags": []
   },
   "source": [
    "Try adding another line of code in the cell above and re-running it. \n",
    "\n",
    "Now let's get a little fancier:  Add a new code cell by clicking on an existing code cell, hitting the escape key, and then hitting the `a` or `b` key.  The `a` key will add a cell above the current cell, and `b` adds a cell below.\n",
    "\n",
    "Great! Now you know how to use Notebooks.\n",
    "\n",
    "Each hands-on exercise starts by setting up our feedback and code checking mechanism. Run the code cell below to do that. Then you'll be ready to move on to question 0.\n",
    "\n",
    "上のセルにもう1行コードを追加して、再実行してみてください。\n",
    "\n",
    "では、もう少しマニアックなことをしてみよう：  既存のコードセルをクリックし、エスケープキーを押した後、`a` または `b` キーを押すことで新しいコードセルを追加することができます。 a`キーは現在のセルの上にセルを追加し、`b`キーはその下にセルを追加します。\n",
    "\n",
    "すばらしい！これでノートブックの使い方がわかりました。\n",
    "\n",
    "各実習はフィードバックとコードチェックの仕組みを設定することから始まります。そのために下のコードセルを実行してください。そうすれば問題0に進む準備ができます。"
   ]
  },
  {
   "cell_type": "code",
   "execution_count": 2,
   "id": "39d6446e",
   "metadata": {
    "_kg_hide-input": true,
    "_kg_hide-output": true,
    "execution": {
     "iopub.execute_input": "2023-12-31T12:53:45.888958Z",
     "iopub.status.busy": "2023-12-31T12:53:45.888582Z",
     "iopub.status.idle": "2023-12-31T12:53:46.244456Z",
     "shell.execute_reply": "2023-12-31T12:53:46.243102Z"
    },
    "papermill": {
     "duration": 0.365195,
     "end_time": "2023-12-31T12:53:46.246504",
     "exception": false,
     "start_time": "2023-12-31T12:53:45.881309",
     "status": "completed"
    },
    "tags": []
   },
   "outputs": [
    {
     "name": "stdout",
     "output_type": "stream",
     "text": [
      "Setup complete! You're ready to start question 0.\n"
     ]
    }
   ],
   "source": [
    "from learntools.core import binder; binder.bind(globals())\n",
    "from learntools.python.ex1 import *\n",
    "print(\"Setup complete! You're ready to start question 0.\")"
   ]
  },
  {
   "cell_type": "markdown",
   "id": "7928787a",
   "metadata": {
    "papermill": {
     "duration": 0.005744,
     "end_time": "2023-12-31T12:53:46.258588",
     "exception": false,
     "start_time": "2023-12-31T12:53:46.252844",
     "status": "completed"
    },
    "tags": []
   },
   "source": [
    "# 0.\n",
    "\n",
    "*This is a silly question intended as an introduction to the format we use for hands-on exercises throughout all Kaggle courses.*\n",
    "\n",
    "**What is your favorite color? **\n",
    "\n",
    "To complete this question, create a variable called `color` in the cell below with an appropriate value. The function call `q0.check()` (which we've already provided in the cell below) will check your answer.\n",
    "\n",
    "# 0.\n",
    "\n",
    "*これは、Kaggleの全コースで実践的な演習に使用する形式の紹介として意図された愚かな質問です。\n",
    "\n",
    "**好きな色は何ですか？**\n",
    "\n",
    "この問題を解くには、下のセルに `color` という変数を適切な値で作成します。関数 `q0.check()` (下のセルに既に用意されています) があなたの答えをチェックします。"
   ]
  },
  {
   "cell_type": "code",
   "execution_count": 3,
   "id": "c220e2e7",
   "metadata": {
    "execution": {
     "iopub.execute_input": "2023-12-31T12:53:46.271825Z",
     "iopub.status.busy": "2023-12-31T12:53:46.271352Z",
     "iopub.status.idle": "2023-12-31T12:53:46.281335Z",
     "shell.execute_reply": "2023-12-31T12:53:46.280288Z"
    },
    "papermill": {
     "duration": 0.018822,
     "end_time": "2023-12-31T12:53:46.283179",
     "exception": false,
     "start_time": "2023-12-31T12:53:46.264357",
     "status": "completed"
    },
    "tags": []
   },
   "outputs": [
    {
     "data": {
      "application/javascript": [
       "parent.postMessage({\"jupyterEvent\": \"custom.exercise_interaction\", \"data\": {\"outcomeType\": 1, \"valueTowardsCompletion\": 0.25, \"interactionType\": 1, \"questionType\": 2, \"questionId\": \"0_ExerciseFormatTutorial\", \"learnToolsVersion\": \"0.3.4\", \"failureMessage\": \"\", \"exceptionClass\": \"\", \"trace\": \"\"}}, \"*\")"
      ],
      "text/plain": [
       "<IPython.core.display.Javascript object>"
      ]
     },
     "metadata": {},
     "output_type": "display_data"
    },
    {
     "data": {
      "text/markdown": [
       "<span style=\"color:#33cc33\">Correct:</span> What?! You got it right without needing a hint or anything? Drats. Well hey, you should still continue to the next step to get some practice asking for a hint and checking solutions. (Even though you obviously don't need any help here.)"
      ],
      "text/plain": [
       "Correct: What?! You got it right without needing a hint or anything? Drats. Well hey, you should still continue to the next step to get some practice asking for a hint and checking solutions. (Even though you obviously don't need any help here.)"
      ]
     },
     "metadata": {},
     "output_type": "display_data"
    }
   ],
   "source": [
    "# create a variable called color with an appropriate value on the line below\n",
    "# (Remember, strings in Python must be enclosed in 'single' or \"double\" quotes)\n",
    "color = \"blue\"\n",
    "\n",
    "# Check your answer\n",
    "q0.check()"
   ]
  },
  {
   "cell_type": "markdown",
   "id": "48222c78",
   "metadata": {
    "papermill": {
     "duration": 0.006033,
     "end_time": "2023-12-31T12:53:46.295508",
     "exception": false,
     "start_time": "2023-12-31T12:53:46.289475",
     "status": "completed"
    },
    "tags": []
   },
   "source": [
    "Didn't get the right answer? How do you not even know your own favorite color?!\n",
    "\n",
    "Delete the `#` in the line below to make one of the lines run. You can choose between getting a hint or the full answer by choosing which line to remove the `#` from. \n",
    "\n",
    "Removing the `#` is called uncommenting, because it changes that line from a \"comment\" which Python doesn't run to code, which Python does run.\n",
    "\n",
    "正解できなかった？どうして自分の好きな色も知らないの？\n",
    "\n",
    "下の行の`#`を消すと、行が1つ実行されます。どの行から `#` を削除するかを選択することで、ヒントを得るか完全な答えを得るかを選ぶことができます。\n",
    "\n",
    "その行はPythonが実行しない \"コメント \"からPythonが実行する \"コード \"に変わるからです。"
   ]
  },
  {
   "cell_type": "code",
   "execution_count": 4,
   "id": "1c2b92fb",
   "metadata": {
    "execution": {
     "iopub.execute_input": "2023-12-31T12:53:46.310265Z",
     "iopub.status.busy": "2023-12-31T12:53:46.309760Z",
     "iopub.status.idle": "2023-12-31T12:53:46.322399Z",
     "shell.execute_reply": "2023-12-31T12:53:46.321514Z"
    },
    "papermill": {
     "duration": 0.022276,
     "end_time": "2023-12-31T12:53:46.324163",
     "exception": false,
     "start_time": "2023-12-31T12:53:46.301887",
     "status": "completed"
    },
    "tags": []
   },
   "outputs": [
    {
     "data": {
      "application/javascript": [
       "parent.postMessage({\"jupyterEvent\": \"custom.exercise_interaction\", \"data\": {\"interactionType\": 2, \"questionType\": 2, \"questionId\": \"0_ExerciseFormatTutorial\", \"learnToolsVersion\": \"0.3.4\", \"valueTowardsCompletion\": 0.0, \"failureMessage\": \"\", \"exceptionClass\": \"\", \"trace\": \"\", \"outcomeType\": 4}}, \"*\")"
      ],
      "text/plain": [
       "<IPython.core.display.Javascript object>"
      ]
     },
     "metadata": {},
     "output_type": "display_data"
    },
    {
     "data": {
      "text/markdown": [
       "<span style=\"color:#3366cc\">Hint:</span> Your favorite color rhymes with *glue*."
      ],
      "text/plain": [
       "Hint: Your favorite color rhymes with *glue*."
      ]
     },
     "metadata": {},
     "output_type": "display_data"
    },
    {
     "data": {
      "application/javascript": [
       "parent.postMessage({\"jupyterEvent\": \"custom.exercise_interaction\", \"data\": {\"interactionType\": 3, \"questionType\": 2, \"questionId\": \"0_ExerciseFormatTutorial\", \"learnToolsVersion\": \"0.3.4\", \"valueTowardsCompletion\": 0.0, \"failureMessage\": \"\", \"exceptionClass\": \"\", \"trace\": \"\", \"outcomeType\": 4}}, \"*\")"
      ],
      "text/plain": [
       "<IPython.core.display.Javascript object>"
      ]
     },
     "metadata": {},
     "output_type": "display_data"
    },
    {
     "data": {
      "text/markdown": [
       "<span style=\"color:#33cc99\">Solution:</span> \n",
       "```python\n",
       "color = \"blue\"\n",
       "```"
      ],
      "text/plain": [
       "Solution: \n",
       "```python\n",
       "color = \"blue\"\n",
       "```"
      ]
     },
     "metadata": {},
     "output_type": "display_data"
    }
   ],
   "source": [
    "q0.hint()\n",
    "q0.solution()"
   ]
  },
  {
   "cell_type": "markdown",
   "id": "595ad910",
   "metadata": {
    "papermill": {
     "duration": 0.006093,
     "end_time": "2023-12-31T12:53:46.336556",
     "exception": false,
     "start_time": "2023-12-31T12:53:46.330463",
     "status": "completed"
    },
    "tags": []
   },
   "source": [
    "The upcoming questions work the same way. The only thing that will change are the question numbers. For the next question, you'll call `q1.check()`, `q1.hint()`, `q1.solution()`, for question 2, you'll call `q2.check()`, and so on.\n",
    "\n",
    "これからの問題も同じように出題されます。変わるのは問題番号だけです。次の問題では、`q1.check()`、`q1.hint()`、`q1.solution()`、第2問では、`q2.check()`、、、と呼びます。"
   ]
  },
  {
   "cell_type": "markdown",
   "id": "edea7758",
   "metadata": {
    "papermill": {
     "duration": 0.005999,
     "end_time": "2023-12-31T12:53:46.348730",
     "exception": false,
     "start_time": "2023-12-31T12:53:46.342731",
     "status": "completed"
    },
    "tags": []
   },
   "source": [
    "<hr/>\n",
    "\n",
    "# 1.\n",
    "\n",
    "Complete the code below. In case it's helpful, here is the table of available arithmetic operations:\n",
    "\n",
    "以下のコードを完成させてください。参考までに、利用可能な算術演算の表を以下に示す：\n",
    "\n",
    "\n",
    "\n",
    "| Operator     | Name           | Description                                            |\n",
    "|--------------|----------------|--------------------------------------------------------|\n",
    "| ``a + b``    | Addition       | Sum of ``a`` and ``b``                                 |\n",
    "| ``a - b``    | Subtraction    | Difference of ``a`` and ``b``                          |\n",
    "| ``a * b``    | Multiplication | Product of ``a`` and ``b``                             |\n",
    "| ``a / b``    | True division  | Quotient of ``a`` and ``b``                            |\n",
    "| ``a // b``   | Floor division | Quotient of ``a`` and ``b``, removing fractional parts |\n",
    "| ``a % b``    | Modulus        | Integer remainder after division of ``a`` by ``b``     |\n",
    "| ``a ** b``   | Exponentiation | ``a`` raised to the power of ``b``                     |\n",
    "| ``-a``       | Negation       | The negative of ``a``                                  |\n",
    "\n",
    "<span style=\"display:none\"></span>\n"
   ]
  },
  {
   "cell_type": "code",
   "execution_count": 5,
   "id": "14a2d802",
   "metadata": {
    "execution": {
     "iopub.execute_input": "2023-12-31T12:53:46.363672Z",
     "iopub.status.busy": "2023-12-31T12:53:46.363379Z",
     "iopub.status.idle": "2023-12-31T12:53:46.370883Z",
     "shell.execute_reply": "2023-12-31T12:53:46.369966Z"
    },
    "papermill": {
     "duration": 0.01715,
     "end_time": "2023-12-31T12:53:46.372766",
     "exception": false,
     "start_time": "2023-12-31T12:53:46.355616",
     "status": "completed"
    },
    "tags": []
   },
   "outputs": [
    {
     "data": {
      "application/javascript": [
       "parent.postMessage({\"jupyterEvent\": \"custom.exercise_interaction\", \"data\": {\"outcomeType\": 1, \"valueTowardsCompletion\": 0.25, \"interactionType\": 1, \"questionType\": 1, \"questionId\": \"1_CircleArea\", \"learnToolsVersion\": \"0.3.4\", \"failureMessage\": \"\", \"exceptionClass\": \"\", \"trace\": \"\"}}, \"*\")"
      ],
      "text/plain": [
       "<IPython.core.display.Javascript object>"
      ]
     },
     "metadata": {},
     "output_type": "display_data"
    },
    {
     "data": {
      "text/markdown": [
       "<span style=\"color:#33cc33\">Correct</span>"
      ],
      "text/plain": [
       "Correct"
      ]
     },
     "metadata": {},
     "output_type": "display_data"
    }
   ],
   "source": [
    "pi = 3.14159 # approximate\n",
    "diameter = 3\n",
    "\n",
    "radius = diameter / 2\n",
    "area = pi * radius ** 2\n",
    "# Check your answer\n",
    "q1.check()"
   ]
  },
  {
   "cell_type": "code",
   "execution_count": 6,
   "id": "c9b22a50",
   "metadata": {
    "execution": {
     "iopub.execute_input": "2023-12-31T12:53:46.387707Z",
     "iopub.status.busy": "2023-12-31T12:53:46.387364Z",
     "iopub.status.idle": "2023-12-31T12:53:46.398624Z",
     "shell.execute_reply": "2023-12-31T12:53:46.397802Z"
    },
    "papermill": {
     "duration": 0.021292,
     "end_time": "2023-12-31T12:53:46.400751",
     "exception": false,
     "start_time": "2023-12-31T12:53:46.379459",
     "status": "completed"
    },
    "tags": []
   },
   "outputs": [
    {
     "data": {
      "application/javascript": [
       "parent.postMessage({\"jupyterEvent\": \"custom.exercise_interaction\", \"data\": {\"interactionType\": 2, \"questionType\": 1, \"questionId\": \"1_CircleArea\", \"learnToolsVersion\": \"0.3.4\", \"valueTowardsCompletion\": 0.0, \"failureMessage\": \"\", \"exceptionClass\": \"\", \"trace\": \"\", \"outcomeType\": 4}}, \"*\")"
      ],
      "text/plain": [
       "<IPython.core.display.Javascript object>"
      ]
     },
     "metadata": {},
     "output_type": "display_data"
    },
    {
     "data": {
      "text/markdown": [
       "<span style=\"color:#3366cc\">Hint:</span> The syntax to raise a to the b'th power is `a ** b`"
      ],
      "text/plain": [
       "Hint: The syntax to raise a to the b'th power is `a ** b`"
      ]
     },
     "metadata": {},
     "output_type": "display_data"
    },
    {
     "data": {
      "application/javascript": [
       "parent.postMessage({\"jupyterEvent\": \"custom.exercise_interaction\", \"data\": {\"interactionType\": 3, \"questionType\": 1, \"questionId\": \"1_CircleArea\", \"learnToolsVersion\": \"0.3.4\", \"valueTowardsCompletion\": 0.0, \"failureMessage\": \"\", \"exceptionClass\": \"\", \"trace\": \"\", \"outcomeType\": 4}}, \"*\")"
      ],
      "text/plain": [
       "<IPython.core.display.Javascript object>"
      ]
     },
     "metadata": {},
     "output_type": "display_data"
    },
    {
     "data": {
      "text/markdown": [
       "<span style=\"color:#33cc99\">Solution:</span> \n",
       "```python\n",
       "radius = diameter / 2\n",
       "area = pi * radius ** 2\n",
       "```"
      ],
      "text/plain": [
       "Solution: \n",
       "```python\n",
       "radius = diameter / 2\n",
       "area = pi * radius ** 2\n",
       "```"
      ]
     },
     "metadata": {},
     "output_type": "display_data"
    }
   ],
   "source": [
    "# Uncomment and run the lines below if you need help.\n",
    "q1.hint()\n",
    "q1.solution()"
   ]
  },
  {
   "cell_type": "markdown",
   "id": "92e49b3a",
   "metadata": {
    "papermill": {
     "duration": 0.006882,
     "end_time": "2023-12-31T12:53:46.414958",
     "exception": false,
     "start_time": "2023-12-31T12:53:46.408076",
     "status": "completed"
    },
    "tags": []
   },
   "source": [
    "<hr/>\n",
    "\n",
    "# 2.\n",
    "\n",
    "Add code to the following cell to swap variables `a` and `b` (so that `a` refers to the object previously referred to by `b` and vice versa).\n",
    "\n",
    "以下のセルに、変数 `a` と `b` を入れ替えるコードを追加する（`a` が以前 `b` によって参照されていたオブジェクトを参照するように、またその逆も同様）。"
   ]
  },
  {
   "cell_type": "code",
   "execution_count": 7,
   "id": "00d96e35",
   "metadata": {
    "execution": {
     "iopub.execute_input": "2023-12-31T12:53:46.431287Z",
     "iopub.status.busy": "2023-12-31T12:53:46.430927Z",
     "iopub.status.idle": "2023-12-31T12:53:46.439386Z",
     "shell.execute_reply": "2023-12-31T12:53:46.438120Z"
    },
    "papermill": {
     "duration": 0.019014,
     "end_time": "2023-12-31T12:53:46.441310",
     "exception": false,
     "start_time": "2023-12-31T12:53:46.422296",
     "status": "completed"
    },
    "tags": []
   },
   "outputs": [
    {
     "data": {
      "application/javascript": [
       "parent.postMessage({\"jupyterEvent\": \"custom.exercise_interaction\", \"data\": {\"outcomeType\": 1, \"valueTowardsCompletion\": 0.25, \"interactionType\": 1, \"questionType\": 2, \"questionId\": \"2_VariableSwap\", \"learnToolsVersion\": \"0.3.4\", \"failureMessage\": \"\", \"exceptionClass\": \"\", \"trace\": \"\"}}, \"*\")"
      ],
      "text/plain": [
       "<IPython.core.display.Javascript object>"
      ]
     },
     "metadata": {},
     "output_type": "display_data"
    },
    {
     "data": {
      "text/markdown": [
       "<span style=\"color:#33cc33\">Correct:</span> \n",
       "\n",
       "The most straightforward solution is to use a third variable to temporarily store one of the old values. e.g.:\n",
       "\n",
       "    tmp = a\n",
       "    a = b\n",
       "    b = tmp\n",
       "\n",
       "If you've read lots of Python code, you might have seen the following trick to swap two variables in one line:\n",
       "\n",
       "    a, b = b, a\n",
       "\n",
       "We'll demystify this bit of Python magic later when we talk about *tuples*."
      ],
      "text/plain": [
       "Correct: \n",
       "\n",
       "The most straightforward solution is to use a third variable to temporarily store one of the old values. e.g.:\n",
       "\n",
       "    tmp = a\n",
       "    a = b\n",
       "    b = tmp\n",
       "\n",
       "If you've read lots of Python code, you might have seen the following trick to swap two variables in one line:\n",
       "\n",
       "    a, b = b, a\n",
       "\n",
       "We'll demystify this bit of Python magic later when we talk about *tuples*."
      ]
     },
     "metadata": {},
     "output_type": "display_data"
    }
   ],
   "source": [
    "########### Setup code - don't touch this part ######################\n",
    "# If you're curious, these are examples of lists. We'll talk about \n",
    "# them in depth a few lessons from now. For now, just know that they're\n",
    "# yet another type of Python object, like int or float.\n",
    "a = [1, 2, 3]\n",
    "b = [3, 2, 1]\n",
    "q2.store_original_ids()\n",
    "######################################################################\n",
    "\n",
    "# Your code goes here. Swap the values to which a and b refer.\n",
    "# If you get stuck, you can always uncomment one or both of the lines in\n",
    "# the next cell for a hint, or to peek at the solution.\n",
    "tmp = a\n",
    "a = b\n",
    "b = tmp\n",
    "######################################################################\n",
    "\n",
    "# Check your answer\n",
    "q2.check()"
   ]
  },
  {
   "cell_type": "code",
   "execution_count": 8,
   "id": "2de0bd8a",
   "metadata": {
    "execution": {
     "iopub.execute_input": "2023-12-31T12:53:46.458842Z",
     "iopub.status.busy": "2023-12-31T12:53:46.457736Z",
     "iopub.status.idle": "2023-12-31T12:53:46.462170Z",
     "shell.execute_reply": "2023-12-31T12:53:46.461526Z"
    },
    "papermill": {
     "duration": 0.01504,
     "end_time": "2023-12-31T12:53:46.463920",
     "exception": false,
     "start_time": "2023-12-31T12:53:46.448880",
     "status": "completed"
    },
    "tags": []
   },
   "outputs": [],
   "source": [
    "#q2.hint()"
   ]
  },
  {
   "cell_type": "code",
   "execution_count": 9,
   "id": "8b7bedb9",
   "metadata": {
    "execution": {
     "iopub.execute_input": "2023-12-31T12:53:46.479975Z",
     "iopub.status.busy": "2023-12-31T12:53:46.479636Z",
     "iopub.status.idle": "2023-12-31T12:53:46.488964Z",
     "shell.execute_reply": "2023-12-31T12:53:46.487839Z"
    },
    "papermill": {
     "duration": 0.019786,
     "end_time": "2023-12-31T12:53:46.491089",
     "exception": false,
     "start_time": "2023-12-31T12:53:46.471303",
     "status": "completed"
    },
    "tags": []
   },
   "outputs": [
    {
     "data": {
      "application/javascript": [
       "parent.postMessage({\"jupyterEvent\": \"custom.exercise_interaction\", \"data\": {\"interactionType\": 3, \"questionType\": 2, \"questionId\": \"2_VariableSwap\", \"learnToolsVersion\": \"0.3.4\", \"valueTowardsCompletion\": 0.0, \"failureMessage\": \"\", \"exceptionClass\": \"\", \"trace\": \"\", \"outcomeType\": 4}}, \"*\")"
      ],
      "text/plain": [
       "<IPython.core.display.Javascript object>"
      ]
     },
     "metadata": {},
     "output_type": "display_data"
    },
    {
     "data": {
      "text/markdown": [
       "<span style=\"color:#33cc99\">Solution:</span> The most straightforward solution is to use a third variable to temporarily store one of the old values. e.g.:\n",
       "\n",
       "    tmp = a\n",
       "    a = b\n",
       "    b = tmp\n",
       "\n",
       "If you've read lots of Python code, you might have seen the following trick to swap two variables in one line:\n",
       "\n",
       "    a, b = b, a\n",
       "\n",
       "We'll demystify this bit of Python magic later when we talk about *tuples*."
      ],
      "text/plain": [
       "Solution: The most straightforward solution is to use a third variable to temporarily store one of the old values. e.g.:\n",
       "\n",
       "    tmp = a\n",
       "    a = b\n",
       "    b = tmp\n",
       "\n",
       "If you've read lots of Python code, you might have seen the following trick to swap two variables in one line:\n",
       "\n",
       "    a, b = b, a\n",
       "\n",
       "We'll demystify this bit of Python magic later when we talk about *tuples*."
      ]
     },
     "metadata": {},
     "output_type": "display_data"
    }
   ],
   "source": [
    "q2.solution()"
   ]
  },
  {
   "cell_type": "markdown",
   "id": "bb0fd952",
   "metadata": {
    "papermill": {
     "duration": 0.007333,
     "end_time": "2023-12-31T12:53:46.506344",
     "exception": false,
     "start_time": "2023-12-31T12:53:46.499011",
     "status": "completed"
    },
    "tags": []
   },
   "source": [
    "<hr/>\n",
    "\n",
    "# 3a.\n",
    "\n",
    "Add parentheses to the following expression so that it evaluates to 1.\n",
    "\n",
    "以下の式に括弧を追加し、それが1と評価されるようにする。"
   ]
  },
  {
   "cell_type": "code",
   "execution_count": 10,
   "id": "7d23b8ff",
   "metadata": {
    "execution": {
     "iopub.execute_input": "2023-12-31T12:53:46.523089Z",
     "iopub.status.busy": "2023-12-31T12:53:46.522735Z",
     "iopub.status.idle": "2023-12-31T12:53:46.529250Z",
     "shell.execute_reply": "2023-12-31T12:53:46.528013Z"
    },
    "papermill": {
     "duration": 0.017604,
     "end_time": "2023-12-31T12:53:46.531569",
     "exception": false,
     "start_time": "2023-12-31T12:53:46.513965",
     "status": "completed"
    },
    "tags": []
   },
   "outputs": [
    {
     "data": {
      "text/plain": [
       "4"
      ]
     },
     "execution_count": 10,
     "metadata": {},
     "output_type": "execute_result"
    }
   ],
   "source": [
    "5 - 3 // 2"
   ]
  },
  {
   "cell_type": "code",
   "execution_count": 11,
   "id": "62b14d00",
   "metadata": {
    "execution": {
     "iopub.execute_input": "2023-12-31T12:53:46.548926Z",
     "iopub.status.busy": "2023-12-31T12:53:46.548582Z",
     "iopub.status.idle": "2023-12-31T12:53:46.552111Z",
     "shell.execute_reply": "2023-12-31T12:53:46.551356Z"
    },
    "papermill": {
     "duration": 0.014146,
     "end_time": "2023-12-31T12:53:46.553743",
     "exception": false,
     "start_time": "2023-12-31T12:53:46.539597",
     "status": "completed"
    },
    "tags": []
   },
   "outputs": [],
   "source": [
    "#q3.a.hint()"
   ]
  },
  {
   "cell_type": "code",
   "execution_count": 12,
   "id": "a90f5a4c",
   "metadata": {
    "execution": {
     "iopub.execute_input": "2023-12-31T12:53:46.572220Z",
     "iopub.status.busy": "2023-12-31T12:53:46.571909Z",
     "iopub.status.idle": "2023-12-31T12:53:46.579265Z",
     "shell.execute_reply": "2023-12-31T12:53:46.578190Z"
    },
    "papermill": {
     "duration": 0.01919,
     "end_time": "2023-12-31T12:53:46.580963",
     "exception": false,
     "start_time": "2023-12-31T12:53:46.561773",
     "status": "completed"
    },
    "tags": []
   },
   "outputs": [
    {
     "data": {
      "application/javascript": [
       "parent.postMessage({\"jupyterEvent\": \"custom.exercise_interaction\", \"data\": {\"interactionType\": 3, \"questionType\": 4, \"questionId\": \"3.1_ArithmeticParensEasy\", \"learnToolsVersion\": \"0.3.4\", \"valueTowardsCompletion\": 0.0, \"failureMessage\": \"\", \"exceptionClass\": \"\", \"trace\": \"\", \"outcomeType\": 4}}, \"*\")"
      ],
      "text/plain": [
       "<IPython.core.display.Javascript object>"
      ]
     },
     "metadata": {},
     "output_type": "display_data"
    },
    {
     "data": {
      "text/markdown": [
       "<span style=\"color:#33cc99\">Solution:</span> \n",
       "```python\n",
       "(5 - 3) // 2\n",
       "```"
      ],
      "text/plain": [
       "Solution: \n",
       "```python\n",
       "(5 - 3) // 2\n",
       "```"
      ]
     },
     "metadata": {},
     "output_type": "display_data"
    }
   ],
   "source": [
    "# Check your answer (Run this code cell to receive credit!)\n",
    "q3.a.solution()"
   ]
  },
  {
   "cell_type": "markdown",
   "id": "b9c44cab",
   "metadata": {
    "papermill": {
     "duration": 0.007836,
     "end_time": "2023-12-31T12:53:46.596888",
     "exception": false,
     "start_time": "2023-12-31T12:53:46.589052",
     "status": "completed"
    },
    "tags": []
   },
   "source": [
    "# 3b.  <span title=\"A bit spicy\" style=\"color: darkgreen \">🌶️</span>\n",
    "\n",
    "<small>Questions, like this one, marked a spicy pepper are a bit harder.</small>\n",
    "\n",
    "Add parentheses to the following expression so that it evaluates to 0.\n",
    "\n",
    "この質問のように、スパイシーな唐辛子をマークするのは少し難しい。\n",
    "以下の式に括弧を追加し、0と評価されるようにする。"
   ]
  },
  {
   "cell_type": "code",
   "execution_count": 13,
   "id": "52c0c8dc",
   "metadata": {
    "execution": {
     "iopub.execute_input": "2023-12-31T12:53:46.614772Z",
     "iopub.status.busy": "2023-12-31T12:53:46.614197Z",
     "iopub.status.idle": "2023-12-31T12:53:46.619475Z",
     "shell.execute_reply": "2023-12-31T12:53:46.618848Z"
    },
    "papermill": {
     "duration": 0.016224,
     "end_time": "2023-12-31T12:53:46.621191",
     "exception": false,
     "start_time": "2023-12-31T12:53:46.604967",
     "status": "completed"
    },
    "tags": []
   },
   "outputs": [
    {
     "data": {
      "text/plain": [
       "2"
      ]
     },
     "execution_count": 13,
     "metadata": {},
     "output_type": "execute_result"
    }
   ],
   "source": [
    "8 - 3 * 2 - 1 + 1"
   ]
  },
  {
   "cell_type": "code",
   "execution_count": 14,
   "id": "aec119c6",
   "metadata": {
    "execution": {
     "iopub.execute_input": "2023-12-31T12:53:46.640026Z",
     "iopub.status.busy": "2023-12-31T12:53:46.639619Z",
     "iopub.status.idle": "2023-12-31T12:53:46.643984Z",
     "shell.execute_reply": "2023-12-31T12:53:46.643119Z"
    },
    "papermill": {
     "duration": 0.015683,
     "end_time": "2023-12-31T12:53:46.645633",
     "exception": false,
     "start_time": "2023-12-31T12:53:46.629950",
     "status": "completed"
    },
    "tags": []
   },
   "outputs": [],
   "source": [
    "#q3.b.hint()"
   ]
  },
  {
   "cell_type": "code",
   "execution_count": 15,
   "id": "eeb273e5",
   "metadata": {
    "execution": {
     "iopub.execute_input": "2023-12-31T12:53:46.664032Z",
     "iopub.status.busy": "2023-12-31T12:53:46.663422Z",
     "iopub.status.idle": "2023-12-31T12:53:46.671014Z",
     "shell.execute_reply": "2023-12-31T12:53:46.670098Z"
    },
    "papermill": {
     "duration": 0.019145,
     "end_time": "2023-12-31T12:53:46.673038",
     "exception": false,
     "start_time": "2023-12-31T12:53:46.653893",
     "status": "completed"
    },
    "tags": []
   },
   "outputs": [
    {
     "data": {
      "application/javascript": [
       "parent.postMessage({\"jupyterEvent\": \"custom.exercise_interaction\", \"data\": {\"interactionType\": 3, \"questionType\": 4, \"questionId\": \"3.2_ArithmeticParensHard\", \"learnToolsVersion\": \"0.3.4\", \"valueTowardsCompletion\": 0.0, \"failureMessage\": \"\", \"exceptionClass\": \"\", \"trace\": \"\", \"outcomeType\": 4}}, \"*\")"
      ],
      "text/plain": [
       "<IPython.core.display.Javascript object>"
      ]
     },
     "metadata": {},
     "output_type": "display_data"
    },
    {
     "data": {
      "text/markdown": [
       "<span style=\"color:#33cc99\">Solution:</span> `(8 - 3) * (2 - (1 + 1))` is one solution. There may be others."
      ],
      "text/plain": [
       "Solution: `(8 - 3) * (2 - (1 + 1))` is one solution. There may be others."
      ]
     },
     "metadata": {},
     "output_type": "display_data"
    }
   ],
   "source": [
    "# Check your answer (Run this code cell to receive credit!)\n",
    "q3.b.solution()"
   ]
  },
  {
   "cell_type": "markdown",
   "id": "607b154a",
   "metadata": {
    "papermill": {
     "duration": 0.009224,
     "end_time": "2023-12-31T12:53:46.690643",
     "exception": false,
     "start_time": "2023-12-31T12:53:46.681419",
     "status": "completed"
    },
    "tags": []
   },
   "source": [
    "<hr/>\n",
    "\n",
    "# 4. \n",
    "Alice, Bob and Carol have agreed to pool their Halloween candy and split it evenly among themselves.\n",
    "For the sake of their friendship, any candies left over will be smashed. For example, if they collectively\n",
    "bring home 91 candies, they'll take 30 each and smash 1.\n",
    "\n",
    "Write an arithmetic expression below to calculate how many candies they must smash for a given haul.\n",
    "\n",
    "# 4. \n",
    "アリス、ボブ、キャロルの3人は、ハロウィーンのお菓子をプールして、均等に分けることに合意した。\n",
    "彼らの友情のために、残ったキャンディーはつぶされる。例えば\n",
    "91個のキャンディを持って帰ったら、30個ずつ持って1個をつぶす。\n",
    "\n",
    "与えられた量に対して何個のキャンディを砕かなければならないかを計算する算術式を以下に書きなさい。"
   ]
  },
  {
   "cell_type": "code",
   "execution_count": 16,
   "id": "1a265b57",
   "metadata": {
    "execution": {
     "iopub.execute_input": "2023-12-31T12:53:46.708890Z",
     "iopub.status.busy": "2023-12-31T12:53:46.708539Z",
     "iopub.status.idle": "2023-12-31T12:53:46.716189Z",
     "shell.execute_reply": "2023-12-31T12:53:46.715300Z"
    },
    "papermill": {
     "duration": 0.018714,
     "end_time": "2023-12-31T12:53:46.718032",
     "exception": false,
     "start_time": "2023-12-31T12:53:46.699318",
     "status": "completed"
    },
    "tags": []
   },
   "outputs": [
    {
     "data": {
      "application/javascript": [
       "parent.postMessage({\"jupyterEvent\": \"custom.exercise_interaction\", \"data\": {\"outcomeType\": 4, \"interactionType\": 1, \"questionType\": 1, \"questionId\": \"4_CandySplitting\", \"learnToolsVersion\": \"0.3.4\", \"valueTowardsCompletion\": 0.0, \"failureMessage\": \"\", \"exceptionClass\": \"\", \"trace\": \"\"}}, \"*\")"
      ],
      "text/plain": [
       "<IPython.core.display.Javascript object>"
      ]
     },
     "metadata": {},
     "output_type": "display_data"
    },
    {
     "data": {
      "text/markdown": [
       "<span style=\"color:#ccaa33\">Check:</span> When you've updated the starter code, `check()` will tell you whether your code is correct. You need to update the code that creates variable `to_smash`"
      ],
      "text/plain": [
       "Check: When you've updated the starter code, `check()` will tell you whether your code is correct. You need to update the code that creates variable `to_smash`"
      ]
     },
     "metadata": {},
     "output_type": "display_data"
    }
   ],
   "source": [
    "# Variables representing the number of candies collected by alice, bob, and carol\n",
    "alice_candies = 121\n",
    "bob_candies = 77\n",
    "carol_candies = 109\n",
    "\n",
    "# Your code goes here! Replace the right-hand side of this assignment with an expression\n",
    "# involving alice_candies, bob_candies, and carol_candies\n",
    "to_smash = -1\n",
    "\n",
    "# Check your answer\n",
    "q4.check()"
   ]
  },
  {
   "cell_type": "code",
   "execution_count": 17,
   "id": "3fa726a4",
   "metadata": {
    "execution": {
     "iopub.execute_input": "2023-12-31T12:53:46.736615Z",
     "iopub.status.busy": "2023-12-31T12:53:46.736319Z",
     "iopub.status.idle": "2023-12-31T12:53:46.739552Z",
     "shell.execute_reply": "2023-12-31T12:53:46.738850Z"
    },
    "papermill": {
     "duration": 0.014956,
     "end_time": "2023-12-31T12:53:46.741712",
     "exception": false,
     "start_time": "2023-12-31T12:53:46.726756",
     "status": "completed"
    },
    "tags": []
   },
   "outputs": [],
   "source": [
    "#q4.hint()\n",
    "#q4.solution()"
   ]
  },
  {
   "cell_type": "markdown",
   "id": "594b9535",
   "metadata": {
    "papermill": {
     "duration": 0.008237,
     "end_time": "2023-12-31T12:53:46.758888",
     "exception": false,
     "start_time": "2023-12-31T12:53:46.750651",
     "status": "completed"
    },
    "tags": []
   },
   "source": [
    "# Keep Going\n",
    "\n",
    "Next up, you'll **[learn to write new functions and understand functions others write](https://www.kaggle.com/colinmorris/functions-and-getting-help)**. This will make you at least 10 times more productive as a Python programmer. "
   ]
  },
  {
   "cell_type": "markdown",
   "id": "afc4fd8a",
   "metadata": {
    "papermill": {
     "duration": 0.008385,
     "end_time": "2023-12-31T12:53:46.829971",
     "exception": false,
     "start_time": "2023-12-31T12:53:46.821586",
     "status": "completed"
    },
    "tags": []
   },
   "source": [
    "---\n",
    "\n",
    "\n",
    "\n",
    "\n",
    "*Have questions or comments? Visit the [course discussion forum](https://www.kaggle.com/learn/python/discussion) to chat with other learners.*"
   ]
  }
 ],
 "metadata": {
  "kaggle": {
   "accelerator": "none",
   "dataSources": [],
   "isGpuEnabled": false,
   "isInternetEnabled": false,
   "language": "python",
   "sourceType": "notebook"
  },
  "kernelspec": {
   "display_name": "Python 3",
   "language": "python",
   "name": "python3"
  },
  "language_info": {
   "codemirror_mode": {
    "name": "ipython",
    "version": 3
   },
   "file_extension": ".py",
   "mimetype": "text/x-python",
   "name": "python",
   "nbconvert_exporter": "python",
   "pygments_lexer": "ipython3",
   "version": "3.10.12"
  },
  "learntools_metadata": {
   "lesson_index": 0,
   "type": "exercise"
  },
  "papermill": {
   "default_parameters": {},
   "duration": 4.106443,
   "end_time": "2023-12-31T12:53:47.259106",
   "environment_variables": {},
   "exception": null,
   "input_path": "__notebook__.ipynb",
   "output_path": "__notebook__.ipynb",
   "parameters": {},
   "start_time": "2023-12-31T12:53:43.152663",
   "version": "2.4.0"
  }
 },
 "nbformat": 4,
 "nbformat_minor": 5
}
