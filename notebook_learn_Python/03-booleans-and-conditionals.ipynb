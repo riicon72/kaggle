{
 "cells": [
  {
   "cell_type": "markdown",
   "id": "7b41f2a0",
   "metadata": {
    "papermill": {
     "duration": 0.009235,
     "end_time": "2024-01-02T05:52:21.173168",
     "exception": false,
     "start_time": "2024-01-02T05:52:21.163933",
     "status": "completed"
    },
    "tags": []
   },
   "source": [
    "**This notebook is an exercise in the [Python](https://www.kaggle.com/learn/python) course.  You can reference the tutorial at [this link](https://www.kaggle.com/colinmorris/booleans-and-conditionals).**\n",
    "\n",
    "---\n"
   ]
  },
  {
   "cell_type": "markdown",
   "id": "da8c4eb5",
   "metadata": {
    "papermill": {
     "duration": 0.008639,
     "end_time": "2024-01-02T05:52:21.190879",
     "exception": false,
     "start_time": "2024-01-02T05:52:21.182240",
     "status": "completed"
    },
    "tags": []
   },
   "source": [
    "In this exercise, you'll put to work what you have learned about booleans and conditionals.\n",
    "\n",
    "To get started, **run the setup code below** before writing your own code (and if you leave this notebook and come back later, don't forget to run the setup code again).\n",
    "\n",
    "この練習では、ブーリアンと条件式について学んだことを実践します。\n",
    "\n",
    "始めるには、自分のコードを書く前に、**下のセットアップ・コードを実行してください。"
   ]
  },
  {
   "cell_type": "code",
   "execution_count": 1,
   "id": "47d8f760",
   "metadata": {
    "execution": {
     "iopub.execute_input": "2024-01-02T05:52:21.209651Z",
     "iopub.status.busy": "2024-01-02T05:52:21.209213Z",
     "iopub.status.idle": "2024-01-02T05:52:21.634390Z",
     "shell.execute_reply": "2024-01-02T05:52:21.633168Z"
    },
    "papermill": {
     "duration": 0.437262,
     "end_time": "2024-01-02T05:52:21.636734",
     "exception": false,
     "start_time": "2024-01-02T05:52:21.199472",
     "status": "completed"
    },
    "tags": []
   },
   "outputs": [
    {
     "name": "stdout",
     "output_type": "stream",
     "text": [
      "Setup complete.\n"
     ]
    }
   ],
   "source": [
    "from learntools.core import binder; binder.bind(globals())\n",
    "from learntools.python.ex3 import *\n",
    "print('Setup complete.')"
   ]
  },
  {
   "cell_type": "markdown",
   "id": "89e1c046",
   "metadata": {
    "papermill": {
     "duration": 0.008269,
     "end_time": "2024-01-02T05:52:21.654413",
     "exception": false,
     "start_time": "2024-01-02T05:52:21.646144",
     "status": "completed"
    },
    "tags": []
   },
   "source": [
    "# 1.\n",
    "\n",
    "Many programming languages have [`sign`](https://en.wikipedia.org/wiki/Sign_function) available as a built-in function. Python doesn't, but we can define our own!\n",
    "\n",
    "In the cell below, define a function called `sign` which takes a numerical argument and returns -1 if it's negative, 1 if it's positive, and 0 if it's 0.\n",
    "\n",
    "# 1.\n",
    "\n",
    "多くのプログラミング言語には、組み込み関数として [`sign`](https://en.wikipedia.org/wiki/Sign_function) が用意されています。Pythonにはありませんが、自分で定義することができます！\n",
    "\n",
    "以下のセルで、引数に数値をとり、負の場合は-1、正の場合は1、0の場合は0を返す `sign` という関数を定義します。"
   ]
  },
  {
   "cell_type": "code",
   "execution_count": 2,
   "id": "0a6a056b",
   "metadata": {
    "execution": {
     "iopub.execute_input": "2024-01-02T05:52:21.673659Z",
     "iopub.status.busy": "2024-01-02T05:52:21.672876Z",
     "iopub.status.idle": "2024-01-02T05:52:21.681379Z",
     "shell.execute_reply": "2024-01-02T05:52:21.680702Z"
    },
    "papermill": {
     "duration": 0.020291,
     "end_time": "2024-01-02T05:52:21.683250",
     "exception": false,
     "start_time": "2024-01-02T05:52:21.662959",
     "status": "completed"
    },
    "tags": []
   },
   "outputs": [
    {
     "data": {
      "application/javascript": [
       "parent.postMessage({\"jupyterEvent\": \"custom.exercise_interaction\", \"data\": {\"outcomeType\": 1, \"valueTowardsCompletion\": 0.2, \"interactionType\": 1, \"questionType\": 2, \"questionId\": \"1_SignFunctionProblem\", \"learnToolsVersion\": \"0.3.4\", \"failureMessage\": \"\", \"exceptionClass\": \"\", \"trace\": \"\"}}, \"*\")"
      ],
      "text/plain": [
       "<IPython.core.display.Javascript object>"
      ]
     },
     "metadata": {},
     "output_type": "display_data"
    },
    {
     "data": {
      "text/markdown": [
       "<span style=\"color:#33cc33\">Correct</span>"
      ],
      "text/plain": [
       "Correct"
      ]
     },
     "metadata": {},
     "output_type": "display_data"
    }
   ],
   "source": [
    "# Your code goes here. Define a function called 'sign'\n",
    "def sign(x):\n",
    "    if x >0:\n",
    "        return 1\n",
    "    if x<0:\n",
    "        return -1\n",
    "    else:\n",
    "        return 0\n",
    "# Check your answer\n",
    "q1.check()"
   ]
  },
  {
   "cell_type": "code",
   "execution_count": 3,
   "id": "a7aa6e48",
   "metadata": {
    "execution": {
     "iopub.execute_input": "2024-01-02T05:52:21.703842Z",
     "iopub.status.busy": "2024-01-02T05:52:21.703197Z",
     "iopub.status.idle": "2024-01-02T05:52:21.710848Z",
     "shell.execute_reply": "2024-01-02T05:52:21.709767Z"
    },
    "papermill": {
     "duration": 0.020853,
     "end_time": "2024-01-02T05:52:21.712987",
     "exception": false,
     "start_time": "2024-01-02T05:52:21.692134",
     "status": "completed"
    },
    "tags": []
   },
   "outputs": [
    {
     "data": {
      "application/javascript": [
       "parent.postMessage({\"jupyterEvent\": \"custom.exercise_interaction\", \"data\": {\"interactionType\": 3, \"questionType\": 2, \"questionId\": \"1_SignFunctionProblem\", \"learnToolsVersion\": \"0.3.4\", \"valueTowardsCompletion\": 0.0, \"failureMessage\": \"\", \"exceptionClass\": \"\", \"trace\": \"\", \"outcomeType\": 4}}, \"*\")"
      ],
      "text/plain": [
       "<IPython.core.display.Javascript object>"
      ]
     },
     "metadata": {},
     "output_type": "display_data"
    },
    {
     "data": {
      "text/markdown": [
       "<span style=\"color:#33cc99\">Solution:</span> \n",
       "```python\n",
       "def sign(x):\n",
       "    if x > 0:\n",
       "        return 1\n",
       "    elif x < 0:\n",
       "        return -1\n",
       "    else:\n",
       "        return 0\n",
       "```"
      ],
      "text/plain": [
       "Solution: \n",
       "```python\n",
       "def sign(x):\n",
       "    if x > 0:\n",
       "        return 1\n",
       "    elif x < 0:\n",
       "        return -1\n",
       "    else:\n",
       "        return 0\n",
       "```"
      ]
     },
     "metadata": {},
     "output_type": "display_data"
    }
   ],
   "source": [
    "q1.solution()"
   ]
  },
  {
   "cell_type": "markdown",
   "id": "29807740",
   "metadata": {
    "papermill": {
     "duration": 0.008623,
     "end_time": "2024-01-02T05:52:21.730672",
     "exception": false,
     "start_time": "2024-01-02T05:52:21.722049",
     "status": "completed"
    },
    "tags": []
   },
   "source": [
    "# 2.\n",
    "\n",
    "We've decided to add \"logging\" to our `to_smash` function from the previous exercise.\n",
    "# 2.\n",
    "\n",
    "前回の練習で作った`to_smash`関数に \"logging \"を追加することにした。"
   ]
  },
  {
   "cell_type": "code",
   "execution_count": 4,
   "id": "76dfd099",
   "metadata": {
    "execution": {
     "iopub.execute_input": "2024-01-02T05:52:21.751514Z",
     "iopub.status.busy": "2024-01-02T05:52:21.750290Z",
     "iopub.status.idle": "2024-01-02T05:52:21.758304Z",
     "shell.execute_reply": "2024-01-02T05:52:21.757358Z"
    },
    "papermill": {
     "duration": 0.020476,
     "end_time": "2024-01-02T05:52:21.760211",
     "exception": false,
     "start_time": "2024-01-02T05:52:21.739735",
     "status": "completed"
    },
    "tags": []
   },
   "outputs": [
    {
     "name": "stdout",
     "output_type": "stream",
     "text": [
      "Splitting 91 candies\n"
     ]
    },
    {
     "data": {
      "text/plain": [
       "1"
      ]
     },
     "execution_count": 4,
     "metadata": {},
     "output_type": "execute_result"
    }
   ],
   "source": [
    "def to_smash(total_candies):\n",
    "    \"\"\"Return the number of leftover candies that must be smashed after distributing\n",
    "    the given number of candies evenly between 3 friends.\n",
    "    \n",
    "    >>> to_smash(91)\n",
    "    1\n",
    "    \"\"\"\n",
    "    print(\"Splitting\", total_candies, \"candies\")\n",
    "    return total_candies % 3\n",
    "\n",
    "to_smash(91)"
   ]
  },
  {
   "cell_type": "markdown",
   "id": "fe45ed14",
   "metadata": {
    "papermill": {
     "duration": 0.0089,
     "end_time": "2024-01-02T05:52:21.778397",
     "exception": false,
     "start_time": "2024-01-02T05:52:21.769497",
     "status": "completed"
    },
    "tags": []
   },
   "source": [
    "What happens if we call it with `total_candies = 1`?"
   ]
  },
  {
   "cell_type": "code",
   "execution_count": 5,
   "id": "4d9d0c18",
   "metadata": {
    "execution": {
     "iopub.execute_input": "2024-01-02T05:52:21.799575Z",
     "iopub.status.busy": "2024-01-02T05:52:21.798810Z",
     "iopub.status.idle": "2024-01-02T05:52:21.805708Z",
     "shell.execute_reply": "2024-01-02T05:52:21.804964Z"
    },
    "papermill": {
     "duration": 0.01937,
     "end_time": "2024-01-02T05:52:21.807675",
     "exception": false,
     "start_time": "2024-01-02T05:52:21.788305",
     "status": "completed"
    },
    "tags": []
   },
   "outputs": [
    {
     "name": "stdout",
     "output_type": "stream",
     "text": [
      "Splitting 1 candies\n"
     ]
    },
    {
     "data": {
      "text/plain": [
       "1"
      ]
     },
     "execution_count": 5,
     "metadata": {},
     "output_type": "execute_result"
    }
   ],
   "source": [
    "to_smash(1)"
   ]
  },
  {
   "cell_type": "markdown",
   "id": "cc8daef6",
   "metadata": {
    "papermill": {
     "duration": 0.009164,
     "end_time": "2024-01-02T05:52:21.826454",
     "exception": false,
     "start_time": "2024-01-02T05:52:21.817290",
     "status": "completed"
    },
    "tags": []
   },
   "source": [
    "That isn't great grammar!\n",
    "\n",
    "Modify the definition in the cell below to correct the grammar of our print statement. (If there's only one candy, we should use the singular \"candy\" instead of the plural \"candies\")\n",
    "\n",
    "これは良い文法ではありません！\n",
    "\n",
    "下のセルの定義を修正して、print文の文法を修正しましょう。(キャンディが1つしかない場合は、複数形の \"candies \"ではなく、単数形の \"candy \"を使うべきである）。"
   ]
  },
  {
   "cell_type": "code",
   "execution_count": 6,
   "id": "e99f9019",
   "metadata": {
    "execution": {
     "iopub.execute_input": "2024-01-02T05:52:21.847535Z",
     "iopub.status.busy": "2024-01-02T05:52:21.846837Z",
     "iopub.status.idle": "2024-01-02T05:52:21.854673Z",
     "shell.execute_reply": "2024-01-02T05:52:21.853571Z"
    },
    "papermill": {
     "duration": 0.021038,
     "end_time": "2024-01-02T05:52:21.856962",
     "exception": false,
     "start_time": "2024-01-02T05:52:21.835924",
     "status": "completed"
    },
    "tags": []
   },
   "outputs": [
    {
     "name": "stdout",
     "output_type": "stream",
     "text": [
      "Splitting 91 candies\n",
      "Splitting 1 candy\n"
     ]
    },
    {
     "data": {
      "text/plain": [
       "1"
      ]
     },
     "execution_count": 6,
     "metadata": {},
     "output_type": "execute_result"
    }
   ],
   "source": [
    "def to_smash(total_candies):\n",
    "    if total_candies == 1:\n",
    "        print(\"Splitting 1 candy\")\n",
    "    else:\n",
    "        print(\"Splitting\", total_candies, \"candies\")\n",
    "    return total_candies % 3\n",
    "\n",
    "to_smash(91)\n",
    "to_smash(1)\n",
    "\n"
   ]
  },
  {
   "cell_type": "markdown",
   "id": "815cf8a7",
   "metadata": {
    "papermill": {
     "duration": 0.009276,
     "end_time": "2024-01-02T05:52:21.875913",
     "exception": false,
     "start_time": "2024-01-02T05:52:21.866637",
     "status": "completed"
    },
    "tags": []
   },
   "source": [
    "To get credit for completing this problem, and to see the official answer, run the code cell below."
   ]
  },
  {
   "cell_type": "code",
   "execution_count": 7,
   "id": "3088ec77",
   "metadata": {
    "execution": {
     "iopub.execute_input": "2024-01-02T05:52:21.896923Z",
     "iopub.status.busy": "2024-01-02T05:52:21.896517Z",
     "iopub.status.idle": "2024-01-02T05:52:21.904768Z",
     "shell.execute_reply": "2024-01-02T05:52:21.903730Z"
    },
    "papermill": {
     "duration": 0.021402,
     "end_time": "2024-01-02T05:52:21.906903",
     "exception": false,
     "start_time": "2024-01-02T05:52:21.885501",
     "status": "completed"
    },
    "tags": []
   },
   "outputs": [
    {
     "data": {
      "application/javascript": [
       "parent.postMessage({\"jupyterEvent\": \"custom.exercise_interaction\", \"data\": {\"interactionType\": 3, \"questionType\": 4, \"questionId\": \"2_PluralizationProblem\", \"learnToolsVersion\": \"0.3.4\", \"valueTowardsCompletion\": 0.0, \"failureMessage\": \"\", \"exceptionClass\": \"\", \"trace\": \"\", \"outcomeType\": 4}}, \"*\")"
      ],
      "text/plain": [
       "<IPython.core.display.Javascript object>"
      ]
     },
     "metadata": {},
     "output_type": "display_data"
    },
    {
     "data": {
      "text/markdown": [
       "<span style=\"color:#33cc99\">Solution:</span> A straightforward (and totally fine) solution is to replace the original `print` call with:\n",
       "\n",
       "```python\n",
       "if total_candies == 1:\n",
       "    print(\"Splitting 1 candy\")\n",
       "else:\n",
       "    print(\"Splitting\", total_candies, \"candies\")\n",
       "```\n",
       "\n",
       "Here's a slightly more succinct solution using a conditional expression:\n",
       "\n",
       "```python\n",
       "print(\"Splitting\", total_candies, \"candy\" if total_candies == 1 else \"candies\")\n",
       "```"
      ],
      "text/plain": [
       "Solution: A straightforward (and totally fine) solution is to replace the original `print` call with:\n",
       "\n",
       "```python\n",
       "if total_candies == 1:\n",
       "    print(\"Splitting 1 candy\")\n",
       "else:\n",
       "    print(\"Splitting\", total_candies, \"candies\")\n",
       "```\n",
       "\n",
       "Here's a slightly more succinct solution using a conditional expression:\n",
       "\n",
       "```python\n",
       "print(\"Splitting\", total_candies, \"candy\" if total_candies == 1 else \"candies\")\n",
       "```"
      ]
     },
     "metadata": {},
     "output_type": "display_data"
    }
   ],
   "source": [
    "# Check your answer (Run this code cell to receive credit!)\n",
    "q2.solution()"
   ]
  },
  {
   "cell_type": "markdown",
   "id": "a6359621",
   "metadata": {
    "papermill": {
     "duration": 0.009505,
     "end_time": "2024-01-02T05:52:21.926679",
     "exception": false,
     "start_time": "2024-01-02T05:52:21.917174",
     "status": "completed"
    },
    "tags": []
   },
   "source": [
    "# 3. <span title=\"A bit spicy\" style=\"color: darkgreen \">🌶️</span>\n",
    "\n",
    "In the tutorial, we talked about deciding whether we're prepared for the weather. I said that I'm safe from today's weather if...\n",
    "- I have an umbrella...\n",
    "- or if the rain isn't too heavy and I have a hood...\n",
    "- otherwise, I'm still fine unless it's raining *and* it's a workday\n",
    "\n",
    "The function below uses our first attempt at turning this logic into a Python expression. I claimed that there was a bug in that code. Can you find it?\n",
    "\n",
    "To prove that `prepared_for_weather` is buggy, come up with a set of inputs where either:\n",
    "- the function returns `False` (but should have returned `True`), or\n",
    "- the function returned `True` (but should have returned `False`).\n",
    "\n",
    "To get credit for completing this question, your code should return a <font color='#33cc33'>Correct</font> result.\n",
    "\n",
    "チュートリアルでは、天気に備えているかどうかを判断することについて話した。私は、今日の天気は次のような場合に安全であると言った。\n",
    "- 傘を持っている\n",
    "- 雨がひどくなくてフードがあれば...。\n",
    "- そうでなければ、雨が降っていない限りは大丈夫だ。\n",
    "\n",
    "下の関数は、このロジックをPython式にする最初の試みを使っている。私はこのコードにバグがあると主張した。見つけられますか？\n",
    "\n",
    "prepared_for_weather`がバグであることを証明するために、以下のような入力セットを考えてください：\n",
    "- 関数が `False` を返す（しかし `True` を返すべきだった）、または\n",
    "- 関数が `True` を返した（しかし `False` を返すべきだった）。\n",
    "\n",
    "この問題の単位を取得するには、あなたのコードは以下を返す必要があります。"
   ]
  },
  {
   "cell_type": "code",
   "execution_count": 8,
   "id": "0c39e0f0",
   "metadata": {
    "execution": {
     "iopub.execute_input": "2024-01-02T05:52:21.949604Z",
     "iopub.status.busy": "2024-01-02T05:52:21.948956Z",
     "iopub.status.idle": "2024-01-02T05:52:21.960755Z",
     "shell.execute_reply": "2024-01-02T05:52:21.959629Z"
    },
    "papermill": {
     "duration": 0.025713,
     "end_time": "2024-01-02T05:52:21.963191",
     "exception": false,
     "start_time": "2024-01-02T05:52:21.937478",
     "status": "completed"
    },
    "tags": []
   },
   "outputs": [
    {
     "name": "stdout",
     "output_type": "stream",
     "text": [
      "False\n"
     ]
    },
    {
     "data": {
      "application/javascript": [
       "parent.postMessage({\"jupyterEvent\": \"custom.exercise_interaction\", \"data\": {\"outcomeType\": 1, \"valueTowardsCompletion\": 0.2, \"interactionType\": 1, \"questionType\": 1, \"questionId\": \"3_WeatherDebug\", \"learnToolsVersion\": \"0.3.4\", \"failureMessage\": \"\", \"exceptionClass\": \"\", \"trace\": \"\"}}, \"*\")"
      ],
      "text/plain": [
       "<IPython.core.display.Javascript object>"
      ]
     },
     "metadata": {},
     "output_type": "display_data"
    },
    {
     "data": {
      "text/markdown": [
       "<span style=\"color:#33cc33\">Correct:</span> \n",
       "\n",
       "One example of a failing test case is:\n",
       "\n",
       "```python\n",
       "have_umbrella = False\n",
       "rain_level = 0.0\n",
       "have_hood = False\n",
       "is_workday = False\n",
       "```\n",
       "\n",
       "Clearly we're prepared for the weather in this case. It's not raining. Not only that, it's not a workday, so we don't even need to leave the house! But our function will return False on these inputs.\n",
       "\n",
       "The key problem is that Python implictly parenthesizes the last part as:\n",
       "\n",
       "```python\n",
       "(not (rain_level > 0)) and is_workday\n",
       "```\n",
       "\n",
       "Whereas what we were trying to express would look more like:\n",
       "\n",
       "```python\n",
       "not (rain_level > 0 and is_workday)\n",
       "```\n"
      ],
      "text/plain": [
       "Correct: \n",
       "\n",
       "One example of a failing test case is:\n",
       "\n",
       "```python\n",
       "have_umbrella = False\n",
       "rain_level = 0.0\n",
       "have_hood = False\n",
       "is_workday = False\n",
       "```\n",
       "\n",
       "Clearly we're prepared for the weather in this case. It's not raining. Not only that, it's not a workday, so we don't even need to leave the house! But our function will return False on these inputs.\n",
       "\n",
       "The key problem is that Python implictly parenthesizes the last part as:\n",
       "\n",
       "```python\n",
       "(not (rain_level > 0)) and is_workday\n",
       "```\n",
       "\n",
       "Whereas what we were trying to express would look more like:\n",
       "\n",
       "```python\n",
       "not (rain_level > 0 and is_workday)\n",
       "```"
      ]
     },
     "metadata": {},
     "output_type": "display_data"
    }
   ],
   "source": [
    "def prepared_for_weather(have_umbrella, rain_level, have_hood, is_workday):\n",
    "    # Don't change this code. Our goal is just to find the bug, not fix it!\n",
    "   \n",
    "    return have_umbrella or rain_level < 5 and have_hood or (not (rain_level > 0)) and is_workday\n",
    "\n",
    "# Change the values of these inputs so they represent a case where prepared_for_weather\n",
    "# returns the wrong answer.\n",
    "have_umbrella = False\n",
    "rain_level = 0.0\n",
    "have_hood = False\n",
    "is_workday = False\n",
    "\n",
    "# Check what the function returns given the current values of the variables above\n",
    "actual = prepared_for_weather(have_umbrella, rain_level, have_hood, is_workday)\n",
    "print(actual)\n",
    "\n",
    "# Check your answer\n",
    "q3.check()"
   ]
  },
  {
   "cell_type": "code",
   "execution_count": 9,
   "id": "feee3b69",
   "metadata": {
    "execution": {
     "iopub.execute_input": "2024-01-02T05:52:21.985731Z",
     "iopub.status.busy": "2024-01-02T05:52:21.985302Z",
     "iopub.status.idle": "2024-01-02T05:52:21.993945Z",
     "shell.execute_reply": "2024-01-02T05:52:21.992918Z"
    },
    "papermill": {
     "duration": 0.022443,
     "end_time": "2024-01-02T05:52:21.996054",
     "exception": false,
     "start_time": "2024-01-02T05:52:21.973611",
     "status": "completed"
    },
    "tags": []
   },
   "outputs": [
    {
     "data": {
      "application/javascript": [
       "parent.postMessage({\"jupyterEvent\": \"custom.exercise_interaction\", \"data\": {\"interactionType\": 3, \"questionType\": 1, \"questionId\": \"3_WeatherDebug\", \"learnToolsVersion\": \"0.3.4\", \"valueTowardsCompletion\": 0.0, \"failureMessage\": \"\", \"exceptionClass\": \"\", \"trace\": \"\", \"outcomeType\": 4}}, \"*\")"
      ],
      "text/plain": [
       "<IPython.core.display.Javascript object>"
      ]
     },
     "metadata": {},
     "output_type": "display_data"
    },
    {
     "data": {
      "text/markdown": [
       "<span style=\"color:#33cc99\">Solution:</span> One example of a failing test case is:\n",
       "\n",
       "```python\n",
       "have_umbrella = False\n",
       "rain_level = 0.0\n",
       "have_hood = False\n",
       "is_workday = False\n",
       "```\n",
       "\n",
       "Clearly we're prepared for the weather in this case. It's not raining. Not only that, it's not a workday, so we don't even need to leave the house! But our function will return False on these inputs.\n",
       "\n",
       "The key problem is that Python implictly parenthesizes the last part as:\n",
       "\n",
       "```python\n",
       "(not (rain_level > 0)) and is_workday\n",
       "```\n",
       "\n",
       "Whereas what we were trying to express would look more like:\n",
       "\n",
       "```python\n",
       "not (rain_level > 0 and is_workday)\n",
       "```\n"
      ],
      "text/plain": [
       "Solution: One example of a failing test case is:\n",
       "\n",
       "```python\n",
       "have_umbrella = False\n",
       "rain_level = 0.0\n",
       "have_hood = False\n",
       "is_workday = False\n",
       "```\n",
       "\n",
       "Clearly we're prepared for the weather in this case. It's not raining. Not only that, it's not a workday, so we don't even need to leave the house! But our function will return False on these inputs.\n",
       "\n",
       "The key problem is that Python implictly parenthesizes the last part as:\n",
       "\n",
       "```python\n",
       "(not (rain_level > 0)) and is_workday\n",
       "```\n",
       "\n",
       "Whereas what we were trying to express would look more like:\n",
       "\n",
       "```python\n",
       "not (rain_level > 0 and is_workday)\n",
       "```"
      ]
     },
     "metadata": {},
     "output_type": "display_data"
    }
   ],
   "source": [
    "#q3.hint()\n",
    "q3.solution()"
   ]
  },
  {
   "cell_type": "markdown",
   "id": "bf650010",
   "metadata": {
    "papermill": {
     "duration": 0.010393,
     "end_time": "2024-01-02T05:52:22.017149",
     "exception": false,
     "start_time": "2024-01-02T05:52:22.006756",
     "status": "completed"
    },
    "tags": []
   },
   "source": [
    "# 4.\n",
    "\n",
    "The function `is_negative` below is implemented correctly - it returns True if the given number is negative and False otherwise.\n",
    "\n",
    "However, it's more verbose than it needs to be. We can actually reduce the number of lines of code in this function by *75%* while keeping the same behaviour. \n",
    "\n",
    "See if you can come up with an equivalent body that uses just **one line** of code, and put it in the function `concise_is_negative`. (HINT: you don't even need Python's ternary syntax)\n",
    "\n",
    "# 4.\n",
    "\n",
    "以下の関数 `is_negative` は正しく実装されている - 与えられた数値が負であれば真を返し、そうでなければ偽を返す。\n",
    "\n",
    "しかし、必要以上に冗長です。同じ動作を保ちながら、この関数のコード行数を*75%*減らすことができます。\n",
    "\n",
    "たった**1行**のコードで等価なボディを思いついたら、それを関数 `concise_is_negative` に入れてみてください。(ヒント：Pythonの3項構文は必要ありません。）"
   ]
  },
  {
   "cell_type": "code",
   "execution_count": 10,
   "id": "2030ab32",
   "metadata": {
    "execution": {
     "iopub.execute_input": "2024-01-02T05:52:22.040462Z",
     "iopub.status.busy": "2024-01-02T05:52:22.039331Z",
     "iopub.status.idle": "2024-01-02T05:52:22.047691Z",
     "shell.execute_reply": "2024-01-02T05:52:22.046766Z"
    },
    "papermill": {
     "duration": 0.022353,
     "end_time": "2024-01-02T05:52:22.049907",
     "exception": false,
     "start_time": "2024-01-02T05:52:22.027554",
     "status": "completed"
    },
    "tags": []
   },
   "outputs": [
    {
     "data": {
      "application/javascript": [
       "parent.postMessage({\"jupyterEvent\": \"custom.exercise_interaction\", \"data\": {\"outcomeType\": 1, \"valueTowardsCompletion\": 0.2, \"interactionType\": 1, \"questionType\": 2, \"questionId\": \"4_ConciseIsNegative\", \"learnToolsVersion\": \"0.3.4\", \"failureMessage\": \"\", \"exceptionClass\": \"\", \"trace\": \"\"}}, \"*\")"
      ],
      "text/plain": [
       "<IPython.core.display.Javascript object>"
      ]
     },
     "metadata": {},
     "output_type": "display_data"
    },
    {
     "data": {
      "text/markdown": [
       "<span style=\"color:#33cc33\">Correct</span>"
      ],
      "text/plain": [
       "Correct"
      ]
     },
     "metadata": {},
     "output_type": "display_data"
    }
   ],
   "source": [
    "def is_negative(number):\n",
    "    if number < 0:\n",
    "        return True\n",
    "    else:\n",
    "        return False\n",
    "\n",
    "def concise_is_negative(number):\n",
    "    pass # Your code goes here (try to keep it to one line!)\n",
    "    return number < 0\n",
    "# Check your answer\n",
    "q4.check()"
   ]
  },
  {
   "cell_type": "code",
   "execution_count": 11,
   "id": "805197cd",
   "metadata": {
    "execution": {
     "iopub.execute_input": "2024-01-02T05:52:22.133990Z",
     "iopub.status.busy": "2024-01-02T05:52:22.132943Z",
     "iopub.status.idle": "2024-01-02T05:52:22.141769Z",
     "shell.execute_reply": "2024-01-02T05:52:22.140752Z"
    },
    "papermill": {
     "duration": 0.08322,
     "end_time": "2024-01-02T05:52:22.144161",
     "exception": false,
     "start_time": "2024-01-02T05:52:22.060941",
     "status": "completed"
    },
    "tags": []
   },
   "outputs": [
    {
     "data": {
      "application/javascript": [
       "parent.postMessage({\"jupyterEvent\": \"custom.exercise_interaction\", \"data\": {\"interactionType\": 3, \"questionType\": 2, \"questionId\": \"4_ConciseIsNegative\", \"learnToolsVersion\": \"0.3.4\", \"valueTowardsCompletion\": 0.0, \"failureMessage\": \"\", \"exceptionClass\": \"\", \"trace\": \"\", \"outcomeType\": 4}}, \"*\")"
      ],
      "text/plain": [
       "<IPython.core.display.Javascript object>"
      ]
     },
     "metadata": {},
     "output_type": "display_data"
    },
    {
     "data": {
      "text/markdown": [
       "<span style=\"color:#33cc99\">Solution:</span> \n",
       "```python\n",
       "return number < 0\n",
       "```"
      ],
      "text/plain": [
       "Solution: \n",
       "```python\n",
       "return number < 0\n",
       "```"
      ]
     },
     "metadata": {},
     "output_type": "display_data"
    }
   ],
   "source": [
    "#q4.hint()\n",
    "q4.solution()"
   ]
  },
  {
   "cell_type": "markdown",
   "id": "6365f28a",
   "metadata": {
    "papermill": {
     "duration": 0.010861,
     "end_time": "2024-01-02T05:52:22.166385",
     "exception": false,
     "start_time": "2024-01-02T05:52:22.155524",
     "status": "completed"
    },
    "tags": []
   },
   "source": [
    "# 5a.\n",
    "\n",
    "The boolean variables `ketchup`, `mustard` and `onion` represent whether a customer wants a particular topping on their hot dog. We want to implement a number of boolean functions that correspond to some yes-or-no questions about the customer's order. For example:\n",
    "\n",
    "# 5a.\n",
    "\n",
    "ブール変数 `ketchup`, `mustard`, `onion` は、顧客がホットドッグに特定のトッピングを望むかどうかを表す。我々は、顧客の注文に関するイエスかノーかの質問に対応するいくつかのブーリアン関数を実装したい。例えば"
   ]
  },
  {
   "cell_type": "code",
   "execution_count": 12,
   "id": "737b9861",
   "metadata": {
    "execution": {
     "iopub.execute_input": "2024-01-02T05:52:22.190745Z",
     "iopub.status.busy": "2024-01-02T05:52:22.190366Z",
     "iopub.status.idle": "2024-01-02T05:52:22.194992Z",
     "shell.execute_reply": "2024-01-02T05:52:22.194107Z"
    },
    "papermill": {
     "duration": 0.019242,
     "end_time": "2024-01-02T05:52:22.196948",
     "exception": false,
     "start_time": "2024-01-02T05:52:22.177706",
     "status": "completed"
    },
    "tags": []
   },
   "outputs": [],
   "source": [
    "def onionless(ketchup, mustard, onion):\n",
    "    \"\"\"Return whether the customer doesn't want onions.\n",
    "    \"\"\"\n",
    "    return not onion"
   ]
  },
  {
   "cell_type": "code",
   "execution_count": 13,
   "id": "6fc5e7b8",
   "metadata": {
    "execution": {
     "iopub.execute_input": "2024-01-02T05:52:22.222014Z",
     "iopub.status.busy": "2024-01-02T05:52:22.221285Z",
     "iopub.status.idle": "2024-01-02T05:52:22.230175Z",
     "shell.execute_reply": "2024-01-02T05:52:22.229440Z"
    },
    "papermill": {
     "duration": 0.023518,
     "end_time": "2024-01-02T05:52:22.232086",
     "exception": false,
     "start_time": "2024-01-02T05:52:22.208568",
     "status": "completed"
    },
    "tags": []
   },
   "outputs": [
    {
     "data": {
      "application/javascript": [
       "parent.postMessage({\"jupyterEvent\": \"custom.exercise_interaction\", \"data\": {\"outcomeType\": 1, \"valueTowardsCompletion\": 0.2, \"interactionType\": 1, \"questionType\": 2, \"questionId\": \"5.1_AllToppings\", \"learnToolsVersion\": \"0.3.4\", \"failureMessage\": \"\", \"exceptionClass\": \"\", \"trace\": \"\"}}, \"*\")"
      ],
      "text/plain": [
       "<IPython.core.display.Javascript object>"
      ]
     },
     "metadata": {},
     "output_type": "display_data"
    },
    {
     "data": {
      "text/markdown": [
       "<span style=\"color:#33cc33\">Correct</span>"
      ],
      "text/plain": [
       "Correct"
      ]
     },
     "metadata": {},
     "output_type": "display_data"
    }
   ],
   "source": [
    "def wants_all_toppings(ketchup, mustard, onion):\n",
    "    \"\"\"Return whether the customer wants \"the works\" (all 3 toppings)\n",
    "    \"\"\"\n",
    "    pass\n",
    "    return ketchup and mustard and onion\n",
    "# Check your answer\n",
    "q5.a.check()"
   ]
  },
  {
   "cell_type": "code",
   "execution_count": 14,
   "id": "3b90b16a",
   "metadata": {
    "execution": {
     "iopub.execute_input": "2024-01-02T05:52:22.257425Z",
     "iopub.status.busy": "2024-01-02T05:52:22.256207Z",
     "iopub.status.idle": "2024-01-02T05:52:22.264743Z",
     "shell.execute_reply": "2024-01-02T05:52:22.263761Z"
    },
    "papermill": {
     "duration": 0.023558,
     "end_time": "2024-01-02T05:52:22.267178",
     "exception": false,
     "start_time": "2024-01-02T05:52:22.243620",
     "status": "completed"
    },
    "tags": []
   },
   "outputs": [
    {
     "data": {
      "application/javascript": [
       "parent.postMessage({\"jupyterEvent\": \"custom.exercise_interaction\", \"data\": {\"interactionType\": 3, \"questionType\": 2, \"questionId\": \"5.1_AllToppings\", \"learnToolsVersion\": \"0.3.4\", \"valueTowardsCompletion\": 0.0, \"failureMessage\": \"\", \"exceptionClass\": \"\", \"trace\": \"\", \"outcomeType\": 4}}, \"*\")"
      ],
      "text/plain": [
       "<IPython.core.display.Javascript object>"
      ]
     },
     "metadata": {},
     "output_type": "display_data"
    },
    {
     "data": {
      "text/markdown": [
       "<span style=\"color:#33cc99\">Solution:</span> \n",
       "```python\n",
       "return ketchup and mustard and onion\n",
       "```"
      ],
      "text/plain": [
       "Solution: \n",
       "```python\n",
       "return ketchup and mustard and onion\n",
       "```"
      ]
     },
     "metadata": {},
     "output_type": "display_data"
    }
   ],
   "source": [
    "#q5.a.hint()\n",
    "q5.a.solution()"
   ]
  },
  {
   "cell_type": "markdown",
   "id": "9a46427f",
   "metadata": {
    "papermill": {
     "duration": 0.012269,
     "end_time": "2024-01-02T05:52:22.291235",
     "exception": false,
     "start_time": "2024-01-02T05:52:22.278966",
     "status": "completed"
    },
    "tags": []
   },
   "source": [
    "# 5b.\n",
    "\n",
    "For the next function, fill in the body to match the English description in the docstring. "
   ]
  },
  {
   "cell_type": "code",
   "execution_count": 15,
   "id": "25dfcc49",
   "metadata": {
    "execution": {
     "iopub.execute_input": "2024-01-02T05:52:22.316626Z",
     "iopub.status.busy": "2024-01-02T05:52:22.316217Z",
     "iopub.status.idle": "2024-01-02T05:52:22.324861Z",
     "shell.execute_reply": "2024-01-02T05:52:22.323859Z"
    },
    "papermill": {
     "duration": 0.024077,
     "end_time": "2024-01-02T05:52:22.327193",
     "exception": false,
     "start_time": "2024-01-02T05:52:22.303116",
     "status": "completed"
    },
    "tags": []
   },
   "outputs": [
    {
     "data": {
      "application/javascript": [
       "parent.postMessage({\"jupyterEvent\": \"custom.exercise_interaction\", \"data\": {\"outcomeType\": 1, \"valueTowardsCompletion\": 0.2, \"interactionType\": 1, \"questionType\": 2, \"questionId\": \"5.2_PlainDog\", \"learnToolsVersion\": \"0.3.4\", \"failureMessage\": \"\", \"exceptionClass\": \"\", \"trace\": \"\"}}, \"*\")"
      ],
      "text/plain": [
       "<IPython.core.display.Javascript object>"
      ]
     },
     "metadata": {},
     "output_type": "display_data"
    },
    {
     "data": {
      "text/markdown": [
       "<span style=\"color:#33cc33\">Correct:</span> \n",
       "\n",
       "One solution looks like:\n",
       "```python\n",
       "return not ketchup and not mustard and not onion\n",
       "```\n",
       "\n",
       "We can also [\"factor out\" the nots](https://en.wikipedia.org/wiki/De_Morgan%27s_laws) to get:\n",
       "\n",
       "```python\n",
       "return not (ketchup or mustard or onion)\n",
       "```"
      ],
      "text/plain": [
       "Correct: \n",
       "\n",
       "One solution looks like:\n",
       "```python\n",
       "return not ketchup and not mustard and not onion\n",
       "```\n",
       "\n",
       "We can also [\"factor out\" the nots](https://en.wikipedia.org/wiki/De_Morgan%27s_laws) to get:\n",
       "\n",
       "```python\n",
       "return not (ketchup or mustard or onion)\n",
       "```"
      ]
     },
     "metadata": {},
     "output_type": "display_data"
    }
   ],
   "source": [
    "def wants_plain_hotdog(ketchup, mustard, onion):\n",
    "    \"\"\"Return whether the customer wants a plain hot dog with no toppings.\n",
    "    \"\"\"\n",
    "    pass\n",
    "    return not (ketchup or mustard or onion)\n",
    "\n",
    "# Check your answer\n",
    "q5.b.check()"
   ]
  },
  {
   "cell_type": "code",
   "execution_count": 16,
   "id": "e11d732e",
   "metadata": {
    "execution": {
     "iopub.execute_input": "2024-01-02T05:52:22.353376Z",
     "iopub.status.busy": "2024-01-02T05:52:22.352978Z",
     "iopub.status.idle": "2024-01-02T05:52:22.361954Z",
     "shell.execute_reply": "2024-01-02T05:52:22.360733Z"
    },
    "papermill": {
     "duration": 0.024614,
     "end_time": "2024-01-02T05:52:22.364138",
     "exception": false,
     "start_time": "2024-01-02T05:52:22.339524",
     "status": "completed"
    },
    "tags": []
   },
   "outputs": [
    {
     "data": {
      "application/javascript": [
       "parent.postMessage({\"jupyterEvent\": \"custom.exercise_interaction\", \"data\": {\"interactionType\": 3, \"questionType\": 2, \"questionId\": \"5.2_PlainDog\", \"learnToolsVersion\": \"0.3.4\", \"valueTowardsCompletion\": 0.0, \"failureMessage\": \"\", \"exceptionClass\": \"\", \"trace\": \"\", \"outcomeType\": 4}}, \"*\")"
      ],
      "text/plain": [
       "<IPython.core.display.Javascript object>"
      ]
     },
     "metadata": {},
     "output_type": "display_data"
    },
    {
     "data": {
      "text/markdown": [
       "<span style=\"color:#33cc99\">Solution:</span> One solution looks like:\n",
       "```python\n",
       "return not ketchup and not mustard and not onion\n",
       "```\n",
       "\n",
       "We can also [\"factor out\" the nots](https://en.wikipedia.org/wiki/De_Morgan%27s_laws) to get:\n",
       "\n",
       "```python\n",
       "return not (ketchup or mustard or onion)\n",
       "```"
      ],
      "text/plain": [
       "Solution: One solution looks like:\n",
       "```python\n",
       "return not ketchup and not mustard and not onion\n",
       "```\n",
       "\n",
       "We can also [\"factor out\" the nots](https://en.wikipedia.org/wiki/De_Morgan%27s_laws) to get:\n",
       "\n",
       "```python\n",
       "return not (ketchup or mustard or onion)\n",
       "```"
      ]
     },
     "metadata": {},
     "output_type": "display_data"
    }
   ],
   "source": [
    "#q5.b.hint()\n",
    "q5.b.solution()"
   ]
  },
  {
   "cell_type": "markdown",
   "id": "c315fa58",
   "metadata": {
    "papermill": {
     "duration": 0.0119,
     "end_time": "2024-01-02T05:52:22.388365",
     "exception": false,
     "start_time": "2024-01-02T05:52:22.376465",
     "status": "completed"
    },
    "tags": []
   },
   "source": [
    "# 5c.\n",
    "\n",
    "You know what to do: for the next function, fill in the body to match the English description in the docstring.\n",
    "\n",
    "# 5c.\n",
    "\n",
    "次の関数では、docstringの英語の説明と一致するようにボディを埋めてください。"
   ]
  },
  {
   "cell_type": "code",
   "execution_count": 17,
   "id": "583af53d",
   "metadata": {
    "execution": {
     "iopub.execute_input": "2024-01-02T05:52:22.415290Z",
     "iopub.status.busy": "2024-01-02T05:52:22.414908Z",
     "iopub.status.idle": "2024-01-02T05:52:22.424236Z",
     "shell.execute_reply": "2024-01-02T05:52:22.423264Z"
    },
    "papermill": {
     "duration": 0.025372,
     "end_time": "2024-01-02T05:52:22.426181",
     "exception": false,
     "start_time": "2024-01-02T05:52:22.400809",
     "status": "completed"
    },
    "tags": []
   },
   "outputs": [
    {
     "data": {
      "application/javascript": [
       "parent.postMessage({\"jupyterEvent\": \"custom.exercise_interaction\", \"data\": {\"outcomeType\": 1, \"valueTowardsCompletion\": 0.2, \"interactionType\": 1, \"questionType\": 2, \"questionId\": \"5.3_OneSauce\", \"learnToolsVersion\": \"0.3.4\", \"failureMessage\": \"\", \"exceptionClass\": \"\", \"trace\": \"\"}}, \"*\")"
      ],
      "text/plain": [
       "<IPython.core.display.Javascript object>"
      ]
     },
     "metadata": {},
     "output_type": "display_data"
    },
    {
     "data": {
      "text/markdown": [
       "<span style=\"color:#33cc33\">Correct</span>"
      ],
      "text/plain": [
       "Correct"
      ]
     },
     "metadata": {},
     "output_type": "display_data"
    }
   ],
   "source": [
    "def exactly_one_sauce(ketchup, mustard, onion):\n",
    "    \"\"\"Return whether the customer wants either ketchup or mustard, but not both.\n",
    "    (You may be familiar with this operation under the name \"exclusive or\")\n",
    "    \"\"\"\n",
    "    pass\n",
    "    return (ketchup and not mustard) or (mustard and not ketchup)\n",
    "# Check your answer\n",
    "q5.c.check()"
   ]
  },
  {
   "cell_type": "code",
   "execution_count": 18,
   "id": "9da6a330",
   "metadata": {
    "execution": {
     "iopub.execute_input": "2024-01-02T05:52:22.453192Z",
     "iopub.status.busy": "2024-01-02T05:52:22.452810Z",
     "iopub.status.idle": "2024-01-02T05:52:22.461120Z",
     "shell.execute_reply": "2024-01-02T05:52:22.460046Z"
    },
    "papermill": {
     "duration": 0.02449,
     "end_time": "2024-01-02T05:52:22.463185",
     "exception": false,
     "start_time": "2024-01-02T05:52:22.438695",
     "status": "completed"
    },
    "tags": []
   },
   "outputs": [
    {
     "data": {
      "application/javascript": [
       "parent.postMessage({\"jupyterEvent\": \"custom.exercise_interaction\", \"data\": {\"interactionType\": 3, \"questionType\": 2, \"questionId\": \"5.3_OneSauce\", \"learnToolsVersion\": \"0.3.4\", \"valueTowardsCompletion\": 0.0, \"failureMessage\": \"\", \"exceptionClass\": \"\", \"trace\": \"\", \"outcomeType\": 4}}, \"*\")"
      ],
      "text/plain": [
       "<IPython.core.display.Javascript object>"
      ]
     },
     "metadata": {},
     "output_type": "display_data"
    },
    {
     "data": {
      "text/markdown": [
       "<span style=\"color:#33cc99\">Solution:</span> \n",
       "```python\n",
       "return (ketchup and not mustard) or (mustard and not ketchup)\n",
       "```"
      ],
      "text/plain": [
       "Solution: \n",
       "```python\n",
       "return (ketchup and not mustard) or (mustard and not ketchup)\n",
       "```"
      ]
     },
     "metadata": {},
     "output_type": "display_data"
    }
   ],
   "source": [
    "#q5.c.hint()\n",
    "q5.c.solution()"
   ]
  },
  {
   "cell_type": "markdown",
   "id": "58dbc454",
   "metadata": {
    "papermill": {
     "duration": 0.012183,
     "end_time": "2024-01-02T05:52:22.487932",
     "exception": false,
     "start_time": "2024-01-02T05:52:22.475749",
     "status": "completed"
    },
    "tags": []
   },
   "source": [
    "# 6. <span title=\"A bit spicy\" style=\"color: darkgreen \">🌶️</span>\n",
    "\n",
    "We’ve seen that calling `bool()` on an integer returns `False` if it’s equal to 0 and `True` otherwise. What happens if we call `int()` on a bool? Try it out in the notebook cell below.\n",
    "\n",
    "Can you take advantage of this to write a succinct function that corresponds to the English sentence \"does the customer want exactly one topping?\"?\n",
    "\n",
    "整数に対して `bool()` を呼び出すと、それが 0 に等しければ `False` を返し、そうでなければ `True` を返すことがわかった。boolに対して`int()`を呼ぶとどうなるでしょうか？下のノートブックのセルで試してみてください。\n",
    "\n",
    "これを利用して、\"does the customer want exactly one topping? \"という英文に対応する簡潔な関数を書けますか？"
   ]
  },
  {
   "cell_type": "code",
   "execution_count": 19,
   "id": "d5125c66",
   "metadata": {
    "execution": {
     "iopub.execute_input": "2024-01-02T05:52:22.515286Z",
     "iopub.status.busy": "2024-01-02T05:52:22.514920Z",
     "iopub.status.idle": "2024-01-02T05:52:22.523338Z",
     "shell.execute_reply": "2024-01-02T05:52:22.522371Z"
    },
    "papermill": {
     "duration": 0.024597,
     "end_time": "2024-01-02T05:52:22.525392",
     "exception": false,
     "start_time": "2024-01-02T05:52:22.500795",
     "status": "completed"
    },
    "tags": []
   },
   "outputs": [
    {
     "data": {
      "application/javascript": [
       "parent.postMessage({\"jupyterEvent\": \"custom.exercise_interaction\", \"data\": {\"outcomeType\": 1, \"valueTowardsCompletion\": 0.2, \"interactionType\": 1, \"questionType\": 2, \"questionId\": \"6_OneTopping\", \"learnToolsVersion\": \"0.3.4\", \"failureMessage\": \"\", \"exceptionClass\": \"\", \"trace\": \"\"}}, \"*\")"
      ],
      "text/plain": [
       "<IPython.core.display.Javascript object>"
      ]
     },
     "metadata": {},
     "output_type": "display_data"
    },
    {
     "data": {
      "text/markdown": [
       "<span style=\"color:#33cc33\">Correct:</span> \n",
       "\n",
       "This condition would be pretty complicated to express using just `and`, `or` and `not`, but using boolean-to-integer conversion gives us this short solution:\n",
       "```python\n",
       "return (int(ketchup) + int(mustard) + int(onion)) == 1\n",
       "```\n",
       "\n",
       "Fun fact: we don't technically need to call `int` on the arguments. Just by doing addition with booleans, Python implicitly does the integer conversion. So we could also write...\n",
       "\n",
       "```python\n",
       "return (ketchup + mustard + onion) == 1\n",
       "```"
      ],
      "text/plain": [
       "Correct: \n",
       "\n",
       "This condition would be pretty complicated to express using just `and`, `or` and `not`, but using boolean-to-integer conversion gives us this short solution:\n",
       "```python\n",
       "return (int(ketchup) + int(mustard) + int(onion)) == 1\n",
       "```\n",
       "\n",
       "Fun fact: we don't technically need to call `int` on the arguments. Just by doing addition with booleans, Python implicitly does the integer conversion. So we could also write...\n",
       "\n",
       "```python\n",
       "return (ketchup + mustard + onion) == 1\n",
       "```"
      ]
     },
     "metadata": {},
     "output_type": "display_data"
    }
   ],
   "source": [
    "def exactly_one_topping(ketchup, mustard, onion):\n",
    "    \"\"\"Return whether the customer wants exactly one of the three available toppings\n",
    "    on their hot dog.\n",
    "    \"\"\"\n",
    "    pass\n",
    "    return (ketchup + mustard + onion) == 1\n",
    "# Check your answer\n",
    "q6.check()"
   ]
  },
  {
   "cell_type": "code",
   "execution_count": 20,
   "id": "d5afb5fa",
   "metadata": {
    "execution": {
     "iopub.execute_input": "2024-01-02T05:52:22.553155Z",
     "iopub.status.busy": "2024-01-02T05:52:22.552765Z",
     "iopub.status.idle": "2024-01-02T05:52:22.561598Z",
     "shell.execute_reply": "2024-01-02T05:52:22.560500Z"
    },
    "papermill": {
     "duration": 0.025447,
     "end_time": "2024-01-02T05:52:22.563820",
     "exception": false,
     "start_time": "2024-01-02T05:52:22.538373",
     "status": "completed"
    },
    "tags": []
   },
   "outputs": [
    {
     "data": {
      "application/javascript": [
       "parent.postMessage({\"jupyterEvent\": \"custom.exercise_interaction\", \"data\": {\"interactionType\": 3, \"questionType\": 2, \"questionId\": \"6_OneTopping\", \"learnToolsVersion\": \"0.3.4\", \"valueTowardsCompletion\": 0.0, \"failureMessage\": \"\", \"exceptionClass\": \"\", \"trace\": \"\", \"outcomeType\": 4}}, \"*\")"
      ],
      "text/plain": [
       "<IPython.core.display.Javascript object>"
      ]
     },
     "metadata": {},
     "output_type": "display_data"
    },
    {
     "data": {
      "text/markdown": [
       "<span style=\"color:#33cc99\">Solution:</span> This condition would be pretty complicated to express using just `and`, `or` and `not`, but using boolean-to-integer conversion gives us this short solution:\n",
       "```python\n",
       "return (int(ketchup) + int(mustard) + int(onion)) == 1\n",
       "```\n",
       "\n",
       "Fun fact: we don't technically need to call `int` on the arguments. Just by doing addition with booleans, Python implicitly does the integer conversion. So we could also write...\n",
       "\n",
       "```python\n",
       "return (ketchup + mustard + onion) == 1\n",
       "```"
      ],
      "text/plain": [
       "Solution: This condition would be pretty complicated to express using just `and`, `or` and `not`, but using boolean-to-integer conversion gives us this short solution:\n",
       "```python\n",
       "return (int(ketchup) + int(mustard) + int(onion)) == 1\n",
       "```\n",
       "\n",
       "Fun fact: we don't technically need to call `int` on the arguments. Just by doing addition with booleans, Python implicitly does the integer conversion. So we could also write...\n",
       "\n",
       "```python\n",
       "return (ketchup + mustard + onion) == 1\n",
       "```"
      ]
     },
     "metadata": {},
     "output_type": "display_data"
    }
   ],
   "source": [
    "#q6.hint()\n",
    "q6.solution()"
   ]
  },
  {
   "cell_type": "markdown",
   "id": "86ce37d6",
   "metadata": {
    "papermill": {
     "duration": 0.012717,
     "end_time": "2024-01-02T05:52:22.589926",
     "exception": false,
     "start_time": "2024-01-02T05:52:22.577209",
     "status": "completed"
    },
    "tags": []
   },
   "source": [
    "# 7. <span title=\"A bit spicy\" style=\"color: darkgreen \">🌶️</span> (Optional)\n",
    "\n",
    "In this problem we'll be working with a simplified version of [blackjack](https://en.wikipedia.org/wiki/Blackjack) (aka twenty-one). In this version there is one player (who you'll control) and a dealer. Play proceeds as follows:\n",
    "\n",
    "- The player is dealt two face-up cards. The dealer is dealt one face-up card.\n",
    "- The player may ask to be dealt another card ('hit') as many times as they wish. If the sum of their cards exceeds 21, they lose the round immediately.\n",
    "- The dealer then deals additional cards to himself until either:\n",
    "    - the sum of the dealer's cards exceeds 21, in which case the player wins the round\n",
    "    - the sum of the dealer's cards is greater than or equal to 17. If the player's total is greater than the dealer's, the player wins. Otherwise, the dealer wins (even in case of a tie).\n",
    "    \n",
    "When calculating the sum of cards, Jack, Queen, and King count for 10. Aces can count as 1 or 11 (when referring to a player's \"total\" above, we mean the largest total that can be made without exceeding 21. So e.g. A+8 = 19, A+8+8 = 17)\n",
    "\n",
    "For this problem, you'll write a function representing the player's decision-making strategy in this game. We've provided a very unintelligent implementation below:\n",
    "\n",
    "この問題では，[ブラックジャック](https://en.wikipedia.org/wiki/Blackjack)(別名21)の簡略版を扱う．このバージョンでは，プレイヤーは一人(あなたが操作する)で，ディーラーは一人である．プレイは次のように進められる．\n",
    "\n",
    "- プレイヤーに表向きのカードが2枚配られる．ディーラーは表向きのカードを1枚配る。\n",
    "- プレイヤーは何度でも別のカードを配る（「ヒット」）ことができる。カードの合計が21を超えたら、そのラウンドは即座に負けとなる。\n",
    "- その後、ディーラーは次のいずれかになるまでカードを配り続ける：\n",
    "    - ディーラーのカードの合計が21を超えた場合。\n",
    "    - ディーラーのカードの合計が17以上になった場合。プレイヤーの合計がディーラーの合計を上回った場合、プレイヤーの勝ちとなる。それ以外の場合はディーラーの勝ちとなる（引き分けの場合も同様）。\n",
    "    \n",
    "カードの合計を計算する場合、ジャック、クイーン、キングは10と数える。エースは1または11と数えることができる（上記でプレイヤーの「合計」という場合、21を超えない最大の合計を意味する。例：A+8=19、A+8+8=17)\n",
    "\n",
    "この問題では、このゲームにおけるプレイヤーの意思決定戦略を表す関数を書くことになる。以下に，非常に不親切な実装を示す．"
   ]
  },
  {
   "cell_type": "code",
   "execution_count": 21,
   "id": "afab92c9",
   "metadata": {
    "execution": {
     "iopub.execute_input": "2024-01-02T05:52:22.619651Z",
     "iopub.status.busy": "2024-01-02T05:52:22.619243Z",
     "iopub.status.idle": "2024-01-02T05:52:22.624277Z",
     "shell.execute_reply": "2024-01-02T05:52:22.623224Z"
    },
    "papermill": {
     "duration": 0.023787,
     "end_time": "2024-01-02T05:52:22.626909",
     "exception": false,
     "start_time": "2024-01-02T05:52:22.603122",
     "status": "completed"
    },
    "tags": []
   },
   "outputs": [],
   "source": [
    "def should_hit(dealer_total, player_total, player_low_aces, player_high_aces):\n",
    "    \"\"\"Return True if the player should hit (request another card) given the current game\n",
    "    state, or False if the player should stay.\n",
    "    When calculating a hand's total value, we count aces as \"high\" (with value 11) if doing so\n",
    "    doesn't bring the total above 21, otherwise we count them as low (with value 1). \n",
    "    For example, if the player's hand is {A, A, A, 7}, we will count it as 11 + 1 + 1 + 7,\n",
    "    and therefore set player_total=20, player_low_aces=2, player_high_aces=1.\n",
    "    \"\"\"\n",
    "    return False"
   ]
  },
  {
   "cell_type": "markdown",
   "id": "5fd8f7fe",
   "metadata": {
    "papermill": {
     "duration": 0.012758,
     "end_time": "2024-01-02T05:52:22.653112",
     "exception": false,
     "start_time": "2024-01-02T05:52:22.640354",
     "status": "completed"
    },
    "tags": []
   },
   "source": [
    "This very conservative agent *always* sticks with the hand of two cards that they're dealt.\n",
    "\n",
    "We'll be simulating games between your player agent and our own dealer agent by calling your function.\n",
    "\n",
    "Try running the function below to see an example of a simulated game:\n",
    "\n",
    "この非常に保守的なエージェントは、配られた2枚のカードからなる手札を常に使用します。\n",
    "\n",
    "あなたの関数を呼び出して、プレイヤーエージェントとディーラーエージェントのゲームをシミュレートします。\n",
    "\n",
    "シミュレーションされたゲームの例を見るために、下の関数を実行してみてください："
   ]
  },
  {
   "cell_type": "code",
   "execution_count": 22,
   "id": "d303912b",
   "metadata": {
    "execution": {
     "iopub.execute_input": "2024-01-02T05:52:22.682491Z",
     "iopub.status.busy": "2024-01-02T05:52:22.682104Z",
     "iopub.status.idle": "2024-01-02T05:52:22.686648Z",
     "shell.execute_reply": "2024-01-02T05:52:22.685912Z"
    },
    "papermill": {
     "duration": 0.021516,
     "end_time": "2024-01-02T05:52:22.688768",
     "exception": false,
     "start_time": "2024-01-02T05:52:22.667252",
     "status": "completed"
    },
    "tags": []
   },
   "outputs": [
    {
     "name": "stdout",
     "output_type": "stream",
     "text": [
      "Player starts with 8 and Q (total = 18)\n",
      "Dealer starts with 5\n",
      "\n",
      "__Player's turn__\n",
      "Player stays\n",
      "\n",
      "__Dealer's turn__\n",
      "Dealer hits and receives 8. (total = 13)\n",
      "Dealer hits and receives 4. (total = 17)\n",
      "Dealer stands.\n",
      "Player wins. 18 > 17\n"
     ]
    }
   ],
   "source": [
    "q7.simulate_one_game()"
   ]
  },
  {
   "cell_type": "markdown",
   "id": "0edf1277",
   "metadata": {
    "papermill": {
     "duration": 0.013235,
     "end_time": "2024-01-02T05:52:22.715497",
     "exception": false,
     "start_time": "2024-01-02T05:52:22.702262",
     "status": "completed"
    },
    "tags": []
   },
   "source": [
    "The real test of your agent's mettle is their average win rate over many games. Try calling the function below to simulate 50000 games of blackjack (it may take a couple seconds):\n",
    "\n",
    "エージェントの本当の実力テストは，多くのゲームにおける平均勝率である．以下の関数を呼び出して、ブラックジャックの50000ゲームをシミュレートしてみてください(数秒かかるかもしれません)："
   ]
  },
  {
   "cell_type": "code",
   "execution_count": 23,
   "id": "d14c2962",
   "metadata": {
    "execution": {
     "iopub.execute_input": "2024-01-02T05:52:22.744654Z",
     "iopub.status.busy": "2024-01-02T05:52:22.743350Z",
     "iopub.status.idle": "2024-01-02T05:52:24.105744Z",
     "shell.execute_reply": "2024-01-02T05:52:24.104590Z"
    },
    "papermill": {
     "duration": 1.379479,
     "end_time": "2024-01-02T05:52:24.108271",
     "exception": false,
     "start_time": "2024-01-02T05:52:22.728792",
     "status": "completed"
    },
    "tags": []
   },
   "outputs": [
    {
     "name": "stdout",
     "output_type": "stream",
     "text": [
      "Player won 18971 out of 50000 games (win rate = 37.9%)\n"
     ]
    }
   ],
   "source": [
    "q7.simulate(n_games=50000)"
   ]
  },
  {
   "cell_type": "markdown",
   "id": "de8f704a",
   "metadata": {
    "papermill": {
     "duration": 0.013193,
     "end_time": "2024-01-02T05:52:24.135255",
     "exception": false,
     "start_time": "2024-01-02T05:52:24.122062",
     "status": "completed"
    },
    "tags": []
   },
   "source": [
    "Our dumb agent that completely ignores the game state still manages to win shockingly often!\n",
    "\n",
    "Try adding some more smarts to the `should_hit` function and see how it affects the results.\n",
    "\n",
    "ゲーム状態を完全に無視する私たちの間抜けなエージェントは、それでも驚くほど頻繁に勝つことに成功している！\n",
    "\n",
    "should_hit`関数にもう少し賢さを加えてみて、それが結果にどう影響するか見てみよう。"
   ]
  },
  {
   "cell_type": "code",
   "execution_count": 24,
   "id": "bec16235",
   "metadata": {
    "execution": {
     "iopub.execute_input": "2024-01-02T05:52:24.164956Z",
     "iopub.status.busy": "2024-01-02T05:52:24.164541Z",
     "iopub.status.idle": "2024-01-02T05:52:25.548271Z",
     "shell.execute_reply": "2024-01-02T05:52:25.547098Z"
    },
    "papermill": {
     "duration": 1.401603,
     "end_time": "2024-01-02T05:52:25.550650",
     "exception": false,
     "start_time": "2024-01-02T05:52:24.149047",
     "status": "completed"
    },
    "tags": []
   },
   "outputs": [
    {
     "name": "stdout",
     "output_type": "stream",
     "text": [
      "Player won 18980 out of 50000 games (win rate = 38.0%)\n"
     ]
    }
   ],
   "source": [
    "def should_hit(dealer_total, player_total, player_low_aces, player_high_aces):\n",
    "    \"\"\"Return True if the player should hit (request another card) given the current game\n",
    "    state, or False if the player should stay.\n",
    "    When calculating a hand's total value, we count aces as \"high\" (with value 11) if doing so\n",
    "    doesn't bring the total above 21, otherwise we count them as low (with value 1). \n",
    "    For example, if the player's hand is {A, A, A, 7}, we will count it as 11 + 1 + 1 + 7,\n",
    "    and therefore set player_total=20, player_low_aces=2, player_high_aces=1.\n",
    "    \"\"\"\n",
    "    return False\n",
    "\n",
    "q7.simulate(n_games=50000)"
   ]
  },
  {
   "cell_type": "markdown",
   "id": "78aca380",
   "metadata": {
    "papermill": {
     "duration": 0.013694,
     "end_time": "2024-01-02T05:52:25.578060",
     "exception": false,
     "start_time": "2024-01-02T05:52:25.564366",
     "status": "completed"
    },
    "tags": []
   },
   "source": [
    "# Keep Going\n",
    "\n",
    "Learn about **[lists and tuples](https://www.kaggle.com/colinmorris/lists)** to handle multiple items of data in a systematic way."
   ]
  },
  {
   "cell_type": "markdown",
   "id": "85d711b0",
   "metadata": {
    "papermill": {
     "duration": 0.01312,
     "end_time": "2024-01-02T05:52:25.604587",
     "exception": false,
     "start_time": "2024-01-02T05:52:25.591467",
     "status": "completed"
    },
    "tags": []
   },
   "source": [
    "---\n",
    "\n",
    "\n",
    "\n",
    "\n",
    "*Have questions or comments? Visit the [course discussion forum](https://www.kaggle.com/learn/python/discussion) to chat with other learners.*"
   ]
  }
 ],
 "metadata": {
  "kaggle": {
   "accelerator": "none",
   "dataSources": [],
   "isGpuEnabled": false,
   "isInternetEnabled": false,
   "language": "python",
   "sourceType": "notebook"
  },
  "kernelspec": {
   "display_name": "Python 3",
   "language": "python",
   "name": "python3"
  },
  "language_info": {
   "codemirror_mode": {
    "name": "ipython",
    "version": 3
   },
   "file_extension": ".py",
   "mimetype": "text/x-python",
   "name": "python",
   "nbconvert_exporter": "python",
   "pygments_lexer": "ipython3",
   "version": "3.10.12"
  },
  "learntools_metadata": {
   "lesson_index": 2,
   "type": "exercise"
  },
  "papermill": {
   "default_parameters": {},
   "duration": 8.040324,
   "end_time": "2024-01-02T05:52:26.138800",
   "environment_variables": {},
   "exception": null,
   "input_path": "__notebook__.ipynb",
   "output_path": "__notebook__.ipynb",
   "parameters": {},
   "start_time": "2024-01-02T05:52:18.098476",
   "version": "2.4.0"
  }
 },
 "nbformat": 4,
 "nbformat_minor": 5
}
