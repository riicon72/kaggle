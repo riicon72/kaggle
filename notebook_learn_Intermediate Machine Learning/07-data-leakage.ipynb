{
 "cells": [
  {
   "cell_type": "markdown",
   "id": "aeb377a8",
   "metadata": {
    "papermill": {
     "duration": 0.004429,
     "end_time": "2023-12-23T02:48:18.861587",
     "exception": false,
     "start_time": "2023-12-23T02:48:18.857158",
     "status": "completed"
    },
    "tags": []
   },
   "source": [
    "Most people find target leakage very tricky until they've thought about it for a long time.\n",
    "\n",
    "So, before trying to think about leakage in the housing price example, we'll go through a few examples in other applications. Things will feel more familiar once you come back to a question about house prices.\n",
    "\n",
    "# Setup\n",
    "\n",
    "The questions below will give you feedback on your answers. Run the following cell to set up the feedback system.\n",
    "\n",
    "ほとんどの人は、長い間考えてみるまで、目標漏洩は非常に厄介だと感じる。\n",
    "\n",
    "そこで、住宅価格の例でリーケージについて考えてみる前に、他の用途での例をいくつか見てみましょう。住宅価格に関する質問に戻ってくれば、事態はより身近なものに感じられるでしょう。\n",
    "\n",
    "# セットアップ\n",
    "\n",
    "以下の質問は、あなたの答えに対するフィードバックを与えます。フィードバックシステムをセットアップするために次のセルを実行してください。"
   ]
  },
  {
   "cell_type": "code",
   "execution_count": 1,
   "id": "486fd3b6",
   "metadata": {
    "execution": {
     "iopub.execute_input": "2023-12-23T02:48:18.871300Z",
     "iopub.status.busy": "2023-12-23T02:48:18.870748Z",
     "iopub.status.idle": "2023-12-23T02:48:19.262208Z",
     "shell.execute_reply": "2023-12-23T02:48:19.260325Z"
    },
    "papermill": {
     "duration": 0.399246,
     "end_time": "2023-12-23T02:48:19.264970",
     "exception": false,
     "start_time": "2023-12-23T02:48:18.865724",
     "status": "completed"
    },
    "tags": []
   },
   "outputs": [
    {
     "name": "stdout",
     "output_type": "stream",
     "text": [
      "Setup Complete\n"
     ]
    }
   ],
   "source": [
    "# Set up code checking\n",
    "from learntools.core import binder\n",
    "binder.bind(globals())\n",
    "from learntools.ml_intermediate.ex7 import *\n",
    "print(\"Setup Complete\")"
   ]
  },
  {
   "cell_type": "markdown",
   "id": "e4d1ecb3",
   "metadata": {
    "papermill": {
     "duration": 0.003304,
     "end_time": "2023-12-23T02:48:19.272099",
     "exception": false,
     "start_time": "2023-12-23T02:48:19.268795",
     "status": "completed"
    },
    "tags": []
   },
   "source": [
    "# Step 1: The Data Science of Shoelaces\n",
    "\n",
    "Nike has hired you as a data science consultant to help them save money on shoe materials. Your first assignment is to review a model one of their employees built to predict how many shoelaces they'll need each month. The features going into the machine learning model include:\n",
    "- The current month (January, February, etc)\n",
    "- Advertising expenditures in the previous month\n",
    "- Various macroeconomic features (like the unemployment rate) as of the beginning of the current month\n",
    "- The amount of leather they ended up using in the current month\n",
    "\n",
    "The results show the model is almost perfectly accurate if you include the feature about how much leather they used. But it is only moderately accurate if you leave that feature out. You realize this is because the amount of leather they use is a perfect indicator of how many shoes they produce, which in turn tells you how many shoelaces they need.\n",
    "\n",
    "Do you think the _leather used_ feature constitutes a source of data leakage? If your answer is \"it depends,\" what does it depend on?\n",
    "\n",
    "After you have thought about your answer, check it against the solution below.\n",
    "\n",
    "# ステップ1：靴紐のデータサイエンス\n",
    "\n",
    "ナイキはあなたをデータサイエンス・コンサルタントとして雇い、靴の材料費の節約を支援することにしました。あなたの最初の仕事は、毎月靴紐が何本必要になるかを予測するために、従業員の一人が構築したモデルをレビューすることです。機械学習モデルには以下のような特徴があります：\n",
    "- 現在の月（1月、2月など）\n",
    "- 前月の広告費\n",
    "- 当月初めのさまざまなマクロ経済的特徴（失業率など\n",
    "- 当月に使用したレザーの量\n",
    "\n",
    "その結果、皮革の使用量に関する特徴を含めれば、モデルはほぼ完璧に正確であることがわかる。しかし、その特徴を省くと、中程度にしか正確ではありません。これは、使用する革の量が靴の生産量の完璧な指標となり、靴紐の必要数がわかるからです。\n",
    "\n",
    "あなたは、使用した革の量がデータ漏洩の原因になると思いますか？もしあなたの答えが「場合による」なら、それは何に依存するのでしょうか？\n",
    "\n",
    "あなたの答えを考えたら、下の解答と照らし合わせてください。"
   ]
  },
  {
   "cell_type": "code",
   "execution_count": 2,
   "id": "98a00431",
   "metadata": {
    "execution": {
     "iopub.execute_input": "2023-12-23T02:48:19.282616Z",
     "iopub.status.busy": "2023-12-23T02:48:19.280643Z",
     "iopub.status.idle": "2023-12-23T02:48:19.290896Z",
     "shell.execute_reply": "2023-12-23T02:48:19.289171Z"
    },
    "papermill": {
     "duration": 0.017308,
     "end_time": "2023-12-23T02:48:19.293167",
     "exception": false,
     "start_time": "2023-12-23T02:48:19.275859",
     "status": "completed"
    },
    "tags": []
   },
   "outputs": [
    {
     "data": {
      "application/javascript": [
       "parent.postMessage({\"jupyterEvent\": \"custom.exercise_interaction\", \"data\": {\"outcomeType\": 1, \"valueTowardsCompletion\": 0.2, \"interactionType\": 1, \"questionType\": 4, \"questionId\": \"1_DataScienceOfShoelaces\", \"learnToolsVersion\": \"0.3.4\", \"failureMessage\": \"\", \"exceptionClass\": \"\", \"trace\": \"\"}}, \"*\")"
      ],
      "text/plain": [
       "<IPython.core.display.Javascript object>"
      ]
     },
     "metadata": {},
     "output_type": "display_data"
    },
    {
     "data": {
      "text/markdown": [
       "<span style=\"color:#33cc33\">Correct:</span> \n",
       "\n",
       "This is tricky, and it depends on details of how data is collected (which is common when thinking about leakage). Would you at the beginning of the month decide how much leather will be used that month? If so, this is ok. But if that is determined during the month, you would not have access to it when you make the prediction. If you have a guess at the beginning of the month, and it is subsequently changed during the month, the actual amount used during the month cannot be used as a feature (because it causes leakage)."
      ],
      "text/plain": [
       "Correct: \n",
       "\n",
       "This is tricky, and it depends on details of how data is collected (which is common when thinking about leakage). Would you at the beginning of the month decide how much leather will be used that month? If so, this is ok. But if that is determined during the month, you would not have access to it when you make the prediction. If you have a guess at the beginning of the month, and it is subsequently changed during the month, the actual amount used during the month cannot be used as a feature (because it causes leakage)."
      ]
     },
     "metadata": {},
     "output_type": "display_data"
    }
   ],
   "source": [
    "# Check your answer (Run this code cell to receive credit!)\n",
    "q_1.check()\n",
    "\n",
    "# これは厄介なことで、データがどのように収集されるのか（漏洩について考えるときによくあることだが）の詳細による。月の初めに、その月のレザーの使用量を決めるのでしょうか？もしそうなら、これは大丈夫です。しかし、それが月中に決定されるのであれば、予測を立てるときにそれを利用することはできないでしょう。月初に推測して、それが月の途中で変更された場合、その月の実際の使用量を特徴として使うことはできない（漏れが生じるから）。"
   ]
  },
  {
   "cell_type": "markdown",
   "id": "83e23f3d",
   "metadata": {
    "papermill": {
     "duration": 0.004297,
     "end_time": "2023-12-23T02:48:19.303300",
     "exception": false,
     "start_time": "2023-12-23T02:48:19.299003",
     "status": "completed"
    },
    "tags": []
   },
   "source": [
    "# Step 2: Return of the Shoelaces\n",
    "\n",
    "You have a new idea. You could use the amount of leather Nike ordered (rather than the amount they actually used) leading up to a given month as a predictor in your shoelace model.\n",
    "\n",
    "Does this change your answer about whether there is a leakage problem? If you answer \"it depends,\" what does it depend on?\n",
    "# ステップ2：靴ひもの返却\n",
    "\n",
    "あなたは新しいアイデアを思いついた。ある月までにナイキが注文した革の量（実際に使用した量ではなく）を靴ひもモデルの予測因子として使うことができます。\n",
    "\n",
    "これによって、漏れの問題があるかどうかについてのあなたの答えは変わるでしょうか？もし「場合による」と答えるなら、それは何によるのでしょうか？"
   ]
  },
  {
   "cell_type": "code",
   "execution_count": 3,
   "id": "24c98e79",
   "metadata": {
    "execution": {
     "iopub.execute_input": "2023-12-23T02:48:19.314309Z",
     "iopub.status.busy": "2023-12-23T02:48:19.313779Z",
     "iopub.status.idle": "2023-12-23T02:48:19.324907Z",
     "shell.execute_reply": "2023-12-23T02:48:19.322744Z"
    },
    "papermill": {
     "duration": 0.019345,
     "end_time": "2023-12-23T02:48:19.327598",
     "exception": false,
     "start_time": "2023-12-23T02:48:19.308253",
     "status": "completed"
    },
    "tags": []
   },
   "outputs": [
    {
     "data": {
      "application/javascript": [
       "parent.postMessage({\"jupyterEvent\": \"custom.exercise_interaction\", \"data\": {\"outcomeType\": 1, \"valueTowardsCompletion\": 0.2, \"interactionType\": 1, \"questionType\": 4, \"questionId\": \"2_RevengeOfShoelaces\", \"learnToolsVersion\": \"0.3.4\", \"failureMessage\": \"\", \"exceptionClass\": \"\", \"trace\": \"\"}}, \"*\")"
      ],
      "text/plain": [
       "<IPython.core.display.Javascript object>"
      ]
     },
     "metadata": {},
     "output_type": "display_data"
    },
    {
     "data": {
      "text/markdown": [
       "<span style=\"color:#33cc33\">Correct:</span> \n",
       "\n",
       "This could be fine, but it depends on whether they order shoelaces first or leather first. If they order shoelaces first, you won't know how much leather they've ordered when you predict their shoelace needs. If they order leather first, then you'll have that number available when you place your shoelace order, and you should be ok."
      ],
      "text/plain": [
       "Correct: \n",
       "\n",
       "This could be fine, but it depends on whether they order shoelaces first or leather first. If they order shoelaces first, you won't know how much leather they've ordered when you predict their shoelace needs. If they order leather first, then you'll have that number available when you place your shoelace order, and you should be ok."
      ]
     },
     "metadata": {},
     "output_type": "display_data"
    }
   ],
   "source": [
    "# Check your answer (Run this code cell to receive credit!)\n",
    "q_2.check()\n",
    "# しかし、靴紐を先に注文するか、革を先に注文するかによります。もし靴紐を先に注文されたら、靴紐の必要量を予測するときに、革の注文数がわからなくなります。もし革を先に注文するのであれば、靴ひもを注文するときにその数を把握しておけば大丈夫です。"
   ]
  },
  {
   "cell_type": "markdown",
   "id": "e7fb53a1",
   "metadata": {
    "papermill": {
     "duration": 0.003681,
     "end_time": "2023-12-23T02:48:19.336169",
     "exception": false,
     "start_time": "2023-12-23T02:48:19.332488",
     "status": "completed"
    },
    "tags": []
   },
   "source": [
    "# Step 3: Getting Rich With Cryptocurrencies?\n",
    "\n",
    "You saved Nike so much money that they gave you a bonus. Congratulations.\n",
    "\n",
    "Your friend, who is also a data scientist, says he has built a model that will let you turn your bonus into millions of dollars. Specifically, his model predicts the price of a new cryptocurrency (like Bitcoin, but a newer one) one day ahead of the moment of prediction. His plan is to purchase the cryptocurrency whenever the model says the price of the currency (in dollars) is about to go up.\n",
    "\n",
    "# ステップ3：暗号通貨で一攫千金？\n",
    "\n",
    "ナイキがボーナスを出すほど、あなたはお金を貯めた。おめでとう。\n",
    "\n",
    "データサイエンティストでもあるあなたの友人は、ボーナスを数百万ドルに変えられるモデルを構築したと言う。具体的には、彼のモデルは新しい暗号通貨（ビットコインのようなものだが、より新しいもの）の価格を、予測時点の1日前に予測する。彼の計画は、その暗号通貨（ドル建て）の価格が上がりそうだとモデルが言うたびに、その暗号通貨を購入するというものだ。\n",
    "\n",
    "The most important features in his model are:\n",
    "- Current price of the currency\n",
    "- Amount of the currency sold in the last 24 hours\n",
    "- Change in the currency price in the last 24 hours\n",
    "- Change in the currency price in the last 1 hour\n",
    "- Number of new tweets in the last 24 hours that mention the currency\n",
    "\n",
    "The value of the cryptocurrency in dollars has fluctuated up and down by over $\\$$100 in the last year, and yet his model's average error is less than $\\$$1. He says this is proof his model is accurate, and you should invest with him, buying the currency whenever the model says it is about to go up.\n",
    "\n",
    "Is he right? If there is a problem with his model, what is it?\n",
    "\n",
    "彼のモデルにおける最も重要な特徴は以下の通りである：\n",
    "- 通貨の現在価格\n",
    "- 過去24時間に売られた通貨の金額\n",
    "- 過去24時間の通貨価格の変化\n",
    "- 直近1時間の通貨価格の変化\n",
    "- 直近24時間における、その通貨に言及した新しいツイートの数\n",
    "\n",
    "ドル建ての暗号通貨の価値は、過去1年間で100ドル以上上下しているが、彼のモデルの平均誤差は1ドル未満である。彼は、これが彼のモデルが正確である証拠であり、モデルが通貨が上がりそうだと言うときはいつでも通貨を買って、彼と一緒に投資すべきだと言う。\n",
    "\n",
    "彼は正しいのだろうか？彼のモデルに問題があるとすれば、それは何でしょうか？"
   ]
  },
  {
   "cell_type": "code",
   "execution_count": 4,
   "id": "d9e93450",
   "metadata": {
    "execution": {
     "iopub.execute_input": "2023-12-23T02:48:19.346033Z",
     "iopub.status.busy": "2023-12-23T02:48:19.345578Z",
     "iopub.status.idle": "2023-12-23T02:48:19.356859Z",
     "shell.execute_reply": "2023-12-23T02:48:19.355023Z"
    },
    "papermill": {
     "duration": 0.019497,
     "end_time": "2023-12-23T02:48:19.359465",
     "exception": false,
     "start_time": "2023-12-23T02:48:19.339968",
     "status": "completed"
    },
    "tags": []
   },
   "outputs": [
    {
     "data": {
      "application/javascript": [
       "parent.postMessage({\"jupyterEvent\": \"custom.exercise_interaction\", \"data\": {\"outcomeType\": 1, \"valueTowardsCompletion\": 0.2, \"interactionType\": 1, \"questionType\": 4, \"questionId\": \"3_CryptoWealthJK\", \"learnToolsVersion\": \"0.3.4\", \"failureMessage\": \"\", \"exceptionClass\": \"\", \"trace\": \"\"}}, \"*\")"
      ],
      "text/plain": [
       "<IPython.core.display.Javascript object>"
      ]
     },
     "metadata": {},
     "output_type": "display_data"
    },
    {
     "data": {
      "text/markdown": [
       "<span style=\"color:#33cc33\">Correct:</span> \n",
       "\n",
       "There is no source of leakage here. These features should be available at the moment you want to make a predition, and they're unlikely to be changed in the training data after the prediction target is determined. But, the way he describes accuracy could be misleading if you aren't careful. If the price moves gradually, today's price will be an accurate predictor of tomorrow's price, but it may not tell you whether it's a good time to invest. For instance, if it is $100 today, a model predicting a price of $100 tomorrow may seem accurate, even if it can't tell you whether the price is going up or down from the current price. A better prediction target would be the change in price over the next day. If you can consistently predict whether the price is about to go up or down (and by how much), you may have a winning investment opportunity."
      ],
      "text/plain": [
       "Correct: \n",
       "\n",
       "There is no source of leakage here. These features should be available at the moment you want to make a predition, and they're unlikely to be changed in the training data after the prediction target is determined. But, the way he describes accuracy could be misleading if you aren't careful. If the price moves gradually, today's price will be an accurate predictor of tomorrow's price, but it may not tell you whether it's a good time to invest. For instance, if it is $100 today, a model predicting a price of $100 tomorrow may seem accurate, even if it can't tell you whether the price is going up or down from the current price. A better prediction target would be the change in price over the next day. If you can consistently predict whether the price is about to go up or down (and by how much), you may have a winning investment opportunity."
      ]
     },
     "metadata": {},
     "output_type": "display_data"
    }
   ],
   "source": [
    "# Check your answer (Run this code cell to receive credit!)\n",
    "q_3.check()\n",
    "\n",
    "# ここで漏れる原因はない。これらの特徴は、予測をしたい瞬間に利用できるはずで、予測対象が決定した後のトレーニングデータで変更される可能性は低い。しかし、精度の説明の仕方は気をつけないと誤解を招きかねない。価格が徐々に動く場合、今日の価格は明日の価格の正確な予測にはなるが、投資するのに良いタイミングかどうかはわからないかもしれない。\n",
    "#  100明日の価格は、現在の価格から上がるのか下がるのかわからなくても、正確なように見えるかもしれない。より良い予測対象は、翌日の価格の変化だろう。価格が上がるか下がるか（そしてどのくらい下がるか）を一貫して予測できれば、投資チャンスに恵まれるかもしれない。"
   ]
  },
  {
   "cell_type": "markdown",
   "id": "8fb1581a",
   "metadata": {
    "papermill": {
     "duration": 0.003982,
     "end_time": "2023-12-23T02:48:19.368264",
     "exception": false,
     "start_time": "2023-12-23T02:48:19.364282",
     "status": "completed"
    },
    "tags": []
   },
   "source": [
    "# Step 4: Preventing Infections\n",
    "\n",
    "An agency that provides healthcare wants to predict which patients from a rare surgery are at risk of infection, so it can alert the nurses to be especially careful when following up with those patients.\n",
    "\n",
    "You want to build a model. Each row in the modeling dataset will be a single patient who received the surgery, and the prediction target will be whether they got an infection.\n",
    "\n",
    "Some surgeons may do the procedure in a manner that raises or lowers the risk of infection. But how can you best incorporate the surgeon information into the model?\n",
    "\n",
    "# ステップ4：感染の予防\n",
    "\n",
    "医療を提供するある機関は、まれな手術で感染リスクがある患者を予測し、その患者をフォローアップする際に特に注意するよう看護師に警告できるようにしたいと考えています。\n",
    "\n",
    "あなたはモデルを構築したい。モデリング・データセットの各行は、手術を受けた1人の患者であり、予測対象は、その患者が感染症にかかったかどうかです。\n",
    "\n",
    "外科医によっては、感染リスクを上げたり下げたりする方法で手術を行うかもしれない。しかし、外科医の情報をどのようにモデルに組み込むのがベストなのでしょうか？\n",
    "\n",
    "You have a clever idea. \n",
    "1. Take all surgeries by each surgeon and calculate the infection rate among those surgeons.\n",
    "2. For each patient in the data, find out who the surgeon was and plug in that surgeon's average infection rate as a feature.\n",
    "\n",
    "Does this pose any target leakage issues?\n",
    "Does it pose any train-test contamination issues?\n",
    "\n",
    "賢い考えだ。\n",
    "1. 各外科医による全手術を集計し、その中の感染率を計算する。\n",
    "2. データ中の各患者について、外科医が誰であったかを調べ、その外科医の平均感染率を特徴として差し込む。\n",
    "\n",
    "これはターゲット漏れの問題を引き起こしますか？\n",
    "train-testコンタミネーションの問題はありますか？"
   ]
  },
  {
   "cell_type": "code",
   "execution_count": 5,
   "id": "4cb6874c",
   "metadata": {
    "execution": {
     "iopub.execute_input": "2023-12-23T02:48:19.378869Z",
     "iopub.status.busy": "2023-12-23T02:48:19.378409Z",
     "iopub.status.idle": "2023-12-23T02:48:19.387940Z",
     "shell.execute_reply": "2023-12-23T02:48:19.386825Z"
    },
    "papermill": {
     "duration": 0.017585,
     "end_time": "2023-12-23T02:48:19.390010",
     "exception": false,
     "start_time": "2023-12-23T02:48:19.372425",
     "status": "completed"
    },
    "tags": []
   },
   "outputs": [
    {
     "data": {
      "application/javascript": [
       "parent.postMessage({\"jupyterEvent\": \"custom.exercise_interaction\", \"data\": {\"outcomeType\": 1, \"valueTowardsCompletion\": 0.2, \"interactionType\": 1, \"questionType\": 4, \"questionId\": \"4_PreventingInfections\", \"learnToolsVersion\": \"0.3.4\", \"failureMessage\": \"\", \"exceptionClass\": \"\", \"trace\": \"\"}}, \"*\")"
      ],
      "text/plain": [
       "<IPython.core.display.Javascript object>"
      ]
     },
     "metadata": {},
     "output_type": "display_data"
    },
    {
     "data": {
      "text/markdown": [
       "<span style=\"color:#33cc33\">Correct:</span> \n",
       "\n",
       "This poses a risk of both target leakage and train-test contamination (though you may be able to avoid both if you are careful).\n",
       "\n",
       "You have target leakage if a given patient's outcome contributes to the infection rate for his surgeon, which is then plugged back into the prediction model for whether that patient becomes infected. You can avoid target leakage if you calculate the surgeon's infection rate by using only the surgeries before the patient we are predicting for. Calculating this for each surgery in your training data may be a little tricky.\n",
       "\n",
       "You also have a train-test contamination problem if you calculate this using all surgeries a surgeon performed, including those from the test-set. The result would be that your model could look very accurate on the test set, even if it wouldn't generalize well to new patients after the model is deployed. This would happen because the surgeon-risk feature accounts for data in the test set. Test sets exist to estimate how the model will do when seeing new data. So this contamination defeats the purpose of the test set."
      ],
      "text/plain": [
       "Correct: \n",
       "\n",
       "This poses a risk of both target leakage and train-test contamination (though you may be able to avoid both if you are careful).\n",
       "\n",
       "You have target leakage if a given patient's outcome contributes to the infection rate for his surgeon, which is then plugged back into the prediction model for whether that patient becomes infected. You can avoid target leakage if you calculate the surgeon's infection rate by using only the surgeries before the patient we are predicting for. Calculating this for each surgery in your training data may be a little tricky.\n",
       "\n",
       "You also have a train-test contamination problem if you calculate this using all surgeries a surgeon performed, including those from the test-set. The result would be that your model could look very accurate on the test set, even if it wouldn't generalize well to new patients after the model is deployed. This would happen because the surgeon-risk feature accounts for data in the test set. Test sets exist to estimate how the model will do when seeing new data. So this contamination defeats the purpose of the test set."
      ]
     },
     "metadata": {},
     "output_type": "display_data"
    }
   ],
   "source": [
    "# Check your answer (Run this code cell to receive credit!)\n",
    "q_4.check()\n",
    "\n",
    "# この場合、ターゲットリークと訓練とテストのコンタミネーションの両方のリスクがある（注意すればどちらも避けることができるかもしれないが）。\n",
    "\n",
    "# ある患者の転帰が外科医の感染率に寄与し、それがその患者が感染するかどうかの予測モデルに差し戻される場合、ターゲットリークが発生します。予測する患者より前の手術だけを用いて外科医の感染率を計算すれば、ターゲットリークを避けることができます。トレーニングデータの各手術についてこれを計算するのは少し厄介かもしれません。\n"
   ]
  },
  {
   "cell_type": "markdown",
   "id": "30e60d1c",
   "metadata": {
    "papermill": {
     "duration": 0.004639,
     "end_time": "2023-12-23T02:48:19.399342",
     "exception": false,
     "start_time": "2023-12-23T02:48:19.394703",
     "status": "completed"
    },
    "tags": []
   },
   "source": [
    "# Step 5: Housing Prices\n",
    "\n",
    "You will build a model to predict housing prices.  The model will be deployed on an ongoing basis, to predict the price of a new house when a description is added to a website.  Here are four features that could be used as predictors.\n",
    "1. Size of the house (in square meters)\n",
    "2. Average sales price of homes in the same neighborhood\n",
    "3. Latitude and longitude of the house\n",
    "4. Whether the house has a basement\n",
    "\n",
    "You have historic data to train and validate the model.\n",
    "\n",
    "Which of the features is most likely to be a source of leakage?\n",
    "\n",
    "# ステップ5：住宅価格\n",
    "\n",
    "あなたは住宅価格を予測するモデルを構築する。 このモデルは、ウェブサイトに説明が追加されたときに新しい家の価格を予測するために、継続的に導入されます。 予測因子として使用できる4つの特徴を示します。\n",
    "1. 家の大きさ（平方メートル）\n",
    "2. 同じ地域の住宅の平均販売価格\n",
    "3. 家の緯度と経度\n",
    "4. その家に地下室があるかどうか\n",
    "\n",
    "モデルの訓練と検証のために過去のデータがあります。\n",
    "\n",
    "どの特徴が漏水の原因である可能性が最も高いか？"
   ]
  },
  {
   "cell_type": "code",
   "execution_count": 6,
   "id": "b93d621d",
   "metadata": {
    "execution": {
     "iopub.execute_input": "2023-12-23T02:48:19.410465Z",
     "iopub.status.busy": "2023-12-23T02:48:19.410120Z",
     "iopub.status.idle": "2023-12-23T02:48:19.418993Z",
     "shell.execute_reply": "2023-12-23T02:48:19.417061Z"
    },
    "papermill": {
     "duration": 0.017666,
     "end_time": "2023-12-23T02:48:19.421762",
     "exception": false,
     "start_time": "2023-12-23T02:48:19.404096",
     "status": "completed"
    },
    "tags": []
   },
   "outputs": [
    {
     "data": {
      "application/javascript": [
       "parent.postMessage({\"jupyterEvent\": \"custom.exercise_interaction\", \"data\": {\"outcomeType\": 1, \"valueTowardsCompletion\": 0.2, \"interactionType\": 1, \"questionType\": 2, \"questionId\": \"5_HomeAgainLeakage\", \"learnToolsVersion\": \"0.3.4\", \"failureMessage\": \"\", \"exceptionClass\": \"\", \"trace\": \"\"}}, \"*\")"
      ],
      "text/plain": [
       "<IPython.core.display.Javascript object>"
      ]
     },
     "metadata": {},
     "output_type": "display_data"
    },
    {
     "data": {
      "text/markdown": [
       "<span style=\"color:#33cc33\">Correct:</span> \n",
       "\n",
       "2 is the source of target leakage. Here is an analysis for each feature: \n",
       "\n",
       "1. The size of a house is unlikely to be changed after it is sold (though technically it's possible). But typically this will be available when we need to make a prediction, and the data won't be modified after the home is sold. So it is pretty safe. \n",
       "\n",
       "2. We don't know the rules for when this is updated. If the field is updated in the raw data after a home was sold, and the home's sale is used to calculate the average, this constitutes a case of target leakage. At an extreme, if only one home is sold in the neighborhood, and it is the home we are trying to predict, then the average will be exactly equal to the value we are trying to predict.  In general, for neighborhoods with few sales, the model will perform very well on the training data.  But when you apply the model, the home you are predicting won't have been sold yet, so this feature won't work the same as it did in the training data. \n",
       "\n",
       "3. These don't change, and will be available at the time we want to make a prediction. So there's no risk of target leakage here. \n",
       "\n",
       "4. This also doesn't change, and it is available at the time we want to make a prediction. So there's no risk of target leakage here."
      ],
      "text/plain": [
       "Correct: \n",
       "\n",
       "2 is the source of target leakage. Here is an analysis for each feature: \n",
       "\n",
       "1. The size of a house is unlikely to be changed after it is sold (though technically it's possible). But typically this will be available when we need to make a prediction, and the data won't be modified after the home is sold. So it is pretty safe. \n",
       "\n",
       "2. We don't know the rules for when this is updated. If the field is updated in the raw data after a home was sold, and the home's sale is used to calculate the average, this constitutes a case of target leakage. At an extreme, if only one home is sold in the neighborhood, and it is the home we are trying to predict, then the average will be exactly equal to the value we are trying to predict.  In general, for neighborhoods with few sales, the model will perform very well on the training data.  But when you apply the model, the home you are predicting won't have been sold yet, so this feature won't work the same as it did in the training data. \n",
       "\n",
       "3. These don't change, and will be available at the time we want to make a prediction. So there's no risk of target leakage here. \n",
       "\n",
       "4. This also doesn't change, and it is available at the time we want to make a prediction. So there's no risk of target leakage here."
      ]
     },
     "metadata": {},
     "output_type": "display_data"
    }
   ],
   "source": [
    "# Fill in the line below with one of 1, 2, 3 or 4.\n",
    "potential_leakage_feature = 2\n",
    "\n",
    "# Check your answer\n",
    "q_5.check()"
   ]
  },
  {
   "cell_type": "code",
   "execution_count": 7,
   "id": "050ec84d",
   "metadata": {
    "execution": {
     "iopub.execute_input": "2023-12-23T02:48:19.433562Z",
     "iopub.status.busy": "2023-12-23T02:48:19.433188Z",
     "iopub.status.idle": "2023-12-23T02:48:19.437070Z",
     "shell.execute_reply": "2023-12-23T02:48:19.436184Z"
    },
    "papermill": {
     "duration": 0.013844,
     "end_time": "2023-12-23T02:48:19.440709",
     "exception": false,
     "start_time": "2023-12-23T02:48:19.426865",
     "status": "completed"
    },
    "tags": []
   },
   "outputs": [],
   "source": [
    "#q_5.hint()\n",
    "#q_5.solution()"
   ]
  },
  {
   "cell_type": "markdown",
   "id": "45496f3b",
   "metadata": {
    "papermill": {
     "duration": 0.004985,
     "end_time": "2023-12-23T02:48:19.451050",
     "exception": false,
     "start_time": "2023-12-23T02:48:19.446065",
     "status": "completed"
    },
    "tags": []
   },
   "source": [
    "# Conclusion\n",
    "Leakage is a hard and subtle issue. You should be proud if you picked up on the issues in these examples.\n",
    "\n",
    "Now you have the tools to make highly accurate models, and pick up on the most difficult practical problems that arise with applying these models to solve real problems.\n",
    "\n",
    "# 結論\n",
    "漏洩は難しく微妙な問題である。これらの例で問題点をピックアップできたなら、誇りに思うべきだ。\n",
    "\n",
    "これであなたは、精度の高いモデルを作るためのツールを手に入れ、これらのモデルを実際の問題解決に適用する際に発生する最も難しい実用的な問題をピックアップできるようになった。\n",
    "\n",
    "There is still a lot of room to build knowledge and experience. Try out a [Competition](https://www.kaggle.com/competitions) or look through our [Datasets](https://kaggle.com/datasets) to practice your new skills.\n",
    "\n",
    "Again, Congratulations!"
   ]
  },
  {
   "cell_type": "markdown",
   "id": "a9b49334",
   "metadata": {
    "papermill": {
     "duration": 0.004808,
     "end_time": "2023-12-23T02:48:19.460834",
     "exception": false,
     "start_time": "2023-12-23T02:48:19.456026",
     "status": "completed"
    },
    "tags": []
   },
   "source": [
    "---\n",
    "\n",
    "\n",
    "\n",
    "\n",
    "*Have questions or comments? Visit the [course discussion forum](https://www.kaggle.com/learn/intermediate-machine-learning/discussion) to chat with other learners.*"
   ]
  }
 ],
 "metadata": {
  "kaggle": {
   "accelerator": "none",
   "dataSources": [
    {
     "databundleVersionId": 111096,
     "sourceId": 10211,
     "sourceType": "competition"
    }
   ],
   "isGpuEnabled": false,
   "isInternetEnabled": false,
   "language": "python",
   "sourceType": "notebook"
  },
  "kernelspec": {
   "display_name": "Python 3",
   "language": "python",
   "name": "python3"
  },
  "language_info": {
   "codemirror_mode": {
    "name": "ipython",
    "version": 3
   },
   "file_extension": ".py",
   "mimetype": "text/x-python",
   "name": "python",
   "nbconvert_exporter": "python",
   "pygments_lexer": "ipython3",
   "version": "3.10.12"
  },
  "papermill": {
   "default_parameters": {},
   "duration": 3.961982,
   "end_time": "2023-12-23T02:48:19.987246",
   "environment_variables": {},
   "exception": null,
   "input_path": "__notebook__.ipynb",
   "output_path": "__notebook__.ipynb",
   "parameters": {},
   "start_time": "2023-12-23T02:48:16.025264",
   "version": "2.4.0"
  }
 },
 "nbformat": 4,
 "nbformat_minor": 5
}
