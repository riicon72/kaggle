{
 "cells": [
  {
   "cell_type": "markdown",
   "id": "f5310414",
   "metadata": {
    "papermill": {
     "duration": 0.01243,
     "end_time": "2023-12-14T14:28:14.796025",
     "exception": false,
     "start_time": "2023-12-14T14:28:14.783595",
     "status": "completed"
    },
    "tags": []
   },
   "source": [
    "**This notebook is an exercise in the [Intermediate Machine Learning](https://www.kaggle.com/learn/intermediate-machine-learning) course.  You can reference the tutorial at [this link](https://www.kaggle.com/alexisbcook/missing-values).**\n",
    "\n",
    "---\n"
   ]
  },
  {
   "cell_type": "markdown",
   "id": "81ee07be",
   "metadata": {
    "papermill": {
     "duration": 0.011283,
     "end_time": "2023-12-14T14:28:14.819318",
     "exception": false,
     "start_time": "2023-12-14T14:28:14.808035",
     "status": "completed"
    },
    "tags": []
   },
   "source": [
    "Now it's your turn to test your new knowledge of **missing values** handling. You'll probably find it makes a big difference.\n",
    "今度は、欠損値の処理に関する新しい知識を試す番だ。おそらく大きな違いがあることがわかるだろう。\n",
    "\n",
    "\n",
    "# Setup\n",
    "\n",
    "The questions will give you feedback on your work. Run the following cell to set up the feedback system.\n",
    "\n",
    "# セットアップ\n",
    "\n",
    "質問は、あなたの仕事に対するフィードバックを与えます。以下のセルを実行して、フィードバックシステムをセットアップしてください。"
   ]
  },
  {
   "cell_type": "code",
   "execution_count": 1,
   "id": "1fa19cac",
   "metadata": {
    "execution": {
     "iopub.execute_input": "2023-12-14T14:28:14.845218Z",
     "iopub.status.busy": "2023-12-14T14:28:14.844465Z",
     "iopub.status.idle": "2023-12-14T14:28:15.305801Z",
     "shell.execute_reply": "2023-12-14T14:28:15.305026Z"
    },
    "papermill": {
     "duration": 0.47673,
     "end_time": "2023-12-14T14:28:15.308110",
     "exception": false,
     "start_time": "2023-12-14T14:28:14.831380",
     "status": "completed"
    },
    "tags": []
   },
   "outputs": [
    {
     "name": "stdout",
     "output_type": "stream",
     "text": [
      "Setup Complete\n"
     ]
    }
   ],
   "source": [
    "# Set up code checking\n",
    "import os\n",
    "if not os.path.exists(\"../input/train.csv\"):\n",
    "    os.symlink(\"../input/home-data-for-ml-course/train.csv\", \"../input/train.csv\")  \n",
    "    os.symlink(\"../input/home-data-for-ml-course/test.csv\", \"../input/test.csv\") \n",
    "from learntools.core import binder\n",
    "binder.bind(globals())\n",
    "from learntools.ml_intermediate.ex2 import *\n",
    "print(\"Setup Complete\")"
   ]
  },
  {
   "cell_type": "markdown",
   "id": "ca2070a3",
   "metadata": {
    "papermill": {
     "duration": 0.011547,
     "end_time": "2023-12-14T14:28:15.331779",
     "exception": false,
     "start_time": "2023-12-14T14:28:15.320232",
     "status": "completed"
    },
    "tags": []
   },
   "source": [
    "In this exercise, you will work with data from the [Housing Prices Competition for Kaggle Learn Users](https://www.kaggle.com/c/home-data-for-ml-course). \n",
    "この演習では、以下のデータを使用します。\n",
    "\n",
    "![Ames Housing dataset image](https://storage.googleapis.com/kaggle-media/learn/images/lTJVG4e.png)\n",
    "\n",
    "Run the next code cell without changes to load the training and validation sets in `X_train`, `X_valid`, `y_train`, and `y_valid`.  The test set is loaded in `X_test`.\n",
    "X_train`, `X_valid`, `y_train`, `y_valid` にトレーニングセットと検証セットをロードする。 テストセットは `X_test` にロードされる。"
   ]
  },
  {
   "cell_type": "code",
   "execution_count": 2,
   "id": "f57617f7",
   "metadata": {
    "execution": {
     "iopub.execute_input": "2023-12-14T14:28:15.357905Z",
     "iopub.status.busy": "2023-12-14T14:28:15.357168Z",
     "iopub.status.idle": "2023-12-14T14:28:16.867682Z",
     "shell.execute_reply": "2023-12-14T14:28:16.866855Z"
    },
    "papermill": {
     "duration": 1.526657,
     "end_time": "2023-12-14T14:28:16.870435",
     "exception": false,
     "start_time": "2023-12-14T14:28:15.343778",
     "status": "completed"
    },
    "tags": []
   },
   "outputs": [],
   "source": [
    "import pandas as pd\n",
    "from sklearn.model_selection import train_test_split\n",
    "\n",
    "# Read the data\n",
    "X_full = pd.read_csv('../input/train.csv', index_col='Id')\n",
    "X_test_full = pd.read_csv('../input/test.csv', index_col='Id')\n",
    "\n",
    "# Remove rows with missing target, separate target from predictors\n",
    "X_full.dropna(axis=0, subset=['SalePrice'], inplace=True)\n",
    "y = X_full.SalePrice\n",
    "X_full.drop(['SalePrice'], axis=1, inplace=True)\n",
    "\n",
    "# To keep things simple, we'll use only numerical predictors\n",
    "X = X_full.select_dtypes(exclude=['object'])\n",
    "X_test = X_test_full.select_dtypes(exclude=['object'])\n",
    "\n",
    "# Break off validation set from training data\n",
    "X_train, X_valid, y_train, y_valid = train_test_split(X, y, train_size=0.8, test_size=0.2,\n",
    "                                                      random_state=0)"
   ]
  },
  {
   "cell_type": "markdown",
   "id": "55cbe9de",
   "metadata": {
    "papermill": {
     "duration": 0.012146,
     "end_time": "2023-12-14T14:28:16.897503",
     "exception": false,
     "start_time": "2023-12-14T14:28:16.885357",
     "status": "completed"
    },
    "tags": []
   },
   "source": [
    "Use the next code cell to print the first five rows of the data.\n",
    "\n",
    "次のコード・セルを使って、データの最初の5行を印刷する。"
   ]
  },
  {
   "cell_type": "code",
   "execution_count": 3,
   "id": "edaff34c",
   "metadata": {
    "execution": {
     "iopub.execute_input": "2023-12-14T14:28:16.926459Z",
     "iopub.status.busy": "2023-12-14T14:28:16.925627Z",
     "iopub.status.idle": "2023-12-14T14:28:16.959818Z",
     "shell.execute_reply": "2023-12-14T14:28:16.959040Z"
    },
    "papermill": {
     "duration": 0.052315,
     "end_time": "2023-12-14T14:28:16.963280",
     "exception": false,
     "start_time": "2023-12-14T14:28:16.910965",
     "status": "completed"
    },
    "tags": []
   },
   "outputs": [
    {
     "data": {
      "text/html": [
       "<div>\n",
       "<style scoped>\n",
       "    .dataframe tbody tr th:only-of-type {\n",
       "        vertical-align: middle;\n",
       "    }\n",
       "\n",
       "    .dataframe tbody tr th {\n",
       "        vertical-align: top;\n",
       "    }\n",
       "\n",
       "    .dataframe thead th {\n",
       "        text-align: right;\n",
       "    }\n",
       "</style>\n",
       "<table border=\"1\" class=\"dataframe\">\n",
       "  <thead>\n",
       "    <tr style=\"text-align: right;\">\n",
       "      <th></th>\n",
       "      <th>MSSubClass</th>\n",
       "      <th>LotFrontage</th>\n",
       "      <th>LotArea</th>\n",
       "      <th>OverallQual</th>\n",
       "      <th>OverallCond</th>\n",
       "      <th>YearBuilt</th>\n",
       "      <th>YearRemodAdd</th>\n",
       "      <th>MasVnrArea</th>\n",
       "      <th>BsmtFinSF1</th>\n",
       "      <th>BsmtFinSF2</th>\n",
       "      <th>...</th>\n",
       "      <th>GarageArea</th>\n",
       "      <th>WoodDeckSF</th>\n",
       "      <th>OpenPorchSF</th>\n",
       "      <th>EnclosedPorch</th>\n",
       "      <th>3SsnPorch</th>\n",
       "      <th>ScreenPorch</th>\n",
       "      <th>PoolArea</th>\n",
       "      <th>MiscVal</th>\n",
       "      <th>MoSold</th>\n",
       "      <th>YrSold</th>\n",
       "    </tr>\n",
       "    <tr>\n",
       "      <th>Id</th>\n",
       "      <th></th>\n",
       "      <th></th>\n",
       "      <th></th>\n",
       "      <th></th>\n",
       "      <th></th>\n",
       "      <th></th>\n",
       "      <th></th>\n",
       "      <th></th>\n",
       "      <th></th>\n",
       "      <th></th>\n",
       "      <th></th>\n",
       "      <th></th>\n",
       "      <th></th>\n",
       "      <th></th>\n",
       "      <th></th>\n",
       "      <th></th>\n",
       "      <th></th>\n",
       "      <th></th>\n",
       "      <th></th>\n",
       "      <th></th>\n",
       "      <th></th>\n",
       "    </tr>\n",
       "  </thead>\n",
       "  <tbody>\n",
       "    <tr>\n",
       "      <th>619</th>\n",
       "      <td>20</td>\n",
       "      <td>90.0</td>\n",
       "      <td>11694</td>\n",
       "      <td>9</td>\n",
       "      <td>5</td>\n",
       "      <td>2007</td>\n",
       "      <td>2007</td>\n",
       "      <td>452.0</td>\n",
       "      <td>48</td>\n",
       "      <td>0</td>\n",
       "      <td>...</td>\n",
       "      <td>774</td>\n",
       "      <td>0</td>\n",
       "      <td>108</td>\n",
       "      <td>0</td>\n",
       "      <td>0</td>\n",
       "      <td>260</td>\n",
       "      <td>0</td>\n",
       "      <td>0</td>\n",
       "      <td>7</td>\n",
       "      <td>2007</td>\n",
       "    </tr>\n",
       "    <tr>\n",
       "      <th>871</th>\n",
       "      <td>20</td>\n",
       "      <td>60.0</td>\n",
       "      <td>6600</td>\n",
       "      <td>5</td>\n",
       "      <td>5</td>\n",
       "      <td>1962</td>\n",
       "      <td>1962</td>\n",
       "      <td>0.0</td>\n",
       "      <td>0</td>\n",
       "      <td>0</td>\n",
       "      <td>...</td>\n",
       "      <td>308</td>\n",
       "      <td>0</td>\n",
       "      <td>0</td>\n",
       "      <td>0</td>\n",
       "      <td>0</td>\n",
       "      <td>0</td>\n",
       "      <td>0</td>\n",
       "      <td>0</td>\n",
       "      <td>8</td>\n",
       "      <td>2009</td>\n",
       "    </tr>\n",
       "    <tr>\n",
       "      <th>93</th>\n",
       "      <td>30</td>\n",
       "      <td>80.0</td>\n",
       "      <td>13360</td>\n",
       "      <td>5</td>\n",
       "      <td>7</td>\n",
       "      <td>1921</td>\n",
       "      <td>2006</td>\n",
       "      <td>0.0</td>\n",
       "      <td>713</td>\n",
       "      <td>0</td>\n",
       "      <td>...</td>\n",
       "      <td>432</td>\n",
       "      <td>0</td>\n",
       "      <td>0</td>\n",
       "      <td>44</td>\n",
       "      <td>0</td>\n",
       "      <td>0</td>\n",
       "      <td>0</td>\n",
       "      <td>0</td>\n",
       "      <td>8</td>\n",
       "      <td>2009</td>\n",
       "    </tr>\n",
       "    <tr>\n",
       "      <th>818</th>\n",
       "      <td>20</td>\n",
       "      <td>NaN</td>\n",
       "      <td>13265</td>\n",
       "      <td>8</td>\n",
       "      <td>5</td>\n",
       "      <td>2002</td>\n",
       "      <td>2002</td>\n",
       "      <td>148.0</td>\n",
       "      <td>1218</td>\n",
       "      <td>0</td>\n",
       "      <td>...</td>\n",
       "      <td>857</td>\n",
       "      <td>150</td>\n",
       "      <td>59</td>\n",
       "      <td>0</td>\n",
       "      <td>0</td>\n",
       "      <td>0</td>\n",
       "      <td>0</td>\n",
       "      <td>0</td>\n",
       "      <td>7</td>\n",
       "      <td>2008</td>\n",
       "    </tr>\n",
       "    <tr>\n",
       "      <th>303</th>\n",
       "      <td>20</td>\n",
       "      <td>118.0</td>\n",
       "      <td>13704</td>\n",
       "      <td>7</td>\n",
       "      <td>5</td>\n",
       "      <td>2001</td>\n",
       "      <td>2002</td>\n",
       "      <td>150.0</td>\n",
       "      <td>0</td>\n",
       "      <td>0</td>\n",
       "      <td>...</td>\n",
       "      <td>843</td>\n",
       "      <td>468</td>\n",
       "      <td>81</td>\n",
       "      <td>0</td>\n",
       "      <td>0</td>\n",
       "      <td>0</td>\n",
       "      <td>0</td>\n",
       "      <td>0</td>\n",
       "      <td>1</td>\n",
       "      <td>2006</td>\n",
       "    </tr>\n",
       "  </tbody>\n",
       "</table>\n",
       "<p>5 rows × 36 columns</p>\n",
       "</div>"
      ],
      "text/plain": [
       "     MSSubClass  LotFrontage  LotArea  OverallQual  OverallCond  YearBuilt  \\\n",
       "Id                                                                           \n",
       "619          20         90.0    11694            9            5       2007   \n",
       "871          20         60.0     6600            5            5       1962   \n",
       "93           30         80.0    13360            5            7       1921   \n",
       "818          20          NaN    13265            8            5       2002   \n",
       "303          20        118.0    13704            7            5       2001   \n",
       "\n",
       "     YearRemodAdd  MasVnrArea  BsmtFinSF1  BsmtFinSF2  ...  GarageArea  \\\n",
       "Id                                                     ...               \n",
       "619          2007       452.0          48           0  ...         774   \n",
       "871          1962         0.0           0           0  ...         308   \n",
       "93           2006         0.0         713           0  ...         432   \n",
       "818          2002       148.0        1218           0  ...         857   \n",
       "303          2002       150.0           0           0  ...         843   \n",
       "\n",
       "     WoodDeckSF  OpenPorchSF  EnclosedPorch  3SsnPorch  ScreenPorch  PoolArea  \\\n",
       "Id                                                                              \n",
       "619           0          108              0          0          260         0   \n",
       "871           0            0              0          0            0         0   \n",
       "93            0            0             44          0            0         0   \n",
       "818         150           59              0          0            0         0   \n",
       "303         468           81              0          0            0         0   \n",
       "\n",
       "     MiscVal  MoSold  YrSold  \n",
       "Id                            \n",
       "619        0       7    2007  \n",
       "871        0       8    2009  \n",
       "93         0       8    2009  \n",
       "818        0       7    2008  \n",
       "303        0       1    2006  \n",
       "\n",
       "[5 rows x 36 columns]"
      ]
     },
     "execution_count": 3,
     "metadata": {},
     "output_type": "execute_result"
    }
   ],
   "source": [
    "X_train.head()"
   ]
  },
  {
   "cell_type": "markdown",
   "id": "704da2d2",
   "metadata": {
    "papermill": {
     "duration": 0.012038,
     "end_time": "2023-12-14T14:28:16.992399",
     "exception": false,
     "start_time": "2023-12-14T14:28:16.980361",
     "status": "completed"
    },
    "tags": []
   },
   "source": [
    "You can already see a few missing values in the first several rows.  In the next step, you'll obtain a more comprehensive understanding of the missing values in the dataset.\n",
    "\n",
    "# Step 1: Preliminary investigation\n",
    "\n",
    "Run the code cell below without changes.\n",
    "\n",
    "最初のいくつかの行に、すでにいくつかの欠損値が見られる。 次のステップでは、データセットに含まれる欠損値をより包括的に理解します。\n",
    "\n",
    "# ステップ1: 予備調査\n",
    "\n",
    "以下のコードセルを変更せずに実行してください。"
   ]
  },
  {
   "cell_type": "code",
   "execution_count": 4,
   "id": "8752f410",
   "metadata": {
    "execution": {
     "iopub.execute_input": "2023-12-14T14:28:17.019417Z",
     "iopub.status.busy": "2023-12-14T14:28:17.019029Z",
     "iopub.status.idle": "2023-12-14T14:28:17.028268Z",
     "shell.execute_reply": "2023-12-14T14:28:17.026925Z"
    },
    "papermill": {
     "duration": 0.025212,
     "end_time": "2023-12-14T14:28:17.030544",
     "exception": false,
     "start_time": "2023-12-14T14:28:17.005332",
     "status": "completed"
    },
    "tags": []
   },
   "outputs": [
    {
     "name": "stdout",
     "output_type": "stream",
     "text": [
      "(1168, 36)\n",
      "LotFrontage    212\n",
      "MasVnrArea       6\n",
      "GarageYrBlt     58\n",
      "dtype: int64\n"
     ]
    }
   ],
   "source": [
    "# Shape of training data (num_rows, num_columns)\n",
    "print(X_train.shape)\n",
    "\n",
    "# Number of missing values in each column of training data\n",
    "missing_val_count_by_column = (X_train.isnull().sum())\n",
    "print(missing_val_count_by_column[missing_val_count_by_column > 0])"
   ]
  },
  {
   "cell_type": "markdown",
   "id": "2e8fb9f9",
   "metadata": {
    "papermill": {
     "duration": 0.012314,
     "end_time": "2023-12-14T14:28:17.055928",
     "exception": false,
     "start_time": "2023-12-14T14:28:17.043614",
     "status": "completed"
    },
    "tags": []
   },
   "source": [
    "### Part A\n",
    "\n",
    "Use the above output to answer the questions below.\n",
    "### パートA\n",
    "\n",
    "上記の出力を使って、以下の質問に答えてください。"
   ]
  },
  {
   "cell_type": "code",
   "execution_count": 5,
   "id": "346cab85",
   "metadata": {
    "execution": {
     "iopub.execute_input": "2023-12-14T14:28:17.083457Z",
     "iopub.status.busy": "2023-12-14T14:28:17.083072Z",
     "iopub.status.idle": "2023-12-14T14:28:17.093201Z",
     "shell.execute_reply": "2023-12-14T14:28:17.092230Z"
    },
    "papermill": {
     "duration": 0.026378,
     "end_time": "2023-12-14T14:28:17.095311",
     "exception": false,
     "start_time": "2023-12-14T14:28:17.068933",
     "status": "completed"
    },
    "tags": []
   },
   "outputs": [
    {
     "data": {
      "application/javascript": [
       "parent.postMessage({\"jupyterEvent\": \"custom.exercise_interaction\", \"data\": {\"outcomeType\": 1, \"valueTowardsCompletion\": 1.0, \"interactionType\": 1, \"questionType\": 1, \"questionId\": \"1.1_InvestigateEquality\", \"learnToolsVersion\": \"0.3.4\", \"failureMessage\": \"\", \"exceptionClass\": \"\", \"trace\": \"\"}}, \"*\")"
      ],
      "text/plain": [
       "<IPython.core.display.Javascript object>"
      ]
     },
     "metadata": {},
     "output_type": "display_data"
    },
    {
     "data": {
      "text/markdown": [
       "<span style=\"color:#33cc33\">Correct</span>"
      ],
      "text/plain": [
       "Correct"
      ]
     },
     "metadata": {},
     "output_type": "display_data"
    }
   ],
   "source": [
    "# Fill in the line below: How many rows are in the training data?\n",
    "num_rows = 1168\n",
    "\n",
    "# Fill in the line below: How many columns in the training data\n",
    "# have missing values?\n",
    "num_cols_with_missing = 3\n",
    "\n",
    "# Fill in the line below: How many missing entries are contained in \n",
    "# all of the training data?\n",
    "tot_missing = 212 + 6 + 58\n",
    "\n",
    "# Check your answers\n",
    "step_1.a.check()"
   ]
  },
  {
   "cell_type": "code",
   "execution_count": 6,
   "id": "39e4beb7",
   "metadata": {
    "execution": {
     "iopub.execute_input": "2023-12-14T14:28:17.123532Z",
     "iopub.status.busy": "2023-12-14T14:28:17.122769Z",
     "iopub.status.idle": "2023-12-14T14:28:17.135595Z",
     "shell.execute_reply": "2023-12-14T14:28:17.134619Z"
    },
    "papermill": {
     "duration": 0.029301,
     "end_time": "2023-12-14T14:28:17.137704",
     "exception": false,
     "start_time": "2023-12-14T14:28:17.108403",
     "status": "completed"
    },
    "tags": []
   },
   "outputs": [
    {
     "data": {
      "application/javascript": [
       "parent.postMessage({\"jupyterEvent\": \"custom.exercise_interaction\", \"data\": {\"interactionType\": 2, \"questionType\": 1, \"questionId\": \"1.1_InvestigateEquality\", \"learnToolsVersion\": \"0.3.4\", \"valueTowardsCompletion\": 0.0, \"failureMessage\": \"\", \"exceptionClass\": \"\", \"trace\": \"\", \"outcomeType\": 4}}, \"*\")"
      ],
      "text/plain": [
       "<IPython.core.display.Javascript object>"
      ]
     },
     "metadata": {},
     "output_type": "display_data"
    },
    {
     "data": {
      "text/markdown": [
       "<span style=\"color:#3366cc\">Hint:</span> Use the output of `X_train.shape` to get the number of rows and columns in the training data.  The `missing_val_count_by_column` Series has an entry for each column in the data, and the output above prints the number of missing entries for each column with at least one missing entry."
      ],
      "text/plain": [
       "Hint: Use the output of `X_train.shape` to get the number of rows and columns in the training data.  The `missing_val_count_by_column` Series has an entry for each column in the data, and the output above prints the number of missing entries for each column with at least one missing entry."
      ]
     },
     "metadata": {},
     "output_type": "display_data"
    },
    {
     "data": {
      "application/javascript": [
       "parent.postMessage({\"jupyterEvent\": \"custom.exercise_interaction\", \"data\": {\"interactionType\": 3, \"questionType\": 1, \"questionId\": \"1.1_InvestigateEquality\", \"learnToolsVersion\": \"0.3.4\", \"valueTowardsCompletion\": 0.0, \"failureMessage\": \"\", \"exceptionClass\": \"\", \"trace\": \"\", \"outcomeType\": 4}}, \"*\")"
      ],
      "text/plain": [
       "<IPython.core.display.Javascript object>"
      ]
     },
     "metadata": {},
     "output_type": "display_data"
    },
    {
     "data": {
      "text/markdown": [
       "<span style=\"color:#33cc99\">Solution:</span> \n",
       "```python\n",
       "# How many rows are in the training data?\n",
       "num_rows = 1168\n",
       "\n",
       "# How many columns in the training data have missing values?\n",
       "num_cols_with_missing = 3\n",
       "\n",
       "# How many missing entries are contained in all of the training data?\n",
       "tot_missing = 212 + 6 + 58\n",
       "\n",
       "```"
      ],
      "text/plain": [
       "Solution: \n",
       "```python\n",
       "# How many rows are in the training data?\n",
       "num_rows = 1168\n",
       "\n",
       "# How many columns in the training data have missing values?\n",
       "num_cols_with_missing = 3\n",
       "\n",
       "# How many missing entries are contained in all of the training data?\n",
       "tot_missing = 212 + 6 + 58\n",
       "\n",
       "```"
      ]
     },
     "metadata": {},
     "output_type": "display_data"
    }
   ],
   "source": [
    "# Lines below will give you a hint or solution code\n",
    "step_1.a.hint()\n",
    "step_1.a.solution()"
   ]
  },
  {
   "cell_type": "markdown",
   "id": "a81d258b",
   "metadata": {
    "papermill": {
     "duration": 0.013344,
     "end_time": "2023-12-14T14:28:17.165135",
     "exception": false,
     "start_time": "2023-12-14T14:28:17.151791",
     "status": "completed"
    },
    "tags": []
   },
   "source": [
    "### Part B\n",
    "Considering your answers above, what do you think is likely the best approach to dealing with the missing values?\n",
    "\n",
    "### パートB\n",
    "上記の答えを考慮して、欠損値を処理する最善の方法は何だと思いますか？"
   ]
  },
  {
   "cell_type": "code",
   "execution_count": 7,
   "id": "95d56d7a",
   "metadata": {
    "execution": {
     "iopub.execute_input": "2023-12-14T14:28:17.195267Z",
     "iopub.status.busy": "2023-12-14T14:28:17.194452Z",
     "iopub.status.idle": "2023-12-14T14:28:17.204230Z",
     "shell.execute_reply": "2023-12-14T14:28:17.203200Z"
    },
    "papermill": {
     "duration": 0.027322,
     "end_time": "2023-12-14T14:28:17.206398",
     "exception": false,
     "start_time": "2023-12-14T14:28:17.179076",
     "status": "completed"
    },
    "tags": []
   },
   "outputs": [
    {
     "data": {
      "application/javascript": [
       "parent.postMessage({\"jupyterEvent\": \"custom.exercise_interaction\", \"data\": {\"outcomeType\": 1, \"valueTowardsCompletion\": 1.0, \"interactionType\": 1, \"questionType\": 4, \"questionId\": \"1.2_InvestigateThought\", \"learnToolsVersion\": \"0.3.4\", \"failureMessage\": \"\", \"exceptionClass\": \"\", \"trace\": \"\"}}, \"*\")"
      ],
      "text/plain": [
       "<IPython.core.display.Javascript object>"
      ]
     },
     "metadata": {},
     "output_type": "display_data"
    },
    {
     "data": {
      "text/markdown": [
       "<span style=\"color:#33cc33\">Correct:</span> \n",
       "\n",
       "Since there are relatively few missing entries in the data (the column with the greatest percentage of missing values is missing less than 20% of its entries), we can expect that dropping columns is unlikely to yield good results.  This is because we'd be throwing away a lot of valuable data, and so imputation will likely perform better."
      ],
      "text/plain": [
       "Correct: \n",
       "\n",
       "Since there are relatively few missing entries in the data (the column with the greatest percentage of missing values is missing less than 20% of its entries), we can expect that dropping columns is unlikely to yield good results.  This is because we'd be throwing away a lot of valuable data, and so imputation will likely perform better."
      ]
     },
     "metadata": {},
     "output_type": "display_data"
    }
   ],
   "source": [
    "# Check your answer (Run this code cell to receive credit!)\n",
    "step_1.b.check()\n",
    "\n",
    "# データには欠損項目が比較的少ないので（欠損値の割合が最も多い列は、その項目の20％未満しか欠損していない）、列を削除しても良い結果が得られる可能性は低いと予想できる。これは、多くの貴重なデータを捨てることになるためで、インピュテーションの方が良い結果が得られる可能性が高いからです。"
   ]
  },
  {
   "cell_type": "code",
   "execution_count": 8,
   "id": "63c3f114",
   "metadata": {
    "execution": {
     "iopub.execute_input": "2023-12-14T14:28:17.237249Z",
     "iopub.status.busy": "2023-12-14T14:28:17.236439Z",
     "iopub.status.idle": "2023-12-14T14:28:17.245213Z",
     "shell.execute_reply": "2023-12-14T14:28:17.244226Z"
    },
    "papermill": {
     "duration": 0.02675,
     "end_time": "2023-12-14T14:28:17.247422",
     "exception": false,
     "start_time": "2023-12-14T14:28:17.220672",
     "status": "completed"
    },
    "tags": []
   },
   "outputs": [
    {
     "data": {
      "application/javascript": [
       "parent.postMessage({\"jupyterEvent\": \"custom.exercise_interaction\", \"data\": {\"interactionType\": 2, \"questionType\": 4, \"questionId\": \"1.2_InvestigateThought\", \"learnToolsVersion\": \"0.3.4\", \"valueTowardsCompletion\": 0.0, \"failureMessage\": \"\", \"exceptionClass\": \"\", \"trace\": \"\", \"outcomeType\": 4}}, \"*\")"
      ],
      "text/plain": [
       "<IPython.core.display.Javascript object>"
      ]
     },
     "metadata": {},
     "output_type": "display_data"
    },
    {
     "data": {
      "text/markdown": [
       "<span style=\"color:#3366cc\">Hint:</span> Does the dataset have a lot of missing values, or just a few?  Would we lose much information if we completely ignored the columns with missing entries?"
      ],
      "text/plain": [
       "Hint: Does the dataset have a lot of missing values, or just a few?  Would we lose much information if we completely ignored the columns with missing entries?"
      ]
     },
     "metadata": {},
     "output_type": "display_data"
    }
   ],
   "source": [
    "step_1.b.hint()"
   ]
  },
  {
   "cell_type": "markdown",
   "id": "3d027ae9",
   "metadata": {
    "papermill": {
     "duration": 0.014838,
     "end_time": "2023-12-14T14:28:17.277933",
     "exception": false,
     "start_time": "2023-12-14T14:28:17.263095",
     "status": "completed"
    },
    "tags": []
   },
   "source": [
    "To compare different approaches to dealing with missing values, you'll use the same `score_dataset()` function from the tutorial.  This function reports the [mean absolute error](https://en.wikipedia.org/wiki/Mean_absolute_error) (MAE) from a random forest model.\n",
    "\n",
    "欠損値を扱う異なるアプローチを比較するために、チュートリアルと同じ `score_dataset()` 関数を使います。 この関数はランダムフォレストモデルからの[平均絶対誤差](https://en.wikipedia.org/wiki/Mean_absolute_error) (MAE)を報告します。"
   ]
  },
  {
   "cell_type": "code",
   "execution_count": 9,
   "id": "d6618141",
   "metadata": {
    "execution": {
     "iopub.execute_input": "2023-12-14T14:28:17.309211Z",
     "iopub.status.busy": "2023-12-14T14:28:17.308035Z",
     "iopub.status.idle": "2023-12-14T14:28:17.658689Z",
     "shell.execute_reply": "2023-12-14T14:28:17.657420Z"
    },
    "papermill": {
     "duration": 0.368959,
     "end_time": "2023-12-14T14:28:17.661433",
     "exception": false,
     "start_time": "2023-12-14T14:28:17.292474",
     "status": "completed"
    },
    "tags": []
   },
   "outputs": [],
   "source": [
    "from sklearn.ensemble import RandomForestRegressor\n",
    "from sklearn.metrics import mean_absolute_error\n",
    "\n",
    "# Function for comparing different approaches\n",
    "def score_dataset(X_train, X_valid, y_train, y_valid):\n",
    "    model = RandomForestRegressor(n_estimators=100, random_state=0)\n",
    "    model.fit(X_train, y_train)\n",
    "    preds = model.predict(X_valid)\n",
    "    return mean_absolute_error(y_valid, preds)"
   ]
  },
  {
   "cell_type": "markdown",
   "id": "fafa31bd",
   "metadata": {
    "papermill": {
     "duration": 0.014135,
     "end_time": "2023-12-14T14:28:17.690500",
     "exception": false,
     "start_time": "2023-12-14T14:28:17.676365",
     "status": "completed"
    },
    "tags": []
   },
   "source": [
    "# Step 2: Drop columns with missing values\n",
    "\n",
    "In this step, you'll preprocess the data in `X_train` and `X_valid` to remove columns with missing values.  Set the preprocessed DataFrames to `reduced_X_train` and `reduced_X_valid`, respectively.  \n",
    "\n",
    "# ステップ 2: 欠損値のあるカラムを削除する\n",
    "\n",
    "このステップでは、`X_train` と `X_valid` のデータを前処理して欠損値のある列を削除する。 前処理を行った DataFrames をそれぞれ `reduced_X_train` と `reduced_X_valid` に設定する。 "
   ]
  },
  {
   "cell_type": "code",
   "execution_count": 10,
   "id": "12ea3ac2",
   "metadata": {
    "execution": {
     "iopub.execute_input": "2023-12-14T14:28:17.723109Z",
     "iopub.status.busy": "2023-12-14T14:28:17.721159Z",
     "iopub.status.idle": "2023-12-14T14:28:17.751724Z",
     "shell.execute_reply": "2023-12-14T14:28:17.750660Z"
    },
    "papermill": {
     "duration": 0.049593,
     "end_time": "2023-12-14T14:28:17.754597",
     "exception": false,
     "start_time": "2023-12-14T14:28:17.705004",
     "status": "completed"
    },
    "tags": []
   },
   "outputs": [
    {
     "data": {
      "application/javascript": [
       "parent.postMessage({\"jupyterEvent\": \"custom.exercise_interaction\", \"data\": {\"outcomeType\": 1, \"valueTowardsCompletion\": 1.0, \"interactionType\": 1, \"questionType\": 2, \"questionId\": \"2_DropMissing\", \"learnToolsVersion\": \"0.3.4\", \"failureMessage\": \"\", \"exceptionClass\": \"\", \"trace\": \"\"}}, \"*\")"
      ],
      "text/plain": [
       "<IPython.core.display.Javascript object>"
      ]
     },
     "metadata": {},
     "output_type": "display_data"
    },
    {
     "data": {
      "text/markdown": [
       "<span style=\"color:#33cc33\">Correct</span>"
      ],
      "text/plain": [
       "Correct"
      ]
     },
     "metadata": {},
     "output_type": "display_data"
    }
   ],
   "source": [
    "# Get names of columns with missing values\n",
    "cols_with_missing = [col for col in X_train.columns\n",
    "                     if X_train[col].isnull().any()]\n",
    "\n",
    "# Drop columns in training and validation data\n",
    "reduced_X_train = X_train.drop(cols_with_missing, axis=1)\n",
    "reduced_X_valid = X_valid.drop(cols_with_missing, axis=1)\n",
    "\n",
    "# Check your answers\n",
    "step_2.check()"
   ]
  },
  {
   "cell_type": "code",
   "execution_count": 11,
   "id": "7c88950b",
   "metadata": {
    "execution": {
     "iopub.execute_input": "2023-12-14T14:28:17.785487Z",
     "iopub.status.busy": "2023-12-14T14:28:17.785109Z",
     "iopub.status.idle": "2023-12-14T14:28:17.798059Z",
     "shell.execute_reply": "2023-12-14T14:28:17.797292Z"
    },
    "papermill": {
     "duration": 0.030903,
     "end_time": "2023-12-14T14:28:17.800101",
     "exception": false,
     "start_time": "2023-12-14T14:28:17.769198",
     "status": "completed"
    },
    "tags": []
   },
   "outputs": [
    {
     "data": {
      "application/javascript": [
       "parent.postMessage({\"jupyterEvent\": \"custom.exercise_interaction\", \"data\": {\"interactionType\": 2, \"questionType\": 2, \"questionId\": \"2_DropMissing\", \"learnToolsVersion\": \"0.3.4\", \"valueTowardsCompletion\": 0.0, \"failureMessage\": \"\", \"exceptionClass\": \"\", \"trace\": \"\", \"outcomeType\": 4}}, \"*\")"
      ],
      "text/plain": [
       "<IPython.core.display.Javascript object>"
      ]
     },
     "metadata": {},
     "output_type": "display_data"
    },
    {
     "data": {
      "text/markdown": [
       "<span style=\"color:#3366cc\">Hint:</span> Begin by finding the list of columns in the data with missing values.  Then, drop these columns in both the training and validation data with the `drop()` method."
      ],
      "text/plain": [
       "Hint: Begin by finding the list of columns in the data with missing values.  Then, drop these columns in both the training and validation data with the `drop()` method."
      ]
     },
     "metadata": {},
     "output_type": "display_data"
    },
    {
     "data": {
      "application/javascript": [
       "parent.postMessage({\"jupyterEvent\": \"custom.exercise_interaction\", \"data\": {\"interactionType\": 3, \"questionType\": 2, \"questionId\": \"2_DropMissing\", \"learnToolsVersion\": \"0.3.4\", \"valueTowardsCompletion\": 0.0, \"failureMessage\": \"\", \"exceptionClass\": \"\", \"trace\": \"\", \"outcomeType\": 4}}, \"*\")"
      ],
      "text/plain": [
       "<IPython.core.display.Javascript object>"
      ]
     },
     "metadata": {},
     "output_type": "display_data"
    },
    {
     "data": {
      "text/markdown": [
       "<span style=\"color:#33cc99\">Solution:</span> \n",
       "```python\n",
       "# Get names of columns with missing values\n",
       "cols_with_missing = [col for col in X_train.columns\n",
       "                     if X_train[col].isnull().any()]\n",
       "\n",
       "# Drop columns in training and validation data\n",
       "reduced_X_train = X_train.drop(cols_with_missing, axis=1)\n",
       "reduced_X_valid = X_valid.drop(cols_with_missing, axis=1)\n",
       "\n",
       "```"
      ],
      "text/plain": [
       "Solution: \n",
       "```python\n",
       "# Get names of columns with missing values\n",
       "cols_with_missing = [col for col in X_train.columns\n",
       "                     if X_train[col].isnull().any()]\n",
       "\n",
       "# Drop columns in training and validation data\n",
       "reduced_X_train = X_train.drop(cols_with_missing, axis=1)\n",
       "reduced_X_valid = X_valid.drop(cols_with_missing, axis=1)\n",
       "\n",
       "```"
      ]
     },
     "metadata": {},
     "output_type": "display_data"
    }
   ],
   "source": [
    "# Lines below will give you a hint or solution code\n",
    "step_2.hint()\n",
    "step_2.solution()"
   ]
  },
  {
   "cell_type": "markdown",
   "id": "38e6e058",
   "metadata": {
    "papermill": {
     "duration": 0.015064,
     "end_time": "2023-12-14T14:28:17.831016",
     "exception": false,
     "start_time": "2023-12-14T14:28:17.815952",
     "status": "completed"
    },
    "tags": []
   },
   "source": [
    "Run the next code cell without changes to obtain the MAE for this approach."
   ]
  },
  {
   "cell_type": "code",
   "execution_count": 12,
   "id": "100ea156",
   "metadata": {
    "execution": {
     "iopub.execute_input": "2023-12-14T14:28:17.927505Z",
     "iopub.status.busy": "2023-12-14T14:28:17.926257Z",
     "iopub.status.idle": "2023-12-14T14:28:19.231650Z",
     "shell.execute_reply": "2023-12-14T14:28:19.230059Z"
    },
    "papermill": {
     "duration": 1.387686,
     "end_time": "2023-12-14T14:28:19.234318",
     "exception": false,
     "start_time": "2023-12-14T14:28:17.846632",
     "status": "completed"
    },
    "tags": []
   },
   "outputs": [
    {
     "name": "stdout",
     "output_type": "stream",
     "text": [
      "MAE (Drop columns with missing values):\n",
      "17837.82570776256\n"
     ]
    }
   ],
   "source": [
    "print(\"MAE (Drop columns with missing values):\")\n",
    "print(score_dataset(reduced_X_train, reduced_X_valid, y_train, y_valid))"
   ]
  },
  {
   "cell_type": "markdown",
   "id": "3514fc56",
   "metadata": {
    "papermill": {
     "duration": 0.015253,
     "end_time": "2023-12-14T14:28:19.265244",
     "exception": false,
     "start_time": "2023-12-14T14:28:19.249991",
     "status": "completed"
    },
    "tags": []
   },
   "source": [
    "# Step 3: Imputation\n",
    "\n",
    "### Part A\n",
    "\n",
    "Use the next code cell to impute missing values with the mean value along each column.  Set the preprocessed DataFrames to `imputed_X_train` and `imputed_X_valid`.  Make sure that the column names match those in `X_train` and `X_valid`.\n",
    "\n",
    "# ステップ3：推定\n",
    "\n",
    "### パート A\n",
    "\n",
    "次のコードセルを使用して、各列の平均値で欠損値をインプットします。 前処理済みの DataFrames を `imputed_X_train` と `imputed_X_valid` に設定する。 列名が `X_train` と `X_valid` の列名と一致していることを確認する。"
   ]
  },
  {
   "cell_type": "code",
   "execution_count": 13,
   "id": "47fbaf75",
   "metadata": {
    "execution": {
     "iopub.execute_input": "2023-12-14T14:28:19.297515Z",
     "iopub.status.busy": "2023-12-14T14:28:19.297089Z",
     "iopub.status.idle": "2023-12-14T14:28:19.332096Z",
     "shell.execute_reply": "2023-12-14T14:28:19.331273Z"
    },
    "papermill": {
     "duration": 0.054102,
     "end_time": "2023-12-14T14:28:19.334522",
     "exception": false,
     "start_time": "2023-12-14T14:28:19.280420",
     "status": "completed"
    },
    "tags": []
   },
   "outputs": [
    {
     "data": {
      "application/javascript": [
       "parent.postMessage({\"jupyterEvent\": \"custom.exercise_interaction\", \"data\": {\"outcomeType\": 1, \"valueTowardsCompletion\": 1.0, \"interactionType\": 1, \"questionType\": 2, \"questionId\": \"3.1_ImputeCode\", \"learnToolsVersion\": \"0.3.4\", \"failureMessage\": \"\", \"exceptionClass\": \"\", \"trace\": \"\"}}, \"*\")"
      ],
      "text/plain": [
       "<IPython.core.display.Javascript object>"
      ]
     },
     "metadata": {},
     "output_type": "display_data"
    },
    {
     "data": {
      "text/markdown": [
       "<span style=\"color:#33cc33\">Correct</span>"
      ],
      "text/plain": [
       "Correct"
      ]
     },
     "metadata": {},
     "output_type": "display_data"
    }
   ],
   "source": [
    "from sklearn.impute import SimpleImputer\n",
    "\n",
    "my_imputer = SimpleImputer()\n",
    "imputed_X_train = pd.DataFrame(my_imputer.fit_transform(X_train))\n",
    "imputed_X_valid = pd.DataFrame(my_imputer.transform(X_valid))\n",
    "\n",
    "# Imputation removed column names; put them back\n",
    "imputed_X_train.columns = X_train.columns\n",
    "imputed_X_valid.columns = X_valid.columns\n",
    "\n",
    "# Check your answers\n",
    "step_3.a.check()"
   ]
  },
  {
   "cell_type": "code",
   "execution_count": 14,
   "id": "6f5e3020",
   "metadata": {
    "execution": {
     "iopub.execute_input": "2023-12-14T14:28:19.367919Z",
     "iopub.status.busy": "2023-12-14T14:28:19.367474Z",
     "iopub.status.idle": "2023-12-14T14:28:19.380598Z",
     "shell.execute_reply": "2023-12-14T14:28:19.379501Z"
    },
    "papermill": {
     "duration": 0.032743,
     "end_time": "2023-12-14T14:28:19.383090",
     "exception": false,
     "start_time": "2023-12-14T14:28:19.350347",
     "status": "completed"
    },
    "tags": []
   },
   "outputs": [
    {
     "data": {
      "application/javascript": [
       "parent.postMessage({\"jupyterEvent\": \"custom.exercise_interaction\", \"data\": {\"interactionType\": 2, \"questionType\": 2, \"questionId\": \"3.1_ImputeCode\", \"learnToolsVersion\": \"0.3.4\", \"valueTowardsCompletion\": 0.0, \"failureMessage\": \"\", \"exceptionClass\": \"\", \"trace\": \"\", \"outcomeType\": 4}}, \"*\")"
      ],
      "text/plain": [
       "<IPython.core.display.Javascript object>"
      ]
     },
     "metadata": {},
     "output_type": "display_data"
    },
    {
     "data": {
      "text/markdown": [
       "<span style=\"color:#3366cc\">Hint:</span> Begin by defining an instance of the `SimpleImputer()` class.  Then, use the imputer to fit and transform the training data, before transforming the validation data. Get the original column names from the original DataFrames `X_train` and `X_valid`."
      ],
      "text/plain": [
       "Hint: Begin by defining an instance of the `SimpleImputer()` class.  Then, use the imputer to fit and transform the training data, before transforming the validation data. Get the original column names from the original DataFrames `X_train` and `X_valid`."
      ]
     },
     "metadata": {},
     "output_type": "display_data"
    },
    {
     "data": {
      "application/javascript": [
       "parent.postMessage({\"jupyterEvent\": \"custom.exercise_interaction\", \"data\": {\"interactionType\": 3, \"questionType\": 2, \"questionId\": \"3.1_ImputeCode\", \"learnToolsVersion\": \"0.3.4\", \"valueTowardsCompletion\": 0.0, \"failureMessage\": \"\", \"exceptionClass\": \"\", \"trace\": \"\", \"outcomeType\": 4}}, \"*\")"
      ],
      "text/plain": [
       "<IPython.core.display.Javascript object>"
      ]
     },
     "metadata": {},
     "output_type": "display_data"
    },
    {
     "data": {
      "text/markdown": [
       "<span style=\"color:#33cc99\">Solution:</span> \n",
       "```python\n",
       "# Imputation\n",
       "my_imputer = SimpleImputer()\n",
       "imputed_X_train = pd.DataFrame(my_imputer.fit_transform(X_train))\n",
       "imputed_X_valid = pd.DataFrame(my_imputer.transform(X_valid))\n",
       "\n",
       "# Imputation removed column names; put them back\n",
       "imputed_X_train.columns = X_train.columns\n",
       "imputed_X_valid.columns = X_valid.columns\n",
       "\n",
       "```"
      ],
      "text/plain": [
       "Solution: \n",
       "```python\n",
       "# Imputation\n",
       "my_imputer = SimpleImputer()\n",
       "imputed_X_train = pd.DataFrame(my_imputer.fit_transform(X_train))\n",
       "imputed_X_valid = pd.DataFrame(my_imputer.transform(X_valid))\n",
       "\n",
       "# Imputation removed column names; put them back\n",
       "imputed_X_train.columns = X_train.columns\n",
       "imputed_X_valid.columns = X_valid.columns\n",
       "\n",
       "```"
      ]
     },
     "metadata": {},
     "output_type": "display_data"
    }
   ],
   "source": [
    "# Lines below will give you a hint or solution code\n",
    "step_3.a.hint()\n",
    "step_3.a.solution()"
   ]
  },
  {
   "cell_type": "markdown",
   "id": "a106429f",
   "metadata": {
    "papermill": {
     "duration": 0.016842,
     "end_time": "2023-12-14T14:28:19.417193",
     "exception": false,
     "start_time": "2023-12-14T14:28:19.400351",
     "status": "completed"
    },
    "tags": []
   },
   "source": [
    "Run the next code cell without changes to obtain the MAE for this approach."
   ]
  },
  {
   "cell_type": "code",
   "execution_count": 15,
   "id": "97385312",
   "metadata": {
    "execution": {
     "iopub.execute_input": "2023-12-14T14:28:19.453360Z",
     "iopub.status.busy": "2023-12-14T14:28:19.452952Z",
     "iopub.status.idle": "2023-12-14T14:28:20.908528Z",
     "shell.execute_reply": "2023-12-14T14:28:20.907411Z"
    },
    "papermill": {
     "duration": 1.476901,
     "end_time": "2023-12-14T14:28:20.911126",
     "exception": false,
     "start_time": "2023-12-14T14:28:19.434225",
     "status": "completed"
    },
    "tags": []
   },
   "outputs": [
    {
     "name": "stdout",
     "output_type": "stream",
     "text": [
      "MAE (Imputation):\n",
      "18062.894611872147\n"
     ]
    }
   ],
   "source": [
    "print(\"MAE (Imputation):\")\n",
    "print(score_dataset(imputed_X_train, imputed_X_valid, y_train, y_valid))"
   ]
  },
  {
   "cell_type": "markdown",
   "id": "d7ffb7dc",
   "metadata": {
    "papermill": {
     "duration": 0.016463,
     "end_time": "2023-12-14T14:28:20.944431",
     "exception": false,
     "start_time": "2023-12-14T14:28:20.927968",
     "status": "completed"
    },
    "tags": []
   },
   "source": [
    "### Part B\n",
    "\n",
    "Compare the MAE from each approach.  Does anything surprise you about the results?  Why do you think one approach performed better than the other?\n",
    "\n",
    "### パートB\n",
    "\n",
    "各アプローチの MAE を比較してください。 この結果について何か驚くことはありますか？ なぜ、一方のアプローチが他方のアプローチよりも良い結果を出したと思いますか?"
   ]
  },
  {
   "cell_type": "code",
   "execution_count": 16,
   "id": "9066d3fa",
   "metadata": {
    "execution": {
     "iopub.execute_input": "2023-12-14T14:28:20.980563Z",
     "iopub.status.busy": "2023-12-14T14:28:20.979873Z",
     "iopub.status.idle": "2023-12-14T14:28:20.988168Z",
     "shell.execute_reply": "2023-12-14T14:28:20.987419Z"
    },
    "papermill": {
     "duration": 0.029025,
     "end_time": "2023-12-14T14:28:20.990199",
     "exception": false,
     "start_time": "2023-12-14T14:28:20.961174",
     "status": "completed"
    },
    "tags": []
   },
   "outputs": [
    {
     "data": {
      "application/javascript": [
       "parent.postMessage({\"jupyterEvent\": \"custom.exercise_interaction\", \"data\": {\"outcomeType\": 1, \"valueTowardsCompletion\": 1.0, \"interactionType\": 1, \"questionType\": 4, \"questionId\": \"3.2_ImputeThought\", \"learnToolsVersion\": \"0.3.4\", \"failureMessage\": \"\", \"exceptionClass\": \"\", \"trace\": \"\"}}, \"*\")"
      ],
      "text/plain": [
       "<IPython.core.display.Javascript object>"
      ]
     },
     "metadata": {},
     "output_type": "display_data"
    },
    {
     "data": {
      "text/markdown": [
       "<span style=\"color:#33cc33\">Correct:</span> \n",
       "\n",
       "Given that thre are so few missing values in the dataset, we'd expect imputation to perform better than dropping columns entirely.  However, we see that dropping columns performs slightly better!  While this can probably partially be attributed to noise in the dataset, another potential explanation is that the imputation method is not a great match to this dataset.  That is, maybe instead of filling in the mean value, it makes more sense to set every missing value to a value of 0, to fill in the most frequently encountered value, or to use some other method.  For instance, consider the `GarageYrBlt` column (which indicates the year that the garage was built).  It's likely that in some cases, a missing value could indicate a house that does not have a garage.  Does it make more sense to fill in the median value along each column in this case?  Or could we get better results by filling in the minimum value along each column?  It's not quite clear what's best in this case, but perhaps we can rule out some options immediately - for instance, setting missing values in this column to 0 is likely to yield horrible results!"
      ],
      "text/plain": [
       "Correct: \n",
       "\n",
       "Given that thre are so few missing values in the dataset, we'd expect imputation to perform better than dropping columns entirely.  However, we see that dropping columns performs slightly better!  While this can probably partially be attributed to noise in the dataset, another potential explanation is that the imputation method is not a great match to this dataset.  That is, maybe instead of filling in the mean value, it makes more sense to set every missing value to a value of 0, to fill in the most frequently encountered value, or to use some other method.  For instance, consider the `GarageYrBlt` column (which indicates the year that the garage was built).  It's likely that in some cases, a missing value could indicate a house that does not have a garage.  Does it make more sense to fill in the median value along each column in this case?  Or could we get better results by filling in the minimum value along each column?  It's not quite clear what's best in this case, but perhaps we can rule out some options immediately - for instance, setting missing values in this column to 0 is likely to yield horrible results!"
      ]
     },
     "metadata": {},
     "output_type": "display_data"
    }
   ],
   "source": [
    "# Check your answer (Run this code cell to receive credit!)\n",
    "step_3.b.check()\n",
    "\n",
    "#データセットに欠損値が非常に少ないことを考えると、列を完全に削除するよりもインピュテーションの方が良い結果が得られると予想される。しかし、列を削除した方がわずかに良い結果が得られることがわかる！これはおそらくデータセットのノイズに起因する部分もありますが、もう1つの可能性としては、インピュテーションの手法がこのデータセットにあまりマッチしていないということです。つまり、平均値を埋めるのではなく、すべての欠損値を0に設定する、最も頻繁に遭遇する値を埋める、または他の方法を使用する方が理にかなっているのかもしれません。例えば、GarageYrBlt列（ガレージが建てられた年を示す）を考えてみよう。場合によっては、欠落した値はガレージのない家を示している可能性があります。この場合、各列の中央値を記入する方が理にかなっているのでしょうか？それとも各列の最小値を記入した方が良い結果が得られるでしょうか？例えば、この列の欠損値を0に設定することは恐ろしい結果をもたらす可能性が高いです！"
   ]
  },
  {
   "cell_type": "code",
   "execution_count": 17,
   "id": "da94077f",
   "metadata": {
    "execution": {
     "iopub.execute_input": "2023-12-14T14:28:21.026383Z",
     "iopub.status.busy": "2023-12-14T14:28:21.025667Z",
     "iopub.status.idle": "2023-12-14T14:28:21.030226Z",
     "shell.execute_reply": "2023-12-14T14:28:21.029196Z"
    },
    "papermill": {
     "duration": 0.025282,
     "end_time": "2023-12-14T14:28:21.032407",
     "exception": false,
     "start_time": "2023-12-14T14:28:21.007125",
     "status": "completed"
    },
    "tags": []
   },
   "outputs": [],
   "source": [
    "#step_3.b.hint()"
   ]
  },
  {
   "cell_type": "markdown",
   "id": "0ec8f5a1",
   "metadata": {
    "papermill": {
     "duration": 0.018053,
     "end_time": "2023-12-14T14:28:21.071247",
     "exception": false,
     "start_time": "2023-12-14T14:28:21.053194",
     "status": "completed"
    },
    "tags": []
   },
   "source": [
    "# Step 4: Generate test predictions\n",
    "\n",
    "In this final step, you'll use any approach of your choosing to deal with missing values.  Once you've preprocessed the training and validation features, you'll train and evaluate a random forest model.  Then, you'll preprocess the test data before generating predictions that can be submitted to the competition!\n",
    "\n",
    "### Part A\n",
    "\n",
    "Use the next code cell to preprocess the training and validation data.  Set the preprocessed DataFrames to `final_X_train` and `final_X_valid`.  **You can use any approach of your choosing here!**  in order for this step to be marked as correct, you need only ensure:\n",
    "- the preprocessed DataFrames have the same number of columns,\n",
    "- the preprocessed DataFrames have no missing values, \n",
    "- `final_X_train` and `y_train` have the same number of rows, and\n",
    "- `final_X_valid` and `y_valid` have the same number of rows.\n",
    "\n",
    "\n",
    "# ステップ4：テスト予測値の生成\n",
    "\n",
    "この最後のステップでは、欠損値を処理するために任意のアプローチを使用します。 トレーニング機能と検証機能の前処理が終わったら、ランダムフォレスト・モデルをトレーニングして評価します。 そして、コンペティションに提出できる予測を生成する前に、テスト・データを前処理します！\n",
    "\n",
    "### パート A\n",
    "\n",
    "次のコード・セルを使って、訓練データと検証データを前処理します。 前処理した DataFrames を `final_X_train` と `final_X_valid` に設定します。 **ここでは、どのようなアプローチを用いても構いません！** このステップが正しいとマークされるためには、以下のことを確認するだけです：\n",
    "- 前処理されたDataFramesの列数が同じであること、\n",
    "- 前処理されたDataFramesに欠損値がないこと、 \n",
    "- final_X_train`と`y_train`の行数が同じであること。\n",
    "- final_X_valid` と `y_valid` は同じ行数である。"
   ]
  },
  {
   "cell_type": "code",
   "execution_count": 18,
   "id": "71360748",
   "metadata": {
    "execution": {
     "iopub.execute_input": "2023-12-14T14:28:21.110102Z",
     "iopub.status.busy": "2023-12-14T14:28:21.109139Z",
     "iopub.status.idle": "2023-12-14T14:28:21.153360Z",
     "shell.execute_reply": "2023-12-14T14:28:21.152203Z"
    },
    "papermill": {
     "duration": 0.06577,
     "end_time": "2023-12-14T14:28:21.155741",
     "exception": false,
     "start_time": "2023-12-14T14:28:21.089971",
     "status": "completed"
    },
    "tags": []
   },
   "outputs": [
    {
     "data": {
      "application/javascript": [
       "parent.postMessage({\"jupyterEvent\": \"custom.exercise_interaction\", \"data\": {\"outcomeType\": 1, \"valueTowardsCompletion\": 1.0, \"interactionType\": 1, \"questionType\": 2, \"questionId\": \"4.1_PredsCodeA\", \"learnToolsVersion\": \"0.3.4\", \"failureMessage\": \"\", \"exceptionClass\": \"\", \"trace\": \"\"}}, \"*\")"
      ],
      "text/plain": [
       "<IPython.core.display.Javascript object>"
      ]
     },
     "metadata": {},
     "output_type": "display_data"
    },
    {
     "data": {
      "text/markdown": [
       "<span style=\"color:#33cc33\">Correct</span>"
      ],
      "text/plain": [
       "Correct"
      ]
     },
     "metadata": {},
     "output_type": "display_data"
    }
   ],
   "source": [
    "# Preprocessed training and validation features\n",
    "final_imputer = SimpleImputer(strategy='median')\n",
    "final_X_train = pd.DataFrame(final_imputer.fit_transform(X_train))\n",
    "final_X_valid = pd.DataFrame(final_imputer.transform(X_valid))\n",
    "\n",
    "# Imputation removed column names; put them back\n",
    "final_X_train.columns = X_train.columns\n",
    "final_X_valid.columns = X_valid.columns\n",
    "# Check your answers\n",
    "step_4.a.check()"
   ]
  },
  {
   "cell_type": "code",
   "execution_count": 19,
   "id": "707f5b6d",
   "metadata": {
    "execution": {
     "iopub.execute_input": "2023-12-14T14:28:21.193300Z",
     "iopub.status.busy": "2023-12-14T14:28:21.192919Z",
     "iopub.status.idle": "2023-12-14T14:28:21.205501Z",
     "shell.execute_reply": "2023-12-14T14:28:21.204416Z"
    },
    "papermill": {
     "duration": 0.034243,
     "end_time": "2023-12-14T14:28:21.207711",
     "exception": false,
     "start_time": "2023-12-14T14:28:21.173468",
     "status": "completed"
    },
    "tags": []
   },
   "outputs": [
    {
     "data": {
      "application/javascript": [
       "parent.postMessage({\"jupyterEvent\": \"custom.exercise_interaction\", \"data\": {\"interactionType\": 2, \"questionType\": 2, \"questionId\": \"4.1_PredsCodeA\", \"learnToolsVersion\": \"0.3.4\", \"valueTowardsCompletion\": 0.0, \"failureMessage\": \"\", \"exceptionClass\": \"\", \"trace\": \"\", \"outcomeType\": 4}}, \"*\")"
      ],
      "text/plain": [
       "<IPython.core.display.Javascript object>"
      ]
     },
     "metadata": {},
     "output_type": "display_data"
    },
    {
     "data": {
      "text/markdown": [
       "<span style=\"color:#3366cc\">Hint:</span> Use any approach of your choosing to deal with missing values in the data.  For inspiration, check out the code from the tutorial!"
      ],
      "text/plain": [
       "Hint: Use any approach of your choosing to deal with missing values in the data.  For inspiration, check out the code from the tutorial!"
      ]
     },
     "metadata": {},
     "output_type": "display_data"
    },
    {
     "data": {
      "application/javascript": [
       "parent.postMessage({\"jupyterEvent\": \"custom.exercise_interaction\", \"data\": {\"interactionType\": 3, \"questionType\": 2, \"questionId\": \"4.1_PredsCodeA\", \"learnToolsVersion\": \"0.3.4\", \"valueTowardsCompletion\": 0.0, \"failureMessage\": \"\", \"exceptionClass\": \"\", \"trace\": \"\", \"outcomeType\": 4}}, \"*\")"
      ],
      "text/plain": [
       "<IPython.core.display.Javascript object>"
      ]
     },
     "metadata": {},
     "output_type": "display_data"
    },
    {
     "data": {
      "text/markdown": [
       "<span style=\"color:#33cc99\">Solution:</span> \n",
       "```python\n",
       "# Imputation\n",
       "final_imputer = SimpleImputer(strategy='median')\n",
       "final_X_train = pd.DataFrame(final_imputer.fit_transform(X_train))\n",
       "final_X_valid = pd.DataFrame(final_imputer.transform(X_valid))\n",
       "\n",
       "# Imputation removed column names; put them back\n",
       "final_X_train.columns = X_train.columns\n",
       "final_X_valid.columns = X_valid.columns\n",
       "\n",
       "```"
      ],
      "text/plain": [
       "Solution: \n",
       "```python\n",
       "# Imputation\n",
       "final_imputer = SimpleImputer(strategy='median')\n",
       "final_X_train = pd.DataFrame(final_imputer.fit_transform(X_train))\n",
       "final_X_valid = pd.DataFrame(final_imputer.transform(X_valid))\n",
       "\n",
       "# Imputation removed column names; put them back\n",
       "final_X_train.columns = X_train.columns\n",
       "final_X_valid.columns = X_valid.columns\n",
       "\n",
       "```"
      ]
     },
     "metadata": {},
     "output_type": "display_data"
    }
   ],
   "source": [
    "# Lines below will give you a hint or solution code\n",
    "step_4.a.hint()\n",
    "step_4.a.solution()"
   ]
  },
  {
   "cell_type": "markdown",
   "id": "1e6fbe2c",
   "metadata": {
    "papermill": {
     "duration": 0.018064,
     "end_time": "2023-12-14T14:28:21.244160",
     "exception": false,
     "start_time": "2023-12-14T14:28:21.226096",
     "status": "completed"
    },
    "tags": []
   },
   "source": [
    "Run the next code cell to train and evaluate a random forest model.  (*Note that we don't use the `score_dataset()` function above, because we will soon use the trained model to generate test predictions!*)"
   ]
  },
  {
   "cell_type": "code",
   "execution_count": 20,
   "id": "77a90eb4",
   "metadata": {
    "execution": {
     "iopub.execute_input": "2023-12-14T14:28:21.283374Z",
     "iopub.status.busy": "2023-12-14T14:28:21.283010Z",
     "iopub.status.idle": "2023-12-14T14:28:22.740674Z",
     "shell.execute_reply": "2023-12-14T14:28:22.739272Z"
    },
    "papermill": {
     "duration": 1.481141,
     "end_time": "2023-12-14T14:28:22.744069",
     "exception": false,
     "start_time": "2023-12-14T14:28:21.262928",
     "status": "completed"
    },
    "tags": []
   },
   "outputs": [
    {
     "name": "stdout",
     "output_type": "stream",
     "text": [
      "MAE (Your approach):\n",
      "17791.59899543379\n"
     ]
    }
   ],
   "source": [
    "# Define and fit model\n",
    "model = RandomForestRegressor(n_estimators=100, random_state=0)\n",
    "model.fit(final_X_train, y_train)\n",
    "\n",
    "# Get validation predictions and MAE\n",
    "preds_valid = model.predict(final_X_valid)\n",
    "print(\"MAE (Your approach):\")\n",
    "print(mean_absolute_error(y_valid, preds_valid))"
   ]
  },
  {
   "cell_type": "markdown",
   "id": "c6a4bda4",
   "metadata": {
    "papermill": {
     "duration": 0.018331,
     "end_time": "2023-12-14T14:28:22.781028",
     "exception": false,
     "start_time": "2023-12-14T14:28:22.762697",
     "status": "completed"
    },
    "tags": []
   },
   "source": [
    "### Part B\n",
    "\n",
    "Use the next code cell to preprocess your test data.  Make sure that you use a method that agrees with how you preprocessed the training and validation data, and set the preprocessed test features to `final_X_test`.\n",
    "\n",
    "Then, use the preprocessed test features and the trained model to generate test predictions in `preds_test`.\n",
    "\n",
    "In order for this step to be marked correct, you need only ensure:\n",
    "- the preprocessed test DataFrame has no missing values, and\n",
    "- `final_X_test` has the same number of rows as `X_test`.\n",
    "\n",
    "### パートB\n",
    "\n",
    "次のコードセルを使ってテストデータを前処理します。 訓練データと検証データの前処理方法と一致する方法を使用することを確認し、前処理したテスト特徴量を `final_X_test` に設定します。\n",
    "\n",
    "そして、前処理されたテスト特徴量と学習済みモデルを使用して、テスト予測値を `preds_test` に生成します。\n",
    "\n",
    "このステップが正しいと判定されるためには、次のことを確認するだけでよい：\n",
    "- 前処理されたテスト用 DataFrame に欠損値がないこと。\n",
    "- final_X_test` が `X_test` と同じ行数であること。"
   ]
  },
  {
   "cell_type": "code",
   "execution_count": 21,
   "id": "c207bf0a",
   "metadata": {
    "execution": {
     "iopub.execute_input": "2023-12-14T14:28:22.819976Z",
     "iopub.status.busy": "2023-12-14T14:28:22.819552Z",
     "iopub.status.idle": "2023-12-14T14:28:22.874947Z",
     "shell.execute_reply": "2023-12-14T14:28:22.874170Z"
    },
    "papermill": {
     "duration": 0.077606,
     "end_time": "2023-12-14T14:28:22.876961",
     "exception": false,
     "start_time": "2023-12-14T14:28:22.799355",
     "status": "completed"
    },
    "tags": []
   },
   "outputs": [
    {
     "name": "stderr",
     "output_type": "stream",
     "text": [
      "/opt/conda/lib/python3.10/site-packages/sklearn/base.py:439: UserWarning: X does not have valid feature names, but RandomForestRegressor was fitted with feature names\n",
      "  warnings.warn(\n"
     ]
    },
    {
     "data": {
      "application/javascript": [
       "parent.postMessage({\"jupyterEvent\": \"custom.exercise_interaction\", \"data\": {\"outcomeType\": 1, \"valueTowardsCompletion\": 1.0, \"interactionType\": 1, \"questionType\": 2, \"questionId\": \"4.2_PredsCodeB\", \"learnToolsVersion\": \"0.3.4\", \"failureMessage\": \"\", \"exceptionClass\": \"\", \"trace\": \"\"}}, \"*\")"
      ],
      "text/plain": [
       "<IPython.core.display.Javascript object>"
      ]
     },
     "metadata": {},
     "output_type": "display_data"
    },
    {
     "data": {
      "text/markdown": [
       "<span style=\"color:#33cc33\">Correct</span>"
      ],
      "text/plain": [
       "Correct"
      ]
     },
     "metadata": {},
     "output_type": "display_data"
    }
   ],
   "source": [
    "final_X_test = pd.DataFrame(final_imputer.transform(X_test))\n",
    "\n",
    "# Get test predictions\n",
    "preds_test = model.predict(final_X_test)\n",
    "# Check your answers\n",
    "step_4.b.check()"
   ]
  },
  {
   "cell_type": "code",
   "execution_count": 22,
   "id": "b8074f09",
   "metadata": {
    "execution": {
     "iopub.execute_input": "2023-12-14T14:28:22.916647Z",
     "iopub.status.busy": "2023-12-14T14:28:22.915869Z",
     "iopub.status.idle": "2023-12-14T14:28:22.928590Z",
     "shell.execute_reply": "2023-12-14T14:28:22.927881Z"
    },
    "papermill": {
     "duration": 0.034736,
     "end_time": "2023-12-14T14:28:22.930498",
     "exception": false,
     "start_time": "2023-12-14T14:28:22.895762",
     "status": "completed"
    },
    "tags": []
   },
   "outputs": [
    {
     "data": {
      "application/javascript": [
       "parent.postMessage({\"jupyterEvent\": \"custom.exercise_interaction\", \"data\": {\"interactionType\": 2, \"questionType\": 2, \"questionId\": \"4.2_PredsCodeB\", \"learnToolsVersion\": \"0.3.4\", \"valueTowardsCompletion\": 0.0, \"failureMessage\": \"\", \"exceptionClass\": \"\", \"trace\": \"\", \"outcomeType\": 4}}, \"*\")"
      ],
      "text/plain": [
       "<IPython.core.display.Javascript object>"
      ]
     },
     "metadata": {},
     "output_type": "display_data"
    },
    {
     "data": {
      "text/markdown": [
       "<span style=\"color:#3366cc\">Hint:</span> After preprocessing the test data, you can get the model's predictions by using `model.predict()`."
      ],
      "text/plain": [
       "Hint: After preprocessing the test data, you can get the model's predictions by using `model.predict()`."
      ]
     },
     "metadata": {},
     "output_type": "display_data"
    },
    {
     "data": {
      "application/javascript": [
       "parent.postMessage({\"jupyterEvent\": \"custom.exercise_interaction\", \"data\": {\"interactionType\": 3, \"questionType\": 2, \"questionId\": \"4.2_PredsCodeB\", \"learnToolsVersion\": \"0.3.4\", \"valueTowardsCompletion\": 0.0, \"failureMessage\": \"\", \"exceptionClass\": \"\", \"trace\": \"\", \"outcomeType\": 4}}, \"*\")"
      ],
      "text/plain": [
       "<IPython.core.display.Javascript object>"
      ]
     },
     "metadata": {},
     "output_type": "display_data"
    },
    {
     "data": {
      "text/markdown": [
       "<span style=\"color:#33cc99\">Solution:</span> \n",
       "```python\n",
       "# Preprocess test data\n",
       "final_X_test = pd.DataFrame(final_imputer.transform(X_test))\n",
       "\n",
       "# Get test predictions\n",
       "preds_test = model.predict(final_X_test)\n",
       "\n",
       "```"
      ],
      "text/plain": [
       "Solution: \n",
       "```python\n",
       "# Preprocess test data\n",
       "final_X_test = pd.DataFrame(final_imputer.transform(X_test))\n",
       "\n",
       "# Get test predictions\n",
       "preds_test = model.predict(final_X_test)\n",
       "\n",
       "```"
      ]
     },
     "metadata": {},
     "output_type": "display_data"
    }
   ],
   "source": [
    "# Lines below will give you a hint or solution code\n",
    "step_4.b.hint()\n",
    "step_4.b.solution()"
   ]
  },
  {
   "cell_type": "markdown",
   "id": "543712d2",
   "metadata": {
    "papermill": {
     "duration": 0.019165,
     "end_time": "2023-12-14T14:28:22.969195",
     "exception": false,
     "start_time": "2023-12-14T14:28:22.950030",
     "status": "completed"
    },
    "tags": []
   },
   "source": [
    "Run the next code cell without changes to save your results to a CSV file that can be submitted directly to the competition."
   ]
  },
  {
   "cell_type": "code",
   "execution_count": 23,
   "id": "ae9c1f0f",
   "metadata": {
    "execution": {
     "iopub.execute_input": "2023-12-14T14:28:23.010548Z",
     "iopub.status.busy": "2023-12-14T14:28:23.009483Z",
     "iopub.status.idle": "2023-12-14T14:28:23.023862Z",
     "shell.execute_reply": "2023-12-14T14:28:23.022893Z"
    },
    "papermill": {
     "duration": 0.037869,
     "end_time": "2023-12-14T14:28:23.026524",
     "exception": false,
     "start_time": "2023-12-14T14:28:22.988655",
     "status": "completed"
    },
    "tags": []
   },
   "outputs": [],
   "source": [
    "# Save test predictions to file\n",
    "output = pd.DataFrame({'Id': X_test.index,\n",
    "                       'SalePrice': preds_test})\n",
    "output.to_csv('submission.csv', index=False)"
   ]
  },
  {
   "cell_type": "markdown",
   "id": "2615fc53",
   "metadata": {
    "papermill": {
     "duration": 0.019312,
     "end_time": "2023-12-14T14:28:23.065615",
     "exception": false,
     "start_time": "2023-12-14T14:28:23.046303",
     "status": "completed"
    },
    "tags": []
   },
   "source": [
    "# Submit your results\n",
    "\n",
    "Once you have successfully completed Step 4, you're ready to submit your results to the leaderboard!  (_You also learned how to do this in the previous exercise.  If you need a reminder of how to do this, please use the instructions below._)  \n",
    "\n",
    "First, you'll need to join the competition if you haven't already.  So open a new window by clicking on [this link](https://www.kaggle.com/c/home-data-for-ml-course).  Then click on the **Join Competition** button.\n",
    "\n",
    "# 結果を提出する\n",
    "\n",
    "ステップ4が完了したら、結果をリーダーボードに提出する準備ができました！ (_この方法は前回の練習でも学びました。 もしこの方法を思い出す必要がある場合は、以下の説明を使ってください。）  \n",
    "\n",
    "まず、大会に参加する必要があります。 このリンク](https://www.kaggle.com/c/home-data-for-ml-course)をクリックして新しいウィンドウを開きます。 そして、**Join Competition**ボタンをクリックしてください。\n",
    "\n",
    "![join competition image](https://storage.googleapis.com/kaggle-media/learn/images/wLmFtH3.png)\n",
    "\n",
    "Next, follow the instructions below:\n",
    "1. Begin by clicking on the **Save Version** button in the top right corner of the window.  This will generate a pop-up window.  \n",
    "2. Ensure that the **Save and Run All** option is selected, and then click on the **Save** button.\n",
    "3. This generates a window in the bottom left corner of the notebook.  After it has finished running, click on the number to the right of the **Save Version** button.  This pulls up a list of versions on the right of the screen.  Click on the ellipsis **(...)** to the right of the most recent version, and select **Open in Viewer**.  This brings you into view mode of the same page. You will need to scroll down to get back to these instructions.\n",
    "4. Click on the **Data** tab near the top of the screen.  Then, click on the file you would like to submit, and click on the **Submit** button to submit your results to the leaderboard.\n",
    "\n",
    "You have now successfully submitted to the competition!\n",
    "\n",
    "If you want to keep working to improve your performance, select the **Edit** button in the top right of the screen. Then you can change your code and repeat the process. There's a lot of room to improve, and you will climb up the leaderboard as you work.\n",
    "\n",
    "\n",
    "# Keep going\n",
    "\n",
    "Move on to learn what **[categorical variables](https://www.kaggle.com/alexisbcook/categorical-variables)** are, along with how to incorporate them into your machine learning models.  Categorical variables are very common in real-world data, but you'll get an error if you try to plug them into your models without processing them first!\n",
    "\n",
    "これでコンペティションへの応募は完了です！\n",
    "\n",
    "もしパフォーマンスを向上させるために作業を続けたい場合は、画面右上の**編集**ボタンを選択してください。そうすれば、コードを変更して、このプロセスを繰り返すことができます。まだまだ上達の余地はたくさんありますし、作業していくうちにリーダーボードも上がっていくでしょう。\n",
    "\n",
    "\n",
    "# 続ける\n",
    "\n",
    "カテゴリ変数](https://www.kaggle.com/alexisbcook/categorical-variables)**とは何か、そしてそれを機械学習モデルに組み込む方法について学びましょう。 カテゴリカル変数は実世界のデータでは非常に一般的ですが、最初に処理せずにモデルに組み込もうとするとエラーになります！"
   ]
  },
  {
   "cell_type": "markdown",
   "id": "ed2c1c19",
   "metadata": {
    "papermill": {
     "duration": 0.019131,
     "end_time": "2023-12-14T14:28:23.104306",
     "exception": false,
     "start_time": "2023-12-14T14:28:23.085175",
     "status": "completed"
    },
    "tags": []
   },
   "source": [
    "---\n",
    "\n",
    "\n",
    "\n",
    "\n",
    "*Have questions or comments? Visit the [course discussion forum](https://www.kaggle.com/learn/intermediate-machine-learning/discussion) to chat with other learners.*"
   ]
  }
 ],
 "metadata": {
  "kaggle": {
   "accelerator": "none",
   "dataSources": [
    {
     "databundleVersionId": 111096,
     "sourceId": 10211,
     "sourceType": "competition"
    }
   ],
   "isGpuEnabled": false,
   "isInternetEnabled": false,
   "language": "python",
   "sourceType": "notebook"
  },
  "kernelspec": {
   "display_name": "Python 3",
   "language": "python",
   "name": "python3"
  },
  "language_info": {
   "codemirror_mode": {
    "name": "ipython",
    "version": 3
   },
   "file_extension": ".py",
   "mimetype": "text/x-python",
   "name": "python",
   "nbconvert_exporter": "python",
   "pygments_lexer": "ipython3",
   "version": "3.10.12"
  },
  "papermill": {
   "default_parameters": {},
   "duration": 12.365818,
   "end_time": "2023-12-14T14:28:23.744739",
   "environment_variables": {},
   "exception": null,
   "input_path": "__notebook__.ipynb",
   "output_path": "__notebook__.ipynb",
   "parameters": {},
   "start_time": "2023-12-14T14:28:11.378921",
   "version": "2.4.0"
  }
 },
 "nbformat": 4,
 "nbformat_minor": 5
}
