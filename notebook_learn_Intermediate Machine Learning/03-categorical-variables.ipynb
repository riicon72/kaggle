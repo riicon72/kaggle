{
 "cells": [
  {
   "cell_type": "markdown",
   "id": "5858f15d",
   "metadata": {
    "papermill": {
     "duration": 0.012894,
     "end_time": "2023-12-15T15:00:14.191318",
     "exception": false,
     "start_time": "2023-12-15T15:00:14.178424",
     "status": "completed"
    },
    "tags": []
   },
   "source": [
    "**This notebook is an exercise in the [Intermediate Machine Learning](https://www.kaggle.com/learn/intermediate-machine-learning) course.  You can reference the tutorial at [this link](https://www.kaggle.com/alexisbcook/categorical-variables).**\n",
    "\n",
    "---\n"
   ]
  },
  {
   "cell_type": "markdown",
   "id": "432931c3",
   "metadata": {
    "papermill": {
     "duration": 0.009104,
     "end_time": "2023-12-15T15:00:14.210077",
     "exception": false,
     "start_time": "2023-12-15T15:00:14.200973",
     "status": "completed"
    },
    "tags": []
   },
   "source": [
    "By encoding **categorical variables**, you'll obtain your best results thus far!\n",
    "\n",
    "# Setup\n",
    "\n",
    "The questions below will give you feedback on your work. Run the following cell to set up the feedback system.\n",
    "\n",
    "カテゴリー変数**をエンコードすることで、これまでで最高の結果が得られるだろう！\n",
    "\n",
    "# セットアップ\n",
    "\n",
    "以下の質問は、あなたの仕事に対するフィードバックを与えます。以下のセルを実行して、フィードバックシステムをセットアップしてください。"
   ]
  },
  {
   "cell_type": "code",
   "execution_count": 1,
   "id": "a1c45799",
   "metadata": {
    "execution": {
     "iopub.execute_input": "2023-12-15T15:00:14.231192Z",
     "iopub.status.busy": "2023-12-15T15:00:14.230544Z",
     "iopub.status.idle": "2023-12-15T15:00:14.666770Z",
     "shell.execute_reply": "2023-12-15T15:00:14.665604Z"
    },
    "papermill": {
     "duration": 0.45112,
     "end_time": "2023-12-15T15:00:14.670161",
     "exception": false,
     "start_time": "2023-12-15T15:00:14.219041",
     "status": "completed"
    },
    "tags": []
   },
   "outputs": [
    {
     "name": "stdout",
     "output_type": "stream",
     "text": [
      "Setup Complete\n"
     ]
    }
   ],
   "source": [
    "# Set up code checking\n",
    "import os\n",
    "if not os.path.exists(\"../input/train.csv\"):\n",
    "    os.symlink(\"../input/home-data-for-ml-course/train.csv\", \"../input/train.csv\")  \n",
    "    os.symlink(\"../input/home-data-for-ml-course/test.csv\", \"../input/test.csv\") \n",
    "from learntools.core import binder\n",
    "binder.bind(globals())\n",
    "from learntools.ml_intermediate.ex3 import *\n",
    "print(\"Setup Complete\")"
   ]
  },
  {
   "cell_type": "markdown",
   "id": "15a07b7c",
   "metadata": {
    "papermill": {
     "duration": 0.008716,
     "end_time": "2023-12-15T15:00:14.689618",
     "exception": false,
     "start_time": "2023-12-15T15:00:14.680902",
     "status": "completed"
    },
    "tags": []
   },
   "source": [
    "In this exercise, you will work with data from the [Housing Prices Competition for Kaggle Learn Users](https://www.kaggle.com/c/home-data-for-ml-course). \n",
    "\n",
    "![Ames Housing dataset image](https://storage.googleapis.com/kaggle-media/learn/images/lTJVG4e.png)\n",
    "\n",
    "Run the next code cell without changes to load the training and validation sets in `X_train`, `X_valid`, `y_train`, and `y_valid`.  The test set is loaded in `X_test`."
   ]
  },
  {
   "cell_type": "code",
   "execution_count": 2,
   "id": "53c2af7b",
   "metadata": {
    "execution": {
     "iopub.execute_input": "2023-12-15T15:00:14.710088Z",
     "iopub.status.busy": "2023-12-15T15:00:14.709534Z",
     "iopub.status.idle": "2023-12-15T15:00:16.220463Z",
     "shell.execute_reply": "2023-12-15T15:00:16.219490Z"
    },
    "papermill": {
     "duration": 1.523991,
     "end_time": "2023-12-15T15:00:16.222903",
     "exception": false,
     "start_time": "2023-12-15T15:00:14.698912",
     "status": "completed"
    },
    "tags": []
   },
   "outputs": [],
   "source": [
    "import pandas as pd\n",
    "from sklearn.model_selection import train_test_split\n",
    "\n",
    "# Read the data\n",
    "X = pd.read_csv('../input/train.csv', index_col='Id') \n",
    "X_test = pd.read_csv('../input/test.csv', index_col='Id')\n",
    "\n",
    "# Remove rows with missing target, separate target from predictors\n",
    "X.dropna(axis=0, subset=['SalePrice'], inplace=True)\n",
    "y = X.SalePrice\n",
    "X.drop(['SalePrice'], axis=1, inplace=True)\n",
    "\n",
    "# To keep things simple, we'll drop columns with missing values\n",
    "cols_with_missing = [col for col in X.columns if X[col].isnull().any()] \n",
    "X.drop(cols_with_missing, axis=1, inplace=True)\n",
    "X_test.drop(cols_with_missing, axis=1, inplace=True)\n",
    "\n",
    "# Break off validation set from training data\n",
    "X_train, X_valid, y_train, y_valid = train_test_split(X, y,\n",
    "                                                      train_size=0.8, test_size=0.2,\n",
    "                                                      random_state=0)"
   ]
  },
  {
   "cell_type": "markdown",
   "id": "4ff991e9",
   "metadata": {
    "papermill": {
     "duration": 0.009444,
     "end_time": "2023-12-15T15:00:16.241333",
     "exception": false,
     "start_time": "2023-12-15T15:00:16.231889",
     "status": "completed"
    },
    "tags": []
   },
   "source": [
    "Use the next code cell to print the first five rows of the data."
   ]
  },
  {
   "cell_type": "code",
   "execution_count": 3,
   "id": "43d14159",
   "metadata": {
    "execution": {
     "iopub.execute_input": "2023-12-15T15:00:16.261534Z",
     "iopub.status.busy": "2023-12-15T15:00:16.260764Z",
     "iopub.status.idle": "2023-12-15T15:00:16.286145Z",
     "shell.execute_reply": "2023-12-15T15:00:16.285049Z"
    },
    "papermill": {
     "duration": 0.038134,
     "end_time": "2023-12-15T15:00:16.288521",
     "exception": false,
     "start_time": "2023-12-15T15:00:16.250387",
     "status": "completed"
    },
    "tags": []
   },
   "outputs": [
    {
     "data": {
      "text/html": [
       "<div>\n",
       "<style scoped>\n",
       "    .dataframe tbody tr th:only-of-type {\n",
       "        vertical-align: middle;\n",
       "    }\n",
       "\n",
       "    .dataframe tbody tr th {\n",
       "        vertical-align: top;\n",
       "    }\n",
       "\n",
       "    .dataframe thead th {\n",
       "        text-align: right;\n",
       "    }\n",
       "</style>\n",
       "<table border=\"1\" class=\"dataframe\">\n",
       "  <thead>\n",
       "    <tr style=\"text-align: right;\">\n",
       "      <th></th>\n",
       "      <th>MSSubClass</th>\n",
       "      <th>MSZoning</th>\n",
       "      <th>LotArea</th>\n",
       "      <th>Street</th>\n",
       "      <th>LotShape</th>\n",
       "      <th>LandContour</th>\n",
       "      <th>Utilities</th>\n",
       "      <th>LotConfig</th>\n",
       "      <th>LandSlope</th>\n",
       "      <th>Neighborhood</th>\n",
       "      <th>...</th>\n",
       "      <th>OpenPorchSF</th>\n",
       "      <th>EnclosedPorch</th>\n",
       "      <th>3SsnPorch</th>\n",
       "      <th>ScreenPorch</th>\n",
       "      <th>PoolArea</th>\n",
       "      <th>MiscVal</th>\n",
       "      <th>MoSold</th>\n",
       "      <th>YrSold</th>\n",
       "      <th>SaleType</th>\n",
       "      <th>SaleCondition</th>\n",
       "    </tr>\n",
       "    <tr>\n",
       "      <th>Id</th>\n",
       "      <th></th>\n",
       "      <th></th>\n",
       "      <th></th>\n",
       "      <th></th>\n",
       "      <th></th>\n",
       "      <th></th>\n",
       "      <th></th>\n",
       "      <th></th>\n",
       "      <th></th>\n",
       "      <th></th>\n",
       "      <th></th>\n",
       "      <th></th>\n",
       "      <th></th>\n",
       "      <th></th>\n",
       "      <th></th>\n",
       "      <th></th>\n",
       "      <th></th>\n",
       "      <th></th>\n",
       "      <th></th>\n",
       "      <th></th>\n",
       "      <th></th>\n",
       "    </tr>\n",
       "  </thead>\n",
       "  <tbody>\n",
       "    <tr>\n",
       "      <th>619</th>\n",
       "      <td>20</td>\n",
       "      <td>RL</td>\n",
       "      <td>11694</td>\n",
       "      <td>Pave</td>\n",
       "      <td>Reg</td>\n",
       "      <td>Lvl</td>\n",
       "      <td>AllPub</td>\n",
       "      <td>Inside</td>\n",
       "      <td>Gtl</td>\n",
       "      <td>NridgHt</td>\n",
       "      <td>...</td>\n",
       "      <td>108</td>\n",
       "      <td>0</td>\n",
       "      <td>0</td>\n",
       "      <td>260</td>\n",
       "      <td>0</td>\n",
       "      <td>0</td>\n",
       "      <td>7</td>\n",
       "      <td>2007</td>\n",
       "      <td>New</td>\n",
       "      <td>Partial</td>\n",
       "    </tr>\n",
       "    <tr>\n",
       "      <th>871</th>\n",
       "      <td>20</td>\n",
       "      <td>RL</td>\n",
       "      <td>6600</td>\n",
       "      <td>Pave</td>\n",
       "      <td>Reg</td>\n",
       "      <td>Lvl</td>\n",
       "      <td>AllPub</td>\n",
       "      <td>Inside</td>\n",
       "      <td>Gtl</td>\n",
       "      <td>NAmes</td>\n",
       "      <td>...</td>\n",
       "      <td>0</td>\n",
       "      <td>0</td>\n",
       "      <td>0</td>\n",
       "      <td>0</td>\n",
       "      <td>0</td>\n",
       "      <td>0</td>\n",
       "      <td>8</td>\n",
       "      <td>2009</td>\n",
       "      <td>WD</td>\n",
       "      <td>Normal</td>\n",
       "    </tr>\n",
       "    <tr>\n",
       "      <th>93</th>\n",
       "      <td>30</td>\n",
       "      <td>RL</td>\n",
       "      <td>13360</td>\n",
       "      <td>Pave</td>\n",
       "      <td>IR1</td>\n",
       "      <td>HLS</td>\n",
       "      <td>AllPub</td>\n",
       "      <td>Inside</td>\n",
       "      <td>Gtl</td>\n",
       "      <td>Crawfor</td>\n",
       "      <td>...</td>\n",
       "      <td>0</td>\n",
       "      <td>44</td>\n",
       "      <td>0</td>\n",
       "      <td>0</td>\n",
       "      <td>0</td>\n",
       "      <td>0</td>\n",
       "      <td>8</td>\n",
       "      <td>2009</td>\n",
       "      <td>WD</td>\n",
       "      <td>Normal</td>\n",
       "    </tr>\n",
       "    <tr>\n",
       "      <th>818</th>\n",
       "      <td>20</td>\n",
       "      <td>RL</td>\n",
       "      <td>13265</td>\n",
       "      <td>Pave</td>\n",
       "      <td>IR1</td>\n",
       "      <td>Lvl</td>\n",
       "      <td>AllPub</td>\n",
       "      <td>CulDSac</td>\n",
       "      <td>Gtl</td>\n",
       "      <td>Mitchel</td>\n",
       "      <td>...</td>\n",
       "      <td>59</td>\n",
       "      <td>0</td>\n",
       "      <td>0</td>\n",
       "      <td>0</td>\n",
       "      <td>0</td>\n",
       "      <td>0</td>\n",
       "      <td>7</td>\n",
       "      <td>2008</td>\n",
       "      <td>WD</td>\n",
       "      <td>Normal</td>\n",
       "    </tr>\n",
       "    <tr>\n",
       "      <th>303</th>\n",
       "      <td>20</td>\n",
       "      <td>RL</td>\n",
       "      <td>13704</td>\n",
       "      <td>Pave</td>\n",
       "      <td>IR1</td>\n",
       "      <td>Lvl</td>\n",
       "      <td>AllPub</td>\n",
       "      <td>Corner</td>\n",
       "      <td>Gtl</td>\n",
       "      <td>CollgCr</td>\n",
       "      <td>...</td>\n",
       "      <td>81</td>\n",
       "      <td>0</td>\n",
       "      <td>0</td>\n",
       "      <td>0</td>\n",
       "      <td>0</td>\n",
       "      <td>0</td>\n",
       "      <td>1</td>\n",
       "      <td>2006</td>\n",
       "      <td>WD</td>\n",
       "      <td>Normal</td>\n",
       "    </tr>\n",
       "  </tbody>\n",
       "</table>\n",
       "<p>5 rows × 60 columns</p>\n",
       "</div>"
      ],
      "text/plain": [
       "     MSSubClass MSZoning  LotArea Street LotShape LandContour Utilities  \\\n",
       "Id                                                                        \n",
       "619          20       RL    11694   Pave      Reg         Lvl    AllPub   \n",
       "871          20       RL     6600   Pave      Reg         Lvl    AllPub   \n",
       "93           30       RL    13360   Pave      IR1         HLS    AllPub   \n",
       "818          20       RL    13265   Pave      IR1         Lvl    AllPub   \n",
       "303          20       RL    13704   Pave      IR1         Lvl    AllPub   \n",
       "\n",
       "    LotConfig LandSlope Neighborhood  ... OpenPorchSF EnclosedPorch 3SsnPorch  \\\n",
       "Id                                    ...                                       \n",
       "619    Inside       Gtl      NridgHt  ...         108             0         0   \n",
       "871    Inside       Gtl        NAmes  ...           0             0         0   \n",
       "93     Inside       Gtl      Crawfor  ...           0            44         0   \n",
       "818   CulDSac       Gtl      Mitchel  ...          59             0         0   \n",
       "303    Corner       Gtl      CollgCr  ...          81             0         0   \n",
       "\n",
       "    ScreenPorch  PoolArea  MiscVal  MoSold  YrSold SaleType SaleCondition  \n",
       "Id                                                                         \n",
       "619         260         0        0       7    2007      New       Partial  \n",
       "871           0         0        0       8    2009       WD        Normal  \n",
       "93            0         0        0       8    2009       WD        Normal  \n",
       "818           0         0        0       7    2008       WD        Normal  \n",
       "303           0         0        0       1    2006       WD        Normal  \n",
       "\n",
       "[5 rows x 60 columns]"
      ]
     },
     "execution_count": 3,
     "metadata": {},
     "output_type": "execute_result"
    }
   ],
   "source": [
    "X_train.head()"
   ]
  },
  {
   "cell_type": "markdown",
   "id": "583ad5c8",
   "metadata": {
    "papermill": {
     "duration": 0.009002,
     "end_time": "2023-12-15T15:00:16.306844",
     "exception": false,
     "start_time": "2023-12-15T15:00:16.297842",
     "status": "completed"
    },
    "tags": []
   },
   "source": [
    "Notice that the dataset contains both numerical and categorical variables.  You'll need to encode the categorical data before training a model.\n",
    "\n",
    "To compare different models, you'll use the same `score_dataset()` function from the tutorial.  This function reports the [mean absolute error](https://en.wikipedia.org/wiki/Mean_absolute_error) (MAE) from a random forest model.\n",
    "\n",
    "このデータセットには、数値変数とカテゴリー変数の両方が含まれていることに注意してください。 モデルをトレーニングする前に、カテゴリーデータをエンコードする必要があります。\n",
    "\n",
    "異なるモデルを比較するために、チュートリアルと同じ `score_dataset()` 関数を使います。 この関数はランダムフォレストモデルからの[平均絶対誤差](https://en.wikipedia.org/wiki/Mean_absolute_error) (MAE)をレポートします。"
   ]
  },
  {
   "cell_type": "code",
   "execution_count": 4,
   "id": "4ae39610",
   "metadata": {
    "execution": {
     "iopub.execute_input": "2023-12-15T15:00:16.327621Z",
     "iopub.status.busy": "2023-12-15T15:00:16.326989Z",
     "iopub.status.idle": "2023-12-15T15:00:16.687162Z",
     "shell.execute_reply": "2023-12-15T15:00:16.686008Z"
    },
    "papermill": {
     "duration": 0.373498,
     "end_time": "2023-12-15T15:00:16.689719",
     "exception": false,
     "start_time": "2023-12-15T15:00:16.316221",
     "status": "completed"
    },
    "tags": []
   },
   "outputs": [],
   "source": [
    "from sklearn.ensemble import RandomForestRegressor\n",
    "from sklearn.metrics import mean_absolute_error\n",
    "\n",
    "# function for comparing different approaches\n",
    "def score_dataset(X_train, X_valid, y_train, y_valid):\n",
    "    model = RandomForestRegressor(n_estimators=100, random_state=0)\n",
    "    model.fit(X_train, y_train)\n",
    "    preds = model.predict(X_valid)\n",
    "    return mean_absolute_error(y_valid, preds)"
   ]
  },
  {
   "cell_type": "markdown",
   "id": "f414ae92",
   "metadata": {
    "papermill": {
     "duration": 0.008995,
     "end_time": "2023-12-15T15:00:16.708159",
     "exception": false,
     "start_time": "2023-12-15T15:00:16.699164",
     "status": "completed"
    },
    "tags": []
   },
   "source": [
    "# Step 1: Drop columns with categorical data\n",
    "\n",
    "You'll get started with the most straightforward approach.  Use the code cell below to preprocess the data in `X_train` and `X_valid` to remove columns with categorical data.  Set the preprocessed DataFrames to `drop_X_train` and `drop_X_valid`, respectively.  \n",
    "\n",
    "# ステップ1: カテゴリカルデータの列を削除する\n",
    "\n",
    "最も簡単な方法から始めよう。 以下のコードセルを使って `X_train` と `X_valid` のデータを前処理し、カテゴリーデータを持つ列を削除する。 前処理した DataFrames をそれぞれ `drop_X_train` と `drop_X_valid` に設定する。 "
   ]
  },
  {
   "cell_type": "code",
   "execution_count": 5,
   "id": "0a5487e0",
   "metadata": {
    "execution": {
     "iopub.execute_input": "2023-12-15T15:00:16.728460Z",
     "iopub.status.busy": "2023-12-15T15:00:16.728101Z",
     "iopub.status.idle": "2023-12-15T15:00:16.738793Z",
     "shell.execute_reply": "2023-12-15T15:00:16.737540Z"
    },
    "papermill": {
     "duration": 0.023484,
     "end_time": "2023-12-15T15:00:16.740942",
     "exception": false,
     "start_time": "2023-12-15T15:00:16.717458",
     "status": "completed"
    },
    "tags": []
   },
   "outputs": [
    {
     "data": {
      "application/javascript": [
       "parent.postMessage({\"jupyterEvent\": \"custom.exercise_interaction\", \"data\": {\"outcomeType\": 1, \"valueTowardsCompletion\": 0.5, \"interactionType\": 1, \"questionType\": 2, \"questionId\": \"1_Drop\", \"learnToolsVersion\": \"0.3.4\", \"failureMessage\": \"\", \"exceptionClass\": \"\", \"trace\": \"\"}}, \"*\")"
      ],
      "text/plain": [
       "<IPython.core.display.Javascript object>"
      ]
     },
     "metadata": {},
     "output_type": "display_data"
    },
    {
     "data": {
      "text/markdown": [
       "<span style=\"color:#33cc33\">Correct</span>"
      ],
      "text/plain": [
       "Correct"
      ]
     },
     "metadata": {},
     "output_type": "display_data"
    }
   ],
   "source": [
    "# Fill in the lines below: drop columns in training and validation data\n",
    "\n",
    "drop_X_train = X_train.select_dtypes(exclude=['object'])\n",
    "drop_X_valid = X_valid.select_dtypes(exclude=['object'])\n",
    "\n",
    "# Check your answers\n",
    "step_1.check()"
   ]
  },
  {
   "cell_type": "code",
   "execution_count": 6,
   "id": "5ac0c287",
   "metadata": {
    "execution": {
     "iopub.execute_input": "2023-12-15T15:00:16.762106Z",
     "iopub.status.busy": "2023-12-15T15:00:16.761406Z",
     "iopub.status.idle": "2023-12-15T15:00:16.774367Z",
     "shell.execute_reply": "2023-12-15T15:00:16.773378Z"
    },
    "papermill": {
     "duration": 0.025797,
     "end_time": "2023-12-15T15:00:16.776453",
     "exception": false,
     "start_time": "2023-12-15T15:00:16.750656",
     "status": "completed"
    },
    "tags": []
   },
   "outputs": [
    {
     "data": {
      "application/javascript": [
       "parent.postMessage({\"jupyterEvent\": \"custom.exercise_interaction\", \"data\": {\"interactionType\": 2, \"questionType\": 2, \"questionId\": \"1_Drop\", \"learnToolsVersion\": \"0.3.4\", \"valueTowardsCompletion\": 0.0, \"failureMessage\": \"\", \"exceptionClass\": \"\", \"trace\": \"\", \"outcomeType\": 4}}, \"*\")"
      ],
      "text/plain": [
       "<IPython.core.display.Javascript object>"
      ]
     },
     "metadata": {},
     "output_type": "display_data"
    },
    {
     "data": {
      "text/markdown": [
       "<span style=\"color:#3366cc\">Hint:</span> Use the [`select_dtypes()`](https://pandas.pydata.org/pandas-docs/stable/reference/api/pandas.DataFrame.select_dtypes.html) method to drop all columns with the `object` dtype."
      ],
      "text/plain": [
       "Hint: Use the [`select_dtypes()`](https://pandas.pydata.org/pandas-docs/stable/reference/api/pandas.DataFrame.select_dtypes.html) method to drop all columns with the `object` dtype."
      ]
     },
     "metadata": {},
     "output_type": "display_data"
    },
    {
     "data": {
      "application/javascript": [
       "parent.postMessage({\"jupyterEvent\": \"custom.exercise_interaction\", \"data\": {\"interactionType\": 3, \"questionType\": 2, \"questionId\": \"1_Drop\", \"learnToolsVersion\": \"0.3.4\", \"valueTowardsCompletion\": 0.0, \"failureMessage\": \"\", \"exceptionClass\": \"\", \"trace\": \"\", \"outcomeType\": 4}}, \"*\")"
      ],
      "text/plain": [
       "<IPython.core.display.Javascript object>"
      ]
     },
     "metadata": {},
     "output_type": "display_data"
    },
    {
     "data": {
      "text/markdown": [
       "<span style=\"color:#33cc99\">Solution:</span> \n",
       "```python\n",
       "# Drop columns in training and validation data\n",
       "drop_X_train = X_train.select_dtypes(exclude=['object'])\n",
       "drop_X_valid = X_valid.select_dtypes(exclude=['object'])\n",
       "\n",
       "```"
      ],
      "text/plain": [
       "Solution: \n",
       "```python\n",
       "# Drop columns in training and validation data\n",
       "drop_X_train = X_train.select_dtypes(exclude=['object'])\n",
       "drop_X_valid = X_valid.select_dtypes(exclude=['object'])\n",
       "\n",
       "```"
      ]
     },
     "metadata": {},
     "output_type": "display_data"
    }
   ],
   "source": [
    "# Lines below will give you a hint or solution code\n",
    "step_1.hint()\n",
    "step_1.solution()"
   ]
  },
  {
   "cell_type": "markdown",
   "id": "25d20975",
   "metadata": {
    "papermill": {
     "duration": 0.009748,
     "end_time": "2023-12-15T15:00:16.796340",
     "exception": false,
     "start_time": "2023-12-15T15:00:16.786592",
     "status": "completed"
    },
    "tags": []
   },
   "source": [
    "Run the next code cell to get the MAE for this approach."
   ]
  },
  {
   "cell_type": "code",
   "execution_count": 7,
   "id": "82c7fafb",
   "metadata": {
    "execution": {
     "iopub.execute_input": "2023-12-15T15:00:16.818674Z",
     "iopub.status.busy": "2023-12-15T15:00:16.818292Z",
     "iopub.status.idle": "2023-12-15T15:00:18.067342Z",
     "shell.execute_reply": "2023-12-15T15:00:18.066234Z"
    },
    "papermill": {
     "duration": 1.263356,
     "end_time": "2023-12-15T15:00:18.069783",
     "exception": false,
     "start_time": "2023-12-15T15:00:16.806427",
     "status": "completed"
    },
    "tags": []
   },
   "outputs": [
    {
     "name": "stdout",
     "output_type": "stream",
     "text": [
      "MAE from Approach 1 (Drop categorical variables):\n",
      "17837.82570776256\n"
     ]
    }
   ],
   "source": [
    "print(\"MAE from Approach 1 (Drop categorical variables):\")\n",
    "print(score_dataset(drop_X_train, drop_X_valid, y_train, y_valid))"
   ]
  },
  {
   "cell_type": "markdown",
   "id": "f3cc036f",
   "metadata": {
    "papermill": {
     "duration": 0.010285,
     "end_time": "2023-12-15T15:00:18.090459",
     "exception": false,
     "start_time": "2023-12-15T15:00:18.080174",
     "status": "completed"
    },
    "tags": []
   },
   "source": [
    "Before jumping into ordinal encoding, we'll investigate the dataset.  Specifically, we'll look at the `'Condition2'` column.  The code cell below prints the unique entries in both the training and validation sets.\n",
    "\n",
    "順序エンコーディングに入る前に、データセットを調べてみよう。 具体的には、`'Condition2'` 列を見てみよう。 以下のコードセルは、訓練セットと検証セットの両方でユニークなエントリを表示する。"
   ]
  },
  {
   "cell_type": "code",
   "execution_count": 8,
   "id": "3754d64e",
   "metadata": {
    "execution": {
     "iopub.execute_input": "2023-12-15T15:00:18.113587Z",
     "iopub.status.busy": "2023-12-15T15:00:18.112503Z",
     "iopub.status.idle": "2023-12-15T15:00:18.121036Z",
     "shell.execute_reply": "2023-12-15T15:00:18.120310Z"
    },
    "papermill": {
     "duration": 0.022364,
     "end_time": "2023-12-15T15:00:18.123180",
     "exception": false,
     "start_time": "2023-12-15T15:00:18.100816",
     "status": "completed"
    },
    "tags": []
   },
   "outputs": [
    {
     "name": "stdout",
     "output_type": "stream",
     "text": [
      "Unique values in 'Condition2' column in training data: ['Norm' 'PosA' 'Feedr' 'PosN' 'Artery' 'RRAe']\n",
      "\n",
      "Unique values in 'Condition2' column in validation data: ['Norm' 'RRAn' 'RRNn' 'Artery' 'Feedr' 'PosN']\n"
     ]
    }
   ],
   "source": [
    "print(\"Unique values in 'Condition2' column in training data:\", X_train['Condition2'].unique())\n",
    "print(\"\\nUnique values in 'Condition2' column in validation data:\", X_valid['Condition2'].unique())"
   ]
  },
  {
   "cell_type": "markdown",
   "id": "9f2892c0",
   "metadata": {
    "papermill": {
     "duration": 0.010459,
     "end_time": "2023-12-15T15:00:18.144007",
     "exception": false,
     "start_time": "2023-12-15T15:00:18.133548",
     "status": "completed"
    },
    "tags": []
   },
   "source": [
    "# Step 2: Ordinal encoding\n",
    "\n",
    "### Part A\n",
    "\n",
    "If you now write code to: \n",
    "- fit an ordinal encoder to the training data, and then \n",
    "- use it to transform both the training and validation data, \n",
    "\n",
    "you'll get an error.  Can you see why this is the case?  (_You'll need  to use the above output to answer this question._)\n",
    "\n",
    "# ステップ2：順序エンコーディング\n",
    "\n",
    "### パートA\n",
    "\n",
    "次のコードを書いてみよう： \n",
    "- 順序エンコーダを訓練データに適合させ、そして \n",
    "- それを使って訓練データと検証データの両方を変換する、 \n",
    "\n",
    "エラーが出ます。 なぜそうなるかわかりますか？ (この質問に答えるには、上記の出力を使う必要があります。）"
   ]
  },
  {
   "cell_type": "code",
   "execution_count": 9,
   "id": "e46fa619",
   "metadata": {
    "execution": {
     "iopub.execute_input": "2023-12-15T15:00:18.168240Z",
     "iopub.status.busy": "2023-12-15T15:00:18.167860Z",
     "iopub.status.idle": "2023-12-15T15:00:18.176745Z",
     "shell.execute_reply": "2023-12-15T15:00:18.175725Z"
    },
    "papermill": {
     "duration": 0.024407,
     "end_time": "2023-12-15T15:00:18.178846",
     "exception": false,
     "start_time": "2023-12-15T15:00:18.154439",
     "status": "completed"
    },
    "tags": []
   },
   "outputs": [
    {
     "data": {
      "application/javascript": [
       "parent.postMessage({\"jupyterEvent\": \"custom.exercise_interaction\", \"data\": {\"outcomeType\": 1, \"valueTowardsCompletion\": 0.5, \"interactionType\": 1, \"questionType\": 4, \"questionId\": \"2.1_LabelA\", \"learnToolsVersion\": \"0.3.4\", \"failureMessage\": \"\", \"exceptionClass\": \"\", \"trace\": \"\"}}, \"*\")"
      ],
      "text/plain": [
       "<IPython.core.display.Javascript object>"
      ]
     },
     "metadata": {},
     "output_type": "display_data"
    },
    {
     "data": {
      "text/markdown": [
       "<span style=\"color:#33cc33\">Correct:</span> \n",
       "\n",
       "Fitting an ordinal encoder to a column in the training data creates a corresponding integer-valued label for each unique value **that appears in the training data**. In the case that the validation data contains values that don't also appear in the training data, the encoder will throw an error, because these values won't have an integer assigned to them.  Notice that the `'Condition2'` column in the validation data contains the values `'RRAn'` and `'RRNn'`, but these don't appear in the training data -- thus, if we try to use an ordinal encoder with scikit-learn, the code will throw an error."
      ],
      "text/plain": [
       "Correct: \n",
       "\n",
       "Fitting an ordinal encoder to a column in the training data creates a corresponding integer-valued label for each unique value **that appears in the training data**. In the case that the validation data contains values that don't also appear in the training data, the encoder will throw an error, because these values won't have an integer assigned to them.  Notice that the `'Condition2'` column in the validation data contains the values `'RRAn'` and `'RRNn'`, but these don't appear in the training data -- thus, if we try to use an ordinal encoder with scikit-learn, the code will throw an error."
      ]
     },
     "metadata": {},
     "output_type": "display_data"
    }
   ],
   "source": [
    "# Check your answer (Run this code cell to receive credit!)\n",
    "step_2.a.check()\n",
    "\n",
    "# 順序エンコーダをトレーニングデータの列にフィットさせると、トレーニングデータに現れるユニークな値それぞれに対応する整数値のラベルが作成される。検証データにトレーニングデータにも現れない値が含まれている場合、これらの値には整数が割り当てられていないため、エンコーダはエラーを投げます。検証データの'Condition2'列には'RRAn'と'RRNn'という値が含まれていますが、これらは学習データには含まれていません。"
   ]
  },
  {
   "cell_type": "code",
   "execution_count": 10,
   "id": "90e5a303",
   "metadata": {
    "execution": {
     "iopub.execute_input": "2023-12-15T15:00:18.264850Z",
     "iopub.status.busy": "2023-12-15T15:00:18.264426Z",
     "iopub.status.idle": "2023-12-15T15:00:18.273204Z",
     "shell.execute_reply": "2023-12-15T15:00:18.272105Z"
    },
    "papermill": {
     "duration": 0.024459,
     "end_time": "2023-12-15T15:00:18.275828",
     "exception": false,
     "start_time": "2023-12-15T15:00:18.251369",
     "status": "completed"
    },
    "tags": []
   },
   "outputs": [
    {
     "data": {
      "application/javascript": [
       "parent.postMessage({\"jupyterEvent\": \"custom.exercise_interaction\", \"data\": {\"interactionType\": 2, \"questionType\": 4, \"questionId\": \"2.1_LabelA\", \"learnToolsVersion\": \"0.3.4\", \"valueTowardsCompletion\": 0.0, \"failureMessage\": \"\", \"exceptionClass\": \"\", \"trace\": \"\", \"outcomeType\": 4}}, \"*\")"
      ],
      "text/plain": [
       "<IPython.core.display.Javascript object>"
      ]
     },
     "metadata": {},
     "output_type": "display_data"
    },
    {
     "data": {
      "text/markdown": [
       "<span style=\"color:#3366cc\">Hint:</span> Are there any values that appear in the validation data but not in the training data?"
      ],
      "text/plain": [
       "Hint: Are there any values that appear in the validation data but not in the training data?"
      ]
     },
     "metadata": {},
     "output_type": "display_data"
    }
   ],
   "source": [
    "step_2.a.hint()"
   ]
  },
  {
   "cell_type": "markdown",
   "id": "6ba177e6",
   "metadata": {
    "papermill": {
     "duration": 0.01059,
     "end_time": "2023-12-15T15:00:18.298363",
     "exception": false,
     "start_time": "2023-12-15T15:00:18.287773",
     "status": "completed"
    },
    "tags": []
   },
   "source": [
    "This is a common problem that you'll encounter with real-world data, and there are many approaches to fixing this issue.  For instance, you can write a custom ordinal encoder to deal with new categories.  The simplest approach, however, is to drop the problematic categorical columns.  \n",
    "\n",
    "Run the code cell below to save the problematic columns to a Python list `bad_label_cols`.  Likewise, columns that can be safely ordinal encoded are stored in `good_label_cols`.\n",
    "\n",
    "これは実世界のデータでよく遭遇する問題であり、この問題を解決するアプローチはたくさんある。 例えば、新しいカテゴリーに対応するために、カスタムの序数エンコーダーを書くことができる。 しかし、最も簡単な方法は、問題のあるカテゴリー列を削除することです。 \n",
    "\n",
    "以下のコードセルを実行して、問題のある列を Python のリスト `bad_label_cols` に保存します。 同様に、安全に順序エンコードできる列は `good_label_cols` に保存されます。"
   ]
  },
  {
   "cell_type": "code",
   "execution_count": 11,
   "id": "3ae6cb2e",
   "metadata": {
    "execution": {
     "iopub.execute_input": "2023-12-15T15:00:18.321768Z",
     "iopub.status.busy": "2023-12-15T15:00:18.321340Z",
     "iopub.status.idle": "2023-12-15T15:00:18.334807Z",
     "shell.execute_reply": "2023-12-15T15:00:18.334061Z"
    },
    "papermill": {
     "duration": 0.027527,
     "end_time": "2023-12-15T15:00:18.336841",
     "exception": false,
     "start_time": "2023-12-15T15:00:18.309314",
     "status": "completed"
    },
    "tags": []
   },
   "outputs": [
    {
     "name": "stdout",
     "output_type": "stream",
     "text": [
      "Categorical columns that will be ordinal encoded: ['MSZoning', 'Street', 'LotShape', 'LandContour', 'Utilities', 'LotConfig', 'LandSlope', 'Neighborhood', 'Condition1', 'BldgType', 'HouseStyle', 'RoofStyle', 'Exterior1st', 'Exterior2nd', 'ExterQual', 'ExterCond', 'Foundation', 'Heating', 'HeatingQC', 'CentralAir', 'KitchenQual', 'PavedDrive', 'SaleType', 'SaleCondition']\n",
      "\n",
      "Categorical columns that will be dropped from the dataset: ['RoofMatl', 'Condition2', 'Functional']\n"
     ]
    }
   ],
   "source": [
    "# Categorical columns in the training data\n",
    "object_cols = [col for col in X_train.columns if X_train[col].dtype == \"object\"]\n",
    "\n",
    "# Columns that can be safely ordinal encoded\n",
    "good_label_cols = [col for col in object_cols if \n",
    "                   set(X_valid[col]).issubset(set(X_train[col]))]\n",
    "        \n",
    "# Problematic columns that will be dropped from the dataset\n",
    "bad_label_cols = list(set(object_cols)-set(good_label_cols))\n",
    "        \n",
    "print('Categorical columns that will be ordinal encoded:', good_label_cols)\n",
    "print('\\nCategorical columns that will be dropped from the dataset:', bad_label_cols)"
   ]
  },
  {
   "cell_type": "markdown",
   "id": "a6e375fe",
   "metadata": {
    "papermill": {
     "duration": 0.010759,
     "end_time": "2023-12-15T15:00:18.358746",
     "exception": false,
     "start_time": "2023-12-15T15:00:18.347987",
     "status": "completed"
    },
    "tags": []
   },
   "source": [
    "### Part B\n",
    "\n",
    "Use the next code cell to ordinal encode the data in `X_train` and `X_valid`.  Set the preprocessed DataFrames to `label_X_train` and `label_X_valid`, respectively.  \n",
    "- We have provided code below to drop the categorical columns in `bad_label_cols` from the dataset. \n",
    "- You should ordinal encode the categorical columns in `good_label_cols`.  \n",
    "\n",
    "### パートB\n",
    "\n",
    "次のコードセルを使って `X_train` と `X_valid` のデータを順序符号化する。 前処理済みの DataFrames をそれぞれ `label_X_train` と `label_X_valid` に設定する。 \n",
    "- データセットから `bad_label_cols` のカテゴリカラムを削除するコードを以下に示す。\n",
    "- good_label_cols` のカラムは順序エンコードする必要がある。 "
   ]
  },
  {
   "cell_type": "code",
   "execution_count": 12,
   "id": "ee3ab0e1",
   "metadata": {
    "execution": {
     "iopub.execute_input": "2023-12-15T15:00:18.383516Z",
     "iopub.status.busy": "2023-12-15T15:00:18.383098Z",
     "iopub.status.idle": "2023-12-15T15:00:18.426609Z",
     "shell.execute_reply": "2023-12-15T15:00:18.425450Z"
    },
    "papermill": {
     "duration": 0.059262,
     "end_time": "2023-12-15T15:00:18.429060",
     "exception": false,
     "start_time": "2023-12-15T15:00:18.369798",
     "status": "completed"
    },
    "tags": []
   },
   "outputs": [
    {
     "data": {
      "application/javascript": [
       "parent.postMessage({\"jupyterEvent\": \"custom.exercise_interaction\", \"data\": {\"outcomeType\": 1, \"valueTowardsCompletion\": 0.5, \"interactionType\": 1, \"questionType\": 2, \"questionId\": \"2.2_LabelB\", \"learnToolsVersion\": \"0.3.4\", \"failureMessage\": \"\", \"exceptionClass\": \"\", \"trace\": \"\"}}, \"*\")"
      ],
      "text/plain": [
       "<IPython.core.display.Javascript object>"
      ]
     },
     "metadata": {},
     "output_type": "display_data"
    },
    {
     "data": {
      "text/markdown": [
       "<span style=\"color:#33cc33\">Correct</span>"
      ],
      "text/plain": [
       "Correct"
      ]
     },
     "metadata": {},
     "output_type": "display_data"
    }
   ],
   "source": [
    "from sklearn.preprocessing import OrdinalEncoder\n",
    "\n",
    "# Drop categorical columns that will not be encoded\n",
    "label_X_train = X_train.drop(bad_label_cols, axis=1)\n",
    "label_X_valid = X_valid.drop(bad_label_cols, axis=1)\n",
    "\n",
    "# Apply ordinal encoder \n",
    "ordinal_encoder = OrdinalEncoder()\n",
    "label_X_train[good_label_cols] = ordinal_encoder.fit_transform(X_train[good_label_cols])\n",
    "label_X_valid[good_label_cols] = ordinal_encoder.transform(X_valid[good_label_cols])\n",
    "    \n",
    "# Check your answer\n",
    "step_2.b.check()"
   ]
  },
  {
   "cell_type": "code",
   "execution_count": 13,
   "id": "cb25a379",
   "metadata": {
    "execution": {
     "iopub.execute_input": "2023-12-15T15:00:18.455258Z",
     "iopub.status.busy": "2023-12-15T15:00:18.454586Z",
     "iopub.status.idle": "2023-12-15T15:00:18.465286Z",
     "shell.execute_reply": "2023-12-15T15:00:18.464109Z"
    },
    "papermill": {
     "duration": 0.026937,
     "end_time": "2023-12-15T15:00:18.467320",
     "exception": false,
     "start_time": "2023-12-15T15:00:18.440383",
     "status": "completed"
    },
    "tags": []
   },
   "outputs": [
    {
     "data": {
      "application/javascript": [
       "parent.postMessage({\"jupyterEvent\": \"custom.exercise_interaction\", \"data\": {\"interactionType\": 2, \"questionType\": 2, \"questionId\": \"2.2_LabelB\", \"learnToolsVersion\": \"0.3.4\", \"valueTowardsCompletion\": 0.0, \"failureMessage\": \"\", \"exceptionClass\": \"\", \"trace\": \"\", \"outcomeType\": 4}}, \"*\")"
      ],
      "text/plain": [
       "<IPython.core.display.Javascript object>"
      ]
     },
     "metadata": {},
     "output_type": "display_data"
    },
    {
     "data": {
      "text/markdown": [
       "<span style=\"color:#3366cc\">Hint:</span> Use the `OrdinalEncoder` class from scikit-learn. You should only encode the columns in `good_label_cols`."
      ],
      "text/plain": [
       "Hint: Use the `OrdinalEncoder` class from scikit-learn. You should only encode the columns in `good_label_cols`."
      ]
     },
     "metadata": {},
     "output_type": "display_data"
    },
    {
     "data": {
      "application/javascript": [
       "parent.postMessage({\"jupyterEvent\": \"custom.exercise_interaction\", \"data\": {\"interactionType\": 3, \"questionType\": 2, \"questionId\": \"2.2_LabelB\", \"learnToolsVersion\": \"0.3.4\", \"valueTowardsCompletion\": 0.0, \"failureMessage\": \"\", \"exceptionClass\": \"\", \"trace\": \"\", \"outcomeType\": 4}}, \"*\")"
      ],
      "text/plain": [
       "<IPython.core.display.Javascript object>"
      ]
     },
     "metadata": {},
     "output_type": "display_data"
    },
    {
     "data": {
      "text/markdown": [
       "<span style=\"color:#33cc99\">Solution:</span> \n",
       "```python\n",
       "# Drop categorical columns that will not be encoded\n",
       "label_X_train = X_train.drop(bad_label_cols, axis=1)\n",
       "label_X_valid = X_valid.drop(bad_label_cols, axis=1)\n",
       "\n",
       "# Apply ordinal encoder\n",
       "ordinal_encoder = OrdinalEncoder()\n",
       "label_X_train[good_label_cols] = ordinal_encoder.fit_transform(X_train[good_label_cols])\n",
       "label_X_valid[good_label_cols] = ordinal_encoder.transform(X_valid[good_label_cols])\n",
       "\n",
       "```"
      ],
      "text/plain": [
       "Solution: \n",
       "```python\n",
       "# Drop categorical columns that will not be encoded\n",
       "label_X_train = X_train.drop(bad_label_cols, axis=1)\n",
       "label_X_valid = X_valid.drop(bad_label_cols, axis=1)\n",
       "\n",
       "# Apply ordinal encoder\n",
       "ordinal_encoder = OrdinalEncoder()\n",
       "label_X_train[good_label_cols] = ordinal_encoder.fit_transform(X_train[good_label_cols])\n",
       "label_X_valid[good_label_cols] = ordinal_encoder.transform(X_valid[good_label_cols])\n",
       "\n",
       "```"
      ]
     },
     "metadata": {},
     "output_type": "display_data"
    }
   ],
   "source": [
    "# Lines below will give you a hint or solution code\n",
    "step_2.b.hint()\n",
    "step_2.b.solution()"
   ]
  },
  {
   "cell_type": "markdown",
   "id": "8926436e",
   "metadata": {
    "papermill": {
     "duration": 0.011472,
     "end_time": "2023-12-15T15:00:18.490950",
     "exception": false,
     "start_time": "2023-12-15T15:00:18.479478",
     "status": "completed"
    },
    "tags": []
   },
   "source": [
    "Run the next code cell to get the MAE for this approach."
   ]
  },
  {
   "cell_type": "code",
   "execution_count": 14,
   "id": "2b966735",
   "metadata": {
    "execution": {
     "iopub.execute_input": "2023-12-15T15:00:18.516727Z",
     "iopub.status.busy": "2023-12-15T15:00:18.515606Z",
     "iopub.status.idle": "2023-12-15T15:00:20.100856Z",
     "shell.execute_reply": "2023-12-15T15:00:20.099597Z"
    },
    "papermill": {
     "duration": 1.600677,
     "end_time": "2023-12-15T15:00:20.103331",
     "exception": false,
     "start_time": "2023-12-15T15:00:18.502654",
     "status": "completed"
    },
    "tags": []
   },
   "outputs": [
    {
     "name": "stdout",
     "output_type": "stream",
     "text": [
      "MAE from Approach 2 (Ordinal Encoding):\n",
      "17098.01649543379\n"
     ]
    }
   ],
   "source": [
    "print(\"MAE from Approach 2 (Ordinal Encoding):\") \n",
    "print(score_dataset(label_X_train, label_X_valid, y_train, y_valid))"
   ]
  },
  {
   "cell_type": "markdown",
   "id": "3884aae9",
   "metadata": {
    "papermill": {
     "duration": 0.011634,
     "end_time": "2023-12-15T15:00:20.127712",
     "exception": false,
     "start_time": "2023-12-15T15:00:20.116078",
     "status": "completed"
    },
    "tags": []
   },
   "source": [
    "So far, you've tried two different approaches to dealing with categorical variables.  And, you've seen that encoding categorical data yields better results than removing columns from the dataset.\n",
    "\n",
    "Soon, you'll try one-hot encoding.  Before then, there's one additional topic we need to cover.  Begin by running the next code cell without changes.  \n",
    "\n",
    "これまで、あなたはカテゴリー変数を扱う2つの異なるアプローチを試してきた。 そして、データセットから列を削除するよりも、カテゴリーデータをエンコードした方が良い結果が得られることがわかっただろう。\n",
    "\n",
    "すぐに、ワンホットエンコーディングを試してみましょう。 その前に、1つ補足しなければならないことがある。 次のコードセルを変更せずに実行することから始めてください。 "
   ]
  },
  {
   "cell_type": "code",
   "execution_count": 15,
   "id": "0c7d568e",
   "metadata": {
    "execution": {
     "iopub.execute_input": "2023-12-15T15:00:20.153338Z",
     "iopub.status.busy": "2023-12-15T15:00:20.152417Z",
     "iopub.status.idle": "2023-12-15T15:00:20.164149Z",
     "shell.execute_reply": "2023-12-15T15:00:20.163366Z"
    },
    "papermill": {
     "duration": 0.026802,
     "end_time": "2023-12-15T15:00:20.166237",
     "exception": false,
     "start_time": "2023-12-15T15:00:20.139435",
     "status": "completed"
    },
    "tags": []
   },
   "outputs": [
    {
     "data": {
      "text/plain": [
       "[('Street', 2),\n",
       " ('Utilities', 2),\n",
       " ('CentralAir', 2),\n",
       " ('LandSlope', 3),\n",
       " ('PavedDrive', 3),\n",
       " ('LotShape', 4),\n",
       " ('LandContour', 4),\n",
       " ('ExterQual', 4),\n",
       " ('KitchenQual', 4),\n",
       " ('MSZoning', 5),\n",
       " ('LotConfig', 5),\n",
       " ('BldgType', 5),\n",
       " ('ExterCond', 5),\n",
       " ('HeatingQC', 5),\n",
       " ('Condition2', 6),\n",
       " ('RoofStyle', 6),\n",
       " ('Foundation', 6),\n",
       " ('Heating', 6),\n",
       " ('Functional', 6),\n",
       " ('SaleCondition', 6),\n",
       " ('RoofMatl', 7),\n",
       " ('HouseStyle', 8),\n",
       " ('Condition1', 9),\n",
       " ('SaleType', 9),\n",
       " ('Exterior1st', 15),\n",
       " ('Exterior2nd', 16),\n",
       " ('Neighborhood', 25)]"
      ]
     },
     "execution_count": 15,
     "metadata": {},
     "output_type": "execute_result"
    }
   ],
   "source": [
    "# Get number of unique entries in each column with categorical data\n",
    "object_nunique = list(map(lambda col: X_train[col].nunique(), object_cols))\n",
    "d = dict(zip(object_cols, object_nunique))\n",
    "\n",
    "# Print number of unique entries by column, in ascending order\n",
    "sorted(d.items(), key=lambda x: x[1])"
   ]
  },
  {
   "cell_type": "markdown",
   "id": "f21f7485",
   "metadata": {
    "papermill": {
     "duration": 0.012846,
     "end_time": "2023-12-15T15:00:20.191185",
     "exception": false,
     "start_time": "2023-12-15T15:00:20.178339",
     "status": "completed"
    },
    "tags": []
   },
   "source": [
    "# Step 3: Investigating cardinality\n",
    "\n",
    "### Part A\n",
    "\n",
    "The output above shows, for each column with categorical data, the number of unique values in the column.  For instance, the `'Street'` column in the training data has two unique values: `'Grvl'` and `'Pave'`, corresponding to a gravel road and a paved road, respectively.\n",
    "\n",
    "We refer to the number of unique entries of a categorical variable as the **cardinality** of that categorical variable.  For instance, the `'Street'` variable has cardinality 2.\n",
    "\n",
    "Use the output above to answer the questions below.\n",
    "\n",
    "# ステップ3：カーディナリティの調査\n",
    "\n",
    "### パートA\n",
    "\n",
    "上の出力は、カテゴリーデータを持つ各列について、その列の一意な値の数を示している。 例えば、トレーニングデータの `'Street'` 列には2つのユニークな値があります： それぞれ砂利道と舗装道路に対応する。\n",
    "\n",
    "あるカテゴリカル変数のユニークなエントリの数を、そのカテゴリカル変数の**カージナリティ**と呼ぶ。 例えば、`'Street'` 変数のカージナリ ティは2である。\n",
    "\n",
    "上の出力を使って、以下の質問に答えなさい。"
   ]
  },
  {
   "cell_type": "code",
   "execution_count": 16,
   "id": "c3f244e1",
   "metadata": {
    "execution": {
     "iopub.execute_input": "2023-12-15T15:00:20.218814Z",
     "iopub.status.busy": "2023-12-15T15:00:20.218078Z",
     "iopub.status.idle": "2023-12-15T15:00:20.226177Z",
     "shell.execute_reply": "2023-12-15T15:00:20.225147Z"
    },
    "papermill": {
     "duration": 0.024434,
     "end_time": "2023-12-15T15:00:20.228221",
     "exception": false,
     "start_time": "2023-12-15T15:00:20.203787",
     "status": "completed"
    },
    "tags": []
   },
   "outputs": [
    {
     "data": {
      "application/javascript": [
       "parent.postMessage({\"jupyterEvent\": \"custom.exercise_interaction\", \"data\": {\"outcomeType\": 1, \"valueTowardsCompletion\": 0.5, \"interactionType\": 1, \"questionType\": 1, \"questionId\": \"3.1_CardinalityA\", \"learnToolsVersion\": \"0.3.4\", \"failureMessage\": \"\", \"exceptionClass\": \"\", \"trace\": \"\"}}, \"*\")"
      ],
      "text/plain": [
       "<IPython.core.display.Javascript object>"
      ]
     },
     "metadata": {},
     "output_type": "display_data"
    },
    {
     "data": {
      "text/markdown": [
       "<span style=\"color:#33cc33\">Correct</span>"
      ],
      "text/plain": [
       "Correct"
      ]
     },
     "metadata": {},
     "output_type": "display_data"
    }
   ],
   "source": [
    "# Fill in the line below: How many categorical variables in the training data\n",
    "# have cardinality greater than 10?\n",
    "high_cardinality_numcols = 3\n",
    "\n",
    "# Fill in the line below: How many columns are needed to one-hot encode the \n",
    "# 'Neighborhood' variable in the training data?\n",
    "num_cols_neighborhood = 25\n",
    "\n",
    "# Check your answers\n",
    "step_3.a.check()"
   ]
  },
  {
   "cell_type": "code",
   "execution_count": 17,
   "id": "0d089c6c",
   "metadata": {
    "execution": {
     "iopub.execute_input": "2023-12-15T15:00:20.255428Z",
     "iopub.status.busy": "2023-12-15T15:00:20.254725Z",
     "iopub.status.idle": "2023-12-15T15:00:20.264691Z",
     "shell.execute_reply": "2023-12-15T15:00:20.263868Z"
    },
    "papermill": {
     "duration": 0.025766,
     "end_time": "2023-12-15T15:00:20.266786",
     "exception": false,
     "start_time": "2023-12-15T15:00:20.241020",
     "status": "completed"
    },
    "tags": []
   },
   "outputs": [
    {
     "data": {
      "application/javascript": [
       "parent.postMessage({\"jupyterEvent\": \"custom.exercise_interaction\", \"data\": {\"interactionType\": 2, \"questionType\": 1, \"questionId\": \"3.1_CardinalityA\", \"learnToolsVersion\": \"0.3.4\", \"valueTowardsCompletion\": 0.0, \"failureMessage\": \"\", \"exceptionClass\": \"\", \"trace\": \"\", \"outcomeType\": 4}}, \"*\")"
      ],
      "text/plain": [
       "<IPython.core.display.Javascript object>"
      ]
     },
     "metadata": {},
     "output_type": "display_data"
    },
    {
     "data": {
      "text/markdown": [
       "<span style=\"color:#3366cc\">Hint:</span> To one-hot encode a variable, we need one column for each unique entry."
      ],
      "text/plain": [
       "Hint: To one-hot encode a variable, we need one column for each unique entry."
      ]
     },
     "metadata": {},
     "output_type": "display_data"
    },
    {
     "data": {
      "application/javascript": [
       "parent.postMessage({\"jupyterEvent\": \"custom.exercise_interaction\", \"data\": {\"interactionType\": 3, \"questionType\": 1, \"questionId\": \"3.1_CardinalityA\", \"learnToolsVersion\": \"0.3.4\", \"valueTowardsCompletion\": 0.0, \"failureMessage\": \"\", \"exceptionClass\": \"\", \"trace\": \"\", \"outcomeType\": 4}}, \"*\")"
      ],
      "text/plain": [
       "<IPython.core.display.Javascript object>"
      ]
     },
     "metadata": {},
     "output_type": "display_data"
    },
    {
     "data": {
      "text/markdown": [
       "<span style=\"color:#33cc99\">Solution:</span> \n",
       "```python\n",
       "# How many categorical variables in the training data\n",
       "# have cardinality greater than 10?\n",
       "high_cardinality_numcols = 3\n",
       "\n",
       "# How many columns are needed to one-hot encode the\n",
       "# 'Neighborhood' variable in the training data?\n",
       "num_cols_neighborhood = 25\n",
       "\n",
       "```"
      ],
      "text/plain": [
       "Solution: \n",
       "```python\n",
       "# How many categorical variables in the training data\n",
       "# have cardinality greater than 10?\n",
       "high_cardinality_numcols = 3\n",
       "\n",
       "# How many columns are needed to one-hot encode the\n",
       "# 'Neighborhood' variable in the training data?\n",
       "num_cols_neighborhood = 25\n",
       "\n",
       "```"
      ]
     },
     "metadata": {},
     "output_type": "display_data"
    }
   ],
   "source": [
    "# Lines below will give you a hint or solution code\n",
    "step_3.a.hint()\n",
    "step_3.a.solution()"
   ]
  },
  {
   "cell_type": "markdown",
   "id": "04567285",
   "metadata": {
    "papermill": {
     "duration": 0.012829,
     "end_time": "2023-12-15T15:00:20.292998",
     "exception": false,
     "start_time": "2023-12-15T15:00:20.280169",
     "status": "completed"
    },
    "tags": []
   },
   "source": [
    "### Part B\n",
    "\n",
    "For large datasets with many rows, one-hot encoding can greatly expand the size of the dataset.  For this reason, we typically will only one-hot encode columns with relatively low cardinality.  Then, high cardinality columns can either be dropped from the dataset, or we can use ordinal encoding.\n",
    "\n",
    "As an example, consider a dataset with 10,000 rows, and containing one categorical column with 100 unique entries.  \n",
    "- If this column is replaced with the corresponding one-hot encoding, how many entries are added to the dataset?  \n",
    "- If we instead replace the column with the ordinal encoding, how many entries are added?  \n",
    "\n",
    "Use your answers to fill in the lines below.\n",
    "\n",
    "### パートB\n",
    "\n",
    "多くの行を持つ大規模なデータセットでは、ワンホットエンコーディングはデータセットの サイズを大幅に拡大する可能性がある。 このため、通常は比較的カーディナリティの低い列だけをワンホットエンコーディングする。 そして、カーディナリティの高い列はデータセットから取り除くか、順序エンコードを使う。\n",
    "\n",
    "例として、10,000行のデータセットがあり、100のユニークなエントリーを持つ1つのカテゴリーカラムがあるとする。 \n",
    "- この列を対応する1-hotエンコーディングに置き換えた場合、データセットに何個のエントリーが追加されるだろうか？ \n",
    "- この列を順序符号化で置き換えた場合，何個の項目が追加されるか． \n",
    "\n",
    "あなたの答えを使って下の行を埋めなさい．"
   ]
  },
  {
   "cell_type": "code",
   "execution_count": 18,
   "id": "f534ebf0",
   "metadata": {
    "execution": {
     "iopub.execute_input": "2023-12-15T15:00:20.321254Z",
     "iopub.status.busy": "2023-12-15T15:00:20.320534Z",
     "iopub.status.idle": "2023-12-15T15:00:20.328001Z",
     "shell.execute_reply": "2023-12-15T15:00:20.327176Z"
    },
    "papermill": {
     "duration": 0.023613,
     "end_time": "2023-12-15T15:00:20.329932",
     "exception": false,
     "start_time": "2023-12-15T15:00:20.306319",
     "status": "completed"
    },
    "tags": []
   },
   "outputs": [
    {
     "data": {
      "application/javascript": [
       "parent.postMessage({\"jupyterEvent\": \"custom.exercise_interaction\", \"data\": {\"outcomeType\": 1, \"valueTowardsCompletion\": 0.5, \"interactionType\": 1, \"questionType\": 1, \"questionId\": \"3.2_CardinalityB\", \"learnToolsVersion\": \"0.3.4\", \"failureMessage\": \"\", \"exceptionClass\": \"\", \"trace\": \"\"}}, \"*\")"
      ],
      "text/plain": [
       "<IPython.core.display.Javascript object>"
      ]
     },
     "metadata": {},
     "output_type": "display_data"
    },
    {
     "data": {
      "text/markdown": [
       "<span style=\"color:#33cc33\">Correct</span>"
      ],
      "text/plain": [
       "Correct"
      ]
     },
     "metadata": {},
     "output_type": "display_data"
    }
   ],
   "source": [
    "# Fill in the line below: How many entries are added to the dataset by \n",
    "# replacing the column with a one-hot encoding?\n",
    "OH_entries_added = 1e4*100 - 1e4\n",
    "\n",
    "# Fill in the line below: How many entries are added to the dataset by\n",
    "# replacing the column with an ordinal encoding?\n",
    "label_entries_added = 0\n",
    "# Check your answers\n",
    "step_3.b.check()"
   ]
  },
  {
   "cell_type": "code",
   "execution_count": 19,
   "id": "ec4a7908",
   "metadata": {
    "execution": {
     "iopub.execute_input": "2023-12-15T15:00:20.358577Z",
     "iopub.status.busy": "2023-12-15T15:00:20.357869Z",
     "iopub.status.idle": "2023-12-15T15:00:20.369087Z",
     "shell.execute_reply": "2023-12-15T15:00:20.368020Z"
    },
    "papermill": {
     "duration": 0.027972,
     "end_time": "2023-12-15T15:00:20.371344",
     "exception": false,
     "start_time": "2023-12-15T15:00:20.343372",
     "status": "completed"
    },
    "tags": []
   },
   "outputs": [
    {
     "data": {
      "application/javascript": [
       "parent.postMessage({\"jupyterEvent\": \"custom.exercise_interaction\", \"data\": {\"interactionType\": 2, \"questionType\": 1, \"questionId\": \"3.2_CardinalityB\", \"learnToolsVersion\": \"0.3.4\", \"valueTowardsCompletion\": 0.0, \"failureMessage\": \"\", \"exceptionClass\": \"\", \"trace\": \"\", \"outcomeType\": 4}}, \"*\")"
      ],
      "text/plain": [
       "<IPython.core.display.Javascript object>"
      ]
     },
     "metadata": {},
     "output_type": "display_data"
    },
    {
     "data": {
      "text/markdown": [
       "<span style=\"color:#3366cc\">Hint:</span> To calculate how many entries are added to the dataset through the one-hot encoding, begin by calculating how many entries are needed to encode the categorical variable (by multiplying the number of rows by the number of columns in the one-hot encoding). Then, to obtain how many entries are **added** to the dataset, subtract the number of entries in the original column."
      ],
      "text/plain": [
       "Hint: To calculate how many entries are added to the dataset through the one-hot encoding, begin by calculating how many entries are needed to encode the categorical variable (by multiplying the number of rows by the number of columns in the one-hot encoding). Then, to obtain how many entries are **added** to the dataset, subtract the number of entries in the original column."
      ]
     },
     "metadata": {},
     "output_type": "display_data"
    },
    {
     "data": {
      "application/javascript": [
       "parent.postMessage({\"jupyterEvent\": \"custom.exercise_interaction\", \"data\": {\"interactionType\": 3, \"questionType\": 1, \"questionId\": \"3.2_CardinalityB\", \"learnToolsVersion\": \"0.3.4\", \"valueTowardsCompletion\": 0.0, \"failureMessage\": \"\", \"exceptionClass\": \"\", \"trace\": \"\", \"outcomeType\": 4}}, \"*\")"
      ],
      "text/plain": [
       "<IPython.core.display.Javascript object>"
      ]
     },
     "metadata": {},
     "output_type": "display_data"
    },
    {
     "data": {
      "text/markdown": [
       "<span style=\"color:#33cc99\">Solution:</span> \n",
       "```python\n",
       "# How many entries are added to the dataset by\n",
       "# replacing the column with a one-hot encoding?\n",
       "OH_entries_added = 1e4*100 - 1e4\n",
       "\n",
       "# How many entries are added to the dataset by\n",
       "# replacing the column with an ordinal encoding?\n",
       "label_entries_added = 0\n",
       "\n",
       "```"
      ],
      "text/plain": [
       "Solution: \n",
       "```python\n",
       "# How many entries are added to the dataset by\n",
       "# replacing the column with a one-hot encoding?\n",
       "OH_entries_added = 1e4*100 - 1e4\n",
       "\n",
       "# How many entries are added to the dataset by\n",
       "# replacing the column with an ordinal encoding?\n",
       "label_entries_added = 0\n",
       "\n",
       "```"
      ]
     },
     "metadata": {},
     "output_type": "display_data"
    }
   ],
   "source": [
    "# Lines below will give you a hint or solution code\n",
    "step_3.b.hint()\n",
    "step_3.b.solution()"
   ]
  },
  {
   "cell_type": "markdown",
   "id": "2989754d",
   "metadata": {
    "papermill": {
     "duration": 0.013321,
     "end_time": "2023-12-15T15:00:20.398348",
     "exception": false,
     "start_time": "2023-12-15T15:00:20.385027",
     "status": "completed"
    },
    "tags": []
   },
   "source": [
    "Next, you'll experiment with one-hot encoding.  But, instead of encoding all of the categorical variables in the dataset, you'll only create a one-hot encoding for columns with cardinality less than 10.\n",
    "\n",
    "Run the code cell below without changes to set `low_cardinality_cols` to a Python list containing the columns that will be one-hot encoded.  Likewise, `high_cardinality_cols` contains a list of categorical columns that will be dropped from the dataset.\n",
    "\n",
    "次に、ワンホットエンコーディングを試してみる。 しかし、データセットの全てのカテゴリー変数をエンコードするのではなく、カーディナリティが10未満の列に対してのみワンホットエンコーディングを行います。\n",
    "\n",
    "以下のコードセルを変更せずに実行し、`low_cardinality_cols` をワンホットエンコーディングされる列を含む Python のリストに設定します。 同様に、`high_cardinality_cols` にはデータセットから削除されるカテゴリカルカラムのリストが格納される。"
   ]
  },
  {
   "cell_type": "code",
   "execution_count": 20,
   "id": "d24dd975",
   "metadata": {
    "execution": {
     "iopub.execute_input": "2023-12-15T15:00:20.428567Z",
     "iopub.status.busy": "2023-12-15T15:00:20.427622Z",
     "iopub.status.idle": "2023-12-15T15:00:20.439118Z",
     "shell.execute_reply": "2023-12-15T15:00:20.437861Z"
    },
    "papermill": {
     "duration": 0.029221,
     "end_time": "2023-12-15T15:00:20.441494",
     "exception": false,
     "start_time": "2023-12-15T15:00:20.412273",
     "status": "completed"
    },
    "tags": []
   },
   "outputs": [
    {
     "name": "stdout",
     "output_type": "stream",
     "text": [
      "Categorical columns that will be one-hot encoded: ['MSZoning', 'Street', 'LotShape', 'LandContour', 'Utilities', 'LotConfig', 'LandSlope', 'Condition1', 'Condition2', 'BldgType', 'HouseStyle', 'RoofStyle', 'RoofMatl', 'ExterQual', 'ExterCond', 'Foundation', 'Heating', 'HeatingQC', 'CentralAir', 'KitchenQual', 'Functional', 'PavedDrive', 'SaleType', 'SaleCondition']\n",
      "\n",
      "Categorical columns that will be dropped from the dataset: ['Exterior2nd', 'Neighborhood', 'Exterior1st']\n"
     ]
    }
   ],
   "source": [
    "# Columns that will be one-hot encoded\n",
    "low_cardinality_cols = [col for col in object_cols if X_train[col].nunique() < 10]\n",
    "\n",
    "# Columns that will be dropped from the dataset\n",
    "high_cardinality_cols = list(set(object_cols)-set(low_cardinality_cols))\n",
    "\n",
    "print('Categorical columns that will be one-hot encoded:', low_cardinality_cols)\n",
    "print('\\nCategorical columns that will be dropped from the dataset:', high_cardinality_cols)"
   ]
  },
  {
   "cell_type": "markdown",
   "id": "0c9ae0c1",
   "metadata": {
    "papermill": {
     "duration": 0.013253,
     "end_time": "2023-12-15T15:00:20.469065",
     "exception": false,
     "start_time": "2023-12-15T15:00:20.455812",
     "status": "completed"
    },
    "tags": []
   },
   "source": [
    "# Step 4: One-hot encoding\n",
    "\n",
    "Use the next code cell to one-hot encode the data in `X_train` and `X_valid`.  Set the preprocessed DataFrames to `OH_X_train` and `OH_X_valid`, respectively.  \n",
    "- The full list of categorical columns in the dataset can be found in the Python list `object_cols`.\n",
    "- You should only one-hot encode the categorical columns in `low_cardinality_cols`.  All other categorical columns should be dropped from the dataset. \n",
    "\n",
    "# ステップ4：ワンホットエンコーディング\n",
    "\n",
    "次のコードセルを使って `X_train` と `X_valid` のデータをワンホットエンコードする。 前処理済みのDataFramesをそれぞれ `OH_X_train` と `OH_X_valid` に設定する。 \n",
    "- データセットのカテゴリカラムの全リストは Python のリスト `object_cols` にある。\n",
    "- low_cardinality_cols`にあるカテゴリカラムのみを1-hotエンコードする必要がある。 それ以外のカラムはデータセットから取り除くべきである。"
   ]
  },
  {
   "cell_type": "code",
   "execution_count": 21,
   "id": "8723fd8e",
   "metadata": {
    "execution": {
     "iopub.execute_input": "2023-12-15T15:00:20.498250Z",
     "iopub.status.busy": "2023-12-15T15:00:20.497189Z",
     "iopub.status.idle": "2023-12-15T15:00:20.544157Z",
     "shell.execute_reply": "2023-12-15T15:00:20.543192Z"
    },
    "papermill": {
     "duration": 0.064019,
     "end_time": "2023-12-15T15:00:20.546546",
     "exception": false,
     "start_time": "2023-12-15T15:00:20.482527",
     "status": "completed"
    },
    "tags": []
   },
   "outputs": [
    {
     "name": "stderr",
     "output_type": "stream",
     "text": [
      "/opt/conda/lib/python3.10/site-packages/sklearn/preprocessing/_encoders.py:868: FutureWarning: `sparse` was renamed to `sparse_output` in version 1.2 and will be removed in 1.4. `sparse_output` is ignored unless you leave `sparse` to its default value.\n",
      "  warnings.warn(\n"
     ]
    },
    {
     "data": {
      "application/javascript": [
       "parent.postMessage({\"jupyterEvent\": \"custom.exercise_interaction\", \"data\": {\"outcomeType\": 1, \"valueTowardsCompletion\": 0.5, \"interactionType\": 1, \"questionType\": 2, \"questionId\": \"4_OneHot\", \"learnToolsVersion\": \"0.3.4\", \"failureMessage\": \"\", \"exceptionClass\": \"\", \"trace\": \"\"}}, \"*\")"
      ],
      "text/plain": [
       "<IPython.core.display.Javascript object>"
      ]
     },
     "metadata": {},
     "output_type": "display_data"
    },
    {
     "data": {
      "text/markdown": [
       "<span style=\"color:#33cc33\">Correct</span>"
      ],
      "text/plain": [
       "Correct"
      ]
     },
     "metadata": {},
     "output_type": "display_data"
    }
   ],
   "source": [
    "from sklearn.preprocessing import OneHotEncoder\n",
    "\n",
    "# Use as many lines of code as you need!\n",
    "\n",
    "# Apply one-hot encoder to each column with categorical data\n",
    "OH_encoder = OneHotEncoder(handle_unknown='ignore', sparse=False)\n",
    "OH_cols_train = pd.DataFrame(OH_encoder.fit_transform(X_train[low_cardinality_cols]))\n",
    "OH_cols_valid = pd.DataFrame(OH_encoder.transform(X_valid[low_cardinality_cols]))\n",
    "\n",
    "# One-hot encoding removed index; put it back\n",
    "OH_cols_train.index = X_train.index\n",
    "OH_cols_valid.index = X_valid.index\n",
    "\n",
    "# Remove categorical columns (will replace with one-hot encoding)\n",
    "num_X_train = X_train.drop(object_cols, axis=1)\n",
    "num_X_valid = X_valid.drop(object_cols, axis=1)\n",
    "\n",
    "# Add one-hot encoded columns to numerical features\n",
    "OH_X_train = pd.concat([num_X_train, OH_cols_train], axis=1)\n",
    "OH_X_valid = pd.concat([num_X_valid, OH_cols_valid], axis=1)\n",
    "\n",
    "# Ensure all columns have string type\n",
    "OH_X_train.columns = OH_X_train.columns.astype(str)\n",
    "OH_X_valid.columns = OH_X_valid.columns.astype(str)\n",
    "# Check your answer\n",
    "step_4.check()"
   ]
  },
  {
   "cell_type": "code",
   "execution_count": 22,
   "id": "2cfc7b31",
   "metadata": {
    "execution": {
     "iopub.execute_input": "2023-12-15T15:00:20.576656Z",
     "iopub.status.busy": "2023-12-15T15:00:20.576270Z",
     "iopub.status.idle": "2023-12-15T15:00:20.586824Z",
     "shell.execute_reply": "2023-12-15T15:00:20.585784Z"
    },
    "papermill": {
     "duration": 0.028316,
     "end_time": "2023-12-15T15:00:20.588866",
     "exception": false,
     "start_time": "2023-12-15T15:00:20.560550",
     "status": "completed"
    },
    "tags": []
   },
   "outputs": [
    {
     "data": {
      "application/javascript": [
       "parent.postMessage({\"jupyterEvent\": \"custom.exercise_interaction\", \"data\": {\"interactionType\": 2, \"questionType\": 2, \"questionId\": \"4_OneHot\", \"learnToolsVersion\": \"0.3.4\", \"valueTowardsCompletion\": 0.0, \"failureMessage\": \"\", \"exceptionClass\": \"\", \"trace\": \"\", \"outcomeType\": 4}}, \"*\")"
      ],
      "text/plain": [
       "<IPython.core.display.Javascript object>"
      ]
     },
     "metadata": {},
     "output_type": "display_data"
    },
    {
     "data": {
      "text/markdown": [
       "<span style=\"color:#3366cc\">Hint:</span> Begin by applying the one-hot encoder to the low cardinality columns in the training and validation data in `X_train[low_cardinality_cols]` and `X_valid[low_cardinality_cols]`, respectively."
      ],
      "text/plain": [
       "Hint: Begin by applying the one-hot encoder to the low cardinality columns in the training and validation data in `X_train[low_cardinality_cols]` and `X_valid[low_cardinality_cols]`, respectively."
      ]
     },
     "metadata": {},
     "output_type": "display_data"
    },
    {
     "data": {
      "application/javascript": [
       "parent.postMessage({\"jupyterEvent\": \"custom.exercise_interaction\", \"data\": {\"interactionType\": 3, \"questionType\": 2, \"questionId\": \"4_OneHot\", \"learnToolsVersion\": \"0.3.4\", \"valueTowardsCompletion\": 0.0, \"failureMessage\": \"\", \"exceptionClass\": \"\", \"trace\": \"\", \"outcomeType\": 4}}, \"*\")"
      ],
      "text/plain": [
       "<IPython.core.display.Javascript object>"
      ]
     },
     "metadata": {},
     "output_type": "display_data"
    },
    {
     "data": {
      "text/markdown": [
       "<span style=\"color:#33cc99\">Solution:</span> \n",
       "```python\n",
       "# Apply one-hot encoder to each column with categorical data\n",
       "OH_encoder = OneHotEncoder(handle_unknown='ignore', sparse=False)\n",
       "OH_cols_train = pd.DataFrame(OH_encoder.fit_transform(X_train[low_cardinality_cols]))\n",
       "OH_cols_valid = pd.DataFrame(OH_encoder.transform(X_valid[low_cardinality_cols]))\n",
       "\n",
       "# One-hot encoding removed index; put it back\n",
       "OH_cols_train.index = X_train.index\n",
       "OH_cols_valid.index = X_valid.index\n",
       "\n",
       "# Remove categorical columns (will replace with one-hot encoding)\n",
       "num_X_train = X_train.drop(object_cols, axis=1)\n",
       "num_X_valid = X_valid.drop(object_cols, axis=1)\n",
       "\n",
       "# Add one-hot encoded columns to numerical features\n",
       "OH_X_train = pd.concat([num_X_train, OH_cols_train], axis=1)\n",
       "OH_X_valid = pd.concat([num_X_valid, OH_cols_valid], axis=1)\n",
       "\n",
       "# Ensure all columns have string type\n",
       "OH_X_train.columns = OH_X_train.columns.astype(str)\n",
       "OH_X_valid.columns = OH_X_valid.columns.astype(str)\n",
       "\n",
       "```"
      ],
      "text/plain": [
       "Solution: \n",
       "```python\n",
       "# Apply one-hot encoder to each column with categorical data\n",
       "OH_encoder = OneHotEncoder(handle_unknown='ignore', sparse=False)\n",
       "OH_cols_train = pd.DataFrame(OH_encoder.fit_transform(X_train[low_cardinality_cols]))\n",
       "OH_cols_valid = pd.DataFrame(OH_encoder.transform(X_valid[low_cardinality_cols]))\n",
       "\n",
       "# One-hot encoding removed index; put it back\n",
       "OH_cols_train.index = X_train.index\n",
       "OH_cols_valid.index = X_valid.index\n",
       "\n",
       "# Remove categorical columns (will replace with one-hot encoding)\n",
       "num_X_train = X_train.drop(object_cols, axis=1)\n",
       "num_X_valid = X_valid.drop(object_cols, axis=1)\n",
       "\n",
       "# Add one-hot encoded columns to numerical features\n",
       "OH_X_train = pd.concat([num_X_train, OH_cols_train], axis=1)\n",
       "OH_X_valid = pd.concat([num_X_valid, OH_cols_valid], axis=1)\n",
       "\n",
       "# Ensure all columns have string type\n",
       "OH_X_train.columns = OH_X_train.columns.astype(str)\n",
       "OH_X_valid.columns = OH_X_valid.columns.astype(str)\n",
       "\n",
       "```"
      ]
     },
     "metadata": {},
     "output_type": "display_data"
    }
   ],
   "source": [
    "# Lines below will give you a hint or solution code\n",
    "step_4.hint()\n",
    "step_4.solution()"
   ]
  },
  {
   "cell_type": "markdown",
   "id": "31b3e456",
   "metadata": {
    "papermill": {
     "duration": 0.014045,
     "end_time": "2023-12-15T15:00:20.617227",
     "exception": false,
     "start_time": "2023-12-15T15:00:20.603182",
     "status": "completed"
    },
    "tags": []
   },
   "source": [
    "Run the next code cell to get the MAE for this approach."
   ]
  },
  {
   "cell_type": "code",
   "execution_count": 23,
   "id": "bde38e69",
   "metadata": {
    "execution": {
     "iopub.execute_input": "2023-12-15T15:00:20.648380Z",
     "iopub.status.busy": "2023-12-15T15:00:20.647521Z",
     "iopub.status.idle": "2023-12-15T15:00:22.682284Z",
     "shell.execute_reply": "2023-12-15T15:00:22.681165Z"
    },
    "papermill": {
     "duration": 2.053163,
     "end_time": "2023-12-15T15:00:22.684709",
     "exception": false,
     "start_time": "2023-12-15T15:00:20.631546",
     "status": "completed"
    },
    "tags": []
   },
   "outputs": [
    {
     "name": "stdout",
     "output_type": "stream",
     "text": [
      "MAE from Approach 3 (One-Hot Encoding):\n",
      "17525.345719178084\n"
     ]
    }
   ],
   "source": [
    "print(\"MAE from Approach 3 (One-Hot Encoding):\") \n",
    "print(score_dataset(OH_X_train, OH_X_valid, y_train, y_valid))"
   ]
  },
  {
   "cell_type": "markdown",
   "id": "21a6db88",
   "metadata": {
    "papermill": {
     "duration": 0.014261,
     "end_time": "2023-12-15T15:00:22.713591",
     "exception": false,
     "start_time": "2023-12-15T15:00:22.699330",
     "status": "completed"
    },
    "tags": []
   },
   "source": [
    "# Generate test predictions and submit your results\n",
    "\n",
    "After you complete Step 4, if you'd like to use what you've learned to submit your results to the leaderboard, you'll need to preprocess the test data before generating predictions.\n",
    "\n",
    "**This step is completely optional, and you do not need to submit results to the leaderboard to successfully complete the exercise.**\n",
    "\n",
    "Check out the previous exercise if you need help with remembering how to [join the competition](https://www.kaggle.com/c/home-data-for-ml-course) or save your results to CSV.  Once you have generated a file with your results, follow the instructions below:\n",
    "1. Begin by clicking on the **Save Version** button in the top right corner of the window.  This will generate a pop-up window.  \n",
    "2. Ensure that the **Save and Run All** option is selected, and then click on the **Save** button.\n",
    "3. This generates a window in the bottom left corner of the notebook.  After it has finished running, click on the number to the right of the **Save Version** button.  This pulls up a list of versions on the right of the screen.  Click on the ellipsis **(...)** to the right of the most recent version, and select **Open in Viewer**.  This brings you into view mode of the same page. You will need to scroll down to get back to these instructions.\n",
    "4. Click on the **Data** tab near the top of the screen.  Then, click on the file you would like to submit, and click on the **Submit** button to submit your results to the leaderboard.\n",
    "\n",
    "You have now successfully submitted to the competition!\n",
    "\n",
    "If you want to keep working to improve your performance, select the **Edit** button in the top right of the screen. Then you can change your code and repeat the process. There's a lot of room to improve, and you will climb up the leaderboard as you work.\n",
    "\n",
    "\n",
    "# テスト予測を作成し、結果を提出する\n",
    "\n",
    "ステップ4が完了した後、学習したことを使用して結果をリーダーボードに提出したい場合は、予測を生成する前にテストデータを前処理する必要があります。\n",
    "\n",
    "**このステップは完全に任意であり、演習を成功裏に完了するために結果をリーダーボードに提出する必要はありません。\n",
    "\n",
    "もし[大会に参加する](https://www.kaggle.com/c/home-data-for-ml-course)方法を思い出したり、結果をCSVに保存したりするのに助けが必要であれば、前回の練習をチェックしてください。 結果のファイルを作成したら、以下の手順に従ってください：\n",
    "1. ウィンドウの右上にある**Save Version**ボタンをクリックしてください。 ポップアップ・ウィンドウが表示されます。 \n",
    "2. 2. **Save and Run All** オプションが選択されていることを確認し、**Save** ボタンをクリックします。\n",
    "3. ノートブックの左下にウィンドウが表示されます。 実行が終了したら、**Save Version**ボタンの右にある数字をクリックしてください。 これにより、画面の右側にバージョンのリストが表示されます。 最新バージョンの右にある省略記号**(...)**をクリックし、**ビューアで開く**を選択します。 これで同じページの表示モードになります。この説明に戻るには、下にスクロールする必要があります。\n",
    "4. 画面上部の**データ**タブをクリックします。 次に、提出したいファイルをクリックし、**提出**ボタンをクリックして結果をリーダーボードに提出します。"
   ]
  },
  {
   "cell_type": "code",
   "execution_count": 24,
   "id": "d00e2391",
   "metadata": {
    "execution": {
     "iopub.execute_input": "2023-12-15T15:00:22.745685Z",
     "iopub.status.busy": "2023-12-15T15:00:22.745290Z",
     "iopub.status.idle": "2023-12-15T15:00:22.749713Z",
     "shell.execute_reply": "2023-12-15T15:00:22.748616Z"
    },
    "papermill": {
     "duration": 0.023854,
     "end_time": "2023-12-15T15:00:22.751884",
     "exception": false,
     "start_time": "2023-12-15T15:00:22.728030",
     "status": "completed"
    },
    "tags": []
   },
   "outputs": [],
   "source": [
    "# (Optional) Your code here"
   ]
  },
  {
   "cell_type": "markdown",
   "id": "b5a56003",
   "metadata": {
    "papermill": {
     "duration": 0.014382,
     "end_time": "2023-12-15T15:00:22.780956",
     "exception": false,
     "start_time": "2023-12-15T15:00:22.766574",
     "status": "completed"
    },
    "tags": []
   },
   "source": [
    "# Keep going\n",
    "\n",
    "With missing value handling and categorical encoding, your modeling process is getting complex. This complexity gets worse when you want to save your model to use in the future. The key to managing this complexity is something called **pipelines**. \n",
    "\n",
    "**[Learn to use pipelines](https://www.kaggle.com/alexisbcook/pipelines)** to preprocess datasets with categorical variables, missing values and any other messiness your data throws at you."
   ]
  },
  {
   "cell_type": "markdown",
   "id": "3c9ec4f4",
   "metadata": {
    "papermill": {
     "duration": 0.014261,
     "end_time": "2023-12-15T15:00:22.809877",
     "exception": false,
     "start_time": "2023-12-15T15:00:22.795616",
     "status": "completed"
    },
    "tags": []
   },
   "source": [
    "---\n",
    "\n",
    "\n",
    "\n",
    "\n",
    "*Have questions or comments? Visit the [course discussion forum](https://www.kaggle.com/learn/intermediate-machine-learning/discussion) to chat with other learners.*"
   ]
  }
 ],
 "metadata": {
  "kaggle": {
   "accelerator": "none",
   "dataSources": [
    {
     "databundleVersionId": 111096,
     "sourceId": 10211,
     "sourceType": "competition"
    }
   ],
   "isGpuEnabled": false,
   "isInternetEnabled": false,
   "language": "python",
   "sourceType": "notebook"
  },
  "kernelspec": {
   "display_name": "Python 3",
   "language": "python",
   "name": "python3"
  },
  "language_info": {
   "codemirror_mode": {
    "name": "ipython",
    "version": 3
   },
   "file_extension": ".py",
   "mimetype": "text/x-python",
   "name": "python",
   "nbconvert_exporter": "python",
   "pygments_lexer": "ipython3",
   "version": "3.10.12"
  },
  "papermill": {
   "default_parameters": {},
   "duration": 12.444437,
   "end_time": "2023-12-15T15:00:23.445783",
   "environment_variables": {},
   "exception": null,
   "input_path": "__notebook__.ipynb",
   "output_path": "__notebook__.ipynb",
   "parameters": {},
   "start_time": "2023-12-15T15:00:11.001346",
   "version": "2.4.0"
  }
 },
 "nbformat": 4,
 "nbformat_minor": 5
}
