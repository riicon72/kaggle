{
 "cells": [
  {
   "cell_type": "markdown",
   "id": "7143c18d",
   "metadata": {
    "papermill": {
     "duration": 0.007535,
     "end_time": "2023-12-11T14:44:14.309962",
     "exception": false,
     "start_time": "2023-12-11T14:44:14.302427",
     "status": "completed"
    },
    "tags": []
   },
   "source": [
    "**This notebook is an exercise in the [Intermediate Machine Learning](https://www.kaggle.com/learn/intermediate-machine-learning) course.  You can reference the tutorial at [this link](https://www.kaggle.com/alexisbcook/introduction).**\n",
    "\n",
    "---\n"
   ]
  },
  {
   "cell_type": "markdown",
   "id": "66cbe077",
   "metadata": {
    "papermill": {
     "duration": 0.006696,
     "end_time": "2023-12-11T14:44:14.323886",
     "exception": false,
     "start_time": "2023-12-11T14:44:14.317190",
     "status": "completed"
    },
    "tags": []
   },
   "source": [
    "As a warm-up, you'll review some machine learning fundamentals and submit your initial results to a Kaggle competition.\n",
    "ウォーミングアップとして、機械学習の基礎を復習し、最初の結果をKaggleコンペティションに提出する。\n",
    "\n",
    "# Setup\n",
    "\n",
    "The questions below will give you feedback on your work. Run the following cell to set up the feedback system.\n",
    "\n",
    "# セットアップ\n",
    "\n",
    "以下の質問はあなたの仕事に対するフィードバックを与えます。以下のセルを実行して、フィードバックシステムをセットアップしてください。"
   ]
  },
  {
   "cell_type": "code",
   "execution_count": 1,
   "id": "9a7e5a97",
   "metadata": {
    "execution": {
     "iopub.execute_input": "2023-12-11T14:44:14.339621Z",
     "iopub.status.busy": "2023-12-11T14:44:14.339166Z",
     "iopub.status.idle": "2023-12-11T14:44:16.793559Z",
     "shell.execute_reply": "2023-12-11T14:44:16.792327Z"
    },
    "papermill": {
     "duration": 2.465385,
     "end_time": "2023-12-11T14:44:16.796189",
     "exception": false,
     "start_time": "2023-12-11T14:44:14.330804",
     "status": "completed"
    },
    "tags": []
   },
   "outputs": [
    {
     "name": "stdout",
     "output_type": "stream",
     "text": [
      "Setup Complete\n"
     ]
    }
   ],
   "source": [
    "# Set up code checking\n",
    "import os\n",
    "if not os.path.exists(\"../input/train.csv\"):\n",
    "    os.symlink(\"../input/home-data-for-ml-course/train.csv\", \"../input/train.csv\")  \n",
    "    os.symlink(\"../input/home-data-for-ml-course/test.csv\", \"../input/test.csv\")  \n",
    "from learntools.core import binder\n",
    "binder.bind(globals())\n",
    "from learntools.ml_intermediate.ex1 import *\n",
    "print(\"Setup Complete\")\n"
   ]
  },
  {
   "cell_type": "markdown",
   "id": "0ad7ffcd",
   "metadata": {
    "papermill": {
     "duration": 0.006802,
     "end_time": "2023-12-11T14:44:16.810255",
     "exception": false,
     "start_time": "2023-12-11T14:44:16.803453",
     "status": "completed"
    },
    "tags": []
   },
   "source": [
    "You will work with data from the [Housing Prices Competition for Kaggle Learn Users](https://www.kaggle.com/c/home-data-for-ml-course) to predict home prices in Iowa using 79 explanatory variables describing (almost) every aspect of the homes.  \n",
    "\n",
    "住宅価格コンペティション for Kaggle Learn Users](https://www.kaggle.com/c/home-data-for-ml-course)のデータを使って、アイオワ州の住宅価格を、住宅の（ほぼ）あらゆる側面を説明する79の説明変数を使って予測します。 \n",
    "\n",
    "![Ames Housing dataset image](https://storage.googleapis.com/kaggle-media/learn/images/lTJVG4e.png)\n",
    "\n",
    "Run the next code cell without changes to load the training and validation features in `X_train` and `X_valid`, along with the prediction targets in `y_train` and `y_valid`.  The test features are loaded in `X_test`.  (_If you need to review **features** and **prediction targets**, please check out [this short tutorial](https://www.kaggle.com/dansbecker/your-first-machine-learning-model).  To read about model **validation**, look [here](https://www.kaggle.com/dansbecker/model-validation).  Alternatively, if you'd prefer to look through a full course to review all of these topics, start [here](https://www.kaggle.com/learn/machine-learning).)_\n",
    "\n",
    "\n",
    "次のコードセルを変更せずに実行し、`X_train` と `X_valid` にトレーニングと検証の特徴量を、`y_train` と `y_valid` に予測ターゲットをロードします。 テスト機能は `X_test` にロードされる。 (**features** と **prediction targets** を確認する必要がある場合は、以下を参照してください。"
   ]
  },
  {
   "cell_type": "code",
   "execution_count": 2,
   "id": "d294c809",
   "metadata": {
    "execution": {
     "iopub.execute_input": "2023-12-11T14:44:16.827004Z",
     "iopub.status.busy": "2023-12-11T14:44:16.826141Z",
     "iopub.status.idle": "2023-12-11T14:44:16.939582Z",
     "shell.execute_reply": "2023-12-11T14:44:16.938444Z"
    },
    "papermill": {
     "duration": 0.12505,
     "end_time": "2023-12-11T14:44:16.942444",
     "exception": false,
     "start_time": "2023-12-11T14:44:16.817394",
     "status": "completed"
    },
    "tags": []
   },
   "outputs": [],
   "source": [
    "import pandas as pd\n",
    "from sklearn.model_selection import train_test_split\n",
    "\n",
    "# Read the data\n",
    "X_full = pd.read_csv('../input/train.csv', index_col='Id')\n",
    "X_test_full = pd.read_csv('../input/test.csv', index_col='Id')\n",
    "\n",
    "# Obtain target and predictors\n",
    "y = X_full.SalePrice\n",
    "features = ['LotArea', 'YearBuilt', '1stFlrSF', '2ndFlrSF', 'FullBath', 'BedroomAbvGr', 'TotRmsAbvGrd']\n",
    "X = X_full[features].copy()\n",
    "X_test = X_test_full[features].copy()\n",
    "\n",
    "# Break off validation set from training data\n",
    "X_train, X_valid, y_train, y_valid = train_test_split(X, y, train_size=0.8, test_size=0.2,\n",
    "                                                      random_state=0)"
   ]
  },
  {
   "cell_type": "markdown",
   "id": "b52acec0",
   "metadata": {
    "papermill": {
     "duration": 0.007141,
     "end_time": "2023-12-11T14:44:16.956928",
     "exception": false,
     "start_time": "2023-12-11T14:44:16.949787",
     "status": "completed"
    },
    "tags": []
   },
   "source": [
    "Use the next cell to print the first several rows of the data. It's a nice way to get an overview of the data you will use in your price prediction model.\n",
    "\n",
    "次のセルを使って、データの最初の数行を印刷する。価格予測モデルで使用するデータの概要を知るには良い方法です。"
   ]
  },
  {
   "cell_type": "code",
   "execution_count": 3,
   "id": "d07a783a",
   "metadata": {
    "execution": {
     "iopub.execute_input": "2023-12-11T14:44:16.973418Z",
     "iopub.status.busy": "2023-12-11T14:44:16.972722Z",
     "iopub.status.idle": "2023-12-11T14:44:16.989875Z",
     "shell.execute_reply": "2023-12-11T14:44:16.988855Z"
    },
    "papermill": {
     "duration": 0.02816,
     "end_time": "2023-12-11T14:44:16.992252",
     "exception": false,
     "start_time": "2023-12-11T14:44:16.964092",
     "status": "completed"
    },
    "tags": []
   },
   "outputs": [
    {
     "data": {
      "text/html": [
       "<div>\n",
       "<style scoped>\n",
       "    .dataframe tbody tr th:only-of-type {\n",
       "        vertical-align: middle;\n",
       "    }\n",
       "\n",
       "    .dataframe tbody tr th {\n",
       "        vertical-align: top;\n",
       "    }\n",
       "\n",
       "    .dataframe thead th {\n",
       "        text-align: right;\n",
       "    }\n",
       "</style>\n",
       "<table border=\"1\" class=\"dataframe\">\n",
       "  <thead>\n",
       "    <tr style=\"text-align: right;\">\n",
       "      <th></th>\n",
       "      <th>LotArea</th>\n",
       "      <th>YearBuilt</th>\n",
       "      <th>1stFlrSF</th>\n",
       "      <th>2ndFlrSF</th>\n",
       "      <th>FullBath</th>\n",
       "      <th>BedroomAbvGr</th>\n",
       "      <th>TotRmsAbvGrd</th>\n",
       "    </tr>\n",
       "    <tr>\n",
       "      <th>Id</th>\n",
       "      <th></th>\n",
       "      <th></th>\n",
       "      <th></th>\n",
       "      <th></th>\n",
       "      <th></th>\n",
       "      <th></th>\n",
       "      <th></th>\n",
       "    </tr>\n",
       "  </thead>\n",
       "  <tbody>\n",
       "    <tr>\n",
       "      <th>619</th>\n",
       "      <td>11694</td>\n",
       "      <td>2007</td>\n",
       "      <td>1828</td>\n",
       "      <td>0</td>\n",
       "      <td>2</td>\n",
       "      <td>3</td>\n",
       "      <td>9</td>\n",
       "    </tr>\n",
       "    <tr>\n",
       "      <th>871</th>\n",
       "      <td>6600</td>\n",
       "      <td>1962</td>\n",
       "      <td>894</td>\n",
       "      <td>0</td>\n",
       "      <td>1</td>\n",
       "      <td>2</td>\n",
       "      <td>5</td>\n",
       "    </tr>\n",
       "    <tr>\n",
       "      <th>93</th>\n",
       "      <td>13360</td>\n",
       "      <td>1921</td>\n",
       "      <td>964</td>\n",
       "      <td>0</td>\n",
       "      <td>1</td>\n",
       "      <td>2</td>\n",
       "      <td>5</td>\n",
       "    </tr>\n",
       "    <tr>\n",
       "      <th>818</th>\n",
       "      <td>13265</td>\n",
       "      <td>2002</td>\n",
       "      <td>1689</td>\n",
       "      <td>0</td>\n",
       "      <td>2</td>\n",
       "      <td>3</td>\n",
       "      <td>7</td>\n",
       "    </tr>\n",
       "    <tr>\n",
       "      <th>303</th>\n",
       "      <td>13704</td>\n",
       "      <td>2001</td>\n",
       "      <td>1541</td>\n",
       "      <td>0</td>\n",
       "      <td>2</td>\n",
       "      <td>3</td>\n",
       "      <td>6</td>\n",
       "    </tr>\n",
       "  </tbody>\n",
       "</table>\n",
       "</div>"
      ],
      "text/plain": [
       "     LotArea  YearBuilt  1stFlrSF  2ndFlrSF  FullBath  BedroomAbvGr  \\\n",
       "Id                                                                    \n",
       "619    11694       2007      1828         0         2             3   \n",
       "871     6600       1962       894         0         1             2   \n",
       "93     13360       1921       964         0         1             2   \n",
       "818    13265       2002      1689         0         2             3   \n",
       "303    13704       2001      1541         0         2             3   \n",
       "\n",
       "     TotRmsAbvGrd  \n",
       "Id                 \n",
       "619             9  \n",
       "871             5  \n",
       "93              5  \n",
       "818             7  \n",
       "303             6  "
      ]
     },
     "execution_count": 3,
     "metadata": {},
     "output_type": "execute_result"
    }
   ],
   "source": [
    "X_train.head()"
   ]
  },
  {
   "cell_type": "markdown",
   "id": "e52526e8",
   "metadata": {
    "papermill": {
     "duration": 0.007189,
     "end_time": "2023-12-11T14:44:17.007109",
     "exception": false,
     "start_time": "2023-12-11T14:44:16.999920",
     "status": "completed"
    },
    "tags": []
   },
   "source": [
    "The next code cell defines five different random forest models.  Run this code cell without changes.  (_To review **random forests**, look [here](https://www.kaggle.com/dansbecker/random-forests)._)\n",
    "\n",
    "次のコード・セルでは、5つの異なるランダムフォレスト・モデルを定義している。 このコードセルは変更せずに実行してください。 (_*ランダムフォレスト**をレビューする、 "
   ]
  },
  {
   "cell_type": "code",
   "execution_count": 4,
   "id": "9e01c7ee",
   "metadata": {
    "execution": {
     "iopub.execute_input": "2023-12-11T14:44:17.024165Z",
     "iopub.status.busy": "2023-12-11T14:44:17.023368Z",
     "iopub.status.idle": "2023-12-11T14:44:17.030409Z",
     "shell.execute_reply": "2023-12-11T14:44:17.029452Z"
    },
    "papermill": {
     "duration": 0.018542,
     "end_time": "2023-12-11T14:44:17.032901",
     "exception": false,
     "start_time": "2023-12-11T14:44:17.014359",
     "status": "completed"
    },
    "tags": []
   },
   "outputs": [],
   "source": [
    "from sklearn.ensemble import RandomForestRegressor\n",
    "\n",
    "# Define the models\n",
    "model_1 = RandomForestRegressor(n_estimators=50, random_state=0)\n",
    "model_2 = RandomForestRegressor(n_estimators=100, random_state=0)\n",
    "model_3 = RandomForestRegressor(n_estimators=100, criterion='absolute_error', random_state=0)\n",
    "model_4 = RandomForestRegressor(n_estimators=200, min_samples_split=20, random_state=0)\n",
    "model_5 = RandomForestRegressor(n_estimators=100, max_depth=7, random_state=0)\n",
    "\n",
    "models = [model_1, model_2, model_3, model_4, model_5]"
   ]
  },
  {
   "cell_type": "markdown",
   "id": "6171bb77",
   "metadata": {
    "papermill": {
     "duration": 0.007052,
     "end_time": "2023-12-11T14:44:17.047369",
     "exception": false,
     "start_time": "2023-12-11T14:44:17.040317",
     "status": "completed"
    },
    "tags": []
   },
   "source": [
    "To select the best model out of the five, we define a function `score_model()` below.  This function returns the mean absolute error (MAE) from the validation set.  Recall that the best model will obtain the lowest MAE.  (_To review **mean absolute error**, look [here](https://www.kaggle.com/dansbecker/model-validation).)_\n",
    "\n",
    "Run the code cell without changes.\n",
    "\n",
    "5つのモデルの中から最適なモデルを選択するために、以下に関数 `score_model()` を定義する。 この関数は検証セットから平均絶対誤差(MAE)を返す。 最良のモデルはMAEが最小であることを思い出してください。 (_*平均絶対誤差**を復習するには、[ここ](https://www.kaggle.com/dansbecker/model-validation)を見てください。)_。\n",
    "\n",
    "コードセルを変更せずに実行します。"
   ]
  },
  {
   "cell_type": "code",
   "execution_count": 5,
   "id": "a3676dc6",
   "metadata": {
    "execution": {
     "iopub.execute_input": "2023-12-11T14:44:17.064237Z",
     "iopub.status.busy": "2023-12-11T14:44:17.063436Z",
     "iopub.status.idle": "2023-12-11T14:44:22.604024Z",
     "shell.execute_reply": "2023-12-11T14:44:22.602581Z"
    },
    "papermill": {
     "duration": 5.552262,
     "end_time": "2023-12-11T14:44:22.606945",
     "exception": false,
     "start_time": "2023-12-11T14:44:17.054683",
     "status": "completed"
    },
    "tags": []
   },
   "outputs": [
    {
     "name": "stdout",
     "output_type": "stream",
     "text": [
      "Model 1 MAE: 24015\n",
      "Model 2 MAE: 23740\n",
      "Model 3 MAE: 23528\n",
      "Model 4 MAE: 23996\n",
      "Model 5 MAE: 23706\n"
     ]
    }
   ],
   "source": [
    "from sklearn.metrics import mean_absolute_error\n",
    "\n",
    "# Function for comparing different models\n",
    "def score_model(model, X_t=X_train, X_v=X_valid, y_t=y_train, y_v=y_valid):\n",
    "    model.fit(X_t, y_t)\n",
    "    preds = model.predict(X_v)\n",
    "    return mean_absolute_error(y_v, preds)\n",
    "\n",
    "for i in range(0, len(models)):\n",
    "    mae = score_model(models[i])\n",
    "    print(\"Model %d MAE: %d\" % (i+1, mae))"
   ]
  },
  {
   "cell_type": "markdown",
   "id": "0f432156",
   "metadata": {
    "papermill": {
     "duration": 0.007425,
     "end_time": "2023-12-11T14:44:22.622207",
     "exception": false,
     "start_time": "2023-12-11T14:44:22.614782",
     "status": "completed"
    },
    "tags": []
   },
   "source": [
    "# Step 1: Evaluate several models\n",
    "\n",
    "Use the above results to fill in the line below.  Which model is the best model?  Your answer should be one of `model_1`, `model_2`, `model_3`, `model_4`, or `model_5`.\n",
    "\n",
    "# ステップ1：複数のモデルを評価する\n",
    "\n",
    "上記の結果を使って、下の行を埋めてください。 最良のモデルはどれですか？ あなたの答えは、`model_1`, `model_2`, `model_3`, `model_4`, `model_5` のどれかでなければなりません。"
   ]
  },
  {
   "cell_type": "code",
   "execution_count": 6,
   "id": "8f92a270",
   "metadata": {
    "execution": {
     "iopub.execute_input": "2023-12-11T14:44:22.640346Z",
     "iopub.status.busy": "2023-12-11T14:44:22.639182Z",
     "iopub.status.idle": "2023-12-11T14:44:22.650075Z",
     "shell.execute_reply": "2023-12-11T14:44:22.648861Z"
    },
    "papermill": {
     "duration": 0.022712,
     "end_time": "2023-12-11T14:44:22.652694",
     "exception": false,
     "start_time": "2023-12-11T14:44:22.629982",
     "status": "completed"
    },
    "tags": []
   },
   "outputs": [
    {
     "data": {
      "application/javascript": [
       "parent.postMessage({\"jupyterEvent\": \"custom.exercise_interaction\", \"data\": {\"outcomeType\": 1, \"valueTowardsCompletion\": 0.5, \"interactionType\": 1, \"questionType\": 2, \"questionId\": \"1_BestModel\", \"learnToolsVersion\": \"0.3.4\", \"failureMessage\": \"\", \"exceptionClass\": \"\", \"trace\": \"\"}}, \"*\")"
      ],
      "text/plain": [
       "<IPython.core.display.Javascript object>"
      ]
     },
     "metadata": {},
     "output_type": "display_data"
    },
    {
     "data": {
      "text/markdown": [
       "<span style=\"color:#33cc33\">Correct</span>"
      ],
      "text/plain": [
       "Correct"
      ]
     },
     "metadata": {},
     "output_type": "display_data"
    }
   ],
   "source": [
    "# Fill in the best model\n",
    "best_model = model_3\n",
    "\n",
    "# Check your answer\n",
    "step_1.check()"
   ]
  },
  {
   "cell_type": "code",
   "execution_count": 7,
   "id": "5db64eb1",
   "metadata": {
    "execution": {
     "iopub.execute_input": "2023-12-11T14:44:22.671344Z",
     "iopub.status.busy": "2023-12-11T14:44:22.670297Z",
     "iopub.status.idle": "2023-12-11T14:44:22.683651Z",
     "shell.execute_reply": "2023-12-11T14:44:22.682506Z"
    },
    "papermill": {
     "duration": 0.024942,
     "end_time": "2023-12-11T14:44:22.685805",
     "exception": false,
     "start_time": "2023-12-11T14:44:22.660863",
     "status": "completed"
    },
    "tags": []
   },
   "outputs": [
    {
     "data": {
      "application/javascript": [
       "parent.postMessage({\"jupyterEvent\": \"custom.exercise_interaction\", \"data\": {\"interactionType\": 2, \"questionType\": 2, \"questionId\": \"1_BestModel\", \"learnToolsVersion\": \"0.3.4\", \"valueTowardsCompletion\": 0.0, \"failureMessage\": \"\", \"exceptionClass\": \"\", \"trace\": \"\", \"outcomeType\": 4}}, \"*\")"
      ],
      "text/plain": [
       "<IPython.core.display.Javascript object>"
      ]
     },
     "metadata": {},
     "output_type": "display_data"
    },
    {
     "data": {
      "text/markdown": [
       "<span style=\"color:#3366cc\">Hint:</span> Which model gets the lowest MAE score?"
      ],
      "text/plain": [
       "Hint: Which model gets the lowest MAE score?"
      ]
     },
     "metadata": {},
     "output_type": "display_data"
    },
    {
     "data": {
      "application/javascript": [
       "parent.postMessage({\"jupyterEvent\": \"custom.exercise_interaction\", \"data\": {\"interactionType\": 3, \"questionType\": 2, \"questionId\": \"1_BestModel\", \"learnToolsVersion\": \"0.3.4\", \"valueTowardsCompletion\": 0.0, \"failureMessage\": \"\", \"exceptionClass\": \"\", \"trace\": \"\", \"outcomeType\": 4}}, \"*\")"
      ],
      "text/plain": [
       "<IPython.core.display.Javascript object>"
      ]
     },
     "metadata": {},
     "output_type": "display_data"
    },
    {
     "data": {
      "text/markdown": [
       "<span style=\"color:#33cc99\">Solution:</span> \n",
       "```python\n",
       "best_model = model_3\n",
       "\n",
       "```"
      ],
      "text/plain": [
       "Solution: \n",
       "```python\n",
       "best_model = model_3\n",
       "\n",
       "```"
      ]
     },
     "metadata": {},
     "output_type": "display_data"
    }
   ],
   "source": [
    "# Lines below will give you a hint or solution code\n",
    "step_1.hint()\n",
    "step_1.solution()"
   ]
  },
  {
   "cell_type": "markdown",
   "id": "4a245398",
   "metadata": {
    "papermill": {
     "duration": 0.008973,
     "end_time": "2023-12-11T14:44:22.703865",
     "exception": false,
     "start_time": "2023-12-11T14:44:22.694892",
     "status": "completed"
    },
    "tags": []
   },
   "source": [
    "# Step 2: Generate test predictions\n",
    "\n",
    "Great. You know how to evaluate what makes an accurate model. Now it's time to go through the modeling process and make predictions. In the line below, create a Random Forest model with the variable name `my_model`.\n",
    "\n",
    "# ステップ2：テスト予測の作成\n",
    "\n",
    "素晴らしい。あなたは、何が正確なモデルであるかを評価する方法を知っています。では、いよいよモデリングプロセスを通して予測を行います。以下の行で、変数名 `my_model` でランダムフォレストモデルを作成します。"
   ]
  },
  {
   "cell_type": "code",
   "execution_count": 8,
   "id": "08c7c5f8",
   "metadata": {
    "execution": {
     "iopub.execute_input": "2023-12-11T14:44:22.723983Z",
     "iopub.status.busy": "2023-12-11T14:44:22.723175Z",
     "iopub.status.idle": "2023-12-11T14:44:22.733269Z",
     "shell.execute_reply": "2023-12-11T14:44:22.731979Z"
    },
    "papermill": {
     "duration": 0.022555,
     "end_time": "2023-12-11T14:44:22.735594",
     "exception": false,
     "start_time": "2023-12-11T14:44:22.713039",
     "status": "completed"
    },
    "tags": []
   },
   "outputs": [
    {
     "data": {
      "application/javascript": [
       "parent.postMessage({\"jupyterEvent\": \"custom.exercise_interaction\", \"data\": {\"outcomeType\": 1, \"valueTowardsCompletion\": 0.5, \"interactionType\": 1, \"questionType\": 2, \"questionId\": \"2_Predictions\", \"learnToolsVersion\": \"0.3.4\", \"failureMessage\": \"\", \"exceptionClass\": \"\", \"trace\": \"\"}}, \"*\")"
      ],
      "text/plain": [
       "<IPython.core.display.Javascript object>"
      ]
     },
     "metadata": {},
     "output_type": "display_data"
    },
    {
     "data": {
      "text/markdown": [
       "<span style=\"color:#33cc33\">Correct</span>"
      ],
      "text/plain": [
       "Correct"
      ]
     },
     "metadata": {},
     "output_type": "display_data"
    }
   ],
   "source": [
    "# Define a model\n",
    "my_model =  best_model\n",
    "\n",
    "# Check your answer\n",
    "step_2.check()"
   ]
  },
  {
   "cell_type": "code",
   "execution_count": 9,
   "id": "2dd57f2c",
   "metadata": {
    "execution": {
     "iopub.execute_input": "2023-12-11T14:44:22.756116Z",
     "iopub.status.busy": "2023-12-11T14:44:22.755373Z",
     "iopub.status.idle": "2023-12-11T14:44:22.769589Z",
     "shell.execute_reply": "2023-12-11T14:44:22.768261Z"
    },
    "papermill": {
     "duration": 0.027164,
     "end_time": "2023-12-11T14:44:22.772021",
     "exception": false,
     "start_time": "2023-12-11T14:44:22.744857",
     "status": "completed"
    },
    "tags": []
   },
   "outputs": [
    {
     "data": {
      "application/javascript": [
       "parent.postMessage({\"jupyterEvent\": \"custom.exercise_interaction\", \"data\": {\"interactionType\": 2, \"questionType\": 2, \"questionId\": \"2_Predictions\", \"learnToolsVersion\": \"0.3.4\", \"valueTowardsCompletion\": 0.0, \"failureMessage\": \"\", \"exceptionClass\": \"\", \"trace\": \"\", \"outcomeType\": 4}}, \"*\")"
      ],
      "text/plain": [
       "<IPython.core.display.Javascript object>"
      ]
     },
     "metadata": {},
     "output_type": "display_data"
    },
    {
     "data": {
      "text/markdown": [
       "<span style=\"color:#3366cc\">Hint:</span> You need only set `my_model` to a random forest model.  You are welcome (but not required) to choose one of the five models above."
      ],
      "text/plain": [
       "Hint: You need only set `my_model` to a random forest model.  You are welcome (but not required) to choose one of the five models above."
      ]
     },
     "metadata": {},
     "output_type": "display_data"
    },
    {
     "data": {
      "application/javascript": [
       "parent.postMessage({\"jupyterEvent\": \"custom.exercise_interaction\", \"data\": {\"interactionType\": 3, \"questionType\": 2, \"questionId\": \"2_Predictions\", \"learnToolsVersion\": \"0.3.4\", \"valueTowardsCompletion\": 0.0, \"failureMessage\": \"\", \"exceptionClass\": \"\", \"trace\": \"\", \"outcomeType\": 4}}, \"*\")"
      ],
      "text/plain": [
       "<IPython.core.display.Javascript object>"
      ]
     },
     "metadata": {},
     "output_type": "display_data"
    },
    {
     "data": {
      "text/markdown": [
       "<span style=\"color:#33cc99\">Solution:</span> \n",
       "```python\n",
       "# Define a model\n",
       "my_model = best_model\n",
       "\n",
       "```"
      ],
      "text/plain": [
       "Solution: \n",
       "```python\n",
       "# Define a model\n",
       "my_model = best_model\n",
       "\n",
       "```"
      ]
     },
     "metadata": {},
     "output_type": "display_data"
    }
   ],
   "source": [
    "# Lines below will give you a hint or solution code\n",
    "step_2.hint()\n",
    "step_2.solution()"
   ]
  },
  {
   "cell_type": "markdown",
   "id": "d5feac19",
   "metadata": {
    "papermill": {
     "duration": 0.009548,
     "end_time": "2023-12-11T14:44:22.792824",
     "exception": false,
     "start_time": "2023-12-11T14:44:22.783276",
     "status": "completed"
    },
    "tags": []
   },
   "source": [
    "Run the next code cell without changes.  The code fits the model to the training and validation data, and then generates test predictions that are saved to a CSV file.  These test predictions can be submitted directly to the competition!\n",
    "\n",
    "次のコード・セルを変更せずに実行します。 このコードはモデルを訓練データと検証データに適合させ、テスト予測を生成して CSV ファイルに保存します。 これらのテスト予測は、コンペティションに直接提出することができます！"
   ]
  },
  {
   "cell_type": "code",
   "execution_count": 10,
   "id": "6c7f48d5",
   "metadata": {
    "execution": {
     "iopub.execute_input": "2023-12-11T14:44:22.814531Z",
     "iopub.status.busy": "2023-12-11T14:44:22.814045Z",
     "iopub.status.idle": "2023-12-11T14:44:27.186581Z",
     "shell.execute_reply": "2023-12-11T14:44:27.185370Z"
    },
    "papermill": {
     "duration": 4.387112,
     "end_time": "2023-12-11T14:44:27.189881",
     "exception": false,
     "start_time": "2023-12-11T14:44:22.802769",
     "status": "completed"
    },
    "tags": []
   },
   "outputs": [],
   "source": [
    "# Fit the model to the training data\n",
    "my_model.fit(X, y)\n",
    "\n",
    "# Generate test predictions\n",
    "preds_test = my_model.predict(X_test)\n",
    "\n",
    "# Save predictions in format used for competition scoring\n",
    "output = pd.DataFrame({'Id': X_test.index,\n",
    "                       'SalePrice': preds_test})\n",
    "output.to_csv('submission.csv', index=False)"
   ]
  },
  {
   "cell_type": "markdown",
   "id": "25d9f263",
   "metadata": {
    "papermill": {
     "duration": 0.009763,
     "end_time": "2023-12-11T14:44:27.210217",
     "exception": false,
     "start_time": "2023-12-11T14:44:27.200454",
     "status": "completed"
    },
    "tags": []
   },
   "source": [
    "# Submit your results\n",
    "\n",
    "Once you have successfully completed Step 2, you're ready to submit your results to the leaderboard!  First, you'll need to join the competition if you haven't already.  So open a new window by clicking on [this link](https://www.kaggle.com/c/home-data-for-ml-course).  Then click on the **Join Competition** button.  _(If you see a \"Submit Predictions\" button instead of a \"Join Competition\" button, you have already joined the competition, and don't need to do so again.)_\n",
    "\n",
    "Next, follow the instructions below:\n",
    "1. Begin by clicking on the **Save Version** button in the top right corner of the window.  This will generate a pop-up window.  \n",
    "2. Ensure that the **Save and Run All** option is selected, and then click on the **Save** button.\n",
    "3. This generates a window in the bottom left corner of the notebook.  After it has finished running, click on the number to the right of the **Save Version** button.  This pulls up a list of versions on the right of the screen.  Click on the ellipsis **(...)** to the right of the most recent version, and select **Open in Viewer**.  This brings you into view mode of the same page. You will need to scroll down to get back to these instructions.\n",
    "4. Click on the **Data** tab near the top of the screen.  Then, click on the file you would like to submit, and click on the **Submit** button to submit your results to the leaderboard.\n",
    "\n",
    "You have now successfully submitted to the competition!\n",
    "\n",
    "If you want to keep working to improve your performance, select the **Edit** button in the top right of the screen. Then you can change your code and repeat the process. There's a lot of room to improve, and you will climb up the leaderboard as you work.\n",
    "\n",
    "# 結果を提出する\n",
    "\n",
    "ステップ2が完了したら、結果をリーダーボードに提出する準備ができました！ まず、大会に参加する必要があります。 このリンク](https://www.kaggle.com/c/home-data-for-ml-course)をクリックして新しいウィンドウを開きます。 そして、**Join Competition**ボタンをクリックしてください。 コンペティションに参加する」ボタンの代わりに「予想を提出する」ボタンが表示されている場合は、すでにコンペティションに参加していますので、再度参加する必要はありません。\n",
    "\n",
    "次に、以下の手順に従ってください：\n",
    "1. ウィンドウの右上にある「**バージョンを保存**」ボタンをクリックします。 ポップアップウィンドウが表示されます。 \n",
    "2. 2. **Save and Run All** オプションが選択されていることを確認し、**Save** ボタンをクリックします。\n",
    "3. ノートブックの左下にウィンドウが表示されます。 実行が終了したら、**Save Version**ボタンの右にある数字をクリックしてください。 これにより、画面の右側にバージョンのリストが表示されます。 最新バージョンの右にある省略記号**(...)**をクリックし、**ビューアで開く**を選択します。 これで同じページの表示モードになります。この説明に戻るには、下にスクロールする必要があります。\n",
    "4. 画面上部の**データ**タブをクリックします。 次に、提出したいファイルをクリックし、**提出**ボタンをクリックして結果をリーダーボードに提出します。\n",
    "\n",
    "これでコンペティションへの参加は完了です！\n"
   ]
  },
  {
   "cell_type": "markdown",
   "id": "8c4b11c6",
   "metadata": {
    "papermill": {
     "duration": 0.00971,
     "end_time": "2023-12-11T14:44:27.230000",
     "exception": false,
     "start_time": "2023-12-11T14:44:27.220290",
     "status": "completed"
    },
    "tags": []
   },
   "source": [
    "# Keep going\n",
    "\n",
    "You've made your first model. But how can you quickly make it better?\n",
    "\n",
    "Learn how to improve your competition results by incorporating columns with **[missing values](https://www.kaggle.com/alexisbcook/missing-values)**."
   ]
  },
  {
   "cell_type": "markdown",
   "id": "d2904138",
   "metadata": {
    "papermill": {
     "duration": 0.0106,
     "end_time": "2023-12-11T14:44:27.251570",
     "exception": false,
     "start_time": "2023-12-11T14:44:27.240970",
     "status": "completed"
    },
    "tags": []
   },
   "source": [
    "---\n",
    "\n",
    "\n",
    "\n",
    "\n",
    "*Have questions or comments? Visit the [course discussion forum](https://www.kaggle.com/learn/intermediate-machine-learning/discussion) to chat with other learners.*"
   ]
  }
 ],
 "metadata": {
  "kaggle": {
   "accelerator": "none",
   "dataSources": [
    {
     "databundleVersionId": 111096,
     "sourceId": 10211,
     "sourceType": "competition"
    }
   ],
   "isGpuEnabled": false,
   "isInternetEnabled": false,
   "language": "python",
   "sourceType": "notebook"
  },
  "kernelspec": {
   "display_name": "Python 3",
   "language": "python",
   "name": "python3"
  },
  "language_info": {
   "codemirror_mode": {
    "name": "ipython",
    "version": 3
   },
   "file_extension": ".py",
   "mimetype": "text/x-python",
   "name": "python",
   "nbconvert_exporter": "python",
   "pygments_lexer": "ipython3",
   "version": "3.10.12"
  },
  "papermill": {
   "default_parameters": {},
   "duration": 17.219556,
   "end_time": "2023-12-11T14:44:27.883526",
   "environment_variables": {},
   "exception": null,
   "input_path": "__notebook__.ipynb",
   "output_path": "__notebook__.ipynb",
   "parameters": {},
   "start_time": "2023-12-11T14:44:10.663970",
   "version": "2.4.0"
  }
 },
 "nbformat": 4,
 "nbformat_minor": 5
}
