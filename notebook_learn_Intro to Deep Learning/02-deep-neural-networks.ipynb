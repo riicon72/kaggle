{
 "cells": [
  {
   "cell_type": "markdown",
   "id": "6954c436",
   "metadata": {
    "papermill": {
     "duration": 0.004289,
     "end_time": "2024-01-08T12:51:50.748458",
     "exception": false,
     "start_time": "2024-01-08T12:51:50.744169",
     "status": "completed"
    },
    "tags": []
   },
   "source": [
    "**This notebook is an exercise in the [Intro to Deep Learning](https://www.kaggle.com/learn/intro-to-deep-learning) course.  You can reference the tutorial at [this link](https://www.kaggle.com/ryanholbrook/deep-neural-networks).**\n",
    "\n",
    "---\n"
   ]
  },
  {
   "cell_type": "markdown",
   "id": "3e93f0da",
   "metadata": {
    "papermill": {
     "duration": 0.003476,
     "end_time": "2024-01-08T12:51:50.755875",
     "exception": false,
     "start_time": "2024-01-08T12:51:50.752399",
     "status": "completed"
    },
    "tags": []
   },
   "source": [
    "# Introduction #\n",
    "\n",
    "In the tutorial, we saw how to build deep neural networks by stacking layers inside a `Sequential` model. By adding an *activation function* after the hidden layers, we gave the network the ability to learn more complex (non-linear) relationships in the data.\n",
    "\n",
    "In these exercises, you'll build a neural network with several hidden layers and then explore some activation functions beyond ReLU. Run this next cell to set everything up!\n",
    "\n",
    "# はじめに\n",
    "\n",
    "チュートリアルでは、「シーケンシャル」モデルの中に層を重ねることで、ディープニューラルネットワークを構築する方法を見た。隠れ層の後に*活性化関数*を追加することで、ネットワークにデータのより複雑な（非線形の）関係を学習する能力を与えました。\n",
    "\n",
    "この演習では、いくつかの隠れ層を持つニューラルネットワークを構築し、ReLUを超えるいくつかの活性化関数を探索する。次のセルを実行して、すべてをセットアップします！"
   ]
  },
  {
   "cell_type": "code",
   "execution_count": 1,
   "id": "47ae2ceb",
   "metadata": {
    "execution": {
     "iopub.execute_input": "2024-01-08T12:51:50.764865Z",
     "iopub.status.busy": "2024-01-08T12:51:50.764471Z",
     "iopub.status.idle": "2024-01-08T12:52:02.515152Z",
     "shell.execute_reply": "2024-01-08T12:52:02.512846Z"
    },
    "papermill": {
     "duration": 11.757781,
     "end_time": "2024-01-08T12:52:02.517369",
     "exception": false,
     "start_time": "2024-01-08T12:51:50.759588",
     "status": "completed"
    },
    "tags": []
   },
   "outputs": [
    {
     "name": "stderr",
     "output_type": "stream",
     "text": [
      "/tmp/ipykernel_19/3168024915.py:6: MatplotlibDeprecationWarning: The seaborn styles shipped by Matplotlib are deprecated since 3.6, as they no longer correspond to the styles shipped by seaborn. However, they will remain available as 'seaborn-v0_8-<style>'. Alternatively, directly use the seaborn API instead.\n",
      "  plt.style.use('seaborn-whitegrid')\n"
     ]
    }
   ],
   "source": [
    "import tensorflow as tf\n",
    "\n",
    "# Setup plotting\n",
    "import matplotlib.pyplot as plt\n",
    "\n",
    "plt.style.use('seaborn-whitegrid')\n",
    "# Set Matplotlib defaults\n",
    "plt.rc('figure', autolayout=True)\n",
    "plt.rc('axes', labelweight='bold', labelsize='large',\n",
    "       titleweight='bold', titlesize=18, titlepad=10)\n",
    "\n",
    "# Setup feedback system\n",
    "from learntools.core import binder\n",
    "binder.bind(globals())\n",
    "from learntools.deep_learning_intro.ex2 import *"
   ]
  },
  {
   "cell_type": "markdown",
   "id": "8c0413f3",
   "metadata": {
    "papermill": {
     "duration": 0.005499,
     "end_time": "2024-01-08T12:52:02.528298",
     "exception": false,
     "start_time": "2024-01-08T12:52:02.522799",
     "status": "completed"
    },
    "tags": []
   },
   "source": [
    "In the *Concrete* dataset, your task is to predict the compressive strength of concrete manufactured according to various recipes.\n",
    "\n",
    "Run the next code cell without changes to load the dataset.\n",
    "\n",
    "Concrete*データセットでは、様々なレシピに従って製造されたコンクリートの圧縮強度を予測することがあなたの仕事です。\n",
    "\n",
    "次のコード・セルを変更せずに実行して，データセットをロードしなさい．\n"
   ]
  },
  {
   "cell_type": "code",
   "execution_count": 2,
   "id": "5e70b207",
   "metadata": {
    "execution": {
     "iopub.execute_input": "2024-01-08T12:52:02.539286Z",
     "iopub.status.busy": "2024-01-08T12:52:02.538668Z",
     "iopub.status.idle": "2024-01-08T12:52:02.590565Z",
     "shell.execute_reply": "2024-01-08T12:52:02.589286Z"
    },
    "papermill": {
     "duration": 0.059523,
     "end_time": "2024-01-08T12:52:02.592922",
     "exception": false,
     "start_time": "2024-01-08T12:52:02.533399",
     "status": "completed"
    },
    "tags": []
   },
   "outputs": [
    {
     "data": {
      "text/html": [
       "<div>\n",
       "<style scoped>\n",
       "    .dataframe tbody tr th:only-of-type {\n",
       "        vertical-align: middle;\n",
       "    }\n",
       "\n",
       "    .dataframe tbody tr th {\n",
       "        vertical-align: top;\n",
       "    }\n",
       "\n",
       "    .dataframe thead th {\n",
       "        text-align: right;\n",
       "    }\n",
       "</style>\n",
       "<table border=\"1\" class=\"dataframe\">\n",
       "  <thead>\n",
       "    <tr style=\"text-align: right;\">\n",
       "      <th></th>\n",
       "      <th>Cement</th>\n",
       "      <th>BlastFurnaceSlag</th>\n",
       "      <th>FlyAsh</th>\n",
       "      <th>Water</th>\n",
       "      <th>Superplasticizer</th>\n",
       "      <th>CoarseAggregate</th>\n",
       "      <th>FineAggregate</th>\n",
       "      <th>Age</th>\n",
       "      <th>CompressiveStrength</th>\n",
       "    </tr>\n",
       "  </thead>\n",
       "  <tbody>\n",
       "    <tr>\n",
       "      <th>0</th>\n",
       "      <td>540.0</td>\n",
       "      <td>0.0</td>\n",
       "      <td>0.0</td>\n",
       "      <td>162.0</td>\n",
       "      <td>2.5</td>\n",
       "      <td>1040.0</td>\n",
       "      <td>676.0</td>\n",
       "      <td>28</td>\n",
       "      <td>79.99</td>\n",
       "    </tr>\n",
       "    <tr>\n",
       "      <th>1</th>\n",
       "      <td>540.0</td>\n",
       "      <td>0.0</td>\n",
       "      <td>0.0</td>\n",
       "      <td>162.0</td>\n",
       "      <td>2.5</td>\n",
       "      <td>1055.0</td>\n",
       "      <td>676.0</td>\n",
       "      <td>28</td>\n",
       "      <td>61.89</td>\n",
       "    </tr>\n",
       "    <tr>\n",
       "      <th>2</th>\n",
       "      <td>332.5</td>\n",
       "      <td>142.5</td>\n",
       "      <td>0.0</td>\n",
       "      <td>228.0</td>\n",
       "      <td>0.0</td>\n",
       "      <td>932.0</td>\n",
       "      <td>594.0</td>\n",
       "      <td>270</td>\n",
       "      <td>40.27</td>\n",
       "    </tr>\n",
       "    <tr>\n",
       "      <th>3</th>\n",
       "      <td>332.5</td>\n",
       "      <td>142.5</td>\n",
       "      <td>0.0</td>\n",
       "      <td>228.0</td>\n",
       "      <td>0.0</td>\n",
       "      <td>932.0</td>\n",
       "      <td>594.0</td>\n",
       "      <td>365</td>\n",
       "      <td>41.05</td>\n",
       "    </tr>\n",
       "    <tr>\n",
       "      <th>4</th>\n",
       "      <td>198.6</td>\n",
       "      <td>132.4</td>\n",
       "      <td>0.0</td>\n",
       "      <td>192.0</td>\n",
       "      <td>0.0</td>\n",
       "      <td>978.4</td>\n",
       "      <td>825.5</td>\n",
       "      <td>360</td>\n",
       "      <td>44.30</td>\n",
       "    </tr>\n",
       "  </tbody>\n",
       "</table>\n",
       "</div>"
      ],
      "text/plain": [
       "   Cement  BlastFurnaceSlag  FlyAsh  Water  Superplasticizer  CoarseAggregate  \\\n",
       "0   540.0               0.0     0.0  162.0               2.5           1040.0   \n",
       "1   540.0               0.0     0.0  162.0               2.5           1055.0   \n",
       "2   332.5             142.5     0.0  228.0               0.0            932.0   \n",
       "3   332.5             142.5     0.0  228.0               0.0            932.0   \n",
       "4   198.6             132.4     0.0  192.0               0.0            978.4   \n",
       "\n",
       "   FineAggregate  Age  CompressiveStrength  \n",
       "0          676.0   28                79.99  \n",
       "1          676.0   28                61.89  \n",
       "2          594.0  270                40.27  \n",
       "3          594.0  365                41.05  \n",
       "4          825.5  360                44.30  "
      ]
     },
     "execution_count": 2,
     "metadata": {},
     "output_type": "execute_result"
    }
   ],
   "source": [
    "import pandas as pd\n",
    "\n",
    "concrete = pd.read_csv('../input/dl-course-data/concrete.csv')\n",
    "concrete.head()"
   ]
  },
  {
   "cell_type": "markdown",
   "id": "f17adca5",
   "metadata": {
    "papermill": {
     "duration": 0.003839,
     "end_time": "2024-01-08T12:52:02.601035",
     "exception": false,
     "start_time": "2024-01-08T12:52:02.597196",
     "status": "completed"
    },
    "tags": []
   },
   "source": [
    "# 1) Input Shape #\n",
    "\n",
    "The target for this task is the column `'CompressiveStrength'`. The remaining columns are the features we'll use as inputs.\n",
    "\n",
    "What would be the input shape for this dataset?\n",
    "\n",
    "# 1) 入力形状 #\n",
    "\n",
    "このタスクのターゲットはカラム `'CompressiveStrength'` です。残りの列は入力として使う特徴である。\n",
    "\n",
    "このデータセットの入力形状は？"
   ]
  },
  {
   "cell_type": "code",
   "execution_count": 3,
   "id": "6cc59588",
   "metadata": {
    "execution": {
     "iopub.execute_input": "2024-01-08T12:52:02.610537Z",
     "iopub.status.busy": "2024-01-08T12:52:02.610200Z",
     "iopub.status.idle": "2024-01-08T12:52:02.618040Z",
     "shell.execute_reply": "2024-01-08T12:52:02.616869Z"
    },
    "lines_to_next_cell": 2,
    "papermill": {
     "duration": 0.015476,
     "end_time": "2024-01-08T12:52:02.620493",
     "exception": false,
     "start_time": "2024-01-08T12:52:02.605017",
     "status": "completed"
    },
    "tags": []
   },
   "outputs": [
    {
     "data": {
      "application/javascript": [
       "parent.postMessage({\"jupyterEvent\": \"custom.exercise_interaction\", \"data\": {\"outcomeType\": 1, \"valueTowardsCompletion\": 0.3333333333333333, \"interactionType\": 1, \"questionType\": 2, \"questionId\": \"1_Q1\", \"learnToolsVersion\": \"0.3.4\", \"failureMessage\": \"\", \"exceptionClass\": \"\", \"trace\": \"\"}}, \"*\")"
      ],
      "text/plain": [
       "<IPython.core.display.Javascript object>"
      ]
     },
     "metadata": {},
     "output_type": "display_data"
    },
    {
     "data": {
      "text/markdown": [
       "<span style=\"color:#33cc33\">Correct</span>"
      ],
      "text/plain": [
       "Correct"
      ]
     },
     "metadata": {},
     "output_type": "display_data"
    }
   ],
   "source": [
    "# YOUR CODE HERE\n",
    "input_shape = [8]\n",
    "\n",
    "# Check your answer\n",
    "q_1.check()"
   ]
  },
  {
   "cell_type": "code",
   "execution_count": 4,
   "id": "c4bcfe67",
   "metadata": {
    "execution": {
     "iopub.execute_input": "2024-01-08T12:52:02.632278Z",
     "iopub.status.busy": "2024-01-08T12:52:02.631599Z",
     "iopub.status.idle": "2024-01-08T12:52:02.638253Z",
     "shell.execute_reply": "2024-01-08T12:52:02.637588Z"
    },
    "papermill": {
     "duration": 0.014627,
     "end_time": "2024-01-08T12:52:02.639883",
     "exception": false,
     "start_time": "2024-01-08T12:52:02.625256",
     "status": "completed"
    },
    "tags": []
   },
   "outputs": [
    {
     "data": {
      "application/javascript": [
       "parent.postMessage({\"jupyterEvent\": \"custom.exercise_interaction\", \"data\": {\"interactionType\": 3, \"questionType\": 2, \"questionId\": \"1_Q1\", \"learnToolsVersion\": \"0.3.4\", \"valueTowardsCompletion\": 0.0, \"failureMessage\": \"\", \"exceptionClass\": \"\", \"trace\": \"\", \"outcomeType\": 4}}, \"*\")"
      ],
      "text/plain": [
       "<IPython.core.display.Javascript object>"
      ]
     },
     "metadata": {},
     "output_type": "display_data"
    },
    {
     "data": {
      "text/markdown": [
       "<span style=\"color:#33cc99\">Solution:</span> \n",
       "```python\n",
       "\n",
       "input_shape = [8]\n",
       "# you could also use a 1-tuple, like input_shape = (8,)\n",
       "\n",
       "```"
      ],
      "text/plain": [
       "Solution: \n",
       "```python\n",
       "\n",
       "input_shape = [8]\n",
       "# you could also use a 1-tuple, like input_shape = (8,)\n",
       "\n",
       "```"
      ]
     },
     "metadata": {},
     "output_type": "display_data"
    }
   ],
   "source": [
    "# Lines below will give you a hint or solution code\n",
    "#q_1.hint()\n",
    "q_1.solution()"
   ]
  },
  {
   "cell_type": "markdown",
   "id": "64f65de4",
   "metadata": {
    "papermill": {
     "duration": 0.004918,
     "end_time": "2024-01-08T12:52:02.649550",
     "exception": false,
     "start_time": "2024-01-08T12:52:02.644632",
     "status": "completed"
    },
    "tags": []
   },
   "source": [
    "# 2) Define a Model with Hidden Layers #\n",
    "\n",
    "Now create a model with three hidden layers, each having 512 units and the ReLU activation.  Be sure to include an output layer of one unit and no activation, and also `input_shape` as an argument to the first layer.\n",
    "\n",
    "# 2) 隠れ層を持つモデルを定義する #\n",
    "\n",
    "ここで、3つの隠れ層を持つモデルを作成する。各層は512ユニットで、ReLU活性化を持つ。 出力層は必ず1ユニットで活性化なしとし、最初の層の引数として `input_shape` も含めること。"
   ]
  },
  {
   "cell_type": "code",
   "execution_count": 5,
   "id": "87f8a74b",
   "metadata": {
    "execution": {
     "iopub.execute_input": "2024-01-08T12:52:02.660480Z",
     "iopub.status.busy": "2024-01-08T12:52:02.660077Z",
     "iopub.status.idle": "2024-01-08T12:52:02.941808Z",
     "shell.execute_reply": "2024-01-08T12:52:02.940373Z"
    },
    "lines_to_next_cell": 0,
    "papermill": {
     "duration": 0.289483,
     "end_time": "2024-01-08T12:52:02.943771",
     "exception": false,
     "start_time": "2024-01-08T12:52:02.654288",
     "status": "completed"
    },
    "tags": []
   },
   "outputs": [
    {
     "data": {
      "application/javascript": [
       "parent.postMessage({\"jupyterEvent\": \"custom.exercise_interaction\", \"data\": {\"outcomeType\": 1, \"valueTowardsCompletion\": 0.3333333333333333, \"interactionType\": 1, \"questionType\": 2, \"questionId\": \"2_Q2\", \"learnToolsVersion\": \"0.3.4\", \"failureMessage\": \"\", \"exceptionClass\": \"\", \"trace\": \"\"}}, \"*\")"
      ],
      "text/plain": [
       "<IPython.core.display.Javascript object>"
      ]
     },
     "metadata": {},
     "output_type": "display_data"
    },
    {
     "data": {
      "text/markdown": [
       "<span style=\"color:#33cc33\">Correct</span>"
      ],
      "text/plain": [
       "Correct"
      ]
     },
     "metadata": {},
     "output_type": "display_data"
    }
   ],
   "source": [
    "from tensorflow import keras\n",
    "from tensorflow.keras import layers\n",
    "\n",
    "model = keras.Sequential([\n",
    "    layers.Dense(512, activation='relu', input_shape=input_shape),\n",
    "    layers.Dense(512, activation='relu'),\n",
    "    layers.Dense(512, activation='relu'),    \n",
    "    layers.Dense(1),\n",
    "])\n",
    "\n",
    "# Check your answer\n",
    "q_2.check()"
   ]
  },
  {
   "cell_type": "code",
   "execution_count": 6,
   "id": "1f7d034b",
   "metadata": {
    "execution": {
     "iopub.execute_input": "2024-01-08T12:52:02.955259Z",
     "iopub.status.busy": "2024-01-08T12:52:02.954852Z",
     "iopub.status.idle": "2024-01-08T12:52:02.963000Z",
     "shell.execute_reply": "2024-01-08T12:52:02.961590Z"
    },
    "papermill": {
     "duration": 0.016179,
     "end_time": "2024-01-08T12:52:02.965045",
     "exception": false,
     "start_time": "2024-01-08T12:52:02.948866",
     "status": "completed"
    },
    "tags": []
   },
   "outputs": [
    {
     "data": {
      "application/javascript": [
       "parent.postMessage({\"jupyterEvent\": \"custom.exercise_interaction\", \"data\": {\"interactionType\": 3, \"questionType\": 2, \"questionId\": \"2_Q2\", \"learnToolsVersion\": \"0.3.4\", \"valueTowardsCompletion\": 0.0, \"failureMessage\": \"\", \"exceptionClass\": \"\", \"trace\": \"\", \"outcomeType\": 4}}, \"*\")"
      ],
      "text/plain": [
       "<IPython.core.display.Javascript object>"
      ]
     },
     "metadata": {},
     "output_type": "display_data"
    },
    {
     "data": {
      "text/markdown": [
       "<span style=\"color:#33cc99\">Solution:</span> \n",
       "```python\n",
       "\n",
       "from tensorflow import keras\n",
       "from tensorflow.keras import layers\n",
       "\n",
       "model = keras.Sequential([\n",
       "    layers.Dense(512, activation='relu', input_shape=input_shape),\n",
       "    layers.Dense(512, activation='relu'),\n",
       "    layers.Dense(512, activation='relu'),    \n",
       "    layers.Dense(1),\n",
       "])\n",
       "\n",
       "```"
      ],
      "text/plain": [
       "Solution: \n",
       "```python\n",
       "\n",
       "from tensorflow import keras\n",
       "from tensorflow.keras import layers\n",
       "\n",
       "model = keras.Sequential([\n",
       "    layers.Dense(512, activation='relu', input_shape=input_shape),\n",
       "    layers.Dense(512, activation='relu'),\n",
       "    layers.Dense(512, activation='relu'),    \n",
       "    layers.Dense(1),\n",
       "])\n",
       "\n",
       "```"
      ]
     },
     "metadata": {},
     "output_type": "display_data"
    }
   ],
   "source": [
    "# Lines below will give you a hint or solution code\n",
    "#q_2.hint()\n",
    "q_2.solution()"
   ]
  },
  {
   "cell_type": "markdown",
   "id": "9b07a1d2",
   "metadata": {
    "papermill": {
     "duration": 0.006903,
     "end_time": "2024-01-08T12:52:02.976912",
     "exception": false,
     "start_time": "2024-01-08T12:52:02.970009",
     "status": "completed"
    },
    "tags": []
   },
   "source": [
    "# 3) Activation Layers #\n",
    "\n",
    "Let's explore activations functions some.\n",
    "\n",
    "The usual way of attaching an activation function to a `Dense` layer is to include it as part of the definition with the `activation` argument. Sometimes though you'll want to put some other layer between the `Dense` layer and its activation function. (We'll see an example of this in Lesson 5 with *batch normalization*.) In this case, we can define the activation in its own `Activation` layer, like so:\n",
    "\n",
    "```\n",
    "layers.Dense(units=8),\n",
    "layers.Activation('relu')\n",
    "```\n",
    "\n",
    "This is completely equivalent to the ordinary way: `layers.Dense(units=8, activation='relu')`.\n",
    "\n",
    "Rewrite the following model so that each activation is in its own `Activation` layer.\n",
    "\n",
    "# その3）アクティベーション・レイヤー\n",
    "\n",
    "活性化関数を少し調べてみよう。\n",
    "\n",
    "活性化関数を `Dense` レイヤーにアタッチする通常の方法は、定義の一部として `activation` 引数を指定することです。しかし、時には `Dense` レイヤーと活性化関数の間に他のレイヤーを置きたいこともあるでしょう。(この場合、活性化を`Activation`レイヤーで定義することができます：\n",
    "\n",
    "```\n",
    "layers.Dense(units=8)、\n",
    "layers.Activation('relu')\n",
    "```\n",
    "\n",
    "これは通常の方法と全く同じです：`layers.Dense(units=8, activation='relu')`.\n",
    "\n",
    "各アクティベーションがそれぞれの `Activation` レイヤーにあるように、次のモデルを書き直します。"
   ]
  },
  {
   "cell_type": "code",
   "execution_count": 7,
   "id": "4aac3956",
   "metadata": {
    "execution": {
     "iopub.execute_input": "2024-01-08T12:52:02.988011Z",
     "iopub.status.busy": "2024-01-08T12:52:02.987678Z",
     "iopub.status.idle": "2024-01-08T12:52:03.040729Z",
     "shell.execute_reply": "2024-01-08T12:52:03.039584Z"
    },
    "lines_to_next_cell": 0,
    "papermill": {
     "duration": 0.060924,
     "end_time": "2024-01-08T12:52:03.042616",
     "exception": false,
     "start_time": "2024-01-08T12:52:02.981692",
     "status": "completed"
    },
    "tags": []
   },
   "outputs": [
    {
     "data": {
      "application/javascript": [
       "parent.postMessage({\"jupyterEvent\": \"custom.exercise_interaction\", \"data\": {\"outcomeType\": 1, \"valueTowardsCompletion\": 0.3333333333333333, \"interactionType\": 1, \"questionType\": 2, \"questionId\": \"3_Q3\", \"learnToolsVersion\": \"0.3.4\", \"failureMessage\": \"\", \"exceptionClass\": \"\", \"trace\": \"\"}}, \"*\")"
      ],
      "text/plain": [
       "<IPython.core.display.Javascript object>"
      ]
     },
     "metadata": {},
     "output_type": "display_data"
    },
    {
     "data": {
      "text/markdown": [
       "<span style=\"color:#33cc33\">Correct</span>"
      ],
      "text/plain": [
       "Correct"
      ]
     },
     "metadata": {},
     "output_type": "display_data"
    }
   ],
   "source": [
    "### YOUR CODE HERE: rewrite this to use activation layers\n",
    "model = keras.Sequential([\n",
    "    layers.Dense(32, input_shape=[8]),\n",
    "    layers.Activation('relu'),\n",
    "    layers.Dense(32),\n",
    "    layers.Activation('relu'),\n",
    "    layers.Dense(1),\n",
    "])\n",
    "\n",
    "# Check your answer\n",
    "q_3.check()"
   ]
  },
  {
   "cell_type": "code",
   "execution_count": 8,
   "id": "cdc928c1",
   "metadata": {
    "execution": {
     "iopub.execute_input": "2024-01-08T12:52:03.054822Z",
     "iopub.status.busy": "2024-01-08T12:52:03.054499Z",
     "iopub.status.idle": "2024-01-08T12:52:03.063198Z",
     "shell.execute_reply": "2024-01-08T12:52:03.061955Z"
    },
    "papermill": {
     "duration": 0.017067,
     "end_time": "2024-01-08T12:52:03.065126",
     "exception": false,
     "start_time": "2024-01-08T12:52:03.048059",
     "status": "completed"
    },
    "tags": []
   },
   "outputs": [
    {
     "data": {
      "application/javascript": [
       "parent.postMessage({\"jupyterEvent\": \"custom.exercise_interaction\", \"data\": {\"interactionType\": 3, \"questionType\": 2, \"questionId\": \"3_Q3\", \"learnToolsVersion\": \"0.3.4\", \"valueTowardsCompletion\": 0.0, \"failureMessage\": \"\", \"exceptionClass\": \"\", \"trace\": \"\", \"outcomeType\": 4}}, \"*\")"
      ],
      "text/plain": [
       "<IPython.core.display.Javascript object>"
      ]
     },
     "metadata": {},
     "output_type": "display_data"
    },
    {
     "data": {
      "text/markdown": [
       "<span style=\"color:#33cc99\">Solution:</span> \n",
       "```python\n",
       "\n",
       "model = keras.Sequential([\n",
       "    layers.Dense(32, input_shape=[8]),\n",
       "    layers.Activation('relu'),\n",
       "    layers.Dense(32),\n",
       "    layers.Activation('relu'),\n",
       "    layers.Dense(1),\n",
       "])\n",
       "\n",
       "```"
      ],
      "text/plain": [
       "Solution: \n",
       "```python\n",
       "\n",
       "model = keras.Sequential([\n",
       "    layers.Dense(32, input_shape=[8]),\n",
       "    layers.Activation('relu'),\n",
       "    layers.Dense(32),\n",
       "    layers.Activation('relu'),\n",
       "    layers.Dense(1),\n",
       "])\n",
       "\n",
       "```"
      ]
     },
     "metadata": {},
     "output_type": "display_data"
    }
   ],
   "source": [
    "# Lines below will give you a hint or solution code\n",
    "#q_3.hint()\n",
    "q_3.solution()"
   ]
  },
  {
   "cell_type": "markdown",
   "id": "5bbe0416",
   "metadata": {
    "papermill": {
     "duration": 0.005132,
     "end_time": "2024-01-08T12:52:03.075915",
     "exception": false,
     "start_time": "2024-01-08T12:52:03.070783",
     "status": "completed"
    },
    "tags": []
   },
   "source": [
    "# Optional: Alternatives to ReLU #\n",
    "\n",
    "There is a whole family of variants of the `'relu'` activation -- `'elu'`, `'selu'`, and `'swish'`, among others -- all of which you can use in Keras. Sometimes one activation will perform better than another on a given task, so you could consider experimenting with activations as you develop a model. The ReLU activation tends to do well on most problems, so it's a good one to start with.\n",
    "\n",
    "Let's look at the graphs of some of these. Change the activation from `'relu'` to one of the others named above. Then run the cell to see the graph. (Check out the [documentation](https://www.tensorflow.org/api_docs/python/tf/keras/activations) for more ideas.)\n",
    "\n",
    "# Optional： ReLUの代替 #\n",
    "\n",
    "relu'`活性化には、`'elu'`、`'selu'`、`'swish'`などの種類があり、Kerasで使用することができます。あるタスクに対して、あるアクティベーションが他のアクティベーションよりも良い結果を出すこともあるので、モデルを開発する際にアクティベーションを試してみるのも良いでしょう。ReLUアクティベーションはほとんどの問題で良い結果を出す傾向があるので、まずはこのアクティベーションから始めるのが良いだろう。\n",
    "\n",
    "いくつかのグラフを見てみましょう。活性化を「'relu'`」から上記の他の活性化に変更します。"
   ]
  },
  {
   "cell_type": "code",
   "execution_count": 9,
   "id": "96c76126",
   "metadata": {
    "execution": {
     "iopub.execute_input": "2024-01-08T12:52:03.088111Z",
     "iopub.status.busy": "2024-01-08T12:52:03.087735Z",
     "iopub.status.idle": "2024-01-08T12:52:03.403791Z",
     "shell.execute_reply": "2024-01-08T12:52:03.402434Z"
    },
    "lines_to_next_cell": 0,
    "papermill": {
     "duration": 0.325112,
     "end_time": "2024-01-08T12:52:03.406311",
     "exception": false,
     "start_time": "2024-01-08T12:52:03.081199",
     "status": "completed"
    },
    "tags": []
   },
   "outputs": [
    {
     "data": {
      "image/png": "[encoded data removed]",
      "text/plain": [
       "<Figure size 640x480 with 1 Axes>"
      ]
     },
     "metadata": {},
     "output_type": "display_data"
    }
   ],
   "source": [
    "# YOUR CODE HERE: Change 'relu' to 'elu', 'selu', 'swish'... or something else\n",
    "activation_layer = layers.Activation('relu')\n",
    "\n",
    "x = tf.linspace(-3.0, 3.0, 100)\n",
    "y = activation_layer(x) # once created, a layer is callable just like a function\n",
    "\n",
    "plt.figure(dpi=100)\n",
    "plt.plot(x, y)\n",
    "plt.xlim(-3, 3)\n",
    "plt.xlabel(\"Input\")\n",
    "plt.ylabel(\"Output\")\n",
    "plt.show()"
   ]
  },
  {
   "cell_type": "markdown",
   "id": "bc52cda1",
   "metadata": {
    "papermill": {
     "duration": 0.005769,
     "end_time": "2024-01-08T12:52:03.418385",
     "exception": false,
     "start_time": "2024-01-08T12:52:03.412616",
     "status": "completed"
    },
    "tags": []
   },
   "source": [
    "# Keep Going #\n",
    "\n",
    "Now move on to Lesson 3 and [**learn how to train neural networks**](https://www.kaggle.com/ryanholbrook/stochastic-gradient-descent) with stochastic gradient descent.\n",
    "# Keep Going #\n",
    "\n",
    "さて、レッスン3に進み、確率的勾配降下法を使った[**ニューラルネットワーク**の学習方法**](https://www.kaggle.com/ryanholbrook/stochastic-gradient-descent)を学びましょう。"
   ]
  },
  {
   "cell_type": "markdown",
   "id": "6f17e19d",
   "metadata": {
    "papermill": {
     "duration": 0.005568,
     "end_time": "2024-01-08T12:52:03.429888",
     "exception": false,
     "start_time": "2024-01-08T12:52:03.424320",
     "status": "completed"
    },
    "tags": []
   },
   "source": [
    "---\n",
    "\n",
    "\n",
    "\n",
    "\n",
    "*Have questions or comments? Visit the [course discussion forum](https://www.kaggle.com/learn/intro-to-deep-learning/discussion) to chat with other learners.*"
   ]
  }
 ],
 "metadata": {
  "jupytext": {
   "cell_metadata_filter": "-all",
   "formats": "ipynb"
  },
  "kaggle": {
   "accelerator": "none",
   "dataSources": [
    {
     "datasetId": 829369,
     "sourceId": 1480608,
     "sourceType": "datasetVersion"
    }
   ],
   "isGpuEnabled": false,
   "isInternetEnabled": false,
   "language": "python",
   "sourceType": "notebook"
  },
  "kernelspec": {
   "display_name": "Python 3",
   "language": "python",
   "name": "python3"
  },
  "language_info": {
   "codemirror_mode": {
    "name": "ipython",
    "version": 3
   },
   "file_extension": ".py",
   "mimetype": "text/x-python",
   "name": "python",
   "nbconvert_exporter": "python",
   "pygments_lexer": "ipython3",
   "version": "3.10.12"
  },
  "papermill": {
   "default_parameters": {},
   "duration": 16.542008,
   "end_time": "2024-01-08T12:52:04.758721",
   "environment_variables": {},
   "exception": null,
   "input_path": "__notebook__.ipynb",
   "output_path": "__notebook__.ipynb",
   "parameters": {},
   "start_time": "2024-01-08T12:51:48.216713",
   "version": "2.4.0"
  }
 },
 "nbformat": 4,
 "nbformat_minor": 5
}
