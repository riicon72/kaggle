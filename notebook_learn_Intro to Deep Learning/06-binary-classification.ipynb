{
 "cells": [
  {
   "cell_type": "markdown",
   "id": "464b096c",
   "metadata": {
    "papermill": {
     "duration": 0.004932,
     "end_time": "2024-01-12T12:27:35.063971",
     "exception": false,
     "start_time": "2024-01-12T12:27:35.059039",
     "status": "completed"
    },
    "tags": []
   },
   "source": [
    "**This notebook is an exercise in the [Intro to Deep Learning](https://www.kaggle.com/learn/intro-to-deep-learning) course.  You can reference the tutorial at [this link](https://www.kaggle.com/ryanholbrook/binary-classification).**\n",
    "\n",
    "---\n"
   ]
  },
  {
   "cell_type": "markdown",
   "id": "9f27ab28",
   "metadata": {
    "papermill": {
     "duration": 0.004106,
     "end_time": "2024-01-12T12:27:35.072641",
     "exception": false,
     "start_time": "2024-01-12T12:27:35.068535",
     "status": "completed"
    },
    "tags": []
   },
   "source": [
    "# Introduction #\n",
    "\n",
    "In this exercise, you'll build a model to predict hotel cancellations with a binary classifier.\n",
    "\n",
    "# はじめに \n",
    "\n",
    "この演習では、二値分類器を用いてホテルのキャンセルを予測するモデルを構築します。"
   ]
  },
  {
   "cell_type": "code",
   "execution_count": 1,
   "id": "5c9ce508",
   "metadata": {
    "execution": {
     "iopub.execute_input": "2024-01-12T12:27:35.083177Z",
     "iopub.status.busy": "2024-01-12T12:27:35.082337Z",
     "iopub.status.idle": "2024-01-12T12:27:35.826228Z",
     "shell.execute_reply": "2024-01-12T12:27:35.825489Z"
    },
    "lines_to_next_cell": 0,
    "papermill": {
     "duration": 0.751472,
     "end_time": "2024-01-12T12:27:35.828460",
     "exception": false,
     "start_time": "2024-01-12T12:27:35.076988",
     "status": "completed"
    },
    "tags": []
   },
   "outputs": [
    {
     "name": "stderr",
     "output_type": "stream",
     "text": [
      "/tmp/ipykernel_26/3338970720.py:3: MatplotlibDeprecationWarning: The seaborn styles shipped by Matplotlib are deprecated since 3.6, as they no longer correspond to the styles shipped by seaborn. However, they will remain available as 'seaborn-v0_8-<style>'. Alternatively, directly use the seaborn API instead.\n",
      "  plt.style.use('seaborn-whitegrid')\n"
     ]
    }
   ],
   "source": [
    "# Setup plotting\n",
    "import matplotlib.pyplot as plt\n",
    "plt.style.use('seaborn-whitegrid')\n",
    "# Set Matplotlib defaults\n",
    "plt.rc('figure', autolayout=True)\n",
    "plt.rc('axes', labelweight='bold', labelsize='large',\n",
    "       titleweight='bold', titlesize=18, titlepad=10)\n",
    "plt.rc('animation', html='html5')\n",
    "\n",
    "# Setup feedback system\n",
    "from learntools.core import binder\n",
    "binder.bind(globals())\n",
    "from learntools.deep_learning_intro.ex6 import *"
   ]
  },
  {
   "cell_type": "markdown",
   "id": "d7aac617",
   "metadata": {
    "papermill": {
     "duration": 0.004332,
     "end_time": "2024-01-12T12:27:35.837568",
     "exception": false,
     "start_time": "2024-01-12T12:27:35.833236",
     "status": "completed"
    },
    "tags": []
   },
   "source": [
    "First, load the *Hotel Cancellations* dataset.\n",
    "まず、*Hotel Cancellations* データセットをロードする。"
   ]
  },
  {
   "cell_type": "code",
   "execution_count": 2,
   "id": "c4025c3c",
   "metadata": {
    "execution": {
     "iopub.execute_input": "2024-01-12T12:27:35.848575Z",
     "iopub.status.busy": "2024-01-12T12:27:35.848095Z",
     "iopub.status.idle": "2024-01-12T12:27:38.158769Z",
     "shell.execute_reply": "2024-01-12T12:27:38.157966Z"
    },
    "lines_to_next_cell": 2,
    "papermill": {
     "duration": 2.319172,
     "end_time": "2024-01-12T12:27:38.161068",
     "exception": false,
     "start_time": "2024-01-12T12:27:35.841896",
     "status": "completed"
    },
    "tags": []
   },
   "outputs": [
    {
     "name": "stderr",
     "output_type": "stream",
     "text": [
      "/opt/conda/lib/python3.10/site-packages/scipy/__init__.py:146: UserWarning: A NumPy version >=1.16.5 and <1.23.0 is required for this version of SciPy (detected version 1.24.3\n",
      "  warnings.warn(f\"A NumPy version >={np_minversion} and <{np_maxversion}\"\n"
     ]
    }
   ],
   "source": [
    "import pandas as pd\n",
    "\n",
    "from sklearn.model_selection import train_test_split\n",
    "from sklearn.preprocessing import StandardScaler, OneHotEncoder\n",
    "from sklearn.impute import SimpleImputer\n",
    "from sklearn.pipeline import make_pipeline\n",
    "from sklearn.compose import make_column_transformer\n",
    "\n",
    "hotel = pd.read_csv('../input/dl-course-data/hotel.csv')\n",
    "\n",
    "X = hotel.copy()\n",
    "y = X.pop('is_canceled')\n",
    "\n",
    "X['arrival_date_month'] = \\\n",
    "    X['arrival_date_month'].map(\n",
    "        {'January':1, 'February': 2, 'March':3,\n",
    "         'April':4, 'May':5, 'June':6, 'July':7,\n",
    "         'August':8, 'September':9, 'October':10,\n",
    "         'November':11, 'December':12}\n",
    "    )\n",
    "\n",
    "features_num = [\n",
    "    \"lead_time\", \"arrival_date_week_number\",\n",
    "    \"arrival_date_day_of_month\", \"stays_in_weekend_nights\",\n",
    "    \"stays_in_week_nights\", \"adults\", \"children\", \"babies\",\n",
    "    \"is_repeated_guest\", \"previous_cancellations\",\n",
    "    \"previous_bookings_not_canceled\", \"required_car_parking_spaces\",\n",
    "    \"total_of_special_requests\", \"adr\",\n",
    "]\n",
    "features_cat = [\n",
    "    \"hotel\", \"arrival_date_month\", \"meal\",\n",
    "    \"market_segment\", \"distribution_channel\",\n",
    "    \"reserved_room_type\", \"deposit_type\", \"customer_type\",\n",
    "]\n",
    "\n",
    "transformer_num = make_pipeline(\n",
    "    SimpleImputer(strategy=\"constant\"), # there are a few missing values\n",
    "    StandardScaler(),\n",
    ")\n",
    "transformer_cat = make_pipeline(\n",
    "    SimpleImputer(strategy=\"constant\", fill_value=\"NA\"),\n",
    "    OneHotEncoder(handle_unknown='ignore'),\n",
    ")\n",
    "\n",
    "preprocessor = make_column_transformer(\n",
    "    (transformer_num, features_num),\n",
    "    (transformer_cat, features_cat),\n",
    ")\n",
    "\n",
    "# stratify - make sure classes are evenlly represented across splits\n",
    "X_train, X_valid, y_train, y_valid = \\\n",
    "    train_test_split(X, y, stratify=y, train_size=0.75)\n",
    "\n",
    "X_train = preprocessor.fit_transform(X_train)\n",
    "X_valid = preprocessor.transform(X_valid)\n",
    "\n",
    "input_shape = [X_train.shape[1]]"
   ]
  },
  {
   "cell_type": "markdown",
   "id": "5d9d5633",
   "metadata": {
    "papermill": {
     "duration": 0.00442,
     "end_time": "2024-01-12T12:27:38.170349",
     "exception": false,
     "start_time": "2024-01-12T12:27:38.165929",
     "status": "completed"
    },
    "tags": []
   },
   "source": [
    "# 1) Define Model #\n",
    "\n",
    "The model we'll use this time will have both batch normalization and dropout layers. To ease reading we've broken the diagram into blocks, but you can define it layer by layer as usual.\n",
    "\n",
    "Define a model with an architecture given by this diagram:\n",
    "\n",
    "# 1) モデルの定義\n",
    "\n",
    "今回使用するモデルは、バッチ正規化レイヤーとドロップアウトレイヤーの両方を持つ。読みやすくするために図をブロックに分割しましたが、レイヤーごとに定義することもできます。\n",
    "\n",
    "この図で与えられたアーキテクチャでモデルを定義する：\n",
    "\n",
    "<figure style=\"padding: 1em;\">\n",
    "<img src=\"https://storage.googleapis.com/kaggle-media/learn/images/V04o59Z.png\" width=\"400\" alt=\"Diagram of network architecture: BatchNorm, Dense, BatchNorm, Dropout, Dense, BatchNorm, Dropout, Dense.\">\n",
    "<figcaption style=\"textalign: center; font-style: italic\"><center>Diagram of a binary classifier.</center></figcaption>\n",
    "</figure>\n"
   ]
  },
  {
   "cell_type": "code",
   "execution_count": 3,
   "id": "b955bd1b",
   "metadata": {
    "execution": {
     "iopub.execute_input": "2024-01-12T12:27:38.180837Z",
     "iopub.status.busy": "2024-01-12T12:27:38.180433Z",
     "iopub.status.idle": "2024-01-12T12:27:50.504925Z",
     "shell.execute_reply": "2024-01-12T12:27:50.503775Z"
    },
    "lines_to_next_cell": 2,
    "papermill": {
     "duration": 12.332161,
     "end_time": "2024-01-12T12:27:50.507122",
     "exception": false,
     "start_time": "2024-01-12T12:27:38.174961",
     "status": "completed"
    },
    "tags": []
   },
   "outputs": [
    {
     "data": {
      "application/javascript": [
       "parent.postMessage({\"jupyterEvent\": \"custom.exercise_interaction\", \"data\": {\"outcomeType\": 1, \"valueTowardsCompletion\": 0.3333333333333333, \"interactionType\": 1, \"questionType\": 2, \"questionId\": \"1_Q1\", \"learnToolsVersion\": \"0.3.4\", \"failureMessage\": \"\", \"exceptionClass\": \"\", \"trace\": \"\"}}, \"*\")"
      ],
      "text/plain": [
       "<IPython.core.display.Javascript object>"
      ]
     },
     "metadata": {},
     "output_type": "display_data"
    },
    {
     "data": {
      "text/markdown": [
       "<span style=\"color:#33cc33\">Correct</span>"
      ],
      "text/plain": [
       "Correct"
      ]
     },
     "metadata": {},
     "output_type": "display_data"
    }
   ],
   "source": [
    "from tensorflow import keras\n",
    "from tensorflow.keras import layers\n",
    "\n",
    "model = keras.Sequential([\n",
    "    layers.BatchNormalization(input_shape=input_shape),\n",
    "    layers.Dense(256, activation='relu'),\n",
    "    layers.BatchNormalization(),\n",
    "    layers.Dropout(0.3),\n",
    "    layers.Dense(256, activation='relu'),  \n",
    "    layers.BatchNormalization(),\n",
    "    layers.Dropout(0.3),\n",
    "    layers.Dense(1, activation='sigmoid'),\n",
    "])\n",
    "\n",
    "# Check your answer\n",
    "q_1.check()"
   ]
  },
  {
   "cell_type": "markdown",
   "id": "5c4b72cb",
   "metadata": {
    "papermill": {
     "duration": 0.007158,
     "end_time": "2024-01-12T12:27:50.520593",
     "exception": false,
     "start_time": "2024-01-12T12:27:50.513435",
     "status": "completed"
    },
    "tags": []
   },
   "source": [
    "# 2) Add Optimizer, Loss, and Metric #\n",
    "\n",
    "Now compile the model with the Adam optimizer and binary versions of the cross-entropy loss and accuracy metric.\n",
    "\n",
    "# 2) 追加、損失、およびメトリックを追加する #。\n",
    "\n",
    "Adamオプティマイザとバイナリ版のクロスエントロピー損失と精度メトリックを追加してモデルをコンパイルします。"
   ]
  },
  {
   "cell_type": "code",
   "execution_count": 4,
   "id": "4a0bee11",
   "metadata": {
    "execution": {
     "iopub.execute_input": "2024-01-12T12:27:50.533620Z",
     "iopub.status.busy": "2024-01-12T12:27:50.533285Z",
     "iopub.status.idle": "2024-01-12T12:27:50.551930Z",
     "shell.execute_reply": "2024-01-12T12:27:50.551118Z"
    },
    "lines_to_next_cell": 0,
    "papermill": {
     "duration": 0.026546,
     "end_time": "2024-01-12T12:27:50.553682",
     "exception": false,
     "start_time": "2024-01-12T12:27:50.527136",
     "status": "completed"
    },
    "tags": []
   },
   "outputs": [
    {
     "data": {
      "application/javascript": [
       "parent.postMessage({\"jupyterEvent\": \"custom.exercise_interaction\", \"data\": {\"outcomeType\": 1, \"valueTowardsCompletion\": 0.3333333333333333, \"interactionType\": 1, \"questionType\": 2, \"questionId\": \"2_Q2\", \"learnToolsVersion\": \"0.3.4\", \"failureMessage\": \"\", \"exceptionClass\": \"\", \"trace\": \"\"}}, \"*\")"
      ],
      "text/plain": [
       "<IPython.core.display.Javascript object>"
      ]
     },
     "metadata": {},
     "output_type": "display_data"
    },
    {
     "data": {
      "text/markdown": [
       "<span style=\"color:#33cc33\">Correct</span>"
      ],
      "text/plain": [
       "Correct"
      ]
     },
     "metadata": {},
     "output_type": "display_data"
    }
   ],
   "source": [
    "# YOUR CODE HERE\n",
    "model.compile(\n",
    "    optimizer='adam',\n",
    "    loss='binary_crossentropy',\n",
    "    metrics=['binary_accuracy'],\n",
    ")\n",
    "\n",
    "# Check your answer\n",
    "q_2.check()"
   ]
  },
  {
   "cell_type": "code",
   "execution_count": 5,
   "id": "b17ff508",
   "metadata": {
    "execution": {
     "iopub.execute_input": "2024-01-12T12:27:50.565391Z",
     "iopub.status.busy": "2024-01-12T12:27:50.564760Z",
     "iopub.status.idle": "2024-01-12T12:27:50.571675Z",
     "shell.execute_reply": "2024-01-12T12:27:50.570787Z"
    },
    "lines_to_next_cell": 0,
    "papermill": {
     "duration": 0.014695,
     "end_time": "2024-01-12T12:27:50.573575",
     "exception": false,
     "start_time": "2024-01-12T12:27:50.558880",
     "status": "completed"
    },
    "tags": []
   },
   "outputs": [
    {
     "data": {
      "application/javascript": [
       "parent.postMessage({\"jupyterEvent\": \"custom.exercise_interaction\", \"data\": {\"interactionType\": 3, \"questionType\": 2, \"questionId\": \"2_Q2\", \"learnToolsVersion\": \"0.3.4\", \"valueTowardsCompletion\": 0.0, \"failureMessage\": \"\", \"exceptionClass\": \"\", \"trace\": \"\", \"outcomeType\": 4}}, \"*\")"
      ],
      "text/plain": [
       "<IPython.core.display.Javascript object>"
      ]
     },
     "metadata": {},
     "output_type": "display_data"
    },
    {
     "data": {
      "text/markdown": [
       "<span style=\"color:#33cc99\">Solution:</span> \n",
       "```python\n",
       "\n",
       "model.compile(\n",
       "    optimizer='adam',\n",
       "    loss='binary_crossentropy',\n",
       "    metrics=['binary_accuracy'],\n",
       ")\n",
       "\n",
       "```"
      ],
      "text/plain": [
       "Solution: \n",
       "```python\n",
       "\n",
       "model.compile(\n",
       "    optimizer='adam',\n",
       "    loss='binary_crossentropy',\n",
       "    metrics=['binary_accuracy'],\n",
       ")\n",
       "\n",
       "```"
      ]
     },
     "metadata": {},
     "output_type": "display_data"
    }
   ],
   "source": [
    "# Lines below will give you a hint or solution code\n",
    "#q_2.hint()\n",
    "q_2.solution()"
   ]
  },
  {
   "cell_type": "markdown",
   "id": "d650f0ea",
   "metadata": {
    "papermill": {
     "duration": 0.005111,
     "end_time": "2024-01-12T12:27:50.584209",
     "exception": false,
     "start_time": "2024-01-12T12:27:50.579098",
     "status": "completed"
    },
    "tags": []
   },
   "source": [
    "Finally, run this cell to train the model and view the learning curves. It may run for around 60 to 70 epochs, which could take a minute or two.\n",
    "\n",
    "最後に、このセルを実行してモデルを訓練し、学習曲線を見る。約60～70エポック、1～2分かかるかもしれない。"
   ]
  },
  {
   "cell_type": "code",
   "execution_count": 6,
   "id": "274c6dc3",
   "metadata": {
    "execution": {
     "iopub.execute_input": "2024-01-12T12:27:50.596219Z",
     "iopub.status.busy": "2024-01-12T12:27:50.595952Z",
     "iopub.status.idle": "2024-01-12T12:28:33.234781Z",
     "shell.execute_reply": "2024-01-12T12:28:33.233903Z"
    },
    "papermill": {
     "duration": 42.647183,
     "end_time": "2024-01-12T12:28:33.236832",
     "exception": false,
     "start_time": "2024-01-12T12:27:50.589649",
     "status": "completed"
    },
    "tags": []
   },
   "outputs": [
    {
     "name": "stdout",
     "output_type": "stream",
     "text": [
      "Epoch 1/200\n",
      "175/175 [==============================] - 5s 6ms/step - loss: 0.4825 - binary_accuracy: 0.7727 - val_loss: 0.4387 - val_binary_accuracy: 0.8045\n",
      "Epoch 2/200\n",
      "175/175 [==============================] - 1s 5ms/step - loss: 0.4231 - binary_accuracy: 0.8014 - val_loss: 0.4036 - val_binary_accuracy: 0.8119\n",
      "Epoch 3/200\n",
      "175/175 [==============================] - 1s 5ms/step - loss: 0.4098 - binary_accuracy: 0.8085 - val_loss: 0.3971 - val_binary_accuracy: 0.8150\n",
      "Epoch 4/200\n",
      "175/175 [==============================] - 1s 5ms/step - loss: 0.4012 - binary_accuracy: 0.8127 - val_loss: 0.3922 - val_binary_accuracy: 0.8174\n",
      "Epoch 5/200\n",
      "175/175 [==============================] - 1s 5ms/step - loss: 0.3977 - binary_accuracy: 0.8151 - val_loss: 0.3907 - val_binary_accuracy: 0.8187\n",
      "Epoch 6/200\n",
      "175/175 [==============================] - 1s 5ms/step - loss: 0.3926 - binary_accuracy: 0.8158 - val_loss: 0.3857 - val_binary_accuracy: 0.8206\n",
      "Epoch 7/200\n",
      "175/175 [==============================] - 1s 5ms/step - loss: 0.3888 - binary_accuracy: 0.8205 - val_loss: 0.3878 - val_binary_accuracy: 0.8192\n",
      "Epoch 8/200\n",
      "175/175 [==============================] - 1s 5ms/step - loss: 0.3850 - binary_accuracy: 0.8222 - val_loss: 0.3793 - val_binary_accuracy: 0.8237\n",
      "Epoch 9/200\n",
      "175/175 [==============================] - 1s 5ms/step - loss: 0.3822 - binary_accuracy: 0.8226 - val_loss: 0.3787 - val_binary_accuracy: 0.8251\n",
      "Epoch 10/200\n",
      "175/175 [==============================] - 1s 5ms/step - loss: 0.3804 - binary_accuracy: 0.8239 - val_loss: 0.3759 - val_binary_accuracy: 0.8269\n",
      "Epoch 11/200\n",
      "175/175 [==============================] - 1s 5ms/step - loss: 0.3782 - binary_accuracy: 0.8255 - val_loss: 0.3732 - val_binary_accuracy: 0.8272\n",
      "Epoch 12/200\n",
      "175/175 [==============================] - 1s 5ms/step - loss: 0.3744 - binary_accuracy: 0.8267 - val_loss: 0.3735 - val_binary_accuracy: 0.8256\n",
      "Epoch 13/200\n",
      "175/175 [==============================] - 1s 5ms/step - loss: 0.3723 - binary_accuracy: 0.8278 - val_loss: 0.3705 - val_binary_accuracy: 0.8267\n",
      "Epoch 14/200\n",
      "175/175 [==============================] - 1s 5ms/step - loss: 0.3701 - binary_accuracy: 0.8297 - val_loss: 0.3670 - val_binary_accuracy: 0.8298\n",
      "Epoch 15/200\n",
      "175/175 [==============================] - 1s 5ms/step - loss: 0.3681 - binary_accuracy: 0.8300 - val_loss: 0.3675 - val_binary_accuracy: 0.8311\n",
      "Epoch 16/200\n",
      "175/175 [==============================] - 1s 5ms/step - loss: 0.3665 - binary_accuracy: 0.8320 - val_loss: 0.3700 - val_binary_accuracy: 0.8262\n",
      "Epoch 17/200\n",
      "175/175 [==============================] - 1s 5ms/step - loss: 0.3641 - binary_accuracy: 0.8325 - val_loss: 0.3642 - val_binary_accuracy: 0.8304\n",
      "Epoch 18/200\n",
      "175/175 [==============================] - 1s 5ms/step - loss: 0.3629 - binary_accuracy: 0.8323 - val_loss: 0.3687 - val_binary_accuracy: 0.8263\n",
      "Epoch 19/200\n",
      "175/175 [==============================] - 1s 5ms/step - loss: 0.3608 - binary_accuracy: 0.8338 - val_loss: 0.3641 - val_binary_accuracy: 0.8315\n",
      "Epoch 20/200\n",
      "175/175 [==============================] - 1s 5ms/step - loss: 0.3596 - binary_accuracy: 0.8347 - val_loss: 0.3616 - val_binary_accuracy: 0.8312\n",
      "Epoch 21/200\n",
      "175/175 [==============================] - 1s 5ms/step - loss: 0.3598 - binary_accuracy: 0.8339 - val_loss: 0.3620 - val_binary_accuracy: 0.8293\n",
      "Epoch 22/200\n",
      "175/175 [==============================] - 1s 5ms/step - loss: 0.3575 - binary_accuracy: 0.8350 - val_loss: 0.3607 - val_binary_accuracy: 0.8339\n",
      "Epoch 23/200\n",
      "175/175 [==============================] - 1s 5ms/step - loss: 0.3565 - binary_accuracy: 0.8350 - val_loss: 0.3598 - val_binary_accuracy: 0.8338\n",
      "Epoch 24/200\n",
      "175/175 [==============================] - 1s 5ms/step - loss: 0.3543 - binary_accuracy: 0.8362 - val_loss: 0.3617 - val_binary_accuracy: 0.8318\n",
      "Epoch 25/200\n",
      "175/175 [==============================] - 1s 5ms/step - loss: 0.3530 - binary_accuracy: 0.8375 - val_loss: 0.3594 - val_binary_accuracy: 0.8329\n",
      "Epoch 26/200\n",
      "175/175 [==============================] - 1s 5ms/step - loss: 0.3531 - binary_accuracy: 0.8382 - val_loss: 0.3556 - val_binary_accuracy: 0.8361\n",
      "Epoch 27/200\n",
      "175/175 [==============================] - 1s 6ms/step - loss: 0.3507 - binary_accuracy: 0.8390 - val_loss: 0.3607 - val_binary_accuracy: 0.8302\n",
      "Epoch 28/200\n",
      "175/175 [==============================] - 1s 5ms/step - loss: 0.3498 - binary_accuracy: 0.8400 - val_loss: 0.3557 - val_binary_accuracy: 0.8353\n",
      "Epoch 29/200\n",
      "175/175 [==============================] - 1s 5ms/step - loss: 0.3488 - binary_accuracy: 0.8401 - val_loss: 0.3534 - val_binary_accuracy: 0.8364\n",
      "Epoch 30/200\n",
      "175/175 [==============================] - 1s 5ms/step - loss: 0.3480 - binary_accuracy: 0.8395 - val_loss: 0.3553 - val_binary_accuracy: 0.8363\n",
      "Epoch 31/200\n",
      "175/175 [==============================] - 1s 5ms/step - loss: 0.3466 - binary_accuracy: 0.8400 - val_loss: 0.3537 - val_binary_accuracy: 0.8375\n",
      "Epoch 32/200\n",
      "175/175 [==============================] - 1s 5ms/step - loss: 0.3457 - binary_accuracy: 0.8414 - val_loss: 0.3532 - val_binary_accuracy: 0.8358\n",
      "Epoch 33/200\n",
      "175/175 [==============================] - 1s 5ms/step - loss: 0.3442 - binary_accuracy: 0.8416 - val_loss: 0.3524 - val_binary_accuracy: 0.8372\n",
      "Epoch 34/200\n",
      "175/175 [==============================] - 1s 5ms/step - loss: 0.3444 - binary_accuracy: 0.8416 - val_loss: 0.3516 - val_binary_accuracy: 0.8393\n",
      "Epoch 35/200\n",
      "175/175 [==============================] - 1s 5ms/step - loss: 0.3455 - binary_accuracy: 0.8413 - val_loss: 0.3527 - val_binary_accuracy: 0.8369\n",
      "Epoch 36/200\n",
      "175/175 [==============================] - 1s 5ms/step - loss: 0.3420 - binary_accuracy: 0.8422 - val_loss: 0.3529 - val_binary_accuracy: 0.8379\n",
      "Epoch 37/200\n",
      "175/175 [==============================] - 1s 5ms/step - loss: 0.3421 - binary_accuracy: 0.8425 - val_loss: 0.3515 - val_binary_accuracy: 0.8375\n",
      "Epoch 38/200\n",
      "175/175 [==============================] - 1s 5ms/step - loss: 0.3401 - binary_accuracy: 0.8442 - val_loss: 0.3492 - val_binary_accuracy: 0.8383\n",
      "Epoch 39/200\n",
      "175/175 [==============================] - 1s 5ms/step - loss: 0.3391 - binary_accuracy: 0.8438 - val_loss: 0.3514 - val_binary_accuracy: 0.8383\n",
      "Epoch 40/200\n",
      "175/175 [==============================] - 1s 5ms/step - loss: 0.3384 - binary_accuracy: 0.8449 - val_loss: 0.3524 - val_binary_accuracy: 0.8375\n",
      "Epoch 41/200\n",
      "175/175 [==============================] - 1s 5ms/step - loss: 0.3387 - binary_accuracy: 0.8435 - val_loss: 0.3508 - val_binary_accuracy: 0.8380\n",
      "Epoch 42/200\n",
      "175/175 [==============================] - 1s 5ms/step - loss: 0.3388 - binary_accuracy: 0.8453 - val_loss: 0.3496 - val_binary_accuracy: 0.8375\n",
      "Epoch 43/200\n",
      "175/175 [==============================] - 1s 5ms/step - loss: 0.3365 - binary_accuracy: 0.8454 - val_loss: 0.3503 - val_binary_accuracy: 0.8383\n"
     ]
    },
    {
     "data": {
      "text/plain": [
       "<Axes: title={'center': 'Accuracy'}>"
      ]
     },
     "execution_count": 6,
     "metadata": {},
     "output_type": "execute_result"
    },
    {
     "data": {
      "image/png": "[encoded data removed]",
      "text/plain": [
       "<Figure size 640x480 with 1 Axes>"
      ]
     },
     "metadata": {},
     "output_type": "display_data"
    },
    {
     "data": {
      "image/png": "[encoded data removed]",
      "text/plain": [
       "<Figure size 640x480 with 1 Axes>"
      ]
     },
     "metadata": {},
     "output_type": "display_data"
    }
   ],
   "source": [
    "early_stopping = keras.callbacks.EarlyStopping(\n",
    "    patience=5,\n",
    "    min_delta=0.001,\n",
    "    restore_best_weights=True,\n",
    ")\n",
    "history = model.fit(\n",
    "    X_train, y_train,\n",
    "    validation_data=(X_valid, y_valid),\n",
    "    batch_size=512,\n",
    "    epochs=200,\n",
    "    callbacks=[early_stopping],\n",
    ")\n",
    "\n",
    "history_df = pd.DataFrame(history.history)\n",
    "history_df.loc[:, ['loss', 'val_loss']].plot(title=\"Cross-entropy\")\n",
    "history_df.loc[:, ['binary_accuracy', 'val_binary_accuracy']].plot(title=\"Accuracy\")"
   ]
  },
  {
   "cell_type": "markdown",
   "id": "3f565b94",
   "metadata": {
    "papermill": {
     "duration": 0.063027,
     "end_time": "2024-01-12T12:28:33.364382",
     "exception": false,
     "start_time": "2024-01-12T12:28:33.301355",
     "status": "completed"
    },
    "tags": []
   },
   "source": [
    "# 3) Train and Evaluate #\n",
    "\n",
    "\n",
    "What do you think about the learning curves? Does it look like the model underfit or overfit? Was the cross-entropy loss a good stand-in for accuracy?\n",
    "\n",
    "# 3) トレーニングと評価 #\n",
    "\n",
    "\n",
    "学習曲線についてどう思いますか？モデルはアンダーフィットかオーバーフィットか？クロスエントロピーの損失は精度の代用になりましたか？"
   ]
  },
  {
   "cell_type": "code",
   "execution_count": 7,
   "id": "e6e81f51",
   "metadata": {
    "execution": {
     "iopub.execute_input": "2024-01-12T12:28:33.538942Z",
     "iopub.status.busy": "2024-01-12T12:28:33.537726Z",
     "iopub.status.idle": "2024-01-12T12:28:33.545427Z",
     "shell.execute_reply": "2024-01-12T12:28:33.544499Z"
    },
    "papermill": {
     "duration": 0.075385,
     "end_time": "2024-01-12T12:28:33.547191",
     "exception": false,
     "start_time": "2024-01-12T12:28:33.471806",
     "status": "completed"
    },
    "tags": []
   },
   "outputs": [
    {
     "data": {
      "application/javascript": [
       "parent.postMessage({\"jupyterEvent\": \"custom.exercise_interaction\", \"data\": {\"outcomeType\": 1, \"valueTowardsCompletion\": 0.3333333333333333, \"interactionType\": 1, \"questionType\": 4, \"questionId\": \"3_Q3\", \"learnToolsVersion\": \"0.3.4\", \"failureMessage\": \"\", \"exceptionClass\": \"\", \"trace\": \"\"}}, \"*\")"
      ],
      "text/plain": [
       "<IPython.core.display.Javascript object>"
      ]
     },
     "metadata": {},
     "output_type": "display_data"
    },
    {
     "data": {
      "text/markdown": [
       "<span style=\"color:#33cc33\">Correct:</span> \n",
       "\n",
       "Though we can see the training loss continuing to fall, the early stopping callback prevented any overfitting. Moreover, the accuracy rose at the same rate as the cross-entropy fell, so it appears that minimizing cross-entropy was a good stand-in. All in all, it looks like this training was a success!"
      ],
      "text/plain": [
       "Correct: \n",
       "\n",
       "Though we can see the training loss continuing to fall, the early stopping callback prevented any overfitting. Moreover, the accuracy rose at the same rate as the cross-entropy fell, so it appears that minimizing cross-entropy was a good stand-in. All in all, it looks like this training was a success!"
      ]
     },
     "metadata": {},
     "output_type": "display_data"
    }
   ],
   "source": [
    "# View the solution (Run this cell to receive credit!)\n",
    "q_3.check()"
   ]
  },
  {
   "cell_type": "markdown",
   "id": "7c0d7e0d",
   "metadata": {
    "papermill": {
     "duration": 0.064797,
     "end_time": "2024-01-12T12:28:33.676894",
     "exception": false,
     "start_time": "2024-01-12T12:28:33.612097",
     "status": "completed"
    },
    "tags": []
   },
   "source": [
    "# Conclusion #\n",
    "\n",
    "Congratulations! You've completed Kaggle's *Introduction to Deep Learning* course!\n",
    "\n",
    "With your new skills you're ready to take on more advanced applications like computer vision and sentiment classification. What would you like to do next?\n",
    "\n",
    "Why not try one of our *Getting Started* competitions?\n",
    "\n",
    "# 結論\n",
    "\n",
    "おめでとうございます！あなたはKaggleの*ディープラーニング入門*コースを修了しました！\n",
    "\n",
    "新しいスキルを身につけたあなたは、コンピュータビジョンや感情分類など、より高度なアプリケーションに挑戦する準備が整いました。次は何をしたいですか？\n",
    "\n",
    "私たちの *Getting Started* コンペティションに挑戦してみませんか？\n",
    "\n",
    "- Classify images with TPUs in [**Petals to the Metal**](https://www.kaggle.com/c/tpu-getting-started)\n",
    "- Create art with GANs in [**I'm Something of a Painter Myself**](https://www.kaggle.com/c/gan-getting-started)\n",
    "- Classify Tweets in [**Real or Not? NLP with Disaster Tweets**](https://www.kaggle.com/c/nlp-getting-started)\n",
    "- Detect contradiction and entailment in [**Contradictory, My Dear Watson**](https://www.kaggle.com/c/contradictory-my-dear-watson)\n",
    "\n",
    "Until next time, Kagglers!"
   ]
  },
  {
   "cell_type": "markdown",
   "id": "86d56315",
   "metadata": {
    "papermill": {
     "duration": 0.064411,
     "end_time": "2024-01-12T12:28:33.805867",
     "exception": false,
     "start_time": "2024-01-12T12:28:33.741456",
     "status": "completed"
    },
    "tags": []
   },
   "source": [
    "---\n",
    "\n",
    "\n",
    "\n",
    "\n",
    "*Have questions or comments? Visit the [course discussion forum](https://www.kaggle.com/learn/intro-to-deep-learning/discussion) to chat with other learners.*"
   ]
  }
 ],
 "metadata": {
  "jupytext": {
   "cell_metadata_filter": "-all",
   "formats": "ipynb"
  },
  "kaggle": {
   "accelerator": "gpu",
   "dataSources": [
    {
     "datasetId": 829369,
     "sourceId": 1480608,
     "sourceType": "datasetVersion"
    }
   ],
   "isGpuEnabled": true,
   "isInternetEnabled": false,
   "language": "python",
   "sourceType": "notebook"
  },
  "kernelspec": {
   "display_name": "Python 3",
   "language": "python",
   "name": "python3"
  },
  "language_info": {
   "codemirror_mode": {
    "name": "ipython",
    "version": 3
   },
   "file_extension": ".py",
   "mimetype": "text/x-python",
   "name": "python",
   "nbconvert_exporter": "python",
   "pygments_lexer": "ipython3",
   "version": "3.10.12"
  },
  "papermill": {
   "default_parameters": {},
   "duration": 64.552582,
   "end_time": "2024-01-12T12:28:36.243959",
   "environment_variables": {},
   "exception": null,
   "input_path": "__notebook__.ipynb",
   "output_path": "__notebook__.ipynb",
   "parameters": {},
   "start_time": "2024-01-12T12:27:31.691377",
   "version": "2.4.0"
  }
 },
 "nbformat": 4,
 "nbformat_minor": 5
}
