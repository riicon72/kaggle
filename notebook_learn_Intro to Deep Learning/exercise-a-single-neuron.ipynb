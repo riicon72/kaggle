{
 "cells": [
  {
   "cell_type": "markdown",
   "id": "1398da2a",
   "metadata": {
    "papermill": {
     "duration": 0.005326,
     "end_time": "2024-01-07T14:30:44.842333",
     "exception": false,
     "start_time": "2024-01-07T14:30:44.837007",
     "status": "completed"
    },
    "tags": []
   },
   "source": [
    "**This notebook is an exercise in the [Intro to Deep Learning](https://www.kaggle.com/learn/intro-to-deep-learning) course.  You can reference the tutorial at [this link](https://www.kaggle.com/ryanholbrook/a-single-neuron).**\n",
    "\n",
    "---\n"
   ]
  },
  {
   "cell_type": "markdown",
   "id": "37c967a7",
   "metadata": {
    "papermill": {
     "duration": 0.004636,
     "end_time": "2024-01-07T14:30:44.852278",
     "exception": false,
     "start_time": "2024-01-07T14:30:44.847642",
     "status": "completed"
    },
    "tags": []
   },
   "source": [
    "# Introduction #\n",
    "\n",
    "In the tutorial we learned about the building blocks of neural networks: *linear units*. We saw that a model of just one linear unit will fit a linear function to a dataset (equivalent to linear regression). In this exercise, you'll build a linear model and get some practice working with models in Keras.\n",
    "\n",
    "Before you get started, run the code cell below to set everything up.\n",
    "\n",
    "# Introduction #\n",
    "\n",
    "チュートリアルでは、ニューラルネットワークの構成要素について学んだ： *線形ユニット*。たった1つの線形ユニットで構成されるモデルは、データセットに線形関数を当てはめる（線形回帰に相当する）ことを学びました。この演習では、線形モデルを構築し、Kerasでモデルを扱う練習をします。\n",
    "\n",
    "始める前に、以下のコードセルを実行してすべてをセットアップしてください。"
   ]
  },
  {
   "cell_type": "code",
   "execution_count": 1,
   "id": "424f566d",
   "metadata": {
    "execution": {
     "iopub.execute_input": "2024-01-07T14:30:44.863923Z",
     "iopub.status.busy": "2024-01-07T14:30:44.863552Z",
     "iopub.status.idle": "2024-01-07T14:30:59.415099Z",
     "shell.execute_reply": "2024-01-07T14:30:59.413826Z"
    },
    "papermill": {
     "duration": 14.56093,
     "end_time": "2024-01-07T14:30:59.417945",
     "exception": false,
     "start_time": "2024-01-07T14:30:44.857015",
     "status": "completed"
    },
    "tags": []
   },
   "outputs": [
    {
     "name": "stderr",
     "output_type": "stream",
     "text": [
      "/tmp/ipykernel_19/3895727876.py:4: MatplotlibDeprecationWarning: The seaborn styles shipped by Matplotlib are deprecated since 3.6, as they no longer correspond to the styles shipped by seaborn. However, they will remain available as 'seaborn-v0_8-<style>'. Alternatively, directly use the seaborn API instead.\n",
      "  plt.style.use('seaborn-whitegrid')\n"
     ]
    }
   ],
   "source": [
    "# Setup plotting\n",
    "import matplotlib.pyplot as plt\n",
    "\n",
    "plt.style.use('seaborn-whitegrid')\n",
    "# Set Matplotlib defaults\n",
    "plt.rc('figure', autolayout=True)\n",
    "plt.rc('axes', labelweight='bold', labelsize='large',\n",
    "       titleweight='bold', titlesize=18, titlepad=10)\n",
    "\n",
    "# Setup feedback system\n",
    "from learntools.core import binder\n",
    "binder.bind(globals())\n",
    "from learntools.deep_learning_intro.ex1 import *"
   ]
  },
  {
   "cell_type": "markdown",
   "id": "9f2b4b28",
   "metadata": {
    "papermill": {
     "duration": 0.005198,
     "end_time": "2024-01-07T14:30:59.428353",
     "exception": false,
     "start_time": "2024-01-07T14:30:59.423155",
     "status": "completed"
    },
    "tags": []
   },
   "source": [
    "The *Red Wine Quality* dataset consists of physiochemical measurements from about 1600 Portuguese red wines.  Also included is a quality rating for each wine from blind taste-tests. \n",
    "\n",
    "First, run the next cell to display the first few rows of this dataset.\n",
    "\n",
    "赤ワインの品質*データセットは、約1600種類のポルトガルの赤ワインの物理化学的測定値から構成されている。 また、ブラインド・テイスティングによる各ワインの品質評価も含まれています。\n",
    "\n",
    "まず、次のセルを実行して、このデータセットの最初の数行を表示する。"
   ]
  },
  {
   "cell_type": "code",
   "execution_count": 2,
   "id": "280a9977",
   "metadata": {
    "execution": {
     "iopub.execute_input": "2024-01-07T14:30:59.440795Z",
     "iopub.status.busy": "2024-01-07T14:30:59.440065Z",
     "iopub.status.idle": "2024-01-07T14:30:59.490936Z",
     "shell.execute_reply": "2024-01-07T14:30:59.490133Z"
    },
    "papermill": {
     "duration": 0.059899,
     "end_time": "2024-01-07T14:30:59.493280",
     "exception": false,
     "start_time": "2024-01-07T14:30:59.433381",
     "status": "completed"
    },
    "tags": []
   },
   "outputs": [
    {
     "data": {
      "text/html": [
       "<div>\n",
       "<style scoped>\n",
       "    .dataframe tbody tr th:only-of-type {\n",
       "        vertical-align: middle;\n",
       "    }\n",
       "\n",
       "    .dataframe tbody tr th {\n",
       "        vertical-align: top;\n",
       "    }\n",
       "\n",
       "    .dataframe thead th {\n",
       "        text-align: right;\n",
       "    }\n",
       "</style>\n",
       "<table border=\"1\" class=\"dataframe\">\n",
       "  <thead>\n",
       "    <tr style=\"text-align: right;\">\n",
       "      <th></th>\n",
       "      <th>fixed acidity</th>\n",
       "      <th>volatile acidity</th>\n",
       "      <th>citric acid</th>\n",
       "      <th>residual sugar</th>\n",
       "      <th>chlorides</th>\n",
       "      <th>free sulfur dioxide</th>\n",
       "      <th>total sulfur dioxide</th>\n",
       "      <th>density</th>\n",
       "      <th>pH</th>\n",
       "      <th>sulphates</th>\n",
       "      <th>alcohol</th>\n",
       "      <th>quality</th>\n",
       "    </tr>\n",
       "  </thead>\n",
       "  <tbody>\n",
       "    <tr>\n",
       "      <th>0</th>\n",
       "      <td>7.4</td>\n",
       "      <td>0.70</td>\n",
       "      <td>0.00</td>\n",
       "      <td>1.9</td>\n",
       "      <td>0.076</td>\n",
       "      <td>11.0</td>\n",
       "      <td>34.0</td>\n",
       "      <td>0.9978</td>\n",
       "      <td>3.51</td>\n",
       "      <td>0.56</td>\n",
       "      <td>9.4</td>\n",
       "      <td>5</td>\n",
       "    </tr>\n",
       "    <tr>\n",
       "      <th>1</th>\n",
       "      <td>7.8</td>\n",
       "      <td>0.88</td>\n",
       "      <td>0.00</td>\n",
       "      <td>2.6</td>\n",
       "      <td>0.098</td>\n",
       "      <td>25.0</td>\n",
       "      <td>67.0</td>\n",
       "      <td>0.9968</td>\n",
       "      <td>3.20</td>\n",
       "      <td>0.68</td>\n",
       "      <td>9.8</td>\n",
       "      <td>5</td>\n",
       "    </tr>\n",
       "    <tr>\n",
       "      <th>2</th>\n",
       "      <td>7.8</td>\n",
       "      <td>0.76</td>\n",
       "      <td>0.04</td>\n",
       "      <td>2.3</td>\n",
       "      <td>0.092</td>\n",
       "      <td>15.0</td>\n",
       "      <td>54.0</td>\n",
       "      <td>0.9970</td>\n",
       "      <td>3.26</td>\n",
       "      <td>0.65</td>\n",
       "      <td>9.8</td>\n",
       "      <td>5</td>\n",
       "    </tr>\n",
       "    <tr>\n",
       "      <th>3</th>\n",
       "      <td>11.2</td>\n",
       "      <td>0.28</td>\n",
       "      <td>0.56</td>\n",
       "      <td>1.9</td>\n",
       "      <td>0.075</td>\n",
       "      <td>17.0</td>\n",
       "      <td>60.0</td>\n",
       "      <td>0.9980</td>\n",
       "      <td>3.16</td>\n",
       "      <td>0.58</td>\n",
       "      <td>9.8</td>\n",
       "      <td>6</td>\n",
       "    </tr>\n",
       "    <tr>\n",
       "      <th>4</th>\n",
       "      <td>7.4</td>\n",
       "      <td>0.70</td>\n",
       "      <td>0.00</td>\n",
       "      <td>1.9</td>\n",
       "      <td>0.076</td>\n",
       "      <td>11.0</td>\n",
       "      <td>34.0</td>\n",
       "      <td>0.9978</td>\n",
       "      <td>3.51</td>\n",
       "      <td>0.56</td>\n",
       "      <td>9.4</td>\n",
       "      <td>5</td>\n",
       "    </tr>\n",
       "  </tbody>\n",
       "</table>\n",
       "</div>"
      ],
      "text/plain": [
       "   fixed acidity  volatile acidity  citric acid  residual sugar  chlorides  \\\n",
       "0            7.4              0.70         0.00             1.9      0.076   \n",
       "1            7.8              0.88         0.00             2.6      0.098   \n",
       "2            7.8              0.76         0.04             2.3      0.092   \n",
       "3           11.2              0.28         0.56             1.9      0.075   \n",
       "4            7.4              0.70         0.00             1.9      0.076   \n",
       "\n",
       "   free sulfur dioxide  total sulfur dioxide  density    pH  sulphates  \\\n",
       "0                 11.0                  34.0   0.9978  3.51       0.56   \n",
       "1                 25.0                  67.0   0.9968  3.20       0.68   \n",
       "2                 15.0                  54.0   0.9970  3.26       0.65   \n",
       "3                 17.0                  60.0   0.9980  3.16       0.58   \n",
       "4                 11.0                  34.0   0.9978  3.51       0.56   \n",
       "\n",
       "   alcohol  quality  \n",
       "0      9.4        5  \n",
       "1      9.8        5  \n",
       "2      9.8        5  \n",
       "3      9.8        6  \n",
       "4      9.4        5  "
      ]
     },
     "execution_count": 2,
     "metadata": {},
     "output_type": "execute_result"
    }
   ],
   "source": [
    "import pandas as pd\n",
    "\n",
    "red_wine = pd.read_csv('../input/dl-course-data/red-wine.csv')\n",
    "red_wine.head()"
   ]
  },
  {
   "cell_type": "markdown",
   "id": "b15ea09f",
   "metadata": {
    "papermill": {
     "duration": 0.004874,
     "end_time": "2024-01-07T14:30:59.503383",
     "exception": false,
     "start_time": "2024-01-07T14:30:59.498509",
     "status": "completed"
    },
    "tags": []
   },
   "source": [
    "You can get the number of rows and columns of a dataframe (or a Numpy array) with the `shape` attribute.\n",
    "\n",
    "データフレーム（または Numpy 配列）の行数と列数は `shape` 属性で取得できます。"
   ]
  },
  {
   "cell_type": "code",
   "execution_count": 3,
   "id": "0339b5f1",
   "metadata": {
    "execution": {
     "iopub.execute_input": "2024-01-07T14:30:59.516061Z",
     "iopub.status.busy": "2024-01-07T14:30:59.515659Z",
     "iopub.status.idle": "2024-01-07T14:30:59.523357Z",
     "shell.execute_reply": "2024-01-07T14:30:59.522188Z"
    },
    "papermill": {
     "duration": 0.017317,
     "end_time": "2024-01-07T14:30:59.525868",
     "exception": false,
     "start_time": "2024-01-07T14:30:59.508551",
     "status": "completed"
    },
    "tags": []
   },
   "outputs": [
    {
     "data": {
      "text/plain": [
       "(1599, 12)"
      ]
     },
     "execution_count": 3,
     "metadata": {},
     "output_type": "execute_result"
    }
   ],
   "source": [
    "red_wine.shape # (rows, columns)"
   ]
  },
  {
   "cell_type": "markdown",
   "id": "a4f0e3e6",
   "metadata": {
    "papermill": {
     "duration": 0.005202,
     "end_time": "2024-01-07T14:30:59.536663",
     "exception": false,
     "start_time": "2024-01-07T14:30:59.531461",
     "status": "completed"
    },
    "tags": []
   },
   "source": [
    "# 1) Input shape #\n",
    "\n",
    "How well can we predict a wine's perceived quality from the physiochemical measurements?  \n",
    "\n",
    "The target is `'quality'`, and the remaining columns are the features.  How would you set the `input_shape` parameter for a Keras model on this task?\n",
    "\n",
    "# 1）入力形状\n",
    "\n",
    "物理化学的な測定値からワインの品質をどの程度予測できるか？ \n",
    "\n",
    "ターゲットは `'quality'` で、残りの列は特徴量です。 このタスクでKerasモデルの`input_shape`パラメータをどのように設定しますか？"
   ]
  },
  {
   "cell_type": "code",
   "execution_count": 4,
   "id": "ddaa6581",
   "metadata": {
    "execution": {
     "iopub.execute_input": "2024-01-07T14:30:59.550107Z",
     "iopub.status.busy": "2024-01-07T14:30:59.549422Z",
     "iopub.status.idle": "2024-01-07T14:30:59.559017Z",
     "shell.execute_reply": "2024-01-07T14:30:59.557536Z"
    },
    "lines_to_next_cell": 0,
    "papermill": {
     "duration": 0.019209,
     "end_time": "2024-01-07T14:30:59.561302",
     "exception": false,
     "start_time": "2024-01-07T14:30:59.542093",
     "status": "completed"
    },
    "tags": []
   },
   "outputs": [
    {
     "data": {
      "application/javascript": [
       "parent.postMessage({\"jupyterEvent\": \"custom.exercise_interaction\", \"data\": {\"outcomeType\": 1, \"valueTowardsCompletion\": 0.3333333333333333, \"interactionType\": 1, \"questionType\": 2, \"questionId\": \"1_Q1\", \"learnToolsVersion\": \"0.3.4\", \"failureMessage\": \"\", \"exceptionClass\": \"\", \"trace\": \"\"}}, \"*\")"
      ],
      "text/plain": [
       "<IPython.core.display.Javascript object>"
      ]
     },
     "metadata": {},
     "output_type": "display_data"
    },
    {
     "data": {
      "text/markdown": [
       "<span style=\"color:#33cc33\">Correct</span>"
      ],
      "text/plain": [
       "Correct"
      ]
     },
     "metadata": {},
     "output_type": "display_data"
    }
   ],
   "source": [
    "# YOUR CODE HERE\n",
    "input_shape = [11]\n",
    "\n",
    "# Check your answer\n",
    "q_1.check()"
   ]
  },
  {
   "cell_type": "code",
   "execution_count": 5,
   "id": "56aeba10",
   "metadata": {
    "execution": {
     "iopub.execute_input": "2024-01-07T14:30:59.575466Z",
     "iopub.status.busy": "2024-01-07T14:30:59.574539Z",
     "iopub.status.idle": "2024-01-07T14:30:59.585350Z",
     "shell.execute_reply": "2024-01-07T14:30:59.584473Z"
    },
    "papermill": {
     "duration": 0.020679,
     "end_time": "2024-01-07T14:30:59.587685",
     "exception": false,
     "start_time": "2024-01-07T14:30:59.567006",
     "status": "completed"
    },
    "tags": []
   },
   "outputs": [
    {
     "data": {
      "application/javascript": [
       "parent.postMessage({\"jupyterEvent\": \"custom.exercise_interaction\", \"data\": {\"interactionType\": 3, \"questionType\": 2, \"questionId\": \"1_Q1\", \"learnToolsVersion\": \"0.3.4\", \"valueTowardsCompletion\": 0.0, \"failureMessage\": \"\", \"exceptionClass\": \"\", \"trace\": \"\", \"outcomeType\": 4}}, \"*\")"
      ],
      "text/plain": [
       "<IPython.core.display.Javascript object>"
      ]
     },
     "metadata": {},
     "output_type": "display_data"
    },
    {
     "data": {
      "text/markdown": [
       "<span style=\"color:#33cc99\">Solution:</span> \n",
       "```python\n",
       "\n",
       "input_shape = [11]\n",
       "# you could also use a 1-tuple, like input_shape = (11,)\n",
       "\n",
       "```"
      ],
      "text/plain": [
       "Solution: \n",
       "```python\n",
       "\n",
       "input_shape = [11]\n",
       "# you could also use a 1-tuple, like input_shape = (11,)\n",
       "\n",
       "```"
      ]
     },
     "metadata": {},
     "output_type": "display_data"
    }
   ],
   "source": [
    "# Lines below will give you a hint or solution code\n",
    "#q_1.hint()\n",
    "q_1.solution()"
   ]
  },
  {
   "cell_type": "markdown",
   "id": "b66ed52f",
   "metadata": {
    "papermill": {
     "duration": 0.005594,
     "end_time": "2024-01-07T14:30:59.599321",
     "exception": false,
     "start_time": "2024-01-07T14:30:59.593727",
     "status": "completed"
    },
    "tags": []
   },
   "source": [
    "# 2) Define a linear model\n",
    "\n",
    "Now define a linear model appropriate for this task. Pay attention to how many inputs and outputs the model should have.\n",
    "\n",
    "# 2) 線形モデルを定義する\n",
    "\n",
    "この課題に適した線形モデルを定義します。モデルの入力と出力の数に注意してください。"
   ]
  },
  {
   "cell_type": "code",
   "execution_count": 6,
   "id": "51e0cfa4",
   "metadata": {
    "execution": {
     "iopub.execute_input": "2024-01-07T14:30:59.612954Z",
     "iopub.status.busy": "2024-01-07T14:30:59.612302Z",
     "iopub.status.idle": "2024-01-07T14:30:59.928171Z",
     "shell.execute_reply": "2024-01-07T14:30:59.926800Z"
    },
    "lines_to_next_cell": 0,
    "papermill": {
     "duration": 0.325597,
     "end_time": "2024-01-07T14:30:59.930690",
     "exception": false,
     "start_time": "2024-01-07T14:30:59.605093",
     "status": "completed"
    },
    "tags": []
   },
   "outputs": [
    {
     "data": {
      "application/javascript": [
       "parent.postMessage({\"jupyterEvent\": \"custom.exercise_interaction\", \"data\": {\"outcomeType\": 1, \"valueTowardsCompletion\": 0.3333333333333333, \"interactionType\": 1, \"questionType\": 2, \"questionId\": \"2_Q2\", \"learnToolsVersion\": \"0.3.4\", \"failureMessage\": \"\", \"exceptionClass\": \"\", \"trace\": \"\"}}, \"*\")"
      ],
      "text/plain": [
       "<IPython.core.display.Javascript object>"
      ]
     },
     "metadata": {},
     "output_type": "display_data"
    },
    {
     "data": {
      "text/markdown": [
       "<span style=\"color:#33cc33\">Correct</span>"
      ],
      "text/plain": [
       "Correct"
      ]
     },
     "metadata": {},
     "output_type": "display_data"
    }
   ],
   "source": [
    "from tensorflow import keras\n",
    "from tensorflow.keras import layers\n",
    "\n",
    "# YOUR CODE HERE\n",
    "model = keras.Sequential([\n",
    "    layers.Dense(units=1, input_shape=[11])\n",
    "])\n",
    "\n",
    "# Check your answer\n",
    "q_2.check()"
   ]
  },
  {
   "cell_type": "code",
   "execution_count": 7,
   "id": "0c22780f",
   "metadata": {
    "execution": {
     "iopub.execute_input": "2024-01-07T14:30:59.945309Z",
     "iopub.status.busy": "2024-01-07T14:30:59.944880Z",
     "iopub.status.idle": "2024-01-07T14:30:59.954400Z",
     "shell.execute_reply": "2024-01-07T14:30:59.953334Z"
    },
    "papermill": {
     "duration": 0.019422,
     "end_time": "2024-01-07T14:30:59.956735",
     "exception": false,
     "start_time": "2024-01-07T14:30:59.937313",
     "status": "completed"
    },
    "tags": []
   },
   "outputs": [
    {
     "data": {
      "application/javascript": [
       "parent.postMessage({\"jupyterEvent\": \"custom.exercise_interaction\", \"data\": {\"interactionType\": 3, \"questionType\": 2, \"questionId\": \"2_Q2\", \"learnToolsVersion\": \"0.3.4\", \"valueTowardsCompletion\": 0.0, \"failureMessage\": \"\", \"exceptionClass\": \"\", \"trace\": \"\", \"outcomeType\": 4}}, \"*\")"
      ],
      "text/plain": [
       "<IPython.core.display.Javascript object>"
      ]
     },
     "metadata": {},
     "output_type": "display_data"
    },
    {
     "data": {
      "text/markdown": [
       "<span style=\"color:#33cc99\">Solution:</span> \n",
       "```python\n",
       "\n",
       "from tensorflow import keras\n",
       "from tensorflow.keras import layers\n",
       "\n",
       "model = keras.Sequential([\n",
       "    layers.Dense(units=1, input_shape=[11])\n",
       "])\n",
       "\n",
       "```"
      ],
      "text/plain": [
       "Solution: \n",
       "```python\n",
       "\n",
       "from tensorflow import keras\n",
       "from tensorflow.keras import layers\n",
       "\n",
       "model = keras.Sequential([\n",
       "    layers.Dense(units=1, input_shape=[11])\n",
       "])\n",
       "\n",
       "```"
      ]
     },
     "metadata": {},
     "output_type": "display_data"
    }
   ],
   "source": [
    "# Lines below will give you a hint or solution code\n",
    "#q_2.hint()\n",
    "q_2.solution()"
   ]
  },
  {
   "cell_type": "markdown",
   "id": "d77a13d4",
   "metadata": {
    "papermill": {
     "duration": 0.006522,
     "end_time": "2024-01-07T14:30:59.969732",
     "exception": false,
     "start_time": "2024-01-07T14:30:59.963210",
     "status": "completed"
    },
    "tags": []
   },
   "source": [
    "# 3) Look at the weights\n",
    "\n",
    "Internally, Keras represents the weights of a neural network with **tensors**. Tensors are basically TensorFlow's version of a Numpy array with a few differences that make them better suited to deep learning. One of the most important is that tensors are compatible with [GPU](https://www.kaggle.com/docs/efficient-gpu-usage) and [TPU](https://www.kaggle.com/docs/tpu)) accelerators. TPUs, in fact, are designed specifically for tensor computations.\n",
    "\n",
    "A model's weights are kept in its `weights` attribute as a list of tensors. Get the weights of the model you defined above. (If you want, you could display the weights with something like: `print(\"Weights\\n{}\\n\\nBias\\n{}\".format(w, b))`).\n",
    "\n",
    "# 3) 重みを見る\n",
    "\n",
    "内部的には、Kerasはニューラルネットワークの重みを**テンソル**で表します。テンソルは基本的にTensorFlowのNumpy配列のバージョンで、ディープラーニングに適したいくつかの違いがあります。最も重要な点は、テンソルが[GPU](https://www.kaggle.com/docs/efficient-gpu-usage)や[TPU](https://www.kaggle.com/docs/tpu))アクセラレータと互換性があることだ。実際、TPUはテンソル計算専用に設計されている。\n",
    "\n",
    "モデルの重みはテンソルのリストとして `weights` 属性に保持されます。上で定義したモデルの重みを取得する。(必要であれば、以下のような方法で重みを表示できます： print(\"Weightsn{}}nBiasn{}\".format(w, b))`)。"
   ]
  },
  {
   "cell_type": "code",
   "execution_count": 8,
   "id": "34c17954",
   "metadata": {
    "execution": {
     "iopub.execute_input": "2024-01-07T14:30:59.984725Z",
     "iopub.status.busy": "2024-01-07T14:30:59.984095Z",
     "iopub.status.idle": "2024-01-07T14:30:59.993728Z",
     "shell.execute_reply": "2024-01-07T14:30:59.992519Z"
    },
    "lines_to_next_cell": 0,
    "papermill": {
     "duration": 0.020163,
     "end_time": "2024-01-07T14:30:59.996487",
     "exception": false,
     "start_time": "2024-01-07T14:30:59.976324",
     "status": "completed"
    },
    "tags": []
   },
   "outputs": [
    {
     "data": {
      "application/javascript": [
       "parent.postMessage({\"jupyterEvent\": \"custom.exercise_interaction\", \"data\": {\"outcomeType\": 1, \"valueTowardsCompletion\": 0.3333333333333333, \"interactionType\": 1, \"questionType\": 2, \"questionId\": \"3_Q3\", \"learnToolsVersion\": \"0.3.4\", \"failureMessage\": \"\", \"exceptionClass\": \"\", \"trace\": \"\"}}, \"*\")"
      ],
      "text/plain": [
       "<IPython.core.display.Javascript object>"
      ]
     },
     "metadata": {},
     "output_type": "display_data"
    },
    {
     "data": {
      "text/markdown": [
       "<span style=\"color:#33cc33\">Correct:</span> Do you see how there's one weight for each input (and a bias)? Notice though that there doesn't seem to be any pattern to the values the weights have. Before the model is trained, the weights are set to random numbers (and the bias to 0.0). A neural network learns by finding better values for its weights.\n"
      ],
      "text/plain": [
       "Correct: Do you see how there's one weight for each input (and a bias)? Notice though that there doesn't seem to be any pattern to the values the weights have. Before the model is trained, the weights are set to random numbers (and the bias to 0.0). A neural network learns by finding better values for its weights."
      ]
     },
     "metadata": {},
     "output_type": "display_data"
    }
   ],
   "source": [
    "# YOUR CODE HERE\n",
    "w, b =model.weights\n",
    "\n",
    "# Check your answer\n",
    "q_3.check()"
   ]
  },
  {
   "cell_type": "code",
   "execution_count": 9,
   "id": "15f48294",
   "metadata": {
    "execution": {
     "iopub.execute_input": "2024-01-07T14:31:00.013989Z",
     "iopub.status.busy": "2024-01-07T14:31:00.012300Z",
     "iopub.status.idle": "2024-01-07T14:31:00.022626Z",
     "shell.execute_reply": "2024-01-07T14:31:00.021484Z"
    },
    "lines_to_next_cell": 0,
    "papermill": {
     "duration": 0.021115,
     "end_time": "2024-01-07T14:31:00.024960",
     "exception": false,
     "start_time": "2024-01-07T14:31:00.003845",
     "status": "completed"
    },
    "tags": []
   },
   "outputs": [
    {
     "data": {
      "application/javascript": [
       "parent.postMessage({\"jupyterEvent\": \"custom.exercise_interaction\", \"data\": {\"interactionType\": 3, \"questionType\": 2, \"questionId\": \"3_Q3\", \"learnToolsVersion\": \"0.3.4\", \"valueTowardsCompletion\": 0.0, \"failureMessage\": \"\", \"exceptionClass\": \"\", \"trace\": \"\", \"outcomeType\": 4}}, \"*\")"
      ],
      "text/plain": [
       "<IPython.core.display.Javascript object>"
      ]
     },
     "metadata": {},
     "output_type": "display_data"
    },
    {
     "data": {
      "text/markdown": [
       "<span style=\"color:#33cc99\">Solution:</span> \n",
       "```python\n",
       "\n",
       "# Uncomment if you need the model from the previous question:\n",
       "# model = keras.Sequential([\n",
       "#     layers.Dense(units=1, input_shape=[11])\n",
       "# ])\n",
       "\n",
       "w, b = model.weights\n",
       "\n",
       "print(\"Weights\\n{}\\n\\nBias\\n{}\".format(w, b))\n",
       "\n",
       "```"
      ],
      "text/plain": [
       "Solution: \n",
       "```python\n",
       "\n",
       "# Uncomment if you need the model from the previous question:\n",
       "# model = keras.Sequential([\n",
       "#     layers.Dense(units=1, input_shape=[11])\n",
       "# ])\n",
       "\n",
       "w, b = model.weights\n",
       "\n",
       "print(\"Weights\\n{}\\n\\nBias\\n{}\".format(w, b))\n",
       "\n",
       "```"
      ]
     },
     "metadata": {},
     "output_type": "display_data"
    }
   ],
   "source": [
    "# Lines below will give you a hint or solution code\n",
    "#q_3.hint()\n",
    "q_3.solution()"
   ]
  },
  {
   "cell_type": "markdown",
   "id": "15d0d009",
   "metadata": {
    "papermill": {
     "duration": 0.008,
     "end_time": "2024-01-07T14:31:00.039880",
     "exception": false,
     "start_time": "2024-01-07T14:31:00.031880",
     "status": "completed"
    },
    "tags": []
   },
   "source": [
    "(By the way, Keras represents weights as tensors, but also uses tensors to represent data. When you set the `input_shape` argument, you are telling Keras the dimensions of the array it should expect for each example in the training data. Setting `input_shape=[3]` would create a network accepting vectors of length 3, like `[0.2, 0.4, 0.6]`.)\n",
    "\n",
    "(ちなみに、Kerasは重みをテンソルとして表現するが、データを表現するのにもテンソルを使う。引数 `input_shape` を設定すると、Keras に学習データの各例に対応する配列の次元を指示することになる。input_shape=[3]`を設定すると、`[0.2, 0.4, 0.6]`のような長さ3のベクトルを受け付けるネットワークを作成することになる)。\n",
    " \n",
    "\n",
    "# Optional: Plot the output of an untrained linear model\n",
    " \n",
    "The kinds of problems we'll work on through Lesson 5 will be *regression* problems, where the goal is to predict some numeric target. Regression problems are like \"curve-fitting\" problems: we're trying to find a curve that best fits the data. Let's take a look at the \"curve\" produced by a linear model. (You've probably guessed that it's a line!)\n",
    " \n",
    "We mentioned that before training a model's weights are set randomly. Run the cell below a few times to see the different lines produced with a random initialization. (There's no coding for this exercise -- it's just a demonstration.)\n",
    "\n",
    "\n",
    "# オプション： 学習していない線形モデルの出力をプロットする\n",
    " \n",
    "レッスン5を通して取り組む問題の種類は、ある数値目標を予測することをゴールとする*回帰*問題です。回帰問題は「カーブ・フィッティング」問題のようなもので、データに最もフィットする曲線を見つけようとしています。線形モデルが作り出す「曲線」を見てみよう。(おそらく直線であることはお分かりでしょう！）。\n",
    " \n",
    "トレーニングの前に、モデルの重みはランダムに設定されると述べた。下のセルを数回実行し、ランダムな初期化で生成されるさまざまな線をご覧ください。(この練習にはコーディングはありません。）"
   ]
  },
  {
   "cell_type": "code",
   "execution_count": 10,
   "id": "0d81616d",
   "metadata": {
    "execution": {
     "iopub.execute_input": "2024-01-07T14:31:00.057028Z",
     "iopub.status.busy": "2024-01-07T14:31:00.055982Z",
     "iopub.status.idle": "2024-01-07T14:31:00.821234Z",
     "shell.execute_reply": "2024-01-07T14:31:00.819894Z"
    },
    "lines_to_next_cell": 0,
    "papermill": {
     "duration": 0.776283,
     "end_time": "2024-01-07T14:31:00.823724",
     "exception": false,
     "start_time": "2024-01-07T14:31:00.047441",
     "status": "completed"
    },
    "tags": []
   },
   "outputs": [
    {
     "name": "stdout",
     "output_type": "stream",
     "text": [
      "4/4 [==============================] - 0s 2ms/step\n"
     ]
    },
    {
     "data": {
      "image/png": "[encoded data removed]",
      "text/plain": [
       "<Figure size 640x480 with 1 Axes>"
      ]
     },
     "metadata": {},
     "output_type": "display_data"
    }
   ],
   "source": [
    "import tensorflow as tf\n",
    "import matplotlib.pyplot as plt\n",
    "\n",
    "model = keras.Sequential([\n",
    "    layers.Dense(1, input_shape=[1]),\n",
    "])\n",
    "\n",
    "x = tf.linspace(-1.0, 1.0, 100)\n",
    "y = model.predict(x)\n",
    "\n",
    "plt.figure(dpi=100)\n",
    "plt.plot(x, y, 'k')\n",
    "plt.xlim(-1, 1)\n",
    "plt.ylim(-1, 1)\n",
    "plt.xlabel(\"Input: x\")\n",
    "plt.ylabel(\"Target y\")\n",
    "w, b = model.weights # you could also use model.get_weights() here\n",
    "plt.title(\"Weight: {:0.2f}\\nBias: {:0.2f}\".format(w[0][0], b[0]))\n",
    "plt.show()"
   ]
  },
  {
   "cell_type": "markdown",
   "id": "8213d54c",
   "metadata": {
    "papermill": {
     "duration": 0.007339,
     "end_time": "2024-01-07T14:31:00.838747",
     "exception": false,
     "start_time": "2024-01-07T14:31:00.831408",
     "status": "completed"
    },
    "tags": []
   },
   "source": [
    "# Keep Going #\n",
    "\n",
    "Add hidden layers and [**make your models deep**](https://www.kaggle.com/ryanholbrook/deep-neural-networks) in Lesson 2."
   ]
  },
  {
   "cell_type": "markdown",
   "id": "1efcd9d0",
   "metadata": {
    "papermill": {
     "duration": 0.007176,
     "end_time": "2024-01-07T14:31:00.853413",
     "exception": false,
     "start_time": "2024-01-07T14:31:00.846237",
     "status": "completed"
    },
    "tags": []
   },
   "source": [
    "---\n",
    "\n",
    "\n",
    "\n",
    "\n",
    "*Have questions or comments? Visit the [course discussion forum](https://www.kaggle.com/learn/intro-to-deep-learning/discussion) to chat with other learners.*"
   ]
  }
 ],
 "metadata": {
  "jupytext": {
   "cell_metadata_filter": "-all",
   "formats": "ipynb"
  },
  "kaggle": {
   "accelerator": "none",
   "dataSources": [
    {
     "datasetId": 829369,
     "sourceId": 1480608,
     "sourceType": "datasetVersion"
    }
   ],
   "isGpuEnabled": false,
   "isInternetEnabled": false,
   "language": "python",
   "sourceType": "notebook"
  },
  "kernelspec": {
   "display_name": "Python 3",
   "language": "python",
   "name": "python3"
  },
  "language_info": {
   "codemirror_mode": {
    "name": "ipython",
    "version": 3
   },
   "file_extension": ".py",
   "mimetype": "text/x-python",
   "name": "python",
   "nbconvert_exporter": "python",
   "pygments_lexer": "ipython3",
   "version": "3.10.12"
  },
  "papermill": {
   "default_parameters": {},
   "duration": 20.64607,
   "end_time": "2024-01-07T14:31:02.285502",
   "environment_variables": {},
   "exception": null,
   "input_path": "__notebook__.ipynb",
   "output_path": "__notebook__.ipynb",
   "parameters": {},
   "start_time": "2024-01-07T14:30:41.639432",
   "version": "2.4.0"
  }
 },
 "nbformat": 4,
 "nbformat_minor": 5
}
