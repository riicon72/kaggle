{
 "cells": [
  {
   "cell_type": "markdown",
   "id": "bce7bd58",
   "metadata": {
    "papermill": {
     "duration": 0.006708,
     "end_time": "2024-01-10T13:03:00.516330",
     "exception": false,
     "start_time": "2024-01-10T13:03:00.509622",
     "status": "completed"
    },
    "tags": []
   },
   "source": [
    "**This notebook is an exercise in the [Intro to Deep Learning](https://www.kaggle.com/learn/intro-to-deep-learning) course.  You can reference the tutorial at [this link](https://www.kaggle.com/ryanholbrook/overfitting-and-underfitting).**\n",
    "\n",
    "---\n"
   ]
  },
  {
   "cell_type": "markdown",
   "id": "e6c1745b",
   "metadata": {
    "papermill": {
     "duration": 0.005535,
     "end_time": "2024-01-10T13:03:00.527927",
     "exception": false,
     "start_time": "2024-01-10T13:03:00.522392",
     "status": "completed"
    },
    "tags": []
   },
   "source": [
    "# Introduction #\n",
    "\n",
    "In this exercise, you’ll learn how to improve training outcomes by including an early stopping callback to prevent overfitting.\n",
    "\n",
    "When you're ready, run this next cell to set everything up!\n",
    "\n",
    "# はじめに #\n",
    "\n",
    "このエクササイズでは、オーバーフィッティングを防ぐために早期停止コールバックを含めることで、トレーニングの成果を向上させる方法を学びます。\n",
    "\n",
    "準備ができたら、次のセルを実行してすべてをセットアップしてください！"
   ]
  },
  {
   "cell_type": "code",
   "execution_count": 1,
   "id": "c63ebc46",
   "metadata": {
    "execution": {
     "iopub.execute_input": "2024-01-10T13:03:00.541098Z",
     "iopub.status.busy": "2024-01-10T13:03:00.540740Z",
     "iopub.status.idle": "2024-01-10T13:03:01.234932Z",
     "shell.execute_reply": "2024-01-10T13:03:01.233948Z"
    },
    "papermill": {
     "duration": 0.703432,
     "end_time": "2024-01-10T13:03:01.237225",
     "exception": false,
     "start_time": "2024-01-10T13:03:00.533793",
     "status": "completed"
    },
    "tags": []
   },
   "outputs": [
    {
     "name": "stderr",
     "output_type": "stream",
     "text": [
      "/tmp/ipykernel_27/1500229236.py:3: MatplotlibDeprecationWarning: The seaborn styles shipped by Matplotlib are deprecated since 3.6, as they no longer correspond to the styles shipped by seaborn. However, they will remain available as 'seaborn-v0_8-<style>'. Alternatively, directly use the seaborn API instead.\n",
      "  plt.style.use('seaborn-whitegrid')\n"
     ]
    }
   ],
   "source": [
    "# Setup plotting\n",
    "import matplotlib.pyplot as plt\n",
    "plt.style.use('seaborn-whitegrid')\n",
    "# Set Matplotlib defaults\n",
    "plt.rc('figure', autolayout=True)\n",
    "plt.rc('axes', labelweight='bold', labelsize='large',\n",
    "       titleweight='bold', titlesize=18, titlepad=10)\n",
    "plt.rc('animation', html='html5')\n",
    "\n",
    "# Setup feedback system\n",
    "from learntools.core import binder\n",
    "binder.bind(globals())\n",
    "from learntools.deep_learning_intro.ex4 import *"
   ]
  },
  {
   "cell_type": "markdown",
   "id": "3fb48840",
   "metadata": {
    "papermill": {
     "duration": 0.005957,
     "end_time": "2024-01-10T13:03:01.249401",
     "exception": false,
     "start_time": "2024-01-10T13:03:01.243444",
     "status": "completed"
    },
    "tags": []
   },
   "source": [
    "First load the *Spotify* dataset. Your task will be to predict the popularity of a song based on various audio features, like `'tempo'`, `'danceability'`, and `'mode'`.\n",
    "\n",
    "まず*Spotify*データセットをロードする。あなたの仕事は、`テンポ'`、`踊りやすさ'`、`モード'`といった様々なオーディオ特徴に基づいて曲の人気を予測することである。"
   ]
  },
  {
   "cell_type": "code",
   "execution_count": 2,
   "id": "fbf62cac",
   "metadata": {
    "execution": {
     "iopub.execute_input": "2024-01-10T13:03:01.262717Z",
     "iopub.status.busy": "2024-01-10T13:03:01.262242Z",
     "iopub.status.idle": "2024-01-10T13:03:14.004332Z",
     "shell.execute_reply": "2024-01-10T13:03:14.003383Z"
    },
    "papermill": {
     "duration": 12.751154,
     "end_time": "2024-01-10T13:03:14.006536",
     "exception": false,
     "start_time": "2024-01-10T13:03:01.255382",
     "status": "completed"
    },
    "tags": []
   },
   "outputs": [
    {
     "name": "stderr",
     "output_type": "stream",
     "text": [
      "/opt/conda/lib/python3.10/site-packages/scipy/__init__.py:146: UserWarning: A NumPy version >=1.16.5 and <1.23.0 is required for this version of SciPy (detected version 1.24.3\n",
      "  warnings.warn(f\"A NumPy version >={np_minversion} and <{np_maxversion}\"\n"
     ]
    },
    {
     "name": "stdout",
     "output_type": "stream",
     "text": [
      "Input shape: [18]\n"
     ]
    }
   ],
   "source": [
    "import pandas as pd\n",
    "from sklearn.preprocessing import StandardScaler, OneHotEncoder\n",
    "from sklearn.compose import make_column_transformer\n",
    "from sklearn.model_selection import GroupShuffleSplit\n",
    "\n",
    "from tensorflow import keras\n",
    "from tensorflow.keras import layers\n",
    "from tensorflow.keras import callbacks\n",
    "\n",
    "spotify = pd.read_csv('../input/dl-course-data/spotify.csv')\n",
    "\n",
    "X = spotify.copy().dropna()\n",
    "y = X.pop('track_popularity')\n",
    "artists = X['track_artist']\n",
    "\n",
    "features_num = ['danceability', 'energy', 'key', 'loudness', 'mode',\n",
    "                'speechiness', 'acousticness', 'instrumentalness',\n",
    "                'liveness', 'valence', 'tempo', 'duration_ms']\n",
    "features_cat = ['playlist_genre']\n",
    "\n",
    "preprocessor = make_column_transformer(\n",
    "    (StandardScaler(), features_num),\n",
    "    (OneHotEncoder(), features_cat),\n",
    ")\n",
    "\n",
    "# We'll do a \"grouped\" split to keep all of an artist's songs in one\n",
    "# split or the other. This is to help prevent signal leakage.\n",
    "def group_split(X, y, group, train_size=0.75):\n",
    "    splitter = GroupShuffleSplit(train_size=train_size)\n",
    "    train, test = next(splitter.split(X, y, groups=group))\n",
    "    return (X.iloc[train], X.iloc[test], y.iloc[train], y.iloc[test])\n",
    "\n",
    "X_train, X_valid, y_train, y_valid = group_split(X, y, artists)\n",
    "\n",
    "X_train = preprocessor.fit_transform(X_train)\n",
    "X_valid = preprocessor.transform(X_valid)\n",
    "y_train = y_train / 100 # popularity is on a scale 0-100, so this rescales to 0-1.\n",
    "y_valid = y_valid / 100\n",
    "\n",
    "input_shape = [X_train.shape[1]]\n",
    "print(\"Input shape: {}\".format(input_shape))"
   ]
  },
  {
   "cell_type": "markdown",
   "id": "e077b1ac",
   "metadata": {
    "papermill": {
     "duration": 0.006085,
     "end_time": "2024-01-10T13:03:14.019167",
     "exception": false,
     "start_time": "2024-01-10T13:03:14.013082",
     "status": "completed"
    },
    "tags": []
   },
   "source": [
    "Let's start with the simplest network, a linear model. This model has low capacity.\n",
    "\n",
    "Run this next cell without any changes to train a linear model on the *Spotify* dataset.\n",
    "\n",
    "最も単純なネットワーク、線形モデルから始めよう。このモデルは容量が少ない。\n",
    "\n",
    "Spotify*データセットで線形モデルを訓練するために、この次のセルを何も変更せずに実行します。"
   ]
  },
  {
   "cell_type": "code",
   "execution_count": 3,
   "id": "49a7f0fd",
   "metadata": {
    "execution": {
     "iopub.execute_input": "2024-01-10T13:03:14.032758Z",
     "iopub.status.busy": "2024-01-10T13:03:14.032448Z",
     "iopub.status.idle": "2024-01-10T13:03:24.016194Z",
     "shell.execute_reply": "2024-01-10T13:03:24.015167Z"
    },
    "lines_to_next_cell": 0,
    "papermill": {
     "duration": 9.993228,
     "end_time": "2024-01-10T13:03:24.018403",
     "exception": false,
     "start_time": "2024-01-10T13:03:14.025175",
     "status": "completed"
    },
    "tags": []
   },
   "outputs": [
    {
     "name": "stdout",
     "output_type": "stream",
     "text": [
      "Minimum Validation Loss: 0.1955\n"
     ]
    },
    {
     "data": {
      "image/png": "[encoded data removed]",
      "text/plain": [
       "<Figure size 640x480 with 1 Axes>"
      ]
     },
     "metadata": {},
     "output_type": "display_data"
    }
   ],
   "source": [
    "model = keras.Sequential([\n",
    "    layers.Dense(1, input_shape=input_shape),\n",
    "])\n",
    "model.compile(\n",
    "    optimizer='adam',\n",
    "    loss='mae',\n",
    ")\n",
    "history = model.fit(\n",
    "    X_train, y_train,\n",
    "    validation_data=(X_valid, y_valid),\n",
    "    batch_size=512,\n",
    "    epochs=50,\n",
    "    verbose=0, # suppress output since we'll plot the curves\n",
    ")\n",
    "history_df = pd.DataFrame(history.history)\n",
    "history_df.loc[0:, ['loss', 'val_loss']].plot()\n",
    "print(\"Minimum Validation Loss: {:0.4f}\".format(history_df['val_loss'].min()));"
   ]
  },
  {
   "cell_type": "markdown",
   "id": "44dc8099",
   "metadata": {
    "papermill": {
     "duration": 0.006729,
     "end_time": "2024-01-10T13:03:24.032324",
     "exception": false,
     "start_time": "2024-01-10T13:03:24.025595",
     "status": "completed"
    },
    "tags": []
   },
   "source": [
    "It's not uncommon for the curves to follow a \"hockey stick\" pattern like you see here. This makes the final part of training hard to see, so let's start at epoch 10 instead:\n",
    "\n",
    "最も単純なネットワーク、線形モデルから始めよう。このモデルは容量が少ない。\n",
    "\n",
    "Spotify*データセットで線形モデルを訓練するために、この次のセルを何も変更せずに実行します。\n",
    "\n"
   ]
  },
  {
   "cell_type": "code",
   "execution_count": 4,
   "id": "afb53ff9",
   "metadata": {
    "execution": {
     "iopub.execute_input": "2024-01-10T13:03:24.047765Z",
     "iopub.status.busy": "2024-01-10T13:03:24.046908Z",
     "iopub.status.idle": "2024-01-10T13:03:24.550027Z",
     "shell.execute_reply": "2024-01-10T13:03:24.549065Z"
    },
    "papermill": {
     "duration": 0.513469,
     "end_time": "2024-01-10T13:03:24.552595",
     "exception": false,
     "start_time": "2024-01-10T13:03:24.039126",
     "status": "completed"
    },
    "tags": []
   },
   "outputs": [
    {
     "name": "stdout",
     "output_type": "stream",
     "text": [
      "Minimum Validation Loss: 0.1955\n"
     ]
    },
    {
     "data": {
      "image/png": "[encoded data removed]",
      "text/plain": [
       "<Figure size 640x480 with 1 Axes>"
      ]
     },
     "metadata": {},
     "output_type": "display_data"
    }
   ],
   "source": [
    "# Start the plot at epoch 10\n",
    "history_df.loc[10:, ['loss', 'val_loss']].plot()\n",
    "print(\"Minimum Validation Loss: {:0.4f}\".format(history_df['val_loss'].min()));"
   ]
  },
  {
   "cell_type": "markdown",
   "id": "92174d46",
   "metadata": {
    "papermill": {
     "duration": 0.007237,
     "end_time": "2024-01-10T13:03:24.567461",
     "exception": false,
     "start_time": "2024-01-10T13:03:24.560224",
     "status": "completed"
    },
    "tags": []
   },
   "source": [
    "# 1) Evaluate Baseline\n",
    "\n",
    "What do you think? Would you say this model is underfitting, overfitting, just right?\n",
    "\n",
    "# その1 ベースラインの評価\n",
    "\n",
    "どう思いますか？このモデルはアンダーフィットだと思いますか、オーバーフィットだと思いますか、ちょうどいいと思いますか？"
   ]
  },
  {
   "cell_type": "code",
   "execution_count": 5,
   "id": "799529e3",
   "metadata": {
    "execution": {
     "iopub.execute_input": "2024-01-10T13:03:24.583674Z",
     "iopub.status.busy": "2024-01-10T13:03:24.583289Z",
     "iopub.status.idle": "2024-01-10T13:03:24.591138Z",
     "shell.execute_reply": "2024-01-10T13:03:24.590260Z"
    },
    "papermill": {
     "duration": 0.018271,
     "end_time": "2024-01-10T13:03:24.593057",
     "exception": false,
     "start_time": "2024-01-10T13:03:24.574786",
     "status": "completed"
    },
    "tags": []
   },
   "outputs": [
    {
     "data": {
      "application/javascript": [
       "parent.postMessage({\"jupyterEvent\": \"custom.exercise_interaction\", \"data\": {\"outcomeType\": 1, \"valueTowardsCompletion\": 0.25, \"interactionType\": 1, \"questionType\": 4, \"questionId\": \"1_Q1\", \"learnToolsVersion\": \"0.3.4\", \"failureMessage\": \"\", \"exceptionClass\": \"\", \"trace\": \"\"}}, \"*\")"
      ],
      "text/plain": [
       "<IPython.core.display.Javascript object>"
      ]
     },
     "metadata": {},
     "output_type": "display_data"
    },
    {
     "data": {
      "text/markdown": [
       "<span style=\"color:#33cc33\">Correct:</span> \n",
       "\n",
       "The gap between these curves is quite small and the validation loss never increases, so it's more likely that the network is underfitting than overfitting. It would be worth experimenting with more capacity to see if that's the case."
      ],
      "text/plain": [
       "Correct: \n",
       "\n",
       "The gap between these curves is quite small and the validation loss never increases, so it's more likely that the network is underfitting than overfitting. It would be worth experimenting with more capacity to see if that's the case."
      ]
     },
     "metadata": {},
     "output_type": "display_data"
    }
   ],
   "source": [
    "# View the solution (Run this cell to receive credit!)\n",
    "q_1.check()"
   ]
  },
  {
   "cell_type": "markdown",
   "id": "6a17d4d6",
   "metadata": {
    "papermill": {
     "duration": 0.007373,
     "end_time": "2024-01-10T13:03:24.608015",
     "exception": false,
     "start_time": "2024-01-10T13:03:24.600642",
     "status": "completed"
    },
    "tags": []
   },
   "source": [
    "Now let's add some capacity to our network. We'll add three hidden layers with 128 units each. Run the next cell to train the network and see the learning curves.\n",
    "\n",
    "では、ネットワークに容量を追加してみよう。それぞれ128個のユニットを持つ3つの隠れ層を追加する。次のセルを実行してネットワークを訓練し、学習曲線を見よう。"
   ]
  },
  {
   "cell_type": "code",
   "execution_count": 6,
   "id": "50cedfbd",
   "metadata": {
    "execution": {
     "iopub.execute_input": "2024-01-10T13:03:24.629261Z",
     "iopub.status.busy": "2024-01-10T13:03:24.628884Z",
     "iopub.status.idle": "2024-01-10T13:03:35.377537Z",
     "shell.execute_reply": "2024-01-10T13:03:35.376592Z"
    },
    "papermill": {
     "duration": 10.763253,
     "end_time": "2024-01-10T13:03:35.379719",
     "exception": false,
     "start_time": "2024-01-10T13:03:24.616466",
     "status": "completed"
    },
    "tags": []
   },
   "outputs": [
    {
     "name": "stdout",
     "output_type": "stream",
     "text": [
      "Epoch 1/50\n",
      "49/49 [==============================] - 2s 6ms/step - loss: 0.2230 - val_loss: 0.2018\n",
      "Epoch 2/50\n",
      "49/49 [==============================] - 0s 4ms/step - loss: 0.1996 - val_loss: 0.1981\n",
      "Epoch 3/50\n",
      "49/49 [==============================] - 0s 4ms/step - loss: 0.1950 - val_loss: 0.1975\n",
      "Epoch 4/50\n",
      "49/49 [==============================] - 0s 4ms/step - loss: 0.1922 - val_loss: 0.1958\n",
      "Epoch 5/50\n",
      "49/49 [==============================] - 0s 4ms/step - loss: 0.1906 - val_loss: 0.1957\n",
      "Epoch 6/50\n",
      "49/49 [==============================] - 0s 4ms/step - loss: 0.1894 - val_loss: 0.1967\n",
      "Epoch 7/50\n",
      "49/49 [==============================] - 0s 4ms/step - loss: 0.1887 - val_loss: 0.1948\n",
      "Epoch 8/50\n",
      "49/49 [==============================] - 0s 3ms/step - loss: 0.1870 - val_loss: 0.1957\n",
      "Epoch 9/50\n",
      "49/49 [==============================] - 0s 3ms/step - loss: 0.1855 - val_loss: 0.1944\n",
      "Epoch 10/50\n",
      "49/49 [==============================] - 0s 4ms/step - loss: 0.1848 - val_loss: 0.1950\n",
      "Epoch 11/50\n",
      "49/49 [==============================] - 0s 4ms/step - loss: 0.1843 - val_loss: 0.1983\n",
      "Epoch 12/50\n",
      "49/49 [==============================] - 0s 4ms/step - loss: 0.1837 - val_loss: 0.1964\n",
      "Epoch 13/50\n",
      "49/49 [==============================] - 0s 4ms/step - loss: 0.1828 - val_loss: 0.1958\n",
      "Epoch 14/50\n",
      "49/49 [==============================] - 0s 3ms/step - loss: 0.1823 - val_loss: 0.1969\n",
      "Epoch 15/50\n",
      "49/49 [==============================] - 0s 4ms/step - loss: 0.1818 - val_loss: 0.1956\n",
      "Epoch 16/50\n",
      "49/49 [==============================] - 0s 4ms/step - loss: 0.1809 - val_loss: 0.1955\n",
      "Epoch 17/50\n",
      "49/49 [==============================] - 0s 4ms/step - loss: 0.1801 - val_loss: 0.1960\n",
      "Epoch 18/50\n",
      "49/49 [==============================] - 0s 4ms/step - loss: 0.1796 - val_loss: 0.1987\n",
      "Epoch 19/50\n",
      "49/49 [==============================] - 0s 3ms/step - loss: 0.1796 - val_loss: 0.1982\n",
      "Epoch 20/50\n",
      "49/49 [==============================] - 0s 3ms/step - loss: 0.1787 - val_loss: 0.1974\n",
      "Epoch 21/50\n",
      "49/49 [==============================] - 0s 3ms/step - loss: 0.1776 - val_loss: 0.1983\n",
      "Epoch 22/50\n",
      "49/49 [==============================] - 0s 4ms/step - loss: 0.1772 - val_loss: 0.1973\n",
      "Epoch 23/50\n",
      "49/49 [==============================] - 0s 3ms/step - loss: 0.1766 - val_loss: 0.1978\n",
      "Epoch 24/50\n",
      "49/49 [==============================] - 0s 4ms/step - loss: 0.1765 - val_loss: 0.1969\n",
      "Epoch 25/50\n",
      "49/49 [==============================] - 0s 3ms/step - loss: 0.1755 - val_loss: 0.1968\n",
      "Epoch 26/50\n",
      "49/49 [==============================] - 0s 4ms/step - loss: 0.1758 - val_loss: 0.1973\n",
      "Epoch 27/50\n",
      "49/49 [==============================] - 0s 4ms/step - loss: 0.1741 - val_loss: 0.1980\n",
      "Epoch 28/50\n",
      "49/49 [==============================] - 0s 4ms/step - loss: 0.1738 - val_loss: 0.1983\n",
      "Epoch 29/50\n",
      "49/49 [==============================] - 0s 3ms/step - loss: 0.1740 - val_loss: 0.1993\n",
      "Epoch 30/50\n",
      "49/49 [==============================] - 0s 3ms/step - loss: 0.1729 - val_loss: 0.1977\n",
      "Epoch 31/50\n",
      "49/49 [==============================] - 0s 4ms/step - loss: 0.1727 - val_loss: 0.1987\n",
      "Epoch 32/50\n",
      "49/49 [==============================] - 0s 3ms/step - loss: 0.1714 - val_loss: 0.1995\n",
      "Epoch 33/50\n",
      "49/49 [==============================] - 0s 3ms/step - loss: 0.1712 - val_loss: 0.1994\n",
      "Epoch 34/50\n",
      "49/49 [==============================] - 0s 4ms/step - loss: 0.1718 - val_loss: 0.1994\n",
      "Epoch 35/50\n",
      "49/49 [==============================] - 0s 3ms/step - loss: 0.1716 - val_loss: 0.2006\n",
      "Epoch 36/50\n",
      "49/49 [==============================] - 0s 3ms/step - loss: 0.1704 - val_loss: 0.1993\n",
      "Epoch 37/50\n",
      "49/49 [==============================] - 0s 3ms/step - loss: 0.1697 - val_loss: 0.2000\n",
      "Epoch 38/50\n",
      "49/49 [==============================] - 0s 4ms/step - loss: 0.1694 - val_loss: 0.1997\n",
      "Epoch 39/50\n",
      "49/49 [==============================] - 0s 3ms/step - loss: 0.1682 - val_loss: 0.2000\n",
      "Epoch 40/50\n",
      "49/49 [==============================] - 0s 4ms/step - loss: 0.1684 - val_loss: 0.2009\n",
      "Epoch 41/50\n",
      "49/49 [==============================] - 0s 3ms/step - loss: 0.1681 - val_loss: 0.2024\n",
      "Epoch 42/50\n",
      "49/49 [==============================] - 0s 3ms/step - loss: 0.1680 - val_loss: 0.2003\n",
      "Epoch 43/50\n",
      "49/49 [==============================] - 0s 3ms/step - loss: 0.1668 - val_loss: 0.2006\n",
      "Epoch 44/50\n",
      "49/49 [==============================] - 0s 4ms/step - loss: 0.1664 - val_loss: 0.2009\n",
      "Epoch 45/50\n",
      "49/49 [==============================] - 0s 4ms/step - loss: 0.1665 - val_loss: 0.2020\n",
      "Epoch 46/50\n",
      "49/49 [==============================] - 0s 4ms/step - loss: 0.1663 - val_loss: 0.2012\n",
      "Epoch 47/50\n",
      "49/49 [==============================] - 0s 3ms/step - loss: 0.1659 - val_loss: 0.2016\n",
      "Epoch 48/50\n",
      "49/49 [==============================] - 0s 3ms/step - loss: 0.1661 - val_loss: 0.2022\n",
      "Epoch 49/50\n",
      "49/49 [==============================] - 0s 4ms/step - loss: 0.1670 - val_loss: 0.2038\n",
      "Epoch 50/50\n",
      "49/49 [==============================] - 0s 4ms/step - loss: 0.1650 - val_loss: 0.2022\n",
      "Minimum Validation Loss: 0.1944\n"
     ]
    },
    {
     "data": {
      "image/png": "[encoded data removed]",
      "text/plain": [
       "<Figure size 640x480 with 1 Axes>"
      ]
     },
     "metadata": {},
     "output_type": "display_data"
    }
   ],
   "source": [
    "model = keras.Sequential([\n",
    "    layers.Dense(128, activation='relu', input_shape=input_shape),\n",
    "    layers.Dense(64, activation='relu'),\n",
    "    layers.Dense(1)\n",
    "])\n",
    "model.compile(\n",
    "    optimizer='adam',\n",
    "    loss='mae',\n",
    ")\n",
    "history = model.fit(\n",
    "    X_train, y_train,\n",
    "    validation_data=(X_valid, y_valid),\n",
    "    batch_size=512,\n",
    "    epochs=50,\n",
    ")\n",
    "history_df = pd.DataFrame(history.history)\n",
    "history_df.loc[:, ['loss', 'val_loss']].plot()\n",
    "print(\"Minimum Validation Loss: {:0.4f}\".format(history_df['val_loss'].min()));"
   ]
  },
  {
   "cell_type": "markdown",
   "id": "7de73506",
   "metadata": {
    "papermill": {
     "duration": 0.027819,
     "end_time": "2024-01-10T13:03:35.435986",
     "exception": false,
     "start_time": "2024-01-10T13:03:35.408167",
     "status": "completed"
    },
    "tags": []
   },
   "source": [
    "# 2) Add Capacity\n",
    "\n",
    "What is your evaluation of these curves? Underfitting, overfitting, just right?\n",
    "\n",
    "# 2) 容量の追加\n",
    "\n",
    "これらのカーブをどう評価しますか？アンダーフィット、オーバーフィット、ジャストフィット？"
   ]
  },
  {
   "cell_type": "code",
   "execution_count": 7,
   "id": "bf6cd49e",
   "metadata": {
    "execution": {
     "iopub.execute_input": "2024-01-10T13:03:35.493087Z",
     "iopub.status.busy": "2024-01-10T13:03:35.492369Z",
     "iopub.status.idle": "2024-01-10T13:03:35.500074Z",
     "shell.execute_reply": "2024-01-10T13:03:35.499141Z"
    },
    "papermill": {
     "duration": 0.038555,
     "end_time": "2024-01-10T13:03:35.502010",
     "exception": false,
     "start_time": "2024-01-10T13:03:35.463455",
     "status": "completed"
    },
    "tags": []
   },
   "outputs": [
    {
     "data": {
      "application/javascript": [
       "parent.postMessage({\"jupyterEvent\": \"custom.exercise_interaction\", \"data\": {\"outcomeType\": 1, \"valueTowardsCompletion\": 0.25, \"interactionType\": 1, \"questionType\": 4, \"questionId\": \"2_Q2\", \"learnToolsVersion\": \"0.3.4\", \"failureMessage\": \"\", \"exceptionClass\": \"\", \"trace\": \"\"}}, \"*\")"
      ],
      "text/plain": [
       "<IPython.core.display.Javascript object>"
      ]
     },
     "metadata": {},
     "output_type": "display_data"
    },
    {
     "data": {
      "text/markdown": [
       "<span style=\"color:#33cc33\">Correct:</span> \n",
       "\n",
       "Now the validation loss begins to rise very early, while the training loss continues to decrease. This indicates that the network has begun to overfit. At this point, we would need to try something to prevent it, either by reducing the number of units or through a method like early stopping. (We'll see another in the next lesson!)"
      ],
      "text/plain": [
       "Correct: \n",
       "\n",
       "Now the validation loss begins to rise very early, while the training loss continues to decrease. This indicates that the network has begun to overfit. At this point, we would need to try something to prevent it, either by reducing the number of units or through a method like early stopping. (We'll see another in the next lesson!)"
      ]
     },
     "metadata": {},
     "output_type": "display_data"
    }
   ],
   "source": [
    "# View the solution (Run this cell to receive credit!)\n",
    "q_2.check()"
   ]
  },
  {
   "cell_type": "markdown",
   "id": "c6482513",
   "metadata": {
    "papermill": {
     "duration": 0.027619,
     "end_time": "2024-01-10T13:03:35.557535",
     "exception": false,
     "start_time": "2024-01-10T13:03:35.529916",
     "status": "completed"
    },
    "tags": []
   },
   "source": [
    "# 3) Define Early Stopping Callback\n",
    "\n",
    "Now define an early stopping callback that waits 5 epochs (`patience'`) for a change in validation loss of at least `0.001` (`min_delta`) and keeps the weights with the best loss (`restore_best_weights`).\n",
    "\n",
    "# 3) 早期停止コールバックの定義\n",
    "\n",
    "このコールバックは5エポック(`patience'`)の間、少なくとも`0.001` (`min_delta`)の検証損失の変化を待ち、最も良い損失を持つ重みを保持する(`restore_best_weights`)。"
   ]
  },
  {
   "cell_type": "code",
   "execution_count": 8,
   "id": "2c141c45",
   "metadata": {
    "execution": {
     "iopub.execute_input": "2024-01-10T13:03:35.615321Z",
     "iopub.status.busy": "2024-01-10T13:03:35.614916Z",
     "iopub.status.idle": "2024-01-10T13:03:35.623926Z",
     "shell.execute_reply": "2024-01-10T13:03:35.622936Z"
    },
    "lines_to_next_cell": 0,
    "papermill": {
     "duration": 0.040048,
     "end_time": "2024-01-10T13:03:35.625855",
     "exception": false,
     "start_time": "2024-01-10T13:03:35.585807",
     "status": "completed"
    },
    "tags": []
   },
   "outputs": [
    {
     "data": {
      "application/javascript": [
       "parent.postMessage({\"jupyterEvent\": \"custom.exercise_interaction\", \"data\": {\"outcomeType\": 1, \"valueTowardsCompletion\": 0.25, \"interactionType\": 1, \"questionType\": 2, \"questionId\": \"3_Q3\", \"learnToolsVersion\": \"0.3.4\", \"failureMessage\": \"\", \"exceptionClass\": \"\", \"trace\": \"\"}}, \"*\")"
      ],
      "text/plain": [
       "<IPython.core.display.Javascript object>"
      ]
     },
     "metadata": {},
     "output_type": "display_data"
    },
    {
     "data": {
      "text/markdown": [
       "<span style=\"color:#33cc33\">Correct</span>"
      ],
      "text/plain": [
       "Correct"
      ]
     },
     "metadata": {},
     "output_type": "display_data"
    }
   ],
   "source": [
    "from tensorflow.keras import callbacks\n",
    "\n",
    "# YOUR CODE HERE: define an early stopping callback\n",
    "early_stopping = callbacks.EarlyStopping(\n",
    "    patience=5,\n",
    "    min_delta=0.001,\n",
    "    restore_best_weights=True,\n",
    ")\n",
    "# Check your answer\n",
    "q_3.check()"
   ]
  },
  {
   "cell_type": "code",
   "execution_count": 9,
   "id": "b573f887",
   "metadata": {
    "execution": {
     "iopub.execute_input": "2024-01-10T13:03:35.684312Z",
     "iopub.status.busy": "2024-01-10T13:03:35.683674Z",
     "iopub.status.idle": "2024-01-10T13:03:35.691163Z",
     "shell.execute_reply": "2024-01-10T13:03:35.690302Z"
    },
    "papermill": {
     "duration": 0.038746,
     "end_time": "2024-01-10T13:03:35.693175",
     "exception": false,
     "start_time": "2024-01-10T13:03:35.654429",
     "status": "completed"
    },
    "tags": []
   },
   "outputs": [
    {
     "data": {
      "application/javascript": [
       "parent.postMessage({\"jupyterEvent\": \"custom.exercise_interaction\", \"data\": {\"interactionType\": 3, \"questionType\": 2, \"questionId\": \"3_Q3\", \"learnToolsVersion\": \"0.3.4\", \"valueTowardsCompletion\": 0.0, \"failureMessage\": \"\", \"exceptionClass\": \"\", \"trace\": \"\", \"outcomeType\": 4}}, \"*\")"
      ],
      "text/plain": [
       "<IPython.core.display.Javascript object>"
      ]
     },
     "metadata": {},
     "output_type": "display_data"
    },
    {
     "data": {
      "text/markdown": [
       "<span style=\"color:#33cc99\">Solution:</span> \n",
       "```python\n",
       "\n",
       "early_stopping = callbacks.EarlyStopping(\n",
       "    patience=5,\n",
       "    min_delta=0.001,\n",
       "    restore_best_weights=True,\n",
       ")\n",
       "```"
      ],
      "text/plain": [
       "Solution: \n",
       "```python\n",
       "\n",
       "early_stopping = callbacks.EarlyStopping(\n",
       "    patience=5,\n",
       "    min_delta=0.001,\n",
       "    restore_best_weights=True,\n",
       ")\n",
       "```"
      ]
     },
     "metadata": {},
     "output_type": "display_data"
    }
   ],
   "source": [
    "# Lines below will give you a hint or solution code\n",
    "#q_3.hint()\n",
    "q_3.solution()"
   ]
  },
  {
   "cell_type": "markdown",
   "id": "8481488b",
   "metadata": {
    "papermill": {
     "duration": 0.028116,
     "end_time": "2024-01-10T13:03:35.750063",
     "exception": false,
     "start_time": "2024-01-10T13:03:35.721947",
     "status": "completed"
    },
    "tags": []
   },
   "source": [
    "Now run this cell to train the model and get the learning curves. Notice the `callbacks` argument in `model.fit`.\n",
    "\n",
    "このセルを実行してモデルを訓練し、学習曲線を得よう。model.fit` の `callbacks` 引数に注目。"
   ]
  },
  {
   "cell_type": "code",
   "execution_count": 10,
   "id": "a001fef6",
   "metadata": {
    "execution": {
     "iopub.execute_input": "2024-01-10T13:03:35.856001Z",
     "iopub.status.busy": "2024-01-10T13:03:35.855614Z",
     "iopub.status.idle": "2024-01-10T13:03:39.483948Z",
     "shell.execute_reply": "2024-01-10T13:03:39.482995Z"
    },
    "papermill": {
     "duration": 3.706492,
     "end_time": "2024-01-10T13:03:39.485983",
     "exception": false,
     "start_time": "2024-01-10T13:03:35.779491",
     "status": "completed"
    },
    "tags": []
   },
   "outputs": [
    {
     "name": "stdout",
     "output_type": "stream",
     "text": [
      "Epoch 1/50\n",
      "49/49 [==============================] - 1s 6ms/step - loss: 0.2262 - val_loss: 0.2033\n",
      "Epoch 2/50\n",
      "49/49 [==============================] - 0s 4ms/step - loss: 0.1997 - val_loss: 0.1993\n",
      "Epoch 3/50\n",
      "49/49 [==============================] - 0s 4ms/step - loss: 0.1945 - val_loss: 0.1967\n",
      "Epoch 4/50\n",
      "49/49 [==============================] - 0s 3ms/step - loss: 0.1920 - val_loss: 0.1973\n",
      "Epoch 5/50\n",
      "49/49 [==============================] - 0s 4ms/step - loss: 0.1900 - val_loss: 0.1957\n",
      "Epoch 6/50\n",
      "49/49 [==============================] - 0s 3ms/step - loss: 0.1883 - val_loss: 0.1956\n",
      "Epoch 7/50\n",
      "49/49 [==============================] - 0s 4ms/step - loss: 0.1872 - val_loss: 0.1960\n",
      "Epoch 8/50\n",
      "49/49 [==============================] - 0s 4ms/step - loss: 0.1860 - val_loss: 0.1955\n",
      "Epoch 9/50\n",
      "49/49 [==============================] - 0s 4ms/step - loss: 0.1850 - val_loss: 0.1963\n",
      "Epoch 10/50\n",
      "49/49 [==============================] - 0s 3ms/step - loss: 0.1843 - val_loss: 0.1965\n",
      "Epoch 11/50\n",
      "49/49 [==============================] - 0s 4ms/step - loss: 0.1835 - val_loss: 0.1957\n",
      "Minimum Validation Loss: 0.1955\n"
     ]
    },
    {
     "data": {
      "image/png": "[encoded data removed]",
      "text/plain": [
       "<Figure size 640x480 with 1 Axes>"
      ]
     },
     "metadata": {},
     "output_type": "display_data"
    }
   ],
   "source": [
    "model = keras.Sequential([\n",
    "    layers.Dense(128, activation='relu', input_shape=input_shape),\n",
    "    layers.Dense(64, activation='relu'),    \n",
    "    layers.Dense(1)\n",
    "])\n",
    "model.compile(\n",
    "    optimizer='adam',\n",
    "    loss='mae',\n",
    ")\n",
    "history = model.fit(\n",
    "    X_train, y_train,\n",
    "    validation_data=(X_valid, y_valid),\n",
    "    batch_size=512,\n",
    "    epochs=50,\n",
    "    callbacks=[early_stopping]\n",
    ")\n",
    "history_df = pd.DataFrame(history.history)\n",
    "history_df.loc[:, ['loss', 'val_loss']].plot()\n",
    "print(\"Minimum Validation Loss: {:0.4f}\".format(history_df['val_loss'].min()));"
   ]
  },
  {
   "cell_type": "markdown",
   "id": "3829a645",
   "metadata": {
    "papermill": {
     "duration": 0.032868,
     "end_time": "2024-01-10T13:03:39.552534",
     "exception": false,
     "start_time": "2024-01-10T13:03:39.519666",
     "status": "completed"
    },
    "tags": []
   },
   "source": [
    "# 4) Train and Interpret\n",
    "\n",
    "Was this an improvement compared to training without early stopping?\n",
    "\n",
    "# 4) トレーニングと解釈\n",
    "\n",
    "早期停止なしのトレーニングと比べて改善されたか？"
   ]
  },
  {
   "cell_type": "code",
   "execution_count": 11,
   "id": "ffa02191",
   "metadata": {
    "execution": {
     "iopub.execute_input": "2024-01-10T13:03:39.621316Z",
     "iopub.status.busy": "2024-01-10T13:03:39.620432Z",
     "iopub.status.idle": "2024-01-10T13:03:39.628112Z",
     "shell.execute_reply": "2024-01-10T13:03:39.627196Z"
    },
    "papermill": {
     "duration": 0.044253,
     "end_time": "2024-01-10T13:03:39.630180",
     "exception": false,
     "start_time": "2024-01-10T13:03:39.585927",
     "status": "completed"
    },
    "tags": []
   },
   "outputs": [
    {
     "data": {
      "application/javascript": [
       "parent.postMessage({\"jupyterEvent\": \"custom.exercise_interaction\", \"data\": {\"outcomeType\": 1, \"valueTowardsCompletion\": 0.25, \"interactionType\": 1, \"questionType\": 4, \"questionId\": \"4_Q4\", \"learnToolsVersion\": \"0.3.4\", \"failureMessage\": \"\", \"exceptionClass\": \"\", \"trace\": \"\"}}, \"*\")"
      ],
      "text/plain": [
       "<IPython.core.display.Javascript object>"
      ]
     },
     "metadata": {},
     "output_type": "display_data"
    },
    {
     "data": {
      "text/markdown": [
       "<span style=\"color:#33cc33\">Correct:</span> \n",
       "\n",
       "The early stopping callback did stop the training once the network began overfitting. Moreover, by including `restore_best_weights` we still get to keep the model where validation loss was lowest."
      ],
      "text/plain": [
       "Correct: \n",
       "\n",
       "The early stopping callback did stop the training once the network began overfitting. Moreover, by including `restore_best_weights` we still get to keep the model where validation loss was lowest."
      ]
     },
     "metadata": {},
     "output_type": "display_data"
    }
   ],
   "source": [
    "# View the solution (Run this cell to receive credit!)\n",
    "q_4.check()"
   ]
  },
  {
   "cell_type": "markdown",
   "id": "ca80c939",
   "metadata": {
    "papermill": {
     "duration": 0.033904,
     "end_time": "2024-01-10T13:03:39.697730",
     "exception": false,
     "start_time": "2024-01-10T13:03:39.663826",
     "status": "completed"
    },
    "tags": []
   },
   "source": [
    "If you like, try experimenting with `patience` and `min_delta` to see what difference it might make.\n",
    "\n",
    "もしよろしければ、`patience`と`min_delta`でどんな違いが出るか試してみてください。\n",
    "\n",
    "# Keep Going #\n",
    "\n",
    "Move on to [**learn about a couple of special layers**](https://www.kaggle.com/ryanholbrook/dropout-and-batch-normalization): batch normalization and dropout."
   ]
  },
  {
   "cell_type": "markdown",
   "id": "10ffe278",
   "metadata": {
    "papermill": {
     "duration": 0.03386,
     "end_time": "2024-01-10T13:03:39.766703",
     "exception": false,
     "start_time": "2024-01-10T13:03:39.732843",
     "status": "completed"
    },
    "tags": []
   },
   "source": [
    "---\n",
    "\n",
    "\n",
    "\n",
    "\n",
    "*Have questions or comments? Visit the [course discussion forum](https://www.kaggle.com/learn/intro-to-deep-learning/discussion) to chat with other learners.*"
   ]
  }
 ],
 "metadata": {
  "jupytext": {
   "cell_metadata_filter": "-all",
   "formats": "ipynb"
  },
  "kaggle": {
   "accelerator": "gpu",
   "dataSources": [
    {
     "datasetId": 829369,
     "sourceId": 1480608,
     "sourceType": "datasetVersion"
    }
   ],
   "isGpuEnabled": true,
   "isInternetEnabled": false,
   "language": "python",
   "sourceType": "notebook"
  },
  "kernelspec": {
   "display_name": "Python 3",
   "language": "python",
   "name": "python3"
  },
  "language_info": {
   "codemirror_mode": {
    "name": "ipython",
    "version": 3
   },
   "file_extension": ".py",
   "mimetype": "text/x-python",
   "name": "python",
   "nbconvert_exporter": "python",
   "pygments_lexer": "ipython3",
   "version": "3.10.12"
  },
  "papermill": {
   "default_parameters": {},
   "duration": 45.527396,
   "end_time": "2024-01-10T13:03:42.695009",
   "environment_variables": {},
   "exception": null,
   "input_path": "__notebook__.ipynb",
   "output_path": "__notebook__.ipynb",
   "parameters": {},
   "start_time": "2024-01-10T13:02:57.167613",
   "version": "2.4.0"
  }
 },
 "nbformat": 4,
 "nbformat_minor": 5
}
