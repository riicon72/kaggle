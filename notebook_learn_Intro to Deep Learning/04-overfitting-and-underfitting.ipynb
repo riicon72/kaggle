{
 "cells": [
  {
   "cell_type": "markdown",
   "id": "43796ff0",
   "metadata": {
    "papermill": {
     "duration": 0.006511,
     "end_time": "2024-01-11T05:16:19.124974",
     "exception": false,
     "start_time": "2024-01-11T05:16:19.118463",
     "status": "completed"
    },
    "tags": []
   },
   "source": [
    "**This notebook is an exercise in the [Intro to Deep Learning](https://www.kaggle.com/learn/intro-to-deep-learning) course.  You can reference the tutorial at [this link](https://www.kaggle.com/ryanholbrook/overfitting-and-underfitting).**\n",
    "\n",
    "---\n"
   ]
  },
  {
   "cell_type": "markdown",
   "id": "e5b1a812",
   "metadata": {
    "papermill": {
     "duration": 0.005613,
     "end_time": "2024-01-11T05:16:19.136732",
     "exception": false,
     "start_time": "2024-01-11T05:16:19.131119",
     "status": "completed"
    },
    "tags": []
   },
   "source": [
    "# Introduction #\n",
    "\n",
    "In this exercise, you’ll learn how to improve training outcomes by including an early stopping callback to prevent overfitting.\n",
    "\n",
    "When you're ready, run this next cell to set everything up!\n",
    "\n",
    "# はじめに #\n",
    "\n",
    "このエクササイズでは、オーバーフィッティングを防ぐために早期停止コールバックを含めることで、トレーニングの成果を向上させる方法を学びます。\n",
    "\n",
    "準備ができたら、次のセルを実行してすべてをセットアップしてください！"
   ]
  },
  {
   "cell_type": "code",
   "execution_count": 1,
   "id": "031dc0db",
   "metadata": {
    "execution": {
     "iopub.execute_input": "2024-01-11T05:16:19.150097Z",
     "iopub.status.busy": "2024-01-11T05:16:19.149724Z",
     "iopub.status.idle": "2024-01-11T05:16:19.899999Z",
     "shell.execute_reply": "2024-01-11T05:16:19.898986Z"
    },
    "papermill": {
     "duration": 0.75984,
     "end_time": "2024-01-11T05:16:19.902520",
     "exception": false,
     "start_time": "2024-01-11T05:16:19.142680",
     "status": "completed"
    },
    "tags": []
   },
   "outputs": [
    {
     "name": "stderr",
     "output_type": "stream",
     "text": [
      "/tmp/ipykernel_27/1500229236.py:3: MatplotlibDeprecationWarning: The seaborn styles shipped by Matplotlib are deprecated since 3.6, as they no longer correspond to the styles shipped by seaborn. However, they will remain available as 'seaborn-v0_8-<style>'. Alternatively, directly use the seaborn API instead.\n",
      "  plt.style.use('seaborn-whitegrid')\n"
     ]
    }
   ],
   "source": [
    "# Setup plotting\n",
    "import matplotlib.pyplot as plt\n",
    "plt.style.use('seaborn-whitegrid')\n",
    "# Set Matplotlib defaults\n",
    "plt.rc('figure', autolayout=True)\n",
    "plt.rc('axes', labelweight='bold', labelsize='large',\n",
    "       titleweight='bold', titlesize=18, titlepad=10)\n",
    "plt.rc('animation', html='html5')\n",
    "\n",
    "# Setup feedback system\n",
    "from learntools.core import binder\n",
    "binder.bind(globals())\n",
    "from learntools.deep_learning_intro.ex4 import *"
   ]
  },
  {
   "cell_type": "markdown",
   "id": "00e555ab",
   "metadata": {
    "papermill": {
     "duration": 0.006587,
     "end_time": "2024-01-11T05:16:19.915611",
     "exception": false,
     "start_time": "2024-01-11T05:16:19.909024",
     "status": "completed"
    },
    "tags": []
   },
   "source": [
    "First load the *Spotify* dataset. Your task will be to predict the popularity of a song based on various audio features, like `'tempo'`, `'danceability'`, and `'mode'`.\n",
    "\n",
    "まず*Spotify*データセットをロードする。あなたの仕事は、`テンポ'`、`踊りやすさ'`、`モード'`といった様々なオーディオ特徴に基づいて曲の人気を予測することである。"
   ]
  },
  {
   "cell_type": "code",
   "execution_count": 2,
   "id": "472092dc",
   "metadata": {
    "execution": {
     "iopub.execute_input": "2024-01-11T05:16:19.929492Z",
     "iopub.status.busy": "2024-01-11T05:16:19.929023Z",
     "iopub.status.idle": "2024-01-11T05:16:32.853754Z",
     "shell.execute_reply": "2024-01-11T05:16:32.849487Z"
    },
    "papermill": {
     "duration": 12.935218,
     "end_time": "2024-01-11T05:16:32.856873",
     "exception": false,
     "start_time": "2024-01-11T05:16:19.921655",
     "status": "completed"
    },
    "tags": []
   },
   "outputs": [
    {
     "name": "stderr",
     "output_type": "stream",
     "text": [
      "/opt/conda/lib/python3.10/site-packages/scipy/__init__.py:146: UserWarning: A NumPy version >=1.16.5 and <1.23.0 is required for this version of SciPy (detected version 1.24.3\n",
      "  warnings.warn(f\"A NumPy version >={np_minversion} and <{np_maxversion}\"\n"
     ]
    },
    {
     "name": "stdout",
     "output_type": "stream",
     "text": [
      "Input shape: [18]\n"
     ]
    }
   ],
   "source": [
    "import pandas as pd\n",
    "from sklearn.preprocessing import StandardScaler, OneHotEncoder\n",
    "from sklearn.compose import make_column_transformer\n",
    "from sklearn.model_selection import GroupShuffleSplit\n",
    "\n",
    "from tensorflow import keras\n",
    "from tensorflow.keras import layers\n",
    "from tensorflow.keras import callbacks\n",
    "\n",
    "spotify = pd.read_csv('../input/dl-course-data/spotify.csv')\n",
    "\n",
    "X = spotify.copy().dropna()\n",
    "y = X.pop('track_popularity')\n",
    "artists = X['track_artist']\n",
    "\n",
    "features_num = ['danceability', 'energy', 'key', 'loudness', 'mode',\n",
    "                'speechiness', 'acousticness', 'instrumentalness',\n",
    "                'liveness', 'valence', 'tempo', 'duration_ms']\n",
    "features_cat = ['playlist_genre']\n",
    "\n",
    "preprocessor = make_column_transformer(\n",
    "    (StandardScaler(), features_num),\n",
    "    (OneHotEncoder(), features_cat),\n",
    ")\n",
    "\n",
    "# We'll do a \"grouped\" split to keep all of an artist's songs in one\n",
    "# split or the other. This is to help prevent signal leakage.\n",
    "def group_split(X, y, group, train_size=0.75):\n",
    "    splitter = GroupShuffleSplit(train_size=train_size)\n",
    "    train, test = next(splitter.split(X, y, groups=group))\n",
    "    return (X.iloc[train], X.iloc[test], y.iloc[train], y.iloc[test])\n",
    "\n",
    "X_train, X_valid, y_train, y_valid = group_split(X, y, artists)\n",
    "\n",
    "X_train = preprocessor.fit_transform(X_train)\n",
    "X_valid = preprocessor.transform(X_valid)\n",
    "y_train = y_train / 100 # popularity is on a scale 0-100, so this rescales to 0-1.\n",
    "y_valid = y_valid / 100\n",
    "\n",
    "input_shape = [X_train.shape[1]]\n",
    "print(\"Input shape: {}\".format(input_shape))"
   ]
  },
  {
   "cell_type": "markdown",
   "id": "164afd26",
   "metadata": {
    "papermill": {
     "duration": 0.009247,
     "end_time": "2024-01-11T05:16:32.876379",
     "exception": false,
     "start_time": "2024-01-11T05:16:32.867132",
     "status": "completed"
    },
    "tags": []
   },
   "source": [
    "Let's start with the simplest network, a linear model. This model has low capacity.\n",
    "\n",
    "Run this next cell without any changes to train a linear model on the *Spotify* dataset.\n",
    "\n",
    "最も単純なネットワーク、線形モデルから始めよう。このモデルは容量が少ない。\n",
    "\n",
    "Spotify*データセットで線形モデルを訓練するために、この次のセルを何も変更せずに実行します。"
   ]
  },
  {
   "cell_type": "code",
   "execution_count": 3,
   "id": "9fce524c",
   "metadata": {
    "execution": {
     "iopub.execute_input": "2024-01-11T05:16:32.895303Z",
     "iopub.status.busy": "2024-01-11T05:16:32.894331Z",
     "iopub.status.idle": "2024-01-11T05:16:42.546215Z",
     "shell.execute_reply": "2024-01-11T05:16:42.545271Z"
    },
    "lines_to_next_cell": 0,
    "papermill": {
     "duration": 9.664848,
     "end_time": "2024-01-11T05:16:42.548210",
     "exception": false,
     "start_time": "2024-01-11T05:16:32.883362",
     "status": "completed"
    },
    "tags": []
   },
   "outputs": [
    {
     "name": "stdout",
     "output_type": "stream",
     "text": [
      "Minimum Validation Loss: 0.1942\n"
     ]
    },
    {
     "data": {
      "image/png": "[encoded data removed]",
      "text/plain": [
       "<Figure size 640x480 with 1 Axes>"
      ]
     },
     "metadata": {},
     "output_type": "display_data"
    }
   ],
   "source": [
    "model = keras.Sequential([\n",
    "    layers.Dense(1, input_shape=input_shape),\n",
    "])\n",
    "model.compile(\n",
    "    optimizer='adam',\n",
    "    loss='mae',\n",
    ")\n",
    "history = model.fit(\n",
    "    X_train, y_train,\n",
    "    validation_data=(X_valid, y_valid),\n",
    "    batch_size=512,\n",
    "    epochs=50,\n",
    "    verbose=0, # suppress output since we'll plot the curves\n",
    ")\n",
    "history_df = pd.DataFrame(history.history)\n",
    "history_df.loc[0:, ['loss', 'val_loss']].plot()\n",
    "print(\"Minimum Validation Loss: {:0.4f}\".format(history_df['val_loss'].min()));"
   ]
  },
  {
   "cell_type": "markdown",
   "id": "88121242",
   "metadata": {
    "papermill": {
     "duration": 0.006461,
     "end_time": "2024-01-11T05:16:42.561606",
     "exception": false,
     "start_time": "2024-01-11T05:16:42.555145",
     "status": "completed"
    },
    "tags": []
   },
   "source": [
    "It's not uncommon for the curves to follow a \"hockey stick\" pattern like you see here. This makes the final part of training hard to see, so let's start at epoch 10 instead:\n",
    "\n",
    "最も単純なネットワーク、線形モデルから始めよう。このモデルは容量が少ない。\n",
    "\n",
    "Spotify*データセットで線形モデルを訓練するために、この次のセルを何も変更せずに実行します。\n",
    "\n"
   ]
  },
  {
   "cell_type": "code",
   "execution_count": 4,
   "id": "20654884",
   "metadata": {
    "execution": {
     "iopub.execute_input": "2024-01-11T05:16:42.577007Z",
     "iopub.status.busy": "2024-01-11T05:16:42.576305Z",
     "iopub.status.idle": "2024-01-11T05:16:43.087441Z",
     "shell.execute_reply": "2024-01-11T05:16:43.086585Z"
    },
    "papermill": {
     "duration": 0.521336,
     "end_time": "2024-01-11T05:16:43.089722",
     "exception": false,
     "start_time": "2024-01-11T05:16:42.568386",
     "status": "completed"
    },
    "tags": []
   },
   "outputs": [
    {
     "name": "stdout",
     "output_type": "stream",
     "text": [
      "Minimum Validation Loss: 0.1942\n"
     ]
    },
    {
     "data": {
      "image/png": "[encoded data removed]",
      "text/plain": [
       "<Figure size 640x480 with 1 Axes>"
      ]
     },
     "metadata": {},
     "output_type": "display_data"
    }
   ],
   "source": [
    "# Start the plot at epoch 10\n",
    "history_df.loc[10:, ['loss', 'val_loss']].plot()\n",
    "print(\"Minimum Validation Loss: {:0.4f}\".format(history_df['val_loss'].min()));"
   ]
  },
  {
   "cell_type": "markdown",
   "id": "4388a964",
   "metadata": {
    "papermill": {
     "duration": 0.007233,
     "end_time": "2024-01-11T05:16:43.104441",
     "exception": false,
     "start_time": "2024-01-11T05:16:43.097208",
     "status": "completed"
    },
    "tags": []
   },
   "source": [
    "# 1) Evaluate Baseline\n",
    "\n",
    "What do you think? Would you say this model is underfitting, overfitting, just right?\n",
    "\n",
    "# その1 ベースラインの評価\n",
    "\n",
    "どう思いますか？このモデルはアンダーフィットだと思いますか、オーバーフィットだと思いますか、ちょうどいいと思いますか？"
   ]
  },
  {
   "cell_type": "code",
   "execution_count": 5,
   "id": "ac93967d",
   "metadata": {
    "execution": {
     "iopub.execute_input": "2024-01-11T05:16:43.120266Z",
     "iopub.status.busy": "2024-01-11T05:16:43.119950Z",
     "iopub.status.idle": "2024-01-11T05:16:43.127585Z",
     "shell.execute_reply": "2024-01-11T05:16:43.126699Z"
    },
    "papermill": {
     "duration": 0.017845,
     "end_time": "2024-01-11T05:16:43.129500",
     "exception": false,
     "start_time": "2024-01-11T05:16:43.111655",
     "status": "completed"
    },
    "tags": []
   },
   "outputs": [
    {
     "data": {
      "application/javascript": [
       "parent.postMessage({\"jupyterEvent\": \"custom.exercise_interaction\", \"data\": {\"outcomeType\": 1, \"valueTowardsCompletion\": 0.25, \"interactionType\": 1, \"questionType\": 4, \"questionId\": \"1_Q1\", \"learnToolsVersion\": \"0.3.4\", \"failureMessage\": \"\", \"exceptionClass\": \"\", \"trace\": \"\"}}, \"*\")"
      ],
      "text/plain": [
       "<IPython.core.display.Javascript object>"
      ]
     },
     "metadata": {},
     "output_type": "display_data"
    },
    {
     "data": {
      "text/markdown": [
       "<span style=\"color:#33cc33\">Correct:</span> \n",
       "\n",
       "The gap between these curves is quite small and the validation loss never increases, so it's more likely that the network is underfitting than overfitting. It would be worth experimenting with more capacity to see if that's the case."
      ],
      "text/plain": [
       "Correct: \n",
       "\n",
       "The gap between these curves is quite small and the validation loss never increases, so it's more likely that the network is underfitting than overfitting. It would be worth experimenting with more capacity to see if that's the case."
      ]
     },
     "metadata": {},
     "output_type": "display_data"
    }
   ],
   "source": [
    "# View the solution (Run this cell to receive credit!)\n",
    "q_1.check()"
   ]
  },
  {
   "cell_type": "markdown",
   "id": "7e034d34",
   "metadata": {
    "papermill": {
     "duration": 0.007591,
     "end_time": "2024-01-11T05:16:43.145700",
     "exception": false,
     "start_time": "2024-01-11T05:16:43.138109",
     "status": "completed"
    },
    "tags": []
   },
   "source": [
    "Now let's add some capacity to our network. We'll add three hidden layers with 128 units each. Run the next cell to train the network and see the learning curves.\n",
    "\n",
    "では、ネットワークに容量を追加してみよう。それぞれ128個のユニットを持つ3つの隠れ層を追加する。次のセルを実行してネットワークを訓練し、学習曲線を見よう。"
   ]
  },
  {
   "cell_type": "code",
   "execution_count": 6,
   "id": "8dd5bc55",
   "metadata": {
    "execution": {
     "iopub.execute_input": "2024-01-11T05:16:43.163789Z",
     "iopub.status.busy": "2024-01-11T05:16:43.163422Z",
     "iopub.status.idle": "2024-01-11T05:16:54.145115Z",
     "shell.execute_reply": "2024-01-11T05:16:54.144219Z"
    },
    "papermill": {
     "duration": 10.99294,
     "end_time": "2024-01-11T05:16:54.147359",
     "exception": false,
     "start_time": "2024-01-11T05:16:43.154419",
     "status": "completed"
    },
    "tags": []
   },
   "outputs": [
    {
     "name": "stdout",
     "output_type": "stream",
     "text": [
      "Epoch 1/50\n",
      "49/49 [==============================] - 2s 6ms/step - loss: 0.2535 - val_loss: 0.2067\n",
      "Epoch 2/50\n",
      "49/49 [==============================] - 0s 3ms/step - loss: 0.2033 - val_loss: 0.1998\n",
      "Epoch 3/50\n",
      "49/49 [==============================] - 0s 4ms/step - loss: 0.1978 - val_loss: 0.1987\n",
      "Epoch 4/50\n",
      "49/49 [==============================] - 0s 4ms/step - loss: 0.1940 - val_loss: 0.1972\n",
      "Epoch 5/50\n",
      "49/49 [==============================] - 0s 3ms/step - loss: 0.1918 - val_loss: 0.1958\n",
      "Epoch 6/50\n",
      "49/49 [==============================] - 0s 4ms/step - loss: 0.1901 - val_loss: 0.1977\n",
      "Epoch 7/50\n",
      "49/49 [==============================] - 0s 3ms/step - loss: 0.1892 - val_loss: 0.1955\n",
      "Epoch 8/50\n",
      "49/49 [==============================] - 0s 3ms/step - loss: 0.1882 - val_loss: 0.1955\n",
      "Epoch 9/50\n",
      "49/49 [==============================] - 0s 3ms/step - loss: 0.1869 - val_loss: 0.1973\n",
      "Epoch 10/50\n",
      "49/49 [==============================] - 0s 4ms/step - loss: 0.1863 - val_loss: 0.1965\n",
      "Epoch 11/50\n",
      "49/49 [==============================] - 0s 4ms/step - loss: 0.1850 - val_loss: 0.1965\n",
      "Epoch 12/50\n",
      "49/49 [==============================] - 0s 4ms/step - loss: 0.1844 - val_loss: 0.1975\n",
      "Epoch 13/50\n",
      "49/49 [==============================] - 0s 3ms/step - loss: 0.1836 - val_loss: 0.1967\n",
      "Epoch 14/50\n",
      "49/49 [==============================] - 0s 3ms/step - loss: 0.1831 - val_loss: 0.1959\n",
      "Epoch 15/50\n",
      "49/49 [==============================] - 0s 3ms/step - loss: 0.1821 - val_loss: 0.1963\n",
      "Epoch 16/50\n",
      "49/49 [==============================] - 0s 4ms/step - loss: 0.1814 - val_loss: 0.1964\n",
      "Epoch 17/50\n",
      "49/49 [==============================] - 0s 5ms/step - loss: 0.1806 - val_loss: 0.1964\n",
      "Epoch 18/50\n",
      "49/49 [==============================] - 0s 5ms/step - loss: 0.1806 - val_loss: 0.1967\n",
      "Epoch 19/50\n",
      "49/49 [==============================] - 0s 5ms/step - loss: 0.1803 - val_loss: 0.1972\n",
      "Epoch 20/50\n",
      "49/49 [==============================] - 0s 5ms/step - loss: 0.1791 - val_loss: 0.1966\n",
      "Epoch 21/50\n",
      "49/49 [==============================] - 0s 4ms/step - loss: 0.1787 - val_loss: 0.1970\n",
      "Epoch 22/50\n",
      "49/49 [==============================] - 0s 4ms/step - loss: 0.1781 - val_loss: 0.1962\n",
      "Epoch 23/50\n",
      "49/49 [==============================] - 0s 4ms/step - loss: 0.1773 - val_loss: 0.1976\n",
      "Epoch 24/50\n",
      "49/49 [==============================] - 0s 4ms/step - loss: 0.1769 - val_loss: 0.1970\n",
      "Epoch 25/50\n",
      "49/49 [==============================] - 0s 4ms/step - loss: 0.1768 - val_loss: 0.1997\n",
      "Epoch 26/50\n",
      "49/49 [==============================] - 0s 4ms/step - loss: 0.1760 - val_loss: 0.1966\n",
      "Epoch 27/50\n",
      "49/49 [==============================] - 0s 3ms/step - loss: 0.1757 - val_loss: 0.2001\n",
      "Epoch 28/50\n",
      "49/49 [==============================] - 0s 3ms/step - loss: 0.1773 - val_loss: 0.1981\n",
      "Epoch 29/50\n",
      "49/49 [==============================] - 0s 4ms/step - loss: 0.1748 - val_loss: 0.1977\n",
      "Epoch 30/50\n",
      "49/49 [==============================] - 0s 3ms/step - loss: 0.1743 - val_loss: 0.1982\n",
      "Epoch 31/50\n",
      "49/49 [==============================] - 0s 3ms/step - loss: 0.1730 - val_loss: 0.1980\n",
      "Epoch 32/50\n",
      "49/49 [==============================] - 0s 3ms/step - loss: 0.1726 - val_loss: 0.1994\n",
      "Epoch 33/50\n",
      "49/49 [==============================] - 0s 3ms/step - loss: 0.1727 - val_loss: 0.1999\n",
      "Epoch 34/50\n",
      "49/49 [==============================] - 0s 4ms/step - loss: 0.1734 - val_loss: 0.2002\n",
      "Epoch 35/50\n",
      "49/49 [==============================] - 0s 3ms/step - loss: 0.1723 - val_loss: 0.2000\n",
      "Epoch 36/50\n",
      "49/49 [==============================] - 0s 3ms/step - loss: 0.1718 - val_loss: 0.1992\n",
      "Epoch 37/50\n",
      "49/49 [==============================] - 0s 3ms/step - loss: 0.1714 - val_loss: 0.1995\n",
      "Epoch 38/50\n",
      "49/49 [==============================] - 0s 3ms/step - loss: 0.1715 - val_loss: 0.2001\n",
      "Epoch 39/50\n",
      "49/49 [==============================] - 0s 3ms/step - loss: 0.1707 - val_loss: 0.2018\n",
      "Epoch 40/50\n",
      "49/49 [==============================] - 0s 3ms/step - loss: 0.1697 - val_loss: 0.2002\n",
      "Epoch 41/50\n",
      "49/49 [==============================] - 0s 3ms/step - loss: 0.1692 - val_loss: 0.2010\n",
      "Epoch 42/50\n",
      "49/49 [==============================] - 0s 3ms/step - loss: 0.1692 - val_loss: 0.2032\n",
      "Epoch 43/50\n",
      "49/49 [==============================] - 0s 4ms/step - loss: 0.1684 - val_loss: 0.2008\n",
      "Epoch 44/50\n",
      "49/49 [==============================] - 0s 3ms/step - loss: 0.1686 - val_loss: 0.2010\n",
      "Epoch 45/50\n",
      "49/49 [==============================] - 0s 4ms/step - loss: 0.1677 - val_loss: 0.2012\n",
      "Epoch 46/50\n",
      "49/49 [==============================] - 0s 4ms/step - loss: 0.1669 - val_loss: 0.2011\n",
      "Epoch 47/50\n",
      "49/49 [==============================] - 0s 4ms/step - loss: 0.1676 - val_loss: 0.2021\n",
      "Epoch 48/50\n",
      "49/49 [==============================] - 0s 4ms/step - loss: 0.1655 - val_loss: 0.2025\n",
      "Epoch 49/50\n",
      "49/49 [==============================] - 0s 3ms/step - loss: 0.1657 - val_loss: 0.2019\n",
      "Epoch 50/50\n",
      "49/49 [==============================] - 0s 3ms/step - loss: 0.1654 - val_loss: 0.2034\n",
      "Minimum Validation Loss: 0.1955\n"
     ]
    },
    {
     "data": {
      "image/png": "[encoded data removed]",
      "text/plain": [
       "<Figure size 640x480 with 1 Axes>"
      ]
     },
     "metadata": {},
     "output_type": "display_data"
    }
   ],
   "source": [
    "model = keras.Sequential([\n",
    "    layers.Dense(128, activation='relu', input_shape=input_shape),\n",
    "    layers.Dense(64, activation='relu'),\n",
    "    layers.Dense(1)\n",
    "])\n",
    "model.compile(\n",
    "    optimizer='adam',\n",
    "    loss='mae',\n",
    ")\n",
    "history = model.fit(\n",
    "    X_train, y_train,\n",
    "    validation_data=(X_valid, y_valid),\n",
    "    batch_size=512,\n",
    "    epochs=50,\n",
    ")\n",
    "history_df = pd.DataFrame(history.history)\n",
    "history_df.loc[:, ['loss', 'val_loss']].plot()\n",
    "print(\"Minimum Validation Loss: {:0.4f}\".format(history_df['val_loss'].min()));"
   ]
  },
  {
   "cell_type": "markdown",
   "id": "67ea1226",
   "metadata": {
    "papermill": {
     "duration": 0.02776,
     "end_time": "2024-01-11T05:16:54.202855",
     "exception": false,
     "start_time": "2024-01-11T05:16:54.175095",
     "status": "completed"
    },
    "tags": []
   },
   "source": [
    "# 2) Add Capacity\n",
    "\n",
    "What is your evaluation of these curves? Underfitting, overfitting, just right?\n",
    "\n",
    "# 2) 容量の追加\n",
    "\n",
    "これらのカーブをどう評価しますか？アンダーフィット、オーバーフィット、ジャストフィット？"
   ]
  },
  {
   "cell_type": "code",
   "execution_count": 7,
   "id": "3b32bd12",
   "metadata": {
    "execution": {
     "iopub.execute_input": "2024-01-11T05:16:54.260663Z",
     "iopub.status.busy": "2024-01-11T05:16:54.259721Z",
     "iopub.status.idle": "2024-01-11T05:16:54.267526Z",
     "shell.execute_reply": "2024-01-11T05:16:54.266636Z"
    },
    "papermill": {
     "duration": 0.038703,
     "end_time": "2024-01-11T05:16:54.269441",
     "exception": false,
     "start_time": "2024-01-11T05:16:54.230738",
     "status": "completed"
    },
    "tags": []
   },
   "outputs": [
    {
     "data": {
      "application/javascript": [
       "parent.postMessage({\"jupyterEvent\": \"custom.exercise_interaction\", \"data\": {\"outcomeType\": 1, \"valueTowardsCompletion\": 0.25, \"interactionType\": 1, \"questionType\": 4, \"questionId\": \"2_Q2\", \"learnToolsVersion\": \"0.3.4\", \"failureMessage\": \"\", \"exceptionClass\": \"\", \"trace\": \"\"}}, \"*\")"
      ],
      "text/plain": [
       "<IPython.core.display.Javascript object>"
      ]
     },
     "metadata": {},
     "output_type": "display_data"
    },
    {
     "data": {
      "text/markdown": [
       "<span style=\"color:#33cc33\">Correct:</span> \n",
       "\n",
       "Now the validation loss begins to rise very early, while the training loss continues to decrease. This indicates that the network has begun to overfit. At this point, we would need to try something to prevent it, either by reducing the number of units or through a method like early stopping. (We'll see another in the next lesson!)"
      ],
      "text/plain": [
       "Correct: \n",
       "\n",
       "Now the validation loss begins to rise very early, while the training loss continues to decrease. This indicates that the network has begun to overfit. At this point, we would need to try something to prevent it, either by reducing the number of units or through a method like early stopping. (We'll see another in the next lesson!)"
      ]
     },
     "metadata": {},
     "output_type": "display_data"
    }
   ],
   "source": [
    "# View the solution (Run this cell to receive credit!)\n",
    "q_2.check()"
   ]
  },
  {
   "cell_type": "markdown",
   "id": "27c04deb",
   "metadata": {
    "papermill": {
     "duration": 0.029062,
     "end_time": "2024-01-11T05:16:54.328653",
     "exception": false,
     "start_time": "2024-01-11T05:16:54.299591",
     "status": "completed"
    },
    "tags": []
   },
   "source": [
    "# 3) Define Early Stopping Callback\n",
    "\n",
    "Now define an early stopping callback that waits 5 epochs (`patience'`) for a change in validation loss of at least `0.001` (`min_delta`) and keeps the weights with the best loss (`restore_best_weights`).\n",
    "\n",
    "# 3) 早期停止コールバックの定義\n",
    "\n",
    "このコールバックは5エポック(`patience'`)の間、少なくとも`0.001` (`min_delta`)の検証損失の変化を待ち、最も良い損失を持つ重みを保持する(`restore_best_weights`)。"
   ]
  },
  {
   "cell_type": "code",
   "execution_count": 8,
   "id": "5b1fdc79",
   "metadata": {
    "execution": {
     "iopub.execute_input": "2024-01-11T05:16:54.388747Z",
     "iopub.status.busy": "2024-01-11T05:16:54.388391Z",
     "iopub.status.idle": "2024-01-11T05:16:54.396969Z",
     "shell.execute_reply": "2024-01-11T05:16:54.396086Z"
    },
    "lines_to_next_cell": 0,
    "papermill": {
     "duration": 0.041096,
     "end_time": "2024-01-11T05:16:54.399058",
     "exception": false,
     "start_time": "2024-01-11T05:16:54.357962",
     "status": "completed"
    },
    "tags": []
   },
   "outputs": [
    {
     "data": {
      "application/javascript": [
       "parent.postMessage({\"jupyterEvent\": \"custom.exercise_interaction\", \"data\": {\"outcomeType\": 1, \"valueTowardsCompletion\": 0.25, \"interactionType\": 1, \"questionType\": 2, \"questionId\": \"3_Q3\", \"learnToolsVersion\": \"0.3.4\", \"failureMessage\": \"\", \"exceptionClass\": \"\", \"trace\": \"\"}}, \"*\")"
      ],
      "text/plain": [
       "<IPython.core.display.Javascript object>"
      ]
     },
     "metadata": {},
     "output_type": "display_data"
    },
    {
     "data": {
      "text/markdown": [
       "<span style=\"color:#33cc33\">Correct</span>"
      ],
      "text/plain": [
       "Correct"
      ]
     },
     "metadata": {},
     "output_type": "display_data"
    }
   ],
   "source": [
    "from tensorflow.keras import callbacks\n",
    "\n",
    "# YOUR CODE HERE: define an early stopping callback\n",
    "early_stopping = callbacks.EarlyStopping(\n",
    "    patience=5,\n",
    "    min_delta=0.001,\n",
    "    restore_best_weights=True,\n",
    ")\n",
    "# Check your answer\n",
    "q_3.check()"
   ]
  },
  {
   "cell_type": "code",
   "execution_count": 9,
   "id": "e62900ec",
   "metadata": {
    "execution": {
     "iopub.execute_input": "2024-01-11T05:16:54.459403Z",
     "iopub.status.busy": "2024-01-11T05:16:54.459066Z",
     "iopub.status.idle": "2024-01-11T05:16:54.467370Z",
     "shell.execute_reply": "2024-01-11T05:16:54.466513Z"
    },
    "papermill": {
     "duration": 0.040531,
     "end_time": "2024-01-11T05:16:54.469342",
     "exception": false,
     "start_time": "2024-01-11T05:16:54.428811",
     "status": "completed"
    },
    "tags": []
   },
   "outputs": [
    {
     "data": {
      "application/javascript": [
       "parent.postMessage({\"jupyterEvent\": \"custom.exercise_interaction\", \"data\": {\"interactionType\": 3, \"questionType\": 2, \"questionId\": \"3_Q3\", \"learnToolsVersion\": \"0.3.4\", \"valueTowardsCompletion\": 0.0, \"failureMessage\": \"\", \"exceptionClass\": \"\", \"trace\": \"\", \"outcomeType\": 4}}, \"*\")"
      ],
      "text/plain": [
       "<IPython.core.display.Javascript object>"
      ]
     },
     "metadata": {},
     "output_type": "display_data"
    },
    {
     "data": {
      "text/markdown": [
       "<span style=\"color:#33cc99\">Solution:</span> \n",
       "```python\n",
       "\n",
       "early_stopping = callbacks.EarlyStopping(\n",
       "    patience=5,\n",
       "    min_delta=0.001,\n",
       "    restore_best_weights=True,\n",
       ")\n",
       "```"
      ],
      "text/plain": [
       "Solution: \n",
       "```python\n",
       "\n",
       "early_stopping = callbacks.EarlyStopping(\n",
       "    patience=5,\n",
       "    min_delta=0.001,\n",
       "    restore_best_weights=True,\n",
       ")\n",
       "```"
      ]
     },
     "metadata": {},
     "output_type": "display_data"
    }
   ],
   "source": [
    "# Lines below will give you a hint or solution code\n",
    "#q_3.hint()\n",
    "q_3.solution()"
   ]
  },
  {
   "cell_type": "markdown",
   "id": "5b592288",
   "metadata": {
    "papermill": {
     "duration": 0.077439,
     "end_time": "2024-01-11T05:16:54.575571",
     "exception": false,
     "start_time": "2024-01-11T05:16:54.498132",
     "status": "completed"
    },
    "tags": []
   },
   "source": [
    "Now run this cell to train the model and get the learning curves. Notice the `callbacks` argument in `model.fit`.\n",
    "\n",
    "このセルを実行してモデルを訓練し、学習曲線を得よう。model.fit` の `callbacks` 引数に注目。"
   ]
  },
  {
   "cell_type": "code",
   "execution_count": 10,
   "id": "1125e02d",
   "metadata": {
    "execution": {
     "iopub.execute_input": "2024-01-11T05:16:54.636635Z",
     "iopub.status.busy": "2024-01-11T05:16:54.636254Z",
     "iopub.status.idle": "2024-01-11T05:16:58.242827Z",
     "shell.execute_reply": "2024-01-11T05:16:58.241910Z"
    },
    "papermill": {
     "duration": 3.640292,
     "end_time": "2024-01-11T05:16:58.245163",
     "exception": false,
     "start_time": "2024-01-11T05:16:54.604871",
     "status": "completed"
    },
    "tags": []
   },
   "outputs": [
    {
     "name": "stdout",
     "output_type": "stream",
     "text": [
      "Epoch 1/50\n",
      "49/49 [==============================] - 1s 6ms/step - loss: 0.2473 - val_loss: 0.2036\n",
      "Epoch 2/50\n",
      "49/49 [==============================] - 0s 4ms/step - loss: 0.2031 - val_loss: 0.1991\n",
      "Epoch 3/50\n",
      "49/49 [==============================] - 0s 4ms/step - loss: 0.1972 - val_loss: 0.1971\n",
      "Epoch 4/50\n",
      "49/49 [==============================] - 0s 4ms/step - loss: 0.1939 - val_loss: 0.1964\n",
      "Epoch 5/50\n",
      "49/49 [==============================] - 0s 4ms/step - loss: 0.1925 - val_loss: 0.1959\n",
      "Epoch 6/50\n",
      "49/49 [==============================] - 0s 4ms/step - loss: 0.1904 - val_loss: 0.1958\n",
      "Epoch 7/50\n",
      "49/49 [==============================] - 0s 4ms/step - loss: 0.1888 - val_loss: 0.1958\n",
      "Epoch 8/50\n",
      "49/49 [==============================] - 0s 4ms/step - loss: 0.1877 - val_loss: 0.1955\n",
      "Epoch 9/50\n",
      "49/49 [==============================] - 0s 4ms/step - loss: 0.1867 - val_loss: 0.1965\n",
      "Epoch 10/50\n",
      "49/49 [==============================] - 0s 4ms/step - loss: 0.1857 - val_loss: 0.1956\n",
      "Minimum Validation Loss: 0.1955\n"
     ]
    },
    {
     "data": {
      "image/png": "[encoded data removed]",
      "text/plain": [
       "<Figure size 640x480 with 1 Axes>"
      ]
     },
     "metadata": {},
     "output_type": "display_data"
    }
   ],
   "source": [
    "model = keras.Sequential([\n",
    "    layers.Dense(128, activation='relu', input_shape=input_shape),\n",
    "    layers.Dense(64, activation='relu'),    \n",
    "    layers.Dense(1)\n",
    "])\n",
    "model.compile(\n",
    "    optimizer='adam',\n",
    "    loss='mae',\n",
    ")\n",
    "history = model.fit(\n",
    "    X_train, y_train,\n",
    "    validation_data=(X_valid, y_valid),\n",
    "    batch_size=512,\n",
    "    epochs=50,\n",
    "    callbacks=[early_stopping]\n",
    ")\n",
    "history_df = pd.DataFrame(history.history)\n",
    "history_df.loc[:, ['loss', 'val_loss']].plot()\n",
    "print(\"Minimum Validation Loss: {:0.4f}\".format(history_df['val_loss'].min()));"
   ]
  },
  {
   "cell_type": "markdown",
   "id": "9113ffb5",
   "metadata": {
    "papermill": {
     "duration": 0.035674,
     "end_time": "2024-01-11T05:16:58.314961",
     "exception": false,
     "start_time": "2024-01-11T05:16:58.279287",
     "status": "completed"
    },
    "tags": []
   },
   "source": [
    "# 4) Train and Interpret\n",
    "\n",
    "Was this an improvement compared to training without early stopping?\n",
    "\n",
    "# 4) トレーニングと解釈\n",
    "\n",
    "早期停止なしのトレーニングと比べて改善されたか？"
   ]
  },
  {
   "cell_type": "code",
   "execution_count": 11,
   "id": "bbd942d2",
   "metadata": {
    "execution": {
     "iopub.execute_input": "2024-01-11T05:16:58.385974Z",
     "iopub.status.busy": "2024-01-11T05:16:58.385559Z",
     "iopub.status.idle": "2024-01-11T05:16:58.393577Z",
     "shell.execute_reply": "2024-01-11T05:16:58.392675Z"
    },
    "papermill": {
     "duration": 0.045775,
     "end_time": "2024-01-11T05:16:58.395587",
     "exception": false,
     "start_time": "2024-01-11T05:16:58.349812",
     "status": "completed"
    },
    "tags": []
   },
   "outputs": [
    {
     "data": {
      "application/javascript": [
       "parent.postMessage({\"jupyterEvent\": \"custom.exercise_interaction\", \"data\": {\"outcomeType\": 1, \"valueTowardsCompletion\": 0.25, \"interactionType\": 1, \"questionType\": 4, \"questionId\": \"4_Q4\", \"learnToolsVersion\": \"0.3.4\", \"failureMessage\": \"\", \"exceptionClass\": \"\", \"trace\": \"\"}}, \"*\")"
      ],
      "text/plain": [
       "<IPython.core.display.Javascript object>"
      ]
     },
     "metadata": {},
     "output_type": "display_data"
    },
    {
     "data": {
      "text/markdown": [
       "<span style=\"color:#33cc33\">Correct:</span> \n",
       "\n",
       "The early stopping callback did stop the training once the network began overfitting. Moreover, by including `restore_best_weights` we still get to keep the model where validation loss was lowest."
      ],
      "text/plain": [
       "Correct: \n",
       "\n",
       "The early stopping callback did stop the training once the network began overfitting. Moreover, by including `restore_best_weights` we still get to keep the model where validation loss was lowest."
      ]
     },
     "metadata": {},
     "output_type": "display_data"
    }
   ],
   "source": [
    "# View the solution (Run this cell to receive credit!)\n",
    "q_4.check()"
   ]
  },
  {
   "cell_type": "markdown",
   "id": "bf69509e",
   "metadata": {
    "papermill": {
     "duration": 0.034752,
     "end_time": "2024-01-11T05:16:58.465107",
     "exception": false,
     "start_time": "2024-01-11T05:16:58.430355",
     "status": "completed"
    },
    "tags": []
   },
   "source": [
    "If you like, try experimenting with `patience` and `min_delta` to see what difference it might make.\n",
    "\n",
    "もしよろしければ、`patience`と`min_delta`でどんな違いが出るか試してみてください。\n",
    "\n",
    "# Keep Going #\n",
    "\n",
    "Move on to [**learn about a couple of special layers**](https://www.kaggle.com/ryanholbrook/dropout-and-batch-normalization): batch normalization and dropout."
   ]
  },
  {
   "cell_type": "markdown",
   "id": "7fccd763",
   "metadata": {
    "papermill": {
     "duration": 0.033296,
     "end_time": "2024-01-11T05:16:58.532222",
     "exception": false,
     "start_time": "2024-01-11T05:16:58.498926",
     "status": "completed"
    },
    "tags": []
   },
   "source": [
    "---\n",
    "\n",
    "\n",
    "\n",
    "\n",
    "*Have questions or comments? Visit the [course discussion forum](https://www.kaggle.com/learn/intro-to-deep-learning/discussion) to chat with other learners.*"
   ]
  }
 ],
 "metadata": {
  "jupytext": {
   "cell_metadata_filter": "-all",
   "formats": "ipynb"
  },
  "kaggle": {
   "accelerator": "gpu",
   "dataSources": [
    {
     "datasetId": 829369,
     "sourceId": 1480608,
     "sourceType": "datasetVersion"
    }
   ],
   "isGpuEnabled": true,
   "isInternetEnabled": false,
   "language": "python",
   "sourceType": "notebook"
  },
  "kernelspec": {
   "display_name": "Python 3",
   "language": "python",
   "name": "python3"
  },
  "language_info": {
   "codemirror_mode": {
    "name": "ipython",
    "version": 3
   },
   "file_extension": ".py",
   "mimetype": "text/x-python",
   "name": "python",
   "nbconvert_exporter": "python",
   "pygments_lexer": "ipython3",
   "version": "3.10.12"
  },
  "papermill": {
   "default_parameters": {},
   "duration": 45.714014,
   "end_time": "2024-01-11T05:17:01.312363",
   "environment_variables": {},
   "exception": null,
   "input_path": "__notebook__.ipynb",
   "output_path": "__notebook__.ipynb",
   "parameters": {},
   "start_time": "2024-01-11T05:16:15.598349",
   "version": "2.4.0"
  }
 },
 "nbformat": 4,
 "nbformat_minor": 5
}
