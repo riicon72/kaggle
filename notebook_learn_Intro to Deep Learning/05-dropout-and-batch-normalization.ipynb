{
 "cells": [
  {
   "cell_type": "markdown",
   "id": "0d405ef5",
   "metadata": {
    "papermill": {
     "duration": 0.006716,
     "end_time": "2024-01-11T05:16:10.310877",
     "exception": false,
     "start_time": "2024-01-11T05:16:10.304161",
     "status": "completed"
    },
    "tags": []
   },
   "source": [
    "**This notebook is an exercise in the [Intro to Deep Learning](https://www.kaggle.com/learn/intro-to-deep-learning) course.  You can reference the tutorial at [this link](https://www.kaggle.com/ryanholbrook/dropout-and-batch-normalization).**\n",
    "\n",
    "---\n"
   ]
  },
  {
   "cell_type": "markdown",
   "id": "99a42fe6",
   "metadata": {
    "papermill": {
     "duration": 0.00596,
     "end_time": "2024-01-11T05:16:10.323437",
     "exception": false,
     "start_time": "2024-01-11T05:16:10.317477",
     "status": "completed"
    },
    "tags": []
   },
   "source": [
    "# Introduction #\n",
    "\n",
    "In this exercise, you'll add dropout to the *Spotify* model from Exercise 4 and see how batch normalization can let you successfully train models on difficult datasets.\n",
    "\n",
    "Run the next cell to get started!\n",
    "\n",
    "# はじめに #\n",
    "\n",
    "この練習問題では、練習問題4の*Spotify*モデルにドロップアウトを追加し、バッチ正規化によってどのように難しいデータセットでモデルの学習を成功させることができるかを見てみましょう。\n",
    "\n",
    "次のセルを実行して始めてください！"
   ]
  },
  {
   "cell_type": "code",
   "execution_count": 1,
   "id": "31cfe1ca",
   "metadata": {
    "execution": {
     "iopub.execute_input": "2024-01-11T05:16:10.336975Z",
     "iopub.status.busy": "2024-01-11T05:16:10.336661Z",
     "iopub.status.idle": "2024-01-11T05:16:11.069651Z",
     "shell.execute_reply": "2024-01-11T05:16:11.068879Z"
    },
    "papermill": {
     "duration": 0.742219,
     "end_time": "2024-01-11T05:16:11.071830",
     "exception": false,
     "start_time": "2024-01-11T05:16:10.329611",
     "status": "completed"
    },
    "tags": []
   },
   "outputs": [
    {
     "name": "stderr",
     "output_type": "stream",
     "text": [
      "/tmp/ipykernel_26/195640296.py:3: MatplotlibDeprecationWarning: The seaborn styles shipped by Matplotlib are deprecated since 3.6, as they no longer correspond to the styles shipped by seaborn. However, they will remain available as 'seaborn-v0_8-<style>'. Alternatively, directly use the seaborn API instead.\n",
      "  plt.style.use('seaborn-whitegrid')\n"
     ]
    }
   ],
   "source": [
    "# Setup plotting\n",
    "import matplotlib.pyplot as plt\n",
    "plt.style.use('seaborn-whitegrid')\n",
    "# Set Matplotlib defaults\n",
    "plt.rc('figure', autolayout=True)\n",
    "plt.rc('axes', labelweight='bold', labelsize='large',\n",
    "       titleweight='bold', titlesize=18, titlepad=10)\n",
    "plt.rc('animation', html='html5')\n",
    "\n",
    "# Setup feedback system\n",
    "from learntools.core import binder\n",
    "binder.bind(globals())\n",
    "from learntools.deep_learning_intro.ex5 import *"
   ]
  },
  {
   "cell_type": "markdown",
   "id": "f7d029a3",
   "metadata": {
    "papermill": {
     "duration": 0.006221,
     "end_time": "2024-01-11T05:16:11.084552",
     "exception": false,
     "start_time": "2024-01-11T05:16:11.078331",
     "status": "completed"
    },
    "tags": []
   },
   "source": [
    "First load the *Spotify* dataset."
   ]
  },
  {
   "cell_type": "code",
   "execution_count": 2,
   "id": "b26f3bf5",
   "metadata": {
    "execution": {
     "iopub.execute_input": "2024-01-11T05:16:11.098284Z",
     "iopub.status.busy": "2024-01-11T05:16:11.097807Z",
     "iopub.status.idle": "2024-01-11T05:16:23.298282Z",
     "shell.execute_reply": "2024-01-11T05:16:23.297083Z"
    },
    "papermill": {
     "duration": 12.20974,
     "end_time": "2024-01-11T05:16:23.300471",
     "exception": false,
     "start_time": "2024-01-11T05:16:11.090731",
     "status": "completed"
    },
    "tags": []
   },
   "outputs": [
    {
     "name": "stderr",
     "output_type": "stream",
     "text": [
      "/opt/conda/lib/python3.10/site-packages/scipy/__init__.py:146: UserWarning: A NumPy version >=1.16.5 and <1.23.0 is required for this version of SciPy (detected version 1.24.3\n",
      "  warnings.warn(f\"A NumPy version >={np_minversion} and <{np_maxversion}\"\n"
     ]
    },
    {
     "name": "stdout",
     "output_type": "stream",
     "text": [
      "Input shape: [18]\n"
     ]
    }
   ],
   "source": [
    "import pandas as pd\n",
    "from sklearn.preprocessing import StandardScaler, OneHotEncoder\n",
    "from sklearn.compose import make_column_transformer\n",
    "from sklearn.model_selection import GroupShuffleSplit\n",
    "\n",
    "from tensorflow import keras\n",
    "from tensorflow.keras import layers\n",
    "from tensorflow.keras import callbacks\n",
    "\n",
    "spotify = pd.read_csv('../input/dl-course-data/spotify.csv')\n",
    "\n",
    "X = spotify.copy().dropna()\n",
    "y = X.pop('track_popularity')\n",
    "artists = X['track_artist']\n",
    "\n",
    "features_num = ['danceability', 'energy', 'key', 'loudness', 'mode',\n",
    "                'speechiness', 'acousticness', 'instrumentalness',\n",
    "                'liveness', 'valence', 'tempo', 'duration_ms']\n",
    "features_cat = ['playlist_genre']\n",
    "\n",
    "preprocessor = make_column_transformer(\n",
    "    (StandardScaler(), features_num),\n",
    "    (OneHotEncoder(), features_cat),\n",
    ")\n",
    "\n",
    "def group_split(X, y, group, train_size=0.75):\n",
    "    splitter = GroupShuffleSplit(train_size=train_size)\n",
    "    train, test = next(splitter.split(X, y, groups=group))\n",
    "    return (X.iloc[train], X.iloc[test], y.iloc[train], y.iloc[test])\n",
    "\n",
    "X_train, X_valid, y_train, y_valid = group_split(X, y, artists)\n",
    "\n",
    "X_train = preprocessor.fit_transform(X_train)\n",
    "X_valid = preprocessor.transform(X_valid)\n",
    "y_train = y_train / 100\n",
    "y_valid = y_valid / 100\n",
    "\n",
    "input_shape = [X_train.shape[1]]\n",
    "print(\"Input shape: {}\".format(input_shape))"
   ]
  },
  {
   "cell_type": "markdown",
   "id": "cc1f2253",
   "metadata": {
    "papermill": {
     "duration": 0.006193,
     "end_time": "2024-01-11T05:16:23.313701",
     "exception": false,
     "start_time": "2024-01-11T05:16:23.307508",
     "status": "completed"
    },
    "tags": []
   },
   "source": [
    "# 1) Add Dropout to Spotify Model\n",
    "\n",
    "Here is the last model from Exercise 4. Add two dropout layers, one after the `Dense` layer with 128 units, and one after the `Dense` layer with 64 units. Set the dropout rate on both to `0.3`.\n",
    "\n",
    "# その1）Spotifyモデルにドロップアウトを加える\n",
    "\n",
    "練習問題4の最後のモデルです。1つは128ユニットの`Dense`レイヤーの後、もう1つは64ユニットの`Dense`レイヤーの後です。両方のドロップアウト率を `0.3` に設定します。"
   ]
  },
  {
   "cell_type": "code",
   "execution_count": 3,
   "id": "714a7bf6",
   "metadata": {
    "execution": {
     "iopub.execute_input": "2024-01-11T05:16:23.328425Z",
     "iopub.status.busy": "2024-01-11T05:16:23.328010Z",
     "iopub.status.idle": "2024-01-11T05:16:24.311577Z",
     "shell.execute_reply": "2024-01-11T05:16:24.310676Z"
    },
    "lines_to_next_cell": 2,
    "papermill": {
     "duration": 0.993477,
     "end_time": "2024-01-11T05:16:24.313507",
     "exception": false,
     "start_time": "2024-01-11T05:16:23.320030",
     "status": "completed"
    },
    "tags": []
   },
   "outputs": [
    {
     "data": {
      "application/javascript": [
       "parent.postMessage({\"jupyterEvent\": \"custom.exercise_interaction\", \"data\": {\"outcomeType\": 1, \"valueTowardsCompletion\": 0.25, \"interactionType\": 1, \"questionType\": 2, \"questionId\": \"1_Q1\", \"learnToolsVersion\": \"0.3.4\", \"failureMessage\": \"\", \"exceptionClass\": \"\", \"trace\": \"\"}}, \"*\")"
      ],
      "text/plain": [
       "<IPython.core.display.Javascript object>"
      ]
     },
     "metadata": {},
     "output_type": "display_data"
    },
    {
     "data": {
      "text/markdown": [
       "<span style=\"color:#33cc33\">Correct</span>"
      ],
      "text/plain": [
       "Correct"
      ]
     },
     "metadata": {},
     "output_type": "display_data"
    }
   ],
   "source": [
    "# YOUR CODE HERE: Add two 30% dropout layers, one after 128 and one after 64\n",
    "model = keras.Sequential([\n",
    "    layers.Dense(128, activation='relu', input_shape=input_shape),\n",
    "    layers.Dropout(0.3),\n",
    "    layers.Dense(64, activation='relu'),\n",
    "    layers.Dropout(0.3),\n",
    "    layers.Dense(1)\n",
    "])\n",
    "\n",
    "# Check your answer\n",
    "q_1.check()"
   ]
  },
  {
   "cell_type": "code",
   "execution_count": 4,
   "id": "8c7bee92",
   "metadata": {
    "execution": {
     "iopub.execute_input": "2024-01-11T05:16:24.328595Z",
     "iopub.status.busy": "2024-01-11T05:16:24.328300Z",
     "iopub.status.idle": "2024-01-11T05:16:24.336864Z",
     "shell.execute_reply": "2024-01-11T05:16:24.336004Z"
    },
    "papermill": {
     "duration": 0.018254,
     "end_time": "2024-01-11T05:16:24.338812",
     "exception": false,
     "start_time": "2024-01-11T05:16:24.320558",
     "status": "completed"
    },
    "tags": []
   },
   "outputs": [
    {
     "data": {
      "application/javascript": [
       "parent.postMessage({\"jupyterEvent\": \"custom.exercise_interaction\", \"data\": {\"interactionType\": 3, \"questionType\": 2, \"questionId\": \"1_Q1\", \"learnToolsVersion\": \"0.3.4\", \"valueTowardsCompletion\": 0.0, \"failureMessage\": \"\", \"exceptionClass\": \"\", \"trace\": \"\", \"outcomeType\": 4}}, \"*\")"
      ],
      "text/plain": [
       "<IPython.core.display.Javascript object>"
      ]
     },
     "metadata": {},
     "output_type": "display_data"
    },
    {
     "data": {
      "text/markdown": [
       "<span style=\"color:#33cc99\">Solution:</span> \n",
       "```python\n",
       "\n",
       "model = keras.Sequential([\n",
       "    layers.Dense(128, activation='relu', input_shape=input_shape),\n",
       "    layers.Dropout(0.3),\n",
       "    layers.Dense(64, activation='relu'),\n",
       "    layers.Dropout(0.3),\n",
       "    layers.Dense(1)\n",
       "])\n",
       "\n",
       "```"
      ],
      "text/plain": [
       "Solution: \n",
       "```python\n",
       "\n",
       "model = keras.Sequential([\n",
       "    layers.Dense(128, activation='relu', input_shape=input_shape),\n",
       "    layers.Dropout(0.3),\n",
       "    layers.Dense(64, activation='relu'),\n",
       "    layers.Dropout(0.3),\n",
       "    layers.Dense(1)\n",
       "])\n",
       "\n",
       "```"
      ]
     },
     "metadata": {},
     "output_type": "display_data"
    }
   ],
   "source": [
    "# Lines below will give you a hint or solution code\n",
    "#q_1.hint()\n",
    "q_1.solution()"
   ]
  },
  {
   "cell_type": "markdown",
   "id": "eab21c2c",
   "metadata": {
    "papermill": {
     "duration": 0.006709,
     "end_time": "2024-01-11T05:16:24.352467",
     "exception": false,
     "start_time": "2024-01-11T05:16:24.345758",
     "status": "completed"
    },
    "tags": []
   },
   "source": [
    "Now run this next cell to train the model see the effect of adding dropout.\n",
    "次のセルを実行し、モデルを訓練して、ドロップアウトを追加した場合の効果を確認する。"
   ]
  },
  {
   "cell_type": "code",
   "execution_count": 5,
   "id": "6525bb0e",
   "metadata": {
    "execution": {
     "iopub.execute_input": "2024-01-11T05:16:24.367606Z",
     "iopub.status.busy": "2024-01-11T05:16:24.367333Z",
     "iopub.status.idle": "2024-01-11T05:16:35.355388Z",
     "shell.execute_reply": "2024-01-11T05:16:35.354322Z"
    },
    "papermill": {
     "duration": 10.99864,
     "end_time": "2024-01-11T05:16:35.358182",
     "exception": false,
     "start_time": "2024-01-11T05:16:24.359542",
     "status": "completed"
    },
    "tags": []
   },
   "outputs": [
    {
     "name": "stdout",
     "output_type": "stream",
     "text": [
      "Minimum Validation Loss: 0.1933\n"
     ]
    },
    {
     "data": {
      "image/png": "[encoded data removed]",
      "text/plain": [
       "<Figure size 640x480 with 1 Axes>"
      ]
     },
     "metadata": {},
     "output_type": "display_data"
    }
   ],
   "source": [
    "model.compile(\n",
    "    optimizer='adam',\n",
    "    loss='mae',\n",
    ")\n",
    "history = model.fit(\n",
    "    X_train, y_train,\n",
    "    validation_data=(X_valid, y_valid),\n",
    "    batch_size=512,\n",
    "    epochs=50,\n",
    "    verbose=0,\n",
    ")\n",
    "history_df = pd.DataFrame(history.history)\n",
    "history_df.loc[:, ['loss', 'val_loss']].plot()\n",
    "print(\"Minimum Validation Loss: {:0.4f}\".format(history_df['val_loss'].min()))"
   ]
  },
  {
   "cell_type": "markdown",
   "id": "6f7afaa3",
   "metadata": {
    "papermill": {
     "duration": 0.01036,
     "end_time": "2024-01-11T05:16:35.381030",
     "exception": false,
     "start_time": "2024-01-11T05:16:35.370670",
     "status": "completed"
    },
    "tags": []
   },
   "source": [
    "# 2) Evaluate Dropout\n",
    "\n",
    "Recall from Exercise 4 that this model tended to overfit the data around epoch 5. Did adding dropout seem to help prevent overfitting this time?\n",
    "\n",
    "# 2) ドロップアウトの評価\n",
    "\n",
    "練習問題4で、このモデルはエポック5あたりでデータにオーバーフィットする傾向があったことを思い出してください。今回、ドロップアウトを追加することで、オーバーフィットを防ぐことができたでしょうか？"
   ]
  },
  {
   "cell_type": "code",
   "execution_count": 6,
   "id": "4950a9e1",
   "metadata": {
    "execution": {
     "iopub.execute_input": "2024-01-11T05:16:35.401416Z",
     "iopub.status.busy": "2024-01-11T05:16:35.400399Z",
     "iopub.status.idle": "2024-01-11T05:16:35.408131Z",
     "shell.execute_reply": "2024-01-11T05:16:35.407274Z"
    },
    "papermill": {
     "duration": 0.018702,
     "end_time": "2024-01-11T05:16:35.410202",
     "exception": false,
     "start_time": "2024-01-11T05:16:35.391500",
     "status": "completed"
    },
    "tags": []
   },
   "outputs": [
    {
     "data": {
      "application/javascript": [
       "parent.postMessage({\"jupyterEvent\": \"custom.exercise_interaction\", \"data\": {\"outcomeType\": 1, \"valueTowardsCompletion\": 0.25, \"interactionType\": 1, \"questionType\": 4, \"questionId\": \"2_Q2\", \"learnToolsVersion\": \"0.3.4\", \"failureMessage\": \"\", \"exceptionClass\": \"\", \"trace\": \"\"}}, \"*\")"
      ],
      "text/plain": [
       "<IPython.core.display.Javascript object>"
      ]
     },
     "metadata": {},
     "output_type": "display_data"
    },
    {
     "data": {
      "text/markdown": [
       "<span style=\"color:#33cc33\">Correct:</span> \n",
       "\n",
       "\n",
       "From the learning curves, you can see that the validation loss remains near a constant minimum even though the training loss continues to decrease. So we can see that adding dropout did prevent overfitting this time. Moreover, by making it harder for the network to fit spurious patterns, dropout may have encouraged the network to seek out more of the true patterns, possibly improving the validation loss some as well).\n"
      ],
      "text/plain": [
       "Correct: \n",
       "\n",
       "\n",
       "From the learning curves, you can see that the validation loss remains near a constant minimum even though the training loss continues to decrease. So we can see that adding dropout did prevent overfitting this time. Moreover, by making it harder for the network to fit spurious patterns, dropout may have encouraged the network to seek out more of the true patterns, possibly improving the validation loss some as well)."
      ]
     },
     "metadata": {},
     "output_type": "display_data"
    }
   ],
   "source": [
    "# View the solution (Run this cell to receive credit!)\n",
    "q_2.check()"
   ]
  },
  {
   "cell_type": "markdown",
   "id": "0c998194",
   "metadata": {
    "papermill": {
     "duration": 0.007558,
     "end_time": "2024-01-11T05:16:35.425566",
     "exception": false,
     "start_time": "2024-01-11T05:16:35.418008",
     "status": "completed"
    },
    "tags": []
   },
   "source": [
    "Now, we'll switch topics to explore how batch normalization can fix problems in training.\n",
    "\n",
    "Load the *Concrete* dataset. We won't do any standardization this time. This will make the effect of batch normalization much more apparent.\n",
    "\n",
    "さて、話題を変えて、バッチ正規化がトレーニングにおける問題をどのように解決できるかを探ってみよう。\n",
    "\n",
    "コンクリート*データセットをロードする。今回は標準化を行わない。そうすることで、バッチ正規化の効果がより明確になる。"
   ]
  },
  {
   "cell_type": "code",
   "execution_count": 7,
   "id": "b24cb655",
   "metadata": {
    "execution": {
     "iopub.execute_input": "2024-01-11T05:16:35.443146Z",
     "iopub.status.busy": "2024-01-11T05:16:35.442455Z",
     "iopub.status.idle": "2024-01-11T05:16:35.461769Z",
     "shell.execute_reply": "2024-01-11T05:16:35.461083Z"
    },
    "papermill": {
     "duration": 0.029925,
     "end_time": "2024-01-11T05:16:35.463653",
     "exception": false,
     "start_time": "2024-01-11T05:16:35.433728",
     "status": "completed"
    },
    "tags": []
   },
   "outputs": [],
   "source": [
    "import pandas as pd\n",
    "\n",
    "concrete = pd.read_csv('../input/dl-course-data/concrete.csv')\n",
    "df = concrete.copy()\n",
    "\n",
    "df_train = df.sample(frac=0.7, random_state=0)\n",
    "df_valid = df.drop(df_train.index)\n",
    "\n",
    "X_train = df_train.drop('CompressiveStrength', axis=1)\n",
    "X_valid = df_valid.drop('CompressiveStrength', axis=1)\n",
    "y_train = df_train['CompressiveStrength']\n",
    "y_valid = df_valid['CompressiveStrength']\n",
    "\n",
    "input_shape = [X_train.shape[1]]"
   ]
  },
  {
   "cell_type": "markdown",
   "id": "0873689c",
   "metadata": {
    "papermill": {
     "duration": 0.007758,
     "end_time": "2024-01-11T05:16:35.479963",
     "exception": false,
     "start_time": "2024-01-11T05:16:35.472205",
     "status": "completed"
    },
    "tags": []
   },
   "source": [
    "Run the following cell to train the network on the unstandardized *Concrete* data.\n",
    "\n",
    "以下のセルを実行して、標準化されていない*Concrete*データでネットワークを訓練する。"
   ]
  },
  {
   "cell_type": "code",
   "execution_count": 8,
   "id": "89d6cd0d",
   "metadata": {
    "execution": {
     "iopub.execute_input": "2024-01-11T05:16:35.497507Z",
     "iopub.status.busy": "2024-01-11T05:16:35.496930Z",
     "iopub.status.idle": "2024-01-11T05:16:42.779214Z",
     "shell.execute_reply": "2024-01-11T05:16:42.778287Z"
    },
    "papermill": {
     "duration": 7.293154,
     "end_time": "2024-01-11T05:16:42.781322",
     "exception": false,
     "start_time": "2024-01-11T05:16:35.488168",
     "status": "completed"
    },
    "tags": []
   },
   "outputs": [
    {
     "name": "stdout",
     "output_type": "stream",
     "text": [
      "Minimum Validation Loss: nan\n"
     ]
    },
    {
     "data": {
      "image/png": "[encoded data removed]",
      "text/plain": [
       "<Figure size 640x480 with 1 Axes>"
      ]
     },
     "metadata": {},
     "output_type": "display_data"
    }
   ],
   "source": [
    "model = keras.Sequential([\n",
    "    layers.Dense(512, activation='relu', input_shape=input_shape),\n",
    "    layers.Dense(512, activation='relu'),    \n",
    "    layers.Dense(512, activation='relu'),\n",
    "    layers.Dense(1),\n",
    "])\n",
    "model.compile(\n",
    "    optimizer='sgd', # SGD is more sensitive to differences of scale\n",
    "    loss='mae',\n",
    "    metrics=['mae'],\n",
    ")\n",
    "history = model.fit(\n",
    "    X_train, y_train,\n",
    "    validation_data=(X_valid, y_valid),\n",
    "    batch_size=64,\n",
    "    epochs=100,\n",
    "    verbose=0,\n",
    ")\n",
    "\n",
    "history_df = pd.DataFrame(history.history)\n",
    "history_df.loc[0:, ['loss', 'val_loss']].plot()\n",
    "print((\"Minimum Validation Loss: {:0.4f}\").format(history_df['val_loss'].min()))"
   ]
  },
  {
   "cell_type": "markdown",
   "id": "f37499e1",
   "metadata": {
    "papermill": {
     "duration": 0.008066,
     "end_time": "2024-01-11T05:16:42.797932",
     "exception": false,
     "start_time": "2024-01-11T05:16:42.789866",
     "status": "completed"
    },
    "tags": []
   },
   "source": [
    "Did you end up with a blank graph? Trying to train this network on this dataset will usually fail. Even when it does converge (due to a lucky weight initialization), it tends to converge to a very large number.\n",
    "\n",
    "# 3) Add Batch Normalization Layers\n",
    "\n",
    "Batch normalization can help correct problems like this.\n",
    "\n",
    "Add four `BatchNormalization` layers, one before each of the dense layers. (Remember to move the `input_shape` argument to the new first layer.)\n",
    "\n",
    "グラフが真っ白になりましたか？このデータセットでこのネットワークを訓練しようとすると、たいてい失敗する。収束する場合でも（幸運な重みの初期化によって）、非常に大きな数に収束する傾向がある。\n",
    "\n",
    "# その3）バッチ正規化レイヤーを追加する\n",
    "\n",
    "バッチ正規化は、このような問題を修正するのに役立ちます。\n",
    "\n",
    "4つの `BatchNormalization` レイヤーを、各密なレイヤーの前に1つずつ追加する。(引数 `input_shape` を新しい最初のレイヤーに移動することを忘れないこと)。"
   ]
  },
  {
   "cell_type": "code",
   "execution_count": 9,
   "id": "8690b313",
   "metadata": {
    "execution": {
     "iopub.execute_input": "2024-01-11T05:16:42.815691Z",
     "iopub.status.busy": "2024-01-11T05:16:42.814926Z",
     "iopub.status.idle": "2024-01-11T05:16:42.925349Z",
     "shell.execute_reply": "2024-01-11T05:16:42.924400Z"
    },
    "lines_to_next_cell": 0,
    "papermill": {
     "duration": 0.121456,
     "end_time": "2024-01-11T05:16:42.927407",
     "exception": false,
     "start_time": "2024-01-11T05:16:42.805951",
     "status": "completed"
    },
    "tags": []
   },
   "outputs": [
    {
     "data": {
      "application/javascript": [
       "parent.postMessage({\"jupyterEvent\": \"custom.exercise_interaction\", \"data\": {\"outcomeType\": 1, \"valueTowardsCompletion\": 0.25, \"interactionType\": 1, \"questionType\": 2, \"questionId\": \"3_Q3\", \"learnToolsVersion\": \"0.3.4\", \"failureMessage\": \"\", \"exceptionClass\": \"\", \"trace\": \"\"}}, \"*\")"
      ],
      "text/plain": [
       "<IPython.core.display.Javascript object>"
      ]
     },
     "metadata": {},
     "output_type": "display_data"
    },
    {
     "data": {
      "text/markdown": [
       "<span style=\"color:#33cc33\">Correct</span>"
      ],
      "text/plain": [
       "Correct"
      ]
     },
     "metadata": {},
     "output_type": "display_data"
    }
   ],
   "source": [
    "# YOUR CODE HERE: Add a BatchNormalization layer before each Dense layer\n",
    "model = keras.Sequential([\n",
    "    layers.BatchNormalization(input_shape=input_shape),\n",
    "    layers.Dense(512, activation='relu'),\n",
    "    layers.BatchNormalization(),\n",
    "    layers.Dense(512, activation='relu'),\n",
    "    layers.BatchNormalization(),\n",
    "    layers.Dense(512, activation='relu'),\n",
    "    layers.BatchNormalization(),\n",
    "    layers.Dense(1),\n",
    "])\n",
    "\n",
    "# Check your answer\n",
    "q_3.check()"
   ]
  },
  {
   "cell_type": "code",
   "execution_count": 10,
   "id": "bce2fd05",
   "metadata": {
    "execution": {
     "iopub.execute_input": "2024-01-11T05:16:42.945745Z",
     "iopub.status.busy": "2024-01-11T05:16:42.945460Z",
     "iopub.status.idle": "2024-01-11T05:16:42.952669Z",
     "shell.execute_reply": "2024-01-11T05:16:42.951767Z"
    },
    "papermill": {
     "duration": 0.018691,
     "end_time": "2024-01-11T05:16:42.954702",
     "exception": false,
     "start_time": "2024-01-11T05:16:42.936011",
     "status": "completed"
    },
    "tags": []
   },
   "outputs": [
    {
     "data": {
      "application/javascript": [
       "parent.postMessage({\"jupyterEvent\": \"custom.exercise_interaction\", \"data\": {\"interactionType\": 3, \"questionType\": 2, \"questionId\": \"3_Q3\", \"learnToolsVersion\": \"0.3.4\", \"valueTowardsCompletion\": 0.0, \"failureMessage\": \"\", \"exceptionClass\": \"\", \"trace\": \"\", \"outcomeType\": 4}}, \"*\")"
      ],
      "text/plain": [
       "<IPython.core.display.Javascript object>"
      ]
     },
     "metadata": {},
     "output_type": "display_data"
    },
    {
     "data": {
      "text/markdown": [
       "<span style=\"color:#33cc99\">Solution:</span> \n",
       "```python\n",
       "\n",
       "model = keras.Sequential([\n",
       "    layers.BatchNormalization(input_shape=input_shape),\n",
       "    layers.Dense(512, activation='relu'),\n",
       "    layers.BatchNormalization(),\n",
       "    layers.Dense(512, activation='relu'),\n",
       "    layers.BatchNormalization(),\n",
       "    layers.Dense(512, activation='relu'),\n",
       "    layers.BatchNormalization(),\n",
       "    layers.Dense(1),\n",
       "])\n",
       "\n",
       "```"
      ],
      "text/plain": [
       "Solution: \n",
       "```python\n",
       "\n",
       "model = keras.Sequential([\n",
       "    layers.BatchNormalization(input_shape=input_shape),\n",
       "    layers.Dense(512, activation='relu'),\n",
       "    layers.BatchNormalization(),\n",
       "    layers.Dense(512, activation='relu'),\n",
       "    layers.BatchNormalization(),\n",
       "    layers.Dense(512, activation='relu'),\n",
       "    layers.BatchNormalization(),\n",
       "    layers.Dense(1),\n",
       "])\n",
       "\n",
       "```"
      ]
     },
     "metadata": {},
     "output_type": "display_data"
    }
   ],
   "source": [
    "# Lines below will give you a hint or solution code\n",
    "#q_3.hint()\n",
    "q_3.solution()"
   ]
  },
  {
   "cell_type": "markdown",
   "id": "010d7e08",
   "metadata": {
    "papermill": {
     "duration": 0.00843,
     "end_time": "2024-01-11T05:16:42.971727",
     "exception": false,
     "start_time": "2024-01-11T05:16:42.963297",
     "status": "completed"
    },
    "tags": []
   },
   "source": [
    "Run the next cell to see if batch normalization will let us train the model.\n",
    "\n",
    "次のセルを実行し、バッチ正規化でモデルを訓練できるかどうかを確認する。"
   ]
  },
  {
   "cell_type": "code",
   "execution_count": 11,
   "id": "773dfb17",
   "metadata": {
    "execution": {
     "iopub.execute_input": "2024-01-11T05:16:42.990170Z",
     "iopub.status.busy": "2024-01-11T05:16:42.989856Z",
     "iopub.status.idle": "2024-01-11T05:16:53.385734Z",
     "shell.execute_reply": "2024-01-11T05:16:53.384686Z"
    },
    "papermill": {
     "duration": 10.407405,
     "end_time": "2024-01-11T05:16:53.387777",
     "exception": false,
     "start_time": "2024-01-11T05:16:42.980372",
     "status": "completed"
    },
    "tags": []
   },
   "outputs": [
    {
     "name": "stdout",
     "output_type": "stream",
     "text": [
      "Minimum Validation Loss: 3.8038\n"
     ]
    },
    {
     "data": {
      "image/png": "[encoded data removed]",
      "text/plain": [
       "<Figure size 640x480 with 1 Axes>"
      ]
     },
     "metadata": {},
     "output_type": "display_data"
    }
   ],
   "source": [
    "model.compile(\n",
    "    optimizer='sgd',\n",
    "    loss='mae',\n",
    "    metrics=['mae'],\n",
    ")\n",
    "EPOCHS = 100\n",
    "history = model.fit(\n",
    "    X_train, y_train,\n",
    "    validation_data=(X_valid, y_valid),\n",
    "    batch_size=64,\n",
    "    epochs=EPOCHS,\n",
    "    verbose=0,\n",
    ")\n",
    "\n",
    "history_df = pd.DataFrame(history.history)\n",
    "history_df.loc[0:, ['loss', 'val_loss']].plot()\n",
    "print((\"Minimum Validation Loss: {:0.4f}\").format(history_df['val_loss'].min()))"
   ]
  },
  {
   "cell_type": "markdown",
   "id": "5fa6b5a4",
   "metadata": {
    "papermill": {
     "duration": 0.009584,
     "end_time": "2024-01-11T05:16:53.407172",
     "exception": false,
     "start_time": "2024-01-11T05:16:53.397588",
     "status": "completed"
    },
    "tags": []
   },
   "source": [
    "# 4) Evaluate Batch Normalization\n",
    "\n",
    "Did adding batch normalization help?\n",
    "\n",
    "# 4) バッチ正規化の評価\n",
    "\n",
    "バッチ正規化は役に立ったか？\n"
   ]
  },
  {
   "cell_type": "code",
   "execution_count": 12,
   "id": "1e20c06f",
   "metadata": {
    "execution": {
     "iopub.execute_input": "2024-01-11T05:16:53.428631Z",
     "iopub.status.busy": "2024-01-11T05:16:53.427903Z",
     "iopub.status.idle": "2024-01-11T05:16:53.436442Z",
     "shell.execute_reply": "2024-01-11T05:16:53.434692Z"
    },
    "lines_to_next_cell": 0,
    "papermill": {
     "duration": 0.021519,
     "end_time": "2024-01-11T05:16:53.438594",
     "exception": false,
     "start_time": "2024-01-11T05:16:53.417075",
     "status": "completed"
    },
    "tags": []
   },
   "outputs": [
    {
     "data": {
      "application/javascript": [
       "parent.postMessage({\"jupyterEvent\": \"custom.exercise_interaction\", \"data\": {\"outcomeType\": 1, \"valueTowardsCompletion\": 0.25, \"interactionType\": 1, \"questionType\": 4, \"questionId\": \"4_Q4\", \"learnToolsVersion\": \"0.3.4\", \"failureMessage\": \"\", \"exceptionClass\": \"\", \"trace\": \"\"}}, \"*\")"
      ],
      "text/plain": [
       "<IPython.core.display.Javascript object>"
      ]
     },
     "metadata": {},
     "output_type": "display_data"
    },
    {
     "data": {
      "text/markdown": [
       "<span style=\"color:#33cc33\">Correct:</span> \n",
       "\n",
       "\n",
       "You can see that adding batch normalization was a big improvement on the first attempt! By adaptively scaling the data as it passes through the network, batch normalization can let you train models on difficult datasets.\n"
      ],
      "text/plain": [
       "Correct: \n",
       "\n",
       "\n",
       "You can see that adding batch normalization was a big improvement on the first attempt! By adaptively scaling the data as it passes through the network, batch normalization can let you train models on difficult datasets."
      ]
     },
     "metadata": {},
     "output_type": "display_data"
    }
   ],
   "source": [
    "# View the solution (Run this cell to receive credit!)\n",
    "q_4.check()"
   ]
  },
  {
   "cell_type": "markdown",
   "id": "a01704c2",
   "metadata": {
    "papermill": {
     "duration": 0.009639,
     "end_time": "2024-01-11T05:16:53.458826",
     "exception": false,
     "start_time": "2024-01-11T05:16:53.449187",
     "status": "completed"
    },
    "tags": []
   },
   "source": [
    "# Keep Going #\n",
    "\n",
    "[**Create neural networks**](https://www.kaggle.com/ryanholbrook/binary-classification) for binary classification."
   ]
  },
  {
   "cell_type": "markdown",
   "id": "9f6eb7b0",
   "metadata": {
    "papermill": {
     "duration": 0.010083,
     "end_time": "2024-01-11T05:16:53.478867",
     "exception": false,
     "start_time": "2024-01-11T05:16:53.468784",
     "status": "completed"
    },
    "tags": []
   },
   "source": [
    "---\n",
    "\n",
    "\n",
    "\n",
    "\n",
    "*Have questions or comments? Visit the [course discussion forum](https://www.kaggle.com/learn/intro-to-deep-learning/discussion) to chat with other learners.*"
   ]
  }
 ],
 "metadata": {
  "jupytext": {
   "cell_metadata_filter": "-all",
   "formats": "ipynb"
  },
  "kaggle": {
   "accelerator": "gpu",
   "dataSources": [
    {
     "datasetId": 829369,
     "sourceId": 1480608,
     "sourceType": "datasetVersion"
    }
   ],
   "isGpuEnabled": true,
   "isInternetEnabled": false,
   "language": "python",
   "sourceType": "notebook"
  },
  "kernelspec": {
   "display_name": "Python 3",
   "language": "python",
   "name": "python3"
  },
  "language_info": {
   "codemirror_mode": {
    "name": "ipython",
    "version": 3
   },
   "file_extension": ".py",
   "mimetype": "text/x-python",
   "name": "python",
   "nbconvert_exporter": "python",
   "pygments_lexer": "ipython3",
   "version": "3.10.12"
  },
  "papermill": {
   "default_parameters": {},
   "duration": 49.535344,
   "end_time": "2024-01-11T05:16:56.450559",
   "environment_variables": {},
   "exception": null,
   "input_path": "__notebook__.ipynb",
   "output_path": "__notebook__.ipynb",
   "parameters": {},
   "start_time": "2024-01-11T05:16:06.915215",
   "version": "2.4.0"
  }
 },
 "nbformat": 4,
 "nbformat_minor": 5
}
