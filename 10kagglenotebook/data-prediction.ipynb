{
 "cells": [
  {
   "cell_type": "code",
   "execution_count": 1,
   "id": "8cd8c84d",
   "metadata": {
    "execution": {
     "iopub.execute_input": "2024-09-30T13:54:39.915684Z",
     "iopub.status.busy": "2024-09-30T13:54:39.915241Z",
     "iopub.status.idle": "2024-09-30T13:54:43.285115Z",
     "shell.execute_reply": "2024-09-30T13:54:43.284045Z"
    },
    "papermill": {
     "duration": 3.37786,
     "end_time": "2024-09-30T13:54:43.287892",
     "exception": false,
     "start_time": "2024-09-30T13:54:39.910032",
     "status": "completed"
    },
    "tags": []
   },
   "outputs": [],
   "source": [
    "import pandas as pd\n",
    "import numpy as np\n",
    "import matplotlib.pyplot as plt\n",
    "import seaborn as sns\n",
    "import plotly.graph_objects as go\n",
    "import seaborn as sns\n",
    "import folium"
   ]
  },
  {
   "cell_type": "code",
   "execution_count": 2,
   "id": "cf57d20a",
   "metadata": {
    "execution": {
     "iopub.execute_input": "2024-09-30T13:54:43.296109Z",
     "iopub.status.busy": "2024-09-30T13:54:43.295458Z",
     "iopub.status.idle": "2024-09-30T13:54:44.546549Z",
     "shell.execute_reply": "2024-09-30T13:54:44.545376Z"
    },
    "papermill": {
     "duration": 1.258041,
     "end_time": "2024-09-30T13:54:44.549204",
     "exception": false,
     "start_time": "2024-09-30T13:54:43.291163",
     "status": "completed"
    },
    "tags": []
   },
   "outputs": [
    {
     "data": {
      "text/html": [
       "<div>\n",
       "<style scoped>\n",
       "    .dataframe tbody tr th:only-of-type {\n",
       "        vertical-align: middle;\n",
       "    }\n",
       "\n",
       "    .dataframe tbody tr th {\n",
       "        vertical-align: top;\n",
       "    }\n",
       "\n",
       "    .dataframe thead th {\n",
       "        text-align: right;\n",
       "    }\n",
       "</style>\n",
       "<table border=\"1\" class=\"dataframe\">\n",
       "  <thead>\n",
       "    <tr style=\"text-align: right;\">\n",
       "      <th></th>\n",
       "      <th>Species Name</th>\n",
       "      <th>Years Lived (Million Years)</th>\n",
       "      <th>Extinction Reason</th>\n",
       "    </tr>\n",
       "  </thead>\n",
       "  <tbody>\n",
       "    <tr>\n",
       "      <th>0</th>\n",
       "      <td>Trilobite</td>\n",
       "      <td>337.75</td>\n",
       "      <td>Human Impact</td>\n",
       "    </tr>\n",
       "    <tr>\n",
       "      <th>1</th>\n",
       "      <td>Smilodon</td>\n",
       "      <td>311.57</td>\n",
       "      <td>Natural Disaster</td>\n",
       "    </tr>\n",
       "    <tr>\n",
       "      <th>2</th>\n",
       "      <td>Dodo</td>\n",
       "      <td>67.49</td>\n",
       "      <td>Mass Extinction</td>\n",
       "    </tr>\n",
       "  </tbody>\n",
       "</table>\n",
       "</div>"
      ],
      "text/plain": [
       "  Species Name  Years Lived (Million Years) Extinction Reason\n",
       "0    Trilobite                       337.75      Human Impact\n",
       "1     Smilodon                       311.57  Natural Disaster\n",
       "2         Dodo                        67.49   Mass Extinction"
      ]
     },
     "execution_count": 2,
     "metadata": {},
     "output_type": "execute_result"
    }
   ],
   "source": [
    "df = pd.read_csv('/kaggle/input/extinction-of-a-species-data/extinct_species_dataset.csv')\n",
    "df.head(3)"
   ]
  },
  {
   "cell_type": "code",
   "execution_count": 3,
   "id": "f7c57660",
   "metadata": {
    "execution": {
     "iopub.execute_input": "2024-09-30T13:54:44.557331Z",
     "iopub.status.busy": "2024-09-30T13:54:44.556940Z",
     "iopub.status.idle": "2024-09-30T13:54:44.563884Z",
     "shell.execute_reply": "2024-09-30T13:54:44.562792Z"
    },
    "papermill": {
     "duration": 0.014463,
     "end_time": "2024-09-30T13:54:44.566968",
     "exception": false,
     "start_time": "2024-09-30T13:54:44.552505",
     "status": "completed"
    },
    "tags": []
   },
   "outputs": [
    {
     "data": {
      "text/plain": [
       "1000000"
      ]
     },
     "execution_count": 3,
     "metadata": {},
     "output_type": "execute_result"
    }
   ],
   "source": [
    "len(df)"
   ]
  },
  {
   "cell_type": "code",
   "execution_count": 4,
   "id": "ad2b6706",
   "metadata": {
    "execution": {
     "iopub.execute_input": "2024-09-30T13:54:44.575524Z",
     "iopub.status.busy": "2024-09-30T13:54:44.575108Z",
     "iopub.status.idle": "2024-09-30T13:54:44.928704Z",
     "shell.execute_reply": "2024-09-30T13:54:44.926224Z"
    },
    "papermill": {
     "duration": 0.367026,
     "end_time": "2024-09-30T13:54:44.937433",
     "exception": false,
     "start_time": "2024-09-30T13:54:44.570407",
     "status": "completed"
    },
    "tags": []
   },
   "outputs": [
    {
     "name": "stderr",
     "output_type": "stream",
     "text": [
      "/opt/conda/lib/python3.10/site-packages/IPython/core/pylabtools.py:152: UserWarning: Glyph 32118 (\\N{CJK UNIFIED IDEOGRAPH-7D76}) missing from current font.\n",
      "  fig.canvas.print_figure(bytes_io, **kw)\n",
      "/opt/conda/lib/python3.10/site-packages/IPython/core/pylabtools.py:152: UserWarning: Glyph 28357 (\\N{CJK UNIFIED IDEOGRAPH-6EC5}) missing from current font.\n",
      "  fig.canvas.print_figure(bytes_io, **kw)\n",
      "/opt/conda/lib/python3.10/site-packages/IPython/core/pylabtools.py:152: UserWarning: Glyph 29702 (\\N{CJK UNIFIED IDEOGRAPH-7406}) missing from current font.\n",
      "  fig.canvas.print_figure(bytes_io, **kw)\n",
      "/opt/conda/lib/python3.10/site-packages/IPython/core/pylabtools.py:152: UserWarning: Glyph 30001 (\\N{CJK UNIFIED IDEOGRAPH-7531}) missing from current font.\n",
      "  fig.canvas.print_figure(bytes_io, **kw)\n",
      "/opt/conda/lib/python3.10/site-packages/IPython/core/pylabtools.py:152: UserWarning: Glyph 12398 (\\N{HIRAGANA LETTER NO}) missing from current font.\n",
      "  fig.canvas.print_figure(bytes_io, **kw)\n",
      "/opt/conda/lib/python3.10/site-packages/IPython/core/pylabtools.py:152: UserWarning: Glyph 20869 (\\N{CJK UNIFIED IDEOGRAPH-5185}) missing from current font.\n",
      "  fig.canvas.print_figure(bytes_io, **kw)\n",
      "/opt/conda/lib/python3.10/site-packages/IPython/core/pylabtools.py:152: UserWarning: Glyph 35379 (\\N{CJK UNIFIED IDEOGRAPH-8A33}) missing from current font.\n",
      "  fig.canvas.print_figure(bytes_io, **kw)\n"
     ]
    },
    {
     "data": {
      "image/png": "[encoded data removed]",
      "text/plain": [
       "<Figure size 300x400 with 1 Axes>"
      ]
     },
     "metadata": {},
     "output_type": "display_data"
    }
   ],
   "source": [
    "# Randomly sample 10,000 rows\n",
    "df_sampled = df.sample(n=10000, random_state=42)\n",
    "\n",
    "# Display the first 3 rows of the sampled dataset\n",
    "df_sampled.head(3)\n",
    "    # 生存年数の棒グラフ (各チャンクで処理する場合)\n",
    "plt.figure(figsize=(3, 4))\n",
    "extinction_reason_counts = df_sampled['Extinction Reason'].value_counts()\n",
    "plt.pie(extinction_reason_counts, labels=extinction_reason_counts.index, autopct='%1.1f%%', colors=['lightcoral', 'gold', 'lightskyblue'])\n",
    "plt.title('絶滅理由の内訳')\n",
    "plt.show()"
   ]
  },
  {
   "cell_type": "code",
   "execution_count": null,
   "id": "aeed6fff",
   "metadata": {
    "papermill": {
     "duration": 0.006401,
     "end_time": "2024-09-30T13:54:44.951038",
     "exception": false,
     "start_time": "2024-09-30T13:54:44.944637",
     "status": "completed"
    },
    "tags": []
   },
   "outputs": [],
   "source": []
  }
 ],
 "metadata": {
  "kaggle": {
   "accelerator": "none",
   "dataSources": [
    {
     "datasetId": 5678186,
     "sourceId": 9364214,
     "sourceType": "datasetVersion"
    }
   ],
   "dockerImageVersionId": 30775,
   "isGpuEnabled": false,
   "isInternetEnabled": true,
   "language": "python",
   "sourceType": "notebook"
  },
  "kernelspec": {
   "display_name": "Python 3",
   "language": "python",
   "name": "python3"
  },
  "language_info": {
   "codemirror_mode": {
    "name": "ipython",
    "version": 3
   },
   "file_extension": ".py",
   "mimetype": "text/x-python",
   "name": "python",
   "nbconvert_exporter": "python",
   "pygments_lexer": "ipython3",
   "version": "3.10.14"
  },
  "papermill": {
   "default_parameters": {},
   "duration": 8.989757,
   "end_time": "2024-09-30T13:54:45.681184",
   "environment_variables": {},
   "exception": null,
   "input_path": "__notebook__.ipynb",
   "output_path": "__notebook__.ipynb",
   "parameters": {},
   "start_time": "2024-09-30T13:54:36.691427",
   "version": "2.6.0"
  }
 },
 "nbformat": 4,
 "nbformat_minor": 5
}
