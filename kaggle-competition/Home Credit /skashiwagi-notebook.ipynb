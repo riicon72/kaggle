{
 "cells": [
  {
   "cell_type": "code",
   "execution_count": 1,
   "id": "6003a0ef",
   "metadata": {
    "_cell_guid": "b1076dfc-b9ad-4769-8c92-a6c4dae69d19",
    "_uuid": "8f2839f25d086af736a60e9eeb907d3b93b6e0e5",
    "execution": {
     "iopub.execute_input": "2024-04-07T11:19:50.140446Z",
     "iopub.status.busy": "2024-04-07T11:19:50.139923Z",
     "iopub.status.idle": "2024-04-07T11:19:59.813862Z",
     "shell.execute_reply": "2024-04-07T11:19:59.813086Z"
    },
    "papermill": {
     "duration": 9.686674,
     "end_time": "2024-04-07T11:19:59.816193",
     "exception": false,
     "start_time": "2024-04-07T11:19:50.129519",
     "status": "completed"
    },
    "tags": []
   },
   "outputs": [
    {
     "name": "stderr",
     "output_type": "stream",
     "text": [
      "/opt/conda/lib/python3.10/site-packages/dask/dataframe/_pyarrow_compat.py:23: UserWarning: You are using pyarrow version 11.0.0 which is known to be insecure. See https://www.cve.org/CVERecord?id=CVE-2023-47248 for further details. Please upgrade to pyarrow>=14.0.1 or install pyarrow-hotfix to patch your current version.\n",
      "  warnings.warn(\n"
     ]
    }
   ],
   "source": [
    "# Note: I'm looking for a job in Europe, if you like my work don't hesitate to reach =)\n",
    "\n",
    "import os\n",
    "import gc\n",
    "from glob import glob\n",
    "from pathlib import Path\n",
    "from datetime import datetime\n",
    "\n",
    "import numpy as np\n",
    "import pandas as pd\n",
    "import polars as pl\n",
    "\n",
    "import matplotlib.pyplot as plt\n",
    "import seaborn as sns\n",
    "\n",
    "from sklearn.model_selection import StratifiedGroupKFold\n",
    "from sklearn.base import BaseEstimator, ClassifierMixin\n",
    "\n",
    "import lightgbm as lgb\n",
    "\n",
    "import warnings\n",
    "warnings.simplefilter(action='ignore', category=FutureWarning)"
   ]
  },
  {
   "cell_type": "code",
   "execution_count": 2,
   "id": "ae05aab9",
   "metadata": {
    "execution": {
     "iopub.execute_input": "2024-04-07T11:19:59.832196Z",
     "iopub.status.busy": "2024-04-07T11:19:59.831896Z",
     "iopub.status.idle": "2024-04-07T11:19:59.838402Z",
     "shell.execute_reply": "2024-04-07T11:19:59.837479Z"
    },
    "papermill": {
     "duration": 0.016556,
     "end_time": "2024-04-07T11:19:59.840256",
     "exception": false,
     "start_time": "2024-04-07T11:19:59.823700",
     "status": "completed"
    },
    "tags": []
   },
   "outputs": [],
   "source": [
    "class VotingModel(BaseEstimator, ClassifierMixin):\n",
    "    def __init__(self, estimators):\n",
    "        super().__init__()\n",
    "        self.estimators = estimators\n",
    "        \n",
    "    def fit(self, X, y=None):\n",
    "        return self\n",
    "    \n",
    "    def predict(self, X):\n",
    "        y_preds = [estimator.predict(X) for estimator in self.estimators]\n",
    "        return np.mean(y_preds, axis=0)\n",
    "    \n",
    "    def predict_proba(self, X):\n",
    "        y_preds = [estimator.predict_proba(X) for estimator in self.estimators]\n",
    "        return np.mean(y_preds, axis=0)"
   ]
  },
  {
   "cell_type": "code",
   "execution_count": 3,
   "id": "517b1329",
   "metadata": {
    "execution": {
     "iopub.execute_input": "2024-04-07T11:19:59.855736Z",
     "iopub.status.busy": "2024-04-07T11:19:59.855466Z",
     "iopub.status.idle": "2024-04-07T11:19:59.868975Z",
     "shell.execute_reply": "2024-04-07T11:19:59.868258Z"
    },
    "papermill": {
     "duration": 0.022948,
     "end_time": "2024-04-07T11:19:59.870846",
     "exception": false,
     "start_time": "2024-04-07T11:19:59.847898",
     "status": "completed"
    },
    "tags": []
   },
   "outputs": [],
   "source": [
    "class Pipeline:\n",
    "    @staticmethod\n",
    "    def set_table_dtypes(df):\n",
    "        for col in df.columns:\n",
    "            if col in [\"case_id\", \"WEEK_NUM\", \"num_group1\", \"num_group2\"]:\n",
    "                df = df.with_columns(pl.col(col).cast(pl.Int32))\n",
    "            elif col in [\"date_decision\"]:\n",
    "                df = df.with_columns(pl.col(col).cast(pl.Date))\n",
    "            elif col[-1] in (\"P\", \"A\"):\n",
    "                df = df.with_columns(pl.col(col).cast(pl.Float64))\n",
    "            elif col[-1] in (\"M\",):\n",
    "                df = df.with_columns(pl.col(col).cast(pl.String))\n",
    "            elif col[-1] in (\"D\",):\n",
    "                df = df.with_columns(pl.col(col).cast(pl.Date))            \n",
    "\n",
    "        return df\n",
    "    \n",
    "    def handle_dates(df):\n",
    "        for col in df.columns:\n",
    "            if col[-1] in (\"D\",):\n",
    "                df = df.with_columns(pl.col(col) - pl.col(\"date_decision\"))\n",
    "                df = df.with_columns(pl.col(col).dt.total_days())\n",
    "                df = df.with_columns(pl.col(col).cast(pl.Float32))\n",
    "        df = df.drop(\"date_decision\", \"MONTH\")\n",
    "        \n",
    "        return df\n",
    "    \n",
    "    def filter_cols(df):\n",
    "        for col in df.columns:\n",
    "            if col not in [\"target\", \"case_id\", \"WEEK_NUM\"]:\n",
    "                isnull = df[col].is_null().mean()\n",
    "                \n",
    "                if isnull > 0.95:\n",
    "                    df = df.drop(col)\n",
    "                    \n",
    "        for col in df.columns:\n",
    "            if (col not in [\"target\", \"case_id\", \"WEEK_NUM\"]) & (df[col].dtype == pl.String):\n",
    "                freq = df[col].n_unique()\n",
    "                \n",
    "                if (freq == 1) | (freq > 200):\n",
    "                    df = df.drop(col)\n",
    "                    \n",
    "        return df"
   ]
  },
  {
   "cell_type": "code",
   "execution_count": 4,
   "id": "e9bd1768",
   "metadata": {
    "execution": {
     "iopub.execute_input": "2024-04-07T11:19:59.886190Z",
     "iopub.status.busy": "2024-04-07T11:19:59.885900Z",
     "iopub.status.idle": "2024-04-07T11:19:59.896718Z",
     "shell.execute_reply": "2024-04-07T11:19:59.895890Z"
    },
    "papermill": {
     "duration": 0.020869,
     "end_time": "2024-04-07T11:19:59.898807",
     "exception": false,
     "start_time": "2024-04-07T11:19:59.877938",
     "status": "completed"
    },
    "tags": []
   },
   "outputs": [],
   "source": [
    "class Aggregator:\n",
    "    @staticmethod\n",
    "    def num_expr(df):\n",
    "        cols = [col for col in df.columns if col[-1] in (\"P\", \"A\")]\n",
    "\n",
    "        expr_max = [pl.max(col).alias(f\"max_{col}\") for col in cols]\n",
    "\n",
    "        return expr_max\n",
    "\n",
    "    @staticmethod\n",
    "    def date_expr(df):\n",
    "        cols = [col for col in df.columns if col[-1] in (\"D\",)]\n",
    "\n",
    "        expr_max = [pl.max(col).alias(f\"max_{col}\") for col in cols]\n",
    "\n",
    "        return expr_max\n",
    "\n",
    "    @staticmethod\n",
    "    def str_expr(df):\n",
    "        cols = [col for col in df.columns if col[-1] in (\"M\",)]\n",
    "        \n",
    "        expr_max = [pl.max(col).alias(f\"max_{col}\") for col in cols]\n",
    "\n",
    "        return expr_max\n",
    "\n",
    "    @staticmethod\n",
    "    def other_expr(df):\n",
    "        cols = [col for col in df.columns if col[-1] in (\"T\", \"L\")]\n",
    "        \n",
    "        expr_max = [pl.max(col).alias(f\"max_{col}\") for col in cols]\n",
    "\n",
    "        return expr_max\n",
    "    \n",
    "    @staticmethod\n",
    "    def count_expr(df):\n",
    "        cols = [col for col in df.columns if \"num_group\" in col]\n",
    "\n",
    "        expr_max = [pl.max(col).alias(f\"max_{col}\") for col in cols]\n",
    "\n",
    "        return expr_max\n",
    "\n",
    "    @staticmethod\n",
    "    def get_exprs(df):\n",
    "        exprs = Aggregator.num_expr(df) + \\\n",
    "                Aggregator.date_expr(df) + \\\n",
    "                Aggregator.str_expr(df) + \\\n",
    "                Aggregator.other_expr(df) + \\\n",
    "                Aggregator.count_expr(df)\n",
    "\n",
    "        return exprs"
   ]
  },
  {
   "cell_type": "code",
   "execution_count": 5,
   "id": "6cf9f273",
   "metadata": {
    "execution": {
     "iopub.execute_input": "2024-04-07T11:19:59.913897Z",
     "iopub.status.busy": "2024-04-07T11:19:59.913614Z",
     "iopub.status.idle": "2024-04-07T11:19:59.920461Z",
     "shell.execute_reply": "2024-04-07T11:19:59.919605Z"
    },
    "papermill": {
     "duration": 0.016913,
     "end_time": "2024-04-07T11:19:59.922398",
     "exception": false,
     "start_time": "2024-04-07T11:19:59.905485",
     "status": "completed"
    },
    "tags": []
   },
   "outputs": [],
   "source": [
    "def read_file(path, depth=None):\n",
    "    df = pl.read_parquet(path)\n",
    "    df = df.pipe(Pipeline.set_table_dtypes)\n",
    "    \n",
    "    if depth in [1, 2]:\n",
    "        df = df.group_by(\"case_id\").agg(Aggregator.get_exprs(df))\n",
    "    \n",
    "    return df\n",
    "\n",
    "def read_files(regex_path, depth=None):\n",
    "    chunks = []\n",
    "    for path in glob(str(regex_path)):\n",
    "        df = pl.read_parquet(path)\n",
    "        df = df.pipe(Pipeline.set_table_dtypes)\n",
    "        \n",
    "        if depth in [1, 2]:\n",
    "            df = df.group_by(\"case_id\").agg(Aggregator.get_exprs(df))\n",
    "        \n",
    "        chunks.append(df)\n",
    "        \n",
    "    df = pl.concat(chunks, how=\"vertical_relaxed\")\n",
    "    df = df.unique(subset=[\"case_id\"])\n",
    "    \n",
    "    return df"
   ]
  },
  {
   "cell_type": "code",
   "execution_count": 6,
   "id": "66f056ac",
   "metadata": {
    "execution": {
     "iopub.execute_input": "2024-04-07T11:19:59.937411Z",
     "iopub.status.busy": "2024-04-07T11:19:59.937089Z",
     "iopub.status.idle": "2024-04-07T11:19:59.943112Z",
     "shell.execute_reply": "2024-04-07T11:19:59.942208Z"
    },
    "papermill": {
     "duration": 0.015579,
     "end_time": "2024-04-07T11:19:59.944948",
     "exception": false,
     "start_time": "2024-04-07T11:19:59.929369",
     "status": "completed"
    },
    "tags": []
   },
   "outputs": [],
   "source": [
    "def feature_eng(df_base, depth_0, depth_1, depth_2):\n",
    "    df_base = (\n",
    "        df_base\n",
    "        .with_columns(\n",
    "            month_decision = pl.col(\"date_decision\").dt.month(),\n",
    "            weekday_decision = pl.col(\"date_decision\").dt.weekday(),\n",
    "        )\n",
    "    )\n",
    "    \n",
    "    for i, df in enumerate(depth_0 + depth_1 + depth_2):\n",
    "        df_base = df_base.join(df, how=\"left\", on=\"case_id\", suffix=f\"_{i}\")\n",
    "    df_base = df_base.pipe(Pipeline.handle_dates)\n",
    "    \n",
    "    return df_base"
   ]
  },
  {
   "cell_type": "code",
   "execution_count": 7,
   "id": "f75253ae",
   "metadata": {
    "execution": {
     "iopub.execute_input": "2024-04-07T11:19:59.959750Z",
     "iopub.status.busy": "2024-04-07T11:19:59.959491Z",
     "iopub.status.idle": "2024-04-07T11:19:59.964075Z",
     "shell.execute_reply": "2024-04-07T11:19:59.963290Z"
    },
    "papermill": {
     "duration": 0.014051,
     "end_time": "2024-04-07T11:19:59.965926",
     "exception": false,
     "start_time": "2024-04-07T11:19:59.951875",
     "status": "completed"
    },
    "tags": []
   },
   "outputs": [],
   "source": [
    "def to_pandas(df_data, cat_cols=None):\n",
    "    df_data = df_data.to_pandas()\n",
    "    \n",
    "    if cat_cols is None:\n",
    "        cat_cols = list(df_data.select_dtypes(\"object\").columns)\n",
    "    \n",
    "    df_data[cat_cols] = df_data[cat_cols].astype(\"category\")\n",
    "    \n",
    "    return df_data, cat_cols"
   ]
  },
  {
   "cell_type": "code",
   "execution_count": 8,
   "id": "e7d77097",
   "metadata": {
    "execution": {
     "iopub.execute_input": "2024-04-07T11:19:59.981348Z",
     "iopub.status.busy": "2024-04-07T11:19:59.981056Z",
     "iopub.status.idle": "2024-04-07T11:19:59.985101Z",
     "shell.execute_reply": "2024-04-07T11:19:59.984396Z"
    },
    "papermill": {
     "duration": 0.014322,
     "end_time": "2024-04-07T11:19:59.987011",
     "exception": false,
     "start_time": "2024-04-07T11:19:59.972689",
     "status": "completed"
    },
    "tags": []
   },
   "outputs": [],
   "source": [
    "ROOT            = Path(\"/kaggle/input/home-credit-credit-risk-model-stability\")\n",
    "TRAIN_DIR       = ROOT / \"parquet_files\" / \"train\"\n",
    "TEST_DIR        = ROOT / \"parquet_files\" / \"test\""
   ]
  },
  {
   "cell_type": "code",
   "execution_count": 9,
   "id": "bbc3135f",
   "metadata": {
    "execution": {
     "iopub.execute_input": "2024-04-07T11:20:00.001742Z",
     "iopub.status.busy": "2024-04-07T11:20:00.001480Z",
     "iopub.status.idle": "2024-04-07T11:22:17.332330Z",
     "shell.execute_reply": "2024-04-07T11:22:17.331139Z"
    },
    "papermill": {
     "duration": 137.341688,
     "end_time": "2024-04-07T11:22:17.335513",
     "exception": false,
     "start_time": "2024-04-07T11:19:59.993825",
     "status": "completed"
    },
    "tags": []
   },
   "outputs": [],
   "source": [
    "data_store = {\n",
    "    \"df_base\": read_file(TRAIN_DIR / \"train_base.parquet\"),\n",
    "    \"depth_0\": [\n",
    "        read_file(TRAIN_DIR / \"train_static_cb_0.parquet\"),\n",
    "        read_files(TRAIN_DIR / \"train_static_0_*.parquet\"),\n",
    "    ],\n",
    "    \"depth_1\": [\n",
    "        read_files(TRAIN_DIR / \"train_applprev_1_*.parquet\", 1),\n",
    "        read_file(TRAIN_DIR / \"train_tax_registry_a_1.parquet\", 1),\n",
    "        read_file(TRAIN_DIR / \"train_tax_registry_b_1.parquet\", 1),\n",
    "        read_file(TRAIN_DIR / \"train_tax_registry_c_1.parquet\", 1),\n",
    "        read_files(TRAIN_DIR / \"train_credit_bureau_a_1_*.parquet\", 1),\n",
    "        read_file(TRAIN_DIR / \"train_credit_bureau_b_1.parquet\", 1),\n",
    "        read_file(TRAIN_DIR / \"train_other_1.parquet\", 1),\n",
    "        read_file(TRAIN_DIR / \"train_person_1.parquet\", 1),\n",
    "        read_file(TRAIN_DIR / \"train_deposit_1.parquet\", 1),\n",
    "        read_file(TRAIN_DIR / \"train_debitcard_1.parquet\", 1),\n",
    "    ],\n",
    "    \"depth_2\": [\n",
    "        read_file(TRAIN_DIR / \"train_credit_bureau_b_2.parquet\", 2),\n",
    "        read_files(TRAIN_DIR / \"train_credit_bureau_a_2_*.parquet\", 2),\n",
    "    ]\n",
    "}"
   ]
  },
  {
   "cell_type": "code",
   "execution_count": 10,
   "id": "90f9f0e3",
   "metadata": {
    "execution": {
     "iopub.execute_input": "2024-04-07T11:22:17.356388Z",
     "iopub.status.busy": "2024-04-07T11:22:17.355424Z",
     "iopub.status.idle": "2024-04-07T11:22:27.941070Z",
     "shell.execute_reply": "2024-04-07T11:22:27.940143Z"
    },
    "papermill": {
     "duration": 10.599034,
     "end_time": "2024-04-07T11:22:27.943321",
     "exception": false,
     "start_time": "2024-04-07T11:22:17.344287",
     "status": "completed"
    },
    "tags": []
   },
   "outputs": [
    {
     "name": "stdout",
     "output_type": "stream",
     "text": [
      "train data shape:\t (1526659, 472)\n"
     ]
    }
   ],
   "source": [
    "df_train = feature_eng(**data_store)\n",
    "\n",
    "print(\"train data shape:\\t\", df_train.shape)"
   ]
  },
  {
   "cell_type": "code",
   "execution_count": 11,
   "id": "11add2e3",
   "metadata": {
    "execution": {
     "iopub.execute_input": "2024-04-07T11:22:27.960159Z",
     "iopub.status.busy": "2024-04-07T11:22:27.959876Z",
     "iopub.status.idle": "2024-04-07T11:22:28.781308Z",
     "shell.execute_reply": "2024-04-07T11:22:28.780484Z"
    },
    "papermill": {
     "duration": 0.832729,
     "end_time": "2024-04-07T11:22:28.783588",
     "exception": false,
     "start_time": "2024-04-07T11:22:27.950859",
     "status": "completed"
    },
    "tags": []
   },
   "outputs": [],
   "source": [
    "data_store = {\n",
    "    \"df_base\": read_file(TEST_DIR / \"test_base.parquet\"),\n",
    "    \"depth_0\": [\n",
    "        read_file(TEST_DIR / \"test_static_cb_0.parquet\"),\n",
    "        read_files(TEST_DIR / \"test_static_0_*.parquet\"),\n",
    "    ],\n",
    "    \"depth_1\": [\n",
    "        read_files(TEST_DIR / \"test_applprev_1_*.parquet\", 1),\n",
    "        read_file(TEST_DIR / \"test_tax_registry_a_1.parquet\", 1),\n",
    "        read_file(TEST_DIR / \"test_tax_registry_b_1.parquet\", 1),\n",
    "        read_file(TEST_DIR / \"test_tax_registry_c_1.parquet\", 1),\n",
    "        read_files(TEST_DIR / \"test_credit_bureau_a_1_*.parquet\", 1),\n",
    "        read_file(TEST_DIR / \"test_credit_bureau_b_1.parquet\", 1),\n",
    "        read_file(TEST_DIR / \"test_other_1.parquet\", 1),\n",
    "        read_file(TEST_DIR / \"test_person_1.parquet\", 1),\n",
    "        read_file(TEST_DIR / \"test_deposit_1.parquet\", 1),\n",
    "        read_file(TEST_DIR / \"test_debitcard_1.parquet\", 1),\n",
    "    ],\n",
    "    \"depth_2\": [\n",
    "        read_file(TEST_DIR / \"test_credit_bureau_b_2.parquet\", 2),\n",
    "        read_files(TEST_DIR / \"test_credit_bureau_a_2_*.parquet\", 2),\n",
    "    ]\n",
    "}"
   ]
  },
  {
   "cell_type": "code",
   "execution_count": 12,
   "id": "fa8818bc",
   "metadata": {
    "execution": {
     "iopub.execute_input": "2024-04-07T11:22:28.798653Z",
     "iopub.status.busy": "2024-04-07T11:22:28.798318Z",
     "iopub.status.idle": "2024-04-07T11:22:28.845661Z",
     "shell.execute_reply": "2024-04-07T11:22:28.844092Z"
    },
    "papermill": {
     "duration": 0.057615,
     "end_time": "2024-04-07T11:22:28.848352",
     "exception": false,
     "start_time": "2024-04-07T11:22:28.790737",
     "status": "completed"
    },
    "tags": []
   },
   "outputs": [
    {
     "name": "stdout",
     "output_type": "stream",
     "text": [
      "test data shape:\t (10, 471)\n"
     ]
    }
   ],
   "source": [
    "df_test = feature_eng(**data_store)\n",
    "\n",
    "print(\"test data shape:\\t\", df_test.shape)"
   ]
  },
  {
   "cell_type": "code",
   "execution_count": 13,
   "id": "d901216f",
   "metadata": {
    "execution": {
     "iopub.execute_input": "2024-04-07T11:22:28.868342Z",
     "iopub.status.busy": "2024-04-07T11:22:28.867829Z",
     "iopub.status.idle": "2024-04-07T11:22:31.832584Z",
     "shell.execute_reply": "2024-04-07T11:22:31.831564Z"
    },
    "papermill": {
     "duration": 2.978676,
     "end_time": "2024-04-07T11:22:31.834663",
     "exception": false,
     "start_time": "2024-04-07T11:22:28.855987",
     "status": "completed"
    },
    "tags": []
   },
   "outputs": [
    {
     "name": "stdout",
     "output_type": "stream",
     "text": [
      "train data shape:\t (1526659, 361)\n",
      "test data shape:\t (10, 360)\n"
     ]
    }
   ],
   "source": [
    "df_train = df_train.pipe(Pipeline.filter_cols)\n",
    "df_test = df_test.select([col for col in df_train.columns if col != \"target\"])\n",
    "\n",
    "print(\"train data shape:\\t\", df_train.shape)\n",
    "print(\"test data shape:\\t\", df_test.shape)"
   ]
  },
  {
   "cell_type": "code",
   "execution_count": 14,
   "id": "b49f0dd0",
   "metadata": {
    "execution": {
     "iopub.execute_input": "2024-04-07T11:22:31.850104Z",
     "iopub.status.busy": "2024-04-07T11:22:31.849820Z",
     "iopub.status.idle": "2024-04-07T11:22:31.958899Z",
     "shell.execute_reply": "2024-04-07T11:22:31.957971Z"
    },
    "papermill": {
     "duration": 0.119155,
     "end_time": "2024-04-07T11:22:31.961076",
     "exception": false,
     "start_time": "2024-04-07T11:22:31.841921",
     "status": "completed"
    },
    "tags": []
   },
   "outputs": [
    {
     "data": {
      "text/plain": [
       "60"
      ]
     },
     "execution_count": 14,
     "metadata": {},
     "output_type": "execute_result"
    }
   ],
   "source": [
    "del data_store\n",
    "\n",
    "gc.collect()"
   ]
  },
  {
   "cell_type": "code",
   "execution_count": 15,
   "id": "01bd0499",
   "metadata": {
    "execution": {
     "iopub.execute_input": "2024-04-07T11:22:31.977801Z",
     "iopub.status.busy": "2024-04-07T11:22:31.977153Z",
     "iopub.status.idle": "2024-04-07T11:22:31.981201Z",
     "shell.execute_reply": "2024-04-07T11:22:31.980334Z"
    },
    "papermill": {
     "duration": 0.014996,
     "end_time": "2024-04-07T11:22:31.983401",
     "exception": false,
     "start_time": "2024-04-07T11:22:31.968405",
     "status": "completed"
    },
    "tags": []
   },
   "outputs": [],
   "source": [
    "# print(\"Train is duplicated:\\t\", df_train[\"case_id\"].duplicated().any())\n",
    "# print(\"Train Week Range:\\t\", (df_train[\"WEEK_NUM\"].min(), df_train[\"WEEK_NUM\"].max()))\n",
    "\n",
    "# print()\n",
    "\n",
    "# print(\"Test is duplicated:\\t\", df_test[\"case_id\"].duplicated().any())\n",
    "# print(\"Test Week Range:\\t\", (df_test[\"WEEK_NUM\"].min(), df_test[\"WEEK_NUM\"].max()))"
   ]
  },
  {
   "cell_type": "code",
   "execution_count": 16,
   "id": "0a9c00c5",
   "metadata": {
    "execution": {
     "iopub.execute_input": "2024-04-07T11:22:32.000262Z",
     "iopub.status.busy": "2024-04-07T11:22:31.999995Z",
     "iopub.status.idle": "2024-04-07T11:22:46.678898Z",
     "shell.execute_reply": "2024-04-07T11:22:46.677999Z"
    },
    "papermill": {
     "duration": 14.690039,
     "end_time": "2024-04-07T11:22:46.681585",
     "exception": false,
     "start_time": "2024-04-07T11:22:31.991546",
     "status": "completed"
    },
    "tags": []
   },
   "outputs": [
    {
     "data": {
      "image/png": "[encoded data removed]",
      "text/plain": [
       "<Figure size 640x480 with 1 Axes>"
      ]
     },
     "metadata": {},
     "output_type": "display_data"
    }
   ],
   "source": [
    "sns.lineplot(\n",
    "    data=df_train,\n",
    "    x=\"WEEK_NUM\",\n",
    "    y=\"target\",\n",
    ")\n",
    "plt.show()"
   ]
  },
  {
   "cell_type": "code",
   "execution_count": 17,
   "id": "21e6238a",
   "metadata": {
    "execution": {
     "iopub.execute_input": "2024-04-07T11:22:46.699354Z",
     "iopub.status.busy": "2024-04-07T11:22:46.699033Z",
     "iopub.status.idle": "2024-04-07T11:23:08.697249Z",
     "shell.execute_reply": "2024-04-07T11:23:08.695657Z"
    },
    "papermill": {
     "duration": 22.011607,
     "end_time": "2024-04-07T11:23:08.701303",
     "exception": false,
     "start_time": "2024-04-07T11:22:46.689696",
     "status": "completed"
    },
    "tags": []
   },
   "outputs": [],
   "source": [
    "df_train, cat_cols = to_pandas(df_train)\n",
    "df_test, cat_cols = to_pandas(df_test, cat_cols)"
   ]
  },
  {
   "cell_type": "code",
   "execution_count": 18,
   "id": "fb9d5ee6",
   "metadata": {
    "execution": {
     "iopub.execute_input": "2024-04-07T11:23:08.724617Z",
     "iopub.status.busy": "2024-04-07T11:23:08.724247Z",
     "iopub.status.idle": "2024-04-07T11:40:57.880622Z",
     "shell.execute_reply": "2024-04-07T11:40:57.879645Z"
    },
    "papermill": {
     "duration": 1069.168516,
     "end_time": "2024-04-07T11:40:57.882892",
     "exception": false,
     "start_time": "2024-04-07T11:23:08.714376",
     "status": "completed"
    },
    "tags": []
   },
   "outputs": [
    {
     "name": "stdout",
     "output_type": "stream",
     "text": [
      "<class 'pandas.core.frame.DataFrame'>\n"
     ]
    },
    {
     "name": "stderr",
     "output_type": "stream",
     "text": [
      "1 warning generated.\n",
      "1 warning generated.\n",
      "1 warning generated.\n",
      "1 warning generated.\n",
      "1 warning generated.\n",
      "1 warning generated.\n",
      "1 warning generated.\n",
      "1 warning generated.\n",
      "1 warning generated.\n",
      "1 warning generated.\n",
      "1 warning generated.\n",
      "1 warning generated.\n",
      "1 warning generated.\n",
      "1 warning generated.\n",
      "1 warning generated.\n",
      "1 warning generated.\n",
      "1 warning generated.\n",
      "1 warning generated.\n",
      "1 warning generated.\n",
      "1 warning generated.\n",
      "1 warning generated.\n",
      "1 warning generated.\n",
      "1 warning generated.\n",
      "1 warning generated.\n",
      "1 warning generated.\n",
      "1 warning generated.\n",
      "1 warning generated.\n",
      "1 warning generated.\n",
      "1 warning generated.\n",
      "1 warning generated.\n",
      "1 warning generated.\n",
      "1 warning generated.\n",
      "1 warning generated.\n"
     ]
    },
    {
     "name": "stdout",
     "output_type": "stream",
     "text": [
      "Training until validation scores don't improve for 100 rounds\n",
      "[100]\tvalid_0's auc: 0.837898\n",
      "[200]\tvalid_0's auc: 0.847311\n",
      "[300]\tvalid_0's auc: 0.850356\n",
      "[400]\tvalid_0's auc: 0.851657\n",
      "[500]\tvalid_0's auc: 0.852266\n",
      "[600]\tvalid_0's auc: 0.852681\n",
      "[700]\tvalid_0's auc: 0.852831\n",
      "[800]\tvalid_0's auc: 0.853057\n",
      "[900]\tvalid_0's auc: 0.853179\n",
      "[1000]\tvalid_0's auc: 0.853309\n",
      "Did not meet early stopping. Best iteration is:\n",
      "[1000]\tvalid_0's auc: 0.853309\n",
      "Training until validation scores don't improve for 100 rounds\n",
      "[100]\tvalid_0's auc: 0.838353\n",
      "[200]\tvalid_0's auc: 0.847695\n",
      "[300]\tvalid_0's auc: 0.850626\n",
      "[400]\tvalid_0's auc: 0.851837\n",
      "[500]\tvalid_0's auc: 0.852445\n",
      "[600]\tvalid_0's auc: 0.852854\n",
      "[700]\tvalid_0's auc: 0.853219\n",
      "[800]\tvalid_0's auc: 0.853304\n",
      "[900]\tvalid_0's auc: 0.853655\n",
      "[1000]\tvalid_0's auc: 0.853769\n",
      "Did not meet early stopping. Best iteration is:\n",
      "[984]\tvalid_0's auc: 0.853807\n",
      "Training until validation scores don't improve for 100 rounds\n",
      "[100]\tvalid_0's auc: 0.843069\n",
      "[200]\tvalid_0's auc: 0.852453\n",
      "[300]\tvalid_0's auc: 0.855698\n",
      "[400]\tvalid_0's auc: 0.857238\n",
      "[500]\tvalid_0's auc: 0.857818\n",
      "[600]\tvalid_0's auc: 0.858401\n",
      "[700]\tvalid_0's auc: 0.8585\n",
      "[800]\tvalid_0's auc: 0.85879\n",
      "[900]\tvalid_0's auc: 0.858936\n",
      "[1000]\tvalid_0's auc: 0.85908\n",
      "Did not meet early stopping. Best iteration is:\n",
      "[989]\tvalid_0's auc: 0.859104\n",
      "Training until validation scores don't improve for 100 rounds\n",
      "[100]\tvalid_0's auc: 0.842403\n",
      "[200]\tvalid_0's auc: 0.851599\n",
      "[300]\tvalid_0's auc: 0.854873\n",
      "[400]\tvalid_0's auc: 0.856335\n",
      "[500]\tvalid_0's auc: 0.856893\n",
      "[600]\tvalid_0's auc: 0.857351\n",
      "[700]\tvalid_0's auc: 0.857742\n",
      "Early stopping, best iteration is:\n",
      "[699]\tvalid_0's auc: 0.857749\n",
      "Training until validation scores don't improve for 100 rounds\n",
      "[100]\tvalid_0's auc: 0.837262\n",
      "[200]\tvalid_0's auc: 0.847432\n",
      "[300]\tvalid_0's auc: 0.850914\n",
      "[400]\tvalid_0's auc: 0.852368\n",
      "[500]\tvalid_0's auc: 0.853067\n",
      "[600]\tvalid_0's auc: 0.853597\n",
      "[700]\tvalid_0's auc: 0.853831\n",
      "[800]\tvalid_0's auc: 0.854084\n",
      "[900]\tvalid_0's auc: 0.854291\n",
      "[1000]\tvalid_0's auc: 0.854458\n",
      "Did not meet early stopping. Best iteration is:\n",
      "[999]\tvalid_0's auc: 0.854466\n"
     ]
    }
   ],
   "source": [
    "# Training\n",
    "X = df_train.drop(columns=[\"target\", \"case_id\", \"WEEK_NUM\"])\n",
    "y = df_train[\"target\"]\n",
    "weeks = df_train[\"WEEK_NUM\"]\n",
    "\n",
    "print(type(X))\n",
    "cv = StratifiedGroupKFold(n_splits=5, shuffle=False)\n",
    "\n",
    "params = {\n",
    "    \"boosting_type\": \"gbdt\",\n",
    "    \"objective\": \"binary\",\n",
    "    \"metric\": \"auc\",\n",
    "    \"max_depth\": 8,\n",
    "    \"learning_rate\": 0.05,\n",
    "    \"n_estimators\": 1000,\n",
    "    \"colsample_bytree\": 0.8,\n",
    "    \"colsample_bynode\": 0.8,\n",
    "    \"verbose\": -1,\n",
    "    \"random_state\": 42,\n",
    "    \"device\": \"gpu\",\n",
    "}\n",
    "\n",
    "fitted_models = []\n",
    "\n",
    "for idx_train, idx_valid in cv.split(X, y, groups=weeks):\n",
    "    X_train, y_train = X.iloc[idx_train], y.iloc[idx_train]\n",
    "    X_valid, y_valid = X.iloc[idx_valid], y.iloc[idx_valid]\n",
    "    \n",
    "    model = lgb.LGBMClassifier(**params)\n",
    "    model.fit(\n",
    "        X_train, y_train,\n",
    "        eval_set =[(X_valid, y_valid)],\n",
    "        callbacks=[lgb.log_evaluation(100), lgb.early_stopping(100)]\n",
    "    )\n",
    "    \n",
    "    fitted_models.append(model)\n",
    "\n",
    "# model = VotingModel(fitted_models)"
   ]
  },
  {
   "cell_type": "code",
   "execution_count": 19,
   "id": "cc057067",
   "metadata": {
    "execution": {
     "iopub.execute_input": "2024-04-07T11:40:57.911645Z",
     "iopub.status.busy": "2024-04-07T11:40:57.911329Z",
     "iopub.status.idle": "2024-04-07T11:40:57.915492Z",
     "shell.execute_reply": "2024-04-07T11:40:57.914624Z"
    },
    "papermill": {
     "duration": 0.020527,
     "end_time": "2024-04-07T11:40:57.917294",
     "exception": false,
     "start_time": "2024-04-07T11:40:57.896767",
     "status": "completed"
    },
    "tags": []
   },
   "outputs": [],
   "source": [
    "model = VotingModel(fitted_models)"
   ]
  },
  {
   "cell_type": "code",
   "execution_count": 20,
   "id": "aa30094d",
   "metadata": {
    "execution": {
     "iopub.execute_input": "2024-04-07T11:40:57.945094Z",
     "iopub.status.busy": "2024-04-07T11:40:57.944832Z",
     "iopub.status.idle": "2024-04-07T11:40:58.214819Z",
     "shell.execute_reply": "2024-04-07T11:40:58.213682Z"
    },
    "papermill": {
     "duration": 0.286146,
     "end_time": "2024-04-07T11:40:58.216877",
     "exception": false,
     "start_time": "2024-04-07T11:40:57.930731",
     "status": "completed"
    },
    "tags": []
   },
   "outputs": [],
   "source": [
    "X_test = df_test.drop(columns=[\"WEEK_NUM\"])\n",
    "X_test = X_test.set_index(\"case_id\")\n",
    "\n",
    "y_pred = pd.Series(model.predict_proba(X_test)[:, 1], index=X_test.index)"
   ]
  },
  {
   "cell_type": "code",
   "execution_count": 21,
   "id": "a538510c",
   "metadata": {
    "execution": {
     "iopub.execute_input": "2024-04-07T11:40:58.244887Z",
     "iopub.status.busy": "2024-04-07T11:40:58.244597Z",
     "iopub.status.idle": "2024-04-07T11:40:58.266024Z",
     "shell.execute_reply": "2024-04-07T11:40:58.265294Z"
    },
    "papermill": {
     "duration": 0.037367,
     "end_time": "2024-04-07T11:40:58.267899",
     "exception": false,
     "start_time": "2024-04-07T11:40:58.230532",
     "status": "completed"
    },
    "tags": []
   },
   "outputs": [],
   "source": [
    "df_subm = pd.read_csv(ROOT / \"sample_submission.csv\")\n",
    "df_subm = df_subm.set_index(\"case_id\")\n",
    "\n",
    "df_subm[\"score\"] = y_pred"
   ]
  },
  {
   "cell_type": "code",
   "execution_count": 22,
   "id": "3b079269",
   "metadata": {
    "execution": {
     "iopub.execute_input": "2024-04-07T11:40:58.297242Z",
     "iopub.status.busy": "2024-04-07T11:40:58.296955Z",
     "iopub.status.idle": "2024-04-07T11:40:58.313029Z",
     "shell.execute_reply": "2024-04-07T11:40:58.312206Z"
    },
    "papermill": {
     "duration": 0.03374,
     "end_time": "2024-04-07T11:40:58.315384",
     "exception": false,
     "start_time": "2024-04-07T11:40:58.281644",
     "status": "completed"
    },
    "tags": []
   },
   "outputs": [
    {
     "data": {
      "text/html": [
       "<div>\n",
       "<style scoped>\n",
       "    .dataframe tbody tr th:only-of-type {\n",
       "        vertical-align: middle;\n",
       "    }\n",
       "\n",
       "    .dataframe tbody tr th {\n",
       "        vertical-align: top;\n",
       "    }\n",
       "\n",
       "    .dataframe thead th {\n",
       "        text-align: right;\n",
       "    }\n",
       "</style>\n",
       "<table border=\"1\" class=\"dataframe\">\n",
       "  <thead>\n",
       "    <tr style=\"text-align: right;\">\n",
       "      <th></th>\n",
       "      <th>score</th>\n",
       "    </tr>\n",
       "    <tr>\n",
       "      <th>case_id</th>\n",
       "      <th></th>\n",
       "    </tr>\n",
       "  </thead>\n",
       "  <tbody>\n",
       "    <tr>\n",
       "      <th>57543</th>\n",
       "      <td>0.007925</td>\n",
       "    </tr>\n",
       "    <tr>\n",
       "      <th>57549</th>\n",
       "      <td>0.084828</td>\n",
       "    </tr>\n",
       "    <tr>\n",
       "      <th>57551</th>\n",
       "      <td>0.004343</td>\n",
       "    </tr>\n",
       "    <tr>\n",
       "      <th>57552</th>\n",
       "      <td>0.014721</td>\n",
       "    </tr>\n",
       "    <tr>\n",
       "      <th>57569</th>\n",
       "      <td>0.135835</td>\n",
       "    </tr>\n",
       "  </tbody>\n",
       "</table>\n",
       "</div>"
      ],
      "text/plain": [
       "            score\n",
       "case_id          \n",
       "57543    0.007925\n",
       "57549    0.084828\n",
       "57551    0.004343\n",
       "57552    0.014721\n",
       "57569    0.135835"
      ]
     },
     "execution_count": 22,
     "metadata": {},
     "output_type": "execute_result"
    }
   ],
   "source": [
    "# print(\"Check null: \", df_subm[\"score\"].isnull(),any())\n",
    "\n",
    "df_subm.head()"
   ]
  },
  {
   "cell_type": "code",
   "execution_count": 23,
   "id": "131ec310",
   "metadata": {
    "execution": {
     "iopub.execute_input": "2024-04-07T11:40:58.344629Z",
     "iopub.status.busy": "2024-04-07T11:40:58.344336Z",
     "iopub.status.idle": "2024-04-07T11:40:58.354181Z",
     "shell.execute_reply": "2024-04-07T11:40:58.353453Z"
    },
    "papermill": {
     "duration": 0.025992,
     "end_time": "2024-04-07T11:40:58.356058",
     "exception": false,
     "start_time": "2024-04-07T11:40:58.330066",
     "status": "completed"
    },
    "tags": []
   },
   "outputs": [],
   "source": [
    "df_subm.to_csv(\"./submission.csv\")"
   ]
  }
 ],
 "metadata": {
  "kaggle": {
   "accelerator": "nvidiaTeslaT4",
   "dataSources": [
    {
     "databundleVersionId": 7921029,
     "sourceId": 50160,
     "sourceType": "competition"
    }
   ],
   "dockerImageVersionId": 30674,
   "isGpuEnabled": true,
   "isInternetEnabled": false,
   "language": "python",
   "sourceType": "notebook"
  },
  "kernelspec": {
   "display_name": "Python 3",
   "language": "python",
   "name": "python3"
  },
  "language_info": {
   "codemirror_mode": {
    "name": "ipython",
    "version": 3
   },
   "file_extension": ".py",
   "mimetype": "text/x-python",
   "name": "python",
   "nbconvert_exporter": "python",
   "pygments_lexer": "ipython3",
   "version": "3.10.13"
  },
  "papermill": {
   "default_parameters": {},
   "duration": 1273.670092,
   "end_time": "2024-04-07T11:40:59.591789",
   "environment_variables": {},
   "exception": null,
   "input_path": "__notebook__.ipynb",
   "output_path": "__notebook__.ipynb",
   "parameters": {},
   "start_time": "2024-04-07T11:19:45.921697",
   "version": "2.5.0"
  }
 },
 "nbformat": 4,
 "nbformat_minor": 5
}
