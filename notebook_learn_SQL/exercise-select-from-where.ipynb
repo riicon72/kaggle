{
 "cells": [
  {
   "cell_type": "markdown",
   "id": "b1d7f5c4",
   "metadata": {
    "papermill": {
     "duration": 0.006053,
     "end_time": "2023-11-01T14:28:41.897648",
     "exception": false,
     "start_time": "2023-11-01T14:28:41.891595",
     "status": "completed"
    },
    "tags": []
   },
   "source": [
    "**This notebook is an exercise in the [SQL](https://www.kaggle.com/learn/intro-to-sql) course.  You can reference the tutorial at [this link](https://www.kaggle.com/dansbecker/select-from-where).**\n",
    "\n",
    "---\n"
   ]
  },
  {
   "cell_type": "markdown",
   "id": "e9ee61be",
   "metadata": {
    "papermill": {
     "duration": 0.00466,
     "end_time": "2023-11-01T14:28:41.909841",
     "exception": false,
     "start_time": "2023-11-01T14:28:41.905181",
     "status": "completed"
    },
    "tags": []
   },
   "source": [
    "# Introduction\n",
    "\n",
    "Try writing some **SELECT** statements of your own to explore a large dataset of air pollution measurements.\n",
    "\n",
    "Run the cell below to set up the feedback system."
   ]
  },
  {
   "cell_type": "code",
   "execution_count": 1,
   "id": "8c0ce8b6",
   "metadata": {
    "execution": {
     "iopub.execute_input": "2023-11-01T14:28:41.921763Z",
     "iopub.status.busy": "2023-11-01T14:28:41.921023Z",
     "iopub.status.idle": "2023-11-01T14:29:50.098366Z",
     "shell.execute_reply": "2023-11-01T14:29:50.097512Z"
    },
    "papermill": {
     "duration": 68.189802,
     "end_time": "2023-11-01T14:29:50.104521",
     "exception": false,
     "start_time": "2023-11-01T14:28:41.914719",
     "status": "completed"
    },
    "tags": []
   },
   "outputs": [
    {
     "name": "stdout",
     "output_type": "stream",
     "text": [
      "Using Kaggle's public dataset BigQuery integration.\n",
      "Setup Complete\n"
     ]
    }
   ],
   "source": [
    "# Set up feedback system\n",
    "from learntools.core import binder\n",
    "binder.bind(globals())\n",
    "from learntools.sql.ex2 import *\n",
    "print(\"Setup Complete\")"
   ]
  },
  {
   "cell_type": "markdown",
   "id": "fb9209ef",
   "metadata": {
    "papermill": {
     "duration": 0.005284,
     "end_time": "2023-11-01T14:29:50.114961",
     "exception": false,
     "start_time": "2023-11-01T14:29:50.109677",
     "status": "completed"
    },
    "tags": []
   },
   "source": [
    "The code cell below fetches the `global_air_quality` table from the `openaq` dataset.  We also preview the first five rows of the table."
   ]
  },
  {
   "cell_type": "code",
   "execution_count": 2,
   "id": "6c4a7e14",
   "metadata": {
    "execution": {
     "iopub.execute_input": "2023-11-01T14:29:50.128097Z",
     "iopub.status.busy": "2023-11-01T14:29:50.126756Z",
     "iopub.status.idle": "2023-11-01T14:29:51.351270Z",
     "shell.execute_reply": "2023-11-01T14:29:51.350279Z"
    },
    "papermill": {
     "duration": 1.233479,
     "end_time": "2023-11-01T14:29:51.353662",
     "exception": false,
     "start_time": "2023-11-01T14:29:50.120183",
     "status": "completed"
    },
    "tags": []
   },
   "outputs": [
    {
     "name": "stdout",
     "output_type": "stream",
     "text": [
      "Using Kaggle's public dataset BigQuery integration.\n"
     ]
    },
    {
     "data": {
      "text/html": [
       "<div>\n",
       "<style scoped>\n",
       "    .dataframe tbody tr th:only-of-type {\n",
       "        vertical-align: middle;\n",
       "    }\n",
       "\n",
       "    .dataframe tbody tr th {\n",
       "        vertical-align: top;\n",
       "    }\n",
       "\n",
       "    .dataframe thead th {\n",
       "        text-align: right;\n",
       "    }\n",
       "</style>\n",
       "<table border=\"1\" class=\"dataframe\">\n",
       "  <thead>\n",
       "    <tr style=\"text-align: right;\">\n",
       "      <th></th>\n",
       "      <th>location</th>\n",
       "      <th>city</th>\n",
       "      <th>country</th>\n",
       "      <th>pollutant</th>\n",
       "      <th>value</th>\n",
       "      <th>timestamp</th>\n",
       "      <th>unit</th>\n",
       "      <th>source_name</th>\n",
       "      <th>latitude</th>\n",
       "      <th>longitude</th>\n",
       "      <th>averaged_over_in_hours</th>\n",
       "      <th>location_geom</th>\n",
       "    </tr>\n",
       "  </thead>\n",
       "  <tbody>\n",
       "    <tr>\n",
       "      <th>0</th>\n",
       "      <td>Borówiec, ul. Drapałka</td>\n",
       "      <td>Borówiec</td>\n",
       "      <td>PL</td>\n",
       "      <td>bc</td>\n",
       "      <td>0.85217</td>\n",
       "      <td>2022-04-28 07:00:00+00:00</td>\n",
       "      <td>µg/m³</td>\n",
       "      <td>GIOS</td>\n",
       "      <td>1.0</td>\n",
       "      <td>52.276794</td>\n",
       "      <td>17.074114</td>\n",
       "      <td>POINT(52.276794 1)</td>\n",
       "    </tr>\n",
       "    <tr>\n",
       "      <th>1</th>\n",
       "      <td>Kraków, ul. Bulwarowa</td>\n",
       "      <td>Kraków</td>\n",
       "      <td>PL</td>\n",
       "      <td>bc</td>\n",
       "      <td>0.91284</td>\n",
       "      <td>2022-04-27 23:00:00+00:00</td>\n",
       "      <td>µg/m³</td>\n",
       "      <td>GIOS</td>\n",
       "      <td>1.0</td>\n",
       "      <td>50.069308</td>\n",
       "      <td>20.053492</td>\n",
       "      <td>POINT(50.069308 1)</td>\n",
       "    </tr>\n",
       "    <tr>\n",
       "      <th>2</th>\n",
       "      <td>Płock, ul. Reja</td>\n",
       "      <td>Płock</td>\n",
       "      <td>PL</td>\n",
       "      <td>bc</td>\n",
       "      <td>1.41000</td>\n",
       "      <td>2022-03-30 04:00:00+00:00</td>\n",
       "      <td>µg/m³</td>\n",
       "      <td>GIOS</td>\n",
       "      <td>1.0</td>\n",
       "      <td>52.550938</td>\n",
       "      <td>19.709791</td>\n",
       "      <td>POINT(52.550938 1)</td>\n",
       "    </tr>\n",
       "    <tr>\n",
       "      <th>3</th>\n",
       "      <td>Elbląg, ul. Bażyńskiego</td>\n",
       "      <td>Elbląg</td>\n",
       "      <td>PL</td>\n",
       "      <td>bc</td>\n",
       "      <td>0.33607</td>\n",
       "      <td>2022-05-03 13:00:00+00:00</td>\n",
       "      <td>µg/m³</td>\n",
       "      <td>GIOS</td>\n",
       "      <td>1.0</td>\n",
       "      <td>54.167847</td>\n",
       "      <td>19.410942</td>\n",
       "      <td>POINT(54.167847 1)</td>\n",
       "    </tr>\n",
       "    <tr>\n",
       "      <th>4</th>\n",
       "      <td>Piastów, ul. Pułaskiego</td>\n",
       "      <td>Piastów</td>\n",
       "      <td>PL</td>\n",
       "      <td>bc</td>\n",
       "      <td>0.51000</td>\n",
       "      <td>2022-05-11 05:00:00+00:00</td>\n",
       "      <td>µg/m³</td>\n",
       "      <td>GIOS</td>\n",
       "      <td>1.0</td>\n",
       "      <td>52.191728</td>\n",
       "      <td>20.837489</td>\n",
       "      <td>POINT(52.191728 1)</td>\n",
       "    </tr>\n",
       "  </tbody>\n",
       "</table>\n",
       "</div>"
      ],
      "text/plain": [
       "                  location      city country pollutant    value  \\\n",
       "0   Borówiec, ul. Drapałka  Borówiec      PL        bc  0.85217   \n",
       "1    Kraków, ul. Bulwarowa    Kraków      PL        bc  0.91284   \n",
       "2          Płock, ul. Reja     Płock      PL        bc  1.41000   \n",
       "3  Elbląg, ul. Bażyńskiego    Elbląg      PL        bc  0.33607   \n",
       "4  Piastów, ul. Pułaskiego   Piastów      PL        bc  0.51000   \n",
       "\n",
       "                  timestamp   unit source_name  latitude  longitude  \\\n",
       "0 2022-04-28 07:00:00+00:00  µg/m³        GIOS       1.0  52.276794   \n",
       "1 2022-04-27 23:00:00+00:00  µg/m³        GIOS       1.0  50.069308   \n",
       "2 2022-03-30 04:00:00+00:00  µg/m³        GIOS       1.0  52.550938   \n",
       "3 2022-05-03 13:00:00+00:00  µg/m³        GIOS       1.0  54.167847   \n",
       "4 2022-05-11 05:00:00+00:00  µg/m³        GIOS       1.0  52.191728   \n",
       "\n",
       "   averaged_over_in_hours       location_geom  \n",
       "0               17.074114  POINT(52.276794 1)  \n",
       "1               20.053492  POINT(50.069308 1)  \n",
       "2               19.709791  POINT(52.550938 1)  \n",
       "3               19.410942  POINT(54.167847 1)  \n",
       "4               20.837489  POINT(52.191728 1)  "
      ]
     },
     "execution_count": 2,
     "metadata": {},
     "output_type": "execute_result"
    }
   ],
   "source": [
    "from google.cloud import bigquery\n",
    "\n",
    "# Create a \"Client\" object\n",
    "client = bigquery.Client()\n",
    "\n",
    "# Construct a reference to the \"openaq\" dataset\n",
    "dataset_ref = client.dataset(\"openaq\", project=\"bigquery-public-data\")\n",
    "\n",
    "# API request - fetch the dataset\n",
    "dataset = client.get_dataset(dataset_ref)\n",
    "\n",
    "# Construct a reference to the \"global_air_quality\" table\n",
    "table_ref = dataset_ref.table(\"global_air_quality\")\n",
    "\n",
    "# API request - fetch the table\n",
    "table = client.get_table(table_ref)\n",
    "\n",
    "# Preview the first five lines of the \"global_air_quality\" table\n",
    "client.list_rows(table, max_results=5).to_dataframe()"
   ]
  },
  {
   "cell_type": "markdown",
   "id": "79f48525",
   "metadata": {
    "papermill": {
     "duration": 0.005454,
     "end_time": "2023-11-01T14:29:51.364773",
     "exception": false,
     "start_time": "2023-11-01T14:29:51.359319",
     "status": "completed"
    },
    "tags": []
   },
   "source": [
    "# Exercises\n",
    "\n",
    "### 1) Units of measurement\n",
    "\n",
    "Which countries have reported pollution levels in units of \"ppm\"?  In the code cell below, set `first_query` to an SQL query that pulls the appropriate entries from the `country` column.\n",
    "\n",
    "In case it's useful to see an example query, here's some code from the tutorial:\n",
    "\n",
    "```\n",
    "query = \"\"\"\n",
    "        SELECT city\n",
    "        FROM `bigquery-public-data.openaq.global_air_quality`\n",
    "        WHERE country = 'US'\n",
    "        \"\"\"\n",
    "```"
   ]
  },
  {
   "cell_type": "code",
   "execution_count": 3,
   "id": "8eece3e1",
   "metadata": {
    "execution": {
     "iopub.execute_input": "2023-11-01T14:29:51.377795Z",
     "iopub.status.busy": "2023-11-01T14:29:51.377115Z",
     "iopub.status.idle": "2023-11-01T14:30:20.136033Z",
     "shell.execute_reply": "2023-11-01T14:30:20.135041Z"
    },
    "papermill": {
     "duration": 28.768418,
     "end_time": "2023-11-01T14:30:20.138548",
     "exception": false,
     "start_time": "2023-11-01T14:29:51.370130",
     "status": "completed"
    },
    "tags": []
   },
   "outputs": [
    {
     "name": "stdout",
     "output_type": "stream",
     "text": [
      "  country\n",
      "0      AR\n",
      "1      IL\n",
      "2      IL\n",
      "3      AR\n",
      "4      AR\n",
      "You got the right countries. Nice job! Some countries showed up many times in the results. To get each country only once you can run `SELECT DISTINCT country ...`. The DISTINCT keyword ensures each column shows up once, which you'll want in some cases.\n"
     ]
    },
    {
     "data": {
      "application/javascript": [
       "parent.postMessage({\"jupyterEvent\": \"custom.exercise_interaction\", \"data\": {\"outcomeType\": 1, \"valueTowardsCompletion\": 0.5, \"interactionType\": 1, \"questionType\": 2, \"questionId\": \"1_WhichCountries\", \"learnToolsVersion\": \"0.3.4\", \"failureMessage\": \"\", \"exceptionClass\": \"\", \"trace\": \"\"}}, \"*\")"
      ],
      "text/plain": [
       "<IPython.core.display.Javascript object>"
      ]
     },
     "metadata": {},
     "output_type": "display_data"
    },
    {
     "data": {
      "text/markdown": [
       "<span style=\"color:#33cc33\">Correct</span>"
      ],
      "text/plain": [
       "Correct"
      ]
     },
     "metadata": {},
     "output_type": "display_data"
    }
   ],
   "source": [
    "# Query to select countries with units of \"ppm\"\n",
    "first_query = \"\"\"\n",
    "              SELECT country\n",
    "              FROM `bigquery-public-data.openaq.global_air_quality`\n",
    "              WHERE unit = \"ppm\"\n",
    "              \"\"\"\n",
    "         # Your code goes here\n",
    "\n",
    "# Set up the query (cancel the query if it would use too much of \n",
    "# your quota, with the limit set to 10 GB)\n",
    "safe_config = bigquery.QueryJobConfig(maximum_bytes_billed=10**10)\n",
    "first_query_job = client.query(first_query, job_config=safe_config)\n",
    "\n",
    "# API request - run the query, and return a pandas DataFrame\n",
    "first_results = first_query_job.to_dataframe()\n",
    "\n",
    "# View top few rows of results\n",
    "print(first_results.head())\n",
    "\n",
    "# Check your answer\n",
    "q_1.check()"
   ]
  },
  {
   "cell_type": "markdown",
   "id": "b84964df",
   "metadata": {
    "papermill": {
     "duration": 0.005133,
     "end_time": "2023-11-01T14:30:20.149205",
     "exception": false,
     "start_time": "2023-11-01T14:30:20.144072",
     "status": "completed"
    },
    "tags": []
   },
   "source": [
    "For the solution, uncomment the line below."
   ]
  },
  {
   "cell_type": "code",
   "execution_count": 4,
   "id": "c3d2c63b",
   "metadata": {
    "execution": {
     "iopub.execute_input": "2023-11-01T14:30:20.161592Z",
     "iopub.status.busy": "2023-11-01T14:30:20.161260Z",
     "iopub.status.idle": "2023-11-01T14:30:20.168209Z",
     "shell.execute_reply": "2023-11-01T14:30:20.167403Z"
    },
    "papermill": {
     "duration": 0.015892,
     "end_time": "2023-11-01T14:30:20.170481",
     "exception": false,
     "start_time": "2023-11-01T14:30:20.154589",
     "status": "completed"
    },
    "tags": []
   },
   "outputs": [
    {
     "data": {
      "application/javascript": [
       "parent.postMessage({\"jupyterEvent\": \"custom.exercise_interaction\", \"data\": {\"interactionType\": 3, \"questionType\": 2, \"questionId\": \"1_WhichCountries\", \"learnToolsVersion\": \"0.3.4\", \"valueTowardsCompletion\": 0.0, \"failureMessage\": \"\", \"exceptionClass\": \"\", \"trace\": \"\", \"outcomeType\": 4}}, \"*\")"
      ],
      "text/plain": [
       "<IPython.core.display.Javascript object>"
      ]
     },
     "metadata": {},
     "output_type": "display_data"
    },
    {
     "data": {
      "text/markdown": [
       "<span style=\"color:#33cc99\">Solution:</span> \n",
       "```python\n",
       "\n",
       "first_query = \"\"\"\n",
       "              SELECT country\n",
       "              FROM `bigquery-public-data.openaq.global_air_quality`\n",
       "              WHERE unit = \"ppm\"\n",
       "              \"\"\"\n",
       "\n",
       "# Or to get each country just once, you could use\n",
       "first_query = \"\"\"\n",
       "              SELECT DISTINCT country\n",
       "              FROM `bigquery-public-data.openaq.global_air_quality`\n",
       "              WHERE unit = \"ppm\"\n",
       "              \"\"\"\n",
       "\n",
       "```"
      ],
      "text/plain": [
       "Solution: \n",
       "```python\n",
       "\n",
       "first_query = \"\"\"\n",
       "              SELECT country\n",
       "              FROM `bigquery-public-data.openaq.global_air_quality`\n",
       "              WHERE unit = \"ppm\"\n",
       "              \"\"\"\n",
       "\n",
       "# Or to get each country just once, you could use\n",
       "first_query = \"\"\"\n",
       "              SELECT DISTINCT country\n",
       "              FROM `bigquery-public-data.openaq.global_air_quality`\n",
       "              WHERE unit = \"ppm\"\n",
       "              \"\"\"\n",
       "\n",
       "```"
      ]
     },
     "metadata": {},
     "output_type": "display_data"
    }
   ],
   "source": [
    "q_1.solution()"
   ]
  },
  {
   "cell_type": "markdown",
   "id": "20967bff",
   "metadata": {
    "papermill": {
     "duration": 0.005737,
     "end_time": "2023-11-01T14:30:20.181810",
     "exception": false,
     "start_time": "2023-11-01T14:30:20.176073",
     "status": "completed"
    },
    "tags": []
   },
   "source": [
    "### 2) High air quality\n",
    "\n",
    "Which pollution levels were reported to be exactly 0?  \n",
    "- Set `zero_pollution_query` to select **all columns** of the rows where the `value` column is 0.\n",
    "- Set `zero_pollution_results` to a pandas DataFrame containing the query results."
   ]
  },
  {
   "cell_type": "code",
   "execution_count": 5,
   "id": "2e624d62",
   "metadata": {
    "execution": {
     "iopub.execute_input": "2023-11-01T14:30:20.194983Z",
     "iopub.status.busy": "2023-11-01T14:30:20.194650Z",
     "iopub.status.idle": "2023-11-01T14:30:55.526874Z",
     "shell.execute_reply": "2023-11-01T14:30:55.525687Z"
    },
    "papermill": {
     "duration": 35.346932,
     "end_time": "2023-11-01T14:30:55.534350",
     "exception": false,
     "start_time": "2023-11-01T14:30:20.187418",
     "status": "completed"
    },
    "tags": []
   },
   "outputs": [
    {
     "name": "stdout",
     "output_type": "stream",
     "text": [
      "                                location                 city country  \\\n",
      "0           Koszalin, ul. Armii Krajowej             Koszalin      PL   \n",
      "1             Żary, ul. Szymanowskiego 8                 Żary      PL   \n",
      "2                  Kraków, ul. Bulwarowa               Kraków      PL   \n",
      "3  Gorzów Wlkp. ul. Kosynierów Gdyńskich  Gorzów Wielkopolski      PL   \n",
      "4              Zielonka, Bory Tucholskie             Zielonka      PL   \n",
      "\n",
      "  pollutant  value                 timestamp   unit source_name  latitude  \\\n",
      "0        bc    0.0 2022-05-05 01:00:00+00:00  µg/m³        GIOS       1.0   \n",
      "1        bc    0.0 2022-05-02 12:00:00+00:00  µg/m³        GIOS       1.0   \n",
      "2        bc    0.0 2022-04-08 04:00:00+00:00  µg/m³        GIOS       1.0   \n",
      "3        bc    0.0 2022-05-12 16:00:00+00:00  µg/m³        GIOS       1.0   \n",
      "4        bc    0.0 2022-04-16 04:00:00+00:00  µg/m³        GIOS       1.0   \n",
      "\n",
      "   longitude  averaged_over_in_hours       location_geom  \n",
      "0  54.193986               16.172544  POINT(54.193986 1)  \n",
      "1  51.642656               15.127808  POINT(51.642656 1)  \n",
      "2  50.069308               20.053492  POINT(50.069308 1)  \n",
      "3  52.738214               15.228667  POINT(52.738214 1)  \n",
      "4  53.662136               17.933986  POINT(53.662136 1)  \n"
     ]
    },
    {
     "data": {
      "application/javascript": [
       "parent.postMessage({\"jupyterEvent\": \"custom.exercise_interaction\", \"data\": {\"outcomeType\": 1, \"valueTowardsCompletion\": 0.5, \"interactionType\": 1, \"questionType\": 2, \"questionId\": \"2_ZeroPollution\", \"learnToolsVersion\": \"0.3.4\", \"failureMessage\": \"\", \"exceptionClass\": \"\", \"trace\": \"\"}}, \"*\")"
      ],
      "text/plain": [
       "<IPython.core.display.Javascript object>"
      ]
     },
     "metadata": {},
     "output_type": "display_data"
    },
    {
     "data": {
      "text/markdown": [
       "<span style=\"color:#33cc33\">Correct</span>"
      ],
      "text/plain": [
       "Correct"
      ]
     },
     "metadata": {},
     "output_type": "display_data"
    }
   ],
   "source": [
    "# Query to select all columns where pollution levels are exactly 0\n",
    "zero_pollution_query = \"\"\"\n",
    "                       SELECT *\n",
    "                       FROM `bigquery-public-data.openaq.global_air_quality`\n",
    "                       WHERE value = 0\n",
    "                       \"\"\" # Your code goes here\n",
    "\n",
    "# Set up the query\n",
    "safe_config = bigquery.QueryJobConfig(maximum_bytes_billed=10**10)\n",
    "query_job = client.query(zero_pollution_query, job_config=safe_config)\n",
    "\n",
    "# API request - run the query and return a pandas DataFrame\n",
    "zero_pollution_results = query_job.to_dataframe() # Your code goes here\n",
    "\n",
    "print(zero_pollution_results.head())\n",
    "\n",
    "# Check your answer\n",
    "q_2.check()"
   ]
  },
  {
   "cell_type": "markdown",
   "id": "23b1e8c5",
   "metadata": {
    "papermill": {
     "duration": 0.006037,
     "end_time": "2023-11-01T14:30:55.546972",
     "exception": false,
     "start_time": "2023-11-01T14:30:55.540935",
     "status": "completed"
    },
    "tags": []
   },
   "source": [
    "For the solution, uncomment the line below."
   ]
  },
  {
   "cell_type": "code",
   "execution_count": 6,
   "id": "2b895182",
   "metadata": {
    "execution": {
     "iopub.execute_input": "2023-11-01T14:30:55.561383Z",
     "iopub.status.busy": "2023-11-01T14:30:55.561016Z",
     "iopub.status.idle": "2023-11-01T14:30:55.570510Z",
     "shell.execute_reply": "2023-11-01T14:30:55.569335Z"
    },
    "papermill": {
     "duration": 0.019531,
     "end_time": "2023-11-01T14:30:55.572873",
     "exception": false,
     "start_time": "2023-11-01T14:30:55.553342",
     "status": "completed"
    },
    "tags": []
   },
   "outputs": [
    {
     "data": {
      "application/javascript": [
       "parent.postMessage({\"jupyterEvent\": \"custom.exercise_interaction\", \"data\": {\"interactionType\": 3, \"questionType\": 2, \"questionId\": \"2_ZeroPollution\", \"learnToolsVersion\": \"0.3.4\", \"valueTowardsCompletion\": 0.0, \"failureMessage\": \"\", \"exceptionClass\": \"\", \"trace\": \"\", \"outcomeType\": 4}}, \"*\")"
      ],
      "text/plain": [
       "<IPython.core.display.Javascript object>"
      ]
     },
     "metadata": {},
     "output_type": "display_data"
    },
    {
     "data": {
      "text/markdown": [
       "<span style=\"color:#33cc99\">Solution:</span> \n",
       "```python\n",
       "\n",
       "zero_pollution_query = \"\"\"\n",
       "                       SELECT *\n",
       "                       FROM `bigquery-public-data.openaq.global_air_quality`\n",
       "                       WHERE value = 0\n",
       "                       \"\"\"\n",
       "\n",
       "safe_config = bigquery.QueryJobConfig(maximum_bytes_billed=10**10)\n",
       "query_job = client.query(zero_pollution_query, job_config=safe_config)\n",
       "\n",
       "zero_pollution_results = query_job.to_dataframe()\n",
       "\n",
       "```"
      ],
      "text/plain": [
       "Solution: \n",
       "```python\n",
       "\n",
       "zero_pollution_query = \"\"\"\n",
       "                       SELECT *\n",
       "                       FROM `bigquery-public-data.openaq.global_air_quality`\n",
       "                       WHERE value = 0\n",
       "                       \"\"\"\n",
       "\n",
       "safe_config = bigquery.QueryJobConfig(maximum_bytes_billed=10**10)\n",
       "query_job = client.query(zero_pollution_query, job_config=safe_config)\n",
       "\n",
       "zero_pollution_results = query_job.to_dataframe()\n",
       "\n",
       "```"
      ]
     },
     "metadata": {},
     "output_type": "display_data"
    }
   ],
   "source": [
    "q_2.solution()"
   ]
  },
  {
   "cell_type": "markdown",
   "id": "4c71e1a4",
   "metadata": {
    "papermill": {
     "duration": 0.00644,
     "end_time": "2023-11-01T14:30:55.586633",
     "exception": false,
     "start_time": "2023-11-01T14:30:55.580193",
     "status": "completed"
    },
    "tags": []
   },
   "source": [
    "That query wasn't too complicated, and it got the data you want. But these **SELECT** queries don't organizing data in a way that answers the most interesting questions. For that, we'll need the **GROUP BY** command. \n",
    "\n",
    "If you know how to use [`groupby()`](https://pandas.pydata.org/pandas-docs/stable/reference/api/pandas.DataFrame.groupby.html) in pandas, this is similar. But BigQuery works quickly with far larger datasets.\n",
    "\n",
    "Fortunately, that's next."
   ]
  },
  {
   "cell_type": "markdown",
   "id": "f2881f9b",
   "metadata": {
    "papermill": {
     "duration": 0.007875,
     "end_time": "2023-11-01T14:30:55.601503",
     "exception": false,
     "start_time": "2023-11-01T14:30:55.593628",
     "status": "completed"
    },
    "tags": []
   },
   "source": [
    "# Keep going\n",
    "**[GROUP BY](https://www.kaggle.com/dansbecker/group-by-having-count)** clauses and their extensions give you the power to pull interesting statistics out of data, rather than receiving it in just its raw format."
   ]
  },
  {
   "cell_type": "markdown",
   "id": "895ada30",
   "metadata": {
    "papermill": {
     "duration": 0.006472,
     "end_time": "2023-11-01T14:30:55.615307",
     "exception": false,
     "start_time": "2023-11-01T14:30:55.608835",
     "status": "completed"
    },
    "tags": []
   },
   "source": [
    "---\n",
    "\n",
    "\n",
    "\n",
    "\n",
    "*Have questions or comments? Visit the [course discussion forum](https://www.kaggle.com/learn/intro-to-sql/discussion) to chat with other learners.*"
   ]
  }
 ],
 "metadata": {
  "kernelspec": {
   "display_name": "Python 3",
   "language": "python",
   "name": "python3"
  },
  "language_info": {
   "codemirror_mode": {
    "name": "ipython",
    "version": 3
   },
   "file_extension": ".py",
   "mimetype": "text/x-python",
   "name": "python",
   "nbconvert_exporter": "python",
   "pygments_lexer": "ipython3",
   "version": "3.10.12"
  },
  "papermill": {
   "default_parameters": {},
   "duration": 138.060697,
   "end_time": "2023-11-01T14:30:56.545794",
   "environment_variables": {},
   "exception": null,
   "input_path": "__notebook__.ipynb",
   "output_path": "__notebook__.ipynb",
   "parameters": {},
   "start_time": "2023-11-01T14:28:38.485097",
   "version": "2.4.0"
  }
 },
 "nbformat": 4,
 "nbformat_minor": 5
}
