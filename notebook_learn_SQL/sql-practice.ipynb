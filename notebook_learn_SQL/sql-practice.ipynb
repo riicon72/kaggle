{
 "cells": [
  {
   "cell_type": "code",
   "execution_count": 1,
   "id": "ae3fefb3",
   "metadata": {
    "execution": {
     "iopub.execute_input": "2023-11-20T14:29:37.405319Z",
     "iopub.status.busy": "2023-11-20T14:29:37.404603Z",
     "iopub.status.idle": "2023-11-20T14:29:43.327051Z",
     "shell.execute_reply": "2023-11-20T14:29:43.325697Z"
    },
    "papermill": {
     "duration": 5.930834,
     "end_time": "2023-11-20T14:29:43.329680",
     "exception": false,
     "start_time": "2023-11-20T14:29:37.398846",
     "status": "completed"
    },
    "tags": []
   },
   "outputs": [
    {
     "name": "stdout",
     "output_type": "stream",
     "text": [
      "Using Kaggle's public dataset BigQuery integration.\n",
      "setup complete\n"
     ]
    }
   ],
   "source": [
    "from learntools.core import binder\n",
    "binder.bind(globals())\n",
    "from learntools.sql.ex1 import *\n",
    "print('setup complete')"
   ]
  },
  {
   "cell_type": "code",
   "execution_count": 2,
   "id": "891f38e1",
   "metadata": {
    "execution": {
     "iopub.execute_input": "2023-11-20T14:29:43.339014Z",
     "iopub.status.busy": "2023-11-20T14:29:43.338445Z",
     "iopub.status.idle": "2023-11-20T14:29:43.344878Z",
     "shell.execute_reply": "2023-11-20T14:29:43.343803Z"
    },
    "papermill": {
     "duration": 0.014212,
     "end_time": "2023-11-20T14:29:43.347869",
     "exception": false,
     "start_time": "2023-11-20T14:29:43.333657",
     "status": "completed"
    },
    "tags": []
   },
   "outputs": [
    {
     "name": "stdout",
     "output_type": "stream",
     "text": [
      "Using Kaggle's public dataset BigQuery integration.\n"
     ]
    }
   ],
   "source": [
    "from google.cloud import bigquery\n",
    "\n",
    "# オブジェクト生成\n",
    "client = bigquery.Client()\n",
    "\n",
    "# データセット作成\n",
    "dataset_ref = client.dataset(\"openaq\", project=\"bigquery-public-data\")\n",
    "\n",
    "# API リクエスト\n",
    "# dataset = client.get_dataset(dataset_ref)\n",
    "\n",
    "# テーブル作成\n",
    "# table_ref = dataset_ref.table(\"global_air_quality\")\n",
    "\n",
    "# API テーブル作成\n",
    "# table = client.get_table(table_ref)\n",
    "\n",
    "# global_air_qualityテーブルの最初の5行\n",
    "# client.list_rows(table, max_results=5).to_dataframe()"
   ]
  },
  {
   "cell_type": "markdown",
   "id": "9f48752f",
   "metadata": {
    "papermill": {
     "duration": 0.003466,
     "end_time": "2023-11-20T14:29:43.355083",
     "exception": false,
     "start_time": "2023-11-20T14:29:43.351617",
     "status": "completed"
    },
    "tags": []
   },
   "source": [
    "# Exerises  --演習"
   ]
  },
  {
   "cell_type": "markdown",
   "id": "3e5cf0ba",
   "metadata": {
    "papermill": {
     "duration": 0.003337,
     "end_time": "2023-11-20T14:29:43.362089",
     "exception": false,
     "start_time": "2023-11-20T14:29:43.358752",
     "status": "completed"
    },
    "tags": []
   },
   "source": [
    "## 01）データテーブルを数える"
   ]
  },
  {
   "cell_type": "code",
   "execution_count": 3,
   "id": "e51fc7f1",
   "metadata": {
    "execution": {
     "iopub.execute_input": "2023-11-20T14:29:43.371365Z",
     "iopub.status.busy": "2023-11-20T14:29:43.370997Z",
     "iopub.status.idle": "2023-11-20T14:29:44.304389Z",
     "shell.execute_reply": "2023-11-20T14:29:44.302616Z"
    },
    "papermill": {
     "duration": 0.940862,
     "end_time": "2023-11-20T14:29:44.306937",
     "exception": false,
     "start_time": "2023-11-20T14:29:43.366075",
     "status": "completed"
    },
    "tags": []
   },
   "outputs": [
    {
     "name": "stdout",
     "output_type": "stream",
     "text": [
      "1\n"
     ]
    }
   ],
   "source": [
    "# APIテーブル作成\n",
    "dataset = client.get_dataset(dataset_ref)\n",
    "\n",
    "tables = list(client.list_tables(dataset))\n",
    "print(len(tables))"
   ]
  },
  {
   "cell_type": "markdown",
   "id": "06334074",
   "metadata": {
    "papermill": {
     "duration": 0.003591,
     "end_time": "2023-11-20T14:29:44.314432",
     "exception": false,
     "start_time": "2023-11-20T14:29:44.310841",
     "status": "completed"
    },
    "tags": []
   },
   "source": [
    "## 02)列のタイプ抜き出し"
   ]
  },
  {
   "cell_type": "code",
   "execution_count": 4,
   "id": "f06852d6",
   "metadata": {
    "execution": {
     "iopub.execute_input": "2023-11-20T14:29:44.323949Z",
     "iopub.status.busy": "2023-11-20T14:29:44.323357Z",
     "iopub.status.idle": "2023-11-20T14:29:44.753581Z",
     "shell.execute_reply": "2023-11-20T14:29:44.752478Z"
    },
    "papermill": {
     "duration": 0.437818,
     "end_time": "2023-11-20T14:29:44.755915",
     "exception": false,
     "start_time": "2023-11-20T14:29:44.318097",
     "status": "completed"
    },
    "tags": []
   },
   "outputs": [
    {
     "name": "stdout",
     "output_type": "stream",
     "text": [
      "[SchemaField('location', 'STRING', 'NULLABLE', None, (), None), SchemaField('city', 'STRING', 'NULLABLE', None, (), None), SchemaField('country', 'STRING', 'NULLABLE', None, (), None), SchemaField('pollutant', 'STRING', 'NULLABLE', None, (), None), SchemaField('value', 'FLOAT', 'NULLABLE', None, (), None), SchemaField('timestamp', 'TIMESTAMP', 'NULLABLE', None, (), None), SchemaField('unit', 'STRING', 'NULLABLE', None, (), None), SchemaField('source_name', 'STRING', 'NULLABLE', None, (), None), SchemaField('latitude', 'FLOAT', 'NULLABLE', None, (), None), SchemaField('longitude', 'FLOAT', 'NULLABLE', None, (), None), SchemaField('averaged_over_in_hours', 'FLOAT', 'NULLABLE', None, (), None), SchemaField('location_geom', 'GEOGRAPHY', 'NULLABLE', None, (), None)]\n"
     ]
    }
   ],
   "source": [
    "table_ref = dataset_ref.table(\"global_air_quality\")\n",
    "table = client.get_table(table_ref)\n",
    "print(table.schema)"
   ]
  },
  {
   "cell_type": "markdown",
   "id": "d6c935d1",
   "metadata": {
    "papermill": {
     "duration": 0.003586,
     "end_time": "2023-11-20T14:29:44.763466",
     "exception": false,
     "start_time": "2023-11-20T14:29:44.759880",
     "status": "completed"
    },
    "tags": []
   },
   "source": [
    "## 03)カラムを指定する"
   ]
  },
  {
   "cell_type": "code",
   "execution_count": 5,
   "id": "b4137770",
   "metadata": {
    "execution": {
     "iopub.execute_input": "2023-11-20T14:29:44.773178Z",
     "iopub.status.busy": "2023-11-20T14:29:44.772606Z",
     "iopub.status.idle": "2023-11-20T14:29:44.777766Z",
     "shell.execute_reply": "2023-11-20T14:29:44.776428Z"
    },
    "papermill": {
     "duration": 0.012945,
     "end_time": "2023-11-20T14:29:44.780352",
     "exception": false,
     "start_time": "2023-11-20T14:29:44.767407",
     "status": "completed"
    },
    "tags": []
   },
   "outputs": [],
   "source": [
    "#緯度と経度\n",
    "fields_for_plotting = ['latitude', 'longitude']"
   ]
  },
  {
   "cell_type": "code",
   "execution_count": 6,
   "id": "1c9718ff",
   "metadata": {
    "execution": {
     "iopub.execute_input": "2023-11-20T14:29:44.790432Z",
     "iopub.status.busy": "2023-11-20T14:29:44.789996Z",
     "iopub.status.idle": "2023-11-20T14:30:09.706980Z",
     "shell.execute_reply": "2023-11-20T14:30:09.705898Z"
    },
    "papermill": {
     "duration": 24.924942,
     "end_time": "2023-11-20T14:30:09.709359",
     "exception": false,
     "start_time": "2023-11-20T14:29:44.784417",
     "status": "completed"
    },
    "tags": []
   },
   "outputs": [
    {
     "name": "stdout",
     "output_type": "stream",
     "text": [
      "  country\n",
      "0      AR\n",
      "1      IL\n",
      "2      IL\n",
      "3      AR\n",
      "4      AR\n"
     ]
    }
   ],
   "source": [
    "first_query = \"\"\"\n",
    "              SELECT country\n",
    "              FROM `bigquery-public-data.openaq.global_air_quality`\n",
    "              WHERE unit = \"ppm\"\n",
    "              \"\"\"\n",
    "safe_config = bigquery.QueryJobConfig(maximum_bytes_billed=10**10)\n",
    "first_query_job = client.query(first_query, job_config=safe_config)\n",
    "first_results = first_query_job.to_dataframe()\n",
    "print(first_results.head())\n",
    "\n"
   ]
  },
  {
   "cell_type": "markdown",
   "id": "e2741cb4",
   "metadata": {
    "papermill": {
     "duration": 0.003991,
     "end_time": "2023-11-20T14:30:09.717796",
     "exception": false,
     "start_time": "2023-11-20T14:30:09.713805",
     "status": "completed"
    },
    "tags": []
   },
   "source": [
    "## 04)テーブル作成"
   ]
  },
  {
   "cell_type": "code",
   "execution_count": 7,
   "id": "0e0a8780",
   "metadata": {
    "execution": {
     "iopub.execute_input": "2023-11-20T14:30:09.727492Z",
     "iopub.status.busy": "2023-11-20T14:30:09.727114Z",
     "iopub.status.idle": "2023-11-20T14:30:11.161782Z",
     "shell.execute_reply": "2023-11-20T14:30:11.160398Z"
    },
    "papermill": {
     "duration": 1.442591,
     "end_time": "2023-11-20T14:30:11.164344",
     "exception": false,
     "start_time": "2023-11-20T14:30:09.721753",
     "status": "completed"
    },
    "tags": []
   },
   "outputs": [
    {
     "name": "stdout",
     "output_type": "stream",
     "text": [
      "Using Kaggle's public dataset BigQuery integration.\n"
     ]
    },
    {
     "data": {
      "text/html": [
       "<div>\n",
       "<style scoped>\n",
       "    .dataframe tbody tr th:only-of-type {\n",
       "        vertical-align: middle;\n",
       "    }\n",
       "\n",
       "    .dataframe tbody tr th {\n",
       "        vertical-align: top;\n",
       "    }\n",
       "\n",
       "    .dataframe thead th {\n",
       "        text-align: right;\n",
       "    }\n",
       "</style>\n",
       "<table border=\"1\" class=\"dataframe\">\n",
       "  <thead>\n",
       "    <tr style=\"text-align: right;\">\n",
       "      <th></th>\n",
       "      <th>country_name</th>\n",
       "      <th>country_code</th>\n",
       "      <th>indicator_name</th>\n",
       "      <th>indicator_code</th>\n",
       "      <th>value</th>\n",
       "      <th>year</th>\n",
       "    </tr>\n",
       "  </thead>\n",
       "  <tbody>\n",
       "    <tr>\n",
       "      <th>0</th>\n",
       "      <td>Chad</td>\n",
       "      <td>TCD</td>\n",
       "      <td>Enrolment in lower secondary education, both s...</td>\n",
       "      <td>UIS.E.2</td>\n",
       "      <td>321921.0</td>\n",
       "      <td>2012</td>\n",
       "    </tr>\n",
       "    <tr>\n",
       "      <th>1</th>\n",
       "      <td>Chad</td>\n",
       "      <td>TCD</td>\n",
       "      <td>Enrolment in upper secondary education, both s...</td>\n",
       "      <td>UIS.E.3</td>\n",
       "      <td>68809.0</td>\n",
       "      <td>2006</td>\n",
       "    </tr>\n",
       "    <tr>\n",
       "      <th>2</th>\n",
       "      <td>Chad</td>\n",
       "      <td>TCD</td>\n",
       "      <td>Enrolment in upper secondary education, both s...</td>\n",
       "      <td>UIS.E.3</td>\n",
       "      <td>30551.0</td>\n",
       "      <td>1999</td>\n",
       "    </tr>\n",
       "    <tr>\n",
       "      <th>3</th>\n",
       "      <td>Chad</td>\n",
       "      <td>TCD</td>\n",
       "      <td>Enrolment in upper secondary education, both s...</td>\n",
       "      <td>UIS.E.3</td>\n",
       "      <td>79784.0</td>\n",
       "      <td>2007</td>\n",
       "    </tr>\n",
       "    <tr>\n",
       "      <th>4</th>\n",
       "      <td>Chad</td>\n",
       "      <td>TCD</td>\n",
       "      <td>Repeaters in primary education, all grades, bo...</td>\n",
       "      <td>UIS.R.1</td>\n",
       "      <td>282699.0</td>\n",
       "      <td>2006</td>\n",
       "    </tr>\n",
       "  </tbody>\n",
       "</table>\n",
       "</div>"
      ],
      "text/plain": [
       "  country_name country_code  \\\n",
       "0         Chad          TCD   \n",
       "1         Chad          TCD   \n",
       "2         Chad          TCD   \n",
       "3         Chad          TCD   \n",
       "4         Chad          TCD   \n",
       "\n",
       "                                      indicator_name indicator_code     value  \\\n",
       "0  Enrolment in lower secondary education, both s...        UIS.E.2  321921.0   \n",
       "1  Enrolment in upper secondary education, both s...        UIS.E.3   68809.0   \n",
       "2  Enrolment in upper secondary education, both s...        UIS.E.3   30551.0   \n",
       "3  Enrolment in upper secondary education, both s...        UIS.E.3   79784.0   \n",
       "4  Repeaters in primary education, all grades, bo...        UIS.R.1  282699.0   \n",
       "\n",
       "   year  \n",
       "0  2012  \n",
       "1  2006  \n",
       "2  1999  \n",
       "3  2007  \n",
       "4  2006  "
      ]
     },
     "execution_count": 7,
     "metadata": {},
     "output_type": "execute_result"
    }
   ],
   "source": [
    "from google.cloud import bigquery\n",
    "\n",
    "# Create a \"Client\" object\n",
    "client = bigquery.Client()\n",
    "\n",
    "# Construct a reference to the \"world_bank_intl_education\" dataset\n",
    "dataset_ref = client.dataset(\"world_bank_intl_education\", project=\"bigquery-public-data\")\n",
    "\n",
    "# API request - fetch the dataset\n",
    "dataset = client.get_dataset(dataset_ref)\n",
    "\n",
    "# Construct a reference to the \"international_education\" table\n",
    "table_ref = dataset_ref.table(\"international_education\")\n",
    "\n",
    "# API request - fetch the table\n",
    "table = client.get_table(table_ref)\n",
    "\n",
    "# Preview the first five lines of the \"international_education\" table\n",
    "client.list_rows(table, max_results=5).to_dataframe()"
   ]
  },
  {
   "cell_type": "code",
   "execution_count": null,
   "id": "b9cae3c9",
   "metadata": {
    "papermill": {
     "duration": 0.004412,
     "end_time": "2023-11-20T14:30:11.173722",
     "exception": false,
     "start_time": "2023-11-20T14:30:11.169310",
     "status": "completed"
    },
    "tags": []
   },
   "outputs": [],
   "source": []
  }
 ],
 "metadata": {
  "kaggle": {
   "accelerator": "none",
   "dataSources": [
    {
     "datasetId": 5836,
     "sourceId": 8677,
     "sourceType": "datasetVersion"
    }
   ],
   "dockerImageVersionId": 30579,
   "isGpuEnabled": false,
   "isInternetEnabled": true,
   "language": "python",
   "sourceType": "notebook"
  },
  "kernelspec": {
   "display_name": "Python 3",
   "language": "python",
   "name": "python3"
  },
  "language_info": {
   "codemirror_mode": {
    "name": "ipython",
    "version": 3
   },
   "file_extension": ".py",
   "mimetype": "text/x-python",
   "name": "python",
   "nbconvert_exporter": "python",
   "pygments_lexer": "ipython3",
   "version": "3.10.12"
  },
  "papermill": {
   "default_parameters": {},
   "duration": 38.224215,
   "end_time": "2023-11-20T14:30:12.203640",
   "environment_variables": {},
   "exception": null,
   "input_path": "__notebook__.ipynb",
   "output_path": "__notebook__.ipynb",
   "parameters": {},
   "start_time": "2023-11-20T14:29:33.979425",
   "version": "2.4.0"
  }
 },
 "nbformat": 4,
 "nbformat_minor": 5
}
