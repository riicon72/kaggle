{
 "cells": [
  {
   "cell_type": "markdown",
   "id": "daed8fd6",
   "metadata": {
    "papermill": {
     "duration": 0.009145,
     "end_time": "2023-11-06T09:48:34.798221",
     "exception": false,
     "start_time": "2023-11-06T09:48:34.789076",
     "status": "completed"
    },
    "tags": []
   },
   "source": [
    "**This notebook is an exercise in the [SQL](https://www.kaggle.com/learn/intro-to-sql) course.  You can reference the tutorial at [this link](https://www.kaggle.com/dansbecker/getting-started-with-sql-and-bigquery).**\n",
    "\n",
    "---\n"
   ]
  },
  {
   "cell_type": "markdown",
   "id": "5fbeabfe",
   "metadata": {
    "papermill": {
     "duration": 0.006498,
     "end_time": "2023-11-06T09:48:34.811795",
     "exception": false,
     "start_time": "2023-11-06T09:48:34.805297",
     "status": "completed"
    },
    "tags": []
   },
   "source": [
    "# Introduction\n",
    "\n",
    "The first test of your new data exploration skills uses data describing crime in the city of Chicago.\n",
    "\n",
    "Before you get started, run the following cell. It sets up the automated feedback system to review your answers."
   ]
  },
  {
   "cell_type": "code",
   "execution_count": 1,
   "id": "6f5d0dcb",
   "metadata": {
    "execution": {
     "iopub.execute_input": "2023-11-06T09:48:34.828016Z",
     "iopub.status.busy": "2023-11-06T09:48:34.827255Z",
     "iopub.status.idle": "2023-11-06T09:48:40.563535Z",
     "shell.execute_reply": "2023-11-06T09:48:40.562107Z"
    },
    "papermill": {
     "duration": 5.747838,
     "end_time": "2023-11-06T09:48:40.566500",
     "exception": false,
     "start_time": "2023-11-06T09:48:34.818662",
     "status": "completed"
    },
    "tags": []
   },
   "outputs": [
    {
     "name": "stdout",
     "output_type": "stream",
     "text": [
      "Using Kaggle's public dataset BigQuery integration.\n",
      "Setup Complete\n"
     ]
    }
   ],
   "source": [
    "# Set up feedack system\n",
    "from learntools.core import binder\n",
    "binder.bind(globals())\n",
    "from learntools.sql.ex1 import *\n",
    "print(\"Setup Complete\")"
   ]
  },
  {
   "cell_type": "markdown",
   "id": "e605e43e",
   "metadata": {
    "papermill": {
     "duration": 0.006715,
     "end_time": "2023-11-06T09:48:40.580496",
     "exception": false,
     "start_time": "2023-11-06T09:48:40.573781",
     "status": "completed"
    },
    "tags": []
   },
   "source": [
    "Use the next code cell to fetch the dataset."
   ]
  },
  {
   "cell_type": "code",
   "execution_count": 2,
   "id": "524173f9",
   "metadata": {
    "execution": {
     "iopub.execute_input": "2023-11-06T09:48:40.597735Z",
     "iopub.status.busy": "2023-11-06T09:48:40.596363Z",
     "iopub.status.idle": "2023-11-06T09:48:40.953992Z",
     "shell.execute_reply": "2023-11-06T09:48:40.952921Z"
    },
    "papermill": {
     "duration": 0.369356,
     "end_time": "2023-11-06T09:48:40.956868",
     "exception": false,
     "start_time": "2023-11-06T09:48:40.587512",
     "status": "completed"
    },
    "tags": []
   },
   "outputs": [
    {
     "name": "stdout",
     "output_type": "stream",
     "text": [
      "Using Kaggle's public dataset BigQuery integration.\n"
     ]
    }
   ],
   "source": [
    "from google.cloud import bigquery\n",
    "\n",
    "# Create a \"Client\" object\n",
    "client = bigquery.Client()\n",
    "\n",
    "# Construct a reference to the \"chicago_crime\" dataset\n",
    "dataset_ref = client.dataset(\"chicago_crime\", project=\"bigquery-public-data\")\n",
    "\n",
    "# API request - fetch the dataset\n",
    "dataset = client.get_dataset(dataset_ref)"
   ]
  },
  {
   "cell_type": "markdown",
   "id": "e82d5c66",
   "metadata": {
    "papermill": {
     "duration": 0.006938,
     "end_time": "2023-11-06T09:48:40.971197",
     "exception": false,
     "start_time": "2023-11-06T09:48:40.964259",
     "status": "completed"
    },
    "tags": []
   },
   "source": [
    "# Exercises\n",
    "\n",
    "### 1) Count tables in the dataset\n",
    "\n",
    "How many tables are in the Chicago Crime dataset?"
   ]
  },
  {
   "cell_type": "code",
   "execution_count": 3,
   "id": "a2403f40",
   "metadata": {
    "execution": {
     "iopub.execute_input": "2023-11-06T09:48:40.988574Z",
     "iopub.status.busy": "2023-11-06T09:48:40.988189Z",
     "iopub.status.idle": "2023-11-06T09:48:40.992085Z",
     "shell.execute_reply": "2023-11-06T09:48:40.991214Z"
    },
    "papermill": {
     "duration": 0.015548,
     "end_time": "2023-11-06T09:48:40.994388",
     "exception": false,
     "start_time": "2023-11-06T09:48:40.978840",
     "status": "completed"
    },
    "tags": []
   },
   "outputs": [],
   "source": [
    "# Write the code you need here to figure out the answer"
   ]
  },
  {
   "cell_type": "code",
   "execution_count": 4,
   "id": "a9d31728",
   "metadata": {
    "execution": {
     "iopub.execute_input": "2023-11-06T09:48:41.011388Z",
     "iopub.status.busy": "2023-11-06T09:48:41.010712Z",
     "iopub.status.idle": "2023-11-06T09:48:41.239972Z",
     "shell.execute_reply": "2023-11-06T09:48:41.238735Z"
    },
    "papermill": {
     "duration": 0.240614,
     "end_time": "2023-11-06T09:48:41.242434",
     "exception": false,
     "start_time": "2023-11-06T09:48:41.001820",
     "status": "completed"
    },
    "tags": []
   },
   "outputs": [
    {
     "name": "stdout",
     "output_type": "stream",
     "text": [
      "1\n"
     ]
    },
    {
     "data": {
      "application/javascript": [
       "parent.postMessage({\"jupyterEvent\": \"custom.exercise_interaction\", \"data\": {\"outcomeType\": 1, \"valueTowardsCompletion\": 0.3333333333333333, \"interactionType\": 1, \"questionType\": 1, \"questionId\": \"1_CountTables\", \"learnToolsVersion\": \"0.3.4\", \"failureMessage\": \"\", \"exceptionClass\": \"\", \"trace\": \"\"}}, \"*\")"
      ],
      "text/plain": [
       "<IPython.core.display.Javascript object>"
      ]
     },
     "metadata": {},
     "output_type": "display_data"
    },
    {
     "data": {
      "text/markdown": [
       "<span style=\"color:#33cc33\">Correct</span>"
      ],
      "text/plain": [
       "Correct"
      ]
     },
     "metadata": {},
     "output_type": "display_data"
    }
   ],
   "source": [
    "tables = list(client.list_tables(dataset))\n",
    "\n",
    "# Print number of tables in the dataset\n",
    "print(len(tables))\n",
    "\n",
    "num_tables = 1  # Store the answer as num_tables and then run this cell\n",
    "\n",
    "# Check your answer\n",
    "q_1.check()"
   ]
  },
  {
   "cell_type": "markdown",
   "id": "622d9b40",
   "metadata": {
    "papermill": {
     "duration": 0.007407,
     "end_time": "2023-11-06T09:48:41.257637",
     "exception": false,
     "start_time": "2023-11-06T09:48:41.250230",
     "status": "completed"
    },
    "tags": []
   },
   "source": [
    "For a hint or the solution, uncomment the appropriate line below."
   ]
  },
  {
   "cell_type": "code",
   "execution_count": 5,
   "id": "d49ea065",
   "metadata": {
    "execution": {
     "iopub.execute_input": "2023-11-06T09:48:41.275313Z",
     "iopub.status.busy": "2023-11-06T09:48:41.274634Z",
     "iopub.status.idle": "2023-11-06T09:48:41.283409Z",
     "shell.execute_reply": "2023-11-06T09:48:41.282528Z"
    },
    "papermill": {
     "duration": 0.020187,
     "end_time": "2023-11-06T09:48:41.285566",
     "exception": false,
     "start_time": "2023-11-06T09:48:41.265379",
     "status": "completed"
    },
    "tags": []
   },
   "outputs": [
    {
     "data": {
      "application/javascript": [
       "parent.postMessage({\"jupyterEvent\": \"custom.exercise_interaction\", \"data\": {\"interactionType\": 3, \"questionType\": 1, \"questionId\": \"1_CountTables\", \"learnToolsVersion\": \"0.3.4\", \"valueTowardsCompletion\": 0.0, \"failureMessage\": \"\", \"exceptionClass\": \"\", \"trace\": \"\", \"outcomeType\": 4}}, \"*\")"
      ],
      "text/plain": [
       "<IPython.core.display.Javascript object>"
      ]
     },
     "metadata": {},
     "output_type": "display_data"
    },
    {
     "data": {
      "text/markdown": [
       "<span style=\"color:#33cc99\">Solution:</span> \n",
       "```python\n",
       "\n",
       "# List all the tables in the \"chicago_crime\" dataset\n",
       "tables = list(client.list_tables(dataset))\n",
       "\n",
       "# Print number of tables in the dataset\n",
       "print(len(tables))\n",
       "\n",
       "num_tables = 1\n",
       "\n",
       "```"
      ],
      "text/plain": [
       "Solution: \n",
       "```python\n",
       "\n",
       "# List all the tables in the \"chicago_crime\" dataset\n",
       "tables = list(client.list_tables(dataset))\n",
       "\n",
       "# Print number of tables in the dataset\n",
       "print(len(tables))\n",
       "\n",
       "num_tables = 1\n",
       "\n",
       "```"
      ]
     },
     "metadata": {},
     "output_type": "display_data"
    }
   ],
   "source": [
    "#q_1.hint()\n",
    "q_1.solution()"
   ]
  },
  {
   "cell_type": "markdown",
   "id": "ce4b2992",
   "metadata": {
    "papermill": {
     "duration": 0.007798,
     "end_time": "2023-11-06T09:48:41.301405",
     "exception": false,
     "start_time": "2023-11-06T09:48:41.293607",
     "status": "completed"
    },
    "tags": []
   },
   "source": [
    "### 2) Explore the table schema\n",
    "\n",
    "How many columns in the `crime` table have `TIMESTAMP` data?"
   ]
  },
  {
   "cell_type": "code",
   "execution_count": 6,
   "id": "1ad3f62e",
   "metadata": {
    "execution": {
     "iopub.execute_input": "2023-11-06T09:48:41.319561Z",
     "iopub.status.busy": "2023-11-06T09:48:41.318886Z",
     "iopub.status.idle": "2023-11-06T09:48:41.323646Z",
     "shell.execute_reply": "2023-11-06T09:48:41.322650Z"
    },
    "papermill": {
     "duration": 0.016713,
     "end_time": "2023-11-06T09:48:41.326072",
     "exception": false,
     "start_time": "2023-11-06T09:48:41.309359",
     "status": "completed"
    },
    "tags": []
   },
   "outputs": [],
   "source": [
    "# Write the code to figure out the answer"
   ]
  },
  {
   "cell_type": "code",
   "execution_count": 7,
   "id": "c4255374",
   "metadata": {
    "execution": {
     "iopub.execute_input": "2023-11-06T09:48:41.344264Z",
     "iopub.status.busy": "2023-11-06T09:48:41.343887Z",
     "iopub.status.idle": "2023-11-06T09:48:41.609080Z",
     "shell.execute_reply": "2023-11-06T09:48:41.607948Z"
    },
    "papermill": {
     "duration": 0.277448,
     "end_time": "2023-11-06T09:48:41.611628",
     "exception": false,
     "start_time": "2023-11-06T09:48:41.334180",
     "status": "completed"
    },
    "tags": []
   },
   "outputs": [
    {
     "name": "stdout",
     "output_type": "stream",
     "text": [
      "[SchemaField('unique_key', 'INTEGER', 'REQUIRED', None, (), None), SchemaField('case_number', 'STRING', 'NULLABLE', None, (), None), SchemaField('date', 'TIMESTAMP', 'NULLABLE', None, (), None), SchemaField('block', 'STRING', 'NULLABLE', None, (), None), SchemaField('iucr', 'STRING', 'NULLABLE', None, (), None), SchemaField('primary_type', 'STRING', 'NULLABLE', None, (), None), SchemaField('description', 'STRING', 'NULLABLE', None, (), None), SchemaField('location_description', 'STRING', 'NULLABLE', None, (), None), SchemaField('arrest', 'BOOLEAN', 'NULLABLE', None, (), None), SchemaField('domestic', 'BOOLEAN', 'NULLABLE', None, (), None), SchemaField('beat', 'INTEGER', 'NULLABLE', None, (), None), SchemaField('district', 'INTEGER', 'NULLABLE', None, (), None), SchemaField('ward', 'INTEGER', 'NULLABLE', None, (), None), SchemaField('community_area', 'INTEGER', 'NULLABLE', None, (), None), SchemaField('fbi_code', 'STRING', 'NULLABLE', None, (), None), SchemaField('x_coordinate', 'FLOAT', 'NULLABLE', None, (), None), SchemaField('y_coordinate', 'FLOAT', 'NULLABLE', None, (), None), SchemaField('year', 'INTEGER', 'NULLABLE', None, (), None), SchemaField('updated_on', 'TIMESTAMP', 'NULLABLE', None, (), None), SchemaField('latitude', 'FLOAT', 'NULLABLE', None, (), None), SchemaField('longitude', 'FLOAT', 'NULLABLE', None, (), None), SchemaField('location', 'STRING', 'NULLABLE', None, (), None)]\n"
     ]
    },
    {
     "data": {
      "application/javascript": [
       "parent.postMessage({\"jupyterEvent\": \"custom.exercise_interaction\", \"data\": {\"outcomeType\": 1, \"valueTowardsCompletion\": 0.3333333333333333, \"interactionType\": 1, \"questionType\": 1, \"questionId\": \"2_CountTimestampFields\", \"learnToolsVersion\": \"0.3.4\", \"failureMessage\": \"\", \"exceptionClass\": \"\", \"trace\": \"\"}}, \"*\")"
      ],
      "text/plain": [
       "<IPython.core.display.Javascript object>"
      ]
     },
     "metadata": {},
     "output_type": "display_data"
    },
    {
     "data": {
      "text/markdown": [
       "<span style=\"color:#33cc33\">Correct</span>"
      ],
      "text/plain": [
       "Correct"
      ]
     },
     "metadata": {},
     "output_type": "display_data"
    }
   ],
   "source": [
    "# Construct a reference to the \"crime\" table\n",
    "table_ref = dataset_ref.table(\"crime\")\n",
    "\n",
    "# API request - fetch the table\n",
    "table = client.get_table(table_ref)\n",
    "\n",
    "# Print information on all the columns in the \"crime\" table in the \"chicago_crime\" dataset\n",
    "print(table.schema)\n",
    "\n",
    "num_timestamp_fields = 2 # Put your answer here\n",
    "\n",
    "# Check your answer\n",
    "q_2.check()"
   ]
  },
  {
   "cell_type": "markdown",
   "id": "5dba9f4b",
   "metadata": {
    "papermill": {
     "duration": 0.008271,
     "end_time": "2023-11-06T09:48:41.628506",
     "exception": false,
     "start_time": "2023-11-06T09:48:41.620235",
     "status": "completed"
    },
    "tags": []
   },
   "source": [
    "For a hint or the solution, uncomment the appropriate line below."
   ]
  },
  {
   "cell_type": "code",
   "execution_count": 8,
   "id": "d97484e9",
   "metadata": {
    "execution": {
     "iopub.execute_input": "2023-11-06T09:48:41.647250Z",
     "iopub.status.busy": "2023-11-06T09:48:41.646859Z",
     "iopub.status.idle": "2023-11-06T09:48:41.661182Z",
     "shell.execute_reply": "2023-11-06T09:48:41.660082Z"
    },
    "papermill": {
     "duration": 0.026574,
     "end_time": "2023-11-06T09:48:41.663571",
     "exception": false,
     "start_time": "2023-11-06T09:48:41.636997",
     "status": "completed"
    },
    "tags": []
   },
   "outputs": [
    {
     "data": {
      "application/javascript": [
       "parent.postMessage({\"jupyterEvent\": \"custom.exercise_interaction\", \"data\": {\"interactionType\": 2, \"questionType\": 1, \"questionId\": \"2_CountTimestampFields\", \"learnToolsVersion\": \"0.3.4\", \"valueTowardsCompletion\": 0.0, \"failureMessage\": \"\", \"exceptionClass\": \"\", \"trace\": \"\", \"outcomeType\": 4}}, \"*\")"
      ],
      "text/plain": [
       "<IPython.core.display.Javascript object>"
      ]
     },
     "metadata": {},
     "output_type": "display_data"
    },
    {
     "data": {
      "text/markdown": [
       "<span style=\"color:#3366cc\">Hint:</span> Begin by fetching the `crime` table. Then take a look at the table schema, and check the field type of each column.  How many times does `'TIMESTAMP'` appear?"
      ],
      "text/plain": [
       "Hint: Begin by fetching the `crime` table. Then take a look at the table schema, and check the field type of each column.  How many times does `'TIMESTAMP'` appear?"
      ]
     },
     "metadata": {},
     "output_type": "display_data"
    },
    {
     "data": {
      "application/javascript": [
       "parent.postMessage({\"jupyterEvent\": \"custom.exercise_interaction\", \"data\": {\"interactionType\": 3, \"questionType\": 1, \"questionId\": \"2_CountTimestampFields\", \"learnToolsVersion\": \"0.3.4\", \"valueTowardsCompletion\": 0.0, \"failureMessage\": \"\", \"exceptionClass\": \"\", \"trace\": \"\", \"outcomeType\": 4}}, \"*\")"
      ],
      "text/plain": [
       "<IPython.core.display.Javascript object>"
      ]
     },
     "metadata": {},
     "output_type": "display_data"
    },
    {
     "data": {
      "text/markdown": [
       "<span style=\"color:#33cc99\">Solution:</span> \n",
       "```python\n",
       "\n",
       "# Construct a reference to the \"crime\" table\n",
       "table_ref = dataset_ref.table(\"crime\")\n",
       "\n",
       "# API request - fetch the table\n",
       "table = client.get_table(table_ref)\n",
       "\n",
       "# Print information on all the columns in the \"crime\" table in the \"chicago_crime\" dataset\n",
       "print(table.schema)\n",
       "\n",
       "num_timestamp_fields = 2\n",
       "\n",
       "```"
      ],
      "text/plain": [
       "Solution: \n",
       "```python\n",
       "\n",
       "# Construct a reference to the \"crime\" table\n",
       "table_ref = dataset_ref.table(\"crime\")\n",
       "\n",
       "# API request - fetch the table\n",
       "table = client.get_table(table_ref)\n",
       "\n",
       "# Print information on all the columns in the \"crime\" table in the \"chicago_crime\" dataset\n",
       "print(table.schema)\n",
       "\n",
       "num_timestamp_fields = 2\n",
       "\n",
       "```"
      ]
     },
     "metadata": {},
     "output_type": "display_data"
    }
   ],
   "source": [
    "q_2.hint()\n",
    "q_2.solution()"
   ]
  },
  {
   "cell_type": "markdown",
   "id": "9b162835",
   "metadata": {
    "papermill": {
     "duration": 0.008819,
     "end_time": "2023-11-06T09:48:41.681741",
     "exception": false,
     "start_time": "2023-11-06T09:48:41.672922",
     "status": "completed"
    },
    "tags": []
   },
   "source": [
    "### 3) Create a crime map\n",
    "\n",
    "If you wanted to create a map with a dot at the location of each crime, what are the names of the two fields you likely need to pull out of the `crime` table to plot the crimes on a map?"
   ]
  },
  {
   "cell_type": "code",
   "execution_count": 9,
   "id": "09cc8fd1",
   "metadata": {
    "execution": {
     "iopub.execute_input": "2023-11-06T09:48:41.702034Z",
     "iopub.status.busy": "2023-11-06T09:48:41.701588Z",
     "iopub.status.idle": "2023-11-06T09:48:41.706052Z",
     "shell.execute_reply": "2023-11-06T09:48:41.704947Z"
    },
    "papermill": {
     "duration": 0.017527,
     "end_time": "2023-11-06T09:48:41.708428",
     "exception": false,
     "start_time": "2023-11-06T09:48:41.690901",
     "status": "completed"
    },
    "tags": []
   },
   "outputs": [],
   "source": [
    "# Write the code here to explore the data so you can find the answer"
   ]
  },
  {
   "cell_type": "code",
   "execution_count": 10,
   "id": "87edaff4",
   "metadata": {
    "execution": {
     "iopub.execute_input": "2023-11-06T09:48:41.729070Z",
     "iopub.status.busy": "2023-11-06T09:48:41.728651Z",
     "iopub.status.idle": "2023-11-06T09:48:41.737454Z",
     "shell.execute_reply": "2023-11-06T09:48:41.736363Z"
    },
    "papermill": {
     "duration": 0.021915,
     "end_time": "2023-11-06T09:48:41.739773",
     "exception": false,
     "start_time": "2023-11-06T09:48:41.717858",
     "status": "completed"
    },
    "tags": []
   },
   "outputs": [
    {
     "data": {
      "application/javascript": [
       "parent.postMessage({\"jupyterEvent\": \"custom.exercise_interaction\", \"data\": {\"outcomeType\": 1, \"valueTowardsCompletion\": 0.3333333333333333, \"interactionType\": 1, \"questionType\": 2, \"questionId\": \"3_IdentifyFieldsForPlotting\", \"learnToolsVersion\": \"0.3.4\", \"failureMessage\": \"\", \"exceptionClass\": \"\", \"trace\": \"\"}}, \"*\")"
      ],
      "text/plain": [
       "<IPython.core.display.Javascript object>"
      ]
     },
     "metadata": {},
     "output_type": "display_data"
    },
    {
     "data": {
      "text/markdown": [
       "<span style=\"color:#33cc33\">Correct</span>"
      ],
      "text/plain": [
       "Correct"
      ]
     },
     "metadata": {},
     "output_type": "display_data"
    }
   ],
   "source": [
    "\n",
    "fields_for_plotting = ['latitude', 'longitude']# Put your answers here\n",
    "\n",
    "# Check your answer\n",
    "q_3.check()"
   ]
  },
  {
   "cell_type": "markdown",
   "id": "e2d7992f",
   "metadata": {
    "papermill": {
     "duration": 0.009368,
     "end_time": "2023-11-06T09:48:41.758879",
     "exception": false,
     "start_time": "2023-11-06T09:48:41.749511",
     "status": "completed"
    },
    "tags": []
   },
   "source": [
    "For a hint or the solution, uncomment the appropriate line below."
   ]
  },
  {
   "cell_type": "code",
   "execution_count": 11,
   "id": "bea200ee",
   "metadata": {
    "execution": {
     "iopub.execute_input": "2023-11-06T09:48:41.781229Z",
     "iopub.status.busy": "2023-11-06T09:48:41.780779Z",
     "iopub.status.idle": "2023-11-06T09:48:41.793359Z",
     "shell.execute_reply": "2023-11-06T09:48:41.792323Z"
    },
    "papermill": {
     "duration": 0.026866,
     "end_time": "2023-11-06T09:48:41.795510",
     "exception": false,
     "start_time": "2023-11-06T09:48:41.768644",
     "status": "completed"
    },
    "tags": []
   },
   "outputs": [
    {
     "data": {
      "application/javascript": [
       "parent.postMessage({\"jupyterEvent\": \"custom.exercise_interaction\", \"data\": {\"interactionType\": 2, \"questionType\": 2, \"questionId\": \"3_IdentifyFieldsForPlotting\", \"learnToolsVersion\": \"0.3.4\", \"valueTowardsCompletion\": 0.0, \"failureMessage\": \"\", \"exceptionClass\": \"\", \"trace\": \"\", \"outcomeType\": 4}}, \"*\")"
      ],
      "text/plain": [
       "<IPython.core.display.Javascript object>"
      ]
     },
     "metadata": {},
     "output_type": "display_data"
    },
    {
     "data": {
      "text/markdown": [
       "<span style=\"color:#3366cc\">Hint:</span> Look at the table schema.  There are a couple options, but two of the fields are things commonly used to plot on maps. Both are `'FLOAT'` types. Use quotes around the field names in your answer."
      ],
      "text/plain": [
       "Hint: Look at the table schema.  There are a couple options, but two of the fields are things commonly used to plot on maps. Both are `'FLOAT'` types. Use quotes around the field names in your answer."
      ]
     },
     "metadata": {},
     "output_type": "display_data"
    },
    {
     "data": {
      "application/javascript": [
       "parent.postMessage({\"jupyterEvent\": \"custom.exercise_interaction\", \"data\": {\"interactionType\": 3, \"questionType\": 2, \"questionId\": \"3_IdentifyFieldsForPlotting\", \"learnToolsVersion\": \"0.3.4\", \"valueTowardsCompletion\": 0.0, \"failureMessage\": \"\", \"exceptionClass\": \"\", \"trace\": \"\", \"outcomeType\": 4}}, \"*\")"
      ],
      "text/plain": [
       "<IPython.core.display.Javascript object>"
      ]
     },
     "metadata": {},
     "output_type": "display_data"
    },
    {
     "data": {
      "text/markdown": [
       "<span style=\"color:#33cc99\">Solution:</span> \n",
       "```python\n",
       "fields_for_plotting = ['latitude', 'longitude']\n",
       "```"
      ],
      "text/plain": [
       "Solution: \n",
       "```python\n",
       "fields_for_plotting = ['latitude', 'longitude']\n",
       "```"
      ]
     },
     "metadata": {},
     "output_type": "display_data"
    }
   ],
   "source": [
    "q_3.hint()\n",
    "q_3.solution()"
   ]
  },
  {
   "cell_type": "markdown",
   "id": "e1f442c3",
   "metadata": {
    "papermill": {
     "duration": 0.010264,
     "end_time": "2023-11-06T09:48:41.816217",
     "exception": false,
     "start_time": "2023-11-06T09:48:41.805953",
     "status": "completed"
    },
    "tags": []
   },
   "source": [
    "Thinking about the question above, there are a few columns that appear to have geographic data. Look at a few values (with the `list_rows()` command) to see if you can determine their relationship.  Two columns will still be hard to interpret. But it should be obvious how the `location` column relates to `latitude` and `longitude`."
   ]
  },
  {
   "cell_type": "code",
   "execution_count": 12,
   "id": "1ab3c955",
   "metadata": {
    "execution": {
     "iopub.execute_input": "2023-11-06T09:48:41.838543Z",
     "iopub.status.busy": "2023-11-06T09:48:41.838162Z",
     "iopub.status.idle": "2023-11-06T09:48:41.842383Z",
     "shell.execute_reply": "2023-11-06T09:48:41.841234Z"
    },
    "papermill": {
     "duration": 0.018132,
     "end_time": "2023-11-06T09:48:41.844577",
     "exception": false,
     "start_time": "2023-11-06T09:48:41.826445",
     "status": "completed"
    },
    "tags": []
   },
   "outputs": [],
   "source": [
    "# Scratch space for your code"
   ]
  },
  {
   "cell_type": "markdown",
   "id": "765b4d6b",
   "metadata": {
    "papermill": {
     "duration": 0.010342,
     "end_time": "2023-11-06T09:48:41.865271",
     "exception": false,
     "start_time": "2023-11-06T09:48:41.854929",
     "status": "completed"
    },
    "tags": []
   },
   "source": [
    "# Keep going\n",
    "\n",
    "You've looked at the schema, but you haven't yet done anything exciting with the data itself. Things get more interesting when you get to the data, so keep going to **[write your first SQL query](https://www.kaggle.com/dansbecker/select-from-where).**"
   ]
  },
  {
   "cell_type": "markdown",
   "id": "15080a19",
   "metadata": {
    "papermill": {
     "duration": 0.009994,
     "end_time": "2023-11-06T09:48:41.886102",
     "exception": false,
     "start_time": "2023-11-06T09:48:41.876108",
     "status": "completed"
    },
    "tags": []
   },
   "source": [
    "---\n",
    "\n",
    "\n",
    "\n",
    "\n",
    "*Have questions or comments? Visit the [course discussion forum](https://www.kaggle.com/learn/intro-to-sql/discussion) to chat with other learners.*"
   ]
  }
 ],
 "metadata": {
  "kernelspec": {
   "display_name": "Python 3",
   "language": "python",
   "name": "python3"
  },
  "language_info": {
   "codemirror_mode": {
    "name": "ipython",
    "version": 3
   },
   "file_extension": ".py",
   "mimetype": "text/x-python",
   "name": "python",
   "nbconvert_exporter": "python",
   "pygments_lexer": "ipython3",
   "version": "3.10.12"
  },
  "papermill": {
   "default_parameters": {},
   "duration": 11.396371,
   "end_time": "2023-11-06T09:48:42.617209",
   "environment_variables": {},
   "exception": null,
   "input_path": "__notebook__.ipynb",
   "output_path": "__notebook__.ipynb",
   "parameters": {},
   "start_time": "2023-11-06T09:48:31.220838",
   "version": "2.4.0"
  }
 },
 "nbformat": 4,
 "nbformat_minor": 5
}
