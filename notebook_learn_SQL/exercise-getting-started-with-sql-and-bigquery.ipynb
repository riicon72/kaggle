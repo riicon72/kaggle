{
 "cells": [
  {
   "cell_type": "markdown",
   "id": "ab8fac7d",
   "metadata": {
    "papermill": {
     "duration": 0.00488,
     "end_time": "2023-11-06T10:14:17.890031",
     "exception": false,
     "start_time": "2023-11-06T10:14:17.885151",
     "status": "completed"
    },
    "tags": []
   },
   "source": [
    "**This notebook is an exercise in the [SQL](https://www.kaggle.com/learn/intro-to-sql) course.  You can reference the tutorial at [this link](https://www.kaggle.com/dansbecker/getting-started-with-sql-and-bigquery).**\n",
    "\n",
    "---\n"
   ]
  },
  {
   "cell_type": "markdown",
   "id": "30c3eb45",
   "metadata": {
    "papermill": {
     "duration": 0.0039,
     "end_time": "2023-11-06T10:14:17.899995",
     "exception": false,
     "start_time": "2023-11-06T10:14:17.896095",
     "status": "completed"
    },
    "tags": []
   },
   "source": [
    "日本人向けに日本語訳を入れました。\n",
    "言い回しが間違っていたらすみません。\n",
    "お役に立てれば幸いです。"
   ]
  },
  {
   "cell_type": "markdown",
   "id": "e03b40ec",
   "metadata": {
    "papermill": {
     "duration": 0.004227,
     "end_time": "2023-11-06T10:14:17.908526",
     "exception": false,
     "start_time": "2023-11-06T10:14:17.904299",
     "status": "completed"
    },
    "tags": []
   },
   "source": [
    "# Introduction　　--導入\n",
    "\n",
    "The first test of your new data exploration skills uses data describing crime in the city of Chicago.\n",
    "新しいデータ探索スキルの最初のテストでは、シカゴ市の犯罪を説明するデータを使用します。\n",
    "\n",
    "Before you get started, run the following cell. It sets up the automated feedback system to review your answers.\n",
    "始める前に、次のセルを実行します。 回答をレビューするための自動フィードバック システムが設定されます。"
   ]
  },
  {
   "cell_type": "code",
   "execution_count": 1,
   "id": "6bbc397e",
   "metadata": {
    "execution": {
     "iopub.execute_input": "2023-11-06T10:14:17.918925Z",
     "iopub.status.busy": "2023-11-06T10:14:17.918239Z",
     "iopub.status.idle": "2023-11-06T10:14:22.581891Z",
     "shell.execute_reply": "2023-11-06T10:14:22.580511Z"
    },
    "papermill": {
     "duration": 4.671299,
     "end_time": "2023-11-06T10:14:22.584097",
     "exception": false,
     "start_time": "2023-11-06T10:14:17.912798",
     "status": "completed"
    },
    "tags": []
   },
   "outputs": [
    {
     "name": "stdout",
     "output_type": "stream",
     "text": [
      "Using Kaggle's public dataset BigQuery integration.\n",
      "Setup Complete\n"
     ]
    }
   ],
   "source": [
    "# Set up feedack system\n",
    "from learntools.core import binder\n",
    "binder.bind(globals())\n",
    "from learntools.sql.ex1 import *\n",
    "print(\"Setup Complete\")"
   ]
  },
  {
   "cell_type": "code",
   "execution_count": 2,
   "id": "c335f7a0",
   "metadata": {
    "execution": {
     "iopub.execute_input": "2023-11-06T10:14:22.594912Z",
     "iopub.status.busy": "2023-11-06T10:14:22.594369Z",
     "iopub.status.idle": "2023-11-06T10:14:22.844576Z",
     "shell.execute_reply": "2023-11-06T10:14:22.843422Z"
    },
    "papermill": {
     "duration": 0.258652,
     "end_time": "2023-11-06T10:14:22.847247",
     "exception": false,
     "start_time": "2023-11-06T10:14:22.588595",
     "status": "completed"
    },
    "tags": []
   },
   "outputs": [
    {
     "name": "stdout",
     "output_type": "stream",
     "text": [
      "Using Kaggle's public dataset BigQuery integration.\n"
     ]
    }
   ],
   "source": [
    "from google.cloud import bigquery\n",
    "\n",
    "# Create a \"Client\" object　オブジェクトを生成する\n",
    "client = bigquery.Client()\n",
    "\n",
    "# Construct a reference to the \"chicago_crime\" dataset　「chicago_crime」データセットへの参照\n",
    "dataset_ref = client.dataset(\"chicago_crime\", project=\"bigquery-public-data\")\n",
    "\n",
    "# API request - fetch the dataset　　APIにリクエストを送る\n",
    "dataset = client.get_dataset(dataset_ref)"
   ]
  },
  {
   "cell_type": "markdown",
   "id": "8e6e4a8e",
   "metadata": {
    "papermill": {
     "duration": 0.00429,
     "end_time": "2023-11-06T10:14:22.856240",
     "exception": false,
     "start_time": "2023-11-06T10:14:22.851950",
     "status": "completed"
    },
    "tags": []
   },
   "source": [
    "# Exercises　　--演習\n",
    "\n",
    "### 1) Count tables in the dataset　　データセット内のテーブルを数える\n",
    "\n",
    "How many tables are in the Chicago Crime dataset?　　\n",
    "Chicago Crime データセットにはテーブルがいくつありますか?\n"
   ]
  },
  {
   "cell_type": "code",
   "execution_count": 3,
   "id": "9f00ca6f",
   "metadata": {
    "execution": {
     "iopub.execute_input": "2023-11-06T10:14:22.866972Z",
     "iopub.status.busy": "2023-11-06T10:14:22.866574Z",
     "iopub.status.idle": "2023-11-06T10:14:23.096017Z",
     "shell.execute_reply": "2023-11-06T10:14:23.095000Z"
    },
    "papermill": {
     "duration": 0.23739,
     "end_time": "2023-11-06T10:14:23.098162",
     "exception": false,
     "start_time": "2023-11-06T10:14:22.860772",
     "status": "completed"
    },
    "tags": []
   },
   "outputs": [
    {
     "name": "stdout",
     "output_type": "stream",
     "text": [
      "1\n"
     ]
    },
    {
     "data": {
      "application/javascript": [
       "parent.postMessage({\"jupyterEvent\": \"custom.exercise_interaction\", \"data\": {\"outcomeType\": 1, \"valueTowardsCompletion\": 0.3333333333333333, \"interactionType\": 1, \"questionType\": 1, \"questionId\": \"1_CountTables\", \"learnToolsVersion\": \"0.3.4\", \"failureMessage\": \"\", \"exceptionClass\": \"\", \"trace\": \"\"}}, \"*\")"
      ],
      "text/plain": [
       "<IPython.core.display.Javascript object>"
      ]
     },
     "metadata": {},
     "output_type": "display_data"
    },
    {
     "data": {
      "text/markdown": [
       "<span style=\"color:#33cc33\">Correct</span>"
      ],
      "text/plain": [
       "Correct"
      ]
     },
     "metadata": {},
     "output_type": "display_data"
    }
   ],
   "source": [
    "tables = list(client.list_tables(dataset))\n",
    "# Print number of tables in the dataset　　データセット内のテーブル数を算出\n",
    "print(len(tables))\n",
    "num_tables = 1  \n",
    "\n",
    "# Check your answer\n",
    "q_1.check()"
   ]
  },
  {
   "cell_type": "code",
   "execution_count": 4,
   "id": "1288a13a",
   "metadata": {
    "execution": {
     "iopub.execute_input": "2023-11-06T10:14:23.110033Z",
     "iopub.status.busy": "2023-11-06T10:14:23.109294Z",
     "iopub.status.idle": "2023-11-06T10:14:23.122847Z",
     "shell.execute_reply": "2023-11-06T10:14:23.121817Z"
    },
    "papermill": {
     "duration": 0.021757,
     "end_time": "2023-11-06T10:14:23.124751",
     "exception": false,
     "start_time": "2023-11-06T10:14:23.102994",
     "status": "completed"
    },
    "tags": []
   },
   "outputs": [
    {
     "data": {
      "application/javascript": [
       "parent.postMessage({\"jupyterEvent\": \"custom.exercise_interaction\", \"data\": {\"interactionType\": 2, \"questionType\": 1, \"questionId\": \"1_CountTables\", \"learnToolsVersion\": \"0.3.4\", \"valueTowardsCompletion\": 0.0, \"failureMessage\": \"\", \"exceptionClass\": \"\", \"trace\": \"\", \"outcomeType\": 4}}, \"*\")"
      ],
      "text/plain": [
       "<IPython.core.display.Javascript object>"
      ]
     },
     "metadata": {},
     "output_type": "display_data"
    },
    {
     "data": {
      "text/markdown": [
       "<span style=\"color:#3366cc\">Hint:</span> Use the `list_tables()` method to get a list of the tables in the dataset."
      ],
      "text/plain": [
       "Hint: Use the `list_tables()` method to get a list of the tables in the dataset."
      ]
     },
     "metadata": {},
     "output_type": "display_data"
    },
    {
     "data": {
      "application/javascript": [
       "parent.postMessage({\"jupyterEvent\": \"custom.exercise_interaction\", \"data\": {\"interactionType\": 3, \"questionType\": 1, \"questionId\": \"1_CountTables\", \"learnToolsVersion\": \"0.3.4\", \"valueTowardsCompletion\": 0.0, \"failureMessage\": \"\", \"exceptionClass\": \"\", \"trace\": \"\", \"outcomeType\": 4}}, \"*\")"
      ],
      "text/plain": [
       "<IPython.core.display.Javascript object>"
      ]
     },
     "metadata": {},
     "output_type": "display_data"
    },
    {
     "data": {
      "text/markdown": [
       "<span style=\"color:#33cc99\">Solution:</span> \n",
       "```python\n",
       "\n",
       "# List all the tables in the \"chicago_crime\" dataset\n",
       "tables = list(client.list_tables(dataset))\n",
       "\n",
       "# Print number of tables in the dataset\n",
       "print(len(tables))\n",
       "\n",
       "num_tables = 1\n",
       "\n",
       "```"
      ],
      "text/plain": [
       "Solution: \n",
       "```python\n",
       "\n",
       "# List all the tables in the \"chicago_crime\" dataset\n",
       "tables = list(client.list_tables(dataset))\n",
       "\n",
       "# Print number of tables in the dataset\n",
       "print(len(tables))\n",
       "\n",
       "num_tables = 1\n",
       "\n",
       "```"
      ]
     },
     "metadata": {},
     "output_type": "display_data"
    }
   ],
   "source": [
    "q_1.hint()\n",
    "# ヒント: list_tables() メソッドを使用して、データセット内のテーブルのリストを取得します。\n",
    "q_1.solution()"
   ]
  },
  {
   "cell_type": "markdown",
   "id": "afc21d0e",
   "metadata": {
    "papermill": {
     "duration": 0.005123,
     "end_time": "2023-11-06T10:14:23.135537",
     "exception": false,
     "start_time": "2023-11-06T10:14:23.130414",
     "status": "completed"
    },
    "tags": []
   },
   "source": [
    "### 2) Explore the table schema　　--エキスポ―トのテーブルスキーマ―（計画）を調べる\n",
    "\n",
    "How many columns in the `crime` table have `TIMESTAMP` data?\n",
    "「crime」テーブルには「TIMESTAMP」データを持つ列がいくつありますか?"
   ]
  },
  {
   "cell_type": "code",
   "execution_count": 5,
   "id": "6fcdfdfe",
   "metadata": {
    "execution": {
     "iopub.execute_input": "2023-11-06T10:14:23.147880Z",
     "iopub.status.busy": "2023-11-06T10:14:23.147462Z",
     "iopub.status.idle": "2023-11-06T10:14:23.409953Z",
     "shell.execute_reply": "2023-11-06T10:14:23.408993Z"
    },
    "papermill": {
     "duration": 0.271031,
     "end_time": "2023-11-06T10:14:23.411905",
     "exception": false,
     "start_time": "2023-11-06T10:14:23.140874",
     "status": "completed"
    },
    "tags": []
   },
   "outputs": [
    {
     "name": "stdout",
     "output_type": "stream",
     "text": [
      "[SchemaField('unique_key', 'INTEGER', 'REQUIRED', None, (), None), SchemaField('case_number', 'STRING', 'NULLABLE', None, (), None), SchemaField('date', 'TIMESTAMP', 'NULLABLE', None, (), None), SchemaField('block', 'STRING', 'NULLABLE', None, (), None), SchemaField('iucr', 'STRING', 'NULLABLE', None, (), None), SchemaField('primary_type', 'STRING', 'NULLABLE', None, (), None), SchemaField('description', 'STRING', 'NULLABLE', None, (), None), SchemaField('location_description', 'STRING', 'NULLABLE', None, (), None), SchemaField('arrest', 'BOOLEAN', 'NULLABLE', None, (), None), SchemaField('domestic', 'BOOLEAN', 'NULLABLE', None, (), None), SchemaField('beat', 'INTEGER', 'NULLABLE', None, (), None), SchemaField('district', 'INTEGER', 'NULLABLE', None, (), None), SchemaField('ward', 'INTEGER', 'NULLABLE', None, (), None), SchemaField('community_area', 'INTEGER', 'NULLABLE', None, (), None), SchemaField('fbi_code', 'STRING', 'NULLABLE', None, (), None), SchemaField('x_coordinate', 'FLOAT', 'NULLABLE', None, (), None), SchemaField('y_coordinate', 'FLOAT', 'NULLABLE', None, (), None), SchemaField('year', 'INTEGER', 'NULLABLE', None, (), None), SchemaField('updated_on', 'TIMESTAMP', 'NULLABLE', None, (), None), SchemaField('latitude', 'FLOAT', 'NULLABLE', None, (), None), SchemaField('longitude', 'FLOAT', 'NULLABLE', None, (), None), SchemaField('location', 'STRING', 'NULLABLE', None, (), None)]\n"
     ]
    },
    {
     "data": {
      "application/javascript": [
       "parent.postMessage({\"jupyterEvent\": \"custom.exercise_interaction\", \"data\": {\"outcomeType\": 1, \"valueTowardsCompletion\": 0.3333333333333333, \"interactionType\": 1, \"questionType\": 1, \"questionId\": \"2_CountTimestampFields\", \"learnToolsVersion\": \"0.3.4\", \"failureMessage\": \"\", \"exceptionClass\": \"\", \"trace\": \"\"}}, \"*\")"
      ],
      "text/plain": [
       "<IPython.core.display.Javascript object>"
      ]
     },
     "metadata": {},
     "output_type": "display_data"
    },
    {
     "data": {
      "text/markdown": [
       "<span style=\"color:#33cc33\">Correct</span>"
      ],
      "text/plain": [
       "Correct"
      ]
     },
     "metadata": {},
     "output_type": "display_data"
    }
   ],
   "source": [
    "# Construct a reference to the \"crime\" table　「犯罪」テーブルへの参照を作成する\n",
    "table_ref = dataset_ref.table(\"crime\")\n",
    "\n",
    "# API request - fetch the table　　APIリクエストテーブルを作成\n",
    "table = client.get_table(table_ref)\n",
    "\n",
    "# Print information on all the columns in the \"crime\" table in the \"chicago_crime\" dataset\n",
    "#「chicago_crime」データセットの「crime」テーブルのすべての列に関する情報を出力します。\n",
    "print(table.schema)\n",
    "\n",
    "num_timestamp_fields = 2 \n",
    "\n",
    "# Check your answer\n",
    "q_2.check()"
   ]
  },
  {
   "cell_type": "markdown",
   "id": "baa60e1e",
   "metadata": {
    "papermill": {
     "duration": 0.005289,
     "end_time": "2023-11-06T10:14:23.422736",
     "exception": false,
     "start_time": "2023-11-06T10:14:23.417447",
     "status": "completed"
    },
    "tags": []
   },
   "source": [
    "For a hint or the solution, uncomment the appropriate line below."
   ]
  },
  {
   "cell_type": "code",
   "execution_count": 6,
   "id": "fd394d0d",
   "metadata": {
    "execution": {
     "iopub.execute_input": "2023-11-06T10:14:23.435522Z",
     "iopub.status.busy": "2023-11-06T10:14:23.435138Z",
     "iopub.status.idle": "2023-11-06T10:14:23.446156Z",
     "shell.execute_reply": "2023-11-06T10:14:23.445186Z"
    },
    "papermill": {
     "duration": 0.019814,
     "end_time": "2023-11-06T10:14:23.448089",
     "exception": false,
     "start_time": "2023-11-06T10:14:23.428275",
     "status": "completed"
    },
    "tags": []
   },
   "outputs": [
    {
     "data": {
      "application/javascript": [
       "parent.postMessage({\"jupyterEvent\": \"custom.exercise_interaction\", \"data\": {\"interactionType\": 2, \"questionType\": 1, \"questionId\": \"2_CountTimestampFields\", \"learnToolsVersion\": \"0.3.4\", \"valueTowardsCompletion\": 0.0, \"failureMessage\": \"\", \"exceptionClass\": \"\", \"trace\": \"\", \"outcomeType\": 4}}, \"*\")"
      ],
      "text/plain": [
       "<IPython.core.display.Javascript object>"
      ]
     },
     "metadata": {},
     "output_type": "display_data"
    },
    {
     "data": {
      "text/markdown": [
       "<span style=\"color:#3366cc\">Hint:</span> Begin by fetching the `crime` table. Then take a look at the table schema, and check the field type of each column.  How many times does `'TIMESTAMP'` appear?"
      ],
      "text/plain": [
       "Hint: Begin by fetching the `crime` table. Then take a look at the table schema, and check the field type of each column.  How many times does `'TIMESTAMP'` appear?"
      ]
     },
     "metadata": {},
     "output_type": "display_data"
    },
    {
     "data": {
      "application/javascript": [
       "parent.postMessage({\"jupyterEvent\": \"custom.exercise_interaction\", \"data\": {\"interactionType\": 3, \"questionType\": 1, \"questionId\": \"2_CountTimestampFields\", \"learnToolsVersion\": \"0.3.4\", \"valueTowardsCompletion\": 0.0, \"failureMessage\": \"\", \"exceptionClass\": \"\", \"trace\": \"\", \"outcomeType\": 4}}, \"*\")"
      ],
      "text/plain": [
       "<IPython.core.display.Javascript object>"
      ]
     },
     "metadata": {},
     "output_type": "display_data"
    },
    {
     "data": {
      "text/markdown": [
       "<span style=\"color:#33cc99\">Solution:</span> \n",
       "```python\n",
       "\n",
       "# Construct a reference to the \"crime\" table\n",
       "table_ref = dataset_ref.table(\"crime\")\n",
       "\n",
       "# API request - fetch the table\n",
       "table = client.get_table(table_ref)\n",
       "\n",
       "# Print information on all the columns in the \"crime\" table in the \"chicago_crime\" dataset\n",
       "print(table.schema)\n",
       "\n",
       "num_timestamp_fields = 2\n",
       "\n",
       "```"
      ],
      "text/plain": [
       "Solution: \n",
       "```python\n",
       "\n",
       "# Construct a reference to the \"crime\" table\n",
       "table_ref = dataset_ref.table(\"crime\")\n",
       "\n",
       "# API request - fetch the table\n",
       "table = client.get_table(table_ref)\n",
       "\n",
       "# Print information on all the columns in the \"crime\" table in the \"chicago_crime\" dataset\n",
       "print(table.schema)\n",
       "\n",
       "num_timestamp_fields = 2\n",
       "\n",
       "```"
      ]
     },
     "metadata": {},
     "output_type": "display_data"
    }
   ],
   "source": [
    "q_2.hint()\n",
    "# ヒント: 犯罪表を取得することから始めます。 次に、テーブル スキーマを確認し、各列のフィールド タイプを確認します。 「TIMESTAMP」は何回表示されますか?\n",
    "q_2.solution()"
   ]
  },
  {
   "cell_type": "markdown",
   "id": "b2f701f7",
   "metadata": {
    "papermill": {
     "duration": 0.005797,
     "end_time": "2023-11-06T10:14:23.459935",
     "exception": false,
     "start_time": "2023-11-06T10:14:23.454138",
     "status": "completed"
    },
    "tags": []
   },
   "source": [
    "### 3) Create a crime map  ---犯罪マップを作成する¶\n",
    "\n",
    "If you wanted to create a map with a dot at the location of each crime, what are the names of the two fields you likely need to pull out of the `crime` table to plot the crimes on a map?\n",
    "各犯罪の発生場所に点が描かれた地図を作成したい場合、地図上に犯罪をプロットするために犯罪テーブルから抽出する必要があると思われる 2 つのフィールドの名前は何ですか?"
   ]
  },
  {
   "cell_type": "code",
   "execution_count": 7,
   "id": "f1237fca",
   "metadata": {
    "execution": {
     "iopub.execute_input": "2023-11-06T10:14:23.473909Z",
     "iopub.status.busy": "2023-11-06T10:14:23.473493Z",
     "iopub.status.idle": "2023-11-06T10:14:23.482683Z",
     "shell.execute_reply": "2023-11-06T10:14:23.481233Z"
    },
    "papermill": {
     "duration": 0.018845,
     "end_time": "2023-11-06T10:14:23.484949",
     "exception": false,
     "start_time": "2023-11-06T10:14:23.466104",
     "status": "completed"
    },
    "tags": []
   },
   "outputs": [
    {
     "data": {
      "application/javascript": [
       "parent.postMessage({\"jupyterEvent\": \"custom.exercise_interaction\", \"data\": {\"outcomeType\": 1, \"valueTowardsCompletion\": 0.3333333333333333, \"interactionType\": 1, \"questionType\": 2, \"questionId\": \"3_IdentifyFieldsForPlotting\", \"learnToolsVersion\": \"0.3.4\", \"failureMessage\": \"\", \"exceptionClass\": \"\", \"trace\": \"\"}}, \"*\")"
      ],
      "text/plain": [
       "<IPython.core.display.Javascript object>"
      ]
     },
     "metadata": {},
     "output_type": "display_data"
    },
    {
     "data": {
      "text/markdown": [
       "<span style=\"color:#33cc33\">Correct</span>"
      ],
      "text/plain": [
       "Correct"
      ]
     },
     "metadata": {},
     "output_type": "display_data"
    }
   ],
   "source": [
    "fields_for_plotting = ['latitude', 'longitude']\n",
    "\n",
    "# Check your answer\n",
    "q_3.check()"
   ]
  },
  {
   "cell_type": "code",
   "execution_count": 8,
   "id": "1c4a78ad",
   "metadata": {
    "execution": {
     "iopub.execute_input": "2023-11-06T10:14:23.499876Z",
     "iopub.status.busy": "2023-11-06T10:14:23.499255Z",
     "iopub.status.idle": "2023-11-06T10:14:23.509672Z",
     "shell.execute_reply": "2023-11-06T10:14:23.508742Z"
    },
    "papermill": {
     "duration": 0.020102,
     "end_time": "2023-11-06T10:14:23.511744",
     "exception": false,
     "start_time": "2023-11-06T10:14:23.491642",
     "status": "completed"
    },
    "tags": []
   },
   "outputs": [
    {
     "data": {
      "application/javascript": [
       "parent.postMessage({\"jupyterEvent\": \"custom.exercise_interaction\", \"data\": {\"interactionType\": 2, \"questionType\": 2, \"questionId\": \"3_IdentifyFieldsForPlotting\", \"learnToolsVersion\": \"0.3.4\", \"valueTowardsCompletion\": 0.0, \"failureMessage\": \"\", \"exceptionClass\": \"\", \"trace\": \"\", \"outcomeType\": 4}}, \"*\")"
      ],
      "text/plain": [
       "<IPython.core.display.Javascript object>"
      ]
     },
     "metadata": {},
     "output_type": "display_data"
    },
    {
     "data": {
      "text/markdown": [
       "<span style=\"color:#3366cc\">Hint:</span> Look at the table schema.  There are a couple options, but two of the fields are things commonly used to plot on maps. Both are `'FLOAT'` types. Use quotes around the field names in your answer."
      ],
      "text/plain": [
       "Hint: Look at the table schema.  There are a couple options, but two of the fields are things commonly used to plot on maps. Both are `'FLOAT'` types. Use quotes around the field names in your answer."
      ]
     },
     "metadata": {},
     "output_type": "display_data"
    },
    {
     "data": {
      "application/javascript": [
       "parent.postMessage({\"jupyterEvent\": \"custom.exercise_interaction\", \"data\": {\"interactionType\": 3, \"questionType\": 2, \"questionId\": \"3_IdentifyFieldsForPlotting\", \"learnToolsVersion\": \"0.3.4\", \"valueTowardsCompletion\": 0.0, \"failureMessage\": \"\", \"exceptionClass\": \"\", \"trace\": \"\", \"outcomeType\": 4}}, \"*\")"
      ],
      "text/plain": [
       "<IPython.core.display.Javascript object>"
      ]
     },
     "metadata": {},
     "output_type": "display_data"
    },
    {
     "data": {
      "text/markdown": [
       "<span style=\"color:#33cc99\">Solution:</span> \n",
       "```python\n",
       "fields_for_plotting = ['latitude', 'longitude']\n",
       "```"
      ],
      "text/plain": [
       "Solution: \n",
       "```python\n",
       "fields_for_plotting = ['latitude', 'longitude']\n",
       "```"
      ]
     },
     "metadata": {},
     "output_type": "display_data"
    }
   ],
   "source": [
    "q_3.hint()\n",
    "# ヒント: テーブル スキーマを見てください。 いくつかのオプションがありますが、そのうちの 2 つのフィールドは、地図上にプロットするために一般的に使用されるものです。 どちらも「FLOAT」タイプです。 回答ではフィールド名を引用符で囲みます。\n",
    "q_3.solution()"
   ]
  },
  {
   "cell_type": "markdown",
   "id": "1fe001ac",
   "metadata": {
    "papermill": {
     "duration": 0.006603,
     "end_time": "2023-11-06T10:14:23.525329",
     "exception": false,
     "start_time": "2023-11-06T10:14:23.518726",
     "status": "completed"
    },
    "tags": []
   },
   "source": [
    "Thinking about the question above, there are a few columns that appear to have geographic data. Look at a few values (with the `list_rows()` command) to see if you can determine their relationship.  Two columns will still be hard to interpret. But it should be obvious how the `location` column relates to `latitude` and `longitude`."
   ]
  },
  {
   "cell_type": "code",
   "execution_count": 9,
   "id": "c1dfa70a",
   "metadata": {
    "execution": {
     "iopub.execute_input": "2023-11-06T10:14:23.546465Z",
     "iopub.status.busy": "2023-11-06T10:14:23.545151Z",
     "iopub.status.idle": "2023-11-06T10:14:23.551001Z",
     "shell.execute_reply": "2023-11-06T10:14:23.549767Z"
    },
    "papermill": {
     "duration": 0.019354,
     "end_time": "2023-11-06T10:14:23.553663",
     "exception": false,
     "start_time": "2023-11-06T10:14:23.534309",
     "status": "completed"
    },
    "tags": []
   },
   "outputs": [],
   "source": [
    "# Scratch space for your code"
   ]
  },
  {
   "cell_type": "markdown",
   "id": "501ad321",
   "metadata": {
    "papermill": {
     "duration": 0.00819,
     "end_time": "2023-11-06T10:14:23.571710",
     "exception": false,
     "start_time": "2023-11-06T10:14:23.563520",
     "status": "completed"
    },
    "tags": []
   },
   "source": [
    "# Keep going\n",
    "\n",
    "You've looked at the schema, but you haven't yet done anything exciting with the data itself. Things get more interesting when you get to the data, so keep going to **[write your first SQL query](https://www.kaggle.com/dansbecker/select-from-where).**"
   ]
  },
  {
   "cell_type": "markdown",
   "id": "68887015",
   "metadata": {
    "papermill": {
     "duration": 0.008755,
     "end_time": "2023-11-06T10:14:23.589861",
     "exception": false,
     "start_time": "2023-11-06T10:14:23.581106",
     "status": "completed"
    },
    "tags": []
   },
   "source": [
    "---\n",
    "\n",
    "\n",
    "\n",
    "\n",
    "*Have questions or comments? Visit the [course discussion forum](https://www.kaggle.com/learn/intro-to-sql/discussion) to chat with other learners.*"
   ]
  }
 ],
 "metadata": {
  "kernelspec": {
   "display_name": "Python 3",
   "language": "python",
   "name": "python3"
  },
  "language_info": {
   "codemirror_mode": {
    "name": "ipython",
    "version": 3
   },
   "file_extension": ".py",
   "mimetype": "text/x-python",
   "name": "python",
   "nbconvert_exporter": "python",
   "pygments_lexer": "ipython3",
   "version": "3.10.12"
  },
  "papermill": {
   "default_parameters": {},
   "duration": 9.626842,
   "end_time": "2023-11-06T10:14:24.316873",
   "environment_variables": {},
   "exception": null,
   "input_path": "__notebook__.ipynb",
   "output_path": "__notebook__.ipynb",
   "parameters": {},
   "start_time": "2023-11-06T10:14:14.690031",
   "version": "2.4.0"
  }
 },
 "nbformat": 4,
 "nbformat_minor": 5
}
