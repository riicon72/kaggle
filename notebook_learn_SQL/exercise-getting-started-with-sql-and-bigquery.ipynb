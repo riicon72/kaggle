{
 "cells": [
  {
   "cell_type": "markdown",
   "id": "42bfed83",
   "metadata": {
    "papermill": {
     "duration": 0.004,
     "end_time": "2023-11-06T10:13:11.887322",
     "exception": false,
     "start_time": "2023-11-06T10:13:11.883322",
     "status": "completed"
    },
    "tags": []
   },
   "source": [
    "**This notebook is an exercise in the [SQL](https://www.kaggle.com/learn/intro-to-sql) course.  You can reference the tutorial at [this link](https://www.kaggle.com/dansbecker/getting-started-with-sql-and-bigquery).**\n",
    "\n",
    "---\n"
   ]
  },
  {
   "cell_type": "markdown",
   "id": "87ffdb4f",
   "metadata": {
    "papermill": {
     "duration": 0.003252,
     "end_time": "2023-11-06T10:13:11.895623",
     "exception": false,
     "start_time": "2023-11-06T10:13:11.892371",
     "status": "completed"
    },
    "tags": []
   },
   "source": [
    "日本人向けに日本語訳を入れました。\n",
    "言い回しが間違っていたらすみません。\n",
    "お役に立てれば幸いです。"
   ]
  },
  {
   "cell_type": "markdown",
   "id": "246da5ff",
   "metadata": {
    "papermill": {
     "duration": 0.003229,
     "end_time": "2023-11-06T10:13:11.902846",
     "exception": false,
     "start_time": "2023-11-06T10:13:11.899617",
     "status": "completed"
    },
    "tags": []
   },
   "source": [
    "# Introduction　　--導入\n",
    "\n",
    "The first test of your new data exploration skills uses data describing crime in the city of Chicago.\n",
    "新しいデータ探索スキルの最初のテストでは、シカゴ市の犯罪を説明するデータを使用します。\n",
    "\n",
    "Before you get started, run the following cell. It sets up the automated feedback system to review your answers.\n",
    "始める前に、次のセルを実行します。 回答をレビューするための自動フィードバック システムが設定されます。"
   ]
  },
  {
   "cell_type": "code",
   "execution_count": 1,
   "id": "5bd468a4",
   "metadata": {
    "execution": {
     "iopub.execute_input": "2023-11-06T10:13:11.910875Z",
     "iopub.status.busy": "2023-11-06T10:13:11.910588Z",
     "iopub.status.idle": "2023-11-06T10:13:15.728634Z",
     "shell.execute_reply": "2023-11-06T10:13:15.727584Z"
    },
    "papermill": {
     "duration": 3.824187,
     "end_time": "2023-11-06T10:13:15.730493",
     "exception": false,
     "start_time": "2023-11-06T10:13:11.906306",
     "status": "completed"
    },
    "tags": []
   },
   "outputs": [
    {
     "name": "stdout",
     "output_type": "stream",
     "text": [
      "Using Kaggle's public dataset BigQuery integration.\n",
      "Setup Complete\n"
     ]
    }
   ],
   "source": [
    "# Set up feedack system\n",
    "from learntools.core import binder\n",
    "binder.bind(globals())\n",
    "from learntools.sql.ex1 import *\n",
    "print(\"Setup Complete\")"
   ]
  },
  {
   "cell_type": "code",
   "execution_count": 2,
   "id": "e2fac312",
   "metadata": {
    "execution": {
     "iopub.execute_input": "2023-11-06T10:13:15.740215Z",
     "iopub.status.busy": "2023-11-06T10:13:15.739060Z",
     "iopub.status.idle": "2023-11-06T10:13:16.065050Z",
     "shell.execute_reply": "2023-11-06T10:13:16.064303Z"
    },
    "papermill": {
     "duration": 0.332421,
     "end_time": "2023-11-06T10:13:16.066810",
     "exception": false,
     "start_time": "2023-11-06T10:13:15.734389",
     "status": "completed"
    },
    "tags": []
   },
   "outputs": [
    {
     "name": "stdout",
     "output_type": "stream",
     "text": [
      "Using Kaggle's public dataset BigQuery integration.\n"
     ]
    }
   ],
   "source": [
    "from google.cloud import bigquery\n",
    "\n",
    "# Create a \"Client\" object　オブジェクトを生成する\n",
    "client = bigquery.Client()\n",
    "\n",
    "# Construct a reference to the \"chicago_crime\" dataset　「chicago_crime」データセットへの参照\n",
    "dataset_ref = client.dataset(\"chicago_crime\", project=\"bigquery-public-data\")\n",
    "\n",
    "# API request - fetch the dataset　　APIにリクエストを送る\n",
    "dataset = client.get_dataset(dataset_ref)"
   ]
  },
  {
   "cell_type": "markdown",
   "id": "fd1dcabf",
   "metadata": {
    "papermill": {
     "duration": 0.00349,
     "end_time": "2023-11-06T10:13:16.074203",
     "exception": false,
     "start_time": "2023-11-06T10:13:16.070713",
     "status": "completed"
    },
    "tags": []
   },
   "source": [
    "# Exercises　　--演習\n",
    "\n",
    "### 1) Count tables in the dataset　　データセット内のテーブルを数える\n",
    "\n",
    "How many tables are in the Chicago Crime dataset?　　\n",
    "Chicago Crime データセットにはテーブルがいくつありますか?\n"
   ]
  },
  {
   "cell_type": "code",
   "execution_count": 3,
   "id": "72a60f63",
   "metadata": {
    "execution": {
     "iopub.execute_input": "2023-11-06T10:13:16.082621Z",
     "iopub.status.busy": "2023-11-06T10:13:16.082373Z",
     "iopub.status.idle": "2023-11-06T10:13:16.372689Z",
     "shell.execute_reply": "2023-11-06T10:13:16.371894Z"
    },
    "papermill": {
     "duration": 0.296545,
     "end_time": "2023-11-06T10:13:16.374324",
     "exception": false,
     "start_time": "2023-11-06T10:13:16.077779",
     "status": "completed"
    },
    "tags": []
   },
   "outputs": [
    {
     "name": "stdout",
     "output_type": "stream",
     "text": [
      "1\n"
     ]
    },
    {
     "data": {
      "application/javascript": [
       "parent.postMessage({\"jupyterEvent\": \"custom.exercise_interaction\", \"data\": {\"outcomeType\": 1, \"valueTowardsCompletion\": 0.3333333333333333, \"interactionType\": 1, \"questionType\": 1, \"questionId\": \"1_CountTables\", \"learnToolsVersion\": \"0.3.4\", \"failureMessage\": \"\", \"exceptionClass\": \"\", \"trace\": \"\"}}, \"*\")"
      ],
      "text/plain": [
       "<IPython.core.display.Javascript object>"
      ]
     },
     "metadata": {},
     "output_type": "display_data"
    },
    {
     "data": {
      "text/markdown": [
       "<span style=\"color:#33cc33\">Correct</span>"
      ],
      "text/plain": [
       "Correct"
      ]
     },
     "metadata": {},
     "output_type": "display_data"
    }
   ],
   "source": [
    "tables = list(client.list_tables(dataset))\n",
    "# Print number of tables in the dataset　　データセット内のテーブル数を算出\n",
    "print(len(tables))\n",
    "num_tables = 1  \n",
    "\n",
    "# Check your answer\n",
    "q_1.check()"
   ]
  },
  {
   "cell_type": "code",
   "execution_count": 4,
   "id": "eac46275",
   "metadata": {
    "execution": {
     "iopub.execute_input": "2023-11-06T10:13:16.383163Z",
     "iopub.status.busy": "2023-11-06T10:13:16.382872Z",
     "iopub.status.idle": "2023-11-06T10:13:16.391640Z",
     "shell.execute_reply": "2023-11-06T10:13:16.390966Z"
    },
    "papermill": {
     "duration": 0.014695,
     "end_time": "2023-11-06T10:13:16.393052",
     "exception": false,
     "start_time": "2023-11-06T10:13:16.378357",
     "status": "completed"
    },
    "tags": []
   },
   "outputs": [
    {
     "data": {
      "application/javascript": [
       "parent.postMessage({\"jupyterEvent\": \"custom.exercise_interaction\", \"data\": {\"interactionType\": 2, \"questionType\": 1, \"questionId\": \"1_CountTables\", \"learnToolsVersion\": \"0.3.4\", \"valueTowardsCompletion\": 0.0, \"failureMessage\": \"\", \"exceptionClass\": \"\", \"trace\": \"\", \"outcomeType\": 4}}, \"*\")"
      ],
      "text/plain": [
       "<IPython.core.display.Javascript object>"
      ]
     },
     "metadata": {},
     "output_type": "display_data"
    },
    {
     "data": {
      "text/markdown": [
       "<span style=\"color:#3366cc\">Hint:</span> Use the `list_tables()` method to get a list of the tables in the dataset."
      ],
      "text/plain": [
       "Hint: Use the `list_tables()` method to get a list of the tables in the dataset."
      ]
     },
     "metadata": {},
     "output_type": "display_data"
    },
    {
     "data": {
      "application/javascript": [
       "parent.postMessage({\"jupyterEvent\": \"custom.exercise_interaction\", \"data\": {\"interactionType\": 3, \"questionType\": 1, \"questionId\": \"1_CountTables\", \"learnToolsVersion\": \"0.3.4\", \"valueTowardsCompletion\": 0.0, \"failureMessage\": \"\", \"exceptionClass\": \"\", \"trace\": \"\", \"outcomeType\": 4}}, \"*\")"
      ],
      "text/plain": [
       "<IPython.core.display.Javascript object>"
      ]
     },
     "metadata": {},
     "output_type": "display_data"
    },
    {
     "data": {
      "text/markdown": [
       "<span style=\"color:#33cc99\">Solution:</span> \n",
       "```python\n",
       "\n",
       "# List all the tables in the \"chicago_crime\" dataset\n",
       "tables = list(client.list_tables(dataset))\n",
       "\n",
       "# Print number of tables in the dataset\n",
       "print(len(tables))\n",
       "\n",
       "num_tables = 1\n",
       "\n",
       "```"
      ],
      "text/plain": [
       "Solution: \n",
       "```python\n",
       "\n",
       "# List all the tables in the \"chicago_crime\" dataset\n",
       "tables = list(client.list_tables(dataset))\n",
       "\n",
       "# Print number of tables in the dataset\n",
       "print(len(tables))\n",
       "\n",
       "num_tables = 1\n",
       "\n",
       "```"
      ]
     },
     "metadata": {},
     "output_type": "display_data"
    }
   ],
   "source": [
    "q_1.hint()\n",
    "# ヒント: list_tables() メソッドを使用して、データセット内のテーブルのリストを取得します。\n",
    "q_1.solution()"
   ]
  },
  {
   "cell_type": "markdown",
   "id": "4d768330",
   "metadata": {
    "papermill": {
     "duration": 0.004499,
     "end_time": "2023-11-06T10:13:16.401972",
     "exception": false,
     "start_time": "2023-11-06T10:13:16.397473",
     "status": "completed"
    },
    "tags": []
   },
   "source": [
    "### 2) Explore the table schema　　--エキスポ―トのテーブルスキーマ―（計画）を調べる\n",
    "\n",
    "How many columns in the `crime` table have `TIMESTAMP` data?\n",
    "「crime」テーブルには「TIMESTAMP」データを持つ列がいくつありますか?"
   ]
  },
  {
   "cell_type": "code",
   "execution_count": 5,
   "id": "a80acee7",
   "metadata": {
    "execution": {
     "iopub.execute_input": "2023-11-06T10:13:16.411622Z",
     "iopub.status.busy": "2023-11-06T10:13:16.411220Z",
     "iopub.status.idle": "2023-11-06T10:13:16.770114Z",
     "shell.execute_reply": "2023-11-06T10:13:16.769294Z"
    },
    "papermill": {
     "duration": 0.365496,
     "end_time": "2023-11-06T10:13:16.771698",
     "exception": false,
     "start_time": "2023-11-06T10:13:16.406202",
     "status": "completed"
    },
    "tags": []
   },
   "outputs": [
    {
     "name": "stdout",
     "output_type": "stream",
     "text": [
      "[SchemaField('unique_key', 'INTEGER', 'REQUIRED', None, (), None), SchemaField('case_number', 'STRING', 'NULLABLE', None, (), None), SchemaField('date', 'TIMESTAMP', 'NULLABLE', None, (), None), SchemaField('block', 'STRING', 'NULLABLE', None, (), None), SchemaField('iucr', 'STRING', 'NULLABLE', None, (), None), SchemaField('primary_type', 'STRING', 'NULLABLE', None, (), None), SchemaField('description', 'STRING', 'NULLABLE', None, (), None), SchemaField('location_description', 'STRING', 'NULLABLE', None, (), None), SchemaField('arrest', 'BOOLEAN', 'NULLABLE', None, (), None), SchemaField('domestic', 'BOOLEAN', 'NULLABLE', None, (), None), SchemaField('beat', 'INTEGER', 'NULLABLE', None, (), None), SchemaField('district', 'INTEGER', 'NULLABLE', None, (), None), SchemaField('ward', 'INTEGER', 'NULLABLE', None, (), None), SchemaField('community_area', 'INTEGER', 'NULLABLE', None, (), None), SchemaField('fbi_code', 'STRING', 'NULLABLE', None, (), None), SchemaField('x_coordinate', 'FLOAT', 'NULLABLE', None, (), None), SchemaField('y_coordinate', 'FLOAT', 'NULLABLE', None, (), None), SchemaField('year', 'INTEGER', 'NULLABLE', None, (), None), SchemaField('updated_on', 'TIMESTAMP', 'NULLABLE', None, (), None), SchemaField('latitude', 'FLOAT', 'NULLABLE', None, (), None), SchemaField('longitude', 'FLOAT', 'NULLABLE', None, (), None), SchemaField('location', 'STRING', 'NULLABLE', None, (), None)]\n"
     ]
    },
    {
     "data": {
      "application/javascript": [
       "parent.postMessage({\"jupyterEvent\": \"custom.exercise_interaction\", \"data\": {\"outcomeType\": 1, \"valueTowardsCompletion\": 0.3333333333333333, \"interactionType\": 1, \"questionType\": 1, \"questionId\": \"2_CountTimestampFields\", \"learnToolsVersion\": \"0.3.4\", \"failureMessage\": \"\", \"exceptionClass\": \"\", \"trace\": \"\"}}, \"*\")"
      ],
      "text/plain": [
       "<IPython.core.display.Javascript object>"
      ]
     },
     "metadata": {},
     "output_type": "display_data"
    },
    {
     "data": {
      "text/markdown": [
       "<span style=\"color:#33cc33\">Correct</span>"
      ],
      "text/plain": [
       "Correct"
      ]
     },
     "metadata": {},
     "output_type": "display_data"
    }
   ],
   "source": [
    "# Construct a reference to the \"crime\" table　「犯罪」テーブルへの参照を作成する\n",
    "table_ref = dataset_ref.table(\"crime\")\n",
    "\n",
    "# API request - fetch the table　　APIリクエストテーブルを作成\n",
    "table = client.get_table(table_ref)\n",
    "\n",
    "# Print information on all the columns in the \"crime\" table in the \"chicago_crime\" dataset\n",
    "#「chicago_crime」データセットの「crime」テーブルのすべての列に関する情報を出力します。\n",
    "print(table.schema)\n",
    "\n",
    "num_timestamp_fields = 2 \n",
    "\n",
    "# Check your answer\n",
    "q_2.check()"
   ]
  },
  {
   "cell_type": "markdown",
   "id": "91a2c261",
   "metadata": {
    "papermill": {
     "duration": 0.004419,
     "end_time": "2023-11-06T10:13:16.780918",
     "exception": false,
     "start_time": "2023-11-06T10:13:16.776499",
     "status": "completed"
    },
    "tags": []
   },
   "source": [
    "For a hint or the solution, uncomment the appropriate line below."
   ]
  },
  {
   "cell_type": "code",
   "execution_count": 6,
   "id": "f96d1ff2",
   "metadata": {
    "execution": {
     "iopub.execute_input": "2023-11-06T10:13:16.791627Z",
     "iopub.status.busy": "2023-11-06T10:13:16.791150Z",
     "iopub.status.idle": "2023-11-06T10:13:16.801133Z",
     "shell.execute_reply": "2023-11-06T10:13:16.800158Z"
    },
    "papermill": {
     "duration": 0.017169,
     "end_time": "2023-11-06T10:13:16.802786",
     "exception": false,
     "start_time": "2023-11-06T10:13:16.785617",
     "status": "completed"
    },
    "tags": []
   },
   "outputs": [
    {
     "data": {
      "application/javascript": [
       "parent.postMessage({\"jupyterEvent\": \"custom.exercise_interaction\", \"data\": {\"interactionType\": 2, \"questionType\": 1, \"questionId\": \"2_CountTimestampFields\", \"learnToolsVersion\": \"0.3.4\", \"valueTowardsCompletion\": 0.0, \"failureMessage\": \"\", \"exceptionClass\": \"\", \"trace\": \"\", \"outcomeType\": 4}}, \"*\")"
      ],
      "text/plain": [
       "<IPython.core.display.Javascript object>"
      ]
     },
     "metadata": {},
     "output_type": "display_data"
    },
    {
     "data": {
      "text/markdown": [
       "<span style=\"color:#3366cc\">Hint:</span> Begin by fetching the `crime` table. Then take a look at the table schema, and check the field type of each column.  How many times does `'TIMESTAMP'` appear?"
      ],
      "text/plain": [
       "Hint: Begin by fetching the `crime` table. Then take a look at the table schema, and check the field type of each column.  How many times does `'TIMESTAMP'` appear?"
      ]
     },
     "metadata": {},
     "output_type": "display_data"
    },
    {
     "data": {
      "application/javascript": [
       "parent.postMessage({\"jupyterEvent\": \"custom.exercise_interaction\", \"data\": {\"interactionType\": 3, \"questionType\": 1, \"questionId\": \"2_CountTimestampFields\", \"learnToolsVersion\": \"0.3.4\", \"valueTowardsCompletion\": 0.0, \"failureMessage\": \"\", \"exceptionClass\": \"\", \"trace\": \"\", \"outcomeType\": 4}}, \"*\")"
      ],
      "text/plain": [
       "<IPython.core.display.Javascript object>"
      ]
     },
     "metadata": {},
     "output_type": "display_data"
    },
    {
     "data": {
      "text/markdown": [
       "<span style=\"color:#33cc99\">Solution:</span> \n",
       "```python\n",
       "\n",
       "# Construct a reference to the \"crime\" table\n",
       "table_ref = dataset_ref.table(\"crime\")\n",
       "\n",
       "# API request - fetch the table\n",
       "table = client.get_table(table_ref)\n",
       "\n",
       "# Print information on all the columns in the \"crime\" table in the \"chicago_crime\" dataset\n",
       "print(table.schema)\n",
       "\n",
       "num_timestamp_fields = 2\n",
       "\n",
       "```"
      ],
      "text/plain": [
       "Solution: \n",
       "```python\n",
       "\n",
       "# Construct a reference to the \"crime\" table\n",
       "table_ref = dataset_ref.table(\"crime\")\n",
       "\n",
       "# API request - fetch the table\n",
       "table = client.get_table(table_ref)\n",
       "\n",
       "# Print information on all the columns in the \"crime\" table in the \"chicago_crime\" dataset\n",
       "print(table.schema)\n",
       "\n",
       "num_timestamp_fields = 2\n",
       "\n",
       "```"
      ]
     },
     "metadata": {},
     "output_type": "display_data"
    }
   ],
   "source": [
    "q_2.hint()\n",
    "# ヒント: 犯罪表を取得することから始めます。 次に、テーブル スキーマを確認し、各列のフィールド タイプを確認します。 「TIMESTAMP」は何回表示されますか?\n",
    "q_2.solution()"
   ]
  },
  {
   "cell_type": "markdown",
   "id": "19edd78e",
   "metadata": {
    "papermill": {
     "duration": 0.004811,
     "end_time": "2023-11-06T10:13:16.812633",
     "exception": false,
     "start_time": "2023-11-06T10:13:16.807822",
     "status": "completed"
    },
    "tags": []
   },
   "source": [
    "### 3) Create a crime map  ---犯罪マップを作成する¶\n",
    "\n",
    "If you wanted to create a map with a dot at the location of each crime, what are the names of the two fields you likely need to pull out of the `crime` table to plot the crimes on a map?\n",
    "各犯罪の発生場所に点が描かれた地図を作成したい場合、地図上に犯罪をプロットするために犯罪テーブルから抽出する必要があると思われる 2 つのフィールドの名前は何ですか?"
   ]
  },
  {
   "cell_type": "code",
   "execution_count": 7,
   "id": "d5f9df43",
   "metadata": {
    "execution": {
     "iopub.execute_input": "2023-11-06T10:13:16.823988Z",
     "iopub.status.busy": "2023-11-06T10:13:16.823395Z",
     "iopub.status.idle": "2023-11-06T10:13:16.829863Z",
     "shell.execute_reply": "2023-11-06T10:13:16.829314Z"
    },
    "papermill": {
     "duration": 0.01376,
     "end_time": "2023-11-06T10:13:16.831451",
     "exception": false,
     "start_time": "2023-11-06T10:13:16.817691",
     "status": "completed"
    },
    "tags": []
   },
   "outputs": [
    {
     "data": {
      "application/javascript": [
       "parent.postMessage({\"jupyterEvent\": \"custom.exercise_interaction\", \"data\": {\"outcomeType\": 1, \"valueTowardsCompletion\": 0.3333333333333333, \"interactionType\": 1, \"questionType\": 2, \"questionId\": \"3_IdentifyFieldsForPlotting\", \"learnToolsVersion\": \"0.3.4\", \"failureMessage\": \"\", \"exceptionClass\": \"\", \"trace\": \"\"}}, \"*\")"
      ],
      "text/plain": [
       "<IPython.core.display.Javascript object>"
      ]
     },
     "metadata": {},
     "output_type": "display_data"
    },
    {
     "data": {
      "text/markdown": [
       "<span style=\"color:#33cc33\">Correct</span>"
      ],
      "text/plain": [
       "Correct"
      ]
     },
     "metadata": {},
     "output_type": "display_data"
    }
   ],
   "source": [
    "fields_for_plotting = ['latitude', 'longitude']\n",
    "\n",
    "# Check your answer\n",
    "q_3.check()"
   ]
  },
  {
   "cell_type": "code",
   "execution_count": 8,
   "id": "a7973f4d",
   "metadata": {
    "execution": {
     "iopub.execute_input": "2023-11-06T10:13:16.842947Z",
     "iopub.status.busy": "2023-11-06T10:13:16.842498Z",
     "iopub.status.idle": "2023-11-06T10:13:16.851753Z",
     "shell.execute_reply": "2023-11-06T10:13:16.851154Z"
    },
    "papermill": {
     "duration": 0.016684,
     "end_time": "2023-11-06T10:13:16.853298",
     "exception": false,
     "start_time": "2023-11-06T10:13:16.836614",
     "status": "completed"
    },
    "tags": []
   },
   "outputs": [
    {
     "data": {
      "application/javascript": [
       "parent.postMessage({\"jupyterEvent\": \"custom.exercise_interaction\", \"data\": {\"interactionType\": 2, \"questionType\": 2, \"questionId\": \"3_IdentifyFieldsForPlotting\", \"learnToolsVersion\": \"0.3.4\", \"valueTowardsCompletion\": 0.0, \"failureMessage\": \"\", \"exceptionClass\": \"\", \"trace\": \"\", \"outcomeType\": 4}}, \"*\")"
      ],
      "text/plain": [
       "<IPython.core.display.Javascript object>"
      ]
     },
     "metadata": {},
     "output_type": "display_data"
    },
    {
     "data": {
      "text/markdown": [
       "<span style=\"color:#3366cc\">Hint:</span> Look at the table schema.  There are a couple options, but two of the fields are things commonly used to plot on maps. Both are `'FLOAT'` types. Use quotes around the field names in your answer."
      ],
      "text/plain": [
       "Hint: Look at the table schema.  There are a couple options, but two of the fields are things commonly used to plot on maps. Both are `'FLOAT'` types. Use quotes around the field names in your answer."
      ]
     },
     "metadata": {},
     "output_type": "display_data"
    },
    {
     "data": {
      "application/javascript": [
       "parent.postMessage({\"jupyterEvent\": \"custom.exercise_interaction\", \"data\": {\"interactionType\": 3, \"questionType\": 2, \"questionId\": \"3_IdentifyFieldsForPlotting\", \"learnToolsVersion\": \"0.3.4\", \"valueTowardsCompletion\": 0.0, \"failureMessage\": \"\", \"exceptionClass\": \"\", \"trace\": \"\", \"outcomeType\": 4}}, \"*\")"
      ],
      "text/plain": [
       "<IPython.core.display.Javascript object>"
      ]
     },
     "metadata": {},
     "output_type": "display_data"
    },
    {
     "data": {
      "text/markdown": [
       "<span style=\"color:#33cc99\">Solution:</span> \n",
       "```python\n",
       "fields_for_plotting = ['latitude', 'longitude']\n",
       "```"
      ],
      "text/plain": [
       "Solution: \n",
       "```python\n",
       "fields_for_plotting = ['latitude', 'longitude']\n",
       "```"
      ]
     },
     "metadata": {},
     "output_type": "display_data"
    }
   ],
   "source": [
    "q_3.hint()\n",
    "# ヒント: テーブル スキーマを見てください。 いくつかのオプションがありますが、そのうちの 2 つのフィールドは、地図上にプロットするために一般的に使用されるものです。 どちらも「FLOAT」タイプです。 回答ではフィールド名を引用符で囲みます。\n",
    "q_3.solution()"
   ]
  },
  {
   "cell_type": "markdown",
   "id": "d4ddcf1e",
   "metadata": {
    "papermill": {
     "duration": 0.005418,
     "end_time": "2023-11-06T10:13:16.864514",
     "exception": false,
     "start_time": "2023-11-06T10:13:16.859096",
     "status": "completed"
    },
    "tags": []
   },
   "source": [
    "Thinking about the question above, there are a few columns that appear to have geographic data. Look at a few values (with the `list_rows()` command) to see if you can determine their relationship.  Two columns will still be hard to interpret. But it should be obvious how the `location` column relates to `latitude` and `longitude`."
   ]
  },
  {
   "cell_type": "code",
   "execution_count": 9,
   "id": "d246d5da",
   "metadata": {
    "execution": {
     "iopub.execute_input": "2023-11-06T10:13:16.877242Z",
     "iopub.status.busy": "2023-11-06T10:13:16.876891Z",
     "iopub.status.idle": "2023-11-06T10:13:16.880596Z",
     "shell.execute_reply": "2023-11-06T10:13:16.879820Z"
    },
    "papermill": {
     "duration": 0.012131,
     "end_time": "2023-11-06T10:13:16.882195",
     "exception": false,
     "start_time": "2023-11-06T10:13:16.870064",
     "status": "completed"
    },
    "tags": []
   },
   "outputs": [],
   "source": [
    "# Scratch space for your code"
   ]
  },
  {
   "cell_type": "markdown",
   "id": "8bb5a97b",
   "metadata": {
    "papermill": {
     "duration": 0.005503,
     "end_time": "2023-11-06T10:13:16.893402",
     "exception": false,
     "start_time": "2023-11-06T10:13:16.887899",
     "status": "completed"
    },
    "tags": []
   },
   "source": [
    "# Keep going\n",
    "\n",
    "You've looked at the schema, but you haven't yet done anything exciting with the data itself. Things get more interesting when you get to the data, so keep going to **[write your first SQL query](https://www.kaggle.com/dansbecker/select-from-where).**"
   ]
  },
  {
   "cell_type": "markdown",
   "id": "a105c438",
   "metadata": {
    "papermill": {
     "duration": 0.005409,
     "end_time": "2023-11-06T10:13:16.904439",
     "exception": false,
     "start_time": "2023-11-06T10:13:16.899030",
     "status": "completed"
    },
    "tags": []
   },
   "source": [
    "---\n",
    "\n",
    "\n",
    "\n",
    "\n",
    "*Have questions or comments? Visit the [course discussion forum](https://www.kaggle.com/learn/intro-to-sql/discussion) to chat with other learners.*"
   ]
  }
 ],
 "metadata": {
  "kernelspec": {
   "display_name": "Python 3",
   "language": "python",
   "name": "python3"
  },
  "language_info": {
   "codemirror_mode": {
    "name": "ipython",
    "version": 3
   },
   "file_extension": ".py",
   "mimetype": "text/x-python",
   "name": "python",
   "nbconvert_exporter": "python",
   "pygments_lexer": "ipython3",
   "version": "3.10.12"
  },
  "papermill": {
   "default_parameters": {},
   "duration": 7.916269,
   "end_time": "2023-11-06T10:13:17.427361",
   "environment_variables": {},
   "exception": null,
   "input_path": "__notebook__.ipynb",
   "output_path": "__notebook__.ipynb",
   "parameters": {},
   "start_time": "2023-11-06T10:13:09.511092",
   "version": "2.4.0"
  }
 },
 "nbformat": 4,
 "nbformat_minor": 5
}
