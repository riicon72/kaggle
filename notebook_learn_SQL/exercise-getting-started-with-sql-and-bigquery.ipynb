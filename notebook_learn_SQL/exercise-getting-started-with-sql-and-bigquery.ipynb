{
 "cells": [
  {
   "cell_type": "markdown",
   "id": "971e3bdc",
   "metadata": {
    "papermill": {
     "duration": 0.008048,
     "end_time": "2023-10-31T14:04:24.685522",
     "exception": false,
     "start_time": "2023-10-31T14:04:24.677474",
     "status": "completed"
    },
    "tags": []
   },
   "source": [
    "**This notebook is an exercise in the [SQL](https://www.kaggle.com/learn/intro-to-sql) course.  You can reference the tutorial at [this link](https://www.kaggle.com/dansbecker/getting-started-with-sql-and-bigquery).**\n",
    "\n",
    "---\n"
   ]
  },
  {
   "cell_type": "markdown",
   "id": "2d60f295",
   "metadata": {
    "papermill": {
     "duration": 0.007118,
     "end_time": "2023-10-31T14:04:24.700223",
     "exception": false,
     "start_time": "2023-10-31T14:04:24.693105",
     "status": "completed"
    },
    "tags": []
   },
   "source": [
    "# Introduction\n",
    "\n",
    "The first test of your new data exploration skills uses data describing crime in the city of Chicago.\n",
    "\n",
    "Before you get started, run the following cell. It sets up the automated feedback system to review your answers."
   ]
  },
  {
   "cell_type": "code",
   "execution_count": 1,
   "id": "88683a79",
   "metadata": {
    "execution": {
     "iopub.execute_input": "2023-10-31T14:04:24.717224Z",
     "iopub.status.busy": "2023-10-31T14:04:24.716847Z",
     "iopub.status.idle": "2023-10-31T14:04:31.286233Z",
     "shell.execute_reply": "2023-10-31T14:04:31.284493Z"
    },
    "papermill": {
     "duration": 6.581505,
     "end_time": "2023-10-31T14:04:31.289307",
     "exception": false,
     "start_time": "2023-10-31T14:04:24.707802",
     "status": "completed"
    },
    "tags": []
   },
   "outputs": [
    {
     "name": "stdout",
     "output_type": "stream",
     "text": [
      "Using Kaggle's public dataset BigQuery integration.\n",
      "Setup Complete\n"
     ]
    }
   ],
   "source": [
    "# Set up feedack system\n",
    "from learntools.core import binder\n",
    "binder.bind(globals())\n",
    "from learntools.sql.ex1 import *\n",
    "print(\"Setup Complete\")"
   ]
  },
  {
   "cell_type": "markdown",
   "id": "b8197988",
   "metadata": {
    "papermill": {
     "duration": 0.007385,
     "end_time": "2023-10-31T14:04:31.304591",
     "exception": false,
     "start_time": "2023-10-31T14:04:31.297206",
     "status": "completed"
    },
    "tags": []
   },
   "source": [
    "Use the next code cell to fetch the dataset."
   ]
  },
  {
   "cell_type": "code",
   "execution_count": 2,
   "id": "c8e8a23d",
   "metadata": {
    "execution": {
     "iopub.execute_input": "2023-10-31T14:04:31.322660Z",
     "iopub.status.busy": "2023-10-31T14:04:31.321510Z",
     "iopub.status.idle": "2023-10-31T14:04:31.673136Z",
     "shell.execute_reply": "2023-10-31T14:04:31.671975Z"
    },
    "papermill": {
     "duration": 0.363605,
     "end_time": "2023-10-31T14:04:31.675954",
     "exception": false,
     "start_time": "2023-10-31T14:04:31.312349",
     "status": "completed"
    },
    "tags": []
   },
   "outputs": [
    {
     "name": "stdout",
     "output_type": "stream",
     "text": [
      "Using Kaggle's public dataset BigQuery integration.\n"
     ]
    }
   ],
   "source": [
    "from google.cloud import bigquery\n",
    "\n",
    "# Create a \"Client\" object\n",
    "client = bigquery.Client()\n",
    "\n",
    "# Construct a reference to the \"chicago_crime\" dataset\n",
    "dataset_ref = client.dataset(\"chicago_crime\", project=\"bigquery-public-data\")\n",
    "\n",
    "# API request - fetch the dataset\n",
    "dataset = client.get_dataset(dataset_ref)"
   ]
  },
  {
   "cell_type": "markdown",
   "id": "b5f26a4a",
   "metadata": {
    "papermill": {
     "duration": 0.007475,
     "end_time": "2023-10-31T14:04:31.691328",
     "exception": false,
     "start_time": "2023-10-31T14:04:31.683853",
     "status": "completed"
    },
    "tags": []
   },
   "source": [
    "# Exercises\n",
    "\n",
    "### 1) Count tables in the dataset\n",
    "\n",
    "How many tables are in the Chicago Crime dataset?"
   ]
  },
  {
   "cell_type": "code",
   "execution_count": 3,
   "id": "8dccf117",
   "metadata": {
    "execution": {
     "iopub.execute_input": "2023-10-31T14:04:31.709058Z",
     "iopub.status.busy": "2023-10-31T14:04:31.708625Z",
     "iopub.status.idle": "2023-10-31T14:04:31.712622Z",
     "shell.execute_reply": "2023-10-31T14:04:31.711831Z"
    },
    "papermill": {
     "duration": 0.015823,
     "end_time": "2023-10-31T14:04:31.715062",
     "exception": false,
     "start_time": "2023-10-31T14:04:31.699239",
     "status": "completed"
    },
    "tags": []
   },
   "outputs": [],
   "source": [
    "# Write the code you need here to figure out the answer"
   ]
  },
  {
   "cell_type": "code",
   "execution_count": 4,
   "id": "c3519614",
   "metadata": {
    "execution": {
     "iopub.execute_input": "2023-10-31T14:04:31.732985Z",
     "iopub.status.busy": "2023-10-31T14:04:31.732266Z",
     "iopub.status.idle": "2023-10-31T14:04:31.739139Z",
     "shell.execute_reply": "2023-10-31T14:04:31.738294Z"
    },
    "papermill": {
     "duration": 0.018469,
     "end_time": "2023-10-31T14:04:31.741418",
     "exception": false,
     "start_time": "2023-10-31T14:04:31.722949",
     "status": "completed"
    },
    "tags": []
   },
   "outputs": [
    {
     "data": {
      "text/plain": [
       "Dataset(DatasetReference('bigquery-public-data', 'chicago_crime'))"
      ]
     },
     "execution_count": 4,
     "metadata": {},
     "output_type": "execute_result"
    }
   ],
   "source": [
    "dataset "
   ]
  },
  {
   "cell_type": "code",
   "execution_count": 5,
   "id": "0051db44",
   "metadata": {
    "execution": {
     "iopub.execute_input": "2023-10-31T14:04:31.759478Z",
     "iopub.status.busy": "2023-10-31T14:04:31.758802Z",
     "iopub.status.idle": "2023-10-31T14:04:31.767248Z",
     "shell.execute_reply": "2023-10-31T14:04:31.766421Z"
    },
    "papermill": {
     "duration": 0.020069,
     "end_time": "2023-10-31T14:04:31.769453",
     "exception": false,
     "start_time": "2023-10-31T14:04:31.749384",
     "status": "completed"
    },
    "tags": []
   },
   "outputs": [
    {
     "data": {
      "application/javascript": [
       "parent.postMessage({\"jupyterEvent\": \"custom.exercise_interaction\", \"data\": {\"outcomeType\": 1, \"valueTowardsCompletion\": 0.3333333333333333, \"interactionType\": 1, \"questionType\": 1, \"questionId\": \"1_CountTables\", \"learnToolsVersion\": \"0.3.4\", \"failureMessage\": \"\", \"exceptionClass\": \"\", \"trace\": \"\"}}, \"*\")"
      ],
      "text/plain": [
       "<IPython.core.display.Javascript object>"
      ]
     },
     "metadata": {},
     "output_type": "display_data"
    },
    {
     "data": {
      "text/markdown": [
       "<span style=\"color:#33cc33\">Correct</span>"
      ],
      "text/plain": [
       "Correct"
      ]
     },
     "metadata": {},
     "output_type": "display_data"
    }
   ],
   "source": [
    "num_tables = 1  # Store the answer as num_tables and then run this cell\n",
    "\n",
    "# Check your answer\n",
    "q_1.check()"
   ]
  },
  {
   "cell_type": "markdown",
   "id": "d2463b3f",
   "metadata": {
    "papermill": {
     "duration": 0.007923,
     "end_time": "2023-10-31T14:04:31.785829",
     "exception": false,
     "start_time": "2023-10-31T14:04:31.777906",
     "status": "completed"
    },
    "tags": []
   },
   "source": [
    "For a hint or the solution, uncomment the appropriate line below."
   ]
  },
  {
   "cell_type": "code",
   "execution_count": 6,
   "id": "36b87ce6",
   "metadata": {
    "execution": {
     "iopub.execute_input": "2023-10-31T14:04:31.804561Z",
     "iopub.status.busy": "2023-10-31T14:04:31.803785Z",
     "iopub.status.idle": "2023-10-31T14:04:31.814533Z",
     "shell.execute_reply": "2023-10-31T14:04:31.813725Z"
    },
    "papermill": {
     "duration": 0.022612,
     "end_time": "2023-10-31T14:04:31.816605",
     "exception": false,
     "start_time": "2023-10-31T14:04:31.793993",
     "status": "completed"
    },
    "tags": []
   },
   "outputs": [
    {
     "data": {
      "application/javascript": [
       "parent.postMessage({\"jupyterEvent\": \"custom.exercise_interaction\", \"data\": {\"interactionType\": 2, \"questionType\": 1, \"questionId\": \"1_CountTables\", \"learnToolsVersion\": \"0.3.4\", \"valueTowardsCompletion\": 0.0, \"failureMessage\": \"\", \"exceptionClass\": \"\", \"trace\": \"\", \"outcomeType\": 4}}, \"*\")"
      ],
      "text/plain": [
       "<IPython.core.display.Javascript object>"
      ]
     },
     "metadata": {},
     "output_type": "display_data"
    },
    {
     "data": {
      "text/markdown": [
       "<span style=\"color:#3366cc\">Hint:</span> Use the `list_tables()` method to get a list of the tables in the dataset."
      ],
      "text/plain": [
       "Hint: Use the `list_tables()` method to get a list of the tables in the dataset."
      ]
     },
     "metadata": {},
     "output_type": "display_data"
    },
    {
     "data": {
      "application/javascript": [
       "parent.postMessage({\"jupyterEvent\": \"custom.exercise_interaction\", \"data\": {\"interactionType\": 3, \"questionType\": 1, \"questionId\": \"1_CountTables\", \"learnToolsVersion\": \"0.3.4\", \"valueTowardsCompletion\": 0.0, \"failureMessage\": \"\", \"exceptionClass\": \"\", \"trace\": \"\", \"outcomeType\": 4}}, \"*\")"
      ],
      "text/plain": [
       "<IPython.core.display.Javascript object>"
      ]
     },
     "metadata": {},
     "output_type": "display_data"
    },
    {
     "data": {
      "text/markdown": [
       "<span style=\"color:#33cc99\">Solution:</span> \n",
       "```python\n",
       "\n",
       "# List all the tables in the \"chicago_crime\" dataset\n",
       "tables = list(client.list_tables(dataset))\n",
       "\n",
       "# Print number of tables in the dataset\n",
       "print(len(tables))\n",
       "\n",
       "num_tables = 1\n",
       "\n",
       "```"
      ],
      "text/plain": [
       "Solution: \n",
       "```python\n",
       "\n",
       "# List all the tables in the \"chicago_crime\" dataset\n",
       "tables = list(client.list_tables(dataset))\n",
       "\n",
       "# Print number of tables in the dataset\n",
       "print(len(tables))\n",
       "\n",
       "num_tables = 1\n",
       "\n",
       "```"
      ]
     },
     "metadata": {},
     "output_type": "display_data"
    }
   ],
   "source": [
    "q_1.hint()\n",
    "q_1.solution()"
   ]
  },
  {
   "cell_type": "markdown",
   "id": "1ec38d2d",
   "metadata": {
    "papermill": {
     "duration": 0.008615,
     "end_time": "2023-10-31T14:04:31.834236",
     "exception": false,
     "start_time": "2023-10-31T14:04:31.825621",
     "status": "completed"
    },
    "tags": []
   },
   "source": [
    "### 2) Explore the table schema\n",
    "\n",
    "How many columns in the `crime` table have `TIMESTAMP` data?"
   ]
  },
  {
   "cell_type": "code",
   "execution_count": 7,
   "id": "b2d2c9a9",
   "metadata": {
    "execution": {
     "iopub.execute_input": "2023-10-31T14:04:31.854490Z",
     "iopub.status.busy": "2023-10-31T14:04:31.853728Z",
     "iopub.status.idle": "2023-10-31T14:04:31.858579Z",
     "shell.execute_reply": "2023-10-31T14:04:31.857303Z"
    },
    "papermill": {
     "duration": 0.018081,
     "end_time": "2023-10-31T14:04:31.861269",
     "exception": false,
     "start_time": "2023-10-31T14:04:31.843188",
     "status": "completed"
    },
    "tags": []
   },
   "outputs": [],
   "source": [
    "# Write the code to figure out the answer"
   ]
  },
  {
   "cell_type": "code",
   "execution_count": 8,
   "id": "db8b460c",
   "metadata": {
    "execution": {
     "iopub.execute_input": "2023-10-31T14:04:31.881695Z",
     "iopub.status.busy": "2023-10-31T14:04:31.881252Z",
     "iopub.status.idle": "2023-10-31T14:04:31.890301Z",
     "shell.execute_reply": "2023-10-31T14:04:31.888943Z"
    },
    "papermill": {
     "duration": 0.021799,
     "end_time": "2023-10-31T14:04:31.892692",
     "exception": false,
     "start_time": "2023-10-31T14:04:31.870893",
     "status": "completed"
    },
    "tags": []
   },
   "outputs": [
    {
     "data": {
      "application/javascript": [
       "parent.postMessage({\"jupyterEvent\": \"custom.exercise_interaction\", \"data\": {\"outcomeType\": 1, \"valueTowardsCompletion\": 0.3333333333333333, \"interactionType\": 1, \"questionType\": 1, \"questionId\": \"2_CountTimestampFields\", \"learnToolsVersion\": \"0.3.4\", \"failureMessage\": \"\", \"exceptionClass\": \"\", \"trace\": \"\"}}, \"*\")"
      ],
      "text/plain": [
       "<IPython.core.display.Javascript object>"
      ]
     },
     "metadata": {},
     "output_type": "display_data"
    },
    {
     "data": {
      "text/markdown": [
       "<span style=\"color:#33cc33\">Correct</span>"
      ],
      "text/plain": [
       "Correct"
      ]
     },
     "metadata": {},
     "output_type": "display_data"
    }
   ],
   "source": [
    "num_timestamp_fields = 2 # Put your answer here\n",
    "\n",
    "# Check your answer\n",
    "q_2.check()"
   ]
  },
  {
   "cell_type": "markdown",
   "id": "3574d5d4",
   "metadata": {
    "papermill": {
     "duration": 0.009146,
     "end_time": "2023-10-31T14:04:31.911301",
     "exception": false,
     "start_time": "2023-10-31T14:04:31.902155",
     "status": "completed"
    },
    "tags": []
   },
   "source": [
    "For a hint or the solution, uncomment the appropriate line below."
   ]
  },
  {
   "cell_type": "code",
   "execution_count": 9,
   "id": "555d3463",
   "metadata": {
    "execution": {
     "iopub.execute_input": "2023-10-31T14:04:31.932024Z",
     "iopub.status.busy": "2023-10-31T14:04:31.931587Z",
     "iopub.status.idle": "2023-10-31T14:04:31.944914Z",
     "shell.execute_reply": "2023-10-31T14:04:31.943877Z"
    },
    "papermill": {
     "duration": 0.026443,
     "end_time": "2023-10-31T14:04:31.947095",
     "exception": false,
     "start_time": "2023-10-31T14:04:31.920652",
     "status": "completed"
    },
    "tags": []
   },
   "outputs": [
    {
     "data": {
      "application/javascript": [
       "parent.postMessage({\"jupyterEvent\": \"custom.exercise_interaction\", \"data\": {\"interactionType\": 2, \"questionType\": 1, \"questionId\": \"2_CountTimestampFields\", \"learnToolsVersion\": \"0.3.4\", \"valueTowardsCompletion\": 0.0, \"failureMessage\": \"\", \"exceptionClass\": \"\", \"trace\": \"\", \"outcomeType\": 4}}, \"*\")"
      ],
      "text/plain": [
       "<IPython.core.display.Javascript object>"
      ]
     },
     "metadata": {},
     "output_type": "display_data"
    },
    {
     "data": {
      "text/markdown": [
       "<span style=\"color:#3366cc\">Hint:</span> Begin by fetching the `crime` table. Then take a look at the table schema, and check the field type of each column.  How many times does `'TIMESTAMP'` appear?"
      ],
      "text/plain": [
       "Hint: Begin by fetching the `crime` table. Then take a look at the table schema, and check the field type of each column.  How many times does `'TIMESTAMP'` appear?"
      ]
     },
     "metadata": {},
     "output_type": "display_data"
    },
    {
     "data": {
      "application/javascript": [
       "parent.postMessage({\"jupyterEvent\": \"custom.exercise_interaction\", \"data\": {\"interactionType\": 3, \"questionType\": 1, \"questionId\": \"2_CountTimestampFields\", \"learnToolsVersion\": \"0.3.4\", \"valueTowardsCompletion\": 0.0, \"failureMessage\": \"\", \"exceptionClass\": \"\", \"trace\": \"\", \"outcomeType\": 4}}, \"*\")"
      ],
      "text/plain": [
       "<IPython.core.display.Javascript object>"
      ]
     },
     "metadata": {},
     "output_type": "display_data"
    },
    {
     "data": {
      "text/markdown": [
       "<span style=\"color:#33cc99\">Solution:</span> \n",
       "```python\n",
       "\n",
       "# Construct a reference to the \"crime\" table\n",
       "table_ref = dataset_ref.table(\"crime\")\n",
       "\n",
       "# API request - fetch the table\n",
       "table = client.get_table(table_ref)\n",
       "\n",
       "# Print information on all the columns in the \"crime\" table in the \"chicago_crime\" dataset\n",
       "print(table.schema)\n",
       "\n",
       "num_timestamp_fields = 2\n",
       "\n",
       "```"
      ],
      "text/plain": [
       "Solution: \n",
       "```python\n",
       "\n",
       "# Construct a reference to the \"crime\" table\n",
       "table_ref = dataset_ref.table(\"crime\")\n",
       "\n",
       "# API request - fetch the table\n",
       "table = client.get_table(table_ref)\n",
       "\n",
       "# Print information on all the columns in the \"crime\" table in the \"chicago_crime\" dataset\n",
       "print(table.schema)\n",
       "\n",
       "num_timestamp_fields = 2\n",
       "\n",
       "```"
      ]
     },
     "metadata": {},
     "output_type": "display_data"
    }
   ],
   "source": [
    "q_2.hint()\n",
    "q_2.solution()"
   ]
  },
  {
   "cell_type": "markdown",
   "id": "2c0c834a",
   "metadata": {
    "papermill": {
     "duration": 0.010186,
     "end_time": "2023-10-31T14:04:31.967504",
     "exception": false,
     "start_time": "2023-10-31T14:04:31.957318",
     "status": "completed"
    },
    "tags": []
   },
   "source": [
    "### 3) Create a crime map\n",
    "\n",
    "If you wanted to create a map with a dot at the location of each crime, what are the names of the two fields you likely need to pull out of the `crime` table to plot the crimes on a map?"
   ]
  },
  {
   "cell_type": "code",
   "execution_count": 10,
   "id": "f4d08c03",
   "metadata": {
    "execution": {
     "iopub.execute_input": "2023-10-31T14:04:31.989673Z",
     "iopub.status.busy": "2023-10-31T14:04:31.989255Z",
     "iopub.status.idle": "2023-10-31T14:04:31.994090Z",
     "shell.execute_reply": "2023-10-31T14:04:31.992969Z"
    },
    "papermill": {
     "duration": 0.018704,
     "end_time": "2023-10-31T14:04:31.996343",
     "exception": false,
     "start_time": "2023-10-31T14:04:31.977639",
     "status": "completed"
    },
    "tags": []
   },
   "outputs": [],
   "source": [
    "# Write the code here to explore the data so you can find the answer"
   ]
  },
  {
   "cell_type": "code",
   "execution_count": 11,
   "id": "7f933d93",
   "metadata": {
    "execution": {
     "iopub.execute_input": "2023-10-31T14:04:32.019143Z",
     "iopub.status.busy": "2023-10-31T14:04:32.018697Z",
     "iopub.status.idle": "2023-10-31T14:04:32.350332Z",
     "shell.execute_reply": "2023-10-31T14:04:32.349260Z"
    },
    "papermill": {
     "duration": 0.346165,
     "end_time": "2023-10-31T14:04:32.353113",
     "exception": false,
     "start_time": "2023-10-31T14:04:32.006948",
     "status": "completed"
    },
    "tags": []
   },
   "outputs": [
    {
     "data": {
      "text/plain": [
       "Table(TableReference(DatasetReference('bigquery-public-data', 'chicago_crime'), 'crime'))"
      ]
     },
     "execution_count": 11,
     "metadata": {},
     "output_type": "execute_result"
    }
   ],
   "source": [
    "table_ref = dataset_ref.table(\"crime\")\n",
    "table = client.get_table(table_ref)\n",
    "table"
   ]
  },
  {
   "cell_type": "code",
   "execution_count": 12,
   "id": "bb396549",
   "metadata": {
    "execution": {
     "iopub.execute_input": "2023-10-31T14:04:32.375564Z",
     "iopub.status.busy": "2023-10-31T14:04:32.375173Z",
     "iopub.status.idle": "2023-10-31T14:04:32.384176Z",
     "shell.execute_reply": "2023-10-31T14:04:32.383290Z"
    },
    "papermill": {
     "duration": 0.023211,
     "end_time": "2023-10-31T14:04:32.386636",
     "exception": false,
     "start_time": "2023-10-31T14:04:32.363425",
     "status": "completed"
    },
    "tags": []
   },
   "outputs": [
    {
     "data": {
      "application/javascript": [
       "parent.postMessage({\"jupyterEvent\": \"custom.exercise_interaction\", \"data\": {\"outcomeType\": 1, \"valueTowardsCompletion\": 0.3333333333333333, \"interactionType\": 1, \"questionType\": 2, \"questionId\": \"3_IdentifyFieldsForPlotting\", \"learnToolsVersion\": \"0.3.4\", \"failureMessage\": \"\", \"exceptionClass\": \"\", \"trace\": \"\"}}, \"*\")"
      ],
      "text/plain": [
       "<IPython.core.display.Javascript object>"
      ]
     },
     "metadata": {},
     "output_type": "display_data"
    },
    {
     "data": {
      "text/markdown": [
       "<span style=\"color:#33cc33\">Correct</span>"
      ],
      "text/plain": [
       "Correct"
      ]
     },
     "metadata": {},
     "output_type": "display_data"
    }
   ],
   "source": [
    "fields_for_plotting = ['latitude', 'longitude'] # Put your answers here\n",
    "\n",
    "# Check your answer\n",
    "q_3.check()"
   ]
  },
  {
   "cell_type": "markdown",
   "id": "bac852b7",
   "metadata": {
    "papermill": {
     "duration": 0.010521,
     "end_time": "2023-10-31T14:04:32.408114",
     "exception": false,
     "start_time": "2023-10-31T14:04:32.397593",
     "status": "completed"
    },
    "tags": []
   },
   "source": [
    "For a hint or the solution, uncomment the appropriate line below."
   ]
  },
  {
   "cell_type": "code",
   "execution_count": 13,
   "id": "cd2d05b2",
   "metadata": {
    "execution": {
     "iopub.execute_input": "2023-10-31T14:04:32.433193Z",
     "iopub.status.busy": "2023-10-31T14:04:32.432650Z",
     "iopub.status.idle": "2023-10-31T14:04:32.446607Z",
     "shell.execute_reply": "2023-10-31T14:04:32.445840Z"
    },
    "papermill": {
     "duration": 0.029734,
     "end_time": "2023-10-31T14:04:32.449187",
     "exception": false,
     "start_time": "2023-10-31T14:04:32.419453",
     "status": "completed"
    },
    "tags": []
   },
   "outputs": [
    {
     "data": {
      "application/javascript": [
       "parent.postMessage({\"jupyterEvent\": \"custom.exercise_interaction\", \"data\": {\"interactionType\": 2, \"questionType\": 2, \"questionId\": \"3_IdentifyFieldsForPlotting\", \"learnToolsVersion\": \"0.3.4\", \"valueTowardsCompletion\": 0.0, \"failureMessage\": \"\", \"exceptionClass\": \"\", \"trace\": \"\", \"outcomeType\": 4}}, \"*\")"
      ],
      "text/plain": [
       "<IPython.core.display.Javascript object>"
      ]
     },
     "metadata": {},
     "output_type": "display_data"
    },
    {
     "data": {
      "text/markdown": [
       "<span style=\"color:#3366cc\">Hint:</span> Look at the table schema.  There are a couple options, but two of the fields are things commonly used to plot on maps. Both are `'FLOAT'` types. Use quotes around the field names in your answer."
      ],
      "text/plain": [
       "Hint: Look at the table schema.  There are a couple options, but two of the fields are things commonly used to plot on maps. Both are `'FLOAT'` types. Use quotes around the field names in your answer."
      ]
     },
     "metadata": {},
     "output_type": "display_data"
    },
    {
     "data": {
      "application/javascript": [
       "parent.postMessage({\"jupyterEvent\": \"custom.exercise_interaction\", \"data\": {\"interactionType\": 3, \"questionType\": 2, \"questionId\": \"3_IdentifyFieldsForPlotting\", \"learnToolsVersion\": \"0.3.4\", \"valueTowardsCompletion\": 0.0, \"failureMessage\": \"\", \"exceptionClass\": \"\", \"trace\": \"\", \"outcomeType\": 4}}, \"*\")"
      ],
      "text/plain": [
       "<IPython.core.display.Javascript object>"
      ]
     },
     "metadata": {},
     "output_type": "display_data"
    },
    {
     "data": {
      "text/markdown": [
       "<span style=\"color:#33cc99\">Solution:</span> \n",
       "```python\n",
       "fields_for_plotting = ['latitude', 'longitude']\n",
       "```"
      ],
      "text/plain": [
       "Solution: \n",
       "```python\n",
       "fields_for_plotting = ['latitude', 'longitude']\n",
       "```"
      ]
     },
     "metadata": {},
     "output_type": "display_data"
    }
   ],
   "source": [
    "q_3.hint()\n",
    "q_3.solution()"
   ]
  },
  {
   "cell_type": "markdown",
   "id": "0d1ea322",
   "metadata": {
    "papermill": {
     "duration": 0.010989,
     "end_time": "2023-10-31T14:04:32.471442",
     "exception": false,
     "start_time": "2023-10-31T14:04:32.460453",
     "status": "completed"
    },
    "tags": []
   },
   "source": [
    "Thinking about the question above, there are a few columns that appear to have geographic data. Look at a few values (with the `list_rows()` command) to see if you can determine their relationship.  Two columns will still be hard to interpret. But it should be obvious how the `location` column relates to `latitude` and `longitude`."
   ]
  },
  {
   "cell_type": "code",
   "execution_count": 14,
   "id": "9a091117",
   "metadata": {
    "execution": {
     "iopub.execute_input": "2023-10-31T14:04:32.496765Z",
     "iopub.status.busy": "2023-10-31T14:04:32.496330Z",
     "iopub.status.idle": "2023-10-31T14:04:32.501986Z",
     "shell.execute_reply": "2023-10-31T14:04:32.500834Z"
    },
    "papermill": {
     "duration": 0.021514,
     "end_time": "2023-10-31T14:04:32.504539",
     "exception": false,
     "start_time": "2023-10-31T14:04:32.483025",
     "status": "completed"
    },
    "tags": []
   },
   "outputs": [],
   "source": [
    "# Scratch space for your code"
   ]
  },
  {
   "cell_type": "markdown",
   "id": "f530f173",
   "metadata": {
    "papermill": {
     "duration": 0.011343,
     "end_time": "2023-10-31T14:04:32.527447",
     "exception": false,
     "start_time": "2023-10-31T14:04:32.516104",
     "status": "completed"
    },
    "tags": []
   },
   "source": [
    "# Keep going\n",
    "\n",
    "You've looked at the schema, but you haven't yet done anything exciting with the data itself. Things get more interesting when you get to the data, so keep going to **[write your first SQL query](https://www.kaggle.com/dansbecker/select-from-where).**"
   ]
  },
  {
   "cell_type": "markdown",
   "id": "a53f69d9",
   "metadata": {
    "papermill": {
     "duration": 0.011197,
     "end_time": "2023-10-31T14:04:32.550217",
     "exception": false,
     "start_time": "2023-10-31T14:04:32.539020",
     "status": "completed"
    },
    "tags": []
   },
   "source": [
    "---\n",
    "\n",
    "\n",
    "\n",
    "\n",
    "*Have questions or comments? Visit the [course discussion forum](https://www.kaggle.com/learn/intro-to-sql/discussion) to chat with other learners.*"
   ]
  }
 ],
 "metadata": {
  "kernelspec": {
   "display_name": "Python 3",
   "language": "python",
   "name": "python3"
  },
  "language_info": {
   "codemirror_mode": {
    "name": "ipython",
    "version": 3
   },
   "file_extension": ".py",
   "mimetype": "text/x-python",
   "name": "python",
   "nbconvert_exporter": "python",
   "pygments_lexer": "ipython3",
   "version": "3.10.12"
  },
  "papermill": {
   "default_parameters": {},
   "duration": 12.41126,
   "end_time": "2023-10-31T14:04:33.285098",
   "environment_variables": {},
   "exception": null,
   "input_path": "__notebook__.ipynb",
   "output_path": "__notebook__.ipynb",
   "parameters": {},
   "start_time": "2023-10-31T14:04:20.873838",
   "version": "2.4.0"
  }
 },
 "nbformat": 4,
 "nbformat_minor": 5
}
