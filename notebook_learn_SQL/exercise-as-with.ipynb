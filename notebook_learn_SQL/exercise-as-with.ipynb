{
 "cells": [
  {
   "cell_type": "markdown",
   "id": "90b2d52e",
   "metadata": {
    "papermill": {
     "duration": 0.005336,
     "end_time": "2023-11-02T09:24:27.812522",
     "exception": false,
     "start_time": "2023-11-02T09:24:27.807186",
     "status": "completed"
    },
    "tags": []
   },
   "source": [
    "**This notebook is an exercise in the [SQL](https://www.kaggle.com/learn/intro-to-sql) course.  You can reference the tutorial at [this link](https://www.kaggle.com/dansbecker/as-with).**\n",
    "\n",
    "---\n"
   ]
  },
  {
   "cell_type": "markdown",
   "id": "809e9461",
   "metadata": {
    "papermill": {
     "duration": 0.004596,
     "end_time": "2023-11-02T09:24:27.821990",
     "exception": false,
     "start_time": "2023-11-02T09:24:27.817394",
     "status": "completed"
    },
    "tags": []
   },
   "source": [
    "# Introduction\n",
    "\n",
    "You are getting to the point where you can own an analysis from beginning to end. So you'll do more data exploration in this exercise than you've done before.  Before you get started, run the following set-up code as usual. "
   ]
  },
  {
   "cell_type": "code",
   "execution_count": 1,
   "id": "7f90cef6",
   "metadata": {
    "execution": {
     "iopub.execute_input": "2023-11-02T09:24:27.833059Z",
     "iopub.status.busy": "2023-11-02T09:24:27.832778Z",
     "iopub.status.idle": "2023-11-02T09:24:51.619565Z",
     "shell.execute_reply": "2023-11-02T09:24:51.618579Z"
    },
    "papermill": {
     "duration": 23.794599,
     "end_time": "2023-11-02T09:24:51.621303",
     "exception": false,
     "start_time": "2023-11-02T09:24:27.826704",
     "status": "completed"
    },
    "tags": []
   },
   "outputs": [
    {
     "name": "stdout",
     "output_type": "stream",
     "text": [
      "Collecting git+https://github.com/Kaggle/learntools.git\r\n",
      "  Cloning https://github.com/Kaggle/learntools.git to /tmp/pip-req-build-rdsybmpu\r\n",
      "  Running command git clone --filter=blob:none --quiet https://github.com/Kaggle/learntools.git /tmp/pip-req-build-rdsybmpu\r\n",
      "  Resolved https://github.com/Kaggle/learntools.git to commit 7a83948d1820d0282e518fc44692bb3118c9e1a6\r\n",
      "  Preparing metadata (setup.py) ... \u001b[?25ldone\r\n",
      "\u001b[?25hBuilding wheels for collected packages: learntools\r\n",
      "  Building wheel for learntools (setup.py) ... \u001b[?25l-\b \bdone\r\n",
      "\u001b[?25h  Created wheel for learntools: filename=learntools-0.3.4-py3-none-any.whl size=268963 sha256=30bbab310bcabb5732f2237f8685143d48f23f85a5e03cc25f9b4f833de14ec8\r\n",
      "  Stored in directory: /tmp/pip-ephem-wheel-cache-mpv1eqii/wheels/2f/6c/3c/aa9f50cfb5a862157cb4c7a5b34881828cf45404698255dced\r\n",
      "Successfully built learntools\r\n",
      "Installing collected packages: learntools\r\n",
      "Successfully installed learntools-0.3.4\r\n",
      "Using Kaggle's public dataset BigQuery integration.\n",
      "Setup Complete\n"
     ]
    }
   ],
   "source": [
    "# Get most recent checking code\n",
    "!pip install -U -t /kaggle/working/ git+https://github.com/Kaggle/learntools.git\n",
    "# Set up feedback system\n",
    "from learntools.core import binder\n",
    "binder.bind(globals())\n",
    "from learntools.sql.ex5 import *\n",
    "print(\"Setup Complete\")"
   ]
  },
  {
   "cell_type": "markdown",
   "id": "7e2c2b83",
   "metadata": {
    "papermill": {
     "duration": 0.004989,
     "end_time": "2023-11-02T09:24:51.631729",
     "exception": false,
     "start_time": "2023-11-02T09:24:51.626740",
     "status": "completed"
    },
    "tags": []
   },
   "source": [
    "You'll work with a dataset about taxi trips in the city of Chicago. Run the cell below to fetch the `chicago_taxi_trips` dataset."
   ]
  },
  {
   "cell_type": "code",
   "execution_count": 2,
   "id": "5ad120e7",
   "metadata": {
    "execution": {
     "iopub.execute_input": "2023-11-02T09:24:51.643748Z",
     "iopub.status.busy": "2023-11-02T09:24:51.643001Z",
     "iopub.status.idle": "2023-11-02T09:24:51.971815Z",
     "shell.execute_reply": "2023-11-02T09:24:51.970978Z"
    },
    "papermill": {
     "duration": 0.336965,
     "end_time": "2023-11-02T09:24:51.973926",
     "exception": false,
     "start_time": "2023-11-02T09:24:51.636961",
     "status": "completed"
    },
    "tags": []
   },
   "outputs": [
    {
     "name": "stdout",
     "output_type": "stream",
     "text": [
      "Using Kaggle's public dataset BigQuery integration.\n"
     ]
    }
   ],
   "source": [
    "from google.cloud import bigquery\n",
    "\n",
    "# Create a \"Client\" object\n",
    "client = bigquery.Client()\n",
    "\n",
    "# Construct a reference to the \"chicago_taxi_trips\" dataset\n",
    "dataset_ref = client.dataset(\"chicago_taxi_trips\", project=\"bigquery-public-data\")\n",
    "\n",
    "# API request - fetch the dataset\n",
    "dataset = client.get_dataset(dataset_ref)"
   ]
  },
  {
   "cell_type": "markdown",
   "id": "aa87a6b8",
   "metadata": {
    "papermill": {
     "duration": 0.005345,
     "end_time": "2023-11-02T09:24:51.984955",
     "exception": false,
     "start_time": "2023-11-02T09:24:51.979610",
     "status": "completed"
    },
    "tags": []
   },
   "source": [
    "# Exercises\n",
    "\n",
    "You are curious how much slower traffic moves when traffic volume is high. This involves a few steps.\n",
    "\n",
    "### 1) Find the data\n",
    "Before you can access the data, you need to find the table name with the data.\n",
    "\n",
    "*Hint*: Tab completion is helpful whenever you can't remember a command. Type `client.` and then hit the tab key. Don't forget the period before hitting tab."
   ]
  },
  {
   "cell_type": "code",
   "execution_count": 3,
   "id": "7eeda42c",
   "metadata": {
    "execution": {
     "iopub.execute_input": "2023-11-02T09:24:51.996680Z",
     "iopub.status.busy": "2023-11-02T09:24:51.996383Z",
     "iopub.status.idle": "2023-11-02T09:24:51.999744Z",
     "shell.execute_reply": "2023-11-02T09:24:51.999163Z"
    },
    "papermill": {
     "duration": 0.010806,
     "end_time": "2023-11-02T09:24:52.001184",
     "exception": false,
     "start_time": "2023-11-02T09:24:51.990378",
     "status": "completed"
    },
    "tags": []
   },
   "outputs": [],
   "source": [
    "# Your code here to find the table name"
   ]
  },
  {
   "cell_type": "code",
   "execution_count": 4,
   "id": "1e190e60",
   "metadata": {
    "execution": {
     "iopub.execute_input": "2023-11-02T09:24:52.012794Z",
     "iopub.status.busy": "2023-11-02T09:24:52.012339Z",
     "iopub.status.idle": "2023-11-02T09:24:52.019743Z",
     "shell.execute_reply": "2023-11-02T09:24:52.018923Z"
    },
    "papermill": {
     "duration": 0.014791,
     "end_time": "2023-11-02T09:24:52.021298",
     "exception": false,
     "start_time": "2023-11-02T09:24:52.006507",
     "status": "completed"
    },
    "tags": []
   },
   "outputs": [
    {
     "data": {
      "application/javascript": [
       "parent.postMessage({\"jupyterEvent\": \"custom.exercise_interaction\", \"data\": {\"outcomeType\": 1, \"valueTowardsCompletion\": 0.16666666666666666, \"interactionType\": 1, \"questionType\": 1, \"questionId\": \"1_GetTableName\", \"learnToolsVersion\": \"0.3.4\", \"failureMessage\": \"\", \"exceptionClass\": \"\", \"trace\": \"\"}}, \"*\")"
      ],
      "text/plain": [
       "<IPython.core.display.Javascript object>"
      ]
     },
     "metadata": {},
     "output_type": "display_data"
    },
    {
     "data": {
      "text/markdown": [
       "<span style=\"color:#33cc33\">Correct</span>"
      ],
      "text/plain": [
       "Correct"
      ]
     },
     "metadata": {},
     "output_type": "display_data"
    }
   ],
   "source": [
    "# Write the table name as a string below\n",
    "table_name = 'taxi_trips'\n",
    "\n",
    "# Check your answer\n",
    "q_1.check()"
   ]
  },
  {
   "cell_type": "markdown",
   "id": "db65e6b3",
   "metadata": {
    "papermill": {
     "duration": 0.005284,
     "end_time": "2023-11-02T09:24:52.032165",
     "exception": false,
     "start_time": "2023-11-02T09:24:52.026881",
     "status": "completed"
    },
    "tags": []
   },
   "source": [
    "For the solution, uncomment the line below."
   ]
  },
  {
   "cell_type": "code",
   "execution_count": 5,
   "id": "6d006e26",
   "metadata": {
    "execution": {
     "iopub.execute_input": "2023-11-02T09:24:52.044088Z",
     "iopub.status.busy": "2023-11-02T09:24:52.043757Z",
     "iopub.status.idle": "2023-11-02T09:24:52.050006Z",
     "shell.execute_reply": "2023-11-02T09:24:52.049416Z"
    },
    "papermill": {
     "duration": 0.014013,
     "end_time": "2023-11-02T09:24:52.051707",
     "exception": false,
     "start_time": "2023-11-02T09:24:52.037694",
     "status": "completed"
    },
    "tags": []
   },
   "outputs": [
    {
     "data": {
      "application/javascript": [
       "parent.postMessage({\"jupyterEvent\": \"custom.exercise_interaction\", \"data\": {\"interactionType\": 3, \"questionType\": 1, \"questionId\": \"1_GetTableName\", \"learnToolsVersion\": \"0.3.4\", \"valueTowardsCompletion\": 0.0, \"failureMessage\": \"\", \"exceptionClass\": \"\", \"trace\": \"\", \"outcomeType\": 4}}, \"*\")"
      ],
      "text/plain": [
       "<IPython.core.display.Javascript object>"
      ]
     },
     "metadata": {},
     "output_type": "display_data"
    },
    {
     "data": {
      "text/markdown": [
       "<span style=\"color:#33cc99\">Solution:</span> \n",
       "```python\n",
       "\n",
       "# List all the tables in the dataset\n",
       "tables = list(client.list_tables(dataset))\n",
       "\n",
       "# Print names of all tables in the dataset (there is only one!)\n",
       "for table in tables:  \n",
       "    print(table.table_id)\n",
       "\n",
       "table_name = 'taxi_trips'\n",
       "    \n",
       "```"
      ],
      "text/plain": [
       "Solution: \n",
       "```python\n",
       "\n",
       "# List all the tables in the dataset\n",
       "tables = list(client.list_tables(dataset))\n",
       "\n",
       "# Print names of all tables in the dataset (there is only one!)\n",
       "for table in tables:  \n",
       "    print(table.table_id)\n",
       "\n",
       "table_name = 'taxi_trips'\n",
       "    \n",
       "```"
      ]
     },
     "metadata": {},
     "output_type": "display_data"
    }
   ],
   "source": [
    "q_1.solution()"
   ]
  },
  {
   "cell_type": "markdown",
   "id": "07da33b4",
   "metadata": {
    "papermill": {
     "duration": 0.005632,
     "end_time": "2023-11-02T09:24:52.063477",
     "exception": false,
     "start_time": "2023-11-02T09:24:52.057845",
     "status": "completed"
    },
    "tags": []
   },
   "source": [
    "### 2) Peek at the data\n",
    "\n",
    "Use the next code cell to peek at the top few rows of the data. Inspect the data and see if any issues with data quality are immediately obvious. "
   ]
  },
  {
   "cell_type": "code",
   "execution_count": 6,
   "id": "2204fa1f",
   "metadata": {
    "execution": {
     "iopub.execute_input": "2023-11-02T09:24:52.076146Z",
     "iopub.status.busy": "2023-11-02T09:24:52.075600Z",
     "iopub.status.idle": "2023-11-02T09:24:52.078405Z",
     "shell.execute_reply": "2023-11-02T09:24:52.077900Z"
    },
    "papermill": {
     "duration": 0.010528,
     "end_time": "2023-11-02T09:24:52.079781",
     "exception": false,
     "start_time": "2023-11-02T09:24:52.069253",
     "status": "completed"
    },
    "tags": []
   },
   "outputs": [],
   "source": [
    "# Your code here"
   ]
  },
  {
   "cell_type": "markdown",
   "id": "0e8fb019",
   "metadata": {
    "papermill": {
     "duration": 0.005534,
     "end_time": "2023-11-02T09:24:52.091074",
     "exception": false,
     "start_time": "2023-11-02T09:24:52.085540",
     "status": "completed"
    },
    "tags": []
   },
   "source": [
    "After deciding whether you see any important issues, run the code cell below."
   ]
  },
  {
   "cell_type": "code",
   "execution_count": 7,
   "id": "84861ffa",
   "metadata": {
    "execution": {
     "iopub.execute_input": "2023-11-02T09:24:52.103831Z",
     "iopub.status.busy": "2023-11-02T09:24:52.103403Z",
     "iopub.status.idle": "2023-11-02T09:24:52.108756Z",
     "shell.execute_reply": "2023-11-02T09:24:52.108222Z"
    },
    "papermill": {
     "duration": 0.013183,
     "end_time": "2023-11-02T09:24:52.110075",
     "exception": false,
     "start_time": "2023-11-02T09:24:52.096892",
     "status": "completed"
    },
    "tags": []
   },
   "outputs": [
    {
     "data": {
      "application/javascript": [
       "parent.postMessage({\"jupyterEvent\": \"custom.exercise_interaction\", \"data\": {\"interactionType\": 3, \"questionType\": 4, \"questionId\": \"2_WhatsWrongWithData\", \"learnToolsVersion\": \"0.3.4\", \"valueTowardsCompletion\": 0.0, \"failureMessage\": \"\", \"exceptionClass\": \"\", \"trace\": \"\", \"outcomeType\": 4}}, \"*\")"
      ],
      "text/plain": [
       "<IPython.core.display.Javascript object>"
      ]
     },
     "metadata": {},
     "output_type": "display_data"
    },
    {
     "data": {
      "text/markdown": [
       "<span style=\"color:#33cc99\">Solution:</span> \n",
       "You can see the data by calling: \n",
       "```python\n",
       "# Construct a reference to the \"taxi_trips\" table\n",
       "table_ref = dataset_ref.table(\"taxi_trips\")\n",
       "\n",
       "# API request - fetch the table\n",
       "table = client.get_table(table_ref)\n",
       "\n",
       "# Preview the first five lines of the \"taxi_trips\" table\n",
       "client.list_rows(table, max_results=5).to_dataframe()\n",
       "```\n",
       "\n",
       "Some location fields have values of `None` or `NaN`. That is a problem if we want to use those fields.\n"
      ],
      "text/plain": [
       "Solution: \n",
       "You can see the data by calling: \n",
       "```python\n",
       "# Construct a reference to the \"taxi_trips\" table\n",
       "table_ref = dataset_ref.table(\"taxi_trips\")\n",
       "\n",
       "# API request - fetch the table\n",
       "table = client.get_table(table_ref)\n",
       "\n",
       "# Preview the first five lines of the \"taxi_trips\" table\n",
       "client.list_rows(table, max_results=5).to_dataframe()\n",
       "```\n",
       "\n",
       "Some location fields have values of `None` or `NaN`. That is a problem if we want to use those fields."
      ]
     },
     "metadata": {},
     "output_type": "display_data"
    }
   ],
   "source": [
    "# Check your answer (Run this code cell to receive credit!)\n",
    "q_2.solution()"
   ]
  },
  {
   "cell_type": "markdown",
   "id": "2d945a00",
   "metadata": {
    "papermill": {
     "duration": 0.006044,
     "end_time": "2023-11-02T09:24:52.122104",
     "exception": false,
     "start_time": "2023-11-02T09:24:52.116060",
     "status": "completed"
    },
    "tags": []
   },
   "source": [
    "### 3) Determine when this data is from\n",
    "\n",
    "If the data is sufficiently old, we might be careful before assuming the data is still relevant to traffic patterns today. Write a query that counts the number of trips in each year.  \n",
    "\n",
    "Your results should have two columns:\n",
    "- `year` - the year of the trips\n",
    "- `num_trips` - the number of trips in that year\n",
    "\n",
    "Hints:\n",
    "- When using **GROUP BY** and **ORDER BY**, you should refer to the columns by the alias `year` that you set at the top of the **SELECT** query.\n",
    "- The SQL code to **SELECT** the year from `trip_start_timestamp` is <code>SELECT EXTRACT(YEAR FROM trip_start_timestamp)</code>\n",
    "- The **FROM** field can be a little tricky until you are used to it.  The format is:\n",
    "    1. A backick (the symbol \\`).\n",
    "    2. The project name. In this case it is `bigquery-public-data`.\n",
    "    3. A period.\n",
    "    4. The dataset name. In this case, it is `chicago_taxi_trips`.\n",
    "    5. A period.\n",
    "    6. The table name. You used this as your answer in **1) Find the data**.\n",
    "    7. A backtick (the symbol \\`)."
   ]
  },
  {
   "cell_type": "code",
   "execution_count": 8,
   "id": "031bcd83",
   "metadata": {
    "execution": {
     "iopub.execute_input": "2023-11-02T09:24:52.135530Z",
     "iopub.status.busy": "2023-11-02T09:24:52.135057Z",
     "iopub.status.idle": "2023-11-02T09:24:53.418266Z",
     "shell.execute_reply": "2023-11-02T09:24:53.417568Z"
    },
    "papermill": {
     "duration": 1.291863,
     "end_time": "2023-11-02T09:24:53.419959",
     "exception": false,
     "start_time": "2023-11-02T09:24:52.128096",
     "status": "completed"
    },
    "tags": []
   },
   "outputs": [
    {
     "name": "stdout",
     "output_type": "stream",
     "text": [
      "    year  num_trips\n",
      "0   2013   27217300\n",
      "1   2014   37395079\n",
      "2   2015   32385527\n",
      "3   2016   31756403\n",
      "4   2017   24979611\n",
      "5   2018   20731105\n",
      "6   2019   16476440\n",
      "7   2020    3888831\n",
      "8   2021    3947677\n",
      "9   2022    6382071\n",
      "10  2023    4896118\n"
     ]
    },
    {
     "data": {
      "application/javascript": [
       "parent.postMessage({\"jupyterEvent\": \"custom.exercise_interaction\", \"data\": {\"outcomeType\": 1, \"valueTowardsCompletion\": 0.16666666666666666, \"interactionType\": 1, \"questionType\": 2, \"questionId\": \"3_YearDistrib\", \"learnToolsVersion\": \"0.3.4\", \"failureMessage\": \"\", \"exceptionClass\": \"\", \"trace\": \"\"}}, \"*\")"
      ],
      "text/plain": [
       "<IPython.core.display.Javascript object>"
      ]
     },
     "metadata": {},
     "output_type": "display_data"
    },
    {
     "data": {
      "text/markdown": [
       "<span style=\"color:#33cc33\">Correct</span>"
      ],
      "text/plain": [
       "Correct"
      ]
     },
     "metadata": {},
     "output_type": "display_data"
    }
   ],
   "source": [
    "# Your code goes here\n",
    "rides_per_year_query = \"\"\"\n",
    "                       SELECT EXTRACT(YEAR FROM trip_start_timestamp) AS year, \n",
    "                              COUNT(1) AS num_trips\n",
    "                       FROM `bigquery-public-data.chicago_taxi_trips.taxi_trips`\n",
    "                       GROUP BY year\n",
    "                       ORDER BY year\n",
    "                       \"\"\"\n",
    "\n",
    "# Set up the query (cancel the query if it would use too much of \n",
    "# your quota)\n",
    "safe_config = bigquery.QueryJobConfig(maximum_bytes_billed=10**10)\n",
    "rides_per_year_query_job = client.query(rides_per_year_query, job_config=safe_config) # Your code goes here\n",
    "\n",
    "# API request - run the query, and return a pandas DataFrame\n",
    "rides_per_year_result = rides_per_year_query_job.to_dataframe() # Your code goes here\n",
    "\n",
    "# View results\n",
    "print(rides_per_year_result)\n",
    "\n",
    "# Check your answer\n",
    "q_3.check()"
   ]
  },
  {
   "cell_type": "markdown",
   "id": "f6dd5797",
   "metadata": {
    "papermill": {
     "duration": 0.006035,
     "end_time": "2023-11-02T09:24:53.432673",
     "exception": false,
     "start_time": "2023-11-02T09:24:53.426638",
     "status": "completed"
    },
    "tags": []
   },
   "source": [
    "For a hint or the solution, uncomment the appropriate line below."
   ]
  },
  {
   "cell_type": "code",
   "execution_count": 9,
   "id": "4074d80b",
   "metadata": {
    "execution": {
     "iopub.execute_input": "2023-11-02T09:24:53.446448Z",
     "iopub.status.busy": "2023-11-02T09:24:53.446040Z",
     "iopub.status.idle": "2023-11-02T09:24:53.454093Z",
     "shell.execute_reply": "2023-11-02T09:24:53.453352Z"
    },
    "papermill": {
     "duration": 0.01672,
     "end_time": "2023-11-02T09:24:53.455588",
     "exception": false,
     "start_time": "2023-11-02T09:24:53.438868",
     "status": "completed"
    },
    "tags": []
   },
   "outputs": [
    {
     "data": {
      "application/javascript": [
       "parent.postMessage({\"jupyterEvent\": \"custom.exercise_interaction\", \"data\": {\"interactionType\": 2, \"questionType\": 2, \"questionId\": \"3_YearDistrib\", \"learnToolsVersion\": \"0.3.4\", \"valueTowardsCompletion\": 0.0, \"failureMessage\": \"\", \"exceptionClass\": \"\", \"trace\": \"\", \"outcomeType\": 4}}, \"*\")"
      ],
      "text/plain": [
       "<IPython.core.display.Javascript object>"
      ]
     },
     "metadata": {},
     "output_type": "display_data"
    },
    {
     "data": {
      "text/markdown": [
       "<span style=\"color:#3366cc\">Hint:</span> Start your query with `SELECT EXTRACT(YEAR FROM trip_start_timestamp) AS year, COUNT(1) AS num_trips`."
      ],
      "text/plain": [
       "Hint: Start your query with `SELECT EXTRACT(YEAR FROM trip_start_timestamp) AS year, COUNT(1) AS num_trips`."
      ]
     },
     "metadata": {},
     "output_type": "display_data"
    },
    {
     "data": {
      "application/javascript": [
       "parent.postMessage({\"jupyterEvent\": \"custom.exercise_interaction\", \"data\": {\"interactionType\": 3, \"questionType\": 2, \"questionId\": \"3_YearDistrib\", \"learnToolsVersion\": \"0.3.4\", \"valueTowardsCompletion\": 0.0, \"failureMessage\": \"\", \"exceptionClass\": \"\", \"trace\": \"\", \"outcomeType\": 4}}, \"*\")"
      ],
      "text/plain": [
       "<IPython.core.display.Javascript object>"
      ]
     },
     "metadata": {},
     "output_type": "display_data"
    },
    {
     "data": {
      "text/markdown": [
       "<span style=\"color:#33cc99\">Solution:</span> \n",
       "```python\n",
       "\n",
       "rides_per_year_query = \"\"\"\n",
       "                       SELECT EXTRACT(YEAR FROM trip_start_timestamp) AS year, \n",
       "                              COUNT(1) AS num_trips\n",
       "                       FROM `bigquery-public-data.chicago_taxi_trips.taxi_trips`\n",
       "                       GROUP BY year\n",
       "                       ORDER BY year\n",
       "                       \"\"\"\n",
       "\n",
       "# Set up the query (cancel the query if it would use too much of \n",
       "# your quota)\n",
       "safe_config = bigquery.QueryJobConfig(maximum_bytes_billed=10**10)\n",
       "rides_per_year_query_job = client.query(rides_per_year_query, job_config=safe_config)\n",
       "\n",
       "# API request - run the query, and return a pandas DataFrame\n",
       "rides_per_year_result = rides_per_year_query_job.to_dataframe()\n",
       "\n",
       "```"
      ],
      "text/plain": [
       "Solution: \n",
       "```python\n",
       "\n",
       "rides_per_year_query = \"\"\"\n",
       "                       SELECT EXTRACT(YEAR FROM trip_start_timestamp) AS year, \n",
       "                              COUNT(1) AS num_trips\n",
       "                       FROM `bigquery-public-data.chicago_taxi_trips.taxi_trips`\n",
       "                       GROUP BY year\n",
       "                       ORDER BY year\n",
       "                       \"\"\"\n",
       "\n",
       "# Set up the query (cancel the query if it would use too much of \n",
       "# your quota)\n",
       "safe_config = bigquery.QueryJobConfig(maximum_bytes_billed=10**10)\n",
       "rides_per_year_query_job = client.query(rides_per_year_query, job_config=safe_config)\n",
       "\n",
       "# API request - run the query, and return a pandas DataFrame\n",
       "rides_per_year_result = rides_per_year_query_job.to_dataframe()\n",
       "\n",
       "```"
      ]
     },
     "metadata": {},
     "output_type": "display_data"
    }
   ],
   "source": [
    "q_3.hint()\n",
    "q_3.solution()"
   ]
  },
  {
   "cell_type": "markdown",
   "id": "91e4b97b",
   "metadata": {
    "papermill": {
     "duration": 0.006425,
     "end_time": "2023-11-02T09:24:53.468631",
     "exception": false,
     "start_time": "2023-11-02T09:24:53.462206",
     "status": "completed"
    },
    "tags": []
   },
   "source": [
    "### 4) Dive slightly deeper\n",
    "\n",
    "You'd like to take a closer look at rides from 2016.  Copy the query you used above in `rides_per_year_query` into the cell below for `rides_per_month_query`.  Then modify it in two ways:\n",
    "1. Use a **WHERE** clause to limit the query to data from 2016.\n",
    "2. Modify the query to extract the month rather than the year."
   ]
  },
  {
   "cell_type": "code",
   "execution_count": 10,
   "id": "1e08a58a",
   "metadata": {
    "execution": {
     "iopub.execute_input": "2023-11-02T09:24:53.482857Z",
     "iopub.status.busy": "2023-11-02T09:24:53.482624Z",
     "iopub.status.idle": "2023-11-02T09:24:54.731938Z",
     "shell.execute_reply": "2023-11-02T09:24:54.730668Z"
    },
    "papermill": {
     "duration": 1.258613,
     "end_time": "2023-11-02T09:24:54.733911",
     "exception": false,
     "start_time": "2023-11-02T09:24:53.475298",
     "status": "completed"
    },
    "tags": []
   },
   "outputs": [
    {
     "name": "stdout",
     "output_type": "stream",
     "text": [
      "    month  num_trips\n",
      "0       1    2510389\n",
      "1       2    2568433\n",
      "2       3    2851106\n",
      "3       4    2854290\n",
      "4       5    2859147\n",
      "5       6    2841872\n",
      "6       7    2682912\n",
      "7       8    2629482\n",
      "8       9    2532650\n",
      "9      10    2725340\n",
      "10     11    2387790\n",
      "11     12    2312992\n"
     ]
    },
    {
     "data": {
      "application/javascript": [
       "parent.postMessage({\"jupyterEvent\": \"custom.exercise_interaction\", \"data\": {\"outcomeType\": 1, \"valueTowardsCompletion\": 0.16666666666666666, \"interactionType\": 1, \"questionType\": 2, \"questionId\": \"4_MonthDistrib\", \"learnToolsVersion\": \"0.3.4\", \"failureMessage\": \"\", \"exceptionClass\": \"\", \"trace\": \"\"}}, \"*\")"
      ],
      "text/plain": [
       "<IPython.core.display.Javascript object>"
      ]
     },
     "metadata": {},
     "output_type": "display_data"
    },
    {
     "data": {
      "text/markdown": [
       "<span style=\"color:#33cc33\">Correct</span>"
      ],
      "text/plain": [
       "Correct"
      ]
     },
     "metadata": {},
     "output_type": "display_data"
    }
   ],
   "source": [
    "# Your code goes here\n",
    "rides_per_month_query =  \"\"\"\n",
    "                        SELECT EXTRACT(MONTH FROM trip_start_timestamp) AS month, \n",
    "                               COUNT(1) AS num_trips\n",
    "                        FROM `bigquery-public-data.chicago_taxi_trips.taxi_trips`\n",
    "                        WHERE EXTRACT(YEAR FROM trip_start_timestamp) = 2016\n",
    "                        GROUP BY month\n",
    "                        ORDER BY month\n",
    "                        \"\"\"\n",
    "\n",
    "# Set up the query\n",
    "safe_config = bigquery.QueryJobConfig(maximum_bytes_billed=10**10)\n",
    "rides_per_month_query_job =  client.query(rides_per_month_query, job_config=safe_config)# Your code goes here\n",
    "\n",
    "# API request - run the query, and return a pandas DataFrame\n",
    "rides_per_month_result =rides_per_month_query_job.to_dataframe() # Your code goes here\n",
    "\n",
    "# View results\n",
    "print(rides_per_month_result)\n",
    "\n",
    "# Check your answer\n",
    "q_4.check()"
   ]
  },
  {
   "cell_type": "markdown",
   "id": "1cbb52a4",
   "metadata": {
    "papermill": {
     "duration": 0.010291,
     "end_time": "2023-11-02T09:24:54.754260",
     "exception": false,
     "start_time": "2023-11-02T09:24:54.743969",
     "status": "completed"
    },
    "tags": []
   },
   "source": [
    "For a hint or the solution, uncomment the appropriate line below."
   ]
  },
  {
   "cell_type": "code",
   "execution_count": 11,
   "id": "4ef095fb",
   "metadata": {
    "execution": {
     "iopub.execute_input": "2023-11-02T09:24:54.770296Z",
     "iopub.status.busy": "2023-11-02T09:24:54.770016Z",
     "iopub.status.idle": "2023-11-02T09:24:54.778317Z",
     "shell.execute_reply": "2023-11-02T09:24:54.777643Z"
    },
    "papermill": {
     "duration": 0.017794,
     "end_time": "2023-11-02T09:24:54.779916",
     "exception": false,
     "start_time": "2023-11-02T09:24:54.762122",
     "status": "completed"
    },
    "tags": []
   },
   "outputs": [
    {
     "data": {
      "application/javascript": [
       "parent.postMessage({\"jupyterEvent\": \"custom.exercise_interaction\", \"data\": {\"interactionType\": 2, \"questionType\": 2, \"questionId\": \"4_MonthDistrib\", \"learnToolsVersion\": \"0.3.4\", \"valueTowardsCompletion\": 0.0, \"failureMessage\": \"\", \"exceptionClass\": \"\", \"trace\": \"\", \"outcomeType\": 4}}, \"*\")"
      ],
      "text/plain": [
       "<IPython.core.display.Javascript object>"
      ]
     },
     "metadata": {},
     "output_type": "display_data"
    },
    {
     "data": {
      "text/markdown": [
       "<span style=\"color:#3366cc\">Hint:</span> Start your query with `SELECT EXTRACT(MONTH FROM trip_start_timestamp) AS month, COUNT(1) AS num_trips`."
      ],
      "text/plain": [
       "Hint: Start your query with `SELECT EXTRACT(MONTH FROM trip_start_timestamp) AS month, COUNT(1) AS num_trips`."
      ]
     },
     "metadata": {},
     "output_type": "display_data"
    },
    {
     "data": {
      "application/javascript": [
       "parent.postMessage({\"jupyterEvent\": \"custom.exercise_interaction\", \"data\": {\"interactionType\": 3, \"questionType\": 2, \"questionId\": \"4_MonthDistrib\", \"learnToolsVersion\": \"0.3.4\", \"valueTowardsCompletion\": 0.0, \"failureMessage\": \"\", \"exceptionClass\": \"\", \"trace\": \"\", \"outcomeType\": 4}}, \"*\")"
      ],
      "text/plain": [
       "<IPython.core.display.Javascript object>"
      ]
     },
     "metadata": {},
     "output_type": "display_data"
    },
    {
     "data": {
      "text/markdown": [
       "<span style=\"color:#33cc99\">Solution:</span> \n",
       "```python\n",
       "\n",
       "rides_per_month_query = \"\"\"\n",
       "                        SELECT EXTRACT(MONTH FROM trip_start_timestamp) AS month, \n",
       "                               COUNT(1) AS num_trips\n",
       "                        FROM `bigquery-public-data.chicago_taxi_trips.taxi_trips`\n",
       "                        WHERE EXTRACT(YEAR FROM trip_start_timestamp) = 2016\n",
       "                        GROUP BY month\n",
       "                        ORDER BY month\n",
       "                        \"\"\"\n",
       "\n",
       "# Set up the query (cancel the query if it would use too much of \n",
       "# your quota)\n",
       "safe_config = bigquery.QueryJobConfig(maximum_bytes_billed=10**10)\n",
       "rides_per_month_query_job = client.query(rides_per_month_query, job_config=safe_config)\n",
       "\n",
       "# API request - run the query, and return a pandas DataFrame\n",
       "rides_per_month_result = rides_per_month_query_job.to_dataframe()\n",
       "\n",
       "```"
      ],
      "text/plain": [
       "Solution: \n",
       "```python\n",
       "\n",
       "rides_per_month_query = \"\"\"\n",
       "                        SELECT EXTRACT(MONTH FROM trip_start_timestamp) AS month, \n",
       "                               COUNT(1) AS num_trips\n",
       "                        FROM `bigquery-public-data.chicago_taxi_trips.taxi_trips`\n",
       "                        WHERE EXTRACT(YEAR FROM trip_start_timestamp) = 2016\n",
       "                        GROUP BY month\n",
       "                        ORDER BY month\n",
       "                        \"\"\"\n",
       "\n",
       "# Set up the query (cancel the query if it would use too much of \n",
       "# your quota)\n",
       "safe_config = bigquery.QueryJobConfig(maximum_bytes_billed=10**10)\n",
       "rides_per_month_query_job = client.query(rides_per_month_query, job_config=safe_config)\n",
       "\n",
       "# API request - run the query, and return a pandas DataFrame\n",
       "rides_per_month_result = rides_per_month_query_job.to_dataframe()\n",
       "\n",
       "```"
      ]
     },
     "metadata": {},
     "output_type": "display_data"
    }
   ],
   "source": [
    "q_4.hint()\n",
    "q_4.solution()"
   ]
  },
  {
   "cell_type": "markdown",
   "id": "8441e56c",
   "metadata": {
    "papermill": {
     "duration": 0.007112,
     "end_time": "2023-11-02T09:24:54.794466",
     "exception": false,
     "start_time": "2023-11-02T09:24:54.787354",
     "status": "completed"
    },
    "tags": []
   },
   "source": [
    "### 5) Write the query\n",
    "\n",
    "It's time to step up the sophistication of your queries.  Write a query that shows, for each hour of the day in the dataset, the corresponding number of trips and average speed.\n",
    "\n",
    "Your results should have three columns:\n",
    "- `hour_of_day` - sort by this column, which holds the result of extracting the hour from `trip_start_timestamp`.\n",
    "- `num_trips` - the count of the total number of trips in each hour of the day (e.g. how many trips were started between 6AM and 7AM, independent of which day it occurred on).\n",
    "- `avg_mph` - the average speed, measured in miles per hour, for trips that started in that hour of the day.  Average speed in miles per hour is calculated as `3600 * SUM(trip_miles) / SUM(trip_seconds)`. (The value 3600 is used to convert from seconds to hours.)\n",
    "\n",
    "Restrict your query to data meeting the following criteria:\n",
    "- a `trip_start_timestamp` > **2016-01-01** and < **2016-04-01**\n",
    "- `trip_seconds` > 0 and `trip_miles` > 0\n",
    "\n",
    "You will use a common table expression (CTE) to select just the relevant rides.  Because this dataset is very big, this CTE should select only the columns you'll need to create the final output (though you won't actually create those in the CTE -- instead you'll create those in the later **SELECT** statement below the CTE).\n",
    "\n",
    "This is a much harder query than anything you've written so far.  Good luck!"
   ]
  },
  {
   "cell_type": "code",
   "execution_count": 12,
   "id": "ea114eb3",
   "metadata": {
    "execution": {
     "iopub.execute_input": "2023-11-02T09:24:54.810491Z",
     "iopub.status.busy": "2023-11-02T09:24:54.809727Z",
     "iopub.status.idle": "2023-11-02T09:24:56.163961Z",
     "shell.execute_reply": "2023-11-02T09:24:56.163392Z"
    },
    "papermill": {
     "duration": 1.364145,
     "end_time": "2023-11-02T09:24:56.165828",
     "exception": false,
     "start_time": "2023-11-02T09:24:54.801683",
     "status": "completed"
    },
    "tags": []
   },
   "outputs": [
    {
     "name": "stdout",
     "output_type": "stream",
     "text": [
      "    hour_of_day  num_trips    avg_mph\n",
      "0             0     203092  20.191744\n",
      "1             1     178046  18.628598\n",
      "2             2     143447  18.444370\n",
      "3             3     108899  19.273107\n",
      "4             4      80067  27.599669\n",
      "5             5      75786  33.065604\n",
      "6             6     102254  28.533112\n",
      "7             7     187585  19.884592\n",
      "8             8     284223  16.787900\n",
      "9             9     306854  18.434124\n",
      "10           10     279762  20.091309\n",
      "11           11     294006  20.926340\n",
      "12           12     311522  20.063901\n",
      "13           13     317225  19.766321\n",
      "14           14     312629  19.309655\n",
      "15           15     319953  18.515564\n",
      "16           16     349455  17.168814\n",
      "17           17     394324  14.641375\n",
      "18           18     431991  15.381995\n",
      "19           19     416743  17.795008\n",
      "20           20     356279  20.347398\n",
      "21           21     318363  22.584731\n",
      "22           22     289886  21.129847\n",
      "23           23     241690  20.259757\n"
     ]
    },
    {
     "data": {
      "application/javascript": [
       "parent.postMessage({\"jupyterEvent\": \"custom.exercise_interaction\", \"data\": {\"outcomeType\": 1, \"valueTowardsCompletion\": 0.16666666666666666, \"interactionType\": 1, \"questionType\": 2, \"questionId\": \"5_TheLongQuery\", \"learnToolsVersion\": \"0.3.4\", \"failureMessage\": \"\", \"exceptionClass\": \"\", \"trace\": \"\"}}, \"*\")"
      ],
      "text/plain": [
       "<IPython.core.display.Javascript object>"
      ]
     },
     "metadata": {},
     "output_type": "display_data"
    },
    {
     "data": {
      "text/markdown": [
       "<span style=\"color:#33cc33\">Correct</span>"
      ],
      "text/plain": [
       "Correct"
      ]
     },
     "metadata": {},
     "output_type": "display_data"
    }
   ],
   "source": [
    "# Your code goes here\n",
    "speeds_query = \"\"\"\n",
    "               WITH RelevantRides AS\n",
    "               (\n",
    "                   SELECT EXTRACT(HOUR FROM trip_start_timestamp) AS hour_of_day, \n",
    "                          trip_miles, \n",
    "                          trip_seconds\n",
    "                   FROM `bigquery-public-data.chicago_taxi_trips.taxi_trips`\n",
    "                   WHERE trip_start_timestamp > '2016-01-01' AND \n",
    "                         trip_start_timestamp < '2016-04-01' AND \n",
    "                         trip_seconds > 0 AND \n",
    "                         trip_miles > 0\n",
    "               )\n",
    "               SELECT hour_of_day, \n",
    "                      COUNT(1) AS num_trips, \n",
    "                      3600 * SUM(trip_miles) / SUM(trip_seconds) AS avg_mph\n",
    "               FROM RelevantRides\n",
    "               GROUP BY hour_of_day\n",
    "               ORDER BY hour_of_day\n",
    "               \"\"\"\n",
    "\n",
    "# Set up the query\n",
    "safe_config = bigquery.QueryJobConfig(maximum_bytes_billed=10**10)\n",
    "speeds_query_job =client.query(speeds_query, job_config=safe_config) # Your code here\n",
    "\n",
    "# API request - run the query, and return a pandas DataFrame\n",
    "speeds_result = speeds_query_job.to_dataframe() # Your code here\n",
    "\n",
    "# View results\n",
    "print(speeds_result)\n",
    "\n",
    "# Check your answer\n",
    "q_5.check()"
   ]
  },
  {
   "cell_type": "markdown",
   "id": "5486d886",
   "metadata": {
    "papermill": {
     "duration": 0.007971,
     "end_time": "2023-11-02T09:24:56.181660",
     "exception": false,
     "start_time": "2023-11-02T09:24:56.173689",
     "status": "completed"
    },
    "tags": []
   },
   "source": [
    "For the solution, uncomment the appropriate line below."
   ]
  },
  {
   "cell_type": "code",
   "execution_count": 13,
   "id": "6ea435b9",
   "metadata": {
    "execution": {
     "iopub.execute_input": "2023-11-02T09:24:56.198611Z",
     "iopub.status.busy": "2023-11-02T09:24:56.198062Z",
     "iopub.status.idle": "2023-11-02T09:24:56.203819Z",
     "shell.execute_reply": "2023-11-02T09:24:56.203115Z"
    },
    "papermill": {
     "duration": 0.016225,
     "end_time": "2023-11-02T09:24:56.205478",
     "exception": false,
     "start_time": "2023-11-02T09:24:56.189253",
     "status": "completed"
    },
    "tags": []
   },
   "outputs": [
    {
     "data": {
      "application/javascript": [
       "parent.postMessage({\"jupyterEvent\": \"custom.exercise_interaction\", \"data\": {\"interactionType\": 3, \"questionType\": 2, \"questionId\": \"5_TheLongQuery\", \"learnToolsVersion\": \"0.3.4\", \"valueTowardsCompletion\": 0.0, \"failureMessage\": \"\", \"exceptionClass\": \"\", \"trace\": \"\", \"outcomeType\": 4}}, \"*\")"
      ],
      "text/plain": [
       "<IPython.core.display.Javascript object>"
      ]
     },
     "metadata": {},
     "output_type": "display_data"
    },
    {
     "data": {
      "text/markdown": [
       "<span style=\"color:#33cc99\">Solution:</span> \n",
       "```python\n",
       "\n",
       "speeds_query = \"\"\"\n",
       "               WITH RelevantRides AS\n",
       "               (\n",
       "                   SELECT EXTRACT(HOUR FROM trip_start_timestamp) AS hour_of_day, \n",
       "                          trip_miles, \n",
       "                          trip_seconds\n",
       "                   FROM `bigquery-public-data.chicago_taxi_trips.taxi_trips`\n",
       "                   WHERE trip_start_timestamp > '2016-01-01' AND \n",
       "                         trip_start_timestamp < '2016-04-01' AND \n",
       "                         trip_seconds > 0 AND \n",
       "                         trip_miles > 0\n",
       "               )\n",
       "               SELECT hour_of_day, \n",
       "                      COUNT(1) AS num_trips, \n",
       "                      3600 * SUM(trip_miles) / SUM(trip_seconds) AS avg_mph\n",
       "               FROM RelevantRides\n",
       "               GROUP BY hour_of_day\n",
       "               ORDER BY hour_of_day\n",
       "               \"\"\"\n",
       "\n",
       "# Set up the query (cancel the query if it would use too much of \n",
       "# your quota)\n",
       "safe_config = bigquery.QueryJobConfig(maximum_bytes_billed=10**10)\n",
       "speeds_query_job = client.query(speeds_query, job_config=safe_config)\n",
       "\n",
       "# API request - run the query, and return a pandas DataFrame\n",
       "speeds_result = speeds_query_job.to_dataframe()\n",
       "\n",
       "# View results\n",
       "print(speeds_result)\n",
       "\n",
       "```"
      ],
      "text/plain": [
       "Solution: \n",
       "```python\n",
       "\n",
       "speeds_query = \"\"\"\n",
       "               WITH RelevantRides AS\n",
       "               (\n",
       "                   SELECT EXTRACT(HOUR FROM trip_start_timestamp) AS hour_of_day, \n",
       "                          trip_miles, \n",
       "                          trip_seconds\n",
       "                   FROM `bigquery-public-data.chicago_taxi_trips.taxi_trips`\n",
       "                   WHERE trip_start_timestamp > '2016-01-01' AND \n",
       "                         trip_start_timestamp < '2016-04-01' AND \n",
       "                         trip_seconds > 0 AND \n",
       "                         trip_miles > 0\n",
       "               )\n",
       "               SELECT hour_of_day, \n",
       "                      COUNT(1) AS num_trips, \n",
       "                      3600 * SUM(trip_miles) / SUM(trip_seconds) AS avg_mph\n",
       "               FROM RelevantRides\n",
       "               GROUP BY hour_of_day\n",
       "               ORDER BY hour_of_day\n",
       "               \"\"\"\n",
       "\n",
       "# Set up the query (cancel the query if it would use too much of \n",
       "# your quota)\n",
       "safe_config = bigquery.QueryJobConfig(maximum_bytes_billed=10**10)\n",
       "speeds_query_job = client.query(speeds_query, job_config=safe_config)\n",
       "\n",
       "# API request - run the query, and return a pandas DataFrame\n",
       "speeds_result = speeds_query_job.to_dataframe()\n",
       "\n",
       "# View results\n",
       "print(speeds_result)\n",
       "\n",
       "```"
      ]
     },
     "metadata": {},
     "output_type": "display_data"
    }
   ],
   "source": [
    "q_5.solution()"
   ]
  },
  {
   "cell_type": "markdown",
   "id": "f2968f7a",
   "metadata": {
    "papermill": {
     "duration": 0.007745,
     "end_time": "2023-11-02T09:24:56.221041",
     "exception": false,
     "start_time": "2023-11-02T09:24:56.213296",
     "status": "completed"
    },
    "tags": []
   },
   "source": [
    "That's a hard query. If you made good progress towards the solution, congratulations!"
   ]
  },
  {
   "cell_type": "markdown",
   "id": "6c2a32e2",
   "metadata": {
    "papermill": {
     "duration": 0.008042,
     "end_time": "2023-11-02T09:24:56.237711",
     "exception": false,
     "start_time": "2023-11-02T09:24:56.229669",
     "status": "completed"
    },
    "tags": []
   },
   "source": [
    "# Keep going\n",
    "\n",
    "You can write very complex queries now with a single data source. But nothing expands the horizons of SQL as much as the ability to combine or **JOIN** tables.\n",
    "\n",
    "**[Click here](https://www.kaggle.com/dansbecker/joining-data)** to start the last lesson in the Intro to SQL course."
   ]
  },
  {
   "cell_type": "markdown",
   "id": "aa7307cd",
   "metadata": {
    "papermill": {
     "duration": 0.007726,
     "end_time": "2023-11-02T09:24:56.253269",
     "exception": false,
     "start_time": "2023-11-02T09:24:56.245543",
     "status": "completed"
    },
    "tags": []
   },
   "source": [
    "---\n",
    "\n",
    "\n",
    "\n",
    "\n",
    "*Have questions or comments? Visit the [course discussion forum](https://www.kaggle.com/learn/intro-to-sql/discussion) to chat with other learners.*"
   ]
  }
 ],
 "metadata": {
  "kernelspec": {
   "display_name": "Python 3",
   "language": "python",
   "name": "python3"
  },
  "language_info": {
   "codemirror_mode": {
    "name": "ipython",
    "version": 3
   },
   "file_extension": ".py",
   "mimetype": "text/x-python",
   "name": "python",
   "nbconvert_exporter": "python",
   "pygments_lexer": "ipython3",
   "version": "3.10.12"
  },
  "papermill": {
   "default_parameters": {},
   "duration": 31.397113,
   "end_time": "2023-11-02T09:24:56.779016",
   "environment_variables": {},
   "exception": null,
   "input_path": "__notebook__.ipynb",
   "output_path": "__notebook__.ipynb",
   "parameters": {},
   "start_time": "2023-11-02T09:24:25.381903",
   "version": "2.4.0"
  }
 },
 "nbformat": 4,
 "nbformat_minor": 5
}
